{
 "cells": [
  {
   "cell_type": "markdown",
   "metadata": {
    "slideshow": {
     "slide_type": "slide"
    }
   },
   "source": [
    "# Introdução a História da Computação Científica\n",
    "\n",
    "* O problema da agulha de  Buffon  em 1753\n",
    "* Babbage em 1822 propõe um computador para calcular funções polinomiais\n",
    "* Ada Lovelace em 1842 propõe um algoritmo para calcular números de Bernoilli\n",
    "* MW Kutta and CT Runge propõe o método de Runge Kutta para EDOs\n",
    "* Em 1920 Richardson prevê o tempo usando método numérico\n",
    "\n",
    "## Antes do computador\n",
    "\n",
    "### Ábaco\n",
    "\n",
    "![Abacus](Abacus_6.png)\n"
   ]
  },
  {
   "cell_type": "markdown",
   "metadata": {
    "slideshow": {
     "slide_type": "subslide"
    }
   },
   "source": [
    "## Astrolábio\n",
    "\n",
    "<img src=\"800px-Iranian_Astrolabe_14.jpg\" alt=\"Astrolabio\" style=\"width: 500px;\"/>\n"
   ]
  },
  {
   "cell_type": "markdown",
   "metadata": {
    "slideshow": {
     "slide_type": "subslide"
    }
   },
   "source": [
    "## Régua de Cálculo\n",
    "\n",
    "Inventada por  William Oughtred no século XVIII\n",
    "\n",
    "![Ábaco](Pocket_slide_rule.jpg)\n",
    "\n",
    "## Era Moderna - 1940\n",
    "\n",
    "* von Neumann, Ulam and Metropolis desenvolvem o Algoritmo de Monte Carlo\n",
    "* Simulações são essenciais para o projeto da bomba\n",
    "* Ulam and von Neumann propõe o conceito de Automatos Celulares \n",
    "* Turing consegue quebrar o códidigo da máquina Enigma\n",
    "\n",
    "## Eniac\n",
    "![ENIAC](eniac-the-second-electronic-calculator-los-alamos-national-laboratory.jpg)"
   ]
  },
  {
   "cell_type": "markdown",
   "metadata": {
    "slideshow": {
     "slide_type": "subslide"
    }
   },
   "source": [
    "## Máquina de Turing\n",
    "\n",
    "![Turing](article-1165535-0412A762000005DC-835_962x657.jpg)"
   ]
  },
  {
   "cell_type": "markdown",
   "metadata": {
    "slideshow": {
     "slide_type": "subslide"
    }
   },
   "source": [
    "# Era Moderna (1950-1960)\n",
    "\n",
    "* Alder and Wainwrigh implementam o primeiro código de Dinâmica Molecular\n",
    "* Cooley and Tukey inventam FFT *Fast Fourier Transform* \n",
    "* Lorenz propõe o Efeito Borboleta\n",
    "* Linguagens C e Fortran são criadas\n",
    "\n",
    "# Atrator de Lorenz\n",
    "\n",
    "![Lorenz](maxresdefault.jpg)"
   ]
  },
  {
   "cell_type": "markdown",
   "metadata": {
    "slideshow": {
     "slide_type": "subslide"
    }
   },
   "source": [
    "## Era Moderna (1970)\n",
    "\n",
    "- Primeiras Calculadoras Científicas\n",
    "- Estações de Trabalho\n",
    "- Kernie e Ritchie criam Unix e a linguagem C\n",
    "\n",
    "## Máquinas Calculadoras\n",
    "\n",
    "<img src=\"800px-Hp-35_1972.jpg\" alt=\"HP\" style=\"width: 300px;\"/>\n"
   ]
  },
  {
   "cell_type": "markdown",
   "metadata": {
    "slideshow": {
     "slide_type": "subslide"
    }
   },
   "source": [
    "## Era Moderna (1980)\n",
    "\n",
    "* Computadores pessoais\n",
    "* Início da Web\n",
    "* Supercimputadores vetoriais\n",
    "\n",
    "# Cray\n",
    "\n",
    "![Cray](cray.jpg)"
   ]
  }
 ],
 "metadata": {
  "celltoolbar": "Slideshow",
  "kernelspec": {
   "display_name": "Python 3",
   "language": "python",
   "name": "python3"
  },
  "language_info": {
   "codemirror_mode": {
    "name": "ipython",
    "version": 3
   },
   "file_extension": ".py",
   "mimetype": "text/x-python",
   "name": "python",
   "nbconvert_exporter": "python",
   "pygments_lexer": "ipython3",
   "version": "3.5.1"
  }
 },
 "nbformat": 4,
 "nbformat_minor": 0
}
