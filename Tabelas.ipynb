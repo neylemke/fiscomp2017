{
 "cells": [
  {
   "cell_type": "code",
   "execution_count": 1,
   "metadata": {
    "ExecuteTime": {
     "end_time": "2017-04-21T11:20:54.418738Z",
     "start_time": "2017-04-21T11:20:53.274689Z"
    },
    "collapsed": false,
    "run_control": {
     "frozen": false,
     "read_only": false
    }
   },
   "outputs": [
    {
     "name": "stdout",
     "output_type": "stream",
     "text": [
      "  File \"/usr/lib/python3.4/site.py\", line 182\r\n",
      "    file=sys.stderr)\r\n",
      "        ^\r\n",
      "SyntaxError: invalid syntax\r\n"
     ]
    }
   ],
   "source": [
    "!pip install tabulate"
   ]
  },
  {
   "cell_type": "code",
   "execution_count": 2,
   "metadata": {
    "ExecuteTime": {
     "end_time": "2017-04-21T11:24:34.074444Z",
     "start_time": "2017-04-21T11:24:34.068991Z"
    },
    "collapsed": false,
    "run_control": {
     "frozen": false,
     "read_only": false
    }
   },
   "outputs": [
    {
     "ename": "ImportError",
     "evalue": "No module named 'tabulate'",
     "output_type": "error",
     "traceback": [
      "\u001b[0;31m---------------------------------------------------------------------------\u001b[0m",
      "\u001b[0;31mImportError\u001b[0m                               Traceback (most recent call last)",
      "\u001b[0;32m<ipython-input-2-6349001bac2d>\u001b[0m in \u001b[0;36m<module>\u001b[0;34m()\u001b[0m\n\u001b[0;32m----> 1\u001b[0;31m \u001b[0;32mfrom\u001b[0m \u001b[0mtabulate\u001b[0m \u001b[0;32mimport\u001b[0m \u001b[0mtabulate\u001b[0m\u001b[0;34m\u001b[0m\u001b[0m\n\u001b[0m\u001b[1;32m      2\u001b[0m \u001b[0;34m\u001b[0m\u001b[0m\n\u001b[1;32m      3\u001b[0m table = [[\"Sun\",696000,1989100000],[\"Earth\",6371,5973.6],\n\u001b[1;32m      4\u001b[0m [\"Moon\",1737,73.5],[\"Mars\",3390,641.85]]\n\u001b[1;32m      5\u001b[0m \u001b[0mheaders\u001b[0m\u001b[0;34m=\u001b[0m\u001b[0;34m[\u001b[0m\u001b[0;34m'Planet'\u001b[0m\u001b[0;34m,\u001b[0m\u001b[0;34m'Mass'\u001b[0m\u001b[0;34m,\u001b[0m\u001b[0;34m'Year'\u001b[0m\u001b[0;34m]\u001b[0m\u001b[0;34m\u001b[0m\u001b[0m\n",
      "\u001b[0;31mImportError\u001b[0m: No module named 'tabulate'"
     ]
    }
   ],
   "source": [
    "from tabulate import tabulate\n",
    "\n",
    "table = [[\"Sun\",696000,1989100000],[\"Earth\",6371,5973.6],\n",
    "[\"Moon\",1737,73.5],[\"Mars\",3390,641.85]]\n",
    "headers=['Planet','Mass','Year']\n",
    "print( tabulate(table,  headers,tablefmt=\"latex\"))"
   ]
  },
  {
   "cell_type": "code",
   "execution_count": 20,
   "metadata": {
    "ExecuteTime": {
     "end_time": "2017-04-21T11:27:19.990235Z",
     "start_time": "2017-04-21T11:27:19.984850Z"
    },
    "collapsed": false,
    "run_control": {
     "frozen": false,
     "read_only": false
    }
   },
   "outputs": [
    {
     "name": "stdout",
     "output_type": "stream",
     "text": [
      "<table>\n",
      "<thead>\n",
      "<tr><th>Planet  </th><th style=\"text-align: right;\">  Mass</th><th style=\"text-align: right;\">         Year</th></tr>\n",
      "</thead>\n",
      "<tbody>\n",
      "<tr><td>Sun     </td><td style=\"text-align: right;\">696000</td><td style=\"text-align: right;\">   1.9891e+09</td></tr>\n",
      "<tr><td>Earth   </td><td style=\"text-align: right;\">  6371</td><td style=\"text-align: right;\">5973.6       </td></tr>\n",
      "<tr><td>Moon    </td><td style=\"text-align: right;\">  1737</td><td style=\"text-align: right;\">  73.5       </td></tr>\n",
      "<tr><td>Mars    </td><td style=\"text-align: right;\">  3390</td><td style=\"text-align: right;\"> 641.85      </td></tr>\n",
      "</tbody>\n",
      "</table>\n"
     ]
    }
   ],
   "source": [
    "from tabulate import tabulate\n",
    "\n",
    "table = [[\"Sun\",696000,1989100000],[\"Earth\",6371,5973.6],\n",
    "[\"Moon\",1737,73.5],[\"Mars\",3390,641.85]]\n",
    "headers=['Planet','Mass','Year']\n",
    "print( tabulate(table,  headers,tablefmt=\"html\"))"
   ]
  },
  {
   "cell_type": "code",
   "execution_count": 23,
   "metadata": {
    "ExecuteTime": {
     "end_time": "2017-04-21T11:28:18.219864Z",
     "start_time": "2017-04-21T11:28:18.215416Z"
    },
    "collapsed": false,
    "run_control": {
     "frozen": false,
     "read_only": false
    }
   },
   "outputs": [
    {
     "data": {
      "text/html": [
       "<table>\n",
       "<thead>\n",
       "<tr><th>Planet  </th><th style=\"text-align: right;\">  Mass</th><th style=\"text-align: right;\">         Year</th></tr>\n",
       "</thead>\n",
       "<tbody>\n",
       "<tr><td>Sun     </td><td style=\"text-align: right;\">696000</td><td style=\"text-align: right;\">   1.9891e+09</td></tr>\n",
       "<tr><td>Earth   </td><td style=\"text-align: right;\">  6371</td><td style=\"text-align: right;\">5973.6       </td></tr>\n",
       "<tr><td>Moon    </td><td style=\"text-align: right;\">  1737</td><td style=\"text-align: right;\">  73.5       </td></tr>\n",
       "<tr><td>Mars    </td><td style=\"text-align: right;\">  3390</td><td style=\"text-align: right;\"> 641.85      </td></tr>\n",
       "</tbody>\n",
       "</table>"
      ],
      "text/plain": [
       "<IPython.core.display.HTML object>"
      ]
     },
     "metadata": {},
     "output_type": "display_data"
    }
   ],
   "source": [
    "%%html\n",
    "<table>\n",
    "<thead>\n",
    "<tr><th>Planet  </th><th style=\"text-align: right;\">  Mass</th><th style=\"text-align: right;\">         Year</th></tr>\n",
    "</thead>\n",
    "<tbody>\n",
    "<tr><td>Sun     </td><td style=\"text-align: right;\">696000</td><td style=\"text-align: right;\">   1.9891e+09</td></tr>\n",
    "<tr><td>Earth   </td><td style=\"text-align: right;\">  6371</td><td style=\"text-align: right;\">5973.6       </td></tr>\n",
    "<tr><td>Moon    </td><td style=\"text-align: right;\">  1737</td><td style=\"text-align: right;\">  73.5       </td></tr>\n",
    "<tr><td>Mars    </td><td style=\"text-align: right;\">  3390</td><td style=\"text-align: right;\"> 641.85      </td></tr>\n",
    "</tbody>\n",
    "</table>"
   ]
  },
  {
   "cell_type": "code",
   "execution_count": 25,
   "metadata": {
    "ExecuteTime": {
     "end_time": "2017-04-21T11:36:05.400365Z",
     "start_time": "2017-04-21T11:36:03.161224Z"
    },
    "collapsed": false,
    "run_control": {
     "frozen": false,
     "read_only": false
    }
   },
   "outputs": [
    {
     "name": "stdout",
     "output_type": "stream",
     "text": [
      "Collecting ipy_table\n",
      "  Downloading ipy_table-v1.12.tgz\n",
      "Installing collected packages: ipy-table\n",
      "  Running setup.py install for ipy-table ... \u001b[?25ldone\n",
      "\u001b[?25hSuccessfully installed ipy-table-1.12\n"
     ]
    }
   ],
   "source": [
    "! pip install ipy_table"
   ]
  },
  {
   "cell_type": "code",
   "execution_count": 3,
   "metadata": {
    "ExecuteTime": {
     "end_time": "2017-04-21T15:04:09.707520Z",
     "start_time": "2017-04-21T15:04:09.699607Z"
    },
    "collapsed": false,
    "run_control": {
     "frozen": false,
     "read_only": false
    }
   },
   "outputs": [
    {
     "data": {
      "text/html": [
       "<table border=\"1\" cellpadding=\"3\" cellspacing=\"0\"  style=\"border:1px solid black;border-collapse:collapse;\"><tr><td  style=\"background-color:LightGray;\"><b>Planet</b></td><td  style=\"background-color:LightGray;\"><b>Mass&nbsp(kg)</b></td><td  style=\"background-color:lightBlue;\"><b>Diameter&nbsp(km)</b></td></tr><tr><td  style=\"background-color:Ivory;\">Mercury</td><td  style=\"background-color:Ivory;\">3.3022e+23</td><td  style=\"background-color:lightBlue;\">4879</td></tr><tr><td  style=\"background-color:red;border-top: 3px solid black;border-bottom: 3px solid black;\">Venus</td><td  style=\"background-color:red;border-top: 3px solid black;border-bottom: 3px solid black;\">4.896e+24</td><td  style=\"background-color:red;border-top: 3px solid black;border-bottom: 3px solid black;\">12104</td></tr><tr><td  style=\"background-color:Ivory;border-top: 3px solid black;\">Earth</td><td  style=\"background-color:Ivory;border-top: 3px solid black;\">5.972e+24</td><td  style=\"background-color:lightBlue;border-top: 3px solid black;\">$x^2$</td></tr><tr><td  style=\"background-color:AliceBlue;\">Mars</td><td  style=\"background-color:AliceBlue;\">6.4191e+23</td><td  style=\"background-color:lightBlue;\">6772</td></tr></table>"
      ],
      "text/plain": [
       "<ipy_table.IpyTable at 0x7ffb54fa6da0>"
      ]
     },
     "execution_count": 3,
     "metadata": {},
     "output_type": "execute_result"
    }
   ],
   "source": [
    "from ipy_table import *\n",
    "planets = [\n",
    "    ['Planet', 'Mass (kg)', 'Diameter (km)'],\n",
    "    ['Mercury', 3.3022E23, 4879], \n",
    "    ['Venus', 4.896E24, 12104],\n",
    "    ['Earth', 5.972E24,\"$x^2$\"],\n",
    "    ['Mars', 6.4191E23, 6772]];\n",
    "make_table(planets)\n",
    "apply_theme('basic')\n",
    "set_column_style(2, color='lightBlue')\n",
    "set_row_style(2, color='red',thick_border='top,bottom')"
   ]
  },
  {
   "cell_type": "code",
   "execution_count": 4,
   "metadata": {
    "ExecuteTime": {
     "end_time": "2017-04-21T17:41:50.005026Z",
     "start_time": "2017-04-21T17:41:50.001056Z"
    },
    "collapsed": true,
    "run_control": {
     "frozen": false,
     "read_only": false
    }
   },
   "outputs": [],
   "source": [
    "data_matrix = [['Name', 'Equation'],\n",
    "               ['Pythagorean Theorem', '$a^{2}+b^{2}=c^{2}$'],\n",
    "               ['Euler\\'s Formula', '$F-E+V=2$'],\n",
    "               ['The Origin of Complex Numbers', '$i^{2}=-1$'],\n",
    "               ['Einstein\\'s Theory of Relativity', '$E=m c^{2}$']]\n"
   ]
  },
  {
   "cell_type": "code",
   "execution_count": 5,
   "metadata": {
    "ExecuteTime": {
     "end_time": "2017-04-21T17:54:46.522511Z",
     "start_time": "2017-04-21T17:54:46.516486Z"
    },
    "collapsed": false,
    "run_control": {
     "frozen": false,
     "read_only": false
    }
   },
   "outputs": [
    {
     "data": {
      "text/html": [
       "<table border=\"1\" cellpadding=\"3\" cellspacing=\"0\"  style=\"border:1px solid black;border-collapse:collapse;\"><tr><td  style=\"background-color:lightblue;border-top: 3px solid black;border-bottom: 3px solid black;text-align:center;\"><b>Name</b></td><td  style=\"background-color:lightblue;border-top: 3px solid black;border-bottom: 3px solid black;text-align:center;width:150px;\"><b>Equation</b></td></tr><tr><td  style=\"background-color:lightBlue;border-top: 3px solid black;text-align:left;\">Pythagorean&nbspTheorem</td><td  style=\"background-color:Ivory;border-top: 3px solid black;text-align:center;width:150px;\">$a^{2}+b^{2}=c^{2}$</td></tr><tr><td  style=\"background-color:lightBlue;text-align:left;\">Euler's&nbspFormula</td><td  style=\"background-color:AliceBlue;text-align:center;width:150px;\">$F-E+V=2$</td></tr><tr><td  style=\"background-color:lightBlue;text-align:left;\">The&nbspOrigin&nbspof&nbspComplex&nbspNumbers</td><td  style=\"background-color:Ivory;text-align:center;width:150px;\">$i^{2}=-1$</td></tr><tr><td  style=\"background-color:lightBlue;text-align:left;\">Einstein's&nbspTheory&nbspof&nbspRelativity</td><td  style=\"background-color:AliceBlue;text-align:center;width:150px;\">$E=m&nbspc^{2}$</td></tr></table>"
      ],
      "text/plain": [
       "<ipy_table.IpyTable at 0x7ffb54fa6dd8>"
      ]
     },
     "execution_count": 5,
     "metadata": {},
     "output_type": "execute_result"
    }
   ],
   "source": [
    "make_table(data_matrix)\n",
    "apply_theme('basic')\n",
    "set_column_style(0, color='lightBlue',align='left')\n",
    "set_column_style(1,width=150,align='center')\n",
    "set_row_style(0, color='lightblue',thick_border='top,bottom',bold=True,align='center')"
   ]
  },
  {
   "cell_type": "code",
   "execution_count": 6,
   "metadata": {
    "ExecuteTime": {
     "end_time": "2017-04-21T18:06:31.731395Z",
     "start_time": "2017-04-21T18:06:28.750184Z"
    },
    "collapsed": false,
    "run_control": {
     "frozen": false,
     "read_only": false
    },
    "scrolled": true
   },
   "outputs": [
    {
     "name": "stdout",
     "output_type": "stream",
     "text": [
      "  File \"/usr/lib/python3.4/site.py\", line 182\r\n",
      "    file=sys.stderr)\r\n",
      "        ^\r\n",
      "SyntaxError: invalid syntax\r\n"
     ]
    }
   ],
   "source": [
    "!pip install httplib2\n"
   ]
  },
  {
   "cell_type": "code",
   "execution_count": null,
   "metadata": {
    "collapsed": true,
    "run_control": {
     "frozen": false,
     "read_only": false
    }
   },
   "outputs": [],
   "source": [
    "!pip install --upgrade google-api-python-client"
   ]
  },
  {
   "cell_type": "code",
   "execution_count": 7,
   "metadata": {
    "ExecuteTime": {
     "end_time": "2017-04-21T18:26:57.108078Z",
     "start_time": "2017-04-21T18:26:57.101600Z"
    },
    "collapsed": true,
    "run_control": {
     "frozen": false,
     "read_only": false
    }
   },
   "outputs": [],
   "source": [
    "from __future__ import print_function\n",
    "import httplib2\n",
    "import os\n",
    "\n",
    "from apiclient import discovery\n",
    "from oauth2client import client\n",
    "from oauth2client import tools\n",
    "from oauth2client.file import Storage\n",
    "import argparse\n",
    "flags=None\n",
    "#flags = argparse.ArgumentParser(parents=[tools.argparser]).parse_args()\n",
    "\n",
    "# If modifying these scopes, delete your previously saved credentials\n",
    "# at ~/.credentials/sheets.googleapis.com-python-quickstart.json\n",
    "SCOPES = 'https://www.googleapis.com/auth/spreadsheets.readonly'\n",
    "CLIENT_SECRET_FILE = 'client_secret.json'\n",
    "APPLICATION_NAME = 'Google Sheets API Python Quickstart'"
   ]
  },
  {
   "cell_type": "code",
   "execution_count": null,
   "metadata": {
    "collapsed": true,
    "run_control": {
     "frozen": false,
     "read_only": false
    }
   },
   "outputs": [],
   "source": [
    "import pandas as pd"
   ]
  },
  {
   "cell_type": "code",
   "execution_count": 85,
   "metadata": {
    "ExecuteTime": {
     "end_time": "2017-04-21T18:26:58.758620Z",
     "start_time": "2017-04-21T18:26:58.745577Z"
    },
    "collapsed": true,
    "run_control": {
     "frozen": false,
     "read_only": false
    }
   },
   "outputs": [],
   "source": [
    "def get_credentials():\n",
    "    \"\"\"Gets valid user credentials from storage.\n",
    "\n",
    "    If nothing has been stored, or if the stored credentials are invalid,\n",
    "    the OAuth2 flow is completed to obtain the new credentials.\n",
    "\n",
    "    Returns:\n",
    "        Credentials, the obtained credential.\n",
    "    \"\"\"\n",
    "    home_dir = os.path.expanduser('~')\n",
    "    credential_dir = os.path.join(home_dir, '.credentials')\n",
    "    if not os.path.exists(credential_dir):\n",
    "        os.makedirs(credential_dir)\n",
    "    credential_path = os.path.join(credential_dir,\n",
    "                                   'sheets.googleapis.com-python-quickstart.json')\n",
    "\n",
    "    store = Storage(credential_path)\n",
    "    credentials = store.get()\n",
    "    if not credentials or credentials.invalid:\n",
    "        flow = client.flow_from_clientsecrets(CLIENT_SECRET_FILE, SCOPES)\n",
    "        flow.user_agent = APPLICATION_NAME\n",
    "        credentials = tools.run_flow(flow, store,flags)\n",
    "        print('Storing credentials to ' + credential_path)\n",
    "    return credentials"
   ]
  },
  {
   "cell_type": "code",
   "execution_count": 89,
   "metadata": {
    "ExecuteTime": {
     "end_time": "2017-04-21T18:42:11.258324Z",
     "start_time": "2017-04-21T18:42:11.249433Z"
    },
    "collapsed": false,
    "run_control": {
     "frozen": false,
     "read_only": false
    }
   },
   "outputs": [
    {
     "data": {
      "text/plain": [
       "<oauth2client.client.OAuth2Credentials at 0x110a4b160>"
      ]
     },
     "execution_count": 89,
     "metadata": {},
     "output_type": "execute_result"
    }
   ],
   "source": [
    "get_credentials()"
   ]
  },
  {
   "cell_type": "code",
   "execution_count": 184,
   "metadata": {
    "ExecuteTime": {
     "end_time": "2017-04-21T20:00:25.233753Z",
     "start_time": "2017-04-21T20:00:23.159762Z"
    },
    "collapsed": false,
    "run_control": {
     "frozen": false,
     "read_only": false
    }
   },
   "outputs": [
    {
     "data": {
      "text/html": [
       "<table border=\"1\" cellpadding=\"3\" cellspacing=\"0\"  style=\"border:1px solid black;border-collapse:collapse;\"><tr><td  style=\"background-color:lightblue;border-top: 3px solid black;border-bottom: 3px solid black;text-align:center;\"><b>RA</b></td><td  style=\"background-color:lightblue;border-top: 3px solid black;border-bottom: 3px solid black;text-align:center;width:150px;\"><b>Nome</b></td><td  style=\"background-color:lightblue;border-top: 3px solid black;border-bottom: 3px solid black;text-align:center;\"><b>Civilizações</b></td><td  style=\"background-color:lightblue;border-top: 3px solid black;border-bottom: 3px solid black;text-align:center;\"><b>Pré-Socráticos</b></td><td  style=\"background-color:lightblue;border-top: 3px solid black;border-bottom: 3px solid black;text-align:center;\"><b>Grecia&nbspClássica</b></td></tr><tr><td  style=\"background-color:lightBlue;border-top: 3px solid black;text-align:left;\">141102233</td><td  style=\"background-color:Ivory;border-top: 3px solid black;text-align:center;width:150px;\">Abner&nbspAlves&nbspde&nbspOliveira</td><td  style=\"background-color:Ivory;border-top: 3px solid black;\">0</td><td  style=\"background-color:Ivory;border-top: 3px solid black;\">8</td><td  style=\"background-color:Ivory;border-top: 3px solid black;\">9</td></tr><tr><td  style=\"background-color:lightBlue;text-align:left;\">141101725</td><td  style=\"background-color:AliceBlue;text-align:center;width:150px;\">Alexandre&nbspLocci&nbspNogueira&nbspdos&nbspSantos</td><td  style=\"background-color:AliceBlue;\">9</td><td  style=\"background-color:AliceBlue;\">8</td><td  style=\"background-color:AliceBlue;\">9</td></tr><tr><td  style=\"background-color:lightBlue;text-align:left;\">141101611</td><td  style=\"background-color:Ivory;text-align:center;width:150px;\">Amanda&nbspAnselmo&nbspRosa</td><td  style=\"background-color:Ivory;\">7</td><td  style=\"background-color:Ivory;\">9</td><td  style=\"background-color:Ivory;\">9.5</td></tr><tr><td  style=\"background-color:lightBlue;text-align:left;\">151100667</td><td  style=\"background-color:AliceBlue;text-align:center;width:150px;\">Ana&nbspBeatriz&nbspMarques&nbspCarlos</td><td  style=\"background-color:AliceBlue;\">10</td><td  style=\"background-color:AliceBlue;\">9</td><td  style=\"background-color:AliceBlue;\">9.5</td></tr><tr><td  style=\"background-color:lightBlue;text-align:left;\">141101571</td><td  style=\"background-color:Ivory;text-align:center;width:150px;\">Andre&nbspFelipe&nbspda&nbspSilva</td><td  style=\"background-color:Ivory;\">7</td><td  style=\"background-color:Ivory;\">9</td><td  style=\"background-color:Ivory;\">8</td></tr><tr><td  style=\"background-color:lightBlue;text-align:left;\">141100613</td><td  style=\"background-color:AliceBlue;text-align:center;width:150px;\">Caroline&nbspPiovesan&nbspPinheiro</td><td  style=\"background-color:AliceBlue;\">9</td><td  style=\"background-color:AliceBlue;\">8</td><td  style=\"background-color:AliceBlue;\">9</td></tr><tr><td  style=\"background-color:lightBlue;text-align:left;\">141101423</td><td  style=\"background-color:Ivory;text-align:center;width:150px;\">Eduarda&nbspPio&nbspCosta&nbspda&nbspSilva</td><td  style=\"background-color:Ivory;\">9</td><td  style=\"background-color:Ivory;\">8</td><td  style=\"background-color:Ivory;\">9</td></tr><tr><td  style=\"background-color:lightBlue;text-align:left;\">101105454</td><td  style=\"background-color:AliceBlue;text-align:center;width:150px;\">Franciane&nbspRibeiro</td><td  style=\"background-color:AliceBlue;\">7</td><td  style=\"background-color:AliceBlue;\">8</td><td  style=\"background-color:AliceBlue;\">9</td></tr><tr><td  style=\"background-color:lightBlue;text-align:left;\">151102139</td><td  style=\"background-color:Ivory;text-align:center;width:150px;\">Gabriel&nbspde&nbspCastro&nbspChacon</td><td  style=\"background-color:Ivory;\">8</td><td  style=\"background-color:Ivory;\">8</td><td  style=\"background-color:Ivory;\">9</td></tr><tr><td  style=\"background-color:lightBlue;text-align:left;\">151102431</td><td  style=\"background-color:AliceBlue;text-align:center;width:150px;\">Giovanna&nbspHolanda&nbspOliveira&nbspde&nbspAlmeida</td><td  style=\"background-color:AliceBlue;\">8</td><td  style=\"background-color:AliceBlue;\">8</td><td  style=\"background-color:AliceBlue;\">9</td></tr><tr><td  style=\"background-color:lightBlue;text-align:left;\">141100583</td><td  style=\"background-color:Ivory;text-align:center;width:150px;\">Gustavo&nbspHenrique&nbspTomanik</td><td  style=\"background-color:Ivory;\">9</td><td  style=\"background-color:Ivory;\">9</td><td  style=\"background-color:Ivory;\">9</td></tr><tr><td  style=\"background-color:lightBlue;text-align:left;\">141102209</td><td  style=\"background-color:AliceBlue;text-align:center;width:150px;\">Gustavo&nbspSerafim&nbspRodrigues</td><td  style=\"background-color:AliceBlue;\">9</td><td  style=\"background-color:AliceBlue;\">9</td><td  style=\"background-color:AliceBlue;\">9</td></tr><tr><td  style=\"background-color:lightBlue;text-align:left;\">151100616</td><td  style=\"background-color:Ivory;text-align:center;width:150px;\">Hamine&nbspCristina&nbspde&nbspOliveira</td><td  style=\"background-color:Ivory;\">8</td><td  style=\"background-color:Ivory;\">8</td><td  style=\"background-color:Ivory;\">9</td></tr><tr><td  style=\"background-color:lightBlue;text-align:left;\">141102519</td><td  style=\"background-color:AliceBlue;text-align:center;width:150px;\">Isabella&nbspVelloso&nbspArrigo</td><td  style=\"background-color:AliceBlue;\">8</td><td  style=\"background-color:AliceBlue;\">0</td><td  style=\"background-color:AliceBlue;\">9</td></tr><tr><td  style=\"background-color:lightBlue;text-align:left;\">151102481</td><td  style=\"background-color:Ivory;text-align:center;width:150px;\">Isabelle&nbspRodrigues&nbspde&nbspPaula</td><td  style=\"background-color:Ivory;\">9</td><td  style=\"background-color:Ivory;\">8</td><td  style=\"background-color:Ivory;\">9</td></tr><tr><td  style=\"background-color:lightBlue;text-align:left;\">141100061</td><td  style=\"background-color:AliceBlue;text-align:center;width:150px;\">Juan&nbspLopes&nbspCosta</td><td  style=\"background-color:AliceBlue;\">9</td><td  style=\"background-color:AliceBlue;\">9</td><td  style=\"background-color:AliceBlue;\">9</td></tr><tr><td  style=\"background-color:lightBlue;text-align:left;\">141100869</td><td  style=\"background-color:Ivory;text-align:center;width:150px;\">Julia&nbspWillmersdorf&nbspGoncalves&nbspCorrea</td><td  style=\"background-color:Ivory;\">9</td><td  style=\"background-color:Ivory;\">9</td><td  style=\"background-color:Ivory;\">8</td></tr><tr><td  style=\"background-color:lightBlue;text-align:left;\">141102551</td><td  style=\"background-color:AliceBlue;text-align:center;width:150px;\">Karoline&nbspCafisso</td><td  style=\"background-color:AliceBlue;\">7</td><td  style=\"background-color:AliceBlue;\">8</td><td  style=\"background-color:AliceBlue;\">9</td></tr><tr><td  style=\"background-color:lightBlue;text-align:left;\">141102691</td><td  style=\"background-color:Ivory;text-align:center;width:150px;\">Kerolyn&nbspAdorne&nbspModa</td><td  style=\"background-color:Ivory;\">9</td><td  style=\"background-color:Ivory;\">9</td><td  style=\"background-color:Ivory;\">9</td></tr><tr><td  style=\"background-color:lightBlue;text-align:left;\">121101215</td><td  style=\"background-color:AliceBlue;text-align:center;width:150px;\">Leandro&nbspAugusto&nbspdo&nbspNascimento</td><td  style=\"background-color:AliceBlue;\">7</td><td  style=\"background-color:AliceBlue;\">8</td><td  style=\"background-color:AliceBlue;\">9</td></tr><tr><td  style=\"background-color:lightBlue;text-align:left;\">131102044</td><td  style=\"background-color:Ivory;text-align:center;width:150px;\">Leticia&nbspFerreira&nbspGodoi</td><td  style=\"background-color:Ivory;\">7</td><td  style=\"background-color:Ivory;\">8</td><td  style=\"background-color:Ivory;\">9</td></tr><tr><td  style=\"background-color:lightBlue;text-align:left;\">141102381</td><td  style=\"background-color:AliceBlue;text-align:center;width:150px;\">Lorraine&nbspLetiele&nbspPires</td><td  style=\"background-color:AliceBlue;\">7</td><td  style=\"background-color:AliceBlue;\">9</td><td  style=\"background-color:AliceBlue;\">8</td></tr><tr><td  style=\"background-color:lightBlue;text-align:left;\">141102071</td><td  style=\"background-color:Ivory;text-align:center;width:150px;\">Lucas&nbspFaconi&nbspCamargo</td><td  style=\"background-color:Ivory;\">9</td><td  style=\"background-color:Ivory;\">9</td><td  style=\"background-color:Ivory;\">9</td></tr><tr><td  style=\"background-color:lightBlue;text-align:left;\">151100454</td><td  style=\"background-color:AliceBlue;text-align:center;width:150px;\">Maria&nbspEliza&nbspAntunes</td><td  style=\"background-color:AliceBlue;\">8</td><td  style=\"background-color:AliceBlue;\">8</td><td  style=\"background-color:AliceBlue;\">9</td></tr><tr><td  style=\"background-color:lightBlue;text-align:left;\">151100497</td><td  style=\"background-color:Ivory;text-align:center;width:150px;\">Milena&nbspFoltran&nbspde&nbspMiranda</td><td  style=\"background-color:Ivory;\">10</td><td  style=\"background-color:Ivory;\">9</td><td  style=\"background-color:Ivory;\">9.5</td></tr><tr><td  style=\"background-color:lightBlue;text-align:left;\">141101891</td><td  style=\"background-color:AliceBlue;text-align:center;width:150px;\">Murilo&nbspTireli&nbspGonzaga</td><td  style=\"background-color:AliceBlue;\">7</td><td  style=\"background-color:AliceBlue;\">0</td><td  style=\"background-color:AliceBlue;\">8</td></tr><tr><td  style=\"background-color:lightBlue;text-align:left;\">151102155</td><td  style=\"background-color:Ivory;text-align:center;width:150px;\">Nurya&nbspPinheiro</td><td  style=\"background-color:Ivory;\">10</td><td  style=\"background-color:Ivory;\">9</td><td  style=\"background-color:Ivory;\">9.5</td></tr><tr><td  style=\"background-color:lightBlue;text-align:left;\">141100508</td><td  style=\"background-color:AliceBlue;text-align:center;width:150px;\">Paulo&nbspZago&nbspLeonel</td><td  style=\"background-color:AliceBlue;\">9</td><td  style=\"background-color:AliceBlue;\">8</td><td  style=\"background-color:AliceBlue;\">9</td></tr><tr><td  style=\"background-color:lightBlue;text-align:left;\">151101752</td><td  style=\"background-color:Ivory;text-align:center;width:150px;\">Raphaella&nbspNavarro</td><td  style=\"background-color:Ivory;\">7</td><td  style=\"background-color:Ivory;\">8</td><td  style=\"background-color:Ivory;\">9</td></tr><tr><td  style=\"background-color:lightBlue;text-align:left;\">151100519</td><td  style=\"background-color:AliceBlue;text-align:center;width:150px;\">Samuel&nbspPerri&nbspGimenes</td><td  style=\"background-color:AliceBlue;\">10</td><td  style=\"background-color:AliceBlue;\">9</td><td  style=\"background-color:AliceBlue;\">9.5</td></tr><tr><td  style=\"background-color:lightBlue;text-align:left;\">141100621</td><td  style=\"background-color:Ivory;text-align:center;width:150px;\">Suelen&nbspSimoes&nbspCosta</td><td  style=\"background-color:Ivory;\">7</td><td  style=\"background-color:Ivory;\">9</td><td  style=\"background-color:Ivory;\">8</td></tr><tr><td  style=\"background-color:lightBlue;text-align:left;\">141100893</td><td  style=\"background-color:AliceBlue;text-align:center;width:150px;\">Thiago&nbspSouza&nbspDias</td><td  style=\"background-color:AliceBlue;\">7</td><td  style=\"background-color:AliceBlue;\">9</td><td  style=\"background-color:AliceBlue;\">8</td></tr><tr><td  style=\"background-color:lightBlue;text-align:left;\">131101064</td><td  style=\"background-color:Ivory;text-align:center;width:150px;\">Tiago&nbspFernando&nbspAlves&nbspde&nbspMoura</td><td  style=\"background-color:Ivory;\">7</td><td  style=\"background-color:Ivory;\">8</td><td  style=\"background-color:Ivory;\">9</td></tr><tr><td  style=\"background-color:lightBlue;text-align:left;\">151100039</td><td  style=\"background-color:AliceBlue;text-align:center;width:150px;\">Vanessa&nbspUlisses&nbspAmorim&nbspda&nbspSilva</td><td  style=\"background-color:AliceBlue;\">10</td><td  style=\"background-color:AliceBlue;\">9</td><td  style=\"background-color:AliceBlue;\">9.5</td></tr><tr><td  style=\"background-color:lightBlue;text-align:left;\">121101509</td><td  style=\"background-color:Ivory;text-align:center;width:150px;\">Victor&nbspSantos&nbspSilva</td><td  style=\"background-color:Ivory;\">7</td><td  style=\"background-color:Ivory;\">9</td><td  style=\"background-color:Ivory;\">8</td></tr></table>"
      ],
      "text/plain": [
       "<ipy_table.IpyTable at 0x10ca9d8d0>"
      ]
     },
     "execution_count": 184,
     "metadata": {},
     "output_type": "execute_result"
    }
   ],
   "source": [
    "\"\"\"Shows basic usage of the Sheets API.\n",
    "\n",
    "Creates a Sheets API service object and prints the names and majors of\n",
    "students in a sample spreadsheet:\n",
    "https://docs.google.com/spreadsheets/d/1BxiMVs0XRA5nFMdKvBdBZjgmUUqptlbs74OgvE2upms/edit\n",
    "\"\"\"\n",
    "credentials = get_credentials()\n",
    "http = credentials.authorize(httplib2.Http())\n",
    "discoveryUrl = ('https://sheets.googleapis.com/$discovery/rest?'\n",
    "                'version=v4')\n",
    "service = discovery.build('sheets', 'v4', http=http,\n",
    "                          discoveryServiceUrl=discoveryUrl)\n",
    "\n",
    "spreadsheetId = '16Bmq1nd0rwTr8euOTMDETOgVddOGNtRl45R-F3IjWLg'\n",
    "rangeName = 'data!A1:E'\n",
    "result = service.spreadsheets().values().get(\n",
    "    spreadsheetId=spreadsheetId, range=rangeName).execute()\n",
    "values = result.get('values', [])\n",
    "make_table(values)\n",
    "apply_theme('basic')\n",
    "set_column_style(0, color='lightBlue',align='left')\n",
    "set_column_style(1,width=150,align='center')\n",
    "set_row_style(0, color='lightblue',thick_border='top,bottom',bold=True,align='center')"
   ]
  },
  {
   "cell_type": "code",
   "execution_count": 176,
   "metadata": {
    "ExecuteTime": {
     "end_time": "2017-04-21T19:46:59.756366Z",
     "start_time": "2017-04-21T19:46:59.753835Z"
    },
    "collapsed": true,
    "run_control": {
     "frozen": false,
     "read_only": false
    }
   },
   "outputs": [],
   "source": []
  },
  {
   "cell_type": "code",
   "execution_count": 585,
   "metadata": {
    "ExecuteTime": {
     "end_time": "2017-04-22T19:48:25.376903Z",
     "start_time": "2017-04-22T19:48:25.363116Z"
    },
    "collapsed": true,
    "run_control": {
     "frozen": false,
     "read_only": false
    }
   },
   "outputs": [],
   "source": [
    "df=pd.DataFrame(values[1:],columns=values[0])\n",
    "for col in df.columns[2:]:\n",
    "    df[col]=df[col].apply(float)\n",
    "df['Média']=df.iloc[0:,2:].mean(axis=1)\n",
    "format = lambda x: \"{0:.2f}\".format(x)\n",
    "df['Média']=df['Média'].apply(format)\n",
    "values2=df.values.tolist()\n"
   ]
  },
  {
   "cell_type": "code",
   "execution_count": 586,
   "metadata": {
    "ExecuteTime": {
     "end_time": "2017-04-22T19:48:27.663393Z",
     "start_time": "2017-04-22T19:48:27.651541Z"
    },
    "collapsed": false,
    "run_control": {
     "frozen": false,
     "read_only": false
    }
   },
   "outputs": [
    {
     "data": {
      "text/html": [
       "<table border=\"1\" cellpadding=\"3\" cellspacing=\"0\"  style=\"border:1px solid black;border-collapse:collapse;\"><tr><td  style=\"background-color:lightblue;border-top: 3px solid black;border-bottom: 3px solid black;text-align:center;\"><b>RA</b></td><td  style=\"background-color:lightblue;border-top: 3px solid black;border-bottom: 3px solid black;text-align:center;width:150px;\"><b>Nome</b></td><td  style=\"background-color:lightblue;border-top: 3px solid black;border-bottom: 3px solid black;text-align:center;\"><b>Civilizações</b></td><td  style=\"background-color:lightblue;border-top: 3px solid black;border-bottom: 3px solid black;text-align:center;\"><b>Pré-Socráticos</b></td><td  style=\"background-color:lightblue;border-top: 3px solid black;border-bottom: 3px solid black;text-align:center;\"><b>Grecia&nbspClássica</b></td><td  style=\"background-color:lightblue;border-top: 3px solid black;border-bottom: 3px solid black;text-align:center;\"><b>Média</b></td></tr><tr><td  style=\"background-color:Ivory;border-top: 3px solid black;\">141102233</td><td  style=\"background-color:Ivory;border-top: 3px solid black;text-align:left;width:150px;\">Abner&nbspAlves&nbspde&nbspOliveira</td><td  style=\"background-color:Ivory;border-top: 3px solid black;\">0.0</td><td  style=\"background-color:Ivory;border-top: 3px solid black;\">8.0</td><td  style=\"background-color:Ivory;border-top: 3px solid black;\">9.0</td><td  style=\"background-color:lightblue;border-top: 3px solid black;\">5.67</td></tr><tr><td  style=\"background-color:AliceBlue;\">141101725</td><td  style=\"background-color:AliceBlue;text-align:left;width:150px;\">Alexandre&nbspLocci&nbspNogueira&nbspdos&nbspSantos</td><td  style=\"background-color:AliceBlue;\">9.0</td><td  style=\"background-color:AliceBlue;\">8.0</td><td  style=\"background-color:AliceBlue;\">9.0</td><td  style=\"background-color:lightblue;\">8.67</td></tr><tr><td  style=\"background-color:Ivory;\">141101611</td><td  style=\"background-color:Ivory;text-align:left;width:150px;\">Amanda&nbspAnselmo&nbspRosa</td><td  style=\"background-color:Ivory;\">7.0</td><td  style=\"background-color:Ivory;\">9.0</td><td  style=\"background-color:Ivory;\">9.5</td><td  style=\"background-color:lightblue;\">8.50</td></tr><tr><td  style=\"background-color:AliceBlue;\">151100667</td><td  style=\"background-color:AliceBlue;text-align:left;width:150px;\">Ana&nbspBeatriz&nbspMarques&nbspCarlos</td><td  style=\"background-color:AliceBlue;\">10.0</td><td  style=\"background-color:AliceBlue;\">9.0</td><td  style=\"background-color:AliceBlue;\">9.5</td><td  style=\"background-color:lightblue;\">9.50</td></tr><tr><td  style=\"background-color:Ivory;\">141101571</td><td  style=\"background-color:Ivory;text-align:left;width:150px;\">Andre&nbspFelipe&nbspda&nbspSilva</td><td  style=\"background-color:Ivory;\">7.0</td><td  style=\"background-color:Ivory;\">9.0</td><td  style=\"background-color:Ivory;\">8.0</td><td  style=\"background-color:lightblue;\">8.00</td></tr><tr><td  style=\"background-color:AliceBlue;\">141100613</td><td  style=\"background-color:AliceBlue;text-align:left;width:150px;\">Caroline&nbspPiovesan&nbspPinheiro</td><td  style=\"background-color:AliceBlue;\">9.0</td><td  style=\"background-color:AliceBlue;\">8.0</td><td  style=\"background-color:AliceBlue;\">9.0</td><td  style=\"background-color:lightblue;\">8.67</td></tr><tr><td  style=\"background-color:Ivory;\">141101423</td><td  style=\"background-color:Ivory;text-align:left;width:150px;\">Eduarda&nbspPio&nbspCosta&nbspda&nbspSilva</td><td  style=\"background-color:Ivory;\">9.0</td><td  style=\"background-color:Ivory;\">8.0</td><td  style=\"background-color:Ivory;\">9.0</td><td  style=\"background-color:lightblue;\">8.67</td></tr><tr><td  style=\"background-color:AliceBlue;\">101105454</td><td  style=\"background-color:AliceBlue;text-align:left;width:150px;\">Franciane&nbspRibeiro</td><td  style=\"background-color:AliceBlue;\">7.0</td><td  style=\"background-color:AliceBlue;\">8.0</td><td  style=\"background-color:AliceBlue;\">9.0</td><td  style=\"background-color:lightblue;\">8.00</td></tr><tr><td  style=\"background-color:Ivory;\">151102139</td><td  style=\"background-color:Ivory;text-align:left;width:150px;\">Gabriel&nbspde&nbspCastro&nbspChacon</td><td  style=\"background-color:Ivory;\">8.0</td><td  style=\"background-color:Ivory;\">8.0</td><td  style=\"background-color:Ivory;\">9.0</td><td  style=\"background-color:lightblue;\">8.33</td></tr><tr><td  style=\"background-color:AliceBlue;\">151102431</td><td  style=\"background-color:AliceBlue;text-align:left;width:150px;\">Giovanna&nbspHolanda&nbspOliveira&nbspde&nbspAlmeida</td><td  style=\"background-color:AliceBlue;\">8.0</td><td  style=\"background-color:AliceBlue;\">8.0</td><td  style=\"background-color:AliceBlue;\">9.0</td><td  style=\"background-color:lightblue;\">8.33</td></tr><tr><td  style=\"background-color:Ivory;\">141100583</td><td  style=\"background-color:Ivory;text-align:left;width:150px;\">Gustavo&nbspHenrique&nbspTomanik</td><td  style=\"background-color:Ivory;\">9.0</td><td  style=\"background-color:Ivory;\">9.0</td><td  style=\"background-color:Ivory;\">9.0</td><td  style=\"background-color:lightblue;\">9.00</td></tr><tr><td  style=\"background-color:AliceBlue;\">141102209</td><td  style=\"background-color:AliceBlue;text-align:left;width:150px;\">Gustavo&nbspSerafim&nbspRodrigues</td><td  style=\"background-color:AliceBlue;\">9.0</td><td  style=\"background-color:AliceBlue;\">9.0</td><td  style=\"background-color:AliceBlue;\">9.0</td><td  style=\"background-color:lightblue;\">9.00</td></tr><tr><td  style=\"background-color:Ivory;\">151100616</td><td  style=\"background-color:Ivory;text-align:left;width:150px;\">Hamine&nbspCristina&nbspde&nbspOliveira</td><td  style=\"background-color:Ivory;\">8.0</td><td  style=\"background-color:Ivory;\">8.0</td><td  style=\"background-color:Ivory;\">9.0</td><td  style=\"background-color:lightblue;\">8.33</td></tr><tr><td  style=\"background-color:AliceBlue;\">141102519</td><td  style=\"background-color:AliceBlue;text-align:left;width:150px;\">Isabella&nbspVelloso&nbspArrigo</td><td  style=\"background-color:AliceBlue;\">8.0</td><td  style=\"background-color:AliceBlue;\">0.0</td><td  style=\"background-color:AliceBlue;\">9.0</td><td  style=\"background-color:lightblue;\">5.67</td></tr><tr><td  style=\"background-color:Ivory;\">151102481</td><td  style=\"background-color:Ivory;text-align:left;width:150px;\">Isabelle&nbspRodrigues&nbspde&nbspPaula</td><td  style=\"background-color:Ivory;\">9.0</td><td  style=\"background-color:Ivory;\">8.0</td><td  style=\"background-color:Ivory;\">9.0</td><td  style=\"background-color:lightblue;\">8.67</td></tr><tr><td  style=\"background-color:AliceBlue;\">141100061</td><td  style=\"background-color:AliceBlue;text-align:left;width:150px;\">Juan&nbspLopes&nbspCosta</td><td  style=\"background-color:AliceBlue;\">9.0</td><td  style=\"background-color:AliceBlue;\">9.0</td><td  style=\"background-color:AliceBlue;\">9.0</td><td  style=\"background-color:lightblue;\">9.00</td></tr><tr><td  style=\"background-color:Ivory;\">141100869</td><td  style=\"background-color:Ivory;text-align:left;width:150px;\">Julia&nbspWillmersdorf&nbspGoncalves&nbspCorrea</td><td  style=\"background-color:Ivory;\">9.0</td><td  style=\"background-color:Ivory;\">9.0</td><td  style=\"background-color:Ivory;\">8.0</td><td  style=\"background-color:lightblue;\">8.67</td></tr><tr><td  style=\"background-color:AliceBlue;\">141102551</td><td  style=\"background-color:AliceBlue;text-align:left;width:150px;\">Karoline&nbspCafisso</td><td  style=\"background-color:AliceBlue;\">7.0</td><td  style=\"background-color:AliceBlue;\">8.0</td><td  style=\"background-color:AliceBlue;\">9.0</td><td  style=\"background-color:lightblue;\">8.00</td></tr><tr><td  style=\"background-color:Ivory;\">141102691</td><td  style=\"background-color:Ivory;text-align:left;width:150px;\">Kerolyn&nbspAdorne&nbspModa</td><td  style=\"background-color:Ivory;\">9.0</td><td  style=\"background-color:Ivory;\">9.0</td><td  style=\"background-color:Ivory;\">9.0</td><td  style=\"background-color:lightblue;\">9.00</td></tr><tr><td  style=\"background-color:AliceBlue;\">121101215</td><td  style=\"background-color:AliceBlue;text-align:left;width:150px;\">Leandro&nbspAugusto&nbspdo&nbspNascimento</td><td  style=\"background-color:AliceBlue;\">7.0</td><td  style=\"background-color:AliceBlue;\">8.0</td><td  style=\"background-color:AliceBlue;\">9.0</td><td  style=\"background-color:lightblue;\">8.00</td></tr><tr><td  style=\"background-color:Ivory;\">131102044</td><td  style=\"background-color:Ivory;text-align:left;width:150px;\">Leticia&nbspFerreira&nbspGodoi</td><td  style=\"background-color:Ivory;\">7.0</td><td  style=\"background-color:Ivory;\">8.0</td><td  style=\"background-color:Ivory;\">9.0</td><td  style=\"background-color:lightblue;\">8.00</td></tr><tr><td  style=\"background-color:AliceBlue;\">141102381</td><td  style=\"background-color:AliceBlue;text-align:left;width:150px;\">Lorraine&nbspLetiele&nbspPires</td><td  style=\"background-color:AliceBlue;\">7.0</td><td  style=\"background-color:AliceBlue;\">9.0</td><td  style=\"background-color:AliceBlue;\">8.0</td><td  style=\"background-color:lightblue;\">8.00</td></tr><tr><td  style=\"background-color:Ivory;\">141102071</td><td  style=\"background-color:Ivory;text-align:left;width:150px;\">Lucas&nbspFaconi&nbspCamargo</td><td  style=\"background-color:Ivory;\">9.0</td><td  style=\"background-color:Ivory;\">9.0</td><td  style=\"background-color:Ivory;\">9.0</td><td  style=\"background-color:lightblue;\">9.00</td></tr><tr><td  style=\"background-color:AliceBlue;\">151100454</td><td  style=\"background-color:AliceBlue;text-align:left;width:150px;\">Maria&nbspEliza&nbspAntunes</td><td  style=\"background-color:AliceBlue;\">8.0</td><td  style=\"background-color:AliceBlue;\">8.0</td><td  style=\"background-color:AliceBlue;\">9.0</td><td  style=\"background-color:lightblue;\">8.33</td></tr><tr><td  style=\"background-color:Ivory;\">151100497</td><td  style=\"background-color:Ivory;text-align:left;width:150px;\">Milena&nbspFoltran&nbspde&nbspMiranda</td><td  style=\"background-color:Ivory;\">10.0</td><td  style=\"background-color:Ivory;\">9.0</td><td  style=\"background-color:Ivory;\">9.5</td><td  style=\"background-color:lightblue;\">9.50</td></tr><tr><td  style=\"background-color:AliceBlue;\">141101891</td><td  style=\"background-color:AliceBlue;text-align:left;width:150px;\">Murilo&nbspTireli&nbspGonzaga</td><td  style=\"background-color:AliceBlue;\">7.0</td><td  style=\"background-color:AliceBlue;\">0.0</td><td  style=\"background-color:AliceBlue;\">8.0</td><td  style=\"background-color:lightblue;\">5.00</td></tr><tr><td  style=\"background-color:Ivory;\">151102155</td><td  style=\"background-color:Ivory;text-align:left;width:150px;\">Nurya&nbspPinheiro</td><td  style=\"background-color:Ivory;\">10.0</td><td  style=\"background-color:Ivory;\">9.0</td><td  style=\"background-color:Ivory;\">9.5</td><td  style=\"background-color:lightblue;\">9.50</td></tr><tr><td  style=\"background-color:AliceBlue;\">141100508</td><td  style=\"background-color:AliceBlue;text-align:left;width:150px;\">Paulo&nbspZago&nbspLeonel</td><td  style=\"background-color:AliceBlue;\">9.0</td><td  style=\"background-color:AliceBlue;\">8.0</td><td  style=\"background-color:AliceBlue;\">9.0</td><td  style=\"background-color:lightblue;\">8.67</td></tr><tr><td  style=\"background-color:Ivory;\">151101752</td><td  style=\"background-color:Ivory;text-align:left;width:150px;\">Raphaella&nbspNavarro</td><td  style=\"background-color:Ivory;\">7.0</td><td  style=\"background-color:Ivory;\">8.0</td><td  style=\"background-color:Ivory;\">9.0</td><td  style=\"background-color:lightblue;\">8.00</td></tr><tr><td  style=\"background-color:AliceBlue;\">151100519</td><td  style=\"background-color:AliceBlue;text-align:left;width:150px;\">Samuel&nbspPerri&nbspGimenes</td><td  style=\"background-color:AliceBlue;\">10.0</td><td  style=\"background-color:AliceBlue;\">9.0</td><td  style=\"background-color:AliceBlue;\">9.5</td><td  style=\"background-color:lightblue;\">9.50</td></tr><tr><td  style=\"background-color:Ivory;\">141100621</td><td  style=\"background-color:Ivory;text-align:left;width:150px;\">Suelen&nbspSimoes&nbspCosta</td><td  style=\"background-color:Ivory;\">7.0</td><td  style=\"background-color:Ivory;\">9.0</td><td  style=\"background-color:Ivory;\">8.0</td><td  style=\"background-color:lightblue;\">8.00</td></tr><tr><td  style=\"background-color:AliceBlue;\">141100893</td><td  style=\"background-color:AliceBlue;text-align:left;width:150px;\">Thiago&nbspSouza&nbspDias</td><td  style=\"background-color:AliceBlue;\">7.0</td><td  style=\"background-color:AliceBlue;\">9.0</td><td  style=\"background-color:AliceBlue;\">8.0</td><td  style=\"background-color:lightblue;\">8.00</td></tr><tr><td  style=\"background-color:Ivory;\">131101064</td><td  style=\"background-color:Ivory;text-align:left;width:150px;\">Tiago&nbspFernando&nbspAlves&nbspde&nbspMoura</td><td  style=\"background-color:Ivory;\">7.0</td><td  style=\"background-color:Ivory;\">8.0</td><td  style=\"background-color:Ivory;\">9.0</td><td  style=\"background-color:lightblue;\">8.00</td></tr><tr><td  style=\"background-color:AliceBlue;\">151100039</td><td  style=\"background-color:AliceBlue;text-align:left;width:150px;\">Vanessa&nbspUlisses&nbspAmorim&nbspda&nbspSilva</td><td  style=\"background-color:AliceBlue;\">10.0</td><td  style=\"background-color:AliceBlue;\">9.0</td><td  style=\"background-color:AliceBlue;\">9.5</td><td  style=\"background-color:lightblue;\">9.50</td></tr><tr><td  style=\"background-color:Ivory;\">121101509</td><td  style=\"background-color:Ivory;text-align:left;width:150px;\">Victor&nbspSantos&nbspSilva</td><td  style=\"background-color:Ivory;\">7.0</td><td  style=\"background-color:Ivory;\">9.0</td><td  style=\"background-color:Ivory;\">8.0</td><td  style=\"background-color:lightblue;\">8.00</td></tr></table>"
      ],
      "text/plain": [
       "<ipy_table.IpyTable at 0x119ea2e10>"
      ]
     },
     "execution_count": 586,
     "metadata": {},
     "output_type": "execute_result"
    }
   ],
   "source": [
    "\n",
    "header=[elem for elem in df.columns]\n",
    "make_table([header]+values2)\n",
    "apply_theme('basic')\n",
    "set_column_style(1,width=150,align='left')\n",
    "set_row_style(0, color='lightblue',thick_border='top,bottom',bold=True,align='center')\n",
    "num=len(header)-1\n",
    "set_column_style(num, color='lightblue',float_format='%0.3f')"
   ]
  },
  {
   "cell_type": "code",
   "execution_count": 562,
   "metadata": {
    "ExecuteTime": {
     "end_time": "2017-04-22T19:36:50.420343Z",
     "start_time": "2017-04-22T19:36:50.411761Z"
    },
    "collapsed": false,
    "run_control": {
     "frozen": false,
     "read_only": false
    }
   },
   "outputs": [
    {
     "name": "stdout",
     "output_type": "stream",
     "text": [
      "       RA  Nome                                    Civilizações    Pré-Socráticos    Grecia Clássica\n",
      "141102233  Abner Alves de Oliveira                            0                 8                9\n",
      "141101725  Alexandre Locci Nogueira dos Santos                9                 8                9\n",
      "141101611  Amanda Anselmo Rosa                                7                 9                9.5\n",
      "151100667  Ana Beatriz Marques Carlos                        10                 9                9.5\n",
      "141101571  Andre Felipe da Silva                              7                 9                8\n",
      "141100613  Caroline Piovesan Pinheiro                         9                 8                9\n",
      "141101423  Eduarda Pio Costa da Silva                         9                 8                9\n",
      "101105454  Franciane Ribeiro                                  7                 8                9\n",
      "151102139  Gabriel de Castro Chacon                           8                 8                9\n",
      "151102431  Giovanna Holanda Oliveira de Almeida               8                 8                9\n",
      "141100583  Gustavo Henrique Tomanik                           9                 9                9\n",
      "141102209  Gustavo Serafim Rodrigues                          9                 9                9\n",
      "151100616  Hamine Cristina de Oliveira                        8                 8                9\n",
      "141102519  Isabella Velloso Arrigo                            8                 0                9\n",
      "151102481  Isabelle Rodrigues de Paula                        9                 8                9\n",
      "141100061  Juan Lopes Costa                                   9                 9                9\n",
      "141100869  Julia Willmersdorf Goncalves Correa                9                 9                8\n",
      "141102551  Karoline Cafisso                                   7                 8                9\n",
      "141102691  Kerolyn Adorne Moda                                9                 9                9\n",
      "121101215  Leandro Augusto do Nascimento                      7                 8                9\n",
      "131102044  Leticia Ferreira Godoi                             7                 8                9\n",
      "141102381  Lorraine Letiele Pires                             7                 9                8\n",
      "141102071  Lucas Faconi Camargo                               9                 9                9\n",
      "151100454  Maria Eliza Antunes                                8                 8                9\n",
      "151100497  Milena Foltran de Miranda                         10                 9                9.5\n",
      "141101891  Murilo Tireli Gonzaga                              7                 0                8\n",
      "151102155  Nurya Pinheiro                                    10                 9                9.5\n",
      "141100508  Paulo Zago Leonel                                  9                 8                9\n",
      "151101752  Raphaella Navarro                                  7                 8                9\n",
      "151100519  Samuel Perri Gimenes                              10                 9                9.5\n",
      "141100621  Suelen Simoes Costa                                7                 9                8\n",
      "141100893  Thiago Souza Dias                                  7                 9                8\n",
      "131101064  Tiago Fernando Alves de Moura                      7                 8                9\n",
      "151100039  Vanessa Ulisses Amorim da Silva                   10                 9                9.5\n",
      "121101509  Victor Santos Silva                                7                 9                8\n"
     ]
    }
   ],
   "source": [
    "print(tabulate(values[1:],values[0],tablefmt=\"plain\"))"
   ]
  },
  {
   "cell_type": "markdown",
   "metadata": {
    "run_control": {
     "frozen": false,
     "read_only": false
    }
   },
   "source": [
    "{{ print(‘hello world’}}"
   ]
  },
  {
   "cell_type": "markdown",
   "metadata": {
    "ExecuteTime": {
     "end_time": "2017-04-22T00:51:17.280459Z",
     "start_time": "2017-04-22T00:51:17.271728Z"
    },
    "run_control": {
     "frozen": false,
     "read_only": false
    }
   },
   "source": [
    "{{ print(‘hello world’}}"
   ]
  },
  {
   "cell_type": "code",
   "execution_count": 228,
   "metadata": {
    "ExecuteTime": {
     "end_time": "2017-04-22T01:04:12.771154Z",
     "start_time": "2017-04-22T01:04:12.762645Z"
    },
    "collapsed": true,
    "run_control": {
     "frozen": false,
     "read_only": false
    }
   },
   "outputs": [],
   "source": [
    "import ipywidgets as widgets"
   ]
  },
  {
   "cell_type": "code",
   "execution_count": 236,
   "metadata": {
    "ExecuteTime": {
     "end_time": "2017-04-22T01:07:58.996825Z",
     "start_time": "2017-04-22T01:07:58.967989Z"
    },
    "collapsed": true,
    "run_control": {
     "frozen": false,
     "read_only": false
    }
   },
   "outputs": [],
   "source": [
    "L=5*[0]\n",
    "for i in range(4):\n",
    "    widgets.FloatText(\n",
    "        value=7.5,\n",
    "        description='Any:',\n",
    "        disabled=False,\n",
    "        color='black'\n",
    "    )"
   ]
  },
  {
   "cell_type": "code",
   "execution_count": 241,
   "metadata": {
    "ExecuteTime": {
     "end_time": "2017-04-22T01:10:11.191890Z",
     "start_time": "2017-04-22T01:10:11.173951Z"
    },
    "collapsed": true,
    "run_control": {
     "frozen": false,
     "read_only": false
    }
   },
   "outputs": [],
   "source": [
    "a1=widgets.FloatText(\n",
    "        value=7.5,\n",
    "        description='Any:',\n",
    "        disabled=False,\n",
    "        color='black'\n",
    "    )"
   ]
  },
  {
   "cell_type": "code",
   "execution_count": 242,
   "metadata": {
    "ExecuteTime": {
     "end_time": "2017-04-22T01:10:18.604397Z",
     "start_time": "2017-04-22T01:10:18.591681Z"
    },
    "collapsed": true,
    "run_control": {
     "frozen": false,
     "read_only": false
    }
   },
   "outputs": [],
   "source": [
    "a2=widgets.FloatText(\n",
    "        value=7.5,\n",
    "        description='Any:',\n",
    "        disabled=False,\n",
    "        color='black'\n",
    "    )"
   ]
  },
  {
   "cell_type": "code",
   "execution_count": 249,
   "metadata": {
    "ExecuteTime": {
     "end_time": "2017-04-22T01:24:54.794774Z",
     "start_time": "2017-04-22T01:24:54.739904Z"
    },
    "collapsed": true,
    "run_control": {
     "frozen": false,
     "read_only": false
    }
   },
   "outputs": [],
   "source": [
    "items = [widgets.FloatText(value=4.8) for i in range(4)]\n",
    "w=widgets.HBox([widgets.VBox([items[0], items[1]]), widgets.VBox([items[2], items[3]])])"
   ]
  },
  {
   "cell_type": "code",
   "execution_count": 248,
   "metadata": {
    "ExecuteTime": {
     "end_time": "2017-04-22T01:21:22.071687Z",
     "start_time": "2017-04-22T01:21:22.067196Z"
    },
    "collapsed": false,
    "run_control": {
     "frozen": false,
     "read_only": false
    }
   },
   "outputs": [
    {
     "data": {
      "application/vnd.jupyter.widget-view+json": {
       "model_id": "990b2d0010634fcb82ec0c69901bf27b"
      }
     },
     "metadata": {},
     "output_type": "display_data"
    }
   ],
   "source": [
    "items[0]"
   ]
  },
  {
   "cell_type": "code",
   "execution_count": 251,
   "metadata": {
    "ExecuteTime": {
     "end_time": "2017-04-22T01:25:31.812258Z",
     "start_time": "2017-04-22T01:25:31.806022Z"
    },
    "collapsed": false,
    "run_control": {
     "frozen": false,
     "read_only": false
    }
   },
   "outputs": [
    {
     "data": {
      "application/vnd.jupyter.widget-view+json": {
       "model_id": "50e7ac23baba460a91a2b2516494fc24"
      }
     },
     "metadata": {},
     "output_type": "display_data"
    }
   ],
   "source": [
    "from IPython.display import display\n",
    "display(w)"
   ]
  },
  {
   "cell_type": "code",
   "execution_count": 257,
   "metadata": {
    "ExecuteTime": {
     "end_time": "2017-04-22T01:27:24.916730Z",
     "start_time": "2017-04-22T01:27:24.907080Z"
    },
    "collapsed": false,
    "run_control": {
     "frozen": false,
     "read_only": false
    }
   },
   "outputs": [
    {
     "data": {
      "text/plain": [
       "<bound method HasTraits.traits of <ipywidgets.widgets.widget_box.HBox object at 0x1106de710>>"
      ]
     },
     "execution_count": 257,
     "metadata": {},
     "output_type": "execute_result"
    }
   ],
   "source": [
    "w.traits"
   ]
  },
  {
   "cell_type": "code",
   "execution_count": 258,
   "metadata": {
    "ExecuteTime": {
     "end_time": "2017-04-22T01:30:28.221126Z",
     "start_time": "2017-04-22T01:30:28.216295Z"
    },
    "collapsed": false,
    "run_control": {
     "frozen": false,
     "read_only": false
    }
   },
   "outputs": [
    {
     "data": {
      "text/plain": [
       "<bound method Widget.get_state of <ipywidgets.widgets.widget_box.HBox object at 0x1106de710>>"
      ]
     },
     "execution_count": 258,
     "metadata": {},
     "output_type": "execute_result"
    }
   ],
   "source": [
    "w.get_state"
   ]
  },
  {
   "cell_type": "code",
   "execution_count": 262,
   "metadata": {
    "ExecuteTime": {
     "end_time": "2017-04-22T01:32:00.841721Z",
     "start_time": "2017-04-22T01:32:00.832572Z"
    },
    "collapsed": false,
    "run_control": {
     "frozen": false,
     "read_only": false
    }
   },
   "outputs": [
    {
     "data": {
      "text/plain": [
       "['_dom_classes',\n",
       " '_model_module',\n",
       " '_model_module_version',\n",
       " '_model_name',\n",
       " '_view_module',\n",
       " '_view_module_version',\n",
       " '_view_name',\n",
       " 'box_style',\n",
       " 'children',\n",
       " 'layout',\n",
       " 'msg_throttle']"
      ]
     },
     "execution_count": 262,
     "metadata": {},
     "output_type": "execute_result"
    }
   ],
   "source": [
    "w.keys"
   ]
  },
  {
   "cell_type": "code",
   "execution_count": 272,
   "metadata": {
    "ExecuteTime": {
     "end_time": "2017-04-22T01:35:03.307124Z",
     "start_time": "2017-04-22T01:35:03.298880Z"
    },
    "collapsed": false,
    "run_control": {
     "frozen": false,
     "read_only": false
    }
   },
   "outputs": [
    {
     "data": {
      "text/plain": [
       "4.8"
      ]
     },
     "execution_count": 272,
     "metadata": {},
     "output_type": "execute_result"
    }
   ],
   "source": [
    "w.children[0].children[0].value\n"
   ]
  },
  {
   "cell_type": "code",
   "execution_count": 299,
   "metadata": {
    "ExecuteTime": {
     "end_time": "2017-04-22T12:00:47.393537Z",
     "start_time": "2017-04-22T12:00:47.351130Z"
    },
    "collapsed": false,
    "run_control": {
     "frozen": false,
     "read_only": false
    }
   },
   "outputs": [
    {
     "data": {
      "application/vnd.jupyter.widget-view+json": {
       "model_id": "6244aada81ab45a1b2c1ab4dbcbdc587"
      }
     },
     "metadata": {},
     "output_type": "display_data"
    }
   ],
   "source": [
    "items=[[widgets.FloatText(value=4.8) for i in range(2)] for j in range(2)]\n",
    "w=widgets.HBox([widgets.VBox(items[0]),widgets.VBox(items[1])])\n",
    "display(w)"
   ]
  },
  {
   "cell_type": "code",
   "execution_count": 301,
   "metadata": {
    "ExecuteTime": {
     "end_time": "2017-04-22T12:02:28.209450Z",
     "start_time": "2017-04-22T12:02:28.205368Z"
    },
    "collapsed": false,
    "run_control": {
     "frozen": false,
     "read_only": false
    }
   },
   "outputs": [
    {
     "data": {
      "text/plain": [
       "4.5"
      ]
     },
     "execution_count": 301,
     "metadata": {},
     "output_type": "execute_result"
    }
   ],
   "source": [
    "w.children[0].children[1].value"
   ]
  },
  {
   "cell_type": "code",
   "execution_count": 587,
   "metadata": {
    "ExecuteTime": {
     "end_time": "2017-04-22T19:48:43.725041Z",
     "start_time": "2017-04-22T19:48:42.563761Z"
    },
    "collapsed": false,
    "run_control": {
     "frozen": false,
     "read_only": false
    }
   },
   "outputs": [
    {
     "data": {
      "application/vnd.jupyter.widget-view+json": {
       "model_id": "5249d8b878524ac891ec3a6e4e1e2bcc"
      }
     },
     "metadata": {},
     "output_type": "display_data"
    }
   ],
   "source": [
    "b1 = widgets.Button(description='Custom color')\n",
    "b1.style.button_color = 'lightgreen'\n",
    "box_layout = Layout(display='flex',\n",
    "                    flex_flow='row',\n",
    "                    align_items='stretch',\n",
    "                    border='solid',\n",
    "                    width='100%')\n",
    "box_layout2 = Layout(display='flex',\n",
    "                    flex_flow='column',\n",
    "                    align_items='stretch',\n",
    "            #        justify-content='flex-end',\n",
    "                    border='thin',\n",
    "                    width='100%')\n",
    "liskeys=list(df.keys())\n",
    "numcol=len(liskeys)\n",
    "RAwidgets=[widgets.Button(description='RA',style=b1.style)]+[widgets.Label(ra) for ra in df['RA']]\n",
    "NAMEwidgets=[widgets.Button(description='Nome',layout=Layout(width='auto'), style=b1.style)]+[widgets.Label(name,layout=Layout(width='auto') ) for name in df['Nome']]\n",
    "wRA=widgets.Box(children=RAwidgets,layout=box_layout2)\n",
    "wNAMES=widgets.Box(children=NAMEwidgets,layout=box_layout2)\n",
    "wtemp=[widgets.VBox([widgets.Button(description=liskeys[i],style=b1.style,layout=Layout(width='auto'))]\n",
    "                   +[widgets.FloatText(value=dfvalue,layout=Layout(width='auto')) \n",
    "                     for dfvalue in df.iloc[:,i]]) for i in range(2,numcol-1)]\n",
    "wtempmedia=widgets.VBox([widgets.Button(description='Media',layout=Layout(width='40%'),style=b1.style)]+[widgets.FloatText(value=dfvalue,layout=Layout(width='40%')) for dfvalue in df.iloc[:,-1]])\n",
    "wdf=[wRA,wNAMES]+wtemp+[wtempmedia]\n",
    "w=widgets.Box(children=wdf,layout=box_layout)\n",
    "display(w)"
   ]
  },
  {
   "cell_type": "code",
   "execution_count": 588,
   "metadata": {
    "ExecuteTime": {
     "end_time": "2017-04-22T19:48:56.630723Z",
     "start_time": "2017-04-22T19:48:56.626147Z"
    },
    "collapsed": true
   },
   "outputs": [],
   "source": [
    "for i in range(1,len(df)):\n",
    "    for j in range(2,numcol-1):\n",
    "        df=df.set_value(i-1,liskeys[j],w.children[j].children[i].value) "
   ]
  }
 ],
 "metadata": {
  "kernelspec": {
   "display_name": "Python 3 (Ubuntu Linux)",
   "language": "python",
   "name": "python3"
  },
  "language_info": {
   "codemirror_mode": {
    "name": "ipython",
    "version": 3
   },
   "file_extension": ".py",
   "mimetype": "text/x-python",
   "name": "python",
   "nbconvert_exporter": "python",
   "pygments_lexer": "ipython3",
   "version": "3.4.3+"
  },
  "latex_envs": {
   "bibliofile": "biblio.bib",
   "cite_by": "apalike",
   "current_citInitial": 1,
   "eqLabelWithNumbers": true,
   "eqNumInitial": 0
  }
 },
 "nbformat": 4,
 "nbformat_minor": 2
}
