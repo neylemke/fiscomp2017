{
 "cells": [
  {
   "cell_type": "markdown",
   "metadata": {
    "slideshow": {
     "slide_type": "slide"
    }
   },
   "source": [
    "# Projeto Jupyter Notebook e Interface do SageMathCloud\n"
   ]
  },
  {
   "cell_type": "markdown",
   "metadata": {
    "slideshow": {
     "slide_type": "subslide"
    }
   },
   "source": [
    "## Executando o modo de comando (**code**).\n",
    "\n",
    "- Primeiro e acima de tudo, o Notebook Jupyter é um ambiente interativo para escrever e executar código. O notebook é capaz de executar código em uma ampla gama de idiomas. No entanto, cada notebook está associado a um único kernel. Este bloco de notas está associado ao kernel do IPython, portanto executa código Python.\n",
    "\n",
    "- As células de código permitem que você digite e execute o código. Execute uma célula de código usando **Shift-Enter**"
   ]
  },
  {
   "cell_type": "code",
   "execution_count": 3,
   "metadata": {
    "collapsed": false,
    "slideshow": {
     "slide_type": "-"
    }
   },
   "outputs": [
    {
     "name": "stdout",
     "output_type": "stream",
     "text": [
      "Hello world!\n"
     ]
    }
   ],
   "source": [
    "print (\"Hello world!\")"
   ]
  },
  {
   "cell_type": "markdown",
   "metadata": {
    "slideshow": {
     "slide_type": "subslide"
    }
   },
   "source": [
    "Existem dois outros atalhos de teclado para executar o código:\n",
    "  - ** Alt-Enter** executa a célula atual e insere uma nova abaixo.\n",
    "  - ** Ctrl-Enter** executa a célula atual e entra no modo de comando."
   ]
  },
  {
   "cell_type": "markdown",
   "metadata": {
    "slideshow": {
     "slide_type": "subslide"
    }
   },
   "source": [
    "## Executando o modo de Mardown.\n",
    "- O texto pode ser adicionado aos notebooks Jupyter usando células Markdown. Markdown é uma linguagem de marcação popular que é um superconjunto de HTML. Sua especificação pode ser encontrada aqui:\n",
    "\n",
    "Http://daringfireball.net/projects/markdown/"
   ]
  },
  {
   "cell_type": "markdown",
   "metadata": {
    "slideshow": {
     "slide_type": "subslide"
    }
   },
   "source": [
    "**1. Dar ênfase ao texto**\n",
    "\n",
    "- Você pode fazer o texto em *itálico* ou em **negrito**.\n",
    "![M1](m1.png)\n"
   ]
  },
  {
   "cell_type": "markdown",
   "metadata": {
    "slideshow": {
     "slide_type": "-"
    }
   },
   "source": [
    "- A ênfase pode ser adicionada a palavras únicas, a uma sequência de palavras, ou mesmo às partes das palavras:\n",
    "\n",
    "![M2](m2.png)\n"
   ]
  },
  {
   "cell_type": "markdown",
   "metadata": {
    "slideshow": {
     "slide_type": "subslide"
    }
   },
   "source": [
    "**2. Título **\n",
    "\n",
    "- Markdown permite subdividir o texto com títulos; estão disponíveis seis níveis diferentes, embora não seja comum que um texto normal use mais de três. Por exemplo, há três níveis de título usados no texto que está a ler actualmente.\n",
    "\n",
    "- Pode criar um título começando uma linha com um ou vários caracteres #. Usa-se um único caracter # para o título principal, e quantos mais caracteres # usar, menos importante será o título.\n",
    "\n",
    "![M3](m3.png)"
   ]
  },
  {
   "cell_type": "markdown",
   "metadata": {
    "slideshow": {
     "slide_type": "subslide"
    }
   },
   "source": [
    "**3. Equações em LaTeX**\n",
    "\n",
    "\n",
    "Cortesia de MathJax, você pode incluir expressões matemáticas tanto inline: $ e^{i \\pi} + 1 = 0 $ quanto em uma linha separada. Basta colocar a qualquer equação entre os simbolos \"$$\":\n",
    "\n",
    "$$ e^x = \\sum_{i = 0}^ \\infty \\frac{1}{i!} x ^i $$\n",
    "\n",
    "\n",
    "ou ainda:\n",
    "\n",
    "$$\\hat{f}(\\xi) = \\int_{-\\infty}^{+\\infty} f(x)\\, \\mathrm{e}^{-i \\xi x}$$\n",
    "\n",
    "\n",
    "** Mais informações:** \n",
    "- http://www.cercifaf.org.pt/moodle/help.php?file=markdown.html\n",
    "-    http://www.math.uiuc.edu/~ajh/tex/course/intro2.html\n"
   ]
  },
  {
   "cell_type": "markdown",
   "metadata": {
    "slideshow": {
     "slide_type": "subslide"
    }
   },
   "source": [
    "## Comandos Mágicos\n",
    "\n",
    "- O IPython não só aceita o código Python, mas também comandos shell. Esses são definidos pelo sistema operacional (Windows, Linux, Mac OS X, etc.). Nós primeiro tipo! Em uma célula antes de digitar o comando shell. Aqui, obtemos a lista de notebooks no diretório atual."
   ]
  },
  {
   "cell_type": "code",
   "execution_count": 4,
   "metadata": {
    "collapsed": false
   },
   "outputs": [
    {
     "name": "stdout",
     "output_type": "stream",
     "text": [
      "Interfacejupyter.parte2.ipynb\r\n"
     ]
    }
   ],
   "source": [
    "!ls *.ipynb"
   ]
  },
  {
   "cell_type": "markdown",
   "metadata": {
    "slideshow": {
     "slide_type": "subslide"
    }
   },
   "source": [
    "- O IPython vem com uma biblioteca de comandos mágicos. Esses comandos são atalhos convenientes para ações comuns. Todos eles começam com% (% de caracteres). Você pode obter a lista de todos os comandos mágicos com % lsmagic."
   ]
  },
  {
   "cell_type": "code",
   "execution_count": 2,
   "metadata": {
    "collapsed": false,
    "slideshow": {
     "slide_type": "subslide"
    }
   },
   "outputs": [
    {
     "data": {
      "application/json": {
       "cell": {
        "!": "OSMagics",
        "HTML": "Other",
        "SVG": "Other",
        "bash": "Other",
        "capture": "ExecutionMagics",
        "debug": "ExecutionMagics",
        "file": "Other",
        "html": "DisplayMagics",
        "javascript": "DisplayMagics",
        "js": "DisplayMagics",
        "latex": "DisplayMagics",
        "perl": "Other",
        "prun": "ExecutionMagics",
        "pypy": "Other",
        "python": "Other",
        "python2": "Other",
        "python3": "Other",
        "ruby": "Other",
        "script": "ScriptMagics",
        "sh": "Other",
        "svg": "DisplayMagics",
        "sx": "OSMagics",
        "system": "OSMagics",
        "time": "ExecutionMagics",
        "timeit": "ExecutionMagics",
        "writefile": "OSMagics"
       },
       "line": {
        "alias": "OSMagics",
        "alias_magic": "BasicMagics",
        "autocall": "AutoMagics",
        "automagic": "AutoMagics",
        "autosave": "KernelMagics",
        "bookmark": "OSMagics",
        "cat": "Other",
        "cd": "OSMagics",
        "clear": "KernelMagics",
        "colors": "BasicMagics",
        "config": "ConfigMagics",
        "connect_info": "KernelMagics",
        "cp": "Other",
        "debug": "ExecutionMagics",
        "dhist": "OSMagics",
        "dirs": "OSMagics",
        "doctest_mode": "BasicMagics",
        "ed": "Other",
        "edit": "KernelMagics",
        "env": "OSMagics",
        "gui": "BasicMagics",
        "hist": "Other",
        "history": "HistoryMagics",
        "killbgscripts": "ScriptMagics",
        "ldir": "Other",
        "less": "KernelMagics",
        "lf": "Other",
        "lk": "Other",
        "ll": "Other",
        "load": "CodeMagics",
        "load_ext": "ExtensionMagics",
        "loadpy": "CodeMagics",
        "logoff": "LoggingMagics",
        "logon": "LoggingMagics",
        "logstart": "LoggingMagics",
        "logstate": "LoggingMagics",
        "logstop": "LoggingMagics",
        "ls": "Other",
        "lsmagic": "BasicMagics",
        "lx": "Other",
        "macro": "ExecutionMagics",
        "magic": "BasicMagics",
        "man": "KernelMagics",
        "matplotlib": "PylabMagics",
        "mkdir": "Other",
        "more": "KernelMagics",
        "mv": "Other",
        "notebook": "BasicMagics",
        "page": "BasicMagics",
        "pastebin": "CodeMagics",
        "pdb": "ExecutionMagics",
        "pdef": "NamespaceMagics",
        "pdoc": "NamespaceMagics",
        "pfile": "NamespaceMagics",
        "pinfo": "NamespaceMagics",
        "pinfo2": "NamespaceMagics",
        "popd": "OSMagics",
        "pprint": "BasicMagics",
        "precision": "BasicMagics",
        "profile": "BasicMagics",
        "prun": "ExecutionMagics",
        "psearch": "NamespaceMagics",
        "psource": "NamespaceMagics",
        "pushd": "OSMagics",
        "pwd": "OSMagics",
        "pycat": "OSMagics",
        "pylab": "PylabMagics",
        "qtconsole": "KernelMagics",
        "quickref": "BasicMagics",
        "recall": "HistoryMagics",
        "rehashx": "OSMagics",
        "reload_ext": "ExtensionMagics",
        "rep": "Other",
        "rerun": "HistoryMagics",
        "reset": "NamespaceMagics",
        "reset_selective": "NamespaceMagics",
        "rm": "Other",
        "rmdir": "Other",
        "run": "ExecutionMagics",
        "save": "CodeMagics",
        "sc": "OSMagics",
        "set_env": "OSMagics",
        "store": "StoreMagics",
        "sx": "OSMagics",
        "system": "OSMagics",
        "tb": "ExecutionMagics",
        "time": "ExecutionMagics",
        "timeit": "ExecutionMagics",
        "unalias": "OSMagics",
        "unload_ext": "ExtensionMagics",
        "who": "NamespaceMagics",
        "who_ls": "NamespaceMagics",
        "whos": "NamespaceMagics",
        "xdel": "NamespaceMagics",
        "xmode": "BasicMagics"
       }
      },
      "text/plain": [
       "Available line magics:\n",
       "%alias  %alias_magic  %autocall  %automagic  %autosave  %bookmark  %cat  %cd  %clear  %colors  %config  %connect_info  %cp  %debug  %dhist  %dirs  %doctest_mode  %ed  %edit  %env  %gui  %hist  %history  %killbgscripts  %ldir  %less  %lf  %lk  %ll  %load  %load_ext  %loadpy  %logoff  %logon  %logstart  %logstate  %logstop  %ls  %lsmagic  %lx  %macro  %magic  %man  %matplotlib  %mkdir  %more  %mv  %notebook  %page  %pastebin  %pdb  %pdef  %pdoc  %pfile  %pinfo  %pinfo2  %popd  %pprint  %precision  %profile  %prun  %psearch  %psource  %pushd  %pwd  %pycat  %pylab  %qtconsole  %quickref  %recall  %rehashx  %reload_ext  %rep  %rerun  %reset  %reset_selective  %rm  %rmdir  %run  %save  %sc  %set_env  %store  %sx  %system  %tb  %time  %timeit  %unalias  %unload_ext  %who  %who_ls  %whos  %xdel  %xmode\n",
       "\n",
       "Available cell magics:\n",
       "%%!  %%HTML  %%SVG  %%bash  %%capture  %%debug  %%file  %%html  %%javascript  %%js  %%latex  %%perl  %%prun  %%pypy  %%python  %%python2  %%python3  %%ruby  %%script  %%sh  %%svg  %%sx  %%system  %%time  %%timeit  %%writefile\n",
       "\n",
       "Automagic is ON, % prefix IS NOT needed for line magics."
      ]
     },
     "execution_count": 2,
     "metadata": {},
     "output_type": "execute_result"
    }
   ],
   "source": [
    "%lsmagic"
   ]
  },
  {
   "cell_type": "markdown",
   "metadata": {
    "slideshow": {
     "slide_type": "subslide"
    }
   },
   "source": [
    "**1. Células mágicas**\n",
    "\n",
    "- AS células mágicas tem um prefixo ** %%**: eles se aplicam a uma célula inteira no caderno.\n",
    "- Por exemplo, célula mágica **%% writefile** permite que você crie um arquivo de texto facilmente. Este comando mágico aceita um nome de arquivo como argumento. \n",
    "- Todas as linhas restantes na célula são gravadas diretamente neste arquivo de texto. Aqui, criamos um arquivo **test.txt** e escrevemos: **Hello world!**."
   ]
  },
  {
   "cell_type": "markdown",
   "metadata": {
    "slideshow": {
     "slide_type": "subslide"
    }
   },
   "source": [
    "** Vamos criar um arquivo de texto**"
   ]
  },
  {
   "cell_type": "code",
   "execution_count": 3,
   "metadata": {
    "collapsed": false,
    "slideshow": {
     "slide_type": "subslide"
    }
   },
   "outputs": [
    {
     "name": "stdout",
     "output_type": "stream",
     "text": [
      "Overwriting test.txt\n"
     ]
    }
   ],
   "source": [
    "%%writefile test.txt\n",
    "Hello world!"
   ]
  },
  {
   "cell_type": "markdown",
   "metadata": {
    "slideshow": {
     "slide_type": "subslide"
    }
   },
   "source": [
    " **Vamos verificar o conteúdo deste arquivo**"
   ]
  },
  {
   "cell_type": "code",
   "execution_count": 4,
   "metadata": {
    "collapsed": false,
    "slideshow": {
     "slide_type": "subslide"
    }
   },
   "outputs": [
    {
     "name": "stdout",
     "output_type": "stream",
     "text": [
      "Hello world!\n"
     ]
    }
   ],
   "source": [
    "with open('test.txt', 'r') as f:\n",
    "    print(f.read())"
   ]
  },
  {
   "cell_type": "markdown",
   "metadata": {
    "slideshow": {
     "slide_type": "subslide"
    }
   },
   "source": [
    "- Como você pode ver na saída de **%lsmagic**, há muitos comandos mágicos em IPython. Você pode encontrar mais informações sobre qualquer comando adicionando? Sim. Por exemplo, aqui está como obter ajuda sobre o comando `command?`:"
   ]
  },
  {
   "cell_type": "code",
   "execution_count": 12,
   "metadata": {
    "collapsed": false
   },
   "outputs": [],
   "source": [
    "%run?"
   ]
  },
  {
   "cell_type": "code",
   "execution_count": 5,
   "metadata": {
    "collapsed": true,
    "slideshow": {
     "slide_type": "subslide"
    }
   },
   "outputs": [],
   "source": [
    "from __future__ import print_function\n",
    "from IPython.core import page\n",
    "page.page = print"
   ]
  },
  {
   "cell_type": "markdown",
   "metadata": {
    "slideshow": {
     "slide_type": "subslide"
    }
   },
   "source": [
    "- Nós cobrimos o básico do IPython no notebook. Vejamos agora a rica exibição de recursos interativos do notebook. Até agora, criamos apenas células de código, ou seja, células que contêm ... código. \n",
    "- Existem outros tipos de células, notadamente células Markdown. Aqueles contêm texto rico formatado com Markdown, uma sintaxe de formatação de texto simples popular. \n",
    "- Este formato suporta texto normal, cabeçalhos, negrito, itálico, links de hipertexto, imagens, equações matemáticas no LaTeX, código, elementos HTML e outros recursos, conforme mostrado abaixo.\n"
   ]
  },
  {
   "cell_type": "markdown",
   "metadata": {
    "slideshow": {
     "slide_type": "subslide"
    }
   },
   "source": [
    "### Código\n",
    "\n",
    "\n",
    "```python\n",
    "print(\"Hello world!\")\n",
    "```"
   ]
  },
  {
   "cell_type": "markdown",
   "metadata": {
    "slideshow": {
     "slide_type": "subslide"
    }
   },
   "source": [
    "### Imagens\n",
    "\n",
    "![This is an image](http://ipython.org/_static/IPy_header.png)"
   ]
  },
  {
   "cell_type": "markdown",
   "metadata": {
    "slideshow": {
     "slide_type": "subslide"
    }
   },
   "source": [
    "Combinando células de código e células de Markdown, você pode criar um documento interativo autônomo que combina computações (código), texto e gráficos.\n",
    "\n",
    "**1. Isso era para as células do Markdown. O IPython também vem com um sofisticado sistema de exibição que permite inserir elementos ricos na web no notebook. Aqui, mostramos como adicionar HTML, SVG (Scalable Vector Graphics) e até mesmo vídeos do Youtube em um notebook.**\n",
    "\n",
    "Primeiro, precisamos importar algumas classes.\n",
    "Dentro [ ]:"
   ]
  },
  {
   "cell_type": "code",
   "execution_count": 5,
   "metadata": {
    "collapsed": true,
    "slideshow": {
     "slide_type": "slide"
    }
   },
   "outputs": [],
   "source": [
    "from IPython.display import HTML, SVG, YouTubeVideo"
   ]
  },
  {
   "cell_type": "markdown",
   "metadata": {
    "slideshow": {
     "slide_type": "subslide"
    }
   },
   "source": [
    "Criamos uma tabela HTML dinamicamente com o Python, e a exibimos no bloco de notas (baseado em HTML)."
   ]
  },
  {
   "cell_type": "code",
   "execution_count": 7,
   "metadata": {
    "collapsed": false,
    "slideshow": {
     "slide_type": "subslide"
    }
   },
   "outputs": [
    {
     "data": {
      "text/html": [
       "\n",
       "<table style=\"border: 2px solid black;\">\n",
       "<tr><td>0,0</td><td>0,1</td><td>0,2</td><td>0,3</td><td>0,4</td></tr><tr><td>1,0</td><td>1,1</td><td>1,2</td><td>1,3</td><td>1,4</td></tr><tr><td>2,0</td><td>2,1</td><td>2,2</td><td>2,3</td><td>2,4</td></tr><tr><td>3,0</td><td>3,1</td><td>3,2</td><td>3,3</td><td>3,4</td></tr><tr><td>4,0</td><td>4,1</td><td>4,2</td><td>4,3</td><td>4,4</td></tr>\n",
       "</table>\n"
      ],
      "text/plain": [
       "<IPython.core.display.HTML object>"
      ]
     },
     "execution_count": 7,
     "metadata": {},
     "output_type": "execute_result"
    }
   ],
   "source": [
    "HTML('''\n",
    "<table style=\"border: 2px solid black;\">\n",
    "''' + \n",
    "''.join(['<tr>' + \n",
    "         ''.join(['<td>{row},{col}</td>'.format(\n",
    "            row=row, col=col\n",
    "            ) for col in range(5)]) +\n",
    "         '</tr>' for row in range(5)]) +\n",
    "'''\n",
    "</table>\n",
    "''')"
   ]
  },
  {
   "cell_type": "markdown",
   "metadata": {
    "slideshow": {
     "slide_type": "subslide"
    }
   },
   "source": [
    "Agora, ilustramos os recursos interativos mais recentes no IPython 2.0+. Esta versão traz widgets gráficos no notebook que podem interagir com objetos Python. Vamos criar um menu drop-down que nos permite exibir um entre vários vídeos."
   ]
  },
  {
   "cell_type": "code",
   "execution_count": 6,
   "metadata": {
    "collapsed": true,
    "slideshow": {
     "slide_type": "subslide"
    }
   },
   "outputs": [],
   "source": [
    "from collections import OrderedDict\n",
    "from IPython.display import display, clear_output\n",
    "from ipywidgets import Dropdown\n",
    "#from IPython.html.widgets import DropdownWidget # IPython < 4.x"
   ]
  },
  {
   "cell_type": "code",
   "execution_count": 7,
   "metadata": {
    "collapsed": false,
    "slideshow": {
     "slide_type": "subslide"
    }
   },
   "outputs": [
    {
     "data": {
      "image/jpeg": "[encoded data removed]",
      "text/html": [
       "\n",
       "        <iframe\n",
       "            width=\"400\"\n",
       "            height=\"300\"\n",
       "            src=\"https://www.youtube.com/embed/iwVvqwLDsJo\"\n",
       "            frameborder=\"0\"\n",
       "            allowfullscreen\n",
       "        ></iframe>\n",
       "        "
      ],
      "text/plain": [
       "<IPython.lib.display.YouTubeVideo at 0x7f86a94c8518>"
      ]
     },
     "metadata": {},
     "output_type": "display_data"
    }
   ],
   "source": [
    "# We create a Dropdown widget, with a dictionary containing\n",
    "# the keys (video name) and the values (Youtube identifier) \n",
    "# of every menu item.\n",
    "dw = Dropdown(options=OrderedDict([\n",
    "# dw = DropdownWidget(values=OrderedDict([ # IPython < 4.x\n",
    "                        ('SciPy 2012', 'iwVvqwLDsJo'), \n",
    "                        ('PyCon 2012', '2G5YTlheCbw'),\n",
    "                        ('SciPy 2013', 'j9YpkSX7NNM')]))\n",
    "# We create a callback function that displays the requested\n",
    "# Youtube video.\n",
    "def on_value_change(name, val):\n",
    "    clear_output()\n",
    "    display(YouTubeVideo(val))\n",
    "# Every time the user selects an item, the function\n",
    "# `on_value_change` is called, and the `val` argument\n",
    "# contains the value of the selected item.the function\n",
    "# `on_value_change` is called, and the `val` argument\n",
    "# contains the value of the selected item.\n",
    "dw.on_trait_change(on_value_change, 'value')\n",
    "# We choose a default value.\n",
    "dw.value = dw.options['SciPy 2013']\n",
    "# dw.value = dw.values['SciPy 2013'] # IPyhon < 4.x\n",
    "# Finally, we display the widget.\n",
    "display(dw)"
   ]
  },
  {
   "cell_type": "markdown",
   "metadata": {
    "slideshow": {
     "slide_type": "slide"
    }
   },
   "source": [
    "## Números e operações matemáticas\n",
    "\n",
    "**1. Operacões básicas**\n",
    "\n",
    "- As expressões do Python assemelha-se à notação matemáticas usuais:\n",
    "\n",
    "| Operador  | Descrição |\n",
    "| ------------- | ------------- |\n",
    "| +  | Adição  |\n",
    "| *  | Multiplicação  |\n",
    "| / | Divisão |\n",
    "| ** | Exponenciação |\n",
    "| % | Resto |"
   ]
  },
  {
   "cell_type": "markdown",
   "metadata": {},
   "source": []
  },
  {
   "cell_type": "markdown",
   "metadata": {
    "slideshow": {
     "slide_type": "subslide"
    }
   },
   "source": [
    "**2. Atribuição de objetos a variáveis nomeadas**\n",
    "- cria novas variáveis e dá a elas valores:"
   ]
  },
  {
   "cell_type": "code",
   "execution_count": 10,
   "metadata": {
    "collapsed": false,
    "slideshow": {
     "slide_type": "subslide"
    }
   },
   "outputs": [
    {
     "name": "stdout",
     "output_type": "stream",
     "text": [
      "E aí, Doutor?\n"
     ]
    }
   ],
   "source": [
    "mensagem = \"E aí, Doutor?\"\n",
    "n = 17\n",
    "pi = 3.14159\n",
    "print (mensagem)"
   ]
  },
  {
   "cell_type": "markdown",
   "metadata": {
    "slideshow": {
     "slide_type": "subslide"
    }
   },
   "source": [
    "- Este exemplo faz três atribuições.\n",
    "\n",
    "![atribuições](atrib.png)"
   ]
  },
  {
   "cell_type": "markdown",
   "metadata": {
    "slideshow": {
     "slide_type": "subslide"
    }
   },
   "source": [
    " **Exemplo 1.** Leia duas variáveis reais a e b, troque seus conteúdos e Imprima os valores trocados."
   ]
  },
  {
   "cell_type": "code",
   "execution_count": 11,
   "metadata": {
    "collapsed": false,
    "slideshow": {
     "slide_type": "subslide"
    }
   },
   "outputs": [
    {
     "name": "stdout",
     "output_type": "stream",
     "text": [
      "1\n",
      "7\n"
     ]
    }
   ],
   "source": [
    "a=1\n",
    "b=7\n",
    "print (a)\n",
    "print (b)"
   ]
  },
  {
   "cell_type": "code",
   "execution_count": 12,
   "metadata": {
    "collapsed": false,
    "slideshow": {
     "slide_type": "subslide"
    }
   },
   "outputs": [
    {
     "name": "stdout",
     "output_type": "stream",
     "text": [
      "7\n",
      "1\n"
     ]
    }
   ],
   "source": [
    "aux=7\n",
    "b=1\n",
    "a=aux\n",
    "print (a)\n",
    "print (b)"
   ]
  },
  {
   "cell_type": "markdown",
   "metadata": {
    "slideshow": {
     "slide_type": "slide"
    }
   },
   "source": [
    "## Exercícios \n",
    "\n",
    "- Crie um novo jupyter notebook e o nomeie **\"exercíciosdaaula27.03.2017\"**em **new** e utilizando-se do modo Markdown escreva um título com nome: **Física Computacional 2017** e subtitulo escrito **Explorando a interface do SageMathCloud**. \n",
    "- Ainda no mesmo notebook, porém em outro **kernel** escreva a equação abaixo em LaTeX: \n",
    "![eq. Latex](exc5.png)\n"
   ]
  },
  {
   "cell_type": "markdown",
   "metadata": {
    "slideshow": {
     "slide_type": "subslide"
    }
   },
   "source": [
    "- Faça o download de uma figura qualquer da internet e coloque dentro do diretório de respostas ou exercícios de aula. Após isto, incluia esta imagem no mesmo notebook dos exercícios a cima. (Dica: Procure como incluir figuras em no modo Markdown no help do jupyter notebook ou na internet).\n",
    "- Utilizando o comando **writefile** crie um arquivo de texto com a frase: **Física Computacional 2017** e salve no diretório de respostas, utilizando-se do mesmo notebook usado nos outros exercícios. Salve este notebook com a data de hoje no diretório de respostas.\n"
   ]
  },
  {
   "cell_type": "markdown",
   "metadata": {
    "slideshow": {
     "slide_type": "subslide"
    }
   },
   "source": [
    "## Desafio valendo 0.25 pontos (Pode ser feito em casa)\n",
    "\n",
    "** Crie um novo notebook com nome desafio na pasta respostas ou faça via jupyter notebook e envie na pasta respostas os seguntes exercícios:**\n",
    "\n",
    "- Imprima a quantidade de litros de combustível gasta em uma viagem, utilizando um automóvel que faz 12Km por litro. Para obter o cálculo, o usuário deve fornecer o tempo gasto na viagem e a velocidade média durante ela. Desta forma, será possível obter a distância percorrida com a fórmula **DISTANCIA = TEMPO * VELOCIDADE**. Tendo o valor da distância, basta calcular a quantidade de litros de combustível utilizada na viagem com a fórmula: **LITROS_USADOS = DISTANCIA / 12**. O programa deve apresentar os valores da velocidade média, tempo gasto na viagem, a distância percorrida e a quantidade de litros utilizada na viagem. \n",
    "\n",
    "- Calcule e Imprima o volume de uma esfera de raio R, onde R é um dado fornecido pelo usuário. O volume da esfera é dado por: \n",
    "$V=4\\pi R^3/3$\n"
   ]
  },
  {
   "cell_type": "markdown",
   "metadata": {
    "slideshow": {
     "slide_type": "subslide"
    }
   },
   "source": [
    "IPython Cookbook, by Cyrille Rossant, Packt Publishing, 2014 (500 pages)."
   ]
  }
 ],
 "metadata": {
  "celltoolbar": "Slideshow",
  "kernelspec": {
   "display_name": "Python 3",
   "language": "python",
   "name": "python3"
  },
  "language_info": {
   "codemirror_mode": {
    "name": "ipython",
    "version": 3
   },
   "file_extension": ".py",
   "mimetype": "text/x-python",
   "name": "python",
   "nbconvert_exporter": "python",
   "pygments_lexer": "ipython3",
   "version": "3.4.3+"
  },
  "widgets": {
   "state": {
    "f9ca3e95d380446f9b3e6dca140cb390": {
     "views": [
      {
       "cell_index": 52
      }
     ]
    }
   },
   "version": "1.2.0"
  }
 },
 "nbformat": 4,
 "nbformat_minor": 2
}
