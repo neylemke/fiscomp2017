{
 "cells": [
  {
   "cell_type": "markdown",
   "metadata": {
    "collapsed": false
   },
   "source": [
    "**1. Encontre índices de elementos não nulos de [1,2,0,0,4,0]**"
   ]
  },
  {
   "cell_type": "code",
   "execution_count": 5,
   "metadata": {
    "collapsed": true
   },
   "outputs": [
   ],
   "source": [
    "import numpy as np"
   ]
  },
  {
   "cell_type": "code",
   "execution_count": 6,
   "metadata": {
    "collapsed": false
   },
   "outputs": [
    {
     "name": "stdout",
     "output_type": "stream",
     "text": [
      "(array([0, 1, 4], dtype=int64),)\n"
     ]
    }
   ],
   "source": [
    "   print(np.nonzero([1,2,0,0,4,0]))"
   ]
  },
  {
   "cell_type": "markdown",
   "metadata": {
    "collapsed": false
   },
   "source": [
    "**2. Extrair a parte inteira de uma matriz aleatória**"
   ]
  },
  {
   "cell_type": "code",
   "execution_count": 14,
   "metadata": {
    "collapsed": false
   },
   "outputs": [
    {
     "data": {
      "text/plain": [
       "array([ 8.44303513,  5.12459962,  2.01062199,  3.44548624,  3.47675991,\n",
       "        6.33233793,  3.41756218,  9.16345642,  2.00094682,  7.61086977])"
      ]
     },
     "execution_count": 14,
     "metadata": {
     },
     "output_type": "execute_result"
    }
   ],
   "source": [
    "Z = np.random.uniform(0,10,10)\n",
    "Z"
   ]
  },
  {
   "cell_type": "code",
   "execution_count": 12,
   "metadata": {
    "collapsed": false
   },
   "outputs": [
    {
     "name": "stdout",
     "output_type": "stream",
     "text": [
      "[ 1.  6.  5.  5.  6.  3.  2.  8.  4.  4.]\n",
      "[ 1.  6.  5.  5.  6.  3.  2.  8.  4.  4.]\n",
      "[ 1.  6.  5.  5.  6.  3.  2.  8.  4.  4.]\n",
      "[1 6 5 5 6 3 2 8 4 4]\n",
      "[ 1.  6.  5.  5.  6.  3.  2.  8.  4.  4.]\n"
     ]
    }
   ],
   "source": [
    "Z = np.random.uniform(0,10,10)\n",
    "\n",
    "print (Z - Z%1)\n",
    "print (np.floor(Z))\n",
    "print (np.ceil(Z)-1)\n",
    "print (Z.astype(int))\n",
    "print (np.trunc(Z))"
   ]
  },
  {
   "cell_type": "markdown",
   "metadata": {
    "collapsed": false
   },
   "source": [
    "**3.Considere uma matriz aleatória de 10 × 2 que represente coordenadas cartesianas, converta-as em coordenadas polares**"
   ]
  },
  {
   "cell_type": "code",
   "execution_count": 7,
   "metadata": {
    "collapsed": false
   },
   "outputs": [
    {
     "name": "stdout",
     "output_type": "stream",
     "text": [
      "[ 0.70572269  0.84270851  0.51815126  0.38575276  1.14546251  0.86407435\n",
      "  0.85821975  1.16828477  0.81457837  0.75459189]\n",
      "[ 0.72263471  0.09028829  0.47966553  1.15336942  0.93013364  1.42822967\n",
      "  0.36675399  0.80155927  0.62843482  0.93459713]\n"
     ]
    }
   ],
   "source": [
    "Z = np.random.random((10,2))\n",
    "X,Y = Z[:,0], Z[:,1]\n",
    "R = np.sqrt(X**2+Y**2)\n",
    "T = np.arctan2(Y,X)\n",
    "print(R)\n",
    "print(T)"
   ]
  },
  {
   "cell_type": "markdown",
   "metadata": {
    "collapsed": false
   },
   "source": [
    "**4. Considere um vetor aleatório com forma (100,2) representando coordenadas, encontre as distâncias entre todos os pontos**"
   ]
  },
  {
   "cell_type": "code",
   "execution_count": 8,
   "metadata": {
    "collapsed": false
   },
   "outputs": [
    {
     "name": "stdout",
     "output_type": "stream",
     "text": [
      "[[ 0.          1.08058978  1.18631344  0.99535669  0.58460278  0.67981756\n",
      "   0.78263314  0.80568867  0.75837626  0.69775516]\n",
      " [ 1.08058978  0.          0.1222127   0.48417632  0.87444756  0.43114837\n",
      "   0.35683297  0.82005477  0.45032591  0.45175163]\n",
      " [ 1.18631344  0.1222127   0.          0.48143017  0.93381425  0.55020701\n",
      "   0.43197763  0.85091138  0.57235948  0.52882497]\n",
      " [ 0.99535669  0.48417632  0.48143017  0.          0.54630036  0.61243651\n",
      "   0.30595227  0.39549439  0.72678592  0.33568828]\n",
      " [ 0.58460278  0.87444756  0.93381425  0.54630036  0.          0.67969959\n",
      "   0.51984588  0.22894054  0.81907889  0.43102424]\n",
      " [ 0.67981756  0.43114837  0.55020701  0.61243651  0.67969959  0.\n",
      "   0.30728891  0.7458129   0.14118133  0.31642927]\n",
      " [ 0.78263314  0.35683297  0.43197763  0.30595227  0.51984588  0.30728891\n",
      "   0.          0.49996257  0.42887659  0.09686306]\n",
      " [ 0.80568867  0.82005477  0.85091138  0.39549439  0.22894054  0.7458129\n",
      "   0.49996257  0.          0.88593947  0.4398342 ]\n",
      " [ 0.75837626  0.45032591  0.57235948  0.72678592  0.81907889  0.14118133\n",
      "   0.42887659  0.88593947  0.          0.45231642]\n",
      " [ 0.69775516  0.45175163  0.52882497  0.33568828  0.43102424  0.31642927\n",
      "   0.09686306  0.4398342   0.45231642  0.        ]]\n",
      "[[ 0.          0.13870697  0.46176272  0.2149135   0.68354195  0.63301733\n",
      "   0.53608719  0.32240076  0.82018456  0.13960261]\n",
      " [ 0.13870697  0.          0.40174762  0.35007661  0.54772651  0.52253252\n",
      "   0.52632547  0.2981125   0.68415706  0.0512209 ]\n",
      " [ 0.46176272  0.40174762  0.          0.56360607  0.65693674  0.78044507\n",
      "   0.92174031  0.69467764  0.59992669  0.35669466]\n",
      " [ 0.2149135   0.35007661  0.56360607  0.          0.89751183  0.84122641\n",
      "   0.6649533   0.48753785  1.0164781   0.33625244]\n",
      " [ 0.68354195  0.54772651  0.65693674  0.89751183  0.          0.26430017\n",
      "   0.69323711  0.57525518  0.30247309  0.56948121]\n",
      " [ 0.63301733  0.52253252  0.78044507  0.84122641  0.26430017  0.\n",
      "   0.45898951  0.40884409  0.56595461  0.56336587]\n",
      " [ 0.53608719  0.52632547  0.92174031  0.6649533   0.69323711  0.45898951\n",
      "   0.          0.2282498   0.97043781  0.5763301 ]\n",
      " [ 0.32240076  0.2981125   0.69467764  0.48753785  0.57525518  0.40884409\n",
      "   0.2282498   0.          0.81502319  0.3482944 ]\n",
      " [ 0.82018456  0.68415706  0.59992669  1.0164781   0.30247309  0.56595461\n",
      "   0.97043781  0.81502319  0.          0.68362042]\n",
      " [ 0.13960261  0.0512209   0.35669466  0.33625244  0.56948121  0.56336587\n",
      "   0.5763301   0.3482944   0.68362042  0.        ]]\n"
     ]
    }
   ],
   "source": [
    "Z = np.random.random((10,2))\n",
    "X,Y = np.atleast_2d(Z[:,0]), np.atleast_2d(Z[:,1])\n",
    "D = np.sqrt( (X-X.T)**2 + (Y-Y.T)**2)\n",
    "print(D)\n",
    "\n",
    "# Much faster with scipy\n",
    "import scipy\n",
    "# Thanks Gavin Heverly-Coulson (#issue 1)\n",
    "import scipy.spatial\n",
    "\n",
    "Z = np.random.random((10,2))\n",
    "D = scipy.spatial.distance.cdist(Z,Z)\n",
    "print(D)"
   ]
  },
  {
   "cell_type": "markdown",
   "metadata": {
    "collapsed": false
   },
   "source": [
    "**5. Considere o vetor [1, 2, 3, 4, 5], como construir um novo vetor com 3 zeros consecutivos intercalados entre cada valor**"
   ]
  },
  {
   "cell_type": "code",
   "execution_count": 9,
   "metadata": {
    "collapsed": false
   },
   "outputs": [
    {
     "name": "stdout",
     "output_type": "stream",
     "text": [
      "[ 1.  0.  0.  0.  2.  0.  0.  0.  3.  0.  0.  0.  4.  0.  0.  0.  5.]\n"
     ]
    }
   ],
   "source": [
    "Z = np.array([1,2,3,4,5])\n",
    "nz = 3\n",
    "Z0 = np.zeros(len(Z) + (len(Z)-1)*(nz))\n",
    "Z0[::nz+1] = Z\n",
    "print(Z0)"
   ]
  }
 ],
 "metadata": {
  "kernelspec": {
   "display_name": "T - Python 3 (Ubuntu Linux)",
   "language": "python",
   "name": "python3"
  },
  "language_info": {
   "codemirror_mode": {
    "name": "ipython",
    "version": 3
   },
   "file_extension": ".py",
   "mimetype": "text/x-python",
   "name": "python",
   "nbconvert_exporter": "python",
   "pygments_lexer": "ipython3",
   "version": "3.4.3+"
  }
 },
 "nbformat": 4,
 "nbformat_minor": 0
}