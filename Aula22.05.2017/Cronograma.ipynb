{
 "cells": [
  {
   "cell_type": "markdown",
   "metadata": {
    "collapsed": true
   },
   "source": [
    "# Cronograma da Disciplina"
   ]
  },
  {
   "cell_type": "markdown",
   "metadata": {},
   "source": [
    "## Notebooks\n",
    "\n",
    "- [Configuração](https://cloud.sagemath.com/projects/da4b09c7-73a7-4027-ac2d-5fed6d409acf/files/Aula06.03.2017/Configuracao.ipynb)\n",
    "- [História](https://cloud.sagemath.com/projects/da4b09c7-73a7-4027-ac2d-5fed6d409acf/files/Aula13.03.2017/Parte1.Historia.ipynb)\n",
    "- [Linguagens de Programação](https://cloud.sagemath.com/projects/da4b09c7-73a7-4027-ac2d-5fed6d409acf/files/Aula20.03.2017/Linguagens%20de%20Programac%CC%A7a%CC%83o.ipynb)\n",
    "- [Ambiente Jupyter](https://cloud.sagemath.com/projects/da4b09c7-73a7-4027-ac2d-5fed6d409acf/files/Aula27.03.2017/Interfacejupyter.parte2.ipynb)\n",
    "- [Linux](https://cloud.sagemath.com/projects/da4b09c7-73a7-4027-ac2d-5fed6d409acf/files/Aula03.04.2017/ComandosLinux.ipynb)\n",
    "- [Python 1/2](https://cloud.sagemath.com/projects/da4b09c7-73a7-4027-ac2d-5fed6d409acf/files/Aula10.04.2017/Listas.Python.ipynb)\n",
    "- [Python 2/2](https://cloud.sagemath.com/projects/da4b09c7-73a7-4027-ac2d-5fed6d409acf/files/Aula17.04.2017/Basesdecomputacaopython.parte2.ipynb)\n",
    "- [Pandas](https://cloud.sagemath.com/projects/da4b09c7-73a7-4027-ac2d-5fed6d409acf/files/Aula08.05.2017/AulaDatas.ipynb)\n",
    "- [Numpy](https://cloud.sagemath.com/projects/da4b09c7-73a7-4027-ac2d-5fed6d409acf/files/Aula15.05.207/Numpy15.05.ipynb)\n"
   ]
  },
  {
   "cell_type": "code",
   "execution_count": 3,
   "metadata": {},
   "outputs": [],
   "source": [
    "from datetime import date,timedelta\n",
    "import pandas as pd\n",
    "import numpy as np\n",
    "from ipy_table import *"
   ]
  },
  {
   "cell_type": "code",
   "execution_count": 5,
   "metadata": {},
   "outputs": [],
   "source": [
    "inicio=date(2017, 3, 6)\n",
    "\n",
    "aulasconteudo=[\"Introdução\", \"História\", \"Linguagens\", \"Jupyter\", \"Linux\",\"Python\", \n",
    "               \"Python\", \"Pandas\", \"Feriado\", \"Pandas\",\"Numpy\",\"Revisão\", \"Matplotlib\",\"Matplotlib\",\n",
    "               \"Prova\",\"Encerramento\"]\n",
    "aulasdatas=[inicio+timedelta(weeks=i) for i in range(0,len(aulasconteudo))]\n",
    "aulashoras=[2 for i in range(0,len(aulasconteudo))]\n",
    "aulasdf=pd.DataFrame()\n",
    "aulasdf['Data']=aulasdatas\n",
    "aulasdf['Conteudo']=aulasconteudo\n",
    "aulasdf['Horas']=aulashoras\n",
    "aulasdf.loc[aulasdf['Conteudo']=='Feriado',('Horas')]=0\n",
    "input = np.array(aulasdf['Horas'])\n",
    "aulasdf['Ministradas']=input.cumsum()\n"
   ]
  },
  {
   "cell_type": "code",
   "execution_count": 6,
   "metadata": {},
   "outputs": [
    {
     "data": {
      "text/html": [
       "<table border=\"1\" cellpadding=\"3\" cellspacing=\"0\"  style=\"border:1px solid black;border-collapse:collapse;\"><tr><td  style=\"background-color:lightblue;border-top: 3px solid black;border-bottom: 3px solid black;text-align:center;\"><b>Data</b></td><td  style=\"background-color:lightblue;border-top: 3px solid black;border-bottom: 3px solid black;text-align:center;width:150px;\"><b>Conteudo</b></td><td  style=\"background-color:lightblue;border-top: 3px solid black;border-bottom: 3px solid black;text-align:center;\"><b>Horas</b></td><td  style=\"background-color:lightblue;border-top: 3px solid black;border-bottom: 3px solid black;text-align:center;\"><b>Ministradas</b></td></tr><tr><td  style=\"background-color:lightBlue;border-top: 3px solid black;text-align:left;\">2017-03-06</td><td  style=\"background-color:Ivory;border-top: 3px solid black;text-align:center;width:150px;\">Introdução</td><td  style=\"background-color:Ivory;border-top: 3px solid black;\">2</td><td  style=\"background-color:Ivory;border-top: 3px solid black;\">2</td></tr><tr><td  style=\"background-color:lightBlue;text-align:left;\">2017-03-13</td><td  style=\"background-color:AliceBlue;text-align:center;width:150px;\">História</td><td  style=\"background-color:AliceBlue;\">2</td><td  style=\"background-color:AliceBlue;\">4</td></tr><tr><td  style=\"background-color:lightBlue;text-align:left;\">2017-03-20</td><td  style=\"background-color:Ivory;text-align:center;width:150px;\">Linguagens</td><td  style=\"background-color:Ivory;\">2</td><td  style=\"background-color:Ivory;\">6</td></tr><tr><td  style=\"background-color:lightBlue;text-align:left;\">2017-03-27</td><td  style=\"background-color:AliceBlue;text-align:center;width:150px;\">Jupyter</td><td  style=\"background-color:AliceBlue;\">2</td><td  style=\"background-color:AliceBlue;\">8</td></tr><tr><td  style=\"background-color:lightBlue;text-align:left;\">2017-04-03</td><td  style=\"background-color:Ivory;text-align:center;width:150px;\">Linux</td><td  style=\"background-color:Ivory;\">2</td><td  style=\"background-color:Ivory;\">10</td></tr><tr><td  style=\"background-color:lightBlue;text-align:left;\">2017-04-10</td><td  style=\"background-color:AliceBlue;text-align:center;width:150px;\">Python</td><td  style=\"background-color:AliceBlue;\">2</td><td  style=\"background-color:AliceBlue;\">12</td></tr><tr><td  style=\"background-color:lightBlue;text-align:left;\">2017-04-17</td><td  style=\"background-color:Ivory;text-align:center;width:150px;\">Python</td><td  style=\"background-color:Ivory;\">2</td><td  style=\"background-color:Ivory;\">14</td></tr><tr><td  style=\"background-color:lightBlue;text-align:left;\">2017-04-24</td><td  style=\"background-color:AliceBlue;text-align:center;width:150px;\">Pandas</td><td  style=\"background-color:AliceBlue;\">2</td><td  style=\"background-color:AliceBlue;\">16</td></tr><tr><td  style=\"background-color:lightBlue;text-align:left;\">2017-05-01</td><td  style=\"background-color:Ivory;text-align:center;width:150px;\">Feriado</td><td  style=\"background-color:Ivory;\">0</td><td  style=\"background-color:Ivory;\">16</td></tr><tr><td  style=\"background-color:lightBlue;text-align:left;\">2017-05-08</td><td  style=\"background-color:AliceBlue;text-align:center;width:150px;\">Pandas</td><td  style=\"background-color:AliceBlue;\">2</td><td  style=\"background-color:AliceBlue;\">18</td></tr><tr><td  style=\"background-color:lightBlue;text-align:left;\">2017-05-15</td><td  style=\"background-color:Ivory;text-align:center;width:150px;\">Numpy</td><td  style=\"background-color:Ivory;\">2</td><td  style=\"background-color:Ivory;\">20</td></tr><tr><td  style=\"background-color:lightBlue;text-align:left;\">2017-05-22</td><td  style=\"background-color:AliceBlue;text-align:center;width:150px;\">Revisão</td><td  style=\"background-color:AliceBlue;\">2</td><td  style=\"background-color:AliceBlue;\">22</td></tr><tr><td  style=\"background-color:lightBlue;text-align:left;\">2017-05-29</td><td  style=\"background-color:Ivory;text-align:center;width:150px;\">Matplotlib</td><td  style=\"background-color:Ivory;\">2</td><td  style=\"background-color:Ivory;\">24</td></tr><tr><td  style=\"background-color:lightBlue;text-align:left;\">2017-06-05</td><td  style=\"background-color:AliceBlue;text-align:center;width:150px;\">Matplotlib</td><td  style=\"background-color:AliceBlue;\">2</td><td  style=\"background-color:AliceBlue;\">26</td></tr><tr><td  style=\"background-color:lightBlue;text-align:left;\">2017-06-12</td><td  style=\"background-color:Ivory;text-align:center;width:150px;\">Prova</td><td  style=\"background-color:Ivory;\">2</td><td  style=\"background-color:Ivory;\">28</td></tr><tr><td  style=\"background-color:lightBlue;text-align:left;\">2017-06-19</td><td  style=\"background-color:AliceBlue;text-align:center;width:150px;\">Encerramento</td><td  style=\"background-color:AliceBlue;\">2</td><td  style=\"background-color:AliceBlue;\">30</td></tr></table>"
      ],
      "text/plain": [
       "<ipy_table.IpyTable at 0x7f69b81a46d0>"
      ]
     },
     "execution_count": 6,
     "metadata": {},
     "output_type": "execute_result"
    }
   ],
   "source": [
    "values=aulasdf.values\n",
    "aulas = np.vstack([aulasdf.columns,values ])\n",
    "make_table(aulas)\n",
    "apply_theme('basic')\n",
    "set_column_style(0, color='lightBlue',align='left')\n",
    "set_column_style(1,width=150,align='center')\n",
    "set_row_style(0, color='lightblue',thick_border='top,bottom',bold=True,align='center')"
   ]
  },
  {
   "cell_type": "code",
   "execution_count": 0,
   "metadata": {
    "collapsed": true
   },
   "outputs": [],
   "source": []
  }
 ],
 "metadata": {
  "kernelspec": {
   "display_name": "Python 2 (SageMath)",
   "language": "python",
   "name": "python2"
  },
  "language_info": {
   "codemirror_mode": {
    "name": "ipython",
    "version": 2
   },
   "file_extension": ".py",
   "mimetype": "text/x-python",
   "name": "python",
   "nbconvert_exporter": "python",
   "pygments_lexer": "ipython2",
   "version": "2.7.13"
  }
 },
 "nbformat": 4,
 "nbformat_minor": 1
}
