{
 "cells": [
  {
   "cell_type": "code",
   "execution_count": 2,
   "metadata": {
    "collapsed": false
   },
   "outputs": [],
   "source": [
    "from random import randint\n"
   ]
  },
  {
   "cell_type": "code",
   "execution_count": 4,
   "metadata": {
    "collapsed": false
   },
   "outputs": [],
   "source": [
    "from random import randint"
   ]
  },
  {
   "cell_type": "code",
   "execution_count": 8,
   "metadata": {
    "collapsed": false
   },
   "outputs": [],
   "source": [
    "string=randint(5,25)*\"maldito codigo\\n\""
   ]
  },
  {
   "cell_type": "code",
   "execution_count": 10,
   "metadata": {
    "collapsed": false
   },
   "outputs": [
    {
     "name": "stdout",
     "output_type": "stream",
     "text": [
      "maldito codigo\n",
      "maldito codigo\n",
      "maldito codigo\n",
      "maldito codigo\n",
      "maldito codigo\n",
      "maldito codigo\n",
      "maldito codigo\n",
      "maldito codigo\n",
      "maldito codigo\n",
      "maldito codigo\n",
      "maldito codigo\n",
      "maldito codigo\n",
      "maldito codigo\n",
      "maldito codigo\n",
      "maldito codigo\n",
      "maldito codigo\n",
      "maldito codigo\n",
      "maldito codigo\n",
      "maldito codigo\n",
      "maldito codigo\n",
      "maldito codigo\n",
      "maldito codigo\n",
      "maldito codigo\n",
      "maldito codigo\n",
      "maldito codigo\n",
      "\n"
     ]
    }
   ],
   "source": [
    "print(\"{}\".format(string))"
   ]
  },
  {
   "cell_type": "code",
   "execution_count": 12,
   "metadata": {
    "collapsed": false
   },
   "outputs": [
    {
     "data": {
      "text/plain": [
       "'arq_janeiro'"
      ]
     },
     "execution_count": 12,
     "metadata": {},
     "output_type": "execute_result"
    }
   ],
   "source": [
    "messtr=\"janeiro\"\n",
    "\"arq_\"+messtr\n"
   ]
  },
  {
   "cell_type": "code",
   "execution_count": 18,
   "metadata": {
    "collapsed": false
   },
   "outputs": [
    {
     "name": "stdout",
     "output_type": "stream",
     "text": [
      "total 412\r\n",
      "-rw-r----- 1 da4b09c773a74027ac2d5fed6d409acf da4b09c773a74027ac2d5fed6d409acf   2940 Apr 24 17:55 2017-04-24-140938.ipynb\r\n",
      "-rw-r----- 1 da4b09c773a74027ac2d5fed6d409acf da4b09c773a74027ac2d5fed6d409acf 199109 Apr 24 17:55 Aula24.04.2017.ipynb\r\n",
      "drwxr-x--- 4 da4b09c773a74027ac2d5fed6d409acf da4b09c773a74027ac2d5fed6d409acf   4096 Apr 22 01:09 cookbook-data\r\n",
      "-rw-r----- 1 da4b09c773a74027ac2d5fed6d409acf da4b09c773a74027ac2d5fed6d409acf    571 Apr 24 17:55 file.zip\r\n",
      "-rw-r----- 1 da4b09c773a74027ac2d5fed6d409acf da4b09c773a74027ac2d5fed6d409acf     74 Apr 24 17:22 matriznum2.csv\r\n",
      "-rw-r----- 1 da4b09c773a74027ac2d5fed6d409acf da4b09c773a74027ac2d5fed6d409acf     74 Apr 24 17:21 matriznum.csv\r\n",
      "-rw-r----- 1 da4b09c773a74027ac2d5fed6d409acf da4b09c773a74027ac2d5fed6d409acf 181342 Apr 24 17:06 python.dados.pandas.ipynb\r\n",
      "-rw-r----- 1 da4b09c773a74027ac2d5fed6d409acf da4b09c773a74027ac2d5fed6d409acf     24 Apr 24 16:57 test.append.dat\r\n",
      "-rw-r----- 1 da4b09c773a74027ac2d5fed6d409acf da4b09c773a74027ac2d5fed6d409acf     40 Apr 24 17:37 test.dat\r\n",
      "-rw-r----- 1 da4b09c773a74027ac2d5fed6d409acf da4b09c773a74027ac2d5fed6d409acf    159 Apr 24 17:55 teste.txt\r\n",
      "-rw-r----- 1 da4b09c773a74027ac2d5fed6d409acf da4b09c773a74027ac2d5fed6d409acf    219 Apr 24 17:21 texto.txt\r\n"
     ]
    }
   ],
   "source": [
    "!ls -l\n"
   ]
  },
  {
   "cell_type": "code",
   "execution_count": 16,
   "metadata": {
    "collapsed": false
   },
   "outputs": [
    {
     "name": "stdout",
     "output_type": "stream",
     "text": [
      "  adding: teste.txt (deflated 29%)\n",
      "  adding: texto.txt (deflated 34%)\n"
     ]
    }
   ],
   "source": [
    "!zip file.zip te*.txt "
   ]
  },
  {
   "cell_type": "code",
   "execution_count": 25,
   "metadata": {
    "collapsed": true
   },
   "outputs": [],
   "source": [
    "from random import randint"
   ]
  },
  {
   "cell_type": "code",
   "execution_count": 26,
   "metadata": {
    "collapsed": false
   },
   "outputs": [],
   "source": [
    "dict={\"jan\":\"verao\", \"fev\":\"verao\", \"mar\":\"verao\", \"abr\":\"outuno\", \"mai\":\"outuno\",\n",
    "      \"jun\":\"outuno\",\n",
    "     \"jul\":\"inverno\", \"ago\":\"inverno\",\"set\":\"primavera\",\"out\":\"primavera\",\"nov\":\"primavera\",\n",
    "      \"dez\":\"primavera\"}"
   ]
  },
  {
   "cell_type": "code",
   "execution_count": 34,
   "metadata": {
    "collapsed": false
   },
   "outputs": [
    {
     "name": "stdout",
     "output_type": "stream",
     "text": [
      "arq_mar_verao.txt\n",
      "arq_jun_outuno.txt\n",
      "arq_jul_inverno.txt\n",
      "arq_set_primavera.txt\n",
      "arq_mai_outuno.txt\n",
      "arq_nov_primavera.txt\n",
      "arq_out_primavera.txt\n",
      "arq_ago_inverno.txt\n",
      "arq_fev_verao.txt\n",
      "arq_dez_primavera.txt\n",
      "arq_jan_verao.txt\n",
      "arq_abr_outuno.txt\n"
     ]
    }
   ],
   "source": [
    "for key in dict.keys():\n",
    "    filename=\"arq_{}_{}.txt\".format(key,dict[key])\n",
    "    print(filename)\n",
    "    f = open(filename, \"w\")\n",
    "    stra=\"A minha estação predileta é {}, especialmente  {}\\n\".format(dict[key],key)\n",
    "    strb=randint(5,26)*stra\n",
    "    f.write(strb)\n",
    "    f.close()"
   ]
  },
  {
   "cell_type": "code",
   "execution_count": 35,
   "metadata": {
    "collapsed": false
   },
   "outputs": [
    {
     "name": "stdout",
     "output_type": "stream",
     "text": [
      "total 476\r\n",
      "-rw-r----- 1 da4b09c773a74027ac2d5fed6d409acf da4b09c773a74027ac2d5fed6d409acf  10542 Apr 24 18:53 2017-04-24-140938.ipynb\r\n",
      "-rw-r----- 1 da4b09c773a74027ac2d5fed6d409acf da4b09c773a74027ac2d5fed6d409acf    406 Apr 24 18:53 arq_abr_outuno.txt\r\n",
      "-rw-r----- 1 da4b09c773a74027ac2d5fed6d409acf da4b09c773a74027ac2d5fed6d409acf   1121 Apr 24 18:53 arq_ago_inverno.txt\r\n",
      "-rw-r----- 1 da4b09c773a74027ac2d5fed6d409acf da4b09c773a74027ac2d5fed6d409acf   1220 Apr 24 18:53 arq_dez_primavera.txt\r\n",
      "-rw-r----- 1 da4b09c773a74027ac2d5fed6d409acf da4b09c773a74027ac2d5fed6d409acf    684 Apr 24 18:53 arq_fev_verao.txt\r\n",
      "-rw-r----- 1 da4b09c773a74027ac2d5fed6d409acf da4b09c773a74027ac2d5fed6d409acf   1368 Apr 24 18:53 arq_jan_verao.txt\r\n",
      "-rw-r----- 1 da4b09c773a74027ac2d5fed6d409acf da4b09c773a74027ac2d5fed6d409acf    885 Apr 24 18:53 arq_jul_inverno.txt\r\n",
      "-rw-r----- 1 da4b09c773a74027ac2d5fed6d409acf da4b09c773a74027ac2d5fed6d409acf   1276 Apr 24 18:53 arq_jun_outuno.txt\r\n",
      "-rw-r----- 1 da4b09c773a74027ac2d5fed6d409acf da4b09c773a74027ac2d5fed6d409acf   1102 Apr 24 18:53 arq_mai_outuno.txt\r\n",
      "-rw-r----- 1 da4b09c773a74027ac2d5fed6d409acf da4b09c773a74027ac2d5fed6d409acf    342 Apr 24 18:53 arq_mar_verao.txt\r\n",
      "-rw-r----- 1 da4b09c773a74027ac2d5fed6d409acf da4b09c773a74027ac2d5fed6d409acf   1586 Apr 24 18:53 arq_nov_primavera.txt\r\n",
      "-rw-r----- 1 da4b09c773a74027ac2d5fed6d409acf da4b09c773a74027ac2d5fed6d409acf    610 Apr 24 18:53 arq_out_primavera.txt\r\n",
      "-rw-r----- 1 da4b09c773a74027ac2d5fed6d409acf da4b09c773a74027ac2d5fed6d409acf    610 Apr 24 18:53 arq_set_primavera.txt\r\n",
      "-rw-r----- 1 da4b09c773a74027ac2d5fed6d409acf da4b09c773a74027ac2d5fed6d409acf 203685 Apr 24 18:53 Aula24.04.2017.ipynb\r\n",
      "drwxr-x--- 4 da4b09c773a74027ac2d5fed6d409acf da4b09c773a74027ac2d5fed6d409acf   4096 Apr 22 01:09 cookbook-data\r\n",
      "-rw-r----- 1 da4b09c773a74027ac2d5fed6d409acf da4b09c773a74027ac2d5fed6d409acf   1133 Apr 24 18:14 dicchar.csv\r\n",
      "-rw-r----- 1 da4b09c773a74027ac2d5fed6d409acf da4b09c773a74027ac2d5fed6d409acf    571 Apr 24 17:55 file.zip\r\n",
      "-rw-r----- 1 da4b09c773a74027ac2d5fed6d409acf da4b09c773a74027ac2d5fed6d409acf     74 Apr 24 17:22 matriznum2.csv\r\n",
      "-rw-r----- 1 da4b09c773a74027ac2d5fed6d409acf da4b09c773a74027ac2d5fed6d409acf     74 Apr 24 17:21 matriznum.csv\r\n",
      "-rw-r----- 1 da4b09c773a74027ac2d5fed6d409acf da4b09c773a74027ac2d5fed6d409acf 181342 Apr 24 17:06 python.dados.pandas.ipynb\r\n",
      "-rw-r----- 1 da4b09c773a74027ac2d5fed6d409acf da4b09c773a74027ac2d5fed6d409acf     24 Apr 24 16:57 test.append.dat\r\n",
      "-rw-r----- 1 da4b09c773a74027ac2d5fed6d409acf da4b09c773a74027ac2d5fed6d409acf     40 Apr 24 17:37 test.dat\r\n",
      "-rw-r----- 1 da4b09c773a74027ac2d5fed6d409acf da4b09c773a74027ac2d5fed6d409acf   2530 Apr 24 18:16 teste.txt\r\n",
      "-rw-r----- 1 da4b09c773a74027ac2d5fed6d409acf da4b09c773a74027ac2d5fed6d409acf    219 Apr 24 17:21 texto.txt\r\n"
     ]
    }
   ],
   "source": [
    "!ls -l"
   ]
  },
  {
   "cell_type": "code",
   "execution_count": 36,
   "metadata": {
    "collapsed": false
   },
   "outputs": [
    {
     "name": "stdout",
     "output_type": "stream",
     "text": [
      "A minha estação predileta é outuno, especialmente  abr\r\n",
      "A minha estação predileta é outuno, especialmente  abr\r\n",
      "A minha estação predileta é outuno, especialmente  abr\r\n",
      "A minha estação predileta é outuno, especialmente  abr\r\n",
      "A minha estação predileta é outuno, especialmente  abr\r\n",
      "A minha estação predileta é outuno, especialmente  abr\r\n",
      "A minha estação predileta é outuno, especialmente  abr\r\n"
     ]
    }
   ],
   "source": [
    "!more arq_abr_outuno.txt"
   ]
  },
  {
   "cell_type": "code",
   "execution_count": 37,
   "metadata": {
    "collapsed": false
   },
   "outputs": [
    {
     "ename": "NameError",
     "evalue": "name 'df' is not defined",
     "output_type": "error",
     "traceback": [
      "\u001b[0;31m---------------------------------------------------------------------------\u001b[0m",
      "\u001b[0;31mNameError\u001b[0m                                 Traceback (most recent call last)",
      "\u001b[0;32m<ipython-input-37-7ed0097d7e9e>\u001b[0m in \u001b[0;36m<module>\u001b[0;34m()\u001b[0m\n\u001b[0;32m----> 1\u001b[0;31m \u001b[0mdf\u001b[0m\u001b[0;34m\u001b[0m\u001b[0m\n\u001b[0m",
      "\u001b[0;31mNameError\u001b[0m: name 'df' is not defined"
     ]
    }
   ],
   "source": [
    "df"
   ]
  },
  {
   "cell_type": "code",
   "execution_count": null,
   "metadata": {
    "collapsed": true
   },
   "outputs": [],
   "source": []
  }
 ],
 "metadata": {
  "kernelspec": {
   "display_name": "Python 2 (SageMath)",
   "language": "python",
   "name": "python2"
  },
  "language_info": {
   "codemirror_mode": {
    "name": "ipython",
    "version": 2
   },
   "file_extension": ".py",
   "mimetype": "text/x-python",
   "name": "python",
   "nbconvert_exporter": "python",
   "pygments_lexer": "ipython2",
   "version": "2.7.13"
  }
 },
 "nbformat": 4,
 "nbformat_minor": 0
}
