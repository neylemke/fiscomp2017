{
 "cells": [
  {
   "cell_type": "markdown",
   "metadata": {},
   "source": [
    "# Ubuntu\n"
   ]
  },
  {
   "cell_type": "markdown",
   "metadata": {},
   "source": [
    "## Shell "
   ]
  },
  {
   "cell_type": "markdown",
   "metadata": {},
   "source": [
    "### Comandos linux "
   ]
  },
  {
   "cell_type": "markdown",
   "metadata": {},
   "source": [
    "#### Arquivos\n",
    "##### ls\n",
    "Lista os arquivos em um diretório\n",
    "##### cp\n",
    "##### mv\n",
    "##### rm\n",
    "##### mkdir\n",
    "##### cd \n",
    "##### zip, gzip \n",
    "##### file"
   ]
  },
  {
   "cell_type": "markdown",
   "metadata": {},
   "source": [
    "#### Visualização de arquivos \n",
    "##### more\n",
    "##### less\n",
    "##### wc\n",
    "##### head \n",
    "##### tail\n",
    "##### grep "
   ]
  },
  {
   "cell_type": "markdown",
   "metadata": {},
   "source": [
    "#### Redes \n",
    "##### ping \n",
    "##### ifconfig\n",
    "##### ssh\n",
    "##### scp "
   ]
  },
  {
   "cell_type": "markdown",
   "metadata": {},
   "source": [
    "#### Redirecionamento \n",
    "##### > \n",
    "##### | \n",
    "##### <"
   ]
  },
  {
   "cell_type": "markdown",
   "metadata": {},
   "source": [
    "#### Editor \n",
    "##### nano \n",
    "##### Editor do Sage"
   ]
  },
  {
   "cell_type": "markdown",
   "metadata": {},
   "source": []
  },
  {
   "cell_type": "markdown",
   "metadata": {},
   "source": [
    "#### Ajuda \n",
    "##### man"
   ]
  },
  {
   "cell_type": "markdown",
   "metadata": {},
   "source": [
    "#### Processos\n",
    "##### top \n",
    "##### kill \n",
    "##### Ctrl-C\n",
    "##### Ctrl-Z\n",
    "##### shutdown \n",
    "##### ps "
   ]
  },
  {
   "cell_type": "markdown",
   "metadata": {},
   "source": [
    "#### Variados \n",
    "##### find \n",
    "##### date \n",
    "##### echo \n",
    "##### yes "
   ]
  },
  {
   "cell_type": "markdown",
   "metadata": {},
   "source": [
    "#### wildcards\n",
    "##### *\n",
    "##### ?"
   ]
  },
  {
   "cell_type": "markdown",
   "metadata": {
    "collapsed": true
   },
   "source": []
  }
 ],
 "metadata": {
  "kernelspec": {
   "display_name": "Python 2 (SageMath)",
   "language": "python",
   "name": "python2"
  },
  "language_info": {
   "codemirror_mode": {
    "name": "ipython",
    "version": 2
   },
   "file_extension": ".py",
   "mimetype": "text/x-python",
   "name": "python",
   "nbconvert_exporter": "python",
   "pygments_lexer": "ipython2",
   "version": "2.7.13"
  }
 },
 "nbformat": 4,
 "nbformat_minor": 0
}
