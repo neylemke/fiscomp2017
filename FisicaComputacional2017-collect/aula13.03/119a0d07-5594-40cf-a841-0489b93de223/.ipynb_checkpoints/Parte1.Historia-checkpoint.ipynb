{
 "cells": [
  {
   "cell_type": "markdown",
   "metadata": {
    "slideshow": {
     "slide_type": "slide"
    }
   },
   "source": [
    "# Bases históricas e computacionais para disciplina de Física Computacional 2017 (Parte 1) \n",
    "\n",
    "###### Docente: Professor Dr. Ney Lemke \n",
    "######  Monitoria: Tainá Reis\n",
    "###### Emails para dúvidas: ney.nlemke@gmail.com e tainapreis@gmail.com\n",
    "######  Software utilizado : Plataforma Ipython"
   ]
  },
  {
   "cell_type": "markdown",
   "metadata": {
    "slideshow": {
     "slide_type": "subslide"
    }
   },
   "source": [
    "## Introdução a História da Computação Científica\n",
    "\n",
    "* O problema da agulha de  Buffon  em 1753\n",
    "* Babbage em 1822 propõe um computador para calcular funções polinomiais\n",
    "* Ada Lovelace em 1842 propõe um algoritmo para calcular números de Bernoilli\n",
    "* MW Kutta and CT Runge propõe o método de Runge Kutta para EDOs\n",
    "* Em 1920 Richardson prevê o tempo usando método numérico\n",
    "\n",
    "\n",
    "### Antes do computador\n",
    "\n",
    "#### Ábaco\n",
    "\n",
    "![Abacus](Abacus_6.png)\n",
    "\n",
    "\n",
    "#### Astrolábio\n",
    "\n",
    "![tut](tut8.png)\n"
   ]
  },
  {
   "cell_type": "markdown",
   "metadata": {
    "slideshow": {
     "slide_type": "subslide"
    }
   },
   "source": [
    "### Era Moderna (1950-1960)\n",
    "\n",
    "* Alder and Wainwrigh implementam o primeiro código de Dinâmica Molecular\n",
    "* Cooley and Tukey inventam FFT *Fast Fourier Transform* \n",
    "* Lorenz propõe o Efeito Borboleta\n",
    "* Linguagens C e Fortran são criadas\n",
    "\n",
    "#### Atrator de Lorenz\n",
    "\n",
    "![Lorenz](tut9.png)"
   ]
  },
  {
   "cell_type": "markdown",
   "metadata": {
    "slideshow": {
     "slide_type": "subslide"
    }
   },
   "source": [
    "### Era Moderna (1970)\n",
    "\n",
    "- Primeiras Calculadoras Científicas\n",
    "- Estações de Trabalho\n",
    "- Kernie e Ritchie criam Unix e a linguagem C\n",
    "\n",
    "#### Máquinas Calculadoras\n",
    "\n",
    "<img src=\"800px-Hp-35_1972.jpg\" alt=\"HP\" style=\"width: 300px;\"/>\n",
    "\n",
    "### Era Moderna (1980)\n",
    "\n",
    "* Computadores pessoais\n",
    "* Início da Web\n",
    "* Supercimputadores vetoriais\n",
    "\n",
    "#### Cray\n",
    "\n",
    "![Cray](cray.jpg)"
   ]
  },
  {
   "cell_type": "markdown",
   "metadata": {
    "slideshow": {
     "slide_type": "subslide"
    }
   },
   "source": [
    "IPython Cookbook, by Cyrille Rossant, Packt Publishing, 2014 (500 pages)."
   ]
  }
 ],
 "metadata": {
  "celltoolbar": "Slideshow",
  "kernelspec": {
   "display_name": "Python 3",
   "language": "python",
   "name": "python3"
  },
  "language_info": {
   "codemirror_mode": {
    "name": "ipython",
    "version": 3
   },
   "file_extension": ".py",
   "mimetype": "text/x-python",
   "name": "python",
   "nbconvert_exporter": "python",
   "pygments_lexer": "ipython3",
   "version": "3.4.3+"
  }
 },
 "nbformat": 4,
 "nbformat_minor": 2
}
