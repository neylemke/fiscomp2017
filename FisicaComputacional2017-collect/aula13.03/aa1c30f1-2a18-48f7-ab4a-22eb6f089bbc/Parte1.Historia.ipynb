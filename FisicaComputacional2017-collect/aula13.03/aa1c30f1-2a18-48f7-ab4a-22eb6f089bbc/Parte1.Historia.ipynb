{
 "cells": [
  {
   "cell_type": "markdown",
   "metadata": {
    "slideshow": {
     "slide_type": "slide"
    }
   },
   "source": [
    "# Bases históricas e computacionais para disciplina de Física Computacional 2017 (Parte 1) \n",
    "\n",
    "###### Docente: Professor Dr. Ney Lemke \n",
    "######  Monitoria: Tainá Reis\n",
    "###### Emails para dúvidas: ney.nlemke@gmail.com e tainapreis@gmail.com\n",
    "######  Software utilizado : Plataforma Ipython"
   ]
  },
  {
   "cell_type": "markdown",
   "metadata": {
    "slideshow": {
     "slide_type": "slide"
    }
   },
   "source": [
    "## Introdução a História da Computação Científica"
   ]
  },
  {
   "cell_type": "markdown",
   "metadata": {
    "slideshow": {
     "slide_type": "subslide"
    }
   },
   "source": [
    "### Antes do computador\n",
    "\n",
    "#### Ábaco\n",
    "\n",
    "![Abacus](Abacus_6.png)"
   ]
  },
  {
   "cell_type": "markdown",
   "metadata": {
    "slideshow": {
     "slide_type": "subslide"
    }
   },
   "source": [
    "#### Astrolábio\n",
    "\n",
    "![tut](tut8.png)"
   ]
  },
  {
   "cell_type": "markdown",
   "metadata": {
    "slideshow": {
     "slide_type": "slide"
    }
   },
   "source": [
    "## Primeiras Abordagens\n",
    "\n",
    "* O problema da agulha de  Buffon  em 1753\n",
    "* Babbage em 1822 propõe um computador para calcular funções polinomiais\n",
    "* Ada Lovelace em 1842 propõe um algoritmo para calcular números de Bernoilli\n",
    "* MW Kutta and CT Runge propõe o método de Runge Kutta para EDOs\n",
    "* Em 1920 Richardson prevê o tempo usando método numérico"
   ]
  },
  {
   "cell_type": "markdown",
   "metadata": {
    "slideshow": {
     "slide_type": "subslide"
    }
   },
   "source": [
    "## Régua de Cálculo\n",
    "\n",
    "Inventada por  William Oughtred no século XVIII\n",
    "\n",
    "![Ábaco](Pocket_slide_rule.jpg)"
   ]
  },
  {
   "cell_type": "markdown",
   "metadata": {
    "slideshow": {
     "slide_type": "subslide"
    }
   },
   "source": [
    "## Era Moderna - 1940\n",
    "\n",
    "* von Neumann, Ulam and Metropolis desenvolvem o Algoritmo de Monte Carlo\n",
    "* Simulações são essenciais para o projeto da bomba\n",
    "* Ulam and von Neumann propõe o conceito de Automatos Celulares \n",
    "* Turing consegue quebrar o códidigo da máquina Enigma"
   ]
  },
  {
   "cell_type": "markdown",
   "metadata": {
    "slideshow": {
     "slide_type": "subslide"
    }
   },
   "source": [
    "## Eniac\n",
    "![ENIAC](eniac-the-second-electronic-calculator-los-alamos-national-laboratory.jpg)"
   ]
  },
  {
   "cell_type": "markdown",
   "metadata": {
    "slideshow": {
     "slide_type": "subslide"
    }
   },
   "source": [
    "## Máquina de Turing\n",
    "\n",
    "![Turing](article-1165535-0412A762000005DC-835_962x657.jpg)"
   ]
  },
  {
   "cell_type": "markdown",
   "metadata": {
    "slideshow": {
     "slide_type": "slide"
    }
   },
   "source": [
    "### Era Moderna (1950-1960)\n",
    "\n",
    "* Alder and Wainwrigh implementam o primeiro código de Dinâmica Molecular\n",
    "* Cooley and Tukey inventam FFT *Fast Fourier Transform* \n",
    "* Lorenz propõe o Efeito Borboleta\n",
    "* Linguagens C e Fortran são criadas"
   ]
  },
  {
   "cell_type": "markdown",
   "metadata": {
    "slideshow": {
     "slide_type": "subslide"
    }
   },
   "source": [
    "#### Atrator de Lorenz\n",
    "\n",
    "![Lorenz](tut9.png)"
   ]
  },
  {
   "cell_type": "markdown",
   "metadata": {
    "slideshow": {
     "slide_type": "slide"
    }
   },
   "source": [
    "### Era Moderna (1970)\n",
    "\n",
    "- Primeiras Calculadoras Científicas\n",
    "- Estações de Trabalho\n",
    "- Kernie e Ritchie criam Unix e a linguagem C"
   ]
  },
  {
   "cell_type": "markdown",
   "metadata": {
    "slideshow": {
     "slide_type": "subslide"
    }
   },
   "source": [
    "#### Máquinas Calculadoras\n",
    "\n",
    "<img src=\"800px-Hp-35_1972.jpg\" alt=\"HP\" style=\"width: 300px;\"/>"
   ]
  },
  {
   "cell_type": "code",
   "execution_count": 1,
   "metadata": {
    "collapsed": true,
    "slideshow": {
     "slide_type": "skip"
    }
   },
   "outputs": [],
   "source": [
    "from IPython.display import YouTubeVideo\n",
    "\n"
   ]
  },
  {
   "cell_type": "code",
   "execution_count": 2,
   "metadata": {
    "collapsed": false,
    "slideshow": {
     "slide_type": "slide"
    }
   },
   "outputs": [
    {
     "data": {
      "image/jpeg": "smc-blob::ac390b9c-ff31-45b2-9a1f-4a7889182731",
      "text/html": [
       "\n",
       "        <iframe\n",
       "            width=\"400\"\n",
       "            height=\"300\"\n",
       "            src=\"https://www.youtube.com/embed/5wfrDhgUMGI\"\n",
       "            frameborder=\"0\"\n",
       "            allowfullscreen\n",
       "        ></iframe>\n",
       "        "
      ],
      "text/plain": [
       "<IPython.lib.display.YouTubeVideo at 0x7f3131860a20>"
      ]
     },
     "execution_count": 2,
     "metadata": {},
     "output_type": "execute_result"
    }
   ],
   "source": [
    "YouTubeVideo(\"5wfrDhgUMGI\")"
   ]
  },
  {
   "cell_type": "markdown",
   "metadata": {
    "slideshow": {
     "slide_type": "slide"
    }
   },
   "source": [
    "### Era Moderna (1980)\n",
    "\n",
    "* Computadores pessoais\n",
    "* Início da Web\n",
    "* Supercimputadores vetoriais"
   ]
  },
  {
   "cell_type": "markdown",
   "metadata": {
    "slideshow": {
     "slide_type": "subslide"
    }
   },
   "source": [
    "### Cray\n",
    "\n",
    "![Cray](cray.jpg)"
   ]
  },
  {
   "cell_type": "markdown",
   "metadata": {
    "slideshow": {
     "slide_type": "subslide"
    }
   },
   "source": [
    "IPython Cookbook, by Cyrille Rossant, Packt Publishing, 2014 (500 pages)."
   ]
  }
 ],
 "metadata": {
  "celltoolbar": "Slideshow",
  "kernelspec": {
   "display_name": "Python 3",
   "language": "python",
   "name": "python3"
  },
  "language_info": {
   "codemirror_mode": {
    "name": "ipython",
    "version": 3
   },
   "file_extension": ".py",
   "mimetype": "text/x-python",
   "name": "python",
   "nbconvert_exporter": "python",
   "pygments_lexer": "ipython3",
   "version": "3.4.3+"
  }
 },
 "nbformat": 4,
 "nbformat_minor": 2
}
