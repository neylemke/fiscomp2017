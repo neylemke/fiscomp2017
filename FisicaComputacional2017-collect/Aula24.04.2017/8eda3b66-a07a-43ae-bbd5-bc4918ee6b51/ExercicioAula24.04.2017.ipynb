{
 "cells": [
  {
   "cell_type": "code",
   "execution_count": 5,
   "metadata": {
    "collapsed": false
   },
   "outputs": [
    {
     "ename": "SyntaxError",
     "evalue": "invalid syntax (<ipython-input-5-d4df199cb49a>, line 3)",
     "output_type": "error",
     "traceback": [
      "\u001b[0;36m  File \u001b[0;32m\"<ipython-input-5-d4df199cb49a>\"\u001b[0;36m, line \u001b[0;32m3\u001b[0m\n\u001b[0;31m    %%whitefile arq_mes_estacao.txt\u001b[0m\n\u001b[0m    ^\u001b[0m\n\u001b[0;31mSyntaxError\u001b[0m\u001b[0;31m:\u001b[0m invalid syntax\n"
     ]
    }
   ],
   "source": [
    "est=['verão', 'outono', 'inverno', 'primavera']\n",
    "mes= [\"janeiro\",'fevereiro','marco','abril','maio','junho','julho','agosto','setembro','outubro','novembro','dezembro']\n",
    "for i in range(12):\n",
    "    arq=open(\"arq_\"+str(mes[i])+\"_\"+str(estacao[randint(0,3)])+\".txt\",\"w\")\n",
    "    arq.write(randint(5,20)*\"A minha estação predileta é \"+str(estacao[randint(0,3)])+\", especialmente o\"+str(mes[i])+\".\\n\")\n",
    "    arq.close()"
   ]
  },
  {
   "cell_type": "code",
   "execution_count": null,
   "metadata": {
    "collapsed": true
   },
   "outputs": [],
   "source": [
    "\n",
    "    f"
   ]
  }
 ],
 "metadata": {
  "kernelspec": {
   "display_name": "Python 2 (SageMath)",
   "language": "python",
   "name": "python2"
  },
  "language_info": {
   "codemirror_mode": {
    "name": "ipython",
    "version": 2
   },
   "file_extension": ".py",
   "mimetype": "text/x-python",
   "name": "python",
   "nbconvert_exporter": "python",
   "pygments_lexer": "ipython2",
   "version": "2.7.13"
  }
 },
 "nbformat": 4,
 "nbformat_minor": 0
}
