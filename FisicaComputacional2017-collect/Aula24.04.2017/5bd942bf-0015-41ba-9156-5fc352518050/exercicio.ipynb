{
 "cells": [
  {
   "cell_type": "code",
   "execution_count": 47,
   "metadata": {
    "collapsed": false
   },
   "outputs": [
    {
     "name": "stdout",
     "output_type": "stream",
     "text": [
      "Writing arq_abril_primavera.txt\n"
     ]
    }
   ],
   "source": [
    "%%writefile arq_abril_primavera.txt\n",
    "'A minha estacao predileta e o verao, especialmente o mes de Marco'\n",
    "'A minha estacao predileta e o verao, especialmente o mes de Marco'\n",
    "'A minha estacao predileta e o verao, especialmente o mes de Marco'\n",
    "'A minha estacao predileta e o verao, especialmente o mes de Marco'\n",
    "'A minha estacao predileta e o verao, especialmente o mes de Marco'"
   ]
  },
  {
   "cell_type": "code",
   "execution_count": 56,
   "metadata": {
    "collapsed": false
   },
   "outputs": [
    {
     "name": "stdout",
     "output_type": "stream",
     "text": [
      "\tzip warning: missing end signature--probably not a zip file (did you\r\n",
      "\tzip warning: remember to use binary mode when you transferred it?)\r\n",
      "\tzip warning: (if you are trying to read a damaged archive try -F)\r\n",
      "\r\n",
      "zip error: Zip file structure invalid (arq_abril_primavera.txt)\r\n"
     ]
    }
   ],
   "source": [
    "!zip arq*.txt zip"
   ]
  },
  {
   "cell_type": "code",
   "execution_count": null,
   "metadata": {
    "collapsed": true
   },
   "outputs": [],
   "source": []
  }
 ],
 "metadata": {
  "kernelspec": {
   "display_name": "Python 2 (SageMath)",
   "language": "python",
   "name": "python2"
  },
  "language_info": {
   "codemirror_mode": {
    "name": "ipython",
    "version": 2
   },
   "file_extension": ".py",
   "mimetype": "text/x-python",
   "name": "python",
   "nbconvert_exporter": "python",
   "pygments_lexer": "ipython2",
   "version": "2.7.13"
  }
 },
 "nbformat": 4,
 "nbformat_minor": 0
}
