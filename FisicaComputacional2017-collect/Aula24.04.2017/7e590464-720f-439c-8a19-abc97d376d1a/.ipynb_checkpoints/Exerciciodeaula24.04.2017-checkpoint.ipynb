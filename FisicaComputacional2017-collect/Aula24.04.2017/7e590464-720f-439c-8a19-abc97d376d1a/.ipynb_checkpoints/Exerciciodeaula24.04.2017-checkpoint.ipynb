{
 "cells": [
  {
   "cell_type": "code",
   "execution_count": 2,
   "metadata": {
    "collapsed": false
   },
   "outputs": [
    {
     "name": "stdout",
     "output_type": "stream",
     "text": [
      "1\n",
      "2\n",
      "3\n",
      "4\n",
      "5\n",
      "6\n",
      "7\n",
      "8\n",
      "9\n",
      "10\n",
      "11\n",
      "12\n"
     ]
    }
   ],
   "source": [
    "# Exercício 01. Crie 12 arquivos, chamados de 'arq_mes_estação.txt'. Cada um deles contendo a frase: A minha estação predileta é 'estação', especialmente o 'mês' repetida um número aleatório de vezes, entre 5 e 20.\n",
    "\n",
    "for i in range(12):\n",
    "    print(i+1)"
   ]
  }
 ],
 "metadata": {
  "kernelspec": {
   "display_name": "Python 2 (SageMath)",
   "language": "python",
   "name": "python2"
  },
  "language_info": {
   "codemirror_mode": {
    "name": "ipython",
    "version": 2
   },
   "file_extension": ".py",
   "mimetype": "text/x-python",
   "name": "python",
   "nbconvert_exporter": "python",
   "pygments_lexer": "ipython2",
   "version": "2.7.13"
  }
 },
 "nbformat": 4,
 "nbformat_minor": 0
}
