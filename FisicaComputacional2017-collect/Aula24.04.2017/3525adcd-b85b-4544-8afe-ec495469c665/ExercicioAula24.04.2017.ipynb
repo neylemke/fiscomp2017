{
 "cells": [
  {
   "cell_type": "code",
   "execution_count": 3,
   "metadata": {
    "collapsed": false
   },
   "outputs": [
    {
     "name": "stdout",
     "output_type": "stream",
     "text": [
      "  adding: arq_janeiro_verao.txt (deflated 90%)\n",
      "updating: arq_janeiro_verao.txt (deflated 90%)\n",
      "  adding: arq_fevereiro_verao.txt (deflated 91%)\n",
      "updating: arq_janeiro_verao.txt (deflated 90%)\n",
      "updating: arq_fevereiro_verao.txt (deflated 91%)\n",
      "  adding: arq_marco_verao.txt (deflated 78%)\n",
      "updating: arq_janeiro_verao.txt (deflated 90%)\n",
      "updating: arq_fevereiro_verao.txt (deflated 91%)\n",
      "updating: arq_marco_verao.txt (deflated 78%)\n",
      "  adding: arq_abril_inverno.txt (deflated 93%)\n",
      "updating: arq_janeiro_verao.txt (deflated 90%)\n",
      "updating: arq_fevereiro_verao.txt (deflated 91%)\n",
      "updating: arq_marco_verao.txt (deflated 78%)\n",
      "updating: arq_abril_inverno.txt (deflated 93%)\n",
      "  adding: arq_maio_inverno.txt (deflated 78%)\n",
      "updating: arq_janeiro_verao.txt (deflated 90%)\n",
      "updating: arq_fevereiro_verao.txt (deflated 91%)\n",
      "updating: arq_marco_verao.txt (deflated 78%)\n",
      "updating: arq_abril_inverno.txt (deflated 93%)\n",
      "updating: arq_maio_inverno.txt (deflated 78%)\n",
      "  adding: arq_junho_inverno.txt (deflated 90%)\n",
      "updating: arq_janeiro_verao.txt (deflated 90%)\n",
      "updating: arq_fevereiro_verao.txt (deflated 91%)\n",
      "updating: arq_marco_verao.txt (deflated 78%)\n",
      "updating: arq_abril_inverno.txt (deflated 93%)\n",
      "updating: arq_maio_inverno.txt (deflated 78%)\n",
      "updating: arq_junho_inverno.txt (deflated 90%)\n",
      "  adding: arq_julho_outono.txt (deflated 92%)\n",
      "updating: arq_janeiro_verao.txt (deflated 90%)\n",
      "updating: arq_fevereiro_verao.txt (deflated 91%)\n",
      "updating: arq_marco_verao.txt (deflated 78%)\n",
      "updating: arq_abril_inverno.txt (deflated 93%)\n",
      "updating: arq_maio_inverno.txt (deflated 78%)\n",
      "updating: arq_junho_inverno.txt (deflated 90%)\n",
      "updating: arq_julho_outono.txt (deflated 92%)\n",
      "  adding: arq_agosto_outono.txt (deflated 93%)\n",
      "updating: arq_janeiro_verao.txt (deflated 90%)\n",
      "updating: arq_fevereiro_verao.txt (deflated 91%)\n",
      "updating: arq_marco_verao.txt (deflated 78%)\n",
      "updating: arq_abril_inverno.txt (deflated 93%)\n",
      "updating: arq_maio_inverno.txt (deflated 78%)\n",
      "updating: arq_junho_inverno.txt (deflated 90%)\n",
      "updating: arq_julho_outono.txt (deflated 92%)\n",
      "updating: arq_agosto_outono.txt (deflated 93%)\n",
      "  adding: arq_setembro_outono.txt (deflated 90%)\n",
      "updating: arq_janeiro_verao.txt (deflated 90%)\n",
      "updating: arq_fevereiro_verao.txt (deflated 91%)\n",
      "updating: arq_marco_verao.txt (deflated 78%)\n",
      "updating: arq_abril_inverno.txt (deflated 93%)\n",
      "updating: arq_maio_inverno.txt (deflated 78%)\n",
      "updating: arq_junho_inverno.txt (deflated 90%)\n",
      "updating: arq_julho_outono.txt (deflated 92%)\n",
      "updating: arq_agosto_outono.txt (deflated 93%)\n",
      "updating: arq_setembro_outono.txt (deflated 90%)\n",
      "  adding: arq_outubro_primavera.txt (deflated 93%)\n",
      "updating: arq_janeiro_verao.txt (deflated 90%)\n",
      "updating: arq_fevereiro_verao.txt (deflated 91%)\n",
      "updating: arq_marco_verao.txt (deflated 78%)\n",
      "updating: arq_abril_inverno.txt (deflated 93%)\n",
      "updating: arq_maio_inverno.txt (deflated 78%)\n",
      "updating: arq_junho_inverno.txt (deflated 90%)\n",
      "updating: arq_julho_outono.txt (deflated 92%)\n",
      "updating: arq_agosto_outono.txt (deflated 93%)\n",
      "updating: arq_setembro_outono.txt (deflated 90%)\n",
      "updating: arq_outubro_primavera.txt (deflated 93%)\n",
      "  adding: arq_novembro_primavera.txt (deflated 84%)\n",
      "updating: arq_janeiro_verao.txt (deflated 90%)\n",
      "updating: arq_fevereiro_verao.txt (deflated 91%)\n",
      "updating: arq_marco_verao.txt (deflated 78%)\n",
      "updating: arq_abril_inverno.txt (deflated 93%)\n",
      "updating: arq_maio_inverno.txt (deflated 78%)\n",
      "updating: arq_junho_inverno.txt (deflated 90%)\n",
      "updating: arq_julho_outono.txt (deflated 92%)\n",
      "updating: arq_agosto_outono.txt (deflated 93%)\n",
      "updating: arq_setembro_outono.txt (deflated 90%)\n",
      "updating: arq_outubro_primavera.txt (deflated 93%)\n",
      "updating: arq_novembro_primavera.txt (deflated 84%)\n",
      "  adding: arq_dezembro_primavera.txt (deflated 93%)\n"
     ]
    }
   ],
   "source": [
    "##Crie 12 arquivos, chamados de 'arq_mes_estação.txt'. Cada um deles contendo a frase: A minha estação predileta é 'estação', especialmente o 'mês' repetida um número aleatório de vezes, entre 5 e 20.\n",
    "from random import *\n",
    "mes = ['janeiro', 'fevereiro', 'marco', 'abril', 'maio', 'junho', 'julho', 'agosto', 'setembro', 'outubro', 'novembro', 'dezembro']\n",
    "estacao = ['verao', 'inverno', 'outono', 'primavera']\n",
    "for i in range(12):\n",
    "    if i <=2:\n",
    "        j =0\n",
    "    elif i>2 and i<=5:\n",
    "        j=1\n",
    "    elif i>5 and i<=8:\n",
    "        j=2\n",
    "    elif i>8:\n",
    "        j=3\n",
    "    arq = open(\"arq_\"+str(mes[i])+\"_\"+str(estacao[j])+\".txt\", \"w\")\n",
    "    arq.write(randint(5, 20)*(\"A minha estação predileta é \"+str(estacao[j])+ \", especialmente em \"+str(mes[i])+\"\\n\"))\n",
    "    arq.close()\n",
    "    !zip file.zip arq*.txt\n"
   ]
  },
  {
   "cell_type": "code",
   "execution_count": 21,
   "metadata": {
    "collapsed": false
   },
   "outputs": [
    {
     "data": {
      "text/plain": [
       "day                                       23\n",
       "filename    .Analisedados.ipynb.sage-jupyter\n",
       "filesize                                7131\n",
       "group                                      1\n",
       "hour                                   16:59\n",
       "month                                    Apr\n",
       "perm                              -rw-r-----\n",
       "user        199b0e097cd743e7bd42d0668ef57d4c\n",
       "usercode    199b0e097cd743e7bd42d0668ef57d4c\n",
       "Name: 2, dtype: object"
      ]
     },
     "execution_count": 21,
     "metadata": {
     },
     "output_type": "execute_result"
    }
   ],
   "source": [
    "#Quando foi criado o primeiro arquivo?\n",
    "import pandas as pd\n",
    "!ls -la > teste.txt\n",
    "file=open('teste.txt','r')\n",
    "data=[]\n",
    "for line in file:\n",
    "    data=data+[line.split()]\n",
    "data=data[1:]\n",
    "\n",
    "filedict=[{'perm': list[0],  'group': list[1], 'user': list[2], 'usercode': list[3],\n",
    "           'filesize': list[4],\n",
    "  'month': list[5], 'day': list[6], 'hour': list[7], 'filename':list[8]} for list in data]\n",
    "df=pd.DataFrame(filedict)\n",
    "\n",
    "df.ix[2]\n"
   ]
  },
  {
   "cell_type": "code",
   "execution_count": 0,
   "metadata": {
    "collapsed": true
   },
   "outputs": [
   ],
   "source": [
   ]
  }
 ],
 "metadata": {
  "kernelspec": {
   "display_name": "Python 2 (SageMath)",
   "language": "python",
   "name": "python2"
  },
  "language_info": {
   "codemirror_mode": {
    "name": "ipython",
    "version": 2
   },
   "file_extension": ".py",
   "mimetype": "text/x-python",
   "name": "python",
   "nbconvert_exporter": "python",
   "pygments_lexer": "ipython2",
   "version": "2.7.13"
  }
 },
 "nbformat": 4,
 "nbformat_minor": 0
}