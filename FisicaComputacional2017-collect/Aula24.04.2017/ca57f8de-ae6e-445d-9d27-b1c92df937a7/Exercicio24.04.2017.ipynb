{
 "cells": [
  {
   "cell_type": "markdown",
   "metadata": {},
   "source": [
    "### Exercícios\n",
    "\n",
    "1. Crie 12 arquivos, chamados de 'arq_mes_estação.txt'. Cada um deles contendo a frase: A minha estação predileta é 'estação', especialmente o 'mês' repetida um número aleatório de vezes, entre 5 e 20. \n",
    "2. Comprima essas arquivos usando o comando gzip. "
   ]
  },
  {
   "cell_type": "code",
   "execution_count": 1,
   "metadata": {},
   "outputs": [
    {
     "name": "stdout",
     "output_type": "stream",
     "text": [
      "16\n",
      "19\n",
      "17\n",
      "19\n",
      "9\n",
      "10\n",
      "8\n",
      "16\n",
      "14\n",
      "6\n",
      "10\n",
      "5\n"
     ]
    }
   ],
   "source": [
    "import numpy as np\n",
    "import glob\n",
    "d={'Janeiro':'Primavera','Fevereiro':'Primavera','Marco':'Primavera','Abril':'Verao','Maio':'Verao','Junho':'Verao','Julho':'Outono','Agosto':'Outono','Setembro':'Outono','Outubro':'Inverno','Novembro':'Inverno','Dezembro':'Inverno'}\n",
    "for mes in d.keys():\n",
    "    estacao=d[mes]\n",
    "    arq=open('arq_'+mes+'_'+estacao+'.txt','w')\n",
    "    a=np.random.randint(5,21)\n",
    "    for i in range(a):\n",
    "        arq.write('A minha estacao predileta é %s, especialmente em %s\\n'%(estacao,mes))\n",
    "    arq.close()\n",
    "    print(a)\n",
    "for b in glob.glob('*/*.txt'):\n",
    "    !gzip b"
   ]
  },
  {
   "cell_type": "markdown",
   "metadata": {},
   "source": [
    "**Exercício:**\n",
    "\n",
    "1. Construa uma tabela com o número de vitórias e derrotas de Federer para cada tipo de terreno."
   ]
  },
  {
   "cell_type": "code",
   "execution_count": null,
   "metadata": {
    "collapsed": true
   },
   "outputs": [],
   "source": []
  }
 ],
 "metadata": {
  "kernelspec": {
   "display_name": "Python 2 (SageMath)",
   "language": "python",
   "name": "python2"
  },
  "language_info": {
   "codemirror_mode": {
    "name": "ipython",
    "version": 2
   },
   "file_extension": ".py",
   "mimetype": "text/x-python",
   "name": "python",
   "nbconvert_exporter": "python",
   "pygments_lexer": "ipython2",
   "version": "2.7.13"
  }
 },
 "nbformat": 4,
 "nbformat_minor": 1
}
