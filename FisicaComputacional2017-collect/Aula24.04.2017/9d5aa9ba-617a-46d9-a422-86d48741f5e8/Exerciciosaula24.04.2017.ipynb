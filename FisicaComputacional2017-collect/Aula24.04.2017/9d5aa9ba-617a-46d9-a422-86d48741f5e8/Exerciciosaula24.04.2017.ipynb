{
 "cells": [
  {
   "cell_type": "markdown",
   "metadata": {
    "collapsed": false
   },
   "source": [
    "##### EXERCÍCIO 1- Crie 12 arquivos, chamados de 'arq_mes_estação.txt'. Cada um deles contendo a frase: A minha estação predileta é 'estação', especialmente o 'mês' repetida um número aleatório de vezes, entre 5 e 20."
   ]
  },
  {
   "cell_type": "code",
   "execution_count": 2,
   "metadata": {
    "collapsed": false
   },
   "outputs": [
    {
     "name": "stdout",
     "output_type": "stream",
     "text": [
      "Writing arq_janeiro_verao.txt\n"
     ]
    }
   ],
   "source": [
    "%%writefile arq_janeiro_verao.txt\n",
    "A minha estações predileta e verao, especialmente o mes de Janeiro."
   ]
  },
  {
   "cell_type": "code",
   "execution_count": 4,
   "metadata": {
    "collapsed": false
   },
   "outputs": [
    {
     "name": "stdout",
     "output_type": "stream",
     "text": [
      "A minha estações predileta e verao, especialmente o mes de Janeiro.\n",
      "A minha estações predileta e verao, especialmente o mes de Janeiro.\n",
      "A minha estações predileta e verao, especialmente o mes de Janeiro.\n",
      "A minha estações predileta e verao, especialmente o mes de Janeiro.\n",
      "A minha estações predileta e verao, especialmente o mes de Janeiro.\n",
      "A minha estações predileta e verao, especialmente o mes de Janeiro.\n",
      "A minha estações predileta e verao, especialmente o mes de Janeiro.\n",
      "A minha estações predileta e verao, especialmente o mes de Janeiro.\n",
      "A minha estações predileta e verao, especialmente o mes de Janeiro.\n",
      "A minha estações predileta e verao, especialmente o mes de Janeiro.\n"
     ]
    }
   ],
   "source": [
    "i=0\n",
    "while i <10:\n",
    "    with open('arq_janeiro_verao.txt', 'r') as f:\n",
    "        print (f.read())\n",
    "    i+=1\n",
    "    "
   ]
  },
  {
   "cell_type": "code",
   "execution_count": 5,
   "metadata": {
    "collapsed": false
   },
   "outputs": [
    {
     "name": "stdout",
     "output_type": "stream",
     "text": [
      "Writing arq_fevereiro_verao.txt\n"
     ]
    }
   ],
   "source": [
    "%%writefile arq_fevereiro_verao.txt\n",
    "A minha estação predileta é Verão, especial o mês de Fevereiro."
   ]
  },
  {
   "cell_type": "code",
   "execution_count": 7,
   "metadata": {
    "collapsed": false
   },
   "outputs": [
    {
     "name": "stdout",
     "output_type": "stream",
     "text": [
      "A minha estação predileta é Verão, especial o mês de Fevereiro.\n",
      "A minha estação predileta é Verão, especial o mês de Fevereiro.\n",
      "A minha estação predileta é Verão, especial o mês de Fevereiro.\n",
      "A minha estação predileta é Verão, especial o mês de Fevereiro.\n",
      "A minha estação predileta é Verão, especial o mês de Fevereiro.\n",
      "A minha estação predileta é Verão, especial o mês de Fevereiro.\n",
      "A minha estação predileta é Verão, especial o mês de Fevereiro.\n",
      "A minha estação predileta é Verão, especial o mês de Fevereiro.\n",
      "A minha estação predileta é Verão, especial o mês de Fevereiro.\n",
      "A minha estação predileta é Verão, especial o mês de Fevereiro.\n",
      "A minha estação predileta é Verão, especial o mês de Fevereiro.\n",
      "A minha estação predileta é Verão, especial o mês de Fevereiro.\n",
      "A minha estação predileta é Verão, especial o mês de Fevereiro.\n"
     ]
    }
   ],
   "source": [
    "i=0\n",
    "while i<13:\n",
    "    with open('arq_fevereiro_verao.txt','r') as f:\n",
    "        print(f.read())\n",
    "    i+=1"
   ]
  },
  {
   "cell_type": "code",
   "execution_count": 8,
   "metadata": {
    "collapsed": false
   },
   "outputs": [
    {
     "name": "stdout",
     "output_type": "stream",
     "text": [
      "Writing arq_marco_verao.txt\n"
     ]
    }
   ],
   "source": [
    "%%writefile arq_marco_verao.txt\n",
    "A minha estação predileta é Verão, especialmente o mês de Março."
   ]
  },
  {
   "cell_type": "code",
   "execution_count": 9,
   "metadata": {
    "collapsed": false
   },
   "outputs": [
    {
     "name": "stdout",
     "output_type": "stream",
     "text": [
      "A minha estação predileta é Verão, especialmente o mês de Março.\n",
      "A minha estação predileta é Verão, especialmente o mês de Março.\n",
      "A minha estação predileta é Verão, especialmente o mês de Março.\n",
      "A minha estação predileta é Verão, especialmente o mês de Março.\n",
      "A minha estação predileta é Verão, especialmente o mês de Março.\n",
      "A minha estação predileta é Verão, especialmente o mês de Março.\n",
      "A minha estação predileta é Verão, especialmente o mês de Março.\n",
      "A minha estação predileta é Verão, especialmente o mês de Março.\n",
      "A minha estação predileta é Verão, especialmente o mês de Março.\n",
      "A minha estação predileta é Verão, especialmente o mês de Março.\n",
      "A minha estação predileta é Verão, especialmente o mês de Março.\n",
      "A minha estação predileta é Verão, especialmente o mês de Março.\n",
      "A minha estação predileta é Verão, especialmente o mês de Março.\n",
      "A minha estação predileta é Verão, especialmente o mês de Março.\n",
      "A minha estação predileta é Verão, especialmente o mês de Março.\n"
     ]
    }
   ],
   "source": [
    "i=0\n",
    "while i<15:\n",
    "    with open('arq_marco_verao.txt','r') as f:\n",
    "        print(f.read())\n",
    "    i+=1"
   ]
  },
  {
   "cell_type": "code",
   "execution_count": 10,
   "metadata": {
    "collapsed": false
   },
   "outputs": [
    {
     "name": "stdout",
     "output_type": "stream",
     "text": [
      "Writing arq_abril_outono.txt\n"
     ]
    }
   ],
   "source": [
    "%%writefile arq_abril_outono.txt\n",
    "A minhas estação predileta é Outono, especialmente o mês de Abril."
   ]
  },
  {
   "cell_type": "code",
   "execution_count": 11,
   "metadata": {
    "collapsed": false
   },
   "outputs": [
    {
     "name": "stdout",
     "output_type": "stream",
     "text": [
      "A minhas estação predileta é Outono, especialmente o mês de Abril.\n",
      "A minhas estação predileta é Outono, especialmente o mês de Abril.\n",
      "A minhas estação predileta é Outono, especialmente o mês de Abril.\n",
      "A minhas estação predileta é Outono, especialmente o mês de Abril.\n",
      "A minhas estação predileta é Outono, especialmente o mês de Abril.\n",
      "A minhas estação predileta é Outono, especialmente o mês de Abril.\n",
      "A minhas estação predileta é Outono, especialmente o mês de Abril.\n",
      "A minhas estação predileta é Outono, especialmente o mês de Abril.\n",
      "A minhas estação predileta é Outono, especialmente o mês de Abril.\n",
      "A minhas estação predileta é Outono, especialmente o mês de Abril.\n",
      "A minhas estação predileta é Outono, especialmente o mês de Abril.\n",
      "A minhas estação predileta é Outono, especialmente o mês de Abril.\n"
     ]
    }
   ],
   "source": [
    "i=0\n",
    "while i<12:\n",
    "    with open('arq_abril_outono.txt','r') as f:\n",
    "        print(f.read())\n",
    "    i+=1"
   ]
  },
  {
   "cell_type": "code",
   "execution_count": 12,
   "metadata": {
    "collapsed": false
   },
   "outputs": [
    {
     "name": "stdout",
     "output_type": "stream",
     "text": [
      "Writing arq_maio_outono.txt\n"
     ]
    }
   ],
   "source": [
    "%%writefile arq_maio_outono.txt\n",
    "A minha estação predileta é Outono, especialmente o mês de Maio."
   ]
  },
  {
   "cell_type": "code",
   "execution_count": 13,
   "metadata": {
    "collapsed": false
   },
   "outputs": [
    {
     "name": "stdout",
     "output_type": "stream",
     "text": [
      "A minha estação predileta é Outono, especialmente o mês de Maio.\n",
      "A minha estação predileta é Outono, especialmente o mês de Maio.\n",
      "A minha estação predileta é Outono, especialmente o mês de Maio.\n",
      "A minha estação predileta é Outono, especialmente o mês de Maio.\n",
      "A minha estação predileta é Outono, especialmente o mês de Maio.\n",
      "A minha estação predileta é Outono, especialmente o mês de Maio.\n",
      "A minha estação predileta é Outono, especialmente o mês de Maio.\n",
      "A minha estação predileta é Outono, especialmente o mês de Maio.\n",
      "A minha estação predileta é Outono, especialmente o mês de Maio.\n",
      "A minha estação predileta é Outono, especialmente o mês de Maio.\n",
      "A minha estação predileta é Outono, especialmente o mês de Maio.\n",
      "A minha estação predileta é Outono, especialmente o mês de Maio.\n",
      "A minha estação predileta é Outono, especialmente o mês de Maio.\n",
      "A minha estação predileta é Outono, especialmente o mês de Maio.\n",
      "A minha estação predileta é Outono, especialmente o mês de Maio.\n",
      "A minha estação predileta é Outono, especialmente o mês de Maio.\n",
      "A minha estação predileta é Outono, especialmente o mês de Maio.\n"
     ]
    }
   ],
   "source": [
    "i=0\n",
    "while i<17:\n",
    "    with open('arq_maio_outono.txt','r') as f:\n",
    "        print(f.read())\n",
    "    i+=1"
   ]
  },
  {
   "cell_type": "code",
   "execution_count": 14,
   "metadata": {
    "collapsed": false
   },
   "outputs": [
    {
     "name": "stdout",
     "output_type": "stream",
     "text": [
      "Writing arq_junho_inverno.txt\n"
     ]
    }
   ],
   "source": [
    "%%writefile arq_junho_inverno.txt\n",
    "A minhas estação predileta é Inverno, especialmente o mês de Junho."
   ]
  },
  {
   "cell_type": "code",
   "execution_count": 15,
   "metadata": {
    "collapsed": false
   },
   "outputs": [
    {
     "name": "stdout",
     "output_type": "stream",
     "text": [
      "A minhas estação predileta é Inverno, especialmente o mês de Junho.\n",
      "A minhas estação predileta é Inverno, especialmente o mês de Junho.\n",
      "A minhas estação predileta é Inverno, especialmente o mês de Junho.\n",
      "A minhas estação predileta é Inverno, especialmente o mês de Junho.\n",
      "A minhas estação predileta é Inverno, especialmente o mês de Junho.\n",
      "A minhas estação predileta é Inverno, especialmente o mês de Junho.\n",
      "A minhas estação predileta é Inverno, especialmente o mês de Junho.\n",
      "A minhas estação predileta é Inverno, especialmente o mês de Junho.\n",
      "A minhas estação predileta é Inverno, especialmente o mês de Junho.\n",
      "A minhas estação predileta é Inverno, especialmente o mês de Junho.\n",
      "A minhas estação predileta é Inverno, especialmente o mês de Junho.\n",
      "A minhas estação predileta é Inverno, especialmente o mês de Junho.\n",
      "A minhas estação predileta é Inverno, especialmente o mês de Junho.\n",
      "A minhas estação predileta é Inverno, especialmente o mês de Junho.\n"
     ]
    }
   ],
   "source": [
    "i=0\n",
    "while i<14:\n",
    "    with open('arq_junho_inverno.txt','r') as f:\n",
    "        print(f.read())\n",
    "    i+=1"
   ]
  },
  {
   "cell_type": "code",
   "execution_count": 16,
   "metadata": {
    "collapsed": false
   },
   "outputs": [
    {
     "name": "stdout",
     "output_type": "stream",
     "text": [
      "Writing arq_julho_inverno.txt\n"
     ]
    }
   ],
   "source": [
    "%%writefile arq_julho_inverno.txt\n",
    "A minha estação predileta é Inverno, Especialmente o mês de Julho."
   ]
  },
  {
   "cell_type": "code",
   "execution_count": 17,
   "metadata": {
    "collapsed": false
   },
   "outputs": [
    {
     "name": "stdout",
     "output_type": "stream",
     "text": [
      "A minha estação predileta é Inverno, Especialmente o mês de Julho.\n",
      "A minha estação predileta é Inverno, Especialmente o mês de Julho.\n",
      "A minha estação predileta é Inverno, Especialmente o mês de Julho.\n",
      "A minha estação predileta é Inverno, Especialmente o mês de Julho.\n",
      "A minha estação predileta é Inverno, Especialmente o mês de Julho.\n",
      "A minha estação predileta é Inverno, Especialmente o mês de Julho.\n",
      "A minha estação predileta é Inverno, Especialmente o mês de Julho.\n",
      "A minha estação predileta é Inverno, Especialmente o mês de Julho.\n",
      "A minha estação predileta é Inverno, Especialmente o mês de Julho.\n",
      "A minha estação predileta é Inverno, Especialmente o mês de Julho.\n",
      "A minha estação predileta é Inverno, Especialmente o mês de Julho.\n",
      "A minha estação predileta é Inverno, Especialmente o mês de Julho.\n",
      "A minha estação predileta é Inverno, Especialmente o mês de Julho.\n",
      "A minha estação predileta é Inverno, Especialmente o mês de Julho.\n",
      "A minha estação predileta é Inverno, Especialmente o mês de Julho.\n",
      "A minha estação predileta é Inverno, Especialmente o mês de Julho.\n",
      "A minha estação predileta é Inverno, Especialmente o mês de Julho.\n",
      "A minha estação predileta é Inverno, Especialmente o mês de Julho.\n",
      "A minha estação predileta é Inverno, Especialmente o mês de Julho.\n",
      "A minha estação predileta é Inverno, Especialmente o mês de Julho.\n"
     ]
    }
   ],
   "source": [
    "i=0\n",
    "while i<20:\n",
    "    with open('arq_julho_inverno.txt','r') as f:\n",
    "        print(f.read())\n",
    "    i+=1"
   ]
  },
  {
   "cell_type": "code",
   "execution_count": 18,
   "metadata": {
    "collapsed": false
   },
   "outputs": [
    {
     "name": "stdout",
     "output_type": "stream",
     "text": [
      "Writing arq_agosto_inverno.txt\n"
     ]
    }
   ],
   "source": [
    "%%writefile arq_agosto_inverno.txt\n",
    "A minha estação predileta é Inverno, especialmente o mês de Agosto. "
   ]
  },
  {
   "cell_type": "code",
   "execution_count": 19,
   "metadata": {
    "collapsed": false
   },
   "outputs": [
    {
     "name": "stdout",
     "output_type": "stream",
     "text": [
      "A minha estação predileta é Inverno, especialmente o mês de Agosto. \n",
      "A minha estação predileta é Inverno, especialmente o mês de Agosto. \n",
      "A minha estação predileta é Inverno, especialmente o mês de Agosto. \n",
      "A minha estação predileta é Inverno, especialmente o mês de Agosto. \n",
      "A minha estação predileta é Inverno, especialmente o mês de Agosto. \n",
      "A minha estação predileta é Inverno, especialmente o mês de Agosto. \n",
      "A minha estação predileta é Inverno, especialmente o mês de Agosto. \n",
      "A minha estação predileta é Inverno, especialmente o mês de Agosto. \n",
      "A minha estação predileta é Inverno, especialmente o mês de Agosto. \n",
      "A minha estação predileta é Inverno, especialmente o mês de Agosto. \n",
      "A minha estação predileta é Inverno, especialmente o mês de Agosto. \n"
     ]
    }
   ],
   "source": [
    "i=0\n",
    "while i<11:\n",
    "    with open('arq_agosto_inverno.txt','r') as f:\n",
    "        print(f.read())\n",
    "    i+=1"
   ]
  },
  {
   "cell_type": "code",
   "execution_count": 20,
   "metadata": {
    "collapsed": false
   },
   "outputs": [
    {
     "name": "stdout",
     "output_type": "stream",
     "text": [
      "Writing arq_setembro_inverno.txt\n"
     ]
    }
   ],
   "source": [
    "%%writefile arq_setembro_inverno.txt\n",
    "A minha estação predileta é Inverno, especialmente o mês de Setembro."
   ]
  },
  {
   "cell_type": "code",
   "execution_count": 22,
   "metadata": {
    "collapsed": false
   },
   "outputs": [
    {
     "name": "stdout",
     "output_type": "stream",
     "text": [
      "A minha estação predileta é Inverno, especialmente o mês de Setembro.\n",
      "A minha estação predileta é Inverno, especialmente o mês de Setembro.\n",
      "A minha estação predileta é Inverno, especialmente o mês de Setembro.\n",
      "A minha estação predileta é Inverno, especialmente o mês de Setembro.\n",
      "A minha estação predileta é Inverno, especialmente o mês de Setembro.\n",
      "A minha estação predileta é Inverno, especialmente o mês de Setembro.\n"
     ]
    }
   ],
   "source": [
    "i=0\n",
    "while i<6:\n",
    "    with open('arq_setembro_inverno.txt','r') as f:\n",
    "        print (f.read())\n",
    "    i+=1"
   ]
  },
  {
   "cell_type": "code",
   "execution_count": 23,
   "metadata": {
    "collapsed": false
   },
   "outputs": [
    {
     "name": "stdout",
     "output_type": "stream",
     "text": [
      "Writing arq_outubro_primavera.txt\n"
     ]
    }
   ],
   "source": [
    "%%writefile arq_outubro_primavera.txt\n",
    "A minha estação predileta é a Primavera, especialmente o mês de Outubro."
   ]
  },
  {
   "cell_type": "code",
   "execution_count": 24,
   "metadata": {
    "collapsed": false,
    "scrolled": true
   },
   "outputs": [
    {
     "name": "stdout",
     "output_type": "stream",
     "text": [
      "A minha estação predileta é a Primavera, especialmente o mês de Outubro.\n",
      "A minha estação predileta é a Primavera, especialmente o mês de Outubro.\n",
      "A minha estação predileta é a Primavera, especialmente o mês de Outubro.\n",
      "A minha estação predileta é a Primavera, especialmente o mês de Outubro.\n",
      "A minha estação predileta é a Primavera, especialmente o mês de Outubro.\n",
      "A minha estação predileta é a Primavera, especialmente o mês de Outubro.\n",
      "A minha estação predileta é a Primavera, especialmente o mês de Outubro.\n",
      "A minha estação predileta é a Primavera, especialmente o mês de Outubro.\n",
      "A minha estação predileta é a Primavera, especialmente o mês de Outubro.\n",
      "A minha estação predileta é a Primavera, especialmente o mês de Outubro.\n",
      "A minha estação predileta é a Primavera, especialmente o mês de Outubro.\n",
      "A minha estação predileta é a Primavera, especialmente o mês de Outubro.\n"
     ]
    }
   ],
   "source": [
    "i=0\n",
    "while i<12:\n",
    "    with open('arq_outubro_primavera.txt','r') as f:\n",
    "        print(f.read())\n",
    "    i+=1"
   ]
  },
  {
   "cell_type": "code",
   "execution_count": 27,
   "metadata": {
    "collapsed": false
   },
   "outputs": [
    {
     "name": "stdout",
     "output_type": "stream",
     "text": [
      "Writing arq_novembro_primavera.txt\n"
     ]
    }
   ],
   "source": [
    "%%writefile arq_novembro_primavera.txt\n",
    "A minhas estação predileta é a Primavera, especialmente o mês de Outubro."
   ]
  },
  {
   "cell_type": "code",
   "execution_count": 28,
   "metadata": {
    "collapsed": false
   },
   "outputs": [
    {
     "name": "stdout",
     "output_type": "stream",
     "text": [
      "A minhas estação predileta é a Primavera, especialmente o mês de Outubro.\n",
      "A minhas estação predileta é a Primavera, especialmente o mês de Outubro.\n",
      "A minhas estação predileta é a Primavera, especialmente o mês de Outubro.\n",
      "A minhas estação predileta é a Primavera, especialmente o mês de Outubro.\n",
      "A minhas estação predileta é a Primavera, especialmente o mês de Outubro.\n",
      "A minhas estação predileta é a Primavera, especialmente o mês de Outubro.\n",
      "A minhas estação predileta é a Primavera, especialmente o mês de Outubro.\n",
      "A minhas estação predileta é a Primavera, especialmente o mês de Outubro.\n",
      "A minhas estação predileta é a Primavera, especialmente o mês de Outubro.\n",
      "A minhas estação predileta é a Primavera, especialmente o mês de Outubro.\n",
      "A minhas estação predileta é a Primavera, especialmente o mês de Outubro.\n",
      "A minhas estação predileta é a Primavera, especialmente o mês de Outubro.\n",
      "A minhas estação predileta é a Primavera, especialmente o mês de Outubro.\n",
      "A minhas estação predileta é a Primavera, especialmente o mês de Outubro.\n",
      "A minhas estação predileta é a Primavera, especialmente o mês de Outubro.\n",
      "A minhas estação predileta é a Primavera, especialmente o mês de Outubro.\n",
      "A minhas estação predileta é a Primavera, especialmente o mês de Outubro.\n",
      "A minhas estação predileta é a Primavera, especialmente o mês de Outubro.\n",
      "A minhas estação predileta é a Primavera, especialmente o mês de Outubro.\n",
      "A minhas estação predileta é a Primavera, especialmente o mês de Outubro.\n"
     ]
    }
   ],
   "source": [
    "i=0\n",
    "while i<20:\n",
    "    with open('arq_novembro_primavera.txt','r') as f:\n",
    "        print (f.read())\n",
    "    i+=1"
   ]
  },
  {
   "cell_type": "code",
   "execution_count": 29,
   "metadata": {
    "collapsed": false
   },
   "outputs": [
    {
     "name": "stdout",
     "output_type": "stream",
     "text": [
      "Writing arq_dezembro_verao.txt\n"
     ]
    }
   ],
   "source": [
    "%%writefile arq_dezembro_verao.txt\n",
    "A minhas estação predileta é o Verão, especialmente o mês de Dezembro.\n"
   ]
  },
  {
   "cell_type": "code",
   "execution_count": 30,
   "metadata": {
    "collapsed": false
   },
   "outputs": [
    {
     "name": "stdout",
     "output_type": "stream",
     "text": [
      "A minhas estação predileta é o Verão, especialmente o mês de Dezembro.\n",
      "A minhas estação predileta é o Verão, especialmente o mês de Dezembro.\n",
      "A minhas estação predileta é o Verão, especialmente o mês de Dezembro.\n",
      "A minhas estação predileta é o Verão, especialmente o mês de Dezembro.\n",
      "A minhas estação predileta é o Verão, especialmente o mês de Dezembro.\n"
     ]
    }
   ],
   "source": [
    "i=0 \n",
    "while i<5:\n",
    "    with open('arq_dezembro_verao.txt','r') as f:\n",
    "        print(f.read())\n",
    "    i+=1"
   ]
  },
  {
   "cell_type": "markdown",
   "metadata": {
    "collapsed": false
   },
   "source": [
    "###### EXERCÍCIO 2-Comprima essas arquivos usando o comando gzip."
   ]
  },
  {
   "cell_type": "code",
   "execution_count": 31,
   "metadata": {
    "collapsed": false
   },
   "outputs": [
    {
     "name": "stdout",
     "output_type": "stream",
     "text": [
      "  adding: arq_abril_outono.txt (stored 0%)\r\n",
      "  adding: arq_agosto_inverno.txt (stored 0%)\r\n",
      "  adding: arq_dezembro_verao.txt (deflated 1%)\r\n",
      "  adding: arq_fevereiro_verao.txt (stored 0%)\r\n",
      "  adding: arq_janeiro_verao.txt (deflated 1%)\r\n",
      "  adding: arq_julho_inverno.txt (stored 0%)\r\n",
      "  adding: arq_junho_inverno.txt (stored 0%)\r\n",
      "  adding: arq_maio_outono.txt (stored 0%)\r\n",
      "  adding: arq_marco_verao.txt (stored 0%)\r\n",
      "  adding: arq_novembro_primavera.txt (stored 0%)\r\n",
      "  adding: arq_novembro_primevera.txt (stored 0%)\r\n",
      "  adding: arq_outubro_primavera.txt (stored 0%)\r\n",
      "  adding: arq_setembro_inverno.txt (stored 0%)\r\n"
     ]
    }
   ],
   "source": [
    "!zip arquivo.zip arq*.txt"
   ]
  },
  {
   "cell_type": "code",
   "execution_count": 33,
   "metadata": {
    "collapsed": false
   },
   "outputs": [
    {
     "name": "stdout",
     "output_type": "stream",
     "text": [
      "arq_abril_outono.txt\t    arq_novembro_primevera.txt\r\n",
      "arq_agosto_inverno.txt\t    arq_outubro_primavera.txt\r\n",
      "arq_dezembro_verao.txt\t    arq_setembro_inverno.txt\r\n",
      "arq_fevereiro_verao.txt     arquivo.zip\r\n",
      "arq_janeiro_verao.txt\t    Aula24.04.2017.ipynb\r\n",
      "arq_julho_inverno.txt\t    cookbook-data\r\n",
      "arq_junho_inverno.txt\t    dicchar.csv\r\n",
      "arq_maio_outono.txt\t    Exerciciosaula24.04.2017.ipynb\r\n",
      "arq_marco_verao.txt\t    teste.txt\r\n",
      "arq_novembro_primavera.txt  texto.txt\r\n"
     ]
    }
   ],
   "source": [
    "!ls"
   ]
  },
  {
   "cell_type": "markdown",
   "metadata": {
    "collapsed": false
   },
   "source": [
    "#### 1.Quando foi criado o primeiro arquivo?\n",
    "#### 2.Quantos arquivos podem ser apenas editadados pelo proprietário?"
   ]
  },
  {
   "cell_type": "code",
   "execution_count": 17,
   "metadata": {
    "collapsed": false
   },
   "outputs": [
    {
     "name": "stdout",
     "output_type": "stream",
     "text": [
      "arq_abril_outono.txt\t    arq_novembro_primevera.txt\r\n",
      "arq_agosto_inverno.txt\t    arq_outubro_primavera.txt\r\n",
      "arq_dezembro_verao.txt\t    arq_setembro_inverno.txt\r\n",
      "arq_fevereiro_verao.txt     arquivo.zip\r\n",
      "arq_janeiro_verao.txt\t    Aula24.04.2017.ipynb\r\n",
      "arq_julho_inverno.txt\t    cookbook-data\r\n",
      "arq_junho_inverno.txt\t    dicchar.csv\r\n",
      "arq_maio_outono.txt\t    Exerciciosaula24.04.2017.ipynb\r\n",
      "arq_marco_verao.txt\t    teste.txt\r\n",
      "arq_novembro_primavera.txt  texto.txt\r\n"
     ]
    }
   ],
   "source": [
    "!ls"
   ]
  },
  {
   "cell_type": "code",
   "execution_count": 18,
   "metadata": {
    "collapsed": false
   },
   "outputs": [
   ],
   "source": [
    "import pandas as pd"
   ]
  },
  {
   "cell_type": "code",
   "execution_count": 19,
   "metadata": {
    "collapsed": false
   },
   "outputs": [
   ],
   "source": [
    "file=open('teste.txt','r')\n",
    "data=[]\n",
    "for line in file:\n",
    "    data=data+[line.split()]\n",
    "data=data[1:]"
   ]
  },
  {
   "cell_type": "code",
   "execution_count": 20,
   "metadata": {
    "collapsed": false
   },
   "outputs": [
    {
     "data": {
      "text/plain": [
       "[['drwxr-x---',\n",
       "  '4',\n",
       "  '5a3e658a958b484a8b50de560fc0984d',\n",
       "  '5a3e658a958b484a8b50de560fc0984d',\n",
       "  '4096',\n",
       "  'Apr',\n",
       "  '28',\n",
       "  '03:28',\n",
       "  '.'],\n",
       " ['drwx------',\n",
       "  '20',\n",
       "  '5a3e658a958b484a8b50de560fc0984d',\n",
       "  '5a3e658a958b484a8b50de560fc0984d',\n",
       "  '4096',\n",
       "  'Apr',\n",
       "  '28',\n",
       "  '03:10',\n",
       "  '..'],\n",
       " ['-rw-r-----',\n",
       "  '1',\n",
       "  '5a3e658a958b484a8b50de560fc0984d',\n",
       "  '5a3e658a958b484a8b50de560fc0984d',\n",
       "  '7131',\n",
       "  'Apr',\n",
       "  '23',\n",
       "  '16:59',\n",
       "  '.Analisedados.ipynb.sage-jupyter'],\n",
       " ['-rw-r-----',\n",
       "  '1',\n",
       "  '5a3e658a958b484a8b50de560fc0984d',\n",
       "  '5a3e658a958b484a8b50de560fc0984d',\n",
       "  '70',\n",
       "  'Apr',\n",
       "  '24',\n",
       "  '17:34',\n",
       "  'arq_abril_outono.txt'],\n",
       " ['-rw-r-----',\n",
       "  '1',\n",
       "  '5a3e658a958b484a8b50de560fc0984d',\n",
       "  '5a3e658a958b484a8b50de560fc0984d',\n",
       "  '72',\n",
       "  'Apr',\n",
       "  '24',\n",
       "  '17:42',\n",
       "  'arq_agosto_inverno.txt'],\n",
       " ['-rw-r-----',\n",
       "  '1',\n",
       "  '5a3e658a958b484a8b50de560fc0984d',\n",
       "  '5a3e658a958b484a8b50de560fc0984d',\n",
       "  '75',\n",
       "  'Apr',\n",
       "  '24',\n",
       "  '17:51',\n",
       "  'arq_dezembro_verao.txt'],\n",
       " ['-rw-r-----',\n",
       "  '1',\n",
       "  '5a3e658a958b484a8b50de560fc0984d',\n",
       "  '5a3e658a958b484a8b50de560fc0984d',\n",
       "  '68',\n",
       "  'Apr',\n",
       "  '24',\n",
       "  '17:27',\n",
       "  'arq_fevereiro_verao.txt'],\n",
       " ['-rw-r-----',\n",
       "  '1',\n",
       "  '5a3e658a958b484a8b50de560fc0984d',\n",
       "  '5a3e658a958b484a8b50de560fc0984d',\n",
       "  '69',\n",
       "  'Apr',\n",
       "  '24',\n",
       "  '17:22',\n",
       "  'arq_janeiro_verao.txt'],\n",
       " ['-rw-r-----',\n",
       "  '1',\n",
       "  '5a3e658a958b484a8b50de560fc0984d',\n",
       "  '5a3e658a958b484a8b50de560fc0984d',\n",
       "  '70',\n",
       "  'Apr',\n",
       "  '24',\n",
       "  '17:40',\n",
       "  'arq_julho_inverno.txt'],\n",
       " ['-rw-r-----',\n",
       "  '1',\n",
       "  '5a3e658a958b484a8b50de560fc0984d',\n",
       "  '5a3e658a958b484a8b50de560fc0984d',\n",
       "  '71',\n",
       "  'Apr',\n",
       "  '24',\n",
       "  '17:38',\n",
       "  'arq_junho_inverno.txt'],\n",
       " ['-rw-r-----',\n",
       "  '1',\n",
       "  '5a3e658a958b484a8b50de560fc0984d',\n",
       "  '5a3e658a958b484a8b50de560fc0984d',\n",
       "  '68',\n",
       "  'Apr',\n",
       "  '24',\n",
       "  '17:36',\n",
       "  'arq_maio_outono.txt'],\n",
       " ['-rw-r-----',\n",
       "  '1',\n",
       "  '5a3e658a958b484a8b50de560fc0984d',\n",
       "  '5a3e658a958b484a8b50de560fc0984d',\n",
       "  '70',\n",
       "  'Apr',\n",
       "  '24',\n",
       "  '17:31',\n",
       "  'arq_marco_verao.txt'],\n",
       " ['-rw-r-----',\n",
       "  '1',\n",
       "  '5a3e658a958b484a8b50de560fc0984d',\n",
       "  '5a3e658a958b484a8b50de560fc0984d',\n",
       "  '77',\n",
       "  'Apr',\n",
       "  '24',\n",
       "  '17:50',\n",
       "  'arq_novembro_primavera.txt'],\n",
       " ['-rw-r-----',\n",
       "  '1',\n",
       "  '5a3e658a958b484a8b50de560fc0984d',\n",
       "  '5a3e658a958b484a8b50de560fc0984d',\n",
       "  '77',\n",
       "  'Apr',\n",
       "  '24',\n",
       "  '17:49',\n",
       "  'arq_novembro_primevera.txt'],\n",
       " ['-rw-r-----',\n",
       "  '1',\n",
       "  '5a3e658a958b484a8b50de560fc0984d',\n",
       "  '5a3e658a958b484a8b50de560fc0984d',\n",
       "  '76',\n",
       "  'Apr',\n",
       "  '24',\n",
       "  '17:47',\n",
       "  'arq_outubro_primavera.txt'],\n",
       " ['-rw-r-----',\n",
       "  '1',\n",
       "  '5a3e658a958b484a8b50de560fc0984d',\n",
       "  '5a3e658a958b484a8b50de560fc0984d',\n",
       "  '73',\n",
       "  'Apr',\n",
       "  '24',\n",
       "  '17:45',\n",
       "  'arq_setembro_inverno.txt'],\n",
       " ['-rw-r-----',\n",
       "  '1',\n",
       "  '5a3e658a958b484a8b50de560fc0984d',\n",
       "  '5a3e658a958b484a8b50de560fc0984d',\n",
       "  '3198',\n",
       "  'Apr',\n",
       "  '24',\n",
       "  '17:55',\n",
       "  'arquivo.zip'],\n",
       " ['-rw-r-----',\n",
       "  '1',\n",
       "  '5a3e658a958b484a8b50de560fc0984d',\n",
       "  '5a3e658a958b484a8b50de560fc0984d',\n",
       "  '19129',\n",
       "  'Apr',\n",
       "  '24',\n",
       "  '00:13',\n",
       "  '.Aula21.04.2017.ipynb.sage-jupyter'],\n",
       " ['-rw-r-----',\n",
       "  '1',\n",
       "  '5a3e658a958b484a8b50de560fc0984d',\n",
       "  '5a3e658a958b484a8b50de560fc0984d',\n",
       "  '17908',\n",
       "  'Apr',\n",
       "  '23',\n",
       "  '17:38',\n",
       "  '.Aula24.03.2017.ipynb.sage-jupyter'],\n",
       " ['-rw-r-----',\n",
       "  '1',\n",
       "  '5a3e658a958b484a8b50de560fc0984d',\n",
       "  '5a3e658a958b484a8b50de560fc0984d',\n",
       "  '228925',\n",
       "  'Apr',\n",
       "  '28',\n",
       "  '03:28',\n",
       "  'Aula24.04.2017.ipynb'],\n",
       " ['-rw-r-----',\n",
       "  '1',\n",
       "  '5a3e658a958b484a8b50de560fc0984d',\n",
       "  '5a3e658a958b484a8b50de560fc0984d',\n",
       "  '29620',\n",
       "  'Apr',\n",
       "  '28',\n",
       "  '03:28',\n",
       "  '.Aula24.04.2017.ipynb.sage-jupyter'],\n",
       " ['drwxr-x---',\n",
       "  '4',\n",
       "  '5a3e658a958b484a8b50de560fc0984d',\n",
       "  '5a3e658a958b484a8b50de560fc0984d',\n",
       "  '4096',\n",
       "  'Apr',\n",
       "  '24',\n",
       "  '15:33',\n",
       "  'cookbook-data'],\n",
       " ['-rw-r-----',\n",
       "  '1',\n",
       "  '5a3e658a958b484a8b50de560fc0984d',\n",
       "  '5a3e658a958b484a8b50de560fc0984d',\n",
       "  '1116',\n",
       "  'Apr',\n",
       "  '26',\n",
       "  '02:32',\n",
       "  'dicchar.csv'],\n",
       " ['-rw-r-----',\n",
       "  '1',\n",
       "  '5a3e658a958b484a8b50de560fc0984d',\n",
       "  '5a3e658a958b484a8b50de560fc0984d',\n",
       "  '43421',\n",
       "  'Apr',\n",
       "  '28',\n",
       "  '03:28',\n",
       "  'Exerciciosaula24.04.2017.ipynb'],\n",
       " ['-rw-r-----',\n",
       "  '1',\n",
       "  '5a3e658a958b484a8b50de560fc0984d',\n",
       "  '5a3e658a958b484a8b50de560fc0984d',\n",
       "  '28387',\n",
       "  'Apr',\n",
       "  '28',\n",
       "  '03:24',\n",
       "  '.Exerciciosaula24.04.2017.ipynb.sage-jupyter'],\n",
       " ['drwxr-x---',\n",
       "  '2',\n",
       "  '5a3e658a958b484a8b50de560fc0984d',\n",
       "  '5a3e658a958b484a8b50de560fc0984d',\n",
       "  '4096',\n",
       "  'Apr',\n",
       "  '24',\n",
       "  '16:54',\n",
       "  '.ipynb_checkpoints'],\n",
       " ['-rw-r-----',\n",
       "  '1',\n",
       "  '5a3e658a958b484a8b50de560fc0984d',\n",
       "  '5a3e658a958b484a8b50de560fc0984d',\n",
       "  '19127',\n",
       "  'Apr',\n",
       "  '23',\n",
       "  '19:48',\n",
       "  '.python.dados.pandas.ipynb.sage-jupyter'],\n",
       " ['-rw-r-----',\n",
       "  '1',\n",
       "  '5a3e658a958b484a8b50de560fc0984d',\n",
       "  '5a3e658a958b484a8b50de560fc0984d',\n",
       "  '0',\n",
       "  'Apr',\n",
       "  '28',\n",
       "  '03:28',\n",
       "  'teste.txt'],\n",
       " ['-rw-r-----',\n",
       "  '1',\n",
       "  '5a3e658a958b484a8b50de560fc0984d',\n",
       "  '5a3e658a958b484a8b50de560fc0984d',\n",
       "  '219',\n",
       "  'Apr',\n",
       "  '24',\n",
       "  '17:21',\n",
       "  'texto.txt']]"
      ]
     },
     "execution_count": 20,
     "metadata": {
     },
     "output_type": "execute_result"
    }
   ],
   "source": [
    "data"
   ]
  },
  {
   "cell_type": "code",
   "execution_count": 21,
   "metadata": {
    "collapsed": false
   },
   "outputs": [
   ],
   "source": [
    "filedict=[{'perm':list[0],'group':list[1],'user':list[2],'usercode':list[3],'filesize':int(list[4]),'mounth':list[5],'day':list[6],'hour':list[7],\n",
    "          'filename':list[8]} for list in data]\n",
    "df=pd.DataFrame(filedict)"
   ]
  },
  {
   "cell_type": "code",
   "execution_count": 30,
   "metadata": {
    "collapsed": false
   },
   "outputs": [
    {
     "data": {
      "text/html": [
       "<div>\n",
       "<table border=\"1\" class=\"dataframe\">\n",
       "  <thead>\n",
       "    <tr style=\"text-align: right;\">\n",
       "      <th></th>\n",
       "      <th>day</th>\n",
       "      <th>filename</th>\n",
       "      <th>filesize</th>\n",
       "      <th>group</th>\n",
       "      <th>hour</th>\n",
       "      <th>mounth</th>\n",
       "      <th>perm</th>\n",
       "      <th>user</th>\n",
       "      <th>usercode</th>\n",
       "      <th>stringdata</th>\n",
       "      <th>floatdate</th>\n",
       "    </tr>\n",
       "  </thead>\n",
       "  <tbody>\n",
       "    <tr>\n",
       "      <th>0</th>\n",
       "      <td>28</td>\n",
       "      <td>.</td>\n",
       "      <td>4096</td>\n",
       "      <td>4</td>\n",
       "      <td>03:28</td>\n",
       "      <td>Apr</td>\n",
       "      <td>drwxr-x---</td>\n",
       "      <td>5a3e658a958b484a8b50de560fc0984d</td>\n",
       "      <td>5a3e658a958b484a8b50de560fc0984d</td>\n",
       "      <td>2017 Apr 28 03:28</td>\n",
       "      <td>1.493350e+09</td>\n",
       "    </tr>\n",
       "    <tr>\n",
       "      <th>1</th>\n",
       "      <td>28</td>\n",
       "      <td>..</td>\n",
       "      <td>4096</td>\n",
       "      <td>20</td>\n",
       "      <td>03:10</td>\n",
       "      <td>Apr</td>\n",
       "      <td>drwx------</td>\n",
       "      <td>5a3e658a958b484a8b50de560fc0984d</td>\n",
       "      <td>5a3e658a958b484a8b50de560fc0984d</td>\n",
       "      <td>2017 Apr 28 03:10</td>\n",
       "      <td>1.493349e+09</td>\n",
       "    </tr>\n",
       "    <tr>\n",
       "      <th>2</th>\n",
       "      <td>23</td>\n",
       "      <td>.Analisedados.ipynb.sage-jupyter</td>\n",
       "      <td>7131</td>\n",
       "      <td>1</td>\n",
       "      <td>16:59</td>\n",
       "      <td>Apr</td>\n",
       "      <td>-rw-r-----</td>\n",
       "      <td>5a3e658a958b484a8b50de560fc0984d</td>\n",
       "      <td>5a3e658a958b484a8b50de560fc0984d</td>\n",
       "      <td>2017 Apr 23 16:59</td>\n",
       "      <td>1.492967e+09</td>\n",
       "    </tr>\n",
       "    <tr>\n",
       "      <th>3</th>\n",
       "      <td>24</td>\n",
       "      <td>arq_abril_outono.txt</td>\n",
       "      <td>70</td>\n",
       "      <td>1</td>\n",
       "      <td>17:34</td>\n",
       "      <td>Apr</td>\n",
       "      <td>-rw-r-----</td>\n",
       "      <td>5a3e658a958b484a8b50de560fc0984d</td>\n",
       "      <td>5a3e658a958b484a8b50de560fc0984d</td>\n",
       "      <td>2017 Apr 24 17:34</td>\n",
       "      <td>1.493055e+09</td>\n",
       "    </tr>\n",
       "    <tr>\n",
       "      <th>4</th>\n",
       "      <td>24</td>\n",
       "      <td>arq_agosto_inverno.txt</td>\n",
       "      <td>72</td>\n",
       "      <td>1</td>\n",
       "      <td>17:42</td>\n",
       "      <td>Apr</td>\n",
       "      <td>-rw-r-----</td>\n",
       "      <td>5a3e658a958b484a8b50de560fc0984d</td>\n",
       "      <td>5a3e658a958b484a8b50de560fc0984d</td>\n",
       "      <td>2017 Apr 24 17:42</td>\n",
       "      <td>1.493056e+09</td>\n",
       "    </tr>\n",
       "    <tr>\n",
       "      <th>5</th>\n",
       "      <td>24</td>\n",
       "      <td>arq_dezembro_verao.txt</td>\n",
       "      <td>75</td>\n",
       "      <td>1</td>\n",
       "      <td>17:51</td>\n",
       "      <td>Apr</td>\n",
       "      <td>-rw-r-----</td>\n",
       "      <td>5a3e658a958b484a8b50de560fc0984d</td>\n",
       "      <td>5a3e658a958b484a8b50de560fc0984d</td>\n",
       "      <td>2017 Apr 24 17:51</td>\n",
       "      <td>1.493056e+09</td>\n",
       "    </tr>\n",
       "    <tr>\n",
       "      <th>6</th>\n",
       "      <td>24</td>\n",
       "      <td>arq_fevereiro_verao.txt</td>\n",
       "      <td>68</td>\n",
       "      <td>1</td>\n",
       "      <td>17:27</td>\n",
       "      <td>Apr</td>\n",
       "      <td>-rw-r-----</td>\n",
       "      <td>5a3e658a958b484a8b50de560fc0984d</td>\n",
       "      <td>5a3e658a958b484a8b50de560fc0984d</td>\n",
       "      <td>2017 Apr 24 17:27</td>\n",
       "      <td>1.493055e+09</td>\n",
       "    </tr>\n",
       "    <tr>\n",
       "      <th>7</th>\n",
       "      <td>24</td>\n",
       "      <td>arq_janeiro_verao.txt</td>\n",
       "      <td>69</td>\n",
       "      <td>1</td>\n",
       "      <td>17:22</td>\n",
       "      <td>Apr</td>\n",
       "      <td>-rw-r-----</td>\n",
       "      <td>5a3e658a958b484a8b50de560fc0984d</td>\n",
       "      <td>5a3e658a958b484a8b50de560fc0984d</td>\n",
       "      <td>2017 Apr 24 17:22</td>\n",
       "      <td>1.493055e+09</td>\n",
       "    </tr>\n",
       "    <tr>\n",
       "      <th>8</th>\n",
       "      <td>24</td>\n",
       "      <td>arq_julho_inverno.txt</td>\n",
       "      <td>70</td>\n",
       "      <td>1</td>\n",
       "      <td>17:40</td>\n",
       "      <td>Apr</td>\n",
       "      <td>-rw-r-----</td>\n",
       "      <td>5a3e658a958b484a8b50de560fc0984d</td>\n",
       "      <td>5a3e658a958b484a8b50de560fc0984d</td>\n",
       "      <td>2017 Apr 24 17:40</td>\n",
       "      <td>1.493056e+09</td>\n",
       "    </tr>\n",
       "    <tr>\n",
       "      <th>9</th>\n",
       "      <td>24</td>\n",
       "      <td>arq_junho_inverno.txt</td>\n",
       "      <td>71</td>\n",
       "      <td>1</td>\n",
       "      <td>17:38</td>\n",
       "      <td>Apr</td>\n",
       "      <td>-rw-r-----</td>\n",
       "      <td>5a3e658a958b484a8b50de560fc0984d</td>\n",
       "      <td>5a3e658a958b484a8b50de560fc0984d</td>\n",
       "      <td>2017 Apr 24 17:38</td>\n",
       "      <td>1.493055e+09</td>\n",
       "    </tr>\n",
       "    <tr>\n",
       "      <th>10</th>\n",
       "      <td>24</td>\n",
       "      <td>arq_maio_outono.txt</td>\n",
       "      <td>68</td>\n",
       "      <td>1</td>\n",
       "      <td>17:36</td>\n",
       "      <td>Apr</td>\n",
       "      <td>-rw-r-----</td>\n",
       "      <td>5a3e658a958b484a8b50de560fc0984d</td>\n",
       "      <td>5a3e658a958b484a8b50de560fc0984d</td>\n",
       "      <td>2017 Apr 24 17:36</td>\n",
       "      <td>1.493055e+09</td>\n",
       "    </tr>\n",
       "    <tr>\n",
       "      <th>11</th>\n",
       "      <td>24</td>\n",
       "      <td>arq_marco_verao.txt</td>\n",
       "      <td>70</td>\n",
       "      <td>1</td>\n",
       "      <td>17:31</td>\n",
       "      <td>Apr</td>\n",
       "      <td>-rw-r-----</td>\n",
       "      <td>5a3e658a958b484a8b50de560fc0984d</td>\n",
       "      <td>5a3e658a958b484a8b50de560fc0984d</td>\n",
       "      <td>2017 Apr 24 17:31</td>\n",
       "      <td>1.493055e+09</td>\n",
       "    </tr>\n",
       "    <tr>\n",
       "      <th>12</th>\n",
       "      <td>24</td>\n",
       "      <td>arq_novembro_primavera.txt</td>\n",
       "      <td>77</td>\n",
       "      <td>1</td>\n",
       "      <td>17:50</td>\n",
       "      <td>Apr</td>\n",
       "      <td>-rw-r-----</td>\n",
       "      <td>5a3e658a958b484a8b50de560fc0984d</td>\n",
       "      <td>5a3e658a958b484a8b50de560fc0984d</td>\n",
       "      <td>2017 Apr 24 17:50</td>\n",
       "      <td>1.493056e+09</td>\n",
       "    </tr>\n",
       "    <tr>\n",
       "      <th>13</th>\n",
       "      <td>24</td>\n",
       "      <td>arq_novembro_primevera.txt</td>\n",
       "      <td>77</td>\n",
       "      <td>1</td>\n",
       "      <td>17:49</td>\n",
       "      <td>Apr</td>\n",
       "      <td>-rw-r-----</td>\n",
       "      <td>5a3e658a958b484a8b50de560fc0984d</td>\n",
       "      <td>5a3e658a958b484a8b50de560fc0984d</td>\n",
       "      <td>2017 Apr 24 17:49</td>\n",
       "      <td>1.493056e+09</td>\n",
       "    </tr>\n",
       "    <tr>\n",
       "      <th>14</th>\n",
       "      <td>24</td>\n",
       "      <td>arq_outubro_primavera.txt</td>\n",
       "      <td>76</td>\n",
       "      <td>1</td>\n",
       "      <td>17:47</td>\n",
       "      <td>Apr</td>\n",
       "      <td>-rw-r-----</td>\n",
       "      <td>5a3e658a958b484a8b50de560fc0984d</td>\n",
       "      <td>5a3e658a958b484a8b50de560fc0984d</td>\n",
       "      <td>2017 Apr 24 17:47</td>\n",
       "      <td>1.493056e+09</td>\n",
       "    </tr>\n",
       "    <tr>\n",
       "      <th>15</th>\n",
       "      <td>24</td>\n",
       "      <td>arq_setembro_inverno.txt</td>\n",
       "      <td>73</td>\n",
       "      <td>1</td>\n",
       "      <td>17:45</td>\n",
       "      <td>Apr</td>\n",
       "      <td>-rw-r-----</td>\n",
       "      <td>5a3e658a958b484a8b50de560fc0984d</td>\n",
       "      <td>5a3e658a958b484a8b50de560fc0984d</td>\n",
       "      <td>2017 Apr 24 17:45</td>\n",
       "      <td>1.493056e+09</td>\n",
       "    </tr>\n",
       "    <tr>\n",
       "      <th>16</th>\n",
       "      <td>24</td>\n",
       "      <td>arquivo.zip</td>\n",
       "      <td>3198</td>\n",
       "      <td>1</td>\n",
       "      <td>17:55</td>\n",
       "      <td>Apr</td>\n",
       "      <td>-rw-r-----</td>\n",
       "      <td>5a3e658a958b484a8b50de560fc0984d</td>\n",
       "      <td>5a3e658a958b484a8b50de560fc0984d</td>\n",
       "      <td>2017 Apr 24 17:55</td>\n",
       "      <td>1.493056e+09</td>\n",
       "    </tr>\n",
       "    <tr>\n",
       "      <th>17</th>\n",
       "      <td>24</td>\n",
       "      <td>.Aula21.04.2017.ipynb.sage-jupyter</td>\n",
       "      <td>19129</td>\n",
       "      <td>1</td>\n",
       "      <td>00:13</td>\n",
       "      <td>Apr</td>\n",
       "      <td>-rw-r-----</td>\n",
       "      <td>5a3e658a958b484a8b50de560fc0984d</td>\n",
       "      <td>5a3e658a958b484a8b50de560fc0984d</td>\n",
       "      <td>2017 Apr 24 00:13</td>\n",
       "      <td>1.492993e+09</td>\n",
       "    </tr>\n",
       "    <tr>\n",
       "      <th>18</th>\n",
       "      <td>23</td>\n",
       "      <td>.Aula24.03.2017.ipynb.sage-jupyter</td>\n",
       "      <td>17908</td>\n",
       "      <td>1</td>\n",
       "      <td>17:38</td>\n",
       "      <td>Apr</td>\n",
       "      <td>-rw-r-----</td>\n",
       "      <td>5a3e658a958b484a8b50de560fc0984d</td>\n",
       "      <td>5a3e658a958b484a8b50de560fc0984d</td>\n",
       "      <td>2017 Apr 23 17:38</td>\n",
       "      <td>1.492969e+09</td>\n",
       "    </tr>\n",
       "    <tr>\n",
       "      <th>19</th>\n",
       "      <td>28</td>\n",
       "      <td>Aula24.04.2017.ipynb</td>\n",
       "      <td>228925</td>\n",
       "      <td>1</td>\n",
       "      <td>03:28</td>\n",
       "      <td>Apr</td>\n",
       "      <td>-rw-r-----</td>\n",
       "      <td>5a3e658a958b484a8b50de560fc0984d</td>\n",
       "      <td>5a3e658a958b484a8b50de560fc0984d</td>\n",
       "      <td>2017 Apr 28 03:28</td>\n",
       "      <td>1.493350e+09</td>\n",
       "    </tr>\n",
       "    <tr>\n",
       "      <th>20</th>\n",
       "      <td>28</td>\n",
       "      <td>.Aula24.04.2017.ipynb.sage-jupyter</td>\n",
       "      <td>29620</td>\n",
       "      <td>1</td>\n",
       "      <td>03:28</td>\n",
       "      <td>Apr</td>\n",
       "      <td>-rw-r-----</td>\n",
       "      <td>5a3e658a958b484a8b50de560fc0984d</td>\n",
       "      <td>5a3e658a958b484a8b50de560fc0984d</td>\n",
       "      <td>2017 Apr 28 03:28</td>\n",
       "      <td>1.493350e+09</td>\n",
       "    </tr>\n",
       "    <tr>\n",
       "      <th>21</th>\n",
       "      <td>24</td>\n",
       "      <td>cookbook-data</td>\n",
       "      <td>4096</td>\n",
       "      <td>4</td>\n",
       "      <td>15:33</td>\n",
       "      <td>Apr</td>\n",
       "      <td>drwxr-x---</td>\n",
       "      <td>5a3e658a958b484a8b50de560fc0984d</td>\n",
       "      <td>5a3e658a958b484a8b50de560fc0984d</td>\n",
       "      <td>2017 Apr 24 15:33</td>\n",
       "      <td>1.493048e+09</td>\n",
       "    </tr>\n",
       "    <tr>\n",
       "      <th>22</th>\n",
       "      <td>26</td>\n",
       "      <td>dicchar.csv</td>\n",
       "      <td>1116</td>\n",
       "      <td>1</td>\n",
       "      <td>02:32</td>\n",
       "      <td>Apr</td>\n",
       "      <td>-rw-r-----</td>\n",
       "      <td>5a3e658a958b484a8b50de560fc0984d</td>\n",
       "      <td>5a3e658a958b484a8b50de560fc0984d</td>\n",
       "      <td>2017 Apr 26 02:32</td>\n",
       "      <td>1.493174e+09</td>\n",
       "    </tr>\n",
       "    <tr>\n",
       "      <th>23</th>\n",
       "      <td>28</td>\n",
       "      <td>Exerciciosaula24.04.2017.ipynb</td>\n",
       "      <td>43421</td>\n",
       "      <td>1</td>\n",
       "      <td>03:28</td>\n",
       "      <td>Apr</td>\n",
       "      <td>-rw-r-----</td>\n",
       "      <td>5a3e658a958b484a8b50de560fc0984d</td>\n",
       "      <td>5a3e658a958b484a8b50de560fc0984d</td>\n",
       "      <td>2017 Apr 28 03:28</td>\n",
       "      <td>1.493350e+09</td>\n",
       "    </tr>\n",
       "    <tr>\n",
       "      <th>24</th>\n",
       "      <td>28</td>\n",
       "      <td>.Exerciciosaula24.04.2017.ipynb.sage-jupyter</td>\n",
       "      <td>28387</td>\n",
       "      <td>1</td>\n",
       "      <td>03:24</td>\n",
       "      <td>Apr</td>\n",
       "      <td>-rw-r-----</td>\n",
       "      <td>5a3e658a958b484a8b50de560fc0984d</td>\n",
       "      <td>5a3e658a958b484a8b50de560fc0984d</td>\n",
       "      <td>2017 Apr 28 03:24</td>\n",
       "      <td>1.493350e+09</td>\n",
       "    </tr>\n",
       "    <tr>\n",
       "      <th>25</th>\n",
       "      <td>24</td>\n",
       "      <td>.ipynb_checkpoints</td>\n",
       "      <td>4096</td>\n",
       "      <td>2</td>\n",
       "      <td>16:54</td>\n",
       "      <td>Apr</td>\n",
       "      <td>drwxr-x---</td>\n",
       "      <td>5a3e658a958b484a8b50de560fc0984d</td>\n",
       "      <td>5a3e658a958b484a8b50de560fc0984d</td>\n",
       "      <td>2017 Apr 24 16:54</td>\n",
       "      <td>1.493053e+09</td>\n",
       "    </tr>\n",
       "    <tr>\n",
       "      <th>26</th>\n",
       "      <td>23</td>\n",
       "      <td>.python.dados.pandas.ipynb.sage-jupyter</td>\n",
       "      <td>19127</td>\n",
       "      <td>1</td>\n",
       "      <td>19:48</td>\n",
       "      <td>Apr</td>\n",
       "      <td>-rw-r-----</td>\n",
       "      <td>5a3e658a958b484a8b50de560fc0984d</td>\n",
       "      <td>5a3e658a958b484a8b50de560fc0984d</td>\n",
       "      <td>2017 Apr 23 19:48</td>\n",
       "      <td>1.492977e+09</td>\n",
       "    </tr>\n",
       "    <tr>\n",
       "      <th>27</th>\n",
       "      <td>28</td>\n",
       "      <td>teste.txt</td>\n",
       "      <td>0</td>\n",
       "      <td>1</td>\n",
       "      <td>03:28</td>\n",
       "      <td>Apr</td>\n",
       "      <td>-rw-r-----</td>\n",
       "      <td>5a3e658a958b484a8b50de560fc0984d</td>\n",
       "      <td>5a3e658a958b484a8b50de560fc0984d</td>\n",
       "      <td>2017 Apr 28 03:28</td>\n",
       "      <td>1.493350e+09</td>\n",
       "    </tr>\n",
       "    <tr>\n",
       "      <th>28</th>\n",
       "      <td>24</td>\n",
       "      <td>texto.txt</td>\n",
       "      <td>219</td>\n",
       "      <td>1</td>\n",
       "      <td>17:21</td>\n",
       "      <td>Apr</td>\n",
       "      <td>-rw-r-----</td>\n",
       "      <td>5a3e658a958b484a8b50de560fc0984d</td>\n",
       "      <td>5a3e658a958b484a8b50de560fc0984d</td>\n",
       "      <td>2017 Apr 24 17:21</td>\n",
       "      <td>1.493054e+09</td>\n",
       "    </tr>\n",
       "  </tbody>\n",
       "</table>\n",
       "</div>"
      ]
     },
     "execution_count": 30,
     "metadata": {
     },
     "output_type": "execute_result"
    }
   ],
   "source": [
    "df"
   ]
  },
  {
   "cell_type": "code",
   "execution_count": 29,
   "metadata": {
    "collapsed": false
   },
   "outputs": [
   ],
   "source": [
    "df['stringdata']=(\"2017\"+\" \"+df[\"mounth\"]+\" \"+df[\"day\"]+\" \"+df[\"hour\"])"
   ]
  },
  {
   "cell_type": "code",
   "execution_count": 26,
   "metadata": {
    "collapsed": false
   },
   "outputs": [
   ],
   "source": [
    "from datetime import date, timedelta,datetime"
   ]
  },
  {
   "cell_type": "code",
   "execution_count": 27,
   "metadata": {
    "collapsed": false
   },
   "outputs": [
   ],
   "source": [
    "df['floatdate']=[datetime.strptime(str, \"%Y %b %d %H:%M\").timestamp() for str in df['stringdata']]"
   ]
  },
  {
   "cell_type": "code",
   "execution_count": 28,
   "metadata": {
    "collapsed": false
   },
   "outputs": [
    {
     "data": {
      "text/plain": [
       "'.Analisedados.ipynb.sage-jupyter'"
      ]
     },
     "execution_count": 28,
     "metadata": {
     },
     "output_type": "execute_result"
    }
   ],
   "source": [
    "index=df['floatdate'].idxmin()\n",
    "df.ix[index][1]"
   ]
  },
  {
   "cell_type": "code",
   "execution_count": 29,
   "metadata": {
    "collapsed": false
   },
   "outputs": [
    {
     "data": {
      "text/html": [
       "<div>\n",
       "<table border=\"1\" class=\"dataframe\">\n",
       "  <thead>\n",
       "    <tr style=\"text-align: right;\">\n",
       "      <th></th>\n",
       "      <th>day</th>\n",
       "      <th>filename</th>\n",
       "      <th>filesize</th>\n",
       "      <th>group</th>\n",
       "      <th>hour</th>\n",
       "      <th>mounth</th>\n",
       "      <th>perm</th>\n",
       "      <th>user</th>\n",
       "      <th>usercode</th>\n",
       "    </tr>\n",
       "  </thead>\n",
       "  <tbody>\n",
       "    <tr>\n",
       "      <th>2</th>\n",
       "      <td>23</td>\n",
       "      <td>.Analisedados.ipynb.sage-jupyter</td>\n",
       "      <td>7131</td>\n",
       "      <td>1</td>\n",
       "      <td>16:59</td>\n",
       "      <td>Apr</td>\n",
       "      <td>-rw-r-----</td>\n",
       "      <td>5a3e658a958b484a8b50de560fc0984d</td>\n",
       "      <td>5a3e658a958b484a8b50de560fc0984d</td>\n",
       "    </tr>\n",
       "    <tr>\n",
       "      <th>18</th>\n",
       "      <td>23</td>\n",
       "      <td>.Aula24.03.2017.ipynb.sage-jupyter</td>\n",
       "      <td>17908</td>\n",
       "      <td>1</td>\n",
       "      <td>17:38</td>\n",
       "      <td>Apr</td>\n",
       "      <td>-rw-r-----</td>\n",
       "      <td>5a3e658a958b484a8b50de560fc0984d</td>\n",
       "      <td>5a3e658a958b484a8b50de560fc0984d</td>\n",
       "    </tr>\n",
       "    <tr>\n",
       "      <th>26</th>\n",
       "      <td>23</td>\n",
       "      <td>.python.dados.pandas.ipynb.sage-jupyter</td>\n",
       "      <td>19127</td>\n",
       "      <td>1</td>\n",
       "      <td>19:48</td>\n",
       "      <td>Apr</td>\n",
       "      <td>-rw-r-----</td>\n",
       "      <td>5a3e658a958b484a8b50de560fc0984d</td>\n",
       "      <td>5a3e658a958b484a8b50de560fc0984d</td>\n",
       "    </tr>\n",
       "  </tbody>\n",
       "</table>\n",
       "</div>"
      ]
     },
     "execution_count": 29,
     "metadata": {
     },
     "output_type": "execute_result"
    }
   ],
   "source": [
    "df[df['day']=='23']"
   ]
  },
  {
   "cell_type": "code",
   "execution_count": 46,
   "metadata": {
    "collapsed": false
   },
   "outputs": [
    {
     "data": {
      "text/plain": [
       "day                                       23\n",
       "filename    .Analisedados.ipynb.sage-jupyter\n",
       "filesize                                7131\n",
       "group                                      1\n",
       "hour                                   16:59\n",
       "mounth                                   Apr\n",
       "perm                              -rw-r-----\n",
       "user        5a3e658a958b484a8b50de560fc0984d\n",
       "usercode    5a3e658a958b484a8b50de560fc0984d\n",
       "Name: 2, dtype: object"
      ]
     },
     "execution_count": 46,
     "metadata": {
     },
     "output_type": "execute_result"
    }
   ],
   "source": [
    "df.ix[2]"
   ]
  },
  {
   "cell_type": "code",
   "execution_count": 48,
   "metadata": {
    "collapsed": false
   },
   "outputs": [
    {
     "data": {
      "text/plain": [
       "29"
      ]
     },
     "execution_count": 48,
     "metadata": {
     },
     "output_type": "execute_result"
    }
   ],
   "source": [
    "len(df['perm'])"
   ]
  },
  {
   "cell_type": "code",
   "execution_count": 50,
   "metadata": {
    "collapsed": false
   },
   "outputs": [
    {
     "data": {
      "text/plain": [
       "25"
      ]
     },
     "execution_count": 50,
     "metadata": {
     },
     "output_type": "execute_result"
    }
   ],
   "source": [
    "len([perm for perm  in df['perm'] if perm[0]==\"-\"])"
   ]
  },
  {
   "cell_type": "markdown",
   "metadata": {
    "collapsed": false
   },
   "source": [
    "#### 1.Com base nos dados de https://pt.wikipedia.org/w/index.php?title=Lista_de_epis%C3%B3dios_de_Pok%C3%A9mon&action=edit construa um dataframe para armazenar as informações sobre os episódios de Pokemon, contendo:\n",
    "#### 2.Série\n",
    "#### 3.Geração\n",
    "#### 4.Temporada\n",
    "#### 5.Primeiro Episódio\n",
    "#### 6.Último Episódio\n",
    "#### 7.Região\n",
    "#### 8.Descubra qual a geração mais longeva\n",
    "#### 9.Descubra quantas temporadas durou cada série"
   ]
  },
  {
   "cell_type": "markdown",
   "metadata": {
    "collapsed": false
   },
   "source": [
    "###### Exercícios 1:"
   ]
  },
  {
   "cell_type": "code",
   "execution_count": 59,
   "metadata": {
    "collapsed": false
   },
   "outputs": [
    {
     "data": {
      "text/html": [
       "<div>\n",
       "<table border=\"1\" class=\"dataframe\">\n",
       "  <thead>\n",
       "    <tr style=\"text-align: right;\">\n",
       "      <th></th>\n",
       "      <th>Série</th>\n",
       "      <th>Geração</th>\n",
       "      <th>Temporada</th>\n",
       "      <th>Primeiro Episódio</th>\n",
       "      <th>Último Episódio</th>\n",
       "      <th>Região</th>\n",
       "    </tr>\n",
       "  </thead>\n",
       "  <tbody>\n",
       "    <tr>\n",
       "      <th>0</th>\n",
       "      <td>Série Original</td>\n",
       "      <td>Primeira</td>\n",
       "      <td>Liga Índigo</td>\n",
       "      <td>1</td>\n",
       "      <td>83</td>\n",
       "      <td>Kanto</td>\n",
       "    </tr>\n",
       "    <tr>\n",
       "      <th>1</th>\n",
       "      <td>Série Original</td>\n",
       "      <td>Primeira</td>\n",
       "      <td>Aventuras na Ilha Laranja</td>\n",
       "      <td>084</td>\n",
       "      <td>118</td>\n",
       "      <td>Ilhas Laranjas</td>\n",
       "    </tr>\n",
       "    <tr>\n",
       "      <th>2</th>\n",
       "      <td>Séria Original</td>\n",
       "      <td>Segunda</td>\n",
       "      <td>A Jornada de Johto</td>\n",
       "      <td>119</td>\n",
       "      <td>159</td>\n",
       "      <td>Johyo</td>\n",
       "    </tr>\n",
       "    <tr>\n",
       "      <th>3</th>\n",
       "      <td>Séria Original</td>\n",
       "      <td>Segunda</td>\n",
       "      <td>Campeões da Liga de Jhoto</td>\n",
       "      <td>160</td>\n",
       "      <td>211</td>\n",
       "      <td>Johyo</td>\n",
       "    </tr>\n",
       "    <tr>\n",
       "      <th>4</th>\n",
       "      <td>Séria Original</td>\n",
       "      <td>Segunda</td>\n",
       "      <td>Master Quest</td>\n",
       "      <td>212</td>\n",
       "      <td>276</td>\n",
       "      <td>Johyo</td>\n",
       "    </tr>\n",
       "    <tr>\n",
       "      <th>5</th>\n",
       "      <td>Geração Avançada</td>\n",
       "      <td>Terçeira</td>\n",
       "      <td>Pokémon: Avançado</td>\n",
       "      <td>277</td>\n",
       "      <td>316</td>\n",
       "      <td>Hoenn</td>\n",
       "    </tr>\n",
       "    <tr>\n",
       "      <th>6</th>\n",
       "      <td>Geração Avançada</td>\n",
       "      <td>Terçeira</td>\n",
       "      <td>Desafio Avançado</td>\n",
       "      <td>317</td>\n",
       "      <td>368</td>\n",
       "      <td>Hoenn</td>\n",
       "    </tr>\n",
       "    <tr>\n",
       "      <th>7</th>\n",
       "      <td>Geração Avançada</td>\n",
       "      <td>Terçeira</td>\n",
       "      <td>Batalha Avançada</td>\n",
       "      <td>369</td>\n",
       "      <td>421</td>\n",
       "      <td>Hoenn</td>\n",
       "    </tr>\n",
       "    <tr>\n",
       "      <th>8</th>\n",
       "      <td>Geração Avançada</td>\n",
       "      <td>Terçeira</td>\n",
       "      <td>Batalha da Fronteira</td>\n",
       "      <td>422</td>\n",
       "      <td>468</td>\n",
       "      <td>Kanto</td>\n",
       "    </tr>\n",
       "    <tr>\n",
       "      <th>9</th>\n",
       "      <td>Diamante e Pérola</td>\n",
       "      <td>Qarta</td>\n",
       "      <td>Diamante e Pérola</td>\n",
       "      <td>469</td>\n",
       "      <td>520</td>\n",
       "      <td>Sinnoh</td>\n",
       "    </tr>\n",
       "    <tr>\n",
       "      <th>10</th>\n",
       "      <td>Diamante e Pérola</td>\n",
       "      <td>Qarta</td>\n",
       "      <td>Batalha Dimensional</td>\n",
       "      <td>521</td>\n",
       "      <td>572</td>\n",
       "      <td>Sinnoh</td>\n",
       "    </tr>\n",
       "    <tr>\n",
       "      <th>11</th>\n",
       "      <td>Diamante e Pérola</td>\n",
       "      <td>Qarta</td>\n",
       "      <td>Batalha Glácticas</td>\n",
       "      <td>573</td>\n",
       "      <td>625</td>\n",
       "      <td>Sinnoh</td>\n",
       "    </tr>\n",
       "    <tr>\n",
       "      <th>12</th>\n",
       "      <td>Diamante e Pérola</td>\n",
       "      <td>Qarta</td>\n",
       "      <td>Vencedores da Liga Sinnoh</td>\n",
       "      <td>626</td>\n",
       "      <td>659</td>\n",
       "      <td>Sinnoh</td>\n",
       "    </tr>\n",
       "    <tr>\n",
       "      <th>13</th>\n",
       "      <td>Preto e Branco</td>\n",
       "      <td>Quinta</td>\n",
       "      <td>Preto e Branco</td>\n",
       "      <td>660</td>\n",
       "      <td>707</td>\n",
       "      <td>Unova</td>\n",
       "    </tr>\n",
       "    <tr>\n",
       "      <th>14</th>\n",
       "      <td>Preto e Branco</td>\n",
       "      <td>Quinta</td>\n",
       "      <td>Destinos Rivais</td>\n",
       "      <td>708</td>\n",
       "      <td>756</td>\n",
       "      <td>Unova</td>\n",
       "    </tr>\n",
       "    <tr>\n",
       "      <th>15</th>\n",
       "      <td>Preto e Branco</td>\n",
       "      <td>Quinta</td>\n",
       "      <td>Aventuras em Unova (e Mais Além)</td>\n",
       "      <td>757</td>\n",
       "      <td>803</td>\n",
       "      <td>Unova</td>\n",
       "    </tr>\n",
       "    <tr>\n",
       "      <th>16</th>\n",
       "      <td>XY</td>\n",
       "      <td>Sexta</td>\n",
       "      <td>A Série XY</td>\n",
       "      <td>804</td>\n",
       "      <td>852</td>\n",
       "      <td>Kalos</td>\n",
       "    </tr>\n",
       "    <tr>\n",
       "      <th>17</th>\n",
       "      <td>XY</td>\n",
       "      <td>Sexta</td>\n",
       "      <td>Kalos Quest</td>\n",
       "      <td>853</td>\n",
       "      <td>897</td>\n",
       "      <td>Kalos</td>\n",
       "    </tr>\n",
       "    <tr>\n",
       "      <th>18</th>\n",
       "      <td>XY</td>\n",
       "      <td>Sexta</td>\n",
       "      <td>XY e Z</td>\n",
       "      <td>898</td>\n",
       "      <td>946</td>\n",
       "      <td>Kalos</td>\n",
       "    </tr>\n",
       "    <tr>\n",
       "      <th>19</th>\n",
       "      <td>Sun and Moon</td>\n",
       "      <td>Sétima</td>\n",
       "      <td>Sun and Moon</td>\n",
       "      <td>947</td>\n",
       "      <td>--</td>\n",
       "      <td>Alola</td>\n",
       "    </tr>\n",
       "  </tbody>\n",
       "</table>\n",
       "</div>"
      ]
     },
     "execution_count": 59,
     "metadata": {
     },
     "output_type": "execute_result"
    }
   ],
   "source": [
    "import pandas as pd\n",
    "dict=[{'Série': 'Série Original', 'Geração': 'Primeira', 'Temporada': 'Liga Índigo', 'Primeiro Episódio': int('001'), 'Último Episódio': int('083'), 'Região': 'Kanto' },\n",
    "      {'Série': 'Série Original','Geração':'Primeira','Temporada':'Aventuras na Ilha Laranja', 'Primeiro Episódio': '084', 'Último Episódio':'118', 'Região':'Ilhas Laranjas'},\n",
    "     {'Série':'Séria Original','Geração':'Segunda','Temporada':'A Jornada de Johto','Primeiro Episódio':'119','Último Episódio':'159','Região':'Johyo'},\n",
    "     {'Série':'Séria Original','Geração':'Segunda','Temporada':'Campeões da Liga de Jhoto','Primeiro Episódio':'160','Último Episódio':'211','Região':'Johyo'},\n",
    "     {'Série':'Séria Original','Geração':'Segunda','Temporada':'Master Quest','Primeiro Episódio':'212','Último Episódio':'276','Região':'Johyo'},\n",
    "     {'Série':'Geração Avançada','Geração':'Terçeira','Temporada':'Pokémon: Avançado','Primeiro Episódio':'277','Último Episódio':'316','Região':'Hoenn'},\n",
    "     {'Série':'Geração Avançada','Geração':'Terçeira','Temporada':'Desafio Avançado','Primeiro Episódio':'317','Último Episódio':'368','Região':'Hoenn'},\n",
    "     {'Série':'Geração Avançada','Geração':'Terçeira','Temporada':'Batalha Avançada','Primeiro Episódio':'369','Último Episódio':'421','Região':'Hoenn'},\n",
    "     {'Série':'Geração Avançada','Geração':'Terçeira','Temporada':'Batalha da Fronteira','Primeiro Episódio':'422','Último Episódio':'468','Região':'Kanto'},\n",
    "     {'Série':'Diamante e Pérola','Geração':'Qarta','Temporada':'Diamante e Pérola','Primeiro Episódio':'469','Último Episódio':'520','Região':'Sinnoh'},\n",
    "     {'Série':'Diamante e Pérola','Geração':'Qarta','Temporada':'Batalha Dimensional','Primeiro Episódio':'521','Último Episódio':'572','Região':'Sinnoh'},\n",
    "     {'Série':'Diamante e Pérola','Geração':'Qarta','Temporada':'Batalha Glácticas','Primeiro Episódio':'573','Último Episódio':'625','Região':'Sinnoh'},\n",
    "     {'Série':'Diamante e Pérola','Geração':'Qarta','Temporada':'Vencedores da Liga Sinnoh','Primeiro Episódio':'626','Último Episódio':'659','Região':'Sinnoh'},\n",
    "     {'Série':'Preto e Branco','Geração':'Quinta','Temporada':'Preto e Branco','Primeiro Episódio':'660','Último Episódio':'707','Região':'Unova'},\n",
    "     {'Série':'Preto e Branco','Geração':'Quinta','Temporada':'Destinos Rivais','Primeiro Episódio':'708','Último Episódio':'756','Região':'Unova'},\n",
    "     {'Série':'Preto e Branco','Geração':'Quinta','Temporada':'Aventuras em Unova (e Mais Além)','Primeiro Episódio':'757','Último Episódio':'803','Região':'Unova'},\n",
    "     {'Série':'XY','Geração':'Sexta','Temporada':'A Série XY','Primeiro Episódio':'804','Último Episódio':'852','Região':'Kalos'},\n",
    "     {'Série':'XY','Geração':'Sexta','Temporada':'Kalos Quest','Primeiro Episódio':'853','Último Episódio':'897','Região':'Kalos'},\n",
    "     {'Série':'XY','Geração':'Sexta','Temporada':'XY e Z','Primeiro Episódio':'898','Último Episódio':'946','Região':'Kalos'},\n",
    "     {'Série':'Sun and Moon','Geração':'Sétima','Temporada':'Sun and Moon','Primeiro Episódio':'947','Último Episódio':'--','Região':'Alola'}]\n",
    "df=pd.DataFrame(dict)\n",
    "df[['Série', 'Geração', 'Temporada', 'Primeiro Episódio' , 'Último Episódio', 'Região']]"
   ]
  },
  {
   "cell_type": "code",
   "execution_count": 34,
   "metadata": {
    "collapsed": false
   },
   "outputs": [
    {
     "data": {
      "text/html": [
       "<div>\n",
       "<table border=\"1\" class=\"dataframe\">\n",
       "  <thead>\n",
       "    <tr style=\"text-align: right;\">\n",
       "      <th></th>\n",
       "      <th>Primeiro Episódio</th>\n",
       "      <th>Último Episódio</th>\n",
       "    </tr>\n",
       "  </thead>\n",
       "  <tbody>\n",
       "    <tr>\n",
       "      <th>0</th>\n",
       "      <td>1</td>\n",
       "      <td>83</td>\n",
       "    </tr>\n",
       "    <tr>\n",
       "      <th>1</th>\n",
       "      <td>084</td>\n",
       "      <td>118</td>\n",
       "    </tr>\n",
       "    <tr>\n",
       "      <th>2</th>\n",
       "      <td>119</td>\n",
       "      <td>159</td>\n",
       "    </tr>\n",
       "    <tr>\n",
       "      <th>3</th>\n",
       "      <td>160</td>\n",
       "      <td>211</td>\n",
       "    </tr>\n",
       "    <tr>\n",
       "      <th>4</th>\n",
       "      <td>212</td>\n",
       "      <td>276</td>\n",
       "    </tr>\n",
       "    <tr>\n",
       "      <th>5</th>\n",
       "      <td>277</td>\n",
       "      <td>316</td>\n",
       "    </tr>\n",
       "    <tr>\n",
       "      <th>6</th>\n",
       "      <td>317</td>\n",
       "      <td>368</td>\n",
       "    </tr>\n",
       "    <tr>\n",
       "      <th>7</th>\n",
       "      <td>369</td>\n",
       "      <td>421</td>\n",
       "    </tr>\n",
       "    <tr>\n",
       "      <th>8</th>\n",
       "      <td>422</td>\n",
       "      <td>468</td>\n",
       "    </tr>\n",
       "    <tr>\n",
       "      <th>9</th>\n",
       "      <td>469</td>\n",
       "      <td>520</td>\n",
       "    </tr>\n",
       "    <tr>\n",
       "      <th>10</th>\n",
       "      <td>521</td>\n",
       "      <td>572</td>\n",
       "    </tr>\n",
       "    <tr>\n",
       "      <th>11</th>\n",
       "      <td>573</td>\n",
       "      <td>625</td>\n",
       "    </tr>\n",
       "    <tr>\n",
       "      <th>12</th>\n",
       "      <td>626</td>\n",
       "      <td>659</td>\n",
       "    </tr>\n",
       "    <tr>\n",
       "      <th>13</th>\n",
       "      <td>660</td>\n",
       "      <td>707</td>\n",
       "    </tr>\n",
       "    <tr>\n",
       "      <th>14</th>\n",
       "      <td>708</td>\n",
       "      <td>756</td>\n",
       "    </tr>\n",
       "    <tr>\n",
       "      <th>15</th>\n",
       "      <td>757</td>\n",
       "      <td>803</td>\n",
       "    </tr>\n",
       "    <tr>\n",
       "      <th>16</th>\n",
       "      <td>804</td>\n",
       "      <td>852</td>\n",
       "    </tr>\n",
       "    <tr>\n",
       "      <th>17</th>\n",
       "      <td>853</td>\n",
       "      <td>897</td>\n",
       "    </tr>\n",
       "    <tr>\n",
       "      <th>18</th>\n",
       "      <td>898</td>\n",
       "      <td>946</td>\n",
       "    </tr>\n",
       "    <tr>\n",
       "      <th>19</th>\n",
       "      <td>947</td>\n",
       "      <td>--</td>\n",
       "    </tr>\n",
       "  </tbody>\n",
       "</table>\n",
       "</div>"
      ]
     },
     "execution_count": 34,
     "metadata": {
     },
     "output_type": "execute_result"
    }
   ],
   "source": [
    "df[['Primeiro Episódio','Último Episódio']]"
   ]
  },
  {
   "cell_type": "code",
   "execution_count": 53,
   "metadata": {
    "collapsed": false
   },
   "outputs": [
   ],
   "source": [
    "dict1=[{'Diferênça':'82'},\n",
    "      {'Diferênça':'34'},{'Diferênça':'40'},{'Diferênça':'61'},{'Diferênça':'64'},\n",
    "      {'Diferênça':'39'},{'Diferênça':'51'},{'Diferênça':'52'},{'Diferênça':'46'},\n",
    "      {'Diferênça':'51'},{'Diferênça':'51'},{'Diferênça':'52'},{'Diferênça':'33'},\n",
    "      {'Diferênça':'47'},{'Diferênça':'48'},{'Diferênça':'47'},{'Diferênça':'48'},\n",
    "      {'Diferênça':'44'},{'Diferênça':'48'},{'Diferênça':'--'},]\n",
    "df1=pd.DataFrame(dict1)"
   ]
  },
  {
   "cell_type": "code",
   "execution_count": 54,
   "metadata": {
    "collapsed": false
   },
   "outputs": [
    {
     "data": {
      "text/html": [
       "<div>\n",
       "<table border=\"1\" class=\"dataframe\">\n",
       "  <thead>\n",
       "    <tr style=\"text-align: right;\">\n",
       "      <th></th>\n",
       "      <th>Diferênça</th>\n",
       "    </tr>\n",
       "  </thead>\n",
       "  <tbody>\n",
       "    <tr>\n",
       "      <th>0</th>\n",
       "      <td>82</td>\n",
       "    </tr>\n",
       "    <tr>\n",
       "      <th>1</th>\n",
       "      <td>34</td>\n",
       "    </tr>\n",
       "    <tr>\n",
       "      <th>2</th>\n",
       "      <td>40</td>\n",
       "    </tr>\n",
       "    <tr>\n",
       "      <th>3</th>\n",
       "      <td>61</td>\n",
       "    </tr>\n",
       "    <tr>\n",
       "      <th>4</th>\n",
       "      <td>64</td>\n",
       "    </tr>\n",
       "    <tr>\n",
       "      <th>5</th>\n",
       "      <td>39</td>\n",
       "    </tr>\n",
       "    <tr>\n",
       "      <th>6</th>\n",
       "      <td>51</td>\n",
       "    </tr>\n",
       "    <tr>\n",
       "      <th>7</th>\n",
       "      <td>52</td>\n",
       "    </tr>\n",
       "    <tr>\n",
       "      <th>8</th>\n",
       "      <td>46</td>\n",
       "    </tr>\n",
       "    <tr>\n",
       "      <th>9</th>\n",
       "      <td>51</td>\n",
       "    </tr>\n",
       "    <tr>\n",
       "      <th>10</th>\n",
       "      <td>51</td>\n",
       "    </tr>\n",
       "    <tr>\n",
       "      <th>11</th>\n",
       "      <td>52</td>\n",
       "    </tr>\n",
       "    <tr>\n",
       "      <th>12</th>\n",
       "      <td>33</td>\n",
       "    </tr>\n",
       "    <tr>\n",
       "      <th>13</th>\n",
       "      <td>47</td>\n",
       "    </tr>\n",
       "    <tr>\n",
       "      <th>14</th>\n",
       "      <td>48</td>\n",
       "    </tr>\n",
       "    <tr>\n",
       "      <th>15</th>\n",
       "      <td>47</td>\n",
       "    </tr>\n",
       "    <tr>\n",
       "      <th>16</th>\n",
       "      <td>48</td>\n",
       "    </tr>\n",
       "    <tr>\n",
       "      <th>17</th>\n",
       "      <td>44</td>\n",
       "    </tr>\n",
       "    <tr>\n",
       "      <th>18</th>\n",
       "      <td>48</td>\n",
       "    </tr>\n",
       "    <tr>\n",
       "      <th>19</th>\n",
       "      <td>--</td>\n",
       "    </tr>\n",
       "  </tbody>\n",
       "</table>\n",
       "</div>"
      ]
     },
     "execution_count": 54,
     "metadata": {
     },
     "output_type": "execute_result"
    }
   ],
   "source": [
    "df1"
   ]
  },
  {
   "cell_type": "code",
   "execution_count": 57,
   "metadata": {
    "collapsed": false
   },
   "outputs": [
    {
     "data": {
      "text/plain": [
       "'82'"
      ]
     },
     "execution_count": 57,
     "metadata": {
     },
     "output_type": "execute_result"
    }
   ],
   "source": [
    "df1['Diferênça'].max()"
   ]
  },
  {
   "cell_type": "markdown",
   "metadata": {
    "collapsed": false
   },
   "source": [
    "##### A maior temporada séra:"
   ]
  },
  {
   "cell_type": "code",
   "execution_count": 60,
   "metadata": {
    "collapsed": false
   },
   "outputs": [
    {
     "data": {
      "text/plain": [
       "Geração                    Primeira\n",
       "Primeiro Episódio                 1\n",
       "Região                        Kanto\n",
       "Série                Série Original\n",
       "Temporada               Liga Índigo\n",
       "Último Episódio                  83\n",
       "Name: 0, dtype: object"
      ]
     },
     "execution_count": 60,
     "metadata": {
     },
     "output_type": "execute_result"
    }
   ],
   "source": [
    "df.ix[0]"
   ]
  }
 ],
 "metadata": {
  "kernelspec": {
   "display_name": "Python 3 (Ubuntu Linux)",
   "language": "python",
   "name": "python3"
  },
  "language_info": {
   "codemirror_mode": {
    "name": "ipython",
    "version": 3
   },
   "file_extension": ".py",
   "mimetype": "text/x-python",
   "name": "python",
   "nbconvert_exporter": "python",
   "pygments_lexer": "ipython3",
   "version": "3.4.3+"
  }
 },
 "nbformat": 4,
 "nbformat_minor": 0
}