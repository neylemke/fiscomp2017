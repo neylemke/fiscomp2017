{
 "cells": [
  {
   "cell_type": "markdown",
   "metadata": {
    "collapsed": false
   },
   "source": [
    "### AINDA NAO TERMINEI\n",
    "\n",
    "Exercícios (0.25 pts)\n",
    "\n",
    "Com base nos dados de https://pt.wikipedia.org/w/index.php?title=Lista_de_epis%C3%B3dios_de_Pok%C3%A9mon&action=edit construa um dataframe para armazenar as informações sobre os episódios de Pokemon, contendo:\n",
    "Série\n",
    "Geração\n",
    "Temporada\n",
    "Primeiro Episódio\n",
    "Último Episódio\n",
    "Região\n",
    "Descubra qual a geração mais longeva\n",
    "Descubra quantas temporadas durou cada série"
   ]
  }
 ],
 "metadata": {
  "kernelspec": {
   "display_name": "Python 2 (SageMath)",
   "language": "python",
   "name": "python2"
  },
  "language_info": {
   "codemirror_mode": {
    "name": "ipython",
    "version": 2
   },
   "file_extension": ".py",
   "mimetype": "text/x-python",
   "name": "python",
   "nbconvert_exporter": "python",
   "pygments_lexer": "ipython2",
   "version": "2.7.13"
  }
 },
 "nbformat": 4,
 "nbformat_minor": 0
}
