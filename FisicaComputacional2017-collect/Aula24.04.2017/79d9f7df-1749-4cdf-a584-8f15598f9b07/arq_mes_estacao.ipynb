{
 "cells": [
  {
   "cell_type": "code",
   "execution_count": 50,
   "metadata": {
    "collapsed": false
   },
   "outputs": [
    {
     "name": "stdout",
     "output_type": "stream",
     "text": [
      "Writing arq_dezembro_verao.txt\n"
     ]
    }
   ],
   "source": [
    "%%writefile arq_dezembro_verao.txt\n",
    "Minha estacao preferida e o verao, especialmento o mes de dezembro\n",
    "'Minha estacao preferida e o verao, especialmento o mes de dezembroMinha estacao preferida e o verao, especialmento o mes de dezembroMinha estacao preferida e o verao, especialmento o mes de dezembroMinha estacao preferida e o verao, especialmento o mes de dezembroMinha estacao preferida e o verao, especialmento o mes de dezembroMinha estacao preferida e o verao, especialmento o mes de dezembroMinha estacao preferida e o verao, especialmento o mes de dezembroMinha estacao preferida e o verao, especialmento o mes de dezembroMinha estacao preferida e o verao, especialmento o mes de dezembro'\n",
    "\n",
    "\n",
    "\n"
   ]
  },
  {
   "cell_type": "code",
   "execution_count": 49,
   "metadata": {
    "collapsed": false
   },
   "outputs": [
    {
     "data": {
      "text/plain": [
       "'Minha estacao preferida e o verao, especialmento o mes de dezembroMinha estacao preferida e o verao, especialmento o mes de dezembroMinha estacao preferida e o verao, especialmento o mes de dezembroMinha estacao preferida e o verao, especialmento o mes de dezembroMinha estacao preferida e o verao, especialmento o mes de dezembroMinha estacao preferida e o verao, especialmento o mes de dezembroMinha estacao preferida e o verao, especialmento o mes de dezembroMinha estacao preferida e o verao, especialmento o mes de dezembroMinha estacao preferida e o verao, especialmento o mes de dezembro'"
      ]
     },
     "execution_count": 49,
     "metadata": {},
     "output_type": "execute_result"
    }
   ],
   "source": [
    "from random import randint \n",
    "randint(5,10)*'Minha estacao preferida e o verao, especialmento o mes de dezembro'\n"
   ]
  },
  {
   "cell_type": "code",
   "execution_count": null,
   "metadata": {
    "collapsed": true
   },
   "outputs": [],
   "source": []
  }
 ],
 "metadata": {
  "kernelspec": {
   "display_name": "Python 2 (SageMath)",
   "language": "python",
   "name": "python2"
  },
  "language_info": {
   "codemirror_mode": {
    "name": "ipython",
    "version": 2
   },
   "file_extension": ".py",
   "mimetype": "text/x-python",
   "name": "python",
   "nbconvert_exporter": "python",
   "pygments_lexer": "ipython2",
   "version": "2.7.13"
  }
 },
 "nbformat": 4,
 "nbformat_minor": 0
}
