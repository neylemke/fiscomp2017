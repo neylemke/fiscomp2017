{
 "cells": [
  {
   "cell_type": "code",
   "execution_count": 3,
   "metadata": {
    "collapsed": false
   },
   "outputs": [
    {
     "data": {
      "text/plain": [
       "'A minha estacao predileta e o inverno, especialmente julhoA minha estacao predileta e o inverno, especialmente julhoA minha estacao predileta e o inverno, especialmente julhoA minha estacao predileta e o inverno, especialmente julhoA minha estacao predileta e o inverno, especialmente julhoA minha estacao predileta e o inverno, especialmente julhoA minha estacao predileta e o inverno, especialmente julhoA minha estacao predileta e o inverno, especialmente julhoA minha estacao predileta e o inverno, especialmente julhoA minha estacao predileta e o inverno, especialmente julhoA minha estacao predileta e o inverno, especialmente julhoA minha estacao predileta e o inverno, especialmente julhoA minha estacao predileta e o inverno, especialmente julhoA minha estacao predileta e o inverno, especialmente julhoA minha estacao predileta e o inverno, especialmente julhoA minha estacao predileta e o inverno, especialmente julhoA minha estacao predileta e o inverno, especialmente julhoA minha estacao predileta e o inverno, especialmente julho'"
      ]
     },
     "execution_count": 3,
     "metadata": {
     },
     "output_type": "execute_result"
    }
   ],
   "source": [
    "%%writefile julho_inverno.txt\n",
    "\n",
    "from random import randint\n",
    "\n",
    "randint (5,25)*\"A minha estacao predileta e o inverno, especialmente julho\"\n",
    "\n"
   ]
  },
  {
   "cell_type": "code",
   "execution_count": 0,
   "metadata": {
    "collapsed": true
   },
   "outputs": [
   ],
   "source": [
    "A minha estação predileta é o inverno, especialmente julho"
   ]
  }
 ],
 "metadata": {
  "kernelspec": {
   "display_name": "Python 2 (SageMath)",
   "language": "python",
   "name": "python2"
  },
  "language_info": {
   "codemirror_mode": {
    "name": "ipython",
    "version": 2
   },
   "file_extension": ".py",
   "mimetype": "text/x-python",
   "name": "python",
   "nbconvert_exporter": "python",
   "pygments_lexer": "ipython2",
   "version": "2.7.13"
  }
 },
 "nbformat": 4,
 "nbformat_minor": 0
}