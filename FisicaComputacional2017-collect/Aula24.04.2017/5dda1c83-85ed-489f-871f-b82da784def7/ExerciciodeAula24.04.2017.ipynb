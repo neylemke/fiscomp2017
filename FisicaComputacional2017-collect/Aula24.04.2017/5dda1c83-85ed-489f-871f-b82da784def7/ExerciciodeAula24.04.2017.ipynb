{
 "cells": [
  {
   "cell_type": "code",
   "execution_count": 4,
   "metadata": {
    "collapsed": false
   },
   "outputs": [
   ],
   "source": [
    "fiscom={'curso': 'python', 'alunos':38,'disciplina': 'Fisica Computacional'}"
   ]
  },
  {
   "cell_type": "code",
   "execution_count": 5,
   "metadata": {
    "collapsed": false
   },
   "outputs": [
    {
     "data": {
      "text/plain": [
       "'python'"
      ]
     },
     "execution_count": 5,
     "metadata": {
     },
     "output_type": "execute_result"
    }
   ],
   "source": [
    "fiscom['curso']"
   ]
  },
  {
   "cell_type": "code",
   "execution_count": 62,
   "metadata": {
    "collapsed": false
   },
   "outputs": [
    {
     "name": "stdout",
     "output_type": "stream",
     "text": [
      "A minha estação preferida é novembro, especialmente o mes primaveraA minha estação preferida é novembro, especialmente o mes primaveraA minha estação preferida é novembro, especialmente o mes primaveraA minha estação preferida é novembro, especialmente o mes primaveraA minha estação preferida é novembro, especialmente o mes primaveraA minha estação preferida é novembro, especialmente o mes primaveraA minha estação preferida é novembro, especialmente o mes primaveraA minha estação preferida é novembro, especialmente o mes primaveraA minha estação preferida é novembro, especialmente o mes primaveraA minha estação preferida é novembro, especialmente o mes primaveraA minha estação preferida é novembro, especialmente o mes primaveraA minha estação preferida é novembro, especialmente o mes primaveraA minha estação preferida é novembro, especialmente o mes primavera\n",
      "A minha estação preferida é marco, especialmente o mes outonoA minha estação preferida é marco, especialmente o mes outonoA minha estação preferida é marco, especialmente o mes outonoA minha estação preferida é marco, especialmente o mes outonoA minha estação preferida é marco, especialmente o mes outonoA minha estação preferida é marco, especialmente o mes outonoA minha estação preferida é marco, especialmente o mes outonoA minha estação preferida é marco, especialmente o mes outonoA minha estação preferida é marco, especialmente o mes outonoA minha estação preferida é marco, especialmente o mes outonoA minha estação preferida é marco, especialmente o mes outono\n",
      "A minha estação preferida é julho, especialmente o mes invernoA minha estação preferida é julho, especialmente o mes invernoA minha estação preferida é julho, especialmente o mes invernoA minha estação preferida é julho, especialmente o mes invernoA minha estação preferida é julho, especialmente o mes invernoA minha estação preferida é julho, especialmente o mes invernoA minha estação preferida é julho, especialmente o mes invernoA minha estação preferida é julho, especialmente o mes invernoA minha estação preferida é julho, especialmente o mes invernoA minha estação preferida é julho, especialmente o mes invernoA minha estação preferida é julho, especialmente o mes invernoA minha estação preferida é julho, especialmente o mes inverno\n",
      "A minha estação preferida é agosto, especialmente o mes invernoA minha estação preferida é agosto, especialmente o mes invernoA minha estação preferida é agosto, especialmente o mes invernoA minha estação preferida é agosto, especialmente o mes invernoA minha estação preferida é agosto, especialmente o mes invernoA minha estação preferida é agosto, especialmente o mes invernoA minha estação preferida é agosto, especialmente o mes invernoA minha estação preferida é agosto, especialmente o mes invernoA minha estação preferida é agosto, especialmente o mes invernoA minha estação preferida é agosto, especialmente o mes invernoA minha estação preferida é agosto, especialmente o mes invernoA minha estação preferida é agosto, especialmente o mes invernoA minha estação preferida é agosto, especialmente o mes invernoA minha estação preferida é agosto, especialmente o mes invernoA minha estação preferida é agosto, especialmente o mes invernoA minha estação preferida é agosto, especialmente o mes invernoA minha estação preferida é agosto, especialmente o mes invernoA minha estação preferida é agosto, especialmente o mes inverno\n",
      "A minha estação preferida é fevereiro, especialmente o mes veraoA minha estação preferida é fevereiro, especialmente o mes veraoA minha estação preferida é fevereiro, especialmente o mes veraoA minha estação preferida é fevereiro, especialmente o mes veraoA minha estação preferida é fevereiro, especialmente o mes verao\n",
      "A minha estação preferida é junho, especialmente o mes invernoA minha estação preferida é junho, especialmente o mes invernoA minha estação preferida é junho, especialmente o mes invernoA minha estação preferida é junho, especialmente o mes invernoA minha estação preferida é junho, especialmente o mes invernoA minha estação preferida é junho, especialmente o mes invernoA minha estação preferida é junho, especialmente o mes invernoA minha estação preferida é junho, especialmente o mes invernoA minha estação preferida é junho, especialmente o mes invernoA minha estação preferida é junho, especialmente o mes invernoA minha estação preferida é junho, especialmente o mes inverno\n",
      "A minha estação preferida é dezembro, especialmente o mes veraoA minha estação preferida é dezembro, especialmente o mes veraoA minha estação preferida é dezembro, especialmente o mes veraoA minha estação preferida é dezembro, especialmente o mes veraoA minha estação preferida é dezembro, especialmente o mes veraoA minha estação preferida é dezembro, especialmente o mes veraoA minha estação preferida é dezembro, especialmente o mes veraoA minha estação preferida é dezembro, especialmente o mes veraoA minha estação preferida é dezembro, especialmente o mes veraoA minha estação preferida é dezembro, especialmente o mes veraoA minha estação preferida é dezembro, especialmente o mes veraoA minha estação preferida é dezembro, especialmente o mes veraoA minha estação preferida é dezembro, especialmente o mes veraoA minha estação preferida é dezembro, especialmente o mes veraoA minha estação preferida é dezembro, especialmente o mes verao\n",
      "A minha estação preferida é janeiro, especialmente o mes veraoA minha estação preferida é janeiro, especialmente o mes veraoA minha estação preferida é janeiro, especialmente o mes veraoA minha estação preferida é janeiro, especialmente o mes veraoA minha estação preferida é janeiro, especialmente o mes veraoA minha estação preferida é janeiro, especialmente o mes veraoA minha estação preferida é janeiro, especialmente o mes veraoA minha estação preferida é janeiro, especialmente o mes veraoA minha estação preferida é janeiro, especialmente o mes veraoA minha estação preferida é janeiro, especialmente o mes veraoA minha estação preferida é janeiro, especialmente o mes veraoA minha estação preferida é janeiro, especialmente o mes veraoA minha estação preferida é janeiro, especialmente o mes veraoA minha estação preferida é janeiro, especialmente o mes veraoA minha estação preferida é janeiro, especialmente o mes veraoA minha estação preferida é janeiro, especialmente o mes veraoA minha estação preferida é janeiro, especialmente o mes verao\n",
      "A minha estação preferida é abril, especialmente o mes outonoA minha estação preferida é abril, especialmente o mes outonoA minha estação preferida é abril, especialmente o mes outonoA minha estação preferida é abril, especialmente o mes outonoA minha estação preferida é abril, especialmente o mes outonoA minha estação preferida é abril, especialmente o mes outonoA minha estação preferida é abril, especialmente o mes outonoA minha estação preferida é abril, especialmente o mes outonoA minha estação preferida é abril, especialmente o mes outonoA minha estação preferida é abril, especialmente o mes outonoA minha estação preferida é abril, especialmente o mes outonoA minha estação preferida é abril, especialmente o mes outono\n",
      "A minha estação preferida é maio, especialmente o mes outonoA minha estação preferida é maio, especialmente o mes outonoA minha estação preferida é maio, especialmente o mes outonoA minha estação preferida é maio, especialmente o mes outonoA minha estação preferida é maio, especialmente o mes outonoA minha estação preferida é maio, especialmente o mes outonoA minha estação preferida é maio, especialmente o mes outonoA minha estação preferida é maio, especialmente o mes outonoA minha estação preferida é maio, especialmente o mes outonoA minha estação preferida é maio, especialmente o mes outonoA minha estação preferida é maio, especialmente o mes outonoA minha estação preferida é maio, especialmente o mes outonoA minha estação preferida é maio, especialmente o mes outonoA minha estação preferida é maio, especialmente o mes outonoA minha estação preferida é maio, especialmente o mes outonoA minha estação preferida é maio, especialmente o mes outono\n",
      "A minha estação preferida é outubro, especialmente o mes primaveraA minha estação preferida é outubro, especialmente o mes primaveraA minha estação preferida é outubro, especialmente o mes primaveraA minha estação preferida é outubro, especialmente o mes primaveraA minha estação preferida é outubro, especialmente o mes primaveraA minha estação preferida é outubro, especialmente o mes primaveraA minha estação preferida é outubro, especialmente o mes primaveraA minha estação preferida é outubro, especialmente o mes primaveraA minha estação preferida é outubro, especialmente o mes primaveraA minha estação preferida é outubro, especialmente o mes primaveraA minha estação preferida é outubro, especialmente o mes primaveraA minha estação preferida é outubro, especialmente o mes primaveraA minha estação preferida é outubro, especialmente o mes primaveraA minha estação preferida é outubro, especialmente o mes primaveraA minha estação preferida é outubro, especialmente o mes primavera\n",
      "A minha estação preferida é setembro, especialmente o mes primaveraA minha estação preferida é setembro, especialmente o mes primaveraA minha estação preferida é setembro, especialmente o mes primaveraA minha estação preferida é setembro, especialmente o mes primaveraA minha estação preferida é setembro, especialmente o mes primaveraA minha estação preferida é setembro, especialmente o mes primaveraA minha estação preferida é setembro, especialmente o mes primaveraA minha estação preferida é setembro, especialmente o mes primaveraA minha estação preferida é setembro, especialmente o mes primaveraA minha estação preferida é setembro, especialmente o mes primaveraA minha estação preferida é setembro, especialmente o mes primaveraA minha estação preferida é setembro, especialmente o mes primaveraA minha estação preferida é setembro, especialmente o mes primaveraA minha estação preferida é setembro, especialmente o mes primavera\n"
     ]
    }
   ],
   "source": [
    "#Exercicio1\n",
    "\n",
    "mes={'janeiro': 'verao', 'fevereiro': 'verao', 'marco':'outono', 'abril': 'outono','maio': 'outono', 'junho': 'inverno', \n",
    "          'julho': 'inverno', 'agosto':'inverno','setembro': 'primavera', 'outubro': 'primavera', 'novembro':'primavera',\n",
    "    'dezembro': 'verao'}\n",
    "\n",
    "for key in mes.keys():\n",
    "    open('Arq_'+key+'_'+mes[key]+'.txt', 'w')\n",
    "    import random\n",
    "    #mes=random.sample(range(5,20),12)\n",
    "    print('A minha estação preferida é {}, especialmente o mes {}'.format(key,mes[key])*randint(5,20))"
   ]
  },
  {
   "cell_type": "code",
   "execution_count": 58,
   "metadata": {
    "collapsed": false
   },
   "outputs": [
    {
     "name": "stdout",
     "output_type": "stream",
     "text": [
      "[('novembro',), ('marco',), ('julho',), ('agosto',), ('fevereiro',), ('junho',), ('dezembro',), ('janeiro',), ('abril',), ('maio',), ('outubro',), ('setembro',)]\n"
     ]
    }
   ],
   "source": [
    "#Exercicio1\n",
    "data=list(zip(mes))\n",
    "print(data)"
   ]
  },
  {
   "cell_type": "code",
   "execution_count": 64,
   "metadata": {
    "collapsed": false
   },
   "outputs": [
    {
     "name": "stdout",
     "output_type": "stream",
     "text": [
      "Arq_abril_outono.txt\t Arq_novembro_primavera.txt\r\n",
      "Arq_agosto_inverno.txt\t Arq_outubro_primavera.txt\r\n",
      "Arq_dezembro_verao.txt\t Arq_setembro_primavera.txt\r\n",
      "Arq_fevereiro_verao.txt  Aula24.04.2017.ipynb\r\n",
      "Arq_janeiro_verao.txt\t cookbook-data\r\n",
      "Arq_julho_inverno.txt\t estacao.txt\r\n",
      "Arq_junho_inverno.txt\t ExerciciodeAula24.04.2017.ipynb\r\n",
      "Arq_maio_outono.txt\t mes.txt\r\n",
      "Arq_marco_outono.txt\r\n"
     ]
    }
   ],
   "source": [
    "! ls"
   ]
  },
  {
   "cell_type": "code",
   "execution_count": 67,
   "metadata": {
    "collapsed": false
   },
   "outputs": [
    {
     "ename": "KeyError",
     "evalue": "'month'",
     "output_type": "error",
     "traceback": [
      "\u001b[0;31m---------------------------------------------------------------------------\u001b[0m",
      "\u001b[0;31mKeyError\u001b[0m                                  Traceback (most recent call last)",
      "\u001b[0;32m<ipython-input-67-a9006e43ec54>\u001b[0m in \u001b[0;36m<module>\u001b[0;34m()\u001b[0m\n\u001b[1;32m      1\u001b[0m \u001b[0;32mimport\u001b[0m \u001b[0mpandas\u001b[0m \u001b[0;32mas\u001b[0m \u001b[0mpd\u001b[0m\u001b[0;34m\u001b[0m\u001b[0m\n\u001b[1;32m      2\u001b[0m \u001b[0mdf\u001b[0m\u001b[0;34m=\u001b[0m\u001b[0mpd\u001b[0m\u001b[0;34m.\u001b[0m\u001b[0mDataFrame\u001b[0m\u001b[0;34m(\u001b[0m\u001b[0;34m(\u001b[0m\u001b[0;34m{\u001b[0m \u001b[0;34m'A'\u001b[0m \u001b[0;34m:\u001b[0m \u001b[0;34m[\u001b[0m \u001b[0;34m'um'\u001b[0m \u001b[0;34m,\u001b[0m \u001b[0;34m'um'\u001b[0m \u001b[0;34m,\u001b[0m \u001b[0;34m'dois'\u001b[0m \u001b[0;34m,\u001b[0m \u001b[0;34m'três'\u001b[0m \u001b[0;34m]\u001b[0m\u001b[0;34m,\u001b[0m\u001b[0;34m'B'\u001b[0m\u001b[0;34m:\u001b[0m\u001b[0;34m[\u001b[0m\u001b[0;36m1\u001b[0m\u001b[0;34m,\u001b[0m\u001b[0;36m2\u001b[0m\u001b[0;34m,\u001b[0m\u001b[0;36m3\u001b[0m\u001b[0;34m,\u001b[0m\u001b[0;36m4\u001b[0m\u001b[0;34m]\u001b[0m\u001b[0;34m}\u001b[0m\u001b[0;34m)\u001b[0m\u001b[0;34m)\u001b[0m\u001b[0;34m\u001b[0m\u001b[0m\n\u001b[0;32m----> 3\u001b[0;31m \u001b[0mdf\u001b[0m\u001b[0;34m[\u001b[0m\u001b[0;34m'stringdata'\u001b[0m\u001b[0;34m]\u001b[0m\u001b[0;34m=\u001b[0m\u001b[0;34m(\u001b[0m\u001b[0;34m\"2017\"\u001b[0m\u001b[0;34m+\u001b[0m\u001b[0;34m\" \"\u001b[0m\u001b[0;34m+\u001b[0m \u001b[0mdf\u001b[0m\u001b[0;34m[\u001b[0m\u001b[0;34m\"month\"\u001b[0m\u001b[0;34m]\u001b[0m\u001b[0;34m+\u001b[0m\u001b[0;34m\" \"\u001b[0m\u001b[0;34m+\u001b[0m\u001b[0mdf\u001b[0m\u001b[0;34m[\u001b[0m\u001b[0;34m\"day\"\u001b[0m\u001b[0;34m]\u001b[0m\u001b[0;34m+\u001b[0m \u001b[0;34m\" \"\u001b[0m\u001b[0;34m+\u001b[0m\u001b[0mdf\u001b[0m\u001b[0;34m[\u001b[0m\u001b[0;34m\"hour\"\u001b[0m\u001b[0;34m]\u001b[0m\u001b[0;34m)\u001b[0m\u001b[0;34m\u001b[0m\u001b[0m\n\u001b[0m\u001b[1;32m      4\u001b[0m \u001b[0mdf\u001b[0m\u001b[0;34m[\u001b[0m\u001b[0;34m'floatdate'\u001b[0m\u001b[0;34m]\u001b[0m\u001b[0;34m=\u001b[0m\u001b[0;34m[\u001b[0m\u001b[0mdatetime\u001b[0m\u001b[0;34m.\u001b[0m\u001b[0mstrptime\u001b[0m\u001b[0;34m(\u001b[0m\u001b[0mstr\u001b[0m\u001b[0;34m,\u001b[0m \u001b[0;34m\"%Y %b %d %H:%M\"\u001b[0m\u001b[0;34m)\u001b[0m\u001b[0;34m.\u001b[0m\u001b[0mtimestamp\u001b[0m\u001b[0;34m(\u001b[0m\u001b[0;34m)\u001b[0m \u001b[0;32mfor\u001b[0m \u001b[0mstr\u001b[0m \u001b[0;32min\u001b[0m \u001b[0mdf\u001b[0m\u001b[0;34m[\u001b[0m\u001b[0;34m'stringdata'\u001b[0m\u001b[0;34m]\u001b[0m\u001b[0;34m]\u001b[0m\u001b[0;34m\u001b[0m\u001b[0m\n\u001b[1;32m      5\u001b[0m \u001b[0mindex\u001b[0m\u001b[0;34m=\u001b[0m\u001b[0mdf\u001b[0m\u001b[0;34m[\u001b[0m\u001b[0;34m'floatdate'\u001b[0m\u001b[0;34m]\u001b[0m\u001b[0;34m.\u001b[0m\u001b[0midxmin\u001b[0m\u001b[0;34m(\u001b[0m\u001b[0;34m)\u001b[0m\u001b[0;34m\u001b[0m\u001b[0m\n",
      "\u001b[0;32m/projects/sage/sage/local/lib/python2.7/site-packages/pandas/core/frame.pyc\u001b[0m in \u001b[0;36m__getitem__\u001b[0;34m(self, key)\u001b[0m\n\u001b[1;32m   2057\u001b[0m             \u001b[0;32mreturn\u001b[0m \u001b[0mself\u001b[0m\u001b[0;34m.\u001b[0m\u001b[0m_getitem_multilevel\u001b[0m\u001b[0;34m(\u001b[0m\u001b[0mkey\u001b[0m\u001b[0;34m)\u001b[0m\u001b[0;34m\u001b[0m\u001b[0m\n\u001b[1;32m   2058\u001b[0m         \u001b[0;32melse\u001b[0m\u001b[0;34m:\u001b[0m\u001b[0;34m\u001b[0m\u001b[0m\n\u001b[0;32m-> 2059\u001b[0;31m             \u001b[0;32mreturn\u001b[0m \u001b[0mself\u001b[0m\u001b[0;34m.\u001b[0m\u001b[0m_getitem_column\u001b[0m\u001b[0;34m(\u001b[0m\u001b[0mkey\u001b[0m\u001b[0;34m)\u001b[0m\u001b[0;34m\u001b[0m\u001b[0m\n\u001b[0m\u001b[1;32m   2060\u001b[0m \u001b[0;34m\u001b[0m\u001b[0m\n\u001b[1;32m   2061\u001b[0m     \u001b[0;32mdef\u001b[0m \u001b[0m_getitem_column\u001b[0m\u001b[0;34m(\u001b[0m\u001b[0mself\u001b[0m\u001b[0;34m,\u001b[0m \u001b[0mkey\u001b[0m\u001b[0;34m)\u001b[0m\u001b[0;34m:\u001b[0m\u001b[0;34m\u001b[0m\u001b[0m\n",
      "\u001b[0;32m/projects/sage/sage/local/lib/python2.7/site-packages/pandas/core/frame.pyc\u001b[0m in \u001b[0;36m_getitem_column\u001b[0;34m(self, key)\u001b[0m\n\u001b[1;32m   2064\u001b[0m         \u001b[0;31m# get column\u001b[0m\u001b[0;34m\u001b[0m\u001b[0;34m\u001b[0m\u001b[0m\n\u001b[1;32m   2065\u001b[0m         \u001b[0;32mif\u001b[0m \u001b[0mself\u001b[0m\u001b[0;34m.\u001b[0m\u001b[0mcolumns\u001b[0m\u001b[0;34m.\u001b[0m\u001b[0mis_unique\u001b[0m\u001b[0;34m:\u001b[0m\u001b[0;34m\u001b[0m\u001b[0m\n\u001b[0;32m-> 2066\u001b[0;31m             \u001b[0;32mreturn\u001b[0m \u001b[0mself\u001b[0m\u001b[0;34m.\u001b[0m\u001b[0m_get_item_cache\u001b[0m\u001b[0;34m(\u001b[0m\u001b[0mkey\u001b[0m\u001b[0;34m)\u001b[0m\u001b[0;34m\u001b[0m\u001b[0m\n\u001b[0m\u001b[1;32m   2067\u001b[0m \u001b[0;34m\u001b[0m\u001b[0m\n\u001b[1;32m   2068\u001b[0m         \u001b[0;31m# duplicate columns & possible reduce dimensionality\u001b[0m\u001b[0;34m\u001b[0m\u001b[0;34m\u001b[0m\u001b[0m\n",
      "\u001b[0;32m/projects/sage/sage/local/lib/python2.7/site-packages/pandas/core/generic.pyc\u001b[0m in \u001b[0;36m_get_item_cache\u001b[0;34m(self, item)\u001b[0m\n\u001b[1;32m   1384\u001b[0m         \u001b[0mres\u001b[0m \u001b[0;34m=\u001b[0m \u001b[0mcache\u001b[0m\u001b[0;34m.\u001b[0m\u001b[0mget\u001b[0m\u001b[0;34m(\u001b[0m\u001b[0mitem\u001b[0m\u001b[0;34m)\u001b[0m\u001b[0;34m\u001b[0m\u001b[0m\n\u001b[1;32m   1385\u001b[0m         \u001b[0;32mif\u001b[0m \u001b[0mres\u001b[0m \u001b[0;32mis\u001b[0m \u001b[0mNone\u001b[0m\u001b[0;34m:\u001b[0m\u001b[0;34m\u001b[0m\u001b[0m\n\u001b[0;32m-> 1386\u001b[0;31m             \u001b[0mvalues\u001b[0m \u001b[0;34m=\u001b[0m \u001b[0mself\u001b[0m\u001b[0;34m.\u001b[0m\u001b[0m_data\u001b[0m\u001b[0;34m.\u001b[0m\u001b[0mget\u001b[0m\u001b[0;34m(\u001b[0m\u001b[0mitem\u001b[0m\u001b[0;34m)\u001b[0m\u001b[0;34m\u001b[0m\u001b[0m\n\u001b[0m\u001b[1;32m   1387\u001b[0m             \u001b[0mres\u001b[0m \u001b[0;34m=\u001b[0m \u001b[0mself\u001b[0m\u001b[0;34m.\u001b[0m\u001b[0m_box_item_values\u001b[0m\u001b[0;34m(\u001b[0m\u001b[0mitem\u001b[0m\u001b[0;34m,\u001b[0m \u001b[0mvalues\u001b[0m\u001b[0;34m)\u001b[0m\u001b[0;34m\u001b[0m\u001b[0m\n\u001b[1;32m   1388\u001b[0m             \u001b[0mcache\u001b[0m\u001b[0;34m[\u001b[0m\u001b[0mitem\u001b[0m\u001b[0;34m]\u001b[0m \u001b[0;34m=\u001b[0m \u001b[0mres\u001b[0m\u001b[0;34m\u001b[0m\u001b[0m\n",
      "\u001b[0;32m/projects/sage/sage/local/lib/python2.7/site-packages/pandas/core/internals.pyc\u001b[0m in \u001b[0;36mget\u001b[0;34m(self, item, fastpath)\u001b[0m\n\u001b[1;32m   3541\u001b[0m \u001b[0;34m\u001b[0m\u001b[0m\n\u001b[1;32m   3542\u001b[0m             \u001b[0;32mif\u001b[0m \u001b[0;32mnot\u001b[0m \u001b[0misnull\u001b[0m\u001b[0;34m(\u001b[0m\u001b[0mitem\u001b[0m\u001b[0;34m)\u001b[0m\u001b[0;34m:\u001b[0m\u001b[0;34m\u001b[0m\u001b[0m\n\u001b[0;32m-> 3543\u001b[0;31m                 \u001b[0mloc\u001b[0m \u001b[0;34m=\u001b[0m \u001b[0mself\u001b[0m\u001b[0;34m.\u001b[0m\u001b[0mitems\u001b[0m\u001b[0;34m.\u001b[0m\u001b[0mget_loc\u001b[0m\u001b[0;34m(\u001b[0m\u001b[0mitem\u001b[0m\u001b[0;34m)\u001b[0m\u001b[0;34m\u001b[0m\u001b[0m\n\u001b[0m\u001b[1;32m   3544\u001b[0m             \u001b[0;32melse\u001b[0m\u001b[0;34m:\u001b[0m\u001b[0;34m\u001b[0m\u001b[0m\n\u001b[1;32m   3545\u001b[0m                 \u001b[0mindexer\u001b[0m \u001b[0;34m=\u001b[0m \u001b[0mnp\u001b[0m\u001b[0;34m.\u001b[0m\u001b[0marange\u001b[0m\u001b[0;34m(\u001b[0m\u001b[0mlen\u001b[0m\u001b[0;34m(\u001b[0m\u001b[0mself\u001b[0m\u001b[0;34m.\u001b[0m\u001b[0mitems\u001b[0m\u001b[0;34m)\u001b[0m\u001b[0;34m)\u001b[0m\u001b[0;34m[\u001b[0m\u001b[0misnull\u001b[0m\u001b[0;34m(\u001b[0m\u001b[0mself\u001b[0m\u001b[0;34m.\u001b[0m\u001b[0mitems\u001b[0m\u001b[0;34m)\u001b[0m\u001b[0;34m]\u001b[0m\u001b[0;34m\u001b[0m\u001b[0m\n",
      "\u001b[0;32m/projects/sage/sage/local/lib/python2.7/site-packages/pandas/indexes/base.pyc\u001b[0m in \u001b[0;36mget_loc\u001b[0;34m(self, key, method, tolerance)\u001b[0m\n\u001b[1;32m   2134\u001b[0m                 \u001b[0;32mreturn\u001b[0m \u001b[0mself\u001b[0m\u001b[0;34m.\u001b[0m\u001b[0m_engine\u001b[0m\u001b[0;34m.\u001b[0m\u001b[0mget_loc\u001b[0m\u001b[0;34m(\u001b[0m\u001b[0mkey\u001b[0m\u001b[0;34m)\u001b[0m\u001b[0;34m\u001b[0m\u001b[0m\n\u001b[1;32m   2135\u001b[0m             \u001b[0;32mexcept\u001b[0m \u001b[0mKeyError\u001b[0m\u001b[0;34m:\u001b[0m\u001b[0;34m\u001b[0m\u001b[0m\n\u001b[0;32m-> 2136\u001b[0;31m                 \u001b[0;32mreturn\u001b[0m \u001b[0mself\u001b[0m\u001b[0;34m.\u001b[0m\u001b[0m_engine\u001b[0m\u001b[0;34m.\u001b[0m\u001b[0mget_loc\u001b[0m\u001b[0;34m(\u001b[0m\u001b[0mself\u001b[0m\u001b[0;34m.\u001b[0m\u001b[0m_maybe_cast_indexer\u001b[0m\u001b[0;34m(\u001b[0m\u001b[0mkey\u001b[0m\u001b[0;34m)\u001b[0m\u001b[0;34m)\u001b[0m\u001b[0;34m\u001b[0m\u001b[0m\n\u001b[0m\u001b[1;32m   2137\u001b[0m \u001b[0;34m\u001b[0m\u001b[0m\n\u001b[1;32m   2138\u001b[0m         \u001b[0mindexer\u001b[0m \u001b[0;34m=\u001b[0m \u001b[0mself\u001b[0m\u001b[0;34m.\u001b[0m\u001b[0mget_indexer\u001b[0m\u001b[0;34m(\u001b[0m\u001b[0;34m[\u001b[0m\u001b[0mkey\u001b[0m\u001b[0;34m]\u001b[0m\u001b[0;34m,\u001b[0m \u001b[0mmethod\u001b[0m\u001b[0;34m=\u001b[0m\u001b[0mmethod\u001b[0m\u001b[0;34m,\u001b[0m \u001b[0mtolerance\u001b[0m\u001b[0;34m=\u001b[0m\u001b[0mtolerance\u001b[0m\u001b[0;34m)\u001b[0m\u001b[0;34m\u001b[0m\u001b[0m\n",
      "\u001b[0;32mpandas/index.pyx\u001b[0m in \u001b[0;36mpandas.index.IndexEngine.get_loc (pandas/index.c:4433)\u001b[0;34m()\u001b[0m\n",
      "\u001b[0;32mpandas/index.pyx\u001b[0m in \u001b[0;36mpandas.index.IndexEngine.get_loc (pandas/index.c:4279)\u001b[0;34m()\u001b[0m\n",
      "\u001b[0;32mpandas/src/hashtable_class_helper.pxi\u001b[0m in \u001b[0;36mpandas.hashtable.PyObjectHashTable.get_item (pandas/hashtable.c:13742)\u001b[0;34m()\u001b[0m\n",
      "\u001b[0;32mpandas/src/hashtable_class_helper.pxi\u001b[0m in \u001b[0;36mpandas.hashtable.PyObjectHashTable.get_item (pandas/hashtable.c:13696)\u001b[0;34m()\u001b[0m\n",
      "\u001b[0;31mKeyError\u001b[0m: 'month'"
     ]
    }
   ],
   "source": [
    "import pandas as pd\n",
    "df=pd.DataFrame(({ 'A' : [ 'um' , 'um' , 'dois' , 'três' ],'B':[1,2,3,4]}))\n",
    "df['stringdata']=(\"2017\"+\" \"+ df[\"month\"]+\" \"+df[\"day\"]+ \" \"+df[\"hour\"])\n",
    "df['floatdate']=[datetime.strptime(str, \"%Y %b %d %H:%M\").timestamp() for str in df['stringdata']]\n",
    "index=df['floatdate'].idxmin()\n",
    "df.ix[index][1]\n",
    "#df=pd.DataFrame(df)\n"
   ]
  },
  {
   "cell_type": "code",
   "execution_count": 15,
   "metadata": {
    "collapsed": false
   },
   "outputs": [
   ],
   "source": [
    "lista1=[31,28,31]\n",
    "lista2=[32,55,32]\n",
    "lista3=[45,55,55]\n",
    "dict=[{'Serie':[1,3,4], 'Temporadas':[2,3,4], 'Geração':[3,4,5]}]"
   ]
  },
  {
   "cell_type": "code",
   "execution_count": 16,
   "metadata": {
    "collapsed": false
   },
   "outputs": [
   ],
   "source": [
    "import pandas as pd"
   ]
  },
  {
   "cell_type": "code",
   "execution_count": 17,
   "metadata": {
    "collapsed": false
   },
   "outputs": [
   ],
   "source": [
    "df=pd.DataFrame(dict)"
   ]
  },
  {
   "cell_type": "code",
   "execution_count": 18,
   "metadata": {
    "collapsed": false
   },
   "outputs": [
    {
     "data": {
      "text/html": [
       "<div>\n",
       "<table border=\"1\" class=\"dataframe\">\n",
       "  <thead>\n",
       "    <tr style=\"text-align: right;\">\n",
       "      <th></th>\n",
       "      <th>Geração</th>\n",
       "      <th>Serie</th>\n",
       "      <th>Temporadas</th>\n",
       "    </tr>\n",
       "  </thead>\n",
       "  <tbody>\n",
       "    <tr>\n",
       "      <th>0</th>\n",
       "      <td>[3, 4, 5]</td>\n",
       "      <td>[1, 3, 4]</td>\n",
       "      <td>[2, 3, 4]</td>\n",
       "    </tr>\n",
       "  </tbody>\n",
       "</table>\n",
       "</div>"
      ]
     },
     "execution_count": 18,
     "metadata": {
     },
     "output_type": "execute_result"
    }
   ],
   "source": [
    "df"
   ]
  },
  {
   "cell_type": "code",
   "execution_count": 19,
   "metadata": {
    "collapsed": false
   },
   "outputs": [
   ],
   "source": [
    "df=pd.DataFrame(({ 'A' : [ 'um' , 'um' , 'dois' , 'três' ],'B':[1,2,3,4]}))"
   ]
  },
  {
   "cell_type": "code",
   "execution_count": 20,
   "metadata": {
    "collapsed": false
   },
   "outputs": [
    {
     "data": {
      "text/html": [
       "<div>\n",
       "<table border=\"1\" class=\"dataframe\">\n",
       "  <thead>\n",
       "    <tr style=\"text-align: right;\">\n",
       "      <th></th>\n",
       "      <th>A</th>\n",
       "      <th>B</th>\n",
       "    </tr>\n",
       "  </thead>\n",
       "  <tbody>\n",
       "    <tr>\n",
       "      <th>0</th>\n",
       "      <td>um</td>\n",
       "      <td>1</td>\n",
       "    </tr>\n",
       "    <tr>\n",
       "      <th>1</th>\n",
       "      <td>um</td>\n",
       "      <td>2</td>\n",
       "    </tr>\n",
       "    <tr>\n",
       "      <th>2</th>\n",
       "      <td>dois</td>\n",
       "      <td>3</td>\n",
       "    </tr>\n",
       "    <tr>\n",
       "      <th>3</th>\n",
       "      <td>três</td>\n",
       "      <td>4</td>\n",
       "    </tr>\n",
       "  </tbody>\n",
       "</table>\n",
       "</div>"
      ]
     },
     "execution_count": 20,
     "metadata": {
     },
     "output_type": "execute_result"
    }
   ],
   "source": [
    "df"
   ]
  },
  {
   "cell_type": "code",
   "execution_count": 21,
   "metadata": {
    "collapsed": false
   },
   "outputs": [
    {
     "data": {
      "text/plain": [
       "A    um\n",
       "B     1\n",
       "Name: 0, dtype: object"
      ]
     },
     "execution_count": 21,
     "metadata": {
     },
     "output_type": "execute_result"
    }
   ],
   "source": [
    "df.ix[0]"
   ]
  },
  {
   "cell_type": "code",
   "execution_count": 1,
   "metadata": {
    "collapsed": false
   },
   "outputs": [
    {
     "data": {
      "text/plain": [
       "[('janeiro', 31), ('fevereiro', 28), ('marco', 31)]"
      ]
     },
     "execution_count": 1,
     "metadata": {
     },
     "output_type": "execute_result"
    }
   ],
   "source": [
    "lista1=['janeiro', 'fevereiro', 'marco']\n",
    "lista2=[31, 28, 31]\n",
    "data=list(zip(lista1, lista2))\n",
    "data"
   ]
  },
  {
   "cell_type": "code",
   "execution_count": 0,
   "metadata": {
    "collapsed": false
   },
   "outputs": [
   ],
   "source": [
   ]
  }
 ],
 "metadata": {
  "kernelspec": {
   "display_name": "Python 2 (SageMath)",
   "language": "python",
   "name": "python2"
  },
  "language_info": {
   "codemirror_mode": {
    "name": "ipython",
    "version": 2
   },
   "file_extension": ".py",
   "mimetype": "text/x-python",
   "name": "python",
   "nbconvert_exporter": "python",
   "pygments_lexer": "ipython2",
   "version": "2.7.13"
  }
 },
 "nbformat": 4,
 "nbformat_minor": 0
}