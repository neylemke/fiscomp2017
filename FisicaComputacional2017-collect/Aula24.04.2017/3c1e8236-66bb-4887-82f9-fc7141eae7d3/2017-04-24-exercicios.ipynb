{
 "cells": [
  {
   "cell_type": "code",
   "execution_count": 13,
   "metadata": {
    "collapsed": false
   },
   "outputs": [
    {
     "name": "stdout",
     "output_type": "stream",
     "text": [
      "Writing mes.txt\n"
     ]
    }
   ],
   "source": [
    "%%writefile mes.txt\n",
    "janeiro\n",
    "fevereiro\n",
    "marco\n",
    "abril\n",
    "maio\n",
    "junho\n",
    "julho\n",
    "agosto\n",
    "setembro\n",
    "outubro\n",
    "novembro\n",
    "dezembro\n",
    "writing mes.txt"
   ]
  },
  {
   "cell_type": "code",
   "execution_count": 14,
   "metadata": {
    "collapsed": false
   },
   "outputs": [
    {
     "name": "stdout",
     "output_type": "stream",
     "text": [
      "Writing esta.txt\n"
     ]
    }
   ],
   "source": [
    "%%writefile esta.txt\n",
    "primavera\n",
    "verao\n",
    "outono\n",
    "inverno\n",
    "writing esta.txt"
   ]
  },
  {
   "cell_type": "code",
   "execution_count": 16,
   "metadata": {
    "collapsed": false
   },
   "outputs": [
    {
     "ename": "SyntaxError",
     "evalue": "invalid syntax (<ipython-input-16-8fe9af6d75ae>, line 4)",
     "output_type": "error",
     "traceback": [
      "\u001b[0;36m  File \u001b[0;32m\"<ipython-input-16-8fe9af6d75ae>\"\u001b[0;36m, line \u001b[0;32m4\u001b[0m\n\u001b[0;31m    output = open((lines).strip() + '.txt'','w')\u001b[0m\n\u001b[0m                                             ^\u001b[0m\n\u001b[0;31mSyntaxError\u001b[0m\u001b[0;31m:\u001b[0m invalid syntax\n"
     ]
    }
   ],
   "source": [
    "titles = open(\"C:/titles.txt\",'r')\n",
    "\n",
    "for lines in titles:       \n",
    "    output = open((lines).strip() + '.txt'','w')\n",
    "    output.write(lines.strip('\\n'))\n",
    "    output.close()\n",
    "\n",
    "titles.close()"
   ]
  },
  {
   "cell_type": "code",
   "execution_count": null,
   "metadata": {
    "collapsed": true
   },
   "outputs": [],
   "source": []
  }
 ],
 "metadata": {
  "kernelspec": {
   "display_name": "Python 2 (SageMath)",
   "language": "python",
   "name": "python2"
  },
  "language_info": {
   "codemirror_mode": {
    "name": "ipython",
    "version": 2
   },
   "file_extension": ".py",
   "mimetype": "text/x-python",
   "name": "python",
   "nbconvert_exporter": "python",
   "pygments_lexer": "ipython2",
   "version": "2.7.13"
  }
 },
 "nbformat": 4,
 "nbformat_minor": 0
}
