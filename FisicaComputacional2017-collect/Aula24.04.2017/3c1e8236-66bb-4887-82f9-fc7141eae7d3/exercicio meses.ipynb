{
 "cells": [
  {
   "cell_type": "markdown",
   "metadata": {},
   "source": [
    "# Monitoria"
   ]
  },
  {
   "cell_type": "code",
   "execution_count": 8,
   "metadata": {
    "collapsed": false
   },
   "outputs": [],
   "source": [
    "fiscom={'curso': 'python', 'alunos':38,'disciplina': 'Fisica Computaciona'}"
   ]
  },
  {
   "cell_type": "code",
   "execution_count": 9,
   "metadata": {
    "collapsed": false
   },
   "outputs": [
    {
     "data": {
      "text/plain": [
       "'python'"
      ]
     },
     "execution_count": 9,
     "metadata": {},
     "output_type": "execute_result"
    }
   ],
   "source": [
    "fiscom['curso']"
   ]
  },
  {
   "cell_type": "code",
   "execution_count": 10,
   "metadata": {
    "collapsed": false
   },
   "outputs": [
    {
     "ename": "KeyError",
     "evalue": "'python'",
     "output_type": "error",
     "traceback": [
      "\u001b[0;31m---------------------------------------------------------------------------\u001b[0m",
      "\u001b[0;31mKeyError\u001b[0m                                  Traceback (most recent call last)",
      "\u001b[0;32m<ipython-input-10-0e12e2419ed4>\u001b[0m in \u001b[0;36m<module>\u001b[0;34m()\u001b[0m\n\u001b[0;32m----> 1\u001b[0;31m \u001b[0mfiscom\u001b[0m\u001b[0;34m[\u001b[0m\u001b[0;34m'python'\u001b[0m\u001b[0;34m]\u001b[0m\u001b[0;34m\u001b[0m\u001b[0m\n\u001b[0m",
      "\u001b[0;31mKeyError\u001b[0m: 'python'"
     ]
    }
   ],
   "source": [
    "fiscom['python']"
   ]
  },
  {
   "cell_type": "code",
   "execution_count": 14,
   "metadata": {
    "collapsed": false
   },
   "outputs": [
    {
     "ename": "SyntaxError",
     "evalue": "invalid syntax (<ipython-input-14-2afbb3bf5016>, line 3)",
     "output_type": "error",
     "traceback": [
      "\u001b[0;36m  File \u001b[0;32m\"<ipython-input-14-2afbb3bf5016>\"\u001b[0;36m, line \u001b[0;32m3\u001b[0m\n\u001b[0;31m    for key in mesesest.keys()\u001b[0m\n\u001b[0m                              ^\u001b[0m\n\u001b[0;31mSyntaxError\u001b[0m\u001b[0;31m:\u001b[0m invalid syntax\n"
     ]
    }
   ],
   "source": [
    "mesesest={'janeiro': 'verao', 'fevereiro': 'verao', 'marco':'outono', 'abril': 'outono','maio': 'outono', 'junho': 'inverno', \n",
    "          'julho': 'inverno', 'agosto':'primavera'}\n",
    "for key in mesesest.keys()\n",
    "        print('A minha estação preferida é {}, especialmente o mes {}'.format(key,mesesest[key]))"
   ]
  },
  {
   "cell_type": "code",
   "execution_count": 28,
   "metadata": {
    "collapsed": false
   },
   "outputs": [
    {
     "name": "stdout",
     "output_type": "stream",
     "text": [
      "O mes de janeiro é no verao\n",
      "O mes de fevereiro é no verao\n",
      "O mes de marco é no outono\n",
      "O mes de abril é no outono\n",
      "O mes de maio é no outono\n",
      "O mes de junho é no inverno\n",
      "O mes de julho é no inverno\n",
      "O mes de agosto é no primavera\n"
     ]
    }
   ],
   "source": [
    "mes={'janeiro': 'verao', 'fevereiro': 'verao', 'marco':'outono', 'abril': 'outono','maio': 'outono', 'junho': 'inverno', \n",
    "          'julho': 'inverno', 'agosto':'primavera'}\n",
    "for key in mes.keys():\n",
    "         print (\"O mes de {} é no {}\".format(key,mes[key]))\n",
    "\n",
    "    "
   ]
  },
  {
   "cell_type": "code",
   "execution_count": 25,
   "metadata": {
    "collapsed": false
   },
   "outputs": [
    {
     "ename": "SyntaxError",
     "evalue": "invalid syntax (<ipython-input-25-4067cba68f8c>, line 1)",
     "output_type": "error",
     "traceback": [
      "\u001b[0;36m  File \u001b[0;32m\"<ipython-input-25-4067cba68f8c>\"\u001b[0;36m, line \u001b[0;32m1\u001b[0m\n\u001b[0;31m    for key in mes\u001b[0m\n\u001b[0m                  ^\u001b[0m\n\u001b[0;31mSyntaxError\u001b[0m\u001b[0;31m:\u001b[0m invalid syntax\n"
     ]
    }
   ],
   "source": [
    "for key in mes"
   ]
  },
  {
   "cell_type": "code",
   "execution_count": 27,
   "metadata": {
    "collapsed": false
   },
   "outputs": [
    {
     "name": "stdout",
     "output_type": "stream",
     "text": [
      "O mes de janeiro é no verão\n",
      "O mes de fevereiro é no verão\n"
     ]
    }
   ],
   "source": [
    "meses = {'janeiro':'verão', 'fevereiro': 'verão'}\n",
    "for key in meses.keys():\n",
    "         print (\"O mes de {} é no {}\".format(key,meses[key]))"
   ]
  },
  {
   "cell_type": "code",
   "execution_count": 37,
   "metadata": {
    "collapsed": false
   },
   "outputs": [
    {
     "name": "stdout",
     "output_type": "stream",
     "text": [
      "A minha estação preferida é janeiro, especialmente o mes verao\n",
      "A minha estação preferida é fevereiro, especialmente o mes verao\n",
      "A minha estação preferida é marco, especialmente o mes outono\n",
      "A minha estação preferida é abril, especialmente o mes outono\n",
      "A minha estação preferida é maio, especialmente o mes outono\n",
      "A minha estação preferida é junho, especialmente o mes inverno\n",
      "A minha estação preferida é julho, especialmente o mes inverno\n",
      "A minha estação preferida é agosto, especialmente o mes inverno\n",
      "A minha estação preferida é setembro, especialmente o mes primavera\n",
      "A minha estação preferida é outubro, especialmente o mes primavera\n",
      "A minha estação preferida é novembro, especialmente o mes primavera\n",
      "A minha estação preferida é dezembro, especialmente o mes verao\n"
     ]
    }
   ],
   "source": [
    "mes={'janeiro': 'verao', 'fevereiro': 'verao', 'marco':'outono', 'abril': 'outono','maio': 'outono', 'junho': 'inverno', \n",
    "          'julho': 'inverno', 'agosto':'inverno','setembro': 'primavera', 'outubro': 'primavera', 'novembro':'primavera',\n",
    "    'dezembro': 'verao'}\n",
    "for key in mes.keys():\n",
    "         open('Arq_'+key+'_'+mes[key]+'.txt', 'w')\n",
    "         print ('A minha estação preferida é {}, especialmente o mes {}'.format(key,mes[key]))"
   ]
  },
  {
   "cell_type": "code",
   "execution_count": 38,
   "metadata": {
    "collapsed": false
   },
   "outputs": [
    {
     "name": "stdout",
     "output_type": "stream",
     "text": [
      "Applications\t\t      Desktop\t       anaconda\r\n",
      "Arq_'+key+'_'+mes[key]+'.txt  Documents        arq.txt\r\n",
      "Arq_abril_outono.txt\t      Downloads        arq_fevereiro_verão.txt\r\n",
      "Arq_agosto_inverno.txt\t      Library\t       arq_fevereiroverão.txt\r\n",
      "Arq_dezembro_verao.txt\t      Movies\t       arq_janeiro_verão.txt\r\n",
      "Arq_fevereiro_verao.txt       Music\t       arq_janeiroverão.txt\r\n",
      "Arq_janeiro_verao.txt\t      Pictures\t       arqfevereiro.txt\r\n",
      "Arq_julho_inverno.txt\t      Public\t       arqjaneiro.txt\r\n",
      "Arq_junho_inverno.txt\t      R-Studio\t       bayes.mod\r\n",
      "Arq_maio_outono.txt\t      Untitled.ipynb   listadealunos\r\n",
      "Arq_marco_outono.txt\t      Untitled1.ipynb  novo r.RData\r\n",
      "Arq_novembro_primavera.txt    Untitled2.ipynb  taina.txt\r\n",
      "Arq_outubro_primavera.txt     Untitled3.ipynb\r\n",
      "Arq_setembro_primavera.txt    Untitled4.ipynb\r\n"
     ]
    }
   ],
   "source": [
    "! ls"
   ]
  },
  {
   "cell_type": "markdown",
   "metadata": {},
   "source": [
    "## DataFrame"
   ]
  },
  {
   "cell_type": "code",
   "execution_count": 103,
   "metadata": {
    "collapsed": false
   },
   "outputs": [
    {
     "ename": "SyntaxError",
     "evalue": "invalid syntax (<ipython-input-103-5f38987e112b>, line 4)",
     "output_type": "error",
     "traceback": [
      "\u001b[0;36m  File \u001b[0;32m\"<ipython-input-103-5f38987e112b>\"\u001b[0;36m, line \u001b[0;32m4\u001b[0m\n\u001b[0;31m    dict=[{('Serie':1,3, 4), 'Temporadas':[2,3,4], 'Geração':[3,4,5]}]\u001b[0m\n\u001b[0m                   ^\u001b[0m\n\u001b[0;31mSyntaxError\u001b[0m\u001b[0;31m:\u001b[0m invalid syntax\n"
     ]
    }
   ],
   "source": [
    "lista1=[31,28,31]\n",
    "lista2=[32,55,32]\n",
    "lista3=[45,55,55]\n",
    "dict=[{'Serie':1,3,4, 'Temporadas':[2,3,4], 'Geração':[3,4,5]}]"
   ]
  },
  {
   "cell_type": "code",
   "execution_count": 99,
   "metadata": {
    "collapsed": true
   },
   "outputs": [],
   "source": [
    "import pandas as pd"
   ]
  },
  {
   "cell_type": "code",
   "execution_count": 100,
   "metadata": {
    "collapsed": true
   },
   "outputs": [],
   "source": [
    "df=pd.DataFrame(dict)"
   ]
  },
  {
   "cell_type": "code",
   "execution_count": 101,
   "metadata": {
    "collapsed": false
   },
   "outputs": [
    {
     "data": {
      "text/html": [
       "<div>\n",
       "<table border=\"1\" class=\"dataframe\">\n",
       "  <thead>\n",
       "    <tr style=\"text-align: right;\">\n",
       "      <th></th>\n",
       "      <th>Geração</th>\n",
       "      <th>Serie</th>\n",
       "      <th>Temporadas</th>\n",
       "    </tr>\n",
       "  </thead>\n",
       "  <tbody>\n",
       "    <tr>\n",
       "      <th>0</th>\n",
       "      <td>[3, 4, 5]</td>\n",
       "      <td>(1, 3, 4)</td>\n",
       "      <td>[2, 3, 4]</td>\n",
       "    </tr>\n",
       "  </tbody>\n",
       "</table>\n",
       "</div>"
      ],
      "text/plain": [
       "     Geração      Serie Temporadas\n",
       "0  [3, 4, 5]  (1, 3, 4)  [2, 3, 4]"
      ]
     },
     "execution_count": 101,
     "metadata": {},
     "output_type": "execute_result"
    }
   ],
   "source": [
    "df"
   ]
  },
  {
   "cell_type": "markdown",
   "metadata": {},
   "source": [
    "## Criar DATAFRAME"
   ]
  },
  {
   "cell_type": "code",
   "execution_count": 106,
   "metadata": {
    "collapsed": false
   },
   "outputs": [],
   "source": [
    "df=pd.DataFrame(({ 'A' : [ 'um' , 'um' , 'dois' , 'três' ],'B':[1,2,3,4]}))"
   ]
  },
  {
   "cell_type": "code",
   "execution_count": 107,
   "metadata": {
    "collapsed": false
   },
   "outputs": [
    {
     "data": {
      "text/html": [
       "<div>\n",
       "<table border=\"1\" class=\"dataframe\">\n",
       "  <thead>\n",
       "    <tr style=\"text-align: right;\">\n",
       "      <th></th>\n",
       "      <th>A</th>\n",
       "      <th>B</th>\n",
       "    </tr>\n",
       "  </thead>\n",
       "  <tbody>\n",
       "    <tr>\n",
       "      <th>0</th>\n",
       "      <td>um</td>\n",
       "      <td>1</td>\n",
       "    </tr>\n",
       "    <tr>\n",
       "      <th>1</th>\n",
       "      <td>um</td>\n",
       "      <td>2</td>\n",
       "    </tr>\n",
       "    <tr>\n",
       "      <th>2</th>\n",
       "      <td>dois</td>\n",
       "      <td>3</td>\n",
       "    </tr>\n",
       "    <tr>\n",
       "      <th>3</th>\n",
       "      <td>três</td>\n",
       "      <td>4</td>\n",
       "    </tr>\n",
       "  </tbody>\n",
       "</table>\n",
       "</div>"
      ],
      "text/plain": [
       "      A  B\n",
       "0    um  1\n",
       "1    um  2\n",
       "2  dois  3\n",
       "3  três  4"
      ]
     },
     "execution_count": 107,
     "metadata": {},
     "output_type": "execute_result"
    }
   ],
   "source": [
    "df"
   ]
  },
  {
   "cell_type": "code",
   "execution_count": 45,
   "metadata": {
    "collapsed": false
   },
   "outputs": [
    {
     "data": {
      "text/plain": [
       "fev        28\n",
       "janeiro    31\n",
       "março      31\n",
       "Name: 0, dtype: int64"
      ]
     },
     "execution_count": 45,
     "metadata": {},
     "output_type": "execute_result"
    }
   ],
   "source": [
    "df.ix[0]"
   ]
  },
  {
   "cell_type": "markdown",
   "metadata": {},
   "source": [
    "- Um exemplo com listas"
   ]
  },
  {
   "cell_type": "code",
   "execution_count": 52,
   "metadata": {
    "collapsed": false
   },
   "outputs": [
    {
     "data": {
      "text/plain": [
       "[('janeiro', 31), ('fevereiro', 28), ('março', 31)]"
      ]
     },
     "execution_count": 52,
     "metadata": {},
     "output_type": "execute_result"
    }
   ],
   "source": [
    "lista1=['janeiro', 'fevereiro', 'março']\n",
    "lista2=[31, 28, 31]\n",
    "data=list(zip(lista1, lista2))\n",
    "data"
   ]
  },
  {
   "cell_type": "code",
   "execution_count": 58,
   "metadata": {
    "collapsed": false
   },
   "outputs": [],
   "source": [
    "list1=list(range(30))\n",
    "list2=list(range(30,60))\n",
    "data1=list(zip(list1,list2))"
   ]
  },
  {
   "cell_type": "code",
   "execution_count": 46,
   "metadata": {
    "collapsed": true
   },
   "outputs": [],
   "source": [
    "lista1\n",
    "exm=[('janeiro',31),('fevereiro', 28), ('março', 31)]"
   ]
  },
  {
   "cell_type": "code",
   "execution_count": 47,
   "metadata": {
    "collapsed": true
   },
   "outputs": [],
   "source": [
    "DF=pd.DataFrame(exm)"
   ]
  },
  {
   "cell_type": "code",
   "execution_count": null,
   "metadata": {
    "collapsed": true
   },
   "outputs": [],
   "source": []
  }
 ],
 "metadata": {
  "kernelspec": {
   "display_name": "Python 3",
   "language": "python",
   "name": "python3"
  },
  "language_info": {
   "codemirror_mode": {
    "name": "ipython",
    "version": 3
   },
   "file_extension": ".py",
   "mimetype": "text/x-python",
   "name": "python",
   "nbconvert_exporter": "python",
   "pygments_lexer": "ipython3",
   "version": "3.6.0"
  }
 },
 "nbformat": 4,
 "nbformat_minor": 2
}
