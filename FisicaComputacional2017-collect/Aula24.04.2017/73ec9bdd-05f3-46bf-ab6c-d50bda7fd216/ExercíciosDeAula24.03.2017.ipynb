{
 "cells": [
  {
   "cell_type": "markdown",
   "metadata": {
    "collapsed": false
   },
   "source": [
    "##### Exercício 1 - Crie 12 arquivos, chamados de 'arq_mes_estação.txt'. Cada um deles contendo a frase: A minha estação predileta é 'estação', especialmente o 'mês' repetida um número aleatório de vezes, entre 5 e 20."
   ]
  },
  {
   "cell_type": "code",
   "execution_count": 0,
   "metadata": {
    "collapsed": false
   },
   "outputs": [
   ],
   "source": [
   ]
  },
  {
   "cell_type": "code",
   "execution_count": 5,
   "metadata": {
    "collapsed": false
   },
   "outputs": [
    {
     "name": "stdout",
     "output_type": "stream",
     "text": [
      "Overwriting arq1_jeneiro_verao.txt\n"
     ]
    }
   ],
   "source": [
    "%%writefile arq1_jeneiro_verao.txt\n",
    "A minha estação predileta é verão, especialmente em janeiro."
   ]
  },
  {
   "cell_type": "code",
   "execution_count": 6,
   "metadata": {
    "collapsed": false
   },
   "outputs": [
    {
     "name": "stdout",
     "output_type": "stream",
     "text": [
      "A minha estação predileta é verão, especialmente em janeiro.\n",
      "A minha estação predileta é verão, especialmente em janeiro.\n",
      "A minha estação predileta é verão, especialmente em janeiro.\n",
      "A minha estação predileta é verão, especialmente em janeiro.\n",
      "A minha estação predileta é verão, especialmente em janeiro.\n"
     ]
    }
   ],
   "source": [
    "i=0\n",
    "while i<5:\n",
    "    with open(\"arq1_jeneiro_verao.txt\", \"r\") as f:\n",
    "        print (f.read()) \n",
    "    i=i+1"
   ]
  },
  {
   "cell_type": "code",
   "execution_count": 7,
   "metadata": {
    "collapsed": false
   },
   "outputs": [
    {
     "name": "stdout",
     "output_type": "stream",
     "text": [
      "Overwriting arq2_fevereiro_verao.txt\n"
     ]
    }
   ],
   "source": [
    "%%writefile arq2_fevereiro_verao.txt\n",
    "A minha estação predileta é verão, especialmente em fevereiro."
   ]
  },
  {
   "cell_type": "code",
   "execution_count": 8,
   "metadata": {
    "collapsed": false
   },
   "outputs": [
    {
     "name": "stdout",
     "output_type": "stream",
     "text": [
      "A minha estação predileta é verão, especialmente em fevereiro.\n",
      "A minha estação predileta é verão, especialmente em fevereiro.\n",
      "A minha estação predileta é verão, especialmente em fevereiro.\n",
      "A minha estação predileta é verão, especialmente em fevereiro.\n",
      "A minha estação predileta é verão, especialmente em fevereiro.\n",
      "A minha estação predileta é verão, especialmente em fevereiro.\n",
      "A minha estação predileta é verão, especialmente em fevereiro.\n"
     ]
    }
   ],
   "source": [
    "i=0\n",
    "while i<7:\n",
    "    with open(\"arq2_fevereiro_verao.txt\", \"r\") as f:\n",
    "        print (f.read()) \n",
    "    i=i+1"
   ]
  },
  {
   "cell_type": "code",
   "execution_count": 9,
   "metadata": {
    "collapsed": false
   },
   "outputs": [
    {
     "name": "stdout",
     "output_type": "stream",
     "text": [
      "Overwriting arq3_março_verao.txt\n"
     ]
    }
   ],
   "source": [
    "%%writefile arq3_março_verao.txt\n",
    "A minha estação predileta é verão, especialmente em março."
   ]
  },
  {
   "cell_type": "code",
   "execution_count": 10,
   "metadata": {
    "collapsed": false
   },
   "outputs": [
    {
     "name": "stdout",
     "output_type": "stream",
     "text": [
      "A minha estação predileta é verão, especialmente em março.\n",
      "A minha estação predileta é verão, especialmente em março.\n",
      "A minha estação predileta é verão, especialmente em março.\n",
      "A minha estação predileta é verão, especialmente em março.\n",
      "A minha estação predileta é verão, especialmente em março.\n",
      "A minha estação predileta é verão, especialmente em março.\n",
      "A minha estação predileta é verão, especialmente em março.\n"
     ]
    }
   ],
   "source": [
    "i=0\n",
    "while i<7:\n",
    "    with open(\"arq3_março_verao.txt\", \"r\") as f:\n",
    "        print (f.read()) \n",
    "    i=i+1"
   ]
  },
  {
   "cell_type": "code",
   "execution_count": 11,
   "metadata": {
    "collapsed": false
   },
   "outputs": [
    {
     "name": "stdout",
     "output_type": "stream",
     "text": [
      "Overwriting arq4_abril_outono.txt\n"
     ]
    }
   ],
   "source": [
    "%%writefile arq4_abril_outono.txt\n",
    "A minha estação predileta é outono, especialmente em abril."
   ]
  },
  {
   "cell_type": "code",
   "execution_count": 12,
   "metadata": {
    "collapsed": false
   },
   "outputs": [
    {
     "name": "stdout",
     "output_type": "stream",
     "text": [
      "A minha estação predileta é outono, especialmente em abril.\n",
      "A minha estação predileta é outono, especialmente em abril.\n",
      "A minha estação predileta é outono, especialmente em abril.\n",
      "A minha estação predileta é outono, especialmente em abril.\n",
      "A minha estação predileta é outono, especialmente em abril.\n",
      "A minha estação predileta é outono, especialmente em abril.\n"
     ]
    }
   ],
   "source": [
    "i=0\n",
    "while i<6:\n",
    "    with open(\"arq4_abril_outono.txt\", \"r\") as f:\n",
    "        print (f.read()) \n",
    "    i=i+1"
   ]
  },
  {
   "cell_type": "code",
   "execution_count": 13,
   "metadata": {
    "collapsed": false
   },
   "outputs": [
    {
     "name": "stdout",
     "output_type": "stream",
     "text": [
      "Overwriting arq5_maio_outono.txt\n"
     ]
    }
   ],
   "source": [
    "%%writefile arq5_maio_outono.txt\n",
    "A minha estação predileta é outono, especialmente em maio."
   ]
  },
  {
   "cell_type": "code",
   "execution_count": 14,
   "metadata": {
    "collapsed": false
   },
   "outputs": [
    {
     "name": "stdout",
     "output_type": "stream",
     "text": [
      "A minha estação predileta é outono, especialmente em maio.\n",
      "A minha estação predileta é outono, especialmente em maio.\n",
      "A minha estação predileta é outono, especialmente em maio.\n",
      "A minha estação predileta é outono, especialmente em maio.\n",
      "A minha estação predileta é outono, especialmente em maio.\n",
      "A minha estação predileta é outono, especialmente em maio.\n",
      "A minha estação predileta é outono, especialmente em maio.\n",
      "A minha estação predileta é outono, especialmente em maio.\n",
      "A minha estação predileta é outono, especialmente em maio.\n",
      "A minha estação predileta é outono, especialmente em maio.\n"
     ]
    }
   ],
   "source": [
    "i=0\n",
    "while i<10:\n",
    "    with open(\"arq5_maio_outono.txt\", \"r\") as f:\n",
    "        print (f.read()) \n",
    "    i=i+1"
   ]
  },
  {
   "cell_type": "code",
   "execution_count": 15,
   "metadata": {
    "collapsed": false
   },
   "outputs": [
    {
     "name": "stdout",
     "output_type": "stream",
     "text": [
      "Overwriting arq6_junho_outono.txt\n"
     ]
    }
   ],
   "source": [
    "%%writefile arq6_junho_outono.txt\n",
    "A minha estação predileta é outono, especialmente em junho."
   ]
  },
  {
   "cell_type": "code",
   "execution_count": 16,
   "metadata": {
    "collapsed": false
   },
   "outputs": [
    {
     "name": "stdout",
     "output_type": "stream",
     "text": [
      "A minha estação predileta é outono, especialmente em junho.\n",
      "A minha estação predileta é outono, especialmente em junho.\n",
      "A minha estação predileta é outono, especialmente em junho.\n",
      "A minha estação predileta é outono, especialmente em junho.\n",
      "A minha estação predileta é outono, especialmente em junho.\n",
      "A minha estação predileta é outono, especialmente em junho.\n",
      "A minha estação predileta é outono, especialmente em junho.\n",
      "A minha estação predileta é outono, especialmente em junho.\n",
      "A minha estação predileta é outono, especialmente em junho.\n"
     ]
    }
   ],
   "source": [
    "i=0\n",
    "while i<9:\n",
    "    with open(\"arq6_junho_outono.txt\", \"r\") as f:\n",
    "        print (f.read()) \n",
    "    i=i+1"
   ]
  },
  {
   "cell_type": "code",
   "execution_count": 17,
   "metadata": {
    "collapsed": false
   },
   "outputs": [
    {
     "name": "stdout",
     "output_type": "stream",
     "text": [
      "Overwriting arq7_julho_inverno.txt\n"
     ]
    }
   ],
   "source": [
    "%%writefile arq7_julho_inverno.txt\n",
    "A minha estação predileta é inverno, especialmente em julho."
   ]
  },
  {
   "cell_type": "code",
   "execution_count": 18,
   "metadata": {
    "collapsed": false
   },
   "outputs": [
    {
     "name": "stdout",
     "output_type": "stream",
     "text": [
      "A minha estação predileta é inverno, especialmente em julho.\n",
      "A minha estação predileta é inverno, especialmente em julho.\n",
      "A minha estação predileta é inverno, especialmente em julho.\n",
      "A minha estação predileta é inverno, especialmente em julho.\n",
      "A minha estação predileta é inverno, especialmente em julho.\n",
      "A minha estação predileta é inverno, especialmente em julho.\n",
      "A minha estação predileta é inverno, especialmente em julho.\n",
      "A minha estação predileta é inverno, especialmente em julho.\n",
      "A minha estação predileta é inverno, especialmente em julho.\n",
      "A minha estação predileta é inverno, especialmente em julho.\n",
      "A minha estação predileta é inverno, especialmente em julho.\n",
      "A minha estação predileta é inverno, especialmente em julho.\n",
      "A minha estação predileta é inverno, especialmente em julho.\n"
     ]
    }
   ],
   "source": [
    "i=0\n",
    "while i<13:\n",
    "    with open(\"arq7_julho_inverno.txt\", \"r\") as f:\n",
    "        print (f.read()) \n",
    "    i=i+1"
   ]
  },
  {
   "cell_type": "code",
   "execution_count": 19,
   "metadata": {
    "collapsed": false
   },
   "outputs": [
    {
     "name": "stdout",
     "output_type": "stream",
     "text": [
      "Overwriting arq8_agosto_inverno.txt\n"
     ]
    }
   ],
   "source": [
    "%%writefile arq8_agosto_inverno.txt\n",
    "A minha estação predileta é inverno, especialmente em agosto."
   ]
  },
  {
   "cell_type": "code",
   "execution_count": 20,
   "metadata": {
    "collapsed": false
   },
   "outputs": [
    {
     "name": "stdout",
     "output_type": "stream",
     "text": [
      "A minha estação predileta é inverno, especialmente em agosto.\n",
      "A minha estação predileta é inverno, especialmente em agosto.\n",
      "A minha estação predileta é inverno, especialmente em agosto.\n",
      "A minha estação predileta é inverno, especialmente em agosto.\n",
      "A minha estação predileta é inverno, especialmente em agosto.\n",
      "A minha estação predileta é inverno, especialmente em agosto.\n",
      "A minha estação predileta é inverno, especialmente em agosto.\n",
      "A minha estação predileta é inverno, especialmente em agosto.\n",
      "A minha estação predileta é inverno, especialmente em agosto.\n",
      "A minha estação predileta é inverno, especialmente em agosto.\n",
      "A minha estação predileta é inverno, especialmente em agosto.\n"
     ]
    }
   ],
   "source": [
    "i=0\n",
    "while i<11:\n",
    "    with open(\"arq8_agosto_inverno.txt\", \"r\") as f:\n",
    "        print (f.read()) \n",
    "    i=i+1"
   ]
  },
  {
   "cell_type": "code",
   "execution_count": 21,
   "metadata": {
    "collapsed": false
   },
   "outputs": [
    {
     "name": "stdout",
     "output_type": "stream",
     "text": [
      "Overwriting arq9_setembro_inverno.txt\n"
     ]
    }
   ],
   "source": [
    "%%writefile arq9_setembro_inverno.txt\n",
    "A minha estação predileta é inverno, especialmente em setembro."
   ]
  },
  {
   "cell_type": "code",
   "execution_count": 22,
   "metadata": {
    "collapsed": false
   },
   "outputs": [
    {
     "name": "stdout",
     "output_type": "stream",
     "text": [
      "A minha estação predileta é inverno, especialmente em setembro.\n",
      "A minha estação predileta é inverno, especialmente em setembro.\n",
      "A minha estação predileta é inverno, especialmente em setembro.\n",
      "A minha estação predileta é inverno, especialmente em setembro.\n",
      "A minha estação predileta é inverno, especialmente em setembro.\n",
      "A minha estação predileta é inverno, especialmente em setembro.\n",
      "A minha estação predileta é inverno, especialmente em setembro.\n",
      "A minha estação predileta é inverno, especialmente em setembro.\n",
      "A minha estação predileta é inverno, especialmente em setembro.\n",
      "A minha estação predileta é inverno, especialmente em setembro.\n",
      "A minha estação predileta é inverno, especialmente em setembro.\n",
      "A minha estação predileta é inverno, especialmente em setembro.\n",
      "A minha estação predileta é inverno, especialmente em setembro.\n",
      "A minha estação predileta é inverno, especialmente em setembro.\n",
      "A minha estação predileta é inverno, especialmente em setembro.\n"
     ]
    }
   ],
   "source": [
    "i=0\n",
    "while i<15:\n",
    "    with open(\"arq9_setembro_inverno.txt\", \"r\") as f:\n",
    "        print (f.read()) \n",
    "    i=i+1"
   ]
  },
  {
   "cell_type": "code",
   "execution_count": 23,
   "metadata": {
    "collapsed": false
   },
   "outputs": [
    {
     "name": "stdout",
     "output_type": "stream",
     "text": [
      "Overwriting arq10_outubro_primavera.txt\n"
     ]
    }
   ],
   "source": [
    "%%writefile arq10_outubro_primavera.txt\n",
    "A minha estação predileta é primavera, especialmente em outubro."
   ]
  },
  {
   "cell_type": "code",
   "execution_count": 24,
   "metadata": {
    "collapsed": false
   },
   "outputs": [
    {
     "name": "stdout",
     "output_type": "stream",
     "text": [
      "A minha estação predileta é primavera, especialmente em outubro.\n",
      "A minha estação predileta é primavera, especialmente em outubro.\n",
      "A minha estação predileta é primavera, especialmente em outubro.\n",
      "A minha estação predileta é primavera, especialmente em outubro.\n",
      "A minha estação predileta é primavera, especialmente em outubro.\n",
      "A minha estação predileta é primavera, especialmente em outubro.\n",
      "A minha estação predileta é primavera, especialmente em outubro.\n"
     ]
    }
   ],
   "source": [
    "i=0\n",
    "while i<7:\n",
    "    with open(\"arq10_outubro_primavera.txt\", \"r\") as f:\n",
    "        print (f.read()) \n",
    "    i=i+1"
   ]
  },
  {
   "cell_type": "code",
   "execution_count": 25,
   "metadata": {
    "collapsed": false
   },
   "outputs": [
    {
     "name": "stdout",
     "output_type": "stream",
     "text": [
      "Overwriting arq11_novembro_primavera.txt\n"
     ]
    }
   ],
   "source": [
    "%%writefile arq11_novembro_primavera.txt\n",
    "A minha estação predileta é primavera, especialmente em novembro."
   ]
  },
  {
   "cell_type": "code",
   "execution_count": 26,
   "metadata": {
    "collapsed": false
   },
   "outputs": [
    {
     "name": "stdout",
     "output_type": "stream",
     "text": [
      "A minha estação predileta é primavera, especialmente em novembro.\n",
      "A minha estação predileta é primavera, especialmente em novembro.\n",
      "A minha estação predileta é primavera, especialmente em novembro.\n",
      "A minha estação predileta é primavera, especialmente em novembro.\n",
      "A minha estação predileta é primavera, especialmente em novembro.\n",
      "A minha estação predileta é primavera, especialmente em novembro.\n",
      "A minha estação predileta é primavera, especialmente em novembro.\n",
      "A minha estação predileta é primavera, especialmente em novembro.\n",
      "A minha estação predileta é primavera, especialmente em novembro.\n",
      "A minha estação predileta é primavera, especialmente em novembro.\n",
      "A minha estação predileta é primavera, especialmente em novembro.\n",
      "A minha estação predileta é primavera, especialmente em novembro.\n",
      "A minha estação predileta é primavera, especialmente em novembro.\n",
      "A minha estação predileta é primavera, especialmente em novembro.\n",
      "A minha estação predileta é primavera, especialmente em novembro.\n",
      "A minha estação predileta é primavera, especialmente em novembro.\n",
      "A minha estação predileta é primavera, especialmente em novembro.\n",
      "A minha estação predileta é primavera, especialmente em novembro.\n",
      "A minha estação predileta é primavera, especialmente em novembro.\n",
      "A minha estação predileta é primavera, especialmente em novembro.\n"
     ]
    }
   ],
   "source": [
    "i=0\n",
    "while i<20:\n",
    "    with open(\"arq11_novembro_primavera.txt\", \"r\") as f:\n",
    "        print (f.read()) \n",
    "    i=i+1"
   ]
  },
  {
   "cell_type": "code",
   "execution_count": 27,
   "metadata": {
    "collapsed": false
   },
   "outputs": [
    {
     "name": "stdout",
     "output_type": "stream",
     "text": [
      "Overwriting arq12_dezembro_primavera.txt\n"
     ]
    }
   ],
   "source": [
    "%%writefile arq12_dezembro_primavera.txt\n",
    "A minha estação predileta é primavera, especialmente em dezembro."
   ]
  },
  {
   "cell_type": "code",
   "execution_count": 28,
   "metadata": {
    "collapsed": false
   },
   "outputs": [
    {
     "name": "stdout",
     "output_type": "stream",
     "text": [
      "A minha estação predileta é primavera, especialmente em dezembro.\n",
      "A minha estação predileta é primavera, especialmente em dezembro.\n",
      "A minha estação predileta é primavera, especialmente em dezembro.\n",
      "A minha estação predileta é primavera, especialmente em dezembro.\n",
      "A minha estação predileta é primavera, especialmente em dezembro.\n",
      "A minha estação predileta é primavera, especialmente em dezembro.\n",
      "A minha estação predileta é primavera, especialmente em dezembro.\n",
      "A minha estação predileta é primavera, especialmente em dezembro.\n",
      "A minha estação predileta é primavera, especialmente em dezembro.\n",
      "A minha estação predileta é primavera, especialmente em dezembro.\n",
      "A minha estação predileta é primavera, especialmente em dezembro.\n",
      "A minha estação predileta é primavera, especialmente em dezembro.\n",
      "A minha estação predileta é primavera, especialmente em dezembro.\n",
      "A minha estação predileta é primavera, especialmente em dezembro.\n",
      "A minha estação predileta é primavera, especialmente em dezembro.\n",
      "A minha estação predileta é primavera, especialmente em dezembro.\n",
      "A minha estação predileta é primavera, especialmente em dezembro.\n",
      "A minha estação predileta é primavera, especialmente em dezembro.\n"
     ]
    }
   ],
   "source": [
    "i=0\n",
    "while i<18:\n",
    "    with open(\"arq12_dezembro_primavera.txt\", \"r\") as f:\n",
    "        print (f.read()) \n",
    "    i=i+1"
   ]
  },
  {
   "cell_type": "markdown",
   "metadata": {
    "collapsed": false
   },
   "source": [
    "##### Exercício 2 - Comprima esses arquivos usando o comando gzip."
   ]
  },
  {
   "cell_type": "code",
   "execution_count": 29,
   "metadata": {
    "collapsed": false
   },
   "outputs": [
    {
     "name": "stdout",
     "output_type": "stream",
     "text": [
      "updating: arq10_outubro_primavera.txt (stored 0%)\r\n",
      "updating: arq11_novembro_primavera.txt (stored 0%)\r\n",
      "updating: arq12_dezembro_primavera.txt (stored 0%)\r\n",
      "updating: arq1_jeneiro_verao.txt (stored 0%)\r\n",
      "updating: arq2_fevereiro_verao.txt (deflated 2%)\r\n",
      "updating: arq3_março_verao.txt (stored 0%)\r\n",
      "updating: arq4_abril_outono.txt (stored 0%)\r\n",
      "updating: arq5_maio_outono.txt (stored 0%)\r\n",
      "updating: arq6_junho_outono.txt (stored 0%)\r\n",
      "updating: arq7_julho_inverno.txt (stored 0%)\r\n",
      "updating: arq8_agosto_inverno.txt (stored 0%)\r\n",
      "updating: arq9_setembro_inverno.txt (stored 0%)\r\n"
     ]
    }
   ],
   "source": [
    "!zip ArquivoEstacoes.zip arq*.txt"
   ]
  },
  {
   "cell_type": "markdown",
   "metadata": {
    "collapsed": false
   },
   "source": [
    "##### Exercício 3 - Quando foi criado o primeiro arquivo?"
   ]
  },
  {
   "cell_type": "markdown",
   "metadata": {
    "collapsed": false
   },
   "source": [
    "##### Resposta: O arquivo criado primeiro foi: '.Analisedados.ipynb.sage-jupyter', que foi criado dia 23 de abril às 16:59 hrs.\n",
    "  "
   ]
  },
  {
   "cell_type": "code",
   "execution_count": 2,
   "metadata": {
    "collapsed": false
   },
   "outputs": [
   ],
   "source": [
    "!ls -la > teste.txt"
   ]
  },
  {
   "cell_type": "code",
   "execution_count": 3,
   "metadata": {
    "collapsed": false
   },
   "outputs": [
   ],
   "source": [
    "file=open('teste.txt','r')\n",
    "data=[]\n",
    "for line in file:\n",
    "    data=data+[line.split()]\n",
    "data=data[1:]"
   ]
  },
  {
   "cell_type": "code",
   "execution_count": 4,
   "metadata": {
    "collapsed": false
   },
   "outputs": [
   ],
   "source": [
    "import pandas as pd\n",
    "filedict=[{'perm': list[0],  'group': list[1], 'user': list[2], 'usercode': list[3],\n",
    "           'filesize': list[4],\n",
    "  'month': list[5], 'day': list[6], 'hour': list[7], 'filename':list[8]} for list in data]\n",
    "df=pd.DataFrame(filedict)"
   ]
  },
  {
   "cell_type": "code",
   "execution_count": 5,
   "metadata": {
    "collapsed": false
   },
   "outputs": [
    {
     "data": {
      "text/plain": [
       "[{'day': '15',\n",
       "  'filename': '.',\n",
       "  'filesize': '4096',\n",
       "  'group': '4',\n",
       "  'hour': '14:14',\n",
       "  'month': 'May',\n",
       "  'perm': 'drwxr-x---',\n",
       "  'user': '6de1d6c461384645883610abf7e8419e',\n",
       "  'usercode': '6de1d6c461384645883610abf7e8419e'},\n",
       " {'day': '15',\n",
       "  'filename': '..',\n",
       "  'filesize': '4096',\n",
       "  'group': '26',\n",
       "  'hour': '14:12',\n",
       "  'month': 'May',\n",
       "  'perm': 'drwx------',\n",
       "  'user': '6de1d6c461384645883610abf7e8419e',\n",
       "  'usercode': '6de1d6c461384645883610abf7e8419e'},\n",
       " {'day': '23',\n",
       "  'filename': '.Analisedados.ipynb.sage-jupyter',\n",
       "  'filesize': '7131',\n",
       "  'group': '1',\n",
       "  'hour': '16:59',\n",
       "  'month': 'Apr',\n",
       "  'perm': '-rw-r-----',\n",
       "  'user': '6de1d6c461384645883610abf7e8419e',\n",
       "  'usercode': '6de1d6c461384645883610abf7e8419e'},\n",
       " {'day': '30',\n",
       "  'filename': 'arq10_outubro_primavera.txt',\n",
       "  'filesize': '67',\n",
       "  'group': '1',\n",
       "  'hour': '18:34',\n",
       "  'month': 'Apr',\n",
       "  'perm': '-rw-r-----',\n",
       "  'user': '6de1d6c461384645883610abf7e8419e',\n",
       "  'usercode': '6de1d6c461384645883610abf7e8419e'},\n",
       " {'day': '30',\n",
       "  'filename': 'arq11_novembro_primavera.txt',\n",
       "  'filesize': '68',\n",
       "  'group': '1',\n",
       "  'hour': '18:34',\n",
       "  'month': 'Apr',\n",
       "  'perm': '-rw-r-----',\n",
       "  'user': '6de1d6c461384645883610abf7e8419e',\n",
       "  'usercode': '6de1d6c461384645883610abf7e8419e'},\n",
       " {'day': '30',\n",
       "  'filename': 'arq12_dezembro_primavera.txt',\n",
       "  'filesize': '68',\n",
       "  'group': '1',\n",
       "  'hour': '18:34',\n",
       "  'month': 'Apr',\n",
       "  'perm': '-rw-r-----',\n",
       "  'user': '6de1d6c461384645883610abf7e8419e',\n",
       "  'usercode': '6de1d6c461384645883610abf7e8419e'},\n",
       " {'day': '30',\n",
       "  'filename': 'arq1_jeneiro_verao.txt',\n",
       "  'filesize': '64',\n",
       "  'group': '1',\n",
       "  'hour': '18:33',\n",
       "  'month': 'Apr',\n",
       "  'perm': '-rw-r-----',\n",
       "  'user': '6de1d6c461384645883610abf7e8419e',\n",
       "  'usercode': '6de1d6c461384645883610abf7e8419e'},\n",
       " {'day': '30',\n",
       "  'filename': 'arq2_fevereiro_verao.txt',\n",
       "  'filesize': '66',\n",
       "  'group': '1',\n",
       "  'hour': '18:33',\n",
       "  'month': 'Apr',\n",
       "  'perm': '-rw-r-----',\n",
       "  'user': '6de1d6c461384645883610abf7e8419e',\n",
       "  'usercode': '6de1d6c461384645883610abf7e8419e'},\n",
       " {'day': '30',\n",
       "  'filename': 'arq3_mar\\xc3\\xa7o_verao.txt',\n",
       "  'filesize': '63',\n",
       "  'group': '1',\n",
       "  'hour': '18:33',\n",
       "  'month': 'Apr',\n",
       "  'perm': '-rw-r-----',\n",
       "  'user': '6de1d6c461384645883610abf7e8419e',\n",
       "  'usercode': '6de1d6c461384645883610abf7e8419e'},\n",
       " {'day': '30',\n",
       "  'filename': 'arq4_abril_outono.txt',\n",
       "  'filesize': '62',\n",
       "  'group': '1',\n",
       "  'hour': '18:33',\n",
       "  'month': 'Apr',\n",
       "  'perm': '-rw-r-----',\n",
       "  'user': '6de1d6c461384645883610abf7e8419e',\n",
       "  'usercode': '6de1d6c461384645883610abf7e8419e'},\n",
       " {'day': '30',\n",
       "  'filename': 'arq5_maio_outono.txt',\n",
       "  'filesize': '61',\n",
       "  'group': '1',\n",
       "  'hour': '18:33',\n",
       "  'month': 'Apr',\n",
       "  'perm': '-rw-r-----',\n",
       "  'user': '6de1d6c461384645883610abf7e8419e',\n",
       "  'usercode': '6de1d6c461384645883610abf7e8419e'},\n",
       " {'day': '30',\n",
       "  'filename': 'arq6_junho_outono.txt',\n",
       "  'filesize': '62',\n",
       "  'group': '1',\n",
       "  'hour': '18:33',\n",
       "  'month': 'Apr',\n",
       "  'perm': '-rw-r-----',\n",
       "  'user': '6de1d6c461384645883610abf7e8419e',\n",
       "  'usercode': '6de1d6c461384645883610abf7e8419e'},\n",
       " {'day': '30',\n",
       "  'filename': 'arq7_julho_inverno.txt',\n",
       "  'filesize': '63',\n",
       "  'group': '1',\n",
       "  'hour': '18:34',\n",
       "  'month': 'Apr',\n",
       "  'perm': '-rw-r-----',\n",
       "  'user': '6de1d6c461384645883610abf7e8419e',\n",
       "  'usercode': '6de1d6c461384645883610abf7e8419e'},\n",
       " {'day': '30',\n",
       "  'filename': 'arq8_agosto_inverno.txt',\n",
       "  'filesize': '64',\n",
       "  'group': '1',\n",
       "  'hour': '18:34',\n",
       "  'month': 'Apr',\n",
       "  'perm': '-rw-r-----',\n",
       "  'user': '6de1d6c461384645883610abf7e8419e',\n",
       "  'usercode': '6de1d6c461384645883610abf7e8419e'},\n",
       " {'day': '30',\n",
       "  'filename': 'arq9_setembro_inverno.txt',\n",
       "  'filesize': '66',\n",
       "  'group': '1',\n",
       "  'hour': '18:34',\n",
       "  'month': 'Apr',\n",
       "  'perm': '-rw-r-----',\n",
       "  'user': '6de1d6c461384645883610abf7e8419e',\n",
       "  'usercode': '6de1d6c461384645883610abf7e8419e'},\n",
       " {'day': '30',\n",
       "  'filename': 'ArquivoEstacoes.zip',\n",
       "  'filesize': '2895',\n",
       "  'group': '1',\n",
       "  'hour': '18:34',\n",
       "  'month': 'Apr',\n",
       "  'perm': '-rw-r-----',\n",
       "  'user': '6de1d6c461384645883610abf7e8419e',\n",
       "  'usercode': '6de1d6c461384645883610abf7e8419e'},\n",
       " {'day': '24',\n",
       "  'filename': '.Aula21.04.2017.ipynb.sage-jupyter',\n",
       "  'filesize': '19129',\n",
       "  'group': '1',\n",
       "  'hour': '00:13',\n",
       "  'month': 'Apr',\n",
       "  'perm': '-rw-r-----',\n",
       "  'user': '6de1d6c461384645883610abf7e8419e',\n",
       "  'usercode': '6de1d6c461384645883610abf7e8419e'},\n",
       " {'day': '23',\n",
       "  'filename': '.Aula24.03.2017.ipynb.sage-jupyter',\n",
       "  'filesize': '17908',\n",
       "  'group': '1',\n",
       "  'hour': '17:38',\n",
       "  'month': 'Apr',\n",
       "  'perm': '-rw-r-----',\n",
       "  'user': '6de1d6c461384645883610abf7e8419e',\n",
       "  'usercode': '6de1d6c461384645883610abf7e8419e'},\n",
       " {'day': '29',\n",
       "  'filename': 'Aula24.04.2017.ipynb',\n",
       "  'filesize': '209191',\n",
       "  'group': '1',\n",
       "  'hour': '23:09',\n",
       "  'month': 'Apr',\n",
       "  'perm': '-rw-r-----',\n",
       "  'user': '6de1d6c461384645883610abf7e8419e',\n",
       "  'usercode': '6de1d6c461384645883610abf7e8419e'},\n",
       " {'day': '29',\n",
       "  'filename': '.Aula24.04.2017.ipynb.sage-jupyter',\n",
       "  'filesize': '22571',\n",
       "  'group': '1',\n",
       "  'hour': '22:53',\n",
       "  'month': 'Apr',\n",
       "  'perm': '-rw-r-----',\n",
       "  'user': '6de1d6c461384645883610abf7e8419e',\n",
       "  'usercode': '6de1d6c461384645883610abf7e8419e'},\n",
       " {'day': '8',\n",
       "  'filename': '.Aula24.04.2017.ipynb.sage-jupyter2',\n",
       "  'filesize': '38',\n",
       "  'group': '1',\n",
       "  'hour': '17:08',\n",
       "  'month': 'May',\n",
       "  'perm': '-rw-r-----',\n",
       "  'user': '6de1d6c461384645883610abf7e8419e',\n",
       "  'usercode': '6de1d6c461384645883610abf7e8419e'},\n",
       " {'day': '24',\n",
       "  'filename': 'cookbook-data',\n",
       "  'filesize': '4096',\n",
       "  'group': '4',\n",
       "  'hour': '15:32',\n",
       "  'month': 'Apr',\n",
       "  'perm': 'drwxr-x---',\n",
       "  'user': '6de1d6c461384645883610abf7e8419e',\n",
       "  'usercode': '6de1d6c461384645883610abf7e8419e'},\n",
       " {'day': '15',\n",
       "  'filename': 'Exerc\\xc3\\xadciosDeAula24.03.2017.html',\n",
       "  'filesize': '335448',\n",
       "  'group': '1',\n",
       "  'hour': '14:14',\n",
       "  'month': 'May',\n",
       "  'perm': '-rw-r-----',\n",
       "  'user': '6de1d6c461384645883610abf7e8419e',\n",
       "  'usercode': '6de1d6c461384645883610abf7e8419e'},\n",
       " {'day': '15',\n",
       "  'filename': 'Exerc\\xc3\\xadciosDeAula24.03.2017.ipynb',\n",
       "  'filesize': '48094',\n",
       "  'group': '1',\n",
       "  'hour': '14:27',\n",
       "  'month': 'May',\n",
       "  'perm': '-rw-r-----',\n",
       "  'user': '6de1d6c461384645883610abf7e8419e',\n",
       "  'usercode': '6de1d6c461384645883610abf7e8419e'},\n",
       " {'day': '30',\n",
       "  'filename': '.Exerc\\xc3\\xadciosDeAula24.03.2017.ipynb.sage-jupyter',\n",
       "  'filesize': '25642',\n",
       "  'group': '1',\n",
       "  'hour': '18:42',\n",
       "  'month': 'Apr',\n",
       "  'perm': '-rw-r-----',\n",
       "  'user': '6de1d6c461384645883610abf7e8419e',\n",
       "  'usercode': '6de1d6c461384645883610abf7e8419e'},\n",
       " {'day': '15',\n",
       "  'filename': '.Exerc\\xc3\\xadciosDeAula24.03.2017.ipynb.sage-jupyter2',\n",
       "  'filesize': '37059',\n",
       "  'group': '1',\n",
       "  'hour': '14:27',\n",
       "  'month': 'May',\n",
       "  'perm': '-rw-r-----',\n",
       "  'user': '6de1d6c461384645883610abf7e8419e',\n",
       "  'usercode': '6de1d6c461384645883610abf7e8419e'},\n",
       " {'day': '24',\n",
       "  'filename': '.ipynb_checkpoints',\n",
       "  'filesize': '4096',\n",
       "  'group': '2',\n",
       "  'hour': '16:54',\n",
       "  'month': 'Apr',\n",
       "  'perm': 'drwxr-x---',\n",
       "  'user': '6de1d6c461384645883610abf7e8419e',\n",
       "  'usercode': '6de1d6c461384645883610abf7e8419e'},\n",
       " {'day': '24',\n",
       "  'filename': 'Pokemon.xlsx',\n",
       "  'filesize': '17297',\n",
       "  'group': '1',\n",
       "  'hour': '22:46',\n",
       "  'month': 'Apr',\n",
       "  'perm': '-rw-r-----',\n",
       "  'user': '6de1d6c461384645883610abf7e8419e',\n",
       "  'usercode': '6de1d6c461384645883610abf7e8419e'},\n",
       " {'day': '23',\n",
       "  'filename': '.python.dados.pandas.ipynb.sage-jupyter',\n",
       "  'filesize': '19127',\n",
       "  'group': '1',\n",
       "  'hour': '19:48',\n",
       "  'month': 'Apr',\n",
       "  'perm': '-rw-r-----',\n",
       "  'user': '6de1d6c461384645883610abf7e8419e',\n",
       "  'usercode': '6de1d6c461384645883610abf7e8419e'},\n",
       " {'day': '24',\n",
       "  'filename': 'test.dat',\n",
       "  'filesize': '24',\n",
       "  'group': '1',\n",
       "  'hour': '16:58',\n",
       "  'month': 'Apr',\n",
       "  'perm': '-rw-r-----',\n",
       "  'user': '6de1d6c461384645883610abf7e8419e',\n",
       "  'usercode': '6de1d6c461384645883610abf7e8419e'},\n",
       " {'day': '15',\n",
       "  'filename': 'teste.txt',\n",
       "  'filesize': '0',\n",
       "  'group': '1',\n",
       "  'hour': '14:27',\n",
       "  'month': 'May',\n",
       "  'perm': '-rw-r-----',\n",
       "  'user': '6de1d6c461384645883610abf7e8419e',\n",
       "  'usercode': '6de1d6c461384645883610abf7e8419e'},\n",
       " {'day': '29',\n",
       "  'filename': 'texto.txt',\n",
       "  'filesize': '219',\n",
       "  'group': '1',\n",
       "  'hour': '22:51',\n",
       "  'month': 'Apr',\n",
       "  'perm': '-rw-r-----',\n",
       "  'user': '6de1d6c461384645883610abf7e8419e',\n",
       "  'usercode': '6de1d6c461384645883610abf7e8419e'}]"
      ]
     },
     "execution_count": 5,
     "metadata": {
     },
     "output_type": "execute_result"
    }
   ],
   "source": [
    "filedict"
   ]
  },
  {
   "cell_type": "code",
   "execution_count": 7,
   "metadata": {
    "collapsed": false
   },
   "outputs": [
   ],
   "source": [
    "df['stringdata']=(\"2017\"+\" \"+df[\"month\"]+\" \"+df[\"day\"]+\" \"+df[\"hour\"])  #terminar ainda"
   ]
  },
  {
   "cell_type": "code",
   "execution_count": 8,
   "metadata": {
    "collapsed": false
   },
   "outputs": [
   ],
   "source": [
    "from datetime import date, timedelta, datetime"
   ]
  },
  {
   "cell_type": "code",
   "execution_count": 10,
   "metadata": {
    "collapsed": false
   },
   "outputs": [
    {
     "ename": "AttributeError",
     "evalue": "'datetime.datetime' object has no attribute 'timestamp'",
     "output_type": "error",
     "traceback": [
      "\u001b[0;31m---------------------------------------------------------------------------\u001b[0m",
      "\u001b[0;31mAttributeError\u001b[0m                            Traceback (most recent call last)",
      "\u001b[0;32m<ipython-input-10-8e4891cd59ff>\u001b[0m in \u001b[0;36m<module>\u001b[0;34m()\u001b[0m\n\u001b[0;32m----> 1\u001b[0;31m \u001b[0mdf\u001b[0m\u001b[0;34m[\u001b[0m\u001b[0;34m'floatdate'\u001b[0m\u001b[0;34m]\u001b[0m\u001b[0;34m=\u001b[0m\u001b[0;34m[\u001b[0m\u001b[0mdatetime\u001b[0m\u001b[0;34m.\u001b[0m\u001b[0mstrptime\u001b[0m\u001b[0;34m(\u001b[0m\u001b[0mstr\u001b[0m\u001b[0;34m,\u001b[0m \u001b[0;34m\"%Y %b %d %H:%M\"\u001b[0m\u001b[0;34m)\u001b[0m \u001b[0;34m.\u001b[0m\u001b[0mtimestamp\u001b[0m\u001b[0;34m(\u001b[0m\u001b[0;34m)\u001b[0m \u001b[0;32mfor\u001b[0m \u001b[0mstr\u001b[0m \u001b[0;32min\u001b[0m \u001b[0mdf\u001b[0m\u001b[0;34m[\u001b[0m\u001b[0;34m\"stringdata\"\u001b[0m\u001b[0;34m]\u001b[0m\u001b[0;34m]\u001b[0m\u001b[0;34m\u001b[0m\u001b[0m\n\u001b[0m",
      "\u001b[0;31mAttributeError\u001b[0m: 'datetime.datetime' object has no attribute 'timestamp'"
     ]
    }
   ],
   "source": [
    "df['floatdate']=[datetime.strptime(str, \"%Y %b %d %H:%M\").timestamp() for str in df[\"stringdata\"]]"
   ]
  },
  {
   "cell_type": "markdown",
   "metadata": {
    "collapsed": false
   },
   "source": [
    "##### Exercício 4 - Quantos arquivos podem ser apenas editadados pelo proprietário?"
   ]
  },
  {
   "cell_type": "markdown",
   "metadata": {
    "collapsed": false
   },
   "source": [
    "Fazer ainda"
   ]
  },
  {
   "cell_type": "markdown",
   "metadata": {
    "collapsed": false
   },
   "source": [
    "##### Exercício 5 (0,25) - Com base nos dados de https://pt.wikipedia.org/w/index.php?title=Lista_de_epis%C3%B3dios_de_Pok%C3%A9mon&action=edit construa um dataframe para armazenar as informações sobre os episódios de Pokemon, contendo:Série, Geração, Temporada, Primeiro Episódio, Último Episódio e Região.\n",
    "##### Descubra qual a geração mais longeva. Descubra quantas temporadas durou cada série."
   ]
  },
  {
   "cell_type": "code",
   "execution_count": 43,
   "metadata": {
    "collapsed": false
   },
   "outputs": [
    {
     "data": {
      "text/html": [
       "<div>\n",
       "<table border=\"1\" class=\"dataframe\">\n",
       "  <thead>\n",
       "    <tr style=\"text-align: right;\">\n",
       "      <th></th>\n",
       "      <th>Série</th>\n",
       "      <th>Geração</th>\n",
       "      <th>Temporada</th>\n",
       "      <th>Primeiro Episódio</th>\n",
       "      <th>Último Episódio</th>\n",
       "      <th>Regiao</th>\n",
       "    </tr>\n",
       "  </thead>\n",
       "  <tbody>\n",
       "    <tr>\n",
       "      <th>0</th>\n",
       "      <td>Série Original</td>\n",
       "      <td>Primeira</td>\n",
       "      <td>Liga Indigo</td>\n",
       "      <td>001</td>\n",
       "      <td>083</td>\n",
       "      <td>Kanto</td>\n",
       "    </tr>\n",
       "    <tr>\n",
       "      <th>1</th>\n",
       "      <td>Série Original</td>\n",
       "      <td>Primeira</td>\n",
       "      <td>Aventuras nas Ilhas Laranja</td>\n",
       "      <td>084</td>\n",
       "      <td>118</td>\n",
       "      <td>Ilhas Laranja</td>\n",
       "    </tr>\n",
       "    <tr>\n",
       "      <th>2</th>\n",
       "      <td>Série Original</td>\n",
       "      <td>Segunda</td>\n",
       "      <td>A Jornada Johto</td>\n",
       "      <td>119</td>\n",
       "      <td>159</td>\n",
       "      <td>Johto</td>\n",
       "    </tr>\n",
       "    <tr>\n",
       "      <th>3</th>\n",
       "      <td>Série Original</td>\n",
       "      <td>Segunda</td>\n",
       "      <td>Campeões da Liga Johto</td>\n",
       "      <td>160</td>\n",
       "      <td>211</td>\n",
       "      <td>Johto</td>\n",
       "    </tr>\n",
       "    <tr>\n",
       "      <th>4</th>\n",
       "      <td>Série Original</td>\n",
       "      <td>Segunda</td>\n",
       "      <td>Master Quest</td>\n",
       "      <td>212</td>\n",
       "      <td>276</td>\n",
       "      <td>Johto</td>\n",
       "    </tr>\n",
       "    <tr>\n",
       "      <th>5</th>\n",
       "      <td>Geração Avançada</td>\n",
       "      <td>Terceira</td>\n",
       "      <td>Pokémon: Avançado</td>\n",
       "      <td>277</td>\n",
       "      <td>316</td>\n",
       "      <td>Hoenn</td>\n",
       "    </tr>\n",
       "    <tr>\n",
       "      <th>6</th>\n",
       "      <td>Geração Avançada</td>\n",
       "      <td>Terceira</td>\n",
       "      <td>Desafio Avançado</td>\n",
       "      <td>317</td>\n",
       "      <td>368</td>\n",
       "      <td>Hoenn</td>\n",
       "    </tr>\n",
       "    <tr>\n",
       "      <th>7</th>\n",
       "      <td>Geração Avançada</td>\n",
       "      <td>Terceira</td>\n",
       "      <td>Batalha Avançado</td>\n",
       "      <td>369</td>\n",
       "      <td>421</td>\n",
       "      <td>Hoenn</td>\n",
       "    </tr>\n",
       "    <tr>\n",
       "      <th>8</th>\n",
       "      <td>Geração Avançada</td>\n",
       "      <td>Terceira</td>\n",
       "      <td>Batalha da Fronteira</td>\n",
       "      <td>422</td>\n",
       "      <td>468</td>\n",
       "      <td>Kanto</td>\n",
       "    </tr>\n",
       "    <tr>\n",
       "      <th>9</th>\n",
       "      <td>Diamante e Pérola</td>\n",
       "      <td>Quarta</td>\n",
       "      <td>Diamante e Pérola</td>\n",
       "      <td>469</td>\n",
       "      <td>520</td>\n",
       "      <td>Sinnoh</td>\n",
       "    </tr>\n",
       "    <tr>\n",
       "      <th>10</th>\n",
       "      <td>Diamante e Pérola</td>\n",
       "      <td>Quarta</td>\n",
       "      <td>Batalha Dimensional</td>\n",
       "      <td>521</td>\n",
       "      <td>572</td>\n",
       "      <td>Sinnoh</td>\n",
       "    </tr>\n",
       "    <tr>\n",
       "      <th>11</th>\n",
       "      <td>Diamante e Pérola</td>\n",
       "      <td>Quarta</td>\n",
       "      <td>Batalhas Galácticas</td>\n",
       "      <td>573</td>\n",
       "      <td>625</td>\n",
       "      <td>Sinnoh</td>\n",
       "    </tr>\n",
       "    <tr>\n",
       "      <th>12</th>\n",
       "      <td>Diamante e Pérola</td>\n",
       "      <td>Quarta</td>\n",
       "      <td>Vencedores da Liga Sinnoh</td>\n",
       "      <td>626</td>\n",
       "      <td>659</td>\n",
       "      <td>Sinnoh</td>\n",
       "    </tr>\n",
       "    <tr>\n",
       "      <th>13</th>\n",
       "      <td>Preto e Branco</td>\n",
       "      <td>Quinta</td>\n",
       "      <td>Preto e Branco</td>\n",
       "      <td>660</td>\n",
       "      <td>707</td>\n",
       "      <td>Unova</td>\n",
       "    </tr>\n",
       "    <tr>\n",
       "      <th>14</th>\n",
       "      <td>Preto e Branco</td>\n",
       "      <td>Quinta</td>\n",
       "      <td>Destinos Rivais</td>\n",
       "      <td>708</td>\n",
       "      <td>756</td>\n",
       "      <td>Unova</td>\n",
       "    </tr>\n",
       "    <tr>\n",
       "      <th>15</th>\n",
       "      <td>Preto e Branco</td>\n",
       "      <td>Quinta</td>\n",
       "      <td>Aventuras em Unova (e Mais Além)</td>\n",
       "      <td>757</td>\n",
       "      <td>803</td>\n",
       "      <td>Unova</td>\n",
       "    </tr>\n",
       "    <tr>\n",
       "      <th>16</th>\n",
       "      <td>XY</td>\n",
       "      <td>Sexta</td>\n",
       "      <td>A Séria XY</td>\n",
       "      <td>804</td>\n",
       "      <td>852</td>\n",
       "      <td>Kalos</td>\n",
       "    </tr>\n",
       "    <tr>\n",
       "      <th>17</th>\n",
       "      <td>XY</td>\n",
       "      <td>Sexta</td>\n",
       "      <td>Kalos Quest</td>\n",
       "      <td>853</td>\n",
       "      <td>897</td>\n",
       "      <td>Kalos</td>\n",
       "    </tr>\n",
       "    <tr>\n",
       "      <th>18</th>\n",
       "      <td>XY</td>\n",
       "      <td>Sexta</td>\n",
       "      <td>XY &amp; Z</td>\n",
       "      <td>898</td>\n",
       "      <td>946</td>\n",
       "      <td>Kalos</td>\n",
       "    </tr>\n",
       "    <tr>\n",
       "      <th>19</th>\n",
       "      <td>Sun and Moon</td>\n",
       "      <td>Sétima</td>\n",
       "      <td>Sun and Moon</td>\n",
       "      <td>947</td>\n",
       "      <td>Em Andamento</td>\n",
       "      <td>Alola</td>\n",
       "    </tr>\n",
       "  </tbody>\n",
       "</table>\n",
       "</div>"
      ]
     },
     "execution_count": 43,
     "metadata": {
     },
     "output_type": "execute_result"
    }
   ],
   "source": [
    "import pandas as pd\n",
    "dict=[{'Série': 'Série Original', 'Geração':'Primeira', 'Temporada': 'Liga Indigo', 'Primeiro Episódio': '001' , 'Último Episódio': '083', 'Regiao': 'Kanto'},    \n",
    "      {'Série': 'Série Original', 'Geração':'Primeira', 'Temporada': 'Aventuras nas Ilhas Laranja', 'Primeiro Episódio': '084' , 'Último Episódio': '118', 'Regiao': 'Ilhas Laranja'},\n",
    "      {'Série': 'Série Original', 'Geração':'Segunda', 'Temporada': 'A Jornada Johto', 'Primeiro Episódio': '119' , 'Último Episódio': '159', 'Regiao': 'Johto'},\n",
    "      {'Série': 'Série Original', 'Geração':'Segunda', 'Temporada': 'Campeões da Liga Johto', 'Primeiro Episódio': '160' , 'Último Episódio': '211', 'Regiao': 'Johto'},\n",
    "      {'Série': 'Série Original', 'Geração':'Segunda', 'Temporada': 'Master Quest', 'Primeiro Episódio': '212' , 'Último Episódio': '276', 'Regiao': 'Johto'},\n",
    "      {'Série': 'Geração Avançada', 'Geração':'Terceira', 'Temporada': 'Pokémon: Avançado', 'Primeiro Episódio': '277' , 'Último Episódio': '316', 'Regiao': 'Hoenn'},\n",
    "      {'Série': 'Geração Avançada', 'Geração':'Terceira', 'Temporada': 'Desafio Avançado', 'Primeiro Episódio': '317' , 'Último Episódio': '368', 'Regiao': 'Hoenn'},\n",
    "      {'Série': 'Geração Avançada', 'Geração':'Terceira', 'Temporada': 'Batalha Avançado', 'Primeiro Episódio': '369' , 'Último Episódio': '421', 'Regiao': 'Hoenn'},\n",
    "      {'Série': 'Geração Avançada', 'Geração':'Terceira', 'Temporada': 'Batalha da Fronteira', 'Primeiro Episódio': '422' , 'Último Episódio': '468', 'Regiao': 'Kanto'},\n",
    "      {'Série': 'Diamante e Pérola', 'Geração':'Quarta', 'Temporada': 'Diamante e Pérola', 'Primeiro Episódio': '469' , 'Último Episódio': '520', 'Regiao': 'Sinnoh'},\n",
    "      {'Série': 'Diamante e Pérola', 'Geração':'Quarta', 'Temporada': 'Batalha Dimensional', 'Primeiro Episódio': '521' , 'Último Episódio': '572', 'Regiao': 'Sinnoh'},\n",
    "      {'Série': 'Diamante e Pérola', 'Geração':'Quarta', 'Temporada': 'Batalhas Galácticas', 'Primeiro Episódio': '573' , 'Último Episódio': '625', 'Regiao': 'Sinnoh'},\n",
    "      {'Série': 'Diamante e Pérola', 'Geração':'Quarta', 'Temporada': 'Vencedores da Liga Sinnoh', 'Primeiro Episódio': '626' , 'Último Episódio': '659', 'Regiao': 'Sinnoh'},\n",
    "      {'Série': 'Preto e Branco', 'Geração':'Quinta', 'Temporada': 'Preto e Branco', 'Primeiro Episódio': '660' , 'Último Episódio': '707', 'Regiao': 'Unova'},\n",
    "      {'Série': 'Preto e Branco', 'Geração':'Quinta', 'Temporada': 'Destinos Rivais', 'Primeiro Episódio': '708' , 'Último Episódio': '756', 'Regiao': 'Unova'},\n",
    "      {'Série': 'Preto e Branco', 'Geração':'Quinta', 'Temporada': 'Aventuras em Unova (e Mais Além)', 'Primeiro Episódio': '757' , 'Último Episódio': '803', 'Regiao': 'Unova'},\n",
    "      {'Série': 'XY', 'Geração':'Sexta', 'Temporada': 'A Séria XY', 'Primeiro Episódio': '804' , 'Último Episódio': '852', 'Regiao': 'Kalos'},\n",
    "      {'Série': 'XY', 'Geração':'Sexta', 'Temporada': 'Kalos Quest', 'Primeiro Episódio': '853' , 'Último Episódio': '897', 'Regiao': 'Kalos'},\n",
    "      {'Série': 'XY', 'Geração':'Sexta', 'Temporada': 'XY & Z', 'Primeiro Episódio': '898' , 'Último Episódio': '946', 'Regiao': 'Kalos'},\n",
    "      {'Série': 'Sun and Moon', 'Geração':'Sétima', 'Temporada': 'Sun and Moon', 'Primeiro Episódio': '947' , 'Último Episódio': 'Em Andamento', 'Regiao': 'Alola'}]\n",
    "df=pd.DataFrame(dict)\n",
    "df[['Série','Geração', 'Temporada', 'Primeiro Episódio', 'Último Episódio', 'Regiao']]"
   ]
  },
  {
   "cell_type": "code",
   "execution_count": 44,
   "metadata": {
    "collapsed": false
   },
   "outputs": [
    {
     "name": "stdout",
     "output_type": "stream",
     "text": [
      "Quantidade de temporadas que durou a Série Original: 5\n",
      "Quantidade de temporadas que durou a Geração Avançada: 4\n",
      "Quantidade de temporadas que durou a Diamante e Pérola: 4\n",
      "Quantidade de temporadas que durou a Preto e Branco: 3\n",
      "Quantidade de temporadas que durou a XY: 3\n",
      "Quantidade de temporadas que durou a Sun and Moon: 1\n"
     ]
    }
   ],
   "source": [
    "print 'Quantidade de temporadas que durou a Série Original:',len([serie1 for serie1  in df['Série'] if serie1=='Série Original'])\n",
    "print 'Quantidade de temporadas que durou a Geração Avançada:',len([serie2 for serie2  in df['Série'] if serie2=='Geração Avançada'])\n",
    "print 'Quantidade de temporadas que durou a Diamante e Pérola:',len([serie3 for serie3  in df['Série'] if serie3=='Diamante e Pérola'])\n",
    "print 'Quantidade de temporadas que durou a Preto e Branco:',len([serie4 for serie4  in df['Série'] if serie4=='Preto e Branco'])\n",
    "print 'Quantidade de temporadas que durou a XY:',len([serie5 for serie5  in df['Série'] if serie5=='XY'])\n",
    "print 'Quantidade de temporadas que durou a Sun and Moon:',len([serie6 for serie6  in df['Série'] if serie6=='Sun and Moon'])"
   ]
  },
  {
   "cell_type": "code",
   "execution_count": 45,
   "metadata": {
    "collapsed": false
   },
   "outputs": [
    {
     "name": "stdout",
     "output_type": "stream",
     "text": [
      "A geração que é mais longeva, ou seja que tem mais episódios é: Geracao Terceira com 192 episodios\n"
     ]
    }
   ],
   "source": [
    "Primeira=119-1\n",
    "Segunda=277-119\n",
    "Terceira=469-277\n",
    "Quarta=660-469\n",
    "Quinta=804-660\n",
    "Sexta=947-804\n",
    "Episodios={'Geracao Primeira': Primeira, 'Geracao Segunda' : Segunda, 'Geracao Terceira' : Terceira, 'Geracao Quarta' : Quarta, \n",
    "           'Geracao Quinta' : Quinta, 'Geracao Sexta' : Sexta}\n",
    "print 'A geração que é mais longeva, ou seja que tem mais episódios é:',max(Episodios), 'com', Episodios[max(Episodios)], 'episodios'\n"
   ]
  },
  {
   "cell_type": "markdown",
   "metadata": {
    "collapsed": false
   },
   "source": [
    "##### Exercício 6 - Construa uma tabela com o número de vitórias e derrotas de Federer para cada tipo de terreno."
   ]
  },
  {
   "cell_type": "code",
   "execution_count": 0,
   "metadata": {
    "collapsed": false
   },
   "outputs": [
   ],
   "source": [
   ]
  },
  {
   "cell_type": "code",
   "execution_count": 0,
   "metadata": {
    "collapsed": true
   },
   "outputs": [
   ],
   "source": [
   ]
  },
  {
   "cell_type": "code",
   "execution_count": 0,
   "metadata": {
    "collapsed": true
   },
   "outputs": [
   ],
   "source": [
   ]
  }
 ],
 "metadata": {
  "kernelspec": {
   "display_name": "Python 2 (SageMath)",
   "language": "python",
   "name": "python2"
  },
  "language_info": {
   "codemirror_mode": {
    "name": "ipython",
    "version": 2
   },
   "file_extension": ".py",
   "mimetype": "text/x-python",
   "name": "python",
   "nbconvert_exporter": "python",
   "pygments_lexer": "ipython2",
   "version": "2.7.13"
  }
 },
 "nbformat": 4,
 "nbformat_minor": 0
}