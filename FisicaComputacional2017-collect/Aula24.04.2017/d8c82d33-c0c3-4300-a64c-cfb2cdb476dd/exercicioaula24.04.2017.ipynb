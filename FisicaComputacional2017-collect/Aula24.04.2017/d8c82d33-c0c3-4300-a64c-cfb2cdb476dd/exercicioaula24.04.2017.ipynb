{
 "cells": [
  {
   "cell_type": "code",
   "execution_count": 29,
   "metadata": {
    "collapsed": false
   },
   "outputs": [
    {
     "name": "stdout",
     "output_type": "stream",
     "text": [
      "updating: arq_abril_inverno.txt (stored 0%)\n",
      "  adding: arq_abril_outono.txt (deflated 82%)\n",
      "  adding: arq_agosto_inverno.txt (deflated 88%)\n",
      "  adding: arq_dezembro_primavera.txt (deflated 93%)\n",
      "  adding: arq_fevereiro_verao.txt (deflated 86%)\n",
      "  adding: arq_janeiro_verao.txt (deflated 90%)\n",
      "  adding: arq_julho_inverno.txt (deflated 81%)\n",
      "  adding: arq_junho_outono.txt (deflated 86%)\n",
      "  adding: arq_maio_outono.txt (deflated 94%)\n",
      "  adding: arq_marco_verao.txt (deflated 88%)\n",
      "  adding: arq_novembro_primavera.txt (deflated 82%)\n",
      "  adding: arq_outubro_primavera.txt (deflated 93%)\n",
      "  adding: arq_setembro_inverno.txt (deflated 92%)\n"
     ]
    }
   ],
   "source": [
    "m = ['janeiro','fevereiro','marco', 'abril','maio','junho','julho','agosto','setembro','outubro','novembro','dezembro']\n",
    "e = ['outono','inverno','primavera','verao']\n",
    "\n",
    "from random import randrange\n",
    "for i in range(1,13):\n",
    "    if i > 3 and i <= 6:\n",
    "        j = 1\n",
    "    elif i >= 6 and i <= 9:\n",
    "        j = 2\n",
    "    elif i >= 9 and i <= 12:\n",
    "        j = 3\n",
    "    else:\n",
    "        j = 4\n",
    "        \n",
    "    content=\"A minha estaçao predileta é \"+str(e[j-1])+\", especialmente o\"+str(m[j-i])+\"mes' repetida um numero aleatorio de vezes, entre 5 e 20\\n\"\n",
    "    with open('arq_'+str(m[i-1])+'_'+str(e[j-1])+'.txt', 'w') as f:\n",
    "        for k in range(1, randrange(6,20)):\n",
    "            f.write(content)\n",
    "    f.close()\n",
    "        \n",
    "!zip file.zip arq*.txt\n",
    "    "
   ]
  },
  {
   "cell_type": "code",
   "execution_count": null,
   "metadata": {
    "collapsed": false
   },
   "outputs": [],
   "source": []
  },
  {
   "cell_type": "code",
   "execution_count": null,
   "metadata": {
    "collapsed": false
   },
   "outputs": [],
   "source": []
  },
  {
   "cell_type": "code",
   "execution_count": null,
   "metadata": {
    "collapsed": false
   },
   "outputs": [],
   "source": []
  },
  {
   "cell_type": "code",
   "execution_count": null,
   "metadata": {
    "collapsed": true
   },
   "outputs": [],
   "source": []
  }
 ],
 "metadata": {
  "kernelspec": {
   "display_name": "Python 2 (SageMath)",
   "language": "python",
   "name": "python2"
  },
  "language_info": {
   "codemirror_mode": {
    "name": "ipython",
    "version": 2
   },
   "file_extension": ".py",
   "mimetype": "text/x-python",
   "name": "python",
   "nbconvert_exporter": "python",
   "pygments_lexer": "ipython2",
   "version": "2.7.13"
  }
 },
 "nbformat": 4,
 "nbformat_minor": 0
}
