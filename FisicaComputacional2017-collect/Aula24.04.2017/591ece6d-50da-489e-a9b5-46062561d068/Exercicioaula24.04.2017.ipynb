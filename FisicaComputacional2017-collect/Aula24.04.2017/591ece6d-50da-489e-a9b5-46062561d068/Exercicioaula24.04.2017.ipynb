{
 "cells": [
  {
   "cell_type": "code",
   "execution_count": 1,
   "metadata": {},
   "outputs": [
    {
     "name": "stdout",
     "output_type": "stream",
     "text": [
      "Writing arq_janeiro_verão.txt\n"
     ]
    }
   ],
   "source": [
    "%%writefile arq_janeiro_verão.txt\n",
    "    A minha estação preferida é Verão, especialmente Janeiro"
   ]
  },
  {
   "cell_type": "code",
   "execution_count": 2,
   "metadata": {},
   "outputs": [
    {
     "name": "stdout",
     "output_type": "stream",
     "text": [
      "    A minha estação preferida é Verão, especialmente Janeiro\n"
     ]
    }
   ],
   "source": [
    "with open('arq_janeiro_verão.txt', 'r') as f:\n",
    "        print(f.read())\n",
    "        "
   ]
  },
  {
   "cell_type": "code",
   "execution_count": 3,
   "metadata": {
    "collapsed": true
   },
   "outputs": [],
   "source": [
    "from random import randint\n"
   ]
  },
  {
   "cell_type": "code",
   "execution_count": 4,
   "metadata": {},
   "outputs": [
    {
     "data": {
      "text/plain": [
       "25"
      ]
     },
     "execution_count": 4,
     "metadata": {},
     "output_type": "execute_result"
    }
   ],
   "source": [
    "randint(5,30)"
   ]
  },
  {
   "cell_type": "code",
   "execution_count": 5,
   "metadata": {},
   "outputs": [
    {
     "name": "stdout",
     "output_type": "stream",
     "text": [
      "   A minha estação preferida é Verão, especialmente Janeiro\n",
      "   A minha estação preferida é Verão, especialmente Janeiro\n",
      "   A minha estação preferida é Verão, especialmente Janeiro\n",
      "   A minha estação preferida é Verão, especialmente Janeiro\n",
      "   A minha estação preferida é Verão, especialmente Janeiro\n",
      "   A minha estação preferida é Verão, especialmente Janeiro\n",
      "   A minha estação preferida é Verão, especialmente Janeiro\n",
      "\n"
     ]
    }
   ],
   "source": [
    "string=randint(5,30)*\"   A minha estação preferida é Verão, especialmente Janeiro\\n\"\n",
    "print string\n"
   ]
  },
  {
   "cell_type": "code",
   "execution_count": null,
   "metadata": {
    "collapsed": true
   },
   "outputs": [],
   "source": []
  }
 ],
 "metadata": {
  "kernelspec": {
   "display_name": "Python 2 (SageMath)",
   "language": "python",
   "name": "python2"
  },
  "language_info": {
   "codemirror_mode": {
    "name": "ipython",
    "version": 2
   },
   "file_extension": ".py",
   "mimetype": "text/x-python",
   "name": "python",
   "nbconvert_exporter": "python",
   "pygments_lexer": "ipython2",
   "version": "2.7.13"
  }
 },
 "nbformat": 4,
 "nbformat_minor": 1
}
