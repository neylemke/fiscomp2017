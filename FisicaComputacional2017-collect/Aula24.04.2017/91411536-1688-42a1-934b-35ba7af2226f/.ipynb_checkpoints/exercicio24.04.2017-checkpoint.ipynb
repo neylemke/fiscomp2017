{
 "cells": [
  {
   "cell_type": "code",
   "execution_count": null,
   "metadata": {
    "collapsed": false
   },
   "outputs": [],
   "source": [
    "m=['janeiro','fevereiro','março','abril','maio','junho','julho','agosto','setembro','outubro','novembro','dezembro']\n",
    "e=['outono','inverno','primavera','verao']\n",
    "\n",
    "from random import randrange\n",
    "for i in range(1,13):\n",
    "    if i > 3 and i <=6:\n",
    "        j =1\n",
    "    elif i>= 6 and i<=9:\n",
    "        j=2\n",
    "    elif i>=9 and i<=12:\n",
    "        j=3\n",
    "    else:\n",
    "        j=4\n",
    "     \n",
    "    content = \"A minha estação predileta é \"+str(e[j-1])+\", especialmente o \"+str(m[j-1])+\"mês repetida um numero aleatório de vezes, entre 5 e 20 vezes.\\n\"\n",
    "    with open ('arq_'+str(m[i-1])+'_'+str(e[j-1])+'.txt','w') as f:\n",
    "        for k in range(1,randrange(6,20)):\n",
    "            f.write(content)\n",
    "    f.close()\n",
    "    !zip file.zip arq*.txt\n",
    "    "
   ]
  }
 ],
 "metadata": {
  "kernelspec": {
   "display_name": "Python 2 (SageMath)",
   "language": "python",
   "name": "python2"
  },
  "language_info": {
   "codemirror_mode": {
    "name": "ipython",
    "version": 2
   },
   "file_extension": ".py",
   "mimetype": "text/x-python",
   "name": "python",
   "nbconvert_exporter": "python",
   "pygments_lexer": "ipython2",
   "version": "2.7.13"
  }
 },
 "nbformat": 4,
 "nbformat_minor": 0
}
