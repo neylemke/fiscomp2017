{
 "cells": [
  {
   "cell_type": "code",
   "execution_count": 41,
   "metadata": {
    "collapsed": false
   },
   "outputs": [
    {
     "name": "stdout",
     "output_type": "stream",
     "text": [
      "Writing arq_dez_primavera.txt\n"
     ]
    }
   ],
   "source": [
    "\n",
    "%%writefile arq_dez_primavera.txt\n",
    "'A minha estacao predileta e primavera, especialmente o mes de dezembro.A minha estacao predileta e primavera, especialmente o mes de dezembro.A minha estacao predileta e primavera, especialmente o mes de dezembro.A minha estacao predileta e primavera, especialmente o mes de dezembro.A minha estacao predileta e primavera, especialmente o mes de dezembro.A minha estacao predileta e primavera, especialmente o mes de dezembro.A minha estacao predileta e primavera, especialmente o mes de dezembro.A minha estacao predileta e primavera, especialmente o mes de dezembro.'"
   ]
  },
  {
   "cell_type": "code",
   "execution_count": 40,
   "metadata": {
    "collapsed": false
   },
   "outputs": [
    {
     "data": {
      "text/plain": [
       "'A minha estacao predileta e primavera, especialmente o mes de dezembro.A minha estacao predileta e primavera, especialmente o mes de dezembro.A minha estacao predileta e primavera, especialmente o mes de dezembro.A minha estacao predileta e primavera, especialmente o mes de dezembro.A minha estacao predileta e primavera, especialmente o mes de dezembro.A minha estacao predileta e primavera, especialmente o mes de dezembro.A minha estacao predileta e primavera, especialmente o mes de dezembro.A minha estacao predileta e primavera, especialmente o mes de dezembro.'"
      ]
     },
     "execution_count": 40,
     "metadata": {},
     "output_type": "execute_result"
    }
   ],
   "source": [
    "\n",
    "from random import randint\n",
    "randint(5,13)*\"A minha estacao predileta e primavera, especialmente o mes de dezembro.\"\n"
   ]
  },
  {
   "cell_type": "code",
   "execution_count": null,
   "metadata": {
    "collapsed": true
   },
   "outputs": [],
   "source": []
  }
 ],
 "metadata": {
  "kernelspec": {
   "display_name": "Python 2 (SageMath)",
   "language": "python",
   "name": "python2"
  },
  "language_info": {
   "codemirror_mode": {
    "name": "ipython",
    "version": 2
   },
   "file_extension": ".py",
   "mimetype": "text/x-python",
   "name": "python",
   "nbconvert_exporter": "python",
   "pygments_lexer": "ipython2",
   "version": "2.7.13"
  }
 },
 "nbformat": 4,
 "nbformat_minor": 0
}
