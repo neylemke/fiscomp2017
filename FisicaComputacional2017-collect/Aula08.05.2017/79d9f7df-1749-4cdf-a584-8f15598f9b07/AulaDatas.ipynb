{
 "cells": [
  {
   "cell_type": "markdown",
   "metadata": {
    "collapsed": false,
    "slideshow": {
     "slide_type": "slide"
    }
   },
   "source": [
    "#  Manipulação de Arquivos e dados em Python"
   ]
  },
  {
   "cell_type": "markdown",
   "metadata": {
    "collapsed": false
   },
   "source": [
    "\n",
    "\n",
    "**2. DataFrames**\n",
    "\n",
    "- São generalizações de Séries, onde temos uma lista de séries concatenadas. "
   ]
  },
  {
   "cell_type": "markdown",
   "metadata": {
    "collapsed": true
   },
   "source": [
    " Estamos basicamente criando o conjunto de dados. Agora vamos usar a biblioteca pandas para exportar este conjunto de dados em um arquivo csv.\n",
    "- **df** será um objeto **DataFrame**. Você pode pensar neste objeto mantendo o conteúdo do listaindex  em um formato semelhante a uma tabela sql ou uma planilha do Excel. Vamos dar uma olhada abaixo no conteúdo dentro df ."
   ]
  },
  {
   "cell_type": "code",
   "execution_count": 4,
   "metadata": {
    "collapsed": true
   },
   "outputs": [
   ],
   "source": [
    "import pandas as pd"
   ]
  },
  {
   "cell_type": "markdown",
   "metadata": {
    "collapsed": false
   },
   "source": [
    "## Criando DataFrames"
   ]
  },
  {
   "cell_type": "code",
   "execution_count": 67,
   "metadata": {
    "collapsed": true,
    "scrolled": true
   },
   "outputs": [
   ],
   "source": [
    "dict=[{'char': chr(i), 'num': i } for i in range(48,122)]"
   ]
  },
  {
   "cell_type": "code",
   "execution_count": 0,
   "metadata": {
    "collapsed": true
   },
   "outputs": [
   ],
   "source": [
    "[{\"nome\": \"serie1\", hghg: }\n",
    " ,{\"nome\"}]"
   ]
  },
  {
   "cell_type": "code",
   "execution_count": 68,
   "metadata": {
    "collapsed": false
   },
   "outputs": [
    {
     "data": {
      "text/plain": [
       "'<'"
      ]
     },
     "execution_count": 68,
     "metadata": {
     },
     "output_type": "execute_result"
    }
   ],
   "source": [
    "chr(60)"
   ]
  },
  {
   "cell_type": "code",
   "execution_count": 70,
   "metadata": {
    "collapsed": true
   },
   "outputs": [
   ],
   "source": [
    "df=pd.DataFrame(dict)"
   ]
  },
  {
   "cell_type": "code",
   "execution_count": 71,
   "metadata": {
    "collapsed": false
   },
   "outputs": [
    {
     "data": {
      "text/html": [
       "<div>\n",
       "<table border=\"1\" class=\"dataframe\">\n",
       "  <thead>\n",
       "    <tr style=\"text-align: right;\">\n",
       "      <th></th>\n",
       "      <th>char</th>\n",
       "      <th>num</th>\n",
       "    </tr>\n",
       "  </thead>\n",
       "  <tbody>\n",
       "    <tr>\n",
       "      <th>0</th>\n",
       "      <td>0</td>\n",
       "      <td>48</td>\n",
       "    </tr>\n",
       "    <tr>\n",
       "      <th>1</th>\n",
       "      <td>1</td>\n",
       "      <td>49</td>\n",
       "    </tr>\n",
       "    <tr>\n",
       "      <th>2</th>\n",
       "      <td>2</td>\n",
       "      <td>50</td>\n",
       "    </tr>\n",
       "    <tr>\n",
       "      <th>3</th>\n",
       "      <td>3</td>\n",
       "      <td>51</td>\n",
       "    </tr>\n",
       "    <tr>\n",
       "      <th>4</th>\n",
       "      <td>4</td>\n",
       "      <td>52</td>\n",
       "    </tr>\n",
       "    <tr>\n",
       "      <th>5</th>\n",
       "      <td>5</td>\n",
       "      <td>53</td>\n",
       "    </tr>\n",
       "    <tr>\n",
       "      <th>6</th>\n",
       "      <td>6</td>\n",
       "      <td>54</td>\n",
       "    </tr>\n",
       "    <tr>\n",
       "      <th>7</th>\n",
       "      <td>7</td>\n",
       "      <td>55</td>\n",
       "    </tr>\n",
       "    <tr>\n",
       "      <th>8</th>\n",
       "      <td>8</td>\n",
       "      <td>56</td>\n",
       "    </tr>\n",
       "    <tr>\n",
       "      <th>9</th>\n",
       "      <td>9</td>\n",
       "      <td>57</td>\n",
       "    </tr>\n",
       "    <tr>\n",
       "      <th>10</th>\n",
       "      <td>:</td>\n",
       "      <td>58</td>\n",
       "    </tr>\n",
       "    <tr>\n",
       "      <th>11</th>\n",
       "      <td>;</td>\n",
       "      <td>59</td>\n",
       "    </tr>\n",
       "    <tr>\n",
       "      <th>12</th>\n",
       "      <td>&lt;</td>\n",
       "      <td>60</td>\n",
       "    </tr>\n",
       "    <tr>\n",
       "      <th>13</th>\n",
       "      <td>=</td>\n",
       "      <td>61</td>\n",
       "    </tr>\n",
       "    <tr>\n",
       "      <th>14</th>\n",
       "      <td>&gt;</td>\n",
       "      <td>62</td>\n",
       "    </tr>\n",
       "    <tr>\n",
       "      <th>15</th>\n",
       "      <td>?</td>\n",
       "      <td>63</td>\n",
       "    </tr>\n",
       "    <tr>\n",
       "      <th>16</th>\n",
       "      <td>@</td>\n",
       "      <td>64</td>\n",
       "    </tr>\n",
       "    <tr>\n",
       "      <th>17</th>\n",
       "      <td>A</td>\n",
       "      <td>65</td>\n",
       "    </tr>\n",
       "    <tr>\n",
       "      <th>18</th>\n",
       "      <td>B</td>\n",
       "      <td>66</td>\n",
       "    </tr>\n",
       "    <tr>\n",
       "      <th>19</th>\n",
       "      <td>C</td>\n",
       "      <td>67</td>\n",
       "    </tr>\n",
       "    <tr>\n",
       "      <th>20</th>\n",
       "      <td>D</td>\n",
       "      <td>68</td>\n",
       "    </tr>\n",
       "    <tr>\n",
       "      <th>21</th>\n",
       "      <td>E</td>\n",
       "      <td>69</td>\n",
       "    </tr>\n",
       "    <tr>\n",
       "      <th>22</th>\n",
       "      <td>F</td>\n",
       "      <td>70</td>\n",
       "    </tr>\n",
       "    <tr>\n",
       "      <th>23</th>\n",
       "      <td>G</td>\n",
       "      <td>71</td>\n",
       "    </tr>\n",
       "    <tr>\n",
       "      <th>24</th>\n",
       "      <td>H</td>\n",
       "      <td>72</td>\n",
       "    </tr>\n",
       "    <tr>\n",
       "      <th>25</th>\n",
       "      <td>I</td>\n",
       "      <td>73</td>\n",
       "    </tr>\n",
       "    <tr>\n",
       "      <th>26</th>\n",
       "      <td>J</td>\n",
       "      <td>74</td>\n",
       "    </tr>\n",
       "    <tr>\n",
       "      <th>27</th>\n",
       "      <td>K</td>\n",
       "      <td>75</td>\n",
       "    </tr>\n",
       "    <tr>\n",
       "      <th>28</th>\n",
       "      <td>L</td>\n",
       "      <td>76</td>\n",
       "    </tr>\n",
       "    <tr>\n",
       "      <th>29</th>\n",
       "      <td>M</td>\n",
       "      <td>77</td>\n",
       "    </tr>\n",
       "    <tr>\n",
       "      <th>...</th>\n",
       "      <td>...</td>\n",
       "      <td>...</td>\n",
       "    </tr>\n",
       "    <tr>\n",
       "      <th>44</th>\n",
       "      <td>\\</td>\n",
       "      <td>92</td>\n",
       "    </tr>\n",
       "    <tr>\n",
       "      <th>45</th>\n",
       "      <td>]</td>\n",
       "      <td>93</td>\n",
       "    </tr>\n",
       "    <tr>\n",
       "      <th>46</th>\n",
       "      <td>^</td>\n",
       "      <td>94</td>\n",
       "    </tr>\n",
       "    <tr>\n",
       "      <th>47</th>\n",
       "      <td>_</td>\n",
       "      <td>95</td>\n",
       "    </tr>\n",
       "    <tr>\n",
       "      <th>48</th>\n",
       "      <td>`</td>\n",
       "      <td>96</td>\n",
       "    </tr>\n",
       "    <tr>\n",
       "      <th>49</th>\n",
       "      <td>a</td>\n",
       "      <td>97</td>\n",
       "    </tr>\n",
       "    <tr>\n",
       "      <th>50</th>\n",
       "      <td>b</td>\n",
       "      <td>98</td>\n",
       "    </tr>\n",
       "    <tr>\n",
       "      <th>51</th>\n",
       "      <td>c</td>\n",
       "      <td>99</td>\n",
       "    </tr>\n",
       "    <tr>\n",
       "      <th>52</th>\n",
       "      <td>d</td>\n",
       "      <td>100</td>\n",
       "    </tr>\n",
       "    <tr>\n",
       "      <th>53</th>\n",
       "      <td>e</td>\n",
       "      <td>101</td>\n",
       "    </tr>\n",
       "    <tr>\n",
       "      <th>54</th>\n",
       "      <td>f</td>\n",
       "      <td>102</td>\n",
       "    </tr>\n",
       "    <tr>\n",
       "      <th>55</th>\n",
       "      <td>g</td>\n",
       "      <td>103</td>\n",
       "    </tr>\n",
       "    <tr>\n",
       "      <th>56</th>\n",
       "      <td>h</td>\n",
       "      <td>104</td>\n",
       "    </tr>\n",
       "    <tr>\n",
       "      <th>57</th>\n",
       "      <td>i</td>\n",
       "      <td>105</td>\n",
       "    </tr>\n",
       "    <tr>\n",
       "      <th>58</th>\n",
       "      <td>j</td>\n",
       "      <td>106</td>\n",
       "    </tr>\n",
       "    <tr>\n",
       "      <th>59</th>\n",
       "      <td>k</td>\n",
       "      <td>107</td>\n",
       "    </tr>\n",
       "    <tr>\n",
       "      <th>60</th>\n",
       "      <td>l</td>\n",
       "      <td>108</td>\n",
       "    </tr>\n",
       "    <tr>\n",
       "      <th>61</th>\n",
       "      <td>m</td>\n",
       "      <td>109</td>\n",
       "    </tr>\n",
       "    <tr>\n",
       "      <th>62</th>\n",
       "      <td>n</td>\n",
       "      <td>110</td>\n",
       "    </tr>\n",
       "    <tr>\n",
       "      <th>63</th>\n",
       "      <td>o</td>\n",
       "      <td>111</td>\n",
       "    </tr>\n",
       "    <tr>\n",
       "      <th>64</th>\n",
       "      <td>p</td>\n",
       "      <td>112</td>\n",
       "    </tr>\n",
       "    <tr>\n",
       "      <th>65</th>\n",
       "      <td>q</td>\n",
       "      <td>113</td>\n",
       "    </tr>\n",
       "    <tr>\n",
       "      <th>66</th>\n",
       "      <td>r</td>\n",
       "      <td>114</td>\n",
       "    </tr>\n",
       "    <tr>\n",
       "      <th>67</th>\n",
       "      <td>s</td>\n",
       "      <td>115</td>\n",
       "    </tr>\n",
       "    <tr>\n",
       "      <th>68</th>\n",
       "      <td>t</td>\n",
       "      <td>116</td>\n",
       "    </tr>\n",
       "    <tr>\n",
       "      <th>69</th>\n",
       "      <td>u</td>\n",
       "      <td>117</td>\n",
       "    </tr>\n",
       "    <tr>\n",
       "      <th>70</th>\n",
       "      <td>v</td>\n",
       "      <td>118</td>\n",
       "    </tr>\n",
       "    <tr>\n",
       "      <th>71</th>\n",
       "      <td>w</td>\n",
       "      <td>119</td>\n",
       "    </tr>\n",
       "    <tr>\n",
       "      <th>72</th>\n",
       "      <td>x</td>\n",
       "      <td>120</td>\n",
       "    </tr>\n",
       "    <tr>\n",
       "      <th>73</th>\n",
       "      <td>y</td>\n",
       "      <td>121</td>\n",
       "    </tr>\n",
       "  </tbody>\n",
       "</table>\n",
       "<p>74 rows × 2 columns</p>\n",
       "</div>"
      ]
     },
     "execution_count": 71,
     "metadata": {
     },
     "output_type": "execute_result"
    }
   ],
   "source": [
    "df"
   ]
  },
  {
   "cell_type": "code",
   "execution_count": 72,
   "metadata": {
    "collapsed": false
   },
   "outputs": [
    {
     "data": {
      "text/html": [
       "<div>\n",
       "<table border=\"1\" class=\"dataframe\">\n",
       "  <thead>\n",
       "    <tr style=\"text-align: right;\">\n",
       "      <th></th>\n",
       "      <th>char</th>\n",
       "      <th>num</th>\n",
       "    </tr>\n",
       "  </thead>\n",
       "  <tbody>\n",
       "    <tr>\n",
       "      <th>0</th>\n",
       "      <td>0</td>\n",
       "      <td>48</td>\n",
       "    </tr>\n",
       "    <tr>\n",
       "      <th>1</th>\n",
       "      <td>1</td>\n",
       "      <td>49</td>\n",
       "    </tr>\n",
       "    <tr>\n",
       "      <th>2</th>\n",
       "      <td>2</td>\n",
       "      <td>50</td>\n",
       "    </tr>\n",
       "    <tr>\n",
       "      <th>3</th>\n",
       "      <td>3</td>\n",
       "      <td>51</td>\n",
       "    </tr>\n",
       "    <tr>\n",
       "      <th>4</th>\n",
       "      <td>4</td>\n",
       "      <td>52</td>\n",
       "    </tr>\n",
       "    <tr>\n",
       "      <th>5</th>\n",
       "      <td>5</td>\n",
       "      <td>53</td>\n",
       "    </tr>\n",
       "    <tr>\n",
       "      <th>6</th>\n",
       "      <td>6</td>\n",
       "      <td>54</td>\n",
       "    </tr>\n",
       "    <tr>\n",
       "      <th>7</th>\n",
       "      <td>7</td>\n",
       "      <td>55</td>\n",
       "    </tr>\n",
       "    <tr>\n",
       "      <th>8</th>\n",
       "      <td>8</td>\n",
       "      <td>56</td>\n",
       "    </tr>\n",
       "    <tr>\n",
       "      <th>9</th>\n",
       "      <td>9</td>\n",
       "      <td>57</td>\n",
       "    </tr>\n",
       "    <tr>\n",
       "      <th>10</th>\n",
       "      <td>:</td>\n",
       "      <td>58</td>\n",
       "    </tr>\n",
       "    <tr>\n",
       "      <th>11</th>\n",
       "      <td>;</td>\n",
       "      <td>59</td>\n",
       "    </tr>\n",
       "    <tr>\n",
       "      <th>12</th>\n",
       "      <td>&lt;</td>\n",
       "      <td>60</td>\n",
       "    </tr>\n",
       "    <tr>\n",
       "      <th>13</th>\n",
       "      <td>=</td>\n",
       "      <td>61</td>\n",
       "    </tr>\n",
       "    <tr>\n",
       "      <th>14</th>\n",
       "      <td>&gt;</td>\n",
       "      <td>62</td>\n",
       "    </tr>\n",
       "    <tr>\n",
       "      <th>15</th>\n",
       "      <td>?</td>\n",
       "      <td>63</td>\n",
       "    </tr>\n",
       "    <tr>\n",
       "      <th>16</th>\n",
       "      <td>@</td>\n",
       "      <td>64</td>\n",
       "    </tr>\n",
       "    <tr>\n",
       "      <th>17</th>\n",
       "      <td>A</td>\n",
       "      <td>65</td>\n",
       "    </tr>\n",
       "    <tr>\n",
       "      <th>18</th>\n",
       "      <td>B</td>\n",
       "      <td>66</td>\n",
       "    </tr>\n",
       "    <tr>\n",
       "      <th>19</th>\n",
       "      <td>C</td>\n",
       "      <td>67</td>\n",
       "    </tr>\n",
       "    <tr>\n",
       "      <th>20</th>\n",
       "      <td>D</td>\n",
       "      <td>68</td>\n",
       "    </tr>\n",
       "    <tr>\n",
       "      <th>21</th>\n",
       "      <td>E</td>\n",
       "      <td>69</td>\n",
       "    </tr>\n",
       "    <tr>\n",
       "      <th>22</th>\n",
       "      <td>F</td>\n",
       "      <td>70</td>\n",
       "    </tr>\n",
       "    <tr>\n",
       "      <th>23</th>\n",
       "      <td>G</td>\n",
       "      <td>71</td>\n",
       "    </tr>\n",
       "    <tr>\n",
       "      <th>24</th>\n",
       "      <td>H</td>\n",
       "      <td>72</td>\n",
       "    </tr>\n",
       "    <tr>\n",
       "      <th>25</th>\n",
       "      <td>I</td>\n",
       "      <td>73</td>\n",
       "    </tr>\n",
       "    <tr>\n",
       "      <th>26</th>\n",
       "      <td>J</td>\n",
       "      <td>74</td>\n",
       "    </tr>\n",
       "    <tr>\n",
       "      <th>27</th>\n",
       "      <td>K</td>\n",
       "      <td>75</td>\n",
       "    </tr>\n",
       "    <tr>\n",
       "      <th>28</th>\n",
       "      <td>L</td>\n",
       "      <td>76</td>\n",
       "    </tr>\n",
       "    <tr>\n",
       "      <th>29</th>\n",
       "      <td>M</td>\n",
       "      <td>77</td>\n",
       "    </tr>\n",
       "    <tr>\n",
       "      <th>...</th>\n",
       "      <td>...</td>\n",
       "      <td>...</td>\n",
       "    </tr>\n",
       "    <tr>\n",
       "      <th>44</th>\n",
       "      <td>\\</td>\n",
       "      <td>92</td>\n",
       "    </tr>\n",
       "    <tr>\n",
       "      <th>45</th>\n",
       "      <td>]</td>\n",
       "      <td>93</td>\n",
       "    </tr>\n",
       "    <tr>\n",
       "      <th>46</th>\n",
       "      <td>^</td>\n",
       "      <td>94</td>\n",
       "    </tr>\n",
       "    <tr>\n",
       "      <th>47</th>\n",
       "      <td>_</td>\n",
       "      <td>95</td>\n",
       "    </tr>\n",
       "    <tr>\n",
       "      <th>48</th>\n",
       "      <td>`</td>\n",
       "      <td>96</td>\n",
       "    </tr>\n",
       "    <tr>\n",
       "      <th>49</th>\n",
       "      <td>a</td>\n",
       "      <td>97</td>\n",
       "    </tr>\n",
       "    <tr>\n",
       "      <th>50</th>\n",
       "      <td>b</td>\n",
       "      <td>98</td>\n",
       "    </tr>\n",
       "    <tr>\n",
       "      <th>51</th>\n",
       "      <td>c</td>\n",
       "      <td>99</td>\n",
       "    </tr>\n",
       "    <tr>\n",
       "      <th>52</th>\n",
       "      <td>d</td>\n",
       "      <td>100</td>\n",
       "    </tr>\n",
       "    <tr>\n",
       "      <th>53</th>\n",
       "      <td>e</td>\n",
       "      <td>101</td>\n",
       "    </tr>\n",
       "    <tr>\n",
       "      <th>54</th>\n",
       "      <td>f</td>\n",
       "      <td>102</td>\n",
       "    </tr>\n",
       "    <tr>\n",
       "      <th>55</th>\n",
       "      <td>g</td>\n",
       "      <td>103</td>\n",
       "    </tr>\n",
       "    <tr>\n",
       "      <th>56</th>\n",
       "      <td>h</td>\n",
       "      <td>104</td>\n",
       "    </tr>\n",
       "    <tr>\n",
       "      <th>57</th>\n",
       "      <td>i</td>\n",
       "      <td>105</td>\n",
       "    </tr>\n",
       "    <tr>\n",
       "      <th>58</th>\n",
       "      <td>j</td>\n",
       "      <td>106</td>\n",
       "    </tr>\n",
       "    <tr>\n",
       "      <th>59</th>\n",
       "      <td>k</td>\n",
       "      <td>107</td>\n",
       "    </tr>\n",
       "    <tr>\n",
       "      <th>60</th>\n",
       "      <td>l</td>\n",
       "      <td>108</td>\n",
       "    </tr>\n",
       "    <tr>\n",
       "      <th>61</th>\n",
       "      <td>m</td>\n",
       "      <td>109</td>\n",
       "    </tr>\n",
       "    <tr>\n",
       "      <th>62</th>\n",
       "      <td>n</td>\n",
       "      <td>110</td>\n",
       "    </tr>\n",
       "    <tr>\n",
       "      <th>63</th>\n",
       "      <td>o</td>\n",
       "      <td>111</td>\n",
       "    </tr>\n",
       "    <tr>\n",
       "      <th>64</th>\n",
       "      <td>p</td>\n",
       "      <td>112</td>\n",
       "    </tr>\n",
       "    <tr>\n",
       "      <th>65</th>\n",
       "      <td>q</td>\n",
       "      <td>113</td>\n",
       "    </tr>\n",
       "    <tr>\n",
       "      <th>66</th>\n",
       "      <td>r</td>\n",
       "      <td>114</td>\n",
       "    </tr>\n",
       "    <tr>\n",
       "      <th>67</th>\n",
       "      <td>s</td>\n",
       "      <td>115</td>\n",
       "    </tr>\n",
       "    <tr>\n",
       "      <th>68</th>\n",
       "      <td>t</td>\n",
       "      <td>116</td>\n",
       "    </tr>\n",
       "    <tr>\n",
       "      <th>69</th>\n",
       "      <td>u</td>\n",
       "      <td>117</td>\n",
       "    </tr>\n",
       "    <tr>\n",
       "      <th>70</th>\n",
       "      <td>v</td>\n",
       "      <td>118</td>\n",
       "    </tr>\n",
       "    <tr>\n",
       "      <th>71</th>\n",
       "      <td>w</td>\n",
       "      <td>119</td>\n",
       "    </tr>\n",
       "    <tr>\n",
       "      <th>72</th>\n",
       "      <td>x</td>\n",
       "      <td>120</td>\n",
       "    </tr>\n",
       "    <tr>\n",
       "      <th>73</th>\n",
       "      <td>y</td>\n",
       "      <td>121</td>\n",
       "    </tr>\n",
       "  </tbody>\n",
       "</table>\n",
       "<p>74 rows × 2 columns</p>\n",
       "</div>"
      ]
     },
     "execution_count": 72,
     "metadata": {
     },
     "output_type": "execute_result"
    }
   ],
   "source": [
    "df[['char','num']]"
   ]
  },
  {
   "cell_type": "markdown",
   "metadata": {
    "collapsed": false
   },
   "source": [
    "Para criar uma nova coluna de dados é fácil."
   ]
  },
  {
   "cell_type": "code",
   "execution_count": 74,
   "metadata": {
    "collapsed": false
   },
   "outputs": [
   ],
   "source": [
    "df['binario']=df['num'].apply(bin)"
   ]
  },
  {
   "cell_type": "markdown",
   "metadata": {
    "collapsed": false
   },
   "source": [
    "`apply` nesse caso aplica uma função em cada elemento da série. "
   ]
  },
  {
   "cell_type": "code",
   "execution_count": 78,
   "metadata": {
    "collapsed": false
   },
   "outputs": [
    {
     "output_type": "execute_result"
    }
   ],
   "source": [
    "df[['num','binario']]"
   ]
  },
  {
   "cell_type": "markdown",
   "metadata": {
    "collapsed": false
   },
   "source": [
    "Para acessar os dados pelo índice."
   ]
  },
  {
   "cell_type": "code",
   "execution_count": 79,
   "metadata": {
    "collapsed": false
   },
   "outputs": [
    {
     "data": {
      "text/plain": [
       "char              2\n",
       "num              50\n",
       "binario    0b110010\n",
       "Name: 2, dtype: object"
      ]
     },
     "execution_count": 79,
     "metadata": {
     },
     "output_type": "execute_result"
    }
   ],
   "source": [
    "df.ix[2]"
   ]
  },
  {
   "cell_type": "markdown",
   "metadata": {
    "collapsed": false
   },
   "source": [
    "**3. Exportar arquivos em csv com pandas**\n",
    "- Exporte o dataframe para um arquivo csv . Podemos nomear o arquivo dicchar.csv . A função to_csv será usada para exportar o arquivo. O arquivo será salvo no mesmo local do notebook, a menos que especificado de outra forma."
   ]
  },
  {
   "cell_type": "code",
   "execution_count": 84,
   "metadata": {
    "collapsed": true
   },
   "outputs": [
   ],
   "source": [
    "df.to_csv ( 'dicchar.csv' , index = False , header = True)"
   ]
  },
  {
   "cell_type": "code",
   "execution_count": 85,
   "metadata": {
    "collapsed": false
   },
   "outputs": [
    {
     "name": "stdout",
     "output_type": "stream",
     "text": [
      "char,num,binario\n",
      "0,48,0b110000\n",
      "1,49,0b110001\n",
      "2,50,0b110010\n",
      "3,51,0b110011\n",
      "4,52,0b110100\n",
      "5,53,0b110101\n",
      "6,54,0b110110\n",
      "7,55,0b110111\n",
      "8,56,0b111000\n",
      "9,57,0b111001\n",
      ":,58,0b111010\n",
      ";,59,0b111011\n",
      "<,60,0b111100\n",
      "=,61,0b111101\n",
      ">,62,0b111110\n",
      "?,63,0b111111\n",
      "@,64,0b1000000\n",
      "A,65,0b1000001\n",
      "B,66,0b1000010\n",
      "C,67,0b1000011\n",
      "D,68,0b1000100\n",
      "E,69,0b1000101\n",
      "\u001b[K"
     ]
    }
   ],
   "source": [
    "!more dicchar.csv\n"
   ]
  },
  {
   "cell_type": "markdown",
   "metadata": {
    "collapsed": false
   },
   "source": [
    "- Podemos exportar arquivos em em excel ou leitura colocando no **.xls** ou **.txt** no lugar do csv no exemplo a cima."
   ]
  },
  {
   "cell_type": "markdown",
   "metadata": {
    "collapsed": false
   },
   "source": [
    "**4. Obter dados**"
   ]
  },
  {
   "cell_type": "code",
   "execution_count": 1,
   "metadata": {
    "collapsed": false
   },
   "outputs": [
   ],
   "source": [
    "!ls -la > teste.txt"
   ]
  },
  {
   "cell_type": "code",
   "execution_count": 6,
   "metadata": {
    "collapsed": false
   },
   "outputs": [
   ],
   "source": [
    "file=open('teste.txt','r')\n",
    "data=[]\n",
    "for line in file:\n",
    "    data=data+[line.split()]\n",
    "data=data[1:]"
   ]
  },
  {
   "cell_type": "code",
   "execution_count": 7,
   "metadata": {
    "collapsed": false
   },
   "outputs": [
    {
     "data": {
      "text/plain": [
       "['drwxr-x---',\n",
       " '4',\n",
       " 'da4b09c773a74027ac2d5fed6d409acf',\n",
       " 'da4b09c773a74027ac2d5fed6d409acf',\n",
       " '4096',\n",
       " 'May',\n",
       " '7',\n",
       " '12:21',\n",
       " '.']"
      ]
     },
     "execution_count": 7,
     "metadata": {
     },
     "output_type": "execute_result"
    }
   ],
   "source": [
    "data[0]"
   ]
  },
  {
   "cell_type": "code",
   "execution_count": 8,
   "metadata": {
    "collapsed": false
   },
   "outputs": [
    {
     "data": {
      "text/html": [
       "<div>\n",
       "<table border=\"1\" class=\"dataframe\">\n",
       "  <thead>\n",
       "    <tr style=\"text-align: right;\">\n",
       "      <th></th>\n",
       "      <th>day</th>\n",
       "      <th>filename</th>\n",
       "      <th>filesize</th>\n",
       "      <th>group</th>\n",
       "      <th>hour</th>\n",
       "      <th>month</th>\n",
       "      <th>perm</th>\n",
       "      <th>user</th>\n",
       "      <th>usercode</th>\n",
       "    </tr>\n",
       "  </thead>\n",
       "  <tbody>\n",
       "    <tr>\n",
       "      <th>0</th>\n",
       "      <td>7</td>\n",
       "      <td>.</td>\n",
       "      <td>4096</td>\n",
       "      <td>4</td>\n",
       "      <td>12:21</td>\n",
       "      <td>May</td>\n",
       "      <td>drwxr-x---</td>\n",
       "      <td>da4b09c773a74027ac2d5fed6d409acf</td>\n",
       "      <td>da4b09c773a74027ac2d5fed6d409acf</td>\n",
       "    </tr>\n",
       "    <tr>\n",
       "      <th>1</th>\n",
       "      <td>7</td>\n",
       "      <td>..</td>\n",
       "      <td>4096</td>\n",
       "      <td>24</td>\n",
       "      <td>10:16</td>\n",
       "      <td>May</td>\n",
       "      <td>drwx------</td>\n",
       "      <td>da4b09c773a74027ac2d5fed6d409acf</td>\n",
       "      <td>da4b09c773a74027ac2d5fed6d409acf</td>\n",
       "    </tr>\n",
       "    <tr>\n",
       "      <th>2</th>\n",
       "      <td>24</td>\n",
       "      <td>2017-04-24-140938.ipynb</td>\n",
       "      <td>10949</td>\n",
       "      <td>1</td>\n",
       "      <td>19:04</td>\n",
       "      <td>Apr</td>\n",
       "      <td>-rw-r-----</td>\n",
       "      <td>da4b09c773a74027ac2d5fed6d409acf</td>\n",
       "      <td>da4b09c773a74027ac2d5fed6d409acf</td>\n",
       "    </tr>\n",
       "    <tr>\n",
       "      <th>3</th>\n",
       "      <td>24</td>\n",
       "      <td>.2017-04-24-140938.ipynb.sage-jupyter</td>\n",
       "      <td>8972</td>\n",
       "      <td>1</td>\n",
       "      <td>18:58</td>\n",
       "      <td>Apr</td>\n",
       "      <td>-rw-r-----</td>\n",
       "      <td>da4b09c773a74027ac2d5fed6d409acf</td>\n",
       "      <td>da4b09c773a74027ac2d5fed6d409acf</td>\n",
       "    </tr>\n",
       "    <tr>\n",
       "      <th>4</th>\n",
       "      <td>23</td>\n",
       "      <td>.Analisedados.ipynb.sage-jupyter</td>\n",
       "      <td>7131</td>\n",
       "      <td>1</td>\n",
       "      <td>16:59</td>\n",
       "      <td>Apr</td>\n",
       "      <td>-rw-r-----</td>\n",
       "      <td>da4b09c773a74027ac2d5fed6d409acf</td>\n",
       "      <td>da4b09c773a74027ac2d5fed6d409acf</td>\n",
       "    </tr>\n",
       "    <tr>\n",
       "      <th>5</th>\n",
       "      <td>24</td>\n",
       "      <td>arq_abr_outuno.txt</td>\n",
       "      <td>406</td>\n",
       "      <td>1</td>\n",
       "      <td>18:53</td>\n",
       "      <td>Apr</td>\n",
       "      <td>-rw-r-----</td>\n",
       "      <td>da4b09c773a74027ac2d5fed6d409acf</td>\n",
       "      <td>da4b09c773a74027ac2d5fed6d409acf</td>\n",
       "    </tr>\n",
       "    <tr>\n",
       "      <th>6</th>\n",
       "      <td>24</td>\n",
       "      <td>arq_ago_inverno.txt</td>\n",
       "      <td>1121</td>\n",
       "      <td>1</td>\n",
       "      <td>18:53</td>\n",
       "      <td>Apr</td>\n",
       "      <td>-rw-r-----</td>\n",
       "      <td>da4b09c773a74027ac2d5fed6d409acf</td>\n",
       "      <td>da4b09c773a74027ac2d5fed6d409acf</td>\n",
       "    </tr>\n",
       "    <tr>\n",
       "      <th>7</th>\n",
       "      <td>24</td>\n",
       "      <td>arq_dez_primavera.txt</td>\n",
       "      <td>1220</td>\n",
       "      <td>1</td>\n",
       "      <td>18:53</td>\n",
       "      <td>Apr</td>\n",
       "      <td>-rw-r-----</td>\n",
       "      <td>da4b09c773a74027ac2d5fed6d409acf</td>\n",
       "      <td>da4b09c773a74027ac2d5fed6d409acf</td>\n",
       "    </tr>\n",
       "    <tr>\n",
       "      <th>8</th>\n",
       "      <td>24</td>\n",
       "      <td>arq_fev_verao.txt</td>\n",
       "      <td>684</td>\n",
       "      <td>1</td>\n",
       "      <td>18:53</td>\n",
       "      <td>Apr</td>\n",
       "      <td>-rw-r-----</td>\n",
       "      <td>da4b09c773a74027ac2d5fed6d409acf</td>\n",
       "      <td>da4b09c773a74027ac2d5fed6d409acf</td>\n",
       "    </tr>\n",
       "    <tr>\n",
       "      <th>9</th>\n",
       "      <td>24</td>\n",
       "      <td>arq_jan_verao.txt</td>\n",
       "      <td>1368</td>\n",
       "      <td>1</td>\n",
       "      <td>18:53</td>\n",
       "      <td>Apr</td>\n",
       "      <td>-rw-r-----</td>\n",
       "      <td>da4b09c773a74027ac2d5fed6d409acf</td>\n",
       "      <td>da4b09c773a74027ac2d5fed6d409acf</td>\n",
       "    </tr>\n",
       "    <tr>\n",
       "      <th>10</th>\n",
       "      <td>24</td>\n",
       "      <td>arq_jul_inverno.txt</td>\n",
       "      <td>885</td>\n",
       "      <td>1</td>\n",
       "      <td>18:53</td>\n",
       "      <td>Apr</td>\n",
       "      <td>-rw-r-----</td>\n",
       "      <td>da4b09c773a74027ac2d5fed6d409acf</td>\n",
       "      <td>da4b09c773a74027ac2d5fed6d409acf</td>\n",
       "    </tr>\n",
       "    <tr>\n",
       "      <th>11</th>\n",
       "      <td>24</td>\n",
       "      <td>arq_jun_outuno.txt</td>\n",
       "      <td>1276</td>\n",
       "      <td>1</td>\n",
       "      <td>18:53</td>\n",
       "      <td>Apr</td>\n",
       "      <td>-rw-r-----</td>\n",
       "      <td>da4b09c773a74027ac2d5fed6d409acf</td>\n",
       "      <td>da4b09c773a74027ac2d5fed6d409acf</td>\n",
       "    </tr>\n",
       "    <tr>\n",
       "      <th>12</th>\n",
       "      <td>24</td>\n",
       "      <td>arq_mai_outuno.txt</td>\n",
       "      <td>1102</td>\n",
       "      <td>1</td>\n",
       "      <td>18:53</td>\n",
       "      <td>Apr</td>\n",
       "      <td>-rw-r-----</td>\n",
       "      <td>da4b09c773a74027ac2d5fed6d409acf</td>\n",
       "      <td>da4b09c773a74027ac2d5fed6d409acf</td>\n",
       "    </tr>\n",
       "    <tr>\n",
       "      <th>13</th>\n",
       "      <td>24</td>\n",
       "      <td>arq_mar_verao.txt</td>\n",
       "      <td>342</td>\n",
       "      <td>1</td>\n",
       "      <td>18:53</td>\n",
       "      <td>Apr</td>\n",
       "      <td>-rw-r-----</td>\n",
       "      <td>da4b09c773a74027ac2d5fed6d409acf</td>\n",
       "      <td>da4b09c773a74027ac2d5fed6d409acf</td>\n",
       "    </tr>\n",
       "    <tr>\n",
       "      <th>14</th>\n",
       "      <td>24</td>\n",
       "      <td>arq_nov_primavera.txt</td>\n",
       "      <td>1586</td>\n",
       "      <td>1</td>\n",
       "      <td>18:53</td>\n",
       "      <td>Apr</td>\n",
       "      <td>-rw-r-----</td>\n",
       "      <td>da4b09c773a74027ac2d5fed6d409acf</td>\n",
       "      <td>da4b09c773a74027ac2d5fed6d409acf</td>\n",
       "    </tr>\n",
       "    <tr>\n",
       "      <th>15</th>\n",
       "      <td>24</td>\n",
       "      <td>arq_out_primavera.txt</td>\n",
       "      <td>610</td>\n",
       "      <td>1</td>\n",
       "      <td>18:53</td>\n",
       "      <td>Apr</td>\n",
       "      <td>-rw-r-----</td>\n",
       "      <td>da4b09c773a74027ac2d5fed6d409acf</td>\n",
       "      <td>da4b09c773a74027ac2d5fed6d409acf</td>\n",
       "    </tr>\n",
       "    <tr>\n",
       "      <th>16</th>\n",
       "      <td>24</td>\n",
       "      <td>arq_set_primavera.txt</td>\n",
       "      <td>610</td>\n",
       "      <td>1</td>\n",
       "      <td>18:53</td>\n",
       "      <td>Apr</td>\n",
       "      <td>-rw-r-----</td>\n",
       "      <td>da4b09c773a74027ac2d5fed6d409acf</td>\n",
       "      <td>da4b09c773a74027ac2d5fed6d409acf</td>\n",
       "    </tr>\n",
       "    <tr>\n",
       "      <th>17</th>\n",
       "      <td>24</td>\n",
       "      <td>.Aula21.04.2017.ipynb.sage-jupyter</td>\n",
       "      <td>19129</td>\n",
       "      <td>1</td>\n",
       "      <td>00:13</td>\n",
       "      <td>Apr</td>\n",
       "      <td>-rw-r-----</td>\n",
       "      <td>da4b09c773a74027ac2d5fed6d409acf</td>\n",
       "      <td>da4b09c773a74027ac2d5fed6d409acf</td>\n",
       "    </tr>\n",
       "    <tr>\n",
       "      <th>18</th>\n",
       "      <td>23</td>\n",
       "      <td>.Aula24.03.2017.ipynb.sage-jupyter</td>\n",
       "      <td>17908</td>\n",
       "      <td>1</td>\n",
       "      <td>17:38</td>\n",
       "      <td>Apr</td>\n",
       "      <td>-rw-r-----</td>\n",
       "      <td>da4b09c773a74027ac2d5fed6d409acf</td>\n",
       "      <td>da4b09c773a74027ac2d5fed6d409acf</td>\n",
       "    </tr>\n",
       "    <tr>\n",
       "      <th>19</th>\n",
       "      <td>5</td>\n",
       "      <td>Aula24.04.2017.ipynb</td>\n",
       "      <td>234990</td>\n",
       "      <td>1</td>\n",
       "      <td>16:34</td>\n",
       "      <td>May</td>\n",
       "      <td>-rw-r-----</td>\n",
       "      <td>da4b09c773a74027ac2d5fed6d409acf</td>\n",
       "      <td>da4b09c773a74027ac2d5fed6d409acf</td>\n",
       "    </tr>\n",
       "    <tr>\n",
       "      <th>20</th>\n",
       "      <td>28</td>\n",
       "      <td>.Aula24.04.2017.ipynb.sage-jupyter</td>\n",
       "      <td>33113</td>\n",
       "      <td>1</td>\n",
       "      <td>16:24</td>\n",
       "      <td>Apr</td>\n",
       "      <td>-rw-r-----</td>\n",
       "      <td>da4b09c773a74027ac2d5fed6d409acf</td>\n",
       "      <td>da4b09c773a74027ac2d5fed6d409acf</td>\n",
       "    </tr>\n",
       "    <tr>\n",
       "      <th>21</th>\n",
       "      <td>7</td>\n",
       "      <td>.Aula24.04.2017.ipynb.sage-jupyter2</td>\n",
       "      <td>0</td>\n",
       "      <td>1</td>\n",
       "      <td>12:21</td>\n",
       "      <td>May</td>\n",
       "      <td>-rw-r-----</td>\n",
       "      <td>da4b09c773a74027ac2d5fed6d409acf</td>\n",
       "      <td>da4b09c773a74027ac2d5fed6d409acf</td>\n",
       "    </tr>\n",
       "    <tr>\n",
       "      <th>22</th>\n",
       "      <td>22</td>\n",
       "      <td>cookbook-data</td>\n",
       "      <td>4096</td>\n",
       "      <td>4</td>\n",
       "      <td>01:09</td>\n",
       "      <td>Apr</td>\n",
       "      <td>drwxr-x---</td>\n",
       "      <td>da4b09c773a74027ac2d5fed6d409acf</td>\n",
       "      <td>da4b09c773a74027ac2d5fed6d409acf</td>\n",
       "    </tr>\n",
       "    <tr>\n",
       "      <th>23</th>\n",
       "      <td>24</td>\n",
       "      <td>dicchar.csv</td>\n",
       "      <td>1133</td>\n",
       "      <td>1</td>\n",
       "      <td>18:14</td>\n",
       "      <td>Apr</td>\n",
       "      <td>-rw-r-----</td>\n",
       "      <td>da4b09c773a74027ac2d5fed6d409acf</td>\n",
       "      <td>da4b09c773a74027ac2d5fed6d409acf</td>\n",
       "    </tr>\n",
       "    <tr>\n",
       "      <th>24</th>\n",
       "      <td>24</td>\n",
       "      <td>file.zip</td>\n",
       "      <td>571</td>\n",
       "      <td>1</td>\n",
       "      <td>17:55</td>\n",
       "      <td>Apr</td>\n",
       "      <td>-rw-r-----</td>\n",
       "      <td>da4b09c773a74027ac2d5fed6d409acf</td>\n",
       "      <td>da4b09c773a74027ac2d5fed6d409acf</td>\n",
       "    </tr>\n",
       "    <tr>\n",
       "      <th>25</th>\n",
       "      <td>3</td>\n",
       "      <td>.ipynb_checkpoints</td>\n",
       "      <td>4096</td>\n",
       "      <td>2</td>\n",
       "      <td>01:08</td>\n",
       "      <td>May</td>\n",
       "      <td>drwxr-x---</td>\n",
       "      <td>da4b09c773a74027ac2d5fed6d409acf</td>\n",
       "      <td>da4b09c773a74027ac2d5fed6d409acf</td>\n",
       "    </tr>\n",
       "    <tr>\n",
       "      <th>26</th>\n",
       "      <td>24</td>\n",
       "      <td>matriznum2.csv</td>\n",
       "      <td>74</td>\n",
       "      <td>1</td>\n",
       "      <td>17:22</td>\n",
       "      <td>Apr</td>\n",
       "      <td>-rw-r-----</td>\n",
       "      <td>da4b09c773a74027ac2d5fed6d409acf</td>\n",
       "      <td>da4b09c773a74027ac2d5fed6d409acf</td>\n",
       "    </tr>\n",
       "    <tr>\n",
       "      <th>27</th>\n",
       "      <td>24</td>\n",
       "      <td>matriznum.csv</td>\n",
       "      <td>74</td>\n",
       "      <td>1</td>\n",
       "      <td>17:21</td>\n",
       "      <td>Apr</td>\n",
       "      <td>-rw-r-----</td>\n",
       "      <td>da4b09c773a74027ac2d5fed6d409acf</td>\n",
       "      <td>da4b09c773a74027ac2d5fed6d409acf</td>\n",
       "    </tr>\n",
       "    <tr>\n",
       "      <th>28</th>\n",
       "      <td>3</td>\n",
       "      <td>.Notas.ipynb.sage-jupyter</td>\n",
       "      <td>13914</td>\n",
       "      <td>1</td>\n",
       "      <td>01:08</td>\n",
       "      <td>May</td>\n",
       "      <td>-rw-r-----</td>\n",
       "      <td>da4b09c773a74027ac2d5fed6d409acf</td>\n",
       "      <td>da4b09c773a74027ac2d5fed6d409acf</td>\n",
       "    </tr>\n",
       "    <tr>\n",
       "      <th>29</th>\n",
       "      <td>6</td>\n",
       "      <td>.Notas.ipynb.sage-jupyter2</td>\n",
       "      <td>38</td>\n",
       "      <td>1</td>\n",
       "      <td>13:37</td>\n",
       "      <td>May</td>\n",
       "      <td>-rw-r-----</td>\n",
       "      <td>da4b09c773a74027ac2d5fed6d409acf</td>\n",
       "      <td>da4b09c773a74027ac2d5fed6d409acf</td>\n",
       "    </tr>\n",
       "    <tr>\n",
       "      <th>30</th>\n",
       "      <td>27</td>\n",
       "      <td>python.dados.pandas.ipynb</td>\n",
       "      <td>181342</td>\n",
       "      <td>1</td>\n",
       "      <td>12:51</td>\n",
       "      <td>Apr</td>\n",
       "      <td>-rw-r-----</td>\n",
       "      <td>da4b09c773a74027ac2d5fed6d409acf</td>\n",
       "      <td>da4b09c773a74027ac2d5fed6d409acf</td>\n",
       "    </tr>\n",
       "    <tr>\n",
       "      <th>31</th>\n",
       "      <td>23</td>\n",
       "      <td>.python.dados.pandas.ipynb.sage-jupyter</td>\n",
       "      <td>19127</td>\n",
       "      <td>1</td>\n",
       "      <td>19:48</td>\n",
       "      <td>Apr</td>\n",
       "      <td>-rw-r-----</td>\n",
       "      <td>da4b09c773a74027ac2d5fed6d409acf</td>\n",
       "      <td>da4b09c773a74027ac2d5fed6d409acf</td>\n",
       "    </tr>\n",
       "    <tr>\n",
       "      <th>32</th>\n",
       "      <td>3</td>\n",
       "      <td>.Tabelas.ipynb.sage-jupyter</td>\n",
       "      <td>26048</td>\n",
       "      <td>1</td>\n",
       "      <td>17:01</td>\n",
       "      <td>May</td>\n",
       "      <td>-rw-r-----</td>\n",
       "      <td>da4b09c773a74027ac2d5fed6d409acf</td>\n",
       "      <td>da4b09c773a74027ac2d5fed6d409acf</td>\n",
       "    </tr>\n",
       "    <tr>\n",
       "      <th>33</th>\n",
       "      <td>24</td>\n",
       "      <td>test.append.dat</td>\n",
       "      <td>24</td>\n",
       "      <td>1</td>\n",
       "      <td>16:57</td>\n",
       "      <td>Apr</td>\n",
       "      <td>-rw-r-----</td>\n",
       "      <td>da4b09c773a74027ac2d5fed6d409acf</td>\n",
       "      <td>da4b09c773a74027ac2d5fed6d409acf</td>\n",
       "    </tr>\n",
       "    <tr>\n",
       "      <th>34</th>\n",
       "      <td>24</td>\n",
       "      <td>test.dat</td>\n",
       "      <td>40</td>\n",
       "      <td>1</td>\n",
       "      <td>17:37</td>\n",
       "      <td>Apr</td>\n",
       "      <td>-rw-r-----</td>\n",
       "      <td>da4b09c773a74027ac2d5fed6d409acf</td>\n",
       "      <td>da4b09c773a74027ac2d5fed6d409acf</td>\n",
       "    </tr>\n",
       "    <tr>\n",
       "      <th>35</th>\n",
       "      <td>7</td>\n",
       "      <td>teste.txt</td>\n",
       "      <td>0</td>\n",
       "      <td>1</td>\n",
       "      <td>12:23</td>\n",
       "      <td>May</td>\n",
       "      <td>-rw-r-----</td>\n",
       "      <td>da4b09c773a74027ac2d5fed6d409acf</td>\n",
       "      <td>da4b09c773a74027ac2d5fed6d409acf</td>\n",
       "    </tr>\n",
       "    <tr>\n",
       "      <th>36</th>\n",
       "      <td>24</td>\n",
       "      <td>texto.txt</td>\n",
       "      <td>219</td>\n",
       "      <td>1</td>\n",
       "      <td>17:21</td>\n",
       "      <td>Apr</td>\n",
       "      <td>-rw-r-----</td>\n",
       "      <td>da4b09c773a74027ac2d5fed6d409acf</td>\n",
       "      <td>da4b09c773a74027ac2d5fed6d409acf</td>\n",
       "    </tr>\n",
       "  </tbody>\n",
       "</table>\n",
       "</div>"
      ]
     },
     "execution_count": 8,
     "metadata": {
     },
     "output_type": "execute_result"
    }
   ],
   "source": [
    "filedict=[{'perm': list[0],  'group': list[1], 'user': list[2], 'usercode': list[3],\n",
    "           'filesize': list[4],\n",
    "  'month': list[5], 'day': list[6], 'hour': list[7], 'filename':list[8]} for list in data]\n",
    "df=pd.DataFrame(filedict)\n",
    "df"
   ]
  },
  {
   "cell_type": "markdown",
   "metadata": {
    "collapsed": false
   },
   "source": [
    "**- Quantos arquivos são escondidos?**"
   ]
  },
  {
   "cell_type": "code",
   "execution_count": 9,
   "metadata": {
    "collapsed": false
   },
   "outputs": [
    {
     "name": "stdout",
     "output_type": "stream",
     "text": [
      "total 688\r\n",
      "drwxr-x---  4 da4b09c773a74027ac2d5fed6d409acf da4b09c773a74027ac2d5fed6d409acf   4096 May  7 12:21 .\r\n",
      "drwx------ 24 da4b09c773a74027ac2d5fed6d409acf da4b09c773a74027ac2d5fed6d409acf   4096 May  7 10:16 ..\r\n",
      "-rw-r-----  1 da4b09c773a74027ac2d5fed6d409acf da4b09c773a74027ac2d5fed6d409acf  10949 Apr 24 19:04 2017-04-24-140938.ipynb\r\n",
      "-rw-r-----  1 da4b09c773a74027ac2d5fed6d409acf da4b09c773a74027ac2d5fed6d409acf   8972 Apr 24 18:58 .2017-04-24-140938.ipynb.sage-jupyter\r\n",
      "-rw-r-----  1 da4b09c773a74027ac2d5fed6d409acf da4b09c773a74027ac2d5fed6d409acf   7131 Apr 23 16:59 .Analisedados.ipynb.sage-jupyter\r\n",
      "-rw-r-----  1 da4b09c773a74027ac2d5fed6d409acf da4b09c773a74027ac2d5fed6d409acf    406 Apr 24 18:53 arq_abr_outuno.txt\r\n",
      "-rw-r-----  1 da4b09c773a74027ac2d5fed6d409acf da4b09c773a74027ac2d5fed6d409acf   1121 Apr 24 18:53 arq_ago_inverno.txt\r\n",
      "-rw-r-----  1 da4b09c773a74027ac2d5fed6d409acf da4b09c773a74027ac2d5fed6d409acf   1220 Apr 24 18:53 arq_dez_primavera.txt\r\n",
      "-rw-r-----  1 da4b09c773a74027ac2d5fed6d409acf da4b09c773a74027ac2d5fed6d409acf    684 Apr 24 18:53 arq_fev_verao.txt\r\n",
      "-rw-r-----  1 da4b09c773a74027ac2d5fed6d409acf da4b09c773a74027ac2d5fed6d409acf   1368 Apr 24 18:53 arq_jan_verao.txt\r\n",
      "-rw-r-----  1 da4b09c773a74027ac2d5fed6d409acf da4b09c773a74027ac2d5fed6d409acf    885 Apr 24 18:53 arq_jul_inverno.txt\r\n",
      "-rw-r-----  1 da4b09c773a74027ac2d5fed6d409acf da4b09c773a74027ac2d5fed6d409acf   1276 Apr 24 18:53 arq_jun_outuno.txt\r\n",
      "-rw-r-----  1 da4b09c773a74027ac2d5fed6d409acf da4b09c773a74027ac2d5fed6d409acf   1102 Apr 24 18:53 arq_mai_outuno.txt\r\n",
      "-rw-r-----  1 da4b09c773a74027ac2d5fed6d409acf da4b09c773a74027ac2d5fed6d409acf    342 Apr 24 18:53 arq_mar_verao.txt\r\n",
      "-rw-r-----  1 da4b09c773a74027ac2d5fed6d409acf da4b09c773a74027ac2d5fed6d409acf   1586 Apr 24 18:53 arq_nov_primavera.txt\r\n",
      "-rw-r-----  1 da4b09c773a74027ac2d5fed6d409acf da4b09c773a74027ac2d5fed6d409acf    610 Apr 24 18:53 arq_out_primavera.txt\r\n",
      "-rw-r-----  1 da4b09c773a74027ac2d5fed6d409acf da4b09c773a74027ac2d5fed6d409acf    610 Apr 24 18:53 arq_set_primavera.txt\r\n",
      "-rw-r-----  1 da4b09c773a74027ac2d5fed6d409acf da4b09c773a74027ac2d5fed6d409acf  19129 Apr 24 00:13 .Aula21.04.2017.ipynb.sage-jupyter\r\n",
      "-rw-r-----  1 da4b09c773a74027ac2d5fed6d409acf da4b09c773a74027ac2d5fed6d409acf  17908 Apr 23 17:38 .Aula24.03.2017.ipynb.sage-jupyter\r\n",
      "-rw-r-----  1 da4b09c773a74027ac2d5fed6d409acf da4b09c773a74027ac2d5fed6d409acf 234990 May  5 16:34 Aula24.04.2017.ipynb\r\n",
      "-rw-r-----  1 da4b09c773a74027ac2d5fed6d409acf da4b09c773a74027ac2d5fed6d409acf  33113 Apr 28 16:24 .Aula24.04.2017.ipynb.sage-jupyter\r\n",
      "-rw-r-----  1 da4b09c773a74027ac2d5fed6d409acf da4b09c773a74027ac2d5fed6d409acf      0 May  7 12:21 .Aula24.04.2017.ipynb.sage-jupyter2\r\n",
      "drwxr-x---  4 da4b09c773a74027ac2d5fed6d409acf da4b09c773a74027ac2d5fed6d409acf   4096 Apr 22 01:09 cookbook-data\r\n",
      "-rw-r-----  1 da4b09c773a74027ac2d5fed6d409acf da4b09c773a74027ac2d5fed6d409acf   1133 Apr 24 18:14 dicchar.csv\r\n",
      "-rw-r-----  1 da4b09c773a74027ac2d5fed6d409acf da4b09c773a74027ac2d5fed6d409acf    571 Apr 24 17:55 file.zip\r\n",
      "drwxr-x---  2 da4b09c773a74027ac2d5fed6d409acf da4b09c773a74027ac2d5fed6d409acf   4096 May  3 01:08 .ipynb_checkpoints\r\n",
      "-rw-r-----  1 da4b09c773a74027ac2d5fed6d409acf da4b09c773a74027ac2d5fed6d409acf     74 Apr 24 17:22 matriznum2.csv\r\n",
      "-rw-r-----  1 da4b09c773a74027ac2d5fed6d409acf da4b09c773a74027ac2d5fed6d409acf     74 Apr 24 17:21 matriznum.csv\r\n",
      "-rw-r-----  1 da4b09c773a74027ac2d5fed6d409acf da4b09c773a74027ac2d5fed6d409acf  13914 May  3 01:08 .Notas.ipynb.sage-jupyter\r\n",
      "-rw-r-----  1 da4b09c773a74027ac2d5fed6d409acf da4b09c773a74027ac2d5fed6d409acf     38 May  6 13:37 .Notas.ipynb.sage-jupyter2\r\n",
      "-rw-r-----  1 da4b09c773a74027ac2d5fed6d409acf da4b09c773a74027ac2d5fed6d409acf 181342 Apr 27 12:51 python.dados.pandas.ipynb\r\n",
      "-rw-r-----  1 da4b09c773a74027ac2d5fed6d409acf da4b09c773a74027ac2d5fed6d409acf  19127 Apr 23 19:48 .python.dados.pandas.ipynb.sage-jupyter\r\n",
      "-rw-r-----  1 da4b09c773a74027ac2d5fed6d409acf da4b09c773a74027ac2d5fed6d409acf  26048 May  3 17:01 .Tabelas.ipynb.sage-jupyter\r\n",
      "-rw-r-----  1 da4b09c773a74027ac2d5fed6d409acf da4b09c773a74027ac2d5fed6d409acf     24 Apr 24 16:57 test.append.dat\r\n",
      "-rw-r-----  1 da4b09c773a74027ac2d5fed6d409acf da4b09c773a74027ac2d5fed6d409acf     40 Apr 24 17:37 test.dat\r\n",
      "-rw-r-----  1 da4b09c773a74027ac2d5fed6d409acf da4b09c773a74027ac2d5fed6d409acf   4486 May  7 12:23 teste.txt\r\n",
      "-rw-r-----  1 da4b09c773a74027ac2d5fed6d409acf da4b09c773a74027ac2d5fed6d409acf    219 Apr 24 17:21 texto.txt\r\n"
     ]
    }
   ],
   "source": [
    "!ls -la "
   ]
  },
  {
   "cell_type": "code",
   "execution_count": 10,
   "metadata": {
    "collapsed": false
   },
   "outputs": [
    {
     "data": {
      "text/plain": [
       "0                                           .\n",
       "1                                          ..\n",
       "2                     2017-04-24-140938.ipynb\n",
       "3       .2017-04-24-140938.ipynb.sage-jupyter\n",
       "4            .Analisedados.ipynb.sage-jupyter\n",
       "5                          arq_abr_outuno.txt\n",
       "6                         arq_ago_inverno.txt\n",
       "7                       arq_dez_primavera.txt\n",
       "8                           arq_fev_verao.txt\n",
       "9                           arq_jan_verao.txt\n",
       "10                        arq_jul_inverno.txt\n",
       "11                         arq_jun_outuno.txt\n",
       "12                         arq_mai_outuno.txt\n",
       "13                          arq_mar_verao.txt\n",
       "14                      arq_nov_primavera.txt\n",
       "15                      arq_out_primavera.txt\n",
       "16                      arq_set_primavera.txt\n",
       "17         .Aula21.04.2017.ipynb.sage-jupyter\n",
       "18         .Aula24.03.2017.ipynb.sage-jupyter\n",
       "19                       Aula24.04.2017.ipynb\n",
       "20         .Aula24.04.2017.ipynb.sage-jupyter\n",
       "21        .Aula24.04.2017.ipynb.sage-jupyter2\n",
       "22                              cookbook-data\n",
       "23                                dicchar.csv\n",
       "24                                   file.zip\n",
       "25                         .ipynb_checkpoints\n",
       "26                             matriznum2.csv\n",
       "27                              matriznum.csv\n",
       "28                  .Notas.ipynb.sage-jupyter\n",
       "29                 .Notas.ipynb.sage-jupyter2\n",
       "30                  python.dados.pandas.ipynb\n",
       "31    .python.dados.pandas.ipynb.sage-jupyter\n",
       "32                .Tabelas.ipynb.sage-jupyter\n",
       "33                            test.append.dat\n",
       "34                                   test.dat\n",
       "35                                  teste.txt\n",
       "36                                  texto.txt\n",
       "Name: filename, dtype: object"
      ]
     },
     "execution_count": 10,
     "metadata": {
     },
     "output_type": "execute_result"
    }
   ],
   "source": [
    "df['filename']"
   ]
  },
  {
   "cell_type": "code",
   "execution_count": 11,
   "metadata": {
    "collapsed": false
   },
   "outputs": [
    {
     "data": {
      "text/plain": [
       "13"
      ]
     },
     "execution_count": 11,
     "metadata": {
     },
     "output_type": "execute_result"
    }
   ],
   "source": [
    "len([filename for filename  in df['filename'] if filename[0]==\".\"])"
   ]
  },
  {
   "cell_type": "markdown",
   "metadata": {
    "collapsed": false
   },
   "source": [
    "** - Quantos não são diretórios?**"
   ]
  },
  {
   "cell_type": "code",
   "execution_count": 12,
   "metadata": {
    "collapsed": false
   },
   "outputs": [
    {
     "data": {
      "text/plain": [
       "0     drwxr-x---\n",
       "1     drwx------\n",
       "2     -rw-r-----\n",
       "3     -rw-r-----\n",
       "4     -rw-r-----\n",
       "5     -rw-r-----\n",
       "6     -rw-r-----\n",
       "7     -rw-r-----\n",
       "8     -rw-r-----\n",
       "9     -rw-r-----\n",
       "10    -rw-r-----\n",
       "11    -rw-r-----\n",
       "12    -rw-r-----\n",
       "13    -rw-r-----\n",
       "14    -rw-r-----\n",
       "15    -rw-r-----\n",
       "16    -rw-r-----\n",
       "17    -rw-r-----\n",
       "18    -rw-r-----\n",
       "19    -rw-r-----\n",
       "20    -rw-r-----\n",
       "21    -rw-r-----\n",
       "22    drwxr-x---\n",
       "23    -rw-r-----\n",
       "24    -rw-r-----\n",
       "25    drwxr-x---\n",
       "26    -rw-r-----\n",
       "27    -rw-r-----\n",
       "28    -rw-r-----\n",
       "29    -rw-r-----\n",
       "30    -rw-r-----\n",
       "31    -rw-r-----\n",
       "32    -rw-r-----\n",
       "33    -rw-r-----\n",
       "34    -rw-r-----\n",
       "35    -rw-r-----\n",
       "36    -rw-r-----\n",
       "Name: perm, dtype: object"
      ]
     },
     "execution_count": 12,
     "metadata": {
     },
     "output_type": "execute_result"
    }
   ],
   "source": [
    "df['perm'] "
   ]
  },
  {
   "cell_type": "code",
   "execution_count": 13,
   "metadata": {
    "collapsed": false
   },
   "outputs": [
    {
     "data": {
      "text/plain": [
       "33"
      ]
     },
     "execution_count": 13,
     "metadata": {
     },
     "output_type": "execute_result"
    }
   ],
   "source": [
    "len([perm for perm  in df['perm'] if perm[0]==\"-\"])"
   ]
  },
  {
   "cell_type": "markdown",
   "metadata": {
    "collapsed": false
   },
   "source": [
    "**- Qual é o maior arquivo? Qual é o menor?** "
   ]
  },
  {
   "cell_type": "code",
   "execution_count": 14,
   "metadata": {
    "collapsed": false
   },
   "outputs": [
    {
     "data": {
      "text/plain": [
       "0       4096\n",
       "1       4096\n",
       "2      10949\n",
       "3       8972\n",
       "4       7131\n",
       "5        406\n",
       "6       1121\n",
       "7       1220\n",
       "8        684\n",
       "9       1368\n",
       "10       885\n",
       "11      1276\n",
       "12      1102\n",
       "13       342\n",
       "14      1586\n",
       "15       610\n",
       "16       610\n",
       "17     19129\n",
       "18     17908\n",
       "19    234990\n",
       "20     33113\n",
       "21         0\n",
       "22      4096\n",
       "23      1133\n",
       "24       571\n",
       "25      4096\n",
       "26        74\n",
       "27        74\n",
       "28     13914\n",
       "29        38\n",
       "30    181342\n",
       "31     19127\n",
       "32     26048\n",
       "33        24\n",
       "34        40\n",
       "35         0\n",
       "36       219\n",
       "Name: filesize, dtype: object"
      ]
     },
     "execution_count": 14,
     "metadata": {
     },
     "output_type": "execute_result"
    }
   ],
   "source": [
    "df['filesize']"
   ]
  },
  {
   "cell_type": "code",
   "execution_count": 15,
   "metadata": {
    "collapsed": false
   },
   "outputs": [
    {
     "data": {
      "text/plain": [
       "('8972', '0')"
      ]
     },
     "execution_count": 15,
     "metadata": {
     },
     "output_type": "execute_result"
    }
   ],
   "source": [
    "(df['filesize'].max(),df['filesize'].min())"
   ]
  },
  {
   "cell_type": "markdown",
   "metadata": {
    "collapsed": false
   },
   "source": [
    "Ops ..."
   ]
  },
  {
   "cell_type": "code",
   "execution_count": 16,
   "metadata": {
    "collapsed": false
   },
   "outputs": [
   ],
   "source": [
    "filedict=[{'perm': list[0],  'group': list[1], 'user': list[2], 'usercode': list[3],\n",
    "           'filesize': int(list[4]),\n",
    "  'month': list[5], 'day': list[6], 'hour': list[7], 'filename':list[8]} for list in data]\n",
    "df=pd.DataFrame(filedict)\n",
    "\n",
    "maxi,mini=(df['filesize'].max(),df['filesize'].min())"
   ]
  },
  {
   "cell_type": "code",
   "execution_count": 17,
   "metadata": {
    "collapsed": false
   },
   "outputs": [
    {
     "data": {
      "text/plain": [
       "'O maior arquivo possui  234990 bytes, o menor 0 bytes'"
      ]
     },
     "execution_count": 17,
     "metadata": {
     },
     "output_type": "execute_result"
    }
   ],
   "source": [
    "\"O maior arquivo possui  {} bytes, o menor {} bytes\".format(maxi,mini)"
   ]
  },
  {
   "cell_type": "markdown",
   "metadata": {
    "collapsed": false
   },
   "source": [
    "** - Quantos arquivos  são notebooks? **"
   ]
  },
  {
   "cell_type": "code",
   "execution_count": 18,
   "metadata": {
    "collapsed": false
   },
   "outputs": [
    {
     "data": {
      "text/plain": [
       "3"
      ]
     },
     "execution_count": 18,
     "metadata": {
     },
     "output_type": "execute_result"
    }
   ],
   "source": [
    "len([filename for filename  in df['filename'] if filename[-6:]==\".ipynb\"])"
   ]
  },
  {
   "cell_type": "code",
   "execution_count": 19,
   "metadata": {
    "collapsed": false
   },
   "outputs": [
    {
     "data": {
      "text/html": [
       "<div>\n",
       "<table border=\"1\" class=\"dataframe\">\n",
       "  <thead>\n",
       "    <tr style=\"text-align: right;\">\n",
       "      <th></th>\n",
       "      <th>day</th>\n",
       "      <th>filename</th>\n",
       "      <th>filesize</th>\n",
       "      <th>group</th>\n",
       "      <th>hour</th>\n",
       "      <th>month</th>\n",
       "      <th>perm</th>\n",
       "      <th>user</th>\n",
       "      <th>usercode</th>\n",
       "    </tr>\n",
       "  </thead>\n",
       "  <tbody>\n",
       "    <tr>\n",
       "      <th>0</th>\n",
       "      <td>7</td>\n",
       "      <td>.</td>\n",
       "      <td>4096</td>\n",
       "      <td>4</td>\n",
       "      <td>12:21</td>\n",
       "      <td>May</td>\n",
       "      <td>drwxr-x---</td>\n",
       "      <td>da4b09c773a74027ac2d5fed6d409acf</td>\n",
       "      <td>da4b09c773a74027ac2d5fed6d409acf</td>\n",
       "    </tr>\n",
       "    <tr>\n",
       "      <th>1</th>\n",
       "      <td>7</td>\n",
       "      <td>..</td>\n",
       "      <td>4096</td>\n",
       "      <td>24</td>\n",
       "      <td>10:16</td>\n",
       "      <td>May</td>\n",
       "      <td>drwx------</td>\n",
       "      <td>da4b09c773a74027ac2d5fed6d409acf</td>\n",
       "      <td>da4b09c773a74027ac2d5fed6d409acf</td>\n",
       "    </tr>\n",
       "    <tr>\n",
       "      <th>2</th>\n",
       "      <td>24</td>\n",
       "      <td>2017-04-24-140938.ipynb</td>\n",
       "      <td>10949</td>\n",
       "      <td>1</td>\n",
       "      <td>19:04</td>\n",
       "      <td>Apr</td>\n",
       "      <td>-rw-r-----</td>\n",
       "      <td>da4b09c773a74027ac2d5fed6d409acf</td>\n",
       "      <td>da4b09c773a74027ac2d5fed6d409acf</td>\n",
       "    </tr>\n",
       "    <tr>\n",
       "      <th>3</th>\n",
       "      <td>24</td>\n",
       "      <td>.2017-04-24-140938.ipynb.sage-jupyter</td>\n",
       "      <td>8972</td>\n",
       "      <td>1</td>\n",
       "      <td>18:58</td>\n",
       "      <td>Apr</td>\n",
       "      <td>-rw-r-----</td>\n",
       "      <td>da4b09c773a74027ac2d5fed6d409acf</td>\n",
       "      <td>da4b09c773a74027ac2d5fed6d409acf</td>\n",
       "    </tr>\n",
       "    <tr>\n",
       "      <th>4</th>\n",
       "      <td>23</td>\n",
       "      <td>.Analisedados.ipynb.sage-jupyter</td>\n",
       "      <td>7131</td>\n",
       "      <td>1</td>\n",
       "      <td>16:59</td>\n",
       "      <td>Apr</td>\n",
       "      <td>-rw-r-----</td>\n",
       "      <td>da4b09c773a74027ac2d5fed6d409acf</td>\n",
       "      <td>da4b09c773a74027ac2d5fed6d409acf</td>\n",
       "    </tr>\n",
       "    <tr>\n",
       "      <th>5</th>\n",
       "      <td>24</td>\n",
       "      <td>arq_abr_outuno.txt</td>\n",
       "      <td>406</td>\n",
       "      <td>1</td>\n",
       "      <td>18:53</td>\n",
       "      <td>Apr</td>\n",
       "      <td>-rw-r-----</td>\n",
       "      <td>da4b09c773a74027ac2d5fed6d409acf</td>\n",
       "      <td>da4b09c773a74027ac2d5fed6d409acf</td>\n",
       "    </tr>\n",
       "    <tr>\n",
       "      <th>6</th>\n",
       "      <td>24</td>\n",
       "      <td>arq_ago_inverno.txt</td>\n",
       "      <td>1121</td>\n",
       "      <td>1</td>\n",
       "      <td>18:53</td>\n",
       "      <td>Apr</td>\n",
       "      <td>-rw-r-----</td>\n",
       "      <td>da4b09c773a74027ac2d5fed6d409acf</td>\n",
       "      <td>da4b09c773a74027ac2d5fed6d409acf</td>\n",
       "    </tr>\n",
       "    <tr>\n",
       "      <th>7</th>\n",
       "      <td>24</td>\n",
       "      <td>arq_dez_primavera.txt</td>\n",
       "      <td>1220</td>\n",
       "      <td>1</td>\n",
       "      <td>18:53</td>\n",
       "      <td>Apr</td>\n",
       "      <td>-rw-r-----</td>\n",
       "      <td>da4b09c773a74027ac2d5fed6d409acf</td>\n",
       "      <td>da4b09c773a74027ac2d5fed6d409acf</td>\n",
       "    </tr>\n",
       "    <tr>\n",
       "      <th>8</th>\n",
       "      <td>24</td>\n",
       "      <td>arq_fev_verao.txt</td>\n",
       "      <td>684</td>\n",
       "      <td>1</td>\n",
       "      <td>18:53</td>\n",
       "      <td>Apr</td>\n",
       "      <td>-rw-r-----</td>\n",
       "      <td>da4b09c773a74027ac2d5fed6d409acf</td>\n",
       "      <td>da4b09c773a74027ac2d5fed6d409acf</td>\n",
       "    </tr>\n",
       "    <tr>\n",
       "      <th>9</th>\n",
       "      <td>24</td>\n",
       "      <td>arq_jan_verao.txt</td>\n",
       "      <td>1368</td>\n",
       "      <td>1</td>\n",
       "      <td>18:53</td>\n",
       "      <td>Apr</td>\n",
       "      <td>-rw-r-----</td>\n",
       "      <td>da4b09c773a74027ac2d5fed6d409acf</td>\n",
       "      <td>da4b09c773a74027ac2d5fed6d409acf</td>\n",
       "    </tr>\n",
       "    <tr>\n",
       "      <th>10</th>\n",
       "      <td>24</td>\n",
       "      <td>arq_jul_inverno.txt</td>\n",
       "      <td>885</td>\n",
       "      <td>1</td>\n",
       "      <td>18:53</td>\n",
       "      <td>Apr</td>\n",
       "      <td>-rw-r-----</td>\n",
       "      <td>da4b09c773a74027ac2d5fed6d409acf</td>\n",
       "      <td>da4b09c773a74027ac2d5fed6d409acf</td>\n",
       "    </tr>\n",
       "    <tr>\n",
       "      <th>11</th>\n",
       "      <td>24</td>\n",
       "      <td>arq_jun_outuno.txt</td>\n",
       "      <td>1276</td>\n",
       "      <td>1</td>\n",
       "      <td>18:53</td>\n",
       "      <td>Apr</td>\n",
       "      <td>-rw-r-----</td>\n",
       "      <td>da4b09c773a74027ac2d5fed6d409acf</td>\n",
       "      <td>da4b09c773a74027ac2d5fed6d409acf</td>\n",
       "    </tr>\n",
       "    <tr>\n",
       "      <th>12</th>\n",
       "      <td>24</td>\n",
       "      <td>arq_mai_outuno.txt</td>\n",
       "      <td>1102</td>\n",
       "      <td>1</td>\n",
       "      <td>18:53</td>\n",
       "      <td>Apr</td>\n",
       "      <td>-rw-r-----</td>\n",
       "      <td>da4b09c773a74027ac2d5fed6d409acf</td>\n",
       "      <td>da4b09c773a74027ac2d5fed6d409acf</td>\n",
       "    </tr>\n",
       "    <tr>\n",
       "      <th>13</th>\n",
       "      <td>24</td>\n",
       "      <td>arq_mar_verao.txt</td>\n",
       "      <td>342</td>\n",
       "      <td>1</td>\n",
       "      <td>18:53</td>\n",
       "      <td>Apr</td>\n",
       "      <td>-rw-r-----</td>\n",
       "      <td>da4b09c773a74027ac2d5fed6d409acf</td>\n",
       "      <td>da4b09c773a74027ac2d5fed6d409acf</td>\n",
       "    </tr>\n",
       "    <tr>\n",
       "      <th>14</th>\n",
       "      <td>24</td>\n",
       "      <td>arq_nov_primavera.txt</td>\n",
       "      <td>1586</td>\n",
       "      <td>1</td>\n",
       "      <td>18:53</td>\n",
       "      <td>Apr</td>\n",
       "      <td>-rw-r-----</td>\n",
       "      <td>da4b09c773a74027ac2d5fed6d409acf</td>\n",
       "      <td>da4b09c773a74027ac2d5fed6d409acf</td>\n",
       "    </tr>\n",
       "    <tr>\n",
       "      <th>15</th>\n",
       "      <td>24</td>\n",
       "      <td>arq_out_primavera.txt</td>\n",
       "      <td>610</td>\n",
       "      <td>1</td>\n",
       "      <td>18:53</td>\n",
       "      <td>Apr</td>\n",
       "      <td>-rw-r-----</td>\n",
       "      <td>da4b09c773a74027ac2d5fed6d409acf</td>\n",
       "      <td>da4b09c773a74027ac2d5fed6d409acf</td>\n",
       "    </tr>\n",
       "    <tr>\n",
       "      <th>16</th>\n",
       "      <td>24</td>\n",
       "      <td>arq_set_primavera.txt</td>\n",
       "      <td>610</td>\n",
       "      <td>1</td>\n",
       "      <td>18:53</td>\n",
       "      <td>Apr</td>\n",
       "      <td>-rw-r-----</td>\n",
       "      <td>da4b09c773a74027ac2d5fed6d409acf</td>\n",
       "      <td>da4b09c773a74027ac2d5fed6d409acf</td>\n",
       "    </tr>\n",
       "    <tr>\n",
       "      <th>17</th>\n",
       "      <td>24</td>\n",
       "      <td>.Aula21.04.2017.ipynb.sage-jupyter</td>\n",
       "      <td>19129</td>\n",
       "      <td>1</td>\n",
       "      <td>00:13</td>\n",
       "      <td>Apr</td>\n",
       "      <td>-rw-r-----</td>\n",
       "      <td>da4b09c773a74027ac2d5fed6d409acf</td>\n",
       "      <td>da4b09c773a74027ac2d5fed6d409acf</td>\n",
       "    </tr>\n",
       "    <tr>\n",
       "      <th>18</th>\n",
       "      <td>23</td>\n",
       "      <td>.Aula24.03.2017.ipynb.sage-jupyter</td>\n",
       "      <td>17908</td>\n",
       "      <td>1</td>\n",
       "      <td>17:38</td>\n",
       "      <td>Apr</td>\n",
       "      <td>-rw-r-----</td>\n",
       "      <td>da4b09c773a74027ac2d5fed6d409acf</td>\n",
       "      <td>da4b09c773a74027ac2d5fed6d409acf</td>\n",
       "    </tr>\n",
       "    <tr>\n",
       "      <th>19</th>\n",
       "      <td>5</td>\n",
       "      <td>Aula24.04.2017.ipynb</td>\n",
       "      <td>234990</td>\n",
       "      <td>1</td>\n",
       "      <td>16:34</td>\n",
       "      <td>May</td>\n",
       "      <td>-rw-r-----</td>\n",
       "      <td>da4b09c773a74027ac2d5fed6d409acf</td>\n",
       "      <td>da4b09c773a74027ac2d5fed6d409acf</td>\n",
       "    </tr>\n",
       "    <tr>\n",
       "      <th>20</th>\n",
       "      <td>28</td>\n",
       "      <td>.Aula24.04.2017.ipynb.sage-jupyter</td>\n",
       "      <td>33113</td>\n",
       "      <td>1</td>\n",
       "      <td>16:24</td>\n",
       "      <td>Apr</td>\n",
       "      <td>-rw-r-----</td>\n",
       "      <td>da4b09c773a74027ac2d5fed6d409acf</td>\n",
       "      <td>da4b09c773a74027ac2d5fed6d409acf</td>\n",
       "    </tr>\n",
       "    <tr>\n",
       "      <th>21</th>\n",
       "      <td>7</td>\n",
       "      <td>.Aula24.04.2017.ipynb.sage-jupyter2</td>\n",
       "      <td>0</td>\n",
       "      <td>1</td>\n",
       "      <td>12:21</td>\n",
       "      <td>May</td>\n",
       "      <td>-rw-r-----</td>\n",
       "      <td>da4b09c773a74027ac2d5fed6d409acf</td>\n",
       "      <td>da4b09c773a74027ac2d5fed6d409acf</td>\n",
       "    </tr>\n",
       "    <tr>\n",
       "      <th>22</th>\n",
       "      <td>22</td>\n",
       "      <td>cookbook-data</td>\n",
       "      <td>4096</td>\n",
       "      <td>4</td>\n",
       "      <td>01:09</td>\n",
       "      <td>Apr</td>\n",
       "      <td>drwxr-x---</td>\n",
       "      <td>da4b09c773a74027ac2d5fed6d409acf</td>\n",
       "      <td>da4b09c773a74027ac2d5fed6d409acf</td>\n",
       "    </tr>\n",
       "    <tr>\n",
       "      <th>23</th>\n",
       "      <td>24</td>\n",
       "      <td>dicchar.csv</td>\n",
       "      <td>1133</td>\n",
       "      <td>1</td>\n",
       "      <td>18:14</td>\n",
       "      <td>Apr</td>\n",
       "      <td>-rw-r-----</td>\n",
       "      <td>da4b09c773a74027ac2d5fed6d409acf</td>\n",
       "      <td>da4b09c773a74027ac2d5fed6d409acf</td>\n",
       "    </tr>\n",
       "    <tr>\n",
       "      <th>24</th>\n",
       "      <td>24</td>\n",
       "      <td>file.zip</td>\n",
       "      <td>571</td>\n",
       "      <td>1</td>\n",
       "      <td>17:55</td>\n",
       "      <td>Apr</td>\n",
       "      <td>-rw-r-----</td>\n",
       "      <td>da4b09c773a74027ac2d5fed6d409acf</td>\n",
       "      <td>da4b09c773a74027ac2d5fed6d409acf</td>\n",
       "    </tr>\n",
       "    <tr>\n",
       "      <th>25</th>\n",
       "      <td>3</td>\n",
       "      <td>.ipynb_checkpoints</td>\n",
       "      <td>4096</td>\n",
       "      <td>2</td>\n",
       "      <td>01:08</td>\n",
       "      <td>May</td>\n",
       "      <td>drwxr-x---</td>\n",
       "      <td>da4b09c773a74027ac2d5fed6d409acf</td>\n",
       "      <td>da4b09c773a74027ac2d5fed6d409acf</td>\n",
       "    </tr>\n",
       "    <tr>\n",
       "      <th>26</th>\n",
       "      <td>24</td>\n",
       "      <td>matriznum2.csv</td>\n",
       "      <td>74</td>\n",
       "      <td>1</td>\n",
       "      <td>17:22</td>\n",
       "      <td>Apr</td>\n",
       "      <td>-rw-r-----</td>\n",
       "      <td>da4b09c773a74027ac2d5fed6d409acf</td>\n",
       "      <td>da4b09c773a74027ac2d5fed6d409acf</td>\n",
       "    </tr>\n",
       "    <tr>\n",
       "      <th>27</th>\n",
       "      <td>24</td>\n",
       "      <td>matriznum.csv</td>\n",
       "      <td>74</td>\n",
       "      <td>1</td>\n",
       "      <td>17:21</td>\n",
       "      <td>Apr</td>\n",
       "      <td>-rw-r-----</td>\n",
       "      <td>da4b09c773a74027ac2d5fed6d409acf</td>\n",
       "      <td>da4b09c773a74027ac2d5fed6d409acf</td>\n",
       "    </tr>\n",
       "    <tr>\n",
       "      <th>28</th>\n",
       "      <td>3</td>\n",
       "      <td>.Notas.ipynb.sage-jupyter</td>\n",
       "      <td>13914</td>\n",
       "      <td>1</td>\n",
       "      <td>01:08</td>\n",
       "      <td>May</td>\n",
       "      <td>-rw-r-----</td>\n",
       "      <td>da4b09c773a74027ac2d5fed6d409acf</td>\n",
       "      <td>da4b09c773a74027ac2d5fed6d409acf</td>\n",
       "    </tr>\n",
       "    <tr>\n",
       "      <th>29</th>\n",
       "      <td>6</td>\n",
       "      <td>.Notas.ipynb.sage-jupyter2</td>\n",
       "      <td>38</td>\n",
       "      <td>1</td>\n",
       "      <td>13:37</td>\n",
       "      <td>May</td>\n",
       "      <td>-rw-r-----</td>\n",
       "      <td>da4b09c773a74027ac2d5fed6d409acf</td>\n",
       "      <td>da4b09c773a74027ac2d5fed6d409acf</td>\n",
       "    </tr>\n",
       "    <tr>\n",
       "      <th>30</th>\n",
       "      <td>27</td>\n",
       "      <td>python.dados.pandas.ipynb</td>\n",
       "      <td>181342</td>\n",
       "      <td>1</td>\n",
       "      <td>12:51</td>\n",
       "      <td>Apr</td>\n",
       "      <td>-rw-r-----</td>\n",
       "      <td>da4b09c773a74027ac2d5fed6d409acf</td>\n",
       "      <td>da4b09c773a74027ac2d5fed6d409acf</td>\n",
       "    </tr>\n",
       "    <tr>\n",
       "      <th>31</th>\n",
       "      <td>23</td>\n",
       "      <td>.python.dados.pandas.ipynb.sage-jupyter</td>\n",
       "      <td>19127</td>\n",
       "      <td>1</td>\n",
       "      <td>19:48</td>\n",
       "      <td>Apr</td>\n",
       "      <td>-rw-r-----</td>\n",
       "      <td>da4b09c773a74027ac2d5fed6d409acf</td>\n",
       "      <td>da4b09c773a74027ac2d5fed6d409acf</td>\n",
       "    </tr>\n",
       "    <tr>\n",
       "      <th>32</th>\n",
       "      <td>3</td>\n",
       "      <td>.Tabelas.ipynb.sage-jupyter</td>\n",
       "      <td>26048</td>\n",
       "      <td>1</td>\n",
       "      <td>17:01</td>\n",
       "      <td>May</td>\n",
       "      <td>-rw-r-----</td>\n",
       "      <td>da4b09c773a74027ac2d5fed6d409acf</td>\n",
       "      <td>da4b09c773a74027ac2d5fed6d409acf</td>\n",
       "    </tr>\n",
       "    <tr>\n",
       "      <th>33</th>\n",
       "      <td>24</td>\n",
       "      <td>test.append.dat</td>\n",
       "      <td>24</td>\n",
       "      <td>1</td>\n",
       "      <td>16:57</td>\n",
       "      <td>Apr</td>\n",
       "      <td>-rw-r-----</td>\n",
       "      <td>da4b09c773a74027ac2d5fed6d409acf</td>\n",
       "      <td>da4b09c773a74027ac2d5fed6d409acf</td>\n",
       "    </tr>\n",
       "    <tr>\n",
       "      <th>34</th>\n",
       "      <td>24</td>\n",
       "      <td>test.dat</td>\n",
       "      <td>40</td>\n",
       "      <td>1</td>\n",
       "      <td>17:37</td>\n",
       "      <td>Apr</td>\n",
       "      <td>-rw-r-----</td>\n",
       "      <td>da4b09c773a74027ac2d5fed6d409acf</td>\n",
       "      <td>da4b09c773a74027ac2d5fed6d409acf</td>\n",
       "    </tr>\n",
       "    <tr>\n",
       "      <th>35</th>\n",
       "      <td>7</td>\n",
       "      <td>teste.txt</td>\n",
       "      <td>0</td>\n",
       "      <td>1</td>\n",
       "      <td>12:23</td>\n",
       "      <td>May</td>\n",
       "      <td>-rw-r-----</td>\n",
       "      <td>da4b09c773a74027ac2d5fed6d409acf</td>\n",
       "      <td>da4b09c773a74027ac2d5fed6d409acf</td>\n",
       "    </tr>\n",
       "    <tr>\n",
       "      <th>36</th>\n",
       "      <td>24</td>\n",
       "      <td>texto.txt</td>\n",
       "      <td>219</td>\n",
       "      <td>1</td>\n",
       "      <td>17:21</td>\n",
       "      <td>Apr</td>\n",
       "      <td>-rw-r-----</td>\n",
       "      <td>da4b09c773a74027ac2d5fed6d409acf</td>\n",
       "      <td>da4b09c773a74027ac2d5fed6d409acf</td>\n",
       "    </tr>\n",
       "  </tbody>\n",
       "</table>\n",
       "</div>"
      ]
     },
     "execution_count": 19,
     "metadata": {
     },
     "output_type": "execute_result"
    }
   ],
   "source": [
    "df"
   ]
  },
  {
   "cell_type": "code",
   "execution_count": 20,
   "metadata": {
    "collapsed": false
   },
   "outputs": [
    {
     "data": {
      "text/plain": [
       "'22'"
      ]
     },
     "execution_count": 20,
     "metadata": {
     },
     "output_type": "execute_result"
    }
   ],
   "source": [
    "(df['day'].min())"
   ]
  },
  {
   "cell_type": "code",
   "execution_count": 21,
   "metadata": {
    "collapsed": false
   },
   "outputs": [
    {
     "data": {
      "text/html": [
       "<div>\n",
       "<table border=\"1\" class=\"dataframe\">\n",
       "  <thead>\n",
       "    <tr style=\"text-align: right;\">\n",
       "      <th></th>\n",
       "      <th>day</th>\n",
       "      <th>filename</th>\n",
       "      <th>filesize</th>\n",
       "      <th>group</th>\n",
       "      <th>hour</th>\n",
       "      <th>month</th>\n",
       "      <th>perm</th>\n",
       "      <th>user</th>\n",
       "      <th>usercode</th>\n",
       "    </tr>\n",
       "  </thead>\n",
       "  <tbody>\n",
       "    <tr>\n",
       "      <th>22</th>\n",
       "      <td>22</td>\n",
       "      <td>cookbook-data</td>\n",
       "      <td>4096</td>\n",
       "      <td>4</td>\n",
       "      <td>01:09</td>\n",
       "      <td>Apr</td>\n",
       "      <td>drwxr-x---</td>\n",
       "      <td>da4b09c773a74027ac2d5fed6d409acf</td>\n",
       "      <td>da4b09c773a74027ac2d5fed6d409acf</td>\n",
       "    </tr>\n",
       "  </tbody>\n",
       "</table>\n",
       "</div>"
      ]
     },
     "execution_count": 21,
     "metadata": {
     },
     "output_type": "execute_result"
    }
   ],
   "source": [
    "df[df['day']=='22']"
   ]
  },
  {
   "cell_type": "code",
   "execution_count": 22,
   "metadata": {
    "collapsed": false
   },
   "outputs": [
    {
     "data": {
      "text/plain": [
       "day                                       24\n",
       "filename             2017-04-24-140938.ipynb\n",
       "filesize                               10949\n",
       "group                                      1\n",
       "hour                                   19:04\n",
       "month                                    Apr\n",
       "perm                              -rw-r-----\n",
       "user        da4b09c773a74027ac2d5fed6d409acf\n",
       "usercode    da4b09c773a74027ac2d5fed6d409acf\n",
       "Name: 2, dtype: object"
      ]
     },
     "execution_count": 22,
     "metadata": {
     },
     "output_type": "execute_result"
    }
   ],
   "source": [
    "df.ix[2]"
   ]
  },
  {
   "cell_type": "markdown",
   "metadata": {
    "collapsed": false
   },
   "source": [
    "## Exercícios\n",
    "\n",
    "1. Quando foi criado o primeiro arquivo?\n",
    "2. Quantos arquivos podem ser apenas editadados pelo proprietário? "
   ]
  },
  {
   "cell_type": "markdown",
   "metadata": {
    "collapsed": false
   },
   "source": [
    "## Datas"
   ]
  },
  {
   "cell_type": "markdown",
   "metadata": {
    "collapsed": false
   },
   "source": [
    "### Trabalhar com datas \n",
    "O módulo datetime possui dentro de si uma classe date definida. Nessa classe, existem alguns métodos para manipulação de datas, como a função today, que retorna um objeto do tipo `datetime.date`"
   ]
  },
  {
   "cell_type": "code",
   "execution_count": 1,
   "metadata": {
    "collapsed": false
   },
   "outputs": [
   ],
   "source": [
    "from datetime import date, timedelta,datetime"
   ]
  },
  {
   "cell_type": "code",
   "execution_count": 4,
   "metadata": {
    "collapsed": false
   },
   "outputs": [
    {
     "name": "stdout",
     "output_type": "stream",
     "text": [
      "2017-05-08\n"
     ]
    }
   ],
   "source": [
    "hj=date.today()\n",
    "print(hj)"
   ]
  },
  {
   "cell_type": "markdown",
   "metadata": {
    "collapsed": true
   },
   "source": [
    "Um comando útil para ordenar datas é: "
   ]
  },
  {
   "cell_type": "code",
   "execution_count": 5,
   "metadata": {
    "collapsed": false
   },
   "outputs": [
    {
     "name": "stdout",
     "output_type": "stream",
     "text": [
      "736457\n"
     ]
    }
   ],
   "source": [
    "print(hj.toordinal())"
   ]
  },
  {
   "cell_type": "markdown",
   "metadata": {
    "collapsed": false
   },
   "source": [
    "### Trabalhar com  Tempos"
   ]
  },
  {
   "cell_type": "markdown",
   "metadata": {
    "collapsed": false
   },
   "source": [
    "Para instantes do tempo, temos  que trabalhar com a classe `datetime`. "
   ]
  },
  {
   "cell_type": "code",
   "execution_count": 6,
   "metadata": {
    "collapsed": false
   },
   "outputs": [
    {
     "data": {
      "text/plain": [
       "1494264479.724102"
      ]
     },
     "execution_count": 6,
     "metadata": {
     },
     "output_type": "execute_result"
    }
   ],
   "source": [
    "agora=datetime.now()\n",
    "agora.timestamp()\n"
   ]
  },
  {
   "cell_type": "code",
   "execution_count": 7,
   "metadata": {
    "collapsed": false
   },
   "outputs": [
    {
     "data": {
      "text/plain": [
       "datetime.datetime(2017, 5, 8, 17, 27, 59, 724102)"
      ]
     },
     "execution_count": 7,
     "metadata": {
     },
     "output_type": "execute_result"
    }
   ],
   "source": [
    "agora"
   ]
  },
  {
   "cell_type": "markdown",
   "metadata": {
    "collapsed": false
   },
   "source": [
    "Para descobrir uma data no futuro. "
   ]
  },
  {
   "cell_type": "code",
   "execution_count": 8,
   "metadata": {
    "collapsed": false
   },
   "outputs": [
    {
     "name": "stdout",
     "output_type": "stream",
     "text": [
      "2017-06-22\n"
     ]
    }
   ],
   "source": [
    "futuro=hj+timedelta(days=45) # hoje + 45 dias\n",
    "print(futuro)"
   ]
  },
  {
   "cell_type": "markdown",
   "metadata": {
    "collapsed": false
   },
   "source": [
    "Para descobrir um dia da semana:"
   ]
  },
  {
   "cell_type": "code",
   "execution_count": 152,
   "metadata": {
    "collapsed": false
   },
   "outputs": [
    {
     "name": "stdout",
     "output_type": "stream",
     "text": [
      "Hoje é Domingo\n"
     ]
    }
   ],
   "source": [
    "dias = ('Segunda-feira', 'Terça-feira', 'Quarta-feira', 'Quinta-feira', 'Sexta-feira', 'Sábado', 'Domingo')\n",
    "print (\"Hoje é\", dias[hj.weekday()])"
   ]
  },
  {
   "cell_type": "code",
   "execution_count": 153,
   "metadata": {
    "collapsed": false
   },
   "outputs": [
    {
     "data": {
      "text/plain": [
       "'Faltam 137 dias para o meu aniversário. E ele vai cair em uma  Quinta-feira'"
      ]
     },
     "execution_count": 153,
     "metadata": {
     },
     "output_type": "execute_result"
    }
   ],
   "source": [
    "\"Faltam {} dias para o meu aniversário. E ele vai cair em uma  {}\".format((niver-hj).days  ,dias[niver.weekday()])"
   ]
  },
  {
   "cell_type": "markdown",
   "metadata": {
    "collapsed": false
   },
   "source": [
    "## Impressão de Datas"
   ]
  },
  {
   "cell_type": "markdown",
   "metadata": {
    "collapsed": false
   },
   "source": [
    "Para descobrir as datas das próximas aulas de Física Computracional"
   ]
  },
  {
   "cell_type": "code",
   "execution_count": 154,
   "metadata": {
    "collapsed": false
   },
   "outputs": [
   ],
   "source": [
    "aula=date(2017,5,8)\n",
    "lisdatas=[aula+timedelta(weeks=delay)  for delay in range(1,9) ]"
   ]
  },
  {
   "cell_type": "markdown",
   "metadata": {
    "collapsed": false
   },
   "source": [
    "Interessante mas difícil de ler. Para esses e muitas outras coisas é que temos \n",
    "o comando `strftime`. "
   ]
  },
  {
   "cell_type": "code",
   "execution_count": 155,
   "metadata": {
    "collapsed": false
   },
   "outputs": [
    {
     "data": {
      "text/plain": [
       "'15/05/17'"
      ]
     },
     "execution_count": 155,
     "metadata": {
     },
     "output_type": "execute_result"
    }
   ],
   "source": [
    "datetime.strftime(lisdatas[0], \"%d/%m/%y\")"
   ]
  },
  {
   "cell_type": "markdown",
   "metadata": {
    "collapsed": false
   },
   "source": [
    "O segundo argumento é misterioso mas ele indica o formato que será impressa a data. Nesse\n",
    "caso dia/mes/ano. "
   ]
  },
  {
   "cell_type": "code",
   "execution_count": 156,
   "metadata": {
    "collapsed": false
   },
   "outputs": [
    {
     "data": {
      "text/plain": [
       "['08/05/17',\n",
       " '15/05/17',\n",
       " '22/05/17',\n",
       " '29/05/17',\n",
       " '05/06/17',\n",
       " '12/06/17',\n",
       " '19/06/17',\n",
       " '26/06/17',\n",
       " '03/07/17']"
      ]
     },
     "execution_count": 156,
     "metadata": {
     },
     "output_type": "execute_result"
    }
   ],
   "source": [
    "\n",
    "lisdatas=[datetime.strftime(aula+timedelta(weeks=delay), \"%d/%m/%y\")  for delay in range(0,9) ]\n",
    "lisdatas"
   ]
  },
  {
   "cell_type": "markdown",
   "metadata": {
    "collapsed": false
   },
   "source": [
    "A tabela abaixo mostra as opções para formatação. \n",
    "\n",
    "| Directive | \tMeaning | \tExample |\n",
    "|------------------------------------\n",
    "| %a| \tWeekday as locale’s abbreviated name | Sun, Mon, ..., Sat (en_US)|  So, Mo, ..., Sa (de_DE)  |\n",
    "| %A| \tWeekday as locale’s full name.\t| Sunday, Monday, ..., Saturday (en_US);| Sonntag, Montag, ..., Samstag (de_DE)|\n",
    "| %w| \tWeekday as a decimal number, where 0 is Sunday and 6 is Saturday.|\t0, 1, ..., 6\t |\n",
    "| %d|\tDay of the month as a zero-padded decimal number..|\t01, 02, ..., 31\t |\n",
    "| %b|\tMonth as locale’s abbreviated name.\t Jan, Feb, ..., Dec (en_US);| Jan, Feb, ..., Dez (de_DE)|\n",
    "| %B|\tMonth as locale’s full name.|\t January, February, ..., December (en_US); Januar, Februar, ..., Dezember (de_DE)|\n",
    "| %m|\tMonth as a zero-padded decimal number.|\t01, 02, ..., 12\t  %y\tYear without century as a zero-padded decimal number.\t00, 01, ..., 99\t | %Y|\tYear with century as a decimal number.|\t0001, 0002, ..., 2013, 2014, ..., 9998, 9999\t(2) %H\tHour (24-hour clock) as a zero-padded decimal number.|\t00, 01, ..., 23\t |\n",
    "| %I|\tHour (12-hour clock) as a zero-padded decimal number.|\t01, 02, ..., 12\t  %p\tLocale’s equivalent of either AM or PM.\t AM, PM (en_US); am, pm (de_DE)|\n",
    "| %M|\tMinute as a zero-padded decimal number.|\t00, 01, ..., 59\t |\n",
    "| %S|\tSecond as a zero-padded decimal number.|\t00, 01, ..., 59\t|\n",
    "| %f|\tMicrosecond as a decimal number, zero-padded on the left.|\t000000, 000001, ..., 999999\t|\n",
    "| %z|\tUTC offset in the form +HHMM or -HHMM (empty string if the object is naive).\t(empty),| +0000, -0400, +1030|\n",
    "| %Z|\tTime zone name (empty string if the object is naive).\t(empty),| UTC, EST, CST\t |\n",
    "| %j|\tDay of the year as a zero-padded decimal number.|\t001, 002, ..., 366\t |\n",
    "| %U|\tWeek number of the year (Sunday as the first day of the week) as a zero padded decimal number. All days in a new year preceding the first Sunday are considered to be in week 0.|\t00, 01, ..., 53\t|\n",
    "| %W|\tWeek number of the year (Monday as the first day of the week) as a decimal number. All days in a new year preceding the first Monday are considered to be in week 0.|\t00, 01, ..., 53\t|\n",
    "| %c|\tLocale’s appropriate date and time representation.|\t Tue Aug 16 21:30:00 1988 (en_US); Di 16 Aug 21:30:00 1988 (de_DE)|\n",
    "| %x|\tLocale’s appropriate date representation.|\t 08/16/88 (None); 08/16/1988 (en_US); 16.08.1988 (de_DE)|\n",
    "| %X|\tLocale’s appropriate time representation.|\t 21:30:00 (en_US); 21:30:00 (de_DE)|\n",
    "| %%|\tA literal '%' character.|\t%\t |"
   ]
  },
  {
   "cell_type": "markdown",
   "metadata": {
    "collapsed": false
   },
   "source": [
    "A função  `strptime` faz o caminho reverso e importa dados com um determinado formato. "
   ]
  },
  {
   "cell_type": "code",
   "execution_count": 157,
   "metadata": {
    "collapsed": false
   },
   "outputs": [
    {
     "data": {
      "text/plain": [
       "datetime.datetime(2006, 11, 21, 16, 30)"
      ]
     },
     "execution_count": 157,
     "metadata": {
     },
     "output_type": "execute_result"
    }
   ],
   "source": [
    "datetime.strptime(\"21/11/06 16:30\", \"%d/%m/%y %H:%M\")"
   ]
  },
  {
   "cell_type": "code",
   "execution_count": 158,
   "metadata": {
    "collapsed": false
   },
   "outputs": [
    {
     "data": {
      "text/plain": [
       "'May'"
      ]
     },
     "execution_count": 158,
     "metadata": {
     },
     "output_type": "execute_result"
    }
   ],
   "source": [
    "mydate = datetime.now()\n",
    "mydate.strftime(\"%B\") \n",
    "mydate.strftime(\"%b\") "
   ]
  },
  {
   "cell_type": "markdown",
   "metadata": {
    "collapsed": false
   },
   "source": [
    "##  Arquivo mais Antigo Revisitado"
   ]
  },
  {
   "cell_type": "markdown",
   "metadata": {
    "collapsed": false
   },
   "source": [
    "Primeiro crio uma coluna extra nos dados combinando day, month e hour. \n"
   ]
  },
  {
   "cell_type": "code",
   "execution_count": 159,
   "metadata": {
    "collapsed": false
   },
   "outputs": [
   ],
   "source": [
    "df['stringdata']=(\"2017\"+\" \"+ df[\"month\"]+\" \"+df[\"day\"]+ \" \"+df[\"hour\"])"
   ]
  },
  {
   "cell_type": "markdown",
   "metadata": {
    "collapsed": false
   },
   "source": [
    "Depois gero outra coluna transformando em `timestamp`.  "
   ]
  },
  {
   "cell_type": "code",
   "execution_count": 160,
   "metadata": {
    "ExecuteTime": {
     "end_time": "2017-05-02T01:22:04.815Z",
     "start_time": "2017-05-02T01:22:04.692Z"
    }
   },
   "outputs": [
   ],
   "source": [
    "df['floatdate']=[datetime.strptime(str, \"%Y %b %d %H:%M\").timestamp() for str in df['stringdata']]"
   ]
  },
  {
   "cell_type": "markdown",
   "metadata": {
    "collapsed": false
   },
   "source": [
    "O golpe final é achar o indice do mínimo e imprimir o arquivo. "
   ]
  },
  {
   "cell_type": "code",
   "execution_count": 161,
   "metadata": {
    "collapsed": false
   },
   "outputs": [
    {
     "data": {
      "text/plain": [
       "'cookbook-data'"
      ]
     },
     "execution_count": 161,
     "metadata": {
     },
     "output_type": "execute_result"
    }
   ],
   "source": [
    "index=df['floatdate'].idxmin()\n",
    "df.ix[index][1]"
   ]
  },
  {
   "cell_type": "markdown",
   "metadata": {
    "collapsed": false
   },
   "source": [
    "## Exercícios (0.25 pts)\n",
    "\n",
    "1. Com base nos dados de https://pt.wikipedia.org/wiki/Lista_de_epis%C3%B3dios_de_Pok%C3%A9mon Construa um  dataframe para armazenar \n",
    "as informações sobre os episódios de Pokemon, contendo: \n",
    "- Série\n",
    "- Geração\n",
    "- Temporada\n",
    "- Primeiro Episódio\n",
    "- Último Episódio\n",
    "- Região\n",
    "2. Descubra qual a geração mais longeva\n",
    "3. Descubra quantas temporadas durou cada série\n"
   ]
  },
  {
   "cell_type": "code",
   "execution_count": 6,
   "metadata": {
    "collapsed": false
   },
   "outputs": [
   ],
   "source": [
    "import pandas as pd\n",
    "import numpy as np\n"
   ]
  },
  {
   "cell_type": "code",
   "execution_count": 7,
   "metadata": {
    "collapsed": false
   },
   "outputs": [
   ],
   "source": [
    "def preenche(lis):\n",
    "    for elem in range(1,len(lis)):\n",
    "        if lis[elem]!=lis[elem]: #truque sujo!\n",
    "            lis[elem]=lis[elem-1]\n",
    "    return lis\n",
    "    \n",
    "        "
   ]
  },
  {
   "cell_type": "code",
   "execution_count": 8,
   "metadata": {
    "collapsed": false
   },
   "outputs": [
   ],
   "source": [
    "def sint(x):\n",
    "    try: \n",
    "        return int(x)\n",
    "    except:\n",
    "        return 947+20+1"
   ]
  },
  {
   "cell_type": "code",
   "execution_count": 9,
   "metadata": {
    "collapsed": false
   },
   "outputs": [
    {
     "ename": "ValueError",
     "evalue": "No tables found",
     "output_type": "error",
     "traceback": [
      "\u001b[0;31m---------------------------------------------------------------------------\u001b[0m",
      "\u001b[0;31mValueError\u001b[0m                                Traceback (most recent call last)",
      "\u001b[0;32m<ipython-input-9-001d18c902ab>\u001b[0m in \u001b[0;36m<module>\u001b[0;34m()\u001b[0m\n\u001b[0;32m----> 1\u001b[0;31m \u001b[0mlispoktab\u001b[0m\u001b[0;34m=\u001b[0m\u001b[0mpd\u001b[0m\u001b[0;34m.\u001b[0m\u001b[0mread_html\u001b[0m\u001b[0;34m(\u001b[0m\u001b[0;34m\"pokemon.html\"\u001b[0m\u001b[0;34m)\u001b[0m\u001b[0;34m\u001b[0m\u001b[0m\n\u001b[0m\u001b[1;32m      2\u001b[0m \u001b[0mdf\u001b[0m\u001b[0;34m=\u001b[0m\u001b[0mlispoktab\u001b[0m\u001b[0;34m[\u001b[0m\u001b[0;36m0\u001b[0m\u001b[0;34m]\u001b[0m\u001b[0;34m\u001b[0m\u001b[0m\n\u001b[1;32m      3\u001b[0m \u001b[0mdf\u001b[0m\u001b[0;34m.\u001b[0m\u001b[0mix\u001b[0m\u001b[0;34m[\u001b[0m\u001b[0;36m2\u001b[0m\u001b[0;34m]\u001b[0m\u001b[0;34m=\u001b[0m\u001b[0mnp\u001b[0m\u001b[0;34m.\u001b[0m\u001b[0mroll\u001b[0m\u001b[0;34m(\u001b[0m\u001b[0mdf\u001b[0m\u001b[0;34m.\u001b[0m\u001b[0mix\u001b[0m\u001b[0;34m[\u001b[0m\u001b[0;36m2\u001b[0m\u001b[0;34m]\u001b[0m\u001b[0;34m,\u001b[0m\u001b[0;36m2\u001b[0m\u001b[0;34m)\u001b[0m\u001b[0;34m\u001b[0m\u001b[0m\n\u001b[1;32m      4\u001b[0m \u001b[0mdf\u001b[0m\u001b[0;34m.\u001b[0m\u001b[0mix\u001b[0m\u001b[0;34m[\u001b[0m\u001b[0;36m3\u001b[0m\u001b[0;34m]\u001b[0m\u001b[0;34m=\u001b[0m\u001b[0mnp\u001b[0m\u001b[0;34m.\u001b[0m\u001b[0mroll\u001b[0m\u001b[0;34m(\u001b[0m\u001b[0mdf\u001b[0m\u001b[0;34m.\u001b[0m\u001b[0mix\u001b[0m\u001b[0;34m[\u001b[0m\u001b[0;36m3\u001b[0m\u001b[0;34m]\u001b[0m\u001b[0;34m,\u001b[0m\u001b[0;36m1\u001b[0m\u001b[0;34m)\u001b[0m\u001b[0;34m\u001b[0m\u001b[0m\n\u001b[1;32m      5\u001b[0m \u001b[0mdf\u001b[0m\u001b[0;34m.\u001b[0m\u001b[0mix\u001b[0m\u001b[0;34m[\u001b[0m\u001b[0;36m4\u001b[0m\u001b[0;34m]\u001b[0m\u001b[0;34m=\u001b[0m\u001b[0mnp\u001b[0m\u001b[0;34m.\u001b[0m\u001b[0mroll\u001b[0m\u001b[0;34m(\u001b[0m\u001b[0mdf\u001b[0m\u001b[0;34m.\u001b[0m\u001b[0mix\u001b[0m\u001b[0;34m[\u001b[0m\u001b[0;36m4\u001b[0m\u001b[0;34m]\u001b[0m\u001b[0;34m,\u001b[0m\u001b[0;36m2\u001b[0m\u001b[0;34m)\u001b[0m\u001b[0;34m\u001b[0m\u001b[0m\n",
      "\u001b[0;32m/usr/local/lib/python3.4/dist-packages/pandas/io/html.py\u001b[0m in \u001b[0;36mread_html\u001b[0;34m(io, match, flavor, header, index_col, skiprows, attrs, parse_dates, tupleize_cols, thousands, encoding, decimal, converters, na_values, keep_default_na)\u001b[0m\n\u001b[1;32m    894\u001b[0m                   \u001b[0mthousands\u001b[0m\u001b[0;34m=\u001b[0m\u001b[0mthousands\u001b[0m\u001b[0;34m,\u001b[0m \u001b[0mattrs\u001b[0m\u001b[0;34m=\u001b[0m\u001b[0mattrs\u001b[0m\u001b[0;34m,\u001b[0m \u001b[0mencoding\u001b[0m\u001b[0;34m=\u001b[0m\u001b[0mencoding\u001b[0m\u001b[0;34m,\u001b[0m\u001b[0;34m\u001b[0m\u001b[0m\n\u001b[1;32m    895\u001b[0m                   \u001b[0mdecimal\u001b[0m\u001b[0;34m=\u001b[0m\u001b[0mdecimal\u001b[0m\u001b[0;34m,\u001b[0m \u001b[0mconverters\u001b[0m\u001b[0;34m=\u001b[0m\u001b[0mconverters\u001b[0m\u001b[0;34m,\u001b[0m \u001b[0mna_values\u001b[0m\u001b[0;34m=\u001b[0m\u001b[0mna_values\u001b[0m\u001b[0;34m,\u001b[0m\u001b[0;34m\u001b[0m\u001b[0m\n\u001b[0;32m--> 896\u001b[0;31m                   keep_default_na=keep_default_na)\n\u001b[0m",
      "\u001b[0;32m/usr/local/lib/python3.4/dist-packages/pandas/io/html.py\u001b[0m in \u001b[0;36m_parse\u001b[0;34m(flavor, io, match, attrs, encoding, **kwargs)\u001b[0m\n\u001b[1;32m    731\u001b[0m             \u001b[0;32mbreak\u001b[0m\u001b[0;34m\u001b[0m\u001b[0m\n\u001b[1;32m    732\u001b[0m     \u001b[0;32melse\u001b[0m\u001b[0;34m:\u001b[0m\u001b[0;34m\u001b[0m\u001b[0m\n\u001b[0;32m--> 733\u001b[0;31m         \u001b[0mraise_with_traceback\u001b[0m\u001b[0;34m(\u001b[0m\u001b[0mretained\u001b[0m\u001b[0;34m)\u001b[0m\u001b[0;34m\u001b[0m\u001b[0m\n\u001b[0m\u001b[1;32m    734\u001b[0m \u001b[0;34m\u001b[0m\u001b[0m\n\u001b[1;32m    735\u001b[0m     \u001b[0mret\u001b[0m \u001b[0;34m=\u001b[0m \u001b[0;34m[\u001b[0m\u001b[0;34m]\u001b[0m\u001b[0;34m\u001b[0m\u001b[0m\n",
      "\u001b[0;32m/usr/local/lib/python3.4/dist-packages/pandas/compat/__init__.py\u001b[0m in \u001b[0;36mraise_with_traceback\u001b[0;34m(exc, traceback)\u001b[0m\n\u001b[1;32m    338\u001b[0m         \u001b[0;32mif\u001b[0m \u001b[0mtraceback\u001b[0m \u001b[0;34m==\u001b[0m \u001b[0mEllipsis\u001b[0m\u001b[0;34m:\u001b[0m\u001b[0;34m\u001b[0m\u001b[0m\n\u001b[1;32m    339\u001b[0m             \u001b[0m_\u001b[0m\u001b[0;34m,\u001b[0m \u001b[0m_\u001b[0m\u001b[0;34m,\u001b[0m \u001b[0mtraceback\u001b[0m \u001b[0;34m=\u001b[0m \u001b[0msys\u001b[0m\u001b[0;34m.\u001b[0m\u001b[0mexc_info\u001b[0m\u001b[0;34m(\u001b[0m\u001b[0;34m)\u001b[0m\u001b[0;34m\u001b[0m\u001b[0m\n\u001b[0;32m--> 340\u001b[0;31m         \u001b[0;32mraise\u001b[0m \u001b[0mexc\u001b[0m\u001b[0;34m.\u001b[0m\u001b[0mwith_traceback\u001b[0m\u001b[0;34m(\u001b[0m\u001b[0mtraceback\u001b[0m\u001b[0;34m)\u001b[0m\u001b[0;34m\u001b[0m\u001b[0m\n\u001b[0m\u001b[1;32m    341\u001b[0m \u001b[0;32melse\u001b[0m\u001b[0;34m:\u001b[0m\u001b[0;34m\u001b[0m\u001b[0m\n\u001b[1;32m    342\u001b[0m     \u001b[0;31m# this version of raise is a syntax error in Python 3\u001b[0m\u001b[0;34m\u001b[0m\u001b[0;34m\u001b[0m\u001b[0m\n",
      "\u001b[0;31mValueError\u001b[0m: No tables found"
     ]
    }
   ],
   "source": [
    "lispoktab=pd.read_html(\"pokemon.html\")\n",
    "df=lispoktab[0]\n",
    "df.ix[2]=np.roll(df.ix[2],2)\n",
    "df.ix[3]=np.roll(df.ix[3],1)\n",
    "df.ix[4]=np.roll(df.ix[4],2)\n",
    "df.ix[5]=np.roll(df.ix[5],2)\n",
    "df.ix[7]=np.roll(df.ix[7],2)\n",
    "df.ix[8]=np.roll(df.ix[8],2)\n",
    "df.ix[9]=np.roll(df.ix[9],2)\n",
    "df.ix[11]=np.roll(df.ix[11],2)\n",
    "df.ix[12]=np.roll(df.ix[12],2)\n",
    "df.ix[13]=np.roll(df.ix[13],2)\n",
    "df.ix[15]=np.roll(df.ix[15],2)\n",
    "df.ix[16]=np.roll(df.ix[16],2)\n",
    "df.ix[18]=np.roll(df.ix[18],2)\n",
    "df.ix[19]=np.roll(df.ix[19],2)\n",
    "\n",
    "\n",
    "df.columns=df.ix[0] # muda o nome das colunas\n",
    "df=df.drop(0) # elimina a primeira linha\n",
    "df['Série']=preenche(list(df['Série'])) # elimina elementos com Nan\n",
    "df['Geração']=preenche(list(df['Geração']))\n",
    "df['Região']=preenche(list(df['Região']))\n",
    "df['Episódios']=[episodio[0:-7] for episodio in df['Episódios']] # elimina parte final \n",
    "df['Primeiro']=[int(episodio[0:3]) for episodio in df['Episódios']] # separa em duas partes\n",
    "df['Último']=[sint(episodio[4:-1]) for episodio in df['Episódios']]"
   ]
  },
  {
   "cell_type": "code",
   "execution_count": 0,
   "metadata": {
    "collapsed": false
   },
   "outputs": [
   ],
   "source": [
    "df[\"# Episódios\"]=df[\"Último\"]-df[\"Primeiro\"]+1\n"
   ]
  },
  {
   "cell_type": "code",
   "execution_count": 0,
   "metadata": {
    "collapsed": false
   },
   "outputs": [
   ],
   "source": [
    "df"
   ]
  },
  {
   "cell_type": "markdown",
   "metadata": {
    "collapsed": false
   },
   "source": [
    "## Exemplo Tenis"
   ]
  },
  {
   "cell_type": "markdown",
   "metadata": {
    "collapsed": false
   },
   "source": [
    "### Para baixar os programas use o comando (não será necessário no SageMathCloud)"
   ]
  },
  {
   "cell_type": "code",
   "execution_count": 162,
   "metadata": {
    "collapsed": false
   },
   "outputs": [
    {
     "name": "stdout",
     "output_type": "stream",
     "text": [
      "Archive:  tennis.zip\n"
     ]
    },
    {
     "name": "stderr",
     "output_type": "stream",
     "text": [
      "fatal: destination path 'cookbook-data' already exists and is not an empty directory.\n",
      "replace data/Andy-Murray.csv? [y]es, [n]o, [A]ll, [N]one, [r]ename:  NULL\n",
      "(EOF or read error, treating as \"[N]one\" ...)\n"
     ]
    }
   ],
   "source": [
    "%%sh\n",
    "\n",
    "git clone https://github.com/ipython-books/cookbook-data.git\n",
    "cd cookbook-data\n",
    "unzip tennis.zip"
   ]
  },
  {
   "cell_type": "code",
   "execution_count": 163,
   "metadata": {
    "collapsed": false
   },
   "outputs": [
   ],
   "source": [
    "import numpy as np\n",
    "import pandas as pd\n",
    "import matplotlib.pyplot as plt\n",
    "player = 'Roger Federer'\n",
    "filename = \"./cookbook-data/data/{name}.csv\".format(name=player.replace(' ', '-')) \n",
    "df = pd.read_csv(filename)"
   ]
  },
  {
   "cell_type": "code",
   "execution_count": 164,
   "metadata": {
    "collapsed": false,
    "scrolled": true
   },
   "outputs": [
    {
     "name": "stderr",
     "output_type": "stream",
     "text": [
      "WARNING: Some output was deleted.\n"
     ]
    }
   ],
   "source": [
    "df"
   ]
  },
  {
   "cell_type": "code",
   "execution_count": 165,
   "metadata": {
    "collapsed": false
   },
   "outputs": [
    {
     "data": {
      "text/plain": [
       "1174    False\n",
       "1175     True\n",
       "1176     True\n",
       "1177     True\n",
       "1178    False\n",
       "Name: win, dtype: bool"
      ]
     },
     "execution_count": 165,
     "metadata": {
     },
     "output_type": "execute_result"
    }
   ],
   "source": [
    "df['win'] = df['winner'] == player\n",
    "df['win'].tail()"
   ]
  },
  {
   "cell_type": "code",
   "execution_count": 166,
   "metadata": {
    "collapsed": false
   },
   "outputs": [
    {
     "data": {
      "text/plain": [
       "'Roger Federer has won 82% of his ATP matches.'"
      ]
     },
     "execution_count": 166,
     "metadata": {
     },
     "output_type": "execute_result"
    }
   ],
   "source": [
    "(\"{player} has won {vic:.0f}% \"\n",
    "               \"of his ATP matches.\").format(\n",
    "                player=player, vic=100*df['win'].mean())"
   ]
  },
  {
   "cell_type": "code",
   "execution_count": 167,
   "metadata": {
    "collapsed": false
   },
   "outputs": [
   ],
   "source": [
    "df['dblfaults'] = (df['player1 double faults'] / \n",
    "                   df['player1 total points total'])"
   ]
  },
  {
   "cell_type": "code",
   "execution_count": 168,
   "metadata": {
    "collapsed": false
   },
   "outputs": [
    {
     "data": {
      "text/plain": [
       "1174    0.018116\n",
       "1175    0.000000\n",
       "1176    0.000000\n",
       "1177    0.011561\n",
       "1178         NaN\n",
       "Name: dblfaults, dtype: float64"
      ]
     },
     "execution_count": 168,
     "metadata": {
     },
     "output_type": "execute_result"
    }
   ],
   "source": [
    "df['dblfaults'].tail()"
   ]
  },
  {
   "cell_type": "code",
   "execution_count": 169,
   "metadata": {
    "collapsed": false
   },
   "outputs": [
   ],
   "source": [
    "gb = df.groupby('year')"
   ]
  },
  {
   "cell_type": "code",
   "execution_count": 170,
   "metadata": {
    "collapsed": false,
    "scrolled": true
   },
   "outputs": [
    {
     "data": {
      "image/png": "[encoded data removed]"
     },
     "output_type": "execute_result"
    }
   ],
   "source": [
    "plt.plot_date(gb['start date'].max(), gb['dblfaults'].mean(), '-', lw=3)\n",
    "plt.plot_date(df['start date'], df['dblfaults'], alpha=.25, lw=0)\n",
    "plt.ylabel('Proportion of double faults per match.')\n",
    "plt.xlabel('Year')\n",
    "plt.show()"
   ]
  },
  {
   "cell_type": "markdown",
   "metadata": {
    "collapsed": false
   },
   "source": [
    "**Exercício:**\n",
    "\n",
    "1. Construa uma tabela com o número de vitórias e derrotas de Federer para cada tipo de terreno. "
   ]
  }
 ],
 "metadata": {
  "celltoolbar": "Slideshow",
  "kernelspec": {
   "display_name": "T - Python 3 (Ubuntu Linux)",
   "language": "python",
   "name": "python3"
  },
  "language_info": {
   "codemirror_mode": {
    "name": "ipython",
    "version": 3
   },
   "file_extension": ".py",
   "mimetype": "text/x-python",
   "name": "python",
   "nbconvert_exporter": "python",
   "pygments_lexer": "ipython3",
   "version": "3.4.3+"
  }
 },
 "nbformat": 4,
 "nbformat_minor": 0
}