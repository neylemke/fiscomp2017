{
 "cells": [
  {
   "cell_type": "code",
   "execution_count": 1,
   "metadata": {
    "collapsed": false
   },
   "outputs": [
    {
     "ename": "SyntaxError",
     "evalue": "invalid syntax (<ipython-input-1-8896c15875ce>, line 25)",
     "output_type": "error",
     "traceback": [
      "\u001b[0;36m  File \u001b[0;32m\"<ipython-input-1-8896c15875ce>\"\u001b[0;36m, line \u001b[0;32m25\u001b[0m\n\u001b[0;31m    Vendo quantas temporadas tem cada série:----------------------------------------------------------------------------------\u001b[0m\n\u001b[0m                ^\u001b[0m\n\u001b[0;31mSyntaxError\u001b[0m\u001b[0;31m:\u001b[0m invalid syntax\n"
     ]
    }
   ],
   "source": [
    "import pandas as pd\n",
    "dict=[{'Série': 'Série Original', 'Geração':'Primeira', 'Temporada': 'Liga Indigo', 'Primeiro Episódio': '001' , 'Último Episódio': '083', 'Regiao': 'Kanto'},    \n",
    "      {'Série': 'Série Original', 'Geração':'Primeira', 'Temporada': 'Aventuras nas Ilhas Laranja', 'Primeiro Episódio': '084' , 'Último Episódio': '118', 'Regiao': 'Ilhas Laranja'},\n",
    "      {'Série': 'Série Original', 'Geração':'Segunda', 'Temporada': 'A Jornada Johto', 'Primeiro Episódio': '119' , 'Último Episódio': '159', 'Regiao': 'Johto'},\n",
    "      {'Série': 'Série Original', 'Geração':'Segunda', 'Temporada': 'Campeões da Liga Johto', 'Primeiro Episódio': '160' , 'Último Episódio': '211', 'Regiao': 'Johto'},\n",
    "      {'Série': 'Série Original', 'Geração':'Segunda', 'Temporada': 'Master Quest', 'Primeiro Episódio': '212' , 'Último Episódio': '276', 'Regiao': 'Johto'},\n",
    "      {'Série': 'Geração Avançada', 'Geração':'Terceira', 'Temporada': 'Pokémon: Avançado', 'Primeiro Episódio': '277' , 'Último Episódio': '316', 'Regiao': 'Hoenn'},\n",
    "      {'Série': 'Geração Avançada', 'Geração':'Terceira', 'Temporada': 'Desafio Avançado', 'Primeiro Episódio': '317' , 'Último Episódio': '368', 'Regiao': 'Hoenn'},\n",
    "      {'Série': 'Geração Avançada', 'Geração':'Terceira', 'Temporada': 'Batalha Avançado', 'Primeiro Episódio': '369' , 'Último Episódio': '421', 'Regiao': 'Hoenn'},\n",
    "      {'Série': 'Geração Avançada', 'Geração':'Terceira', 'Temporada': 'Batalha da Fronteira', 'Primeiro Episódio': '422' , 'Último Episódio': '468', 'Regiao': 'Kanto'},\n",
    "      {'Série': 'Diamante e Pérola', 'Geração':'Quarta', 'Temporada': 'Diamante e Pérola', 'Primeiro Episódio': '469' , 'Último Episódio': '520', 'Regiao': 'Sinnoh'},\n",
    "      {'Série': 'Diamante e Pérola', 'Geração':'Quarta', 'Temporada': 'Batalha Dimensional', 'Primeiro Episódio': '521' , 'Último Episódio': '572', 'Regiao': 'Sinnoh'},\n",
    "      {'Série': 'Diamante e Pérola', 'Geração':'Quarta', 'Temporada': 'Batalhas Galácticas', 'Primeiro Episódio': '573' , 'Último Episódio': '625', 'Regiao': 'Sinnoh'},\n",
    "      {'Série': 'Diamante e Pérola', 'Geração':'Quarta', 'Temporada': 'Vencedores da Liga Sinnoh', 'Primeiro Episódio': '626' , 'Último Episódio': '659', 'Regiao': 'Sinnoh'},\n",
    "      {'Série': 'Preto e Branco', 'Geração':'Quinta', 'Temporada': 'Preto e Branco', 'Primeiro Episódio': '660' , 'Último Episódio': '707', 'Regiao': 'Unova'},\n",
    "      {'Série': 'Preto e Branco', 'Geração':'Quinta', 'Temporada': 'Destinos Rivais', 'Primeiro Episódio': '708' , 'Último Episódio': '756', 'Regiao': 'Unova'},\n",
    "      {'Série': 'Preto e Branco', 'Geração':'Quinta', 'Temporada': 'Aventuras em Unova (e Mais Além)', 'Primeiro Episódio': '757' , 'Último Episódio': '803', 'Regiao': 'Unova'},\n",
    "      {'Série': 'XY', 'Geração':'Sexta', 'Temporada': 'A Séria XY', 'Primeiro Episódio': '804' , 'Último Episódio': '852', 'Regiao': 'Kalos'},\n",
    "      {'Série': 'XY', 'Geração':'Sexta', 'Temporada': 'Kalos Quest', 'Primeiro Episódio': '853' , 'Último Episódio': '897', 'Regiao': 'Kalos'},\n",
    "      {'Série': 'XY', 'Geração':'Sexta', 'Temporada': 'XY & Z', 'Primeiro Episódio': '898' , 'Último Episódio': '946', 'Regiao': 'Kalos'},\n",
    "      {'Série': 'Sun and Moon', 'Geração':'Sétima', 'Temporada': 'Sun and Moon', 'Primeiro Episódio': '947' , 'Último Episódio': 'Em Andamento', 'Regiao': 'Alola'}]\n",
    "df=pd.DataFrame(dict)\n",
    "df[['Série','Geração', 'Temporada', 'Primeiro Episódio', 'Último Episódio', 'Regiao']]\n",
    "\n",
    "Vendo quantas temporadas tem cada série:----------------------------------------------------------------------------------\n",
    "\n",
    "print 'Quantidade de temporadas que durou a Série Original:',len([serie1 for serie1  in df['Série'] if serie1=='Série Original'])\n",
    "print 'Quantidade de temporadas que durou a Geração Avançada:',len([serie2 for serie2  in df['Série'] if serie2=='Geração Avançada'])\n",
    "print 'Quantidade de temporadas que durou a Diamante e Pérola:',len([serie3 for serie3  in df['Série'] if serie3=='Diamante e Pérola'])\n",
    "print 'Quantidade de temporadas que durou a Preto e Branco:',len([serie4 for serie4  in df['Série'] if serie4=='Preto e Branco'])\n",
    "print 'Quantidade de temporadas que durou a XY:',len([serie5 for serie5  in df['Série'] if serie5=='XY'])\n",
    "print 'Quantidade de temporadas que durou a Sun and Moon:',len([serie6 for serie6  in df['Série'] if serie6=='Sun and Moon'])\n",
    "\n",
    "Qual a geração mais longeva:---------------------------------------------------------------------------------------------\n",
    "\n",
    "Primeira=119-1\n",
    "Segunda=277-119\n",
    "Terceira=469-277\n",
    "Quarta=660-469\n",
    "Quinta=804-660\n",
    "Sexta=947-804\n",
    "Episodios={'Geracao Primeira': Primeira, 'Geracao Segunda' : Segunda, 'Geracao Terceira' : Terceira, 'Geracao Quarta' : Quarta, \n",
    "           'Geracao Quinta' : Quinta, 'Geracao Sexta' : Sexta}\n",
    "print 'A geração que é mais longeva, ou seja que tem mais episódios é:',max(Episodios), 'com', Episodios[max(Episodios)], 'episodios'\n"
   ]
  },
  {
   "cell_type": "code",
   "execution_count": 0,
   "metadata": {
    "collapsed": false
   },
   "outputs": [
   ],
   "source": [
   ]
  }
 ],
 "metadata": {
  "kernelspec": {
   "display_name": "Python 2 (SageMath)",
   "language": "python",
   "name": "python2"
  },
  "language_info": {
   "codemirror_mode": {
    "name": "ipython",
    "version": 2
   },
   "file_extension": ".py",
   "mimetype": "text/x-python",
   "name": "python",
   "nbconvert_exporter": "python",
   "pygments_lexer": "ipython2",
   "version": "2.7.13"
  }
 },
 "nbformat": 4,
 "nbformat_minor": 0
}