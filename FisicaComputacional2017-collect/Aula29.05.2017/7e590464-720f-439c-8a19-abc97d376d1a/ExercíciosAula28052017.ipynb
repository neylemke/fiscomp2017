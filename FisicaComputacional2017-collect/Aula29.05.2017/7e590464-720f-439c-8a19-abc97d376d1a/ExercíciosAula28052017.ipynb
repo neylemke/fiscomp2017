{
 "cells": [
  {
   "cell_type": "markdown",
   "metadata": {
    "collapsed": false
   },
   "source": [
    "### Exercício1\n",
    "- A “classificação” de uma palavra é a sua posição em uma lista de palavras classificadas por frequência: a palavra mais comum tem a classificação 1, a segunda mais comum é 2 etc.\n",
    "- A lei de Zipf descreve a relação entre classificações e frequências das palavras em linguagens naturais (http://en.wikipedia.org/wiki/Zipf’s_law). Ela prevê especificamente que a frequência, $f$, da palavra com classificação $ r $ é:\n",
    "\n",
    "  $$ f = cr−s $$ \n",
    "- onde s e c são parâmetros que dependem do idioma e do texto. Se você tomar o logaritmo de ambos os lados desta equação, obtemos:\n",
    "\n",
    "  $$\\log f = \\log c − s\\log r$$\n",
    "  \n",
    "- Se você traçar o log de f contra o log de r, terá uma linha reta com uma elevação -s e interceptar o log de c.\n",
    "\n",
    "\n",
    "**- Escreva um programa que leia um texto em um arquivo, conte as frequências das palavras e exiba uma linha para cada palavra, em ordem descendente da frequência, com log de f e log de r. Use o programa gráfico de sua escolha para traçar os resultados e verifique se formam uma linha reta. Você pode estimar o valor de s?**\n"
   ]
  },
  {
   "cell_type": "code",
   "execution_count": 27,
   "metadata": {
    "collapsed": false
   },
   "outputs": [
    {
     "data": {
      "text/plain": [
       "[<matplotlib.lines.Line2D at 0x7f5f7146d290>]"
      ]
     },
     "execution_count": 27,
     "metadata": {
     },
     "output_type": "execute_result"
    },
    {
     "data": {
      "image/png": "[encoded data removed]"
     }
    }
   ],
   "source": [
    "import numpy as np\n",
    "import matplotlib.pyplot as plt\n",
    "\n",
    "fobj = open(\"NikolaTesla.txt\", \"r\")\n",
    "dict = {}\n",
    "\n",
    "for i in fobj.readlines():\n",
    "    for word in i.split():\n",
    "        if word in dict:\n",
    "            dict[word] = dict[word]+1\n",
    "        else:\n",
    "            dict[word] = 1\n",
    "\n",
    "oc = dict.values()\n",
    "oc.sort()\n",
    "X=np.array(range(len(oc)))+1\n",
    "Y=np.array(oc)\n",
    "logx = np.log(X)\n",
    "logy = np.log(Y)\n",
    "fig=plt.figure(figsize=(10,10))\n",
    "ax = fig.gca()\n",
    "x = plt.gca()\n",
    "ax.set_title(\"Frequencia de palavras da Historia de Nikola Tesla\")\n",
    "ax.set_xlabel(\"Ranking\")\n",
    "ax.set_ylabel(\"Frequencia\")\n",
    "plt.plot(logx, logy)\n"
   ]
  },
  {
   "cell_type": "markdown",
   "metadata": {
    "collapsed": false
   },
   "source": [
    "### Exercício 2\n",
    "###### Agora que você já viu como criar alguns plots  simples, é sua vez de realizar uma visualização. Crie o seguinte gráfico de dispersão:\n",
    "\n",
    "- Traçar o tamanho do motor contra o preço.\n",
    "- Defina o tamanho da figura como 8 x 8.\n",
    "- Forneça um título significativo, rótulo do eixo x e rótulo do eixo y."
   ]
  },
  {
   "cell_type": "code",
   "execution_count": 37,
   "metadata": {
    "collapsed": false
   },
   "outputs": [
    {
     "data": {
      "text/plain": [
       "<matplotlib.text.Text at 0x7f5f6e2d90d0>"
      ]
     },
     "execution_count": 37,
     "metadata": {
     },
     "output_type": "execute_result"
    },
    {
     "data": {
      "image/png": "[encoded data removed]"
     },
     "execution_count": 37,
     "metadata": {
     },
     "output_type": "execute_result"
    }
   ],
   "source": [
    "def read_auto_data(fileName = \"Automobile price data.csv\"):\n",
    "    'Function to load the auto price data set from a .csv file' \n",
    "    import pandas as pd\n",
    "    import numpy as np\n",
    "\n",
    "    auto_prices = pd.read_csv(fileName)\n",
    "    \n",
    "    cols = ['price', 'bore', 'stroke', \n",
    "          'horsepower', 'peak-rpm']\n",
    "    for column in cols:\n",
    "        auto_prices.loc[auto_prices[column] == '?', column] = np.nan\n",
    "    auto_prices.dropna(axis = 0, inplace = True)\n",
    "\n",
    "    for column in cols:\n",
    "        auto_prices[column] = pd.to_numeric(auto_prices[column])\n",
    "        \n",
    "    return auto_prices\n",
    "auto_prices = read_auto_data()\n",
    "\n",
    "import matplotlib.pyplot as plt\n",
    "fig = plt.figure(figsize=(8, 8))\n",
    "ax = fig.gca()\n",
    "auto_prices.plot(kind = 'scatter', x = 'engine-size', y = 'price', ax = ax)\n",
    "ax.set_title('Scatter plot de preco vs tamanho do motor')\n",
    "ax.set_xlabel('Tamanho do motor')\n",
    "ax.set_ylabel('Preco')\n"
   ]
  },
  {
   "cell_type": "markdown",
   "metadata": {
    "collapsed": false
   },
   "source": [
    "### Exercício 3\n",
    "- Faça um gráfico de Barras com os dados contidos no DataFrame do exercício dos epsódios do Pokemon. Represente o número de episódios para cada Temporada. Neste exercicio o gráfico deve conter legenda, titulo, nome dos eixos e cada barra deve conter uma cor diferente."
   ]
  },
  {
   "cell_type": "code",
   "execution_count": 0,
   "metadata": {
    "collapsed": false
   },
   "outputs": [
   ],
   "source": [
   ]
  }
 ],
 "metadata": {
  "kernelspec": {
   "display_name": "Python 2 (SageMath)",
   "language": "python",
   "name": "python2"
  },
  "language_info": {
   "codemirror_mode": {
    "name": "ipython",
    "version": 2
   },
   "file_extension": ".py",
   "mimetype": "text/x-python",
   "name": "python",
   "nbconvert_exporter": "python",
   "pygments_lexer": "ipython2",
   "version": "2.7.13"
  }
 },
 "nbformat": 4,
 "nbformat_minor": 0
}