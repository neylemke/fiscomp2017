{
 "cells": [
  {
   "cell_type": "markdown",
   "metadata": {
    "collapsed": false
   },
   "source": [
    "### Exercício1\n",
    "- A “classificação” de uma palavra é a sua posição em uma lista de palavras classificadas por frequência: a palavra mais comum tem a classificação 1, a segunda mais comum é 2 etc.\n",
    "- A lei de Zipf descreve a relação entre classificações e frequências das palavras em linguagens naturais (http://en.wikipedia.org/wiki/Zipf’s_law). Ela prevê especificamente que a frequência, $f$, da palavra com classificação $ r $ é:\n",
    "\n",
    "  $$ f = cr−s $$ \n",
    "- onde s e c são parâmetros que dependem do idioma e do texto. Se você tomar o logaritmo de ambos os lados desta equação, obtemos:\n",
    "\n",
    "  $$\\log f = \\log c − s\\log r$$\n",
    "  \n",
    "- Se você traçar o log de f contra o log de r, terá uma linha reta com uma elevação -s e interceptar o log de c.\n",
    "\n",
    "\n",
    "**- Escreva um programa que leia um texto em um arquivo, conte as frequências das palavras e exiba uma linha para cada palavra, em ordem descendente da frequência, com log de f e log de r. Use o programa gráfico de sua escolha para traçar os resultados e verifique se formam uma linha reta. Você pode estimar o valor de s?**"
   ]
  },
  {
   "cell_type": "code",
   "execution_count": 1,
   "metadata": {
    "collapsed": false
   },
   "outputs": [
   ],
   "source": [
    "import sys\n",
    "reload(sys)\n",
    "sys.setdefaultencoding(\"utf-8\")\n",
    "import matplotlib.pyplot as plt"
   ]
  },
  {
   "cell_type": "code",
   "execution_count": 2,
   "metadata": {
    "collapsed": false
   },
   "outputs": [
    {
     "ename": "IOError",
     "evalue": "[Errno 2] No such file or directory: 'os-lus\\xc3\\xadadas.txt'",
     "output_type": "error",
     "traceback": [
      "\u001b[0;31m\u001b[0m",
      "\u001b[0;31mIOError\u001b[0mTraceback (most recent call last)",
      "\u001b[0;32m<ipython-input-2-2b7f4e4c8804>\u001b[0m in \u001b[0;36m<module>\u001b[0;34m()\u001b[0m\n\u001b[0;32m----> 1\u001b[0;31m \u001b[0mfile\u001b[0m\u001b[0;34m=\u001b[0m\u001b[0mopen\u001b[0m\u001b[0;34m(\u001b[0m\u001b[0;34m'os-lusíadas.txt'\u001b[0m\u001b[0;34m,\u001b[0m\u001b[0;34m'r'\u001b[0m\u001b[0;34m)\u001b[0m\u001b[0;34m\u001b[0m\u001b[0m\n\u001b[0m",
      "\u001b[0;31mIOError\u001b[0m: [Errno 2] No such file or directory: 'os-lus\\xc3\\xadadas.txt'"
     ]
    }
   ],
   "source": [
    "file=open('os-lusíadas.txt','r')"
   ]
  },
  {
   "cell_type": "code",
   "execution_count": 3,
   "metadata": {
    "collapsed": false
   },
   "outputs": [
    {
     "ename": "TypeError",
     "evalue": "descriptor 'readlines' of 'file' object needs an argument",
     "output_type": "error",
     "traceback": [
      "\u001b[0;31m\u001b[0m",
      "\u001b[0;31mTypeError\u001b[0mTraceback (most recent call last)",
      "\u001b[0;32m<ipython-input-3-78a6de2e9a6f>\u001b[0m in \u001b[0;36m<module>\u001b[0;34m()\u001b[0m\n\u001b[0;32m----> 1\u001b[0;31m \u001b[0mtexto\u001b[0m\u001b[0;34m=\u001b[0m \u001b[0mfile\u001b[0m\u001b[0;34m.\u001b[0m\u001b[0mreadlines\u001b[0m\u001b[0;34m(\u001b[0m\u001b[0;34m)\u001b[0m\u001b[0;34m\u001b[0m\u001b[0m\n\u001b[0m",
      "\u001b[0;31mTypeError\u001b[0m: descriptor 'readlines' of 'file' object needs an argument"
     ]
    }
   ],
   "source": [
    "texto= file.readlines()"
   ]
  },
  {
   "cell_type": "code",
   "execution_count": 4,
   "metadata": {
    "collapsed": false
   },
   "outputs": [
    {
     "ename": "NameError",
     "evalue": "name 'texto' is not defined",
     "output_type": "error",
     "traceback": [
      "\u001b[0;31m\u001b[0m",
      "\u001b[0;31mNameError\u001b[0mTraceback (most recent call last)",
      "\u001b[0;32m<ipython-input-4-ec9f42a05d50>\u001b[0m in \u001b[0;36m<module>\u001b[0;34m()\u001b[0m\n\u001b[1;32m      1\u001b[0m \u001b[0mdict\u001b[0m\u001b[0;34m=\u001b[0m\u001b[0;34m{\u001b[0m\u001b[0;34m}\u001b[0m\u001b[0;34m\u001b[0m\u001b[0m\n\u001b[0;32m----> 2\u001b[0;31m \u001b[0;32mfor\u001b[0m \u001b[0mline\u001b[0m \u001b[0;32min\u001b[0m \u001b[0mtexto\u001b[0m\u001b[0;34m:\u001b[0m\u001b[0;34m\u001b[0m\u001b[0m\n\u001b[0m\u001b[1;32m      3\u001b[0m     \u001b[0;32mfor\u001b[0m \u001b[0mword\u001b[0m \u001b[0;32min\u001b[0m \u001b[0mline\u001b[0m\u001b[0;34m.\u001b[0m\u001b[0msplit\u001b[0m\u001b[0;34m(\u001b[0m\u001b[0;34m)\u001b[0m\u001b[0;34m:\u001b[0m\u001b[0;34m\u001b[0m\u001b[0m\n\u001b[1;32m      4\u001b[0m         \u001b[0;32mif\u001b[0m \u001b[0mword\u001b[0m \u001b[0;32min\u001b[0m \u001b[0mdict\u001b[0m\u001b[0;34m:\u001b[0m\u001b[0;34m\u001b[0m\u001b[0m\n\u001b[1;32m      5\u001b[0m             \u001b[0mdict\u001b[0m\u001b[0;34m[\u001b[0m\u001b[0mword\u001b[0m\u001b[0;34m]\u001b[0m\u001b[0;34m=\u001b[0m\u001b[0mdict\u001b[0m\u001b[0;34m[\u001b[0m\u001b[0mword\u001b[0m\u001b[0;34m]\u001b[0m\u001b[0;34m+\u001b[0m\u001b[0;36m1\u001b[0m\u001b[0;34m\u001b[0m\u001b[0m\n",
      "\u001b[0;31mNameError\u001b[0m: name 'texto' is not defined"
     ]
    }
   ],
   "source": [
    "dict={}\n",
    "for line in texto:\n",
    "    for word in line.split():\n",
    "        if word in dict:\n",
    "            dict[word]=dict[word]+1\n",
    "        else:\n",
    "            dict[word]=1"
   ]
  },
  {
   "cell_type": "code",
   "execution_count": 5,
   "metadata": {
    "collapsed": false
   },
   "outputs": [
    {
     "data": {
      "text/plain": [
       "{}"
      ]
     },
     "execution_count": 5,
     "metadata": {
     },
     "output_type": "execute_result"
    }
   ],
   "source": [
    "dict"
   ]
  },
  {
   "cell_type": "code",
   "execution_count": 6,
   "metadata": {
    "collapsed": false
   },
   "outputs": [
   ],
   "source": [
    "import numpy as np\n",
    "oco=dict.values()\n",
    "oco.sort()\n",
    "X= np.array(range(len(oco)))+1\n",
    "Y=np.array(oco)"
   ]
  },
  {
   "cell_type": "code",
   "execution_count": 7,
   "metadata": {
    "collapsed": false
   },
   "outputs": [
    {
     "data": {
      "text/plain": [
       "<matplotlib.text.Text at 0x7ff295986c50>"
      ]
     },
     "execution_count": 7,
     "metadata": {
     },
     "output_type": "execute_result"
    },
    {
     "data": {
      "image/png": "[encoded data removed]"
     },
     "execution_count": 7,
     "metadata": {
     },
     "output_type": "execute_result"
    }
   ],
   "source": [
    "\n",
    "fig = plt.figure(figsize=(10,10)) # define plot area\n",
    "ax = fig.gca() # define axis    \n",
    "x=fig.gca() \n",
    "plt.plot(oco)\n",
    "ax.set_title('Frequência de palavras das Lusíadas')\n",
    "ax.set_xlabel('rank') #Eixo X\n",
    "ax.set_ylabel('Freq') #Eixo Y"
   ]
  },
  {
   "cell_type": "code",
   "execution_count": 8,
   "metadata": {
    "collapsed": false
   },
   "outputs": [
    {
     "data": {
      "text/plain": [
       "<matplotlib.text.Text at 0x7ff293532a90>"
      ]
     },
     "execution_count": 8,
     "metadata": {
     },
     "output_type": "execute_result"
    },
    {
     "data": {
      "image/png": "[encoded data removed]"
     },
     "execution_count": 8,
     "metadata": {
     },
     "output_type": "execute_result"
    }
   ],
   "source": [
    "logx=np.log(X)\n",
    "logy=np.log(Y)\n",
    "fig=plt.figure(figsize=(10,10))\n",
    "ax=fig.gca()\n",
    "x=fig.gca()\n",
    "plt.plot(logx,logy)\n",
    "ax.set_title('Frequencia de Palavras das Lusiadas')\n",
    "ax.set_xlabel('rank')\n",
    "ax.set_ylabel('Freq')"
   ]
  },
  {
   "cell_type": "markdown",
   "metadata": {
    "collapsed": false
   },
   "source": [
    "### Exercício 2\n",
    "###### Agora que você já viu como criar alguns plots  simples, é sua vez de realizar uma visualização. Crie o seguinte gráfico de dispersão:\n",
    "\n",
    "- Traçar o tamanho do motor contra o preço.\n",
    "- Defina o tamanho da figura como 8 x 8.\n",
    "- Forneça um título significativo, rótulo do eixo x e rótulo do eixo y."
   ]
  },
  {
   "cell_type": "code",
   "execution_count": 9,
   "metadata": {
    "collapsed": false
   },
   "outputs": [
   ],
   "source": [
    "def read_auto_data(fileName = \"Automobile price data.csv\"):\n",
    "    'Function to load the auto price data set from a .csv file' \n",
    "    import pandas as pd\n",
    "    import numpy as np\n",
    "\n",
    "    ## Read the .csv file with the pandas read_csv method\n",
    "    auto_prices = pd.read_csv(fileName)\n",
    "    \n",
    "    ## Remove rows with missing values, accounting for mising values coded as '?'\n",
    "    cols = ['price', 'bore', 'stroke', \n",
    "          'horsepower', 'peak-rpm']\n",
    "    for column in cols:\n",
    "        auto_prices.loc[auto_prices[column] == '?', column] = np.nan\n",
    "    auto_prices.dropna(axis = 0, inplace = True)\n",
    "\n",
    "    ## Convert some columns to numeric values\n",
    "    for column in cols:\n",
    "        auto_prices[column] = pd.to_numeric(auto_prices[column])\n",
    "#    auto_prices[cols] = auto_prices[cols].as_type(int64)\n",
    "        \n",
    "    return auto_prices\n",
    "auto_prices = read_auto_data()"
   ]
  },
  {
   "cell_type": "code",
   "execution_count": 10,
   "metadata": {
    "collapsed": false
   },
   "outputs": [
    {
     "data": {
      "text/plain": [
       "<matplotlib.text.Text at 0x7ff28fb9bcd0>"
      ]
     },
     "execution_count": 10,
     "metadata": {
     },
     "output_type": "execute_result"
    },
    {
     "data": {
      "image/png": "[encoded data removed]"
     },
     "execution_count": 10,
     "metadata": {
     },
     "output_type": "execute_result"
    }
   ],
   "source": [
    "import matplotlib.pyplot as plt\n",
    "fig = plt.figure(figsize=(8, 8)) # define plot area\n",
    "ax = fig.gca() # define axis                   \n",
    "auto_prices.plot(kind = 'scatter', x = 'engine-size', y = 'price', ax = ax)\n",
    "ax.set_title('Scatter plot de preço vs tamanho do motor') # Give the plot a main title\n",
    "ax.set_xlabel('Tamanho do motor') # Set text for the x axis\n",
    "ax.set_ylabel('Preço(US$)')# Set text for y axis"
   ]
  },
  {
   "cell_type": "markdown",
   "metadata": {
    "collapsed": false
   },
   "source": [
    "### Exercício 3\n",
    "- Faça um gráfico de Barras com os dados contidos no DataFrame do exercício dos epsódios do Pokemon. Represente o número de episódios para cada Temporada. Neste exercicio o gráfico deve conter legenda, titulo, nome dos eixos e cada barra deve conter uma cor diferente."
   ]
  },
  {
   "cell_type": "code",
   "execution_count": 11,
   "metadata": {
    "collapsed": false
   },
   "outputs": [
   ],
   "source": [
    "import pandas as pd\n",
    "\n",
    "#DataFrame\n",
    "data={\n",
    "'Série': ['Série Original','Série Original','Série Original','Série Original','Série Original','Geração Avançada','Geração Avançada',\n",
    "        'Geração Avançada','Geração Avançada','Diamante e Pérola','Diamante e Pérola','Diamante e Pérola',\n",
    "        'Diamante e Pérola','Preto e Branco','Preto e Branco','Preto e Branco','XY','XY','XY','Sun and Moon'],\n",
    "'Geração': ['Primeira','Primeira','Segunda','Segunda','Segunda','Terceira','Terceira','Terceira','Terceira',\n",
    "            'Quarta','Quarta','Quarta','Quarta','Quinta','Quinta','Quinta','Sexta','Sexta','Sexta','Sétima'],\n",
    "'Temporada': ['Liga Indigo', 'As Aventuras nas Ilhas Laranja','A Jornada Johto','Campeões da Liga Johto','Master Quest','Pokémon: Avançado',\n",
    "      'Desafio Avançado','Batalha Avançada','Batalha da Fronteira','Diamante e Pérola','Batalha Dimensional','Batalhas Galácticas',\n",
    "     'Vencedores da Liga Sinnoh','Preto e Branco','Destinos Rivais', 'Aventuras em Unova (e Mais Além)','A Série XY','Kalos Quest','XY & Z',\n",
    "      'Sun and Moon'],\n",
    "'Primeiro Episódio': [1,84,119,160,212,277,317,369,422, 469,521,573,626,660,708,757,804,853,898,947] ,\n",
    "'Último Episódio': [83,118,159,211,276,316,368,421,468,520,572,625,659,707,756,803,852,897,946,'Não tem'],\n",
    "\n",
    "'Região': ['Kanto','Ilhas Laranja','Johto','Johto','Johto','Hoenn','Hoenn','Hoenn','Kanto','Sinnoh','Sinnoh','Sinnoh','Sinnoh','Unova','Unova',\n",
    "           'Unova','Kalos','Kalos','Kalos','Alola']}\n",
    "\n",
    "df = pd.DataFrame(data, columns=['Série','Geração','Temporada','Primeiro Episódio','Último Episódio','Região'])"
   ]
  },
  {
   "cell_type": "code",
   "execution_count": 12,
   "metadata": {
    "collapsed": false
   },
   "outputs": [
    {
     "data": {
      "text/html": [
       "<div>\n",
       "<table border=\"1\" class=\"dataframe\">\n",
       "  <thead>\n",
       "    <tr style=\"text-align: right;\">\n",
       "      <th></th>\n",
       "      <th>Série</th>\n",
       "      <th>Geração</th>\n",
       "      <th>Temporada</th>\n",
       "      <th>Primeiro Episódio</th>\n",
       "      <th>Último Episódio</th>\n",
       "      <th>Região</th>\n",
       "    </tr>\n",
       "  </thead>\n",
       "  <tbody>\n",
       "    <tr>\n",
       "      <th>0</th>\n",
       "      <td>Série Original</td>\n",
       "      <td>Primeira</td>\n",
       "      <td>Liga Indigo</td>\n",
       "      <td>1</td>\n",
       "      <td>83</td>\n",
       "      <td>Kanto</td>\n",
       "    </tr>\n",
       "    <tr>\n",
       "      <th>1</th>\n",
       "      <td>Série Original</td>\n",
       "      <td>Primeira</td>\n",
       "      <td>As Aventuras nas Ilhas Laranja</td>\n",
       "      <td>84</td>\n",
       "      <td>118</td>\n",
       "      <td>Ilhas Laranja</td>\n",
       "    </tr>\n",
       "    <tr>\n",
       "      <th>2</th>\n",
       "      <td>Série Original</td>\n",
       "      <td>Segunda</td>\n",
       "      <td>A Jornada Johto</td>\n",
       "      <td>119</td>\n",
       "      <td>159</td>\n",
       "      <td>Johto</td>\n",
       "    </tr>\n",
       "    <tr>\n",
       "      <th>3</th>\n",
       "      <td>Série Original</td>\n",
       "      <td>Segunda</td>\n",
       "      <td>Campeões da Liga Johto</td>\n",
       "      <td>160</td>\n",
       "      <td>211</td>\n",
       "      <td>Johto</td>\n",
       "    </tr>\n",
       "    <tr>\n",
       "      <th>4</th>\n",
       "      <td>Série Original</td>\n",
       "      <td>Segunda</td>\n",
       "      <td>Master Quest</td>\n",
       "      <td>212</td>\n",
       "      <td>276</td>\n",
       "      <td>Johto</td>\n",
       "    </tr>\n",
       "    <tr>\n",
       "      <th>5</th>\n",
       "      <td>Geração Avançada</td>\n",
       "      <td>Terceira</td>\n",
       "      <td>Pokémon: Avançado</td>\n",
       "      <td>277</td>\n",
       "      <td>316</td>\n",
       "      <td>Hoenn</td>\n",
       "    </tr>\n",
       "    <tr>\n",
       "      <th>6</th>\n",
       "      <td>Geração Avançada</td>\n",
       "      <td>Terceira</td>\n",
       "      <td>Desafio Avançado</td>\n",
       "      <td>317</td>\n",
       "      <td>368</td>\n",
       "      <td>Hoenn</td>\n",
       "    </tr>\n",
       "    <tr>\n",
       "      <th>7</th>\n",
       "      <td>Geração Avançada</td>\n",
       "      <td>Terceira</td>\n",
       "      <td>Batalha Avançada</td>\n",
       "      <td>369</td>\n",
       "      <td>421</td>\n",
       "      <td>Hoenn</td>\n",
       "    </tr>\n",
       "    <tr>\n",
       "      <th>8</th>\n",
       "      <td>Geração Avançada</td>\n",
       "      <td>Terceira</td>\n",
       "      <td>Batalha da Fronteira</td>\n",
       "      <td>422</td>\n",
       "      <td>468</td>\n",
       "      <td>Kanto</td>\n",
       "    </tr>\n",
       "    <tr>\n",
       "      <th>9</th>\n",
       "      <td>Diamante e Pérola</td>\n",
       "      <td>Quarta</td>\n",
       "      <td>Diamante e Pérola</td>\n",
       "      <td>469</td>\n",
       "      <td>520</td>\n",
       "      <td>Sinnoh</td>\n",
       "    </tr>\n",
       "    <tr>\n",
       "      <th>10</th>\n",
       "      <td>Diamante e Pérola</td>\n",
       "      <td>Quarta</td>\n",
       "      <td>Batalha Dimensional</td>\n",
       "      <td>521</td>\n",
       "      <td>572</td>\n",
       "      <td>Sinnoh</td>\n",
       "    </tr>\n",
       "    <tr>\n",
       "      <th>11</th>\n",
       "      <td>Diamante e Pérola</td>\n",
       "      <td>Quarta</td>\n",
       "      <td>Batalhas Galácticas</td>\n",
       "      <td>573</td>\n",
       "      <td>625</td>\n",
       "      <td>Sinnoh</td>\n",
       "    </tr>\n",
       "    <tr>\n",
       "      <th>12</th>\n",
       "      <td>Diamante e Pérola</td>\n",
       "      <td>Quarta</td>\n",
       "      <td>Vencedores da Liga Sinnoh</td>\n",
       "      <td>626</td>\n",
       "      <td>659</td>\n",
       "      <td>Sinnoh</td>\n",
       "    </tr>\n",
       "    <tr>\n",
       "      <th>13</th>\n",
       "      <td>Preto e Branco</td>\n",
       "      <td>Quinta</td>\n",
       "      <td>Preto e Branco</td>\n",
       "      <td>660</td>\n",
       "      <td>707</td>\n",
       "      <td>Unova</td>\n",
       "    </tr>\n",
       "    <tr>\n",
       "      <th>14</th>\n",
       "      <td>Preto e Branco</td>\n",
       "      <td>Quinta</td>\n",
       "      <td>Destinos Rivais</td>\n",
       "      <td>708</td>\n",
       "      <td>756</td>\n",
       "      <td>Unova</td>\n",
       "    </tr>\n",
       "    <tr>\n",
       "      <th>15</th>\n",
       "      <td>Preto e Branco</td>\n",
       "      <td>Quinta</td>\n",
       "      <td>Aventuras em Unova (e Mais Além)</td>\n",
       "      <td>757</td>\n",
       "      <td>803</td>\n",
       "      <td>Unova</td>\n",
       "    </tr>\n",
       "    <tr>\n",
       "      <th>16</th>\n",
       "      <td>XY</td>\n",
       "      <td>Sexta</td>\n",
       "      <td>A Série XY</td>\n",
       "      <td>804</td>\n",
       "      <td>852</td>\n",
       "      <td>Kalos</td>\n",
       "    </tr>\n",
       "    <tr>\n",
       "      <th>17</th>\n",
       "      <td>XY</td>\n",
       "      <td>Sexta</td>\n",
       "      <td>Kalos Quest</td>\n",
       "      <td>853</td>\n",
       "      <td>897</td>\n",
       "      <td>Kalos</td>\n",
       "    </tr>\n",
       "    <tr>\n",
       "      <th>18</th>\n",
       "      <td>XY</td>\n",
       "      <td>Sexta</td>\n",
       "      <td>XY &amp; Z</td>\n",
       "      <td>898</td>\n",
       "      <td>946</td>\n",
       "      <td>Kalos</td>\n",
       "    </tr>\n",
       "    <tr>\n",
       "      <th>19</th>\n",
       "      <td>Sun and Moon</td>\n",
       "      <td>Sétima</td>\n",
       "      <td>Sun and Moon</td>\n",
       "      <td>947</td>\n",
       "      <td>Não tem</td>\n",
       "      <td>Alola</td>\n",
       "    </tr>\n",
       "  </tbody>\n",
       "</table>\n",
       "</div>"
      ]
     },
     "execution_count": 12,
     "metadata": {
     },
     "output_type": "execute_result"
    }
   ],
   "source": [
    "df"
   ]
  },
  {
   "cell_type": "code",
   "execution_count": 13,
   "metadata": {
    "collapsed": false
   },
   "outputs": [
    {
     "data": {
      "text/plain": [
       "0     83\n",
       "1     35\n",
       "2     41\n",
       "3     52\n",
       "4     65\n",
       "5     40\n",
       "6     52\n",
       "7     53\n",
       "8     47\n",
       "9     52\n",
       "10    52\n",
       "11    53\n",
       "12    34\n",
       "13    48\n",
       "14    49\n",
       "15    47\n",
       "16    49\n",
       "17    45\n",
       "18    49\n",
       "dtype: object"
      ]
     },
     "execution_count": 13,
     "metadata": {
     },
     "output_type": "execute_result"
    }
   ],
   "source": [
    "(df['Último Episódio'][:-1]-df['Primeiro Episódio'][:-1])+1"
   ]
  },
  {
   "cell_type": "code",
   "execution_count": 14,
   "metadata": {
    "collapsed": false
   },
   "outputs": [
   ],
   "source": [
    "prim=0\n",
    "seg=0\n",
    "ter=0\n",
    "qua=0\n",
    "qui=0\n",
    "sex=0\n",
    "\n",
    "for i in range(19):\n",
    "    if df.ix[i]['Geração']== 'Primeira':\n",
    "        prim= prim+df['Último Episódio'][i]-df['Primeiro Episódio'][i]+1\n",
    "    if df.ix[i]['Geração']== 'Segunda':\n",
    "        seg= seg+df['Último Episódio'][i]-df['Primeiro Episódio'][i]+1\n",
    "    if df.ix[i]['Geração']== 'Terceira':\n",
    "        ter= ter+df['Último Episódio'][i]-df['Primeiro Episódio'][i]+1\n",
    "    if df.ix[i]['Geração']== 'Quarta':\n",
    "         qua= qua+df['Último Episódio'][i]-df['Primeiro Episódio'][i]+1\n",
    "    if df.ix[i]['Geração']== 'Quinta':\n",
    "         qui= qui+df['Último Episódio'][i]-df['Primeiro Episódio'][i]+1\n",
    "    if df.ix[i]['Geração']== 'Sexta':\n",
    "         sex= sex+df['Último Episódio'][i]-df['Primeiro Episódio'][i]+1\n",
    "epis=[prim,seg,ter,qua,qui,sex]\n",
    "temps={'Primeira':prim,'Segunda':seg,'Terceira':ter,'Quarta':qua,'Quinta':qui,'Sexta':sex}\n",
    "gerlongeva= max(temps)\n",
    "\n",
    "for elem in epis:\n",
    "    #print elem\n",
    "    if elem==max(epis):\n",
    "        print 'A geração mais longeva é a', gerlongeva, 'com', elem, 'episódios' "
   ]
  },
  {
   "cell_type": "code",
   "execution_count": 15,
   "metadata": {
    "collapsed": false
   },
   "outputs": [
   ],
   "source": [
    "epitempsordem=portemp= pd.DataFrame(epis, index= ('Primeira','Segunda','Terceira','Quarta','Quinta','Sexta'), columns=['Epi por temp'])"
   ]
  },
  {
   "cell_type": "code",
   "execution_count": 16,
   "metadata": {
    "collapsed": false
   },
   "outputs": [
    {
     "ename": "NameError",
     "evalue": "name 'epiportemp' is not defined",
     "output_type": "error",
     "traceback": [
      "\u001b[0;31m\u001b[0m",
      "\u001b[0;31mNameError\u001b[0mTraceback (most recent call last)",
      "\u001b[0;32m<ipython-input-16-2967805d57ac>\u001b[0m in \u001b[0;36m<module>\u001b[0;34m()\u001b[0m\n\u001b[0;32m----> 1\u001b[0;31m \u001b[0mepiportemp\u001b[0m\u001b[0;34m\u001b[0m\u001b[0m\n\u001b[0m",
      "\u001b[0;31mNameError\u001b[0m: name 'epiportemp' is not defined"
     ]
    }
   ],
   "source": [
    "epiportemp"
   ]
  },
  {
   "cell_type": "code",
   "execution_count": 17,
   "metadata": {
    "collapsed": false
   },
   "outputs": [
   ],
   "source": [
    "df['Epis por temp']=pd.DataFrame(epis)"
   ]
  },
  {
   "cell_type": "code",
   "execution_count": 18,
   "metadata": {
    "collapsed": false
   },
   "outputs": [
    {
     "ename": "NameError",
     "evalue": "name 'epiportemp' is not defined",
     "output_type": "error",
     "traceback": [
      "\u001b[0;31m\u001b[0m",
      "\u001b[0;31mNameError\u001b[0mTraceback (most recent call last)",
      "\u001b[0;32m<ipython-input-18-c043dcad9a70>\u001b[0m in \u001b[0;36m<module>\u001b[0;34m()\u001b[0m\n\u001b[1;32m      3\u001b[0m \u001b[0max\u001b[0m \u001b[0;34m=\u001b[0m \u001b[0mfig\u001b[0m\u001b[0;34m.\u001b[0m\u001b[0mgca\u001b[0m\u001b[0;34m(\u001b[0m\u001b[0;34m)\u001b[0m \u001b[0;31m# define axis\u001b[0m\u001b[0;34m\u001b[0m\u001b[0m\n\u001b[1;32m      4\u001b[0m \u001b[0mcolor\u001b[0m\u001b[0;34m=\u001b[0m \u001b[0;34m[\u001b[0m\u001b[0;34m'red'\u001b[0m\u001b[0;34m,\u001b[0m \u001b[0;34m'blue'\u001b[0m\u001b[0;34m,\u001b[0m \u001b[0;34m'green'\u001b[0m\u001b[0;34m,\u001b[0m \u001b[0;34m'yellow'\u001b[0m\u001b[0;34m,\u001b[0m \u001b[0;34m'black'\u001b[0m\u001b[0;34m,\u001b[0m \u001b[0;34m'pink'\u001b[0m\u001b[0;34m]\u001b[0m\u001b[0;34m\u001b[0m\u001b[0m\n\u001b[0;32m----> 5\u001b[0;31m \u001b[0mepiportemp\u001b[0m\u001b[0;34m.\u001b[0m\u001b[0mplot\u001b[0m\u001b[0;34m.\u001b[0m\u001b[0mbar\u001b[0m\u001b[0;34m(\u001b[0m\u001b[0max\u001b[0m \u001b[0;34m=\u001b[0m \u001b[0max\u001b[0m\u001b[0;34m,\u001b[0m \u001b[0mcolor\u001b[0m\u001b[0;34m=\u001b[0m\u001b[0mcolor\u001b[0m\u001b[0;34m)\u001b[0m \u001b[0;31m# Use the plot.bar method on the counts data frame\u001b[0m\u001b[0;34m\u001b[0m\u001b[0m\n\u001b[0m\u001b[1;32m      6\u001b[0m \u001b[0max\u001b[0m\u001b[0;34m.\u001b[0m\u001b[0mset_title\u001b[0m\u001b[0;34m(\u001b[0m\u001b[0;34m'Numero de episodios por temporada'\u001b[0m\u001b[0;34m)\u001b[0m \u001b[0;31m# Give the plot a main title\u001b[0m\u001b[0;34m\u001b[0m\u001b[0m\n\u001b[1;32m      7\u001b[0m \u001b[0max\u001b[0m\u001b[0;34m.\u001b[0m\u001b[0mset_xlabel\u001b[0m\u001b[0;34m(\u001b[0m\u001b[0;34m'Episodios'\u001b[0m\u001b[0;34m)\u001b[0m \u001b[0;31m# Set text for the x axis\u001b[0m\u001b[0;34m\u001b[0m\u001b[0m\n",
      "\u001b[0;31mNameError\u001b[0m: name 'epiportemp' is not defined"
     ]
    },
    {
     "data": {
      "image/png": "[encoded data removed]"
     },
     "execution_count": 18,
     "metadata": {
     },
     "output_type": "execute_result"
    }
   ],
   "source": [
    "import matplotlib.pyplot as plt\n",
    "fig = plt.figure(figsize=(10,10)) # define plot area\n",
    "ax = fig.gca() # define axis \n",
    "color= ['red', 'blue', 'green', 'yellow', 'black', 'pink']\n",
    "epiportemp.plot.bar(ax = ax, color=color) # Use the plot.bar method on the counts data frame\n",
    "ax.set_title('Numero de episodios por temporada') # Give the plot a main title\n",
    "ax.set_xlabel('Episodios') # Set text for the x axis\n",
    "ax.set_ylabel('Temporada')# Set text for y axis"
   ]
  }
 ],
 "metadata": {
  "kernelspec": {
   "display_name": "Python 2 (Ubuntu Linux)",
   "language": "python",
   "name": "python2-ubuntu"
  },
  "language_info": {
   "codemirror_mode": {
    "name": "ipython",
    "version": 2
   },
   "file_extension": ".py",
   "mimetype": "text/x-python",
   "name": "python",
   "nbconvert_exporter": "python",
   "pygments_lexer": "ipython2",
   "version": "2.7.10"
  }
 },
 "nbformat": 4,
 "nbformat_minor": 0
}