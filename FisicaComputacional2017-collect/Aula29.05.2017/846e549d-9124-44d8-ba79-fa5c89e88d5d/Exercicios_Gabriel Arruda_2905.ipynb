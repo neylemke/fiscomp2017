{
 "cells": [
  {
   "cell_type": "code",
   "execution_count": 7,
   "metadata": {
    "collapsed": false
   },
   "outputs": [
    {
     "name": "stderr",
     "output_type": "stream",
     "text": [
      "/projects/sage/sage-7.5/local/lib/python2.7/site-packages/ipykernel/__main__.py:18: RuntimeWarning: divide by zero encountered in log\n"
     ]
    },
    {
     "data": {
      "text/plain": [
       "[<matplotlib.lines.Line2D at 0x7fcda0c04c50>]"
      ]
     },
     "execution_count": 7,
     "metadata": {
     },
     "output_type": "execute_result"
    },
    {
     "data": {
      "image/png": "[encoded data removed]"
     }
    }
   ],
   "source": [
    "#exercicio1\n",
    "import numpy as np\n",
    "import matplotlib.pyplot as plt\n",
    "\n",
    "arquivo = open(\"servant.txt\", 'r')  # abre o arquivo para leitura\n",
    "dict={}\n",
    "\n",
    "for i in arquivo.readlines():\n",
    "    for word in i.split():\n",
    "        if word in dict:\n",
    "            dict[word] = dict[word]+1\n",
    "        else:\n",
    "            dict[word]=1\n",
    "ic=dict.values()\n",
    "ic.sort()\n",
    "X=np.array(range(len(ic)))\n",
    "Y=np.array(ic)\n",
    "logx = np.log(X)\n",
    "logy = np.log(Y)\n",
    "fig=plt.figure(figsize=(10,10))\n",
    "ax = fig.gca()\n",
    "x = fig.gca()\n",
    "ax.set_title('Frequencia de plavras de Servant of Satan')\n",
    "ax.set_xlabel('rank')\n",
    "ax.set_ylabel('Freq')\n",
    "plt.plot(logx,logy)"
   ]
  },
  {
   "cell_type": "code",
   "execution_count": 8,
   "metadata": {
    "collapsed": false
   },
   "outputs": [
    {
     "data": {
      "text/plain": [
       "<matplotlib.text.Text at 0x7fcda00e1310>"
      ]
     },
     "execution_count": 8,
     "metadata": {
     },
     "output_type": "execute_result"
    },
    {
     "data": {
      "image/png": "[encoded data removed]"
     }
    }
   ],
   "source": [
    "#exercicio2\n",
    "def read_auto_data(fileName = \"Automobile price data.csv\"):\n",
    "    'Function to load the auto price data set from a .csv file' \n",
    "    import pandas as pd\n",
    "    import numpy as np\n",
    "\n",
    "    ## Read the .csv file with the pandas read_csv method\n",
    "    auto_prices = pd.read_csv(fileName)\n",
    "    \n",
    "    ## Remove rows with missing values, accounting for mising values coded as '?'\n",
    "    cols = ['price', 'bore', 'stroke', \n",
    "          'horsepower', 'peak-rpm']\n",
    "    for column in cols:\n",
    "        auto_prices.loc[auto_prices[column] == '?', column] = np.nan\n",
    "    auto_prices.dropna(axis = 0, inplace = True)\n",
    "\n",
    "    ## Convert some columns to numeric values\n",
    "    for column in cols:\n",
    "        auto_prices[column] = pd.to_numeric(auto_prices[column])\n",
    "#    auto_prices[cols] = auto_prices[cols].as_type(int64)\n",
    "        \n",
    "    return auto_prices\n",
    "auto_prices = read_auto_data()\n",
    "import matplotlib.pyplot as plt\n",
    "fig = plt.figure(figsize=(8, 8)) # define plot area\n",
    "ax = fig.gca() # define axis                   \n",
    "auto_prices.plot(kind = 'scatter', x = 'city-mpg', y = 'price', ax = ax)\n",
    "ax.set_title('Scatter plot de preco vs consumo') # Give the plot a main title\n",
    "ax.set_xlabel('Consumo') # Set text for the x axis\n",
    "ax.set_ylabel('Preco')# Set text for y axis"
   ]
  },
  {
   "cell_type": "code",
   "execution_count": 0,
   "metadata": {
    "collapsed": false
   },
   "outputs": [
   ],
   "source": [
    "#exercicio3"
   ]
  }
 ],
 "metadata": {
  "kernelspec": {
   "display_name": "Python 2 (SageMath)",
   "language": "python",
   "name": "python2"
  },
  "language_info": {
   "codemirror_mode": {
    "name": "ipython",
    "version": 2
   },
   "file_extension": ".py",
   "mimetype": "text/x-python",
   "name": "python",
   "nbconvert_exporter": "python",
   "pygments_lexer": "ipython2",
   "version": "2.7.13"
  }
 },
 "nbformat": 4,
 "nbformat_minor": 0
}