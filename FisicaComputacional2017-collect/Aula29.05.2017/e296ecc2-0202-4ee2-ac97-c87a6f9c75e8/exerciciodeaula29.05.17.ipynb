{
 "cells": [
  {
   "cell_type": "markdown",
   "metadata": {
    "collapsed": false
   },
   "source": [
    "##exercicio1"
   ]
  },
  {
   "cell_type": "code",
   "execution_count": 0,
   "metadata": {
    "collapsed": false
   },
   "outputs": [
    {
     "name": "stderr",
     "output_type": "stream",
     "text": [
      "closed"
     ]
    }
   ],
   "source": [
    "import sys\n",
    "reload(sys)\n",
    "sys.setdefaultencoding(\"utf-8\")\n",
    "import numpy as np\n",
    "import matplotlib.pyplot as plt\n",
    "file=open(\"ulisses.txt\", \"r\")\n",
    "texto=file.readlines()\n",
    "dict={}\n",
    "for line in texto:\n",
    "    for word in line.split():\n",
    "        if word in dict:\n",
    "            dict[word]=dict[word]+1\n",
    "        else:\n",
    "            dict[word]=1\n",
    "oco=dict.values()\n",
    "oco.sort()\n",
    "X=np.array(range(len(oco)))+1\n",
    "Y=np.array(oco) \n",
    "fig = plt.figure(figsize=(10,10)) # define plot area\n",
    "ax = fig.gca() # define axis\n",
    "x=fig.gca()\n",
    "plt.plot(X,Y)\n",
    "ax.set_title('Frequencia das palavras do Dracula') # Give the plot a main title\n",
    "ax.set_xlabel('rank') # Set text for the x axis\n",
    "ax.set_ylabel('freq')# Set text for y axis\n",
    "\n",
    "\n",
    "\n"
   ]
  }
 ],
 "metadata": {
  "kernelspec": {
   "display_name": "Python 2 (SageMath)",
   "language": "python",
   "name": "python2"
  },
  "language_info": {
   "codemirror_mode": {
    "name": "ipython",
    "version": 2
   },
   "file_extension": ".py",
   "mimetype": "text/x-python",
   "name": "python",
   "nbconvert_exporter": "python",
   "pygments_lexer": "ipython2",
   "version": "2.7.13"
  }
 },
 "nbformat": 4,
 "nbformat_minor": 0
}