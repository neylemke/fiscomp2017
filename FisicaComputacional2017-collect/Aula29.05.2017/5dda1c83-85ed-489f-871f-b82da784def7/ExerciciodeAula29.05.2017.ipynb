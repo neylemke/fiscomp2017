{
 "cells": [
  {
   "cell_type": "code",
   "execution_count": 15,
   "metadata": {
    "collapsed": false
   },
   "outputs": [
    {
     "ename": "ImportError",
     "evalue": "No module named 'analyze_book1'",
     "output_type": "error",
     "traceback": [
      "\u001b[0;31m---------------------------------------------------------------------------\u001b[0m",
      "\u001b[0;31mImportError\u001b[0m                               Traceback (most recent call last)",
      "\u001b[0;32m<ipython-input-15-3b70a2950f30>\u001b[0m in \u001b[0;36m<module>\u001b[0;34m()\u001b[0m\n\u001b[1;32m     60\u001b[0m \u001b[0;32mimport\u001b[0m \u001b[0mmatplotlib\u001b[0m\u001b[0;34m.\u001b[0m\u001b[0mpyplot\u001b[0m \u001b[0;32mas\u001b[0m \u001b[0mplt\u001b[0m\u001b[0;34m\u001b[0m\u001b[0m\n\u001b[1;32m     61\u001b[0m \u001b[0;34m\u001b[0m\u001b[0m\n\u001b[0;32m---> 62\u001b[0;31m \u001b[0;32mfrom\u001b[0m \u001b[0manalyze_book1\u001b[0m \u001b[0;32mimport\u001b[0m \u001b[0mprocess_file\u001b[0m\u001b[0;34m\u001b[0m\u001b[0m\n\u001b[0m\u001b[1;32m     63\u001b[0m \u001b[0;34m\u001b[0m\u001b[0m\n\u001b[1;32m     64\u001b[0m \u001b[0;34m\u001b[0m\u001b[0m\n",
      "\u001b[0;31mImportError\u001b[0m: No module named 'analyze_book1'"
     ]
    }
   ],
   "source": [
    "#exercício1\n",
    "#import sys\n",
    "#reload(sys)\n",
    "#sys.setdefaultencoding(\"utf-8\")\n",
    "#from colletions import counter\n",
    "\n",
    "#texto='''Vês! Ninguém assistiu ao formidável\n",
    "#Enterro de tua última quimera.\n",
    "#Somente a Ingratidão – esta pantera –\n",
    "#Foi tua companheira inseparável!\n",
    "\n",
    "#Acostuma-te à lama que te espera!\n",
    "#O Homem, que, nesta terra miserável,\n",
    "#Mora entre feras, sente inevitável\n",
    "#Necessidade de também ser fera.\n",
    "\n",
    "#Toma um fósforo. Acende teu cigarro!\n",
    "#O beijo, amigo, é a véspera do escarro,\n",
    "#A mão que afaga é a mesma que apedreja.\n",
    "\n",
    "#Se a alguém causa inda pena a tua chaga,\n",
    "#Apedreja essa mão vil que te afaga,\n",
    "#Escarra nessa boca que te beija!.'''\n",
    "#print(texto)\n",
    "\n",
    "#file = open('poema.txt','r')\n",
    "#data=file.readlines()\n",
    "\n",
    "#print texto.replace('\\n',' ').replace('\\t','').split(' ')\n",
    "#palavras = texto.replace('\\n',' ').replace('\\t','').split(' ')\n",
    "#contador = Counter(palavras)\n",
    "#for i in contador.items():\n",
    " #   print i\n",
    "#print texto.split(' ')\n",
    "\n",
    "#arquivo=open(\"poema.txt\",\"r\")\n",
    "#arquivo.read()\n",
    "\n",
    "              \n",
    "              #texto=file.readlines()\n",
    "#dict={}\n",
    "              #for line in texto:\n",
    "              #for word in line.read():\n",
    "               #       if word in dict:\n",
    "              #dict[word]=dict[word]+1\n",
    "              #else:\n",
    "              #dict=[word]+1\n",
    "#oco=dict.values()\n",
    "#oco.sort()\n",
    "              \n",
    "#line=texto[0].split()\n",
    "#line[6].decode('utf-8')\n",
    "\n",
    "#Exercicio1\n",
    "\n",
    "from __future__ import print_function, division\n",
    "\n",
    "import sys\n",
    "\n",
    "import matplotlib.pyplot as plt\n",
    "\n",
    "from analyze_book1 import process_file\n",
    "\n",
    "\n",
    "def rank_freq(hist):\n",
    "    \"\"\"Returns a list of (rank, freq) tuples.\n",
    "\n",
    "    hist: map from word to frequency\n",
    "\n",
    "    returns: list of (rank, freq) tuples\n",
    "    \"\"\"\n",
    "    # sort the list of frequencies in decreasing order\n",
    "    freqs = list(hist.values())\n",
    "    freqs.sort(reverse=True)\n",
    "\n",
    "    # enumerate the ranks and frequencies \n",
    "    rf = [(r+1, f) for r, f in enumerate(freqs)]\n",
    "    return rf\n",
    "\n",
    "def print_ranks(hist):\n",
    "    \"\"\"Prints the rank vs. frequency data.\n",
    "\n",
    "    hist: map from word to frequency\n",
    "    \"\"\"\n",
    "    for r, f in rank_freq(hist):\n",
    "        print(r, f)\n",
    "\n",
    "\n",
    "def plot_ranks(hist, scale='log'):\n",
    "    \"\"\"Plots frequency vs. rank.\n",
    "\n",
    "    hist: map from word to frequency\n",
    "    scale: string 'linear' or 'log'\n",
    "    \"\"\"\n",
    "    t = rank_freq(hist)\n",
    "    rs, fs = zip(*t)\n",
    "\n",
    "    plt.clf()\n",
    "    plt.xscale(scale)\n",
    "    plt.yscale(scale)\n",
    "    plt.title('Zip plot')\n",
    "    plt.xlabel('rank')\n",
    "    plt.ylabel('frequency')\n",
    "    plt.plot(rs, fs, 'r-', linewidth=3)\n",
    "    plt.show()\n",
    "\n",
    "\n",
    "def main(script, filename='emma.txt', flag='plot'):\n",
    "    hist = process_file(filename, skip_header=True)\n",
    "\n",
    "    # either print the results or plot them\n",
    "    if flag == 'print':\n",
    "        print_ranks(hist)\n",
    "    elif flag == 'plot':\n",
    "        plot_ranks(hist)\n",
    "    else:\n",
    "        print('Usage: zip.py filename [print|plot]')\n",
    "\n",
    "\n",
    "if __name__ == '__main__':\n",
    "    main(*sys.argv)"
   ]
  },
  {
   "cell_type": "code",
   "execution_count": 2,
   "metadata": {
    "collapsed": false
   },
   "outputs": [
    {
     "name": "stdout",
     "output_type": "stream",
     "text": [
      "{}\n"
     ]
    },
    {
     "ename": "TypeError",
     "evalue": "can only concatenate list (not \"int\") to list",
     "output_type": "error",
     "traceback": [
      "\u001b[0;31m\u001b[0m",
      "\u001b[0;31mTypeError\u001b[0mTraceback (most recent call last)",
      "\u001b[0;32m<ipython-input-2-fef6a31b7c77>\u001b[0m in \u001b[0;36m<module>\u001b[0;34m()\u001b[0m\n\u001b[1;32m      9\u001b[0m             \u001b[0mdict\u001b[0m\u001b[0;34m[\u001b[0m\u001b[0mword\u001b[0m\u001b[0;34m]\u001b[0m\u001b[0;34m=\u001b[0m\u001b[0mdict\u001b[0m\u001b[0;34m[\u001b[0m\u001b[0mword\u001b[0m\u001b[0;34m]\u001b[0m\u001b[0;34m+\u001b[0m\u001b[0;36m1\u001b[0m\u001b[0;34m\u001b[0m\u001b[0m\n\u001b[1;32m     10\u001b[0m         \u001b[0;32melse\u001b[0m\u001b[0;34m:\u001b[0m\u001b[0;34m\u001b[0m\u001b[0m\n\u001b[0;32m---> 11\u001b[0;31m                 \u001b[0mdict\u001b[0m\u001b[0;34m=\u001b[0m\u001b[0;34m[\u001b[0m\u001b[0mword\u001b[0m\u001b[0;34m]\u001b[0m\u001b[0;34m+\u001b[0m\u001b[0;36m1\u001b[0m\u001b[0;34m\u001b[0m\u001b[0m\n\u001b[0m",
      "\u001b[0;31mTypeError\u001b[0m: can only concatenate list (not \"int\") to list"
     ]
    }
   ],
   "source": [
    "import numpy as np\n",
    "\n",
    "texto=[\"aaaaaaaaaaaaaaaaaaa\"]\n",
    "dict={}\n",
    "for line in texto:\n",
    "    for word in line.split():\n",
    "        print (dict)\n",
    "        if word in dict:\n",
    "            dict[word]=dict[word]+1\n",
    "        else:\n",
    "                dict=[word]+1"
   ]
  },
  {
   "cell_type": "code",
   "execution_count": 4,
   "metadata": {
    "collapsed": false
   },
   "outputs": [
   ],
   "source": [
    "f= open(\"teste.dat\", \"w\")\n",
    "f.write(\"linha um\\nlinha dois\\nlinha três\\n\")\n",
    "f.close()\n",
    "\n"
   ]
  },
  {
   "cell_type": "code",
   "execution_count": 2,
   "metadata": {
    "collapsed": false
   },
   "outputs": [
    {
     "data": {
      "text/plain": [
       "<matplotlib.text.Text at 0x7f6b4765e518>"
      ]
     },
     "execution_count": 2,
     "metadata": {
     },
     "output_type": "execute_result"
    },
    {
     "data": {
      "image/png": "[encoded data removed]"
     },
     "metadata": {
      "image/png": {
       "height": 494,
       "width": 502
      }
     }
    }
   ],
   "source": [
    "#Exercicio2\n",
    "\n",
    "def read_auto_data(fileName = \"Automobile price data.csv\"):\n",
    "    'Function to load the auto price data set from a .csv file' \n",
    "    import pandas as pd\n",
    "    import numpy as np\n",
    "\n",
    "    ## Read the .csv file with the pandas read_csv method\n",
    "    auto_prices = pd.read_csv(fileName)\n",
    "    \n",
    "    ## Remove rows with missing values, accounting for mising values coded as '?'\n",
    "    cols = ['price', 'bore', 'stroke', \n",
    "          'horsepower', 'peak-rpm']\n",
    "    for column in cols:\n",
    "        auto_prices.loc[auto_prices[column] == '?', column] = np.nan\n",
    "    auto_prices.dropna(axis = 0, inplace = True)\n",
    "\n",
    "    ## Convert some columns to numeric values\n",
    "    for column in cols:\n",
    "        auto_prices[column] = pd.to_numeric(auto_prices[column])\n",
    "#    auto_prices[cols] = auto_prices[cols].as_type(int64)\n",
    "        \n",
    "    return auto_prices\n",
    "auto_prices = read_auto_data()\n",
    "\n",
    "import matplotlib.pyplot as plt\n",
    "fig = plt.figure(figsize=(8, 8)) # define plot area\n",
    "ax = fig.gca() # define axis_cria_os_eixos                   \n",
    "auto_prices.plot(kind = 'scatter', x = 'price', y = 'engine-size', ax = ax)\n",
    "ax.set_title('Comparação do Tamanho do Motor Vs Preço') # Give the plot a main title\n",
    "ax.set_xlabel('Price') # Set text for the x axis\n",
    "ax.set_ylabel('Tamanho do Motor')# Set text for y axis"
   ]
  },
  {
   "cell_type": "code",
   "execution_count": 5,
   "metadata": {
    "collapsed": false
   },
   "outputs": [
    {
     "name": "stderr",
     "output_type": "stream",
     "text": [
      "/projects/anaconda3/lib/python3.5/site-packages/ipykernel/__main__.py:20: DeprecationWarning: \n",
      ".ix is deprecated. Please use\n",
      ".loc for label based indexing or\n",
      ".iloc for positional indexing\n",
      "\n",
      "See the documentation here:\n",
      "http://pandas.pydata.org/pandas-docs/stable/indexing.html#deprecate_ix\n"
     ]
    }
   ],
   "source": [
    "#Exercicio3\n",
    "\n",
    "import pandas as pd\n",
    "import numpy as np\n",
    "\n",
    "def preenche(lis):\n",
    "    for elem in range(1,len(lis)):\n",
    "        if lis[elem]!=lis[elem]: #truque sujo!\n",
    "            lis[elem]=lis[elem-1]\n",
    "    return lis\n",
    "\n",
    "def sint(x):\n",
    "    try: \n",
    "        return int(x)\n",
    "    except:\n",
    "        return 947+20+1\n",
    "\n",
    "lispoktab=pd.read_html( \"pokemon.html\")\n",
    "df=lispoktab[0]\n",
    "df.ix[2]=np.roll(df.ix[2],2)\n",
    "df.ix[3]=np.roll(df.ix[3],1)\n",
    "df.ix[4]=np.roll(df.ix[4],2)\n",
    "df.ix[5]=np.roll(df.ix[5],2)\n",
    "df.ix[7]=np.roll(df.ix[7],2)\n",
    "df.ix[8]=np.roll(df.ix[8],2)\n",
    "df.ix[9]=np.roll(df.ix[9],2)\n",
    "df.ix[11]=np.roll(df.ix[11],2)\n",
    "df.ix[12]=np.roll(df.ix[12],2)\n",
    "df.ix[13]=np.roll(df.ix[13],2)\n",
    "df.ix[15]=np.roll(df.ix[15],2)\n",
    "df.ix[16]=np.roll(df.ix[16],2)\n",
    "df.ix[18]=np.roll(df.ix[18],2)\n",
    "df.ix[19]=np.roll(df.ix[19],2)\n",
    "\n",
    "\n",
    "df.columns=df.ix[0] # muda o nome das colunas\n",
    "df=df.drop(0) # elimina a primeira linha\n",
    "df['Série']=preenche(list(df['Série'])) # elimina elementos com Nan\n",
    "df['Geração']=preenche(list(df['Geração']))\n",
    "df['Região']=preenche(list(df['Região']))\n",
    "df['Episódios']=[episodio[0:-7] for episodio in df['Episódios']] # elimina parte final \n",
    "df['Primeiro']=[int(episodio[0:3]) for episodio in df['Episódios']] # separa em duas partes\n",
    "df['Último']=[sint(episodio[4:-1]) for episodio in df['Episódios']]\n",
    "\n",
    "df[\"# Episódios\"]=df[\"Último\"]-df[\"Primeiro\"]+1\n",
    "\n"
   ]
  },
  {
   "cell_type": "code",
   "execution_count": 11,
   "metadata": {
    "collapsed": false
   },
   "outputs": [
    {
     "ename": "TypeError",
     "evalue": "list indices must be integers or slices, not str",
     "output_type": "error",
     "traceback": [
      "\u001b[0;31m---------------------------------------------------------------------------\u001b[0m",
      "\u001b[0;31mTypeError\u001b[0m                                 Traceback (most recent call last)",
      "\u001b[0;32m<ipython-input-11-4d2bbcd22a02>\u001b[0m in \u001b[0;36m<module>\u001b[0;34m()\u001b[0m\n\u001b[0;32m----> 1\u001b[0;31m \u001b[0mcounts\u001b[0m \u001b[0;34m=\u001b[0m \u001b[0mlispoktab\u001b[0m\u001b[0;34m[\u001b[0m\u001b[0;34m'read'\u001b[0m\u001b[0;34m]\u001b[0m\u001b[0;34m.\u001b[0m\u001b[0mvalue_counts\u001b[0m\u001b[0;34m(\u001b[0m\u001b[0;34m)\u001b[0m \u001b[0;31m# encontre a contagem para cada categoria\u001b[0m\u001b[0;34m\u001b[0m\u001b[0m\n\u001b[0m\u001b[1;32m      2\u001b[0m \u001b[0mcounts\u001b[0m\u001b[0;34m\u001b[0m\u001b[0m\n",
      "\u001b[0;31mTypeError\u001b[0m: list indices must be integers or slices, not str"
     ]
    }
   ],
   "source": [
    "counts = lispoktab['Episódios'].value_counts() # encontre a contagem para cada categoria\n",
    "counts"
   ]
  },
  {
   "cell_type": "code",
   "execution_count": 8,
   "metadata": {
    "collapsed": false
   },
   "outputs": [
    {
     "ename": "NameError",
     "evalue": "name 'counts' is not defined",
     "output_type": "error",
     "traceback": [
      "\u001b[0;31m---------------------------------------------------------------------------\u001b[0m",
      "\u001b[0;31mNameError\u001b[0m                                 Traceback (most recent call last)",
      "\u001b[0;32m<ipython-input-8-b17422c8f507>\u001b[0m in \u001b[0;36m<module>\u001b[0;34m()\u001b[0m\n\u001b[1;32m      2\u001b[0m \u001b[0mfig\u001b[0m \u001b[0;34m=\u001b[0m \u001b[0mplt\u001b[0m\u001b[0;34m.\u001b[0m\u001b[0mfigure\u001b[0m\u001b[0;34m(\u001b[0m\u001b[0mfigsize\u001b[0m\u001b[0;34m=\u001b[0m\u001b[0;34m(\u001b[0m\u001b[0;36m10\u001b[0m\u001b[0;34m,\u001b[0m\u001b[0;36m10\u001b[0m\u001b[0;34m)\u001b[0m\u001b[0;34m)\u001b[0m \u001b[0;31m# define plot area\u001b[0m\u001b[0;34m\u001b[0m\u001b[0m\n\u001b[1;32m      3\u001b[0m \u001b[0max\u001b[0m \u001b[0;34m=\u001b[0m \u001b[0mfig\u001b[0m\u001b[0;34m.\u001b[0m\u001b[0mgca\u001b[0m\u001b[0;34m(\u001b[0m\u001b[0;34m)\u001b[0m \u001b[0;31m# define axis\u001b[0m\u001b[0;34m\u001b[0m\u001b[0m\n\u001b[0;32m----> 4\u001b[0;31m \u001b[0mcounts\u001b[0m\u001b[0;34m.\u001b[0m\u001b[0mplot\u001b[0m\u001b[0;34m.\u001b[0m\u001b[0mbar\u001b[0m\u001b[0;34m(\u001b[0m\u001b[0max\u001b[0m \u001b[0;34m=\u001b[0m \u001b[0max\u001b[0m\u001b[0;34m)\u001b[0m \u001b[0;31m# Use the plot.bar method on the counts data frame\u001b[0m\u001b[0;34m\u001b[0m\u001b[0m\n\u001b[0m\u001b[1;32m      5\u001b[0m \u001b[0max\u001b[0m\u001b[0;34m.\u001b[0m\u001b[0mset_title\u001b[0m\u001b[0;34m(\u001b[0m\u001b[0;34m'Número de episódios por Temporada'\u001b[0m\u001b[0;34m)\u001b[0m \u001b[0;31m# Give the plot a main title\u001b[0m\u001b[0;34m\u001b[0m\u001b[0m\n\u001b[1;32m      6\u001b[0m \u001b[0max\u001b[0m\u001b[0;34m.\u001b[0m\u001b[0mset_xlabel\u001b[0m\u001b[0;34m(\u001b[0m\u001b[0;34m'Temporada'\u001b[0m\u001b[0;34m)\u001b[0m \u001b[0;31m# Set text for the x axis\u001b[0m\u001b[0;34m\u001b[0m\u001b[0m\n",
      "\u001b[0;31mNameError\u001b[0m: name 'counts' is not defined"
     ]
    },
    {
     "data": {
      "image/png": "[encoded data removed]"
     },
     "metadata": {
      "image/png": {
       "height": 578,
       "width": 603
      }
     }
    }
   ],
   "source": [
    "import matplotlib.pyplot as plt\n",
    "fig = plt.figure(figsize=(10,10)) # define plot area\n",
    "ax = fig.gca() # define axis    \n",
    "counts.plot.bar(ax = ax) # Use the plot.bar method on the counts data frame\n",
    "ax.set_title('Número de episódios por Temporada') # Give the plot a main title\n",
    "ax.set_xlabel('Temporada') # Set text for the x axis\n",
    "ax.set_ylabel('Quantidade de Episódios')# Set text for y axis"
   ]
  },
  {
   "cell_type": "code",
   "execution_count": 0,
   "metadata": {
    "collapsed": false
   },
   "outputs": [
   ],
   "source": [
   ]
  }
 ],
 "metadata": {
  "kernelspec": {
   "display_name": "Python 3 (Anaconda)",
   "language": "python",
   "name": "anaconda3"
  },
  "language_info": {
   "codemirror_mode": {
    "name": "ipython",
    "version": 3
   },
   "file_extension": ".py",
   "mimetype": "text/x-python",
   "name": "python",
   "nbconvert_exporter": "python",
   "pygments_lexer": "ipython3",
   "version": "3.5.3"
  }
 },
 "nbformat": 4,
 "nbformat_minor": 0
}