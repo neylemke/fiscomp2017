{
 "cells": [
  {
   "cell_type": "markdown",
   "metadata": {},
   "source": [
    "# Ubuntu/ Linux\n"
   ]
  },
  {
   "cell_type": "markdown",
   "metadata": {},
   "source": [
    "## Shell "
   ]
  },
  {
   "cell_type": "markdown",
   "metadata": {},
   "source": [
    "### Comandos linux "
   ]
  },
  {
   "cell_type": "markdown",
   "metadata": {},
   "source": [
    "#### Estrutura de um comando Linux\n",
    "\n",
    "```bash \n",
    "comando -opcoes argumentos```\n",
    "\n",
    "**Analogia:** \n",
    "\n",
    "O comando é o verbo, as opções são o adverbio e os argumentos são o objeto. \n",
    "\n",
    "**Exemplo:**\n",
    "\n",
    "```bash\n",
    "ls -l *.txt```\n",
    "\n",
    "Nesse exemplo `ls` lista os diretórios `-l` indica que devemos apresentar todas as informações\n",
    "e `*.txt`diz quais arquivos devemos listar. \n",
    "\n",
    "**Nota:** Se temos várias opções, elas podem ser indicadas sucessivamente sem espaços\n",
    "\n",
    "**Exemplo:**\n",
    "\n",
    "```bash \n",
    "ls -la ```\n"
   ]
  },
  {
   "cell_type": "markdown",
   "metadata": {},
   "source": [
    "#### Arquivos\n",
    "##### ls\n",
    "Lista os arquivos em um diretório\n",
    "'-l' lista os arquivos com todas as informações\n",
    "'-a' lista todos os arquivos \n",
    "##### cp\n",
    "'cp ttt kkk/' copia o arquivo no diretorio kkk\n",
    "'cp ttt kkk/ttt3' copia o arquivo ttt com o nome ttt3 no diretório kkk\n",
    "##### mv\n",
    "movo ou renomeia o arquivo\n",
    "mv origem destino\n",
    "##### rm\n",
    "remove o arquivo\n",
    "'rm ttt' remove o arquivo ttt no diretorio aberto\n",
    "##### mkdir\n",
    "cria um diretório\n",
    "'mkdir xxx' cria o diretório \n",
    "##### cd \n",
    "muda de diretório\n",
    "'cd kkk' abre o diretório kkk\n",
    "'cd' retorna ao diretório home\n",
    "'cd ~' retorna ao diretorio home\n",
    "'cd ..' sobe um nivel de diretorio\n",
    "'cd .' torna o diretório home\n",
    "##### zip, gzip \n",
    "'zip' comprime arquivos em pacote zip\n",
    "'unzip' descomprime arquivos do  pacote zip\n",
    "'gzip' comprime arquivos separadamente\n",
    "\n",
    "##### file\n",
    "'file kkk' descreve a caracteristica do arquivo kkk"
   ]
  },
  {
   "cell_type": "markdown",
   "metadata": {},
   "source": [
    "#### Visualização de arquivos \n",
    "##### more\n",
    "mostra os arquivos\n",
    "##### less\n",
    "mostra os arquivos\n",
    "##### wc\n",
    "conta as palavras\n",
    "#### cat\n",
    "concatena informações\n",
    "'cat arq1 arq2' concatena arq1 e arq2\n",
    "##### head\n",
    "mostra as primeiras linhas\n",
    "##### tail\n",
    "mostra as últimas linhas\n",
    "##### grep \n",
    "selecionador de linhas com determinadas características"
   ]
  },
  {
   "cell_type": "markdown",
   "metadata": {},
   "source": [
    "#### Redes \n",
    "##### ping \n",
    "pinga sua maquina e a resposta do outro diretório\n",
    "\n",
    "'ping www.site.qualquer' liga sua maquina e a proxima\n",
    "'ping numero do ip' liga sua maquina ao ip inserido\n",
    "\n",
    "##### ifconfig\n",
    "mostra seu ip\n",
    "\n",
    "##### ssh\n",
    "leva voce a outra maquina\n",
    "\n",
    "'ssh numero de ip' leva a maquina com determinado ip\n",
    "##### scp \n",
    "pemrite copiar arquivos entre maquinas\n"
   ]
  },
  {
   "cell_type": "markdown",
   "metadata": {},
   "source": [
    "#### Redirecionamento \n",
    "##### >\n",
    "direciona arquivo para...\n",
    "##### >>\n",
    "dobra o arquivo (apendeia)\n",
    "##### | \n",
    "##### <\n",
    "#### `command`"
   ]
  },
  {
   "cell_type": "markdown",
   "metadata": {},
   "source": [
    "#### Editor \n",
    "##### nano \n",
    "editor de texto\n",
    "cria arquivos\n",
    "##### Editor do Sage"
   ]
  },
  {
   "cell_type": "markdown",
   "metadata": {},
   "source": []
  },
  {
   "cell_type": "markdown",
   "metadata": {},
   "source": [
    "#### Ajuda \n",
    "##### man\n",
    "abre o manual com codigos"
   ]
  },
  {
   "cell_type": "markdown",
   "metadata": {},
   "source": [
    "#### Processos\n",
    "##### top \n",
    "lista os comandos que estao acontecendo\n",
    "##### kill \n",
    "encerra (mata) processos\n",
    "'kill -9 (numero do processo)'\n",
    "##### Ctrl-C\n",
    "para que o esta acontecendo\n",
    "##### Ctrl-Z\n",
    "congela o que esta acontecendo\n",
    "'fg' retoma o processo\n",
    "##### shutdown \n",
    "reinicia/encerra a maquina\n",
    "'shutdown -h' encerra\n",
    "'shutdown -r' reboot a maquina\n",
    "##### ps \n",
    "lista os processoa que estao acontecendo"
   ]
  },
  {
   "cell_type": "markdown",
   "metadata": {},
   "source": [
    "#### Variados \n",
    "##### find \n",
    "procura o arquivo\n",
    "##### date \n",
    "diz a data\n",
    "##### echo \n",
    "repete o que voce insere\n",
    "'echo \"teste\"' escreve teste ao final\n",
    "##### yes \n",
    "imprime y na tela\n",
    "\n",
    "'yes no' imprime no na tela\n"
   ]
  },
  {
   "cell_type": "markdown",
   "metadata": {},
   "source": [
    "#### wildcards\n",
    "##### *\n",
    "tudo que vem depois incluindo espacos em branco\n",
    "##### ?\n",
    "quando nao se sabo o que é\n",
    "#### {a,b}\n",
    "lista o que esta contido com a e b após\n"
   ]
  },
  {
   "cell_type": "markdown",
   "metadata": {
    "collapsed": true
   },
   "source": [
    "## Exercícios\n",
    "\n",
    "- 1.Liste os arquivos de um diretório por data de modificação, inicie pelo mais atual.\n",
    "- 2.Gere um arquivo com 20 linhas. Imprima as linhas 3 até 10.\n",
    "- 3.Use o comando date para salvar o resultado do comando ls em um arquivo chamado lista_min_seg. Onde min e seg são o minuto e o segundo.\n",
    "\n",
    "**- Observação: Após a realização desses exercícios, crie um notebook na pasta da própria aula03.04.2017 e coloque as respostas de cada exercícios em modo markdown. (O aluno deverá colocar o comando de entrada no terminal e a saída apresentada pelo terminal, também poderá utilizar print da tela em forma de imagem).**\n",
    "\n"
   ]
  }
 ],
 "metadata": {
  "kernelspec": {
   "display_name": "Python 2 (SageMath)",
   "language": "python",
   "name": "python2"
  },
  "language_info": {
   "codemirror_mode": {
    "name": "ipython",
    "version": 2
   },
   "file_extension": ".py",
   "mimetype": "text/x-python",
   "name": "python",
   "nbconvert_exporter": "python",
   "pygments_lexer": "ipython2",
   "version": "2.7.13"
  }
 },
 "nbformat": 4,
 "nbformat_minor": 0
}
