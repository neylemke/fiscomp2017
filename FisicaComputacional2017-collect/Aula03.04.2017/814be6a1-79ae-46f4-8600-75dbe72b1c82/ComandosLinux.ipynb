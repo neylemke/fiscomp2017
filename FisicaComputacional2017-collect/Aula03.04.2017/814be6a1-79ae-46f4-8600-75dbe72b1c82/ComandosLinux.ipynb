{
 "cells": [
  {
   "cell_type": "markdown",
   "metadata": {},
   "source": [
    "# Ubuntu/ Linux\n"
   ]
  },
  {
   "cell_type": "markdown",
   "metadata": {},
   "source": [
    "## Shell "
   ]
  },
  {
   "cell_type": "markdown",
   "metadata": {},
   "source": [
    "### Comandos linux "
   ]
  },
  {
   "cell_type": "markdown",
   "metadata": {},
   "source": [
    "#### Estrutura de um comando Linux\n",
    "\n",
    "```bash \n",
    "comando -opcoes argumentos```\n",
    "\n",
    "**Analogia:** \n",
    "\n",
    "O comando é o verbo, as opções são o adverbio e os argumentos são o objeto. \n",
    "\n",
    "**Exemplo:**\n",
    "\n",
    "```bash\n",
    "ls -l *.txt```\n",
    "\n",
    "Nesse exemplo `ls` lista os diretórios `-l` indica que devemos apresentar todas as informações\n",
    "e `*.txt`diz quais arquivos devemos listar. \n",
    "\n",
    "**Nota:** Se temos várias opções, elas podem ser indicadas sucessivamente sem espaços\n",
    "\n",
    "**Exemplo:**\n",
    "\n",
    "```bash \n",
    "ls -la ```\n"
   ]
  },
  {
   "cell_type": "markdown",
   "metadata": {},
   "source": [
    "#### Arquivos\n",
    "##### ls\n",
    "Lista os arquivos em um diretório\n",
    "-l lista os arquivos de um diretório com todas as informações\n",
    "-a lista todos os arquivos de um diretório\n",
    "##### cp\n",
    "Coloca um arquivo dentro do outro (copia)\n",
    "##### mv\n",
    "Altera nome de arquivo ou move\n",
    "mv origem destino\n",
    "##### rm\n",
    "Remove o arquivo\n",
    "##### mkdir\n",
    "Cria um diretório\n",
    "##### cd \n",
    "Muda de diretório\n",
    "~ diretório home\n",
    ". . sobe um nível\n",
    ". representa o diretório atual \n",
    "##### zip, gzip \n",
    "zip compacta arquivos\n",
    "unzip descompacta os arquivos\n",
    "gzip comprime um arquivo\n",
    "##### file\n",
    "Mostra características do arquivo "
   ]
  },
  {
   "cell_type": "markdown",
   "metadata": {},
   "source": [
    "#### Visualização de arquivos \n",
    "##### more\n",
    "Mostra todo o conteúdo do arquivo\n",
    "##### less\n",
    "Mostra conteúdo do arquivo, porém de forma invertida (de baixo pra cima)\n",
    "##### wc\n",
    "Conta as palavras \n",
    "##### cat\n",
    "Concatena arquivos\n",
    "##### head \n",
    "Mostra as primeiras linhas\n",
    "##### tail\n",
    "Mostra as ultimas linhas\n",
    "tail -n 1 mostra a ultima linha\n",
    "##### grep \n",
    "Seleciona linhas e considera determinada característica de um arquivo"
   ]
  },
  {
   "cell_type": "markdown",
   "metadata": {},
   "source": [
    "#### Redes \n",
    "##### ping \n",
    "Estabelece conexão direta com um servidor\n",
    "##### ifconfig\n",
    "##### ssh\n",
    "Conectar ao IP indicado\n",
    "##### scp "
   ]
  },
  {
   "cell_type": "markdown",
   "metadata": {},
   "source": [
    "#### Redirecionamento \n",
    "##### >\n",
    "Direciona a saída de um arquivo\n",
    "##### >>\n",
    "Duplica o arquivo\n",
    "##### | \n",
    "Pega a saída de dados e passa pelo filtro\n",
    "##### <\n",
    "\n",
    "#### `command`"
   ]
  },
  {
   "cell_type": "markdown",
   "metadata": {},
   "source": [
    "#### Editor \n",
    "##### nano \n",
    "##### Editor do Sage"
   ]
  },
  {
   "cell_type": "markdown",
   "metadata": {},
   "source": []
  },
  {
   "cell_type": "markdown",
   "metadata": {},
   "source": [
    "#### Ajuda \n",
    "##### man\n",
    "Manual para os comandos, mostra as opções do que fazer com cada comando"
   ]
  },
  {
   "cell_type": "markdown",
   "metadata": {},
   "source": [
    "#### Processos\n",
    "##### top \n",
    "Lista o que está executando\n",
    "##### kill \n",
    "Acaba com o processo\n",
    "##### Ctrl-C\n",
    "Acaba com o processo em execução\n",
    "##### Ctrl-Z\n",
    "Pausa o processo\n",
    "fg processo volta\n",
    "##### shutdown \n",
    "Apaga a maquina\n",
    "##### ps \n",
    "Lista o comando que está sendo executado"
   ]
  },
  {
   "cell_type": "markdown",
   "metadata": {},
   "source": [
    "#### Variados \n",
    "##### find \n",
    "Encontra arquivos\n",
    "##### date \n",
    "Mostra a data\n",
    "##### echo \n",
    "Reproduz a frase\n",
    "##### yes \n",
    "Fica escrevendo yes"
   ]
  },
  {
   "cell_type": "markdown",
   "metadata": {},
   "source": [
    "#### wildcards\n",
    "##### *\n",
    "Qualquer caracter ou nenhum caracter\n",
    "##### ?\n",
    "Qualquer arquivo que comece com o nome (que deve ser seguido de ?)"
   ]
  },
  {
   "cell_type": "markdown",
   "metadata": {
    "collapsed": true
   },
   "source": [
    "## Exercícios\n",
    "\n",
    "- 1.Liste os arquivos de um diretório por data de modificação, inicie pelo mais atual.\n",
    "- 2.Gere um arquivo com 20 linhas. Imprima as linhas 3 até 10.\n",
    "- 3.Use o comando date para salvar o resultado do comando ls em um arquivo chamado lista_min_seg. Onde min e seg são o minuto e o segundo.\n",
    "\n",
    "**- Observação: Após a realização desses exercícios, crie um notebook na pasta da própria aula03.04.2017 e coloque as respostas de cada exercícios em modo markdown. (O aluno deverá colocar o comando de entrada no terminal e a saída apresentada pelo terminal, também poderá utilizar print da tela em forma de imagem).**\n",
    "\n"
   ]
  }
 ],
 "metadata": {
  "kernelspec": {
   "display_name": "Python 2 (SageMath)",
   "language": "python",
   "name": "python2"
  },
  "language_info": {
   "codemirror_mode": {
    "name": "ipython",
    "version": 2
   },
   "file_extension": ".py",
   "mimetype": "text/x-python",
   "name": "python",
   "nbconvert_exporter": "python",
   "pygments_lexer": "ipython2",
   "version": "2.7.13"
  }
 },
 "nbformat": 4,
 "nbformat_minor": 0
}
