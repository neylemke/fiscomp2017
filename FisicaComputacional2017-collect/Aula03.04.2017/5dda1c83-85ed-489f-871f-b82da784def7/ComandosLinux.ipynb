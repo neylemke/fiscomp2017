{
 "cells": [
  {
   "cell_type": "markdown",
   "metadata": {},
   "source": [
    "# Ubuntu/ Linux\n"
   ]
  },
  {
   "cell_type": "markdown",
   "metadata": {},
   "source": [
    "## Shell "
   ]
  },
  {
   "cell_type": "markdown",
   "metadata": {},
   "source": [
    "### Comandos linux "
   ]
  },
  {
   "cell_type": "markdown",
   "metadata": {},
   "source": [
    "#### Estrutura de um comando Linux\n",
    "\n",
    "```bash \n",
    "comando -opcoes argumentos```\n",
    "\n",
    "**Analogia:** \n",
    "\n",
    "O comando é o verbo, as opções são o adverbio e os argumentos são o objeto. \n",
    "\n",
    "**Exemplo:**\n",
    "\n",
    "```bash\n",
    "ls -l *.txt```\n",
    "\n",
    "Nesse exemplo `ls` lista os diretórios `-l` indica que devemos apresentar todas as informações\n",
    "e `*.txt`diz quais arquivos devemos listar. \n",
    "\n",
    "**Nota:** Se temos várias opções, elas podem ser indicadas sucessivamente sem espaços\n",
    "\n",
    "**Exemplo:**\n",
    "\n",
    "```bash \n",
    "ls -la ```\n"
   ]
  },
  {
   "cell_type": "markdown",
   "metadata": {},
   "source": [
    "#### Arquivos\n",
    "##### ls\n",
    "-ls lista os arquivos de um diretório com todas as informações\n",
    "-a lista todos os arquivos de um diretório\n",
    "Lista os arquivos em um diretório\n",
    "\n",
    "##### cp\n",
    "coloca um arquivo dentro de um diretorio/arquivo\n",
    "copia fisica do arquivo em outro diretorio\n",
    "Exemplo\n",
    "cp origem destino\n",
    "\n",
    "##### mv\n",
    "altera nome do arquivo\n",
    "move ou renomeia os arquivos\n",
    "\n",
    "mv origem destino\n",
    "\n",
    "##### rm\n",
    "rm - remove o arquivo\n",
    "\n",
    "\n",
    "##### mkdir\n",
    "cria um diretório\n",
    "\n",
    "cd~ votlo para o diretório\n",
    "\n",
    ".. diretorio acima\n",
    ". diretorio atual\n",
    "~ diretorio home\n",
    "\n",
    "##### cd \n",
    "entra no arquivo\n",
    "mostra o aqruivo atual\n",
    "\n",
    "##### zip, gzip \n",
    "zip compacta os arquivos\n",
    "unzip decompacta arquivos\n",
    "gzip - compacta um unico arquivo\n",
    "\n",
    "##### file\n",
    "Nos informa a caracteristica do arquivo"
   ]
  },
  {
   "cell_type": "markdown",
   "metadata": {},
   "source": [
    "#### Visualização de arquivos \n",
    "##### more\n",
    "mostra o conteúdo do arquivo e também posso \"varrer\" o arquivo\n",
    "\n",
    "##### less\n",
    "mesma coisa que o more, porém em ordem inversa\n",
    "mosta os arquivos\n",
    "\n",
    "##### wc\n",
    "conta as palavras\n",
    "\n",
    "##### head \n",
    "mostra as primeiras linhas de um arquivo\n",
    "mostra cabeçalho\n",
    "cat-> exibe todos os dados\n",
    "cat arrq1 arq2 - concatena arq1 e arq2\n",
    "\n",
    "##### tail\n",
    "mostra as ultimas linhas de um arquivo\n",
    "quando coloca tail -n 1 -> nos mostra somente a ultima linha de dados\n",
    "\n",
    "##### grep \n",
    "Selecionador as linhas com determinadas características\n",
    "Considera determinada caracteristica de um arquivo"
   ]
  },
  {
   "cell_type": "markdown",
   "metadata": {},
   "source": [
    "#### Redes \n",
    "##### ping \n",
    "\"pinga\" os servidores\n",
    "Estabelece conecção direta com um servidor\n",
    "\n",
    "##### ifconfig\n",
    "\n",
    "\n",
    "##### ssh\n",
    "conecta a um determinado IP\n",
    "\n",
    "##### scp\n"
   ]
  },
  {
   "cell_type": "markdown",
   "metadata": {},
   "source": [
    "#### Redirecionamento \n",
    "##### >\n",
    "direciona a saida de um arquivo\n",
    "##### >>\n",
    "duplica o arquivo\n",
    "##### | \n",
    "filtro\n",
    "pega os resultados de dados e passa pelo more (para dar tempo de ler a impressão dos arquivos)\n",
    "##### <\n",
    "direciona entrada de uma arquivo\n",
    "#### `command`"
   ]
  },
  {
   "cell_type": "markdown",
   "metadata": {},
   "source": [
    "#### Editor \n",
    "##### nano \n",
    "editor\n",
    "##### Editor do Sage"
   ]
  },
  {
   "cell_type": "markdown",
   "metadata": {},
   "source": []
  },
  {
   "cell_type": "markdown",
   "metadata": {},
   "source": [
    "#### Ajuda \n",
    "##### man\n",
    "manual dos comandos"
   ]
  },
  {
   "cell_type": "markdown",
   "metadata": {},
   "source": [
    "#### Processos\n",
    "##### top \n",
    "lista o que está executando\n",
    "\n",
    "ps-lista os comandos que estão sendo executados\n",
    "\n",
    "ps -aux | firefox -> termina com o processo que está em execução\n",
    "##### kill \n",
    "\n",
    "##### Ctrl-C\n",
    "termina com o ping (processo que está em execução)\n",
    "\n",
    "##### Ctrl-Z\n",
    "para com o processo\n",
    "\n",
    "##### shutdown \n",
    "\n",
    "shutdown - h -r\n",
    "\"apaga\" a máquina\n",
    "##### ps "
   ]
  },
  {
   "cell_type": "markdown",
   "metadata": {},
   "source": [
    "#### Variados \n",
    "##### find \n",
    "encontra aquivos\n",
    "##### date \n",
    "mostra a datação\n",
    "##### echo \n",
    "reproduz o que acabei de falar\n",
    "##### yes "
   ]
  },
  {
   "cell_type": "markdown",
   "metadata": {},
   "source": [
    "#### wildcards\n",
    "##### *\n",
    "qualquer caracter ou nenhum caracter\n",
    "##### ?"
   ]
  },
  {
   "cell_type": "markdown",
   "metadata": {
    "collapsed": true
   },
   "source": [
    "## Exercícios\n",
    "\n",
    "- 1.Liste os arquivos de um diretório por data de modificação, inicie pelo mais atual.\n",
    "- 2.Gere um arquivo com 20 linhas. Imprima as linhas 3 até 10.\n",
    "- 3.Use o comando date para salvar o resultado do comando ls em um arquivo chamado lista_min_seg. Onde min e seg são o minuto e o segundo.\n",
    "\n",
    "**- Observação: Após a realização desses exercícios, crie um notebook na pasta da própria aula03.04.2017 e coloque as respostas de cada exercícios em modo markdown. (O aluno deverá colocar o comando de entrada no terminal e a saída apresentada pelo terminal, também poderá utilizar print da tela em forma de imagem).**\n",
    "\n"
   ]
  }
 ],
 "metadata": {
  "kernelspec": {
   "display_name": "Python 2 (SageMath)",
   "language": "python",
   "name": "python2"
  },
  "language_info": {
   "codemirror_mode": {
    "name": "ipython",
    "version": 2
   },
   "file_extension": ".py",
   "mimetype": "text/x-python",
   "name": "python",
   "nbconvert_exporter": "python",
   "pygments_lexer": "ipython2",
   "version": "2.7.13"
  }
 },
 "nbformat": 4,
 "nbformat_minor": 0
}
