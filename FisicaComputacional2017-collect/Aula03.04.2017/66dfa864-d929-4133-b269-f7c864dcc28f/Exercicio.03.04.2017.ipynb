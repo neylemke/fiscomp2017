{
 "cells": [
  {
   "cell_type": "code",
   "execution_count": 1,
   "metadata": {
    "collapsed": false
   },
   "outputs": [
    {
     "name": "stdout",
     "output_type": "stream",
     "text": [
      "800px-Hp-35_1972.jpg            exc5.png                    m1.png\r\n",
      "800px-Iranian_Astrolabe_14.jpg  Exercicio.03.04.2017.ipynb  m2.png\r\n",
      "ComandosLinux.ipynb             linguagens.png\r\n"
     ]
    }
   ],
   "source": [
    "ls"
   ]
  },
  {
   "cell_type": "code",
   "execution_count": 2,
   "metadata": {
    "collapsed": false
   },
   "outputs": [
    {
     "name": "stdout",
     "output_type": "stream",
     "text": [
      "m2.png          Exercicio.03.04.2017.ipynb  800px-Iranian_Astrolabe_14.jpg\r\n",
      "m1.png          exc5.png                    800px-Hp-35_1972.jpg\r\n",
      "linguagens.png  ComandosLinux.ipynb\r\n"
     ]
    }
   ],
   "source": [
    "ls-r"
   ]
  },
  {
   "cell_type": "code",
   "execution_count": null,
   "metadata": {
    "collapsed": false
   },
   "outputs": [],
   "source": []
  },
  {
   "cell_type": "code",
   "execution_count": null,
   "metadata": {
    "collapsed": true
   },
   "outputs": [],
   "source": []
  }
 ],
 "metadata": {
  "kernelspec": {
   "display_name": "Python 2 (SageMath)",
   "language": "python",
   "name": "python2"
  },
  "language_info": {
   "codemirror_mode": {
    "name": "ipython",
    "version": 2
   },
   "file_extension": ".py",
   "mimetype": "text/x-python",
   "name": "python",
   "nbconvert_exporter": "python",
   "pygments_lexer": "ipython2",
   "version": "2.7.13"
  }
 },
 "nbformat": 4,
 "nbformat_minor": 0
}
