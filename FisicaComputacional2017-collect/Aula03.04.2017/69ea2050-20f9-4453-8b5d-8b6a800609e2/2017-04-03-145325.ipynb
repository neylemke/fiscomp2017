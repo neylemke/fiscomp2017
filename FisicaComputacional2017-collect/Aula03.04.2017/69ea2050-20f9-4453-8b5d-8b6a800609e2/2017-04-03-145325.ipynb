{
 "cells": [
  {
   "cell_type": "code",
   "execution_count": 1,
   "metadata": {
    "collapsed": false
   },
   "outputs": [
    {
     "ename": "SyntaxError",
     "evalue": "invalid syntax (<ipython-input-1-b9e27bca0cac>, line 1)",
     "output_type": "error",
     "traceback": [
      "\u001b[0;36m  File \u001b[0;32m\"<ipython-input-1-b9e27bca0cac>\"\u001b[0;36m, line \u001b[0;32m1\u001b[0m\n\u001b[0;31m    forfiles [/p <Path>] [/m <SearchMask>] [/s] [/c \"<Command>\"] [/d [{+ |-}] [{<Date> | <Days>}]]\u001b[0m\n\u001b[0m              ^\u001b[0m\n\u001b[0;31mSyntaxError\u001b[0m\u001b[0;31m:\u001b[0m invalid syntax\n"
     ]
    }
   ],
   "source": [
    "forfiles [/p <Path>] [/m <SearchMask>] [/s] [/c \"<Command>\"] [/d [{+ |-}] [{<Date> | <Days>}]] \n"
   ]
  },
  {
   "cell_type": "code",
   "execution_count": null,
   "metadata": {
    "collapsed": true
   },
   "outputs": [],
   "source": []
  }
 ],
 "metadata": {
  "kernelspec": {
   "display_name": "Python 2 (SageMath)",
   "language": "python",
   "name": "python2"
  },
  "language_info": {
   "codemirror_mode": {
    "name": "ipython",
    "version": 2
   },
   "file_extension": ".py",
   "mimetype": "text/x-python",
   "name": "python",
   "nbconvert_exporter": "python",
   "pygments_lexer": "ipython2",
   "version": "2.7.13"
  }
 },
 "nbformat": 4,
 "nbformat_minor": 0
}
