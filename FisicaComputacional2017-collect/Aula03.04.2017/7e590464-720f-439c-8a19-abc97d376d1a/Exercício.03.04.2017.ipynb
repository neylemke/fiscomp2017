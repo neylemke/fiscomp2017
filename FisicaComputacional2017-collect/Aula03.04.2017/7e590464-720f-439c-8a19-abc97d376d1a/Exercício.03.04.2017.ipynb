{
 "cells": [
  {
   "cell_type": "markdown",
   "metadata": {
    "collapsed": false
   },
   "source": [
    "# Exercícios Aula 03.04.2017\n",
    "## Exercício 01\n",
    "\n",
    "Comando: ls -lt\n",
    "![Exercício_01](Exerc_01.png)\n",
    "\n",
    "\n",
    "## Exercício 02\n",
    "\n",
    "Comando: nano Exerc_02_File.txt\n",
    "![Exercício_02_01](Exerc_021.png)\n",
    "\n",
    "E então foram inseridos os números de 1-20 no arquivo.\n",
    "![Exercício_02_02](Exerc_022.png)\n",
    "\n",
    "Comando: head Exerc_02_File.txt | tail -8\n",
    "![Exercício_02_03](Exerc_023.png)\n",
    "\n",
    "\n",
    "## Exercício 03\n",
    "\n",
    "Comando: ls > lis`date +%M%S`\n",
    "![Exercício_03](Exerc_03.png)"
   ]
  },
  {
   "cell_type": "code",
   "execution_count": null,
   "metadata": {
    "collapsed": true
   },
   "outputs": [],
   "source": []
  }
 ],
 "metadata": {
  "kernelspec": {
   "display_name": "Python 2 (SageMath)",
   "language": "python",
   "name": "python2"
  },
  "language_info": {
   "codemirror_mode": {
    "name": "ipython",
    "version": 2
   },
   "file_extension": ".py",
   "mimetype": "text/x-python",
   "name": "python",
   "nbconvert_exporter": "python",
   "pygments_lexer": "ipython2",
   "version": "2.7.13"
  }
 },
 "nbformat": 4,
 "nbformat_minor": 0
}
