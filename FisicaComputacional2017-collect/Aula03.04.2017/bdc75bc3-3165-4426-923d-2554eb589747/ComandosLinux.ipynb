{
 "cells": [
  {
   "cell_type": "markdown",
   "metadata": {},
   "source": [
    "# Ubuntu/ Linux\n"
   ]
  },
  {
   "cell_type": "markdown",
   "metadata": {},
   "source": [
    "## Shell "
   ]
  },
  {
   "cell_type": "markdown",
   "metadata": {},
   "source": [
    "### Comandos linux "
   ]
  },
  {
   "cell_type": "markdown",
   "metadata": {},
   "source": [
    "#### Estrutura de um comando Linux\n",
    "\n",
    "```bash \n",
    "comando -opcoes argumentos```\n",
    "\n",
    "**Analogia:** \n",
    "\n",
    "O comando é o verbo, as opções são o adverbio e os argumentos são o objeto. \n",
    "\n",
    "**Exemplo:**\n",
    "\n",
    "```bash\n",
    "ls -l *.txt```\n",
    "\n",
    "Nesse exemplo `ls` lista os diretórios `-l` indica que devemos apresentar todas as informações\n",
    "e `*.txt`diz quais arquivos devemos listar. \n",
    "\n",
    "**Nota:** Se temos várias opções, elas podem ser indicadas sucessivamente sem espaços\n",
    "\n",
    "**Exemplo:**\n",
    "\n",
    "```bash \n",
    "ls -la ```\n"
   ]
  },
  {
   "cell_type": "markdown",
   "metadata": {},
   "source": [
    "#### Arquivos\n",
    "##### ls\n",
    "Lista os arquivos em um diretório\n",
    "\n",
    "-l lista longa\n",
    "\n",
    "-a mostra todos os arquivos\n",
    "##### cp\n",
    "Copia um arquivo\n",
    "\n",
    "(cp xxx downloads/)\n",
    "##### mv\n",
    "\n",
    "Renomear (mv xxx yyy)\n",
    "##### rm\n",
    "\n",
    "Remover (rm ttt)\n",
    "##### mkdir\n",
    "Cria um diretório\n",
    "##### cd \n",
    "Muda o Diretório\n",
    "\n",
    "cd - (diretorio Home)\n",
    "\n",
    "cd .. (sobe um nivel)\n",
    "##### zip, gzip \n",
    "\n",
    "zipar (zip filosofia.zip xxx yyy)\n",
    "\n",
    "unzip (unzip filosofia.zip)\n",
    "\n",
    "gzipar (gzip -9 xxx yyy)\n",
    "\n",
    "gunzipar (gzip -d *.gz)\n",
    "\n",
    "##### file\n",
    "\n",
    "Caracteristicas do arquivo\n",
    "\n",
    "(file xxx)\n"
   ]
  },
  {
   "cell_type": "markdown",
   "metadata": {},
   "source": [
    "#### Visualização de arquivos \n",
    "##### more\n",
    "\n",
    "Mostra os arquivos (more xxx)\n",
    "##### less\n",
    "\n",
    "Mostra os arquivos (less xxx)\n",
    "##### wc\n",
    "\n",
    "Conta as palavras (wc xxx)\n",
    "\n",
    "##### cat\n",
    "\n",
    "Concatena xxx e yyy (cat xxx yyy > zzz)\n",
    "##### head \n",
    "\n",
    "Mostra as primeiras linhas de um arquivo (head xxx)\n",
    "##### tail\n",
    "\n",
    "Mostra as ultimas linhas de um arquivo (tail xxx)\n",
    "##### grep \n",
    "\n",
    "Seleciona linhas com determinadas caracteristicas\n",
    "\n",
    "(grep 'caracteristica' xxx)\n"
   ]
  },
  {
   "cell_type": "markdown",
   "metadata": {},
   "source": [
    "#### Redes \n",
    "##### ping \n",
    "ping /s pra o numerado ip\n",
    "\n",
    "ping \"numero de ip\" \n",
    "##### ifconfig\n",
    "\n",
    "Entrega o numero de ip\n",
    "##### ssh\n",
    "\n",
    "Acessar remotamente outra maquina através do IP adress\n",
    "##### scp \n",
    "\n",
    "Copiar remotamente para maquina distinta da atual"
   ]
  },
  {
   "cell_type": "markdown",
   "metadata": {},
   "source": [
    "#### Redirecionamento \n",
    "##### > \n",
    "\n",
    "Transfere os arquivos\n",
    "\n",
    "(xxx > yyy)\n",
    "##### >>\n",
    "\n",
    "Apendeia os ar1uivos\n",
    "\n",
    "(xxx >> (yyy)\n",
    "##### | \n",
    "\n",
    "Filtro no comando\n",
    "##### <\n",
    "\n",
    "#### `command`"
   ]
  },
  {
   "cell_type": "markdown",
   "metadata": {},
   "source": [
    "#### Editor \n",
    "##### nano \n",
    "\n",
    "Editor de texto no terminal\n",
    "##### Editor do Sage"
   ]
  },
  {
   "cell_type": "markdown",
   "metadata": {},
   "source": []
  },
  {
   "cell_type": "markdown",
   "metadata": {},
   "source": [
    "#### Ajuda \n",
    "##### man"
   ]
  },
  {
   "cell_type": "markdown",
   "metadata": {},
   "source": [
    "#### Processos\n",
    "##### top \n",
    "\n",
    "Mostra processos\n",
    "##### kill \n",
    "\n",
    "Mata o processo (kill -9 xxx)\n",
    "##### Ctrl-C\n",
    "\n",
    "Mata processo no terminal\n",
    "##### Ctrl-Z\n",
    "\n",
    "Deixa o processo em Background (fg volta o processo)\n",
    "##### shutdown \n",
    "\n",
    "Shutdown -r (reinicia maquina)\n",
    "Shutdown -h now (desligar maquina)\n",
    "##### ps "
   ]
  },
  {
   "cell_type": "markdown",
   "metadata": {},
   "source": [
    "#### Variados \n",
    "##### find \n",
    "\n",
    "find . -name \"xxx\"\n",
    "##### date\n",
    "\n",
    "Data\n",
    "##### echo \n",
    "\n",
    "Reproduz texto\n",
    "##### yes \n",
    "\n",
    "escreve y na tela"
   ]
  },
  {
   "cell_type": "markdown",
   "metadata": {},
   "source": [
    "#### wildcards\n",
    "##### *\n",
    "\n",
    "Lista aquivos com o radical ( ls x*)\n",
    "##### ?\n",
    "\n",
    "Lista aquivos com o nome igual so mudando o caracter do ? ( ls x? )"
   ]
  },
  {
   "cell_type": "markdown",
   "metadata": {
    "collapsed": true
   },
   "source": [
    "## Exercícios\n",
    "\n",
    "- 1.Liste os arquivos de um diretório por data de modificação, inicie pelo mais atual.\n",
    "- 2.Gere um arquivo com 20 linhas. Imprima as linhas 3 até 10.\n",
    "- 3.Use o comando date para salvar o resultado do comando ls em um arquivo chamado lista_min_seg. Onde min e seg são o minuto e o segundo.\n",
    "\n",
    "**- Observação: Após a realização desses exercícios, crie um notebook na pasta da própria aula03.04.2017 e coloque as respostas de cada exercícios em modo markdown. (O aluno deverá colocar o comando de entrada no terminal e a saída apresentada pelo terminal, também poderá utilizar print da tela em forma de imagem).**\n",
    "\n"
   ]
  }
 ],
 "metadata": {
  "kernelspec": {
   "display_name": "Python 2 (SageMath)",
   "language": "python",
   "name": "python2"
  },
  "language_info": {
   "codemirror_mode": {
    "name": "ipython",
    "version": 2
   },
   "file_extension": ".py",
   "mimetype": "text/x-python",
   "name": "python",
   "nbconvert_exporter": "python",
   "pygments_lexer": "ipython2",
   "version": "2.7.13"
  }
 },
 "nbformat": 4,
 "nbformat_minor": 0
}
