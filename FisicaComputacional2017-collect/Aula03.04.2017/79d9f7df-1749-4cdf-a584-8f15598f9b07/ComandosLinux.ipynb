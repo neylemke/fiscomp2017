{
 "cells": [
  {
   "cell_type": "markdown",
   "metadata": {},
   "source": [
    "# Ubuntu/ Linux\n"
   ]
  },
  {
   "cell_type": "markdown",
   "metadata": {},
   "source": [
    "## Shell "
   ]
  },
  {
   "cell_type": "markdown",
   "metadata": {},
   "source": [
    "### Comandos linux "
   ]
  },
  {
   "cell_type": "markdown",
   "metadata": {},
   "source": [
    "#### Estrutura de um comando Linux\n",
    "\n",
    "```bash \n",
    "comando -opcoes argumentos```\n",
    "\n",
    "**Analogia:** \n",
    "\n",
    "O comando é o verbo, as opções são o adverbio e os argumentos são o objeto. \n",
    "\n",
    "**Exemplo:**\n",
    "\n",
    "```bash\n",
    "ls -l *.txt```\n",
    "\n",
    "Nesse exemplo `ls` lista os diretórios `-l` indica que devemos apresentar todas as informações\n",
    "e `*.txt`diz quais arquivos devemos listar. \n",
    "\n",
    "**Nota:** Se temos várias opções, elas podem ser indicadas sucessivamente sem espaços\n",
    "\n",
    "**Exemplo:**\n",
    "\n",
    "```bash \n",
    "ls -la ```\n"
   ]
  },
  {
   "cell_type": "markdown",
   "metadata": {},
   "source": [
    "#### Arquivos\n",
    "##### ls\n",
    "Lista os arquivos em um diretório\n",
    "-l lista todos os diretorios\n",
    "-a lista todos os arquivos de um diretorio\n",
    "##### cp\n",
    "copia arquvios\n",
    "Exemplo: cp origem destino\n",
    "##### mv\n",
    "move ou renomeia arquivos\n",
    "mv origem destino\n",
    "##### rm\n",
    "deleta um arquivo\n",
    "##### mkdir\n",
    "cria um diretorio\n",
    "##### cd \n",
    "muda de diretorio\n",
    "cd ˜ = volto para o diretorio Home\n",
    "cd .. = retorna/avança ao diretorio de cima\n",
    "##### zip, gzip \n",
    "zip = cria um arquivo .zip (zip nomedoarquivo.zip)\n",
    "unzip = descompacta o arquivo .zip\n",
    "gzip = comprime o arquivo (?)\n",
    "*.gz - pega todos os arquivos .gz e executa a funçao \n",
    "##### file\n",
    "da a caracteristica do arquivo"
   ]
  },
  {
   "cell_type": "markdown",
   "metadata": {},
   "source": [
    "#### Visualização de arquivos \n",
    "##### more\n",
    "pagina o arquivo/ mostra os arquivo\n",
    "##### less\n",
    "pagina o arquivo de traz para frente\n",
    "##### wc\n",
    "wc dados: conta o numero de palavras, linhas e caracteres\n",
    "##### cat \n",
    "exibe todos os dados juntos\n",
    "##### head \n",
    "mostra as primeiras linhas\n",
    "##### tail\n",
    "mostra as uiltimas linhas\n",
    "##### grep \n",
    "grep bz dados: procura em todas as linhas todos os arquivos que contem BZ no nome \n"
   ]
  },
  {
   "cell_type": "markdown",
   "metadata": {},
   "source": [
    "#### Redes \n",
    "##### ping \n",
    "conexao direta com o servidor (exemplo: ping www.google.com.br)\n",
    "##### ifconfig\n",
    "\n",
    "##### ssh\n",
    "conecta com o propio computador ou outro (diferente IP)\n",
    "ssh lemke@200.145.139.203 ( para diferente IP)\n",
    "##### scp \n",
    "copia arquivos pra outros computadores (IPs)"
   ]
  },
  {
   "cell_type": "markdown",
   "metadata": {},
   "source": [
    "#### Redirecionamento \n",
    "##### >\n",
    "direciona a saida para um arquivo\n",
    "##### >>\n",
    "direciona  a saida para um arquivo duas vezes\n",
    "##### | \n",
    "permite executar dois commandos ;;; more | ls\n",
    "##### <\n",
    "#### `command`\n"
   ]
  },
  {
   "cell_type": "markdown",
   "metadata": {},
   "source": [
    "#### Editor \n",
    "##### nano \n",
    "\n",
    "##### Editor do Sage"
   ]
  },
  {
   "cell_type": "markdown",
   "metadata": {},
   "source": []
  },
  {
   "cell_type": "markdown",
   "metadata": {},
   "source": [
    "#### Ajuda \n",
    "##### man"
   ]
  },
  {
   "cell_type": "markdown",
   "metadata": {},
   "source": [
    "#### Processos\n",
    "##### top \n",
    "##### kill \n",
    "##### Ctrl-C\n",
    "para o processo\n",
    "##### Ctrl-Z\n",
    "pausa o processo\n",
    "para trazer de volta usa o comando fg\n",
    "\n",
    "##### shutdown \n",
    "##### ps "
   ]
  },
  {
   "cell_type": "markdown",
   "metadata": {},
   "source": [
    "#### Variados \n",
    "##### find \n",
    "##### date \n",
    "##### echo \n",
    "##### yes "
   ]
  },
  {
   "cell_type": "markdown",
   "metadata": {},
   "source": [
    "#### wildcards\n",
    "##### *\n",
    "##### ?"
   ]
  },
  {
   "cell_type": "markdown",
   "metadata": {
    "collapsed": true
   },
   "source": [
    "## Exercícios\n",
    "\n",
    "- 1.Liste os arquivos de um diretório por data de modificação, inicie pelo mais atual.\n",
    "- 2.Gere um arquivo com 20 linhas. Imprima as linhas 3 até 10.\n",
    "- 3.Use o comando date para salvar o resultado do comando ls em um arquivo chamado lista_min_seg. Onde min e seg são o minuto e o segundo.\n",
    "\n",
    "**- Observação: Após a realização desses exercícios, crie um notebook na pasta da própria aula03.04.2017 e coloque as respostas de cada exercícios em modo markdown. (O aluno deverá colocar o comando de entrada no terminal e a saída apresentada pelo terminal, também poderá utilizar print da tela em forma de imagem).**\n",
    "\n"
   ]
  }
 ],
 "metadata": {
  "kernelspec": {
   "display_name": "Python 2 (SageMath)",
   "language": "python",
   "name": "python2"
  },
  "language_info": {
   "codemirror_mode": {
    "name": "ipython",
    "version": 2
   },
   "file_extension": ".py",
   "mimetype": "text/x-python",
   "name": "python",
   "nbconvert_exporter": "python",
   "pygments_lexer": "ipython2",
   "version": "2.7.13"
  }
 },
 "nbformat": 4,
 "nbformat_minor": 0
}
