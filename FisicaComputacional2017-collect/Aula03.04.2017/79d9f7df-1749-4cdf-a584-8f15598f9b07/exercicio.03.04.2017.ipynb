{
 "cells": [
  {
   "cell_type": "code",
   "execution_count": 115,
   "metadata": {
    "collapsed": false
   },
   "outputs": [
    {
     "name": "stdout",
     "output_type": "stream",
     "text": [
      "\u001b[0m\u001b[01;34mAula03.04.2017\u001b[0m/\r\n",
      "\u001b[01;34mpasta\u001b[0m/\r\n",
      "\u001b[01;34mExercicios\u001b[0m/\r\n",
      "\u001b[01;34mAula27.03.2017\u001b[0m/\r\n",
      "\u001b[01;34mAula27.03.2017-graded\u001b[0m/\r\n",
      "\u001b[01;34mAula20.03.2017-graded\u001b[0m/\r\n",
      "\u001b[01;34mAula20.03.2017\u001b[0m/\r\n",
      "\u001b[01;34maula13.03\u001b[0m/\r\n",
      "\u001b[01;34mAula06.03.2017\u001b[0m/\r\n"
     ]
    }
   ],
   "source": [
    "ls -1t"
   ]
  },
  {
   "cell_type": "code",
   "execution_count": 116,
   "metadata": {
    "collapsed": false
   },
   "outputs": [
    {
     "name": "stdout",
     "output_type": "stream",
     "text": [
      "mkdir: cannot create directory ‘pasta’: File exists\r\n"
     ]
    }
   ],
   "source": [
    "mkdir pasta"
   ]
  },
  {
   "cell_type": "code",
   "execution_count": 125,
   "metadata": {
    "collapsed": false
   },
   "outputs": [
    {
     "name": "stdout",
     "output_type": "stream",
     "text": [
      "/projects/4bc99079-88e6-4c8e-99e2-ff8bd70c5c29/pasta\n"
     ]
    }
   ],
   "source": [
    "cd pasta"
   ]
  },
  {
   "cell_type": "code",
   "execution_count": 126,
   "metadata": {
    "collapsed": false
   },
   "outputs": [
    {
     "name": "stdout",
     "output_type": "stream",
     "text": [
      "text.txt\r\n"
     ]
    }
   ],
   "source": [
    "ls text.txt"
   ]
  },
  {
   "cell_type": "code",
   "execution_count": 127,
   "metadata": {
    "collapsed": false
   },
   "outputs": [
    {
     "name": "stdout",
     "output_type": "stream",
     "text": [
      "     1\t1\r",
      "\r\n",
      "     2\t2\r",
      "\r\n",
      "     3\t3\r",
      "\r\n",
      "     4\t4\r",
      "\r\n",
      "     5\t5\r",
      "\r\n",
      "     6\t6 ? azeitona\r",
      "\r\n",
      "     7\t7\r",
      "\r\n",
      "     8\t8\r",
      "\r\n",
      "     9\t9\r",
      "\r\n",
      "    10\t10\r",
      "\r\n",
      "    11\t11\r",
      "\r\n",
      "    12\t12\r",
      "\r\n",
      "    13\t13\r",
      "\r\n",
      "    14\t14\r",
      "\r\n",
      "    15\t15\r",
      "\r\n",
      "    16\t16\r",
      "\r\n",
      "    17\t17\r",
      "\r\n",
      "    18\t18\r",
      "\r\n",
      "    19\t19\r",
      "\r\n",
      "    20\t20 - azeitona\r",
      "\r\n"
     ]
    }
   ],
   "source": [
    "cat -n text.txt\n"
   ]
  },
  {
   "cell_type": "code",
   "execution_count": 120,
   "metadata": {
    "collapsed": false
   },
   "outputs": [
    {
     "name": "stdout",
     "output_type": "stream",
     "text": [
      "/projects/4bc99079-88e6-4c8e-99e2-ff8bd70c5c29\n"
     ]
    }
   ],
   "source": [
    "cd"
   ]
  },
  {
   "cell_type": "markdown",
   "metadata": {},
   "source": [
    "##NAO CONSEGUI REALIZAR O RESTO POIS ALGUNS COMANDOS COMO HEAD/TAILS E DATE NAO ESTAO FUNCIONANDO MESMO APOS SEGUIR\n",
    "##TUTORIAIS NA INT\n"
   ]
  }
 ],
 "metadata": {
  "kernelspec": {
   "display_name": "Python 2 (SageMath)",
   "language": "python",
   "name": "python2"
  },
  "language_info": {
   "codemirror_mode": {
    "name": "ipython",
    "version": 2
   },
   "file_extension": ".py",
   "mimetype": "text/x-python",
   "name": "python",
   "nbconvert_exporter": "python",
   "pygments_lexer": "ipython2",
   "version": "2.7.13"
  }
 },
 "nbformat": 4,
 "nbformat_minor": 0
}
