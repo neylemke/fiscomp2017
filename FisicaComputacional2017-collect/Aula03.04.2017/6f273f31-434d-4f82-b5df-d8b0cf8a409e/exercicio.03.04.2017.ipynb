{
 "cells": [
  {
   "cell_type": "markdown",
   "metadata": {
    "collapsed": false
   },
   "source": [
    "Exercicio 1\n",
    "\n",
    "~/Aula03.04.2017$ ls\n",
    "800px-Hp-35_1972.jpg  800px-Iranian_Astrolabe_14.jpg  ComandosLinux.ipynb  Exercicio.03.04.2017.term  exc5.png  linguagens.png  m1.png  m2.png\n",
    "~/Aula03.04.2017$ ls -r\n",
    "m2.png  m1.png  linguagens.png  exc5.png  Exercicio.03.04.2017.term  ComandosLinux.ipynb  800px-Iranian_Astrolabe_14.jpg  800px-Hp-35_1972.jpg\n"
   ]
  },
  {
   "cell_type": "markdown",
   "metadata": {},
   "source": [
    "Exercicio 2 \n",
    "\n",
    "~/Aula03.04.2017$ nano\n",
    "~/Aula03.04.2017$ exit\n",
    "~/Aula03.04.2017$ more arquivo.txt\n",
    "1\n",
    "2\n",
    "3\n",
    "4\n",
    "5\n",
    "6\n",
    "7\n",
    "8\n",
    "9\n",
    "10\n",
    "11\n",
    "12\n",
    "13\n",
    "14\n",
    "15\n",
    "16\n",
    "17\n",
    "18\n",
    "19\n",
    "20\n",
    "~/Aula03.04.2017$ head arquivo.txt\n",
    "1\n",
    "2\n",
    "3\n",
    "4\n",
    "5\n",
    "6\n",
    "7\n",
    "8\n",
    "9\n",
    "10\n",
    "~/Aula03.04.2017$ head -10 arquivo.txt | tail -8\n",
    "3\n",
    "4\n",
    "5\n",
    "6\n",
    "7\n",
    "8\n",
    "9\n",
    "10"
   ]
  },
  {
   "cell_type": "markdown",
   "metadata": {},
   "source": [
    "Exercicio 3\n",
    "\n",
    "~/Aula03.04.2017$  ls >  lis_`date +%M%S`\n",
    "~/Aula03.04.2017$ ls\n",
    "800px-Hp-35_1972.jpg  800px-Iranian_Astrolabe_14.jpg  ComandosLinux.ipynb  Exercicio.03.04.2017.term  arquivo.txt  exc5.png  linguagens.png  lis_0023  m1.png  m2.png"
   ]
  }
 ],
 "metadata": {
  "kernelspec": {
   "display_name": "Python 2 (SageMath)",
   "language": "python",
   "name": "python2"
  },
  "language_info": {
   "codemirror_mode": {
    "name": "ipython",
    "version": 2
   },
   "file_extension": ".py",
   "mimetype": "text/x-python",
   "name": "python",
   "nbconvert_exporter": "python",
   "pygments_lexer": "ipython2",
   "version": "2.7.13"
  }
 },
 "nbformat": 4,
 "nbformat_minor": 0
}
