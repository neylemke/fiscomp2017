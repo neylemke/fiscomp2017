{
 "cells": [
  {
   "cell_type": "markdown",
   "metadata": {},
   "source": [
    "# Ubuntu/ Linux\n"
   ]
  },
  {
   "cell_type": "markdown",
   "metadata": {},
   "source": [
    "## Shell "
   ]
  },
  {
   "cell_type": "markdown",
   "metadata": {},
   "source": [
    "### Comandos linux "
   ]
  },
  {
   "cell_type": "markdown",
   "metadata": {},
   "source": [
    "#### Estrutura de um comando Linux\n",
    "\n",
    "```bash \n",
    "comando -opcoes argumentos```\n",
    "\n",
    "**Analogia:** \n",
    "\n",
    "O comando é o verbo, as opções são o adverbio e os argumentos são o objeto. \n",
    "\n",
    "**Exemplo:**\n",
    "\n",
    "```bash\n",
    "ls -l *.txt```\n",
    "\n",
    "Nesse exemplo `ls` lista os diretórios `-l` indica que devemos apresentar todas as informações\n",
    "e `*.txt`diz quais arquivos devemos listar. \n",
    "\n",
    "**Nota:** Se temos várias opções, elas podem ser indicadas sucessivamente sem espaços\n",
    "\n",
    "**Exemplo:**\n",
    "\n",
    "```bash \n",
    "ls -la ```\n"
   ]
  },
  {
   "cell_type": "markdown",
   "metadata": {},
   "source": [
    "#### Arquivos\n",
    "##### ls\n",
    "Lista os arquivos em um diretório\n",
    "-l lista os arquivos com todas as informações\n",
    "-a lista todos os arquivos \n",
    "##### cp\n",
    "copia arquivos \n",
    "exemplo: \n",
    "cp origem destino\n",
    "##### mv\n",
    "move ou renomeia os arquivos \n",
    "mv origem destino\n",
    "##### rm\n",
    "deleta um arquivo \n",
    "##### mkdir\n",
    "cria um diretório \n",
    "##### cd \n",
    "muda de diretório\n",
    " ~ diretório home \n",
    " .. sobe um nível\n",
    " . representa o diretório atual\n",
    "##### zip, gzip \n",
    "zip:  junta e comprime os arquivos\n",
    "\"zip filosofia.zip blablabla zzz\": vai juntar ambos os arquivos \"blablabla\" e \"zzz\" em um arquivo zip chamado \"filosofia\"\n",
    "unzip: deszipa os arquivos do pactoe zip \n",
    "gzip: comprime os arquivos separadamente\n",
    "\n",
    "##### file\n",
    "descreve arquivo \n",
    "\"file kkk\": descreve o arquivo kkk"
   ]
  },
  {
   "cell_type": "markdown",
   "metadata": {},
   "source": [
    "#### Visualização de arquivos \n",
    "##### more\n",
    "mostra os arquivos \n",
    "##### less\n",
    "mostra os arquivos\n",
    "##### wc\n",
    "conta as palavras\n",
    "##### cat\n",
    "cat arq1 arq2\n",
    "\n",
    "concatena (junta) as informações\n",
    "##### head \n",
    "mostra as primeiras linhas\n",
    "##### tail\n",
    "mostra as últimas linhas\n",
    "##### grep \n",
    "seleciona linhas com determinadas características"
   ]
  },
  {
   "cell_type": "markdown",
   "metadata": {},
   "source": [
    "#### Redes \n",
    "##### ping \n",
    "mostra o ping \n",
    "##### ifconfig\n",
    "mostra o seu endereço de IP\n",
    "##### ssh\n",
    "faz você se conectar com um determinado endereço de IP\n",
    "##### scp \n",
    "permite copiar arquivos entre máquinas"
   ]
  },
  {
   "cell_type": "markdown",
   "metadata": {},
   "source": [
    "#### Redirecionamento \n",
    "##### >\n",
    "direciona arquivo\n",
    "##### >>\n",
    "apendeia\n",
    "##### | \n",
    "##### <\n",
    "#### `command`"
   ]
  },
  {
   "cell_type": "markdown",
   "metadata": {},
   "source": [
    "#### Editor \n",
    "##### nano \n",
    "abre um gerador de arquivos, que podem ser arquivos de texto ou não\n",
    "##### Editor do Sage"
   ]
  },
  {
   "cell_type": "markdown",
   "metadata": {},
   "source": []
  },
  {
   "cell_type": "markdown",
   "metadata": {},
   "source": [
    "#### Ajuda \n",
    "##### man\n",
    "mostra um manual (guide) do comando com códigos"
   ]
  },
  {
   "cell_type": "markdown",
   "metadata": {},
   "source": [
    "#### Processos\n",
    "##### top \n",
    "lista o que está ocorrendo na máquina (gerenciador de tarefas do linux)\n",
    "##### kill \n",
    "finaliza/mata o processo \n",
    "##### Ctrl-C\n",
    "para o processo que está ocorrendo\n",
    "##### Ctrl-Z\n",
    "'congela' o processo. para que ele volte a ocorrer, é só escrever 'fg' \n",
    "##### shutdown \n",
    "reinicia/desliga a máquina\n",
    "'-r' reinicia\n",
    "'-h' desliga\n",
    "eu posso escolher o tempo que irá ocorrer, dando um espaço e escrevendo 'now' para que isso ocorra agora. Também pode ser programado este tempo\n",
    "##### ps \n",
    "lista os processos que estão ocorrendo"
   ]
  },
  {
   "cell_type": "markdown",
   "metadata": {},
   "source": [
    "#### Variados \n",
    "##### find \n",
    "##### date \n",
    "##### echo \n",
    "repete o que eu escrever\n",
    "exemplo: \"echo \"teste\"\" ira mostrar a palavra teste\n",
    "##### yes "
   ]
  },
  {
   "cell_type": "markdown",
   "metadata": {},
   "source": [
    "#### wildcards\n",
    "##### *\n",
    "tudo o que vem depois, incluindo espaços em branco\n",
    "##### ?\n",
    "quando não se sabe o que é \n",
    "##### {a,b}\n",
    "lista o que está contido nas chaves"
   ]
  },
  {
   "cell_type": "markdown",
   "metadata": {
    "collapsed": true
   },
   "source": [
    "## Exercícios\n",
    "\n",
    "- 1.Liste os arquivos de um diretório por data de modificação, inicie pelo mais atual.\n",
    "- 2.Gere um arquivo com 20 linhas. Imprima as linhas 3 até 10.\n",
    "- 3.Use o comando date para salvar o resultado do comando ls em um arquivo chamado lista_min_seg. Onde min e seg são o minuto e o segundo.\n",
    "\n",
    "**- Observação: Após a realização desses exercícios, crie um notebook na pasta da própria aula03.04.2017 e coloque as respostas de cada exercícios em modo markdown. (O aluno deverá colocar o comando de entrada no terminal e a saída apresentada pelo terminal, também poderá utilizar print da tela em forma de imagem).**\n",
    "\n"
   ]
  }
 ],
 "metadata": {
  "kernelspec": {
   "display_name": "Python 2 (SageMath)",
   "language": "python",
   "name": "python2"
  },
  "language_info": {
   "codemirror_mode": {
    "name": "ipython",
    "version": 2
   },
   "file_extension": ".py",
   "mimetype": "text/x-python",
   "name": "python",
   "nbconvert_exporter": "python",
   "pygments_lexer": "ipython2",
   "version": "2.7.13"
  }
 },
 "nbformat": 4,
 "nbformat_minor": 0
}
