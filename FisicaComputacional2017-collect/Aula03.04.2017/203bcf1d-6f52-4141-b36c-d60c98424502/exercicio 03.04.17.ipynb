{
 "cells": [
  {
   "cell_type": "code",
   "execution_count": 1,
   "metadata": {
    "collapsed": false
   },
   "outputs": [
    {
     "name": "stdout",
     "output_type": "stream",
     "text": [
      "800px-Hp-35_1972.jpg            exc5.png                  m1.png\r\n",
      "800px-Iranian_Astrolabe_14.jpg  exercicio 03.04.17.ipynb  m2.png\r\n",
      "ComandosLinux.ipynb             linguagens.png\r\n"
     ]
    }
   ],
   "source": [
    "ls"
   ]
  },
  {
   "cell_type": "code",
   "execution_count": 2,
   "metadata": {
    "collapsed": false
   },
   "outputs": [
    {
     "name": "stdout",
     "output_type": "stream",
     "text": [
      "total 576\r\n",
      "-rw-r----- 1 45a157b455a543f9bbde7a5b0ad391db 45a157b455a543f9bbde7a5b0ad391db    704 Apr 10 14:07 exercicio 03.04.17.ipynb\r\n",
      "-rw-r----- 1 45a157b455a543f9bbde7a5b0ad391db 45a157b455a543f9bbde7a5b0ad391db   4105 Apr 10 14:07 ComandosLinux.ipynb\r\n",
      "-rw-r----- 1 45a157b455a543f9bbde7a5b0ad391db 45a157b455a543f9bbde7a5b0ad391db   7539 Apr  2 22:48 exc5.png\r\n",
      "-rw-r----- 1 45a157b455a543f9bbde7a5b0ad391db 45a157b455a543f9bbde7a5b0ad391db  10904 Apr  2 22:48 m2.png\r\n",
      "-rw-r----- 1 45a157b455a543f9bbde7a5b0ad391db 45a157b455a543f9bbde7a5b0ad391db 108589 Apr  2 22:48 linguagens.png\r\n",
      "-rw-r----- 1 45a157b455a543f9bbde7a5b0ad391db 45a157b455a543f9bbde7a5b0ad391db   5055 Apr  2 22:48 m1.png\r\n",
      "-rw-r----- 1 45a157b455a543f9bbde7a5b0ad391db 45a157b455a543f9bbde7a5b0ad391db 249889 Apr  2 22:48 800px-Hp-35_1972.jpg\r\n",
      "-rw-r----- 1 45a157b455a543f9bbde7a5b0ad391db 45a157b455a543f9bbde7a5b0ad391db 184222 Apr  2 22:48 800px-Iranian_Astrolabe_14.jpg\r\n"
     ]
    }
   ],
   "source": [
    "ls -lt"
   ]
  },
  {
   "cell_type": "code",
   "execution_count": 14,
   "metadata": {
    "collapsed": false
   },
   "outputs": [
    {
     "name": "stdout",
     "output_type": "stream",
     "text": [
      "3\n",
      "4\n",
      "5\n",
      "6\n",
      "7\n",
      "8\n",
      "9\n",
      "10\n",
      "11\n",
      "12\n",
      "13\n",
      "14\n",
      "15\n",
      "16\n",
      "17\n",
      "18\n",
      "19\n",
      "20\n",
      "\n"
     ]
    }
   ],
   "source": [
    "f = open('teste.txt', 'r')\n",
    ">>> f = open('teste.txt', 'r')\n",
    ">>> for line in f:\n",
    "...   line\n",
    "...\n",
    "'1\\n'\n",
    "'2\\n'\n",
    "'3\\n'\n",
    "'4\\n'\n",
    "'5\\n'\n",
    "'6/n'\n",
    "'7/n'\n",
    "'8/n'\n",
    "'9/n'\n",
    "'10/n'\n",
    "'11/n'\n",
    "'12/n'\n",
    "'13/n'\n",
    "'14/n'\n",
    "'15/n'\n",
    "'16/n'\n",
    "'17/n'\n",
    "'18/n'\n",
    "'19/n'\n",
    "'20/n'\n",
    "print(\"\"\"3\n",
    "4\n",
    "5\n",
    "6\n",
    "7\n",
    "8\n",
    "9\n",
    "10\n",
    "11\n",
    "12\n",
    "13\n",
    "14\n",
    "15\n",
    "16\n",
    "17\n",
    "18\n",
    "19\n",
    "20\n",
    "\"\"\")"
   ]
  },
  {
   "cell_type": "markdown",
   "metadata": {},
   "source": []
  }
 ],
 "metadata": {
  "kernelspec": {
   "display_name": "Python 2 (SageMath)",
   "language": "python",
   "name": "python2"
  },
  "language_info": {
   "codemirror_mode": {
    "name": "ipython",
    "version": 2
   },
   "file_extension": ".py",
   "mimetype": "text/x-python",
   "name": "python",
   "nbconvert_exporter": "python",
   "pygments_lexer": "ipython2",
   "version": "2.7.13"
  }
 },
 "nbformat": 4,
 "nbformat_minor": 0
}
