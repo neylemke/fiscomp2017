{
 "cells": [
  {
   "cell_type": "code",
   "execution_count": 1,
   "metadata": {
    "collapsed": false
   },
   "outputs": [
    {
     "name": "stdout",
     "output_type": "stream",
     "text": [
      "[1, 2, 3, 4, 5, 6, 7, 8, 9, 10, 11, 12, 13, 14, 15, 16, 17, 18, 19, 20]\n"
     ]
    }
   ],
   "source": [
    "#Faça uma programa que leia um vetor de 20 números inteiros e mostre-nos.\n",
    "vetor = range(1, 21)\n",
    "print(vetor)"
   ]
  },
  {
   "cell_type": "code",
   "execution_count": 4,
   "metadata": {
    "collapsed": false
   },
   "outputs": [
    {
     "name": "stdout",
     "output_type": "stream",
     "text": [
      "2\n",
      "4\n",
      "6\n",
      "8\n",
      "10\n",
      "12\n",
      "14\n",
      "16\n",
      "18\n",
      "20\n"
     ]
    }
   ],
   "source": [
    "#Com a resposta do item 1 imprima todos os elementos pares.\n",
    "for i in range(len(vetor)):\n",
    "        if vetor[i]%2==0:\n",
    "            print(vetor[i])"
   ]
  },
  {
   "cell_type": "code",
   "execution_count": 7,
   "metadata": {
    "collapsed": false
   },
   "outputs": [
    {
     "name": "stdout",
     "output_type": "stream",
     "text": [
      "('Notas do aluno 1:', [1, 2, 3, 4])\n",
      "('Notas do aluno 2:', [2, 3, 4, 5])\n",
      "('Media do aluno 1:', 2.5)\n",
      "('Media do aluno 2:', 3.5)\n"
     ]
    }
   ],
   "source": [
    "#Faça um Programa que leia 4 notas de dois alunos, mostre as notas e a média na tela de cada aluno.\n",
    "n1=[]\n",
    "n2=[]\n",
    "for i in range(4):\n",
    "    n1.append(i+1)\n",
    "    n2.append(i+2)\n",
    "m1 = sum(n1)/4.0\n",
    "m2 = sum(n2)/4.0\n",
    "print(\"Notas do aluno 1:\", n1)\n",
    "print(\"Notas do aluno 2:\", n2)\n",
    "print(\"Media do aluno 1:\", m1)\n",
    "print(\"Media do aluno 2:\", m2)"
   ]
  },
  {
   "cell_type": "code",
   "execution_count": 19,
   "metadata": {
    "collapsed": false
   },
   "outputs": [
    {
     "name": "stdout",
     "output_type": "stream",
     "text": [
      "Insira a idade das pessoas:\n",
      "('Insira a idade da pessoa ', 0)\n",
      "1\n",
      "('Insira a idade da pessoa ', 1)\n",
      "2\n",
      "('Insira a idade da pessoa ', 2)\n",
      "3\n",
      "('Insira a idade da pessoa ', 3)\n",
      "4\n",
      "('Insira a idade da pessoa ', 4)\n",
      "5\n",
      "('Insira a altura da pessoa ', 0)\n",
      "5\n",
      "('Insira a altura da pessoa ', 1)\n",
      "4\n",
      "('Insira a altura da pessoa ', 2)\n",
      "3\n",
      "('Insira a altura da pessoa ', 3)\n",
      "2\n",
      "('Insira a altura da pessoa ', 4)\n",
      "1\n",
      "('Menor idade: ', 1, 'Maior idade: ', 5)\n",
      "('Menor altura: ', 1.0, 'Maior altura: ', 5.0)\n"
     ]
    }
   ],
   "source": [
    "#Faça um Programa que peça a idade e a altura de 5 pessoas, armazene cada informação no seu respectivo vetor. Encontre o minimo e o maximo valores dessas listase e imprima os resultados.\n",
    "print(\"Insira a idade das pessoas:\")\n",
    "idade = []\n",
    "for i in range(5):\n",
    "    print(\"Insira a idade da pessoa \", i)\n",
    "    a = int(input(\"\"))\n",
    "    idade.append(a)\n",
    "altura = []\n",
    "for i in range(5):\n",
    "    print(\"Insira a altura da pessoa \", i)\n",
    "    b = float(input(\"\"))\n",
    "    altura.append(b)\n",
    "menori= min(idade)\n",
    "maiori  = max(idade)\n",
    "menora = min(altura)\n",
    "maiora = max(altura)\n",
    "print(\"Menor idade: \", menori, \"Maior idade: \", maiori)\n",
    "print(\"Menor altura: \", menora, \"Maior altura: \", maiora)"
   ]
  },
  {
   "cell_type": "code",
   "execution_count": 4,
   "metadata": {
    "collapsed": false
   },
   "outputs": [
    {
     "name": "stdout",
     "output_type": "stream",
     "text": [
      "Insira os elementos do vetor 1:\n",
      "V1[0]\n",
      "1\n",
      "V1[1]\n",
      "2\n",
      "V1[2]\n",
      "3\n",
      "V1[3]\n",
      "4\n",
      "V1[4]\n",
      "5\n",
      "V1[5]\n",
      "6\n",
      "V1[6]\n",
      "7\n",
      "V1[7]\n",
      "8\n",
      "V1[8]\n",
      "9\n",
      "V1[9]\n",
      "10\n",
      "Insira os elementos do vetor2:\n",
      "V2[0]\n",
      "10\n",
      "V2[1]\n",
      "9\n",
      "V2[2]\n",
      "8\n",
      "V2[3]\n",
      "7\n",
      "V2[4]\n",
      "6\n",
      "V2[5]\n",
      "5\n",
      "V2[6]\n",
      "4\n",
      "V2[7]\n",
      "3\n",
      "V2[8]\n",
      "2\n",
      "V2[9]\n",
      "1\n",
      "[1.0, 10.0, 2.0, 9.0, 3.0, 8.0, 4.0, 7.0, 5.0, 6.0, 6.0, 5.0, 7.0, 4.0, 8.0, 3.0, 9.0, 2.0, 10.0, 1.0]\n"
     ]
    }
   ],
   "source": [
    "#Faça um Programa que leia dois vetores com 10 elementos cada. Gere um terceiro vetor de 20 elementos, cujos valores deverão ser compostos pelos elementos intercalados dos dois outros vetores.\n",
    "print(\"Insira os elementos do vetor 1:\")\n",
    "v1 = []\n",
    "v2 = []\n",
    "for i in range(10):\n",
    "    print(\"V1[\"+str(i)+\"]\")\n",
    "    a = float(input(\"\"))\n",
    "    v1.append(a)\n",
    "print(\"Insira os elementos do vetor2:\")\n",
    "v3 = []\n",
    "for i in range(10):\n",
    "    print(\"V2[\"+str(i)+\"]\")\n",
    "    b = float(input(\"\"))\n",
    "    v2.append(b)  \n",
    "for i in range(10):\n",
    "    v3.append(v1[i])\n",
    "    v3.append(v2[i])\n",
    "print(v3)\n",
    "\n",
    "        \n",
    "    "
   ]
  },
  {
   "cell_type": "code",
   "execution_count": 9,
   "metadata": {
    "collapsed": false
   },
   "outputs": [
    {
     "name": "stdout",
     "output_type": "stream",
     "text": [
      "Intervalo entre a posição: 0 e 1\n",
      "0.89\n",
      "Intervalo entre a posição: 1 e 2\n",
      "1.33\n",
      "Intervalo entre a posição: 2 e 3\n",
      "1.13\n",
      "Intervalo entre a posição: 3 e 4\n",
      "0.99\n",
      "Intervalo entre a posição: 4 e 5\n",
      "1.9\n",
      "Intervalo entre a posição: 5 e 6\n",
      "0.68\n",
      "Intervalo entre a posição: 6 e 7\n",
      "1.18\n",
      "Intervalo entre a posição: 7 e 8\n",
      "1.1\n"
     ]
    }
   ],
   "source": [
    "#Vale 0.25 pts (Fazer em casa). Dado: lista 1= [1.25, 2.14, 3.47,4.60, 5.59, 7.49, 8.17, 9.35, 10.45]. O aluno deverá deverá encontrar os intervalos de tempo da lista 1.\n",
    "lista1 = [1.25, 2.14, 3.47,4.60, 5.59, 7.49, 8.17, 9.35, 10.45]\n",
    "for i in range(len(lista1)-1):\n",
    "    print(\"Intervalo entre a posição: \" +str(i)+ \" e \" +str(i+1))\n",
    "    print(lista1[i+1] - lista1[i])"
   ]
  },
  {
   "cell_type": "code",
   "execution_count": null,
   "metadata": {
    "collapsed": true
   },
   "outputs": [],
   "source": []
  }
 ],
 "metadata": {
  "kernelspec": {
   "display_name": "Python 2 (SageMath)",
   "language": "python",
   "name": "python2"
  },
  "language_info": {
   "codemirror_mode": {
    "name": "ipython",
    "version": 2
   },
   "file_extension": ".py",
   "mimetype": "text/x-python",
   "name": "python",
   "nbconvert_exporter": "python",
   "pygments_lexer": "ipython2",
   "version": "2.7.13"
  }
 },
 "nbformat": 4,
 "nbformat_minor": 0
}
