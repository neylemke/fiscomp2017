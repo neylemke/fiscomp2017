{
 "cells": [
  {
   "cell_type": "markdown",
   "metadata": {
    "collapsed": false
   },
   "source": [
    "## Exercício 1"
   ]
  },
  {
   "cell_type": "code",
   "execution_count": 11,
   "metadata": {
    "collapsed": false
   },
   "outputs": [
    {
     "name": "stdout",
     "output_type": "stream",
     "text": [
      "lista: [0, 1, 2, 3, 4, 5, 6, 7, 8, 9, 10, 11, 12, 13, 14, 15, 16, 17, 18, 19]\n"
     ]
    }
   ],
   "source": [
    "lista=range(20)\n",
    "print \"lista:\",lista"
   ]
  },
  {
   "cell_type": "code",
   "execution_count": 19,
   "metadata": {
    "collapsed": false
   },
   "outputs": [
    {
     "data": {
      "text/plain": [
       "[0, 2, 4, 6, 8, 10, 12, 14, 16, 18]"
      ]
     },
     "execution_count": 19,
     "metadata": {},
     "output_type": "execute_result"
    }
   ],
   "source": [
    "l=lista[::2]\n",
    "l"
   ]
  },
  {
   "cell_type": "markdown",
   "metadata": {},
   "source": [
    "## Exercício 2"
   ]
  },
  {
   "cell_type": "code",
   "execution_count": 9,
   "metadata": {
    "collapsed": false
   },
   "outputs": [
    {
     "name": "stdout",
     "output_type": "stream",
     "text": [
      "[0, 1, 2, 3, 4, 5, 6, 7, 8, 9, 10, 11, 12, 13, 14, 15, 16, 17, 18, 19]\n",
      "[0, 2, 4, 6, 8, 10, 12, 14, 16, 18]\n"
     ]
    }
   ],
   "source": [
    "pares=[]\n",
    "lista=range(20)\n",
    "print(lista)\n",
    "for i in range(20):\n",
    "    if lista[i]%2==0:\n",
    "        pares.append(lista[i])\n",
    "print (pares)"
   ]
  },
  {
   "cell_type": "markdown",
   "metadata": {},
   "source": [
    "## Exercício 3"
   ]
  },
  {
   "cell_type": "code",
   "execution_count": 25,
   "metadata": {
    "collapsed": false
   },
   "outputs": [
    {
     "name": "stdout",
     "output_type": "stream",
     "text": [
      "('As notas do aluno 1 foram:', [10, 7, 9, 10], 'A media do aluno 1 foi:', 9)\n",
      "('As notas do aluno 2 foram:', [3, 6, 8, 0], 'A media do aluno2 foi:')\n"
     ]
    }
   ],
   "source": [
    "a1=[10,7,9,10]\n",
    "a2=[3,6,8,0]\n",
    "media1=(a1[0]+a1[1]+a1[0]+a1[3])/4\n",
    "print(\"As notas do aluno 1 foram:\", a1,\"A media do aluno 1 foi:\",media1)\n",
    "media2=(a2[0]+a2[1]+a2[2]+a2[3])/4\n",
    "print(\"As notas do aluno 2 foram:\", a2,\"A media do aluno2 foi:\")"
   ]
  },
  {
   "cell_type": "markdown",
   "metadata": {},
   "source": [
    "## Exercício 4"
   ]
  },
  {
   "cell_type": "code",
   "execution_count": 11,
   "metadata": {
    "collapsed": false
   },
   "outputs": [
    {
     "name": "stdout",
     "output_type": "stream",
     "text": [
      "insira a altura:1.50\n",
      "insira a idade:20\n",
      "insira a altura:1.60\n",
      "insira a idade:23\n",
      "insira a altura:2\n",
      "insira a idade:15\n",
      "insira a altura:1.73\n",
      "insira a idade:23\n",
      "insira a altura:1.61\n",
      "insira a idade:24\n",
      "['1.50', '1.60', '2', '1.73', '1.61']\n",
      "['20', '23', '15', '23', '24']\n"
     ]
    }
   ],
   "source": [
    "altura=[]\n",
    "idade=[]\n",
    "for i in range (5):\n",
    "    altura.append(input(\"insira a altura:\"))\n",
    "    idade.append(input(\"insira a idade:\"))\n",
    "print(altura)\n",
    "print(idade)"
   ]
  },
  {
   "cell_type": "code",
   "execution_count": 12,
   "metadata": {
    "collapsed": false
   },
   "outputs": [
    {
     "name": "stdout",
     "output_type": "stream",
     "text": [
      "a altura minima: 1.50\n",
      "a altura maxima: 2\n"
     ]
    }
   ],
   "source": [
    "print(\"a altura minima:\", min(altura))\n",
    "print (\"a altura maxima:\", max(altura))"
   ]
  },
  {
   "cell_type": "code",
   "execution_count": 13,
   "metadata": {
    "collapsed": false
   },
   "outputs": [
    {
     "name": "stdout",
     "output_type": "stream",
     "text": [
      "a idade minima: 15\n",
      "a idade maxima: 24\n"
     ]
    }
   ],
   "source": [
    "print(\"a idade minima:\",min(idade))\n",
    "print(\"a idade maxima:\",max(idade))"
   ]
  },
  {
   "cell_type": "markdown",
   "metadata": {},
   "source": [
    "## Exercício 5"
   ]
  },
  {
   "cell_type": "code",
   "execution_count": 3,
   "metadata": {
    "collapsed": false
   },
   "outputs": [
    {
     "name": "stdout",
     "output_type": "stream",
     "text": [
      "([0, 1, 2, 3, 4, 5, 6, 7, 8, 9], [0, 2, 4, 6, 8, 10, 12, 14, 16, 18])\n",
      "[(0, 0), (1, 2), (2, 4), (3, 6), (4, 8), (5, 10), (6, 12), (7, 14), (8, 16), (9, 18)]\n"
     ]
    }
   ],
   "source": [
    "lista1=range (10)\n",
    "lista2=range (0,20,2)\n",
    "intercaladas=lista1,lista2\n",
    "print(intercaladas)\n",
    "li=zip(lista1,lista2)\n",
    "print(li)"
   ]
  },
  {
   "cell_type": "markdown",
   "metadata": {},
   "source": [
    "## Exercicio6"
   ]
  },
  {
   "cell_type": "code",
   "execution_count": 2,
   "metadata": {
    "collapsed": false
   },
   "outputs": [
    {
     "name": "stdout",
     "output_type": "stream",
     "text": [
      "([2.14, 3.47, 4.6, 5.59, 7.49, 8.17, 9.35], [1.25, 2.14, 3.47, 4.6, 5.59, 7.49, 8.17])\n"
     ]
    }
   ],
   "source": [
    "L= [1.25, 2.14, 3.47,4.60, 5.59, 7.49, 8.17, 9.35, 10.45]\n",
    "L1=L[1:-1]\n",
    "L2=L[0:-2]\n",
    "\n"
   ]
  },
  {
   "cell_type": "code",
   "execution_count": 4,
   "metadata": {
    "collapsed": false
   },
   "outputs": [
    {
     "name": "stdout",
     "output_type": "stream",
     "text": [
      "[(2.14, 1.25), (3.47, 2.14), (4.6, 3.47), (5.59, 4.6), (7.49, 5.59), (8.17, 7.49), (9.35, 8.17)]\n"
     ]
    }
   ],
   "source": [
    "L3=zip(L1,L2)\n",
    "print (L3)"
   ]
  },
  {
   "cell_type": "code",
   "execution_count": 10,
   "metadata": {
    "collapsed": false
   },
   "outputs": [
    {
     "data": {
      "text/plain": [
       "[2.14, 3.47, 4.6, 5.59, 7.49, 8.17, 9.35]"
      ]
     },
     "execution_count": 10,
     "metadata": {},
     "output_type": "execute_result"
    }
   ],
   "source": [
    "L1"
   ]
  },
  {
   "cell_type": "code",
   "execution_count": 11,
   "metadata": {
    "collapsed": false
   },
   "outputs": [
    {
     "data": {
      "text/plain": [
       "[1.25, 2.14, 3.47, 4.6, 5.59, 7.49, 8.17]"
      ]
     },
     "execution_count": 11,
     "metadata": {},
     "output_type": "execute_result"
    }
   ],
   "source": [
    "L2"
   ]
  },
  {
   "cell_type": "code",
   "execution_count": 17,
   "metadata": {
    "collapsed": false
   },
   "outputs": [
    {
     "name": "stdout",
     "output_type": "stream",
     "text": [
      "[0.8900000000000001, 1.33, 1.1299999999999994, 0.9900000000000002, 1.9000000000000004, 0.6799999999999997, 1.1799999999999997]\n"
     ]
    }
   ],
   "source": [
    "Ltotal=[]\n",
    "for i in range(7):\n",
    "    Ltotal.append(L1[i]-L2[i])\n",
    "    \n",
    "print(Ltotal)"
   ]
  },
  {
   "cell_type": "code",
   "execution_count": null,
   "metadata": {
    "collapsed": true
   },
   "outputs": [],
   "source": []
  }
 ],
 "metadata": {
  "kernelspec": {
   "display_name": "Python 2 (SageMath)",
   "language": "python",
   "name": "python2"
  },
  "language_info": {
   "codemirror_mode": {
    "name": "ipython",
    "version": 2
   },
   "file_extension": ".py",
   "mimetype": "text/x-python",
   "name": "python",
   "nbconvert_exporter": "python",
   "pygments_lexer": "ipython2",
   "version": "2.7.13"
  }
 },
 "nbformat": 4,
 "nbformat_minor": 0
}
