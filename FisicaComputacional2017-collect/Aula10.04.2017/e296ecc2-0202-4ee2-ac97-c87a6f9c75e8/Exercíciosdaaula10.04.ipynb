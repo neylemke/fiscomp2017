{
 "cells": [
  {
   "cell_type": "markdown",
   "metadata": {},
   "source": [
    "# RODAR OS CÓDIGOS ABAIXO EM OPÇÃO DE KERNEL \"PYTHON2 (UBUNTO)\""
   ]
  },
  {
   "cell_type": "markdown",
   "metadata": {},
   "source": [
    "# ABAIXO ESTÃO OS EXERCÍCIOS 1, 2 E 3"
   ]
  },
  {
   "cell_type": "code",
   "execution_count": null,
   "metadata": {
    "collapsed": true
   },
   "outputs": [],
   "source": [
    "idade = []\n",
    "altura = []\n",
    "k=0\n",
    "b=0\n",
    "maior_idade = 0\n",
    "maior_altura = 0\n",
    "\n",
    "for i in range (1,6):\n",
    "  k = raw_input(\"Digite a idade da pessoa \"+str(i)+\"\")\n",
    "  idade.append(k)\n",
    "  \n",
    "  \n",
    "print (idade)\n",
    "\n",
    "for i in range (1,6):\n",
    "  b = raw_input(\"Digite a altura da pessoa \"+str(i)+\"\")\n",
    "  altura.append(b)\n",
    "\n",
    "\n",
    "print(altura)\n",
    "\n",
    "maior_idade = idade[0]\n",
    "maior_altura = altura[0]\n",
    "\n",
    "for i in idade:\n",
    "  if i > maior_idade:\n",
    "    maior_idade = i\n",
    "\n",
    "for i in altura:\n",
    "  if i > maior_altura:\n",
    "    maior_altura = i   \n",
    "    \n",
    "    \n",
    "print (\"A maior idade e: \")\n",
    "print (maior_idade)\n",
    "\n",
    "print(\"A maior altura e: \")\n",
    "print (maior_altura)"
   ]
  },
  {
   "cell_type": "markdown",
   "metadata": {},
   "source": [
    "# ABAIXO ESTÁ O EXERCÍCIO 4"
   ]
  },
  {
   "cell_type": "code",
   "execution_count": null,
   "metadata": {
    "collapsed": false
   },
   "outputs": [],
   "source": [
    "v = []\n",
    "k = 0\n",
    "p =[]\n",
    "aluno1 = []\n",
    "aluno2 = []\n",
    "t = 0\n",
    "r=0\n",
    "soma=0\n",
    "soma2 = 0\n",
    "\n",
    "for i in range(20):\n",
    "  k = raw_input(\"Digite um valor: \")\n",
    "  v.append(k)\n",
    "  \n",
    "print (v)  \n",
    "\n",
    "for i in v:\n",
    "  if int(i) % 2 == 0:\n",
    "    p.append(i)\n",
    "    \n",
    "print (\"Os valores pares da lista anterior sao: \")\n",
    "print (p)\n",
    "\n",
    "for i in range(4):\n",
    "  t = raw_input(\"Digite uma nota do aluno 1: \")\n",
    "  aluno1.append(t)\n",
    "\n",
    "for i in range(4):\n",
    "  r = raw_input(\"Digite uma nota do aluno 2: \")\n",
    "  aluno2.append(r)\n",
    "  \n",
    "for i in aluno1:\n",
    "  soma = soma+int(i)\n",
    "  \n",
    "  \n",
    "for i in aluno2:\n",
    "  soma2 = soma2+int(i)\n",
    "  \n",
    "  \n",
    "media1 = soma / 4\n",
    "print (\"A media do aluno 1 e: \")\n",
    "print (media1)\n",
    "\n",
    "media2 = soma2 / 4\n",
    "print(\"A media do aluno 2 e: \")\n",
    "print (media2)\n"
   ]
  },
  {
   "cell_type": "markdown",
   "metadata": {},
   "source": [
    "# ABAIXO ESTÁ O EXERCÍCIO 5"
   ]
  },
  {
   "cell_type": "code",
   "execution_count": null,
   "metadata": {
    "collapsed": true
   },
   "outputs": [],
   "source": [
    "v=[]\n",
    "k=0\n",
    "j=0\n",
    "\n",
    "for i in range(10):\n",
    "  k = raw_input(\"Digite um valor para o vetor 1: \")\n",
    "  v.append(k)\n",
    "  j= raw_input(\"Digite um valor do vetor 2: \")\n",
    "  v.append(j)\n",
    "  \n",
    "  \n",
    "print (v)"
   ]
  },
  {
   "cell_type": "markdown",
   "metadata": {},
   "source": [
    "# ABAIXO ESTÁ O EXERCÍCIO 6"
   ]
  },
  {
   "cell_type": "code",
   "execution_count": null,
   "metadata": {
    "collapsed": true
   },
   "outputs": [],
   "source": [
    "lista1 = [1.25, 2.14, 3.47,4.60, 5.59, 7.49, 8.17, 9.35, 10.45]\n",
    "intervalos = []\n",
    "k=0\n",
    "\n",
    "for i in range(len(lista1)-1):\n",
    "  k = lista1[i+1] - lista1[i]\n",
    "  intervalos.append(k)\n",
    "  \n",
    "print (\"Os intervalos de tempo sao: \")\n",
    "print (intervalos)"
   ]
  }
 ],
 "metadata": {
  "kernelspec": {
   "display_name": "Python 2 (Ubuntu Linux)",
   "language": "python",
   "name": "python2-ubuntu"
  },
  "language_info": {
   "codemirror_mode": {
    "name": "ipython",
    "version": 2
   },
   "file_extension": ".py",
   "mimetype": "text/x-python",
   "name": "python",
   "nbconvert_exporter": "python",
   "pygments_lexer": "ipython2",
   "version": "2.7.10"
  }
 },
 "nbformat": 4,
 "nbformat_minor": 0
}
