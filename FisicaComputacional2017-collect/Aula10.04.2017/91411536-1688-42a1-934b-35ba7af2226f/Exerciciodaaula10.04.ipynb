{
 "cells": [
  {
   "cell_type": "code",
   "execution_count": 4,
   "metadata": {
    "collapsed": false
   },
   "outputs": [
    {
     "name": "stdout",
     "output_type": "stream",
     "text": [
      "O vetor é: \n",
      "[[[0, 1, 2, 3, 4, 5, 6, 7, 8, 9, 10, 11, 12, 13, 14, 15, 16, 17, 18, 19]]]\n"
     ]
    }
   ],
   "source": [
    "H=[[list(range(20))]]\n",
    "print(\"O vetor é: \")\n",
    "print(H)\n"
   ]
  },
  {
   "cell_type": "code",
   "execution_count": 6,
   "metadata": {
    "collapsed": false
   },
   "outputs": [
    {
     "name": "stdout",
     "output_type": "stream",
     "text": [
      "MEu vetor par é:\n",
      "[0, 2, 4, 6, 8, 10, 12, 14, 16, 18]\n"
     ]
    }
   ],
   "source": [
    "H=range(20)\n",
    "PAR=[x for x in H if x%2==0]\n",
    "print(\"MEu vetor par é:\")\n",
    "print(PAR)"
   ]
  },
  {
   "cell_type": "code",
   "execution_count": 1,
   "metadata": {
    "collapsed": false
   },
   "outputs": [
    {
     "name": "stdout",
     "output_type": "stream",
     "text": [
      "insira a nota 1:10\n",
      "insira a nota 2:10\n",
      "insira a nota 3:10\n",
      "insira a nota 4:10\n",
      "a média é:\n",
      "10\n"
     ]
    }
   ],
   "source": [
    "N1= input(\"insira a nota 1:\")\n",
    "N2= input(\"insira a nota 2:\")\n",
    "N3= input(\"insira a nota 3:\")\n",
    "N4= input(\"insira a nota 4:\")\n",
    "Media=((N1+N2+N3+N4)/4)\n",
    "print(\"a média é:\")\n",
    "print(Media)"
   ]
  },
  {
   "cell_type": "code",
   "execution_count": null,
   "metadata": {
    "collapsed": false
   },
   "outputs": [],
   "source": [
    "a1= [1.45]\n",
    "I1= [20]\n",
    "a2= [2.05]\n",
    "I2= [30]\n",
    "a3= [1.89]\n",
    "I3= [21]\n",
    "a4= [1,67]\n",
    "I4= [24]\n",
    "a5= [1,72]\n",
    "I5= [23]\n",
    "max(a1, a2, a3, a4, a5)\n",
    "max(I1, I2, I3, I4, I5)"
   ]
  },
  {
   "cell_type": "markdown",
   "metadata": {},
   "source": []
  }
 ],
 "metadata": {
  "kernelspec": {
   "display_name": "Python 3 (Anaconda)",
   "language": "python",
   "name": "anaconda3"
  },
  "language_info": {
   "codemirror_mode": {
    "name": "ipython",
    "version": 3
   },
   "file_extension": ".py",
   "mimetype": "text/x-python",
   "name": "python",
   "nbconvert_exporter": "python",
   "pygments_lexer": "ipython3",
   "version": "3.5.3"
  }
 },
 "nbformat": 4,
 "nbformat_minor": 0
}
