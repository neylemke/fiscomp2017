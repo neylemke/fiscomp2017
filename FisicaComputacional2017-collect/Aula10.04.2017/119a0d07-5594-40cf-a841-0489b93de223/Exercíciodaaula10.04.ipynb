{
 "cells": [
  {
   "cell_type": "code",
   "execution_count": 30,
   "metadata": {
    "collapsed": false
   },
   "outputs": [
    {
     "name": "stdout",
     "output_type": "stream",
     "text": [
      "[[20, 19, 18, 17, 16, 15, 14, 13, 12, 11, 10, 9, 8, 7, 6, 5, 4, 3, 2, 1]]\n"
     ]
    }
   ],
   "source": [
    "i=20\n",
    "N=[list(range(20,0, -1))] \n",
    "print(N)\n"
   ]
  },
  {
   "cell_type": "code",
   "execution_count": 31,
   "metadata": {
    "collapsed": false
   },
   "outputs": [
    {
     "name": "stdout",
     "output_type": "stream",
     "text": [
      "[0, 2, 4, 6, 8, 10, 12, 14, 16, 18]\n"
     ]
    }
   ],
   "source": [
    "N=range(20)\n",
    "VetorPAR=[x for x in N if x%2==0]\n",
    "print(VetorPAR)"
   ]
  },
  {
   "cell_type": "code",
   "execution_count": null,
   "metadata": {
    "collapsed": false
   },
   "outputs": [],
   "source": [
    "x1= input(\"insira a nota 1:\")\n",
    "x2= input(\"insira a nota 2:\")\n",
    "x3= input(\"insira a nota 3:\")\n",
    "x4= input(\"insira a nota 4:\")\n",
    "M=((x1+x2+x3+x4)/4)\n",
    "print(M)"
   ]
  },
  {
   "cell_type": "code",
   "execution_count": null,
   "metadata": {
    "collapsed": true
   },
   "outputs": [],
   "source": [
    "a1= [1.54]\n",
    "I1= [27]\n",
    "a2= [2.15]\n",
    "I2= [28]\n",
    "a3= [1.99]\n",
    "I3= [23]\n",
    "a4= [1,77]\n",
    "I4= [25]\n",
    "a5= [1,79]\n",
    "I5= [23]\n",
    "max(a1, a2, a3, a4, a5)\n",
    "max(I1, I2, I3, I4, I5)"
   ]
  },
  {
   "cell_type": "code",
   "execution_count": null,
   "metadata": {
    "collapsed": true
   },
   "outputs": [],
   "source": []
  }
 ],
 "metadata": {
  "kernelspec": {
   "display_name": "Python 2 (Ubuntu Linux)",
   "language": "python",
   "name": "python2-ubuntu"
  },
  "language_info": {
   "codemirror_mode": {
    "name": "ipython",
    "version": 2
   },
   "file_extension": ".py",
   "mimetype": "text/x-python",
   "name": "python",
   "nbconvert_exporter": "python",
   "pygments_lexer": "ipython2",
   "version": "2.7.10"
  }
 },
 "nbformat": 4,
 "nbformat_minor": 0
}
