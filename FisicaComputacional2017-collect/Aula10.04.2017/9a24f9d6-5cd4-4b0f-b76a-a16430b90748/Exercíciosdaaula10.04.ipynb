{
 "cells": [
  {
   "cell_type": "code",
   "execution_count": 9,
   "metadata": {
    "collapsed": false
   },
   "outputs": [
    {
     "name": "stdout",
     "output_type": "stream",
     "text": [
      "[0, 1, 2, 3, 4, 5, 6, 7, 8, 9, 10, 11, 12, 13, 14, 15, 16, 17, 18, 19]\n"
     ]
    },
    {
     "data": {
      "text/plain": [
       "[0, 2, 4, 6, 8, 10, 12, 14, 16, 18]"
      ]
     },
     "execution_count": 9,
     "metadata": {},
     "output_type": "execute_result"
    }
   ],
   "source": [
    "L=list(range(20))\n",
    "print (L)\n",
    "[elem for elem in L if elem%2==0]"
   ]
  },
  {
   "cell_type": "code",
   "execution_count": 12,
   "metadata": {
    "collapsed": false
   },
   "outputs": [
    {
     "name": "stdout",
     "output_type": "stream",
     "text": [
      "aluno1: 8.375\n",
      "aluno2: 4.75\n"
     ]
    }
   ],
   "source": [
    "AlunoIsabella=[10,9,9.5,5]\n",
    "mediaalunoi=sum(AlunoIsabella)/4\n",
    "print (\"aluno1:\", mediaalunoi)\n",
    "AlunoAlexandre=[3,2,5,9]\n",
    "mediaalunoa=sum(AlunoAlexandre)/4\n",
    "print (\"aluno2:\", mediaalunoa)\n"
   ]
  },
  {
   "cell_type": "code",
   "execution_count": null,
   "metadata": {
    "collapsed": false
   },
   "outputs": [
    {
     "name": "stdout",
     "output_type": "stream",
     "text": [
      "Insira a idade da primeira pessoa:21\n",
      "Insira a idade da segunda pessoa:22\n",
      "Insira a idade da terceira pessoa:43\n",
      "Insira a idade da quarta pessoa:21\n",
      "Insira a idade da quinta pessoa:12\n"
     ]
    }
   ],
   "source": [
    "idade=[]\n",
    "altura=[]\n",
    "\n",
    "idade1=input(\"Insira a idade da primeira pessoa:\")\n",
    "idade2=input(\"Insira a idade da segunda pessoa:\")\n",
    "idade3=input(\"Insira a idade da terceira pessoa:\")\n",
    "idade4=input(\"Insira a idade da quarta pessoa:\")\n",
    "idade5=input(\"Insira a idade da quinta pessoa:\")\n",
    "\n",
    "altura1=input(\"Insira a altura em cm da primeira pessoa:\")\n",
    "altura2=input(\"Insira a altura em cm da segunda pessoa:\")\n",
    "altura3=input(\"Insira a altura em cm da terceira pessoa:\")\n",
    "altura4=input(\"Insira a altura em cm da quarta pessoa:\")\n",
    "altura5=input(\"Insira a altura em cm da quinta pessoa:\")\n",
    "\n",
    "idade.append(idade1)\n",
    "idade.append(idade2)\n",
    "idade.append(idade3)\n",
    "idade.append(idade4)\n",
    "idade.append(idade5)\n",
    "\n",
    "altura.append(altura1)\n",
    "altura.append(altura2)\n",
    "altura.append(altura3)\n",
    "altura.append(altura4)\n",
    "altura.append(altura5)\n",
    "\n",
    "altmax=max(altura)\n",
    "altmin=min(altura)\n",
    "idademax=max(idade)\n",
    "idademin=min(idade)\n",
    "print(\"Maximo das idades:\", idademax)\n",
    "print(\"Maximo das alturas:\", altmax)\n",
    "print(\"Minima das alturas:\", altmin)\n",
    "print(\"Minima das idade:\", idademin)"
   ]
  },
  {
   "cell_type": "code",
   "execution_count": null,
   "metadata": {
    "collapsed": true
   },
   "outputs": [],
   "source": []
  }
 ],
 "metadata": {
  "kernelspec": {
   "display_name": "Python 3 (Anaconda)",
   "language": "python",
   "name": "anaconda3"
  },
  "language_info": {
   "codemirror_mode": {
    "name": "ipython",
    "version": 3
   },
   "file_extension": ".py",
   "mimetype": "text/x-python",
   "name": "python",
   "nbconvert_exporter": "python",
   "pygments_lexer": "ipython3",
   "version": "3.5.3"
  }
 },
 "nbformat": 4,
 "nbformat_minor": 0
}
