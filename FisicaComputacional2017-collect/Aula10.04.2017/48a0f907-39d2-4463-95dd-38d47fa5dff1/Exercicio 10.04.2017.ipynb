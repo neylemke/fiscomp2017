{
 "cells": [
  {
   "cell_type": "code",
   "execution_count": 1,
   "metadata": {
    "collapsed": false
   },
   "outputs": [
    {
     "name": "stdout",
     "output_type": "stream",
     "text": [
      "Lista:  range(0, 20)\n",
      "Numeros Pares:  range(0, 20, 2)\n"
     ]
    }
   ],
   "source": [
    "# Itens 01 e 02\n",
    "\n",
    "lis = range(20)\n",
    "print(\"Lista: \",lis)\n",
    "print(\"Numeros Pares: \",lis[::2])"
   ]
  },
  {
   "cell_type": "code",
   "execution_count": 3,
   "metadata": {
    "collapsed": false
   },
   "outputs": [
    {
     "name": "stdout",
     "output_type": "stream",
     "text": [
      "Aluno 01:\n",
      "Notas: [4, 7, 6, 7] \n",
      "Média: 6.0\n",
      "\n",
      "Aluno 02:\n",
      "Notas: [5, 9, 6, 8] \n",
      "Média: 7.0\n"
     ]
    }
   ],
   "source": [
    "# Item 03\n",
    "\n",
    "\n",
    "notas1 = [4, 7, 6, 7]\n",
    "notas2 = [5, 9, 6, 8]\n",
    "\n",
    "print(\"Aluno 01:\\nNotas:\",notas1,\"\\nMédia:\", sum(notas1)/len(notas1))\n",
    "print(\"\\nAluno 02:\\nNotas:\",notas2,\"\\nMédia:\", sum(notas2)/len(notas2))"
   ]
  },
  {
   "cell_type": "code",
   "execution_count": 1,
   "metadata": {
    "collapsed": false
   },
   "outputs": [
    {
     "name": "stdout",
     "output_type": "stream",
     "text": [
      "Insira a idade da 1a. pessoa(anos)20\n",
      "Insira a idade da 2a. pessoa(anos)22\n",
      "Insira a idade da 3a. pessoa(anos)23\n",
      "Insira a idade da 4a. pessoa(anos)25\n",
      "Insira a idade da 5a. pessoa(anos)31\n",
      "Idades:  [20, 22, 23, 25, 31]\n",
      "Insira a altura da 1a. pessoa(metros)1.80\n",
      "Insira a altura da 2a. pessoa(metros)1.82\n",
      "Insira a altura da 3a. pessoa(metros)1.76\n",
      "Insira a altura da 4a. pessoa(metros)1.93\n",
      "Insira a altura da 5a. pessoa(metros)1.74\n",
      "Alturas:  [1.8, 1.82, 1.76, 1.93, 1.74]\n",
      "A pessoa mais velha possui31anos e a pessoa mais nova20anos\n",
      "A pessoa mais alta possui1.93metros e a pessoa mais baixa1.74metro\n"
     ]
    }
   ],
   "source": [
    "# Item 04\n",
    "\n",
    "idades = []\n",
    "altura = []\n",
    "for i in range(5):\n",
    "    idades.append(int(input(\"Insira a idade da \"+str(i+1)+\"a. pessoa(anos)\")))\n",
    "print(\"Idades: \",idades)\n",
    "\n",
    "for i in range(5):\n",
    "    altura.append(float(input(\"Insira a altura da \"+str(i+1)+\"a. pessoa(metros)\")))\n",
    "print(\"Alturas: \",altura)\n",
    "\n",
    "print(\"A pessoa mais velha possui\"+str(max(idades))+\"anos e a pessoa mais nova\"+str(min(idades))+\"anos\")\n",
    "print(\"A pessoa mais alta possui\"+str(max(altura))+\"metros e a pessoa mais baixa\"+str(min(altura))+\"metro\")\n"
   ]
  },
  {
   "cell_type": "markdown",
   "metadata": {},
   "source": [
    " "
   ]
  },
  {
   "cell_type": "code",
   "execution_count": 2,
   "metadata": {
    "collapsed": false
   },
   "outputs": [
    {
     "name": "stdout",
     "output_type": "stream",
     "text": [
      "Lista intercalada:  [0, 0, 1, 1, 2, 2, 3, 3, 4, 4, 5, 5, 6, 6, 7, 7, 8, 8, 9, 9]\n"
     ]
    }
   ],
   "source": [
    "# Item 05\n",
    "\n",
    "v1 = range (10)\n",
    "v2 = range (10)\n",
    "v3 = []\n",
    "for i in range (10):\n",
    "    v3.append(v1[i])\n",
    "    v3.append(v2[i])\n",
    "print(\"Lista intercalada: \",v3)"
   ]
  },
  {
   "cell_type": "code",
   "execution_count": null,
   "metadata": {
    "collapsed": true
   },
   "outputs": [],
   "source": []
  }
 ],
 "metadata": {
  "kernelspec": {
   "display_name": "Python 3 (Anaconda)",
   "language": "python",
   "name": "anaconda3"
  },
  "language_info": {
   "codemirror_mode": {
    "name": "ipython",
    "version": 3
   },
   "file_extension": ".py",
   "mimetype": "text/x-python",
   "name": "python",
   "nbconvert_exporter": "python",
   "pygments_lexer": "ipython3",
   "version": "3.5.3"
  }
 },
 "nbformat": 4,
 "nbformat_minor": 0
}
