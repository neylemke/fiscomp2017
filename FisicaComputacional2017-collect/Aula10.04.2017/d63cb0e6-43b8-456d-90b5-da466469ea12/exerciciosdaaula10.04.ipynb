{
 "cells": [
  {
   "cell_type": "code",
   "execution_count": 3,
   "metadata": {
    "collapsed": false
   },
   "outputs": [
    {
     "name": "stdout",
     "output_type": "stream",
     "text": [
      "lista.minobrau: [0, 1, 2, 3, 4, 5, 6, 7, 8, 9, 10, 11, 12, 13, 14, 15, 16, 17, 18, 19]\n",
      "ldp: [0, 2, 4, 6, 8, 10, 12, 14, 16, 18]\n"
     ]
    }
   ],
   "source": [
    "## Exercício.01\n",
    "lis1=range(20)\n",
    "print \"lista.minobrau:\", lis1\n",
    "\n",
    "ldp=[elem for elem in lis1 if elem%2==0]\n",
    "\n",
    "print \"ldp:\", ldp"
   ]
  },
  {
   "cell_type": "code",
   "execution_count": 6,
   "metadata": {
    "collapsed": false
   },
   "outputs": [
    {
     "name": "stdout",
     "output_type": "stream",
     "text": [
      "('Notas de Minobrau:', [8, 7.5, 9, 10])\n",
      "('Nota final Minobrau:', 8.625)\n",
      "('Notas de Cheetos:', [1, 3, 2.5, 0.4])\n",
      "('Nota final Cheetos:', 1.725)\n"
     ]
    }
   ],
   "source": [
    "#Exercício 0.3\n",
    "\n",
    "NotasMinobrau=[8,7.5,9,10]\n",
    "NotasCheetos=[1,3,2.5,0.4]\n",
    "MediaMinobrau = sum(NotasMinobrau)/4\n",
    "MediaCheetos = sum(NotasCheetos)/4\n",
    "print (\"Notas de Minobrau:\", NotasMinobrau)\n",
    "print (\"Nota final Minobrau:\", MediaMinobrau)\n",
    "print (\"Notas de Cheetos:\", NotasCheetos)\n",
    "print (\"Nota final Cheetos:\", MediaCheetos)"
   ]
  },
  {
   "cell_type": "code",
   "execution_count": 1,
   "metadata": {
    "collapsed": false
   },
   "outputs": [
    {
     "name": "stdout",
     "output_type": "stream",
     "text": [
      "insira a idade da pessoa 1:45\n",
      "insira a idade da pessoa 2:35\n",
      "insira a idade da pessoa 3:25\n",
      "insira a idade da pessoa 4:15\n",
      "insira a idade da pessoa 5:10\n",
      "[45, 35, 25, 15, 10]\n",
      "insira a altura da pessoa 1 em cm:180\n",
      "insira a altura da pessoa 2 em cm:178\n",
      "insira a altura da pessoa 3 em cm:178\n",
      "insira a altura da pessoa 4 em cm:167\n",
      "insira a altura da pessoa 5 em cm:140\n",
      "[180, 178, 178, 167, 140]\n"
     ]
    }
   ],
   "source": [
    "## Exercicio 0.4\n",
    " \n",
    "Id1= input(\"insira a idade da pessoa 1:\")\n",
    "Id2= input(\"insira a idade da pessoa 2:\")\n",
    "Id3= input(\"insira a idade da pessoa 3:\")\n",
    "Id4= input(\"insira a idade da pessoa 4:\")\n",
    "Id5= input(\"insira a idade da pessoa 5:\")\n",
    "list=[Id1, Id2, Id3, Id4, Id5]\n",
    "print list\n",
    "Al1= input(\"insira a altura da pessoa 1 em cm:\")\n",
    "Al2= input(\"insira a altura da pessoa 2 em cm:\")\n",
    "Al3= input(\"insira a altura da pessoa 3 em cm:\")\n",
    "Al4= input(\"insira a altura da pessoa 4 em cm:\")\n",
    "Al5= input(\"insira a altura da pessoa 5 em cm:\")\n",
    "list=[Al1, Al2, Al3, Al4, Al5]\n",
    "print list"
   ]
  },
  {
   "cell_type": "code",
   "execution_count": null,
   "metadata": {
    "collapsed": true
   },
   "outputs": [],
   "source": []
  }
 ],
 "metadata": {
  "kernelspec": {
   "display_name": "Python 2 (SageMath)",
   "language": "python",
   "name": "python2"
  },
  "language_info": {
   "codemirror_mode": {
    "name": "ipython",
    "version": 2
   },
   "file_extension": ".py",
   "mimetype": "text/x-python",
   "name": "python",
   "nbconvert_exporter": "python",
   "pygments_lexer": "ipython2",
   "version": "2.7.13"
  }
 },
 "nbformat": 4,
 "nbformat_minor": 0
}
