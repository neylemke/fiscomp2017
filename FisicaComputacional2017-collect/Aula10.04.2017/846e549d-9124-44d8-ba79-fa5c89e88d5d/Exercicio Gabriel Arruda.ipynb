{
 "cells": [
  {
   "cell_type": "code",
   "execution_count": 3,
   "metadata": {
    "collapsed": false,
    "scrolled": true
   },
   "outputs": [
    {
     "name": "stdout",
     "output_type": "stream",
     "text": [
      "Insira um número: 1\n",
      "Insira um número: 2\n",
      "Insira um número: 3\n",
      "Insira um número: 4\n",
      "Insira um número: 5\n",
      "Insira um número: 6\n",
      "Insira um número: 7\n",
      "Insira um número: 8\n",
      "Insira um número: 9\n",
      "Insira um número: 10\n",
      "Insira um número: 11\n",
      "Insira um número: 12\n",
      "Insira um número: 13\n",
      "Insira um número: 14\n",
      "Insira um número: 15\n",
      "Insira um número: 6\n",
      "Insira um número: 17\n",
      "Insira um número: 18\n",
      "Insira um número: 19\n",
      "Insira um número: 20\n"
     ]
    }
   ],
   "source": [
    "#ex1\n",
    "vetor=[]\n",
    "for i in range(20):\n",
    "    a= int(input(\"Insira um número: \"))\n",
    "    vetor.append(a)\n",
    "    "
   ]
  },
  {
   "cell_type": "code",
   "execution_count": 5,
   "metadata": {
    "collapsed": false
   },
   "outputs": [
    {
     "name": "stdout",
     "output_type": "stream",
     "text": [
      "2\n",
      "4\n",
      "6\n",
      "8\n",
      "10\n",
      "12\n",
      "14\n",
      "6\n",
      "18\n",
      "20\n"
     ]
    }
   ],
   "source": [
    "#ex2\n",
    "i in range(len(vetor)):\n",
    "    if(vetor[i]%2==0):\n",
    "        print(vetor[i])"
   ]
  },
  {
   "cell_type": "code",
   "execution_count": 17,
   "metadata": {
    "collapsed": false
   },
   "outputs": [
    {
     "name": "stdout",
     "output_type": "stream",
     "text": [
      "('Insira a nota do aluno ', 1)\n",
      "Insira a nota do aluno em questao: 10\n",
      "Insira a nota do aluno em questao: 10\n",
      "Insira a nota do aluno em questao: 10\n",
      "Insira a nota do aluno em questao: 10\n",
      "('Insira a nota do aluno ', 2)\n",
      "Insira a nota do aluno em questao: 5\n",
      "Insira a nota do aluno em questao: 5\n",
      "Insira a nota do aluno em questao: 5\n",
      "Insira a nota do aluno em questao: 5\n",
      " As Notas do aluno 1 são:\n",
      "\n",
      "[5.0, 5.0, 5.0, 5.0]\n",
      "5.0\n",
      "As Notas do Aluno 2 são:\n",
      "\n",
      "[10.0, 10.0, 10.0, 10.0]\n",
      "10.0\n"
     ]
    }
   ],
   "source": [
    "#ex3\n",
    "aluno1=[]\n",
    "aluno2=[]\n",
    "for i in range(2):\n",
    "    print(\"Insira a nota do aluno \",i+1)\n",
    "    for j in range(4):\n",
    "        a= float(input(\"Insira a nota do aluno em questao: \"))\n",
    "        if(i==1):\n",
    "            aluno2.append(a)\n",
    "        else:\n",
    "            aluno1.append(a)\n",
    "print(\" As Notas do aluno 1 são:\\n\")\n",
    "print(aluno1)\n",
    "print(\"Média: \",sum(aluno1)/4)\n",
    "print(\"As Notas do Aluno 2 são:\\n\")\n",
    "print(aluno2)\n",
    "print(\"Média: \"sum(aluno2)/4)"
   ]
  },
  {
   "cell_type": "code",
   "execution_count": 19,
   "metadata": {
    "collapsed": false
   },
   "outputs": [
    {
     "name": "stdout",
     "output_type": "stream",
     "text": [
      "Insira a idade: 1\n",
      "Insira o altura:1.5\n",
      "Insira a idade: 2\n",
      "Insira o altura:2.5\n",
      "Insira a idade: 3\n",
      "Insira o altura:3.5\n",
      "Insira a idade: 4\n",
      "Insira o altura:4.5\n",
      "Insira a idade: 5\n",
      "Insira o altura:5.5\n",
      "5.5\n"
     ]
    },
    {
     "ename": "NameError",
     "evalue": "name 'idade' is not defined",
     "output_type": "error",
     "traceback": [
      "\u001b[0;31m---------------------------------------------------------------------------\u001b[0m",
      "\u001b[0;31mNameError\u001b[0m                                 Traceback (most recent call last)",
      "\u001b[0;32m<ipython-input-19-5f4f0f508697>\u001b[0m in \u001b[0;36m<module>\u001b[0;34m()\u001b[0m\n\u001b[1;32m     13\u001b[0m         \u001b[0maux\u001b[0m\u001b[0;34m=\u001b[0m\u001b[0;36m0\u001b[0m\u001b[0;34m\u001b[0m\u001b[0m\n\u001b[1;32m     14\u001b[0m \u001b[0;32mprint\u001b[0m\u001b[0;34m(\u001b[0m\u001b[0mmax\u001b[0m\u001b[0;34m(\u001b[0m\u001b[0maltura\u001b[0m\u001b[0;34m)\u001b[0m\u001b[0;34m)\u001b[0m\u001b[0;34m\u001b[0m\u001b[0m\n\u001b[0;32m---> 15\u001b[0;31m \u001b[0;32mprint\u001b[0m\u001b[0;34m(\u001b[0m\u001b[0mmax\u001b[0m\u001b[0;34m(\u001b[0m\u001b[0midade\u001b[0m\u001b[0;34m)\u001b[0m\u001b[0;34m)\u001b[0m\u001b[0;34m\u001b[0m\u001b[0m\n\u001b[0m",
      "\u001b[0;31mNameError\u001b[0m: name 'idade' is not defined"
     ]
    }
   ],
   "source": [
    "#ex4\n",
    "idades=[]\n",
    "altura=[]\n",
    "aux=0\n",
    "for i in range(10):\n",
    "    if(aux==0):\n",
    "        a=float(input(\"Insira a idade: \"))\n",
    "        idades.append(a)\n",
    "        aux=1\n",
    "    else:\n",
    "        a=float(input(\"Insira o altura:\" ))\n",
    "        altura.append(a)\n",
    "        aux=0\n",
    "print(\"Altura maxima\",max(altura))\n",
    "print(\"Altura minima\",min(altura))\n",
    "print(\"Idade maxima\",max(idades))\n",
    "print(\"idade minima\",max(idades))"
   ]
  },
  {
   "cell_type": "code",
   "execution_count": 22,
   "metadata": {
    "collapsed": false
   },
   "outputs": [
    {
     "name": "stdout",
     "output_type": "stream",
     "text": [
      "insira o valor na lista 1: 1\n",
      "insira o valor na lista 2: 2\n",
      "insira o valor na lista 1: 1\n",
      "insira o valor na lista 2: 2\n",
      "insira o valor na lista 1: 1\n",
      "insira o valor na lista 2: 2\n",
      "insira o valor na lista 1: 1\n",
      "insira o valor na lista 2: 2\n",
      "insira o valor na lista 1: 1\n",
      "insira o valor na lista 2: 2\n",
      "insira o valor na lista 1: 1\n",
      "insira o valor na lista 2: 2\n",
      "insira o valor na lista 1: 1\n",
      "insira o valor na lista 2: 2\n",
      "insira o valor na lista 1: 1\n",
      "insira o valor na lista 2: 2\n",
      "insira o valor na lista 1: 1\n",
      "insira o valor na lista 2: 2\n",
      "insira o valor na lista 1: 1\n",
      "insira o valor na lista 2: 2\n",
      "[1, 2, 1, 2, 1, 2, 1, 2, 1, 2, 1, 2, 1, 2, 1, 2, 1, 2, 1, 2]\n"
     ]
    }
   ],
   "source": [
    "#ex5\n",
    "lista1=[]\n",
    "lista2=[]\n",
    "lista3=[]\n",
    "a=0\n",
    "b=0\n",
    "for i in range(10):\n",
    "    lista1.append(input(\"insira o valor na lista 1: \"))\n",
    "    lista2.append(input(\"insira o valor na lista 2: \"))\n",
    "for i in range(len(lista1+lista2)):\n",
    "    if(i%2==0):\n",
    "        lista3.append(lista1[a])\n",
    "        a+=1\n",
    "    else:\n",
    "        lista3.append(lista2[b])\n",
    "        b+=1\n",
    "print(lista3)\n",
    "    "
   ]
  },
  {
   "cell_type": "code",
   "execution_count": 23,
   "metadata": {
    "collapsed": false
   },
   "outputs": [
    {
     "name": "stdout",
     "output_type": "stream",
     "text": [
      "0.89\n",
      "1.33\n",
      "1.13\n",
      "0.99\n",
      "1.9\n",
      "0.68\n",
      "1.18\n",
      "1.1\n"
     ]
    }
   ],
   "source": [
    "#ex6\n",
    "lista1=[1.25, 2.14, 3.47,4.60, 5.59, 7.49, 8.17, 9.35, 10.45]\n",
    "for i in range(len(lista1)-1):\n",
    "    print(lista1[i+1]-lista1[i])"
   ]
  },
  {
   "cell_type": "code",
   "execution_count": null,
   "metadata": {
    "collapsed": true
   },
   "outputs": [],
   "source": []
  }
 ],
 "metadata": {
  "kernelspec": {
   "display_name": "Python 2 (SageMath)",
   "language": "python",
   "name": "python2"
  },
  "language_info": {
   "codemirror_mode": {
    "name": "ipython",
    "version": 2
   },
   "file_extension": ".py",
   "mimetype": "text/x-python",
   "name": "python",
   "nbconvert_exporter": "python",
   "pygments_lexer": "ipython2",
   "version": "2.7.13"
  }
 },
 "nbformat": 4,
 "nbformat_minor": 0
}
