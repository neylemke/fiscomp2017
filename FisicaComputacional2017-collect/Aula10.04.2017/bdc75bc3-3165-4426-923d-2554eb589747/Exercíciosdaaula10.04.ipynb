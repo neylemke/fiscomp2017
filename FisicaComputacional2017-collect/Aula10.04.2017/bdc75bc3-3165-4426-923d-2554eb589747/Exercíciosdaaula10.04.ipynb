{
 "cells": [
  {
   "cell_type": "code",
   "execution_count": 7,
   "metadata": {
    "collapsed": false
   },
   "outputs": [
    {
     "data": {
      "text/plain": [
       "[0, 1, 2, 3, 4, 5, 6, 7, 8, 9, 10, 11, 12, 13, 14, 15, 16, 17, 18, 19]"
      ]
     },
     "execution_count": 7,
     "metadata": {},
     "output_type": "execute_result"
    }
   ],
   "source": [
    "#1\n",
    "lista1=list(range(0,20))\n",
    "lista1"
   ]
  },
  {
   "cell_type": "code",
   "execution_count": 14,
   "metadata": {
    "collapsed": false
   },
   "outputs": [
    {
     "name": "stdout",
     "output_type": "stream",
     "text": [
      "[1, 3, 5, 7, 9, 11, 13, 15, 17, 19]\n"
     ]
    }
   ],
   "source": [
    "#2\n",
    "print(lista1[1::2])"
   ]
  },
  {
   "cell_type": "code",
   "execution_count": 31,
   "metadata": {
    "collapsed": false,
    "scrolled": true
   },
   "outputs": [
    {
     "name": "stdout",
     "output_type": "stream",
     "text": [
      "Aluno 1\n",
      "entre com a nota 1:6\n",
      "entre com a nota 2:6\n",
      "entre com a nota 3:6\n",
      "entre com a nota 4:6\n"
     ]
    },
    {
     "data": {
      "text/plain": [
       "6"
      ]
     },
     "execution_count": 31,
     "metadata": {},
     "output_type": "execute_result"
    }
   ],
   "source": [
    "#3.1\n",
    "print (\"Aluno 1\")\n",
    "n1=int(input(\"entre com a nota 1:\"))\n",
    "n2=int(input(\"entre com a nota 2:\"))\n",
    "n3=int(input(\"entre com a nota 3:\"))\n",
    "n4=int(input(\"entre com a nota 4:\"))\n",
    "media=(n1+n2+n3+n4)/4 \n",
    "media"
   ]
  },
  {
   "cell_type": "code",
   "execution_count": 11,
   "metadata": {
    "collapsed": false
   },
   "outputs": [
    {
     "name": "stdout",
     "output_type": "stream",
     "text": [
      "Aluno 2\n",
      "entre com a nota 1:8\n",
      "entre com a nota 2:8\n",
      "entre com a nota 3:8\n",
      "entre com a nota 4:8\n"
     ]
    },
    {
     "data": {
      "text/plain": [
       "8"
      ]
     },
     "execution_count": 11,
     "metadata": {},
     "output_type": "execute_result"
    }
   ],
   "source": [
    "#3.2\n",
    "print (\"Aluno 2\")\n",
    "n1=int(input(\"entre com a nota 1:\"))\n",
    "n2=int(input(\"entre com a nota 2:\"))\n",
    "n3=int(input(\"entre com a nota 3:\"))\n",
    "n4=int(input(\"entre com a nota 4:\"))\n",
    "media=(n1+n2+n3+n4)/4 \n",
    "media\n"
   ]
  },
  {
   "cell_type": "code",
   "execution_count": 3,
   "metadata": {
    "collapsed": false
   },
   "outputs": [
    {
     "name": "stdout",
     "output_type": "stream",
     "text": [
      "Pessoa 1\n",
      "entre com a sua idade50\n",
      "entre com sua altura em cm120\n",
      "Pessoa 2\n",
      "entre com a sua idade60\n",
      "entre com sua altura em cm130\n",
      "Pessoa 3\n",
      "entre com a sua idade80\n",
      "entre com sua altura em cm100\n",
      "Pessoa 4\n",
      "entre com a sua idade15\n",
      "entre com sua altura em cm180\n",
      "Pessoa 5\n",
      "entre com a sua idade12\n",
      "entre com sua altura em cm100\n",
      "12\n",
      "80\n",
      "100\n",
      "180\n"
     ]
    }
   ],
   "source": [
    "#4\n",
    "print (\"Pessoa 1\")\n",
    "id1=int(input(\"entre com a sua idade\"))\n",
    "h1=int(input(\"entre com sua altura em cm\"))\n",
    "print (\"Pessoa 2\")\n",
    "id2=int(input(\"entre com a sua idade\"))\n",
    "h2=int(input(\"entre com sua altura em cm\"))\n",
    "print (\"Pessoa 3\")\n",
    "id3=int(input(\"entre com a sua idade\"))\n",
    "h3=int(input(\"entre com sua altura em cm\"))\n",
    "print (\"Pessoa 4\")\n",
    "id4=int(input(\"entre com a sua idade\"))\n",
    "h4=int(input(\"entre com sua altura em cm\"))\n",
    "print (\"Pessoa 5\")\n",
    "id5=int(input(\"entre com a sua idade\"))\n",
    "h5=int(input(\"entre com sua altura em cm\"))\n",
    "listidade=[id1,id2,id3,id4,id5]\n",
    "listh=[h1,h2,h3,h4,h5]\n",
    "\n",
    "print min(listidade)\n",
    "print max(listidade)\n",
    "print min(listh)\n",
    "print max(listh)"
   ]
  },
  {
   "cell_type": "code",
   "execution_count": 9,
   "metadata": {
    "collapsed": false
   },
   "outputs": [
    {
     "data": {
      "text/plain": [
       "[(0, 11),\n",
       " (1, 12),\n",
       " (2, 13),\n",
       " (3, 14),\n",
       " (4, 15),\n",
       " (5, 16),\n",
       " (6, 17),\n",
       " (7, 18),\n",
       " (8, 19),\n",
       " (9, 20)]"
      ]
     },
     "execution_count": 9,
     "metadata": {},
     "output_type": "execute_result"
    }
   ],
   "source": [
    "#5\n",
    "lista1=list(range(0,10))\n",
    "lista2=list(range(11,21))\n",
    "lista1\n",
    "lista2\n",
    "listajuntas=zip(lista1, lista2)\n",
    "listajuntas"
   ]
  },
  {
   "cell_type": "code",
   "execution_count": 16,
   "metadata": {
    "collapsed": false
   },
   "outputs": [
    {
     "name": "stdout",
     "output_type": "stream",
     "text": [
      "0.89\n",
      "1.33\n",
      "1.13\n",
      "0.99\n",
      "1.9\n",
      "0.68\n",
      "1.18\n",
      "1.1\n"
     ]
    }
   ],
   "source": [
    "#6\n",
    "lista1=[1.25, 2.14, 3.47,4.60, 5.59, 7.49, 8.17, 9.35, 10.45]\n",
    "for i in range(len(lista1)-1):\n",
    "    print(lista1[i+1]-lista1[i])"
   ]
  },
  {
   "cell_type": "code",
   "execution_count": null,
   "metadata": {
    "collapsed": true
   },
   "outputs": [],
   "source": []
  }
 ],
 "metadata": {
  "kernelspec": {
   "display_name": "Python 2 (SageMath)",
   "language": "python",
   "name": "python2"
  },
  "language_info": {
   "codemirror_mode": {
    "name": "ipython",
    "version": 2
   },
   "file_extension": ".py",
   "mimetype": "text/x-python",
   "name": "python",
   "nbconvert_exporter": "python",
   "pygments_lexer": "ipython2",
   "version": "2.7.13"
  }
 },
 "nbformat": 4,
 "nbformat_minor": 0
}
