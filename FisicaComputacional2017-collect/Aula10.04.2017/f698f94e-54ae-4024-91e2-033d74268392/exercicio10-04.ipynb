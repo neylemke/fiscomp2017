{
 "cells": [
  {
   "cell_type": "code",
   "execution_count": 1,
   "metadata": {
    "collapsed": false
   },
   "outputs": [
    {
     "name": "stdout",
     "output_type": "stream",
     "text": [
      "[20, 19, 18, 17, 16, 15, 14, 13, 12, 11, 10, 9, 8, 7, 6, 5, 4, 3, 2, 1]\n"
     ]
    },
    {
     "data": {
      "text/plain": [
       "[20, 18, 16, 14, 12, 10, 8, 6, 4, 2]"
      ]
     },
     "execution_count": 1,
     "metadata": {},
     "output_type": "execute_result"
    }
   ],
   "source": [
    "## exer 1\n",
    "L=list(range(20,0,-1))\n",
    "print (L)\n",
    "[elem for elem in L if elem%2==0]"
   ]
  },
  {
   "cell_type": "code",
   "execution_count": 2,
   "metadata": {
    "collapsed": false
   },
   "outputs": [
    {
     "name": "stdout",
     "output_type": "stream",
     "text": [
      "aluno1: 7.0\n"
     ]
    }
   ],
   "source": [
    "##exerc 2\n",
    "Alunomale=[7, 7, 6, 8]\n",
    "mediaalunox=sum(Alunomale)/4\n",
    "print (\"aluno1:\", mediaalunox)"
   ]
  },
  {
   "cell_type": "code",
   "execution_count": 3,
   "metadata": {
    "collapsed": false
   },
   "outputs": [
    {
     "name": "stdout",
     "output_type": "stream",
     "text": [
      "aluno1: 7.0\n",
      "aluno2 7.25\n"
     ]
    }
   ],
   "source": [
    "## exerc 3\n",
    "Alunomale=[7, 7, 6, 8]\n",
    "mediaalunox=sum(Alunomale)/4\n",
    "print (\"aluno1:\", mediaalunox)\n",
    "AlunoThiago=[3,7,9,10]\n",
    "mediaaluno=sum(AlunoThiago)/4\n",
    "print (\"aluno2\", mediaaluno)"
   ]
  },
  {
   "cell_type": "code",
   "execution_count": 4,
   "metadata": {
    "collapsed": false
   },
   "outputs": [
    {
     "name": "stdout",
     "output_type": "stream",
     "text": [
      "insira a idade da primeira pessoa 49\n",
      "insira a idade da segunda pessoa 21\n",
      "insira a idade da terceira pessoa 20\n",
      "insira a idade da quarta pessoa 27\n",
      "insira a idade da quinta pessoa 14\n",
      "insira a altura da primeira pessoa 13\n",
      "insira a altura da segunda pessoa 175\n",
      "insira a altura da terceira pessoa 168\n",
      "insira a altura da quarta pessoa 121\n",
      "insira a altura da quinta pessoa 154\n"
     ]
    },
    {
     "ename": "ValueError",
     "evalue": "max() arg is an empty sequence",
     "output_type": "error",
     "traceback": [
      "\u001b[0;31m---------------------------------------------------------------------------\u001b[0m",
      "\u001b[0;31mValueError\u001b[0m                                Traceback (most recent call last)",
      "\u001b[0;32m<ipython-input-4-66ba3640c864>\u001b[0m in \u001b[0;36m<module>\u001b[0;34m()\u001b[0m\n\u001b[1;32m     14\u001b[0m \u001b[0maltura\u001b[0m\u001b[0;34m=\u001b[0m\u001b[0;34m[\u001b[0m\u001b[0;34m]\u001b[0m\u001b[0;34m\u001b[0m\u001b[0m\n\u001b[1;32m     15\u001b[0m \u001b[0;34m\u001b[0m\u001b[0m\n\u001b[0;32m---> 16\u001b[0;31m \u001b[0maltmax\u001b[0m\u001b[0;34m=\u001b[0m\u001b[0mmax\u001b[0m\u001b[0;34m(\u001b[0m\u001b[0maltura\u001b[0m\u001b[0;34m)\u001b[0m\u001b[0;34m\u001b[0m\u001b[0m\n\u001b[0m\u001b[1;32m     17\u001b[0m \u001b[0maltmin\u001b[0m\u001b[0;34m=\u001b[0m\u001b[0mmin\u001b[0m\u001b[0;34m(\u001b[0m\u001b[0maltura\u001b[0m\u001b[0;34m)\u001b[0m\u001b[0;34m\u001b[0m\u001b[0m\n\u001b[1;32m     18\u001b[0m \u001b[0midademax\u001b[0m\u001b[0;34m=\u001b[0m\u001b[0mmax\u001b[0m\u001b[0;34m(\u001b[0m\u001b[0midade\u001b[0m\u001b[0;34m)\u001b[0m\u001b[0;34m\u001b[0m\u001b[0m\n",
      "\u001b[0;31mValueError\u001b[0m: max() arg is an empty sequence"
     ]
    }
   ],
   "source": [
    "## exerc 4\n",
    "idade1=input(\"insira a idade da primeira pessoa \")\n",
    "idade2=input(\"insira a idade da segunda pessoa \")\n",
    "idade3=input(\"insira a idade da terceira pessoa \")\n",
    "idade4=input(\"insira a idade da quarta pessoa \")\n",
    "idade5=input(\"insira a idade da quinta pessoa \")\n",
    "\n",
    "altura1=input(\"insira a altura da primeira pessoa \")\n",
    "altura2=input(\"insira a altura da segunda pessoa \")\n",
    "altura3=input(\"insira a altura da terceira pessoa \")\n",
    "altura4=input(\"insira a altura da quarta pessoa \")\n",
    "altura5=input(\"insira a altura da quinta pessoa \")\n",
    "idade=[]\n",
    "altura=[]\n",
    "\n",
    "altmax=max(altura)\n",
    "altmin=min(altura)\n",
    "idademax=max(idade)\n",
    "idademin=min(idade)\n",
    "print(\"maximovalor das idades: \", altmax)\n",
    "print(\"maximovalor das alturas\", idademax)"
   ]
  },
  {
   "cell_type": "code",
   "execution_count": null,
   "metadata": {
    "collapsed": true
   },
   "outputs": [],
   "source": []
  }
 ],
 "metadata": {
  "kernelspec": {
   "display_name": "Python 3 (Anaconda)",
   "language": "python",
   "name": "anaconda3"
  },
  "language_info": {
   "codemirror_mode": {
    "name": "ipython",
    "version": 3
   },
   "file_extension": ".py",
   "mimetype": "text/x-python",
   "name": "python",
   "nbconvert_exporter": "python",
   "pygments_lexer": "ipython3",
   "version": "3.5.3"
  }
 },
 "nbformat": 4,
 "nbformat_minor": 0
}
