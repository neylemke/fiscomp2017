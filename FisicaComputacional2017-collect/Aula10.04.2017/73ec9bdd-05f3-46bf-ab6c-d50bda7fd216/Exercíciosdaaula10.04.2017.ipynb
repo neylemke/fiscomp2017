{
 "cells": [
  {
   "cell_type": "markdown",
   "metadata": {
    "collapsed": false
   },
   "source": [
    "## Exercício 1\n"
   ]
  },
  {
   "cell_type": "code",
   "execution_count": 7,
   "metadata": {
    "collapsed": false
   },
   "outputs": [
    {
     "name": "stdout",
     "output_type": "stream",
     "text": [
      "[1, 2, 3, 4, 5, 6, 7, 8, 9, 10, 11, 12, 13, 14, 15, 16, 17, 18, 19, 20]\n"
     ]
    }
   ],
   "source": [
    "lista = range(1,21)\n",
    "print lista"
   ]
  },
  {
   "cell_type": "markdown",
   "metadata": {},
   "source": [
    "## Exercício 2"
   ]
  },
  {
   "cell_type": "code",
   "execution_count": 11,
   "metadata": {
    "collapsed": false
   },
   "outputs": [
    {
     "name": "stdout",
     "output_type": "stream",
     "text": [
      "[2, 4, 6, 8, 10, 12, 14, 16, 18, 20]\n"
     ]
    }
   ],
   "source": [
    "par = []\n",
    "for x in range(1,21,1):\n",
    "    if x%2==0:\n",
    "        par.append(x)\n",
    "    \n",
    "print par"
   ]
  },
  {
   "cell_type": "markdown",
   "metadata": {},
   "source": [
    "## Exercício 3"
   ]
  },
  {
   "cell_type": "code",
   "execution_count": 19,
   "metadata": {
    "collapsed": false
   },
   "outputs": [
    {
     "name": "stdout",
     "output_type": "stream",
     "text": [
      "Notas aluno 1: [4, 10, 7, 6]\n",
      "media do aluno 1: 6\n",
      "Notas aluno 2: [5, 9, 10, 8]\n",
      "media do aluno 2: 8\n"
     ]
    }
   ],
   "source": [
    "A1 = [4,10,7,6]\n",
    "A2 = [5,9,10,8]\n",
    "media1 = (A1[0] + A1[1] + A1[2] + A1[3])/4\n",
    "media2 = (A2[0] + A2[1] + A2[2] + A2[3])/4\n",
    "print \"Notas aluno 1:\", A1\n",
    "print \"media do aluno 1:\", media1\n",
    "print \"Notas aluno 2:\", A2\n",
    "print \"media do aluno 2:\", media2\n"
   ]
  },
  {
   "cell_type": "markdown",
   "metadata": {},
   "source": [
    "## Exercício 4"
   ]
  },
  {
   "cell_type": "code",
   "execution_count": 40,
   "metadata": {
    "collapsed": false
   },
   "outputs": [
    {
     "name": "stdout",
     "output_type": "stream",
     "text": [
      "Altura 1:1.70\n",
      "Altura 2:1.72\n",
      "Altura 3:1.74\n",
      "Altura 4:1.76\n",
      "Altura 5:1.78\n",
      "Peso 1:70\n",
      "Peso 2:72\n",
      "Peso 3:74\n",
      "Peso 4:76\n",
      "Peso 5:78\n",
      "Altura: [1.7, 1.72, 1.74, 1.76, 1.78] Peso: [70, 72, 74, 76, 78]\n",
      "Altura mínima: 1.7 Altura máxima: 1.78 Peso minimo: 70 Peso maximo: 78\n"
     ]
    }
   ],
   "source": [
    "Altura = []\n",
    "Peso = []\n",
    "A1,A2,A3,A4,A5 = input(\"Altura 1:\"), input(\"Altura 2:\"), input(\"Altura 3:\"), input(\"Altura 4:\"), input(\"Altura 5:\")\n",
    "Altura.append(A1)\n",
    "Altura.append(A2)\n",
    "Altura.append(A3)\n",
    "Altura.append(A4)\n",
    "Altura.append(A5)\n",
    "p1,p2,p3,p4,p5 = input(\"Peso 1:\"), input(\"Peso 2:\"), input(\"Peso 3:\"), input(\"Peso 4:\"), input(\"Peso 5:\")\n",
    "Peso.append(p1)\n",
    "Peso.append(p2)\n",
    "Peso.append(p3)\n",
    "Peso.append(p4)\n",
    "Peso.append(p5)\n",
    "print \"Altura:\",Altura, \"Peso:\", Peso\n",
    "minAltura = min(Altura)\n",
    "maxAltura = max(Altura)\n",
    "minPeso = min(Peso)\n",
    "maxPeso = max(Peso)\n",
    "print \"Altura mínima:\", minAltura, \"Altura máxima:\", maxAltura, \"Peso minimo:\", minPeso, \"Peso maximo:\", maxPeso"
   ]
  },
  {
   "cell_type": "markdown",
   "metadata": {},
   "source": [
    "## Exercicio 5\n",
    "    "
   ]
  },
  {
   "cell_type": "code",
   "execution_count": 75,
   "metadata": {
    "collapsed": false
   },
   "outputs": [
    {
     "name": "stdout",
     "output_type": "stream",
     "text": [
      "[1, 21, 2, 22, 3, 23, 4, 24, 5, 25, 6, 26, 7, 27, 8, 28, 9, 29, 10, 30]\n"
     ]
    }
   ],
   "source": [
    "lista1, lista2 =range(1,11), range(21,31)\n",
    "intercalado=[]\n",
    "for i in range(len(lista1)):\n",
    "    intercalado.append(lista1[i])\n",
    "    intercalado.append(lista2[i])\n",
    "print intercalado"
   ]
  },
  {
   "cell_type": "markdown",
   "metadata": {
    "collapsed": true
   },
   "source": [
    "   ## Exercício 6"
   ]
  },
  {
   "cell_type": "code",
   "execution_count": 22,
   "metadata": {
    "collapsed": false
   },
   "outputs": [
    {
     "name": "stdout",
     "output_type": "stream",
     "text": [
      "Lista com os intervalos de tempo: [0.8900000000000001, 1.33, 1.1299999999999994, 0.9900000000000002, 1.9000000000000004, 0.6799999999999997, 1.1799999999999997, 1.0999999999999996]\n"
     ]
    }
   ],
   "source": [
    "lista1= [1.25, 2.14, 3.47,4.60, 5.59, 7.49, 8.17, 9.35, 10.45]\n",
    "intervalo=[]\n",
    "for i in range(len(lista1)):\n",
    "    if i<8:\n",
    "        lista1[i]= lista1[i+1] - lista1[i]\n",
    "        intervalo.append(lista1[i])\n",
    "print \"Lista com os intervalos de tempo:\", intervalo"
   ]
  },
  {
   "cell_type": "code",
   "execution_count": null,
   "metadata": {
    "collapsed": true
   },
   "outputs": [],
   "source": []
  }
 ],
 "metadata": {
  "kernelspec": {
   "display_name": "Python 2 (SageMath)",
   "language": "python",
   "name": "python2"
  },
  "language_info": {
   "codemirror_mode": {
    "name": "ipython",
    "version": 2
   },
   "file_extension": ".py",
   "mimetype": "text/x-python",
   "name": "python",
   "nbconvert_exporter": "python",
   "pygments_lexer": "ipython2",
   "version": "2.7.13"
  }
 },
 "nbformat": 4,
 "nbformat_minor": 0
}
