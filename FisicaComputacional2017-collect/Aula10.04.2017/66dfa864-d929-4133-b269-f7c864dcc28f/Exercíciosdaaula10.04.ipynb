{
 "cells": [
  {
   "cell_type": "code",
   "execution_count": 1,
   "metadata": {
    "collapsed": false
   },
   "outputs": [
    {
     "name": "stdout",
     "output_type": "stream",
     "text": [
      "vetor= [20, 19, 18, 17, 16, 15, 14, 13, 12, 11, 10, 9, 8, 7, 6, 5, 4, 3, 2, 1]\n",
      "pares= [20, 18, 16, 14, 12, 10, 8, 6, 4, 2]\n"
     ]
    }
   ],
   "source": [
    "#ex1\n",
    "L=list(range(20,0,-1))\n",
    "print (\"vetor=\", L)\n",
    "\n",
    "#ex2\n",
    "print (\"pares=\", [elem for elem in L if elem%2==0])"
   ]
  },
  {
   "cell_type": "code",
   "execution_count": 2,
   "metadata": {
    "collapsed": false
   },
   "outputs": [
    {
     "name": "stdout",
     "output_type": "stream",
     "text": [
      "Notas Aluno1: [4.5, 7.2, 5.8, 2.6]\n",
      "Media Aluno1: 5.025\n",
      "Notas Aluno2: [9.7, 1.9, 6.2, 5.7]\n",
      "Media Aluno2: 5.875\n"
     ]
    }
   ],
   "source": [
    "#ex3\n",
    "Aluno1 = [4.5, 7.2, 5.8, 2.6]\n",
    "Aluno2 = [9.7, 1.9, 6.2, 5.7]\n",
    "\n",
    "MediaAluno1 = sum(Aluno1)/4\n",
    "MediaAluno2 = sum(Aluno2)/4\n",
    "\n",
    "print (\"Notas Aluno1:\", Aluno1)\n",
    "print (\"Media Aluno1:\", MediaAluno1)\n",
    "\n",
    "print (\"Notas Aluno2:\", Aluno2)\n",
    "print (\"Media Aluno2:\", MediaAluno2)"
   ]
  },
  {
   "cell_type": "code",
   "execution_count": 4,
   "metadata": {
    "collapsed": false
   },
   "outputs": [
    {
     "name": "stdout",
     "output_type": "stream",
     "text": [
      "Insira a idade1:21\n",
      "Insira a idade2:31\n",
      "Insira a idade3:63\n",
      "Insira a idade4:54\n",
      "Insira a idade5:19\n",
      "Insira a Altura1:1.45\n",
      "Insira a Altura2:1.67\n",
      "Insira a Altura3:1.81\n",
      "Insira a Altura4:1.76\n",
      "Insira a Altura5:1.59\n",
      "Maximo das idades: 63\n",
      "Minimo das idades: 19\n",
      "Maximo das alturas: 1.81\n",
      "Minimo das alturas: 1.45\n"
     ]
    }
   ],
   "source": [
    "#ex4\n",
    "idade=[]\n",
    "altura=[]\n",
    "\n",
    "#IDADE DE 5 PESSOAS\n",
    "Idade1 = input(\"Insira a idade1:\")\n",
    "Idade2 = input(\"Insira a idade2:\")\n",
    "Idade3 = input(\"Insira a idade3:\")\n",
    "Idade4 = input(\"Insira a idade4:\")\n",
    "Idade5 = input(\"Insira a idade5:\")\n",
    "\n",
    "#ALTURA DE 5 PESSOAS\n",
    "Altura1 = input(\"Insira a Altura1:\")\n",
    "Altura2 = input(\"Insira a Altura2:\")\n",
    "Altura3 = input(\"Insira a Altura3:\")\n",
    "Altura4 = input(\"Insira a Altura4:\")\n",
    "Altura5 = input(\"Insira a Altura5:\")\n",
    "\n",
    "idade.append(Idade1)\n",
    "idade.append(Idade2)\n",
    "idade.append(Idade3)\n",
    "idade.append(Idade4)\n",
    "idade.append(Idade5)\n",
    "\n",
    "altura.append(Altura1)\n",
    "altura.append(Altura2)\n",
    "altura.append(Altura3)\n",
    "altura.append(Altura4)\n",
    "altura.append(Altura5)\n",
    "\n",
    "idmax = max(idade)\n",
    "idmin = min(idade)\n",
    "altmax = max(altura)\n",
    "altmin = min(altura)\n",
    "\n",
    "print (\"Maximo das idades:\", idmax)\n",
    "print (\"Minimo das idades:\", idmin)\n",
    "print (\"Maximo das alturas:\", altmax)\n",
    "print (\"Minimo das alturas:\", altmin)"
   ]
  },
  {
   "cell_type": "code",
   "execution_count": 8,
   "metadata": {
    "collapsed": false
   },
   "outputs": [
    {
     "name": "stdout",
     "output_type": "stream",
     "text": [
      "Vetor intercalado: [(0, 10), (1, 11), (2, 12), (3, 13), (4, 14), (5, 15), (6, 16), (7, 17), (8, 18), (9, 19)]\n"
     ]
    }
   ],
   "source": [
    "#ex5\n",
    "Vetor = zip(range(0,10), range(10,20))\n",
    "print (\"Vetor intercalado:\", list(Vetor))"
   ]
  },
  {
   "cell_type": "code",
   "execution_count": null,
   "metadata": {
    "collapsed": true
   },
   "outputs": [],
   "source": []
  }
 ],
 "metadata": {
  "kernelspec": {
   "display_name": "Python 3 (Anaconda)",
   "language": "python",
   "name": "anaconda3"
  },
  "language_info": {
   "codemirror_mode": {
    "name": "ipython",
    "version": 3
   },
   "file_extension": ".py",
   "mimetype": "text/x-python",
   "name": "python",
   "nbconvert_exporter": "python",
   "pygments_lexer": "ipython3",
   "version": "3.5.3"
  }
 },
 "nbformat": 4,
 "nbformat_minor": 0
}
