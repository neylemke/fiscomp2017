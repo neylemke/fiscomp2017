{
 "cells": [
  {
   "cell_type": "code",
   "execution_count": 1,
   "metadata": {
    "collapsed": false
   },
   "outputs": [
    {
     "name": "stdout",
     "output_type": "stream",
     "text": [
      "('vetor=', [20, 19, 18, 17, 16, 15, 14, 13, 12, 11, 10, 9, 8, 7, 6, 5, 4, 3, 2, 1])\n",
      "('pares=', [20, 18, 16, 14, 12, 10, 8, 6, 4, 2])\n"
     ]
    }
   ],
   "source": [
    "#ex1\n",
    "L=list(range(20,0,-1))\n",
    "print (\"vetor=\", L)\n",
    "\n",
    "#ex2\n",
    "print (\"pares=\", [elem for elem in L if elem%2==0])"
   ]
  },
  {
   "cell_type": "code",
   "execution_count": 2,
   "metadata": {
    "collapsed": false
   },
   "outputs": [
    {
     "name": "stdout",
     "output_type": "stream",
     "text": [
      "('Notas Aluno1:', [4.5, 7.2, 5.8, 2.6])\n",
      "('Media Aluno1:', 5.025)\n",
      "('Notas Aluno2:', [9.7, 1.9, 6.2, 5.7])\n",
      "('Media Aluno2:', 5.875)\n"
     ]
    }
   ],
   "source": [
    "#ex3\n",
    "Aluno1 = [4.5, 7.2, 5.8, 2.6]\n",
    "Aluno2 = [9.7, 1.9, 6.2, 5.7]\n",
    "\n",
    "MediaAluno1 = sum(Aluno1)/4\n",
    "MediaAluno2 = sum(Aluno2)/4\n",
    "\n",
    "print (\"Notas Aluno1:\", Aluno1)\n",
    "print (\"Media Aluno1:\", MediaAluno1)\n",
    "\n",
    "print (\"Notas Aluno2:\", Aluno2)\n",
    "print (\"Media Aluno2:\", MediaAluno2)"
   ]
  },
  {
   "cell_type": "code",
   "execution_count": null,
   "metadata": {
    "collapsed": true
   },
   "outputs": [],
   "source": []
  }
 ],
 "metadata": {
  "kernelspec": {
   "display_name": "Python 2 (SageMath)",
   "language": "python",
   "name": "python2"
  },
  "language_info": {
   "codemirror_mode": {
    "name": "ipython",
    "version": 2
   },
   "file_extension": ".py",
   "mimetype": "text/x-python",
   "name": "python",
   "nbconvert_exporter": "python",
   "pygments_lexer": "ipython2",
   "version": "2.7.13"
  }
 },
 "nbformat": 4,
 "nbformat_minor": 0
}
