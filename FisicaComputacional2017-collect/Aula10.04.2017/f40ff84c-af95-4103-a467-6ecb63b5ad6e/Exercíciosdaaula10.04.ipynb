{
 "cells": [
  {
   "cell_type": "code",
   "execution_count": 11,
   "metadata": {
    "collapsed": false
   },
   "outputs": [
    {
     "name": "stdout",
     "output_type": "stream",
     "text": [
      "('Lista', [0, 1, 2, 3, 4, 5, 6, 7, 8, 9, 10, 11, 12, 13, 14, 15, 16, 17, 18, 19])\n",
      "('Elementos Pares: ', [0, 2, 4, 6, 8, 10, 12, 14, 16, 18])\n"
     ]
    }
   ],
   "source": [
    "L=range (20)\n",
    "print (\"Lista\", L)\n",
    "print (\"Elementos Pares: \",L[::2])"
   ]
  },
  {
   "cell_type": "code",
   "execution_count": 2,
   "metadata": {
    "collapsed": false
   },
   "outputs": [
    {
     "name": "stdout",
     "output_type": "stream",
     "text": [
      "Aluno A:\n",
      "Notas: [1, 4, 8, 9] \n",
      "Média:  5.5\n",
      "Aluno B:\n",
      "Notas: [0, 1, 4, 7] \n",
      "Média:  3.0\n"
     ]
    }
   ],
   "source": [
    "list1=[1,4,8,9]\n",
    "list2=[0,1,4,7]\n",
    "print(\"Aluno A:\\nNotas:\",list1,\"\\nMédia: \", sum(list1)/len(list1))\n",
    "print(\"Aluno B:\\nNotas:\",list2,\"\\nMédia: \", sum(list2)/len(list2))"
   ]
  },
  {
   "cell_type": "code",
   "execution_count": 1,
   "metadata": {
    "collapsed": false
   },
   "outputs": [
    {
     "name": "stdout",
     "output_type": "stream",
     "text": [
      "Idade 1o. individuo: 2\n",
      "Idade 2o. individuo: 4\n",
      "Idade 3o. individuo: 5\n",
      "Idade 4o. individuo: 9\n",
      "Idade 5o. individuo: 30\n",
      "Idades:  [2, 4, 5, 9, 30]\n",
      "Entre com a altura 1do individuo: 2\n",
      "Entre com a altura 2do individuo: 2.1\n",
      "Entre com a altura 3do individuo: 2.2\n",
      "Entre com a altura 4do individuo: 2.5\n",
      "Entre com a altura 5do individuo: 3.2\n",
      "Altura:  [2.0, 2.1, 2.2, 2.5, 3.2]\n",
      "O individuo mais velho tem 30 anos de idade, e e o mais novo 2anos\n",
      "O maior individuo tem 3.2metros, e o menor 2.0 metros\n"
     ]
    }
   ],
   "source": [
    "age =[]\n",
    "for i in range(5):\n",
    "    age.append(int(input(\"Idade \"+str(i+1)+\"o. individuo: \")))\n",
    "print(\"Idades: \",age)\n",
    "\n",
    "##altura\n",
    "height=[]\n",
    "for i in range(5):\n",
    "    height.append(float(input(\"Entre com a altura \"+str(i+1)+\"do individuo: \")))\n",
    "print(\"Altura: \",height)\n",
    "\n",
    "print(\"O individuo mais velho tem \"+str(max(age))+\" anos de idade, e o mais novo \"+str(min(age))+\" anos\")\n",
    "print(\"O maior individuo tem \"+str(max(height))+\"metros, e o menor \"+str(min(height))+\" metros\")"
   ]
  },
  {
   "cell_type": "code",
   "execution_count": 3,
   "metadata": {
    "collapsed": false
   },
   "outputs": [
    {
     "name": "stdout",
     "output_type": "stream",
     "text": [
      "[0, 0, 1, 1, 2, 2, 3, 3, 4, 4, 5, 5, 6, 6, 7, 7, 8, 8, 9, 9]\n"
     ]
    }
   ],
   "source": [
    "i1=range(10)\n",
    "i2=range(10)\n",
    "i3=[]\n",
    "for i in range (10):\n",
    "    i3.append(i1[i])\n",
    "    i3.append(i2[i])\n",
    "print (i3)"
   ]
  },
  {
   "cell_type": "code",
   "execution_count": null,
   "metadata": {
    "collapsed": true
   },
   "outputs": [],
   "source": []
  }
 ],
 "metadata": {
  "kernelspec": {
   "display_name": "Python 3 (Anaconda)",
   "language": "python",
   "name": "anaconda3"
  },
  "language_info": {
   "codemirror_mode": {
    "name": "ipython",
    "version": 3
   },
   "file_extension": ".py",
   "mimetype": "text/x-python",
   "name": "python",
   "nbconvert_exporter": "python",
   "pygments_lexer": "ipython3",
   "version": "3.5.3"
  }
 },
 "nbformat": 4,
 "nbformat_minor": 0
}
