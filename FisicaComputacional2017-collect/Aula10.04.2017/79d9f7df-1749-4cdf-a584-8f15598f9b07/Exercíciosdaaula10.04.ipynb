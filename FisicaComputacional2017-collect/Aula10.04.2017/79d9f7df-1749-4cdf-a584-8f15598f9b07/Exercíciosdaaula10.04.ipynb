{
 "cells": [
  {
   "cell_type": "code",
   "execution_count": 13,
   "metadata": {
    "collapsed": false
   },
   "outputs": [
    {
     "name": "stdout",
     "output_type": "stream",
     "text": [
      "[0, 1, 2, 3, 4, 5, 6, 7, 8, 9, 10, 11, 12, 13, 14, 15, 16, 17, 18, 19]\n"
     ]
    }
   ],
   "source": [
    "lista1 = list(range(20))\n",
    "print (lista1)"
   ]
  },
  {
   "cell_type": "code",
   "execution_count": 31,
   "metadata": {
    "collapsed": false
   },
   "outputs": [
    {
     "data": {
      "text/plain": [
       "[0, 2, 4, 6, 8, 10, 12, 14, 16, 18]"
      ]
     },
     "execution_count": 31,
     "metadata": {},
     "output_type": "execute_result"
    }
   ],
   "source": [
    "[elem for elem in lista1 if elem%2==0]"
   ]
  },
  {
   "cell_type": "code",
   "execution_count": 29,
   "metadata": {
    "collapsed": false
   },
   "outputs": [
    {
     "name": "stdout",
     "output_type": "stream",
     "text": [
      "media aluno1: 6.0\n",
      "media aluno2: 6.75\n"
     ]
    }
   ],
   "source": [
    "aluno1 = [10,9,2,3]\n",
    "aluno2 = [3,6,10,8]\n",
    "media1 = (aluno1[0]+aluno1[1]+aluno1[2]+aluno1[3])/4\n",
    "media2 = (aluno2[0]+aluno2[1]+aluno2[2]+aluno2[3])/4\n",
    "print (\"media aluno1:\", media1)\n",
    "print (\"media aluno2:\", media2)"
   ]
  },
  {
   "cell_type": "code",
   "execution_count": 49,
   "metadata": {
    "collapsed": false
   },
   "outputs": [
    {
     "name": "stdout",
     "output_type": "stream",
     "text": [
      "digite altura1:1\n",
      "digite idade1:2\n",
      "digite altura2:3\n",
      "digite idade2:46\n",
      "digite altura3:7\n",
      "digite idade3:99\n",
      "digite altura4:22\n",
      "digite idade4:456\n",
      "digite altura5:777\n",
      "digite idade5:88\n",
      "idade minima 2\n",
      "idade maxima 99\n",
      "altura maxima 777\n",
      "altura minima 1\n"
     ]
    }
   ],
   "source": [
    "altura1 = input('digite altura1:')\n",
    "idade1 =input('digite idade1:')\n",
    "altura2 = input('digite altura2:')\n",
    "idade2 =input('digite idade2:')\n",
    "altura3 = input('digite altura3:')\n",
    "idade3 =input('digite idade3:')\n",
    "altura4 = input('digite altura4:')\n",
    "idade4 =input('digite idade4:')\n",
    "altura5 = input('digite altura5:')\n",
    "idade5 =input('digite idade5:')\n",
    "age =[]\n",
    "height = []\n",
    "height.append(altura1)\n",
    "height.append(altura2)\n",
    "height.append(altura3)\n",
    "height.append(altura4)\n",
    "height.append(altura5)\n",
    "age.append(idade1)\n",
    "age.append(idade2)\n",
    "age.append(idade3)\n",
    "age.append(idade4)\n",
    "age.append(idade5)\n",
    "\n",
    "print (\"idade minima\", min(age))\n",
    "print (\"idade maxima\", max(age))\n",
    "print (\"altura maxima\", max(height))\n",
    "print (\"altura minima\", min(height))\n",
    "\n"
   ]
  },
  {
   "cell_type": "code",
   "execution_count": 2,
   "metadata": {
    "collapsed": false
   },
   "outputs": [
    {
     "name": "stdout",
     "output_type": "stream",
     "text": [
      "[5, 6, 7, 8, 9, 10, 11, 12, 13]\n",
      "[0, 1, 2, 3, 4, 5, 6, 7, 8, 9]\n",
      "('intercalaldos', [(5, 0), (6, 1), (7, 2), (8, 3), (9, 4), (10, 5), (11, 6), (12, 7), (13, 8)])\n"
     ]
    }
   ],
   "source": [
    "vet = list(range(5, 14))\n",
    "vet2 =list(range (0, 10))\n",
    "print (vet)\n",
    "print (vet2)\n",
    "lis = zip(vet,vet2)\n",
    "print (\"intercalaldos\", lis)\n",
    "\n",
    "#####Só funciona no pyhton 2.0\n",
    "\n",
    "\n",
    "\n"
   ]
  },
  {
   "cell_type": "code",
   "execution_count": 2,
   "metadata": {
    "collapsed": false
   },
   "outputs": [
    {
     "name": "stdout",
     "output_type": "stream",
     "text": [
      "('intervalo', 0.8900000000000001)\n",
      "('intervalo', 1.33)\n",
      "('intervalo', 1.1299999999999994)\n",
      "('intervalo', 0.9900000000000002)\n",
      "('intervalo', 1.9000000000000004)\n",
      "('intervalo', 0.6799999999999997)\n",
      "('intervalo', 1.1799999999999997)\n",
      "('intervalo', 1.0999999999999996)\n"
     ]
    },
    {
     "ename": "IndexError",
     "evalue": "list index out of range",
     "output_type": "error",
     "traceback": [
      "\u001b[0;31m---------------------------------------------------------------------------\u001b[0m",
      "\u001b[0;31mIndexError\u001b[0m                                Traceback (most recent call last)",
      "\u001b[0;32m<ipython-input-2-693238d6f035>\u001b[0m in \u001b[0;36m<module>\u001b[0;34m()\u001b[0m\n\u001b[1;32m      2\u001b[0m \u001b[0mlista1\u001b[0m\u001b[0;34m=\u001b[0m \u001b[0;34m[\u001b[0m\u001b[0;36m1.25\u001b[0m\u001b[0;34m,\u001b[0m \u001b[0;36m2.14\u001b[0m\u001b[0;34m,\u001b[0m \u001b[0;36m3.47\u001b[0m\u001b[0;34m,\u001b[0m\u001b[0;36m4.60\u001b[0m\u001b[0;34m,\u001b[0m \u001b[0;36m5.59\u001b[0m\u001b[0;34m,\u001b[0m \u001b[0;36m7.49\u001b[0m\u001b[0;34m,\u001b[0m \u001b[0;36m8.17\u001b[0m\u001b[0;34m,\u001b[0m \u001b[0;36m9.35\u001b[0m\u001b[0;34m,\u001b[0m \u001b[0;36m10.45\u001b[0m\u001b[0;34m]\u001b[0m\u001b[0;34m\u001b[0m\u001b[0m\n\u001b[1;32m      3\u001b[0m \u001b[0;32mfor\u001b[0m \u001b[0mi\u001b[0m \u001b[0;32min\u001b[0m \u001b[0mrange\u001b[0m \u001b[0;34m(\u001b[0m\u001b[0mlen\u001b[0m\u001b[0;34m(\u001b[0m\u001b[0mlista1\u001b[0m\u001b[0;34m)\u001b[0m\u001b[0;34m)\u001b[0m\u001b[0;34m:\u001b[0m\u001b[0;34m\u001b[0m\u001b[0m\n\u001b[0;32m----> 4\u001b[0;31m     \u001b[0mint\u001b[0m \u001b[0;34m=\u001b[0m \u001b[0;34m(\u001b[0m\u001b[0mlista1\u001b[0m\u001b[0;34m[\u001b[0m\u001b[0mi\u001b[0m\u001b[0;34m+\u001b[0m\u001b[0;36m1\u001b[0m\u001b[0;34m]\u001b[0m\u001b[0;34m-\u001b[0m\u001b[0mlista1\u001b[0m\u001b[0;34m[\u001b[0m\u001b[0mi\u001b[0m\u001b[0;34m]\u001b[0m\u001b[0;34m)\u001b[0m\u001b[0;34m\u001b[0m\u001b[0m\n\u001b[0m\u001b[1;32m      5\u001b[0m     \u001b[0;32mprint\u001b[0m \u001b[0;34m(\u001b[0m\u001b[0;34m\"intervalo\"\u001b[0m\u001b[0;34m,\u001b[0m \u001b[0mint\u001b[0m\u001b[0;34m)\u001b[0m\u001b[0;34m\u001b[0m\u001b[0m\n",
      "\u001b[0;31mIndexError\u001b[0m: list index out of range"
     ]
    }
   ],
   "source": [
    "###Exercicio extra esta em outro jupyternotebook nessa mesma pasta\n"
   ]
  },
  {
   "cell_type": "code",
   "execution_count": null,
   "metadata": {
    "collapsed": true
   },
   "outputs": [],
   "source": []
  }
 ],
 "metadata": {
  "kernelspec": {
   "display_name": "Python 2 (SageMath)",
   "language": "python",
   "name": "python2"
  },
  "language_info": {
   "codemirror_mode": {
    "name": "ipython",
    "version": 2
   },
   "file_extension": ".py",
   "mimetype": "text/x-python",
   "name": "python",
   "nbconvert_exporter": "python",
   "pygments_lexer": "ipython2",
   "version": "2.7.13"
  }
 },
 "nbformat": 4,
 "nbformat_minor": 0
}
