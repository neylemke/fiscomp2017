{
 "cells": [
  {
   "cell_type": "code",
   "execution_count": 1,
   "metadata": {
    "collapsed": false
   },
   "outputs": [
    {
     "name": "stdout",
     "output_type": "stream",
     "text": [
      "[[20, 19, 18, 17, 16, 15, 14, 13, 12, 11, 10, 9, 8, 7, 6, 5, 4, 3, 2, 1]]\n"
     ]
    }
   ],
   "source": [
    "i=20\n",
    "k=[list(range(20,0, -1))]\n",
    "print(k)"
   ]
  },
  {
   "cell_type": "code",
   "execution_count": 5,
   "metadata": {
    "collapsed": false
   },
   "outputs": [
    {
     "name": "stdout",
     "output_type": "stream",
     "text": [
      "[0, 2, 4, 6, 8, 10, 12, 14, 16, 18]\n"
     ]
    }
   ],
   "source": [
    "k=range(20)\n",
    "vetorPAR=[x for x in k if x%2==0]\n",
    "print(vetorPAR)"
   ]
  },
  {
   "cell_type": "code",
   "execution_count": 13,
   "metadata": {
    "collapsed": false
   },
   "outputs": [
    {
     "name": "stdout",
     "output_type": "stream",
     "text": [
      "nota 1: 1\n",
      "nota 2: 1\n",
      "nota 3: 1\n",
      "nota 4: 1\n",
      "('A media e:', 1)\n"
     ]
    }
   ],
   "source": [
    "x1= input(\"nota 1: \")\n",
    "x2= input(\"nota 2: \")\n",
    "x3= input (\"nota 3: \")\n",
    "x4= input (\"nota 4: \")\n",
    "Media=(x1+x2+x3+x4)/4\n",
    "print (\"A media e:\",Media)\n"
   ]
  },
  {
   "cell_type": "code",
   "execution_count": null,
   "metadata": {
    "collapsed": false
   },
   "outputs": [],
   "source": []
  },
  {
   "cell_type": "code",
   "execution_count": 7,
   "metadata": {
    "collapsed": false
   },
   "outputs": [
    {
     "name": "stdout",
     "output_type": "stream",
     "text": [
      "Idade da: 1a. pessoa: 18\n",
      "Idade da: 2a. pessoa: 20\n",
      "Idade da: 3a. pessoa: 25\n",
      "Idade da: 4a. pessoa: 32\n",
      "Idade da: 5a. pessoa: 40\n",
      "Idades:  [18, 20, 25, 32, 40]\n",
      "Altura da: 1a. pessoa: 1.78\n",
      "Altura da: 2a. pessoa: 1.83\n",
      "Altura da: 3a. pessoa: 1.9\n",
      "Altura da: 4a. pessoa: 1.79\n",
      "Altura da: 5a. pessoa: 1.92\n",
      "Altura:  [1.78, 1.83, 1.9, 1.79, 1.92]\n",
      "A pessoa mais velha possui 40anos e a mais nova18anos\n",
      "A pessoa mais alta é :1.92metros e a mais baixa1.78metros\n"
     ]
    }
   ],
   "source": [
    "idades = []\n",
    "for i in range(5):\n",
    "    idades.append(int(input(\"Idade da: \"+str(i+1)+\"a. pessoa: \")))\n",
    "\n",
    "print(\"Idades: \",idades)\n",
    "\n",
    "altura = []\n",
    "for i in range(5):\n",
    "    altura.append(float(input(\"Altura da: \"+str(i+1)+\"a. pessoa: \")))\n",
    "\n",
    "print(\"Altura: \",altura)\n",
    "\n",
    "print(\"A pessoa mais velha possui \"+str(max(idades))+\"anos e a mais nova\"+str(min(idades))+\"anos\")\n",
    "print(\"A pessoa mais alta é :\"+str(max(altura))+\"metros e a mais baixa\"+str(min(altura))+\"metros\")"
   ]
  },
  {
   "cell_type": "code",
   "execution_count": 8,
   "metadata": {
    "collapsed": false,
    "scrolled": true
   },
   "outputs": [
    {
     "name": "stdout",
     "output_type": "stream",
     "text": [
      "Lista intercalada: [0, 0]\n",
      "Lista intercalada: [0, 0, 1, 1]\n",
      "Lista intercalada: [0, 0, 1, 1, 2, 2]\n",
      "Lista intercalada: [0, 0, 1, 1, 2, 2, 3, 3]\n",
      "Lista intercalada: [0, 0, 1, 1, 2, 2, 3, 3, 4, 4]\n",
      "Lista intercalada: [0, 0, 1, 1, 2, 2, 3, 3, 4, 4, 5, 5]\n",
      "Lista intercalada: [0, 0, 1, 1, 2, 2, 3, 3, 4, 4, 5, 5, 6, 6]\n",
      "Lista intercalada: [0, 0, 1, 1, 2, 2, 3, 3, 4, 4, 5, 5, 6, 6, 7, 7]\n",
      "Lista intercalada: [0, 0, 1, 1, 2, 2, 3, 3, 4, 4, 5, 5, 6, 6, 7, 7, 8, 8]\n",
      "Lista intercalada: [0, 0, 1, 1, 2, 2, 3, 3, 4, 4, 5, 5, 6, 6, 7, 7, 8, 8, 9, 9]\n"
     ]
    }
   ],
   "source": [
    "v1= range(10)\n",
    "v2= range(10)\n",
    "v3=[]\n",
    "for i in range(10):\n",
    "    v3.append(v1[i])\n",
    "    v3.append(v2[i])\n",
    "    print(\"Lista intercalada:\",v3)"
   ]
  },
  {
   "cell_type": "code",
   "execution_count": null,
   "metadata": {
    "collapsed": true
   },
   "outputs": [],
   "source": []
  }
 ],
 "metadata": {
  "kernelspec": {
   "display_name": "Python 3 (Anaconda)",
   "language": "python",
   "name": "anaconda3"
  },
  "language_info": {
   "codemirror_mode": {
    "name": "ipython",
    "version": 3
   },
   "file_extension": ".py",
   "mimetype": "text/x-python",
   "name": "python",
   "nbconvert_exporter": "python",
   "pygments_lexer": "ipython3",
   "version": "3.5.3"
  }
 },
 "nbformat": 4,
 "nbformat_minor": 0
}
