{
 "cells": [
  {
   "cell_type": "code",
   "execution_count": 1,
   "metadata": {
    "collapsed": false
   },
   "outputs": [
    {
     "name": "stdout",
     "output_type": "stream",
     "text": [
      "[[20, 19, 18, 17, 16, 15, 14, 13, 12, 11, 10, 9, 8, 7, 6, 5, 4, 3, 2, 1]]\n"
     ]
    }
   ],
   "source": [
    "i=20\n",
    "k=[list(range(20,0, -1))]\n",
    "print(k)"
   ]
  },
  {
   "cell_type": "code",
   "execution_count": 5,
   "metadata": {
    "collapsed": false
   },
   "outputs": [
    {
     "name": "stdout",
     "output_type": "stream",
     "text": [
      "[0, 2, 4, 6, 8, 10, 12, 14, 16, 18]\n"
     ]
    }
   ],
   "source": [
    "k=range(20)\n",
    "vetorPAR=[x for x in k if x%2==0]\n",
    "print(vetorPAR)"
   ]
  },
  {
   "cell_type": "code",
   "execution_count": 13,
   "metadata": {
    "collapsed": false
   },
   "outputs": [
    {
     "name": "stdout",
     "output_type": "stream",
     "text": [
      "nota 1: 1\n",
      "nota 2: 1\n",
      "nota 3: 1\n",
      "nota 4: 1\n",
      "('A media e:', 1)\n"
     ]
    }
   ],
   "source": [
    "x1= input(\"nota 1: \")\n",
    "x2= input(\"nota 2: \")\n",
    "x3= input (\"nota 3: \")\n",
    "x4= input (\"nota 4: \")\n",
    "Media=(x1+x2+x3+x4)/4\n",
    "print (\"A media e:\",Media)\n"
   ]
  },
  {
   "cell_type": "code",
   "execution_count": null,
   "metadata": {
    "collapsed": false
   },
   "outputs": [],
   "source": []
  },
  {
   "cell_type": "code",
   "execution_count": null,
   "metadata": {
    "collapsed": false
   },
   "outputs": [],
   "source": [
    "idades = []\n",
    "for i range (5)\n",
    "    idades.append(int(input(\"Idade da:\"+str(i+1)+\"a. pessoa: \")))\n",
    "\n",
    "print(\"Idades: \",idades)\n",
    "\n",
    "altura = []\n",
    "for i range (5)\n",
    "    idades.append(float(input(\"Altura da:\"+str(i+1)+\"a. pessoa: \")))\n",
    "\n",
    "print(\"Altura: \",altura)\n",
    "\n",
    "print(\"A pessoa mais velha é :\"+str(max(idades))\"anos e a mais nova\"+str(min(idades))\"\""
   ]
  },
  {
   "cell_type": "code",
   "execution_count": null,
   "metadata": {
    "collapsed": true
   },
   "outputs": [],
   "source": []
  }
 ],
 "metadata": {
  "kernelspec": {
   "display_name": "Python 3 (Anaconda)",
   "language": "python",
   "name": "anaconda3"
  },
  "language_info": {
   "codemirror_mode": {
    "name": "ipython",
    "version": 3
   },
   "file_extension": ".py",
   "mimetype": "text/x-python",
   "name": "python",
   "nbconvert_exporter": "python",
   "pygments_lexer": "ipython3",
   "version": "3.5.3"
  }
 },
 "nbformat": 4,
 "nbformat_minor": 0
}
