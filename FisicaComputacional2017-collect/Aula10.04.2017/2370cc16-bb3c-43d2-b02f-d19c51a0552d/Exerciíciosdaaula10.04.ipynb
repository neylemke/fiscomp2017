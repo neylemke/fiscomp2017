{
 "cells": [
  {
   "cell_type": "code",
   "execution_count": 2,
   "metadata": {
    "collapsed": false
   },
   "outputs": [
    {
     "name": "stdout",
     "output_type": "stream",
     "text": [
      "lista.1: [0, 1, 2, 3, 4, 5, 6, 7, 8, 9, 10, 11, 12, 13, 14, 15, 16, 17, 18, 19]\n",
      "lista de num pares: [0, 2, 4, 6, 8, 10, 12, 14, 16, 18]\n"
     ]
    }
   ],
   "source": [
    "## Exercício.01\n",
    "lis1=range(20)\n",
    "print \"lista.1:\", lis1\n",
    "\n",
    "listadospares=[elem for elem in lis1 if elem%2==0]\n",
    "\n",
    "print \"lista de num pares:\", listadospares"
   ]
  },
  {
   "cell_type": "code",
   "execution_count": 3,
   "metadata": {
    "collapsed": false
   },
   "outputs": [
    {
     "name": "stdout",
     "output_type": "stream",
     "text": [
      "('Notas de Julia:', [6, 6.5, 7, 9])\n",
      "('Nota final Julia:', 7.125)\n",
      "('Notas de Murilo:', [1, 3, 2.5, 6])\n",
      "('Nota final Murilo:', 3.125)\n"
     ]
    }
   ],
   "source": [
    "##Exercício 3\n",
    "\n",
    "NotasJulia=[6,6.5,7,9]\n",
    "NotasMurilo=[1,3,2.5,6]\n",
    "MediaJulia = sum(NotasJulia)/4\n",
    "MediaMurilo = sum(NotasMurilo)/4\n",
    "print (\"Notas de Julia:\", NotasJulia)\n",
    "print (\"Nota final Julia:\", MediaJulia)\n",
    "print (\"Notas de Murilo:\", NotasMurilo)\n",
    "print (\"Nota final Murilo:\", MediaMurilo)\n"
   ]
  },
  {
   "cell_type": "code",
   "execution_count": null,
   "metadata": {
    "collapsed": false
   },
   "outputs": [
    {
     "name": "stdout",
     "output_type": "stream",
     "text": [
      "insira a idade da pessoa 1:25\n",
      "insira a idade da pessoa 2:12\n",
      "insira a idade da pessoa 3:12\n",
      "insira a idade da pessoa 4:14\n"
     ]
    }
   ],
   "source": [
    "## Exercicio 4\n",
    " \n",
    "Id1= input(\"insira a idade da pessoa 1:\")\n",
    "Id2= input(\"insira a idade da pessoa 2:\")\n",
    "Id3= input(\"insira a idade da pessoa 3:\")\n",
    "Id4= input(\"insira a idade da pessoa 4:\")\n",
    "Id5= input(\"insira a idade da pessoa 5:\")\n",
    "list=[Id1, Id2, Id3, Id4, Id5]\n",
    "print list\n",
    "Al1= input(\"insira a altura da pessoa 1 em cm:\")\n",
    "Al2= input(\"insira a altura da pessoa 2 em cm:\")\n",
    "Al3= input(\"insira a altura da pessoa 3 em cm:\")\n",
    "Al4= input(\"insira a altura da pessoa 4 em cm:\")\n",
    "Al5= input(\"insira a altura da pessoa 5 em cm:\")\n",
    "list=[Al1, Al2, Al3, Al4, Al5]\n",
    "print list"
   ]
  },
  {
   "cell_type": "code",
   "execution_count": null,
   "metadata": {
    "collapsed": true
   },
   "outputs": [],
   "source": []
  }
 ],
 "metadata": {
  "kernelspec": {
   "display_name": "Python 2 (SageMath)",
   "language": "python",
   "name": "python2"
  },
  "language_info": {
   "codemirror_mode": {
    "name": "ipython",
    "version": 2
   },
   "file_extension": ".py",
   "mimetype": "text/x-python",
   "name": "python",
   "nbconvert_exporter": "python",
   "pygments_lexer": "ipython2",
   "version": "2.7.13"
  }
 },
 "nbformat": 4,
 "nbformat_minor": 0
}
