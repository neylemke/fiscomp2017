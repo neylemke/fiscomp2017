{
 "cells": [
  {
   "cell_type": "code",
   "execution_count": 4,
   "metadata": {
    "collapsed": false
   },
   "outputs": [
    {
     "name": "stdout",
     "output_type": "stream",
     "text": [
      "Digite um valor inteiro: 6\n",
      "Digite um valor inteiro: 4\n",
      "Digite um valor inteiro: 3\n",
      "Digite um valor inteiro: 8\n",
      "Digite um valor inteiro: 6\n",
      "Digite um valor inteiro: 9\n",
      "Digite um valor inteiro: 7\n",
      "Digite um valor inteiro: 8\n",
      "Digite um valor inteiro: 6\n",
      "Digite um valor inteiro: 4\n",
      "Digite um valor inteiro: 5\n",
      "Digite um valor inteiro: 3\n",
      "Digite um valor inteiro: 2\n",
      "Digite um valor inteiro: 1\n",
      "Digite um valor inteiro: 1\n",
      "Digite um valor inteiro: 3\n",
      "Digite um valor inteiro: 3\n",
      "Digite um valor inteiro: 3\n",
      "Digite um valor inteiro: 3\n",
      "Digite um valor inteiro: 3\n",
      "('V: ', [6, 4, 3, 8, 6, 9, 7, 8, 6, 4, 5, 3, 2, 1, 1, 3, 3, 3, 3, 3])\n",
      "('Vpares: ', [6, 4, 8, 6, 8, 6, 4, 2])\n"
     ]
    }
   ],
   "source": [
    "v=[]\n",
    "p=[]\n",
    "for i in range(20):\n",
    "    a=input(\"Digite um valor inteiro: \")\n",
    "    v.append(a)\n",
    "for i in range(20):\n",
    "    if v[i]%2==0:\n",
    "        b=v[i]\n",
    "        p.append(b)\n",
    "print(\"V: \",v)\n",
    "print(\"Vpares: \",p)"
   ]
  },
  {
   "cell_type": "code",
   "execution_count": 13,
   "metadata": {
    "collapsed": false
   },
   "outputs": [
    {
     "name": "stdout",
     "output_type": "stream",
     "text": [
      "Digite a nota do aluno A: 10\n",
      "Digite a nota do aluno B: 5\n",
      "Digite a nota do aluno A: 10\n",
      "Digite a nota do aluno B: 5\n",
      "Digite a nota do aluno A: 10\n",
      "Digite a nota do aluno B: 5\n",
      "Digite a nota do aluno A: 10\n",
      "Digite a nota do aluno B: 5\n",
      "('Notas do aluno A: ', [10, 10, 10, 10])\n",
      "('Notas do aluno B: ', [5, 5, 5, 5])\n",
      "('Media do aluno A: ', 10)\n",
      "('Media do aluno B: ', 5)\n"
     ]
    }
   ],
   "source": [
    "a=[]\n",
    "b=[]\n",
    "sa=0\n",
    "sb=0\n",
    "for i in range(4):\n",
    "    n1=input(\"Digite a nota do aluno A: \")\n",
    "    a.append(n1)\n",
    "    sa=sa+n1\n",
    "    n2=input(\"Digite a nota do aluno B: \")\n",
    "    b.append(n2)\n",
    "    sb=sb+n2\n",
    "ma=sa/len(a)\n",
    "mb=sb/len(b)\n",
    "print(\"Notas do aluno A: \",a)\n",
    "print(\"Notas do aluno B: \",b)\n",
    "print(\"Media do aluno A: \",ma)\n",
    "print(\"Media do aluno B: \",mb)"
   ]
  },
  {
   "cell_type": "code",
   "execution_count": 1,
   "metadata": {
    "collapsed": false
   },
   "outputs": [
    {
     "ename": "NameError",
     "evalue": "name 'p' is not defined",
     "output_type": "error",
     "traceback": [
      "\u001b[0;31m---------------------------------------------------------------------------\u001b[0m",
      "\u001b[0;31mNameError\u001b[0m                                 Traceback (most recent call last)",
      "\u001b[0;32m<ipython-input-1-29f6f0c6d9c3>\u001b[0m in \u001b[0;36m<module>\u001b[0;34m()\u001b[0m\n\u001b[1;32m      1\u001b[0m \u001b[0;32mfor\u001b[0m \u001b[0mi\u001b[0m \u001b[0;32min\u001b[0m \u001b[0mrange\u001b[0m\u001b[0;34m(\u001b[0m\u001b[0;36m5\u001b[0m\u001b[0;34m)\u001b[0m\u001b[0;34m:\u001b[0m\u001b[0;34m\u001b[0m\u001b[0m\n\u001b[0;32m----> 2\u001b[0;31m     \u001b[0mp\u001b[0m\u001b[0;34m[\u001b[0m\u001b[0mi\u001b[0m\u001b[0;34m+\u001b[0m\u001b[0;36m1\u001b[0m\u001b[0;34m]\u001b[0m\u001b[0;34m=\u001b[0m\u001b[0;34m[\u001b[0m\u001b[0;34m]\u001b[0m\u001b[0;34m\u001b[0m\u001b[0m\n\u001b[0m\u001b[1;32m      3\u001b[0m \u001b[0;32mfor\u001b[0m \u001b[0mi\u001b[0m \u001b[0;32min\u001b[0m \u001b[0mrange\u001b[0m\u001b[0;34m(\u001b[0m\u001b[0;36m5\u001b[0m\u001b[0;34m)\u001b[0m\u001b[0;34m:\u001b[0m\u001b[0;34m\u001b[0m\u001b[0m\n\u001b[1;32m      4\u001b[0m     \u001b[0mage\u001b[0m\u001b[0;34m=\u001b[0m\u001b[0minput\u001b[0m\u001b[0;34m(\u001b[0m\u001b[0;34m\"Digite a idade: \"\u001b[0m\u001b[0;34m)\u001b[0m\u001b[0;34m\u001b[0m\u001b[0m\n\u001b[1;32m      5\u001b[0m     \u001b[0mh\u001b[0m\u001b[0;34m=\u001b[0m\u001b[0minput\u001b[0m\u001b[0;34m(\u001b[0m\u001b[0;34m\"Digite a altura: \"\u001b[0m\u001b[0;34m)\u001b[0m\u001b[0;34m\u001b[0m\u001b[0m\n",
      "\u001b[0;31mNameError\u001b[0m: name 'p' is not defined"
     ]
    }
   ],
   "source": [
    "p1=[]\n",
    "p2=[]\n",
    "p3=[]\n",
    "p4=[]\n",
    "p5=[]\n",
    "for i in range(5):\n",
    "    age=input(\"Digite a idade: \")\n",
    "    h=input(\"Digite a altura: \")\n",
    "    p.append(age,h)\n",
    "for i in range(5):\n",
    "    print()"
   ]
  },
  {
   "cell_type": "code",
   "execution_count": null,
   "metadata": {
    "collapsed": true
   },
   "outputs": [],
   "source": []
  }
 ],
 "metadata": {
  "kernelspec": {
   "display_name": "Python 2 (SageMath)",
   "language": "python",
   "name": "python2"
  },
  "language_info": {
   "codemirror_mode": {
    "name": "ipython",
    "version": 2
   },
   "file_extension": ".py",
   "mimetype": "text/x-python",
   "name": "python",
   "nbconvert_exporter": "python",
   "pygments_lexer": "ipython2",
   "version": "2.7.13"
  }
 },
 "nbformat": 4,
 "nbformat_minor": 0
}
