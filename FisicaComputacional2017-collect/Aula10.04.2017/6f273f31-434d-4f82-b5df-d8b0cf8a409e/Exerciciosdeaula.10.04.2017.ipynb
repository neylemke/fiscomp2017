{
 "cells": [
  {
   "cell_type": "code",
   "execution_count": 1,
   "metadata": {
    "collapsed": false
   },
   "outputs": [
    {
     "name": "stdout",
     "output_type": "stream",
     "text": [
      "lista: [0, 1, 2, 3, 4, 5, 6, 7, 8, 9, 10, 11, 12, 13, 14, 15, 16, 17, 18, 19]\n"
     ]
    }
   ],
   "source": [
    "# Faça um programa que leia um vetor de 20 números inteiros e mostre-nos\n",
    "#Exercicio 1\n",
    "lista=list(range(20))\n",
    "print (\"lista:\",lista)"
   ]
  },
  {
   "cell_type": "code",
   "execution_count": 13,
   "metadata": {
    "collapsed": false
   },
   "outputs": [
    {
     "name": "stdout",
     "output_type": "stream",
     "text": [
      "[0, 2, 4, 6, 8, 10, 12, 14, 16, 18]\n"
     ]
    }
   ],
   "source": [
    "#Exercicio 2\n",
    "lista1=list(range(20))\n",
    "lista2=lista1[::2]\n",
    "print(lista2)"
   ]
  },
  {
   "cell_type": "code",
   "execution_count": 19,
   "metadata": {
    "collapsed": false
   },
   "outputs": [
    {
     "name": "stdout",
     "output_type": "stream",
     "text": [
      "notas aluno 1: [1, 5, 8, 10]\n",
      "notas aluno 2: [5, 6, 7, 8]\n",
      "media aluno 1: 6.0\n",
      "media aluno 2: 6.5\n"
     ]
    }
   ],
   "source": [
    "#Exercicio 3\n",
    "listaaluno1= [1,5,8,10]\n",
    "listaaluno1\n",
    "listaaluno2=[5,6,7,8]\n",
    "listaaluno2\n",
    "print(\"notas aluno 1:\",listaaluno1)\n",
    "print(\"notas aluno 2:\",listaaluno2)\n",
    "\n",
    "m1=0\n",
    "for i in listaaluno1:\n",
    "      m1=m1+i\n",
    "\n",
    "m11=m1/4\n",
    "\n",
    "print(\"media aluno 1:\",m11)\n",
    "  \n",
    "m2=0\n",
    "for i in listaaluno2:\n",
    "      m2=m2+i\n",
    "\n",
    "m22=m2/4\n",
    "print(\"media aluno 2:\",m22)"
   ]
  },
  {
   "cell_type": "code",
   "execution_count": 9,
   "metadata": {
    "collapsed": false
   },
   "outputs": [
    {
     "name": "stdout",
     "output_type": "stream",
     "text": [
      "Altura 1:1.22\n",
      "Altura 2:1.33\n",
      "Altura 3:1.44\n",
      "Altura 4:.55\n",
      "Altura 5:1.66\n",
      "Peso 1:1.44\n",
      "Peso 2:33\n",
      "Peso 3:65\n",
      "Peso 4:43\n",
      "Peso 5:32\n",
      "Altura: ['1.22', '1.33', '1.44', '.55', '1.66'] Peso: ['1.44', '33', '65', '43', '32']\n",
      "Altura mínima: .55 Altura máxima: 1.66 Peso mínimo: 1.44 Peso máximo: 65\n"
     ]
    }
   ],
   "source": [
    "# Exercicio 4\n",
    "altura = []\n",
    "peso = []\n",
    "a1,a2,a3,a4,a5 = input(\"Altura 1:\"), input(\"Altura 2:\"), input(\"Altura 3:\"), input(\"Altura 4:\"), input(\"Altura 5:\")\n",
    "altura.append(a1)\n",
    "altura.append(a2)\n",
    "altura.append(a3)\n",
    "altura.append(a4)\n",
    "altura.append(a5)\n",
    "p1,p2,p3,p4,p5 = input(\"Peso 1:\"),input(\"Peso 2:\"), input(\"Peso 3:\"), input(\"Peso 4:\"), input(\"Peso 5:\")\n",
    "peso.append(p1)\n",
    "peso.append(p2)\n",
    "peso.append(p3)\n",
    "peso.append(p4)\n",
    "peso.append(p5)\n",
    "print (\"Altura:\" , altura , \"Peso:\", peso)\n",
    "altmin = min(altura)\n",
    "altmax = max(altura)\n",
    "pesomin = min(peso)\n",
    "pesomax = max(peso)\n",
    "print (\"Altura mínima:\", altmin, \"Altura máxima:\", altmax, \"Peso mínimo:\", pesomin, \"Peso máximo:\", pesomax)"
   ]
  },
  {
   "cell_type": "code",
   "execution_count": 13,
   "metadata": {
    "collapsed": false
   },
   "outputs": [
    {
     "name": "stdout",
     "output_type": "stream",
     "text": [
      "[2, 12, 3, 13, 4, 14, 5, 15, 6, 16, 7, 17, 8, 18, 9, 19, 10, 20, 11, 21]\n"
     ]
    }
   ],
   "source": [
    "# Exercicio 5 \n",
    "lista= list(range(2,12))\n",
    "lista2= list(range(12,22))\n",
    "intercalado = []\n",
    "for i in range(len(lista)):\n",
    "    intercalado.append(lista[i])\n",
    "    intercalado.append(lista2[i])\n",
    "print(intercalado)"
   ]
  },
  {
   "cell_type": "code",
   "execution_count": 19,
   "metadata": {
    "collapsed": false
   },
   "outputs": [
    {
     "name": "stdout",
     "output_type": "stream",
     "text": [
      "Lista dos intervalos: [0.8900000000000001, 1.33, 1.1299999999999994, 0.9900000000000002, 1.9000000000000004, 0.6799999999999997, 1.1799999999999997, 1.0999999999999996]\n"
     ]
    }
   ],
   "source": [
    "# Exercicio 6\n",
    "lista1= [1.25, 2.14, 3.47,4.60, 5.59, 7.49, 8.17, 9.35, 10.45]\n",
    "intervalo=[]\n",
    "for i in range(len(lista1)):\n",
    "    if i< 8:\n",
    "        intervalo.append(lista1[i+1]-lista1[i])\n",
    "print(\"Lista dos intervalos:\", intervalo)\n",
    "    "
   ]
  }
 ],
 "metadata": {
  "kernelspec": {
   "display_name": "Python 3 (Anaconda)",
   "language": "python",
   "name": "anaconda3"
  },
  "language_info": {
   "codemirror_mode": {
    "name": "ipython",
    "version": 3
   },
   "file_extension": ".py",
   "mimetype": "text/x-python",
   "name": "python",
   "nbconvert_exporter": "python",
   "pygments_lexer": "ipython3",
   "version": "3.5.3"
  }
 },
 "nbformat": 4,
 "nbformat_minor": 0
}
