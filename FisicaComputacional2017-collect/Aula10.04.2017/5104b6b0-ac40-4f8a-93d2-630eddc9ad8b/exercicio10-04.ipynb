{
 "cells": [
  {
   "cell_type": "code",
   "execution_count": 1,
   "metadata": {
    "collapsed": false
   },
   "outputs": [
    {
     "name": "stdout",
     "output_type": "stream",
     "text": [
      "[20, 19, 18, 17, 16, 15, 14, 13, 12, 11, 10, 9, 8, 7, 6, 5, 4, 3, 2, 1]\n"
     ]
    },
    {
     "data": {
      "text/plain": [
       "[20, 18, 16, 14, 12, 10, 8, 6, 4, 2]"
      ]
     },
     "execution_count": 1,
     "metadata": {},
     "output_type": "execute_result"
    }
   ],
   "source": [
    "## exer 1\n",
    "L=list(range(20,0,-1))\n",
    "print (L)\n",
    "[elem for elem in L if elem%2==0]"
   ]
  },
  {
   "cell_type": "code",
   "execution_count": 2,
   "metadata": {
    "collapsed": false
   },
   "outputs": [
    {
     "name": "stdout",
     "output_type": "stream",
     "text": [
      "aluno1: 6.5\n"
     ]
    }
   ],
   "source": [
    "##exerc 2\n",
    "AlunoLorraine=[7, 7, 4, 8]\n",
    "mediaalunox=sum(AlunoLorraine)/4\n",
    "print (\"aluno1:\", mediaalunox)"
   ]
  },
  {
   "cell_type": "code",
   "execution_count": 3,
   "metadata": {
    "collapsed": false
   },
   "outputs": [
    {
     "name": "stdout",
     "output_type": "stream",
     "text": [
      "aluno1: 6.5\n",
      "aluno2 7.0\n"
     ]
    }
   ],
   "source": [
    "## exerc 3\n",
    "AlunoLorraine=[7, 7, 4, 8]\n",
    "mediaalunox=sum(AlunoLorraine)/4\n",
    "print (\"aluno1:\", mediaalunox)\n",
    "AlunoThiago=[3,7,8,10]\n",
    "mediaaluno=sum(AlunoThiago)/4\n",
    "print (\"aluno2\", mediaaluno)\n",
    "\n"
   ]
  },
  {
   "cell_type": "code",
   "execution_count": null,
   "metadata": {
    "collapsed": true
   },
   "outputs": [],
   "source": [
    "## exerc 4\n",
    "idade1=input(\"insira a idade da primeira pessoa \")\n",
    "idade2=input(\"insira a idade da segunda pessoa \")\n",
    "idade3=input(\"insira a idade da terceira pessoa \")\n",
    "idade4=input(\"insira a idade da quarta pessoa \")\n",
    "idade5=input(\"insira a idade da quinta pessoa \")\n",
    "\n",
    "altura1=input(\"insira a altura da primeira pessoa \")\n",
    "altura2=input(\"insira a altura da segunda pessoa \")\n",
    "altura3=input(\"insira a altura da terceira pessoa \")\n",
    "altura4=input(\"insira a altura da quarta pessoa \")\n",
    "altura5=input(\"insira a altura da quinta pessoa \")\n",
    "idade=[]\n",
    "altura=[]\n",
    "\n",
    "altmax=max(altura)\n",
    "altmin=min(altura)\n",
    "idademax=max(idade)\n",
    "idademin=min(idade)\n",
    "print(\"maximovalor das idades: \", altmax)\n",
    "print(\"maximovalor das alturas\", idademax)"
   ]
  },
  {
   "cell_type": "code",
   "execution_count": null,
   "metadata": {
    "collapsed": true
   },
   "outputs": [],
   "source": []
  }
 ],
 "metadata": {
  "kernelspec": {
   "display_name": "Python 3 (Anaconda)",
   "language": "python",
   "name": "anaconda3"
  },
  "language_info": {
   "codemirror_mode": {
    "name": "ipython",
    "version": 3
   },
   "file_extension": ".py",
   "mimetype": "text/x-python",
   "name": "python",
   "nbconvert_exporter": "python",
   "pygments_lexer": "ipython3",
   "version": "3.5.3"
  }
 },
 "nbformat": 4,
 "nbformat_minor": 0
}
