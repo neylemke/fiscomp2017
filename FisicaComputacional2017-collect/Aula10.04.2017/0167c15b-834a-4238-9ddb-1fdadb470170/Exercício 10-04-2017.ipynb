{
 "cells": [
  {
   "cell_type": "code",
   "execution_count": 1,
   "metadata": {
    "collapsed": false
   },
   "outputs": [
    {
     "name": "stdout",
     "output_type": "stream",
     "text": [
      "lista:  range(0, 20)\n",
      "Numeros pares:  range(0, 20, 2)\n"
     ]
    }
   ],
   "source": [
    "lis = range(20)\n",
    "print(\"lista: \",lis)\n",
    "print(\"Numeros pares: \",lis[::2])"
   ]
  },
  {
   "cell_type": "code",
   "execution_count": 2,
   "metadata": {
    "collapsed": false
   },
   "outputs": [
    {
     "name": "stdout",
     "output_type": "stream",
     "text": [
      "AlunoA:\n",
      "Notas: [8, 3, 7, 6] \n",
      "Media: 6.0\n",
      "\n",
      "AlunoB:\n",
      "Notas: [9, 5, 2, 8] \n",
      "Media: 6.0\n"
     ]
    }
   ],
   "source": [
    "NotasA = [8,3,7,6]\n",
    "NotasB = [9,5,2,8]\n",
    "print(\"AlunoA:\\nNotas:\",NotasA,\"\\nMedia:\", sum(NotasA)/len(NotasA))\n",
    "print(\"\\nAlunoB:\\nNotas:\",NotasB,\"\\nMedia:\", sum(NotasB)/len(NotasB))"
   ]
  },
  {
   "cell_type": "code",
   "execution_count": 4,
   "metadata": {
    "collapsed": false
   },
   "outputs": [
    {
     "ename": "SyntaxError",
     "evalue": "invalid syntax (<ipython-input-4-e7f853d187ae>, line 11)",
     "output_type": "error",
     "traceback": [
      "\u001b[0;36m  File \u001b[0;32m\"<ipython-input-4-e7f853d187ae>\"\u001b[0;36m, line \u001b[0;32m11\u001b[0m\n\u001b[0;31m    print(\"O mais alto possui \"+str(max(Hl)))+\" anos e o mais baixo \"+str(min(Hl))+\" anos\")\u001b[0m\n\u001b[0m                                                                                          ^\u001b[0m\n\u001b[0;31mSyntaxError\u001b[0m\u001b[0;31m:\u001b[0m invalid syntax\n"
     ]
    }
   ],
   "source": [
    "Id = []\n",
    "for i in range(5):\n",
    "    Id.append(int(input(\"Quantos anos a \"+str(i+1)+\"a. pessoa: \")))\n",
    "print(\"Id: \",Id)\n",
    "\n",
    "Hl = []\n",
    "for i in range(5):\n",
    "    Hl.append(float(inpout(\"Altura da \"+str(i+1)+\"a. pessoa:\")))\n",
    "print(\"H: \",Hl)\n",
    "\n",
    "print(\"O mais alto possui \"+str(max(Hl)))+\" anos e o mais baixo \"+str(min(Hl))+\" anos\")\n",
    "print(\"O mais velho possui \"+str(max(Id)))+\" anos e a mais nova \"+str(min(Id))+\" anos\")"
   ]
  },
  {
   "cell_type": "code",
   "execution_count": null,
   "metadata": {
    "collapsed": true
   },
   "outputs": [],
   "source": []
  }
 ],
 "metadata": {
  "kernelspec": {
   "display_name": "Python 3 (Anaconda)",
   "language": "python",
   "name": "anaconda3"
  },
  "language_info": {
   "codemirror_mode": {
    "name": "ipython",
    "version": 3
   },
   "file_extension": ".py",
   "mimetype": "text/x-python",
   "name": "python",
   "nbconvert_exporter": "python",
   "pygments_lexer": "ipython3",
   "version": "3.5.3"
  }
 },
 "nbformat": 4,
 "nbformat_minor": 0
}
