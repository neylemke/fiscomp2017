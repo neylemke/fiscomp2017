{
 "cells": [
  {
   "cell_type": "code",
   "execution_count": 1,
   "metadata": {
    "collapsed": false
   },
   "outputs": [
    {
     "name": "stdout",
     "output_type": "stream",
     "text": [
      "[0, 1, 2, 3, 4, 5, 6, 7, 8, 9, 10, 11, 12, 13, 14, 15, 16, 17, 18, 19]\n",
      "[0, 2, 4, 6, 8, 10, 12, 14, 16, 18]\n"
     ]
    }
   ],
   "source": [
    "#ex1\n",
    "lista=list(range(20))\n",
    "print (lista)\n",
    "\n",
    "#ex2\n",
    "a=0\n",
    "pares=[]\n",
    "for i in lista:\n",
    "    if lista[i]%2==0:\n",
    "        pares.append(lista[i])\n",
    "print (pares)\n",
    "        "
   ]
  },
  {
   "cell_type": "code",
   "execution_count": 12,
   "metadata": {
    "collapsed": false
   },
   "outputs": [
    {
     "name": "stdout",
     "output_type": "stream",
     "text": [
      "Notas do aluno 1=  [5, 3, 8, 7] Média do aluno 1=  5.75 Notas do aluno 2=  [10, 1, 5, 8] Média do aluno 2=  6.0\n"
     ]
    }
   ],
   "source": [
    "#ex3\n",
    "aluno1=[5,3,8,7]\n",
    "aluno2=[10,1,5,8]\n",
    "\n",
    "media1=(sum(aluno1)/len(aluno1))\n",
    "media2=(sum(aluno2)/len(aluno2))\n",
    "\n",
    "print ('Notas do aluno 1= ', aluno1, 'Média do aluno 1= ', media1, 'Notas do aluno 2= ', aluno2, 'Média do aluno 2= ', media2)"
   ]
  },
  {
   "cell_type": "code",
   "execution_count": 18,
   "metadata": {
    "collapsed": false
   },
   "outputs": [
    {
     "name": "stdout",
     "output_type": "stream",
     "text": [
      "Digite a altura: 1.9\n",
      "Digite a idade: 20\n",
      "Digite a altura: 1.8\n",
      "Digite a idade: 21\n",
      "Digite a altura: 1.7\n",
      "Digite a idade: 22\n",
      "Digite a altura: 1.6\n",
      "Digite a idade: 23\n",
      "Digite a altura: 1.5\n",
      "Digite a idade: 16\n",
      "Alturas=  ['1.9', '1.8', '1.7', '1.6', '1.5'] Idades=  ['20', '21', '22', '23', '16'] Altura máxima=  1.9 Altura mínima=  1.5 Idade máxima=  23 Idade mínima=  16\n"
     ]
    }
   ],
   "source": [
    "#ex4\n",
    "alturas=[]\n",
    "idades=[]\n",
    "\n",
    "altura1=input('Digite a altura: ')\n",
    "idade1=input('Digite a idade: ')\n",
    "altura2=input('Digite a altura: ')\n",
    "idade2=input('Digite a idade: ')\n",
    "altura3=input('Digite a altura: ')\n",
    "idade3=input('Digite a idade: ')\n",
    "altura4=input('Digite a altura: ')\n",
    "idade4=input('Digite a idade: ')\n",
    "altura5=input('Digite a altura: ')\n",
    "idade5=input('Digite a idade: ')\n",
    "\n",
    "alturas.append(altura1)\n",
    "alturas.append(altura2)\n",
    "alturas.append(altura3)\n",
    "alturas.append(altura4)\n",
    "alturas.append(altura5)\n",
    "idades.append(idade1)\n",
    "idades.append(idade2)\n",
    "idades.append(idade3)\n",
    "idades.append(idade4)\n",
    "idades.append(idade5)\n",
    "\n",
    "altmax=max(alturas)\n",
    "altmin=min(alturas)\n",
    "idadmax=max(idades)\n",
    "idadmin=min(idades)\n",
    "\n",
    "print ('Alturas= ',alturas, 'Idades= ', idades, 'Altura máxima= ', altmax, 'Altura mínima= ', altmin, 'Idade máxima= ', idadmax, 'Idade mínima= ', idadmin)\n"
   ]
  },
  {
   "cell_type": "markdown",
   "metadata": {},
   "source": []
  },
  {
   "cell_type": "code",
   "execution_count": 19,
   "metadata": {
    "collapsed": false
   },
   "outputs": [
    {
     "name": "stdout",
     "output_type": "stream",
     "text": [
      "<zip object at 0x7f2a11d489c8>\n"
     ]
    }
   ],
   "source": [
    "#ex5 python 2\n",
    "listas = zip(range(2, 7), range(7, 12))\n",
    "print (listas)"
   ]
  },
  {
   "cell_type": "code",
   "execution_count": null,
   "metadata": {
    "collapsed": true
   },
   "outputs": [],
   "source": []
  }
 ],
 "metadata": {
  "kernelspec": {
   "display_name": "Python 3 (Anaconda)",
   "language": "python",
   "name": "anaconda3"
  },
  "language_info": {
   "codemirror_mode": {
    "name": "ipython",
    "version": 3
   },
   "file_extension": ".py",
   "mimetype": "text/x-python",
   "name": "python",
   "nbconvert_exporter": "python",
   "pygments_lexer": "ipython3",
   "version": "3.5.3"
  }
 },
 "nbformat": 4,
 "nbformat_minor": 0
}
