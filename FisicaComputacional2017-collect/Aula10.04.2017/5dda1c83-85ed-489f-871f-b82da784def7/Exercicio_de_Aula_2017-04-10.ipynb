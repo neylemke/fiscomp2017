{
 "cells": [
  {
   "cell_type": "code",
   "execution_count": 3,
   "metadata": {
    "collapsed": false
   },
   "outputs": [
    {
     "name": "stdout",
     "output_type": "stream",
     "text": [
      "[0, 1, 2, 3, 4, 5, 6, 7, 8, 9, 10, 11, 12, 13, 14, 15, 16, 17, 18, 19]\n",
      "[0, 2, 4, 6, 8, 10, 12, 14, 16, 18]\n"
     ]
    }
   ],
   "source": [
    "vetor= list(range(20))\n",
    "print(vetor)\n",
    "\n",
    "par=vetor[::2]\n",
    "print(par)"
   ]
  },
  {
   "cell_type": "code",
   "execution_count": 1,
   "metadata": {
    "collapsed": false
   },
   "outputs": [
    {
     "name": "stdout",
     "output_type": "stream",
     "text": [
      "Aluno1: suas notas foram: [6, 7, 8, 9] Sua media e: 7.5\n",
      "Aluno2: suas notas foram: [7, 8, 9, 10] Sua media e: 8.5\n"
     ]
    }
   ],
   "source": [
    "nota1=[6,7,8,9]\n",
    "nota2=[7,8,9,10]\n",
    "aluno1=nota1\n",
    "aluno2=nota2\n",
    "media1=(sum(nota1))/4\n",
    "media2=(sum(nota2))/4\n",
    "print ('Aluno1: suas notas foram:', nota1, 'Sua media e:', media1)\n",
    "print ('Aluno2: suas notas foram:', nota2, 'Sua media e:', media2)"
   ]
  },
  {
   "cell_type": "code",
   "execution_count": null,
   "metadata": {
    "collapsed": true
   },
   "outputs": [],
   "source": [
    "idade=[100]\n",
    "i=0\n",
    "while i <  idade\n",
    "    idade_pessoa=input(\"Qual a sua idade?\")\n",
    "    "
   ]
  }
 ],
 "metadata": {
  "kernelspec": {
   "display_name": "Python 3 (Anaconda)",
   "language": "python",
   "name": "anaconda3"
  },
  "language_info": {
   "codemirror_mode": {
    "name": "ipython",
    "version": 3
   },
   "file_extension": ".py",
   "mimetype": "text/x-python",
   "name": "python",
   "nbconvert_exporter": "python",
   "pygments_lexer": "ipython3",
   "version": "3.5.3"
  }
 },
 "nbformat": 4,
 "nbformat_minor": 0
}
