{
 "cells": [
  {
   "cell_type": "code",
   "execution_count": 1,
   "metadata": {
    "collapsed": false
   },
   "outputs": [
    {
     "name": "stdout",
     "output_type": "stream",
     "text": [
      "1[2] - [7])/2 = -2.5\n",
      "2[5] - [2])/2 = 1.5\n",
      "3[3] - [5])/2 = -1.0\n",
      "4[5] - [3])/2 = 1.0\n",
      "5[9] - [5])/2 = 2.0\n",
      "6[7] - [9])/2 = -1.0\n",
      "7[7] - [7])/2 = 0.0\n",
      "8[9] - [7])/2 = 1.0\n",
      "9[7] - [9])/2 = -1.0\n",
      "10[7] - [7])/2 = 0.0\n",
      "11[4] - [7])/2 = -1.5\n",
      "12[9] - [4])/2 = 2.5\n",
      "13[0] - [9])/2 = -4.5\n",
      "14[8] - [0])/2 = 4.0\n",
      "15[0] - [8])/2 = -4.0\n",
      "16[0] - [0])/2 = 0.0\n",
      "17[4] - [0])/2 = 2.0\n",
      "18[1] - [4])/2 = -1.5\n",
      "19[2] - [1])/2 = 0.5\n",
      "20[6] - [2])/2 = 2.0\n",
      "21[0] - [6])/2 = -3.0\n",
      "22[9] - [0])/2 = 4.5\n",
      "23[4] - [9])/2 = -2.5\n",
      "24[7] - [4])/2 = 1.5\n",
      "25[4] - [7])/2 = -1.5\n",
      "26[4] - [4])/2 = 0.0\n",
      "27[1] - [4])/2 = -1.5\n",
      "28[3] - [1])/2 = 1.0\n",
      "29[3] - [3])/2 = 0.0\n",
      "30[5] - [3])/2 = 1.0\n",
      "31[1] - [5])/2 = -2.0\n",
      "32[5] - [1])/2 = 2.0\n",
      "33[3] - [5])/2 = -1.0\n",
      "34[2] - [3])/2 = -0.5\n",
      "35[9] - [2])/2 = 3.5\n",
      "36[5] - [9])/2 = -2.0\n",
      "37[3] - [5])/2 = -1.0\n",
      "38[0] - [3])/2 = -1.5\n",
      "39[7] - [0])/2 = 3.5\n",
      "40[9] - [7])/2 = 1.0\n",
      "41[5] - [9])/2 = -2.0\n",
      "42[5] - [5])/2 = 0.0\n",
      "43[2] - [5])/2 = -1.5\n",
      "44[2] - [2])/2 = 0.0\n",
      "45[9] - [2])/2 = 3.5\n",
      "46[0] - [9])/2 = -4.5\n",
      "47[7] - [0])/2 = 3.5\n",
      "48[5] - [7])/2 = -1.0\n",
      "49[8] - [5])/2 = 1.5\n",
      "50[0] - [8])/2 = -4.0\n",
      "51[4] - [0])/2 = 2.0\n",
      "52[1] - [4])/2 = -1.5\n",
      "53[4] - [1])/2 = 1.5\n",
      "54[3] - [4])/2 = -0.5\n",
      "55[9] - [3])/2 = 3.0\n",
      "56[5] - [9])/2 = -2.0\n",
      "57[2] - [5])/2 = -1.5\n",
      "58[0] - [2])/2 = -1.0\n",
      "59[5] - [0])/2 = 2.5\n",
      "60[9] - [5])/2 = 2.0\n",
      "61[7] - [9])/2 = -1.0\n",
      "62[7] - [7])/2 = 0.0\n",
      "63[7] - [7])/2 = 0.0\n",
      "64[8] - [7])/2 = 0.5\n",
      "65[4] - [8])/2 = -2.0\n",
      "66[5] - [4])/2 = 0.5\n",
      "67[7] - [5])/2 = 1.0\n",
      "68[2] - [7])/2 = -2.5\n",
      "69[5] - [2])/2 = 1.5\n",
      "70[6] - [5])/2 = 0.5\n",
      "71[4] - [6])/2 = -1.0\n",
      "72[4] - [4])/2 = 0.0\n",
      "73[2] - [4])/2 = -1.0\n",
      "74[8] - [2])/2 = 3.0\n",
      "75[6] - [8])/2 = -1.0\n",
      "76[5] - [6])/2 = -0.5\n",
      "77[6] - [5])/2 = 0.5\n",
      "78[0] - [6])/2 = -3.0\n",
      "79[7] - [0])/2 = 3.5\n",
      "80[2] - [7])/2 = -2.5\n",
      "81[3] - [2])/2 = 0.5\n",
      "82[2] - [3])/2 = -0.5\n",
      "83[2] - [2])/2 = 0.0\n",
      "84[4] - [2])/2 = 1.0\n",
      "85[0] - [4])/2 = -2.0\n",
      "86[9] - [0])/2 = 4.5\n",
      "87[4] - [9])/2 = -2.5\n",
      "88[1] - [4])/2 = -1.5\n",
      "89[7] - [1])/2 = 3.0\n",
      "90[8] - [7])/2 = 0.5\n",
      "91[9] - [8])/2 = 0.5\n",
      "92[1] - [9])/2 = -4.0\n",
      "93[2] - [1])/2 = 0.5\n",
      "94[6] - [2])/2 = 2.0\n",
      "95[9] - [6])/2 = 1.5\n",
      "96[1] - [9])/2 = -4.0\n",
      "97[9] - [1])/2 = 4.0\n",
      "98[2] - [9])/2 = -3.5\n",
      "99[9] - [2])/2 = 3.5\n"
     ]
    }
   ],
   "source": [
    "#Exercicio1\n",
    "##Gere uma lista com 100 números aleatórios, em seguida o aluno deverá deverá encontrar os intervalos médios dos elementos da lista.\n",
    "\n",
    "import numpy as np\n",
    "\n",
    "v = np.int_(np.random.rand(100,1)*10)\n",
    "\n",
    "for i in range(len(v)-1):\n",
    "    print(str(i+1)+\"\"+str(v[i+1])+\" - \"+str(v[i])+\")/2 = \"+str(float((v[i+1]-v[i])/2.0)))"
   ]
  },
  {
   "cell_type": "code",
   "execution_count": 7,
   "metadata": {
    "cocalc": {
     "outputs": {
      "0": {
       "name": "input",
       "opts": {
        "password": false,
        "prompt": "Digite valor para 'a'= "
       },
       "output_type": "stream",
       "value": "3"
      },
      "1": {
       "name": "input",
       "opts": {
        "password": false,
        "prompt": "Digite valor para 'b'= "
       },
       "output_type": "stream",
       "value": "4"
      },
      "2": {
       "name": "input",
       "opts": {
        "password": false,
        "prompt": "Digite valor para 'c'= "
       },
       "output_type": "stream",
       "value": "5"
      }
     }
    },
    "collapsed": false
   },
   "outputs": [
    {
     "name": "stdout",
     "output_type": "stream",
     "text": "Digite valor para 'a'=  3"
    },
    {
     "name": "stdout",
     "output_type": "stream",
     "text": "Digite valor para 'b'=  4"
    },
    {
     "name": "stdout",
     "output_type": "stream",
     "text": "Digite valor para 'c'=  5"
    },
    {
     "name": "stdout",
     "output_type": "stream",
     "text": [
      "-44\n",
      "Não possui solução real\n"
     ]
    }
   ],
   "source": [
    "#Exericio3\n",
    "##Calcule as raízes da equação do 2◦ grau (Ax^2 + Bx + C = 0) sendo os valores de A, B e C fornecidos pelo usuário, levando em consideração a existência de raízes complexas\n",
    "\n",
    "a=int(input(\"Digite valor para 'a'= \"))\n",
    "b=int(input(\"Digite valor para 'b'= \"))\n",
    "c=int(input(\"Digite valor para 'c'= \"))\n",
    "\n",
    "delta=((pow(b,2))-4*a*c)\n",
    "print(delta)\n",
    "\n",
    "if delta<0:\n",
    "    print (\"Não possui solução real\")\n",
    "    import sys\n",
    "    \n",
    "elif delta ==0:\n",
    "    print (\"Delta nulo. Equação apresenta apenas uma solução real.\")\n",
    "    print (-b,a)\n",
    "    print (-b,a,(-b)/2*a)\n",
    "    \n",
    "else:\n",
    "    import math\n",
    "    print(a,b,c)\n",
    "    float(delta)\n",
    "    delta_quadrado=math.sqrt(delta)\n",
    "    raiz_pos=(-b+raiz_quadrada)\n",
    "    raiz_neg=(-b-raiz_quadrada)\n",
    "    baixo_bsk=(2*a)\n",
    "    resultado_raiz_pos=(raiz_pos, raiz_neg)\n",
    "    resultado_raiz_neg=(raiz_pos, baixo_bsk)\n",
    "    print(b,raiz_pos,raiz_neg)\n",
    "    print(b,raiz_pos,raiz_neg)\n",
    "    print(\"Duas casas após a virgula.\")\n"
   ]
  },
  {
   "cell_type": "markdown",
   "metadata": {
    "collapsed": false
   },
   "source": [
   ]
  },
  {
   "cell_type": "code",
   "execution_count": 0,
   "metadata": {
    "collapsed": false
   },
   "outputs": [
   ],
   "source": [
   ]
  }
 ],
 "metadata": {
  "kernelspec": {
   "display_name": "Python 2 (SageMath)",
   "language": "python",
   "name": "python2"
  },
  "language_info": {
   "codemirror_mode": {
    "name": "ipython",
    "version": 2
   },
   "file_extension": ".py",
   "mimetype": "text/x-python",
   "name": "python",
   "nbconvert_exporter": "python",
   "pygments_lexer": "ipython2",
   "version": "2.7.13"
  }
 },
 "nbformat": 4,
 "nbformat_minor": 0
}