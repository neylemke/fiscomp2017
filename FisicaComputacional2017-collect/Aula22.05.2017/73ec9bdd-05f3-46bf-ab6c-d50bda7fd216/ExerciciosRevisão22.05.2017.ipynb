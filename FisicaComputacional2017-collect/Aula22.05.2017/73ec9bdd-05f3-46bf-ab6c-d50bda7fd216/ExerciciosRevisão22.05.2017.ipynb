{
 "cells": [
  {
   "cell_type": "markdown",
   "metadata": {
    "collapsed": false
   },
   "source": [
    "#### Exercicio 1\n",
    "- Gere uma lista com 100 números aleatórios, em seguida o aluno deverá encontrar os intervalos médios dos elementos da lista."
   ]
  },
  {
   "cell_type": "code",
   "execution_count": 37,
   "metadata": {
    "collapsed": false
   },
   "outputs": [
    {
     "data": {
      "text/plain": [
       "[38,\n",
       " 83,\n",
       " 77,\n",
       " 7,\n",
       " 84,\n",
       " 96,\n",
       " 74,\n",
       " 12,\n",
       " 68,\n",
       " 25,\n",
       " 55,\n",
       " 87,\n",
       " 15,\n",
       " 40,\n",
       " 26,\n",
       " 60,\n",
       " 36,\n",
       " 1,\n",
       " 37,\n",
       " 41,\n",
       " 27,\n",
       " 67,\n",
       " 45,\n",
       " 23,\n",
       " 52,\n",
       " 19,\n",
       " 53,\n",
       " 72,\n",
       " 62,\n",
       " 94,\n",
       " 9,\n",
       " 35,\n",
       " 58,\n",
       " 98,\n",
       " 66,\n",
       " 11,\n",
       " 48,\n",
       " 20,\n",
       " 61,\n",
       " 56,\n",
       " 32,\n",
       " 76,\n",
       " 78,\n",
       " 34,\n",
       " 90,\n",
       " 65,\n",
       " 73,\n",
       " 8,\n",
       " 0,\n",
       " 59,\n",
       " 86,\n",
       " 14,\n",
       " 99,\n",
       " 93,\n",
       " 97,\n",
       " 6,\n",
       " 31,\n",
       " 85,\n",
       " 50,\n",
       " 69,\n",
       " 24,\n",
       " 39,\n",
       " 13,\n",
       " 70,\n",
       " 3,\n",
       " 46,\n",
       " 22,\n",
       " 54,\n",
       " 57,\n",
       " 21,\n",
       " 51,\n",
       " 17,\n",
       " 63,\n",
       " 92,\n",
       " 10,\n",
       " 49,\n",
       " 43,\n",
       " 30,\n",
       " 79,\n",
       " 95,\n",
       " 16,\n",
       " 82,\n",
       " 91,\n",
       " 28,\n",
       " 81,\n",
       " 18,\n",
       " 47,\n",
       " 88,\n",
       " 2,\n",
       " 42,\n",
       " 75,\n",
       " 33,\n",
       " 89,\n",
       " 44,\n",
       " 64,\n",
       " 71,\n",
       " 4,\n",
       " 80,\n",
       " 29,\n",
       " 5]"
      ]
     },
     "execution_count": 37,
     "metadata": {
     },
     "output_type": "execute_result"
    }
   ],
   "source": [
    "import random\n",
    "\n",
    "lista=random.sample(range(0,100),100)\n",
    "lista"
   ]
  },
  {
   "cell_type": "code",
   "execution_count": 39,
   "metadata": {
    "collapsed": false
   },
   "outputs": [
    {
     "data": {
      "text/plain": [
       "[60.5,\n",
       " 80.0,\n",
       " 42.0,\n",
       " 45.5,\n",
       " 90.0,\n",
       " 85.0,\n",
       " 43.0,\n",
       " 40.0,\n",
       " 46.5,\n",
       " 40.0,\n",
       " 71.0,\n",
       " 51.0,\n",
       " 27.5,\n",
       " 33.0,\n",
       " 43.0,\n",
       " 48.0,\n",
       " 18.5,\n",
       " 19.0,\n",
       " 39.0,\n",
       " 34.0,\n",
       " 47.0,\n",
       " 56.0,\n",
       " 34.0,\n",
       " 37.5,\n",
       " 35.5,\n",
       " 36.0,\n",
       " 62.5,\n",
       " 67.0,\n",
       " 78.0,\n",
       " 51.5,\n",
       " 22.0,\n",
       " 46.5,\n",
       " 78.0,\n",
       " 82.0,\n",
       " 38.5,\n",
       " 29.5,\n",
       " 34.0,\n",
       " 40.5,\n",
       " 58.5,\n",
       " 44.0,\n",
       " 54.0,\n",
       " 77.0,\n",
       " 56.0,\n",
       " 62.0,\n",
       " 77.5,\n",
       " 69.0,\n",
       " 40.5,\n",
       " 4.0,\n",
       " 29.5,\n",
       " 72.5,\n",
       " 50.0,\n",
       " 56.5,\n",
       " 96.0,\n",
       " 95.0,\n",
       " 51.5,\n",
       " 18.5,\n",
       " 58.0,\n",
       " 67.5,\n",
       " 59.5,\n",
       " 46.5,\n",
       " 31.5,\n",
       " 26.0,\n",
       " 41.5,\n",
       " 36.5,\n",
       " 24.5,\n",
       " 34.0,\n",
       " 38.0,\n",
       " 55.5,\n",
       " 39.0,\n",
       " 36.0,\n",
       " 34.0,\n",
       " 40.0,\n",
       " 77.5,\n",
       " 51.0,\n",
       " 29.5,\n",
       " 46.0,\n",
       " 36.5,\n",
       " 54.5,\n",
       " 87.0,\n",
       " 55.5,\n",
       " 49.0,\n",
       " 86.5,\n",
       " 59.5,\n",
       " 54.5,\n",
       " 49.5,\n",
       " 32.5,\n",
       " 67.5,\n",
       " 45.0,\n",
       " 22.0,\n",
       " 58.5,\n",
       " 54.0,\n",
       " 61.0,\n",
       " 66.5,\n",
       " 54.0,\n",
       " 67.5,\n",
       " 37.5,\n",
       " 42.0,\n",
       " 54.5,\n",
       " 17.0]"
      ]
     },
     "execution_count": 39,
     "metadata": {
     },
     "output_type": "execute_result"
    }
   ],
   "source": [
    "IntervalosMedios=[]\n",
    "for i in range(0,99):\n",
    "    IntervalosMedios.append((lista[i]+lista[i+1])/2.)\n",
    "IntervalosMedios"
   ]
  },
  {
   "cell_type": "markdown",
   "metadata": {
    "collapsed": false
   },
   "source": [
    "#### Exercicio 2\n",
    "Faça um programa que leia um número indeterminado de valores, correspondentes a notas, encerrando a entrada de dados quando for informado um valor igual a -1 (que não deve ser armazenado). Após esta entrada de dados, faça:\n",
    "- Mostre a quantidade de valores que foram lidos;\n",
    "- Exiba todos os valores na ordem em que foram informados, um ao lado do outro;\n",
    "- Exiba todos os valores na ordem inversa à que foram informados, um abaixo do outro;\n",
    "- Calcule e mostre a soma dos valores;\n",
    "- Calcule e mostre a média dos valores;\n",
    "- Calcule e mostre a quantidade de valores acima da média calculada;\n",
    "- Calcule e mostre a quantidade de valores abaixo de sete;\n",
    "- Encerre o programa com uma mensagem;"
   ]
  },
  {
   "cell_type": "code",
   "execution_count": 65,
   "metadata": {
    "cocalc": {
     "outputs": {
      "0": {
       "name": "input",
       "opts": {
        "password": false,
        "prompt": "Insira uma nota:"
       },
       "output_type": "stream",
       "value": "10"
      },
      "1": {
       "name": "input",
       "opts": {
        "password": false,
        "prompt": "Insira uma nota:"
       },
       "output_type": "stream",
       "value": "8"
      },
      "2": {
       "name": "input",
       "opts": {
        "password": false,
        "prompt": "Insira uma nota:"
       },
       "output_type": "stream",
       "value": "-5"
      },
      "3": {
       "name": "input",
       "opts": {
        "password": false,
        "prompt": "Insira uma nota:"
       },
       "output_type": "stream",
       "value": "-4"
      },
      "4": {
       "name": "input",
       "opts": {
        "password": false,
        "prompt": "Insira uma nota:"
       },
       "output_type": "stream",
       "value": "-1"
      }
     }
    }
   },
   "outputs": [
    {
     "name": "stdout",
     "output_type": "stream",
     "text": "Insira uma nota: 10"
    },
    {
     "name": "stdout",
     "output_type": "stream",
     "text": "Insira uma nota: 8"
    },
    {
     "name": "stdout",
     "output_type": "stream",
     "text": "Insira uma nota: 9"
    },
    {
     "name": "stdout",
     "output_type": "stream",
     "text": "Insira uma nota: -2"
    },
    {
     "name": "stdout",
     "output_type": "stream",
     "text": "Insira uma nota: -1"
    },
    {
     "name": "stdout",
     "output_type": "stream",
     "text": [
      "Lista com as notas: [10, 8, 9, -2]\n"
     ]
    }
   ],
   "source": [
    "nota=input(\"Insira uma nota:\")\n",
    "lista=[]\n",
    "lista.append(nota)\n",
    "while nota!=(-1):\n",
    "    nota=input(\"Insira uma nota:\")\n",
    "    if nota!=(-1):    \n",
    "        lista.append(nota) \n",
    "print \"Lista com as notas:\",lista"
   ]
  },
  {
   "cell_type": "code",
   "execution_count": 66,
   "metadata": {
    "collapsed": false
   },
   "outputs": [
    {
     "name": "stdout",
     "output_type": "stream",
     "text": [
      "Quantidade de valores lidos, exceto (-1): 4\n"
     ]
    }
   ],
   "source": [
    "#Mostrando a quantidade de valores que foram lidos\n",
    "n=int(len(lista))\n",
    "print \"Quantidade de valores lidos, exceto (-1):\",quantidade "
   ]
  },
  {
   "cell_type": "code",
   "execution_count": 67,
   "metadata": {
    "collapsed": false
   },
   "outputs": [
    {
     "data": {
      "text/plain": [
       "'10 8 9 -2 '"
      ]
     },
     "execution_count": 67,
     "metadata": {
     },
     "output_type": "execute_result"
    }
   ],
   "source": [
    "#Exibindo todos os valores na ordem em que foram informados, um ao lado do outro\n",
    "strlista=\"\"\n",
    "for i in lista:\n",
    "    strlista=strlista+str(i)+\" \"\n",
    "strlista "
   ]
  },
  {
   "cell_type": "code",
   "execution_count": 68,
   "metadata": {
    "collapsed": false
   },
   "outputs": [
    {
     "name": "stdout",
     "output_type": "stream",
     "text": [
      "-2\n",
      "9\n",
      "8\n",
      "10\n"
     ]
    }
   ],
   "source": [
    "#Exibindo todos os valores na ordem inversa à que foram informados, um abaixo do outro\n",
    "notas= []\n",
    "i=0\n",
    "while i<n:\n",
    "    notas=notas+[lista[n-1-i]]\n",
    "    i=i+1\n",
    "for i in range(0,n):\n",
    "    print notas[i] "
   ]
  },
  {
   "cell_type": "code",
   "execution_count": 69,
   "metadata": {
    "collapsed": false
   },
   "outputs": [
    {
     "name": "stdout",
     "output_type": "stream",
     "text": [
      "Soma dos valores das notas: 25\n"
     ]
    }
   ],
   "source": [
    "#Calcule e mostre a soma dos valores\n",
    "soma=sum(lista)\n",
    "print \"Soma dos valores das notas:\", soma"
   ]
  },
  {
   "cell_type": "code",
   "execution_count": 70,
   "metadata": {
    "collapsed": false
   },
   "outputs": [
    {
     "name": "stdout",
     "output_type": "stream",
     "text": [
      "Média dos valores: 6.25\n"
     ]
    }
   ],
   "source": [
    "#Calcule e mostre a média dos valores\n",
    "media = sum(lista)/float(n)\n",
    "print \"Média dos valores:\", media"
   ]
  },
  {
   "cell_type": "code",
   "execution_count": 71,
   "metadata": {
    "collapsed": false
   },
   "outputs": [
    {
     "name": "stdout",
     "output_type": "stream",
     "text": [
      "Valores acima da média: [10, 8, 9]\n",
      "Quantidade de valores acima da média: 3\n"
     ]
    }
   ],
   "source": [
    "#Calcule e mostre a quantidade de valores acima da média calculada\n",
    "acima=[]\n",
    "for i in range(n):\n",
    "    if lista[i] >media:\n",
    "        acima.append(lista[i])\n",
    "        i=i+1\n",
    "print \"Valores acima da média:\", acima\n",
    "print \"Quantidade de valores acima da média:\", len(acima)    "
   ]
  },
  {
   "cell_type": "code",
   "execution_count": 73,
   "metadata": {
    "collapsed": false
   },
   "outputs": [
    {
     "name": "stdout",
     "output_type": "stream",
     "text": [
      "Valores abaixo de 7: [-2]\n",
      "Quantidade de valores abaixo de 7: 1\n"
     ]
    }
   ],
   "source": [
    "#Calcule e mostre a quantidade de valores abaixo de sete\n",
    "abaixosete=[]\n",
    "for i in range(n):\n",
    "    if lista[i] <7:\n",
    "        abaixosete.append(lista[i])\n",
    "        i=i+1\n",
    "print \"Valores abaixo de 7:\", abaixosete\n",
    "print \"Quantidade de valores abaixo de 7:\", len(abaixosete)    "
   ]
  },
  {
   "cell_type": "code",
   "execution_count": 0,
   "metadata": {
    "collapsed": false
   },
   "outputs": [
   ],
   "source": [
    "#Encerre o programa com uma mensagem\n",
    "print \"Exercício Finalizado!\""
   ]
  },
  {
   "cell_type": "markdown",
   "metadata": {
    "collapsed": false
   },
   "source": [
    "#### Exercicio 3\n",
    "- Calcule as raízes da equação do 2◦ grau ($Ax^2 + Bx + C = 0$) sendo os valores de A, B e C fornecidos pelo usuário, levando em consideração a existência de raízes complexas.**\n",
    "#### Exercício está feito na aula de 17/03/2017."
   ]
  },
  {
   "cell_type": "markdown",
   "metadata": {
    "collapsed": false
   },
   "source": [
    "#### Exercícios 4\n",
    "- Crie 12 arquivos, chamados de 'arq_mes_estação.txt'. Cada um deles contendo a frase: \"A minha estação predileta é 'estação', especialmente 'mês'\"  repetida um número aleatório de vezes, entre 5 e 20. Comprima essas arquivos usando o comando gzip. Faça isso utilizando o conceito de dicionários.\n",
    "#### Exercício está feito na aula de 24/04/2017."
   ]
  },
  {
   "cell_type": "markdown",
   "metadata": {
    "collapsed": false
   },
   "source": [
    "#### Exercícios 5\n",
    "1. Com base nos dados de https://pt.wikipedia.org/wiki/Lista_de_epis%C3%B3dios_de_Pok%C3%A9mon Construa um  dataframe para armazenar \n",
    "as informações sobre os episódios de Pokemon, contendo: \n",
    "- Série\n",
    "- Geração\n",
    "- Temporada\n",
    "- Primeiro Episódio\n",
    "- Último Episódio\n",
    "- Região\n",
    "2. Descubra qual a geração mais longeva\n",
    "3. Descubra quantas temporadas durou cada série\n",
    "#### Exercício está feito na aula de 24/04/2017."
   ]
  },
  {
   "cell_type": "markdown",
   "metadata": {
    "collapsed": false
   },
   "source": [
    "#### Exercício 6\n",
    "- Passo 1: Gere um arquivo com 10 notas de cinco alunos (Deve conter o nome do aluno e as notas).\n",
    "- Passo 2: Em seguida crie uma array em numpy com essas notas.\n",
    "- Passo 3: Crie um DataFrame dessas notas.\n",
    "- Passo 4: Identifique qual menor nota e quem foi o aluno que obteve essa nota\n",
    "- Passo 5: Identifique o aluno que tirou as melhores notas."
   ]
  },
  {
   "cell_type": "code",
   "execution_count": 5,
   "metadata": {
    "collapsed": false
   },
   "outputs": [
    {
     "name": "stdout",
     "output_type": "stream",
     "text": [
      "Overwriting notas.txt\n"
     ]
    }
   ],
   "source": [
    "%%writefile notas.txt \n",
    "Aluno,n1,n2,n3,n4,n5,n6,n7,n8,n9,n10\n",
    "Joao, 5,6,4,7,8,9,10,8,9,7\n",
    "Maria, 4,6,4,10,8,8.5,5.5,7,6,3\n",
    "Jose, 5,7,2.5,8,10,4.5,9,4.5,8,10\n",
    "Pedro, 10,8,8,9.5,7,8.5,6.5,9,5,7\n",
    "Lucia, 1.5,5,6,10,7,8.5,6,7,6.5,7.5"
   ]
  },
  {
   "cell_type": "code",
   "execution_count": 6,
   "metadata": {
    "collapsed": false
   },
   "outputs": [
    {
     "name": "stdout",
     "output_type": "stream",
     "text": [
      "Aluno,n1,n2,n3,n4,n5,n6,n7,n8,n9,n10\n",
      "Joao, 5,6,4,7,8,9,10,8,9,7\n",
      "Maria, 4,6,4,10,8,8.5,5.5,7,6,3\n",
      "Jose, 5,7,2.5,8,10,4.5,9,4.5,8,10\n",
      "Pedro, 10,8,8,9.5,7,8.5,6.5,9,5,7\n",
      "Lucia, 1.5,5,6,10,7,8.5,6,7,6.5,7.5\n"
     ]
    }
   ],
   "source": [
    "with open('notas.txt', 'r') as f:\n",
    "    print(f.read())"
   ]
  },
  {
   "cell_type": "code",
   "execution_count": 85,
   "metadata": {
    "collapsed": false
   },
   "outputs": [
    {
     "data": {
      "text/plain": [
       "array([[  5. ,   6. ,   4. ,   7. ,   8. ,   9. ,  10. ,   8. ,   9. ,   7. ],\n",
       "       [  4. ,   6. ,   4. ,  10. ,   8. ,   8.5,   5.5,   7. ,   6. ,   3. ],\n",
       "       [  5. ,   7. ,   2.5,   8. ,  10. ,   4.5,   9. ,   4.5,   8. ,  10. ],\n",
       "       [ 10. ,   8. ,   8. ,   9.5,   7. ,   8.5,   6.5,   9. ,   5. ,   7. ],\n",
       "       [  1.5,   5. ,   6. ,  10. ,   7. ,   8.5,   6. ,   7. ,   6.5,\n",
       "          7.5]])"
      ]
     },
     "execution_count": 85,
     "metadata": {
     },
     "output_type": "execute_result"
    }
   ],
   "source": [
    "#Passo 2\n",
    "import pandas as pd\n",
    "Aluno=pd.read_csv(\"notas.txt\")\n",
    "Array=Aluno[[\"n1\",\"n2\",\"n3\",\"n4\",\"n5\",\"n6\",\"n7\",\"n8\",\"n9\",\"n10\"]].values\n",
    "Array"
   ]
  },
  {
   "cell_type": "code",
   "execution_count": 8,
   "metadata": {
    "collapsed": false,
    "scrolled": true
   },
   "outputs": [
    {
     "data": {
      "text/html": [
       "<div>\n",
       "<table border=\"1\" class=\"dataframe\">\n",
       "  <thead>\n",
       "    <tr style=\"text-align: right;\">\n",
       "      <th></th>\n",
       "      <th>Aluno</th>\n",
       "      <th>n1</th>\n",
       "      <th>n2</th>\n",
       "      <th>n3</th>\n",
       "      <th>n4</th>\n",
       "      <th>n5</th>\n",
       "      <th>n6</th>\n",
       "      <th>n7</th>\n",
       "      <th>n8</th>\n",
       "      <th>n9</th>\n",
       "      <th>n10</th>\n",
       "    </tr>\n",
       "  </thead>\n",
       "  <tbody>\n",
       "    <tr>\n",
       "      <th>0</th>\n",
       "      <td>Joao</td>\n",
       "      <td>5.0</td>\n",
       "      <td>6</td>\n",
       "      <td>4.0</td>\n",
       "      <td>7.0</td>\n",
       "      <td>8</td>\n",
       "      <td>9.0</td>\n",
       "      <td>10.0</td>\n",
       "      <td>8.0</td>\n",
       "      <td>9.0</td>\n",
       "      <td>7.0</td>\n",
       "    </tr>\n",
       "    <tr>\n",
       "      <th>1</th>\n",
       "      <td>Maria</td>\n",
       "      <td>4.0</td>\n",
       "      <td>6</td>\n",
       "      <td>4.0</td>\n",
       "      <td>10.0</td>\n",
       "      <td>8</td>\n",
       "      <td>8.5</td>\n",
       "      <td>5.5</td>\n",
       "      <td>7.0</td>\n",
       "      <td>6.0</td>\n",
       "      <td>3.0</td>\n",
       "    </tr>\n",
       "    <tr>\n",
       "      <th>2</th>\n",
       "      <td>Jose</td>\n",
       "      <td>5.0</td>\n",
       "      <td>7</td>\n",
       "      <td>2.5</td>\n",
       "      <td>8.0</td>\n",
       "      <td>10</td>\n",
       "      <td>4.5</td>\n",
       "      <td>9.0</td>\n",
       "      <td>4.5</td>\n",
       "      <td>8.0</td>\n",
       "      <td>10.0</td>\n",
       "    </tr>\n",
       "    <tr>\n",
       "      <th>3</th>\n",
       "      <td>Pedro</td>\n",
       "      <td>10.0</td>\n",
       "      <td>8</td>\n",
       "      <td>8.0</td>\n",
       "      <td>9.5</td>\n",
       "      <td>7</td>\n",
       "      <td>8.5</td>\n",
       "      <td>6.5</td>\n",
       "      <td>9.0</td>\n",
       "      <td>5.0</td>\n",
       "      <td>7.0</td>\n",
       "    </tr>\n",
       "    <tr>\n",
       "      <th>4</th>\n",
       "      <td>Lucia</td>\n",
       "      <td>1.5</td>\n",
       "      <td>5</td>\n",
       "      <td>6.0</td>\n",
       "      <td>10.0</td>\n",
       "      <td>7</td>\n",
       "      <td>8.5</td>\n",
       "      <td>6.0</td>\n",
       "      <td>7.0</td>\n",
       "      <td>6.5</td>\n",
       "      <td>7.5</td>\n",
       "    </tr>\n",
       "  </tbody>\n",
       "</table>\n",
       "</div>"
      ]
     },
     "execution_count": 8,
     "metadata": {
     },
     "output_type": "execute_result"
    }
   ],
   "source": [
    "#Passo 3\n",
    "df=pd.DataFrame(Aluno)\n",
    "df"
   ]
  },
  {
   "cell_type": "code",
   "execution_count": 84,
   "metadata": {
    "collapsed": false
   },
   "outputs": [
    {
     "name": "stdout",
     "output_type": "stream",
     "text": [
      "A menor nota é: 1.5\n"
     ]
    }
   ],
   "source": [
    "#Passo 4\n",
    "#[menor1 for menor1  in df.ix[0] if menor1==min(Aluno.values]\n",
    "print \"A menor nota é:\", min(df.min())\n"
   ]
  },
  {
   "cell_type": "code",
   "execution_count": 143,
   "metadata": {
    "collapsed": false
   },
   "outputs": [
    {
     "name": "stdout",
     "output_type": "stream",
     "text": [
      "0.6 0.7 0.75 0.5 0.85\n",
      "Pedro tem melhores notas, com menor desvio padrão: 0.5\n"
     ]
    }
   ],
   "source": [
    "#Passo 5\n",
    "DPJoao=float((max(Array[0])-min(Array[0]))/max(Array[0]))\n",
    "DPMaria=float((max(Array[1])-min(Array[1]))/max(Array[1]))\n",
    "DPJose=float((max(Array[2])-min(Array[2]))/max(Array[2]))\n",
    "DPPedro=float((max(Array[3])-min(Array[3]))/max(Array[3]))\n",
    "DPLucia=float((max(Array[4])-min(Array[4]))/max(Array[4]))\n",
    "print DPJoao, DPMaria, DPJose, DPPedro, DPLucia\n",
    "if DPJoao<DPMaria and DPJoao<DPJose and DPJoao<DPPedro and DPJoao<DPLucia:\n",
    "    print \"Joao tem melhores notas, com menor desvio padrão:\",DPJoao\n",
    "elif DPMaria<DPJoao and DPMaria<DPJose and DPMaria<DPPedro and DPMaria<DPLucia :\n",
    "    print \"Maria tem melhores notas, com menor desvio padrão:\",DPMaria\n",
    "elif DPJose<DPJoao and DPJose<DPMaria and DPJose<DPPedro and DPJose<DPLucia :\n",
    "    print \"Jose tem melhores notas, com menor desvio padrão:\",DPJose\n",
    "elif DPPedro<DPJoao and DPPedro<DPMaria and DPPedro<DPJose and DPPedro<DPLucia :\n",
    "    print \"Pedro tem melhores notas, com menor desvio padrão:\",DPPedro\n",
    "else: \n",
    "    print \"Lucia tem melhores notas, com menor desvio padrão:\",DPLucia"
   ]
  },
  {
   "cell_type": "code",
   "execution_count": 0,
   "metadata": {
    "collapsed": false
   },
   "outputs": [
   ],
   "source": [
   ]
  }
 ],
 "metadata": {
  "kernelspec": {
   "display_name": "Python 2 (SageMath)",
   "language": "python",
   "name": "python2"
  },
  "language_info": {
   "codemirror_mode": {
    "name": "ipython",
    "version": 2
   },
   "file_extension": ".py",
   "mimetype": "text/x-python",
   "name": "python",
   "nbconvert_exporter": "python",
   "pygments_lexer": "ipython2",
   "version": "2.7.13"
  }
 },
 "nbformat": 4,
 "nbformat_minor": 0
}