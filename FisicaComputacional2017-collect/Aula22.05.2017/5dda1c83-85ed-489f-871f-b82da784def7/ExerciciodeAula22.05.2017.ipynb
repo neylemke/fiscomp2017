{
 "cells": [
  {
   "cell_type": "code",
   "execution_count": 1,
   "metadata": {
    "collapsed": false
   },
   "outputs": [
    {
     "name": "stdout",
     "output_type": "stream",
     "text": [
      "[0.027184793514599459, 0.048544050884258061, -0.13089938856712779, 0.37439446234125195, 0.064478663111233847, -0.32504208675101309, -0.33167812361599358, 0.85838315442448565, -0.055478019198559769, 0.056823397970401368, -0.49595806811332022, 0.092056694177766518, -0.27416892999922604, 0.077892722787134105, 0.65176055611162287, -0.51489965333616072, 0.24862335890083609, -0.11285798465389441, -0.20117059151860117, 0.40618527754159794, 0.096948210304998228, 0.040206711076305357, -0.055089148891633632, -0.48532445751833186, -0.15703461212024095, 0.02034353996778826, 0.010862763562794142, -0.14305711591770165, 0.085353105913840599, 0.039804174574962659, -0.15302212834288087, 0.20516205731290216, 0.22312998422219499, -0.22943076890727276, -0.095228775116740993, 0.68075350801356416, -0.47591362372713242, 0.47737375604174392, 0.078256385814835516, -0.31892104464669246, 0.1483551762434776, -0.12559959474780324, 0.07892980304957653, -0.40551677299322775, 0.65438891350912531, -0.74924014087166857, 0.14754765710328122, -0.13566602043152665, 0.54631052272559844, -0.01814367612375678, 0.00012894380558436946, -0.51695446686892266, 0.7083019569135135, -0.55152309893666918, 0.17908224364080394, 0.24017681828969206, -0.25598468386398676, 0.22363005290648119, -0.47976792591127826, 0.44672598577560252, -0.037972690788659502, -0.45359448355733423, 0.45029517103943084, -0.20744535156573651, 0.17167593366701717, -0.018586607413136447, -0.57396705844369444, 0.096367507295478272, 0.12249235215726295, 0.25449133762926202, 0.39809741269421328, 0.012546567251792373, -0.12045077467469201, -0.74524602249008709, 0.48221936990158398, -0.23245955366128557, -0.098909569237510153, 0.45139438543155475, -0.060736746616937509, -0.23072118698337607, 0.31652649920208376, 0.14827788229564454, -0.080142012599028312, -0.79586809761448329, 0.92588274846561536, -0.07028301925621816, -0.71928333470180017, 0.14769515762066787, 0.022288168700542954, 0.072448868382969156, 0.16722951665263275, -0.26050423921828991, 0.33737756582864775, -0.52546131951026476, 0.4064412021358258, -0.1300400248982434, 0.26735760476507453, -0.38983570541709966, 0.41894420600959659]\n"
     ]
    }
   ],
   "source": [
    "#Exercicio1\n",
    "import numpy as np\n",
    "l=np.random.rand(100)\n",
    "im=[]\n",
    "for i in range(len(l)):\n",
    "    if(i!=len(l)-1):\n",
    "        a=(l[i+1]-l[i])\n",
    "        im.append(a)\n",
    "print(\"Os intervalos médios são:\",im)"
   ]
  },
  {
   "cell_type": "code",
   "execution_count": 2,
   "metadata": {
    "cocalc": {
     "outputs": {
      "0": {
       "name": "input",
       "opts": {
        "password": false,
        "prompt": "Entre com um valor: "
       },
       "output_type": "stream",
       "value": "10"
      },
      "1": {
       "name": "input",
       "opts": {
        "password": false,
        "prompt": "Entre com um valor: "
       },
       "output_type": "stream",
       "value": "10"
      }
     }
    },
    "collapsed": false
   },
   "outputs": [
    {
     "name": "stdout",
     "output_type": "stream",
     "text": "Entre com um valor:  10"
    },
    {
     "name": "stdout",
     "output_type": "stream",
     "text": "Entre com um valor:  10"
    },
    {
     "ename": "KeyboardInterrupt",
     "evalue": "",
     "output_type": "error",
     "traceback": [
      "\u001b[0;31m\u001b[0m",
      "\u001b[0;31mKeyboardInterrupt\u001b[0mTraceback (most recent call last)",
      "\u001b[0;32m<ipython-input-2-5eb6b8b34de5>\u001b[0m in \u001b[0;36m<module>\u001b[0;34m()\u001b[0m\n\u001b[1;32m      4\u001b[0m \u001b[0ma\u001b[0m\u001b[0;34m=\u001b[0m\u001b[0;36m0\u001b[0m\u001b[0;34m\u001b[0m\u001b[0m\n\u001b[1;32m      5\u001b[0m \u001b[0;32mwhile\u001b[0m\u001b[0;34m(\u001b[0m\u001b[0ma\u001b[0m\u001b[0;34m!=\u001b[0m\u001b[0;34m-\u001b[0m\u001b[0;36m1\u001b[0m\u001b[0;34m)\u001b[0m\u001b[0;34m:\u001b[0m\u001b[0;34m\u001b[0m\u001b[0m\n\u001b[0;32m----> 6\u001b[0;31m     \u001b[0ma\u001b[0m\u001b[0;34m=\u001b[0m\u001b[0minput\u001b[0m\u001b[0;34m(\u001b[0m\u001b[0;34m'Entre com um valor: '\u001b[0m\u001b[0;34m)\u001b[0m\u001b[0;34m\u001b[0m\u001b[0m\n\u001b[0m\u001b[1;32m      7\u001b[0m     \u001b[0;32mif\u001b[0m \u001b[0;34m(\u001b[0m\u001b[0ma\u001b[0m\u001b[0;34m==\u001b[0m\u001b[0;34m-\u001b[0m\u001b[0;36m1\u001b[0m\u001b[0;34m)\u001b[0m\u001b[0;34m:\u001b[0m\u001b[0;34m\u001b[0m\u001b[0m\n\u001b[1;32m      8\u001b[0m         \u001b[0;32mbreak\u001b[0m\u001b[0;34m\u001b[0m\u001b[0m\n",
      "\u001b[0;32m/usr/local/lib/python2.7/dist-packages/ipykernel/ipkernel.pyc\u001b[0m in \u001b[0;36m<lambda>\u001b[0;34m(prompt)\u001b[0m\n\u001b[1;32m    162\u001b[0m             \u001b[0mself\u001b[0m\u001b[0;34m.\u001b[0m\u001b[0m_sys_eval_input\u001b[0m \u001b[0;34m=\u001b[0m \u001b[0mbuiltin_mod\u001b[0m\u001b[0;34m.\u001b[0m\u001b[0minput\u001b[0m\u001b[0;34m\u001b[0m\u001b[0m\n\u001b[1;32m    163\u001b[0m             \u001b[0mbuiltin_mod\u001b[0m\u001b[0;34m.\u001b[0m\u001b[0mraw_input\u001b[0m \u001b[0;34m=\u001b[0m \u001b[0mself\u001b[0m\u001b[0;34m.\u001b[0m\u001b[0mraw_input\u001b[0m\u001b[0;34m\u001b[0m\u001b[0m\n\u001b[0;32m--> 164\u001b[0;31m             \u001b[0mbuiltin_mod\u001b[0m\u001b[0;34m.\u001b[0m\u001b[0minput\u001b[0m \u001b[0;34m=\u001b[0m \u001b[0;32mlambda\u001b[0m \u001b[0mprompt\u001b[0m\u001b[0;34m=\u001b[0m\u001b[0;34m''\u001b[0m\u001b[0;34m:\u001b[0m \u001b[0meval\u001b[0m\u001b[0;34m(\u001b[0m\u001b[0mself\u001b[0m\u001b[0;34m.\u001b[0m\u001b[0mraw_input\u001b[0m\u001b[0;34m(\u001b[0m\u001b[0mprompt\u001b[0m\u001b[0;34m)\u001b[0m\u001b[0;34m)\u001b[0m\u001b[0;34m\u001b[0m\u001b[0m\n\u001b[0m\u001b[1;32m    165\u001b[0m         \u001b[0mself\u001b[0m\u001b[0;34m.\u001b[0m\u001b[0m_save_getpass\u001b[0m \u001b[0;34m=\u001b[0m \u001b[0mgetpass\u001b[0m\u001b[0;34m.\u001b[0m\u001b[0mgetpass\u001b[0m\u001b[0;34m\u001b[0m\u001b[0m\n\u001b[1;32m    166\u001b[0m         \u001b[0mgetpass\u001b[0m\u001b[0;34m.\u001b[0m\u001b[0mgetpass\u001b[0m \u001b[0;34m=\u001b[0m \u001b[0mself\u001b[0m\u001b[0;34m.\u001b[0m\u001b[0mgetpass\u001b[0m\u001b[0;34m\u001b[0m\u001b[0m\n",
      "\u001b[0;32m/usr/local/lib/python2.7/dist-packages/ipykernel/kernelbase.pyc\u001b[0m in \u001b[0;36mraw_input\u001b[0;34m(self, prompt)\u001b[0m\n\u001b[1;32m    703\u001b[0m             \u001b[0mself\u001b[0m\u001b[0;34m.\u001b[0m\u001b[0m_parent_ident\u001b[0m\u001b[0;34m,\u001b[0m\u001b[0;34m\u001b[0m\u001b[0m\n\u001b[1;32m    704\u001b[0m             \u001b[0mself\u001b[0m\u001b[0;34m.\u001b[0m\u001b[0m_parent_header\u001b[0m\u001b[0;34m,\u001b[0m\u001b[0;34m\u001b[0m\u001b[0m\n\u001b[0;32m--> 705\u001b[0;31m             \u001b[0mpassword\u001b[0m\u001b[0;34m=\u001b[0m\u001b[0mFalse\u001b[0m\u001b[0;34m,\u001b[0m\u001b[0;34m\u001b[0m\u001b[0m\n\u001b[0m\u001b[1;32m    706\u001b[0m         )\n\u001b[1;32m    707\u001b[0m \u001b[0;34m\u001b[0m\u001b[0m\n",
      "\u001b[0;32m/usr/local/lib/python2.7/dist-packages/ipykernel/kernelbase.pyc\u001b[0m in \u001b[0;36m_input_request\u001b[0;34m(self, prompt, ident, parent, password)\u001b[0m\n\u001b[1;32m    733\u001b[0m             \u001b[0;32mexcept\u001b[0m \u001b[0mKeyboardInterrupt\u001b[0m\u001b[0;34m:\u001b[0m\u001b[0;34m\u001b[0m\u001b[0m\n\u001b[1;32m    734\u001b[0m                 \u001b[0;31m# re-raise KeyboardInterrupt, to truncate traceback\u001b[0m\u001b[0;34m\u001b[0m\u001b[0;34m\u001b[0m\u001b[0m\n\u001b[0;32m--> 735\u001b[0;31m                 \u001b[0;32mraise\u001b[0m \u001b[0mKeyboardInterrupt\u001b[0m\u001b[0;34m\u001b[0m\u001b[0m\n\u001b[0m\u001b[1;32m    736\u001b[0m             \u001b[0;32melse\u001b[0m\u001b[0;34m:\u001b[0m\u001b[0;34m\u001b[0m\u001b[0m\n\u001b[1;32m    737\u001b[0m                 \u001b[0;32mbreak\u001b[0m\u001b[0;34m\u001b[0m\u001b[0m\n",
      "\u001b[0;31mKeyboardInterrupt\u001b[0m: "
     ]
    }
   ],
   "source": [
    "#Exercicio2\n",
    "\n",
    "l=[]\n",
    "a=0\n",
    "while(a!=-1):\n",
    "    a=input('Entre com um valor: ')\n",
    "    if (a==-1):\n",
    "        break\n",
    "    else:\n",
    "        l.append(a)\n",
    "        a=a+1\n",
    "print(len(l))\n",
    "print(l)\n",
    "b=len(l)\n",
    "m= l[::-1]\n",
    "soma=0\n",
    "for i in range(b):\n",
    "    print(m[i])\n",
    "    soma=l[i]+soma\n",
    "print(soma)\n",
    "media=soma/b\n",
    "print(media)\n",
    "acima=0\n",
    "abaixo=0\n",
    "for i in range(b):\n",
    "    if(l[i]>media):\n",
    "        acima=acima+1\n",
    "    elif(l[i]<media):\n",
    "        abaixo=abaixo+1\n",
    "print('Acima da media: ',acima)\n",
    "print('Abaixo da media: ',abaixo)\n",
    "print('Me passa ae!!!')"
   ]
  },
  {
   "cell_type": "code",
   "execution_count": 1,
   "metadata": {
    "cocalc": {
     "outputs": {
      "0": {
       "name": "input",
       "opts": {
        "password": false,
        "prompt": "Entre com o valor de A: "
       },
       "output_type": "stream",
       "value": "10"
      },
      "1": {
       "name": "input",
       "opts": {
        "password": false,
        "prompt": "Entre com o valor de B: "
       },
       "output_type": "stream",
       "value": "20"
      },
      "2": {
       "name": "input",
       "opts": {
        "password": false,
        "prompt": "Entre com o valor de C: "
       },
       "output_type": "stream",
       "value": "30"
      }
     }
    },
    "collapsed": false
   },
   "outputs": [
    {
     "name": "stdout",
     "output_type": "stream",
     "text": "Entre com o valor de A:  10"
    },
    {
     "name": "stdout",
     "output_type": "stream",
     "text": "Entre com o valor de B:  20"
    },
    {
     "name": "stdout",
     "output_type": "stream",
     "text": "Entre com o valor de C:  30"
    },
    {
     "name": "stdout",
     "output_type": "stream",
     "text": [
      "('X1=', (-100+141.4213562373095j))\n",
      "('X2=', (-100-141.4213562373095j))\n"
     ]
    }
   ],
   "source": [
    "#Exercicio3\n",
    "\n",
    "import math\n",
    "import cmath\n",
    "a=input('Entre com o valor de A: ')\n",
    "b=input('Entre com o valor de B: ')\n",
    "c=input('Entre com o valor de C: ')\n",
    "d=(b**2)-4*a*c\n",
    "if(d<0):\n",
    "    x1=(-b+cmath.sqrt(d))/2*a\n",
    "    x2=(-b-cmath.sqrt(d))/2*a\n",
    "    print('X1=',x1)\n",
    "    print('X2=',x2)\n",
    "elif(d==0):\n",
    "    x=(-b+math.sqrt(d))/2*a\n",
    "    print('X=',x)\n",
    "else:\n",
    "    x1=(-b+math.sqrt(d))/2*a\n",
    "    x2=(-b-math.sqrt(d))/2*a\n",
    "    print('X1=',x1)\n",
    "    print('X2=',x2)"
   ]
  },
  {
   "cell_type": "code",
   "execution_count": 2,
   "metadata": {
    "collapsed": false
   },
   "outputs": [
    {
     "name": "stdout",
     "output_type": "stream",
     "text": [
      "A minha estação preferida é primavera, especialmente o mes de novembroA minha estação preferida é primavera, especialmente o mes de novembroA minha estação preferida é primavera, especialmente o mes de novembroA minha estação preferida é primavera, especialmente o mes de novembroA minha estação preferida é primavera, especialmente o mes de novembroA minha estação preferida é primavera, especialmente o mes de novembroA minha estação preferida é primavera, especialmente o mes de novembroA minha estação preferida é primavera, especialmente o mes de novembroA minha estação preferida é primavera, especialmente o mes de novembro\n",
      "A minha estação preferida é outono, especialmente o mes de marcoA minha estação preferida é outono, especialmente o mes de marcoA minha estação preferida é outono, especialmente o mes de marcoA minha estação preferida é outono, especialmente o mes de marcoA minha estação preferida é outono, especialmente o mes de marcoA minha estação preferida é outono, especialmente o mes de marcoA minha estação preferida é outono, especialmente o mes de marcoA minha estação preferida é outono, especialmente o mes de marcoA minha estação preferida é outono, especialmente o mes de marcoA minha estação preferida é outono, especialmente o mes de marcoA minha estação preferida é outono, especialmente o mes de marco\n",
      "A minha estação preferida é inverno, especialmente o mes de julhoA minha estação preferida é inverno, especialmente o mes de julhoA minha estação preferida é inverno, especialmente o mes de julhoA minha estação preferida é inverno, especialmente o mes de julhoA minha estação preferida é inverno, especialmente o mes de julhoA minha estação preferida é inverno, especialmente o mes de julhoA minha estação preferida é inverno, especialmente o mes de julhoA minha estação preferida é inverno, especialmente o mes de julhoA minha estação preferida é inverno, especialmente o mes de julhoA minha estação preferida é inverno, especialmente o mes de julhoA minha estação preferida é inverno, especialmente o mes de julhoA minha estação preferida é inverno, especialmente o mes de julhoA minha estação preferida é inverno, especialmente o mes de julhoA minha estação preferida é inverno, especialmente o mes de julhoA minha estação preferida é inverno, especialmente o mes de julho\n",
      "A minha estação preferida é inverno, especialmente o mes de agostoA minha estação preferida é inverno, especialmente o mes de agostoA minha estação preferida é inverno, especialmente o mes de agostoA minha estação preferida é inverno, especialmente o mes de agostoA minha estação preferida é inverno, especialmente o mes de agostoA minha estação preferida é inverno, especialmente o mes de agostoA minha estação preferida é inverno, especialmente o mes de agostoA minha estação preferida é inverno, especialmente o mes de agostoA minha estação preferida é inverno, especialmente o mes de agosto\n",
      "A minha estação preferida é verao, especialmente o mes de fevereiroA minha estação preferida é verao, especialmente o mes de fevereiroA minha estação preferida é verao, especialmente o mes de fevereiroA minha estação preferida é verao, especialmente o mes de fevereiroA minha estação preferida é verao, especialmente o mes de fevereiroA minha estação preferida é verao, especialmente o mes de fevereiroA minha estação preferida é verao, especialmente o mes de fevereiroA minha estação preferida é verao, especialmente o mes de fevereiroA minha estação preferida é verao, especialmente o mes de fevereiroA minha estação preferida é verao, especialmente o mes de fevereiroA minha estação preferida é verao, especialmente o mes de fevereiroA minha estação preferida é verao, especialmente o mes de fevereiro\n",
      "A minha estação preferida é inverno, especialmente o mes de junhoA minha estação preferida é inverno, especialmente o mes de junhoA minha estação preferida é inverno, especialmente o mes de junhoA minha estação preferida é inverno, especialmente o mes de junhoA minha estação preferida é inverno, especialmente o mes de junhoA minha estação preferida é inverno, especialmente o mes de junhoA minha estação preferida é inverno, especialmente o mes de junhoA minha estação preferida é inverno, especialmente o mes de junhoA minha estação preferida é inverno, especialmente o mes de junho\n",
      "A minha estação preferida é verao, especialmente o mes de dezembroA minha estação preferida é verao, especialmente o mes de dezembroA minha estação preferida é verao, especialmente o mes de dezembroA minha estação preferida é verao, especialmente o mes de dezembroA minha estação preferida é verao, especialmente o mes de dezembro\n",
      "A minha estação preferida é verao, especialmente o mes de janeiroA minha estação preferida é verao, especialmente o mes de janeiroA minha estação preferida é verao, especialmente o mes de janeiroA minha estação preferida é verao, especialmente o mes de janeiroA minha estação preferida é verao, especialmente o mes de janeiroA minha estação preferida é verao, especialmente o mes de janeiroA minha estação preferida é verao, especialmente o mes de janeiroA minha estação preferida é verao, especialmente o mes de janeiroA minha estação preferida é verao, especialmente o mes de janeiroA minha estação preferida é verao, especialmente o mes de janeiroA minha estação preferida é verao, especialmente o mes de janeiroA minha estação preferida é verao, especialmente o mes de janeiroA minha estação preferida é verao, especialmente o mes de janeiroA minha estação preferida é verao, especialmente o mes de janeiro\n",
      "A minha estação preferida é outono, especialmente o mes de abrilA minha estação preferida é outono, especialmente o mes de abrilA minha estação preferida é outono, especialmente o mes de abrilA minha estação preferida é outono, especialmente o mes de abrilA minha estação preferida é outono, especialmente o mes de abrilA minha estação preferida é outono, especialmente o mes de abrilA minha estação preferida é outono, especialmente o mes de abrilA minha estação preferida é outono, especialmente o mes de abrilA minha estação preferida é outono, especialmente o mes de abrilA minha estação preferida é outono, especialmente o mes de abrilA minha estação preferida é outono, especialmente o mes de abrilA minha estação preferida é outono, especialmente o mes de abrilA minha estação preferida é outono, especialmente o mes de abrilA minha estação preferida é outono, especialmente o mes de abril\n",
      "A minha estação preferida é outono, especialmente o mes de maioA minha estação preferida é outono, especialmente o mes de maioA minha estação preferida é outono, especialmente o mes de maioA minha estação preferida é outono, especialmente o mes de maioA minha estação preferida é outono, especialmente o mes de maioA minha estação preferida é outono, especialmente o mes de maioA minha estação preferida é outono, especialmente o mes de maioA minha estação preferida é outono, especialmente o mes de maioA minha estação preferida é outono, especialmente o mes de maioA minha estação preferida é outono, especialmente o mes de maioA minha estação preferida é outono, especialmente o mes de maioA minha estação preferida é outono, especialmente o mes de maioA minha estação preferida é outono, especialmente o mes de maioA minha estação preferida é outono, especialmente o mes de maioA minha estação preferida é outono, especialmente o mes de maioA minha estação preferida é outono, especialmente o mes de maioA minha estação preferida é outono, especialmente o mes de maioA minha estação preferida é outono, especialmente o mes de maio\n",
      "A minha estação preferida é primavera, especialmente o mes de outubroA minha estação preferida é primavera, especialmente o mes de outubroA minha estação preferida é primavera, especialmente o mes de outubroA minha estação preferida é primavera, especialmente o mes de outubroA minha estação preferida é primavera, especialmente o mes de outubroA minha estação preferida é primavera, especialmente o mes de outubroA minha estação preferida é primavera, especialmente o mes de outubroA minha estação preferida é primavera, especialmente o mes de outubroA minha estação preferida é primavera, especialmente o mes de outubroA minha estação preferida é primavera, especialmente o mes de outubroA minha estação preferida é primavera, especialmente o mes de outubroA minha estação preferida é primavera, especialmente o mes de outubroA minha estação preferida é primavera, especialmente o mes de outubroA minha estação preferida é primavera, especialmente o mes de outubro\n",
      "A minha estação preferida é primavera, especialmente o mes de setembroA minha estação preferida é primavera, especialmente o mes de setembroA minha estação preferida é primavera, especialmente o mes de setembroA minha estação preferida é primavera, especialmente o mes de setembroA minha estação preferida é primavera, especialmente o mes de setembroA minha estação preferida é primavera, especialmente o mes de setembro\n",
      "[('novembro',), ('marco',), ('julho',), ('agosto',), ('fevereiro',), ('junho',), ('dezembro',), ('janeiro',), ('abril',), ('maio',), ('outubro',), ('setembro',)]\n"
     ]
    }
   ],
   "source": [
    "#Exercicio4\n",
    "mes={'janeiro': 'verao', 'fevereiro': 'verao', 'marco':'outono', 'abril': 'outono','maio': 'outono', 'junho': 'inverno', \n",
    "          'julho': 'inverno', 'agosto':'inverno','setembro': 'primavera', 'outubro': 'primavera', 'novembro':'primavera',\n",
    "    'dezembro': 'verao'}\n",
    "\n",
    "for key in mes.keys():\n",
    "    open('Arq_'+mes[key]+'_'+key+'.txt', 'w')\n",
    "    from random import randint\n",
    "    #mes=random.sample(range(5,20),12)\n",
    "    print('A minha estação preferida é {}, especialmente o mes de {}'.format(mes[key],key)*randint(5,20))\n",
    "    \n",
    "data=list(zip(mes))\n",
    "print(data)"
   ]
  },
  {
   "cell_type": "code",
   "execution_count": 4,
   "metadata": {
    "collapsed": false
   },
   "outputs": [
    {
     "name": "stdout",
     "output_type": "stream",
     "text": [
      "[10, 7, 5, 0, 4, 7, 5, 5, 10, 3, 8, 9, 5, 1, 0, 5, 10, 7, 3, 9, 8, 7, 9, 2, 0, 9, 10, 2, 7, 0, 2, 2, 4, 5, 10, 9, 4, 3, 4, 8, 5, 4, 7, 7, 5, 4, 0, 10, 8, 5]\n"
     ]
    }
   ],
   "source": [
    "#Exercicio6\n",
    "import numpy as np\n",
    "import random\n",
    "#a=open('Exericio6.txt','w')\n",
    "alunos=['A','B','C','D','E']\n",
    "notas=[]\n",
    "for i in range(50):\n",
    "    a=np.random.randint(0,11)\n",
    "    notas.append(a)\n",
    "#arq.open('Exercicio6.txt','w')\n",
    "print(notas)\n",
    "#for i in range(50):\n",
    "    #if(i<10):"
   ]
  },
  {
   "cell_type": "code",
   "execution_count": 1,
   "metadata": {
    "collapsed": false
   },
   "outputs": [
    {
     "name": "stderr",
     "output_type": "stream",
     "text": [
      "/projects/anaconda3/lib/python3.5/site-packages/ipykernel/__main__.py:20: DeprecationWarning: \n",
      ".ix is deprecated. Please use\n",
      ".loc for label based indexing or\n",
      ".iloc for positional indexing\n",
      "\n",
      "See the documentation here:\n",
      "http://pandas.pydata.org/pandas-docs/stable/indexing.html#deprecate_ix\n"
     ]
    }
   ],
   "source": [
    "#Exercicio5\n",
    "\n",
    "import pandas as pd\n",
    "import numpy as np\n",
    "\n",
    "def preenche(lis):\n",
    "    for elem in range(1,len(lis)):\n",
    "        if lis[elem]!=lis[elem]: #truque sujo!\n",
    "            lis[elem]=lis[elem-1]\n",
    "    return lis\n",
    "\n",
    "def sint(x):\n",
    "    try: \n",
    "        return int(x)\n",
    "    except:\n",
    "        return 947+20+1\n",
    "\n",
    "lispoktab=pd.read_html( \"pokemon.html\")\n",
    "df=lispoktab[0]\n",
    "df.ix[2]=np.roll(df.ix[2],2)\n",
    "df.ix[3]=np.roll(df.ix[3],1)\n",
    "df.ix[4]=np.roll(df.ix[4],2)\n",
    "df.ix[5]=np.roll(df.ix[5],2)\n",
    "df.ix[7]=np.roll(df.ix[7],2)\n",
    "df.ix[8]=np.roll(df.ix[8],2)\n",
    "df.ix[9]=np.roll(df.ix[9],2)\n",
    "df.ix[11]=np.roll(df.ix[11],2)\n",
    "df.ix[12]=np.roll(df.ix[12],2)\n",
    "df.ix[13]=np.roll(df.ix[13],2)\n",
    "df.ix[15]=np.roll(df.ix[15],2)\n",
    "df.ix[16]=np.roll(df.ix[16],2)\n",
    "df.ix[18]=np.roll(df.ix[18],2)\n",
    "df.ix[19]=np.roll(df.ix[19],2)\n",
    "\n",
    "\n",
    "df.columns=df.ix[0] # muda o nome das colunas\n",
    "df=df.drop(0) # elimina a primeira linha\n",
    "df['Série']=preenche(list(df['Série'])) # elimina elementos com Nan\n",
    "df['Geração']=preenche(list(df['Geração']))\n",
    "df['Região']=preenche(list(df['Região']))\n",
    "df['Episódios']=[episodio[0:-7] for episodio in df['Episódios']] # elimina parte final \n",
    "df['Primeiro']=[int(episodio[0:3]) for episodio in df['Episódios']] # separa em duas partes\n",
    "df['Último']=[sint(episodio[4:-1]) for episodio in df['Episódios']]\n",
    "\n",
    "df[\"# Episódios\"]=df[\"Último\"]-df[\"Primeiro\"]+1"
   ]
  },
  {
   "cell_type": "code",
   "execution_count": 2,
   "metadata": {
    "collapsed": false
   },
   "outputs": [
    {
     "data": {
      "text/html": [
       "<div>\n",
       "<style>\n",
       "    .dataframe thead tr:only-child th {\n",
       "        text-align: right;\n",
       "    }\n",
       "\n",
       "    .dataframe thead th {\n",
       "        text-align: left;\n",
       "    }\n",
       "\n",
       "    .dataframe tbody tr th {\n",
       "        vertical-align: top;\n",
       "    }\n",
       "</style>\n",
       "<table border=\"1\" class=\"dataframe\">\n",
       "  <thead>\n",
       "    <tr style=\"text-align: right;\">\n",
       "      <th></th>\n",
       "      <th>Série</th>\n",
       "      <th>Geração</th>\n",
       "      <th>Temporada</th>\n",
       "      <th>Descrição</th>\n",
       "      <th>Episódios</th>\n",
       "      <th>Região</th>\n",
       "      <th>Primeiro</th>\n",
       "      <th>Último</th>\n",
       "      <th># Episódios</th>\n",
       "    </tr>\n",
       "  </thead>\n",
       "  <tbody>\n",
       "    <tr>\n",
       "      <th>1</th>\n",
       "      <td>Série Original</td>\n",
       "      <td>Primeira</td>\n",
       "      <td>Liga Índigo</td>\n",
       "      <td>Mostra a jornada de Ash, Misty e Brock na Liga...</td>\n",
       "      <td>001-083</td>\n",
       "      <td>Kanto</td>\n",
       "      <td>1</td>\n",
       "      <td>83</td>\n",
       "      <td>83</td>\n",
       "    </tr>\n",
       "    <tr>\n",
       "      <th>2</th>\n",
       "      <td>Série Original</td>\n",
       "      <td>Primeira</td>\n",
       "      <td>Aventuras nas Ilhas Laranja</td>\n",
       "      <td>Mostra a jornada de Ash, Misty e Tracey na Lig...</td>\n",
       "      <td>084-118</td>\n",
       "      <td>Ilhas Laranja</td>\n",
       "      <td>84</td>\n",
       "      <td>118</td>\n",
       "      <td>35</td>\n",
       "    </tr>\n",
       "    <tr>\n",
       "      <th>3</th>\n",
       "      <td>Série Original</td>\n",
       "      <td>Segunda</td>\n",
       "      <td>A Jornada Johto</td>\n",
       "      <td>Inicia a jornada de Ash, Misty e Brock em Joht...</td>\n",
       "      <td>119-159</td>\n",
       "      <td>Johto</td>\n",
       "      <td>119</td>\n",
       "      <td>159</td>\n",
       "      <td>41</td>\n",
       "    </tr>\n",
       "    <tr>\n",
       "      <th>4</th>\n",
       "      <td>Série Original</td>\n",
       "      <td>Segunda</td>\n",
       "      <td>Campeões da Liga Johto</td>\n",
       "      <td>Continua com as aventuras de Ash e seus amigos...</td>\n",
       "      <td>160-211</td>\n",
       "      <td>Johto</td>\n",
       "      <td>160</td>\n",
       "      <td>211</td>\n",
       "      <td>52</td>\n",
       "    </tr>\n",
       "    <tr>\n",
       "      <th>5</th>\n",
       "      <td>Série Original</td>\n",
       "      <td>Segunda</td>\n",
       "      <td>Master Quest</td>\n",
       "      <td>Encerra as aventuras em Johto, Misty volta a C...</td>\n",
       "      <td>212-276</td>\n",
       "      <td>Johto</td>\n",
       "      <td>212</td>\n",
       "      <td>276</td>\n",
       "      <td>65</td>\n",
       "    </tr>\n",
       "    <tr>\n",
       "      <th>6</th>\n",
       "      <td>Geração Avançada</td>\n",
       "      <td>Terceira</td>\n",
       "      <td>Pokémon: Avançado</td>\n",
       "      <td>Inicia as Aventuras de Ash, Brock,agora juntam...</td>\n",
       "      <td>277-316</td>\n",
       "      <td>Hoenn</td>\n",
       "      <td>277</td>\n",
       "      <td>316</td>\n",
       "      <td>40</td>\n",
       "    </tr>\n",
       "    <tr>\n",
       "      <th>7</th>\n",
       "      <td>Geração Avançada</td>\n",
       "      <td>Terceira</td>\n",
       "      <td>Desafio Avançado</td>\n",
       "      <td>Continua com a jornada de Ash e seus amigos em...</td>\n",
       "      <td>317-368</td>\n",
       "      <td>Hoenn</td>\n",
       "      <td>317</td>\n",
       "      <td>368</td>\n",
       "      <td>52</td>\n",
       "    </tr>\n",
       "    <tr>\n",
       "      <th>8</th>\n",
       "      <td>Geração Avançada</td>\n",
       "      <td>Terceira</td>\n",
       "      <td>Batalha Avançada</td>\n",
       "      <td>Encerra as aventuras em Hoenn e começa a Jorna...</td>\n",
       "      <td>369-421</td>\n",
       "      <td>Hoenn</td>\n",
       "      <td>369</td>\n",
       "      <td>421</td>\n",
       "      <td>53</td>\n",
       "    </tr>\n",
       "    <tr>\n",
       "      <th>9</th>\n",
       "      <td>Geração Avançada</td>\n",
       "      <td>Terceira</td>\n",
       "      <td>Batalha da Fronteira</td>\n",
       "      <td>Conclui a Jornada na Batalha da Fronteira. May...</td>\n",
       "      <td>422-468</td>\n",
       "      <td>Kanto</td>\n",
       "      <td>422</td>\n",
       "      <td>468</td>\n",
       "      <td>47</td>\n",
       "    </tr>\n",
       "    <tr>\n",
       "      <th>10</th>\n",
       "      <td>Diamante e Pérola</td>\n",
       "      <td>Quarta</td>\n",
       "      <td>Diamante e Pérola</td>\n",
       "      <td>Inicia as aventuras de Ash e Brock em Sinnoh c...</td>\n",
       "      <td>469-520</td>\n",
       "      <td>Sinnoh</td>\n",
       "      <td>469</td>\n",
       "      <td>520</td>\n",
       "      <td>52</td>\n",
       "    </tr>\n",
       "    <tr>\n",
       "      <th>11</th>\n",
       "      <td>Diamante e Pérola</td>\n",
       "      <td>Quarta</td>\n",
       "      <td>Batalha Dimensional</td>\n",
       "      <td>Continua as aventuras de Ash, Brock e Dawn em ...</td>\n",
       "      <td>521-572</td>\n",
       "      <td>Sinnoh</td>\n",
       "      <td>521</td>\n",
       "      <td>572</td>\n",
       "      <td>52</td>\n",
       "    </tr>\n",
       "    <tr>\n",
       "      <th>12</th>\n",
       "      <td>Diamante e Pérola</td>\n",
       "      <td>Quarta</td>\n",
       "      <td>Batalhas Galácticas</td>\n",
       "      <td>Continua a jornada de Ash, Dawn e Brock em Sin...</td>\n",
       "      <td>573-625</td>\n",
       "      <td>Sinnoh</td>\n",
       "      <td>573</td>\n",
       "      <td>625</td>\n",
       "      <td>53</td>\n",
       "    </tr>\n",
       "    <tr>\n",
       "      <th>13</th>\n",
       "      <td>Diamante e Pérola</td>\n",
       "      <td>Quarta</td>\n",
       "      <td>Vencedores da Liga Sinnoh</td>\n",
       "      <td>Conclui a jornada de Ash, Dawn e Brock em Sinn...</td>\n",
       "      <td>626-659</td>\n",
       "      <td>Sinnoh</td>\n",
       "      <td>626</td>\n",
       "      <td>659</td>\n",
       "      <td>34</td>\n",
       "    </tr>\n",
       "    <tr>\n",
       "      <th>14</th>\n",
       "      <td>Preto e Branco</td>\n",
       "      <td>Quinta</td>\n",
       "      <td>Preto e Branco</td>\n",
       "      <td>Inicia as aventuras de Ash na região de Unova ...</td>\n",
       "      <td>660-707</td>\n",
       "      <td>Unova</td>\n",
       "      <td>660</td>\n",
       "      <td>707</td>\n",
       "      <td>48</td>\n",
       "    </tr>\n",
       "    <tr>\n",
       "      <th>15</th>\n",
       "      <td>Preto e Branco</td>\n",
       "      <td>Quinta</td>\n",
       "      <td>Destinos Rivais</td>\n",
       "      <td>Ash reencontra Dawn.Tem 49 episódios</td>\n",
       "      <td>708-756</td>\n",
       "      <td>Unova</td>\n",
       "      <td>708</td>\n",
       "      <td>756</td>\n",
       "      <td>49</td>\n",
       "    </tr>\n",
       "    <tr>\n",
       "      <th>16</th>\n",
       "      <td>Preto e Branco</td>\n",
       "      <td>Quinta</td>\n",
       "      <td>Aventuras em Unova (e Mais Além)</td>\n",
       "      <td>Continua a jornada de Ash, Iris e Cilan em Uno...</td>\n",
       "      <td>757-803</td>\n",
       "      <td>Unova</td>\n",
       "      <td>757</td>\n",
       "      <td>803</td>\n",
       "      <td>47</td>\n",
       "    </tr>\n",
       "    <tr>\n",
       "      <th>17</th>\n",
       "      <td>XY</td>\n",
       "      <td>Sexta</td>\n",
       "      <td>A Série XY</td>\n",
       "      <td>Inicia as aventuras de Ash, Serena, Clemont e ...</td>\n",
       "      <td>804-852</td>\n",
       "      <td>Kalos</td>\n",
       "      <td>804</td>\n",
       "      <td>852</td>\n",
       "      <td>49</td>\n",
       "    </tr>\n",
       "    <tr>\n",
       "      <th>18</th>\n",
       "      <td>XY</td>\n",
       "      <td>Sexta</td>\n",
       "      <td>Kalos Quest</td>\n",
       "      <td>Continua as aventuras de Ash, Serena, Clemont ...</td>\n",
       "      <td>853-897</td>\n",
       "      <td>Kalos</td>\n",
       "      <td>853</td>\n",
       "      <td>897</td>\n",
       "      <td>45</td>\n",
       "    </tr>\n",
       "    <tr>\n",
       "      <th>19</th>\n",
       "      <td>XY</td>\n",
       "      <td>Sexta</td>\n",
       "      <td>XY &amp; Z</td>\n",
       "      <td>Continua A Saga de Ash ,Clement, Bonnie e Sere...</td>\n",
       "      <td>898-946</td>\n",
       "      <td>Kalos</td>\n",
       "      <td>898</td>\n",
       "      <td>946</td>\n",
       "      <td>49</td>\n",
       "    </tr>\n",
       "    <tr>\n",
       "      <th>20</th>\n",
       "      <td>Sun and Moon</td>\n",
       "      <td>Sétima</td>\n",
       "      <td>Sun and Moon</td>\n",
       "      <td>Inicia as aventuras de Ash, Lana, Mallow, Kiaw...</td>\n",
       "      <td>947-</td>\n",
       "      <td>Alola</td>\n",
       "      <td>947</td>\n",
       "      <td>968</td>\n",
       "      <td>22</td>\n",
       "    </tr>\n",
       "  </tbody>\n",
       "</table>\n",
       "</div>"
      ]
     },
     "execution_count": 2,
     "metadata": {
     },
     "output_type": "execute_result"
    }
   ],
   "source": [
    "df"
   ]
  },
  {
   "cell_type": "code",
   "execution_count": 0,
   "metadata": {
    "collapsed": false
   },
   "outputs": [
   ],
   "source": [
   ]
  }
 ],
 "metadata": {
  "kernelspec": {
   "display_name": "Python 3 (Anaconda)",
   "language": "python",
   "name": "anaconda3"
  },
  "language_info": {
   "codemirror_mode": {
    "name": "ipython",
    "version": 3
   },
   "file_extension": ".py",
   "mimetype": "text/x-python",
   "name": "python",
   "nbconvert_exporter": "python",
   "pygments_lexer": "ipython3",
   "version": "3.5.3"
  }
 },
 "nbformat": 4,
 "nbformat_minor": 0
}