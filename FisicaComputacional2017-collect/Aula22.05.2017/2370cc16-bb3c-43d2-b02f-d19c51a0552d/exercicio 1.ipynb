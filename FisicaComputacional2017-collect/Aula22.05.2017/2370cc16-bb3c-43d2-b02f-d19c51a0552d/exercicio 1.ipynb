{
 "cells": [
  {
   "cell_type": "code",
   "execution_count": 3,
   "metadata": {
    "collapsed": false
   },
   "outputs": [
    {
     "name": "stdout",
     "output_type": "stream",
     "text": [
      "[88, 87, 77, 26, 53, 35, 8, 51, 81, 48, 23, 80, 20, 90, 43, 51, 41, 46, 76, 11, 45, 75, 45, 66, 31, 24, 83, 75, 14, 97, 95, 32, 1, 84, 16, 89, 23, 66, 7, 52, 70, 83, 63, 50, 44, 48, 8, 86, 77, 77, 51, 43, 42, 89, 88, 48, 93, 63, 28, 62, 84, 19, 2, 64, 98, 55, 15, 66, 85, 51, 70, 8, 31, 67, 75, 92, 36, 31, 73, 79, 99, 57, 48, 92, 48, 78, 68, 48, 96, 18, 5, 81, 23, 53, 35, 45, 57, 81, 41, 12]\n",
      "\n",
      "[87, 82, 51, 39, 44, 21, 29, 66, 64, 35, 51, 50, 55, 66, 47, 46, 43, 61, 43, 28, 60, 60, 55, 48, 27, 53, 79, 44, 55, 96, 63, 16, 42, 50, 52, 56, 44, 36, 29, 61, 76, 73, 56, 47, 46, 28, 47, 81, 77, 64, 47, 42, 65, 88, 68, 70, 78, 45, 45, 73, 51, 10, 33, 81, 76, 35, 40, 75, 68, 60, 39, 19, 49, 71, 83, 64, 33, 52, 76, 89, 78, 52, 70, 70, 63, 73, 58, 72, 57, 11, 43, 52, 38, 44, 40, 51, 69, 61, 26]\n"
     ]
    }
   ],
   "source": [
    "import random\n",
    "\n",
    "lista = []\n",
    "media = []\n",
    "\n",
    "for i in range (100):\n",
    "    lista.append( random.randint(0, 100))\n",
    "print lista\n",
    "print\n",
    "for i in range (len(lista)-1):\n",
    "        media.append ((lista[i]+lista[i+1])/2)\n",
    "\n",
    "print media"
   ]
  },
  {
   "cell_type": "code",
   "execution_count": 0,
   "metadata": {
    "collapsed": false
   },
   "outputs": [
   ],
   "source": [
   ]
  }
 ],
 "metadata": {
  "kernelspec": {
   "display_name": "Python 2 (SageMath)",
   "language": "python",
   "name": "python2"
  },
  "language_info": {
   "codemirror_mode": {
    "name": "ipython",
    "version": 2
   },
   "file_extension": ".py",
   "mimetype": "text/x-python",
   "name": "python",
   "nbconvert_exporter": "python",
   "pygments_lexer": "ipython2",
   "version": "2.7.13"
  }
 },
 "nbformat": 4,
 "nbformat_minor": 0
}