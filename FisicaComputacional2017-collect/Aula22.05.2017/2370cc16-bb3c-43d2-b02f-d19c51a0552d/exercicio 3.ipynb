{
 "cells": [
  {
   "cell_type": "markdown",
   "metadata": {
    "collapsed": false
   },
   "source": [
   ]
  },
  {
   "cell_type": "code",
   "execution_count": 2,
   "metadata": {
    "cocalc": {
     "outputs": {
      "0": {
       "name": "input",
       "opts": {
        "password": false,
        "prompt": "Digite o valor de A da equação de 2 grau"
       },
       "output_type": "stream",
       "value": "1"
      },
      "1": {
       "name": "input",
       "opts": {
        "password": false,
        "prompt": "Digite o valor de B da equação de 2 grau"
       },
       "output_type": "stream",
       "value": "1"
      }
     }
    },
    "collapsed": false
   },
   "outputs": [
    {
     "name": "stdout",
     "output_type": "stream",
     "text": "Digite o valor de A da equação de 2 grau 1"
    },
    {
     "name": "stdout",
     "output_type": "stream",
     "text": "Digite o valor de B da equação de 2 grau 1"
    }
   ],
   "source": [
    "import math\n",
    "\n",
    "a = float (input (\"Digite o valor de A da equação de 2 grau\"))\n",
    "b = float (input (\"Digite o valor de B da equação de 2 grau\"))\n",
    "c = float (input (\"Digite o valor de C da equação de 2 grau\"))\n",
    "print a, b, c\n",
    "delt = b**2 - 4*a*c\n",
    "print delt\n",
    "x1 = ((-b -(delt**0.5))/(2*a))\n",
    "x2 = ((-b +(delt**0.5))/(2*a))\n",
    "\n",
    "print x1, x2"
   ]
  },
  {
   "cell_type": "code",
   "execution_count": 0,
   "metadata": {
    "collapsed": false
   },
   "outputs": [
   ],
   "source": [
   ]
  }
 ],
 "metadata": {
  "kernelspec": {
   "display_name": "Python 2 (SageMath)",
   "language": "python",
   "name": "python2"
  },
  "language_info": {
   "codemirror_mode": {
    "name": "ipython",
    "version": 2
   },
   "file_extension": ".py",
   "mimetype": "text/x-python",
   "name": "python",
   "nbconvert_exporter": "python",
   "pygments_lexer": "ipython2",
   "version": "2.7.13"
  }
 },
 "nbformat": 4,
 "nbformat_minor": 0
}