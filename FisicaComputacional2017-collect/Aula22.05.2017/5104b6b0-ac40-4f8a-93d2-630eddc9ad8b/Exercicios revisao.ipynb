{
 "cells": [
  {
   "cell_type": "code",
   "execution_count": 0,
   "metadata": {
    "collapsed": false
   },
   "outputs": [
   ],
   "source": [
    "##Exercício 3\n",
    "##De os valores para a, b e c respectivamente\n",
    "a = int(input(\"Digite um valor para A: \"))\n",
    "b = int(input(\"Digite um valor para B: \"))\n",
    "c = int(input(\"Digite um valor para C: \"))\n",
    "\n",
    "#Calculando o delta\n",
    "\n",
    "delta = b*b - 4 * a * c\n",
    "\n",
    "\n",
    "if delta < 0:\n",
    "    print(\"A equacão possui raízes imaginárias\")\n",
    "elif delta == 0:\n",
    "    raiz = (-1*b + math.sqrt(delta))/(2 * a)\n",
    "    print(\"A equacao possui apenas uma raiz \",raiz)\n",
    "elif delta > 0:\n",
    "    raiz1 =(-1*b + math.sqrt(delta))/(2 * a)\n",
    "    raiz2 =(-1*b - math.sqrt(delta))/(2 * a)\n",
    "    print(\"As raizes da equacao sao \",raiz1, \"e\",raiz2)"
   ]
  },
  {
   "cell_type": "code",
   "execution_count": 0,
   "metadata": {
    "collapsed": false
   },
   "outputs": [
   ],
   "source": [
    "##Exercício 3\n",
    "##De os valores para a, b e c respectivamente\n",
    "a = int(input(\"Digite um valor para A: \"))\n",
    "b = int(input(\"Digite um valor para B: \"))\n",
    "c = int(input(\"Digite um valor para C: \"))\n",
    "\n",
    "#Calculando o delta\n",
    "\n",
    "delta = b*b - 4 * a * c\n",
    "\n",
    "\n",
    "if delta < 0:\n",
    "    print(\"A equacão possui raízes imaginárias\")\n",
    "elif delta == 0:\n",
    "    raiz = (-1*b + math.sqrt(delta))/(2 * a)\n",
    "    print(\"A equacao possui apenas uma raiz \",raiz)\n",
    "elif delta > 0:\n",
    "    raiz1 =(-1*b + math.sqrt(delta))/(2 * a)\n",
    "    raiz2 =(-1*b - math.sqrt(delta))/(2 * a)\n",
    "    print(\"As raizes da equacao sao \",raiz1, \"e\",raiz2)"
   ]
  },
  {
   "cell_type": "code",
   "execution_count": 0,
   "metadata": {
    "collapsed": false
   },
   "outputs": [
   ],
   "source": [
    "##Exercício jogo da vida\n",
    "\n",
    "for i in r for j in r # iterate over range in 2d\n",
    "            if not i == j == 0) # exclude the center cell\n",
    "\n",
    "\n",
    "def advance(board):\n",
    "    \"\"\"Advance the board one step and return it.\"\"\"\n",
    "    new_board = set()\n",
    "    for cell in board:\n",
    "        cell_neighbors = set(neighbors(cell))\n",
    "        # test if live cell dies\n",
    "        if len(board & cell_neighbors) in [2, 3]:\n",
    "            new_board.add(cell)\n",
    "\n",
    " return new_board\n",
    "\n",
    "\n",
    "def print_board(board, size=None):\n",
    "    sizex = sizey = size or 0\n",
    "    for x, y in board:\n",
    "        sizex = x if x > sizex else sizex\n",
    "        sizey = y if y > sizey else sizey\n",
    "    for i in xrange(sizex + 1):\n",
    "        for j in xrange(sizey + 1):\n",
    "            sys.stdout.write(' x ' if (i, j) in board else ' . ')\n",
    "        print\n",
    "\n",
    "\n",
    "def constrain(board, size):\n",
    "    return set(cell for cell in board if cell[0] <= size and cell[1] <= size)\n",
    "\n",
    "\n",
    "def main(board, steps=75, size=20):\n",
    "    for i in xrange(1, steps + 1):\n",
    "        sys.stdout.write('\\033[H')  # move to the top\n",
    "        sys.stdout.write('\\033[J')  # clear the screen\n",
    "        print 'step:', i, '/', steps\n",
    "        print_board(board, size)\n",
    "        time.sleep(0.1)\n",
    "        board = constrain(advance(board), size)\n",
    "\n",
    "\n",
    "if __name__ == '__main__':\n",
    "    main(GLIDER)"
   ]
  },
  {
   "cell_type": "code",
   "execution_count": 2,
   "metadata": {
    "collapsed": false
   },
   "outputs": [
    {
     "ename": "SyntaxError",
     "evalue": "invalid syntax (<ipython-input-2-f89e5167e866>, line 3)",
     "output_type": "error",
     "traceback": [
      "\u001b[0;36m  File \u001b[0;32m\"<ipython-input-2-f89e5167e866>\"\u001b[0;36m, line \u001b[0;32m3\u001b[0m\n\u001b[0;31m    for i in r for j in r # iterate over range in 2d\u001b[0m\n\u001b[0m                 ^\u001b[0m\n\u001b[0;31mSyntaxError\u001b[0m\u001b[0;31m:\u001b[0m invalid syntax\n"
     ]
    }
   ],
   "source": [
    "##Exercício jogo da vida\n",
    "\n",
    "for i in r for j in r # iterate over range in 2d\n",
    "            if not i == j == 0) # exclude the center cell\n",
    "\n",
    "\n",
    "def advance(board):\n",
    "    \"\"\"Advance the board one step and return it.\"\"\"\n",
    "    new_board = set()\n",
    "    for cell in board:\n",
    "        cell_neighbors = set(neighbors(cell))\n",
    "        # test if live cell dies\n",
    "        if len(board & cell_neighbors) in [2, 3]:\n",
    "            new_board.add(cell)\n",
    "\n",
    " return new_board\n",
    "\n",
    "\n",
    "def print_board(board, size=None):\n",
    "    sizex = sizey = size or 0\n",
    "    for x, y in board:\n",
    "        sizex = x if x > sizex else sizex\n",
    "        sizey = y if y > sizey else sizey\n",
    "    for i in xrange(sizex + 1):\n",
    "        for j in xrange(sizey + 1):\n",
    "            sys.stdout.write(' x ' if (i, j) in board else ' . ')\n",
    "        print\n",
    "\n",
    "\n",
    "def constrain(board, size):\n",
    "    return set(cell for cell in board if cell[0] <= size and cell[1] <= size)\n",
    "\n",
    "\n",
    "def main(board, steps=75, size=20):\n",
    "    for i in xrange(1, steps + 1):\n",
    "        sys.stdout.write('\\033[H')  # move to the top\n",
    "        sys.stdout.write('\\033[J')  # clear the screen\n",
    "        print 'step:', i, '/', steps\n",
    "        print_board(board, size)\n",
    "        time.sleep(0.1)\n",
    "        board = constrain(advance(board), size)\n",
    "\n",
    "\n",
    "if __name__ == '__main__':\n",
    "    main(GLIDER)"
   ]
  }
 ],
 "metadata": {
  "kernelspec": {
   "display_name": "Python 3 (Anaconda)",
   "language": "python",
   "name": "anaconda3"
  },
  "language_info": {
   "codemirror_mode": {
    "name": "ipython",
    "version": 3
   },
   "file_extension": ".py",
   "mimetype": "text/x-python",
   "name": "python",
   "nbconvert_exporter": "python",
   "pygments_lexer": "ipython3",
   "version": "3.5.3"
  }
 },
 "nbformat": 4,
 "nbformat_minor": 0
}