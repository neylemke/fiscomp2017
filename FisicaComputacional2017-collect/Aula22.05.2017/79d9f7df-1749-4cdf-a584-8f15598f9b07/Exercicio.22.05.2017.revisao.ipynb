{
 "cells": [
  {
   "cell_type": "markdown",
   "metadata": {
    "collapsed": false
   },
   "source": [
    "# Ex: 1 \n",
    "#### Gere uma lista com 100 números aleatórios, em seguida o aluno deverá deverá encontrar os intervalos médios dos elementos da lista."
   ]
  },
  {
   "cell_type": "code",
   "execution_count": 6,
   "metadata": {
    "collapsed": false
   },
   "outputs": [
    {
     "name": "stdout",
     "output_type": "stream",
     "text": [
      "('lista', [87, 77, 0, 50, 88, 93, 69, 14, 49, 94, 8, 39, 45, 86, 91, 35, 62, 78, 83, 10, 5, 12, 6, 56, 68, 55, 34, 57, 31, 82, 21, 46, 75, 1, 67, 53, 18, 59, 20, 26, 41, 13, 29, 48, 90, 11, 95, 76, 27, 25, 81, 98, 40, 89, 74, 92, 33, 51, 17, 54, 38, 73, 24, 9, 23, 19, 7, 58, 99, 2, 84, 61, 97, 85, 71, 96, 37, 63, 47, 79, 43, 72, 15, 70, 4, 80, 52, 22, 44, 65, 66, 16, 60, 32, 42, 36, 64, 3, 30, 28])\n",
      "('intervalos', [10, 77, -50, -38, -5, 24, 55, -35, -45, 86, -31, -6, -41, -5, 56, -27, -16, -5, 73, 5, -7, 6, -50, -12, 13, 21, -23, 26, -51, 61, -25, -29, 74, -66, 14, 35, -41, 39, -6, -15, 28, -16, -19, -42, 79, -84, 19, 49, 2, -56, -17, 58, -49, 15, -18, 59, -18, 34, -37, 16, -35, 49, 15, -14, 4, 12, -51, -41, 97, -82, 23, -36, 12, 14, -25, 59, -26, 16, -32, 36, -29, 57, -55, 66, -76, 28, 30, -22, -21, -1, 50, -44, 28, -10, 6, -28, 61, -27, 2])\n"
     ]
    }
   ],
   "source": [
    "import random\n",
    "lista = random.sample(range(0, 100), 100)\n",
    "i=1\n",
    "into=[]\n",
    "while i< len(lista):\n",
    "    into.append ((lista[i-1]-lista[i]))\n",
    "    i = i+1\n",
    "    \n",
    "print ('lista', lista)\n",
    "print ('intervalos', into)"
   ]
  },
  {
   "cell_type": "markdown",
   "metadata": {
    "collapsed": false
   },
   "source": [
    "# ex.2\n",
    "\n",
    "##### Faça um programa que leia um número indeterminado de valores, correspondentes a notas, encerrando a entrada de dados quando for informado um valor igual a -1 (que não deve ser armazenado). Após esta entrada de dados, faça:\n",
    "##### Mostre a quantidade de valores que foram lidos;\n",
    " ##### Exiba todos os valores na ordem em que foram informados, um ao lado do outro;\n",
    "##### Exiba todos os valores na ordem inversa à que foram informados, um abaixo do outro;\n",
    "##### Calcule e mostre a soma dos valores;\n",
    "##### Calcule e mostre a média dos valores;\n",
    "##### Calcule e mostre a quantidade de valores acima da média calculada;\n",
    "##### Calcule e mostre a quantidade de valores abaixo de sete;\n",
    "##### Encerre o programa com uma mensagem;"
   ]
  },
  {
   "cell_type": "code",
   "execution_count": 7,
   "metadata": {
    "cocalc": {
     "outputs": {
      "0": {
       "name": "input",
       "opts": {
        "password": false,
        "prompt": "digite nota"
       },
       "output_type": "stream",
       "value": "2"
      },
      "1": {
       "name": "input",
       "opts": {
        "password": false,
        "prompt": "digite nota"
       },
       "output_type": "stream",
       "value": "3"
      },
      "2": {
       "name": "input",
       "opts": {
        "password": false,
        "prompt": "digite nota"
       },
       "output_type": "stream",
       "value": "-1"
      }
     }
    },
    "collapsed": false
   },
   "outputs": [
    {
     "name": "stdout",
     "output_type": "stream",
     "text": "digite nota 2"
    },
    {
     "name": "stdout",
     "output_type": "stream",
     "text": "digite nota 3"
    },
    {
     "name": "stdout",
     "output_type": "stream",
     "text": "digite nota -1"
    },
    {
     "name": "stdout",
     "output_type": "stream",
     "text": [
      "notas [2, 3]\n",
      "qtd de valores 2\n",
      "soma dos valores 5\n",
      "media 2\n"
     ]
    }
   ],
   "source": [
    "i=0\n",
    "nota = []\n",
    "while i !=-1:\n",
    "    y=input('digite nota')\n",
    "    if y == -1:\n",
    "        print \"notas\", nota\n",
    "        i=-1\n",
    "    else:\n",
    "        nota.append(y)\n",
    "        i=i+1\n",
    "        \n",
    "print \"qtd de valores\", len(nota)\n",
    "print \"soma dos valores\", sum(nota)\n",
    "y=sum(nota)/len(nota)\n",
    "print \"media\", y \n",
    "\n"
   ]
  },
  {
   "cell_type": "markdown",
   "metadata": {
    "collapsed": false
   },
   "source": [
    "#### Exercicio 3\n",
    "Calcule as raízes da equação do 2◦ grau ( Ax2+Bx+C=0Ax2+Bx+C=0 ) sendo os valores de A, B e C fornecidos pelo usuário, levando em consideração a existência de raízes complexas.**"
   ]
  },
  {
   "cell_type": "code",
   "execution_count": 7,
   "metadata": {
    "cocalc": {
     "outputs": {
      "0": {
       "name": "input",
       "opts": {
        "password": false,
        "prompt": "A= "
       },
       "output_type": "stream",
       "value": "3"
      },
      "1": {
       "name": "input",
       "opts": {
        "password": false,
        "prompt": "B= "
       },
       "output_type": "stream",
       "value": "4"
      },
      "2": {
       "name": "input",
       "opts": {
        "password": false,
        "prompt": "C= "
       },
       "output_type": "stream",
       "value": "5"
      }
     }
    },
    "collapsed": false
   },
   "outputs": [
    {
     "name": "stdout",
     "output_type": "stream",
     "text": "A=  3"
    },
    {
     "name": "stdout",
     "output_type": "stream",
     "text": "B=  4"
    },
    {
     "name": "stdout",
     "output_type": "stream",
     "text": "C=  5"
    },
    {
     "name": "stdout",
     "output_type": "stream",
     "text": [
      "Delta= -44\n",
      "Possui soluçao complexa\n"
     ]
    }
   ],
   "source": [
    "a = input(\"A= \")\n",
    "b = input(\"B= \")\n",
    "c = input(\"C= \")\n",
    "\n",
    "import math\n",
    " \n",
    "delta = (b*b-4*a*c)\n",
    "print 'Delta=', delta\n",
    "\n",
    "if delta < 0:\n",
    "    print \"Possui soluçao complexa\"\n",
    "elif delta == 0:\n",
    "    raiz = ((-1*b+math.sqrt(delta))/(2*a))\n",
    "    print \"A raiz da equação é: \",raiz\n",
    "else:\n",
    "    raiz1 = ((-1*b + math.sqrt(delta))/(2*a))\n",
    "    raiz2 = ((-1*b - math.sqrt(delta))/(2*a))   \n",
    "    print \" raiz x1 = \",raiz1,\"  raiz x2 = \",raiz2\n"
   ]
  },
  {
   "cell_type": "markdown",
   "metadata": {
    "collapsed": false
   },
   "source": [
    "### Exercício 6\n",
    "Passo 1: Gere um arquivo com 10 notas de cinco alunos (Deve conter o nome do aluno e as notas).\n",
    "Passo 2: Em seguida crie uma array em numpy com essas notas.\n",
    "Passo 3: Crie um DataFrame dessas notas.\n",
    "Passo 4: Identifique qual menor nota e quem foi o aluno que obteve essa nota\n",
    "Passo 5: Identifique o aluno que tirou as melhores notas.\n"
   ]
  },
  {
   "cell_type": "code",
   "execution_count": 30,
   "metadata": {
    "cocalc": {
     "outputs": {
      "0": {
       "name": "input",
       "opts": {
        "password": false,
        "prompt": "digite nota do aluno"
       },
       "output_type": "stream",
       "value": "1"
      },
      "1": {
       "name": "input",
       "opts": {
        "password": false,
        "prompt": "digite nota do aluno"
       },
       "output_type": "stream",
       "value": "2"
      },
      "2": {
       "name": "input",
       "opts": {
        "password": false,
        "prompt": "digite nota do aluno"
       },
       "output_type": "stream",
       "value": "3"
      },
      "3": {
       "name": "input",
       "opts": {
        "password": false,
        "prompt": "digite nota do aluno"
       },
       "output_type": "stream",
       "value": "4"
      },
      "4": {
       "name": "input",
       "opts": {
        "password": false,
        "prompt": "digite nota do aluno"
       },
       "output_type": "stream",
       "value": "5"
      },
      "5": {
       "name": "input",
       "opts": {
        "password": false,
        "prompt": "digite nota do aluno"
       },
       "output_type": "stream",
       "value": "6"
      },
      "6": {
       "name": "input",
       "opts": {
        "password": false,
        "prompt": "digite nota do aluno"
       },
       "output_type": "stream",
       "value": "7"
      },
      "7": {
       "name": "input",
       "opts": {
        "password": false,
        "prompt": "digite nota do aluno"
       },
       "output_type": "stream",
       "value": "8"
      },
      "8": {
       "name": "input",
       "opts": {
        "password": false,
        "prompt": "digite nota do aluno"
       },
       "output_type": "stream",
       "value": "9"
      },
      "9": {
       "name": "input",
       "opts": {
        "password": false,
        "prompt": "digite nota do aluno"
       },
       "output_type": "stream",
       "value": "0"
      }
     }
    },
    "collapsed": false
   },
   "outputs": [
    {
     "name": "stdout",
     "output_type": "stream",
     "text": "digite nota do aluno 1"
    },
    {
     "name": "stdout",
     "output_type": "stream",
     "text": "digite nota do aluno 2"
    },
    {
     "name": "stdout",
     "output_type": "stream",
     "text": "digite nota do aluno 3"
    },
    {
     "name": "stdout",
     "output_type": "stream",
     "text": "digite nota do aluno 4"
    },
    {
     "name": "stdout",
     "output_type": "stream",
     "text": "digite nota do aluno 5"
    },
    {
     "name": "stdout",
     "output_type": "stream",
     "text": "digite nota do aluno 6"
    },
    {
     "name": "stdout",
     "output_type": "stream",
     "text": "digite nota do aluno 7"
    },
    {
     "name": "stdout",
     "output_type": "stream",
     "text": "digite nota do aluno 8"
    },
    {
     "name": "stdout",
     "output_type": "stream",
     "text": "digite nota do aluno 9"
    },
    {
     "name": "stdout",
     "output_type": "stream",
     "text": "digite nota do aluno 0"
    },
    {
     "name": "stdout",
     "output_type": "stream",
     "text": [
      "notas dos alunos=  [1 2 3 4 5 6 7 8 9 0]\n",
      "tabela de notas          0\n",
      "ALUNO 1  1\n",
      "AL 2     2\n",
      "AL 3     3\n",
      "AL 4     4\n",
      "AL 5     5\n",
      "AL 6     6\n",
      "AL 7     7\n",
      "AL 8     8\n",
      "AL 9     9\n",
      "AL 10    0\n"
     ]
    }
   ],
   "source": [
    "import numpy as np\n",
    "import pandas as pd\n",
    "from pandas import Series, DataFrame\n",
    "i=0\n",
    "nota = []\n",
    "while i !=10:\n",
    "    y=input('digite nota do aluno')\n",
    "    nota.append(y)\n",
    "    a= np.array(nota)  \n",
    "    i=i+1\n",
    "\n",
    "print 'notas dos alunos= ', a\n",
    "x= DataFrame(a, index =['ALUNO 1', 'AL 2','AL 3','AL 4','AL 5', 'AL 6', 'AL 7', 'AL 8', 'AL 9', 'AL 10'])\n",
    "print 'tabela de notas',x\n"
   ]
  },
  {
   "cell_type": "markdown",
   "metadata": {
    "collapsed": false
   },
   "source": [
    "###### Exercícios 4\n",
    "Crie 12 arquivos, chamados de 'arq_mes_estação.txt'. Cada um deles contendo a frase: \"A minha estação predileta é 'estação', especialmente 'mês'\" repetida um número aleatório de vezes, entre 5 e 20. Comprima essas arquivos usando o comando gzip. Faça isso utilizando o conceito de dicionários."
   ]
  },
  {
   "cell_type": "markdown",
   "metadata": {
    "collapsed": false
   },
   "source": [
    "#### exercicio 4 foi resolvido da aula 24/04"
   ]
  },
  {
   "cell_type": "markdown",
   "metadata": {
    "collapsed": false
   },
   "source": [
    "### Exercícios 5\n",
    "Com base nos dados de https://pt.wikipedia.org/wiki/Lista_de_epis%C3%B3dios_de_Pok%C3%A9mon Construa um dataframe para armazenar as informações sobre os episódios de Pokemon, contendo:\n",
    "Série\n",
    "Geração\n",
    "Temporada\n",
    "Primeiro Episódio\n",
    "Último Episódio\n",
    "Região\n",
    "Descubra qual a geração mais longeva\n",
    "Descubra quantas temporadas durou cada série"
   ]
  },
  {
   "cell_type": "code",
   "execution_count": 1,
   "metadata": {
    "collapsed": false
   },
   "outputs": [
   ],
   "source": [
    "import pandas as pd\n",
    "import numpy as np"
   ]
  },
  {
   "cell_type": "code",
   "execution_count": 2,
   "metadata": {
    "collapsed": false
   },
   "outputs": [
   ],
   "source": [
    "def preenche(lis):\n",
    "    for elem in range(1,len(lis)):\n",
    "        if lis[elem]!=lis[elem]: #truque sujo!\n",
    "            lis[elem]=lis[elem-1]\n",
    "    return lis\n",
    "\n",
    "def sint(x):\n",
    "    try: \n",
    "        return int(x)\n",
    "    except:\n",
    "        return 947+20+1\n",
    "    \n"
   ]
  },
  {
   "cell_type": "code",
   "execution_count": 3,
   "metadata": {
    "collapsed": false
   },
   "outputs": [
    {
     "name": "stderr",
     "output_type": "stream",
     "text": [
      "/projects/sage/sage-7.5/local/lib/python2.7/site-packages/pandas/indexes/base.py:1396: UnicodeWarning: Unicode equal comparison failed to convert both arguments to Unicode - interpreting them as being unequal\n",
      "  return key in self._engine\n",
      "/projects/sage/sage-7.5/local/lib/python2.7/site-packages/pandas/indexes/base.py:2134: UnicodeWarning: Unicode equal comparison failed to convert both arguments to Unicode - interpreting them as being unequal\n",
      "  return self._engine.get_loc(key)\n",
      "/projects/sage/sage-7.5/local/lib/python2.7/site-packages/pandas/indexes/base.py:2136: UnicodeWarning: Unicode equal comparison failed to convert both arguments to Unicode - interpreting them as being unequal\n",
      "  return self._engine.get_loc(self._maybe_cast_indexer(key))\n"
     ]
    },
    {
     "ename": "KeyError",
     "evalue": "'S\\xc3\\xa9rie'",
     "output_type": "error",
     "traceback": [
      "\u001b[0;31m---------------------------------------------------------------------------\u001b[0m",
      "\u001b[0;31mKeyError\u001b[0m                                  Traceback (most recent call last)",
      "\u001b[0;32m<ipython-input-3-96e63d55a7f0>\u001b[0m in \u001b[0;36m<module>\u001b[0;34m()\u001b[0m\n\u001b[1;32m     19\u001b[0m \u001b[0mdf\u001b[0m\u001b[0;34m.\u001b[0m\u001b[0mcolumns\u001b[0m\u001b[0;34m=\u001b[0m\u001b[0mdf\u001b[0m\u001b[0;34m.\u001b[0m\u001b[0mix\u001b[0m\u001b[0;34m[\u001b[0m\u001b[0;36m0\u001b[0m\u001b[0;34m]\u001b[0m \u001b[0;31m# muda o nome das colunas\u001b[0m\u001b[0;34m\u001b[0m\u001b[0m\n\u001b[1;32m     20\u001b[0m \u001b[0mdf\u001b[0m\u001b[0;34m=\u001b[0m\u001b[0mdf\u001b[0m\u001b[0;34m.\u001b[0m\u001b[0mdrop\u001b[0m\u001b[0;34m(\u001b[0m\u001b[0;36m0\u001b[0m\u001b[0;34m)\u001b[0m \u001b[0;31m# elimina a primeira linha\u001b[0m\u001b[0;34m\u001b[0m\u001b[0m\n\u001b[0;32m---> 21\u001b[0;31m \u001b[0mdf\u001b[0m\u001b[0;34m[\u001b[0m\u001b[0;34m'Série'\u001b[0m\u001b[0;34m]\u001b[0m\u001b[0;34m=\u001b[0m\u001b[0mpreenche\u001b[0m\u001b[0;34m(\u001b[0m\u001b[0mlist\u001b[0m\u001b[0;34m(\u001b[0m\u001b[0mdf\u001b[0m\u001b[0;34m[\u001b[0m\u001b[0;34m'Série'\u001b[0m\u001b[0;34m]\u001b[0m\u001b[0;34m)\u001b[0m\u001b[0;34m)\u001b[0m \u001b[0;31m# elimina elementos com Nan\u001b[0m\u001b[0;34m\u001b[0m\u001b[0m\n\u001b[0m\u001b[1;32m     22\u001b[0m \u001b[0mdf\u001b[0m\u001b[0;34m[\u001b[0m\u001b[0;34m'Geração'\u001b[0m\u001b[0;34m]\u001b[0m\u001b[0;34m=\u001b[0m\u001b[0mpreenche\u001b[0m\u001b[0;34m(\u001b[0m\u001b[0mlist\u001b[0m\u001b[0;34m(\u001b[0m\u001b[0mdf\u001b[0m\u001b[0;34m[\u001b[0m\u001b[0;34m'Geração'\u001b[0m\u001b[0;34m]\u001b[0m\u001b[0;34m)\u001b[0m\u001b[0;34m)\u001b[0m\u001b[0;34m\u001b[0m\u001b[0m\n\u001b[1;32m     23\u001b[0m \u001b[0mdf\u001b[0m\u001b[0;34m[\u001b[0m\u001b[0;34m'Região'\u001b[0m\u001b[0;34m]\u001b[0m\u001b[0;34m=\u001b[0m\u001b[0mpreenche\u001b[0m\u001b[0;34m(\u001b[0m\u001b[0mlist\u001b[0m\u001b[0;34m(\u001b[0m\u001b[0mdf\u001b[0m\u001b[0;34m[\u001b[0m\u001b[0;34m'Região'\u001b[0m\u001b[0;34m]\u001b[0m\u001b[0;34m)\u001b[0m\u001b[0;34m)\u001b[0m\u001b[0;34m\u001b[0m\u001b[0m\n",
      "\u001b[0;32m/projects/sage/sage-7.5/local/lib/python2.7/site-packages/pandas/core/frame.py\u001b[0m in \u001b[0;36m__getitem__\u001b[0;34m(self, key)\u001b[0m\n\u001b[1;32m   2057\u001b[0m             \u001b[0;32mreturn\u001b[0m \u001b[0mself\u001b[0m\u001b[0;34m.\u001b[0m\u001b[0m_getitem_multilevel\u001b[0m\u001b[0;34m(\u001b[0m\u001b[0mkey\u001b[0m\u001b[0;34m)\u001b[0m\u001b[0;34m\u001b[0m\u001b[0m\n\u001b[1;32m   2058\u001b[0m         \u001b[0;32melse\u001b[0m\u001b[0;34m:\u001b[0m\u001b[0;34m\u001b[0m\u001b[0m\n\u001b[0;32m-> 2059\u001b[0;31m             \u001b[0;32mreturn\u001b[0m \u001b[0mself\u001b[0m\u001b[0;34m.\u001b[0m\u001b[0m_getitem_column\u001b[0m\u001b[0;34m(\u001b[0m\u001b[0mkey\u001b[0m\u001b[0;34m)\u001b[0m\u001b[0;34m\u001b[0m\u001b[0m\n\u001b[0m\u001b[1;32m   2060\u001b[0m \u001b[0;34m\u001b[0m\u001b[0m\n\u001b[1;32m   2061\u001b[0m     \u001b[0;32mdef\u001b[0m \u001b[0m_getitem_column\u001b[0m\u001b[0;34m(\u001b[0m\u001b[0mself\u001b[0m\u001b[0;34m,\u001b[0m \u001b[0mkey\u001b[0m\u001b[0;34m)\u001b[0m\u001b[0;34m:\u001b[0m\u001b[0;34m\u001b[0m\u001b[0m\n",
      "\u001b[0;32m/projects/sage/sage-7.5/local/lib/python2.7/site-packages/pandas/core/frame.py\u001b[0m in \u001b[0;36m_getitem_column\u001b[0;34m(self, key)\u001b[0m\n\u001b[1;32m   2064\u001b[0m         \u001b[0;31m# get column\u001b[0m\u001b[0;34m\u001b[0m\u001b[0;34m\u001b[0m\u001b[0m\n\u001b[1;32m   2065\u001b[0m         \u001b[0;32mif\u001b[0m \u001b[0mself\u001b[0m\u001b[0;34m.\u001b[0m\u001b[0mcolumns\u001b[0m\u001b[0;34m.\u001b[0m\u001b[0mis_unique\u001b[0m\u001b[0;34m:\u001b[0m\u001b[0;34m\u001b[0m\u001b[0m\n\u001b[0;32m-> 2066\u001b[0;31m             \u001b[0;32mreturn\u001b[0m \u001b[0mself\u001b[0m\u001b[0;34m.\u001b[0m\u001b[0m_get_item_cache\u001b[0m\u001b[0;34m(\u001b[0m\u001b[0mkey\u001b[0m\u001b[0;34m)\u001b[0m\u001b[0;34m\u001b[0m\u001b[0m\n\u001b[0m\u001b[1;32m   2067\u001b[0m \u001b[0;34m\u001b[0m\u001b[0m\n\u001b[1;32m   2068\u001b[0m         \u001b[0;31m# duplicate columns & possible reduce dimensionality\u001b[0m\u001b[0;34m\u001b[0m\u001b[0;34m\u001b[0m\u001b[0m\n",
      "\u001b[0;32m/projects/sage/sage-7.5/local/lib/python2.7/site-packages/pandas/core/generic.py\u001b[0m in \u001b[0;36m_get_item_cache\u001b[0;34m(self, item)\u001b[0m\n\u001b[1;32m   1384\u001b[0m         \u001b[0mres\u001b[0m \u001b[0;34m=\u001b[0m \u001b[0mcache\u001b[0m\u001b[0;34m.\u001b[0m\u001b[0mget\u001b[0m\u001b[0;34m(\u001b[0m\u001b[0mitem\u001b[0m\u001b[0;34m)\u001b[0m\u001b[0;34m\u001b[0m\u001b[0m\n\u001b[1;32m   1385\u001b[0m         \u001b[0;32mif\u001b[0m \u001b[0mres\u001b[0m \u001b[0;32mis\u001b[0m \u001b[0mNone\u001b[0m\u001b[0;34m:\u001b[0m\u001b[0;34m\u001b[0m\u001b[0m\n\u001b[0;32m-> 1386\u001b[0;31m             \u001b[0mvalues\u001b[0m \u001b[0;34m=\u001b[0m \u001b[0mself\u001b[0m\u001b[0;34m.\u001b[0m\u001b[0m_data\u001b[0m\u001b[0;34m.\u001b[0m\u001b[0mget\u001b[0m\u001b[0;34m(\u001b[0m\u001b[0mitem\u001b[0m\u001b[0;34m)\u001b[0m\u001b[0;34m\u001b[0m\u001b[0m\n\u001b[0m\u001b[1;32m   1387\u001b[0m             \u001b[0mres\u001b[0m \u001b[0;34m=\u001b[0m \u001b[0mself\u001b[0m\u001b[0;34m.\u001b[0m\u001b[0m_box_item_values\u001b[0m\u001b[0;34m(\u001b[0m\u001b[0mitem\u001b[0m\u001b[0;34m,\u001b[0m \u001b[0mvalues\u001b[0m\u001b[0;34m)\u001b[0m\u001b[0;34m\u001b[0m\u001b[0m\n\u001b[1;32m   1388\u001b[0m             \u001b[0mcache\u001b[0m\u001b[0;34m[\u001b[0m\u001b[0mitem\u001b[0m\u001b[0;34m]\u001b[0m \u001b[0;34m=\u001b[0m \u001b[0mres\u001b[0m\u001b[0;34m\u001b[0m\u001b[0m\n",
      "\u001b[0;32m/projects/sage/sage-7.5/local/lib/python2.7/site-packages/pandas/core/internals.py\u001b[0m in \u001b[0;36mget\u001b[0;34m(self, item, fastpath)\u001b[0m\n\u001b[1;32m   3541\u001b[0m \u001b[0;34m\u001b[0m\u001b[0m\n\u001b[1;32m   3542\u001b[0m             \u001b[0;32mif\u001b[0m \u001b[0;32mnot\u001b[0m \u001b[0misnull\u001b[0m\u001b[0;34m(\u001b[0m\u001b[0mitem\u001b[0m\u001b[0;34m)\u001b[0m\u001b[0;34m:\u001b[0m\u001b[0;34m\u001b[0m\u001b[0m\n\u001b[0;32m-> 3543\u001b[0;31m                 \u001b[0mloc\u001b[0m \u001b[0;34m=\u001b[0m \u001b[0mself\u001b[0m\u001b[0;34m.\u001b[0m\u001b[0mitems\u001b[0m\u001b[0;34m.\u001b[0m\u001b[0mget_loc\u001b[0m\u001b[0;34m(\u001b[0m\u001b[0mitem\u001b[0m\u001b[0;34m)\u001b[0m\u001b[0;34m\u001b[0m\u001b[0m\n\u001b[0m\u001b[1;32m   3544\u001b[0m             \u001b[0;32melse\u001b[0m\u001b[0;34m:\u001b[0m\u001b[0;34m\u001b[0m\u001b[0m\n\u001b[1;32m   3545\u001b[0m                 \u001b[0mindexer\u001b[0m \u001b[0;34m=\u001b[0m \u001b[0mnp\u001b[0m\u001b[0;34m.\u001b[0m\u001b[0marange\u001b[0m\u001b[0;34m(\u001b[0m\u001b[0mlen\u001b[0m\u001b[0;34m(\u001b[0m\u001b[0mself\u001b[0m\u001b[0;34m.\u001b[0m\u001b[0mitems\u001b[0m\u001b[0;34m)\u001b[0m\u001b[0;34m)\u001b[0m\u001b[0;34m[\u001b[0m\u001b[0misnull\u001b[0m\u001b[0;34m(\u001b[0m\u001b[0mself\u001b[0m\u001b[0;34m.\u001b[0m\u001b[0mitems\u001b[0m\u001b[0;34m)\u001b[0m\u001b[0;34m]\u001b[0m\u001b[0;34m\u001b[0m\u001b[0m\n",
      "\u001b[0;32m/projects/sage/sage-7.5/local/lib/python2.7/site-packages/pandas/indexes/base.py\u001b[0m in \u001b[0;36mget_loc\u001b[0;34m(self, key, method, tolerance)\u001b[0m\n\u001b[1;32m   2134\u001b[0m                 \u001b[0;32mreturn\u001b[0m \u001b[0mself\u001b[0m\u001b[0;34m.\u001b[0m\u001b[0m_engine\u001b[0m\u001b[0;34m.\u001b[0m\u001b[0mget_loc\u001b[0m\u001b[0;34m(\u001b[0m\u001b[0mkey\u001b[0m\u001b[0;34m)\u001b[0m\u001b[0;34m\u001b[0m\u001b[0m\n\u001b[1;32m   2135\u001b[0m             \u001b[0;32mexcept\u001b[0m \u001b[0mKeyError\u001b[0m\u001b[0;34m:\u001b[0m\u001b[0;34m\u001b[0m\u001b[0m\n\u001b[0;32m-> 2136\u001b[0;31m                 \u001b[0;32mreturn\u001b[0m \u001b[0mself\u001b[0m\u001b[0;34m.\u001b[0m\u001b[0m_engine\u001b[0m\u001b[0;34m.\u001b[0m\u001b[0mget_loc\u001b[0m\u001b[0;34m(\u001b[0m\u001b[0mself\u001b[0m\u001b[0;34m.\u001b[0m\u001b[0m_maybe_cast_indexer\u001b[0m\u001b[0;34m(\u001b[0m\u001b[0mkey\u001b[0m\u001b[0;34m)\u001b[0m\u001b[0;34m)\u001b[0m\u001b[0;34m\u001b[0m\u001b[0m\n\u001b[0m\u001b[1;32m   2137\u001b[0m \u001b[0;34m\u001b[0m\u001b[0m\n\u001b[1;32m   2138\u001b[0m         \u001b[0mindexer\u001b[0m \u001b[0;34m=\u001b[0m \u001b[0mself\u001b[0m\u001b[0;34m.\u001b[0m\u001b[0mget_indexer\u001b[0m\u001b[0;34m(\u001b[0m\u001b[0;34m[\u001b[0m\u001b[0mkey\u001b[0m\u001b[0;34m]\u001b[0m\u001b[0;34m,\u001b[0m \u001b[0mmethod\u001b[0m\u001b[0;34m=\u001b[0m\u001b[0mmethod\u001b[0m\u001b[0;34m,\u001b[0m \u001b[0mtolerance\u001b[0m\u001b[0;34m=\u001b[0m\u001b[0mtolerance\u001b[0m\u001b[0;34m)\u001b[0m\u001b[0;34m\u001b[0m\u001b[0m\n",
      "\u001b[0;32mpandas/index.pyx\u001b[0m in \u001b[0;36mpandas.index.IndexEngine.get_loc (pandas/index.c:4433)\u001b[0;34m()\u001b[0m\n",
      "\u001b[0;32mpandas/index.pyx\u001b[0m in \u001b[0;36mpandas.index.IndexEngine.get_loc (pandas/index.c:4279)\u001b[0;34m()\u001b[0m\n",
      "\u001b[0;32mpandas/src/hashtable_class_helper.pxi\u001b[0m in \u001b[0;36mpandas.hashtable.PyObjectHashTable.get_item (pandas/hashtable.c:13742)\u001b[0;34m()\u001b[0m\n",
      "\u001b[0;32mpandas/src/hashtable_class_helper.pxi\u001b[0m in \u001b[0;36mpandas.hashtable.PyObjectHashTable.get_item (pandas/hashtable.c:13696)\u001b[0;34m()\u001b[0m\n",
      "\u001b[0;31mKeyError\u001b[0m: 'S\\xc3\\xa9rie'"
     ]
    }
   ],
   "source": [
    "lispoktab=pd.read_html(\" pokemon.html\")\n",
    "df=lispoktab[0]\n",
    "df.ix[2]=np.roll(df.ix[2],2)\n",
    "df.ix[3]=np.roll(df.ix[3],1)\n",
    "df.ix[4]=np.roll(df.ix[4],2)\n",
    "df.ix[5]=np.roll(df.ix[5],2)\n",
    "df.ix[7]=np.roll(df.ix[7],2)\n",
    "df.ix[8]=np.roll(df.ix[8],2)\n",
    "df.ix[9]=np.roll(df.ix[9],2)\n",
    "df.ix[11]=np.roll(df.ix[11],2)\n",
    "df.ix[12]=np.roll(df.ix[12],2)\n",
    "df.ix[13]=np.roll(df.ix[13],2)\n",
    "df.ix[15]=np.roll(df.ix[15],2)\n",
    "df.ix[16]=np.roll(df.ix[16],2)\n",
    "df.ix[18]=np.roll(df.ix[18],2)\n",
    "df.ix[19]=np.roll(df.ix[19],2)\n",
    "\n",
    "\n",
    "df.columns=df.ix[0] # muda o nome das colunas\n",
    "df=df.drop(0) # elimina a primeira linha\n",
    "df['Série']=preenche(list(df['Série'])) # elimina elementos com Nan\n",
    "df['Geração']=preenche(list(df['Geração']))\n",
    "df['Região']=preenche(list(df['Região']))\n",
    "df['Episódios']=[episodio[0:-7] for episodio in df['Episódios']] # elimina parte final \n",
    "df['Primeiro']=[int(episodio[0:3]) for episodio in df['Episódios']] # separa em duas partes\n",
    "df['Último']=[sint(episodio[4:-1]) for episodio in df['Episódios']]"
   ]
  },
  {
   "cell_type": "code",
   "execution_count": 4,
   "metadata": {
    "collapsed": false
   },
   "outputs": [
    {
     "data": {
      "text/html": [
       "<div>\n",
       "<table border=\"1\" class=\"dataframe\">\n",
       "  <thead>\n",
       "    <tr style=\"text-align: right;\">\n",
       "      <th></th>\n",
       "      <th>Série</th>\n",
       "      <th>Geração</th>\n",
       "      <th>Temporada</th>\n",
       "      <th>Descrição</th>\n",
       "      <th>Episódios</th>\n",
       "      <th>Região</th>\n",
       "    </tr>\n",
       "  </thead>\n",
       "  <tbody>\n",
       "    <tr>\n",
       "      <th>1</th>\n",
       "      <td>Série Original</td>\n",
       "      <td>Primeira</td>\n",
       "      <td>Liga Índigo</td>\n",
       "      <td>Mostra a jornada de Ash, Misty e Brock na Liga...</td>\n",
       "      <td>001-083 (lista)</td>\n",
       "      <td>Kanto</td>\n",
       "    </tr>\n",
       "    <tr>\n",
       "      <th>2</th>\n",
       "      <td>NaN</td>\n",
       "      <td>NaN</td>\n",
       "      <td>Aventuras nas Ilhas Laranja</td>\n",
       "      <td>Mostra a jornada de Ash, Misty e Tracey na Lig...</td>\n",
       "      <td>084-118 (lista)</td>\n",
       "      <td>Ilhas Laranja</td>\n",
       "    </tr>\n",
       "    <tr>\n",
       "      <th>3</th>\n",
       "      <td>NaN</td>\n",
       "      <td>Segunda</td>\n",
       "      <td>A Jornada Johto</td>\n",
       "      <td>Inicia a jornada de Ash, Misty e Brock em Joht...</td>\n",
       "      <td>119-159 (lista)</td>\n",
       "      <td>Johto</td>\n",
       "    </tr>\n",
       "    <tr>\n",
       "      <th>4</th>\n",
       "      <td>NaN</td>\n",
       "      <td>NaN</td>\n",
       "      <td>Campeões da Liga Johto</td>\n",
       "      <td>Continua com as aventuras de Ash e seus amigos...</td>\n",
       "      <td>160-211 (lista)</td>\n",
       "      <td>NaN</td>\n",
       "    </tr>\n",
       "    <tr>\n",
       "      <th>5</th>\n",
       "      <td>NaN</td>\n",
       "      <td>NaN</td>\n",
       "      <td>Master Quest</td>\n",
       "      <td>Encerra as aventuras em Johto, Misty volta a C...</td>\n",
       "      <td>212-276 (lista)</td>\n",
       "      <td>NaN</td>\n",
       "    </tr>\n",
       "    <tr>\n",
       "      <th>6</th>\n",
       "      <td>Geração Avançada</td>\n",
       "      <td>Terceira</td>\n",
       "      <td>Pokémon: Avançado</td>\n",
       "      <td>Inicia as Aventuras de Ash, Brock,agora juntam...</td>\n",
       "      <td>277-316 (lista)</td>\n",
       "      <td>Hoenn</td>\n",
       "    </tr>\n",
       "    <tr>\n",
       "      <th>7</th>\n",
       "      <td>NaN</td>\n",
       "      <td>NaN</td>\n",
       "      <td>Desafio Avançado</td>\n",
       "      <td>Continua com a jornada de Ash e seus amigos em...</td>\n",
       "      <td>317-368 (lista)</td>\n",
       "      <td>NaN</td>\n",
       "    </tr>\n",
       "    <tr>\n",
       "      <th>8</th>\n",
       "      <td>NaN</td>\n",
       "      <td>NaN</td>\n",
       "      <td>Batalha Avançada</td>\n",
       "      <td>Encerra as aventuras em Hoenn e começa a Jorna...</td>\n",
       "      <td>369-421 (lista)</td>\n",
       "      <td>NaN</td>\n",
       "    </tr>\n",
       "    <tr>\n",
       "      <th>9</th>\n",
       "      <td>NaN</td>\n",
       "      <td>NaN</td>\n",
       "      <td>Batalha da Fronteira</td>\n",
       "      <td>Conclui a Jornada na Batalha da Fronteira. May...</td>\n",
       "      <td>422-468 (lista)</td>\n",
       "      <td>Kanto</td>\n",
       "    </tr>\n",
       "    <tr>\n",
       "      <th>10</th>\n",
       "      <td>Diamante e Pérola</td>\n",
       "      <td>Quarta</td>\n",
       "      <td>Diamante e Pérola</td>\n",
       "      <td>Inicia as aventuras de Ash e Brock em Sinnoh c...</td>\n",
       "      <td>469-520 (lista)</td>\n",
       "      <td>Sinnoh</td>\n",
       "    </tr>\n",
       "    <tr>\n",
       "      <th>11</th>\n",
       "      <td>NaN</td>\n",
       "      <td>NaN</td>\n",
       "      <td>Batalha Dimensional</td>\n",
       "      <td>Continua as aventuras de Ash, Brock e Dawn em ...</td>\n",
       "      <td>521-572 (lista)</td>\n",
       "      <td>NaN</td>\n",
       "    </tr>\n",
       "    <tr>\n",
       "      <th>12</th>\n",
       "      <td>NaN</td>\n",
       "      <td>NaN</td>\n",
       "      <td>Batalhas Galácticas</td>\n",
       "      <td>Continua a jornada de Ash, Dawn e Brock em Sin...</td>\n",
       "      <td>573-625 (lista)</td>\n",
       "      <td>NaN</td>\n",
       "    </tr>\n",
       "    <tr>\n",
       "      <th>13</th>\n",
       "      <td>NaN</td>\n",
       "      <td>NaN</td>\n",
       "      <td>Vencedores da Liga Sinnoh</td>\n",
       "      <td>Conclui a jornada de Ash, Dawn e Brock em Sinn...</td>\n",
       "      <td>626-659 (lista)</td>\n",
       "      <td>NaN</td>\n",
       "    </tr>\n",
       "    <tr>\n",
       "      <th>14</th>\n",
       "      <td>Preto e Branco</td>\n",
       "      <td>Quinta</td>\n",
       "      <td>Preto e Branco</td>\n",
       "      <td>Inicia as aventuras de Ash na região de Unova ...</td>\n",
       "      <td>660-707 (lista)</td>\n",
       "      <td>Unova</td>\n",
       "    </tr>\n",
       "    <tr>\n",
       "      <th>15</th>\n",
       "      <td>NaN</td>\n",
       "      <td>NaN</td>\n",
       "      <td>Destinos Rivais</td>\n",
       "      <td>Ash reencontra Dawn.Tem 49 episódios</td>\n",
       "      <td>708-756 (lista)</td>\n",
       "      <td>NaN</td>\n",
       "    </tr>\n",
       "    <tr>\n",
       "      <th>16</th>\n",
       "      <td>NaN</td>\n",
       "      <td>NaN</td>\n",
       "      <td>Aventuras em Unova (e Mais Além)</td>\n",
       "      <td>Continua a jornada de Ash, Iris e Cilan em Uno...</td>\n",
       "      <td>757-803 (lista)</td>\n",
       "      <td>NaN</td>\n",
       "    </tr>\n",
       "    <tr>\n",
       "      <th>17</th>\n",
       "      <td>XY</td>\n",
       "      <td>Sexta</td>\n",
       "      <td>A Série XY</td>\n",
       "      <td>Inicia as aventuras de Ash, Serena, Clemont e ...</td>\n",
       "      <td>804-852 (lista)</td>\n",
       "      <td>Kalos</td>\n",
       "    </tr>\n",
       "    <tr>\n",
       "      <th>18</th>\n",
       "      <td>NaN</td>\n",
       "      <td>NaN</td>\n",
       "      <td>Kalos Quest</td>\n",
       "      <td>Continua as aventuras de Ash, Serena, Clemont ...</td>\n",
       "      <td>853-897 (lista)</td>\n",
       "      <td>NaN</td>\n",
       "    </tr>\n",
       "    <tr>\n",
       "      <th>19</th>\n",
       "      <td>NaN</td>\n",
       "      <td>NaN</td>\n",
       "      <td>XY &amp; Z</td>\n",
       "      <td>Continua A Saga de Ash ,Clement, Bonnie e Sere...</td>\n",
       "      <td>898-946 (lista)</td>\n",
       "      <td>NaN</td>\n",
       "    </tr>\n",
       "    <tr>\n",
       "      <th>20</th>\n",
       "      <td>Sun and Moon</td>\n",
       "      <td>Sétima</td>\n",
       "      <td>Sun and Moon</td>\n",
       "      <td>Inicia as aventuras de Ash, Lana, Mallow, Kiaw...</td>\n",
       "      <td>947- (Lista)</td>\n",
       "      <td>Alola</td>\n",
       "    </tr>\n",
       "  </tbody>\n",
       "</table>\n",
       "</div>"
      ]
     },
     "execution_count": 4,
     "metadata": {
     },
     "output_type": "execute_result"
    }
   ],
   "source": [
    "df"
   ]
  },
  {
   "cell_type": "markdown",
   "metadata": {
    "collapsed": false
   },
   "source": [
    "### Exercicio 7\n",
    "O Jogo da Vida (The Game of Life) é um autômato celular (cellular automaton) introduzido por John Horton Conway em 1970. Um automato celular consiste de uma rede de células. Cada célula pode estar em um número finito de estados, como morta ou viva. O “jogo” é na verdade uma simulação que permite observar a evolução de um processo a partir de uma certa condição inicial.\n",
    "O jogo se desenvolve sobre uma matriz bi-dimensional que pode ser tão grande quanto se queira. Vamos chamar essa matriz de mapa. Cada posição ou célula do mapa pode estar vazia (= célula morta) ou ocupada por um agente (= célula viva). Cada posição possui também até 8 posições vizinhas: imediatamente acima, abaixo, aos lados e nas diagonais. Em um determinado instante, o mapa contém uma geração de agentes. A geração no instante seguinte é determinada segundo as regras abaixo:\n",
    "Novos agentes nascem em células vazias que possuam exatamente 3 agentes vizinhos;\n",
    "Agentes com 2 ou 3 agentes vizinhos sobrevivem;\n",
    "Agentes com menos de 2 agentes vizinhos morrem for falta de recursos;\n",
    "Agentes com mais de 3 agentes vizinhos morrem por excesso de competição.\n"
   ]
  },
  {
   "cell_type": "code",
   "execution_count": 47,
   "metadata": {
    "collapsed": false
   },
   "outputs": [
    {
     "name": "stdout",
     "output_type": "stream",
     "text": [
      "[[0 0 0 0 0]\n",
      " [0 0 0 0 0]\n",
      " [0 1 1 1 0]\n",
      " [0 0 0 0 0]\n",
      " [0 0 0 0 0]]\n",
      "[[0 0 0 0 0]\n",
      " [0 1 1 1 0]\n",
      " [0 0 1 0 0]\n",
      " [0 1 1 1 0]\n",
      " [0 0 0 0 0]]\n",
      "[[0 1 1 1 0]\n",
      " [0 1 1 1 0]\n",
      " [1 0 0 0 1]\n",
      " [0 1 1 1 0]\n",
      " [0 1 1 1 0]]\n",
      "[[1 1 0 1 1]\n",
      " [1 0 0 0 1]\n",
      " [1 0 0 0 1]\n",
      " [1 0 0 0 1]\n",
      " [1 1 0 1 1]]\n"
     ]
    }
   ],
   "source": [
    "import numpy\n",
    "def jogo(a):\n",
    "    xmax, ymax = a.shape\n",
    "    b = a.copy() \n",
    "    for x in range(xmax):\n",
    "        for y in range(ymax):\n",
    "            n = numpy.sum(a[max(x-1,0):min(x + 2, xmax),max(y-1, 0):min(y + 2, ymax)])-a[x, y]\n",
    "            if a[x,y]:\n",
    "                if n < 2 or n > 3:\n",
    "                    b[x,y] = 0 \n",
    "            elif n == 3 or n == 2:\n",
    "                b[x, y] = 1 \n",
    "    return(b)\n",
    "\n",
    "vida = numpy.zeros((5, 5), dtype=numpy.byte)\n",
    "vida[2, 1:4] = 1 \n",
    "print(vida)\n",
    "for i in range(3):\n",
    "    vida= jogo(vida)\n",
    "    print (vida)"
   ]
  },
  {
   "cell_type": "markdown",
   "metadata": {
    "collapsed": false
   },
   "source": [
    "## Exercicio 8\n",
    "Considere um conjunto de 10 triplets descrevendo 10 triângulos (com vértices compartilhados), encontrar o conjunto de segmentos de linha única compondo todos os triângulos"
   ]
  },
  {
   "cell_type": "code",
   "execution_count": 5,
   "metadata": {
    "collapsed": false
   },
   "outputs": [
    {
     "ename": "SyntaxError",
     "evalue": "invalid syntax (<ipython-input-5-ea207c85a699>, line 1)",
     "output_type": "error",
     "traceback": [
      "\u001b[0;36m  File \u001b[0;32m\"<ipython-input-5-ea207c85a699>\"\u001b[0;36m, line \u001b[0;32m1\u001b[0m\n\u001b[0;31m    nao entendi o exercicio\u001b[0m\n\u001b[0m              ^\u001b[0m\n\u001b[0;31mSyntaxError\u001b[0m\u001b[0;31m:\u001b[0m invalid syntax\n"
     ]
    }
   ],
   "source": [
    "nao entendi o exercicio"
   ]
  },
  {
   "cell_type": "code",
   "execution_count": 0,
   "metadata": {
    "collapsed": false
   },
   "outputs": [
   ],
   "source": [
   ]
  }
 ],
 "metadata": {
  "kernelspec": {
   "display_name": "Python 2 (SageMath)",
   "language": "python",
   "name": "python2"
  },
  "language_info": {
   "codemirror_mode": {
    "name": "ipython",
    "version": 2
   },
   "file_extension": ".py",
   "mimetype": "text/x-python",
   "name": "python",
   "nbconvert_exporter": "python",
   "pygments_lexer": "ipython2",
   "version": "2.7.13"
  }
 },
 "nbformat": 4,
 "nbformat_minor": 0
}