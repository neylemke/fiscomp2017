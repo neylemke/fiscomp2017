{
 "cells": [
  {
   "cell_type": "code",
   "execution_count": 5,
   "metadata": {
    "collapsed": false
   },
   "outputs": [
    {
     "name": "stdout",
     "output_type": "stream",
     "text": [
      "1 A média dos intevalos é de:([0] - [8])/2 = -4.0\n",
      "2 A média dos intevalos é de:([7] - [0])/2 = 3.5\n",
      "3 A média dos intevalos é de:([2] - [7])/2 = -2.5\n",
      "4 A média dos intevalos é de:([7] - [2])/2 = 2.5\n",
      "5 A média dos intevalos é de:([0] - [7])/2 = -3.5\n",
      "6 A média dos intevalos é de:([9] - [0])/2 = 4.5\n",
      "7 A média dos intevalos é de:([1] - [9])/2 = -4.0\n",
      "8 A média dos intevalos é de:([3] - [1])/2 = 1.0\n",
      "9 A média dos intevalos é de:([2] - [3])/2 = -0.5\n",
      "10 A média dos intevalos é de:([8] - [2])/2 = 3.0\n",
      "11 A média dos intevalos é de:([5] - [8])/2 = -1.5\n",
      "12 A média dos intevalos é de:([4] - [5])/2 = -0.5\n",
      "13 A média dos intevalos é de:([3] - [4])/2 = -0.5\n",
      "14 A média dos intevalos é de:([6] - [3])/2 = 1.5\n",
      "15 A média dos intevalos é de:([6] - [6])/2 = 0.0\n",
      "16 A média dos intevalos é de:([7] - [6])/2 = 0.5\n",
      "17 A média dos intevalos é de:([7] - [7])/2 = 0.0\n",
      "18 A média dos intevalos é de:([8] - [7])/2 = 0.5\n",
      "19 A média dos intevalos é de:([3] - [8])/2 = -2.5\n",
      "20 A média dos intevalos é de:([1] - [3])/2 = -1.0\n",
      "21 A média dos intevalos é de:([9] - [1])/2 = 4.0\n",
      "22 A média dos intevalos é de:([1] - [9])/2 = -4.0\n",
      "23 A média dos intevalos é de:([9] - [1])/2 = 4.0\n",
      "24 A média dos intevalos é de:([9] - [9])/2 = 0.0\n",
      "25 A média dos intevalos é de:([0] - [9])/2 = -4.5\n",
      "26 A média dos intevalos é de:([1] - [0])/2 = 0.5\n",
      "27 A média dos intevalos é de:([6] - [1])/2 = 2.5\n",
      "28 A média dos intevalos é de:([9] - [6])/2 = 1.5\n",
      "29 A média dos intevalos é de:([3] - [9])/2 = -3.0\n",
      "30 A média dos intevalos é de:([8] - [3])/2 = 2.5\n",
      "31 A média dos intevalos é de:([9] - [8])/2 = 0.5\n",
      "32 A média dos intevalos é de:([1] - [9])/2 = -4.0\n",
      "33 A média dos intevalos é de:([4] - [1])/2 = 1.5\n",
      "34 A média dos intevalos é de:([7] - [4])/2 = 1.5\n",
      "35 A média dos intevalos é de:([4] - [7])/2 = -1.5\n",
      "36 A média dos intevalos é de:([9] - [4])/2 = 2.5\n",
      "37 A média dos intevalos é de:([3] - [9])/2 = -3.0\n",
      "38 A média dos intevalos é de:([5] - [3])/2 = 1.0\n",
      "39 A média dos intevalos é de:([4] - [5])/2 = -0.5\n",
      "40 A média dos intevalos é de:([0] - [4])/2 = -2.0\n",
      "41 A média dos intevalos é de:([2] - [0])/2 = 1.0\n",
      "42 A média dos intevalos é de:([8] - [2])/2 = 3.0\n",
      "43 A média dos intevalos é de:([9] - [8])/2 = 0.5\n",
      "44 A média dos intevalos é de:([7] - [9])/2 = -1.0\n",
      "45 A média dos intevalos é de:([3] - [7])/2 = -2.0\n",
      "46 A média dos intevalos é de:([0] - [3])/2 = -1.5\n",
      "47 A média dos intevalos é de:([7] - [0])/2 = 3.5\n",
      "48 A média dos intevalos é de:([4] - [7])/2 = -1.5\n",
      "49 A média dos intevalos é de:([8] - [4])/2 = 2.0\n",
      "50 A média dos intevalos é de:([4] - [8])/2 = -2.0\n",
      "51 A média dos intevalos é de:([9] - [4])/2 = 2.5\n",
      "52 A média dos intevalos é de:([4] - [9])/2 = -2.5\n",
      "53 A média dos intevalos é de:([3] - [4])/2 = -0.5\n",
      "54 A média dos intevalos é de:([4] - [3])/2 = 0.5\n",
      "55 A média dos intevalos é de:([3] - [4])/2 = -0.5\n",
      "56 A média dos intevalos é de:([7] - [3])/2 = 2.0\n",
      "57 A média dos intevalos é de:([5] - [7])/2 = -1.0\n",
      "58 A média dos intevalos é de:([4] - [5])/2 = -0.5\n",
      "59 A média dos intevalos é de:([8] - [4])/2 = 2.0\n",
      "60 A média dos intevalos é de:([7] - [8])/2 = -0.5\n",
      "61 A média dos intevalos é de:([0] - [7])/2 = -3.5\n",
      "62 A média dos intevalos é de:([0] - [0])/2 = 0.0\n",
      "63 A média dos intevalos é de:([7] - [0])/2 = 3.5\n",
      "64 A média dos intevalos é de:([4] - [7])/2 = -1.5\n",
      "65 A média dos intevalos é de:([9] - [4])/2 = 2.5\n",
      "66 A média dos intevalos é de:([0] - [9])/2 = -4.5\n",
      "67 A média dos intevalos é de:([8] - [0])/2 = 4.0\n",
      "68 A média dos intevalos é de:([2] - [8])/2 = -3.0\n",
      "69 A média dos intevalos é de:([9] - [2])/2 = 3.5\n",
      "70 A média dos intevalos é de:([6] - [9])/2 = -1.5\n",
      "71 A média dos intevalos é de:([6] - [6])/2 = 0.0\n",
      "72 A média dos intevalos é de:([5] - [6])/2 = -0.5\n",
      "73 A média dos intevalos é de:([5] - [5])/2 = 0.0\n",
      "74 A média dos intevalos é de:([9] - [5])/2 = 2.0\n",
      "75 A média dos intevalos é de:([1] - [9])/2 = -4.0\n",
      "76 A média dos intevalos é de:([6] - [1])/2 = 2.5\n",
      "77 A média dos intevalos é de:([2] - [6])/2 = -2.0\n",
      "78 A média dos intevalos é de:([3] - [2])/2 = 0.5\n",
      "79 A média dos intevalos é de:([2] - [3])/2 = -0.5\n",
      "80 A média dos intevalos é de:([0] - [2])/2 = -1.0\n",
      "81 A média dos intevalos é de:([5] - [0])/2 = 2.5\n",
      "82 A média dos intevalos é de:([3] - [5])/2 = -1.0\n",
      "83 A média dos intevalos é de:([0] - [3])/2 = -1.5\n",
      "84 A média dos intevalos é de:([1] - [0])/2 = 0.5\n",
      "85 A média dos intevalos é de:([9] - [1])/2 = 4.0\n",
      "86 A média dos intevalos é de:([2] - [9])/2 = -3.5\n",
      "87 A média dos intevalos é de:([6] - [2])/2 = 2.0\n",
      "88 A média dos intevalos é de:([9] - [6])/2 = 1.5\n",
      "89 A média dos intevalos é de:([9] - [9])/2 = 0.0\n",
      "90 A média dos intevalos é de:([4] - [9])/2 = -2.5\n",
      "91 A média dos intevalos é de:([8] - [4])/2 = 2.0\n",
      "92 A média dos intevalos é de:([5] - [8])/2 = -1.5\n",
      "93 A média dos intevalos é de:([2] - [5])/2 = -1.5\n",
      "94 A média dos intevalos é de:([8] - [2])/2 = 3.0\n",
      "95 A média dos intevalos é de:([7] - [8])/2 = -0.5\n",
      "96 A média dos intevalos é de:([1] - [7])/2 = -3.0\n",
      "97 A média dos intevalos é de:([0] - [1])/2 = -0.5\n",
      "98 A média dos intevalos é de:([9] - [0])/2 = 4.5\n",
      "99 A média dos intevalos é de:([7] - [9])/2 = -1.0\n"
     ]
    }
   ],
   "source": [
    "#Exercicio 1 Gere uma lista com 100 números aleatórios, em seguida o aluno deverá deverá encontrar os intervalos médios dos elementos da lista.\n",
    "\n",
    "import numpy as np\n",
    "\n",
    "v = np.int_(np.random.rand(100,1)*10)\n",
    "\n",
    "for i in range(len(v)-1):\n",
    "    print(str(i+1)+\" A média dos intevalos é de:(\"+str(v[i+1])+\" - \"+str(v[i])+\")/2 = \"+str(float((v[i+1]-v[i])/2.0)))\n",
    "\n"
   ]
  },
  {
   "cell_type": "markdown",
   "metadata": {
    "collapsed": false
   },
   "source": [
    "#Exercicio 1\n",
    "Gere uma lista com 100 números aleatórios, em seguida o aluno deverá deverá encontrar os intervalos médios dos elementos da lista.\n",
    "#Exercicio 2\n",
    "Faça um programa que leia um número indeterminado de valores, correspondentes a notas, encerrando a entrada de dados quando for informado um valor igual a -1 (que não deve ser armazenado). Após esta entrada de dados, faça:\n",
    "\n",
    "Mostre a quantidade de valores que foram lidos;\n",
    "Exiba todos os valores na ordem em que foram informados, um ao lado do outro;\n",
    "Exiba todos os valores na ordem inversa à que foram informados, um abaixo do outro;\n",
    "Calcule e mostre a soma dos valores;\n",
    "Calcule e mostre a média dos valores;\n",
    "Calcule e mostre a quantidade de valores acima da média calculada;\n",
    "Calcule e mostre a quantidade de valores abaixo de sete;\n",
    "Encerre o programa com uma mensagem;\n",
    "\n",
    "#Exercicio 3\n",
    "Calcule as raízes da equação do 2◦ grau () sendo os valores de A, B e C fornecidos pelo usuário, levando em consideração a existência de raízes complexas.**\n",
    "\n",
    "#Exercícios 4\n",
    "Crie 12 arquivos, chamados de 'arq_mes_estação.txt'. Cada um deles contendo a frase: \"A minha estação predileta é 'estação', especialmente 'mês'\" repetida um número aleatório de vezes, entre 5 e 20. Comprima essas arquivos usando o comando gzip. Faça isso utilizando o conceito de dicionários.\n",
    "\n",
    "#Exercícios 5\n",
    "Com base nos dados de https://pt.wikipedia.org/wiki/Lista_de_epis%C3%B3dios_de_Pok%C3%A9mon Construa um dataframe para armazenar as informações sobre os episódios de Pokemon, contendo:\n",
    "Série\n",
    "Geração\n",
    "Temporada\n",
    "Primeiro Episódio\n",
    "Último Episódio\n",
    "Região\n",
    "Descubra qual a geração mais longeva\n",
    "Descubra quantas temporadas durou cada série\n",
    "\n",
    "#Exercício 6\n",
    "Passo 1: Gere um arquivo com 10 notas de cinco alunos (Deve conter o nome do aluno e as notas).\n",
    "Passo 2: Em seguida crie uma array em numpy com essas notas.\n",
    "Passo 3: Crie um DataFrame dessas notas.\n",
    "Passo 4: Identifique qual menor nota e quem foi o aluno que obteve essa nota\n",
    "Passo 5: Identifique o aluno que tirou as melhores notas.\n",
    "\n",
    "#Exercicio 7\n",
    "O Jogo da Vida (The Game of Life) é um autômato celular (cellular automaton) introduzido por John Horton Conway em 1970. Um automato celular consiste de uma rede de células. Cada célula pode estar em um número finito de estados, como morta ou viva. O “jogo” é na verdade uma simulação que permite observar a evolução de um processo a partir de uma certa condição inicial.\n",
    "O jogo se desenvolve sobre uma matriz bi-dimensional que pode ser tão grande quanto se queira. Vamos chamar essa matriz de mapa. Cada posição ou célula do mapa pode estar vazia (= célula morta) ou ocupada por um agente (= célula viva). Cada posição possui também até 8 posições vizinhas: imediatamente acima, abaixo, aos lados e nas diagonais. Em um determinado instante, o mapa contém uma geração de agentes. A geração no instante seguinte é determinada segundo as regras abaixo:\n",
    "Novos agentes nascem em células vazias que possuam exatamente 3 agentes vizinhos;\n",
    "Agentes com 2 ou 3 agentes vizinhos sobrevivem;\n",
    "Agentes com menos de 2 agentes vizinhos morrem for falta de recursos;\n",
    "Agentes com mais de 3 agentes vizinhos morrem por excesso de competição.\n",
    "\n",
    "#Exercicio 8\n",
    "Considere um conjunto de 10 triplets descrevendo 10 triângulos (com vértices compartilhados), encontrar o conjunto de segmentos de linha única compondo todos os triângulos\n"
   ]
  },
  {
   "cell_type": "code",
   "execution_count": 1,
   "metadata": {
    "cocalc": {
     "outputs": {
      "1": {
       "name": "input",
       "opts": {
        "password": false,
        "prompt": ""
       },
       "output_type": "stream",
       "value": "3"
      },
      "2": {
       "name": "input",
       "opts": {
        "password": false,
        "prompt": ""
       },
       "output_type": "stream",
       "value": "9"
      },
      "3": {
       "name": "input",
       "opts": {
        "password": false,
        "prompt": ""
       },
       "output_type": "stream",
       "value": "5"
      },
      "4": {
       "name": "input",
       "opts": {
        "password": false,
        "prompt": ""
       },
       "output_type": "stream",
       "value": "-1"
      }
     }
    }
   },
   "outputs": [
    {
     "name": "stdout",
     "output_type": "stream",
     "text": [
      "Entre com o Valor da notas: \n"
     ]
    },
    {
     "name": "stdout",
     "output_type": "stream",
     "text": " 3"
    },
    {
     "name": "stdout",
     "output_type": "stream",
     "text": " 9"
    },
    {
     "name": "stdout",
     "output_type": "stream",
     "text": " 5"
    },
    {
     "name": "stdout",
     "output_type": "stream",
     "text": " -1"
    },
    {
     "name": "stdout",
     "output_type": "stream",
     "text": [
      "('As notas inseridas foram: ', [3.0, 9.0, 5.0])\n",
      "A quantidade de notas: 3\n",
      "5.0\n",
      "9.0\n",
      "3.0\n",
      "A soma dos valores é igual a:17.0\n",
      "A média dos valores é igual a: 5.66666666667\n",
      "A quantidade de valores acima de 7 é igual a: 1\n",
      "A quantidade de valores abaixo da média é igual a: 2\n"
     ]
    }
   ],
   "source": [
    "#Exercicio 2 Faça um programa que leia um número indeterminado de valores, correspondentes a notas, encerrando a entrada de dados quando for informado um valor igual a -1 (que não deve ser armazenado). Após esta entrada de dados, faça: Mostre a quantidade de valores que foram lidos; Exiba todos os valores na ordem em que foram informados, um ao lado do outro; Exiba todos os valores na ordem inversa à que foram informados, um abaixo do outro; Calcule e mostre a soma dos valores; Calcule e mostre a média dos valores; Calcule e mostre a quantidade de valores acima da média calculada; Calcule e mostre a quantidade de valores abaixo de sete; Encerre o programa com uma mensagem;\n",
    "\n",
    "import numpy as np\n",
    "v=0\n",
    "w=[]\n",
    "print(\"Entre com o Valor da notas: \")\n",
    "while v==0:\n",
    "    a= float(input())\n",
    "    if a==-1:\n",
    "        break\n",
    "    else:\n",
    "        w.append(a)\n",
    "print (\"As notas inseridas foram: \" ,w)\n",
    "print (\"A quantidade de notas: \"+str(len(w)))\n",
    "s=[]\n",
    "s=w[::-1]\n",
    "for i in range (len(s)):\n",
    "    print(s[i])\n",
    "\n",
    "print (\"A soma dos valores é igual a:\"+str(sum(w)))\n",
    "c= sum(w)/len(w)\n",
    "print (\"A média dos valores é igual a: \"+str(c))\n",
    "\n",
    "z=[]\n",
    "for i in range (len(w)):\n",
    "    if w[i]>c:\n",
    "        z.append(i)\n",
    "print(\"A quantidade de valores acima de 7 é igual a: \"+str(len(z)))\n",
    "ab=[]\n",
    "for i in range (len(w)):\n",
    "    if w[i]<c:\n",
    "        ab.append(i)\n",
    "print(\"A quantidade de valores abaixo da média é igual a: \"+str(len(ab)))\n"
   ]
  },
  {
   "cell_type": "code",
   "execution_count": 1,
   "metadata": {
    "cocalc": {
     "outputs": {
      "0": {
       "name": "input",
       "opts": {
        "password": false,
        "prompt": "Digite o coeficiente 'a'= "
       },
       "output_type": "stream",
       "value": "1"
      },
      "1": {
       "name": "input",
       "opts": {
        "password": false,
        "prompt": "Digite o coeficiente 'b'= "
       },
       "output_type": "stream",
       "value": "-10"
      },
      "2": {
       "name": "input",
       "opts": {
        "password": false,
        "prompt": "Digite o coeficiente 'c'= "
       },
       "output_type": "stream",
       "value": "-24"
      }
     }
    },
    "collapsed": false
   },
   "outputs": [
    {
     "name": "stdout",
     "output_type": "stream",
     "text": "Digite o coeficiente 'a'=  1"
    },
    {
     "name": "stdout",
     "output_type": "stream",
     "text": "Digite o coeficiente 'b'=  -10"
    },
    {
     "name": "stdout",
     "output_type": "stream",
     "text": "Digite o coeficiente 'c'=  -24"
    },
    {
     "name": "stdout",
     "output_type": "stream",
     "text": [
      "a = 1\n",
      "b = -10\n",
      "c = -24\n",
      "b^2-4ac = 196\n",
      "1x^2 + (-10) + (-24) = 0\n",
      "Para -(-10) + 14.0 / 2*a temos: 24.0 / 2\n",
      "Para -(-10) - 14.0 / 2*a temos: -4.0 / 2\n",
      "Recomendo tomar duas casas apos a virgula.\n"
     ]
    }
   ],
   "source": [
    "### Exercicio 3 Calcule as raízes da equação do 2◦ grau () sendo os valores de A, B e C fornecidos pelo usuário, levando em consideração a existência de raízes complexas.\n",
    "\n",
    "a=input(\"Digite o coeficiente 'a'= \")\n",
    "if a == 0:\n",
    "    a=input(\"O valor de a não pode ser nulo, digite um valor maior ou menor que 0 = \")\n",
    "b=input(\"Digite o coeficiente 'b'= \")\n",
    "c=input(\"Digite o coeficiente 'c'= \")\n",
    "print \"a = %s\" % (a)\n",
    "print \"b = %s\" % (b)\n",
    "print \"c = %s\" % (c)\n",
    "delta = \"b^2-4ac = %d\" % ((pow(b,2))-4*a*c)\n",
    "print delta\n",
    "resultado_delta = (pow(b,2))-4*a*c\n",
    "if resultado_delta < 0:\n",
    "    print \"Delta Negativo, Equação nao apresenta soluções reais.\"\n",
    "    import sys\n",
    "\n",
    "if resultado_delta == 0:  \n",
    "    print \"Delta nulo. Equação apresenta apenas uma solução real.\"\n",
    "    print \"%s / 2*%s\" % (-b,a)\n",
    "    print \"%s / 2*%s = %d\" % (-b,a,(-b)/2*a)\n",
    "           \n",
    "else:\n",
    "    import math\n",
    "    print \"%sx^2 + (%s) + (%s) = 0\" % (a,b,c)\n",
    "    float(resultado_delta)\n",
    "    raiz_quadrada = math.sqrt(resultado_delta)\n",
    "    cima_bsk_pos=(-b+raiz_quadrada)\n",
    "    cima_bsk_neg=(-b-raiz_quadrada)\n",
    "    baixo_bsk=(2*a)\n",
    "    resultado_raiz_pos= \"%s / %s\" % (cima_bsk_pos,baixo_bsk)\n",
    "    resultado_raiz_neg= \"%s / %s\" % (cima_bsk_neg,baixo_bsk)\n",
    "    print \"Para -(%s) + %s / 2*a temos: %s\" % (b,raiz_quadrada,resultado_raiz_pos)\n",
    "    print \"Para -(%s) - %s / 2*a temos: %s\" % (b,raiz_quadrada,resultado_raiz_neg)\n",
    "    print \"Recomendo tomar duas casas apos a virgula.\"\n",
    " "
   ]
  },
  {
   "cell_type": "code",
   "execution_count": 17,
   "metadata": {
    "collapsed": false
   },
   "outputs": [
    {
     "name": "stdout",
     "output_type": "stream",
     "text": [
      "  adding: arq_Abril_Outono.txt (deflated 90%)\r\n",
      "  adding: arq_Agosto_Inverno.txt (deflated 91%)\r\n",
      "  adding: arq_Dezembro_Primavera.txt (deflated 93%)\r\n",
      "  adding: arq_Fevereiro_Verão.txt (deflated 92%)\r\n",
      "  adding: arq_Janeiro_Verão.txt (deflated 93%)\r\n",
      "  adding: arq_Julho_Inverno.txt (deflated 93%)\r\n",
      "  adding: arq_Junho_Outono.txt (deflated 90%)\r\n",
      "  adding: arq_Maio_Outono.txt (deflated 92%)\r\n",
      "  adding: arq_Março_Verão.txt (deflated 89%)\r\n",
      "  adding: arq_Novembro_Primavera.txt (deflated 88%)\r\n",
      "  adding: arq_Outubro_Primavera.txt (deflated 92%)\r\n",
      "  adding: arq_Setembro_Inverno.txt (deflated 92%)\r\n"
     ]
    },
    {
     "name": "stdout",
     "output_type": "stream",
     "text": [
      "updating: arq_Abril_Outono.txt (deflated 90%)\r\n",
      "updating: arq_Agosto_Inverno.txt (deflated 91%)\r\n",
      "updating: arq_Dezembro_Primavera.txt (deflated 93%)\r\n",
      "updating: arq_Fevereiro_Verão.txt (deflated 92%)\r\n",
      "updating: arq_Janeiro_Verão.txt (deflated 93%)\r\n",
      "updating: arq_Julho_Inverno.txt (deflated 93%)\r\n",
      "updating: arq_Junho_Outono.txt (deflated 90%)\r\n",
      "updating: arq_Maio_Outono.txt (deflated 92%)\r\n",
      "updating: arq_Março_Verão.txt (deflated 89%)\r\n",
      "updating: arq_Novembro_Primavera.txt (deflated 88%)\r\n",
      "updating: arq_Outubro_Primavera.txt (deflated 92%)\r\n",
      "updating: arq_Setembro_Inverno.txt (deflated 92%)\r\n"
     ]
    },
    {
     "name": "stdout",
     "output_type": "stream",
     "text": [
      "updating: arq_Abril_Outono.txt (deflated 90%)\r\n",
      "updating: arq_Agosto_Inverno.txt (deflated 91%)\r\n",
      "updating: arq_Dezembro_Primavera.txt (deflated 93%)\r\n",
      "updating: arq_Fevereiro_Verão.txt (deflated 92%)\r\n",
      "updating: arq_Janeiro_Verão.txt (deflated 93%)\r\n",
      "updating: arq_Julho_Inverno.txt (deflated 93%)\r\n",
      "updating: arq_Junho_Outono.txt (deflated 90%)\r\n",
      "updating: arq_Maio_Outono.txt (deflated 92%)\r\n",
      "updating: arq_Março_Verão.txt (deflated 93%)\r\n",
      "updating: arq_Novembro_Primavera.txt (deflated 88%)\r\n",
      "updating: arq_Outubro_Primavera.txt (deflated 92%)\r\n",
      "updating: arq_Setembro_Inverno.txt (deflated 92%)\r\n"
     ]
    },
    {
     "name": "stdout",
     "output_type": "stream",
     "text": [
      "updating: arq_Abril_Outono.txt (deflated 84%)\r\n",
      "updating: arq_Agosto_Inverno.txt (deflated 91%)\r\n",
      "updating: arq_Dezembro_Primavera.txt (deflated 93%)\r\n",
      "updating: arq_Fevereiro_Verão.txt (deflated 92%)\r\n",
      "updating: arq_Janeiro_Verão.txt (deflated 93%)\r\n",
      "updating: arq_Julho_Inverno.txt (deflated 93%)\r\n",
      "updating: arq_Junho_Outono.txt (deflated 90%)\r\n",
      "updating: arq_Maio_Outono.txt (deflated 92%)\r\n",
      "updating: arq_Março_Verão.txt (deflated 93%)\r\n",
      "updating: arq_Novembro_Primavera.txt (deflated 88%)\r\n",
      "updating: arq_Outubro_Primavera.txt (deflated 92%)\r\n",
      "updating: arq_Setembro_Inverno.txt (deflated 92%)\r\n"
     ]
    },
    {
     "name": "stdout",
     "output_type": "stream",
     "text": [
      "updating: arq_Abril_Outono.txt (deflated 84%)\r\n",
      "updating: arq_Agosto_Inverno.txt (deflated 91%)\r\n",
      "updating: arq_Dezembro_Primavera.txt (deflated 93%)\r\n",
      "updating: arq_Fevereiro_Verão.txt (deflated 92%)\r\n",
      "updating: arq_Janeiro_Verão.txt (deflated 93%)\r\n",
      "updating: arq_Julho_Inverno.txt (deflated 93%)\r\n",
      "updating: arq_Junho_Outono.txt (deflated 90%)\r\n",
      "updating: arq_Maio_Outono.txt (deflated 89%)\r\n",
      "updating: arq_Março_Verão.txt (deflated 93%)\r\n",
      "updating: arq_Novembro_Primavera.txt (deflated 88%)\r\n",
      "updating: arq_Outubro_Primavera.txt (deflated 92%)\r\n",
      "updating: arq_Setembro_Inverno.txt (deflated 92%)\r\n"
     ]
    },
    {
     "name": "stdout",
     "output_type": "stream",
     "text": [
      "updating: arq_Abril_Outono.txt (deflated 84%)\r\n",
      "updating: arq_Agosto_Inverno.txt (deflated 91%)\r\n",
      "updating: arq_Dezembro_Primavera.txt (deflated 93%)\r\n",
      "updating: arq_Fevereiro_Verão.txt (deflated 92%)\r\n",
      "updating: arq_Janeiro_Verão.txt (deflated 93%)\r\n",
      "updating: arq_Julho_Inverno.txt (deflated 93%)\r\n",
      "updating: arq_Junho_Outono.txt (deflated 93%)\r\n",
      "updating: arq_Maio_Outono.txt (deflated 89%)\r\n",
      "updating: arq_Março_Verão.txt (deflated 93%)\r\n",
      "updating: arq_Novembro_Primavera.txt (deflated 88%)\r\n",
      "updating: arq_Outubro_Primavera.txt (deflated 92%)\r\n",
      "updating: arq_Setembro_Inverno.txt (deflated 92%)\r\n"
     ]
    },
    {
     "name": "stdout",
     "output_type": "stream",
     "text": [
      "updating: arq_Abril_Outono.txt (deflated 84%)\r\n",
      "updating: arq_Agosto_Inverno.txt (deflated 91%)\r\n",
      "updating: arq_Dezembro_Primavera.txt (deflated 93%)\r\n",
      "updating: arq_Fevereiro_Verão.txt (deflated 92%)\r\n",
      "updating: arq_Janeiro_Verão.txt (deflated 93%)\r\n",
      "updating: arq_Julho_Inverno.txt (deflated 89%)\r\n",
      "updating: arq_Junho_Outono.txt (deflated 93%)\r\n",
      "updating: arq_Maio_Outono.txt (deflated 89%)\r\n",
      "updating: arq_Março_Verão.txt (deflated 93%)\r\n",
      "updating: arq_Novembro_Primavera.txt (deflated 88%)\r\n",
      "updating: arq_Outubro_Primavera.txt (deflated 92%)\r\n",
      "updating: arq_Setembro_Inverno.txt (deflated 92%)\r\n"
     ]
    },
    {
     "name": "stdout",
     "output_type": "stream",
     "text": [
      "updating: arq_Abril_Outono.txt (deflated 84%)\r\n",
      "updating: arq_Agosto_Inverno.txt (deflated 93%)\r\n",
      "updating: arq_Dezembro_Primavera.txt (deflated 93%)\r\n",
      "updating: arq_Fevereiro_Verão.txt (deflated 92%)\r\n",
      "updating: arq_Janeiro_Verão.txt (deflated 93%)\r\n",
      "updating: arq_Julho_Inverno.txt (deflated 89%)\r\n",
      "updating: arq_Junho_Outono.txt (deflated 93%)\r\n",
      "updating: arq_Maio_Outono.txt (deflated 89%)\r\n",
      "updating: arq_Março_Verão.txt (deflated 93%)\r\n",
      "updating: arq_Novembro_Primavera.txt (deflated 88%)\r\n",
      "updating: arq_Outubro_Primavera.txt (deflated 92%)\r\n",
      "updating: arq_Setembro_Inverno.txt (deflated 92%)\r\n"
     ]
    },
    {
     "name": "stdout",
     "output_type": "stream",
     "text": [
      "updating: arq_Abril_Outono.txt (deflated 84%)\r\n",
      "updating: arq_Agosto_Inverno.txt (deflated 93%)\r\n",
      "updating: arq_Dezembro_Primavera.txt (deflated 93%)\r\n",
      "updating: arq_Fevereiro_Verão.txt (deflated 92%)\r\n",
      "updating: arq_Janeiro_Verão.txt (deflated 93%)\r\n",
      "updating: arq_Julho_Inverno.txt (deflated 89%)\r\n",
      "updating: arq_Junho_Outono.txt (deflated 93%)\r\n",
      "updating: arq_Maio_Outono.txt (deflated 89%)\r\n",
      "updating: arq_Março_Verão.txt (deflated 93%)\r\n",
      "updating: arq_Novembro_Primavera.txt (deflated 88%)\r\n",
      "updating: arq_Outubro_Primavera.txt (deflated 92%)\r\n",
      "updating: arq_Setembro_Inverno.txt (deflated 93%)\r\n"
     ]
    },
    {
     "name": "stdout",
     "output_type": "stream",
     "text": [
      "updating: arq_Abril_Outono.txt (deflated 84%)\r\n",
      "updating: arq_Agosto_Inverno.txt (deflated 93%)\r\n",
      "updating: arq_Dezembro_Primavera.txt (deflated 93%)\r\n",
      "updating: arq_Fevereiro_Verão.txt (deflated 92%)\r\n",
      "updating: arq_Janeiro_Verão.txt (deflated 93%)\r\n",
      "updating: arq_Julho_Inverno.txt (deflated 89%)\r\n",
      "updating: arq_Junho_Outono.txt (deflated 93%)\r\n",
      "updating: arq_Maio_Outono.txt (deflated 89%)\r\n",
      "updating: arq_Março_Verão.txt (deflated 93%)\r\n",
      "updating: arq_Novembro_Primavera.txt (deflated 88%)\r\n",
      "updating: arq_Outubro_Primavera.txt (deflated 94%)\r\n",
      "updating: arq_Setembro_Inverno.txt (deflated 93%)\r\n"
     ]
    },
    {
     "name": "stdout",
     "output_type": "stream",
     "text": [
      "updating: arq_Abril_Outono.txt (deflated 84%)\r\n",
      "updating: arq_Agosto_Inverno.txt (deflated 93%)\r\n",
      "updating: arq_Dezembro_Primavera.txt (deflated 93%)\r\n",
      "updating: arq_Fevereiro_Verão.txt (deflated 92%)\r\n",
      "updating: arq_Janeiro_Verão.txt (deflated 93%)\r\n",
      "updating: arq_Julho_Inverno.txt (deflated 89%)\r\n",
      "updating: arq_Junho_Outono.txt (deflated 93%)\r\n",
      "updating: arq_Maio_Outono.txt (deflated 89%)\r\n",
      "updating: arq_Março_Verão.txt (deflated 93%)\r\n",
      "updating: arq_Novembro_Primavera.txt (deflated 84%)\r\n",
      "updating: arq_Outubro_Primavera.txt (deflated 94%)\r\n",
      "updating: arq_Setembro_Inverno.txt (deflated 93%)\r\n"
     ]
    },
    {
     "name": "stdout",
     "output_type": "stream",
     "text": [
      "updating: arq_Abril_Outono.txt (deflated 84%)\r\n",
      "updating: arq_Agosto_Inverno.txt (deflated 93%)\r\n",
      "updating: arq_Dezembro_Primavera.txt (deflated 92%)\r\n",
      "updating: arq_Fevereiro_Verão.txt (deflated 92%)\r\n",
      "updating: arq_Janeiro_Verão.txt (deflated 93%)\r\n",
      "updating: arq_Julho_Inverno.txt (deflated 89%)\r\n",
      "updating: arq_Junho_Outono.txt (deflated 93%)\r\n",
      "updating: arq_Maio_Outono.txt (deflated 89%)\r\n",
      "updating: arq_Março_Verão.txt (deflated 93%)\r\n",
      "updating: arq_Novembro_Primavera.txt (deflated 84%)\r\n",
      "updating: arq_Outubro_Primavera.txt (deflated 94%)\r\n",
      "updating: arq_Setembro_Inverno.txt (deflated 93%)\r\n"
     ]
    }
   ],
   "source": [
    "#Exercicio 4 Crie 12 arquivos, chamados de 'arq_mes_estação.txt'. Cada um deles contendo a frase: \"A minha estação predileta é 'estação', especialmente 'mês'\" repetida um número aleatório de vezes, entre 5 e 20. Comprima essas arquivos usando o comando gzip. Faça isso utilizando o conceito de dicionários.\n",
    "import random\n",
    "mes = [\"Janeiro\",\"Fevereiro\",\"Março\",\"Abril\",\"Maio\",\"Junho\",\"Julho\",\"Agosto\",\"Setembro\",\"Outubro\",\"Novembro\",\"Dezembro\"]\n",
    "esta = [\"Verão\",\"Outono\",\"Inverno\",\"Primavera\"]\n",
    "\n",
    "for i in range (12):\n",
    "    if 0 <=i <3:\n",
    "        n=0\n",
    "    elif 3 <=i <6:\n",
    "        n=1\n",
    "    elif 6<=i <9:\n",
    "        n=2\n",
    "    else:\n",
    "        n=3\n",
    "    ar = open(\"arq_\"+str(mes[i])+\"_\"+str(esta[n])+\".txt\",\"w\")\n",
    "    ar.write (random.randint(5,20)*(\"A minha estação predileta é \"+str(esta[n])+\", especialmente \"+str(mes[i])+\"\\n\"))\n",
    "    ar.close()\n",
    "    !zip file.zip ar*.txt"
   ]
  },
  {
   "cell_type": "code",
   "execution_count": 0,
   "metadata": {
    "collapsed": false
   },
   "outputs": [
   ],
   "source": [
    "##Exercício 6 Passo 1: Gere um arquivo com 10 notas de cinco alunos (Deve conter o nome do aluno e as notas). Passo 2: Em seguida crie uma array em numpy com essas notas. Passo 3: Crie um DataFrame dessas notas. Passo 4: Identifique qual menor nota e quem foi o aluno que obteve essa nota Passo 5: Identifique o aluno que tirou as melhores notas.\n",
    "\n"
   ]
  }
 ],
 "metadata": {
  "kernelspec": {
   "display_name": "Python 2 (SageMath)",
   "language": "python",
   "name": "python2"
  },
  "language_info": {
   "codemirror_mode": {
    "name": "ipython",
    "version": 2
   },
   "file_extension": ".py",
   "mimetype": "text/x-python",
   "name": "python",
   "nbconvert_exporter": "python",
   "pygments_lexer": "ipython2",
   "version": "2.7.13"
  }
 },
 "nbformat": 4,
 "nbformat_minor": 0
}