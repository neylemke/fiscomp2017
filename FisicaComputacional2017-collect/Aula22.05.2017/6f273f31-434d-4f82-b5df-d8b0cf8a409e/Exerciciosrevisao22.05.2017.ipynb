{
 "cells": [
  {
   "cell_type": "markdown",
   "metadata": {
    "collapsed": false
   },
   "source": [
    "#### Exercicio 1\n",
    "\n",
    "- Gere uma lista com 100 números aleatórios, em seguida o aluno deverá deverá encontrar os intervalos médios dos elementos da lista."
   ]
  },
  {
   "cell_type": "code",
   "execution_count": 38,
   "metadata": {
    "collapsed": false
   },
   "outputs": [
    {
     "data": {
      "text/plain": [
       "[1,\n",
       " 69,\n",
       " 24,\n",
       " 92,\n",
       " 20,\n",
       " 25,\n",
       " 83,\n",
       " 31,\n",
       " 62,\n",
       " 50,\n",
       " 71,\n",
       " 65,\n",
       " 79,\n",
       " 11,\n",
       " 96,\n",
       " 35,\n",
       " 58,\n",
       " 33,\n",
       " 63,\n",
       " 9,\n",
       " 86,\n",
       " 30,\n",
       " 91,\n",
       " 39,\n",
       " 52,\n",
       " 22,\n",
       " 6,\n",
       " 94,\n",
       " 55,\n",
       " 34,\n",
       " 36,\n",
       " 4,\n",
       " 43,\n",
       " 53,\n",
       " 77,\n",
       " 78,\n",
       " 75,\n",
       " 29,\n",
       " 54,\n",
       " 82,\n",
       " 2,\n",
       " 48,\n",
       " 57,\n",
       " 15,\n",
       " 90,\n",
       " 68,\n",
       " 73,\n",
       " 19,\n",
       " 26,\n",
       " 41,\n",
       " 89,\n",
       " 70,\n",
       " 3,\n",
       " 13,\n",
       " 66,\n",
       " 14,\n",
       " 28,\n",
       " 21,\n",
       " 64,\n",
       " 0,\n",
       " 47,\n",
       " 59,\n",
       " 12,\n",
       " 16,\n",
       " 46,\n",
       " 56,\n",
       " 93,\n",
       " 44,\n",
       " 87,\n",
       " 5,\n",
       " 27,\n",
       " 97,\n",
       " 38,\n",
       " 76,\n",
       " 37,\n",
       " 80,\n",
       " 84,\n",
       " 23,\n",
       " 95,\n",
       " 99,\n",
       " 18,\n",
       " 85,\n",
       " 32,\n",
       " 51,\n",
       " 45,\n",
       " 67,\n",
       " 74,\n",
       " 17,\n",
       " 40,\n",
       " 72,\n",
       " 88,\n",
       " 81,\n",
       " 10,\n",
       " 61,\n",
       " 98,\n",
       " 8,\n",
       " 60,\n",
       " 49,\n",
       " 7,\n",
       " 42]"
      ]
     },
     "execution_count": 38,
     "metadata": {
     },
     "output_type": "execute_result"
    }
   ],
   "source": [
    "import random \n",
    "lista= random.sample(range(0, 100), 100)\n",
    "lista\n"
   ]
  },
  {
   "cell_type": "code",
   "execution_count": 0,
   "metadata": {
    "collapsed": false
   },
   "outputs": [
   ],
   "source": [
    "imedio=[]\n",
    "\n",
    "for i in range(0,99):\n",
    "    imedio.append((lista[i]+lista[i+1])/2.)\n",
    "\n",
    "print imedio"
   ]
  },
  {
   "cell_type": "markdown",
   "metadata": {
    "collapsed": false
   },
   "source": [
    "#### Exercicio 2\n",
    "Faça um programa que leia um número indeterminado de valores, correspondentes a notas, encerrando a entrada de dados quando for informado um valor igual a -1 (que não deve ser armazenado). Após esta entrada de dados, faça:\n",
    "- Mostre a quantidade de valores que foram lidos; (ok)\n",
    "- Exiba todos os valores na ordem em que foram informados, um ao lado do outro; (ok)\n",
    "- Exiba todos os valores na ordem inversa à que foram informados, um abaixo do outro; (não feito)\n",
    "- Calcule e mostre a soma dos valores; (ok)\n",
    "- Calcule e mostre a média dos valores; (ok)\n",
    "- Calcule e mostre a quantidade de valores acima da média calculada; (ok)\n",
    "- Calcule e mostre a quantidade de valores abaixo de sete; (ok)\n",
    "- Encerre o programa com uma mensagem; (ok)"
   ]
  },
  {
   "cell_type": "code",
   "execution_count": 2,
   "metadata": {
    "cocalc": {
     "outputs": {
      "0": {
       "name": "input",
       "opts": {
        "password": false,
        "prompt": "Insira as notas dos alunos"
       },
       "output_type": "stream",
       "value": "5.5"
      },
      "1": {
       "name": "input",
       "opts": {
        "password": false,
        "prompt": "Insira as notas dos alunos"
       },
       "output_type": "stream",
       "value": "9"
      },
      "2": {
       "name": "input",
       "opts": {
        "password": false,
        "prompt": "Insira as notas dos alunos"
       },
       "output_type": "stream",
       "value": "3.6"
      },
      "3": {
       "name": "input",
       "opts": {
        "password": false,
        "prompt": "Insira as notas dos alunos"
       },
       "output_type": "stream",
       "value": "8.7"
      },
      "4": {
       "name": "input",
       "opts": {
        "password": false,
        "prompt": "Insira as notas dos alunos"
       },
       "output_type": "stream",
       "value": "0.5"
      },
      "5": {
       "name": "input",
       "opts": {
        "password": false,
        "prompt": "Insira as notas dos alunos"
       },
       "output_type": "stream",
       "value": "-1"
      }
     }
    },
    "collapsed": false
   },
   "outputs": [
    {
     "name": "stdout",
     "output_type": "stream",
     "text": "Insira as notas dos alunos 5.5"
    },
    {
     "name": "stdout",
     "output_type": "stream",
     "text": "Insira as notas dos alunos 9"
    },
    {
     "name": "stdout",
     "output_type": "stream",
     "text": "Insira as notas dos alunos 3.6"
    },
    {
     "name": "stdout",
     "output_type": "stream",
     "text": "Insira as notas dos alunos 8.7"
    },
    {
     "name": "stdout",
     "output_type": "stream",
     "text": "Insira as notas dos alunos 0.5"
    },
    {
     "name": "stdout",
     "output_type": "stream",
     "text": "Insira as notas dos alunos -1"
    }
   ],
   "source": [
    "    nota= input('Insira as notas dos alunos')\n",
    "n=[]\n",
    "n.append(nota)\n",
    "while nota !=(-1):\n",
    "    nota= input('Insira as notas dos alunos')\n",
    "    n.append(nota)\n",
    "    if nota == -1:\n",
    "        n.remove(nota)\n",
    "        break;"
   ]
  },
  {
   "cell_type": "code",
   "execution_count": 3,
   "metadata": {
    "collapsed": false
   },
   "outputs": [
    {
     "name": "stdout",
     "output_type": "stream",
     "text": [
      "A quantidade de valores lidos foram: 5\n"
     ]
    }
   ],
   "source": [
    "print 'A quantidade de valores lidos foram:', len(n)"
   ]
  },
  {
   "cell_type": "code",
   "execution_count": 4,
   "metadata": {
    "collapsed": false
   },
   "outputs": [
    {
     "name": "stdout",
     "output_type": "stream",
     "text": [
      "[5.5, 9, 3.6, 8.7, 0.5]\n"
     ]
    }
   ],
   "source": [
    "import numpy as np\n",
    "print n"
   ]
  },
  {
   "cell_type": "code",
   "execution_count": 5,
   "metadata": {
    "collapsed": false
   },
   "outputs": [
    {
     "name": "stdout",
     "output_type": "stream",
     "text": [
      "[ 5.5  9.   3.6  8.7  0.5]\n"
     ]
    }
   ],
   "source": [
    "print np.ravel(n)"
   ]
  },
  {
   "cell_type": "code",
   "execution_count": 6,
   "metadata": {
    "collapsed": false
   },
   "outputs": [
    {
     "data": {
      "text/plain": [
       "' 5.5 9 3.6 8.7 0.5 '"
      ]
     },
     "execution_count": 6,
     "metadata": {
     },
     "output_type": "execute_result"
    }
   ],
   "source": [
    "\n",
    "strn=\" \"\n",
    "for i in n:\n",
    "    strn = strn+str(i)+\" \"\n",
    "strn"
   ]
  },
  {
   "cell_type": "code",
   "execution_count": 8,
   "metadata": {
    "collapsed": false
   },
   "outputs": [
    {
     "name": "stdout",
     "output_type": "stream",
     "text": [
      "\n",
      "0.5\n",
      "8.7\n",
      "3.6\n",
      "9\n",
      "5.5 \n"
     ]
    }
   ],
   "source": [
    "#precisa ser inverso!!\n",
    "strn=\" \"\n",
    "for i in n:\n",
    "    strn = \"\\n\"+str(i)+strn\n",
    "print strn"
   ]
  },
  {
   "cell_type": "code",
   "execution_count": 9,
   "metadata": {
    "collapsed": false
   },
   "outputs": [
    {
     "name": "stdout",
     "output_type": "stream",
     "text": [
      "A soma dos valores de [5.5, 9, 3.6, 8.7, 0.5] é: 27.3\n"
     ]
    }
   ],
   "source": [
    "soma=sum(n)\n",
    "print 'A soma dos valores de' , n, 'é:', soma"
   ]
  },
  {
   "cell_type": "code",
   "execution_count": 10,
   "metadata": {
    "collapsed": false
   },
   "outputs": [
    {
     "name": "stdout",
     "output_type": "stream",
     "text": [
      "A média dos valores de [5.5, 9, 3.6, 8.7, 0.5] é: 5.46\n"
     ]
    }
   ],
   "source": [
    "media= soma/len(n)\n",
    "print 'A média dos valores de', n, 'é:', media"
   ]
  },
  {
   "cell_type": "code",
   "execution_count": 11,
   "metadata": {
    "collapsed": false
   },
   "outputs": [
    {
     "name": "stdout",
     "output_type": "stream",
     "text": [
      "5.5\n",
      "9\n",
      "8.7\n"
     ]
    }
   ],
   "source": [
    "for elem in n:\n",
    "    if elem> media:\n",
    "        print elem"
   ]
  },
  {
   "cell_type": "code",
   "execution_count": 12,
   "metadata": {
    "collapsed": false
   },
   "outputs": [
    {
     "name": "stdout",
     "output_type": "stream",
     "text": [
      "5.5\n",
      "3.6\n",
      "0.5\n"
     ]
    }
   ],
   "source": [
    "for elem in n:\n",
    "    if elem<7:\n",
    "        print elem"
   ]
  },
  {
   "cell_type": "code",
   "execution_count": 13,
   "metadata": {
    "collapsed": false
   },
   "outputs": [
    {
     "name": "stdout",
     "output_type": "stream",
     "text": [
      "O programa termina aqui. Até mais e obrigado pelos peixes!\n"
     ]
    }
   ],
   "source": [
    "print 'O programa termina aqui. Até mais e obrigado pelos peixes!'"
   ]
  },
  {
   "cell_type": "markdown",
   "metadata": {
    "collapsed": false
   },
   "source": [
    "#### Exercicio 3\n",
    "- Calcule as raízes da equação do 2◦ grau ($Ax^2 + Bx + C = 0$) sendo os valores de A, B e C fornecidos pelo usuário, levando em consideração a existência de raízes complexas.**"
   ]
  },
  {
   "cell_type": "code",
   "execution_count": 89,
   "metadata": {
    "cocalc": {
     "outputs": {
      "0": {
       "name": "input",
       "opts": {
        "password": false,
        "prompt": "Insira A: "
       },
       "output_type": "stream",
       "value": "2"
      },
      "1": {
       "name": "input",
       "opts": {
        "password": false,
        "prompt": "Insira B: "
       },
       "output_type": "stream",
       "value": "2."
      },
      "2": {
       "name": "input",
       "opts": {
        "password": false,
        "prompt": "Insira C: "
       },
       "output_type": "stream",
       "value": "2.0"
      }
     }
    },
    "collapsed": false
   },
   "outputs": [
    {
     "name": "stdout",
     "output_type": "stream",
     "text": "Insira A:  2"
    },
    {
     "name": "stdout",
     "output_type": "stream",
     "text": "Insira B:  2."
    },
    {
     "name": "stdout",
     "output_type": "stream",
     "text": "Insira C:  2.0"
    }
   ],
   "source": [
    "A= float(input(\"Insira A: \"))\n",
    "B= float(input(\"Insira B: \") )\n",
    "C= float(input(\"Insira C: \"))\n"
   ]
  },
  {
   "cell_type": "code",
   "execution_count": 90,
   "metadata": {
    "cocalc": {
     "outputs": {
      "1": {
       "name": "input",
       "opts": {
        "password": false,
        "prompt": "Insira A: "
       },
       "output_type": "stream",
       "value": "2."
      },
      "10": {
       "name": "input",
       "opts": {
        "password": false,
        "prompt": "Insira B: "
       },
       "output_type": "stream",
       "value": "4"
      },
      "11": {
       "name": "input",
       "opts": {
        "password": false,
        "prompt": "Insira C: "
       },
       "output_type": "stream",
       "value": "5."
      },
      "13": {
       "name": "input",
       "opts": {
        "password": false,
        "prompt": "Insira A: "
       },
       "output_type": "stream",
       "value": "7."
      },
      "14": {
       "name": "input",
       "opts": {
        "password": false,
        "prompt": "Insira B: "
       },
       "output_type": "stream",
       "value": "4."
      },
      "15": {
       "name": "input",
       "opts": {
        "password": false,
        "prompt": "Insira C: "
       },
       "output_type": "stream",
       "value": "-3."
      },
      "2": {
       "name": "input",
       "opts": {
        "password": false,
        "prompt": "Insira B: "
       },
       "output_type": "stream",
       "value": "4.8"
      },
      "3": {
       "name": "input",
       "opts": {
        "password": false,
        "prompt": "Insira C: "
       },
       "output_type": "stream",
       "value": "9"
      },
      "5": {
       "name": "input",
       "opts": {
        "password": false,
        "prompt": "Insira A: "
       },
       "output_type": "stream",
       "value": "9."
      },
      "6": {
       "name": "input",
       "opts": {
        "password": false,
        "prompt": "Insira B: "
       },
       "output_type": "stream",
       "value": "-3"
      },
      "7": {
       "name": "input",
       "opts": {
        "password": false,
        "prompt": "Insira C: "
       },
       "output_type": "stream",
       "value": "2"
      },
      "8": {
       "name": "input",
       "opts": {
        "password": false,
        "prompt": "Insira A: "
       },
       "output_type": "stream"
      }
     }
    },
    "collapsed": false
   },
   "outputs": [
    {
     "name": "stdout",
     "output_type": "stream",
     "text": [
      "Delta menor que zero, raízes complexas. Por favor, insira outros valores de A, B e C: \n"
     ]
    },
    {
     "name": "stdout",
     "output_type": "stream",
     "text": "Insira A:  2."
    },
    {
     "name": "stdout",
     "output_type": "stream",
     "text": "Insira B:  4.8"
    },
    {
     "name": "stdout",
     "output_type": "stream",
     "text": "Insira C:  9"
    },
    {
     "name": "stdout",
     "output_type": "stream",
     "text": [
      "Delta menor que zero, raízes complexas. Por favor, insira outros valores de A, B e C: \n"
     ]
    },
    {
     "name": "stdout",
     "output_type": "stream",
     "text": "Insira A:  9."
    },
    {
     "name": "stdout",
     "output_type": "stream",
     "text": "Insira B:  -3"
    },
    {
     "name": "stdout",
     "output_type": "stream",
     "text": "Insira C:  2"
    },
    {
     "name": "stdout",
     "output_type": "stream",
     "text": "Insira A:  "
    },
    {
     "name": "stdout",
     "output_type": "stream",
     "text": [
      "Delta menor que zero, raízes complexas. Por favor, insira outros valores de A, B e C: \n"
     ],
     "value": "1."
    },
    {
     "name": "stdout",
     "output_type": "stream",
     "text": "Insira B:  4"
    },
    {
     "name": "stdout",
     "output_type": "stream",
     "text": "Insira C:  5."
    },
    {
     "name": "stdout",
     "output_type": "stream",
     "text": [
      "Delta menor que zero, raízes complexas. Por favor, insira outros valores de A, B e C: \n"
     ]
    },
    {
     "name": "stdout",
     "output_type": "stream",
     "text": "Insira A:  7."
    },
    {
     "name": "stdout",
     "output_type": "stream",
     "text": "Insira B:  4."
    },
    {
     "name": "stdout",
     "output_type": "stream",
     "text": "Insira C:  -3."
    },
    {
     "name": "stdout",
     "output_type": "stream",
     "text": [
      "x1: -0.214285714286\n",
      "x2: -0.357142857143\n"
     ]
    }
   ],
   "source": [
    "## from math import sqrt\n",
    "delta= (B**2)-4*A*C\n",
    "while delta<0:\n",
    "    print (\"Delta menor que zero, raízes complexas. Por favor, insira outros valores de A, B e C: \")\n",
    "    A= input(\"Insira A: \")\n",
    "    B= input(\"Insira B: \") \n",
    "    C= input(\"Insira C: \")\n",
    "    float(A), float(B), float(C)\n",
    "    delta= (B**2)-4*A*C\n",
    "\n",
    "x1= (-B+(delta)**(1/2))/(2*A)\n",
    "x2= (-B-(delta)**(1/2))/(2*A)\n",
    "print \"x1:\",x1\n",
    "print \"x2:\",x2  "
   ]
  },
  {
   "cell_type": "markdown",
   "metadata": {
    "collapsed": false
   },
   "source": [
    "#### Exercícios 4\n",
    "- Crie 12 arquivos, chamados de 'arq_mes_estação.txt'. Cada um deles contendo a frase: \"A minha estação predileta é 'estação', especialmente 'mês'\"  repetida um número aleatório de vezes, entre 5 e 20. Comprima essas arquivos usando o comando gzip. Faça isso utilizando o conceito de dicionários."
   ]
  },
  {
   "cell_type": "code",
   "execution_count": 23,
   "metadata": {
    "collapsed": false
   },
   "outputs": [
    {
     "name": "stdout",
     "output_type": "stream",
     "text": [
      "None\n"
     ]
    }
   ],
   "source": [
    "from random import randint\n",
    "with open('estacao12.txt','w') as f:\n",
    "    print (f.write(randint(5,20)*\"A minha estação preferida é Inverno, especialmente fevereiro \\n\"))"
   ]
  },
  {
   "cell_type": "code",
   "execution_count": 24,
   "metadata": {
    "collapsed": false
   },
   "outputs": [
    {
     "name": "stdout",
     "output_type": "stream",
     "text": [
      "arq_dezembro_inverno.txt  estacao2.txt\testacao8.txt\r\n",
      "arq_janeiero_inverno.txt  estacao3.txt\testacao9.txt\r\n",
      "Cronograma.ipynb\t  estacao4.txt\testacao.txt\r\n",
      "estacao10.txt\t\t  estacao5.txt\tExerciciosrevisao22.05.2017.ipynb\r\n",
      "estacao11.txt\t\t  estacao6.txt\tnotaealu\r\n",
      "estacao12.txt\t\t  estacao7.txt\tRevisão.ipynb\r\n"
     ]
    }
   ],
   "source": [
    "!ls "
   ]
  },
  {
   "cell_type": "code",
   "execution_count": 25,
   "metadata": {
    "collapsed": false
   },
   "outputs": [
   ],
   "source": [
    "!gzip estacao2.txt estacao8.txt arq_janeiero_inverno.txt  estacao3.txt estacao9.txt estacao4.txt estacao.txt estacao10.txt\t\t  estacao5.txt\n",
    "!gzip estacao11.txt  estacao6.txt\n",
    "!gzip estacao12.txt   estacao7.txt"
   ]
  },
  {
   "cell_type": "code",
   "execution_count": 26,
   "metadata": {
    "collapsed": false
   },
   "outputs": [
    {
     "name": "stdout",
     "output_type": "stream",
     "text": [
      "arq_dezembro_inverno.txt     estacao2.txt.gz  estacao8.txt.gz\r\n",
      "arq_janeiero_inverno.txt.gz  estacao3.txt.gz  estacao9.txt.gz\r\n",
      "Cronograma.ipynb\t     estacao4.txt.gz  estacao.txt.gz\r\n",
      "estacao10.txt.gz\t     estacao5.txt.gz  Exerciciosrevisao22.05.2017.ipynb\r\n",
      "estacao11.txt.gz\t     estacao6.txt.gz  notaealu\r\n",
      "estacao12.txt.gz\t     estacao7.txt.gz  Revisão.ipynb\r\n"
     ]
    }
   ],
   "source": [
    "!ls"
   ]
  },
  {
   "cell_type": "markdown",
   "metadata": {
    "collapsed": false
   },
   "source": [
    "#### Exercícios 5\n",
    "1. Com base nos dados de https://pt.wikipedia.org/wiki/Lista_de_epis%C3%B3dios_de_Pok%C3%A9mon Construa um  dataframe para armazenar \n",
    "as informações sobre os episódios de Pokemon, contendo: \n",
    "- Série\n",
    "- Geração\n",
    "- Temporada\n",
    "- Primeiro Episódio\n",
    "- Último Episódio\n",
    "- Região\n",
    "2. Descubra qual a geração mais longeva\n",
    "3. Descubra quantas temporadas durou cada série"
   ]
  },
  {
   "cell_type": "code",
   "execution_count": 27,
   "metadata": {
    "collapsed": false
   },
   "outputs": [
    {
     "data": {
      "text/html": [
       "<div>\n",
       "<table border=\"1\" class=\"dataframe\">\n",
       "  <thead>\n",
       "    <tr style=\"text-align: right;\">\n",
       "      <th></th>\n",
       "      <th>Série</th>\n",
       "      <th>Geração</th>\n",
       "      <th>Temporada</th>\n",
       "      <th>Primeiro Episódio</th>\n",
       "      <th>Último Episódio</th>\n",
       "      <th>Região</th>\n",
       "    </tr>\n",
       "  </thead>\n",
       "  <tbody>\n",
       "    <tr>\n",
       "      <th>0</th>\n",
       "      <td>Série Original</td>\n",
       "      <td>Primeira</td>\n",
       "      <td>Liga Indigo</td>\n",
       "      <td>1</td>\n",
       "      <td>83</td>\n",
       "      <td>Kanto</td>\n",
       "    </tr>\n",
       "    <tr>\n",
       "      <th>1</th>\n",
       "      <td>Série Original</td>\n",
       "      <td>Primeira</td>\n",
       "      <td>As Aventuras nas Ilhas Laranja</td>\n",
       "      <td>84</td>\n",
       "      <td>118</td>\n",
       "      <td>Ilhas Laranja</td>\n",
       "    </tr>\n",
       "    <tr>\n",
       "      <th>2</th>\n",
       "      <td>Série Original</td>\n",
       "      <td>Segunda</td>\n",
       "      <td>A Jornada Johto</td>\n",
       "      <td>119</td>\n",
       "      <td>159</td>\n",
       "      <td>Johto</td>\n",
       "    </tr>\n",
       "    <tr>\n",
       "      <th>3</th>\n",
       "      <td>Série Original</td>\n",
       "      <td>Segunda</td>\n",
       "      <td>Campeões da Liga Johto</td>\n",
       "      <td>160</td>\n",
       "      <td>211</td>\n",
       "      <td>Johto</td>\n",
       "    </tr>\n",
       "    <tr>\n",
       "      <th>4</th>\n",
       "      <td>Série Original</td>\n",
       "      <td>Segunda</td>\n",
       "      <td>Master Quest</td>\n",
       "      <td>212</td>\n",
       "      <td>276</td>\n",
       "      <td>Johto</td>\n",
       "    </tr>\n",
       "    <tr>\n",
       "      <th>5</th>\n",
       "      <td>Geração Avançada</td>\n",
       "      <td>Terceira</td>\n",
       "      <td>Pokémon: Avançado</td>\n",
       "      <td>277</td>\n",
       "      <td>316</td>\n",
       "      <td>Hoenn</td>\n",
       "    </tr>\n",
       "    <tr>\n",
       "      <th>6</th>\n",
       "      <td>Geração Avançada</td>\n",
       "      <td>Terceira</td>\n",
       "      <td>Desafio Avançado</td>\n",
       "      <td>317</td>\n",
       "      <td>368</td>\n",
       "      <td>Hoenn</td>\n",
       "    </tr>\n",
       "    <tr>\n",
       "      <th>7</th>\n",
       "      <td>Geração Avançada</td>\n",
       "      <td>Terceira</td>\n",
       "      <td>Batalha Avançada</td>\n",
       "      <td>369</td>\n",
       "      <td>421</td>\n",
       "      <td>Hoenn</td>\n",
       "    </tr>\n",
       "    <tr>\n",
       "      <th>8</th>\n",
       "      <td>Geração Avançada</td>\n",
       "      <td>Terceira</td>\n",
       "      <td>Batalha da Fronteira</td>\n",
       "      <td>422</td>\n",
       "      <td>468</td>\n",
       "      <td>Kanto</td>\n",
       "    </tr>\n",
       "    <tr>\n",
       "      <th>9</th>\n",
       "      <td>Diamante e Pérola</td>\n",
       "      <td>Quarta</td>\n",
       "      <td>Diamante e Pérola</td>\n",
       "      <td>469</td>\n",
       "      <td>520</td>\n",
       "      <td>Sinnoh</td>\n",
       "    </tr>\n",
       "    <tr>\n",
       "      <th>10</th>\n",
       "      <td>Diamante e Pérola</td>\n",
       "      <td>Quarta</td>\n",
       "      <td>Batalha Dimensional</td>\n",
       "      <td>521</td>\n",
       "      <td>572</td>\n",
       "      <td>Sinnoh</td>\n",
       "    </tr>\n",
       "    <tr>\n",
       "      <th>11</th>\n",
       "      <td>Diamante e Pérola</td>\n",
       "      <td>Quarta</td>\n",
       "      <td>Batalhas Galácticas</td>\n",
       "      <td>573</td>\n",
       "      <td>625</td>\n",
       "      <td>Sinnoh</td>\n",
       "    </tr>\n",
       "    <tr>\n",
       "      <th>12</th>\n",
       "      <td>Diamante e Pérola</td>\n",
       "      <td>Quarta</td>\n",
       "      <td>Vencedores da Liga Sinnoh</td>\n",
       "      <td>626</td>\n",
       "      <td>659</td>\n",
       "      <td>Sinnoh</td>\n",
       "    </tr>\n",
       "    <tr>\n",
       "      <th>13</th>\n",
       "      <td>Preto e Branco</td>\n",
       "      <td>Quinta</td>\n",
       "      <td>Preto e Branco</td>\n",
       "      <td>660</td>\n",
       "      <td>707</td>\n",
       "      <td>Unova</td>\n",
       "    </tr>\n",
       "    <tr>\n",
       "      <th>14</th>\n",
       "      <td>Preto e Branco</td>\n",
       "      <td>Quinta</td>\n",
       "      <td>Destinos Rivais</td>\n",
       "      <td>708</td>\n",
       "      <td>756</td>\n",
       "      <td>Unova</td>\n",
       "    </tr>\n",
       "    <tr>\n",
       "      <th>15</th>\n",
       "      <td>Preto e Branco</td>\n",
       "      <td>Quinta</td>\n",
       "      <td>Aventuras em Unova (e Mais Além)</td>\n",
       "      <td>757</td>\n",
       "      <td>803</td>\n",
       "      <td>Unova</td>\n",
       "    </tr>\n",
       "    <tr>\n",
       "      <th>16</th>\n",
       "      <td>XY</td>\n",
       "      <td>Sexta</td>\n",
       "      <td>A Série XY</td>\n",
       "      <td>804</td>\n",
       "      <td>852</td>\n",
       "      <td>Kalos</td>\n",
       "    </tr>\n",
       "    <tr>\n",
       "      <th>17</th>\n",
       "      <td>XY</td>\n",
       "      <td>Sexta</td>\n",
       "      <td>Kalos Quest</td>\n",
       "      <td>853</td>\n",
       "      <td>897</td>\n",
       "      <td>Kalos</td>\n",
       "    </tr>\n",
       "    <tr>\n",
       "      <th>18</th>\n",
       "      <td>XY</td>\n",
       "      <td>Sexta</td>\n",
       "      <td>XY &amp; Z</td>\n",
       "      <td>898</td>\n",
       "      <td>946</td>\n",
       "      <td>Kalos</td>\n",
       "    </tr>\n",
       "    <tr>\n",
       "      <th>19</th>\n",
       "      <td>Sun and Moon</td>\n",
       "      <td>Sétima</td>\n",
       "      <td>Sun and Moon</td>\n",
       "      <td>947</td>\n",
       "      <td>Não tem</td>\n",
       "      <td>Alola</td>\n",
       "    </tr>\n",
       "  </tbody>\n",
       "</table>\n",
       "</div>"
      ]
     },
     "execution_count": 27,
     "metadata": {
     },
     "output_type": "execute_result"
    }
   ],
   "source": [
    "import pandas as pd\n",
    "\n",
    "#DataFrame\n",
    "data={\n",
    "'Série': ['Série Original','Série Original','Série Original','Série Original','Série Original','Geração Avançada','Geração Avançada',\n",
    "        'Geração Avançada','Geração Avançada','Diamante e Pérola','Diamante e Pérola','Diamante e Pérola',\n",
    "        'Diamante e Pérola','Preto e Branco','Preto e Branco','Preto e Branco','XY','XY','XY','Sun and Moon'],\n",
    "'Geração': ['Primeira','Primeira','Segunda','Segunda','Segunda','Terceira','Terceira','Terceira','Terceira',\n",
    "            'Quarta','Quarta','Quarta','Quarta','Quinta','Quinta','Quinta','Sexta','Sexta','Sexta','Sétima'],\n",
    "'Temporada': ['Liga Indigo', 'As Aventuras nas Ilhas Laranja','A Jornada Johto','Campeões da Liga Johto','Master Quest','Pokémon: Avançado',\n",
    "      'Desafio Avançado','Batalha Avançada','Batalha da Fronteira','Diamante e Pérola','Batalha Dimensional','Batalhas Galácticas',\n",
    "     'Vencedores da Liga Sinnoh','Preto e Branco','Destinos Rivais', 'Aventuras em Unova (e Mais Além)','A Série XY','Kalos Quest','XY & Z',\n",
    "      'Sun and Moon'],\n",
    "'Primeiro Episódio': [1,84,119,160,212,277,317,369,422, 469,521,573,626,660,708,757,804,853,898,947] ,\n",
    "'Último Episódio': [83,118,159,211,276,316,368,421,468,520,572,625,659,707,756,803,852,897,946,'Não tem'],\n",
    "\n",
    "'Região': ['Kanto','Ilhas Laranja','Johto','Johto','Johto','Hoenn','Hoenn','Hoenn','Kanto','Sinnoh','Sinnoh','Sinnoh','Sinnoh','Unova','Unova',\n",
    "           'Unova','Kalos','Kalos','Kalos','Alola']}\n",
    "\n",
    "df = pd.DataFrame(data, columns=['Série','Geração','Temporada','Primeiro Episódio','Último Episódio','Região'])\n",
    "df"
   ]
  },
  {
   "cell_type": "code",
   "execution_count": 28,
   "metadata": {
    "collapsed": false
   },
   "outputs": [
    {
     "name": "stdout",
     "output_type": "stream",
     "text": [
      "A geração mais longeva é a Terceira com 192 episódios\n"
     ]
    }
   ],
   "source": [
    "prim=0\n",
    "seg=0\n",
    "ter=0\n",
    "qua=0\n",
    "qui=0\n",
    "sex=0\n",
    "\n",
    "for i in range(19):\n",
    "    if df.ix[i]['Geração']== 'Primeira':\n",
    "        prim= prim+df['Último Episódio'][i]-df['Primeiro Episódio'][i]+1\n",
    "    if df.ix[i]['Geração']== 'Segunda':\n",
    "        seg= seg+df['Último Episódio'][i]-df['Primeiro Episódio'][i]+1\n",
    "    if df.ix[i]['Geração']== 'Terceira':\n",
    "        ter= ter+df['Último Episódio'][i]-df['Primeiro Episódio'][i]+1\n",
    "    if df.ix[i]['Geração']== 'Quarta':\n",
    "         qua= qua+df['Último Episódio'][i]-df['Primeiro Episódio'][i]+1\n",
    "    if df.ix[i]['Geração']== 'Quinta':\n",
    "         qui= qui+df['Último Episódio'][i]-df['Primeiro Episódio'][i]+1\n",
    "    if df.ix[i]['Geração']== 'Sexta':\n",
    "         sex= sex+df['Último Episódio'][i]-df['Primeiro Episódio'][i]+1\n",
    "epis=[prim,seg,ter,qua,qui,sex]\n",
    "temps={'Primeira':prim,'Segunda':seg,'Terceira':ter,'Quarta':qua,'Quinta':qui,'Sexta':sex}\n",
    "gerlongeva= max(temps)\n",
    "\n",
    "for elem in epis:\n",
    "    #print elem\n",
    "    if elem==max(epis):\n",
    "        print 'A geração mais longeva é a', gerlongeva, 'com', elem, 'episódios' "
   ]
  },
  {
   "cell_type": "code",
   "execution_count": 29,
   "metadata": {
    "collapsed": false
   },
   "outputs": [
    {
     "name": "stdout",
     "output_type": "stream",
     "text": [
      "A Série Original durou 5 temporadas\n",
      "A Geração Avançada durou 4 temporadas\n",
      "Diamante e Pérola durou 4 temporadas\n",
      "Preto e Branco durou 3 temporadas\n",
      "XY durou 3 temporadas\n",
      "Sun and Moon durou 1 temporada\n"
     ]
    }
   ],
   "source": [
    "print 'A Série Original durou', len([elem for elem in df['Série'] if elem == 'Série Original']) , 'temporadas'\n",
    "print 'A Geração Avançada durou', len([elem for elem in df['Série'] if elem == 'Geração Avançada']), 'temporadas'\n",
    "print 'Diamante e Pérola durou', len([elem for elem in df['Série'] if elem == 'Diamante e Pérola']), 'temporadas'\n",
    "print 'Preto e Branco durou', len([elem for elem in df['Série'] if elem == 'Preto e Branco']), 'temporadas'\n",
    "print 'XY durou', len([elem for elem in df['Série'] if elem == 'XY']), 'temporadas'\n",
    "print 'Sun and Moon durou', len([elem for elem in df['Série'] if elem == 'Sun and Moon']), 'temporada'"
   ]
  },
  {
   "cell_type": "markdown",
   "metadata": {
    "collapsed": false
   },
   "source": [
    "#### Exercício 6\n",
    "- Passo 1: Gere um arquivo com 10 notas de cinco alunos (Deve conter o nome do aluno e as notas). (ok)\n",
    "- Passo 2: Em seguida crie uma array em numpy com essas notas. (ok)\n",
    "- Passo 3: Crie um DataFrame dessas notas. (ok)\n",
    "- Passo 4: Identifique qual menor nota e quem foi o aluno que obteve essa nota (ok)\n",
    "- Passo 5: Identifique o aluno que tirou as melhores notas. (ok)"
   ]
  },
  {
   "cell_type": "code",
   "execution_count": 282,
   "metadata": {
    "cocalc": {
     "outputs": {
      "0": {
       "name": "input",
       "opts": {
        "password": false,
        "prompt": "insira o nome do aluno"
       },
       "output_type": "stream",
       "value": "Vanessa"
      },
      "1": {
       "name": "input",
       "opts": {
        "password": false,
        "prompt": "insira o nome do aluno"
       },
       "output_type": "stream",
       "value": "Felipe"
      },
      "10": {
       "name": "input",
       "opts": {
        "password": false,
        "prompt": "Insira as notas aqui"
       },
       "output_type": "stream",
       "value": "4.2"
      },
      "11": {
       "name": "input",
       "opts": {
        "password": false,
        "prompt": "Insira as notas aqui"
       },
       "output_type": "stream",
       "value": "5.7"
      },
      "12": {
       "name": "input",
       "opts": {
        "password": false,
        "prompt": "Insira as notas aqui"
       },
       "output_type": "stream",
       "value": "6.1"
      },
      "13": {
       "name": "input",
       "opts": {
        "password": false,
        "prompt": "Insira as notas aqui"
       },
       "output_type": "stream",
       "value": "5.5"
      },
      "14": {
       "name": "input",
       "opts": {
        "password": false,
        "prompt": "Insira as notas aqui"
       },
       "output_type": "stream",
       "value": "4.9"
      },
      "2": {
       "name": "input",
       "opts": {
        "password": false,
        "prompt": "insira o nome do aluno"
       },
       "output_type": "stream",
       "value": "Elian"
      },
      "3": {
       "name": "input",
       "opts": {
        "password": false,
        "prompt": "insira o nome do aluno"
       },
       "output_type": "stream",
       "value": "Ana"
      },
      "4": {
       "name": "input",
       "opts": {
        "password": false,
        "prompt": "insira o nome do aluno"
       },
       "output_type": "stream",
       "value": "Joao"
      },
      "5": {
       "name": "input",
       "opts": {
        "password": false,
        "prompt": "Insira as notas aqui"
       },
       "output_type": "stream",
       "value": "10"
      },
      "6": {
       "name": "input",
       "opts": {
        "password": false,
        "prompt": "Insira as notas aqui"
       },
       "output_type": "stream",
       "value": "9"
      },
      "7": {
       "name": "input",
       "opts": {
        "password": false,
        "prompt": "Insira as notas aqui"
       },
       "output_type": "stream",
       "value": "8"
      },
      "8": {
       "name": "input",
       "opts": {
        "password": false,
        "prompt": "Insira as notas aqui"
       },
       "output_type": "stream",
       "value": "7"
      },
      "9": {
       "name": "input",
       "opts": {
        "password": false,
        "prompt": "Insira as notas aqui"
       },
       "output_type": "stream",
       "value": "3.4"
      }
     }
    },
    "collapsed": false
   },
   "outputs": [
    {
     "name": "stdout",
     "output_type": "stream",
     "text": "insira o nome do aluno Vanessa"
    },
    {
     "name": "stdout",
     "output_type": "stream",
     "text": "insira o nome do aluno Felipe"
    },
    {
     "name": "stdout",
     "output_type": "stream",
     "text": "insira o nome do aluno Elian"
    },
    {
     "name": "stdout",
     "output_type": "stream",
     "text": "insira o nome do aluno Ana"
    },
    {
     "name": "stdout",
     "output_type": "stream",
     "text": "insira o nome do aluno Joao"
    },
    {
     "name": "stdout",
     "output_type": "stream",
     "text": "Insira as notas aqui 10"
    },
    {
     "name": "stdout",
     "output_type": "stream",
     "text": "Insira as notas aqui 9"
    },
    {
     "name": "stdout",
     "output_type": "stream",
     "text": "Insira as notas aqui 8"
    },
    {
     "name": "stdout",
     "output_type": "stream",
     "text": "Insira as notas aqui 7"
    },
    {
     "name": "stdout",
     "output_type": "stream",
     "text": "Insira as notas aqui 3.4"
    },
    {
     "name": "stdout",
     "output_type": "stream",
     "text": "Insira as notas aqui 4.2"
    },
    {
     "name": "stdout",
     "output_type": "stream",
     "text": "Insira as notas aqui 5.7"
    },
    {
     "name": "stdout",
     "output_type": "stream",
     "text": "Insira as notas aqui 6.1"
    },
    {
     "name": "stdout",
     "output_type": "stream",
     "text": "Insira as notas aqui 5.5"
    },
    {
     "name": "stdout",
     "output_type": "stream",
     "text": "Insira as notas aqui 4.9"
    }
   ],
   "source": [
    "aluno=[]\n",
    "nota=[]\n",
    "for i in range(5):\n",
    "    aluno.append(raw_input ('insira o nome do aluno'))\n",
    "for i in aluno:\n",
    "    nota.append(input ('Insira as notas aqui'))\n",
    "    nota.append(input ('Insira as notas aqui'))\n"
   ]
  },
  {
   "cell_type": "code",
   "execution_count": 283,
   "metadata": {
    "collapsed": false
   },
   "outputs": [
    {
     "name": "stdout",
     "output_type": "stream",
     "text": [
      "[10, 9, 8, 7, 3.4, 4.2, 5.7, 6.1, 5.5, 4.9]\n",
      "['Vanessa', 'Felipe', 'Elian', 'Ana', 'Joao']\n"
     ]
    }
   ],
   "source": [
    "print nota\n",
    "print aluno\n"
   ]
  },
  {
   "cell_type": "code",
   "execution_count": 284,
   "metadata": {
    "collapsed": false
   },
   "outputs": [
    {
     "name": "stdout",
     "output_type": "stream",
     "text": [
      "Os alunos e suas respectivas notas são:\n",
      "[('Vanessa', [10, 9]), ('Felipe', [8, 7]), ('Elian', [3.4, 4.2]), ('Ana', [5.7, 6.1]), ('Joao', [5.5, 4.9])]\n"
     ]
    }
   ],
   "source": [
    "import pandas as pd\n",
    "notaal=range(9)\n",
    "for i in range(9):\n",
    "    notaal[i]=[nota[i],nota[i+1]]\n",
    "\n",
    "del notaal[1::2]\n",
    "\n",
    "notaealu=zip(aluno,notaal)\n",
    "print 'Os alunos e suas respectivas notas são:\\n', notaealu\n",
    "notss=str(notaealu)\n",
    "\n",
    "with open('notaealu','w')as arq:\n",
    "    arq.write(notss)"
   ]
  },
  {
   "cell_type": "code",
   "execution_count": 285,
   "metadata": {
    "collapsed": false
   },
   "outputs": [
    {
     "name": "stdout",
     "output_type": "stream",
     "text": [
      "[ 10.    9.    8.    7.    3.4   4.2   5.7   6.1   5.5   4.9]\n"
     ]
    }
   ],
   "source": [
    "import numpy as np\n",
    "nots=np.array(nota)\n",
    "print nots\n"
   ]
  },
  {
   "cell_type": "code",
   "execution_count": 405,
   "metadata": {
    "collapsed": false
   },
   "outputs": [
    {
     "name": "stdout",
     "output_type": "stream",
     "text": [
      "     Aluno       Notas\n",
      "0  Vanessa     [10, 9]\n",
      "1   Felipe      [8, 7]\n",
      "2    Elian  [3.4, 4.2]\n",
      "3      Ana  [5.7, 6.1]\n",
      "4     Joao  [5.5, 4.9]\n"
     ]
    },
    {
     "data": {
      "text/html": [
       "<div>\n",
       "<table border=\"1\" class=\"dataframe\">\n",
       "  <thead>\n",
       "    <tr style=\"text-align: right;\">\n",
       "      <th></th>\n",
       "      <th>Aluno</th>\n",
       "      <th>Maior nota</th>\n",
       "      <th>Menor nota</th>\n",
       "    </tr>\n",
       "  </thead>\n",
       "  <tbody>\n",
       "    <tr>\n",
       "      <th>0</th>\n",
       "      <td>Vanessa</td>\n",
       "      <td>10.0</td>\n",
       "      <td>9.0</td>\n",
       "    </tr>\n",
       "    <tr>\n",
       "      <th>1</th>\n",
       "      <td>Felipe</td>\n",
       "      <td>8.0</td>\n",
       "      <td>7.0</td>\n",
       "    </tr>\n",
       "    <tr>\n",
       "      <th>2</th>\n",
       "      <td>Elian</td>\n",
       "      <td>4.2</td>\n",
       "      <td>3.4</td>\n",
       "    </tr>\n",
       "    <tr>\n",
       "      <th>3</th>\n",
       "      <td>Ana</td>\n",
       "      <td>6.1</td>\n",
       "      <td>5.7</td>\n",
       "    </tr>\n",
       "    <tr>\n",
       "      <th>4</th>\n",
       "      <td>Joao</td>\n",
       "      <td>5.5</td>\n",
       "      <td>4.9</td>\n",
       "    </tr>\n",
       "  </tbody>\n",
       "</table>\n",
       "</div>"
      ]
     },
     "execution_count": 405,
     "metadata": {
     },
     "output_type": "execute_result"
    }
   ],
   "source": [
    "import pandas as pd \n",
    "df=pd.DataFrame(nots)\n",
    "dff=pd.DataFrame(notaealu)#,index=['Nota e Aluno', 'Nota e Aluno', 'Nota e Aluno', 'Nota e Aluno','Nota e Aluno'])\n",
    "dff['Aluno']=dff[0]\n",
    "dff['Notas']=dff[1]\n",
    "dff=dff.drop(0,axis=1)\n",
    "dff=dff.drop(1,axis=1)\n",
    "print dff\n",
    "dff['Maior nota']=[max(elem) for elem in notaal]\n",
    "dff['Menor nota']=[min(elem) for elem in notaal]\n",
    "dff=dff.drop('Notas', axis=1)\n",
    "dff"
   ]
  },
  {
   "cell_type": "code",
   "execution_count": 479,
   "metadata": {
    "collapsed": false
   },
   "outputs": [
    {
     "name": "stdout",
     "output_type": "stream",
     "text": [
      "O aluno com menor nota é: Elian e a nota é 3.4\n"
     ]
    }
   ],
   "source": [
    "for elem in dff['Menor nota']:\n",
    "    for i in range(len(dff['Menor nota'])):\n",
    "        if elem == dff['Menor nota'].min():\n",
    "            if dff.loc[i]['Menor nota']== dff['Menor nota'].min():\n",
    "                print 'O aluno com menor nota é:', dff.loc[i]['Aluno'], 'e a nota é', dff.loc[i]['Menor nota']\n",
    "           "
   ]
  },
  {
   "cell_type": "code",
   "execution_count": 482,
   "metadata": {
    "collapsed": false
   },
   "outputs": [
    {
     "name": "stdout",
     "output_type": "stream",
     "text": [
      "O aluno com maior nota é: Vanessa e a nota é 10.0\n"
     ]
    }
   ],
   "source": [
    "for elem in dff['Maior nota']:\n",
    "    for i in range(len(dff['Maior nota'])):\n",
    "        if elem == dff['Maior nota'].max():\n",
    "            if dff.loc[i]['Maior nota']== dff['Maior nota'].max():\n",
    "                print 'O aluno com maior nota é:', dff.loc[i]['Aluno'], 'e a nota é', dff.loc[i]['Maior nota']\n",
    "           "
   ]
  },
  {
   "cell_type": "markdown",
   "metadata": {
    "collapsed": false
   },
   "source": [
    "#### Exercicio 7\n",
    "- O Jogo da Vida (The Game of Life) é um autômato celular (cellular automaton) introduzido por John Horton Conway em 1970. Um automato celular consiste de uma rede de células. Cada célula pode estar em um número finito de estados, como morta ou viva. O “jogo” é na verdade uma simulação que permite observar a evolução de um processo a partir de uma certa condição inicial.\n",
    "- O jogo se desenvolve sobre uma matriz bi-dimensional que pode ser tão grande quanto se queira. Vamos chamar essa matriz de mapa. Cada posição ou célula do mapa pode estar vazia (= célula morta) ou ocupada por um agente (= célula viva). Cada posição possui também até 8 posições vizinhas: imediatamente acima, abaixo, aos lados e nas diagonais. Em um determinado instante, o mapa contém uma geração de agentes. A geração no instante seguinte é determinada segundo as regras abaixo:\n",
    "- Novos agentes nascem em células vazias que possuam exatamente 3 agentes vizinhos;\n",
    "- **Agentes com 2 ou 3 agentes vizinhos sobrevivem;**\n",
    "- **Agentes com menos de 2 agentes vizinhos morrem for falta de recursos;**\n",
    "- **Agentes com mais de 3 agentes vizinhos morrem por excesso de competição.**"
   ]
  },
  {
   "cell_type": "code",
   "execution_count": 52,
   "metadata": {
    "collapsed": false
   },
   "outputs": [
    {
     "name": "stdout",
     "output_type": "stream",
     "text": [
      "[[0 0 0 0 0 0]\n",
      " [0 0 0 1 0 0]\n",
      " [0 1 0 1 0 0]\n",
      " [0 0 1 1 0 0]\n",
      " [0 0 0 0 0 0]\n",
      " [0 0 0 0 0 0]]\n",
      "\n",
      "[[0 0 0 0 0 0]\n",
      " [0 0 0 0 0 0]\n",
      " [0 0 0 0 1 0]\n",
      " [0 0 1 0 1 0]\n",
      " [0 0 0 1 1 0]\n",
      " [0 0 0 0 0 0]]\n"
     ]
    }
   ],
   "source": [
    "import numpy as np\n",
    "\n",
    "def iterate_1(Z):\n",
    "    # Contagem vizinhança\n",
    "    N = np.zeros(Z.shape, int)\n",
    "    N[1:-1,1:-1] += (Z[0:-2,0:-2] + Z[0:-2,1:-1] + Z[0:-2,2:] +\n",
    "                     Z[1:-1,0:-2]                + Z[1:-1,2:] +\n",
    "                     Z[2:  ,0:-2] + Z[2:  ,1:-1] + Z[2:  ,2:])\n",
    "    N_ = N.ravel()\n",
    "    Z_ = Z.ravel()\n",
    "\n",
    "    # Aplicação das regras\n",
    "    R1 = np.argwhere( (Z_==1) & (N_ < 2) )\n",
    "    R2 = np.argwhere( (Z_==1) & (N_ > 3) )\n",
    "    R3 = np.argwhere( (Z_==1) & ((N_==2) | (N_==3)) )\n",
    "    R4 = np.argwhere( (Z_==0) & (N_==3) )\n",
    "\n",
    "    # Definir novos valores\n",
    "    Z_[R1] = 0\n",
    "    Z_[R2] = 0\n",
    "    Z_[R3] = Z_[R3]\n",
    "    Z_[R4] = 1\n",
    "\n",
    "    # Garantia de que as fronteiras permaneçam nulas\n",
    "    Z[0,:] = Z[-1,:] = Z[:,0] = Z[:,-1] = 0\n",
    "\n",
    "\n",
    "def iterate_2(Z):\n",
    "    # Contagem vizinhança\n",
    "    N = (Z[0:-2,0:-2] + Z[0:-2,1:-1] + Z[0:-2,2:] +\n",
    "         Z[1:-1,0:-2]                + Z[1:-1,2:] +\n",
    "         Z[2:  ,0:-2] + Z[2:  ,1:-1] + Z[2:  ,2:])\n",
    "\n",
    "    # Aplicação das regras\n",
    "    birth = (N==3) & (Z[1:-1,1:-1]==0)\n",
    "    survive = ((N==2) | (N==3)) & (Z[1:-1,1:-1]==1)\n",
    "    Z[...] = 0\n",
    "    Z[1:-1,1:-1][birth | survive] = 1\n",
    "    return Z\n",
    "\n",
    "\n",
    "Z = np.array([[0,0,0,0,0,0],\n",
    "              [0,0,0,1,0,0],\n",
    "              [0,1,0,1,0,0],\n",
    "              [0,0,1,1,0,0],\n",
    "              [0,0,0,0,0,0],\n",
    "              [0,0,0,0,0,0]])\n",
    "\n",
    "print Z\n",
    "print\n",
    "for i in range(4): iterate_2(Z)\n",
    "print Z\n"
   ]
  },
  {
   "cell_type": "code",
   "execution_count": 53,
   "metadata": {
    "collapsed": false
   },
   "outputs": [
   ],
   "source": [
    "\n",
    "#para muitos pontos, visualização gráfica\n"
   ]
  },
  {
   "cell_type": "code",
   "execution_count": 54,
   "metadata": {
    "collapsed": false
   },
   "outputs": [
   ],
   "source": [
    "for i in range(100): iterate_1(Z)"
   ]
  },
  {
   "cell_type": "code",
   "execution_count": 55,
   "metadata": {
    "collapsed": false
   },
   "outputs": [
    {
     "ename": "NameError",
     "evalue": "name 'U' is not defined",
     "output_type": "error",
     "traceback": [
      "\u001b[0;31m---------------------------------------------------------------------------\u001b[0m",
      "\u001b[0;31mNameError\u001b[0m                                 Traceback (most recent call last)",
      "\u001b[0;32m<ipython-input-55-0babbac62ff4>\u001b[0m in \u001b[0;36m<module>\u001b[0;34m()\u001b[0m\n\u001b[1;32m      6\u001b[0m \u001b[0mfig\u001b[0m\u001b[0;34m=\u001b[0m \u001b[0mplt\u001b[0m\u001b[0;34m.\u001b[0m\u001b[0mfigure\u001b[0m\u001b[0;34m(\u001b[0m\u001b[0mfigsize\u001b[0m\u001b[0;34m=\u001b[0m\u001b[0mfigsize\u001b[0m\u001b[0;34m,\u001b[0m \u001b[0mdpi\u001b[0m\u001b[0;34m=\u001b[0m\u001b[0mdpi\u001b[0m\u001b[0;34m,\u001b[0m \u001b[0mfacecolor\u001b[0m\u001b[0;34m=\u001b[0m\u001b[0;34m\"white\"\u001b[0m\u001b[0;34m)\u001b[0m\u001b[0;34m\u001b[0m\u001b[0m\n\u001b[1;32m      7\u001b[0m \u001b[0mfig\u001b[0m\u001b[0;34m.\u001b[0m\u001b[0madd_axes\u001b[0m\u001b[0;34m(\u001b[0m\u001b[0;34m[\u001b[0m\u001b[0;36m0.0\u001b[0m\u001b[0;34m,\u001b[0m \u001b[0;36m0.0\u001b[0m\u001b[0;34m,\u001b[0m \u001b[0;36m1.0\u001b[0m\u001b[0;34m,\u001b[0m \u001b[0;36m1.0\u001b[0m\u001b[0;34m]\u001b[0m\u001b[0;34m,\u001b[0m \u001b[0mframeon\u001b[0m\u001b[0;34m=\u001b[0m\u001b[0mFalse\u001b[0m\u001b[0;34m)\u001b[0m\u001b[0;34m\u001b[0m\u001b[0m\n\u001b[0;32m----> 8\u001b[0;31m \u001b[0mplt\u001b[0m\u001b[0;34m.\u001b[0m\u001b[0mimshow\u001b[0m\u001b[0;34m(\u001b[0m\u001b[0mU\u001b[0m\u001b[0;34m,\u001b[0m\u001b[0minterpolation\u001b[0m\u001b[0;34m=\u001b[0m\u001b[0;34m'nearest'\u001b[0m\u001b[0;34m,\u001b[0m \u001b[0mcmap\u001b[0m\u001b[0;34m=\u001b[0m\u001b[0mplt\u001b[0m\u001b[0;34m.\u001b[0m\u001b[0mcm\u001b[0m\u001b[0;34m.\u001b[0m\u001b[0mPurples\u001b[0m\u001b[0;34m)\u001b[0m\u001b[0;34m\u001b[0m\u001b[0m\n\u001b[0m\u001b[1;32m      9\u001b[0m \u001b[0mplt\u001b[0m\u001b[0;34m.\u001b[0m\u001b[0mxticks\u001b[0m\u001b[0;34m(\u001b[0m\u001b[0;34m[\u001b[0m\u001b[0;34m]\u001b[0m\u001b[0;34m)\u001b[0m\u001b[0;34m,\u001b[0m \u001b[0mplt\u001b[0m\u001b[0;34m.\u001b[0m\u001b[0myticks\u001b[0m\u001b[0;34m(\u001b[0m\u001b[0;34m[\u001b[0m\u001b[0;34m]\u001b[0m\u001b[0;34m)\u001b[0m\u001b[0;34m\u001b[0m\u001b[0m\n\u001b[1;32m     10\u001b[0m \u001b[0mplt\u001b[0m\u001b[0;34m.\u001b[0m\u001b[0mshow\u001b[0m\u001b[0;34m(\u001b[0m\u001b[0;34m)\u001b[0m\u001b[0;34m\u001b[0m\u001b[0m\n",
      "\u001b[0;31mNameError\u001b[0m: name 'U' is not defined"
     ]
    },
    {
     "data": {
      "image/png": "[encoded data removed]"
     }
    }
   ],
   "source": [
    "import matplotlib.pyplot as plt\n",
    "\n",
    "size = np.array(Z.shape)\n",
    "dpi = 72.0\n",
    "figsize= size[1]/float(dpi),size[0]/float(dpi)\n",
    "fig= plt.figure(figsize=figsize, dpi=dpi, facecolor=\"white\")\n",
    "fig.add_axes([0.0, 0.0, 1.0, 1.0], frameon=False)\n",
    "plt.imshow(U,interpolation='nearest', cmap=plt.cm.Purples)\n",
    "plt.xticks([]), plt.yticks([])\n",
    "plt.show()"
   ]
  },
  {
   "cell_type": "code",
   "execution_count": 56,
   "metadata": {
    "collapsed": false
   },
   "outputs": [
    {
     "data": {
      "image/png": "[encoded data removed]"
     }
    }
   ],
   "source": [
    "size = np.array(Z.shape)\n",
    "dpi = 72.0\n",
    "figsize= size[1]/float(dpi),size[0]/float(dpi)\n",
    "fig=plt.figure(figsize=figsize, dpi=dpi,facecolor=\"white\")\n",
    "fig.add_axes([0.0, 0.0, 1.0, 1.0], frameon=False)\n",
    "plt.imshow(Z,interpolation='nearest', cmap=plt.cm.gray_r)\n",
    "plt.xticks([]), plt.yticks([])\n",
    "plt.show()"
   ]
  },
  {
   "cell_type": "markdown",
   "metadata": {
    "collapsed": false
   },
   "source": [
    "#### Exercicio 8\n",
    "Considere um conjunto de 10 triplets descrevendo 10 triângulos (com vértices compartilhados), encontrar o conjunto de segmentos de linha única compondo todos os triângulos "
   ]
  },
  {
   "cell_type": "code",
   "execution_count": 0,
   "metadata": {
    "collapsed": false
   },
   "outputs": [
   ],
   "source": [
   ]
  }
 ],
 "metadata": {
  "kernelspec": {
   "display_name": "Python 2 (SageMath)",
   "language": "python",
   "name": "python2"
  },
  "language_info": {
   "codemirror_mode": {
    "name": "ipython",
    "version": 2
   },
   "file_extension": ".py",
   "mimetype": "text/x-python",
   "name": "python",
   "nbconvert_exporter": "python",
   "pygments_lexer": "ipython2",
   "version": "2.7.13"
  }
 },
 "nbformat": 4,
 "nbformat_minor": 0
}