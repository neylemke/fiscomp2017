{
 "cells": [
  {
   "cell_type": "markdown",
   "metadata": {
    "collapsed": false
   },
   "source": [
    "#### Exercício 1 - Gere uma lista com 100 números aleatórios, em seguida o aluno deverá deverá encontrar os intervalos médios dos elementos da lista.\n"
   ]
  },
  {
   "cell_type": "code",
   "execution_count": 12,
   "metadata": {
    "collapsed": false
   },
   "outputs": [
    {
     "name": "stdout",
     "output_type": "stream",
     "text": [
      "1: ([1] - [7])/2 = -3.0\n",
      "2: ([5] - [1])/2 = 2.0\n",
      "3: ([1] - [5])/2 = -2.0\n",
      "4: ([5] - [1])/2 = 2.0\n",
      "5: ([0] - [5])/2 = -2.5\n",
      "6: ([7] - [0])/2 = 3.5\n",
      "7: ([5] - [7])/2 = -1.0\n",
      "8: ([6] - [5])/2 = 0.5\n",
      "9: ([5] - [6])/2 = -0.5\n",
      "10: ([3] - [5])/2 = -1.0\n",
      "11: ([0] - [3])/2 = -1.5\n",
      "12: ([9] - [0])/2 = 4.5\n",
      "13: ([4] - [9])/2 = -2.5\n",
      "14: ([4] - [4])/2 = 0.0\n",
      "15: ([8] - [4])/2 = 2.0\n",
      "16: ([7] - [8])/2 = -0.5\n",
      "17: ([0] - [7])/2 = -3.5\n",
      "18: ([0] - [0])/2 = 0.0\n",
      "19: ([7] - [0])/2 = 3.5\n",
      "20: ([0] - [7])/2 = -3.5\n",
      "21: ([3] - [0])/2 = 1.5\n",
      "22: ([6] - [3])/2 = 1.5\n",
      "23: ([2] - [6])/2 = -2.0\n",
      "24: ([2] - [2])/2 = 0.0\n",
      "25: ([7] - [2])/2 = 2.5\n",
      "26: ([4] - [7])/2 = -1.5\n",
      "27: ([9] - [4])/2 = 2.5\n",
      "28: ([5] - [9])/2 = -2.0\n",
      "29: ([3] - [5])/2 = -1.0\n",
      "30: ([5] - [3])/2 = 1.0\n",
      "31: ([6] - [5])/2 = 0.5\n",
      "32: ([7] - [6])/2 = 0.5\n",
      "33: ([6] - [7])/2 = -0.5\n",
      "34: ([4] - [6])/2 = -1.0\n",
      "35: ([0] - [4])/2 = -2.0\n",
      "36: ([1] - [0])/2 = 0.5\n",
      "37: ([8] - [1])/2 = 3.5\n",
      "38: ([9] - [8])/2 = 0.5\n",
      "39: ([4] - [9])/2 = -2.5\n",
      "40: ([6] - [4])/2 = 1.0\n",
      "41: ([7] - [6])/2 = 0.5\n",
      "42: ([6] - [7])/2 = -0.5\n",
      "43: ([6] - [6])/2 = 0.0\n",
      "44: ([1] - [6])/2 = -2.5\n",
      "45: ([8] - [1])/2 = 3.5\n",
      "46: ([0] - [8])/2 = -4.0\n",
      "47: ([7] - [0])/2 = 3.5\n",
      "48: ([1] - [7])/2 = -3.0\n",
      "49: ([9] - [1])/2 = 4.0\n",
      "50: ([6] - [9])/2 = -1.5\n",
      "51: ([6] - [6])/2 = 0.0\n",
      "52: ([0] - [6])/2 = -3.0\n",
      "53: ([4] - [0])/2 = 2.0\n",
      "54: ([5] - [4])/2 = 0.5\n",
      "55: ([0] - [5])/2 = -2.5\n",
      "56: ([9] - [0])/2 = 4.5\n",
      "57: ([7] - [9])/2 = -1.0\n",
      "58: ([6] - [7])/2 = -0.5\n",
      "59: ([5] - [6])/2 = -0.5\n",
      "60: ([3] - [5])/2 = -1.0\n",
      "61: ([8] - [3])/2 = 2.5\n",
      "62: ([4] - [8])/2 = -2.0\n",
      "63: ([4] - [4])/2 = 0.0\n",
      "64: ([6] - [4])/2 = 1.0\n",
      "65: ([3] - [6])/2 = -1.5\n",
      "66: ([3] - [3])/2 = 0.0\n",
      "67: ([8] - [3])/2 = 2.5\n",
      "68: ([1] - [8])/2 = -3.5\n",
      "69: ([0] - [1])/2 = -0.5\n",
      "70: ([6] - [0])/2 = 3.0\n",
      "71: ([4] - [6])/2 = -1.0\n",
      "72: ([6] - [4])/2 = 1.0\n",
      "73: ([4] - [6])/2 = -1.0\n",
      "74: ([7] - [4])/2 = 1.5\n",
      "75: ([4] - [7])/2 = -1.5\n",
      "76: ([5] - [4])/2 = 0.5\n",
      "77: ([8] - [5])/2 = 1.5\n",
      "78: ([7] - [8])/2 = -0.5\n",
      "79: ([3] - [7])/2 = -2.0\n",
      "80: ([3] - [3])/2 = 0.0\n",
      "81: ([1] - [3])/2 = -1.0\n",
      "82: ([2] - [1])/2 = 0.5\n",
      "83: ([1] - [2])/2 = -0.5\n",
      "84: ([2] - [1])/2 = 0.5\n",
      "85: ([4] - [2])/2 = 1.0\n",
      "86: ([3] - [4])/2 = -0.5\n",
      "87: ([2] - [3])/2 = -0.5\n",
      "88: ([8] - [2])/2 = 3.0\n",
      "89: ([7] - [8])/2 = -0.5\n",
      "90: ([1] - [7])/2 = -3.0\n",
      "91: ([1] - [1])/2 = 0.0\n",
      "92: ([6] - [1])/2 = 2.5\n",
      "93: ([0] - [6])/2 = -3.0\n",
      "94: ([2] - [0])/2 = 1.0\n",
      "95: ([8] - [2])/2 = 3.0\n",
      "96: ([2] - [8])/2 = -3.0\n",
      "97: ([7] - [2])/2 = 2.5\n",
      "98: ([5] - [7])/2 = -1.0\n",
      "99: ([1] - [5])/2 = -2.0\n"
     ]
    }
   ],
   "source": [
    "import numpy as np\n",
    "\n",
    "v = np.int_(np.random.rand(100,1)*10)\n",
    "\n",
    "for i in range(len(v)-1):\n",
    "    print(str(i+1)+\": (\"+str(v[i+1])+\" - \"+str(v[i])+\")/2 = \"+str(float((v[i+1]-v[i])/2.0)))\n",
    "    \n",
    "    \n"
   ]
  },
  {
   "cell_type": "markdown",
   "metadata": {
    "collapsed": false
   },
   "source": [
    "#### Exercício 2 - Faça um programa que leia um número indeterminado de valores, correspondentes a notas, encerrando a entrada de dados quando for informado um valor igual a -1 (que não deve ser armazenado). Após esta entrada de dados, faça:\n",
    "\n",
    "- Mostre a quantidade de valores que foram lidos;\n",
    "- Exiba todos os valores na ordem em que foram informados, um ao lado do outro;\n",
    "- Exiba todos os valores na ordem inversa à que foram informados, um abaixo do outro;\n",
    "- Calcule e mostre a soma dos valores;\n",
    "- Calcule e mostre a média dos valores;\n",
    "- Calcule e mostre a quantidade de valores acima da média calculada;\n",
    "- Calcule e mostre a quantidade de valores abaixo de sete;\n",
    "- Encerre o programa com uma mensagem;\n",
    "\n"
   ]
  },
  {
   "cell_type": "code",
   "execution_count": 13,
   "metadata": {
    "cocalc": {
     "outputs": {
      "0": {
       "name": "input",
       "opts": {
        "password": false,
        "prompt": "Entre com o 1o. valor: "
       },
       "output_type": "stream",
       "value": "5"
      },
      "1": {
       "name": "input",
       "opts": {
        "password": false,
        "prompt": "Entre com o 2o. valor: "
       },
       "output_type": "stream",
       "value": "8"
      },
      "2": {
       "name": "input",
       "opts": {
        "password": false,
        "prompt": "Entre com o 3o. valor: "
       },
       "output_type": "stream",
       "value": "0"
      },
      "3": {
       "name": "input",
       "opts": {
        "password": false,
        "prompt": "Entre com o 4o. valor: "
       },
       "output_type": "stream",
       "value": "-4"
      },
      "4": {
       "name": "input",
       "opts": {
        "password": false,
        "prompt": "Entre com o 5o. valor: "
       },
       "output_type": "stream",
       "value": "-1"
      }
     }
    }
   },
   "outputs": [
    {
     "name": "stdout",
     "output_type": "stream",
     "text": "Entre com o 1o. valor:  5"
    },
    {
     "name": "stdout",
     "output_type": "stream",
     "text": "Entre com o 2o. valor:  8"
    },
    {
     "name": "stdout",
     "output_type": "stream",
     "text": "Entre com o 3o. valor:  0"
    },
    {
     "name": "stdout",
     "output_type": "stream",
     "text": "Entre com o 4o. valor:  -4"
    },
    {
     "name": "stdout",
     "output_type": "stream",
     "text": "Entre com o 5o. valor:  -1"
    },
    {
     "name": "stdout",
     "output_type": "stream",
     "text": [
      "Foram lidos 4 valores.\n",
      "Valores ordem direta: [5.0, 8.0, 0.0, -4.0]\n",
      "Valores ordem inversa: [-4.0, 0.0, 8.0, 5.0]\n",
      "Soma dos valores: 9.0\n",
      "Média dos valores: 2.25\n",
      "Quantidade de valores acima da media: [5.0, 8.0]\n",
      "Quantidade de valores abaixo da média: [5.0, 0.0, -4.0]\n",
      "\n",
      "Obrigado por utilizar este programa!\n"
     ]
    }
   ],
   "source": [
    "i = 1\n",
    "v = []\n",
    "while True:\n",
    "    value = float(input(\"Entre com o \"+str(i)+\"o. valor: \"))\n",
    "    if value != -1:\n",
    "        v.append(value)\n",
    "    else:\n",
    "        break\n",
    "    i = i + 1\n",
    "    \n",
    "def media(a):\n",
    "    return (sum(a)/len(a))\n",
    "\n",
    "\n",
    "def acmedia(a):\n",
    "    b = []\n",
    "    for i in range(len(a)):\n",
    "        if a[i] >= media(a):\n",
    "            b.append(a[i])\n",
    "    return b\n",
    "\n",
    "def abmedia(a):\n",
    "    b = []\n",
    "    for i in range(len(a)):\n",
    "        if a[i] < 7:\n",
    "            b.append(a[i])\n",
    "    return b\n",
    "            \n",
    "print(\"Foram lidos \"+str(len(v))+\" valores.\\nValores ordem direta: \"+str(v)+\"\\nValores ordem inversa: \"+str(v[::-1])+\"\\nSoma dos valores: \"+str(sum(v))+\"\\nMédia dos valores: \"+str(media(v))+\"\\nQuantidade de valores acima da media: \"+str(acmedia(v))+\"\\nQuantidade de valores abaixo da média: \"+str(abmedia(v))+\"\\n\\nObrigado por utilizar este programa!\")\n"
   ]
  },
  {
   "cell_type": "markdown",
   "metadata": {
    "collapsed": false
   },
   "source": [
    "#### Exercicio 3\n",
    "- Calcule as raízes da equação do 2◦ grau ($Ax^2 + Bx + C = 0$) sendo os valores de A, B e C fornecidos pelo usuário, levando em consideração a existência de raízes complexas.**"
   ]
  },
  {
   "cell_type": "code",
   "execution_count": 15,
   "metadata": {
    "cocalc": {
     "outputs": {
      "0": {
       "name": "input",
       "opts": {
        "password": false,
        "prompt": "Insira o valor de A: "
       },
       "output_type": "stream",
       "value": "1"
      },
      "1": {
       "name": "input",
       "opts": {
        "password": false,
        "prompt": "Insira o valor de B: "
       },
       "output_type": "stream",
       "value": "4"
      },
      "2": {
       "name": "input",
       "opts": {
        "password": false,
        "prompt": "Insira o valor de C: "
       },
       "output_type": "stream",
       "value": "5"
      }
     }
    }
   },
   "outputs": [
    {
     "name": "stdout",
     "output_type": "stream",
     "text": "Insira o valor de A:  1"
    },
    {
     "name": "stdout",
     "output_type": "stream",
     "text": "Insira o valor de B:  4"
    },
    {
     "name": "stdout",
     "output_type": "stream",
     "text": "Insira o valor de C:  5"
    },
    {
     "name": "stdout",
     "output_type": "stream",
     "text": [
      "Raiz: (-2+1j). Raiz: (-2-1j)\n"
     ]
    }
   ],
   "source": [
    "from math import sqrt\n",
    "import cmath\n",
    "\n",
    "va = input(\"Insira o valor de A: \")\n",
    "vb = input(\"Insira o valor de B: \")\n",
    "vc = input(\"Insira o valor de C: \")\n",
    "\n",
    "if type(va) != int or type(vb) != int or type(vc) != int:\n",
    "    print(\"Os valores inseridos deverão ser números inteiros.\")\n",
    "else:\n",
    "    delta = vb**2-4*va*vc\n",
    "    #print(\"Delta = \", delta)\n",
    "\n",
    "    if delta > 0:\n",
    "        r1 = (-vb+sqrt(vb**2-4*va*vc))/2*va\n",
    "        r2 = (-vb-sqrt(vb**2-4*va*vc))/2*va\n",
    "        print(\"Raiz: \"+str(r1)+\". Raiz: \"+str(r2))\n",
    "\n",
    "    elif delta == 0:\n",
    "        r = -vb/2*va\n",
    "        print(\"O valor da raiz é: \", r)\n",
    "    else:\n",
    "        r1 = (-vb+cmath.sqrt(vb**2-4*va*vc))/2*va\n",
    "        r2 = (-vb-cmath.sqrt(vb**2-4*va*vc))/2*va\n",
    "        print(\"Raiz: \"+str(r1)+\". Raiz: \"+str(r2))\n",
    "        "
   ]
  },
  {
   "cell_type": "markdown",
   "metadata": {
    "collapsed": false
   },
   "source": [
    "#### Exercícios 4\n",
    "- Crie 12 arquivos, chamados de 'arq_mes_estação.txt'. Cada um deles contendo a frase: \"A minha estação predileta é 'estação', especialmente 'mês'\"  repetida um número aleatório de vezes, entre 5 e 20. Comprima essas arquivos usando o comando gzip. Faça isso utilizando o conceito de dicionários."
   ]
  },
  {
   "cell_type": "code",
   "execution_count": 16,
   "metadata": {
    "collapsed": false
   },
   "outputs": [
    {
     "name": "stdout",
     "output_type": "stream",
     "text": [
      "  adding: arq_janeiro_verão.txt (deflated 94%)\r\n"
     ]
    },
    {
     "name": "stdout",
     "output_type": "stream",
     "text": [
      "updating: arq_janeiro_verão.txt (deflated 94%)\r\n",
      "  adding: arq_fevereiro_verão.txt (deflated 86%)\r\n"
     ]
    },
    {
     "name": "stdout",
     "output_type": "stream",
     "text": [
      "updating: arq_janeiro_verão.txt (deflated 94%)\r\n",
      "updating: arq_fevereiro_verão.txt (deflated 86%)\r\n",
      "  adding: arq_março_verão.txt (deflated 94%)\r\n"
     ]
    },
    {
     "name": "stdout",
     "output_type": "stream",
     "text": [
      "updating: arq_janeiro_verão.txt (deflated 94%)\r\n",
      "updating: arq_fevereiro_verão.txt (deflated 86%)\r\n",
      "updating: arq_março_verão.txt (deflated 94%)\r\n",
      "  adding: arq_abril_outono.txt (deflated 88%)\r\n"
     ]
    },
    {
     "name": "stdout",
     "output_type": "stream",
     "text": [
      "updating: arq_janeiro_verão.txt (deflated 94%)\r\n",
      "updating: arq_fevereiro_verão.txt (deflated 86%)\r\n",
      "updating: arq_março_verão.txt (deflated 94%)\r\n",
      "updating: arq_abril_outono.txt (deflated 88%)\r\n",
      "  adding: arq_maio_outono.txt (deflated 94%)\r\n"
     ]
    },
    {
     "name": "stdout",
     "output_type": "stream",
     "text": [
      "updating: arq_janeiro_verão.txt (deflated 94%)\r\n",
      "updating: arq_fevereiro_verão.txt (deflated 86%)\r\n",
      "updating: arq_março_verão.txt (deflated 94%)\r\n",
      "updating: arq_abril_outono.txt (deflated 88%)\r\n",
      "updating: arq_maio_outono.txt (deflated 94%)\r\n",
      "  adding: arq_junho_outono.txt (deflated 91%)\r\n"
     ]
    },
    {
     "name": "stdout",
     "output_type": "stream",
     "text": [
      "updating: arq_janeiro_verão.txt (deflated 94%)\r\n",
      "updating: arq_fevereiro_verão.txt (deflated 86%)\r\n",
      "updating: arq_março_verão.txt (deflated 94%)\r\n",
      "updating: arq_abril_outono.txt (deflated 88%)\r\n",
      "updating: arq_maio_outono.txt (deflated 94%)\r\n",
      "updating: arq_junho_outono.txt (deflated 91%)\r\n",
      "  adding: arq_julho_inverno.txt (deflated 94%)\r\n"
     ]
    },
    {
     "name": "stdout",
     "output_type": "stream",
     "text": [
      "updating: arq_janeiro_verão.txt (deflated 94%)\r\n",
      "updating: arq_fevereiro_verão.txt (deflated 86%)\r\n",
      "updating: arq_março_verão.txt (deflated 94%)\r\n",
      "updating: arq_abril_outono.txt (deflated 88%)\r\n",
      "updating: arq_maio_outono.txt (deflated 94%)\r\n",
      "updating: arq_junho_outono.txt (deflated 91%)\r\n",
      "updating: arq_julho_inverno.txt (deflated 94%)\r\n",
      "  adding: arq_agosto_inverno.txt (deflated 90%)\r\n"
     ]
    },
    {
     "name": "stdout",
     "output_type": "stream",
     "text": [
      "updating: arq_janeiro_verão.txt (deflated 94%)\r\n",
      "updating: arq_fevereiro_verão.txt (deflated 86%)\r\n",
      "updating: arq_março_verão.txt (deflated 94%)\r\n",
      "updating: arq_abril_outono.txt (deflated 88%)\r\n",
      "updating: arq_maio_outono.txt (deflated 94%)\r\n",
      "updating: arq_junho_outono.txt (deflated 91%)\r\n",
      "updating: arq_julho_inverno.txt (deflated 94%)\r\n",
      "updating: arq_agosto_inverno.txt (deflated 90%)\r\n",
      "  adding: arq_setembro_inverno.txt (deflated 81%)\r\n"
     ]
    },
    {
     "name": "stdout",
     "output_type": "stream",
     "text": [
      "updating: arq_janeiro_verão.txt (deflated 94%)\r\n",
      "updating: arq_fevereiro_verão.txt (deflated 86%)\r\n",
      "updating: arq_março_verão.txt (deflated 94%)\r\n",
      "updating: arq_abril_outono.txt (deflated 88%)\r\n",
      "updating: arq_maio_outono.txt (deflated 94%)\r\n",
      "updating: arq_junho_outono.txt (deflated 91%)\r\n",
      "updating: arq_julho_inverno.txt (deflated 94%)\r\n",
      "updating: arq_agosto_inverno.txt (deflated 90%)\r\n",
      "updating: arq_setembro_inverno.txt (deflated 81%)\r\n",
      "  adding: arq_outubro_primavera.txt (deflated 92%)\r\n"
     ]
    },
    {
     "name": "stdout",
     "output_type": "stream",
     "text": [
      "updating: arq_janeiro_verão.txt (deflated 94%)\r\n",
      "updating: arq_fevereiro_verão.txt (deflated 86%)\r\n",
      "updating: arq_março_verão.txt (deflated 94%)\r\n",
      "updating: arq_abril_outono.txt (deflated 88%)\r\n",
      "updating: arq_maio_outono.txt (deflated 94%)\r\n",
      "updating: arq_junho_outono.txt (deflated 91%)\r\n",
      "updating: arq_julho_inverno.txt (deflated 94%)\r\n",
      "updating: arq_agosto_inverno.txt (deflated 90%)\r\n",
      "updating: arq_setembro_inverno.txt (deflated 81%)\r\n",
      "updating: arq_outubro_primavera.txt (deflated 92%)\r\n",
      "  adding: arq_novembro_primavera.txt (deflated 86%)\r\n"
     ]
    },
    {
     "name": "stdout",
     "output_type": "stream",
     "text": [
      "updating: arq_janeiro_verão.txt (deflated 94%)\r\n",
      "updating: arq_fevereiro_verão.txt (deflated 86%)\r\n",
      "updating: arq_março_verão.txt (deflated 94%)\r\n",
      "updating: arq_abril_outono.txt (deflated 88%)\r\n",
      "updating: arq_maio_outono.txt (deflated 94%)\r\n",
      "updating: arq_junho_outono.txt (deflated 91%)\r\n",
      "updating: arq_julho_inverno.txt (deflated 94%)\r\n",
      "updating: arq_agosto_inverno.txt (deflated 90%)\r\n",
      "updating: arq_setembro_inverno.txt (deflated 81%)\r\n",
      "updating: arq_outubro_primavera.txt (deflated 92%)\r\n",
      "updating: arq_novembro_primavera.txt (deflated 86%)\r\n",
      "  adding: arq_dezembro_primavera.txt (deflated 84%)\r\n"
     ]
    }
   ],
   "source": [
    "# Exercício 01. Crie 12 arquivos, chamados de 'arq_mes_estação.txt'. Cada um deles contendo a frase: A minha estação predileta é 'estação', especialmente o 'mês' repetida um número aleatório de vezes, entre 5 e 20.\n",
    "\n",
    "\n",
    "m = ['janeiro', 'fevereiro', 'março', 'abril', 'maio', 'junho', 'julho', 'agosto', 'setembro', 'outubro', 'novembro', 'dezembro']\n",
    "e = ['outono', 'inverno', 'primavera', 'verão']\n",
    "\n",
    "from random import randrange\n",
    "for i in range(1,13):\n",
    "    if i > 3 and i <= 6:\n",
    "        j = 1\n",
    "    elif i >= 6 and i <= 9:\n",
    "        j = 2\n",
    "    elif i >= 9 and i <= 12:\n",
    "        j = 3\n",
    "    else:\n",
    "        j = 4\n",
    "    \n",
    "    content = \"A minha estação predileta é \"+str(e[j-1])+\", especialmente o \"+str(m[j-i])+\"mês' repetida um número aleatório de vezes, entre 5 e 20.\\n\"\n",
    "    with open('arq_'+str(m[i-1])+'_'+str(e[j-1])+'.txt', 'w') as f:\n",
    "        for k in range(1,randrange(6,20)):\n",
    "            f.write(content)\n",
    "    f.close()\n",
    "    \n",
    "    !zip file.zip arq*.txt\n",
    "    "
   ]
  },
  {
   "cell_type": "markdown",
   "metadata": {
    "collapsed": false
   },
   "source": [
    "#### Exercício 6\n",
    "- Passo 1: Gere um arquivo com 10 notas de cinco alunos (Deve conter o nome do aluno e as notas).\n",
    "- Passo 2: Em seguida crie uma array em numpy com essas notas.\n",
    "- Passo 3: Crie um DataFrame dessas notas.\n",
    "- Passo 4: Identifique qual menor nota e quem foi o aluno que obteve essa nota\n",
    "- Passo 5: Identifique o aluno que tirou as melhores notas."
   ]
  },
  {
   "cell_type": "markdown",
   "metadata": {
    "collapsed": false
   },
   "source": [
    "#### Exercícios 5\n",
    "1. Com base nos dados de https://pt.wikipedia.org/wiki/Lista_de_epis%C3%B3dios_de_Pok%C3%A9mon Construa um  dataframe para armazenar \n",
    "as informações sobre os episódios de Pokemon, contendo: \n",
    "- Série\n",
    "- Geração\n",
    "- Temporada\n",
    "- Primeiro Episódio\n",
    "- Último Episódio\n",
    "- Região\n",
    "2. Descubra qual a geração mais longeva\n",
    "3. Descubra quantas temporadas durou cada série\n"
   ]
  },
  {
   "cell_type": "code",
   "execution_count": 0,
   "metadata": {
    "collapsed": false
   },
   "outputs": [
   ],
   "source": [
    "import pandas as pd\n",
    "import numpy as np\n",
    "\n",
    "def preenche(lis):\n",
    "    for elem in range(1,len(lis)):\n",
    "        if lis[elem]!=lis[elem]: #truque sujo!\n",
    "            lis[elem]=lis[elem-1]\n",
    "    return lis\n",
    "\n",
    "def sint(x):\n",
    "    try: \n",
    "        return int(x)\n",
    "    except:\n",
    "        return 947+20+1\n",
    "    \n",
    "lispoktab=pd.read_html( \"https://pt.wikipedia.org/wiki/Lista_de_epis%C3%B3dios_de_Pok%C3%A9mon\")\n",
    "df=lispoktab[0]\n",
    "df.ix[2]=np.roll(df.ix[2],2)\n",
    "df.ix[3]=np.roll(df.ix[3],1)\n",
    "df.ix[4]=np.roll(df.ix[4],2)\n",
    "df.ix[5]=np.roll(df.ix[5],2)\n",
    "df.ix[7]=np.roll(df.ix[7],2)\n",
    "df.ix[8]=np.roll(df.ix[8],2)\n",
    "df.ix[9]=np.roll(df.ix[9],2)\n",
    "df.ix[11]=np.roll(df.ix[11],2)\n",
    "df.ix[12]=np.roll(df.ix[12],2)\n",
    "df.ix[13]=np.roll(df.ix[13],2)\n",
    "df.ix[15]=np.roll(df.ix[15],2)\n",
    "df.ix[16]=np.roll(df.ix[16],2)\n",
    "df.ix[18]=np.roll(df.ix[18],2)\n",
    "df.ix[19]=np.roll(df.ix[19],2)\n",
    "\n",
    "\n",
    "df.columns=df.ix[0] # muda o nome das colunas\n",
    "df=df.drop(0) # elimina a primeira linha\n",
    "df['Série']=preenche(list(df['Série'])) # elimina elementos com Nan\n",
    "df['Geração']=preenche(list(df['Geração']))\n",
    "df['Região']=preenche(list(df['Região']))\n",
    "df['Episódios']=[episodio[0:-7] for episodio in df['Episódios']] # elimina parte final \n",
    "df['Primeiro']=[int(episodio[0:3]) for episodio in df['Episódios']] # separa em duas partes\n",
    "df['Último']=[sint(episodio[4:-1]) for episodio in df['Episódios']]\n",
    "\n",
    "df[\"# Episódios\"]=df[\"Último\"]-df[\"Primeiro\"]+1"
   ]
  }
 ],
 "metadata": {
  "kernelspec": {
   "display_name": "Python 2 (SageMath)",
   "language": "python",
   "name": "python2"
  },
  "language_info": {
   "codemirror_mode": {
    "name": "ipython",
    "version": 2
   },
   "file_extension": ".py",
   "mimetype": "text/x-python",
   "name": "python",
   "nbconvert_exporter": "python",
   "pygments_lexer": "ipython2",
   "version": "2.7.13"
  }
 },
 "nbformat": 4,
 "nbformat_minor": 0
}