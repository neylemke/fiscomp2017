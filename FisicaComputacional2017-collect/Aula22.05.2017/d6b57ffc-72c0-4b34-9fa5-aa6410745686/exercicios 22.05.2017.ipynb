{
 "cells": [
  {
   "cell_type": "markdown",
   "metadata": {
    "collapsed": false
   },
   "source": [
    "# Revisao 22.05.2017"
   ]
  },
  {
   "cell_type": "markdown",
   "metadata": {
    "collapsed": false
   },
   "source": [
    "### Exercicicio 1"
   ]
  },
  {
   "cell_type": "code",
   "execution_count": 17,
   "metadata": {
    "collapsed": false
   },
   "outputs": [
    {
     "name": "stdout",
     "output_type": "stream",
     "text": [
      "[126, 163, 520, 448, 817, 193, 45, 333, 534, 652, 136, 374, 248, 949, 40, 261, 465, 79, 331, 309, 899, 423, 246, 208, 914, 499, 160, 682, 317, 667, 433, 657, 588, 864, 26, 360, 551, 116, 752, 396, 783, 871, 950, 200, 120, 363, 61, 337, 507, 587, 445, 652, 119, 739, 191, 538, 171, 718, 892, 198, 34, 630, 334, 959, 366, 542, 962, 674, 885, 639, 73, 34, 721, 589, 781, 573, 829, 409, 263, 300, 285, 350, 793, 24, 943, 394, 593, 330, 196, 51, 423, 473, 926, 492, 846, 102, 33, 140, 501, 739]\n",
      "\n",
      "[144, 341, 484, 632, 505, 119, 189, 433, 593, 394, 255, 311, 598, 494, 150, 363, 272, 205, 320, 604, 661, 334, 227, 561, 706, 329, 421, 499, 492, 550, 545, 622, 726, 445, 193, 455, 333, 434, 574, 589, 827, 910, 575, 160, 241, 212, 199, 422, 547, 516, 548, 385, 429, 465, 364, 354, 444, 805, 545, 116, 332, 482, 646, 662, 454, 752, 818, 779, 762, 356, 53, 377, 655, 685, 677, 701, 619, 336, 281, 292, 317, 571, 408, 483, 668, 493, 461, 263, 123, 237, 448, 699, 709, 669, 474, 67, 86, 320, 620]\n"
     ]
    }
   ],
   "source": [
    "import random\n",
    "\n",
    "lista = []\n",
    "media = []\n",
    "\n",
    "for i in range (100):\n",
    "    lista.append(random.randint(0,1000))\n",
    "print lista \n",
    "print \n",
    "for i in range (len(lista) - 1):\n",
    "    media.append((lista[i]+lista[i+1])/2)\n",
    "\n",
    "print media\n"
   ]
  },
  {
   "cell_type": "markdown",
   "metadata": {
    "collapsed": false
   },
   "source": [
    "### Exercicio 2"
   ]
  },
  {
   "cell_type": "code",
   "execution_count": 0,
   "metadata": {
    "collapsed": false
   },
   "outputs": [
   ],
   "source": [
   ]
  },
  {
   "cell_type": "markdown",
   "metadata": {
    "collapsed": false
   },
   "source": [
    "### Exercicio 3"
   ]
  },
  {
   "cell_type": "code",
   "execution_count": 45,
   "metadata": {
    "cocalc": {
     "outputs": {
      "0": {
       "name": "input",
       "opts": {
        "password": false,
        "prompt": "Digite o A da função de 2 grau"
       },
       "output_type": "stream",
       "value": "1"
      },
      "1": {
       "name": "input",
       "opts": {
        "password": false,
        "prompt": "Digite o B da função de 2 grau"
       },
       "output_type": "stream",
       "value": "3"
      },
      "2": {
       "name": "input",
       "opts": {
        "password": false,
        "prompt": "Digite o C da função de 2 grau"
       },
       "output_type": "stream",
       "value": "10"
      }
     }
    },
    "collapsed": false
   },
   "outputs": [
    {
     "name": "stdout",
     "output_type": "stream",
     "text": "Digite o A da função de 2 grau 1"
    },
    {
     "name": "stdout",
     "output_type": "stream",
     "text": "Digite o B da função de 2 grau 3"
    },
    {
     "name": "stdout",
     "output_type": "stream",
     "text": "Digite o C da função de 2 grau 10"
    },
    {
     "name": "stdout",
     "output_type": "stream",
     "text": [
      "1.0 3.0 10.0\n",
      "-31.0\n",
      "31.0\n"
     ]
    },
    {
     "ename": "TypeError",
     "evalue": "'float' object is not callable",
     "output_type": "error",
     "traceback": [
      "\u001b[0;31m---------------------------------------------------------------------------\u001b[0m",
      "\u001b[0;31mTypeError\u001b[0m                                 Traceback (most recent call last)",
      "\u001b[0;32m<ipython-input-45-ebf368f985cc>\u001b[0m in \u001b[0;36m<module>\u001b[0;34m()\u001b[0m\n\u001b[1;32m     23\u001b[0m     \u001b[0mx1\u001b[0m \u001b[0;34m=\u001b[0m \u001b[0;34m(\u001b[0m\u001b[0;34m(\u001b[0m\u001b[0;34m-\u001b[0m\u001b[0mb\u001b[0m \u001b[0;34m-\u001b[0m\u001b[0;34m(\u001b[0m\u001b[0mneg\u001b[0m\u001b[0;34m**\u001b[0m\u001b[0;36m0.5\u001b[0m\u001b[0;34m)\u001b[0m\u001b[0;34m)\u001b[0m\u001b[0;34m/\u001b[0m\u001b[0;34m(\u001b[0m\u001b[0;36m2\u001b[0m\u001b[0;34m*\u001b[0m\u001b[0ma\u001b[0m\u001b[0;34m)\u001b[0m\u001b[0;34m)\u001b[0m\u001b[0;34m\u001b[0m\u001b[0m\n\u001b[1;32m     24\u001b[0m     \u001b[0mx2\u001b[0m \u001b[0;34m=\u001b[0m \u001b[0;34m(\u001b[0m\u001b[0;34m(\u001b[0m\u001b[0;34m-\u001b[0m\u001b[0mb\u001b[0m \u001b[0;34m+\u001b[0m\u001b[0;34m(\u001b[0m\u001b[0mneg\u001b[0m\u001b[0;34m**\u001b[0m\u001b[0;36m0.5\u001b[0m\u001b[0;34m)\u001b[0m\u001b[0;34m)\u001b[0m\u001b[0;34m/\u001b[0m\u001b[0;34m(\u001b[0m\u001b[0;36m2\u001b[0m\u001b[0;34m*\u001b[0m\u001b[0ma\u001b[0m\u001b[0;34m)\u001b[0m\u001b[0;34m)\u001b[0m\u001b[0;34m\u001b[0m\u001b[0m\n\u001b[0;32m---> 25\u001b[0;31m     \u001b[0;32mprint\u001b[0m \u001b[0mx1\u001b[0m\u001b[0;34m(\u001b[0m\u001b[0;34m\"i\"\u001b[0m\u001b[0;34m)\u001b[0m\u001b[0;34m,\u001b[0m \u001b[0mx2\u001b[0m\u001b[0;34m(\u001b[0m\u001b[0;34m\"i\"\u001b[0m\u001b[0;34m)\u001b[0m\u001b[0;34m\u001b[0m\u001b[0m\n\u001b[0m",
      "\u001b[0;31mTypeError\u001b[0m: 'float' object is not callable"
     ]
    }
   ],
   "source": [
    "import math\n",
    "\n",
    "a = float (input (\"Digite o A da função de 2 grau\"))\n",
    "b = float (input (\"Digite o B da função de 2 grau\"))\n",
    "c = float (input (\"Digite o C da função de 2 grau\"))\n",
    "print a, b, c\n",
    "\n",
    "delt = b**2 - 4*a*c\n",
    "print delt\n",
    "neg = delt * -1\n",
    "print neg\n",
    "\n",
    "if (delt > 0):\n",
    "    x1 = ((-b -(delt**0.5))/(2*a))\n",
    "    x2 = ((-b +(delt**0.5))/(2*a))\n",
    "    print x1, x2\n",
    "\n",
    "if (delt == 0):\n",
    "    x = (-b)/(2*a)\n",
    "    print x\n",
    "\n",
    "else:\n",
    "    x1 = ((-b -(neg**0.5))/(2*a))\n",
    "    x2 = ((-b +(neg**0.5))/(2*a))\n",
    "    print x1(\"i\"), x2(\"i\")\n"
   ]
  },
  {
   "cell_type": "code",
   "execution_count": 0,
   "metadata": {
    "collapsed": false
   },
   "outputs": [
   ],
   "source": [
   ]
  },
  {
   "cell_type": "code",
   "execution_count": 0,
   "metadata": {
    "collapsed": false
   },
   "outputs": [
   ],
   "source": [
   ]
  }
 ],
 "metadata": {
  "kernelspec": {
   "display_name": "Python 2 (SageMath)",
   "language": "python",
   "name": "python2"
  },
  "language_info": {
   "codemirror_mode": {
    "name": "ipython",
    "version": 2
   },
   "file_extension": ".py",
   "mimetype": "text/x-python",
   "name": "python",
   "nbconvert_exporter": "python",
   "pygments_lexer": "ipython2",
   "version": "2.7.13"
  }
 },
 "nbformat": 4,
 "nbformat_minor": 0
}