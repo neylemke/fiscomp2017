{
 "cells": [
  {
   "cell_type": "code",
   "execution_count": 16,
   "metadata": {
    "collapsed": false
   },
   "outputs": [
    {
     "name": "stdout",
     "output_type": "stream",
     "text": [
      "[57, 78, 43, 85, 132, 81, 34, 80, 40, 33, 88, 70, 46, 42, 36, 41, 65, 105, 100, 64, 113, 93, 106, 23, 27, 38, 17, 38, 69, 28, 23, 31, 43, 47, 54, 95, 103, 65, 106, 55, 33, 88, 87, 83, 55, 135, 96, 56, 82, 44, 18, 61, 131, 118, 113, 124, 116, 68, 67, 71, 55, 84, 113, 72, 98, 80, 66, 66, 12, 25, 30, 37, 84, 62, 90, 137, 137, 139, 141, 118, 73, 60, 79, 97, 117, 81, 95, 75, 47, 108, 107, 121, 108, 137, 111, 77, 70, 77]\n"
     ]
    }
   ],
   "source": [
    "##exercicio 1\n",
    "from random import randint\n",
    "list=[]\n",
    "med=[]\n",
    "for i in range(0,99,1):\n",
    "    list.append(randint(0,100))\n",
    "v=len(list)\n",
    "for i in range(v):\n",
    "    if(i!=v-1):\n",
    "        med.append((list[i]+list[i+1]/2))\n",
    "print(med)"
   ]
  },
  {
   "cell_type": "code",
   "execution_count": 1,
   "metadata": {
    "cocalc": {
     "outputs": {
      "0": {
       "name": "input",
       "opts": {
        "password": false,
        "prompt": "Insira a nota do individuo 1 (Digite -1 para sair)"
       },
       "output_type": "stream"
      }
     }
    },
    "collapsed": false
   },
   "outputs": [
    {
     "name": "stdout",
     "output_type": "stream",
     "text": "Insira a nota do individuo 1 (Digite -1 para sair) "
    },
    {
     "name": "stderr",
     "output_type": "stream",
     "text": [
      "closed"
     ]
    }
   ],
   "source": [
    "##ex2\n",
    "notas=[]\n",
    "count=1\n",
    "button=0\n",
    "while(button!=-1 or button!=-1):\n",
    "    button=(float(input(\"Insira a nota do individuo \"+str(count)+\" (Digite -1 para sair)\")))\n",
    "    notas.append(button)\n",
    "    count+=1\n",
    "print(\"O numero de notas é:\"+str(count))\n",
    "print(notas)\n",
    "reverselist=notas.reverse()\n",
    "for i in range(len(notas)):\n",
    "    print(\"\\n\"+reverselist[i])\n",
    "\n",
    "soma=(sum(notas))\n",
    "media=soma/float(len(notas))\n",
    "print(soma)\n",
    "print(media)\n",
    "mediaacima=[]\n",
    "seteabaixo=[]\n",
    "for i in range(len(notas)):\n",
    "    if(notas[i]>media):\n",
    "        mediaacima.append(notas[i])\n",
    "    if(notas[i]<7):\n",
    "        seteabaixo.append(notas[i])\n",
    "print(\"Existem\"+str(len(mediaacima))+\"acima da media\")\n",
    "print(mediaacima)\n",
    "print(\"Existem\"+str(len(seteabaixo))+\" abaixo de sete\")\n",
    "print(seteabaixo)\n"
   ]
  },
  {
   "cell_type": "code",
   "execution_count": 0,
   "metadata": {
    "collapsed": false
   },
   "outputs": [
   ],
   "source": [
   ]
  }
 ],
 "metadata": {
  "kernelspec": {
   "display_name": "Python 2 (SageMath)",
   "language": "python",
   "name": "python2"
  },
  "language_info": {
   "codemirror_mode": {
    "name": "ipython",
    "version": 2
   },
   "file_extension": ".py",
   "mimetype": "text/x-python",
   "name": "python",
   "nbconvert_exporter": "python",
   "pygments_lexer": "ipython2",
   "version": "2.7.13"
  }
 },
 "nbformat": 4,
 "nbformat_minor": 0
}