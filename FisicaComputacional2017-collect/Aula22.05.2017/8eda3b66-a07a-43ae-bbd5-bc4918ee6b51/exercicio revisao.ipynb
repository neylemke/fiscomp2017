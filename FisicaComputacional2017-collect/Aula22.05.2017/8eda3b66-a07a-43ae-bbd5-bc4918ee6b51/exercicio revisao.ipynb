{
 "cells": [
  {
   "cell_type": "code",
   "execution_count": 1,
   "metadata": {
    "cocalc": {
     "outputs": {
      "0": {
       "name": "input",
       "opts": {
        "password": false,
        "prompt": "Digite o coeficiente 'a'= "
       },
       "output_type": "stream"
      }
     }
    }
   },
   "outputs": [
    {
     "name": "stdout",
     "output_type": "stream",
     "text": "Digite o coeficiente 'a'=  "
    }
   ],
   "source": [
    "#Exercicio 3 - raizes da função quadrada (20/04)\n",
    "a=int(input(\"Digite o coeficiente 'a'= \"))\n",
    "b=int(input(\"Digite o coeficiente 'b'= \"))\n",
    "c=int(input(\"Digite o coeficiente 'c'= \"))\n",
    "\n",
    "\n",
    "delta = ((pow(b,2))-4*a*c)\n",
    "print(delta)\n",
    "\n",
    "if delta < 0:\n",
    "    print (\"Equacao sem solucao real\")\n",
    "    import sys\n",
    "\n",
    "elif delta == 0:  \n",
    "    print (\"Delta nulo. Equação apresenta apenas uma solução eal.\")\n",
    "    print (-b,a)\n",
    "    print (-b,a,(-b)/2*a)\n",
    "else:\n",
    "    import math\n",
    "    print(a,b,c)\n",
    "    float(delta)\n",
    "    delta_quadrado = math.sqrt(delta)\n",
    "    raiz_pos=(-b+raiz_quadrada)\n",
    "    raiz_neg=(-b-raiz_quadrada)\n",
    "    baixo_bsk=(2*a)\n",
    "    resultado_raiz_pos= (raiz_pos,raiz_neg)\n",
    "    resultado_raiz_neg= (raiz_pos,baixo_bsk)\n",
    "    print (b,raiz_pos,raiz_neg)\n",
    "    print (b,raiz_pos,raiz_neg)\n",
    "    print (\"Recomendo tomar duas casas apos a virgula.\")"
   ]
  },
  {
   "cell_type": "code",
   "execution_count": 0,
   "metadata": {
    "collapsed": false
   },
   "outputs": [
   ],
   "source": [
    "# exercicio 5 - serie pokemon\n",
    "import pandas as pd\n",
    "dict=[{'Série': 'Série Original', 'Geração':'Primeira', 'Temporada': 'Liga Indigo', 'Primeiro Episódio': '001' , 'Último Episódio': '083', 'Regiao': 'Kanto'},    \n",
    "      {'Série': 'Série Original', 'Geração':'Primeira', 'Temporada': 'Aventuras nas Ilhas Laranja', 'Primeiro Episódio': '084' , 'Último Episódio': '118', 'Regiao': 'Ilhas Laranja'},\n",
    "      {'Série': 'Série Original', 'Geração':'Segunda', 'Temporada': 'A Jornada Johto', 'Primeiro Episódio': '119' , 'Último Episódio': '159', 'Regiao': 'Johto'},\n",
    "      {'Série': 'Série Original', 'Geração':'Segunda', 'Temporada': 'Campeões da Liga Johto', 'Primeiro Episódio': '160' , 'Último Episódio': '211', 'Regiao': 'Johto'},\n",
    "      {'Série': 'Série Original', 'Geração':'Segunda', 'Temporada': 'Master Quest', 'Primeiro Episódio': '212' , 'Último Episódio': '276', 'Regiao': 'Johto'},\n",
    "      {'Série': 'Geração Avançada', 'Geração':'Terceira', 'Temporada': 'Pokémon: Avançado', 'Primeiro Episódio': '277' , 'Último Episódio': '316', 'Regiao': 'Hoenn'},\n",
    "      {'Série': 'Geração Avançada', 'Geração':'Terceira', 'Temporada': 'Desafio Avançado', 'Primeiro Episódio': '317' , 'Último Episódio': '368', 'Regiao': 'Hoenn'},\n",
    "      {'Série': 'Geração Avançada', 'Geração':'Terceira', 'Temporada': 'Batalha Avançado', 'Primeiro Episódio': '369' , 'Último Episódio': '421', 'Regiao': 'Hoenn'},\n",
    "      {'Série': 'Geração Avançada', 'Geração':'Terceira', 'Temporada': 'Batalha da Fronteira', 'Primeiro Episódio': '422' , 'Último Episódio': '468', 'Regiao': 'Kanto'},\n",
    "      {'Série': 'Diamante e Pérola', 'Geração':'Quarta', 'Temporada': 'Diamante e Pérola', 'Primeiro Episódio': '469' , 'Último Episódio': '520', 'Regiao': 'Sinnoh'},\n",
    "      {'Série': 'Diamante e Pérola', 'Geração':'Quarta', 'Temporada': 'Batalha Dimensional', 'Primeiro Episódio': '521' , 'Último Episódio': '572', 'Regiao': 'Sinnoh'},\n",
    "      {'Série': 'Diamante e Pérola', 'Geração':'Quarta', 'Temporada': 'Batalhas Galácticas', 'Primeiro Episódio': '573' , 'Último Episódio': '625', 'Regiao': 'Sinnoh'},\n",
    "      {'Série': 'Diamante e Pérola', 'Geração':'Quarta', 'Temporada': 'Vencedores da Liga Sinnoh', 'Primeiro Episódio': '626' , 'Último Episódio': '659', 'Regiao': 'Sinnoh'},\n",
    "      {'Série': 'Preto e Branco', 'Geração':'Quinta', 'Temporada': 'Preto e Branco', 'Primeiro Episódio': '660' , 'Último Episódio': '707', 'Regiao': 'Unova'},\n",
    "      {'Série': 'Preto e Branco', 'Geração':'Quinta', 'Temporada': 'Destinos Rivais', 'Primeiro Episódio': '708' , 'Último Episódio': '756', 'Regiao': 'Unova'},\n",
    "      {'Série': 'Preto e Branco', 'Geração':'Quinta', 'Temporada': 'Aventuras em Unova (e Mais Além)', 'Primeiro Episódio': '757' , 'Último Episódio': '803', 'Regiao': 'Unova'},\n",
    "      {'Série': 'XY', 'Geração':'Sexta', 'Temporada': 'A Séria XY', 'Primeiro Episódio': '804' , 'Último Episódio': '852', 'Regiao': 'Kalos'},\n",
    "      {'Série': 'XY', 'Geração':'Sexta', 'Temporada': 'Kalos Quest', 'Primeiro Episódio': '853' , 'Último Episódio': '897', 'Regiao': 'Kalos'},\n",
    "      {'Série': 'XY', 'Geração':'Sexta', 'Temporada': 'XY & Z', 'Primeiro Episódio': '898' , 'Último Episódio': '946', 'Regiao': 'Kalos'},\n",
    "      {'Série': 'Sun and Moon', 'Geração':'Sétima', 'Temporada': 'Sun and Moon', 'Primeiro Episódio': '947' , 'Último Episódio': 'Em Andamento', 'Regiao': 'Alola'}]\n",
    "df=pd.DataFrame(dict)\n",
    "df[['Série','Geração', 'Temporada', 'Primeiro Episódio', 'Último Episódio', 'Regiao']]"
   ]
  },
  {
   "cell_type": "code",
   "execution_count": 0,
   "metadata": {
    "collapsed": false
   },
   "outputs": [
   ],
   "source": [
    "print 'Quantidade de temporadas que durou a Série Original:',len([serie1 for serie1  in df['Série'] if serie1=='Série Original'])\n",
    "print 'Quantidade de temporadas que durou a Geração Avançada:',len([serie2 for serie2  in df['Série'] if serie2=='Geração Avançada'])\n",
    "print 'Quantidade de temporadas que durou a Diamante e Pérola:',len([serie3 for serie3  in df['Série'] if serie3=='Diamante e Pérola'])\n",
    "print 'Quantidade de temporadas que durou a Preto e Branco:',len([serie4 for serie4  in df['Série'] if serie4=='Preto e Branco'])\n",
    "print 'Quantidade de temporadas que durou a XY:',len([serie5 for serie5  in df['Série'] if serie5=='XY'])\n",
    "print 'Quantidade de temporadas que durou a Sun and Moon:',len([serie6 for serie6  in df['Série'] if serie6=='Sun and Moon'])"
   ]
  },
  {
   "cell_type": "raw",
   "metadata": {
    "collapsed": false
   },
   "source": [
    "Primeira=119-1\n",
    "Segunda=277-119\n",
    "Terceira=469-277\n",
    "Quarta=660-469\n",
    "Quinta=804-660\n",
    "Sexta=947-804\n",
    "Episodios={'Geracao Primeira': Primeira, 'Geracao Segunda' : Segunda, 'Geracao Terceira' : Terceira, 'Geracao Quarta' : Quarta, \n",
    "           'Geracao Quinta' : Quinta, 'Geracao Sexta' : Sexta}\n",
    "print 'A geração que é mais longeva, ou seja que tem mais episódios é:',max(Episodios), 'com', Episodios[max(Episodios)], 'episodios'"
   ]
  },
  {
   "cell_type": "code",
   "execution_count": 2,
   "metadata": {
    "collapsed": false
   },
   "outputs": [
    {
     "ename": "IndentationError",
     "evalue": "unexpected indent (<ipython-input-2-cea22b3f9d0d>, line 2)",
     "output_type": "error",
     "traceback": [
      "\u001b[0;36m  File \u001b[0;32m\"<ipython-input-2-cea22b3f9d0d>\"\u001b[0;36m, line \u001b[0;32m2\u001b[0m\n\u001b[0;31m    import random\u001b[0m\n\u001b[0m    ^\u001b[0m\n\u001b[0;31mIndentationError\u001b[0m\u001b[0;31m:\u001b[0m unexpected indent\n"
     ]
    }
   ],
   "source": [
    "#Exercicio 4 - estação e dia prediletos 24/04 \n",
    " import random\n",
    "estacao=['verão', 'outono', 'inverno', 'primavera']\n",
    "mes= [\"janeiro\",'fevereiro','marco','abril','maio','junho','julho','agosto','setembro','outubro','novembro','dezembro']\n",
    "for i in range(12):\n",
    "    arq=open(\"arq_\"+str(mes[i])+\"_\"+str(estacao[random.randint(0,3)])+\".txt\",\"w\")\n",
    "    arq.write(random.randint(5,20)*\"A minha estação predileta é \"+str(estacao[random.randint(0,3)])+\", especialmente o\"+str(mes[i])+\".\\n\")\n",
    "    arq.close()"
   ]
  },
  {
   "cell_type": "code",
   "execution_count": 0,
   "metadata": {
    "collapsed": false
   },
   "outputs": [
   ],
   "source": [
    "# Exercicio 1. intervamos medios de lista de 100 numeros \n",
    "import random\n",
    "\n",
    "lista = []\n",
    "media = []\n",
    "\n",
    "for i in range (100):\n",
    "    lista.append(random.randint(0,1000))\n",
    "print lista \n",
    "print \n",
    "for i in range (len(lista) - 1):\n",
    "    media.append((lista[i]+lista[i+1])/2)\n",
    "\n",
    "print media\n"
   ]
  },
  {
   "cell_type": "code",
   "execution_count": 0,
   "metadata": {
    "collapsed": false
   },
   "outputs": [
   ],
   "source": [
   ]
  },
  {
   "cell_type": "code",
   "execution_count": 0,
   "metadata": {
    "collapsed": false
   },
   "outputs": [
   ],
   "source": [
   ]
  },
  {
   "cell_type": "code",
   "execution_count": 0,
   "metadata": {
    "collapsed": false
   },
   "outputs": [
   ],
   "source": [
   ]
  }
 ],
 "metadata": {
  "kernelspec": {
   "display_name": "Python 2 (SageMath)",
   "language": "python",
   "name": "python2"
  },
  "language_info": {
   "codemirror_mode": {
    "name": "ipython",
    "version": 2
   },
   "file_extension": ".py",
   "mimetype": "text/x-python",
   "name": "python",
   "nbconvert_exporter": "python",
   "pygments_lexer": "ipython2",
   "version": "2.7.13"
  }
 },
 "nbformat": 4,
 "nbformat_minor": 0
}