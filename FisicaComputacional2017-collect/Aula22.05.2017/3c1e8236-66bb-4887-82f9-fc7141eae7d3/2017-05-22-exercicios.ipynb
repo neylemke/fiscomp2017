{
 "cells": [
  {
   "cell_type": "code",
   "execution_count": 102,
   "metadata": {
    "collapsed": false
   },
   "outputs": [
    {
     "name": "stdout",
     "output_type": "stream",
     "text": [
      "[25, 40, 47, 4, 71, 95, 91, 14, 41, 37, 30, 56, 69, 82, 49, 19, 1, 94, 86, 75, 27, 0, 72, 87, 63, 51, 53, 15, 76, 96, 7, 13, 8, 44, 3, 43, 45, 60, 36, 48, 61, 66, 59, 18, 84, 68, 80, 26, 35, 31, 65, 90, 67, 92, 21, 97, 55, 54, 32, 34, 93, 88, 78, 10, 50, 20, 62, 6, 57, 5, 83, 17, 22, 16, 24, 89, 98, 28, 58, 81, 38, 52, 99, 85, 9, 77, 64, 74, 29, 39, 33, 12, 79, 46, 11, 23, 73, 2, 42, 70]\n"
     ]
    }
   ],
   "source": [
    "import random as np#Exercício 1\n",
    "import numpy as np\n",
    "lista=random.sample(range(100), 100)\n",
    "print(lista)"
   ]
  },
  {
   "cell_type": "code",
   "execution_count": 100,
   "metadata": {
    "collapsed": false
   },
   "outputs": [
    {
     "name": "stdout",
     "output_type": "stream",
     "text": [
      "[9, 29, 2, 26, 75, 8, 65, 62, 63, 23, 55, 30, 39, 71, 46, 44, 65, 8, 63, 85, 61, 2, 45, 34, 2, 60, 68, 2, 22, 39, 60, 41, 14, 42, 31, 21, 72, 71, 39, 56, 23, 36, 21, 2, 47, 30, 40, 16, 29, 29, 62, 80, 39, 2, 47, 7, 57, 63, 50, 38, 1, 62, 14, 40, 70, 1, 6, 80, 59, 29, 9, 6, 27, 23, 25, 19, 20, 10, 20, 6, 31, 3, 8, 22, 38, 57, 27, 50, 1, 2, 55, 15, 14, 26, 8, 8, 27, 27, 1]\n"
     ]
    }
   ],
   "source": [
    "t=lista\n",
    "list = [abs (t[i+1]-t[i]) for i in range(len(t)-1)]\n",
    "print (list)"
   ]
  },
  {
   "cell_type": "code",
   "execution_count": 0,
   "metadata": {
    "collapsed": false
   },
   "outputs": [
   ],
   "source": [
   ]
  }
 ],
 "metadata": {
  "kernelspec": {
   "display_name": "T - Python 3 (Ubuntu Linux)",
   "language": "python",
   "name": "python3"
  },
  "language_info": {
   "codemirror_mode": {
    "name": "ipython",
    "version": 3
   },
   "file_extension": ".py",
   "mimetype": "text/x-python",
   "name": "python",
   "nbconvert_exporter": "python",
   "pygments_lexer": "ipython3",
   "version": "3.4.3+"
  }
 },
 "nbformat": 4,
 "nbformat_minor": 0
}