{
 "cells": [
  {
   "cell_type": "markdown",
   "metadata": {
    "collapsed": false
   },
   "source": [
    "# Aula de revisão"
   ]
  },
  {
   "cell_type": "markdown",
   "metadata": {
    "collapsed": false
   },
   "source": [
    "#### Exercicio 1\n",
    "- Gere uma lista com 100 números aleatórios, em seguida o aluno deverá deverá encontrar os intervalos médios dos elementos da lista."
   ]
  },
  {
   "cell_type": "code",
   "execution_count": 4,
   "metadata": {
    "collapsed": false
   },
   "outputs": [
    {
     "data": {
      "text/plain": [
       "[57,\n",
       " 25,\n",
       " 96,\n",
       " 70,\n",
       " 77,\n",
       " 61,\n",
       " 60,\n",
       " 16,\n",
       " 43,\n",
       " 45,\n",
       " 79,\n",
       " 58,\n",
       " 8,\n",
       " 95,\n",
       " 82,\n",
       " 62,\n",
       " 18,\n",
       " 32,\n",
       " 71,\n",
       " 0,\n",
       " 84,\n",
       " 37,\n",
       " 11,\n",
       " 75,\n",
       " 23,\n",
       " 44,\n",
       " 28,\n",
       " 66,\n",
       " 55,\n",
       " 50,\n",
       " 9,\n",
       " 90,\n",
       " 51,\n",
       " 85,\n",
       " 86,\n",
       " 42,\n",
       " 49,\n",
       " 98,\n",
       " 40,\n",
       " 2,\n",
       " 31,\n",
       " 76,\n",
       " 34,\n",
       " 4,\n",
       " 64,\n",
       " 46,\n",
       " 65,\n",
       " 26,\n",
       " 17,\n",
       " 52,\n",
       " 24,\n",
       " 30,\n",
       " 19,\n",
       " 54,\n",
       " 5,\n",
       " 14,\n",
       " 94,\n",
       " 56,\n",
       " 15,\n",
       " 21,\n",
       " 48,\n",
       " 81,\n",
       " 35,\n",
       " 78,\n",
       " 80,\n",
       " 63,\n",
       " 47,\n",
       " 39,\n",
       " 29,\n",
       " 93,\n",
       " 89,\n",
       " 74,\n",
       " 3,\n",
       " 73,\n",
       " 12,\n",
       " 68,\n",
       " 20,\n",
       " 83,\n",
       " 22,\n",
       " 59,\n",
       " 69,\n",
       " 41,\n",
       " 87,\n",
       " 97,\n",
       " 67,\n",
       " 27,\n",
       " 53,\n",
       " 99,\n",
       " 13,\n",
       " 36,\n",
       " 38,\n",
       " 92,\n",
       " 6,\n",
       " 7,\n",
       " 72,\n",
       " 10,\n",
       " 88,\n",
       " 33,\n",
       " 91,\n",
       " 1]"
      ]
     },
     "execution_count": 4,
     "metadata": {
     },
     "output_type": "execute_result"
    }
   ],
   "source": [
    "import random\n",
    "lis = random.sample(range(0, 100), 100)\n",
    "lis"
   ]
  },
  {
   "cell_type": "code",
   "execution_count": 10,
   "metadata": {
    "collapsed": false
   },
   "outputs": [
    {
     "name": "stdout",
     "output_type": "stream",
     "text": [
      "intervalos medios: [41.0, 60.5, 83.0, 73.5, 69.0, 60.5, 38.0, 29.5, 44.0, 62.0, 68.5, 33.0, 51.5, 88.5, 72.0, 40.0, 25.0, 51.5, 35.5, 42.0, 60.5, 24.0, 43.0, 49.0, 33.5, 36.0, 47.0, 60.5, 52.5, 29.5, 49.5, 70.5, 68.0, 85.5, 64.0, 45.5, 73.5, 69.0, 21.0, 16.5, 53.5, 55.0, 19.0, 34.0, 55.0, 55.5, 45.5, 21.5, 34.5, 38.0, 27.0, 24.5, 36.5, 29.5, 9.5, 54.0, 75.0, 35.5, 18.0, 34.5, 64.5, 58.0, 56.5, 79.0, 71.5, 55.0, 43.0, 34.0, 61.0, 91.0, 81.5, 38.5, 38.0, 42.5, 40.0, 44.0, 51.5, 52.5, 40.5, 64.0, 55.0, 64.0, 92.0, 82.0, 47.0, 40.0, 76.0, 56.0, 24.5, 37.0, 65.0, 49.0, 6.5, 39.5, 41.0, 49.0, 60.5, 62.0, 46.0]\n"
     ]
    }
   ],
   "source": [
    "imedio = []\n",
    "for i in range(0,99):\n",
    "    imedio.append((lis[i]+lis[i+1])/2.)\n",
    "print \"intervalos medios:\", imedio"
   ]
  },
  {
   "cell_type": "markdown",
   "metadata": {
    "collapsed": false
   },
   "source": [
    "#### Exercicio 2\n",
    "Faça um programa que leia um número indeterminado de valores, correspondentes a notas, encerrando a entrada de dados quando for informado um valor igual a -1 (que não deve ser armazenado). Após esta entrada de dados, faça:\n",
    "- Mostre a quantidade de valores que foram lidos;\n",
    "- Exiba todos os valores na ordem em que foram informados, um ao lado do outro;\n",
    "- Exiba todos os valores na ordem inversa à que foram informados, um abaixo do outro;\n",
    "- Calcule e mostre a soma dos valores;\n",
    "- Calcule e mostre a média dos valores;\n",
    "- Calcule e mostre a quantidade de valores acima da média calculada;\n",
    "- Calcule e mostre a quantidade de valores abaixo de sete;\n",
    "- Encerre o programa com uma mensagem;"
   ]
  },
  {
   "cell_type": "code",
   "execution_count": 14,
   "metadata": {
    "cocalc": {
     "outputs": {
      "0": {
       "name": "input",
       "opts": {
        "password": false,
        "prompt": "insira a nota:"
       },
       "output_type": "stream",
       "value": "5.0"
      },
      "1": {
       "name": "input",
       "opts": {
        "password": false,
        "prompt": "insira a nota:"
       },
       "output_type": "stream",
       "value": "6.9"
      },
      "2": {
       "name": "input",
       "opts": {
        "password": false,
        "prompt": "insira a nota:"
       },
       "output_type": "stream",
       "value": "3.4"
      },
      "3": {
       "name": "input",
       "opts": {
        "password": false,
        "prompt": "insira a nota:"
       },
       "output_type": "stream",
       "value": "4.5"
      },
      "4": {
       "name": "input",
       "opts": {
        "password": false,
        "prompt": "insira a nota:"
       },
       "output_type": "stream",
       "value": "-1"
      }
     }
    }
   },
   "outputs": [
    {
     "name": "stdout",
     "output_type": "stream",
     "text": "insira a nota: 5.0"
    },
    {
     "name": "stdout",
     "output_type": "stream",
     "text": "insira a nota: 6.9"
    },
    {
     "name": "stdout",
     "output_type": "stream",
     "text": "insira a nota: 3.4"
    },
    {
     "name": "stdout",
     "output_type": "stream",
     "text": "insira a nota: 4.5"
    },
    {
     "name": "stdout",
     "output_type": "stream",
     "text": "insira a nota: -1"
    },
    {
     "ename": "NameError",
     "evalue": "name 'brea' is not defined",
     "output_type": "error",
     "traceback": [
      "\u001b[0;31m---------------------------------------------------------------------------\u001b[0m",
      "\u001b[0;31mNameError\u001b[0m                                 Traceback (most recent call last)",
      "\u001b[0;32m<ipython-input-14-793ecdb7385f>\u001b[0m in \u001b[0;36m<module>\u001b[0;34m()\u001b[0m\n\u001b[1;32m      7\u001b[0m     \u001b[0;32mif\u001b[0m \u001b[0mnota\u001b[0m \u001b[0;34m==\u001b[0m \u001b[0;34m-\u001b[0m\u001b[0;36m1\u001b[0m\u001b[0;34m:\u001b[0m\u001b[0;34m\u001b[0m\u001b[0m\n\u001b[1;32m      8\u001b[0m         \u001b[0mn\u001b[0m\u001b[0;34m.\u001b[0m\u001b[0mremove\u001b[0m\u001b[0;34m(\u001b[0m\u001b[0mnota\u001b[0m\u001b[0;34m)\u001b[0m\u001b[0;34m\u001b[0m\u001b[0m\n\u001b[0;32m----> 9\u001b[0;31m         \u001b[0mbrea\u001b[0m\u001b[0;34m\u001b[0m\u001b[0m\n\u001b[0m",
      "\u001b[0;31mNameError\u001b[0m: name 'brea' is not defined"
     ]
    }
   ],
   "source": [
    "nota = input(\"insira a nota:\")\n",
    "n = []\n",
    "n.append(nota)\n",
    "while nota !=(-1):\n",
    "    nota = input(\"insira a nota:\")\n",
    "    n.append(nota)\n",
    "    if nota == -1:\n",
    "        n.remove(nota)\n",
    "        break"
   ]
  },
  {
   "cell_type": "code",
   "execution_count": 15,
   "metadata": {
    "collapsed": false
   },
   "outputs": [
    {
     "name": "stdout",
     "output_type": "stream",
     "text": [
      "[5.0, 6.9, 3.4, 4.5]\n"
     ]
    }
   ],
   "source": [
    "print n"
   ]
  },
  {
   "cell_type": "code",
   "execution_count": 20,
   "metadata": {
    "collapsed": false
   },
   "outputs": [
    {
     "name": "stdout",
     "output_type": "stream",
     "text": [
      "\n",
      "4.5\n",
      "3.4\n",
      "6.9\n",
      "5.0 \n",
      "\n",
      "\n",
      "\n",
      "\n"
     ]
    }
   ],
   "source": [
    "strn=\" \"\n",
    "for i in n:\n",
    "    strn = \"\\n\"+str(i)+strn+\"\\n\"\n",
    "print strn"
   ]
  },
  {
   "cell_type": "code",
   "execution_count": 22,
   "metadata": {
    "collapsed": false
   },
   "outputs": [
    {
     "name": "stdout",
     "output_type": "stream",
     "text": [
      "soma das notas: 19.8\n"
     ]
    }
   ],
   "source": [
    "soma = sum(n)\n",
    "print \"soma das notas:\", sum(n)"
   ]
  },
  {
   "cell_type": "code",
   "execution_count": 23,
   "metadata": {
    "collapsed": false
   },
   "outputs": [
    {
     "name": "stdout",
     "output_type": "stream",
     "text": [
      "4.95\n"
     ]
    }
   ],
   "source": [
    "media = sum(n)/len(n)\n",
    "print media"
   ]
  },
  {
   "cell_type": "code",
   "execution_count": 27,
   "metadata": {
    "collapsed": false
   },
   "outputs": [
    {
     "name": "stdout",
     "output_type": "stream",
     "text": [
      "3.4\n",
      "4.5\n"
     ]
    }
   ],
   "source": [
    "for elem in n:\n",
    "    if elem<media:\n",
    "        print elem"
   ]
  },
  {
   "cell_type": "code",
   "execution_count": 28,
   "metadata": {
    "collapsed": false
   },
   "outputs": [
    {
     "name": "stdout",
     "output_type": "stream",
     "text": [
      "5.0\n",
      "6.9\n"
     ]
    }
   ],
   "source": [
    "for elem in n:\n",
    "    if elem>media:\n",
    "        print elem"
   ]
  },
  {
   "cell_type": "code",
   "execution_count": 31,
   "metadata": {
    "collapsed": false
   },
   "outputs": [
    {
     "name": "stdout",
     "output_type": "stream",
     "text": [
      "5.0\n",
      "6.9\n",
      "3.4\n",
      "4.5\n"
     ]
    }
   ],
   "source": [
    "for elem in n:\n",
    "    if elem<(7):\n",
    "        print elem"
   ]
  },
  {
   "cell_type": "markdown",
   "metadata": {
    "collapsed": false
   },
   "source": [
    "#### Exercicio 3\n",
    "- Calcule as raízes da equação do 2◦ grau ($Ax^2 + Bx + C = 0$) sendo os valores de A, B e C fornecidos pelo usuário, levando em consideração a existência de raízes complexas.**"
   ]
  },
  {
   "cell_type": "markdown",
   "metadata": {
    "collapsed": false
   },
   "source": [
    "#### Exercícios 4\n",
    "- Crie 12 arquivos, chamados de 'arq_mes_estação.txt'. Cada um deles contendo a frase: \"A minha estação predileta é 'estação', especialmente 'mês'\"  repetida um número aleatório de vezes, entre 5 e 20. Comprima essas arquivos usando o comando gzip. Faça isso utilizando o conceito de dicionários."
   ]
  },
  {
   "cell_type": "markdown",
   "metadata": {
    "collapsed": false
   },
   "source": [
    "#### Exercícios 5\n",
    "1. Com base nos dados de https://pt.wikipedia.org/wiki/Lista_de_epis%C3%B3dios_de_Pok%C3%A9mon Construa um  dataframe para armazenar \n",
    "as informações sobre os episódios de Pokemon, contendo: \n",
    "- Série\n",
    "- Geração\n",
    "- Temporada\n",
    "- Primeiro Episódio\n",
    "- Último Episódio\n",
    "- Região\n",
    "2. Descubra qual a geração mais longeva\n",
    "3. Descubra quantas temporadas durou cada série\n"
   ]
  },
  {
   "cell_type": "markdown",
   "metadata": {
    "collapsed": false
   },
   "source": [
    "#### Exercício 6\n",
    "- Passo 1: Gere um arquivo com 10 notas de cinco alunos (Deve conter o nome do aluno e as notas).\n",
    "- Passo 2: Em seguida crie uma array em numpy com essas notas.\n",
    "- Passo 3: Crie um DataFrame dessas notas.\n",
    "- Passo 4: Identifique qual menor nota e quem foi o aluno que obteve essa nota\n",
    "- Passo 5: Identifique o aluno que tirou as melhores notas."
   ]
  },
  {
   "cell_type": "markdown",
   "metadata": {
    "collapsed": false
   },
   "source": [
    "#### Exercicio 7\n",
    "- O Jogo da Vida (The Game of Life) é um autômato celular (cellular automaton) introduzido por John Horton Conway em 1970. Um automato celular consiste de uma rede de células. Cada célula pode estar em um número finito de estados, como morta ou viva. O “jogo” é na verdade uma simulação que permite observar a evolução de um processo a partir de uma certa condição inicial.\n",
    "- O jogo se desenvolve sobre uma matriz bi-dimensional que pode ser tão grande quanto se queira. Vamos chamar essa matriz de mapa. Cada posição ou célula do mapa pode estar vazia (= célula morta) ou ocupada por um agente (= célula viva). Cada posição possui também até 8 posições vizinhas: imediatamente acima, abaixo, aos lados e nas diagonais. Em um determinado instante, o mapa contém uma geração de agentes. A geração no instante seguinte é determinada segundo as regras abaixo:\n",
    "- Novos agentes nascem em células vazias que possuam exatamente 3 agentes vizinhos;\n",
    "- **Agentes com 2 ou 3 agentes vizinhos sobrevivem;**\n",
    "- **Agentes com menos de 2 agentes vizinhos morrem for falta de recursos;**\n",
    "- **Agentes com mais de 3 agentes vizinhos morrem por excesso de competição.**"
   ]
  },
  {
   "cell_type": "markdown",
   "metadata": {
    "collapsed": false
   },
   "source": [
    "#### Exercicio 8\n",
    "Considere um conjunto de 10 triplets descrevendo 10 triângulos (com vértices compartilhados), encontrar o conjunto de segmentos de linha única compondo todos os triângulos "
   ]
  },
  {
   "cell_type": "code",
   "execution_count": 0,
   "metadata": {
    "collapsed": false
   },
   "outputs": [
   ],
   "source": [
   ]
  }
 ],
 "metadata": {
  "kernelspec": {
   "display_name": "Python 2 (SageMath)",
   "language": "python",
   "name": "python2"
  },
  "language_info": {
   "codemirror_mode": {
    "name": "ipython",
    "version": 2
   },
   "file_extension": ".py",
   "mimetype": "text/x-python",
   "name": "python",
   "nbconvert_exporter": "python",
   "pygments_lexer": "ipython2",
   "version": "2.7.13"
  }
 },
 "nbformat": 4,
 "nbformat_minor": 0
}