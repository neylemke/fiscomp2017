{
 "cells": [
  {
   "cell_type": "code",
   "execution_count": 1,
   "metadata": {
    "collapsed": true,
    "scrolled": true
   },
   "outputs": [
    {
     "name": "stdout",
     "output_type": "stream",
     "text": [
      "8\n",
      "0\n",
      "3\n",
      "6\n",
      "0\n",
      "9\n",
      "2\n",
      "9\n",
      "2\n",
      "0\n",
      "1\n",
      "2\n",
      "2\n",
      "3\n",
      "9\n",
      "5\n",
      "0\n",
      "6\n",
      "2\n",
      "5\n",
      "2\n",
      "0\n",
      "3\n",
      "8\n",
      "0\n",
      "8\n",
      "7\n",
      "9\n",
      "2\n",
      "7\n",
      "7\n",
      "2\n",
      "7\n",
      "2\n",
      "5\n",
      "7\n",
      "9\n",
      "4\n",
      "5\n",
      "0\n",
      "1\n",
      "8\n",
      "6\n",
      "6\n",
      "1\n",
      "8\n",
      "5\n",
      "8\n",
      "3\n",
      "5\n",
      "0\n",
      "8\n",
      "4\n",
      "6\n",
      "5\n",
      "2\n",
      "8\n",
      "1\n",
      "6\n",
      "3\n",
      "3\n",
      "2\n",
      "9\n",
      "2\n",
      "8\n",
      "0\n",
      "7\n",
      "2\n",
      "4\n",
      "1\n",
      "5\n",
      "0\n",
      "0\n",
      "8\n",
      "8\n",
      "2\n",
      "1\n",
      "6\n",
      "0\n",
      "0\n",
      "7\n",
      "9\n",
      "4\n",
      "6\n",
      "8\n",
      "2\n",
      "5\n",
      "4\n",
      "6\n",
      "7\n",
      "1\n",
      "0\n",
      "6\n",
      "2\n",
      "4\n",
      "4\n",
      "9\n",
      "6\n",
      "6\n",
      "3\n"
     ]
    }
   ],
   "source": [
    "#Exercicio 01\n",
    "\n",
    "from random import randint\n",
    "for x in range(100):\n",
    "    print(randint(0,9))\n"
   ]
  },
  {
   "cell_type": "code",
   "execution_count": 1,
   "metadata": {
    "cocalc": {
     "outputs": {
      "1": {
       "name": "input",
       "opts": {
        "password": false,
        "prompt": "Digite a nota do 1º aluno, quando terminar digite -1"
       },
       "output_type": "stream"
      }
     }
    },
    "collapsed": false
   },
   "outputs": [
    {
     "name": "stdout",
     "output_type": "stream",
     "text": [
      "Manipulação de notas:\n"
     ]
    },
    {
     "name": "stdout",
     "output_type": "stream",
     "text": "Digite a nota do 1º aluno, quando terminar digite -1 "
    }
   ],
   "source": [
    "#Exercicio 02\n",
    "\n",
    "print (\"Manipulação de notas:\")\n",
    "j=0\n",
    "i=0\n",
    "listanotas=[]\n",
    "while (i!=-1):\n",
    "    i=(float(input(\"Digite a nota do \" +str(j+1)+ \"º aluno, quando terminar digite -1\")))\n",
    "    listanotas.append(i)\n",
    "    j=j+1\n",
    "    \n",
    "print (\"O numero de notas digitadas foi:\")\n",
    "print (j-1)\n",
    "del listanotas[-1]\n",
    "print (\"A lista de notas eh:\")\n",
    "print (listanotas)\n",
    "print (\"A lista de notas de tras pra frente eh:\")\n",
    "listanotas.reverse()\n",
    "print (listanotas)\n",
    "soma=(sum(listanotas))\n",
    "media=soma/float(len(listanotas))\n",
    "print (\"A soma das notas eh:\")\n",
    "print(soma)\n",
    "print (\"A media das notas eh:\")\n",
    "print(media)\n",
    "acimadamedia=[]\n",
    "abaixodesete=[]\n",
    "i=0\n",
    "for i in range(len(listanotas)):\n",
    "    if(listanotas[i]>media):\n",
    "        acimadamedia.append(listanotas[i])\n",
    "    if(listanotas[i]<7):\n",
    "        abaixodesete.append(listanotas[i])\n",
    "print (\"existem \" +str(len(acimadamedia))+ \" notas acima da media, são:\")\n",
    "print (acimadamedia)\n",
    "print (\"existem \" +str(len(abaixodesete))+ \" notas abaixo de sete, são:\")\n",
    "print (abaixodesete)\n",
    "print (\"\\n\")\n",
    "print (\"Obrigado por usar, volte sempre :D\")"
   ]
  },
  {
   "cell_type": "code",
   "execution_count": 0,
   "metadata": {
    "collapsed": false
   },
   "outputs": [
   ],
   "source": [
    "#Exercicio 03\n",
    "a=input(\"Digite o coeficiente 'a'= \")\n",
    "if a == 0:\n",
    "    a=input(\"O valor de a não pode ser nulo, digite um valor maior ou menor que 0 = \")\n",
    "b=input(\"Digite o coeficiente 'b'= \")\n",
    "c=input(\"Digite o coeficiente 'c'= \")\n",
    "print \"a = %s\" % (a)\n",
    "print \"b = %s\" % (b)\n",
    "print \"c = %s\" % (c)\n",
    "delta = \"b^2-4ac = %d\" % ((pow(b,2))-4*a*c)\n",
    "print delta\n",
    "resultado_delta = (pow(b,2))-4*a*c\n",
    "if resultado_delta < 0:\n",
    "    print \"Delta Negativo, Equação nao apresenta soluções reais.\"\n",
    "    import sys\n",
    "\n",
    "if resultado_delta == 0:  \n",
    "    print \"Delta nulo. Equação apresenta apenas uma solução real.\"\n",
    "    print \"%s / 2*%s\" % (-b,a)\n",
    "    print \"%s / 2*%s = %d\" % (-b,a,(-b)/2*a)\n",
    "           \n",
    "else:\n",
    "    import math\n",
    "    print \"%sx^2 + (%s) + (%s) = 0\" % (a,b,c)\n",
    "    float(resultado_delta)\n",
    "    raiz_quadrada = math.sqrt(resultado_delta)\n",
    "    cima_bsk_pos=(-b+raiz_quadrada)\n",
    "    cima_bsk_neg=(-b-raiz_quadrada)\n",
    "    baixo_bsk=(2*a)\n",
    "    resultado_raiz_pos= \"%s / %s\" % (cima_bsk_pos,baixo_bsk)\n",
    "    resultado_raiz_neg= \"%s / %s\" % (cima_bsk_neg,baixo_bsk)\n",
    "    print \"Para -(%s) + %s / 2*a temos: %s\" % (b,raiz_quadrada,resultado_raiz_pos)\n",
    "    print \"Para -(%s) - %s / 2*a temos: %s\" % (b,raiz_quadrada,resultado_raiz_neg)\n",
    "    print \"Recomendo tomar duas casas apos a virgula.\"\n",
    " "
   ]
  },
  {
   "cell_type": "code",
   "execution_count": 0,
   "metadata": {
    "collapsed": false
   },
   "outputs": [
   ],
   "source": [
    "#Exercicio 4\n",
    "est=['Primavera', 'Outono', 'Inverno', 'Verão']\n",
    "mes= ['Janeiro','Fevereiro','Março','Abril','Maio','Junho','Julho','Agosto','Setembro', 'Outubro', 'Novembro','Dezembro']\n",
    "\n",
    "from random import randrange\n",
    "for i in range (1,13):\n",
    "    if i > 3 and i <=6:\n",
    "        j=1\n",
    "    elif i >=6 and i<=9:\n",
    "        j=2\n",
    "    elif i >=9 and i<=12:\n",
    "        j=3\n",
    "    else:\n",
    "        j=4\n",
    "\n",
    "    content = \"A minha estação predileta é \"+str(est[j-1])+\", especialmente o \"+str(mes[j-i])+\".\\n\"\n",
    "    with open('arq_'+str(mes[i-1])+'_'+str(est[j-1])+'.txt','w') as f:\n",
    "              for k in range (1,randrange(6,20)):\n",
    "                  f.write(content)\n",
    "    f.close()\n",
    "    !zip file.zip arq*.txt"
   ]
  }
 ],
 "metadata": {
  "kernelspec": {
   "display_name": "Python 3 (Anaconda)",
   "language": "python",
   "name": "anaconda3"
  },
  "language_info": {
   "codemirror_mode": {
    "name": "ipython",
    "version": 3
   },
   "file_extension": ".py",
   "mimetype": "text/x-python",
   "name": "python",
   "nbconvert_exporter": "python",
   "pygments_lexer": "ipython3",
   "version": "3.5.3"
  }
 },
 "nbformat": 4,
 "nbformat_minor": 0
}