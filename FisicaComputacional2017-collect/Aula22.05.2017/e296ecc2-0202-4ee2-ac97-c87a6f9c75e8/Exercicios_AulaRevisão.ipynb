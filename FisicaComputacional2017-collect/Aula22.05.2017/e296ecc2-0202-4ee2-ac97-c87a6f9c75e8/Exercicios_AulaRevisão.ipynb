{
 "cells": [
  {
   "cell_type": "markdown",
   "metadata": {
    "collapsed": false
   },
   "source": [
    "## Exercício 1"
   ]
  },
  {
   "cell_type": "code",
   "execution_count": 1,
   "metadata": {
    "collapsed": false
   },
   "outputs": [
    {
     "name": "stdout",
     "output_type": "stream",
     "text": [
      "[731, 84, 297, 659, 309, 434, 618, 546, 59, 332, 500, 752, 762, 892, 599, 58, 283, 639, 618, 675, 494, 115, 303, 727, 267, 575, 960, 236, 321, 644, 113, 952, 751, 213, 498, 561, 794, 207, 761, 429, 70, 782, 761, 592, 336, 23, 389, 714, 223, 151, 12, 434, 652, 682, 530, 569, 310, 866, 945, 702, 994, 130, 193, 272, 599, 562, 918, 170, 602, 128, 111, 627, 957, 662, 411, 662, 291, 436, 990, 255, 120, 319, 100, 309, 993, 407, 37, 850, 477, 473, 818, 758, 29, 142, 526, 403, 278, 707, 260, 341]\n",
      "\n",
      "[407, 190, 478, 484, 371, 526, 582, 302, 195, 416, 626, 757, 827, 745, 328, 170, 461, 628, 646, 584, 304, 209, 515, 497, 421, 767, 598, 278, 482, 378, 532, 851, 482, 355, 529, 677, 500, 484, 595, 249, 426, 771, 676, 464, 179, 206, 551, 468, 187, 81, 223, 543, 667, 606, 549, 439, 588, 905, 823, 848, 562, 161, 232, 435, 580, 740, 544, 386, 365, 119, 369, 792, 809, 536, 536, 476, 363, 713, 622, 187, 219, 209, 204, 651, 700, 222, 443, 663, 475, 645, 788, 393, 85, 334, 464, 340, 492, 483, 300]\n"
     ]
    }
   ],
   "source": [
    "import random\n",
    "\n",
    "lista = []\n",
    "intervalo_media=[]\n",
    "for i in range(100):\n",
    "  lista.append(random.randint(0, 1000))\n",
    "print lista\n",
    "print \n",
    "\n",
    "for i in range(len(lista)-1):\n",
    "  intervalo_media.append((lista[i] + lista[i+1])/2)\n",
    "print intervalo_media  \n"
   ]
  },
  {
   "cell_type": "markdown",
   "metadata": {
    "collapsed": false
   },
   "source": [
    "## Exercício 3"
   ]
  },
  {
   "cell_type": "code",
   "execution_count": 4,
   "metadata": {
    "cocalc": {
     "outputs": {
      "0": {
       "name": "input",
       "opts": {
        "password": false,
        "prompt": "Digite um valor para A: "
       },
       "output_type": "stream",
       "value": "2"
      },
      "1": {
       "name": "input",
       "opts": {
        "password": false,
        "prompt": "Digite um valor para B: "
       },
       "output_type": "stream",
       "value": "6"
      },
      "2": {
       "name": "input",
       "opts": {
        "password": false,
        "prompt": "Digite um valor para C: "
       },
       "output_type": "stream",
       "value": "3"
      }
     }
    }
   },
   "outputs": [
    {
     "name": "stdout",
     "output_type": "stream",
     "text": "Digite um valor para A:  2"
    },
    {
     "name": "stdout",
     "output_type": "stream",
     "text": "Digite um valor para B:  6"
    },
    {
     "name": "stdout",
     "output_type": "stream",
     "text": "Digite um valor para C:  3"
    },
    {
     "name": "stdout",
     "output_type": "stream",
     "text": [
      "O Delta vale: -8.0\n"
     ]
    }
   ],
   "source": [
    "import math\n",
    "\n",
    "a = float(input(\"Insira o valor de A: \"))\n",
    "b = float(input(\"Insira o valor de B: \"))\n",
    "c = float(input(\"Insira o valor de C: \"))\n",
    "delta = math.pow(b,2) - 4*a*c\n",
    "print(\"O Delta vale: \"+str(delta))\n",
    "if delta>0:\n",
    "    x1 = (-b + math.sqrt(delta))/float(2*a)\n",
    "    x2 = (-b - math.sqrt(delta))/float(2*a)\n",
    "    print(\"Existem duas raizes reais\"+str(x1)+\"e\"+str(x2))\n"
   ]
  },
  {
   "cell_type": "markdown",
   "metadata": {
    "collapsed": false
   },
   "source": [
    "## Exercício 6"
   ]
  },
  {
   "cell_type": "code",
   "execution_count": 6,
   "metadata": {
    "collapsed": false
   },
   "outputs": [
    {
     "name": "stdout",
     "output_type": "stream",
     "text": [
      "As notas do Lucas são [7, 5, 5, 3, 0, 7, 5, 5, 3, 8]\n",
      "As notas do Gustavo são [8, 9, 7, 3, 7, 1, 6, 9, 1, 8]\n",
      "As notas do Felipe são [2, 4, 8, 4, 9, 9, 10, 9, 3, 10]\n",
      "As notas do Gabriel são [7, 6, 1, 8, 5, 2, 2, 2, 8, 0]\n",
      "As notas do Juan são [2, 6, 10, 0, 0, 6, 9, 4, 0, 6]\n",
      "[[ 7  5  5  3  0  7  5  5  3  8]\n",
      " [ 8  9  7  3  7  1  6  9  1  8]\n",
      " [ 2  4  8  4  9  9 10  9  3 10]\n",
      " [ 7  6  1  8  5  2  2  2  8  0]\n",
      " [ 2  6 10  0  0  6  9  4  0  6]]\n"
     ]
    }
   ],
   "source": [
    "import random\n",
    "import pandas as pd\n",
    "import numpy as np\n",
    "nomes= [\"Lucas\", \"Gustavo\", \"Felipe\", \"Gabriel\", \"Juan\"]\n",
    "notas = []\n",
    "for i in range(5):\n",
    "    a = []\n",
    "    for j in range(10):\n",
    "        a.append(random.randint(0,10))\n",
    "    notas.append(a)\n",
    "for i in range(5):\n",
    "    print(\"As notas do \"+str(nomes[i])+\" são \"+str(notas[i]))\n",
    "notas = np.array(notas)\n",
    "print(notas)\n",
    "\n",
    "\n"
   ]
  },
  {
   "cell_type": "markdown",
   "metadata": {
    "collapsed": false
   },
   "source": [
    "## Exercício 4"
   ]
  },
  {
   "cell_type": "code",
   "execution_count": 8,
   "metadata": {
    "collapsed": false
   },
   "outputs": [
    {
     "name": "stdout",
     "output_type": "stream",
     "text": [
      "updating: arq Janeiro Verao.txt (stored 0%)\r\n",
      "updating: arq Fevereiro Inverno.txt (deflated 94%)\r\n",
      "updating: arq Março Outono.txt (deflated 88%)\r\n",
      "updating: arq Abril Primavera.txt (deflated 91%)\r\n"
     ]
    },
    {
     "name": "stdout",
     "output_type": "stream",
     "text": [
      "updating: arq Janeiro Verao.txt (deflated 92%)\r\n",
      "updating: arq Fevereiro Inverno.txt (deflated 94%)\r\n",
      "updating: arq Março Outono.txt (deflated 88%)\r\n",
      "updating: arq Abril Primavera.txt (deflated 91%)\r\n",
      "  adding: arq Fevereiro Verao.txt (stored 0%)\r\n"
     ]
    },
    {
     "name": "stdout",
     "output_type": "stream",
     "text": [
      "updating: arq Janeiro Verao.txt (deflated 92%)\r\n",
      "updating: arq Fevereiro Inverno.txt (deflated 94%)\r\n",
      "updating: arq Março Outono.txt (deflated 88%)\r\n",
      "updating: arq Abril Primavera.txt (deflated 91%)\r\n",
      "updating: arq Fevereiro Verao.txt (deflated 91%)\r\n",
      "  adding: arq Março Verao.txt (stored 0%)\r\n"
     ]
    },
    {
     "name": "stdout",
     "output_type": "stream",
     "text": [
      "updating: arq Janeiro Verao.txt (deflated 92%)\r\n",
      "updating: arq Fevereiro Inverno.txt (deflated 94%)\r\n",
      "updating: arq Março Outono.txt (deflated 88%)\r\n",
      "updating: arq Abril Primavera.txt (deflated 91%)\r\n",
      "updating: arq Fevereiro Verao.txt (deflated 91%)\r\n",
      "updating: arq Março Verao.txt (deflated 93%)\r\n",
      "  adding: arq Abril Inverno.txt (stored 0%)\r\n"
     ]
    },
    {
     "name": "stdout",
     "output_type": "stream",
     "text": [
      "updating: arq Janeiro Verao.txt (deflated 92%)\r\n",
      "updating: arq Fevereiro Inverno.txt (deflated 94%)\r\n",
      "updating: arq Março Outono.txt (deflated 88%)\r\n",
      "updating: arq Abril Primavera.txt (deflated 91%)\r\n",
      "updating: arq Fevereiro Verao.txt (deflated 91%)\r\n",
      "updating: arq Março Verao.txt (deflated 93%)\r\n",
      "updating: arq Abril Inverno.txt (deflated 93%)\r\n",
      "  adding: arq Maio Inverno.txt (stored 0%)\r\n"
     ]
    },
    {
     "name": "stdout",
     "output_type": "stream",
     "text": [
      "updating: arq Janeiro Verao.txt (deflated 92%)\r\n",
      "updating: arq Fevereiro Inverno.txt (deflated 94%)\r\n",
      "updating: arq Março Outono.txt (deflated 88%)\r\n",
      "updating: arq Abril Primavera.txt (deflated 91%)\r\n",
      "updating: arq Fevereiro Verao.txt (deflated 91%)\r\n",
      "updating: arq Março Verao.txt (deflated 93%)\r\n",
      "updating: arq Abril Inverno.txt (deflated 93%)\r\n",
      "updating: arq Maio Inverno.txt (deflated 86%)\r\n",
      "  adding: arq Junho Inverno.txt (stored 0%)\r\n"
     ]
    },
    {
     "name": "stdout",
     "output_type": "stream",
     "text": [
      "updating: arq Janeiro Verao.txt (deflated 92%)\r\n",
      "updating: arq Fevereiro Inverno.txt (deflated 94%)\r\n",
      "updating: arq Março Outono.txt (deflated 88%)\r\n",
      "updating: arq Abril Primavera.txt (deflated 91%)\r\n",
      "updating: arq Fevereiro Verao.txt (deflated 91%)\r\n",
      "updating: arq Março Verao.txt (deflated 93%)\r\n",
      "updating: arq Abril Inverno.txt (deflated 93%)\r\n",
      "updating: arq Maio Inverno.txt (deflated 86%)\r\n",
      "updating: arq Junho Inverno.txt (deflated 94%)\r\n",
      "  adding: arq Julho Outono.txt (stored 0%)\r\n"
     ]
    },
    {
     "name": "stdout",
     "output_type": "stream",
     "text": [
      "updating: arq Janeiro Verao.txt (deflated 92%)\r\n",
      "updating: arq Fevereiro Inverno.txt (deflated 94%)\r\n",
      "updating: arq Março Outono.txt (deflated 88%)\r\n",
      "updating: arq Abril Primavera.txt (deflated 91%)\r\n",
      "updating: arq Fevereiro Verao.txt (deflated 91%)\r\n",
      "updating: arq Março Verao.txt (deflated 93%)\r\n",
      "updating: arq Abril Inverno.txt (deflated 93%)\r\n",
      "updating: arq Maio Inverno.txt (deflated 86%)\r\n",
      "updating: arq Junho Inverno.txt (deflated 94%)\r\n",
      "updating: arq Julho Outono.txt (deflated 89%)\r\n",
      "  adding: arq Agosto Outono.txt (stored 0%)\r\n"
     ]
    },
    {
     "name": "stdout",
     "output_type": "stream",
     "text": [
      "updating: arq Janeiro Verao.txt (deflated 92%)\r\n",
      "updating: arq Fevereiro Inverno.txt (deflated 94%)\r\n",
      "updating: arq Março Outono.txt (deflated 88%)\r\n",
      "updating: arq Abril Primavera.txt (deflated 91%)\r\n",
      "updating: arq Fevereiro Verao.txt (deflated 91%)\r\n",
      "updating: arq Março Verao.txt (deflated 93%)\r\n",
      "updating: arq Abril Inverno.txt (deflated 93%)\r\n",
      "updating: arq Maio Inverno.txt (deflated 86%)\r\n",
      "updating: arq Junho Inverno.txt (deflated 94%)\r\n",
      "updating: arq Julho Outono.txt (deflated 89%)\r\n",
      "updating: arq Agosto Outono.txt (deflated 79%)\r\n",
      "  adding: arq Setembro Outono.txt (stored 0%)\r\n"
     ]
    },
    {
     "name": "stdout",
     "output_type": "stream",
     "text": [
      "updating: arq Janeiro Verao.txt (deflated 92%)\r\n",
      "updating: arq Fevereiro Inverno.txt (deflated 94%)\r\n",
      "updating: arq Março Outono.txt (deflated 88%)\r\n",
      "updating: arq Abril Primavera.txt (deflated 91%)\r\n",
      "updating: arq Fevereiro Verao.txt (deflated 91%)\r\n",
      "updating: arq Março Verao.txt (deflated 93%)\r\n",
      "updating: arq Abril Inverno.txt (deflated 93%)\r\n",
      "updating: arq Maio Inverno.txt (deflated 86%)\r\n",
      "updating: arq Junho Inverno.txt (deflated 94%)\r\n",
      "updating: arq Julho Outono.txt (deflated 89%)\r\n",
      "updating: arq Agosto Outono.txt (deflated 79%)\r\n",
      "updating: arq Setembro Outono.txt (deflated 93%)\r\n",
      "  adding: arq Outubro Primavera.txt (stored 0%)\r\n"
     ]
    },
    {
     "name": "stdout",
     "output_type": "stream",
     "text": [
      "updating: arq Janeiro Verao.txt (deflated 92%)\r\n",
      "updating: arq Fevereiro Inverno.txt (deflated 94%)\r\n",
      "updating: arq Março Outono.txt (deflated 88%)\r\n",
      "updating: arq Abril Primavera.txt (deflated 91%)\r\n",
      "updating: arq Fevereiro Verao.txt (deflated 91%)\r\n",
      "updating: arq Março Verao.txt (deflated 93%)\r\n",
      "updating: arq Abril Inverno.txt (deflated 93%)\r\n",
      "updating: arq Maio Inverno.txt (deflated 86%)\r\n",
      "updating: arq Junho Inverno.txt (deflated 94%)\r\n",
      "updating: arq Julho Outono.txt (deflated 89%)\r\n",
      "updating: arq Agosto Outono.txt (deflated 79%)\r\n",
      "updating: arq Setembro Outono.txt (deflated 93%)\r\n",
      "updating: arq Outubro Primavera.txt (deflated 92%)\r\n",
      "  adding: arq Novembro Primavera.txt (stored 0%)\r\n"
     ]
    },
    {
     "name": "stdout",
     "output_type": "stream",
     "text": [
      "updating: arq Janeiro Verao.txt (deflated 92%)\r\n",
      "updating: arq Fevereiro Inverno.txt (deflated 94%)\r\n",
      "updating: arq Março Outono.txt (deflated 88%)\r\n",
      "updating: arq Abril Primavera.txt (deflated 91%)\r\n",
      "updating: arq Fevereiro Verao.txt (deflated 91%)\r\n",
      "updating: arq Março Verao.txt (deflated 93%)\r\n",
      "updating: arq Abril Inverno.txt (deflated 93%)\r\n",
      "updating: arq Maio Inverno.txt (deflated 86%)\r\n",
      "updating: arq Junho Inverno.txt (deflated 94%)\r\n",
      "updating: arq Julho Outono.txt (deflated 89%)\r\n",
      "updating: arq Agosto Outono.txt (deflated 79%)\r\n",
      "updating: arq Setembro Outono.txt (deflated 93%)\r\n",
      "updating: arq Outubro Primavera.txt (deflated 92%)\r\n",
      "updating: arq Novembro Primavera.txt (deflated 91%)\r\n",
      "  adding: arq Dezembro Primavera.txt (stored 0%)\r\n"
     ]
    }
   ],
   "source": [
    "import random \n",
    "mes = [\"Janeiro\", \"Fevereiro\", \"Março\", \"Abril\",\"Maio\",\"Junho\", \"Julho\", \"Agosto\", \"Setembro\", \"Outubro\", \"Novembro\", \"Dezembro\"]\n",
    "estacao = [\"Verao\", \"Inverno\", \"Outono\", \"Primavera\"]\n",
    "for i in range(12):\n",
    "    if i < 3:\n",
    "        n = 0\n",
    "    elif 3<= i <6:\n",
    "        n=1\n",
    "    elif 6<= i <9:\n",
    "        n=2\n",
    "    else:\n",
    "        n=3\n",
    "    arq=open(\"arq \"+str(mes[i])+\" \"+str(estacao[n])+\".txt\", \"w\")\n",
    "    arq.write( random.randint(5,20)*(\"A minha estacao predileta e \"+str(estacao[n])+\"especialmente em\"+str(mes[i])+\"\\n\"))\n",
    "    arq.close\n",
    "    !zip file.zip arq*.txt\n",
    "    \n",
    "    "
   ]
  }
 ],
 "metadata": {
  "kernelspec": {
   "display_name": "Python 2 (SageMath)",
   "language": "python",
   "name": "python2"
  },
  "language_info": {
   "codemirror_mode": {
    "name": "ipython",
    "version": 2
   },
   "file_extension": ".py",
   "mimetype": "text/x-python",
   "name": "python",
   "nbconvert_exporter": "python",
   "pygments_lexer": "ipython2",
   "version": "2.7.13"
  }
 },
 "nbformat": 4,
 "nbformat_minor": 0
}