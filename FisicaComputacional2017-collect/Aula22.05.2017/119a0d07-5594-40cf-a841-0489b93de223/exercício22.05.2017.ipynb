{
 "cells": [
  {
   "cell_type": "code",
   "execution_count": 7,
   "metadata": {
    "cocalc": {
     "outputs": {
      "0": {
       "name": "input",
       "opts": {
        "password": false,
        "prompt": "Digite valor para 'a'= "
       },
       "output_type": "stream"
      }
     }
    },
    "collapsed": false
   },
   "outputs": [
    {
     "name": "stdout",
     "output_type": "stream",
     "text": "Digite valor para 'a'=  "
    }
   ],
   "source": [
    "a=int(input(\"Digite valor para 'a'= \"))\n",
    "b=int(input(\"Digite valor para 'b'= \"))\n",
    "c=int(input(\"Digite valor para 'c'= \"))\n",
    "\n",
    "delta=((pow(b,2))-4*a*c)\n",
    "print(delta)\n",
    "\n",
    "if delta<0:\n",
    "    print (\"Não possui solução real\")\n",
    "    import sys\n",
    "    \n",
    "elif delta ==0:\n",
    "    print (\"Delta nulo. Equação apresenta apenas uma solução real.\")\n",
    "    print (-b,a)\n",
    "    print (-b,a,(-b)/2*a)\n",
    "    \n",
    "else:\n",
    "    import math\n",
    "    print(a,b,c)\n",
    "    float(delta)\n",
    "    delta_quadrado=math.sqrt(delta)\n",
    "    raiz_pos=(-b+raiz_quadrada)\n",
    "    raiz_neg=(-b-raiz_quadrada)\n",
    "    baixo_bsk=(2*a)\n",
    "    resultado_raiz_pos=(raiz_pos, raiz_neg)\n",
    "    resultado_raiz_neg=(raiz_pos, baixo_bsk)\n",
    "    print(b,raiz_pos,raiz_neg)\n",
    "    print(b,raiz_pos,raiz_neg)\n",
    "    print(\"Duas casas após a virgúla.\")"
   ]
  },
  {
   "cell_type": "code",
   "execution_count": 6,
   "metadata": {
    "collapsed": false
   },
   "outputs": [
    {
     "name": "stdout",
     "output_type": "stream",
     "text": [
      "[526, 202, 930, 829, 409, 225, 501, 750, 132, 938, 354, 615, 129, 876, 656, 930, 420, 213, 124, 388, 939, 395, 574, 114, 480, 288, 187, 24, 131, 314, 519, 222, 314, 80, 152, 153, 129, 925, 878, 725, 841, 465, 685, 683, 425, 665, 460, 27, 19, 575, 153, 968, 375, 397, 156, 975, 502, 717, 568, 348, 525, 782, 544, 279, 390, 432, 846, 478, 161, 154, 658, 750, 770, 273, 604, 309, 260, 677, 70, 89, 137, 390, 847, 321, 895, 138, 637, 766, 534, 3, 495, 881, 718, 597, 284, 323, 507, 659, 182, 435]\n",
      "\n",
      "[364, 566, 879, 619, 317, 363, 625, 441, 535, 646, 484, 372, 502, 766, 793, 675, 316, 168, 256, 663, 667, 484, 344, 297, 384, 237, 105, 77, 222, 416, 370, 268, 197, 116, 152, 141, 527, 901, 801, 783, 653, 575, 684, 554, 545, 562, 243, 23, 297, 364, 560, 671, 386, 276, 565, 738, 609, 642, 458, 436, 653, 663, 411, 334, 411, 639, 662, 319, 157, 406, 704, 760, 521, 438, 456, 284, 468, 373, 79, 113, 263, 618, 584, 608, 516, 387, 701, 650, 268, 249, 688, 799, 657, 440, 303, 415, 583, 420, 308]\n"
     ]
    }
   ],
   "source": [
    "import random\n",
    "\n",
    "lista = []\n",
    "media = []\n",
    "for i in range (100):\n",
    "    lista.append(random.randint(0,1000))\n",
    "print lista\n",
    "print\n",
    "for i in range (len(lista) - 1):\n",
    "    media.append((lista[i]+lista[i+1])/2)\n",
    "\n",
    "print media"
   ]
  },
  {
   "cell_type": "code",
   "execution_count": 0,
   "metadata": {
    "collapsed": false
   },
   "outputs": [
   ],
   "source": [
   ]
  }
 ],
 "metadata": {
  "kernelspec": {
   "display_name": "Python 2 (SageMath)",
   "language": "python",
   "name": "python2"
  },
  "language_info": {
   "codemirror_mode": {
    "name": "ipython",
    "version": 2
   },
   "file_extension": ".py",
   "mimetype": "text/x-python",
   "name": "python",
   "nbconvert_exporter": "python",
   "pygments_lexer": "ipython2",
   "version": "2.7.13"
  }
 },
 "nbformat": 4,
 "nbformat_minor": 0
}