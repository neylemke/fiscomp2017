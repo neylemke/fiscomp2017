{
 "cells": [
  {
   "cell_type": "code",
   "execution_count": 2,
   "metadata": {
    "cocalc": {
     "outputs": {
      "0": {
       "name": "input",
       "opts": {
        "password": false,
        "prompt": "Digite o coeficiente 'a'= "
       },
       "output_type": "stream",
       "value": "1.58"
      },
      "1": {
       "name": "input",
       "opts": {
        "password": false,
        "prompt": "Digite o coeficiente 'b'= "
       },
       "output_type": "stream",
       "value": "1.23"
      },
      "2": {
       "name": "input",
       "opts": {
        "password": false,
        "prompt": "Digite o coeficiente 'c'= "
       },
       "output_type": "stream",
       "value": "1.78"
      }
     }
    }
   },
   "outputs": [
    {
     "name": "stdout",
     "output_type": "stream",
     "text": "Digite o coeficiente 'a'=  1.58"
    },
    {
     "name": "stdout",
     "output_type": "stream",
     "text": "Digite o coeficiente 'b'=  1.23"
    },
    {
     "name": "stdout",
     "output_type": "stream",
     "text": "Digite o coeficiente 'c'=  1.78"
    },
    {
     "name": "stdout",
     "output_type": "stream",
     "text": [
      "-3\n",
      "Equacao sem solucao real\n"
     ]
    }
   ],
   "source": [
    "#Exercicio 3 - raizes da função quadrada (20/04)\n",
    "a=int(input(\"Digite o coeficiente 'a'= \"))\n",
    "b=int(input(\"Digite o coeficiente 'b'= \"))\n",
    "c=int(input(\"Digite o coeficiente 'c'= \"))\n",
    "\n",
    "\n",
    "delta = ((pow(b,2))-4*a*c)\n",
    "print(delta)\n",
    "\n",
    "if delta < 0:\n",
    "    print (\"Equacao sem solucao real\")\n",
    "    import sys\n",
    "\n",
    "elif delta == 0:  \n",
    "    print (\"Delta nulo. Equação apresenta apenas uma solução real.\")\n",
    "    print (-b,a)\n",
    "    print (-b,a,(-b)/2*a)\n",
    "else:\n",
    "    import math\n",
    "    print(a,b,c)\n",
    "    float(delta)\n",
    "    delta_quadrado = math.sqrt(delta)\n",
    "    raiz_pos=(-b+raiz_quadrada)\n",
    "    raiz_neg=(-b-raiz_quadrada)\n",
    "    baixo_bsk=(2*a)\n",
    "    resultado_raiz_pos= (raiz_pos,raiz_neg)\n",
    "    resultado_raiz_neg= (raiz_pos,baixo_bsk)\n",
    "    print (b,raiz_pos,raiz_neg)\n",
    "    print (b,raiz_pos,raiz_neg)\n",
    "    print (\"Recomendo tomar duas casas apos a virgula.\")"
   ]
  },
  {
   "cell_type": "code",
   "execution_count": 3,
   "metadata": {
    "collapsed": false
   },
   "outputs": [
    {
     "ename": "IndentationError",
     "evalue": "unexpected indent (<ipython-input-3-a3ae8ffb4911>, line 2)",
     "output_type": "error",
     "traceback": [
      "\u001b[0;36m  File \u001b[0;32m\"<ipython-input-3-a3ae8ffb4911>\"\u001b[0;36m, line \u001b[0;32m2\u001b[0m\n\u001b[0;31m    import random\u001b[0m\n\u001b[0m    ^\u001b[0m\n\u001b[0;31mIndentationError\u001b[0m\u001b[0;31m:\u001b[0m unexpected indent\n"
     ]
    }
   ],
   "source": [
    "#Exercicio 4 - estação dia 24/04 \n",
    " import random\n",
    "estacao=['verão', 'outono', 'inverno', 'primavera']\n",
    "mes= [\"janeiro\",'fevereiro','marco','abril','maio','junho','julho','agosto','setembro','outubro','novembro','dezembro']\n",
    "for i in range(12):\n",
    "    arq=open(\"arq_\"+str(mes[i])+\"_\"+str(estacao[random.randint(0,3)])+\".txt\",\"w\")\n",
    "    arq.write(random.randint(5,20)*\"A minha estação predileta é \"+str(estacao[random.randint(0,3)])+\", especialmente o\"+str(mes[i])+\".\\n\")\n",
    "    arq.close()"
   ]
  },
  {
   "cell_type": "code",
   "execution_count": 4,
   "metadata": {
    "collapsed": false
   },
   "outputs": [
    {
     "data": {
      "text/html": [
       "<div>\n",
       "<table border=\"1\" class=\"dataframe\">\n",
       "  <thead>\n",
       "    <tr style=\"text-align: right;\">\n",
       "      <th></th>\n",
       "      <th>Série</th>\n",
       "      <th>Geração</th>\n",
       "      <th>Temporada</th>\n",
       "      <th>Primeiro Episódio</th>\n",
       "      <th>Último Episódio</th>\n",
       "      <th>Regiao</th>\n",
       "    </tr>\n",
       "  </thead>\n",
       "  <tbody>\n",
       "    <tr>\n",
       "      <th>0</th>\n",
       "      <td>Série Original</td>\n",
       "      <td>Primeira</td>\n",
       "      <td>Liga Indigo</td>\n",
       "      <td>001</td>\n",
       "      <td>083</td>\n",
       "      <td>Kanto</td>\n",
       "    </tr>\n",
       "    <tr>\n",
       "      <th>1</th>\n",
       "      <td>Série Original</td>\n",
       "      <td>Primeira</td>\n",
       "      <td>Aventuras nas Ilhas Laranja</td>\n",
       "      <td>084</td>\n",
       "      <td>118</td>\n",
       "      <td>Ilhas Laranja</td>\n",
       "    </tr>\n",
       "    <tr>\n",
       "      <th>2</th>\n",
       "      <td>Série Original</td>\n",
       "      <td>Segunda</td>\n",
       "      <td>A Jornada Johto</td>\n",
       "      <td>119</td>\n",
       "      <td>159</td>\n",
       "      <td>Johto</td>\n",
       "    </tr>\n",
       "    <tr>\n",
       "      <th>3</th>\n",
       "      <td>Série Original</td>\n",
       "      <td>Segunda</td>\n",
       "      <td>Campeões da Liga Johto</td>\n",
       "      <td>160</td>\n",
       "      <td>211</td>\n",
       "      <td>Johto</td>\n",
       "    </tr>\n",
       "    <tr>\n",
       "      <th>4</th>\n",
       "      <td>Série Original</td>\n",
       "      <td>Segunda</td>\n",
       "      <td>Master Quest</td>\n",
       "      <td>212</td>\n",
       "      <td>276</td>\n",
       "      <td>Johto</td>\n",
       "    </tr>\n",
       "    <tr>\n",
       "      <th>5</th>\n",
       "      <td>Geração Avançada</td>\n",
       "      <td>Terceira</td>\n",
       "      <td>Pokémon: Avançado</td>\n",
       "      <td>277</td>\n",
       "      <td>316</td>\n",
       "      <td>Hoenn</td>\n",
       "    </tr>\n",
       "    <tr>\n",
       "      <th>6</th>\n",
       "      <td>Geração Avançada</td>\n",
       "      <td>Terceira</td>\n",
       "      <td>Desafio Avançado</td>\n",
       "      <td>317</td>\n",
       "      <td>368</td>\n",
       "      <td>Hoenn</td>\n",
       "    </tr>\n",
       "    <tr>\n",
       "      <th>7</th>\n",
       "      <td>Geração Avançada</td>\n",
       "      <td>Terceira</td>\n",
       "      <td>Batalha Avançado</td>\n",
       "      <td>369</td>\n",
       "      <td>421</td>\n",
       "      <td>Hoenn</td>\n",
       "    </tr>\n",
       "    <tr>\n",
       "      <th>8</th>\n",
       "      <td>Geração Avançada</td>\n",
       "      <td>Terceira</td>\n",
       "      <td>Batalha da Fronteira</td>\n",
       "      <td>422</td>\n",
       "      <td>468</td>\n",
       "      <td>Kanto</td>\n",
       "    </tr>\n",
       "    <tr>\n",
       "      <th>9</th>\n",
       "      <td>Diamante e Pérola</td>\n",
       "      <td>Quarta</td>\n",
       "      <td>Diamante e Pérola</td>\n",
       "      <td>469</td>\n",
       "      <td>520</td>\n",
       "      <td>Sinnoh</td>\n",
       "    </tr>\n",
       "    <tr>\n",
       "      <th>10</th>\n",
       "      <td>Diamante e Pérola</td>\n",
       "      <td>Quarta</td>\n",
       "      <td>Batalha Dimensional</td>\n",
       "      <td>521</td>\n",
       "      <td>572</td>\n",
       "      <td>Sinnoh</td>\n",
       "    </tr>\n",
       "    <tr>\n",
       "      <th>11</th>\n",
       "      <td>Diamante e Pérola</td>\n",
       "      <td>Quarta</td>\n",
       "      <td>Batalhas Galácticas</td>\n",
       "      <td>573</td>\n",
       "      <td>625</td>\n",
       "      <td>Sinnoh</td>\n",
       "    </tr>\n",
       "    <tr>\n",
       "      <th>12</th>\n",
       "      <td>Diamante e Pérola</td>\n",
       "      <td>Quarta</td>\n",
       "      <td>Vencedores da Liga Sinnoh</td>\n",
       "      <td>626</td>\n",
       "      <td>659</td>\n",
       "      <td>Sinnoh</td>\n",
       "    </tr>\n",
       "    <tr>\n",
       "      <th>13</th>\n",
       "      <td>Preto e Branco</td>\n",
       "      <td>Quinta</td>\n",
       "      <td>Preto e Branco</td>\n",
       "      <td>660</td>\n",
       "      <td>707</td>\n",
       "      <td>Unova</td>\n",
       "    </tr>\n",
       "    <tr>\n",
       "      <th>14</th>\n",
       "      <td>Preto e Branco</td>\n",
       "      <td>Quinta</td>\n",
       "      <td>Destinos Rivais</td>\n",
       "      <td>708</td>\n",
       "      <td>756</td>\n",
       "      <td>Unova</td>\n",
       "    </tr>\n",
       "    <tr>\n",
       "      <th>15</th>\n",
       "      <td>Preto e Branco</td>\n",
       "      <td>Quinta</td>\n",
       "      <td>Aventuras em Unova (e Mais Além)</td>\n",
       "      <td>757</td>\n",
       "      <td>803</td>\n",
       "      <td>Unova</td>\n",
       "    </tr>\n",
       "    <tr>\n",
       "      <th>16</th>\n",
       "      <td>XY</td>\n",
       "      <td>Sexta</td>\n",
       "      <td>A Séria XY</td>\n",
       "      <td>804</td>\n",
       "      <td>852</td>\n",
       "      <td>Kalos</td>\n",
       "    </tr>\n",
       "    <tr>\n",
       "      <th>17</th>\n",
       "      <td>XY</td>\n",
       "      <td>Sexta</td>\n",
       "      <td>Kalos Quest</td>\n",
       "      <td>853</td>\n",
       "      <td>897</td>\n",
       "      <td>Kalos</td>\n",
       "    </tr>\n",
       "    <tr>\n",
       "      <th>18</th>\n",
       "      <td>XY</td>\n",
       "      <td>Sexta</td>\n",
       "      <td>XY &amp; Z</td>\n",
       "      <td>898</td>\n",
       "      <td>946</td>\n",
       "      <td>Kalos</td>\n",
       "    </tr>\n",
       "    <tr>\n",
       "      <th>19</th>\n",
       "      <td>Sun and Moon</td>\n",
       "      <td>Sétima</td>\n",
       "      <td>Sun and Moon</td>\n",
       "      <td>947</td>\n",
       "      <td>Em Andamento</td>\n",
       "      <td>Alola</td>\n",
       "    </tr>\n",
       "  </tbody>\n",
       "</table>\n",
       "</div>"
      ]
     },
     "execution_count": 4,
     "metadata": {
     },
     "output_type": "execute_result"
    }
   ],
   "source": [
    "# exercicio 5 - serie pokemon\n",
    "import pandas as pd\n",
    "dict=[{'Série': 'Série Original', 'Geração':'Primeira', 'Temporada': 'Liga Indigo', 'Primeiro Episódio': '001' , 'Último Episódio': '083', 'Regiao': 'Kanto'},    \n",
    "      {'Série': 'Série Original', 'Geração':'Primeira', 'Temporada': 'Aventuras nas Ilhas Laranja', 'Primeiro Episódio': '084' , 'Último Episódio': '118', 'Regiao': 'Ilhas Laranja'},\n",
    "      {'Série': 'Série Original', 'Geração':'Segunda', 'Temporada': 'A Jornada Johto', 'Primeiro Episódio': '119' , 'Último Episódio': '159', 'Regiao': 'Johto'},\n",
    "      {'Série': 'Série Original', 'Geração':'Segunda', 'Temporada': 'Campeões da Liga Johto', 'Primeiro Episódio': '160' , 'Último Episódio': '211', 'Regiao': 'Johto'},\n",
    "      {'Série': 'Série Original', 'Geração':'Segunda', 'Temporada': 'Master Quest', 'Primeiro Episódio': '212' , 'Último Episódio': '276', 'Regiao': 'Johto'},\n",
    "      {'Série': 'Geração Avançada', 'Geração':'Terceira', 'Temporada': 'Pokémon: Avançado', 'Primeiro Episódio': '277' , 'Último Episódio': '316', 'Regiao': 'Hoenn'},\n",
    "      {'Série': 'Geração Avançada', 'Geração':'Terceira', 'Temporada': 'Desafio Avançado', 'Primeiro Episódio': '317' , 'Último Episódio': '368', 'Regiao': 'Hoenn'},\n",
    "      {'Série': 'Geração Avançada', 'Geração':'Terceira', 'Temporada': 'Batalha Avançado', 'Primeiro Episódio': '369' , 'Último Episódio': '421', 'Regiao': 'Hoenn'},\n",
    "      {'Série': 'Geração Avançada', 'Geração':'Terceira', 'Temporada': 'Batalha da Fronteira', 'Primeiro Episódio': '422' , 'Último Episódio': '468', 'Regiao': 'Kanto'},\n",
    "      {'Série': 'Diamante e Pérola', 'Geração':'Quarta', 'Temporada': 'Diamante e Pérola', 'Primeiro Episódio': '469' , 'Último Episódio': '520', 'Regiao': 'Sinnoh'},\n",
    "      {'Série': 'Diamante e Pérola', 'Geração':'Quarta', 'Temporada': 'Batalha Dimensional', 'Primeiro Episódio': '521' , 'Último Episódio': '572', 'Regiao': 'Sinnoh'},\n",
    "      {'Série': 'Diamante e Pérola', 'Geração':'Quarta', 'Temporada': 'Batalhas Galácticas', 'Primeiro Episódio': '573' , 'Último Episódio': '625', 'Regiao': 'Sinnoh'},\n",
    "      {'Série': 'Diamante e Pérola', 'Geração':'Quarta', 'Temporada': 'Vencedores da Liga Sinnoh', 'Primeiro Episódio': '626' , 'Último Episódio': '659', 'Regiao': 'Sinnoh'},\n",
    "      {'Série': 'Preto e Branco', 'Geração':'Quinta', 'Temporada': 'Preto e Branco', 'Primeiro Episódio': '660' , 'Último Episódio': '707', 'Regiao': 'Unova'},\n",
    "      {'Série': 'Preto e Branco', 'Geração':'Quinta', 'Temporada': 'Destinos Rivais', 'Primeiro Episódio': '708' , 'Último Episódio': '756', 'Regiao': 'Unova'},\n",
    "      {'Série': 'Preto e Branco', 'Geração':'Quinta', 'Temporada': 'Aventuras em Unova (e Mais Além)', 'Primeiro Episódio': '757' , 'Último Episódio': '803', 'Regiao': 'Unova'},\n",
    "      {'Série': 'XY', 'Geração':'Sexta', 'Temporada': 'A Séria XY', 'Primeiro Episódio': '804' , 'Último Episódio': '852', 'Regiao': 'Kalos'},\n",
    "      {'Série': 'XY', 'Geração':'Sexta', 'Temporada': 'Kalos Quest', 'Primeiro Episódio': '853' , 'Último Episódio': '897', 'Regiao': 'Kalos'},\n",
    "      {'Série': 'XY', 'Geração':'Sexta', 'Temporada': 'XY & Z', 'Primeiro Episódio': '898' , 'Último Episódio': '946', 'Regiao': 'Kalos'},\n",
    "      {'Série': 'Sun and Moon', 'Geração':'Sétima', 'Temporada': 'Sun and Moon', 'Primeiro Episódio': '947' , 'Último Episódio': 'Em Andamento', 'Regiao': 'Alola'}]\n",
    "df=pd.DataFrame(dict)\n",
    "df[['Série','Geração', 'Temporada', 'Primeiro Episódio', 'Último Episódio', 'Regiao']]"
   ]
  },
  {
   "cell_type": "code",
   "execution_count": 5,
   "metadata": {
    "collapsed": false
   },
   "outputs": [
    {
     "name": "stdout",
     "output_type": "stream",
     "text": [
      "[383, 52, 721, 3, 72, 448, 617, 712, 957, 548, 61, 352, 74, 73, 547, 276, 523, 48, 999, 760, 617, 792, 737, 514, 27, 320, 751, 218, 851, 940, 916, 448, 182, 592, 506, 967, 226, 43, 800, 906, 203, 320, 848, 730, 21, 404, 584, 3, 920, 925, 17, 624, 377, 108, 11, 979, 189, 857, 41, 621, 412, 393, 332, 292, 278, 237, 252, 526, 540, 651, 463, 900, 486, 323, 935, 262, 825, 317, 583, 408, 142, 430, 26, 211, 139, 521, 29, 395, 934, 442, 11, 667, 576, 32, 856, 792, 161, 846, 818, 353]\n",
      "\n",
      "[217, 386, 362, 37, 260, 532, 664, 834, 752, 304, 206, 213, 73, 310, 411, 399, 285, 523, 879, 688, 704, 764, 625, 270, 173, 535, 484, 534, 895, 928, 682, 315, 387, 549, 736, 596, 134, 421, 853, 554, 261, 584, 789, 375, 212, 494, 293, 461, 922, 471, 320, 500, 242, 59, 495, 584, 523, 449, 331, 516, 402, 362, 312, 285, 257, 244, 389, 533, 595, 557, 681, 693, 404, 629, 598, 543, 571, 450, 495, 275, 286, 228, 118, 175, 330, 275, 212, 664, 688, 226, 339, 621, 304, 444, 824, 476, 503, 832, 585]\n"
     ]
    }
   ],
   "source": [
    "#Exercicio1\n",
    "import random\n",
    "\n",
    "lista = []\n",
    "media = []\n",
    "\n",
    "for i in range (100):\n",
    "    lista.append(random.randint(0,1000))\n",
    "print lista \n",
    "print \n",
    "for i in range (len(lista) - 1):\n",
    "    media.append((lista[i]+lista[i+1])/2)\n",
    "\n",
    "print media\n"
   ]
  },
  {
   "cell_type": "code",
   "execution_count": 0,
   "metadata": {
    "collapsed": false
   },
   "outputs": [
   ],
   "source": [
   ]
  }
 ],
 "metadata": {
  "kernelspec": {
   "display_name": "Python 2 (SageMath)",
   "language": "python",
   "name": "python2"
  },
  "language_info": {
   "codemirror_mode": {
    "name": "ipython",
    "version": 2
   },
   "file_extension": ".py",
   "mimetype": "text/x-python",
   "name": "python",
   "nbconvert_exporter": "python",
   "pygments_lexer": "ipython2",
   "version": "2.7.13"
  }
 },
 "nbformat": 4,
 "nbformat_minor": 0
}