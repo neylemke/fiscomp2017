{
 "cells": [
  {
   "cell_type": "code",
   "execution_count": 14,
   "metadata": {
    "collapsed": false
   },
   "outputs": [
    {
     "name": "stdout",
     "output_type": "stream",
     "text": [
      "[9, 0, 9, 1, 3, 3, 8, 6, 8, 2, 0, 0, 0, 8, 2, 4, 9, 3, 3, 1, 9, 5, 7, 2, 7, 7, 3, 8, 6, 4, 2, 4, 2, 8, 6, 0, 7, 5, 7, 4, 7, 1, 9, 0, 2, 2, 6, 0, 7, 6, 5, 5, 7, 9, 7, 9, 7, 3, 2, 9, 5, 5, 7, 4, 7, 7, 1, 0, 3, 9, 6, 8, 2, 1, 7, 5, 3, 7, 4, 0, 1, 0, 0, 8, 4, 3, 2, 8, 4, 2, 0, 4, 6, 5, 2, 6, 1, 4, 9, 7]\n",
      "Intervalo medio entre o numero 9 e 0 = -9\n",
      "Intervalo medio entre o numero 0 e 9 = 9\n",
      "Intervalo medio entre o numero 9 e 1 = -8\n",
      "Intervalo medio entre o numero 1 e 3 = 2\n",
      "Intervalo medio entre o numero 3 e 3 = 0\n",
      "Intervalo medio entre o numero 3 e 8 = 5\n",
      "Intervalo medio entre o numero 8 e 6 = -2\n",
      "Intervalo medio entre o numero 6 e 8 = 2\n",
      "Intervalo medio entre o numero 8 e 2 = -6\n",
      "Intervalo medio entre o numero 2 e 0 = -2\n",
      "Intervalo medio entre o numero 0 e 0 = 0\n",
      "Intervalo medio entre o numero 0 e 0 = 0\n",
      "Intervalo medio entre o numero 0 e 8 = 8\n",
      "Intervalo medio entre o numero 8 e 2 = -6\n",
      "Intervalo medio entre o numero 2 e 4 = 2\n",
      "Intervalo medio entre o numero 4 e 9 = 5\n",
      "Intervalo medio entre o numero 9 e 3 = -6\n",
      "Intervalo medio entre o numero 3 e 3 = 0\n",
      "Intervalo medio entre o numero 3 e 1 = -2\n",
      "Intervalo medio entre o numero 1 e 9 = 8\n",
      "Intervalo medio entre o numero 9 e 5 = -4\n",
      "Intervalo medio entre o numero 5 e 7 = 2\n",
      "Intervalo medio entre o numero 7 e 2 = -5\n",
      "Intervalo medio entre o numero 2 e 7 = 5\n",
      "Intervalo medio entre o numero 7 e 7 = 0\n",
      "Intervalo medio entre o numero 7 e 3 = -4\n",
      "Intervalo medio entre o numero 3 e 8 = 5\n",
      "Intervalo medio entre o numero 8 e 6 = -2\n",
      "Intervalo medio entre o numero 6 e 4 = -2\n",
      "Intervalo medio entre o numero 4 e 2 = -2\n",
      "Intervalo medio entre o numero 2 e 4 = 2\n",
      "Intervalo medio entre o numero 4 e 2 = -2\n",
      "Intervalo medio entre o numero 2 e 8 = 6\n",
      "Intervalo medio entre o numero 8 e 6 = -2\n",
      "Intervalo medio entre o numero 6 e 0 = -6\n",
      "Intervalo medio entre o numero 0 e 7 = 7\n",
      "Intervalo medio entre o numero 7 e 5 = -2\n",
      "Intervalo medio entre o numero 5 e 7 = 2\n",
      "Intervalo medio entre o numero 7 e 4 = -3\n",
      "Intervalo medio entre o numero 4 e 7 = 3\n",
      "Intervalo medio entre o numero 7 e 1 = -6\n",
      "Intervalo medio entre o numero 1 e 9 = 8\n",
      "Intervalo medio entre o numero 9 e 0 = -9\n",
      "Intervalo medio entre o numero 0 e 2 = 2\n",
      "Intervalo medio entre o numero 2 e 2 = 0\n",
      "Intervalo medio entre o numero 2 e 6 = 4\n",
      "Intervalo medio entre o numero 6 e 0 = -6\n",
      "Intervalo medio entre o numero 0 e 7 = 7\n",
      "Intervalo medio entre o numero 7 e 6 = -1\n",
      "Intervalo medio entre o numero 6 e 5 = -1\n",
      "Intervalo medio entre o numero 5 e 5 = 0\n",
      "Intervalo medio entre o numero 5 e 7 = 2\n",
      "Intervalo medio entre o numero 7 e 9 = 2\n",
      "Intervalo medio entre o numero 9 e 7 = -2\n",
      "Intervalo medio entre o numero 7 e 9 = 2\n",
      "Intervalo medio entre o numero 9 e 7 = -2\n",
      "Intervalo medio entre o numero 7 e 3 = -4\n",
      "Intervalo medio entre o numero 3 e 2 = -1\n",
      "Intervalo medio entre o numero 2 e 9 = 7\n",
      "Intervalo medio entre o numero 9 e 5 = -4\n",
      "Intervalo medio entre o numero 5 e 5 = 0\n",
      "Intervalo medio entre o numero 5 e 7 = 2\n",
      "Intervalo medio entre o numero 7 e 4 = -3\n",
      "Intervalo medio entre o numero 4 e 7 = 3\n",
      "Intervalo medio entre o numero 7 e 7 = 0\n",
      "Intervalo medio entre o numero 7 e 1 = -6\n",
      "Intervalo medio entre o numero 1 e 0 = -1\n",
      "Intervalo medio entre o numero 0 e 3 = 3\n",
      "Intervalo medio entre o numero 3 e 9 = 6\n",
      "Intervalo medio entre o numero 9 e 6 = -3\n",
      "Intervalo medio entre o numero 6 e 8 = 2\n",
      "Intervalo medio entre o numero 8 e 2 = -6\n",
      "Intervalo medio entre o numero 2 e 1 = -1\n",
      "Intervalo medio entre o numero 1 e 7 = 6\n",
      "Intervalo medio entre o numero 7 e 5 = -2\n",
      "Intervalo medio entre o numero 5 e 3 = -2\n",
      "Intervalo medio entre o numero 3 e 7 = 4\n",
      "Intervalo medio entre o numero 7 e 4 = -3\n",
      "Intervalo medio entre o numero 4 e 0 = -4\n",
      "Intervalo medio entre o numero 0 e 1 = 1\n",
      "Intervalo medio entre o numero 1 e 0 = -1\n",
      "Intervalo medio entre o numero 0 e 0 = 0\n",
      "Intervalo medio entre o numero 0 e 8 = 8\n",
      "Intervalo medio entre o numero 8 e 4 = -4\n",
      "Intervalo medio entre o numero 4 e 3 = -1\n",
      "Intervalo medio entre o numero 3 e 2 = -1\n",
      "Intervalo medio entre o numero 2 e 8 = 6\n",
      "Intervalo medio entre o numero 8 e 4 = -4\n",
      "Intervalo medio entre o numero 4 e 2 = -2\n",
      "Intervalo medio entre o numero 2 e 0 = -2\n",
      "Intervalo medio entre o numero 0 e 4 = 4\n",
      "Intervalo medio entre o numero 4 e 6 = 2\n",
      "Intervalo medio entre o numero 6 e 5 = -1\n",
      "Intervalo medio entre o numero 5 e 2 = -3\n",
      "Intervalo medio entre o numero 2 e 6 = 4\n",
      "Intervalo medio entre o numero 6 e 1 = -5\n",
      "Intervalo medio entre o numero 1 e 4 = 3\n",
      "Intervalo medio entre o numero 4 e 9 = 5\n",
      "Intervalo medio entre o numero 9 e 7 = -2\n"
     ]
    }
   ],
   "source": [
    "import random\n",
    "\n",
    "lista = []\n",
    "for i in range(100):\n",
    "    lista.append(random.randint(0,9))\n",
    "print(lista)\n",
    "for i in range(len(lista)-1):\n",
    "    print (\"Intervalo medio entre o numero \"+str(lista[i])+\" e \"+str(lista[1+i])+\" = \"+str(lista[i+1] - lista[i]))\n",
    "\n",
    "\n",
    "\n"
   ]
  },
  {
   "cell_type": "code",
   "execution_count": 0,
   "metadata": {
    "collapsed": false
   },
   "outputs": [
   ],
   "source": [
   ]
  },
  {
   "cell_type": "code",
   "execution_count": 0,
   "metadata": {
    "collapsed": false
   },
   "outputs": [
   ],
   "source": [
   ]
  },
  {
   "cell_type": "code",
   "execution_count": 0,
   "metadata": {
    "collapsed": false
   },
   "outputs": [
   ],
   "source": [
   ]
  },
  {
   "cell_type": "code",
   "execution_count": 0,
   "metadata": {
    "collapsed": false
   },
   "outputs": [
   ],
   "source": [
   ]
  },
  {
   "cell_type": "code",
   "execution_count": 0,
   "metadata": {
    "collapsed": false
   },
   "outputs": [
   ],
   "source": [
   ]
  },
  {
   "cell_type": "code",
   "execution_count": 15,
   "metadata": {
    "cocalc": {
     "outputs": {
      "0": {
       "name": "input",
       "opts": {
        "password": false,
        "prompt": "Digite valor para 'a'= "
       },
       "output_type": "stream",
       "value": "3"
      },
      "1": {
       "name": "input",
       "opts": {
        "password": false,
        "prompt": "Digite valor para 'b'= "
       },
       "output_type": "stream",
       "value": "5"
      },
      "2": {
       "name": "input",
       "opts": {
        "password": false,
        "prompt": "Digite valor para 'c'= "
       },
       "output_type": "stream",
       "value": "6"
      }
     }
    }
   },
   "outputs": [
    {
     "name": "stdout",
     "output_type": "stream",
     "text": "Digite valor para 'a'=  3"
    },
    {
     "name": "stdout",
     "output_type": "stream",
     "text": "Digite valor para 'b'=  5"
    },
    {
     "name": "stdout",
     "output_type": "stream",
     "text": "Digite valor para 'c'=  6"
    },
    {
     "name": "stdout",
     "output_type": "stream",
     "text": [
      "-47\n",
      "Não possui solução real\n"
     ]
    }
   ],
   "source": [
    "a=int(input(\"Digite valor para 'a'= \"))\n",
    "b=int(input(\"Digite valor para 'b'= \"))\n",
    "c=int(input(\"Digite valor para 'c'= \"))\n",
    "\n",
    "delta=((pow(b,2))-4*a*c)\n",
    "print(delta)\n",
    "\n",
    "if delta<0:\n",
    "    print (\"Não possui solução real\")\n",
    "    import sys\n",
    "    \n",
    "elif delta ==0:\n",
    "    print (\"Delta nulo. Equação apresenta apenas uma solução real.\")\n",
    "    print (-b,a)\n",
    "    print (-b,a,(-b)/2*a)\n",
    "    \n",
    "else:\n",
    "    import math\n",
    "    print(a,b,c)\n",
    "    float(delta)\n",
    "    delta_quadrado=math.sqrt(delta)\n",
    "    raiz_pos=(-b+raiz_quadrada)\n",
    "    raiz_neg=(-b-raiz_quadrada)\n",
    "    baixo_bsk=(2*a)\n",
    "    resultado_raiz_pos=(raiz_pos, raiz_neg)\n",
    "    resultado_raiz_neg=(raiz_pos, baixo_bsk)\n",
    "    print(b,raiz_pos,raiz_neg)\n",
    "    print(b,raiz_pos,raiz_neg)\n",
    "    print(\"Duas casas após a virgúla.\")"
   ]
  },
  {
   "cell_type": "markdown",
   "metadata": {
    "collapsed": false
   },
   "source": [
    "#### Exercicio 2\n",
    "Faça um programa que leia um número indeterminado de valores, correspondentes a notas, encerrando a entrada de dados quando for informado um valor igual a -1 (que não deve ser armazenado). Após esta entrada de dados, faça:\n",
    "- Mostre a quantidade de valores que foram lidos;\n",
    "- Exiba todos os valores na ordem em que foram informados, um ao lado do outro;\n",
    "- Exiba todos os valores na ordem inversa à que foram informados, um abaixo do outro;\n",
    "- Calcule e mostre a soma dos valores;\n",
    "- Calcule e mostre a média dos valores;\n",
    "- Calcule e mostre a quantidade de valores acima da média calculada;\n",
    "- Calcule e mostre a quantidade de valores abaixo de sete;\n",
    "- Encerre o programa com uma mensagem;"
   ]
  },
  {
   "cell_type": "markdown",
   "metadata": {
    "collapsed": false
   },
   "source": [
    "#### print (\"Digite -1 para encerrar o programa\")\n",
    "#agregando valor inicial para as variaveis\n",
    "s = 0\n",
    "n = 0\n",
    "c = 0\n",
    "l = []\n",
    "abaixo = 0 \n",
    "#pedindo para que o programa peça os valores até que seja digitado -1\n",
    "while n != -1:\n",
    "    n = int(input(\"Insira um valor: \"))\n",
    "    l.append(n)  #insere n na lista\n",
    "    s = s + n    #soma \n",
    "    c = c + 1    #contador\n",
    "    if n < 7:    #conta no tas abaixo de 7\n",
    "         abaixo = abaixo + 1    \n",
    " \n",
    "m = (s/c) \n",
    "print (\"números digitados: \", l)\n",
    "l.reverse("
   ]
  },
  {
   "cell_type": "markdown",
   "metadata": {
    "collapsed": false
   },
   "source": [
    "#### Exercicio 3\n",
    "- Calcule as raízes da equação do 2◦ grau ($Ax^2 + Bx + C = 0$) sendo os valores de A, B e C fornecidos pelo usuário, levando em consideração a existência de raízes complexas.**"
   ]
  },
  {
   "cell_type": "code",
   "execution_count": 13,
   "metadata": {
    "cocalc": {
     "outputs": {
      "0": {
       "name": "input",
       "opts": {
        "password": false,
        "prompt": "Digite um valor para A: "
       },
       "output_type": "stream",
       "value": "-1"
      },
      "1": {
       "name": "input",
       "opts": {
        "password": false,
        "prompt": "Digite um valor para B: "
       },
       "output_type": "stream",
       "value": "2"
      },
      "2": {
       "name": "input",
       "opts": {
        "password": false,
        "prompt": "Digite um valor para C: "
       },
       "output_type": "stream",
       "value": "3"
      }
     }
    }
   },
   "outputs": [
    {
     "name": "stdout",
     "output_type": "stream",
     "text": "Digite um valor para A:  -1"
    },
    {
     "name": "stdout",
     "output_type": "stream",
     "text": "Digite um valor para B:  2"
    },
    {
     "name": "stdout",
     "output_type": "stream",
     "text": "Digite um valor para C:  3"
    },
    {
     "name": "stdout",
     "output_type": "stream",
     "text": [
      "As raizes da equacao sao  -1.0 e -1.0\n"
     ]
    }
   ],
   "source": [
    "import math\n",
    "a = int(input(\"Digite um valor para A: \"))\n",
    "b = int(input(\"Digite um valor para B: \"))\n",
    "c = int(input(\"Digite um valor para C: \"))\n",
    "#\n",
    "#Calculo do delta\n",
    "#\n",
    "delta = b*b - 4 * a * c\n",
    "#\n",
    "#testes\n",
    "#\n",
    "if delta < 0:\n",
    "    raiz=(-1*b + math.sqrt(delta))/(2 * a)\n",
    "    print(\"A equacao possui apenas uma raiz que e \",raiz)\n",
    "elif delta == 0:\n",
    "    raiz = (-1*b + math.sqrt(delta))/(2 * a)\n",
    "    print(\"A equacao possui apenas uma raiz que e \",raiz)\n",
    "elif delta > 0:\n",
    "    raiz1 =(-1*b + math.sqrt(delta))/(2 * a)\n",
    "    raiz2 =(-1*b + math.sqrt(delta))/(2 * a)\n",
    "    print(\"As raizes da equacao sao \",raiz1, \"e\",raiz2)"
   ]
  },
  {
   "cell_type": "code",
   "execution_count": 0,
   "metadata": {
    "collapsed": false
   },
   "outputs": [
   ],
   "source": [
   ]
  },
  {
   "cell_type": "markdown",
   "metadata": {
    "collapsed": false
   },
   "source": [
    "#### Exercícios 4\n",
    "- Crie 12 arquivos, chamados de 'arq_mes_estação.txt'. Cada um deles contendo a frase: \"A minha estação predileta é 'estação', especialmente 'mês'\"  repetida um número aleatório de vezes, entre 5 e 20. Comprima essas arquivos usando o comando gzip. Faça isso utilizando o conceito de dicionários."
   ]
  },
  {
   "cell_type": "code",
   "execution_count": 16,
   "metadata": {
    "collapsed": false
   },
   "outputs": [
    {
     "name": "stdout",
     "output_type": "stream",
     "text": [
      "  adding: arq_Janeiro_Verao.txt (deflated 94%)\r\n"
     ]
    },
    {
     "name": "stdout",
     "output_type": "stream",
     "text": [
      "updating: arq_Janeiro_Verao.txt (deflated 94%)\r\n",
      "  adding: arq_Fevereiro_Verao.txt (deflated 82%)\r\n"
     ]
    },
    {
     "name": "stdout",
     "output_type": "stream",
     "text": [
      "updating: arq_Janeiro_Verao.txt (deflated 94%)\r\n",
      "updating: arq_Fevereiro_Verao.txt (deflated 82%)\r\n",
      "  adding: arq_Março_Verao.txt (deflated 94%)\r\n"
     ]
    },
    {
     "name": "stdout",
     "output_type": "stream",
     "text": [
      "updating: arq_Janeiro_Verao.txt (deflated 94%)\r\n",
      "updating: arq_Fevereiro_Verao.txt (deflated 82%)\r\n",
      "updating: arq_Março_Verao.txt (deflated 94%)\r\n",
      "  adding: arq_Abril_Outono.txt (deflated 86%)\r\n"
     ]
    },
    {
     "name": "stdout",
     "output_type": "stream",
     "text": [
      "updating: arq_Janeiro_Verao.txt (deflated 94%)\r\n",
      "updating: arq_Fevereiro_Verao.txt (deflated 82%)\r\n",
      "updating: arq_Março_Verao.txt (deflated 94%)\r\n",
      "updating: arq_Abril_Outono.txt (deflated 86%)\r\n",
      "  adding: arq_Maio_Outono.txt (deflated 91%)\r\n"
     ]
    },
    {
     "name": "stdout",
     "output_type": "stream",
     "text": [
      "updating: arq_Janeiro_Verao.txt (deflated 94%)\r\n",
      "updating: arq_Fevereiro_Verao.txt (deflated 82%)\r\n",
      "updating: arq_Março_Verao.txt (deflated 94%)\r\n",
      "updating: arq_Abril_Outono.txt (deflated 86%)\r\n",
      "updating: arq_Maio_Outono.txt (deflated 91%)\r\n",
      "  adding: arq_Junho_Outono.txt (deflated 79%)\r\n"
     ]
    },
    {
     "name": "stdout",
     "output_type": "stream",
     "text": [
      "updating: arq_Janeiro_Verao.txt (deflated 94%)\r\n",
      "updating: arq_Fevereiro_Verao.txt (deflated 82%)\r\n",
      "updating: arq_Março_Verao.txt (deflated 94%)\r\n",
      "updating: arq_Abril_Outono.txt (deflated 86%)\r\n",
      "updating: arq_Maio_Outono.txt (deflated 91%)\r\n",
      "updating: arq_Junho_Outono.txt (deflated 79%)\r\n",
      "  adding: arq_Julho_Inverno.txt (deflated 90%)\r\n"
     ]
    },
    {
     "name": "stdout",
     "output_type": "stream",
     "text": [
      "updating: arq_Janeiro_Verao.txt (deflated 94%)\r\n",
      "updating: arq_Fevereiro_Verao.txt (deflated 82%)\r\n",
      "updating: arq_Março_Verao.txt (deflated 94%)\r\n",
      "updating: arq_Abril_Outono.txt (deflated 86%)\r\n",
      "updating: arq_Maio_Outono.txt (deflated 91%)\r\n",
      "updating: arq_Junho_Outono.txt (deflated 79%)\r\n",
      "updating: arq_Julho_Inverno.txt (deflated 90%)\r\n",
      "  adding: arq_Agosto_Inverno.txt (deflated 79%)\r\n"
     ]
    },
    {
     "name": "stdout",
     "output_type": "stream",
     "text": [
      "updating: arq_Janeiro_Verao.txt (deflated 94%)\r\n",
      "updating: arq_Fevereiro_Verao.txt (deflated 82%)\r\n",
      "updating: arq_Março_Verao.txt (deflated 94%)\r\n",
      "updating: arq_Abril_Outono.txt (deflated 86%)\r\n",
      "updating: arq_Maio_Outono.txt (deflated 91%)\r\n",
      "updating: arq_Junho_Outono.txt (deflated 79%)\r\n",
      "updating: arq_Julho_Inverno.txt (deflated 90%)\r\n",
      "updating: arq_Agosto_Inverno.txt (deflated 79%)\r\n",
      "  adding: arq_Setembro_Inverno.txt (deflated 89%)\r\n"
     ]
    },
    {
     "name": "stdout",
     "output_type": "stream",
     "text": [
      "updating: arq_Janeiro_Verao.txt (deflated 94%)\r\n",
      "updating: arq_Fevereiro_Verao.txt (deflated 82%)\r\n",
      "updating: arq_Março_Verao.txt (deflated 94%)\r\n",
      "updating: arq_Abril_Outono.txt (deflated 86%)\r\n",
      "updating: arq_Maio_Outono.txt (deflated 91%)\r\n",
      "updating: arq_Junho_Outono.txt (deflated 79%)\r\n",
      "updating: arq_Julho_Inverno.txt (deflated 90%)\r\n",
      "updating: arq_Agosto_Inverno.txt (deflated 79%)\r\n",
      "updating: arq_Setembro_Inverno.txt (deflated 89%)\r\n",
      "  adding: arq_Outubro_Primavera.txt (deflated 82%)\r\n"
     ]
    },
    {
     "name": "stdout",
     "output_type": "stream",
     "text": [
      "updating: arq_Janeiro_Verao.txt (deflated 94%)\r\n",
      "updating: arq_Fevereiro_Verao.txt (deflated 82%)\r\n",
      "updating: arq_Março_Verao.txt (deflated 94%)\r\n",
      "updating: arq_Abril_Outono.txt (deflated 86%)\r\n",
      "updating: arq_Maio_Outono.txt (deflated 91%)\r\n",
      "updating: arq_Junho_Outono.txt (deflated 79%)\r\n",
      "updating: arq_Julho_Inverno.txt (deflated 90%)\r\n",
      "updating: arq_Agosto_Inverno.txt (deflated 79%)\r\n",
      "updating: arq_Setembro_Inverno.txt (deflated 89%)\r\n",
      "updating: arq_Outubro_Primavera.txt (deflated 82%)\r\n",
      "  adding: arq_Novembro_Primavera.txt (deflated 82%)\r\n"
     ]
    },
    {
     "name": "stdout",
     "output_type": "stream",
     "text": [
      "updating: arq_Janeiro_Verao.txt (deflated 94%)\r\n",
      "updating: arq_Fevereiro_Verao.txt (deflated 82%)\r\n",
      "updating: arq_Março_Verao.txt (deflated 94%)\r\n",
      "updating: arq_Abril_Outono.txt (deflated 86%)\r\n",
      "updating: arq_Maio_Outono.txt (deflated 91%)\r\n",
      "updating: arq_Junho_Outono.txt (deflated 79%)\r\n",
      "updating: arq_Julho_Inverno.txt (deflated 90%)\r\n",
      "updating: arq_Agosto_Inverno.txt (deflated 79%)\r\n",
      "updating: arq_Setembro_Inverno.txt (deflated 89%)\r\n",
      "updating: arq_Outubro_Primavera.txt (deflated 82%)\r\n",
      "updating: arq_Novembro_Primavera.txt (deflated 82%)\r\n",
      "  adding: arq_Dezembro_Primavera.txt (deflated 94%)\r\n"
     ]
    }
   ],
   "source": [
    "import random\n",
    "mes=[\"Janeiro\", \"Fevereiro\", \"Março\", \"Abril\", \"Maio\", \"Junho\", \"Julho\", \"Agosto\", \"Setembro\", \"Outubro\", \"Novembro\", \"Dezembro\"]\n",
    "estacao=[\"Verao\", \"Outono\", \"Inverno\", \"Primavera\"]\n",
    "for i in range(12):\n",
    "    if i<3:\n",
    "        n=0\n",
    "    elif 3<=i<6:\n",
    "        n=1\n",
    "    elif 6<=i<9:\n",
    "        n=2\n",
    "    else:\n",
    "        n=3\n",
    "    arq=open(\"arq_\"+str(mes[i])+\"_\"+str(estacao[n])+\".txt\",\"w\")\n",
    "    arq.write(random.randint(5,20)*(\"A minha estacao predileta e\"+str(estacao[n])+\"especialmente em\"+str(mes[i])+\"\\n\"))\n",
    "    arq.close()\n",
    "    !zip file.zip arq*.txt"
   ]
  },
  {
   "cell_type": "markdown",
   "metadata": {
    "collapsed": false
   },
   "source": [
    "#### Exercícios 5"
   ]
  },
  {
   "cell_type": "code",
   "execution_count": 0,
   "metadata": {
    "collapsed": false
   },
   "outputs": [
   ],
   "source": [
   ]
  }
 ],
 "metadata": {
  "kernelspec": {
   "display_name": "Python 3 (Anaconda)",
   "language": "python",
   "name": "anaconda3"
  },
  "language_info": {
   "codemirror_mode": {
    "name": "ipython",
    "version": 3
   },
   "file_extension": ".py",
   "mimetype": "text/x-python",
   "name": "python",
   "nbconvert_exporter": "python",
   "pygments_lexer": "ipython3",
   "version": "3.5.3"
  }
 },
 "nbformat": 4,
 "nbformat_minor": 0
}