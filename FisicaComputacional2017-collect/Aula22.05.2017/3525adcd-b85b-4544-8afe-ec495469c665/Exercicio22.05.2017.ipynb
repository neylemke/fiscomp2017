{
 "cells": [
  {
   "cell_type": "code",
   "execution_count": 4,
   "metadata": {
    "collapsed": false
   },
   "outputs": [
    {
     "name": "stdout",
     "output_type": "stream",
     "text": [
      "[6, 7, 8, 6, 3, 9, 6, 5, 1, 4, 3, 2, 0, 8, 7, 8, 5, 2, 4, 2, 0, 7, 7, 6, 3, 1, 4, 0, 9, 3, 0, 3, 2, 0, 0, 6, 4, 9, 2, 6, 4, 7, 0, 0, 4, 0, 3, 2, 8, 0, 2, 6, 1, 7, 6, 4, 7, 0, 3, 5, 9, 8, 7, 3, 2, 8, 1, 0, 8, 4, 0, 4, 3, 3, 6, 2, 5, 0, 5, 2, 8, 5, 4, 0, 7, 6, 2, 0, 8, 3, 3, 5, 4, 6, 8, 7, 8, 7, 4, 4]\n",
      "O intervalo medio entre o numero 6 e 7 = 1\n",
      "O intervalo medio entre o numero 7 e 8 = 1\n",
      "O intervalo medio entre o numero 8 e 6 = -2\n",
      "O intervalo medio entre o numero 6 e 3 = -3\n",
      "O intervalo medio entre o numero 3 e 9 = 6\n",
      "O intervalo medio entre o numero 9 e 6 = -3\n",
      "O intervalo medio entre o numero 6 e 5 = -1\n",
      "O intervalo medio entre o numero 5 e 1 = -4\n",
      "O intervalo medio entre o numero 1 e 4 = 3\n",
      "O intervalo medio entre o numero 4 e 3 = -1\n",
      "O intervalo medio entre o numero 3 e 2 = -1\n",
      "O intervalo medio entre o numero 2 e 0 = -2\n",
      "O intervalo medio entre o numero 0 e 8 = 8\n",
      "O intervalo medio entre o numero 8 e 7 = -1\n",
      "O intervalo medio entre o numero 7 e 8 = 1\n",
      "O intervalo medio entre o numero 8 e 5 = -3\n",
      "O intervalo medio entre o numero 5 e 2 = -3\n",
      "O intervalo medio entre o numero 2 e 4 = 2\n",
      "O intervalo medio entre o numero 4 e 2 = -2\n",
      "O intervalo medio entre o numero 2 e 0 = -2\n",
      "O intervalo medio entre o numero 0 e 7 = 7\n",
      "O intervalo medio entre o numero 7 e 7 = 0\n",
      "O intervalo medio entre o numero 7 e 6 = -1\n",
      "O intervalo medio entre o numero 6 e 3 = -3\n",
      "O intervalo medio entre o numero 3 e 1 = -2\n",
      "O intervalo medio entre o numero 1 e 4 = 3\n",
      "O intervalo medio entre o numero 4 e 0 = -4\n",
      "O intervalo medio entre o numero 0 e 9 = 9\n",
      "O intervalo medio entre o numero 9 e 3 = -6\n",
      "O intervalo medio entre o numero 3 e 0 = -3\n",
      "O intervalo medio entre o numero 0 e 3 = 3\n",
      "O intervalo medio entre o numero 3 e 2 = -1\n",
      "O intervalo medio entre o numero 2 e 0 = -2\n",
      "O intervalo medio entre o numero 0 e 0 = 0\n",
      "O intervalo medio entre o numero 0 e 6 = 6\n",
      "O intervalo medio entre o numero 6 e 4 = -2\n",
      "O intervalo medio entre o numero 4 e 9 = 5\n",
      "O intervalo medio entre o numero 9 e 2 = -7\n",
      "O intervalo medio entre o numero 2 e 6 = 4\n",
      "O intervalo medio entre o numero 6 e 4 = -2\n",
      "O intervalo medio entre o numero 4 e 7 = 3\n",
      "O intervalo medio entre o numero 7 e 0 = -7\n",
      "O intervalo medio entre o numero 0 e 0 = 0\n",
      "O intervalo medio entre o numero 0 e 4 = 4\n",
      "O intervalo medio entre o numero 4 e 0 = -4\n",
      "O intervalo medio entre o numero 0 e 3 = 3\n",
      "O intervalo medio entre o numero 3 e 2 = -1\n",
      "O intervalo medio entre o numero 2 e 8 = 6\n",
      "O intervalo medio entre o numero 8 e 0 = -8\n",
      "O intervalo medio entre o numero 0 e 2 = 2\n",
      "O intervalo medio entre o numero 2 e 6 = 4\n",
      "O intervalo medio entre o numero 6 e 1 = -5\n",
      "O intervalo medio entre o numero 1 e 7 = 6\n",
      "O intervalo medio entre o numero 7 e 6 = -1\n",
      "O intervalo medio entre o numero 6 e 4 = -2\n",
      "O intervalo medio entre o numero 4 e 7 = 3\n",
      "O intervalo medio entre o numero 7 e 0 = -7\n",
      "O intervalo medio entre o numero 0 e 3 = 3\n",
      "O intervalo medio entre o numero 3 e 5 = 2\n",
      "O intervalo medio entre o numero 5 e 9 = 4\n",
      "O intervalo medio entre o numero 9 e 8 = -1\n",
      "O intervalo medio entre o numero 8 e 7 = -1\n",
      "O intervalo medio entre o numero 7 e 3 = -4\n",
      "O intervalo medio entre o numero 3 e 2 = -1\n",
      "O intervalo medio entre o numero 2 e 8 = 6\n",
      "O intervalo medio entre o numero 8 e 1 = -7\n",
      "O intervalo medio entre o numero 1 e 0 = -1\n",
      "O intervalo medio entre o numero 0 e 8 = 8\n",
      "O intervalo medio entre o numero 8 e 4 = -4\n",
      "O intervalo medio entre o numero 4 e 0 = -4\n",
      "O intervalo medio entre o numero 0 e 4 = 4\n",
      "O intervalo medio entre o numero 4 e 3 = -1\n",
      "O intervalo medio entre o numero 3 e 3 = 0\n",
      "O intervalo medio entre o numero 3 e 6 = 3\n",
      "O intervalo medio entre o numero 6 e 2 = -4\n",
      "O intervalo medio entre o numero 2 e 5 = 3\n",
      "O intervalo medio entre o numero 5 e 0 = -5\n",
      "O intervalo medio entre o numero 0 e 5 = 5\n",
      "O intervalo medio entre o numero 5 e 2 = -3\n",
      "O intervalo medio entre o numero 2 e 8 = 6\n",
      "O intervalo medio entre o numero 8 e 5 = -3\n",
      "O intervalo medio entre o numero 5 e 4 = -1\n",
      "O intervalo medio entre o numero 4 e 0 = -4\n",
      "O intervalo medio entre o numero 0 e 7 = 7\n",
      "O intervalo medio entre o numero 7 e 6 = -1\n",
      "O intervalo medio entre o numero 6 e 2 = -4\n",
      "O intervalo medio entre o numero 2 e 0 = -2\n",
      "O intervalo medio entre o numero 0 e 8 = 8\n",
      "O intervalo medio entre o numero 8 e 3 = -5\n",
      "O intervalo medio entre o numero 3 e 3 = 0\n",
      "O intervalo medio entre o numero 3 e 5 = 2\n",
      "O intervalo medio entre o numero 5 e 4 = -1\n",
      "O intervalo medio entre o numero 4 e 6 = 2\n",
      "O intervalo medio entre o numero 6 e 8 = 2\n",
      "O intervalo medio entre o numero 8 e 7 = -1\n",
      "O intervalo medio entre o numero 7 e 8 = 1\n",
      "O intervalo medio entre o numero 8 e 7 = -1\n",
      "O intervalo medio entre o numero 7 e 4 = -3\n",
      "O intervalo medio entre o numero 4 e 4 = 0\n"
     ]
    }
   ],
   "source": [
    "##Exercicio 1 Gere uma lista com 100 números aleatórios, em seguida o aluno deverá deverá encontrar os intervalos médios dos elementos da lista.\n",
    "import random\n",
    "\n",
    "lista = []\n",
    "for i in range(100):\n",
    "    lista.append(random.randint(0,9))\n",
    "print(lista)\n",
    "for i in range(len(lista)-1):\n",
    "    print(\"O intervalo medio entre o numero \"+str(lista[i])+\" e \"+str(lista[1+i])+\" = \"+str(lista[i+1] - lista[i]))"
   ]
  },
  {
   "cell_type": "code",
   "execution_count": 8,
   "metadata": {
    "cocalc": {
     "outputs": {
      "0": {
       "name": "input",
       "opts": {
        "password": false,
        "prompt": "Insira um valor:"
       },
       "output_type": "stream"
      }
     }
    }
   },
   "outputs": [
    {
     "name": "stdout",
     "output_type": "stream",
     "text": [
      "Insira quantos valores quiser, caso seja inserido -1 não será possível inserir novos valores.\n"
     ]
    },
    {
     "name": "stdout",
     "output_type": "stream",
     "text": "Insira um numero: 5"
    },
    {
     "name": "stdout",
     "output_type": "stream",
     "text": "Insira um numero: 2"
    },
    {
     "name": "stdout",
     "output_type": "stream",
     "text": "Insira um numero: 3"
    },
    {
     "name": "stdout",
     "output_type": "stream",
     "text": "Insira um numero: 6"
    },
    {
     "name": "stdout",
     "output_type": "stream",
     "text": "Insira um numero: 7"
    },
    {
     "name": "stdout",
     "output_type": "stream",
     "text": "Insira um numero: -1"
    },
    {
     "name": "stdout",
     "output_type": "stream",
     "text": [
      "Foram inseridos 5 valores\n",
      "Vetor notas: [5.0, 2.0, 3.0, 6.0, 7.0]\n",
      "Vetor inverso: \n",
      "7.0\n",
      "6.0\n",
      "3.0\n",
      "2.0\n",
      "5.0\n",
      "A soma dos valores e: 23.0\n",
      "A media dos valores e: 4.6\n",
      "Os valores acima da media sao:[5.0, 6.0, 7.0]\n",
      "Os valores menores que 7 sao:[2.0, 3.0, 5.0, 6.0]\n",
      "PASSA NOIS NEY\n"
     ]
    }
   ],
   "source": [
    "# Faça um programa que leia um número indeterminado de valores, correspondentes a notas, encerrando a entrada de dados quando for informado um valor igual a -1 (que não deve ser armazenado). Após esta entrada de dados, faça:\n",
    "#Mostre a quantidade de valores que foram lidos;\n",
    "# Exiba todos os valores na ordem em que foram informados, um ao lado do outro;\n",
    "# Exiba todos os valores na ordem inversa à que foram informados, um abaixo do outro;\n",
    "# Calcule e mostre a soma dos valores;\n",
    "# Calcule e mostre a média dos valores;\n",
    "# Calcule e mostre a quantidade de valores acima da média calculada;\n",
    "# Calcule e mostre a quantidade de valores abaixo de sete;\n",
    "# Encerre o programa com uma mensagem;\n",
    "print(\"Insira quantos valores quiser, caso seja inserido -1 não será possível inserir novos valores.\")\n",
    "cont = 0\n",
    "notas =[]\n",
    "while cont == 0:\n",
    "    a = float(input(\"Insira um numero:\"))\n",
    "    if a == -1:\n",
    "        cont= 1\n",
    "        break\n",
    "    else:\n",
    "        notas.append(a)\n",
    "print(\"Foram inseridos \"+str(len(notas))+\" valores\")\n",
    "print(\"Vetor notas: \"+str(notas))\n",
    "notasinversa = notas[::-1]\n",
    "print(\"Vetor inverso: \")\n",
    "for i in range(len(notasinversa)):\n",
    "    print(notasinversa[i])\n",
    "print(\"A soma dos valores e: \"+str(sum(notas)))\n",
    "print(\"A media dos valores e: \"+str(float(sum(notas))/float(len(notas))))\n",
    "media = sum(notas)/float(len(notas))\n",
    "maior = []\n",
    "menor = []\n",
    "for i in range(len(notas)):\n",
    "    if notas[i] > media:\n",
    "        maior.append(notas[i])\n",
    "    if notas[i] < 7:\n",
    "        menor.append(notas[i])\n",
    "print(\"Os valores acima da media sao:\"+str(maior))\n",
    "if len(menor) == 0:\n",
    "    print(\"Não há valores menores que 7\")\n",
    "else:\n",
    "    menor.sort()\n",
    "    print(\"Os valores menores que 7 sao:\"+str(menor))\n",
    "print(\"PASSA NOIS NEY\")"
   ]
  },
  {
   "cell_type": "code",
   "execution_count": 16,
   "metadata": {
    "collapsed": false
   },
   "outputs": [
    {
     "name": "stdout",
     "output_type": "stream",
     "text": [
      "updating: arq_Abril_Inverno.txt (deflated 86%)\r\n",
      "updating: arq_Agosto_Outono.txt (deflated 94%)\r\n",
      "updating: arq_Dezembro_Primavera.txt (deflated 89%)\r\n",
      "updating: arq_Fevereiro_Verao.txt (deflated 79%)\r\n",
      "updating: arq_Janeiro_Verao.txt (deflated 90%)\r\n",
      "updating: arq_Julho_Outono.txt (deflated 91%)\r\n",
      "updating: arq_Junho_Inverno.txt (deflated 94%)\r\n",
      "updating: arq_Maio_Inverno.txt (deflated 90%)\r\n",
      "updating: arq_Março_Verao.txt (deflated 82%)\r\n",
      "updating: arq_Novembro_Primavera.txt (deflated 93%)\r\n",
      "updating: arq_Outubro_Primavera.txt (deflated 89%)\r\n",
      "updating: arq_Setembro_Outono.txt (deflated 91%)\r\n",
      "updating: arq_Janeiro_Outono.txt (deflated 84%)\r\n",
      "updating: arq_Fevereiro_Outono.txt (deflated 92%)\r\n",
      "updating: arq_Março_Inverno.txt (deflated 93%)\r\n",
      "updating: arq_Maio_Outono.txt (deflated 94%)\r\n",
      "updating: arq_Junho_Outono.txt (deflated 84%)\r\n",
      "updating: arq_Agosto_Inverno.txt (deflated 92%)\r\n",
      "updating: arq_Setembro_Inverno.txt (deflated 90%)\r\n",
      "  adding: arq_Janeiro_Inverno.txt (deflated 79%)\r\n"
     ]
    },
    {
     "name": "stdout",
     "output_type": "stream",
     "text": [
      "updating: arq_Abril_Inverno.txt (deflated 86%)\r\n",
      "updating: arq_Agosto_Outono.txt (deflated 94%)\r\n",
      "updating: arq_Dezembro_Primavera.txt (deflated 89%)\r\n",
      "updating: arq_Fevereiro_Verao.txt (deflated 79%)\r\n",
      "updating: arq_Janeiro_Verao.txt (deflated 90%)\r\n",
      "updating: arq_Julho_Outono.txt (deflated 91%)\r\n",
      "updating: arq_Junho_Inverno.txt (deflated 94%)\r\n",
      "updating: arq_Maio_Inverno.txt (deflated 90%)\r\n",
      "updating: arq_Março_Verao.txt (deflated 82%)\r\n",
      "updating: arq_Novembro_Primavera.txt (deflated 93%)\r\n",
      "updating: arq_Outubro_Primavera.txt (deflated 89%)\r\n",
      "updating: arq_Setembro_Outono.txt (deflated 91%)\r\n",
      "updating: arq_Janeiro_Outono.txt (deflated 84%)\r\n",
      "updating: arq_Fevereiro_Outono.txt (deflated 92%)\r\n",
      "updating: arq_Março_Inverno.txt (deflated 93%)\r\n",
      "updating: arq_Maio_Outono.txt (deflated 94%)\r\n",
      "updating: arq_Junho_Outono.txt (deflated 84%)\r\n",
      "updating: arq_Agosto_Inverno.txt (deflated 92%)\r\n",
      "updating: arq_Setembro_Inverno.txt (deflated 90%)\r\n",
      "updating: arq_Janeiro_Inverno.txt (deflated 79%)\r\n",
      "  adding: arq_Fevereiro_Primavera.txt (deflated 89%)\r\n"
     ]
    },
    {
     "name": "stdout",
     "output_type": "stream",
     "text": [
      "updating: arq_Abril_Inverno.txt (deflated 86%)\r\n",
      "updating: arq_Agosto_Outono.txt (deflated 94%)\r\n",
      "updating: arq_Dezembro_Primavera.txt (deflated 89%)\r\n",
      "updating: arq_Fevereiro_Verao.txt (deflated 79%)\r\n",
      "updating: arq_Janeiro_Verao.txt (deflated 90%)\r\n",
      "updating: arq_Julho_Outono.txt (deflated 91%)\r\n",
      "updating: arq_Junho_Inverno.txt (deflated 94%)\r\n",
      "updating: arq_Maio_Inverno.txt (deflated 90%)\r\n",
      "updating: arq_Março_Verao.txt (deflated 82%)\r\n",
      "updating: arq_Novembro_Primavera.txt (deflated 93%)\r\n",
      "updating: arq_Outubro_Primavera.txt (deflated 89%)\r\n",
      "updating: arq_Setembro_Outono.txt (deflated 91%)\r\n",
      "updating: arq_Janeiro_Outono.txt (deflated 84%)\r\n",
      "updating: arq_Fevereiro_Outono.txt (deflated 92%)\r\n",
      "updating: arq_Março_Inverno.txt (deflated 93%)\r\n",
      "updating: arq_Maio_Outono.txt (deflated 94%)\r\n",
      "updating: arq_Junho_Outono.txt (deflated 84%)\r\n",
      "updating: arq_Agosto_Inverno.txt (deflated 92%)\r\n",
      "updating: arq_Setembro_Inverno.txt (deflated 90%)\r\n",
      "updating: arq_Janeiro_Inverno.txt (deflated 79%)\r\n",
      "updating: arq_Fevereiro_Primavera.txt (deflated 89%)\r\n",
      "  adding: arq_Março_Primavera.txt (deflated 92%)\r\n"
     ]
    },
    {
     "name": "stdout",
     "output_type": "stream",
     "text": [
      "updating: arq_Abril_Inverno.txt (deflated 86%)\r\n",
      "updating: arq_Agosto_Outono.txt (deflated 94%)\r\n",
      "updating: arq_Dezembro_Primavera.txt (deflated 89%)\r\n",
      "updating: arq_Fevereiro_Verao.txt (deflated 79%)\r\n",
      "updating: arq_Janeiro_Verao.txt (deflated 90%)\r\n",
      "updating: arq_Julho_Outono.txt (deflated 91%)\r\n",
      "updating: arq_Junho_Inverno.txt (deflated 94%)\r\n",
      "updating: arq_Maio_Inverno.txt (deflated 90%)\r\n",
      "updating: arq_Março_Verao.txt (deflated 82%)\r\n",
      "updating: arq_Novembro_Primavera.txt (deflated 93%)\r\n",
      "updating: arq_Outubro_Primavera.txt (deflated 89%)\r\n",
      "updating: arq_Setembro_Outono.txt (deflated 91%)\r\n",
      "updating: arq_Janeiro_Outono.txt (deflated 84%)\r\n",
      "updating: arq_Fevereiro_Outono.txt (deflated 92%)\r\n",
      "updating: arq_Março_Inverno.txt (deflated 93%)\r\n",
      "updating: arq_Maio_Outono.txt (deflated 94%)\r\n",
      "updating: arq_Junho_Outono.txt (deflated 84%)\r\n",
      "updating: arq_Agosto_Inverno.txt (deflated 92%)\r\n",
      "updating: arq_Setembro_Inverno.txt (deflated 90%)\r\n",
      "updating: arq_Janeiro_Inverno.txt (deflated 79%)\r\n",
      "updating: arq_Fevereiro_Primavera.txt (deflated 89%)\r\n",
      "updating: arq_Março_Primavera.txt (deflated 92%)\r\n",
      "  adding: arq_Abril_Verao.txt (deflated 94%)\r\n"
     ]
    },
    {
     "name": "stdout",
     "output_type": "stream",
     "text": [
      "updating: arq_Abril_Inverno.txt (deflated 86%)\r\n",
      "updating: arq_Agosto_Outono.txt (deflated 94%)\r\n",
      "updating: arq_Dezembro_Primavera.txt (deflated 89%)\r\n",
      "updating: arq_Fevereiro_Verao.txt (deflated 79%)\r\n",
      "updating: arq_Janeiro_Verao.txt (deflated 90%)\r\n",
      "updating: arq_Julho_Outono.txt (deflated 91%)\r\n",
      "updating: arq_Junho_Inverno.txt (deflated 94%)\r\n",
      "updating: arq_Maio_Inverno.txt (deflated 90%)\r\n",
      "updating: arq_Março_Verao.txt (deflated 82%)\r\n",
      "updating: arq_Novembro_Primavera.txt (deflated 93%)\r\n",
      "updating: arq_Outubro_Primavera.txt (deflated 89%)\r\n",
      "updating: arq_Setembro_Outono.txt (deflated 91%)\r\n",
      "updating: arq_Janeiro_Outono.txt (deflated 84%)\r\n",
      "updating: arq_Fevereiro_Outono.txt (deflated 92%)\r\n",
      "updating: arq_Março_Inverno.txt (deflated 93%)\r\n",
      "updating: arq_Maio_Outono.txt (deflated 88%)\r\n",
      "updating: arq_Junho_Outono.txt (deflated 84%)\r\n",
      "updating: arq_Agosto_Inverno.txt (deflated 92%)\r\n",
      "updating: arq_Setembro_Inverno.txt (deflated 90%)\r\n",
      "updating: arq_Janeiro_Inverno.txt (deflated 79%)\r\n",
      "updating: arq_Fevereiro_Primavera.txt (deflated 89%)\r\n",
      "updating: arq_Março_Primavera.txt (deflated 92%)\r\n",
      "updating: arq_Abril_Verao.txt (deflated 94%)\r\n"
     ]
    },
    {
     "name": "stdout",
     "output_type": "stream",
     "text": [
      "updating: arq_Abril_Inverno.txt (deflated 86%)\r\n",
      "updating: arq_Agosto_Outono.txt (deflated 94%)\r\n",
      "updating: arq_Dezembro_Primavera.txt (deflated 89%)\r\n",
      "updating: arq_Fevereiro_Verao.txt (deflated 79%)\r\n",
      "updating: arq_Janeiro_Verao.txt (deflated 90%)\r\n",
      "updating: arq_Julho_Outono.txt (deflated 91%)\r\n",
      "updating: arq_Junho_Inverno.txt (deflated 94%)\r\n",
      "updating: arq_Maio_Inverno.txt (deflated 90%)\r\n",
      "updating: arq_Março_Verao.txt (deflated 82%)\r\n",
      "updating: arq_Novembro_Primavera.txt (deflated 93%)\r\n",
      "updating: arq_Outubro_Primavera.txt (deflated 89%)\r\n",
      "updating: arq_Setembro_Outono.txt (deflated 91%)\r\n",
      "updating: arq_Janeiro_Outono.txt (deflated 84%)\r\n",
      "updating: arq_Fevereiro_Outono.txt (deflated 92%)\r\n",
      "updating: arq_Março_Inverno.txt (deflated 93%)\r\n",
      "updating: arq_Maio_Outono.txt (deflated 88%)\r\n",
      "updating: arq_Junho_Outono.txt (deflated 93%)\r\n",
      "updating: arq_Agosto_Inverno.txt (deflated 92%)\r\n",
      "updating: arq_Setembro_Inverno.txt (deflated 90%)\r\n",
      "updating: arq_Janeiro_Inverno.txt (deflated 79%)\r\n",
      "updating: arq_Fevereiro_Primavera.txt (deflated 89%)\r\n",
      "updating: arq_Março_Primavera.txt (deflated 92%)\r\n",
      "updating: arq_Abril_Verao.txt (deflated 94%)\r\n"
     ]
    },
    {
     "name": "stdout",
     "output_type": "stream",
     "text": [
      "updating: arq_Abril_Inverno.txt (deflated 86%)\r\n",
      "updating: arq_Agosto_Outono.txt (deflated 94%)\r\n",
      "updating: arq_Dezembro_Primavera.txt (deflated 89%)\r\n",
      "updating: arq_Fevereiro_Verao.txt (deflated 79%)\r\n",
      "updating: arq_Janeiro_Verao.txt (deflated 90%)\r\n",
      "updating: arq_Julho_Outono.txt (deflated 90%)\r\n",
      "updating: arq_Junho_Inverno.txt (deflated 94%)\r\n",
      "updating: arq_Maio_Inverno.txt (deflated 90%)\r\n",
      "updating: arq_Março_Verao.txt (deflated 82%)\r\n",
      "updating: arq_Novembro_Primavera.txt (deflated 93%)\r\n",
      "updating: arq_Outubro_Primavera.txt (deflated 89%)\r\n",
      "updating: arq_Setembro_Outono.txt (deflated 91%)\r\n",
      "updating: arq_Janeiro_Outono.txt (deflated 84%)\r\n",
      "updating: arq_Fevereiro_Outono.txt (deflated 92%)\r\n",
      "updating: arq_Março_Inverno.txt (deflated 93%)\r\n",
      "updating: arq_Maio_Outono.txt (deflated 88%)\r\n",
      "updating: arq_Junho_Outono.txt (deflated 93%)\r\n",
      "updating: arq_Agosto_Inverno.txt (deflated 92%)\r\n",
      "updating: arq_Setembro_Inverno.txt (deflated 90%)\r\n",
      "updating: arq_Janeiro_Inverno.txt (deflated 79%)\r\n",
      "updating: arq_Fevereiro_Primavera.txt (deflated 89%)\r\n",
      "updating: arq_Março_Primavera.txt (deflated 92%)\r\n",
      "updating: arq_Abril_Verao.txt (deflated 94%)\r\n"
     ]
    },
    {
     "name": "stdout",
     "output_type": "stream",
     "text": [
      "updating: arq_Abril_Inverno.txt (deflated 86%)\r\n",
      "updating: arq_Agosto_Outono.txt (deflated 94%)\r\n",
      "updating: arq_Dezembro_Primavera.txt (deflated 89%)\r\n",
      "updating: arq_Fevereiro_Verao.txt (deflated 79%)\r\n",
      "updating: arq_Janeiro_Verao.txt (deflated 90%)\r\n",
      "updating: arq_Julho_Outono.txt (deflated 90%)\r\n",
      "updating: arq_Junho_Inverno.txt (deflated 94%)\r\n",
      "updating: arq_Maio_Inverno.txt (deflated 90%)\r\n",
      "updating: arq_Março_Verao.txt (deflated 82%)\r\n",
      "updating: arq_Novembro_Primavera.txt (deflated 93%)\r\n",
      "updating: arq_Outubro_Primavera.txt (deflated 89%)\r\n",
      "updating: arq_Setembro_Outono.txt (deflated 91%)\r\n",
      "updating: arq_Janeiro_Outono.txt (deflated 84%)\r\n",
      "updating: arq_Fevereiro_Outono.txt (deflated 92%)\r\n",
      "updating: arq_Março_Inverno.txt (deflated 93%)\r\n",
      "updating: arq_Maio_Outono.txt (deflated 88%)\r\n",
      "updating: arq_Junho_Outono.txt (deflated 93%)\r\n",
      "updating: arq_Agosto_Inverno.txt (deflated 94%)\r\n",
      "updating: arq_Setembro_Inverno.txt (deflated 90%)\r\n",
      "updating: arq_Janeiro_Inverno.txt (deflated 79%)\r\n",
      "updating: arq_Fevereiro_Primavera.txt (deflated 89%)\r\n",
      "updating: arq_Março_Primavera.txt (deflated 92%)\r\n",
      "updating: arq_Abril_Verao.txt (deflated 94%)\r\n"
     ]
    },
    {
     "name": "stdout",
     "output_type": "stream",
     "text": [
      "updating: arq_Abril_Inverno.txt (deflated 86%)\r\n",
      "updating: arq_Agosto_Outono.txt (deflated 94%)\r\n",
      "updating: arq_Dezembro_Primavera.txt (deflated 89%)\r\n",
      "updating: arq_Fevereiro_Verao.txt (deflated 79%)\r\n",
      "updating: arq_Janeiro_Verao.txt (deflated 90%)\r\n",
      "updating: arq_Julho_Outono.txt (deflated 90%)\r\n",
      "updating: arq_Junho_Inverno.txt (deflated 94%)\r\n",
      "updating: arq_Maio_Inverno.txt (deflated 90%)\r\n",
      "updating: arq_Março_Verao.txt (deflated 82%)\r\n",
      "updating: arq_Novembro_Primavera.txt (deflated 93%)\r\n",
      "updating: arq_Outubro_Primavera.txt (deflated 89%)\r\n",
      "updating: arq_Setembro_Outono.txt (deflated 91%)\r\n",
      "updating: arq_Janeiro_Outono.txt (deflated 84%)\r\n",
      "updating: arq_Fevereiro_Outono.txt (deflated 92%)\r\n",
      "updating: arq_Março_Inverno.txt (deflated 93%)\r\n",
      "updating: arq_Maio_Outono.txt (deflated 88%)\r\n",
      "updating: arq_Junho_Outono.txt (deflated 93%)\r\n",
      "updating: arq_Agosto_Inverno.txt (deflated 94%)\r\n",
      "updating: arq_Setembro_Inverno.txt (deflated 90%)\r\n",
      "updating: arq_Janeiro_Inverno.txt (deflated 79%)\r\n",
      "updating: arq_Fevereiro_Primavera.txt (deflated 89%)\r\n",
      "updating: arq_Março_Primavera.txt (deflated 92%)\r\n",
      "updating: arq_Abril_Verao.txt (deflated 94%)\r\n",
      "  adding: arq_Setembro_Primavera.txt (deflated 84%)\r\n"
     ]
    },
    {
     "name": "stdout",
     "output_type": "stream",
     "text": [
      "updating: arq_Abril_Inverno.txt (deflated 86%)\r\n",
      "updating: arq_Agosto_Outono.txt (deflated 94%)\r\n",
      "updating: arq_Dezembro_Primavera.txt (deflated 89%)\r\n",
      "updating: arq_Fevereiro_Verao.txt (deflated 79%)\r\n",
      "updating: arq_Janeiro_Verao.txt (deflated 90%)\r\n",
      "updating: arq_Julho_Outono.txt (deflated 90%)\r\n",
      "updating: arq_Junho_Inverno.txt (deflated 94%)\r\n",
      "updating: arq_Maio_Inverno.txt (deflated 90%)\r\n",
      "updating: arq_Março_Verao.txt (deflated 82%)\r\n",
      "updating: arq_Novembro_Primavera.txt (deflated 93%)\r\n",
      "updating: arq_Outubro_Primavera.txt (deflated 89%)\r\n",
      "updating: arq_Setembro_Outono.txt (deflated 91%)\r\n",
      "updating: arq_Janeiro_Outono.txt (deflated 84%)\r\n",
      "updating: arq_Fevereiro_Outono.txt (deflated 92%)\r\n",
      "updating: arq_Março_Inverno.txt (deflated 93%)\r\n",
      "updating: arq_Maio_Outono.txt (deflated 88%)\r\n",
      "updating: arq_Junho_Outono.txt (deflated 93%)\r\n",
      "updating: arq_Agosto_Inverno.txt (deflated 94%)\r\n",
      "updating: arq_Setembro_Inverno.txt (deflated 90%)\r\n",
      "updating: arq_Janeiro_Inverno.txt (deflated 79%)\r\n",
      "updating: arq_Fevereiro_Primavera.txt (deflated 89%)\r\n",
      "updating: arq_Março_Primavera.txt (deflated 92%)\r\n",
      "updating: arq_Abril_Verao.txt (deflated 94%)\r\n",
      "updating: arq_Setembro_Primavera.txt (deflated 84%)\r\n",
      "  adding: arq_Outubro_Inverno.txt (deflated 92%)\r\n"
     ]
    },
    {
     "name": "stdout",
     "output_type": "stream",
     "text": [
      "updating: arq_Abril_Inverno.txt (deflated 86%)\r\n",
      "updating: arq_Agosto_Outono.txt (deflated 94%)\r\n",
      "updating: arq_Dezembro_Primavera.txt (deflated 89%)\r\n",
      "updating: arq_Fevereiro_Verao.txt (deflated 79%)\r\n"
     ]
    },
    {
     "name": "stdout",
     "output_type": "stream",
     "text": [
      "updating: arq_Janeiro_Verao.txt (deflated 90%)\r\n",
      "updating: arq_Julho_Outono.txt (deflated 90%)\r\n",
      "updating: arq_Junho_Inverno.txt (deflated 94%)\r\n",
      "updating: arq_Maio_Inverno.txt (deflated 90%)\r\n",
      "updating: arq_Março_Verao.txt (deflated 82%)\r\n",
      "updating: arq_Novembro_Primavera.txt (deflated 93%)\r\n",
      "updating: arq_Outubro_Primavera.txt (deflated 89%)\r\n",
      "updating: arq_Setembro_Outono.txt (deflated 91%)\r\n",
      "updating: arq_Janeiro_Outono.txt (deflated 84%)\r\n",
      "updating: arq_Fevereiro_Outono.txt (deflated 92%)\r\n",
      "updating: arq_Março_Inverno.txt (deflated 93%)\r\n",
      "updating: arq_Maio_Outono.txt (deflated 88%)\r\n",
      "updating: arq_Junho_Outono.txt (deflated 93%)\r\n",
      "updating: arq_Agosto_Inverno.txt (deflated 94%)\r\n",
      "updating: arq_Setembro_Inverno.txt (deflated 90%)\r\n",
      "updating: arq_Janeiro_Inverno.txt (deflated 79%)\r\n",
      "updating: arq_Fevereiro_Primavera.txt (deflated 89%)\r\n",
      "updating: arq_Março_Primavera.txt (deflated 92%)\r\n",
      "updating: arq_Abril_Verao.txt (deflated 94%)\r\n",
      "updating: arq_Setembro_Primavera.txt (deflated 84%)\r\n",
      "updating: arq_Outubro_Inverno.txt (deflated 92%)\r\n",
      "  adding: arq_Novembro_Inverno.txt (deflated 94%)\r\n"
     ]
    },
    {
     "name": "stdout",
     "output_type": "stream",
     "text": [
      "updating: arq_Abril_Inverno.txt (deflated 86%)\r\n",
      "updating: arq_Agosto_Outono.txt (deflated 94%)\r\n",
      "updating: arq_Dezembro_Primavera.txt (deflated 89%)\r\n",
      "updating: arq_Fevereiro_Verao.txt (deflated 79%)\r\n",
      "updating: arq_Janeiro_Verao.txt (deflated 90%)\r\n",
      "updating: arq_Julho_Outono.txt (deflated 90%)\r\n",
      "updating: arq_Junho_Inverno.txt (deflated 94%)\r\n",
      "updating: arq_Maio_Inverno.txt (deflated 90%)\r\n",
      "updating: arq_Março_Verao.txt (deflated 82%)\r\n",
      "updating: arq_Novembro_Primavera.txt (deflated 93%)\r\n",
      "updating: arq_Outubro_Primavera.txt (deflated 89%)\r\n",
      "updating: arq_Setembro_Outono.txt (deflated 91%)\r\n",
      "updating: arq_Janeiro_Outono.txt (deflated 84%)\r\n",
      "updating: arq_Fevereiro_Outono.txt (deflated 92%)\r\n",
      "updating: arq_Março_Inverno.txt (deflated 93%)\r\n",
      "updating: arq_Maio_Outono.txt (deflated 88%)\r\n",
      "updating: arq_Junho_Outono.txt (deflated 93%)\r\n",
      "updating: arq_Agosto_Inverno.txt (deflated 94%)\r\n",
      "updating: arq_Setembro_Inverno.txt (deflated 90%)\r\n",
      "updating: arq_Janeiro_Inverno.txt (deflated 79%)\r\n",
      "updating: arq_Fevereiro_Primavera.txt (deflated 89%)\r\n",
      "updating: arq_Março_Primavera.txt (deflated 92%)\r\n",
      "updating: arq_Abril_Verao.txt (deflated 94%)\r\n",
      "updating: arq_Setembro_Primavera.txt (deflated 84%)\r\n",
      "updating: arq_Outubro_Inverno.txt (deflated 92%)\r\n",
      "updating: arq_Novembro_Inverno.txt (deflated 94%)\r\n",
      "  adding: arq_Dezembro_Inverno.txt (deflated 94%)\r\n"
     ]
    }
   ],
   "source": [
    "# Exercícios 4\n",
    "# Crie 12 arquivos, chamados de 'arq_mes_estação.txt'. Cada um deles contendo a frase: \"A minha estação predileta é 'estação', especialmente 'mês'\" repetida um número aleatório de vezes, entre 5 e 20. Comprima essas arquivos usando o comando gzip. Faça isso utilizando o conceito de dicionários.\n",
    "import random\n",
    "mes = [\"Janeiro\", \"Fevereiro\", \"Março\", \"Abril\", \"Maio\", \"Junho\", \"Julho\", \"Agosto\", \"Setembro\", \"Outubro\", \"Novembro\", \"Dezembro\"]\n",
    "estacao = [\"Verao\", \"Inverno\", \"Outono\", \"Primavera\"]\n",
    "for i in range(12):\n",
    "    n = random.randint(0,3)\n",
    "    arq = open(\"arq_\"+str(mes[i])+\"_\"+str(estacao[n])+\".txt\", \"w\")\n",
    "    arq.write( random.randint(5,20)*(\"A minha estacao predileta e\"+str(estacao[n])+\"especialmente em\"+str(mes[i])+\"\\n\") )\n",
    "    arq.close()\n",
    "    !zip file.zip arq*.txt"
   ]
  },
  {
   "cell_type": "code",
   "execution_count": 1,
   "metadata": {
    "cocalc": {
     "outputs": {
      "0": {
       "name": "input",
       "opts": {
        "password": false,
        "prompt": "Insira o valor de A:"
       },
       "output_type": "stream",
       "value": "1"
      },
      "1": {
       "name": "input",
       "opts": {
        "password": false,
        "prompt": "Insira o valor de B:"
       },
       "output_type": "stream",
       "value": "2"
      },
      "2": {
       "name": "input",
       "opts": {
        "password": false,
        "prompt": "Insira o valor de C:"
       },
       "output_type": "stream",
       "value": "1"
      }
     }
    }
   },
   "outputs": [
    {
     "name": "stdout",
     "output_type": "stream",
     "text": "Insira o valor de A: 1"
    },
    {
     "name": "stdout",
     "output_type": "stream",
     "text": "Insira o valor de B: 2"
    },
    {
     "name": "stdout",
     "output_type": "stream",
     "text": "Insira o valor de C: 1"
    }
   ],
   "source": [
    "#Exercicio 3\n",
    "# Calcule as raízes da equação do 2◦ grau () sendo os valores de A, B e C fornecidos pelo usuário, levando em consideração a existência de raízes complexas.**\n",
    "\n",
    "import math\n",
    "\n",
    "a = float(input(\"Insira o valor de A:\"))\n",
    "b = float(input(\"Insira o valor de B:\"))\n",
    "c = float(input(\"Insira o valor de C:\"))\n",
    "delta = math.pow(b,2) - 4*a*c\n",
    "print(\"O delta vale:\"+str(delta))\n",
    "if delta > 0:\n",
    "    x1 = (-b + math.sqrt(delta))/float(2*a)\n",
    "    x2 = (-b - math.sqrt(delta))/float(2*a)\n",
    "    print(\"Existem duas raizes reais \"+str(x1)+\" e \"+str(x2))\n",
    "elif delta == 0:\n",
    "    x = -b/float(2*a)\n",
    "    print(\"Existe uma raiz real com multiplicidade 2 :\"+str(x))\n",
    "\n",
    "\n",
    "    \n",
    "    "
   ]
  },
  {
   "cell_type": "code",
   "execution_count": 3,
   "metadata": {
    "collapsed": false
   },
   "outputs": [
    {
     "name": "stdout",
     "output_type": "stream",
     "text": [
      "As notas do Lucas são ['9.6', '5.5', '9.8', '1.5', '0.3']\n",
      "As notas do Gustavo são ['1.2', '9.9', '9.8', '3.9', '5.6']\n",
      "As notas do Gabriel são ['8.7', '3.2', '5.2', '8.4', '0.5']\n",
      "As notas do Felipe são ['6.2', '8.5', '7.5', '6.9', '2.4']\n",
      "As notas do Juan são ['2.9', '8.0', '5.3', '6.5', '9.0']\n",
      "As notas em array são: \n",
      "[['9.6' '5.5' '9.8' '1.5' '0.3']\n",
      " ['1.2' '9.9' '9.8' '3.9' '5.6']\n",
      " ['8.7' '3.2' '5.2' '8.4' '0.5']\n",
      " ['6.2' '8.5' '7.5' '6.9' '2.4']\n",
      " ['2.9' '8.0' '5.3' '6.5' '9.0']]\n",
      "A menor nota foi :0.3 do Nome                         Lucas\n",
      "notas    [9.6, 5.5, 9.8, 1.5, 0.3]\n",
      "Name: 0, dtype: object\n"
     ]
    }
   ],
   "source": [
    "#Exercício 6\n",
    "#Passo 1: Gere um arquivo com 10 notas de cinco alunos (Deve conter o nome do aluno e as notas).\n",
    "#Passo 2: Em seguida crie uma array em numpy com essas notas.\n",
    "#Passo 3: Crie um DataFrame dessas notas.\n",
    "#Passo 4: Identifique qual menor nota e quem foi o aluno que obteve essa nota\n",
    "#Passo 5: Identifique o aluno que tirou as melhores notas.\n",
    "\n",
    "import random\n",
    "import pandas as pd\n",
    "import numpy as np\n",
    "nomes = [\"Lucas\", \"Gustavo\", \"Gabriel\", \"Felipe\", \"Juan\"]\n",
    "notas =[]\n",
    "for i in range(5):\n",
    "    a = []\n",
    "    for j in range(5):\n",
    "        a.append(\"%.1f\" %random.uniform(0,10))\n",
    "    notas.append(a)\n",
    "arqnotas = open(\"Notas.txt\", \"w\")\n",
    "for i in range(5):\n",
    "    arqnotas.write(\"As notas do \"+str(nomes[i])+\" são \"+str(notas[i])+\"\\n\")\n",
    "    print(\"As notas do \"+str(nomes[i])+\" são \"+str(notas[i]))\n",
    "arqnotas.close()\n",
    "notasarray = np.array(notas)\n",
    "print(\"As notas em array são: \\n\"+str(notasarray))\n",
    "dic = [{'Nome': nomes[i], 'notas': notas[i] } for i in range(5)]\n",
    "df= pd.DataFrame(dic)\n",
    "df\n",
    "menor = min(notasarray[0])\n",
    "for i in range(len(notasarray)):\n",
    "    if min(notasarray[i]) < menor:\n",
    "        menor = min(notasarray[i])\n",
    "\n",
    "for i in range(len(notasarray)):\n",
    "    if menor == min(notasarray[i]):\n",
    "        idx = i\n",
    "\n",
    "\n",
    "print(\"A menor nota foi :\"+str(menor)+\" do \"+str(df.loc[idx]))\n"
   ]
  },
  {
   "cell_type": "code",
   "execution_count": 0,
   "metadata": {
    "collapsed": false
   },
   "outputs": [
   ],
   "source": [
    "##Com base nos dados de https://pt.wikipedia.org/w/index.php?title=Lista_de_epis%C3%B3dios_de_Pok%C3%A9mon&action=edit construa um dataframe para armazenar as informações sobre os episódios de Pokemon, contendo:\n",
    "#Série\n",
    "#Geração\n",
    "#Temporada\n",
    "#Primeiro Episódio\n",
    "#Último Episódio\n",
    "#Região\n",
    "#Descubra qual a geração mais longeva\n",
    "#Descubra quantas temporadas durou cada série\n",
    "\n",
    "import pandas as pd\n",
    "import numpy as np\n",
    "\n",
    "def preenche(lis):\n",
    "    for elem in range(1,len(lis)):\n",
    "        if lis[elem]!=lis[elem]: #truque sujo!\n",
    "            lis[elem]=lis[elem-1]\n",
    "    return lis\n",
    "\n",
    "def sint(x):\n",
    "    try: \n",
    "        return int(x)\n",
    "    except:\n",
    "        return 947+20+1\n",
    "    \n",
    "lispoktab=pd.read_html( \"https://pt.wikipedia.org/wiki/Lista_de_epis%C3%B3dios_de_Pok%C3%A9mon\")\n",
    "df=lispoktab[0]\n",
    "df.ix[2]=np.roll(df.ix[2],2)\n",
    "df.ix[3]=np.roll(df.ix[3],1)\n",
    "df.ix[4]=np.roll(df.ix[4],2)\n",
    "df.ix[5]=np.roll(df.ix[5],2)\n",
    "df.ix[7]=np.roll(df.ix[7],2)\n",
    "df.ix[8]=np.roll(df.ix[8],2)\n",
    "df.ix[9]=np.roll(df.ix[9],2)\n",
    "df.ix[11]=np.roll(df.ix[11],2)\n",
    "df.ix[12]=np.roll(df.ix[12],2)\n",
    "df.ix[13]=np.roll(df.ix[13],2)\n",
    "df.ix[15]=np.roll(df.ix[15],2)\n",
    "df.ix[16]=np.roll(df.ix[16],2)\n",
    "df.ix[18]=np.roll(df.ix[18],2)\n",
    "df.ix[19]=np.roll(df.ix[19],2)\n",
    "\n",
    "\n",
    "df.columns=df.ix[0] # muda o nome das colunas\n",
    "df=df.drop(0) # elimina a primeira linha\n",
    "df['Série']=preenche(list(df['Série'])) # elimina elementos com Nan\n",
    "df['Geração']=preenche(list(df['Geração']))\n",
    "df['Região']=preenche(list(df['Região']))\n",
    "df['Episódios']=[episodio[0:-7] for episodio in df['Episódios']] # elimina parte final \n",
    "df['Primeiro']=[int(episodio[0:3]) for episodio in df['Episódios']] # separa em duas partes\n",
    "df['Último']=[sint(episodio[4:-1]) for episodio in df['Episódios']]\n",
    "\n",
    "df[\"# Episódios\"]=df[\"Último\"]-df[\"Primeiro\"]+1\n"
   ]
  },
  {
   "cell_type": "code",
   "execution_count": 0,
   "metadata": {
    "collapsed": false
   },
   "outputs": [
   ],
   "source": [
   ]
  },
  {
   "cell_type": "code",
   "execution_count": 0,
   "metadata": {
    "collapsed": false
   },
   "outputs": [
   ],
   "source": [
   ]
  }
 ],
 "metadata": {
  "kernelspec": {
   "display_name": "Python 2 (SageMath)",
   "language": "python",
   "name": "python2"
  },
  "language_info": {
   "codemirror_mode": {
    "name": "ipython",
    "version": 2
   },
   "file_extension": ".py",
   "mimetype": "text/x-python",
   "name": "python",
   "nbconvert_exporter": "python",
   "pygments_lexer": "ipython2",
   "version": "2.7.13"
  }
 },
 "nbformat": 4,
 "nbformat_minor": 0
}