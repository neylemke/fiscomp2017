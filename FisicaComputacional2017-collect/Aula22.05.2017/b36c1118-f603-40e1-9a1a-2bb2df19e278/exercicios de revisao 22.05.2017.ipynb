{
 "cells": [
  {
   "cell_type": "markdown",
   "metadata": {
    "collapsed": false
   },
   "source": [
    "## **Exercicio 1**\n",
    "Gere uma lista com 100 números aleatórios, em seguida o aluno deverá deverá encontrar os intervalos médios dos elementos da lista."
   ]
  },
  {
   "cell_type": "code",
   "execution_count": 1,
   "metadata": {
    "collapsed": false
   },
   "outputs": [
    {
     "data": {
      "text/plain": [
       "array([ 1.37606528,  1.15436251,  1.98049186,  3.19396464,  4.6617018 ,\n",
       "        3.49197237,  5.37087612,  6.34444479,  2.5638832 ,  6.56407181,\n",
       "        5.01710925,  4.40107664,  6.36400563,  2.50754952,  3.47160137,\n",
       "        6.24802623,  1.20135011,  3.65339222,  2.35045092,  6.90575683,\n",
       "        4.98739156,  6.02908097,  5.33334931,  3.72390672,  1.23492072,\n",
       "        4.91571209,  1.61198121,  2.67709679,  1.72575749,  2.79760583,\n",
       "        5.22201796,  5.03963285,  5.40904881,  6.45914982,  5.17421071,\n",
       "        2.66544799,  6.47178817,  2.20867205,  2.47519573,  4.97579196,\n",
       "        6.41820503,  3.88277048,  6.29241975,  3.16305481,  1.93052938,\n",
       "        5.08321497,  3.76535774,  1.49650519,  5.87139848,  4.85334104,\n",
       "        5.98635431,  5.46586067,  6.47898601,  1.71880999,  4.05104072,\n",
       "        2.81427009,  1.29368091,  5.92848661,  6.02970307,  6.62047568,\n",
       "        2.72554244,  6.99405147,  2.21486549,  6.51168501,  3.29406206,\n",
       "        6.77819865,  4.56419407,  6.81733698,  1.02120358,  5.88620568,\n",
       "        6.32986367,  2.63137603,  4.67996801,  2.02269793,  3.7794107 ,\n",
       "        2.6088558 ,  3.74415945,  6.50757555,  5.67031703,  1.40278569,\n",
       "        6.27830532,  3.35426587,  1.64647096,  6.06388132,  2.41827097,\n",
       "        1.63386723,  5.50411753,  3.15452497,  6.27856284,  6.65431304,\n",
       "        1.61774037,  6.0713294 ,  5.08080342,  5.75317586,  3.10349163,\n",
       "        4.10382906,  2.07601213,  6.22204664,  3.50438042,  3.88139743])"
      ]
     },
     "execution_count": 1,
     "metadata": {
     },
     "output_type": "execute_result"
    }
   ],
   "source": [
    "import numpy as np\n",
    "lis=np.random.uniform(1,7,100)\n",
    "lis"
   ]
  },
  {
   "cell_type": "code",
   "execution_count": 2,
   "metadata": {
    "collapsed": false
   },
   "outputs": [
    {
     "name": "stdout",
     "output_type": "stream",
     "text": [
      "[3.6928889206224671]\n"
     ]
    }
   ],
   "source": [
    "imedio=[]\n",
    "\n",
    "for i in range(0,99):\n",
    "    imedio=[(lis[i]+lis[i+1])/2]\n",
    "             \n",
    "print imedio"
   ]
  },
  {
   "cell_type": "markdown",
   "metadata": {
    "collapsed": false
   },
   "source": [
    "## **Exercicio 2**\n",
    "\n",
    "Faça um programa que leia um número indeterminado de valores, correspondentes a notas, encerrando a entrada de dados quando for informado um valor igual a -1 (que não deve ser armazenado). Após esta entrada de dados, faça:\n",
    "- Mostre a quantidade de valores que foram lidos;\n",
    "- Exiba todos os valores na ordem em que foram informados, um ao lado do outro;\n",
    "- Exiba todos os valores na ordem inversa à que foram informados, um abaixo do outro;\n",
    "- Calcule e mostre a soma dos valores;\n",
    "- Calcule e mostre a média dos valores;\n",
    "- Calcule e mostre a quantidade de valores acima da média calculada;\n",
    "- Calcule e mostre a quantidade de valores abaixo de sete;\n",
    "- Encerre o programa com uma mensagem;"
   ]
  },
  {
   "cell_type": "code",
   "execution_count": 3,
   "metadata": {
    "cocalc": {
     "outputs": {
      "0": {
       "name": "input",
       "opts": {
        "password": false,
        "prompt": "insira a nota:"
       },
       "output_type": "stream"
      }
     }
    },
    "collapsed": false
   },
   "outputs": [
    {
     "name": "stdout",
     "output_type": "stream",
     "text": "insira a nota: "
    }
   ],
   "source": [
    "nota = input(\"insira a nota:\")\n",
    "n = []\n",
    "n.append(nota)\n",
    "while nota !=(-1):\n",
    "    nota = input(\"insira a nota:\")\n",
    "    n.append(nota)\n",
    "    if nota == -1:\n",
    "        n.remove(nota)\n",
    "        break"
   ]
  },
  {
   "cell_type": "code",
   "execution_count": 0,
   "metadata": {
    "collapsed": false
   },
   "outputs": [
   ],
   "source": [
    "print n"
   ]
  },
  {
   "cell_type": "code",
   "execution_count": 0,
   "metadata": {
    "collapsed": false
   },
   "outputs": [
   ],
   "source": [
    "strn=\" \"\n",
    "for i in n:\n",
    "    strn = \"\\n\"+str(i)+strn+\"\\n\"\n",
    "print strn"
   ]
  },
  {
   "cell_type": "code",
   "execution_count": 0,
   "metadata": {
    "collapsed": false
   },
   "outputs": [
   ],
   "source": [
    "soma = sum(n)\n",
    "print \"soma das notas:\", sum(n)"
   ]
  },
  {
   "cell_type": "code",
   "execution_count": 0,
   "metadata": {
    "collapsed": false
   },
   "outputs": [
   ],
   "source": [
    "media = sum(n)/len(n)\n",
    "print media"
   ]
  },
  {
   "cell_type": "code",
   "execution_count": 0,
   "metadata": {
    "collapsed": false
   },
   "outputs": [
   ],
   "source": [
    "for elem in n:\n",
    "    if elem<media:\n",
    "        print elem"
   ]
  },
  {
   "cell_type": "code",
   "execution_count": 0,
   "metadata": {
    "collapsed": false
   },
   "outputs": [
   ],
   "source": [
    "for elem in n:\n",
    "    if elem>media:\n",
    "        print elem"
   ]
  },
  {
   "cell_type": "code",
   "execution_count": 0,
   "metadata": {
    "collapsed": false
   },
   "outputs": [
   ],
   "source": [
    "for elem in n:\n",
    "    if elem<(7):\n",
    "        print elem"
   ]
  },
  {
   "cell_type": "markdown",
   "metadata": {
    "collapsed": false
   },
   "source": [
    "## **EXERCICIO 3**"
   ]
  },
  {
   "cell_type": "markdown",
   "metadata": {
    "collapsed": false
   },
   "source": [
    "- Calcule as raízes da equação do 2◦ grau ($Ax^2 + Bx + C = 0$) sendo os valores de A, B e C fornecidos pelo usuário, levando em consideração a existência de raízes complexas."
   ]
  },
  {
   "cell_type": "code",
   "execution_count": 0,
   "metadata": {
    "collapsed": false
   },
   "outputs": [
   ],
   "source": [
    "valor = []\n",
    "a = input (\"a\")\n",
    "b = input (\"b\")\n",
    "c = input (\"c\")\n",
    "valor.append(a)\n",
    "valor.append(b)\n",
    "valor.append(c)\n",
    "\n",
    "t = (b*b)-(4*a*c)\n",
    "print \"delta:\", t\n",
    "while t < 0:\n",
    "    print \"delta negativo\"\n",
    "    a = input (\"a\")\n",
    "    b = input (\"b\")\n",
    "    c = input (\"c\")\n",
    "\n",
    "import math\n",
    "(math.sqrt(t))\n",
    "\n",
    "r1 = ((-b)-(math.sqrt(t)))/(2*a)\n",
    "print \"raiz1:\", r1\n",
    "\n",
    "r2 = ((-b)+(math.sqrt(t)))/(2*a)\n",
    "print \"raiz2:\", r2\n"
   ]
  },
  {
   "cell_type": "markdown",
   "metadata": {
    "collapsed": false
   },
   "source": [
    "## **Exercícios 4**\n",
    "- Crie 12 arquivos, chamados de 'arq_mes_estação.txt'. Cada um deles contendo a frase: \"A minha estação predileta é 'estação', especialmente 'mês'\"  repetida um número aleatório de vezes, entre 5 e 20. Comprima essas arquivos usando o comando gzip. Faça isso utilizando o conceito de dicionários."
   ]
  },
  {
   "cell_type": "code",
   "execution_count": 0,
   "metadata": {
    "collapsed": false
   },
   "outputs": [
   ],
   "source": [
    "%%writefile arq_dezembro_inverno.txt\n",
    "    A minha estação preferida é Inverno, especialmente dezembro \n",
    "   A minha estação preferida é Inverno, especialmente dezembro \n",
    "   A minha estação preferida é Inverno, especialmente dezembro \n",
    "   A minha estação preferida é Inverno, especialmente dezembro \n",
    "   A minha estação preferida é Inverno, especialmente dezembro \n",
    "   A minha estação preferida é Inverno, especialmente dezembro \n",
    "   A minha estação preferida é Inverno, especialmente dezembro \n",
    "   A minha estação preferida é Inverno, especialmente dezembro \n",
    "   A minha estação preferida é Inverno, especialmente dezembro \n",
    "   A minha estação preferida é Inverno, especialmente dezembro \n",
    "   A minha estação preferida é Inverno, especialmente dezembro \n",
    "   A minha estação preferida é Inverno, especialmente dezembro \n",
    "   A minha estação preferida é Inverno, especialmente dezembro \n",
    "   A minha estação preferida é Inverno, especialmente dezembro \n",
    "   A minha estação preferida é Inverno, especialmente dezembro \n",
    "   A minha estação preferida é Inverno, especialmente dezembro "
   ]
  },
  {
   "cell_type": "code",
   "execution_count": 0,
   "metadata": {
    "collapsed": false
   },
   "outputs": [
   ],
   "source": [
    "    with open('arq_abril_inverno.txt', 'r') as f:\n",
    "        print(f.read())"
   ]
  },
  {
   "cell_type": "code",
   "execution_count": 0,
   "metadata": {
    "collapsed": false
   },
   "outputs": [
   ],
   "source": [
    "from random import randint"
   ]
  },
  {
   "cell_type": "code",
   "execution_count": 0,
   "metadata": {
    "collapsed": false
   },
   "outputs": [
   ],
   "source": [
    "randint(5,25)"
   ]
  },
  {
   "cell_type": "code",
   "execution_count": 0,
   "metadata": {
    "collapsed": false
   },
   "outputs": [
   ],
   "source": [
    "string=randint(5,20)*\"   A minha estação preferida é Inverno, especialmente dezembro \\n\"\n",
    "print string"
   ]
  },
  {
   "cell_type": "code",
   "execution_count": 0,
   "metadata": {
    "collapsed": false
   },
   "outputs": [
   ],
   "source": [
    "!ls "
   ]
  },
  {
   "cell_type": "code",
   "execution_count": 0,
   "metadata": {
    "collapsed": false
   },
   "outputs": [
   ],
   "source": [
    "!gzip arq_abril_inverno.txt arq_maio_inverno.txt arq_agosto_inverno.txt arq_marco_inverno.txt arq_dezembro_inverno.txt arq_novembro_inverno.txt \n",
    "!gzip arq_fevereiro_inverno.txt arq_outubro_inverno.txt arq_janeiro_inverno.txt arq_setembro_inverno.txt arq_julho_inverno.txt arq_junho_inverno.txt"
   ]
  },
  {
   "cell_type": "code",
   "execution_count": 0,
   "metadata": {
    "collapsed": false
   },
   "outputs": [
   ],
   "source": [
    "!ls"
   ]
  },
  {
   "cell_type": "markdown",
   "metadata": {
    "collapsed": false
   },
   "source": [
    "## **EXERCICIO 5**\n",
    "1. Com base nos dados de https://pt.wikipedia.org/wiki/Lista_de_epis%C3%B3dios_de_Pok%C3%A9mon Construa um  dataframe para armazenar \n",
    "as informações sobre os episódios de Pokemon, contendo: \n",
    "- Série\n",
    "- Geração\n",
    "- Temporada\n",
    "- Primeiro Episódio\n",
    "- Último Episódio\n",
    "- Região\n",
    "2. Descubra qual a geração mais longeva\n",
    "3. Descubra quantas temporadas durou cada série"
   ]
  },
  {
   "cell_type": "code",
   "execution_count": 0,
   "metadata": {
    "collapsed": false
   },
   "outputs": [
   ],
   "source": [
    "import pandas as pd\n",
    "import numpy as np\n"
   ]
  },
  {
   "cell_type": "code",
   "execution_count": 0,
   "metadata": {
    "collapsed": false
   },
   "outputs": [
   ],
   "source": [
    "def preenche(lis):\n",
    "    for elem in range(1,len(lis)):\n",
    "        if lis[elem]!=lis[elem]: #truque sujo!\n",
    "            lis[elem]=lis[elem-1]\n",
    "    return lis"
   ]
  },
  {
   "cell_type": "code",
   "execution_count": 0,
   "metadata": {
    "collapsed": false
   },
   "outputs": [
   ],
   "source": [
    "def sint(x):\n",
    "    try: \n",
    "        return int(x)\n",
    "    except:\n",
    "        return 947+20+1"
   ]
  },
  {
   "cell_type": "code",
   "execution_count": 0,
   "metadata": {
    "collapsed": false
   },
   "outputs": [
   ],
   "source": [
    "lispoktab=pd.read_html( \"https://pt.wikipedia.org/wiki/Lista_de_epis%C3%B3dios_de_Pok%C3%A9mon\")\n",
    "df=lispoktab[0]\n",
    "df.ix[2]=np.roll(df.ix[2],2)\n",
    "df.ix[3]=np.roll(df.ix[3],1)\n",
    "df.ix[4]=np.roll(df.ix[4],2)\n",
    "df.ix[5]=np.roll(df.ix[5],2)\n",
    "df.ix[7]=np.roll(df.ix[7],2)\n",
    "df.ix[8]=np.roll(df.ix[8],2)\n",
    "df.ix[9]=np.roll(df.ix[9],2)\n",
    "df.ix[11]=np.roll(df.ix[11],2)\n",
    "df.ix[12]=np.roll(df.ix[12],2)\n",
    "df.ix[13]=np.roll(df.ix[13],2)\n",
    "df.ix[15]=np.roll(df.ix[15],2)\n",
    "df.ix[16]=np.roll(df.ix[16],2)\n",
    "df.ix[18]=np.roll(df.ix[18],2)\n",
    "df.ix[19]=np.roll(df.ix[19],2)\n",
    "\n",
    "\n",
    "df.columns=df.ix[0] # muda o nome das colunas\n",
    "df=df.drop(0) # elimina a primeira linha\n",
    "df['Série']=preenche(list(df['Série'])) # elimina elementos com Nan\n",
    "df['Geração']=preenche(list(df['Geração']))\n",
    "df['Região']=preenche(list(df['Região']))\n",
    "df['Episódios']=[episodio[0:-7] for episodio in df['Episódios']] # elimina parte final \n",
    "df['Primeiro']=[int(episodio[0:3]) for episodio in df['Episódios']] # separa em duas partes\n",
    "df['Último']=[sint(episodio[4:-1]) for episodio in df['Episódios']]"
   ]
  },
  {
   "cell_type": "code",
   "execution_count": 0,
   "metadata": {
    "collapsed": false
   },
   "outputs": [
   ],
   "source": [
    "df[\"# Episódios\"]=df[\"Último\"]-df[\"Primeiro\"]+1"
   ]
  },
  {
   "cell_type": "code",
   "execution_count": 0,
   "metadata": {
    "collapsed": false
   },
   "outputs": [
   ],
   "source": [
    "df"
   ]
  },
  {
   "cell_type": "markdown",
   "metadata": {
    "collapsed": false
   },
   "source": [
    "## **EXERCICIO 6**\n",
    "- Passo 1: Gere um arquivo com 10 notas de cinco alunos (Deve conter o nome do aluno e as notas).\n",
    "- Passo 2: Em seguida crie uma array em numpy com essas notas.\n",
    "- Passo 3: Crie um DataFrame dessas notas.\n",
    "- Passo 4: Identifique qual menor nota e quem foi o aluno que obteve essa nota\n",
    "- Passo 5: Identifique o aluno que tirou as melhores notas."
   ]
  },
  {
   "cell_type": "code",
   "execution_count": 0,
   "metadata": {
    "collapsed": false
   },
   "outputs": [
   ],
   "source": [
    "aluno=[]\n",
    "nota=[]\n",
    "for i in range(5):\n",
    "    aluno.append(raw_input ('insira o nome do aluno'))\n",
    "for i in aluno:\n",
    "    nota.append(input ('Insira as notas aqui'))\n",
    "    nota.append(input ('Insira as notas aqui'))"
   ]
  },
  {
   "cell_type": "code",
   "execution_count": 0,
   "metadata": {
    "collapsed": false
   },
   "outputs": [
   ],
   "source": [
    "print nota\n",
    "print aluno"
   ]
  },
  {
   "cell_type": "code",
   "execution_count": 0,
   "metadata": {
    "collapsed": false
   },
   "outputs": [
   ],
   "source": [
    "import pandas as pd\n",
    "notaal=range(9)\n",
    "for i in range(9):\n",
    "    notaal[i]=[nota[i],nota[i+1]]\n",
    "\n",
    "del notaal[1::2]\n",
    "\n",
    "notaealu=zip(aluno,notaal)\n",
    "print 'Os alunos e suas respectivas notas são:\\n', notaealu\n",
    "notss=str(notaealu)\n",
    "\n",
    "with open('notaealu','w')as arq:\n",
    "    arq.write(notss)"
   ]
  },
  {
   "cell_type": "code",
   "execution_count": 0,
   "metadata": {
    "collapsed": false
   },
   "outputs": [
   ],
   "source": [
    "import numpy as np\n",
    "nots=np.array(nota)\n",
    "print nots"
   ]
  },
  {
   "cell_type": "code",
   "execution_count": 0,
   "metadata": {
    "collapsed": false
   },
   "outputs": [
   ],
   "source": [
    "import pandas as pd \n",
    "df=pd.DataFrame(nots)\n",
    "dff=pd.DataFrame(notaealu)#,index=['Nota e Aluno', 'Nota e Aluno', 'Nota e Aluno', 'Nota e Aluno','Nota e Aluno'])\n",
    "dff['Aluno']=dff[0]\n",
    "dff['Notas']=dff[1]\n",
    "dff=dff.drop(0,axis=1)\n",
    "dff=dff.drop(1,axis=1)\n",
    "print dff\n",
    "dff['Maior nota']=[max(elem) for elem in notaal]\n",
    "dff['Menor nota']=[min(elem) for elem in notaal]\n",
    "dff=dff.drop('Notas', axis=1)\n",
    "dff"
   ]
  },
  {
   "cell_type": "code",
   "execution_count": 0,
   "metadata": {
    "collapsed": false
   },
   "outputs": [
   ],
   "source": [
    "for elem in dff['Menor nota']:\n",
    "    for i in range(len(dff['Menor nota'])):\n",
    "        if elem == dff['Menor nota'].min():\n",
    "            if dff.loc[i]['Menor nota']== dff['Menor nota'].min():\n",
    "                print 'O aluno com menor nota é:', dff.loc[i]['Aluno'], 'e a nota é', dff.loc[i]['Menor nota']"
   ]
  },
  {
   "cell_type": "code",
   "execution_count": 0,
   "metadata": {
    "collapsed": false
   },
   "outputs": [
   ],
   "source": [
    "for elem in dff['Maior nota']:\n",
    "    for i in range(len(dff['Maior nota'])):\n",
    "        if elem == dff['Maior nota'].max():\n",
    "            if dff.loc[i]['Maior nota']== dff['Maior nota'].max():\n",
    "                print 'O aluno com maior nota é:', dff.loc[i]['Aluno'], 'e a nota é', dff.loc[i]['Maior nota']"
   ]
  },
  {
   "cell_type": "markdown",
   "metadata": {
    "collapsed": false
   },
   "source": [
    "## **EXERCICIO 7**\n",
    "- O Jogo da Vida (The Game of Life) é um autômato celular (cellular automaton) introduzido por John Horton Conway em 1970. Um automato celular consiste de uma rede de células. Cada célula pode estar em um número finito de estados, como morta ou viva. O “jogo” é na verdade uma simulação que permite observar a evolução de um processo a partir de uma certa condição inicial.\n",
    "- O jogo se desenvolve sobre uma matriz bi-dimensional que pode ser tão grande quanto se queira. Vamos chamar essa matriz de mapa. Cada posição ou célula do mapa pode estar vazia (= célula morta) ou ocupada por um agente (= célula viva). Cada posição possui também até 8 posições vizinhas: imediatamente acima, abaixo, aos lados e nas diagonais. Em um determinado instante, o mapa contém uma geração de agentes. A geração no instante seguinte é determinada segundo as regras abaixo:\n",
    "- Novos agentes nascem em células vazias que possuam exatamente 3 agentes vizinhos;\n",
    "- **Agentes com 2 ou 3 agentes vizinhos sobrevivem;**\n",
    "- **Agentes com menos de 2 agentes vizinhos morrem for falta de recursos;**\n",
    "- **Agentes com mais de 3 agentes vizinhos morrem por excesso de competição.**"
   ]
  },
  {
   "cell_type": "code",
   "execution_count": 0,
   "metadata": {
    "collapsed": false
   },
   "outputs": [
   ],
   "source": [
    "import numpy as np\n",
    "\n",
    "def iterate_1(Z):\n",
    "    # Contagem vizinhança\n",
    "    N = np.zeros(Z.shape, int)\n",
    "    N[1:-1,1:-1] += (Z[0:-2,0:-2] + Z[0:-2,1:-1] + Z[0:-2,2:] +\n",
    "                     Z[1:-1,0:-2]                + Z[1:-1,2:] +\n",
    "                     Z[2:  ,0:-2] + Z[2:  ,1:-1] + Z[2:  ,2:])\n",
    "    N_ = N.ravel()\n",
    "    Z_ = Z.ravel()\n",
    "\n",
    "    # Aplicação das regras\n",
    "    R1 = np.argwhere( (Z_==1) & (N_ < 2) )\n",
    "    R2 = np.argwhere( (Z_==1) & (N_ > 3) )\n",
    "    R3 = np.argwhere( (Z_==1) & ((N_==2) | (N_==3)) )\n",
    "    R4 = np.argwhere( (Z_==0) & (N_==3) )\n",
    "\n",
    "    # Definir novos valores\n",
    "    Z_[R1] = 0\n",
    "    Z_[R2] = 0\n",
    "    Z_[R3] = Z_[R3]\n",
    "    Z_[R4] = 1\n",
    "\n",
    "    # Garantia de que as fronteiras permaneçam nulas\n",
    "    Z[0,:] = Z[-1,:] = Z[:,0] = Z[:,-1] = 0\n",
    "\n",
    "\n",
    "def iterate_2(Z):\n",
    "    # Contagem vizinhança\n",
    "    N = (Z[0:-2,0:-2] + Z[0:-2,1:-1] + Z[0:-2,2:] +\n",
    "         Z[1:-1,0:-2]                + Z[1:-1,2:] +\n",
    "         Z[2:  ,0:-2] + Z[2:  ,1:-1] + Z[2:  ,2:])\n",
    "\n",
    "    # Aplicação das regras\n",
    "    birth = (N==3) & (Z[1:-1,1:-1]==0)\n",
    "    survive = ((N==2) | (N==3)) & (Z[1:-1,1:-1]==1)\n",
    "    Z[...] = 0\n",
    "    Z[1:-1,1:-1][birth | survive] = 1\n",
    "    return Z\n",
    "\n",
    "\n",
    "Z = np.array([[0,0,0,0,0,0],\n",
    "              [0,0,0,1,0,0],\n",
    "              [0,1,0,1,0,0],\n",
    "              [0,0,1,1,0,0],\n",
    "              [0,0,0,0,0,0],\n",
    "              [0,0,0,0,0,0]])\n",
    "\n",
    "print Z\n",
    "print\n",
    "for i in range(4): iterate_2(Z)\n",
    "print Z "
   ]
  },
  {
   "cell_type": "code",
   "execution_count": 0,
   "metadata": {
    "collapsed": false
   },
   "outputs": [
   ],
   "source": [
    "import matplotlib.pyplot as plt\n",
    "import numpy as np\n",
    "\n",
    "def iterate(Z):\n",
    "    # Count neighbours\n",
    "    N = (Z[0:-2,0:-2] + Z[0:-2,1:-1] + Z[0:-2,2:] +\n",
    "         Z[1:-1,0:-2]                + Z[1:-1,2:] +\n",
    "         Z[2:  ,0:-2] + Z[2:  ,1:-1] + Z[2:  ,2:])\n",
    "\n",
    "    # Apply rules\n",
    "    birth = (N==3) & (Z[1:-1,1:-1]==0)\n",
    "    survive = ((N==2) | (N==3)) & (Z[1:-1,1:-1]==1)\n",
    "    Z[...] = 0\n",
    "    Z[1:-1,1:-1][birth | survive] = 1\n",
    "    return Z\n",
    "\n",
    "\n",
    "#grafico\n",
    "Z = np.random.randint(0,2,(256,512))\n",
    "for i in range(100): iterate(Z)\n",
    "size = np.array(Z.shape)\n",
    "dpi = 72.0\n",
    "figsize= size[1]/float(dpi),size[0]/float(dpi)\n",
    "fig = plt.figure(figsize=figsize, dpi=dpi, facecolor=\"white\")\n",
    "fig.add_axes([0.0, 0.0, 1.0, 1.0], frameon=False)\n",
    "plt.imshow(Z,interpolation='nearest', cmap=plt.cm.gray_r)\n",
    "plt.xticks([]), plt.yticks([])\n",
    "plt.show()"
   ]
  },
  {
   "cell_type": "markdown",
   "metadata": {
    "collapsed": false
   },
   "source": [
    "## **EXERCICIO 8**\n",
    "Considere um conjunto de 10 triplets descrevendo 10 triângulos (com vértices compartilhados), encontrar o conjunto de segmentos de linha única compondo todos os triângulos "
   ]
  },
  {
   "cell_type": "code",
   "execution_count": 0,
   "metadata": {
    "collapsed": false
   },
   "outputs": [
   ],
   "source": [
   ]
  }
 ],
 "metadata": {
  "kernelspec": {
   "display_name": "Python 2 (SageMath)",
   "language": "python",
   "name": "python2"
  },
  "language_info": {
   "codemirror_mode": {
    "name": "ipython",
    "version": 2
   },
   "file_extension": ".py",
   "mimetype": "text/x-python",
   "name": "python",
   "nbconvert_exporter": "python",
   "pygments_lexer": "ipython2",
   "version": "2.7.13"
  }
 },
 "nbformat": 4,
 "nbformat_minor": 0
}