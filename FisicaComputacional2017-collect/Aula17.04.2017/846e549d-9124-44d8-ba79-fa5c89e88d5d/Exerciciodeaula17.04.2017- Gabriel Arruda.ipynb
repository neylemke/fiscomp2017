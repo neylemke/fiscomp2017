{
 "cells": [
  {
   "cell_type": "code",
   "execution_count": 18,
   "metadata": {
    "collapsed": false
   },
   "outputs": [
    {
     "name": "stdout",
     "output_type": "stream",
     "text": [
      "digite o valor de A: 1\n",
      "digite o valor de B: 2\n",
      "digite o valor de C: 1\n",
      "('Delta: ', 0.0)\n",
      "('Raiz1: ', -1.0)\n",
      "('\\n Raiz2: ', -1.0)\n"
     ]
    }
   ],
   "source": [
    "## Exercicio 1\n",
    "import math\n",
    "a=float(input(\"digite o valor de A: \"))\n",
    "b=float(input(\"digite o valor de B: \"))\n",
    "c=float(input(\"digite o valor de C: \"))\n",
    "delta=b*b-(4*a*c)\n",
    "print(\"Delta: \",delta)\n",
    "if(delta<0):\n",
    "    print(\"Delta negativo não apresenta soluções reais\")\n",
    "else:\n",
    "\n",
    "    raiz1=(-b+math.sqrt(delta))/2*a\n",
    "    raiz2=(-b-math.sqrt(delta))/2*a\n",
    "    print(\"Raiz1: \",raiz1)\n",
    "    print(\"\\n Raiz2: \",raiz2)"
   ]
  },
  {
   "cell_type": "code",
   "execution_count": 23,
   "metadata": {
    "collapsed": false
   },
   "outputs": [
    {
     "name": "stdout",
     "output_type": "stream",
     "text": [
      "digite o valor de A: 3\n",
      "digite o valor de B: 4\n",
      "digite o valor de C: 5\n",
      "O triangulo e escaleno\n"
     ]
    }
   ],
   "source": [
    "##Exercicio2\n",
    "import math\n",
    "A=float(input(\"digite o valor de A: \"))\n",
    "B=float(input(\"digite o valor de B: \"))\n",
    "C=float(input(\"digite o valor de C: \"))\n",
    "if((A < B + C)and(B < A + C)and(C < A + B)):\n",
    "    if((A==B)and (B==C)):\n",
    "        print(\"O triangulo e equilatero\")\n",
    "    if((A==B)or(A==C)or(B==C)):\n",
    "        print(\"o triangulo e isosceles\")\n",
    "    if((A<>B)and(B<>C)and(A<>C)):\n",
    "        print(\"O triangulo e escaleno\")    \n",
    "else:\n",
    "    print(\"Tais valores não mantém a proporção de um triangulo\")"
   ]
  },
  {
   "cell_type": "code",
   "execution_count": 27,
   "metadata": {
    "collapsed": false
   },
   "outputs": [
    {
     "name": "stdout",
     "output_type": "stream",
     "text": [
      "digite o valor de A: 2\n",
      "digite o valor de B: 2\n",
      "digite o valor de C: 2\n",
      "('O volume do paralelepipedo e: ', 8.0)\n",
      "('A area latera e', 16.0)\n"
     ]
    }
   ],
   "source": [
    "##Exercicio 3\n",
    "def volume(a,b,c):\n",
    "    volume=a*b*c\n",
    "    return volume\n",
    "def arealateral(b,c):\n",
    "    area=4*b*c\n",
    "    return area\n",
    "A=float(input(\"digite o valor de A: \"))\n",
    "B=float(input(\"digite o valor de B: \"))\n",
    "C=float(input(\"digite o valor de C: \"))\n",
    "print(\"O volume do paralelepipedo e: \", volume(A,B,C))\n",
    "print(\"A area latera e\", arealateral(B,C))\n"
   ]
  },
  {
   "cell_type": "code",
   "execution_count": 39,
   "metadata": {
    "collapsed": false
   },
   "outputs": [
    {
     "name": "stdout",
     "output_type": "stream",
     "text": [
      "Digite um numero: 1000\n",
      "1000\n",
      "['1000']\n"
     ]
    }
   ],
   "source": [
    "##Ex 4\n",
    "\n",
    "a=raw_input(\"Digite um numero: \")\n",
    "b=int(a)\n",
    "print(b)\n",
    "c=a.split()\n",
    "print(c)\n"
   ]
  },
  {
   "cell_type": "code",
   "execution_count": 0,
   "metadata": {
    "collapsed": true
   },
   "outputs": [
   ],
   "source": [
   ]
  }
 ],
 "metadata": {
  "kernelspec": {
   "display_name": "Python 2 (SageMath)",
   "language": "python",
   "name": "python2"
  },
  "language_info": {
   "codemirror_mode": {
    "name": "ipython",
    "version": 2
   },
   "file_extension": ".py",
   "mimetype": "text/x-python",
   "name": "python",
   "nbconvert_exporter": "python",
   "pygments_lexer": "ipython2",
   "version": "2.7.13"
  }
 },
 "nbformat": 4,
 "nbformat_minor": 0
}