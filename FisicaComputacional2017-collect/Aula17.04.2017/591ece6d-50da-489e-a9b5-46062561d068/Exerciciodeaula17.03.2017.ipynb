{
 "cells": [
  {
   "cell_type": "code",
   "execution_count": 1,
   "metadata": {
    "collapsed": false
   },
   "outputs": [
    {
     "name": "stdout",
     "output_type": "stream",
     "text": [
      "Insira um valor para a \n",
      "2\n",
      "Insira um valor para b \n",
      "3\n",
      "Insira um valor para c \n",
      "4\n",
      "Delta igual a: -23\n",
      "Equação não tem solução no conjunto dos reais\n"
     ]
    }
   ],
   "source": [
    "## Exercicio 1\n",
    "\n",
    "a= int(input(\"Insira um valor para a \\n\")) \n",
    "b= int(input(\"Insira um valor para b \\n\"))\n",
    "c= int(input(\"Insira um valor para c \\n\"))\n",
    "if a==0 :\n",
    "   x = -((c)/b)\n",
    "   print \"Equação de primeiro grau, raiz:\", x\n",
    "else: # caso contrário\n",
    "   delta= (b*b) - 4*a*c\n",
    "   print \"Delta igual a:\", delta\n",
    "   if delta<0: # se for menor que zero, nao tem raízes reais\n",
    "        print \"Equação não tem solução no conjunto dos reais\"\n",
    "   elif delta==0: # delta igual a zero, apenas uma raiz real\n",
    "        print \"Equação possui apenas uma raíz real\"\n",
    "        x= -b/(2*a)\n",
    "        print \"Raiz da equação:\", x\n",
    "   elif delta>0: # delta maior que zero, duas raízes reais e uma distinta\n",
    "        x1= (-b+ (delta)**(1/2))/(2*a)\n",
    "        x2= (-b- (delta)**(1/2))/(2*a)\n",
    "        print \"Equação possui duas raízes reais:\"\n",
    "        print \"x1:\", x1 \n",
    "        print \"x2:\", x2"
   ]
  },
  {
   "cell_type": "code",
   "execution_count": null,
   "metadata": {
    "collapsed": true
   },
   "outputs": [],
   "source": [
    "## Exercicio 2\n",
    "\n",
    "A = input('Digite um tamanho para o lado A: ')\n",
    "B = input('Digite um tamanho para o lado B: ')\n",
    "C = input('Digite um tamanho para o lado C: ')\n",
    "\n",
    "if A + B > C or B + C > A or A + C > B:\n",
    "    if A == B and A == C:\n",
    "        print 'Triângulo Equilátero'\n",
    "    elif A == B or B == C or A == C:\n",
    "        print 'Triângulo Isósceles'\n",
    "    elif A != B and C or B != A and C or C != A and B:\n",
    "        print 'Triângulo Escaleno'\n",
    "\n",
    "else:\n",
    "    print 'Não é um triângulo. '"
   ]
  },
  {
   "cell_type": "code",
   "execution_count": null,
   "metadata": {
    "collapsed": true
   },
   "outputs": [],
   "source": [
    "# Exercicio 3\n",
    "# Medidas são dadas em centímetros\n",
    "\n",
    "A= input(\"Insira A: \")\n",
    "B= input(\"Insira B: \") \n",
    "C= input(\"Insira C: \")\n",
    "float(A), float(B), float(C)\n",
    "\n",
    "def volume(A,B,C):\n",
    "    return A*B*C\n",
    "def area_lateral(A,B,C):\n",
    "        return 2*(A*C + B*C)\n",
    "\n",
    "print \"Volume do paralelepipedo: \", volume(A,B,C) , \"cm^3\"\n",
    "print \"Área lateral do paralelepipedo: \", area_lateral(A,B,C), \"cm^2\""
   ]
  },
  {
   "cell_type": "code",
   "execution_count": null,
   "metadata": {
    "collapsed": true
   },
   "outputs": [],
   "source": []
  }
 ],
 "metadata": {
  "kernelspec": {
   "display_name": "Python 2 (SageMath)",
   "language": "python",
   "name": "python2"
  },
  "language_info": {
   "codemirror_mode": {
    "name": "ipython",
    "version": 2
   },
   "file_extension": ".py",
   "mimetype": "text/x-python",
   "name": "python",
   "nbconvert_exporter": "python",
   "pygments_lexer": "ipython2",
   "version": "2.7.13"
  }
 },
 "nbformat": 4,
 "nbformat_minor": 0
}
