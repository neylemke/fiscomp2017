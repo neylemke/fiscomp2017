{
 "cells": [
  {
   "cell_type": "markdown",
   "metadata": {},
   "source": [
    "## Aula - 17 de Abril de 2017"
   ]
  },
  {
   "cell_type": "code",
   "execution_count": 38,
   "metadata": {
    "collapsed": false
   },
   "outputs": [
    {
     "name": "stdout",
     "output_type": "stream",
     "text": [
      "Entre com valor para a: 3\n",
      "Entre com valor para b: 7\n",
      "Entre com valor para c: 4\n",
      "discriminante (delta) =  1\n",
      "x1 =  -1.0\n",
      "x2 =  -1.33333333333\n"
     ]
    }
   ],
   "source": [
    "#Exercício 1: encontrar as raízes da equação quadrática da forma ax^2+bx+c=0.\n",
    "\n",
    "from math import sqrt\n",
    "a = input(\"Entre com valor para a: \")\n",
    "b = input(\"Entre com valor para b: \")\n",
    "c = input(\"Entre com valor para c: \")\n",
    "discriminante = b**2 - 4*a*c\n",
    "print 'discriminante (delta) = ', discriminante\n",
    "if discriminante >= 0:\n",
    "    x1 = (-b + (sqrt(discriminante)))/(2*a)\n",
    "    print 'x1 = ', x1\n",
    "    x2 = (-b - (sqrt(discriminante)))/(2*a)\n",
    "    print 'x2 = ', x2\n",
    "else:\n",
    "    print 'Discriminante (delta) negativo, entre com outros valores para a, b e c'"
   ]
  },
  {
   "cell_type": "code",
   "execution_count": 1,
   "metadata": {
    "collapsed": false
   },
   "outputs": [
    {
     "name": "stdout",
     "output_type": "stream",
     "text": [
      "Entre com valor para o lado A: 3\n",
      "Entre com valor para o lado B: 2\n",
      "Entre com valor para o lado C: 5\n",
      "A, B e C formam um triângulo ESCALENO!\n"
     ]
    }
   ],
   "source": [
    "##### Exercício 2: verificar se é triângulo\n",
    "\n",
    "A = input(\"Entre com valor para o lado A: \")\n",
    "B = input(\"Entre com valor para o lado B: \")\n",
    "C = input(\"Entre com valor para o lado C: \")\n",
    "if  (A < B + C):\n",
    "    if  (B < A + C):\n",
    "        if (C < A + B):\n",
    "            print 'A, B e C formam um triângulo!'\n",
    "else:\n",
    "    print 'A, B e C não formam um triângulo. Entre com outros valores!'\n",
    "if A == B:\n",
    "    if B == C:\n",
    "        if A == C:\n",
    "            print 'A, B e C formam um triângulo EQUILÁTERO!'\n",
    "\n",
    "        else:\n",
    "            print 'A, B e C formam um triângulo ISÓSCELES!'\n",
    "else:\n",
    "    print 'A, B e C formam um triângulo ESCALENO!'"
   ]
  },
  {
   "cell_type": "code",
   "execution_count": 33,
   "metadata": {
    "collapsed": false
   },
   "outputs": [
    {
     "name": "stdout",
     "output_type": "stream",
     "text": [
      "Entre com valor para o lado a do paralelepípedo: 2\n",
      "Entre com valor para o lado b do paralelepípedo: 3\n",
      "Entre com valor para o lado c do paralelepípedo: 5\n",
      "O volume do paralelepípedo em u.v. é: V =  30\n",
      "A área lateral do paralelepípedo em u.a. é: A =  62\n"
     ]
    }
   ],
   "source": [
    "#Exercício 3: volume e área lateral de um paralepípedo.\n",
    "\n",
    "a = input(\"Entre com valor para o lado a do paralelepípedo: \")\n",
    "b = input(\"Entre com valor para o lado b do paralelepípedo: \")\n",
    "c = input(\"Entre com valor para o lado c do paralelepípedo: \")\n",
    "V = a*b*c\n",
    "print 'O volume do paralelepípedo em u.v. é: V = ', V\n",
    "A = (2*a*b)+(2*a*c)+(2*b*c)\n",
    "print 'A área lateral do paralelepípedo em u.a. é: A = ', A"
   ]
  },
  {
   "cell_type": "code",
   "execution_count": null,
   "metadata": {
    "collapsed": true
   },
   "outputs": [],
   "source": [
    "#Exercício 4: função que conte o número de algarismos pares em um número natural.\n",
    "\n",
    "def contador()"
   ]
  },
  {
   "cell_type": "code",
   "execution_count": null,
   "metadata": {
    "collapsed": false
   },
   "outputs": [],
   "source": [
    "#Exercício 5: algoritmo que solicite ao usuário números e os armazene em um vetor de 30 posições.\n",
    "\n",
    "i=0\n",
    "V=[]\n",
    "while i<30:\n",
    "    V=V+[float(input('Entre com números quaisquer:'))]\n",
    "    i=i+1\n",
    "    \n",
    "i=0\n",
    "while i<30:\n",
    "    if V[i]>0:\n",
    "        V[i]=1\n",
    "    else:\n",
    "        V[i]=0\n",
    "    i=i+1\n",
    "    \n",
    "V     "
   ]
  },
  {
   "cell_type": "markdown",
   "metadata": {},
   "source": [
    "# Exercício 6: math, numpy, matplotlib, pandas e string\n",
    "\n",
    "## Math\n",
    "\n",
    "Fornece funções para operações matemáticas especializadas. O módulo math implementa muitas das funções que normalmente seriam encontrados nas bibliotecas nativas plataforma C para operações matemáticas complexas usando valores de ponto flutuante, incluindo logaritmos e operações trigonométricas.\n",
    "Por exemplo, esse módulo é usado para constantes especiais. Muitas operações matemáticas dependem de constantes especiais. Math inclui valores para pi.\n",
    "\n",
    "**import math**\n",
    "\n",
    "print 'π: %.30f' % math.pi\n",
    "print 'e: %.30f' % math.e\n",
    "\n",
    "## NumPy\n",
    "\n",
    "Grandes partes do uso NumPy, é para um pacote de matriz oferecendo N-dimensional, digitado matrizes e funções úteis para a álgebra linear, transformadas de Fourier, números aleatórios, e outras tarefas científicas básicas.\n",
    "\n",
    "**import numpy as np**\n",
    "\n",
    "Exemplos:\n",
    "Criar um grande vetor(array) com com 1 milhão de amostras.\n",
    "\n",
    "x = np.linspace(start=0, stop=100, num=1E6, dtype=np.float64)\n",
    "\n",
    "A maioria das operações é por elemento.\n",
    "\n",
    "y = x ** 2\n",
    "\n",
    "Usuário de C e Fortran.\n",
    "\n",
    "print(y.sum())\n",
    "\n",
    "FFT e Inversa.\n",
    "\n",
    "x = np.random.random(100)\n",
    "large_X = np.fft.fft(x)\n",
    "x = np.fft.ifft(large_X)\n",
    "\n",
    "# Matplotlib\n",
    "\n",
    "Gráficos são feitos usando Matplotlib, um pacote para a criação de lotes estáticas de alta qualidade. Ele tem uma interface que imita Matlab que\n",
    "muitas pessoas estão familiarizados.\n",
    "\n",
    "**import matplotlib.pylab as plt**\n",
    "\n",
    "plt.plot(np.sin(np.linspace(0, 2 * np.pi, 2000)), color=\"green\", label=\"Some Curve\")\n",
    "\n",
    "plt.legend()\n",
    "\n",
    "plt.ylim(-1.1, 1.1)\n",
    "\n",
    "plt.show()\n",
    "\n",
    "## Pandas\n",
    "\n",
    "Python é uma ótima linguagem para fazer a análise de dados, principalmente por causa do fantástico ecossistema de pacotes centrados em dados Python. Pandas é um desses pacotes, e torna a importação e análise de dados muito mais fácil. Pandas baseia-se em pacotes como NumPy e matplotlib para dar-lhe um único, conveniente, lugar para fazer a maioria de sua análise de dados e trabalho de visualização.\n",
    "\n",
    "**import pandas as pd**\n",
    "\n",
    "df_data = {'pais': ['Brasil', 'Argentina','Argentina', 'Brasil', 'Chile','Chile'],'ano': [2005, 2006, 2005, 2006, 2007, 2008],'populacao': [170.1, 30.5, 32.2, 172.6, 40.8, 42.0]}\n",
    "df = pd.DataFrame(df_data)\n",
    "print(df)\n",
    "\n",
    "## String\n",
    "\n",
    "Strings estão entre os tipos mais populares em Python. Podemos criá-los simplesmente anexando caracteres entre aspas. Python trata citações simples o mesmo que aspas duplas. Criar strings é tão simples como atribuir um valor a uma variável. Por exemplo:\n",
    "\n",
    "var1 = 'Hello World!'\n",
    "var2 = \"Python Programming\""
   ]
  },
  {
   "cell_type": "code",
   "execution_count": null,
   "metadata": {
    "collapsed": true
   },
   "outputs": [],
   "source": []
  }
 ],
 "metadata": {
  "kernelspec": {
   "display_name": "Python 2 (SageMath)",
   "language": "python",
   "name": "python2"
  },
  "language_info": {
   "codemirror_mode": {
    "name": "ipython",
    "version": 2
   },
   "file_extension": ".py",
   "mimetype": "text/x-python",
   "name": "python",
   "nbconvert_exporter": "python",
   "pygments_lexer": "ipython2",
   "version": "2.7.13"
  }
 },
 "nbformat": 4,
 "nbformat_minor": 0
}
