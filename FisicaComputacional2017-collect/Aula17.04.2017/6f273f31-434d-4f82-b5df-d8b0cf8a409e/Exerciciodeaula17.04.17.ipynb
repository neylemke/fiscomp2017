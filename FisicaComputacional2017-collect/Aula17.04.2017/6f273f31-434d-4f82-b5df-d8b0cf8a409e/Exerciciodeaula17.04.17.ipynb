{
 "cells": [
  {
   "cell_type": "markdown",
   "metadata": {
    "collapsed": false
   },
   "source": [
    "# 17.04.2017"
   ]
  },
  {
   "cell_type": "markdown",
   "metadata": {},
   "source": [
    "# Exercicio 1\n",
    "### Calcule as raízes da equação do 2º grau ( $Ax^2+Bx+C=0$) sendo os valores de A, B e C fornecidos pelo usuário, levando em consideração a existência de raízes reais."
   ]
  },
  {
   "cell_type": "code",
   "execution_count": 3,
   "metadata": {
    "collapsed": false
   },
   "outputs": [
    {
     "name": "stdout",
     "output_type": "stream",
     "text": [
      "Insira A: 2\n",
      "Insira B: 2\n",
      "Insira C: 2\n",
      "Delta menor que zero, raízes complexas. Por favor, insira outros valores de A, B e C: \n",
      "Insira A: 4\n",
      "Insira B: 4\n",
      "Insira C: 1\n",
      "x1: -1\n",
      "x2: -1\n"
     ]
    }
   ],
   "source": [
    "A= input(\"Insira A: \")\n",
    "B= input(\"Insira B: \") \n",
    "C= input(\"Insira C: \")\n",
    "float(A), float(B), float(C)\n",
    "from math import sqrt\n",
    "   \n",
    "delta= B**2-4*A*C\n",
    "while delta<0:\n",
    "    print (\"Delta menor que zero, raízes complexas. Por favor, insira outros valores de A, B e C: \")\n",
    "    A= input(\"Insira A: \")\n",
    "    B= input(\"Insira B: \") \n",
    "    C= input(\"Insira C: \")\n",
    "    float(A), float(B), float(C)\n",
    "    delta= B**2-4*A*C\n",
    "x1= (-B+(delta)**(1/2))/(2*A)\n",
    "x2= (-B-(delta)**(1/2))/(2*A)\n",
    "print \"x1:\",x1\n",
    "print \"x2:\",x2  "
   ]
  },
  {
   "cell_type": "markdown",
   "metadata": {
    "collapsed": true
   },
   "source": [
    "# Exercicio 2"
   ]
  },
  {
   "cell_type": "code",
   "execution_count": 17,
   "metadata": {
    "collapsed": false
   },
   "outputs": [
    {
     "name": "stdout",
     "output_type": "stream",
     "text": [
      "Insira A: 7\n",
      "Insira B: 1\n",
      "Insira C: 1\n",
      "Não é triângulo!\n"
     ]
    }
   ],
   "source": [
    "A= input(\"Insira A: \")\n",
    "B= input(\"Insira B: \") \n",
    "C= input(\"Insira C: \")\n",
    "float(A), float(B), float(C)\n",
    "\n",
    "if (A < B + C) and (B < A + C) and (C < A + B):\n",
    "    if (A == B) and (B == C):\n",
    "        print \"Triângulo equilátero\"\n",
    "    elif (A == B) or (A == C) or (B == C):\n",
    "        print \"Triângulo isósceles\"\n",
    "    else:  \n",
    "        print \"Triângulo escaleno\"\n",
    "else: \n",
    "    print \"Não é triângulo!\""
   ]
  },
  {
   "cell_type": "markdown",
   "metadata": {},
   "source": [
    "# Exercicio 3"
   ]
  },
  {
   "cell_type": "code",
   "execution_count": 11,
   "metadata": {
    "collapsed": false
   },
   "outputs": [
    {
     "name": "stdout",
     "output_type": "stream",
     "text": [
      "Insira A: 2\n",
      "Insira B: 2\n",
      "Insira C: 5\n",
      "Volume do paralelepipedo:  20 cm^3\n",
      "Área lateral do paralelepipedo:  40 cm^2\n"
     ]
    }
   ],
   "source": [
    "#Considerando que as medidas são dadas em centímetros\n",
    "A= input(\"Insira A: \")\n",
    "B= input(\"Insira B: \") \n",
    "C= input(\"Insira C: \")\n",
    "float(A), float(B), float(C)\n",
    "\n",
    "def volume(A,B,C):\n",
    "    return A*B*C\n",
    "def area_lateral(A,B,C):\n",
    "        return 2*(A*C + B*C)\n",
    "\n",
    "print \"Volume do paralelepipedo: \", volume(A,B,C) , \"cm^3\"\n",
    "print \"Área lateral do paralelepipedo: \", area_lateral(A,B,C), \"cm^2\""
   ]
  },
  {
   "cell_type": "code",
   "execution_count": 13,
   "metadata": {
    "collapsed": false
   },
   "outputs": [
    {
     "data": {
      "text/plain": [
       "90"
      ]
     },
     "execution_count": 13,
     "metadata": {},
     "output_type": "execute_result"
    }
   ],
   "source": [
    "f(3,3,10)"
   ]
  },
  {
   "cell_type": "markdown",
   "metadata": {},
   "source": [
    "# Exercício 4\n",
    "\n",
    "### Implemente uma função que conte o número de algarismos pares em um número natural "
   ]
  },
  {
   "cell_type": "code",
   "execution_count": 21,
   "metadata": {
    "collapsed": false
   },
   "outputs": [
    {
     "name": "stdout",
     "output_type": "stream",
     "text": [
      "Insira um número natural qualquer:1234567890\n",
      "O número de algarismos pares no dado número é:  5\n"
     ]
    }
   ],
   "source": [
    "nat= str(input(\"Insira um número natural qualquer:\"))\n",
    "\n",
    "def algarism(nat):\n",
    "    return len([alg for alg in nat if int(alg)%2==0])\n",
    "print \"O número de algarismos pares no dado número é: \", algarism(nat)\n"
   ]
  },
  {
   "cell_type": "markdown",
   "metadata": {},
   "source": [
    "# Exercício 5 \n",
    "\n",
    "####  faça um algoritmo que solicite ao usuário números e os armazene em um vetor de 30 posições. Crie uma função que recebe o vetor preenchido e substitua todas as ocorrência de valores positivos por 1 e todos os valores negativos por 0"
   ]
  },
  {
   "cell_type": "code",
   "execution_count": 25,
   "metadata": {
    "collapsed": false
   },
   "outputs": [
    {
     "name": "stdout",
     "output_type": "stream",
     "text": [
      "Insira os valores 0: 2\n",
      "Insira os valores 1: 4\n",
      "Insira os valores 2: 6\n",
      "Insira os valores 3: 8\n",
      "Insira os valores 4: -3480948\n",
      "Insira os valores 5: -37408957\n",
      "Insira os valores 6: 289483\n",
      "Insira os valores 7: 9\n",
      "Insira os valores 8: 2\n",
      "Insira os valores 9: -248\n",
      "[1, 1, 1, 1, 0, 0, 1, 1, 1, 0]\n"
     ]
    }
   ],
   "source": [
    "x=[int(input(\"Insira os valores {}: \".format(i))) for i in range (10)]\n",
    "xx=[]\n",
    "for k in range(len(x)):\n",
    "    if x[k]>0:\n",
    "        xx.append(1)\n",
    "    else:\n",
    "        xx.append(0)\n",
    "print xx"
   ]
  },
  {
   "cell_type": "markdown",
   "metadata": {
    "collapsed": true
   },
   "source": [
    "# Exercício 6\n",
    "\n",
    "### Pesquise e monte um notebook em modo Markdown qual a função e exemplos da utilização dos seguintes pacotes: *math, numpy, matplotlib, pandas* e string**"
   ]
  },
  {
   "cell_type": "markdown",
   "metadata": {
    "collapsed": true
   },
   "source": [
    "## Pacote \"Math\"\n",
    "\n",
    "### Fornece funções matemáticas, operações e operadores matemáticos, como por exemplo: \n",
    "\n",
    "#### math.sqrt(numero): Retorna a raiz quadrada do número.\n",
    "#### math.cos(numero): Retorna o cosseno do número (em radiano).\n",
    "#### math.sin(numero): Retorna o seno do número (em radiano).\n",
    "#### etc."
   ]
  },
  {
   "cell_type": "code",
   "execution_count": 26,
   "metadata": {
    "collapsed": false
   },
   "outputs": [
    {
     "data": {
      "text/plain": [
       "5.0"
      ]
     },
     "execution_count": 26,
     "metadata": {},
     "output_type": "execute_result"
    }
   ],
   "source": [
    "#exemplo math\n",
    "import math \n",
    "math.sqrt(25)"
   ]
  },
  {
   "cell_type": "markdown",
   "metadata": {},
   "source": [
    "# Pacote numpy\n",
    "\n",
    "### O NumPy é o pacote básico da linguagem Python que permite trabalhar com arranjos, vetores e matrizes de N dimensões, de uma forma comparável e com uma sintaxe semelhante ao software proprietário Matlab. Algumas funções do numpy são:\n",
    "\n",
    "#### np.arrange(numero): Função bem parecida com 'range', porém retona um array (vetor) ao invés de uma lista.\n",
    "#### np.sum(): soma todos os elementos do array.\n",
    "#### np.amin(array): retorna o valor mínimo do array.\n",
    "#### np.amax(array): retorna o valor máximo do array.\n",
    "#### b.argmin(): retorna o índice de menor valor do array \"b\".\n",
    "#### b.armax(): retorna o índice de maior valor do array \"b\".\n",
    "#### etc."
   ]
  },
  {
   "cell_type": "code",
   "execution_count": 31,
   "metadata": {
    "collapsed": false
   },
   "outputs": [
    {
     "name": "stdout",
     "output_type": "stream",
     "text": [
      "Valor mínimo:  3.4\n",
      "Valor máximo:  33.0\n"
     ]
    }
   ],
   "source": [
    "#exemplo pacote numpy\n",
    "import numpy as np\n",
    "b = np.array([3.4, 5., 33., 8.])\n",
    "print \"Valor mínimo: \", np.amin(b)\n",
    "print \"Valor máximo: \", np.amax(b)\n"
   ]
  },
  {
   "cell_type": "markdown",
   "metadata": {},
   "source": [
    "# Pacote matplotlib \n",
    "\n",
    "### É uma biblioteca do Python para criação de gráficos em 2D, bastante utilizada para visualização de dados e que apresenta uma série de possibilidades gráficas, como gráficos de barra, linha, pizza, histogramas, entre muitos outros, com qualidade para impressão, além de gráficos dinâmicos e interativos. O modo pylab emula gráficos do Matlab."
   ]
  },
  {
   "cell_type": "code",
   "execution_count": 33,
   "metadata": {
    "collapsed": false
   },
   "outputs": [
    {
     "data": {
      "image/png": "[encoded data removed]",
      "text/plain": [
       "<matplotlib.figure.Figure at 0x7f0754ebef90>"
      ]
     },
     "metadata": {},
     "output_type": "display_data"
    }
   ],
   "source": [
    "#exemplo matplotlib\n",
    "import matplotlib.pyplot as mpl\n",
    "eixo_x = [1.0, 2.0, 3.0, 4.0, 5.0, 6.0]\n",
    "eixo_y = [10, 95, 28, 50, 113, 78]\n",
    "mpl.plot(eixo_x, eixo_y)\n",
    "mpl.show()"
   ]
  },
  {
   "cell_type": "markdown",
   "metadata": {},
   "source": [
    "# Pacote pandas*\n",
    "\n",
    "\n",
    "### Pandas é uma biblioteca de código aberto, licenciada pela BSD, que fornece estruturas de dados de alto desempenho fáceis de usar e ferramentas de análise de dados para a linguagem de programação Python."
   ]
  },
  {
   "cell_type": "code",
   "execution_count": 1,
   "metadata": {
    "collapsed": false
   },
   "outputs": [
    {
     "name": "stdout",
     "output_type": "stream",
     "text": [
      "    ano       pais  populacao\n",
      "0  2005     Brasil      170.1\n",
      "1  2006  Argentina       30.5\n",
      "2  2005  Argentina       32.2\n",
      "3  2006     Brasil      172.6\n",
      "4  2007      Chile       40.8\n",
      "5  2008      Chile       42.0\n"
     ]
    }
   ],
   "source": [
    "#exemplo Pandas\n",
    "\n",
    "import pandas as pd\n",
    "\n",
    "df_data = {'pais': ['Brasil', 'Argentina','Argentina', 'Brasil', 'Chile','Chile'],\n",
    "           'ano': [2005, 2006, 2005, 2006, 2007, 2008],\n",
    "           'populacao': [170.1, 30.5, 32.2, 172.6, 40.8, 42.0]}\n",
    "df = pd.DataFrame(df_data)\n",
    "print(df)"
   ]
  },
  {
   "cell_type": "markdown",
   "metadata": {},
   "source": [
    "# String \n",
    "\n",
    "### Um string é simplesmente um grupo de caracteres entre aspas. São construídos de strings menores, cada um contendo um caractere. Strings podem ser definidos como coleções de sequências de caracteres. Tipos que são compostos de pedaços menores são chamados tipos de dados compostos. Dependendo do que estejamos fazendo, pode ser que precisemos tratar um tipo de dado composto como uma coisa única, ou pode ser que queiramos acessar suas partes. Esta ambiguidade é útil.\n",
    "#### A tabela a seguir apresenta um resumo de alguns outros métodos úteis de string. Existem alguns exemplos em activecode que se seguem, de modo que você pode experimentá-los.\n",
    "\n",
    "##### Método\tParâmetros\tDescrição\n",
    "##### upper\tnenhum\tRetorna um string todo em maiúsculas\n",
    "##### lower\tnenhum\tRetorna um string todo em minúsculas\n",
    "##### capitalize\tnenhum\tRetorna um string com o primeiro caractere em maiúscula, e o resto em minúsculas\n",
    "##### strip\tnenhum\tRetorna um string removendo caracteres em branco do início e do fim\n",
    "##### lstrip\tnenhum\tRetorna um string removendo caracteres em brando do início\n",
    "##### rstrip\tnenhum\tRetorna um string removendo caracteres em brando do fim\n",
    "##### count\titem\tRetorna o número de ocorrências de item\n",
    "##### replace\told, new\tSubstitui todas as ocorrências do substring old por new\n",
    "##### center\tlargura\tRetorna um string centrado em um campo de tamanho largura\n",
    "##### ljust\tlargura\tRetorna um string justificado à esquerda em um campo de tamanho largura\n",
    "##### rjust\tlargura\tRetorna um string justificado à direita em um campo de tamanho largura\n",
    "##### find\titem\tRetorna o índice mais à esquerda onde o substring item é encontrado\n",
    "##### rfind\titem\tRetorna o índice mais à direita onde o substring item é encontrado\n",
    "##### index\titem\tComo find, mas causa um erro em tempo de execução caso item não seja encontrado\n",
    "##### rindex\titem\tComo rfind, mas causa um erro em tempo de execução caso item não seja encontrado\n",
    "\n"
   ]
  },
  {
   "cell_type": "code",
   "execution_count": 2,
   "metadata": {
    "collapsed": false
   },
   "outputs": [
    {
     "name": "stdout",
     "output_type": "stream",
     "text": [
      "HELLO, WORLD\n",
      "hello, world\n"
     ]
    }
   ],
   "source": [
    "#exemplo string \n",
    "\n",
    "ss = \"Hello, World\"\n",
    "print(ss.upper())\n",
    "\n",
    "tt = ss.lower()\n",
    "print(tt)\n",
    "\n"
   ]
  },
  {
   "cell_type": "code",
   "execution_count": null,
   "metadata": {
    "collapsed": true
   },
   "outputs": [],
   "source": []
  }
 ],
 "metadata": {
  "kernelspec": {
   "display_name": "Python 2 (SageMath)",
   "language": "python",
   "name": "python2"
  },
  "language_info": {
   "codemirror_mode": {
    "name": "ipython",
    "version": 2
   },
   "file_extension": ".py",
   "mimetype": "text/x-python",
   "name": "python",
   "nbconvert_exporter": "python",
   "pygments_lexer": "ipython2",
   "version": "2.7.13"
  }
 },
 "nbformat": 4,
 "nbformat_minor": 0
}
