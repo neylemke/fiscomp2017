{
 "cells": [
  {
   "cell_type": "code",
   "execution_count": 4,
   "metadata": {
    "collapsed": false
   },
   "outputs": [
    {
     "name": "stdout",
     "output_type": "stream",
     "text": [
      "Insira o valor  a \n",
      "5\n",
      "Insira o valor  b \n",
      "2\n",
      "Insira o valor  c \n",
      "7\n",
      "Delta igual a: -136\n",
      "Equação não tem solução no conjunto dos reais\n"
     ]
    }
   ],
   "source": [
    "# Exercicio 1\n",
    "\n",
    "a= int(input(\"Insira o valor  a \\n\")) \n",
    "b= int(input(\"Insira o valor  b \\n\"))\n",
    "c= int(input(\"Insira o valor  c \\n\"))\n",
    "if a==0 :\n",
    "   x = -((c)/b)\n",
    "   print \"Equação de primeiro grau, raiz:\", x\n",
    "else: # caso contrário\n",
    "   delta= (b*b) - 4*a*c\n",
    "   print \"Delta igual a:\", delta\n",
    "   if delta<0: # se  for menor que zero, nao tem raízes reais\n",
    "        print \"Equação não tem solução no conjunto dos reais\"\n",
    "   elif delta==0: # delta igual a zero,  uma raiz real\n",
    "        print \"Equação possui uma raíz real\"\n",
    "        x= -b/(2*a)\n",
    "        print \"Raiz da equação:\", x\n",
    "   elif delta>0: # delta maior que zero, duas raízes reais e uma distinta\n",
    "        x1= (-b+ (delta)**(1/2))/(2*a)\n",
    "        x2= (-b- (delta)**(1/2))/(2*a)\n",
    "        print \"Equação possui duas raízes reais:\"\n",
    "        print \"x1:\", x1 \n",
    "        print \"x2:\", x2"
   ]
  },
  {
   "cell_type": "code",
   "execution_count": 3,
   "metadata": {
    "collapsed": false
   },
   "outputs": [
    {
     "name": "stdout",
     "output_type": "stream",
     "text": [
      "Digite o lado A: 4\n",
      "Digite o lado B: 5\n",
      "Digite o lado C: 6\n",
      "Esse triângulo é Escaleno\n"
     ]
    }
   ],
   "source": [
    "# Exercicio 2\n",
    "\n",
    "A = input('Digite o lado A: ')\n",
    "B = input('Digite o lado B: ')\n",
    "C = input('Digite o lado C: ')\n",
    "\n",
    "if A + B > C or B + C > A or A + C > B:\n",
    "    if A == B and A == C:\n",
    "        print 'Esse triângulo é Equilátero'\n",
    "    elif A == B or B == C or A == C:\n",
    "        print 'Esse triângulo é Isósceles'\n",
    "    elif A != B and C or B != A and C or C != A and B:\n",
    "        print 'Esse triângulo é Escaleno'\n",
    "\n",
    "else:\n",
    "    print 'Não é um triângulo'"
   ]
  },
  {
   "cell_type": "code",
   "execution_count": 1,
   "metadata": {
    "collapsed": false
   },
   "outputs": [
    {
     "name": "stdout",
     "output_type": "stream",
     "text": [
      "Insira A: 1\n",
      "Insira B: 2\n",
      "Insira C: 3\n",
      "Volume do paralelepipedo:  6 cm^3\n",
      "Área lateral do paralelepipedo:  18 cm^2\n"
     ]
    }
   ],
   "source": [
    "# Exercicio 3\n",
    "# Medidas são dadas em centímetros\n",
    "\n",
    "A= input(\"Insira A: \")\n",
    "B= input(\"Insira B: \") \n",
    "C= input(\"Insira C: \")\n",
    "float(A), float(B), float(C)\n",
    "\n",
    "def volume(A,B,C):\n",
    "    return A*B*C\n",
    "def area_lateral(A,B,C):\n",
    "        return 2*(A*C + B*C)\n",
    "\n",
    "print \"Volume do paralelepipedo: \", volume(A,B,C) , \"cm^3\"\n",
    "print \"Área lateral do paralelepipedo: \", area_lateral(A,B,C), \"cm^2\""
   ]
  },
  {
   "cell_type": "code",
   "execution_count": 2,
   "metadata": {
    "collapsed": false
   },
   "outputs": [
    {
     "name": "stdout",
     "output_type": "stream",
     "text": [
      "Insira um número natural qualquer:5\n",
      "O número de algarismos pares no dado número é:  0\n"
     ]
    }
   ],
   "source": [
    "# Exercicio 4\n",
    "\n",
    "nat= str(input(\"Insira um número natural qualquer:\"))\n",
    "\n",
    "def algarism(nat):\n",
    "    return len([alg for alg in nat if int(alg)%2==0])\n",
    "print \"O número de algarismos pares no dado número é: \", algarism(nat)\n"
   ]
  },
  {
   "cell_type": "code",
   "execution_count": 6,
   "metadata": {
    "collapsed": false
   },
   "outputs": [
    {
     "name": "stdout",
     "output_type": "stream",
     "text": [
      "Insira os valores 0: 2\n",
      "Insira os valores 1: 5\n",
      "Insira os valores 2: 8\n",
      "Insira os valores 3: 9\n",
      "Insira os valores 4: -3489048\n",
      "Insira os valores 5: -37408597\n",
      "Insira os valores 6: 10\n",
      "Insira os valores 7: 1\n",
      "Insira os valores 8: -256\n",
      "Insira os valores 9: 3\n",
      "[1, 1, 1, 1, 0, 0, 1, 1, 0, 1]\n"
     ]
    }
   ],
   "source": [
    "# Exercicio 5\n",
    "\n",
    "x=[int(input(\"Insira os valores {}: \".format(i))) for i in range (10)]\n",
    "xx=[]\n",
    "for k in range(len(x)):\n",
    "    if x[k]>0:\n",
    "        xx.append(1)\n",
    "    else:\n",
    "        xx.append(0)\n",
    "print xx"
   ]
  },
  {
   "cell_type": "code",
   "execution_count": null,
   "metadata": {
    "collapsed": true
   },
   "outputs": [],
   "source": []
  }
 ],
 "metadata": {
  "kernelspec": {
   "display_name": "Python 2 (SageMath)",
   "language": "python",
   "name": "python2"
  },
  "language_info": {
   "codemirror_mode": {
    "name": "ipython",
    "version": 2
   },
   "file_extension": ".py",
   "mimetype": "text/x-python",
   "name": "python",
   "nbconvert_exporter": "python",
   "pygments_lexer": "ipython2",
   "version": "2.7.13"
  }
 },
 "nbformat": 4,
 "nbformat_minor": 0
}
