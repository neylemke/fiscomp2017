{
 "cells": [
  {
   "cell_type": "code",
   "execution_count": null,
   "metadata": {
    "collapsed": false
   },
   "outputs": [],
   "source": [
    "# Exercicio 1\n",
    "\n",
    "a= int(input(\"Insira o valor  a \\n\")) \n",
    "b= int(input(\"Insira o valor  b \\n\"))\n",
    "c= int(input(\"Insira o valor  c \\n\"))\n",
    "if a==0 :\n",
    "   x = -((c)/b)\n",
    "   print \"Equação de primeiro grau, raiz:\", x\n",
    "else: # caso contrário\n",
    "   delta= (b*b) - 4*a*c\n",
    "   print \"Delta igual a:\", delta\n",
    "   if delta<0: # se ele for menor que zero, nao tem raízes reais\n",
    "        print \"Equação não tem solução no conjunto dos reais\"\n",
    "   elif delta==0: # delta igual a zero, só uma raiz real\n",
    "        print \"Equação só possui uma raíz real\"\n",
    "        x= -b/(2*a)\n",
    "        print \"Raiz da equação:\", x\n",
    "   elif delta>0: # delta maior que zero, duas raízes reais e uma distinta\n",
    "        x1= (-b+ (delta)**(1/2))/(2*a)\n",
    "        x2= (-b- (delta)**(1/2))/(2*a)\n",
    "        print \"Equação possui duas raízes reais, são elas:\"\n",
    "        print \"x1:\", x1 \n",
    "        print \"x2:\", x2"
   ]
  }
 ],
 "metadata": {
  "kernelspec": {
   "display_name": "Python 2 (SageMath)",
   "language": "python",
   "name": "python2"
  },
  "language_info": {
   "codemirror_mode": {
    "name": "ipython",
    "version": 2
   },
   "file_extension": ".py",
   "mimetype": "text/x-python",
   "name": "python",
   "nbconvert_exporter": "python",
   "pygments_lexer": "ipython2",
   "version": "2.7.13"
  }
 },
 "nbformat": 4,
 "nbformat_minor": 0
}
