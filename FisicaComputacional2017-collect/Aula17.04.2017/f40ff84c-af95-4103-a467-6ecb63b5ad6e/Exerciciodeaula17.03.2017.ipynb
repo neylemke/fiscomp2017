{
 "cells": [
  {
   "cell_type": "markdown",
   "metadata": {
    "collapsed": false
   },
   "source": [
    "## 17 de Abril de 2017"
   ]
  },
  {
   "cell_type": "code",
   "execution_count": 3,
   "metadata": {
    "collapsed": false
   },
   "outputs": [
    {
     "name": "stdout",
     "output_type": "stream",
     "text": [
      "Digite o coeficiente 'a'= 1\n",
      "Digite o coeficiente 'b'= -3\n",
      "Digite o coeficiente 'c'= -10\n",
      "a = 1\n",
      "b = -3\n",
      "c = -10\n",
      "b^2-4ac = 49\n",
      "1x^2 + (-3) + (-10) = 0\n",
      "Para -(-3) + 7.0 / 2*a temos: 10.0 / 2\n",
      "Para -(-3) - 7.0 / 2*a temos: -4.0 / 2\n",
      "Recomendo tomar duas casas apos a virgula.\n"
     ]
    }
   ],
   "source": [
    "##Exercicío 1\n",
    "a=input(\"Digite o coeficiente 'a'= \")\n",
    "if a == 0:\n",
    "    a=input(\"O valor de a não pode ser nulo, digite um valor maior ou menor que 0 = \")\n",
    "b=input(\"Digite o coeficiente 'b'= \")\n",
    "c=input(\"Digite o coeficiente 'c'= \")\n",
    "print \"a = %s\" % (a)\n",
    "print \"b = %s\" % (b)\n",
    "print \"c = %s\" % (c)\n",
    "delta = \"b^2-4ac = %d\" % ((pow(b,2))-4*a*c)\n",
    "print delta\n",
    "resultado_delta = (pow(b,2))-4*a*c\n",
    "if resultado_delta < 0:\n",
    "    print \"Delta Negativo, Equação nao apresenta soluções reais.\"\n",
    "    import sys\n",
    "\n",
    "if resultado_delta == 0:  \n",
    "    print \"Delta nulo. Equação apresenta apenas uma solução real.\"\n",
    "    print \"%s / 2*%s\" % (-b,a)\n",
    "    print \"%s / 2*%s = %d\" % (-b,a,(-b)/2*a)\n",
    "           \n",
    "else:\n",
    "    import math\n",
    "    print \"%sx^2 + (%s) + (%s) = 0\" % (a,b,c)\n",
    "    float(resultado_delta)\n",
    "    raiz_quadrada = math.sqrt(resultado_delta)\n",
    "    cima_bsk_pos=(-b+raiz_quadrada)\n",
    "    cima_bsk_neg=(-b-raiz_quadrada)\n",
    "    baixo_bsk=(2*a)\n",
    "    resultado_raiz_pos= \"%s / %s\" % (cima_bsk_pos,baixo_bsk)\n",
    "    resultado_raiz_neg= \"%s / %s\" % (cima_bsk_neg,baixo_bsk)\n",
    "    print \"Para -(%s) + %s / 2*a temos: %s\" % (b,raiz_quadrada,resultado_raiz_pos)\n",
    "    print \"Para -(%s) - %s / 2*a temos: %s\" % (b,raiz_quadrada,resultado_raiz_neg)\n",
    "    print \"Recomendo tomar duas casas apos a virgula.\"\n",
    " "
   ]
  },
  {
   "cell_type": "code",
   "execution_count": 4,
   "metadata": {
    "collapsed": false
   },
   "outputs": [
    {
     "name": "stdout",
     "output_type": "stream",
     "text": [
      "Digite o tamanho do primeiro lado: 10\n",
      "Digite o segundo lado: 10\n",
      "Digite o segundo lado: 10\n",
      "Triângulo Equilátero\n"
     ]
    }
   ],
   "source": [
    "##Exercicio 2\n",
    "l1 = input('Digite o tamanho do primeiro lado: ')\n",
    "l2 = input('Digite o segundo lado: ')\n",
    "l3 = input('Digite o segundo lado: ')\n",
    "\n",
    "if l1 + l2 > l3:\n",
    "    if l1 == l2 and l1 == l3:\n",
    "        print 'Triângulo Equilátero'\n",
    "    elif l1 == l2 or l2 == l3 or l1 == l3:\n",
    "        print 'Triângulo Isósceles'\n",
    "    elif l1 != l2 and l3 or l2 != l1 and l3 or l1 != l3:\n",
    "        print 'Triângulo Escaleno'\n",
    "\n",
    "else:\n",
    "    print 'É impossivel ser um triângulo'"
   ]
  },
  {
   "cell_type": "code",
   "execution_count": 13,
   "metadata": {
    "collapsed": false
   },
   "outputs": [
    {
     "name": "stdout",
     "output_type": "stream",
     "text": [
      "Insira o Valor de largura do seu paralelepípedo 10\n",
      "insira o Valor de profundidade do seu paraleleípedo 10\n",
      "Insira o Valor de altura do seu paralelepípedo 20\n",
      "O volume do seu paralelpípedo é \n",
      "(2000, 'unidades cubicas')\n",
      "A area do seu paralelpípedo é \n",
      "(800, 'unidades quadradas')\n"
     ]
    }
   ],
   "source": [
    "##Exercicio 3\n",
    "a= input(\"Insira o Valor de largura do seu paralelepípedo \")\n",
    "b= input(\"insira o Valor de profundidade do seu paraleleípedo \")\n",
    "c= input(\"Insira o Valor de altura do seu paralelepípedo \")\n",
    "\n",
    "volume = a*b*c\n",
    "area = 4*(c*b)\n",
    "\n",
    "print (\"O volume do seu paralelpípedo é \")\n",
    "print (volume, \"unidades cubicas\")\n",
    "\n",
    "print (\"A area do seu paralelpípedo é \")\n",
    "print (area, \"unidades quadradas\")"
   ]
  },
  {
   "cell_type": "code",
   "execution_count": 17,
   "metadata": {
    "collapsed": false
   },
   "outputs": [
    {
     "name": "stdout",
     "output_type": "stream",
     "text": [
      "Insira um numero Natural: 10\n",
      "O valor inserido nao é um numero natural\n"
     ]
    }
   ],
   "source": [
    "##Exercicio 4\n",
    "\n",
    "n = input(\"Insira um numero Natural: \")\n",
    "if type(n) != float :\n",
    "    print (\"O valor inserido nao é um numero natural\")\n",
    "else:\n",
    "    v=[]\n",
    "    n = str(n)\n",
    "    for i in range (len(n)):\n",
    "        if n[i] != \".\" and int(n[i])%2==0:\n",
    "            v.append(n[i])\n",
    "            \n",
    "    print (\"Os valores pares\" +n+\" são: \"+str(r))"
   ]
  },
  {
   "cell_type": "code",
   "execution_count": 16,
   "metadata": {
    "collapsed": false
   },
   "outputs": [
    {
     "name": "stdout",
     "output_type": "stream",
     "text": [
      "Coloque os valores de 30 numeros: 10\n",
      "Você precisa inserir 30 numeros os inseridos foram 1.\n"
     ]
    }
   ],
   "source": [
    "##Exercicio 5\n",
    "\n",
    "def transform(n):\n",
    "    lg= [len(n)]\n",
    "    for i in range(len(n)):\n",
    "        if n[i] >=0:\n",
    "            lg[i] = 1\n",
    "        else:\n",
    "            lg[i]=0\n",
    "        \n",
    "    return(lg)\n",
    "\n",
    "m= input(\"Coloque os valores de 30 numeros: \")\n",
    "if len(v) != 30:\n",
    "    print(\"Você precisa inserir 30 numeros os inseridos foram \"+str(len(v))+\".\")\n",
    "else:\n",
    "    print (transform(v))"
   ]
  },
  {
   "cell_type": "markdown",
   "metadata": {},
   "source": [
    "##Exercicio 6\n",
    "  Pesquise e monte um notebook em modo Markdown qual a função e exemplos da utilização dos seguintes pacotes: *math, numpy, matplotlib, pandas* e string**.\n",
    "Biblioteca math: Fornece um pacote de funções e definições de algumas constantes, como por exemplo pi\n",
    "Biblioteca numpy: Tambem fornece um pacote de funções porem suporta arrays e matrizes multidimensionais \n",
    "Biblioteca matplotib: É uma biblioteca responsavel pelo plot de graficos de diversas formas a partir de dados obtidos em linhas de código ou inseridos pelo usuario\n",
    "Biblioteca pandas: Serve para manipulação de dados e tambem oferece estruturas de dados e operações para manipulação de tabelas numéricas e séries temporais\n",
    "String: é um dado ou um laço associado em uma função ou operação"
   ]
  },
  {
   "cell_type": "code",
   "execution_count": null,
   "metadata": {
    "collapsed": true
   },
   "outputs": [],
   "source": []
  }
 ],
 "metadata": {
  "kernelspec": {
   "display_name": "Python 2 (SageMath)",
   "language": "python",
   "name": "python2"
  },
  "language_info": {
   "codemirror_mode": {
    "name": "ipython",
    "version": 2
   },
   "file_extension": ".py",
   "mimetype": "text/x-python",
   "name": "python",
   "nbconvert_exporter": "python",
   "pygments_lexer": "ipython2",
   "version": "2.7.13"
  }
 },
 "nbformat": 4,
 "nbformat_minor": 0
}
