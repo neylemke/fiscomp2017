{
 "cells": [
  {
   "cell_type": "markdown",
   "metadata": {
    "collapsed": false
   },
   "source": [
    "# Desafio - Exercício 6"
   ]
  },
  {
   "cell_type": "markdown",
   "metadata": {},
   "source": [
    "## 1. Math\n",
    "**1.1. Funções**\n",
    "- Funções matemáticas, como cálculo de potências e logaritmos, funcoes trigonométricas e hiperbólicas, constantes matemáticas, entre outras."
   ]
  },
  {
   "cell_type": "markdown",
   "metadata": {},
   "source": [
    "**1.2. Exemplos**"
   ]
  },
  {
   "cell_type": "code",
   "execution_count": 12,
   "metadata": {
    "collapsed": false
   },
   "outputs": [
    {
     "name": "stdout",
     "output_type": "stream",
     "text": [
      "5.0\n",
      "3.4011973816621555\n",
      "0.0\n"
     ]
    }
   ],
   "source": [
    "import math\n",
    "print(math.sqrt(25))\n",
    "print(math.log(30))\n",
    "print(math.sin(0))"
   ]
  },
  {
   "cell_type": "markdown",
   "metadata": {},
   "source": [
    "## 2. Numpy\n",
    "**2.1. Funções**\n",
    "- Operações com vetores e matrizes, como somar elementos de vetores e matrizes, obter matriz transposta, obter o maior e o menor valor de vetores e matrizes."
   ]
  },
  {
   "cell_type": "markdown",
   "metadata": {
    "collapsed": true
   },
   "source": [
    "**2.2. Exemplos**"
   ]
  },
  {
   "cell_type": "code",
   "execution_count": 45,
   "metadata": {
    "collapsed": false
   },
   "outputs": [
    {
     "name": "stdout",
     "output_type": "stream",
     "text": [
      "A= [[0 1]\n",
      " [2 3]]\n",
      "AT= [[0 2]\n",
      " [1 3]]\n",
      "Maior valor= 3\n",
      "Menor valor= 0\n"
     ]
    }
   ],
   "source": [
    "import numpy as np\n",
    "a=np.array([[0,1],[2,3]])\n",
    "print('A=',a)\n",
    "print('AT=',a.T)\n",
    "print('Maior valor=',a.argmax())\n",
    "print('Menor valor=',a.argmin())"
   ]
  },
  {
   "cell_type": "markdown",
   "metadata": {},
   "source": [
    "## 3. Matplotlib\n",
    "**3.1. Funções**\n",
    "- Visualização de dados, gera gráficos de diversos tipos, como linhas, colunas, histogramas, entre outros.\n",
    "\n",
    "**3.2. Exemplos**"
   ]
  },
  {
   "cell_type": "code",
   "execution_count": 46,
   "metadata": {
    "collapsed": false
   },
   "outputs": [
    {
     "data": {
      "image/png": "[encoded data removed]",
      "text/plain": [
       "<matplotlib.figure.Figure at 0x7f9c08083390>"
      ]
     },
     "metadata": {},
     "output_type": "display_data"
    }
   ],
   "source": [
    "import matplotlib.pyplot as plt\n",
    "plt.plot([0,10,20,30])\n",
    "plt.show()"
   ]
  },
  {
   "cell_type": "markdown",
   "metadata": {},
   "source": [
    "## 4. Pandas\n",
    "**4.1. Funções**\n",
    "- Suporte para análise estruturas de dados e operações estatísticas.\n",
    "\n",
    "**4.2. Exemplos**"
   ]
  },
  {
   "cell_type": "code",
   "execution_count": 50,
   "metadata": {
    "collapsed": false
   },
   "outputs": [
    {
     "name": "stdout",
     "output_type": "stream",
     "text": [
      "a    3\n",
      "b   -5\n",
      "c    7\n",
      "d    4\n",
      "dtype: int64\n",
      "      País     Capital  População\n",
      "0  Bélgica    Bruxelas     123465\n",
      "1    Índia  Nova Delhi     456789\n",
      "2   Brasil    Brasília     987654\n"
     ]
    }
   ],
   "source": [
    "import pandas as pd\n",
    "s = pd.Series([3, -5, 7, 4], index=['a', 'b', 'c', 'd'])\n",
    "f = pd.DataFrame(data, columns=['País','Capital','População'])\n",
    "print(s)\n",
    "print(f)"
   ]
  },
  {
   "cell_type": "markdown",
   "metadata": {
    "collapsed": true
   },
   "source": [
    "## 5. String\n",
    "**5.1. Funções**\n",
    "- Strings são qualitativamente diferentes dos outros tipos de dados porque são feitas de pedaços menores, caracteres. Dependendo do que estejamos fazendo, pode ser que precisemos tratar um tipo de dado composto como uma coisa única, ou pode ser que queiramos acessar suas partes. Esta ambigüidade é útil.\n",
    "\n",
    "**5.2. Exemplos**"
   ]
  },
  {
   "cell_type": "code",
   "execution_count": 3,
   "metadata": {
    "collapsed": false
   },
   "outputs": [
    {
     "name": "stdout",
     "output_type": "stream",
     "text": [
      "E\n",
      "X\n",
      "O\n"
     ]
    }
   ],
   "source": [
    "string='EXEMPLO'\n",
    "print(string[0])\n",
    "print(string[1])\n",
    "print(string[6])"
   ]
  },
  {
   "cell_type": "code",
   "execution_count": null,
   "metadata": {
    "collapsed": true
   },
   "outputs": [],
   "source": []
  }
 ],
 "metadata": {
  "kernelspec": {
   "display_name": "Python 3",
   "language": "python",
   "name": "python3"
  },
  "language_info": {
   "codemirror_mode": {
    "name": "ipython",
    "version": 3
   },
   "file_extension": ".py",
   "mimetype": "text/x-python",
   "name": "python",
   "nbconvert_exporter": "python",
   "pygments_lexer": "ipython3",
   "version": "3.4.3+"
  }
 },
 "nbformat": 4,
 "nbformat_minor": 0
}
