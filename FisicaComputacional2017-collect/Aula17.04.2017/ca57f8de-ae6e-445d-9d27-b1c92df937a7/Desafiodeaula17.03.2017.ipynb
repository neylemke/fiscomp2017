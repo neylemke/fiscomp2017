{
 "cells": [
  {
   "cell_type": "markdown",
   "metadata": {
    "collapsed": false
   },
   "source": [
    "#### 1. Calcule as raízes da equação do 2◦ grau ( Ax2+Bx+C=0Ax2+Bx+C=0 ) sendo os valores de A, B e C fornecidos pelo usuário, levando em consideração a existência de raízes reais."
   ]
  },
  {
   "cell_type": "code",
   "execution_count": 9,
   "metadata": {
    "collapsed": false
   },
   "outputs": [
    {
     "name": "stdout",
     "output_type": "stream",
     "text": [
      "A=1\n",
      "B=5\n",
      "C=6\n",
      "\n",
      "X1= -2.0\n",
      "X2= -3.0\n"
     ]
    }
   ],
   "source": [
    "a=float(input('A='))\n",
    "b=float(input('B='))\n",
    "c=float(input('C='))\n",
    "delta=(b**2)-4*a*c\n",
    "if delta<0:\n",
    "    print('Nenhuma raiz real.')\n",
    "elif delta==0:\n",
    "    x=(-b+(delta**(1/2)))/(2*a)\n",
    "    print('\\nX=',x)\n",
    "else:\n",
    "    x1=((-b)+(delta**(1/2)))/(2*a)\n",
    "    x2=((-b)-(delta**(1/2)))/(2*a)\n",
    "    print('\\nX1=',x1)\n",
    "    print('X2=',x2)"
   ]
  },
  {
   "cell_type": "markdown",
   "metadata": {},
   "source": [
    "#### 2. Dados três valores A, B e C, verifique se eles podem ser os comprimentos dos lados de um triângulo. Se forem, verificar se compõem um triângulo equilátero, isósceles ou escaleno. Informar se não compuserem nenhum triângulo. Lembrando que:\n",
    "#### Triângulo: (A < B + C) e (B < A + C) e (C < A + B)\n",
    "#### Equilátero: (A = B) e (B = C)\n",
    "#### Isósceles: (A = B) ou (A = C) ou (B = C)\n",
    "#### Escaleno: (A <> B) e (B <> C) e (A <> C)"
   ]
  },
  {
   "cell_type": "code",
   "execution_count": 5,
   "metadata": {
    "collapsed": false
   },
   "outputs": [
    {
     "name": "stdout",
     "output_type": "stream",
     "text": [
      "A=3\n",
      "B=4\n",
      "C=5\n",
      "Os lados formam um triangulo escaleno.\n"
     ]
    }
   ],
   "source": [
    "a=float(input('A='))\n",
    "b=float(input('B='))\n",
    "c=float(input('C='))\n",
    "if a<(b+c) and b<(a+c) and c<(a+b):\n",
    "    if a==b and b==c:\n",
    "        print('Os lados formam um triangulo equilatero.')\n",
    "    elif a==b or a==c or b==c:\n",
    "        print('Os lados formam um triangulo isosceles.')\n",
    "    else:\n",
    "        print('Os lados formam um triangulo escaleno.')\n",
    "else:\n",
    "    print('Os lados nao formam um triangulo.')"
   ]
  },
  {
   "cell_type": "markdown",
   "metadata": {
    "collapsed": true
   },
   "source": [
    "#### 3. Construa uma função que calcule o volume de um paralelepído de lados a, b e c. Construa uma função que calcule a área lateral do mesmo paralelepipido."
   ]
  },
  {
   "cell_type": "code",
   "execution_count": 32,
   "metadata": {
    "collapsed": false
   },
   "outputs": [
    {
     "name": "stdout",
     "output_type": "stream",
     "text": [
      "A=2\n",
      "B=3\n",
      "C=4\n",
      "Volume:  24.0\n",
      "Area lateral: 40.0\n"
     ]
    }
   ],
   "source": [
    "def volume(a,b,c):\n",
    "    v=a*b*c\n",
    "    return(v)\n",
    "def area(a,b,c):\n",
    "    ar=2*(a*c+b*c)\n",
    "    return(ar)\n",
    "a=float(input('A='))\n",
    "b=float(input('B='))\n",
    "c=float(input('C='))\n",
    "v=volume(a,b,c)\n",
    "ar=area(a,b,c)\n",
    "print('Volume: ',v)\n",
    "print('Area lateral:',ar)"
   ]
  },
  {
   "cell_type": "markdown",
   "metadata": {},
   "source": [
    "#### 4. Implemente uma função que conte o número de algarismos pares em um número natural."
   ]
  },
  {
   "cell_type": "code",
   "execution_count": 26,
   "metadata": {
    "collapsed": false
   },
   "outputs": [
    {
     "name": "stdout",
     "output_type": "stream",
     "text": [
      "Entre com um numero interiro: 48\n",
      "Algarismos pares: 2\n"
     ]
    }
   ],
   "source": [
    "def pares(a):\n",
    "    cont=0\n",
    "    b=str(a)\n",
    "    b.split()\n",
    "    for i in range(len(b)):\n",
    "        c=int(b[i])\n",
    "        if c%2==0:\n",
    "            cont=cont+1\n",
    "    return(cont)\n",
    "a=input('Entre com um numero interiro: ')\n",
    "p=pares(a)\n",
    "print('Algarismos pares:',p)"
   ]
  },
  {
   "cell_type": "markdown",
   "metadata": {
    "collapsed": true
   },
   "source": [
    "#### 5. faça um algoritmo que solicite ao usuário números e os armazene em um vetor de 30 posições. Crie uma função que recebe o vetor preenchido e substitua todas as ocorrência de valores positivos por 1 e todos os valores negativos por 0."
   ]
  },
  {
   "cell_type": "code",
   "execution_count": 31,
   "metadata": {
    "collapsed": false
   },
   "outputs": [
    {
     "name": "stdout",
     "output_type": "stream",
     "text": [
      "Entre com um numero: -5\n",
      "Entre com um numero: 0\n",
      "Entre com um numero: 5\n",
      "[0, 0, 1]\n"
     ]
    }
   ],
   "source": [
    "def funcao(v):\n",
    "    for i in range(len(v)):\n",
    "        if v[i]>0:\n",
    "            v[i]=1\n",
    "        else:\n",
    "            v[i]=0\n",
    "    print(v)\n",
    "v=[]\n",
    "for i in range(30):\n",
    "    a=float(input('Entre com um numero: '))\n",
    "    v.append(a)\n",
    "funcao(v)"
   ]
  },
  {
   "cell_type": "markdown",
   "metadata": {},
   "source": [
    "#### 6. Pesquise e monte um notebook em modo Markdown qual a função e exemplos da utilização dos seguintes pacotes: \n",
    "#### *math, numpy, matplotlib, pandas* e string**."
   ]
  },
  {
   "cell_type": "markdown",
   "metadata": {},
   "source": [
    "##### Feito em outro notebook."
   ]
  },
  {
   "cell_type": "code",
   "execution_count": null,
   "metadata": {
    "collapsed": true
   },
   "outputs": [],
   "source": []
  }
 ],
 "metadata": {
  "kernelspec": {
   "display_name": "Python 3 (Anaconda)",
   "language": "python",
   "name": "anaconda3"
  },
  "language_info": {
   "codemirror_mode": {
    "name": "ipython",
    "version": 3
   },
   "file_extension": ".py",
   "mimetype": "text/x-python",
   "name": "python",
   "nbconvert_exporter": "python",
   "pygments_lexer": "ipython3",
   "version": "3.5.3"
  }
 },
 "nbformat": 4,
 "nbformat_minor": 0
}
