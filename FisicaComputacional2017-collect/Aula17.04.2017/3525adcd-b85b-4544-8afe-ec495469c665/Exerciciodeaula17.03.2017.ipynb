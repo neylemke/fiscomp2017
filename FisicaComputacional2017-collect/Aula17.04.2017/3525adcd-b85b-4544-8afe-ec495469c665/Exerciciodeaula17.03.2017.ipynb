{
 "cells": [
  {
   "cell_type": "markdown",
   "metadata": {
    "collapsed": false
   },
   "source": [
    "# Exercícios das aula do dia 17.04.2017"
   ]
  },
  {
   "cell_type": "code",
   "execution_count": null,
   "metadata": {
    "collapsed": false
   },
   "outputs": [
    {
     "name": "stdout",
     "output_type": "stream",
     "text": [
      "Sendo uma equação de 2 grau Ax²+Bx+C\n",
      "\n"
     ]
    }
   ],
   "source": [
    "#1. Calcule as raízes da equação do 2◦ grau ( Ax2+Bx+C=0Ax2+Bx+C=0 ) sendo os valores de A, B e C fornecidos pelo usuário, levando em consideração a existência de raízes reais.\n",
    "\n",
    "import math\n",
    "print(\"Sendo uma equação de 2 grau Ax²+Bx+C\\n\")\n",
    "A = float(input(\"Insira o valor de A:\"))\n",
    "B = float(input(\"Insira o valor de B:\"))\n",
    "C = float(input(\"Insira o valor de C:\"))\n",
    "delta = B*B - 4*A*C\n",
    "if(delta>0):\n",
    "    print(\"Sendo o Delta = \", delta)\n",
    "    x1 = (-B + math.sqrt(delta))/(2*A)\n",
    "    x2 = (-B - math.sqrt(delta))/(2*A)\n",
    "    print(\"Existem duas raízes reais distintas, sendo tais:\")\n",
    "    print(x1, x2)\n",
    "elif delta == 0:\n",
    "        print(\"Sendo o Delta = \", delta)\n",
    "        x = -B/2*A\n",
    "        print(\"Existe uma raiz com multiplicidade 2, sendo tal:\")\n",
    "        print(x)\n",
    "else:\n",
    "    print(\"Sendo o Delta = \", delta)\n",
    "    print(\"Não existem raízes reais.\")"
   ]
  },
  {
   "cell_type": "code",
   "execution_count": 4,
   "metadata": {
    "collapsed": false
   },
   "outputs": [
    {
     "name": "stdout",
     "output_type": "stream",
     "text": [
      "Insira o valor do lado do triângulo de :2\n",
      "Insira o valor do lado do triângulo de :5\n",
      "Insira o valor do lado do triângulo de :10\n",
      "Tais valores não formam um triângulo.\n"
     ]
    }
   ],
   "source": [
    "##2. Dados três valores A, B e C, verifique se eles podem ser os comprimentos dos lados de um triângulo. Se forem, verificar se compõem um triângulo equilátero, isósceles ou escaleno. Informar se não compuserem nenhum triângulo. \n",
    "A = float(input(\"Insira o valor do lado do triângulo:\"))\n",
    "B = float(input(\"Insira o valor do lado do triângulo:\"))\n",
    "C = float(input(\"Insira o valor do lado do triângulo:\"))\n",
    "if A+B > C and A+C>B and B+C>A:\n",
    "    if ((A==B) and (B==C)):\n",
    "        print(\"Triângulo Equilátero.\")\n",
    "    else:    \n",
    "        if ((A==B) or (A==C) or (B==C)):\n",
    "            print(\"Triângulo isósceles.\")\n",
    "        else:\n",
    "            print(\"Triângulo Escaleno.\")\n",
    "else:\n",
    "    print(\"Tais valores não formam um triângulo.\")\n",
    "\n",
    "         \n"
   ]
  },
  {
   "cell_type": "code",
   "execution_count": 6,
   "metadata": {
    "collapsed": false
   },
   "outputs": [
    {
     "name": "stdout",
     "output_type": "stream",
     "text": [
      "Insira o valor do lado do paralelepído:4\n",
      "Insira o valor do lado do paralelepído:2\n",
      "Insira o valor do lado do paralelepído:5\n",
      "O volume é:\n",
      "40.0\n",
      "A área lateral é:\n",
      "40.0\n"
     ]
    }
   ],
   "source": [
    "#3. Construa uma função que calcule o volume de um paralelepído de lados a, b e c. Construa uma função que calcule a área lateral do mesmo paralelepipido.\n",
    "\n",
    "A = float(input(\"Insira o valor do lado do paralelepído:\"))\n",
    "B = float(input(\"Insira o valor do lado do paralelepído:\"))\n",
    "C = float(input(\"Insira o valor do lado do paralelepído:\"))\n",
    "print(\"O volume é:\")\n",
    "print(A*B*C)\n",
    "print(\"A área lateral é:\")\n",
    "print(4*B*C)\n"
   ]
  },
  {
   "cell_type": "code",
   "execution_count": 39,
   "metadata": {
    "collapsed": false
   },
   "outputs": [
    {
     "name": "stdout",
     "output_type": "stream",
     "text": [
      "Insira um numero natural:589\n",
      "1\n"
     ]
    }
   ],
   "source": [
    "#4. Implemente uma função que conte o número de algarismos pares em um número natural.\n",
    "\n",
    "a = input(\"Insira um numero natural:\")\n",
    "num=0\n",
    "for alg in str(a):\n",
    "    if int(alg)%2==0:\n",
    "        num=num+1\n",
    "print(num)\n",
    "\n",
    "#ou \n",
    "\n",
    "#def contalg(num):\n",
    "    #return len([alg for alg in str(num) if int(alg)%2==0])"
   ]
  },
  {
   "cell_type": "code",
   "execution_count": 48,
   "metadata": {
    "collapsed": false
   },
   "outputs": [
    {
     "name": "stdout",
     "output_type": "stream",
     "text": [
      "Insira as 30 posições do vetor:1\n",
      "Insira as 30 posições do vetor:-4\n",
      "Insira as 30 posições do vetor:5\n",
      "[1, 0, 1]\n"
     ]
    }
   ],
   "source": [
    "#5. faça um algoritmo que solicite ao usuário números e os armazene em um vetor de 30 posições. Crie uma função que recebe o vetor preenchido e substitua todas as ocorrência de valores positivos por 1 e todos os valores negativos por 0.\n",
    "a=[]\n",
    "for i in range(1, 31):\n",
    "    x = int(input(\"Insira as 30 posições do vetor:\"))\n",
    "    a.append(x)\n",
    "\n",
    "def vetor(a):\n",
    "    for i in range(len(a)):\n",
    "        if a[i] > 0:\n",
    "            a[i] =1\n",
    "        else:\n",
    "            a[i] = 0\n",
    "    return a\n",
    "    \n",
    "c = vetor(a)\n",
    "print(c)"
   ]
  },
  {
   "cell_type": "markdown",
   "metadata": {},
   "source": [
    "# 6. Pesquise e monte um notebook em modo Markdown qual a função e exemplos da utilização dos seguintes pacotes: *math, numpy, matplotlib, pandas* e string**.\n",
    "\n",
    "## Math\n",
    "math.sqrt(numero): Retorna a raíz quadrada do número.\n",
    "\n",
    "math.cos(numero): Retorna o cosseno do número em radiano.\n",
    "\n",
    "math.sin(numero): Retorna o seno do número em radiano.\n",
    "\n",
    "math.tan(numero): Retorna a tangente do número em radiano.\n",
    "\n",
    "math.radians(numero): Converte o angulo ‘numero’ de graus para radiano.\n",
    "\n",
    "math.pi: Não é bem uma função, está mais para uma constante com o número pi (3.1415926535897931).\n",
    "\n",
    "math.hypot(x, y): Retorna a hipotenusa dos números (catetos) fornecidos.\n",
    "\n",
    "Exemplo :\n",
    "\n",
    "import math \n",
    "\n",
    "a = 9 \n",
    "\n",
    "b = math.sqrt(a) \n",
    "\n",
    "print(b) # Imprime 3.0\n",
    "\n",
    "\n"
   ]
  },
  {
   "cell_type": "code",
   "execution_count": null,
   "metadata": {
    "collapsed": true
   },
   "outputs": [],
   "source": []
  },
  {
   "cell_type": "code",
   "execution_count": null,
   "metadata": {
    "collapsed": true
   },
   "outputs": [],
   "source": []
  }
 ],
 "metadata": {
  "kernelspec": {
   "display_name": "Python 2",
   "language": "python",
   "name": "python2"
  },
  "language_info": {
   "codemirror_mode": {
    "name": "ipython",
    "version": 2
   },
   "file_extension": ".py",
   "mimetype": "text/x-python",
   "name": "python",
   "nbconvert_exporter": "python",
   "pygments_lexer": "ipython2",
   "version": "2.7.13"
  }
 },
 "nbformat": 4,
 "nbformat_minor": 0
}
