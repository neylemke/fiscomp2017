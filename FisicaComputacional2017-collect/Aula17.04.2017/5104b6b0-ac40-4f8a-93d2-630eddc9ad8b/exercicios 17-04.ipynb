{
 "cells": [
  {
   "cell_type": "code",
   "execution_count": 1,
   "metadata": {
    "collapsed": false
   },
   "outputs": [
    {
     "name": "stdout",
     "output_type": "stream",
     "text": [
      "Digite um valor para A: 2\n",
      "Digite um valor para B: 3\n",
      "Digite um valor para C: 4\n",
      "Nao possui raizes reais\n"
     ]
    }
   ],
   "source": [
    "#Exercicio 1\n",
    "#Raizes de uma equação de segundo grau\n",
    "import math \n",
    "     #De os valores para a, b e c respectivamente\n",
    "a = int(input(\"Digite um valor para A: \"))\n",
    "b = int(input(\"Digite um valor para B: \"))\n",
    "c = int(input(\"Digite um valor para C: \"))\n",
    "\n",
    "#Calculando o delta\n",
    "\n",
    "delta = b*b - 4 * a * c\n",
    "\n",
    "\n",
    "if delta < 0:\n",
    "    print(\"Nao possui raizes reais\")\n",
    "elif delta == 0:\n",
    "    raiz = (-1*b + math.sqrt(delta))/(2 * a)\n",
    "    print(\"A equacao possui apenas uma raiz \",raiz)\n",
    "elif delta > 0:\n",
    "    raiz1 =(-1*b + math.sqrt(delta))/(2 * a)\n",
    "    raiz2 =(-1*b + math.sqrt(delta))/(2 * a)\n",
    "    print(\"As raizes da equacao sao \",raiz1, \"e\",raiz2)"
   ]
  },
  {
   "cell_type": "code",
   "execution_count": 6,
   "metadata": {
    "collapsed": false
   },
   "outputs": [
    {
     "ename": "IndentationError",
     "evalue": "expected an indented block (<ipython-input-6-390a67276cf8>, line 9)",
     "output_type": "error",
     "traceback": [
      "\u001b[0;36m  File \u001b[0;32m\"<ipython-input-6-390a67276cf8>\"\u001b[0;36m, line \u001b[0;32m9\u001b[0m\n\u001b[0;31m    print (\"lados fornecidos não formam um triângulo\")\u001b[0m\n\u001b[0m        ^\u001b[0m\n\u001b[0;31mIndentationError\u001b[0m\u001b[0;31m:\u001b[0m expected an indented block\n"
     ]
    }
   ],
   "source": [
    "#Exercicio 2\n",
    "#Verificar o tipo do triangulo\n",
    "import math  \n",
    "#De os valores para A, B e C respectivamente\n",
    "a = int(input(\"Digite um valor para A: \"))\n",
    "b = int(input(\"Digite um valor para B: \")) \n",
    "c = int(input(\"Digite um valor para C: \"))\n",
    "if not a<(b+c) and b<(a+c) and c<(a+b) :\n",
    "print (\"lados fornecidos não formam um triângulo\")\n",
    "elif a==b and a==c:\n",
    "print (\"O triângulo é equilátero\")\n",
    "elif a!=b and a!=c and b!=c:\n",
    "print (\"O triângulo é escaleno\")\n",
    "else:\n",
    "print (\"O triângulo é isósceles\")"
   ]
  },
  {
   "cell_type": "code",
   "execution_count": 7,
   "metadata": {
    "collapsed": false
   },
   "outputs": [
    {
     "name": "stdout",
     "output_type": "stream",
     "text": [
      "Digite um valor para A: 2\n",
      "Digite um valor para B: 3\n",
      "Digite um valor para C: 2\n",
      "('O volume do paralelepipedo \\xc3\\xa9', 12)\n",
      "('A area do paralelepipedo \\xc3\\xa9', 32)\n"
     ]
    }
   ],
   "source": [
    "#Exercicio 3\n",
    "#volume e area de paralelepipedo\n",
    "import math \n",
    "#De os valores para a, b e c respectivamente\n",
    "a = int(input(\"Digite um valor para A: \"))\n",
    "b = int(input(\"Digite um valor para B: \"))\n",
    "c = int(input(\"Digite um valor para C: \"))\n",
    "#Calculando Volume e Area    \n",
    "V=a*b*c\n",
    "print (\"O volume do paralelepipedo é\", V)\n",
    "#Calculando a Area\n",
    "A= 2*a*b + 2*a*c + 2*b*c\n",
    "print (\"A area do paralelepipedo é\", A)\n",
    "    "
   ]
  },
  {
   "cell_type": "code",
   "execution_count": 0,
   "metadata": {
    "collapsed": true
   },
   "outputs": [
   ],
   "source": [
   ]
  }
 ],
 "metadata": {
  "kernelspec": {
   "display_name": "Python 2 (SageMath)",
   "language": "python",
   "name": "python2"
  },
  "language_info": {
   "codemirror_mode": {
    "name": "ipython",
    "version": 2
   },
   "file_extension": ".py",
   "mimetype": "text/x-python",
   "name": "python",
   "nbconvert_exporter": "python",
   "pygments_lexer": "ipython2",
   "version": "2.7.13"
  }
 },
 "nbformat": 4,
 "nbformat_minor": 0
}