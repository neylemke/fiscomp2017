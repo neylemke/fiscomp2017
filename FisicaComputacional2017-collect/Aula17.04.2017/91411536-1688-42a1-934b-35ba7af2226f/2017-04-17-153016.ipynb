{
 "cells": [
  {
   "cell_type": "markdown",
   "metadata": {},
   "source": [
    "17/04/2017"
   ]
  },
  {
   "cell_type": "code",
   "execution_count": null,
   "metadata": {
    "collapsed": false
   },
   "outputs": [],
   "source": [
    "A= input(\"insira o valor de A, \");\n",
    "B= input(\"insira o valor de B, \");\n",
    "C= input(\"insira o valor de C, \");\n",
    "\n",
    "if A+ B > C and B + C > A and A + C > B:\n",
    "    if A == B and B == C:\n",
    "    print 'triangulo equilatero'\n",
    "    elif A == B or B == C or A == C\n",
    "       print 'triangulo isosceles'\n",
    "    elif A != B and C != A and B != C\n",
    "       print 'triangulo escaleno'\n",
    "else\n",
    "    print 'Nao e triangulo'"
   ]
  },
  {
   "cell_type": "code",
   "execution_count": null,
   "metadata": {
    "collapsed": true
   },
   "outputs": [],
   "source": [
    "a= input(\"insira o valor de a, \");\n",
    "b= input(\"insira o valor de b, \");\n",
    "c= input(\"insira o valor de c, \");\n",
    "x1= (-b+((b^2-4*a*c)^(1/2)))/2*a;\n",
    "x2= (-b-((b^2-4*a*c)^(1/2)))/2*a;\n",
    "print(\"o valor das raizes sao:\");\n",
    "print(x1);\n",
    "print(x2);"
   ]
  },
  {
   "cell_type": "code",
   "execution_count": null,
   "metadata": {
    "collapsed": true
   },
   "outputs": [],
   "source": [
    "l1 = input('Digite o tamanho do lado A: ')\n",
    "l2 = input('Digite o tamanho do lado B: ')\n",
    "l3 = input('Digite o tamanho do lado C: ')\n",
    "volume = l1*l2*l3\n",
    "print(\"o volume do paralelepipedo é. \")\n",
    "print(volume)"
   ]
  },
  {
   "cell_type": "code",
   "execution_count": null,
   "metadata": {
    "collapsed": true
   },
   "outputs": [],
   "source": []
  }
 ],
 "metadata": {
  "kernelspec": {
   "display_name": "Python 2 (SageMath)",
   "language": "python",
   "name": "python2"
  },
  "language_info": {
   "codemirror_mode": {
    "name": "ipython",
    "version": 2
   },
   "file_extension": ".py",
   "mimetype": "text/x-python",
   "name": "python",
   "nbconvert_exporter": "python",
   "pygments_lexer": "ipython2",
   "version": "2.7.13"
  }
 },
 "nbformat": 4,
 "nbformat_minor": 0
}
