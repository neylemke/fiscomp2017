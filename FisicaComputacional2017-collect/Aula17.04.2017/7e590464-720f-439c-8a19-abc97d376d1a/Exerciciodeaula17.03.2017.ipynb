{
 "cells": [
  {
   "cell_type": "markdown",
   "metadata": {
    "collapsed": false
   },
   "source": [
    "# Aula 17/04/2017"
   ]
  },
  {
   "cell_type": "code",
   "execution_count": 25,
   "metadata": {
    "collapsed": false
   },
   "outputs": [
    {
     "name": "stdout",
     "output_type": "stream",
     "text": [
      "Insira o valor de A: 4\n",
      "Insira o valor de B: 5\n",
      "Insira o valor de C: -6\n",
      "Raiz: 12.0. Raiz: -32.0\n"
     ]
    }
   ],
   "source": [
    "# Exercício 01 - Calcule as raízes da equação do 2◦ grau ( Ax2+Bx+C=0Ax2+Bx+C=0 ) sendo os valores de A, B e C fornecidos pelo usuário, levando em consideração a existência de raízes reais.\n",
    "\n",
    "from math import sqrt\n",
    "\n",
    "va = input(\"Insira o valor de A: \")  \n",
    "vb = input(\"Insira o valor de B: \")\n",
    "vc = input(\"Insira o valor de C: \")\n",
    "\n",
    "if type(va) != int or type(vb) != int or type(vc) != int:\n",
    "    print(\"Os valores inseridos deverão ser números inteiros.\")\n",
    "else:\n",
    "    delta = vb**2-4*va*vc\n",
    "    #print(\"Delta = \", delta)\n",
    "\n",
    "    if delta > 0:\n",
    "        r1 = (-vb+sqrt(vb**2-4*va*vc))/2*va\n",
    "        r2 = (-vb-sqrt(vb**2-4*va*vc))/2*va\n",
    "        print(\"Raiz: \"+str(r1)+\". Raiz: \"+str(r2))\n",
    "\n",
    "    elif delta == 0:\n",
    "        r = -vb/2*va\n",
    "        print(\"O valor da raiz é: \", r)\n",
    "    else:\n",
    "        print(\"Delta negativo. Não existem soluções reais.\")"
   ]
  },
  {
   "cell_type": "code",
   "execution_count": 29,
   "metadata": {
    "collapsed": false
   },
   "outputs": [
    {
     "name": "stdout",
     "output_type": "stream",
     "text": [
      "Insira o valor de A: 3\n",
      "Insira o valor de B: 4\n",
      "Insira o valor de C: 3\n",
      "O triângulo inserido é isósceles.\n"
     ]
    }
   ],
   "source": [
    "# Exercício 02 - Dados três valores A, B e C, verifique se eles podem ser os comprimentos dos lados de um triângulo. Se forem, verificar se compõem um triângulo equilátero, isósceles ou escaleno. Informar se não compuserem nenhum triângulo. Lembrando que:\n",
    "# Triângulo: (A < B + C) e (B < A + C) e (C < A + B)\n",
    "# Equilátero: (A = B) e (B = C)\n",
    "# Isósceles: (A = B) ou (A = C) ou (B = C)\n",
    "# Escaleno: (A <> B) e (B <> C) e (A <> C)\n",
    "\n",
    "va = input(\"Insira o valor do lado A: \")  \n",
    "vb = input(\"Insira o valor do lado B: \")\n",
    "vc = input(\"Insira o valor do lado C: \")\n",
    "\n",
    "if type(va) != int or type(vb) != int or type(vc) != int:\n",
    "    print(\"Os valores inseridos deverão ser números inteiros.\")\n",
    "else:\n",
    "    if (va < vb + vc) and (vb < va + vc) and (vc < va + vb):\n",
    "        if (va == vb) and (vc == vb):\n",
    "            print(\"O triângulo inserido é equilátero.\")\n",
    "        elif (va == vb) or (va == vc) or (vb == vc):\n",
    "            print(\"O triângulo inserido é isósceles.\")\n",
    "        else:\n",
    "            print(\"O triângulo inserido é escaleno.\")\n",
    "    else:\n",
    "        print(\"Impossível formar um triângulo com os valores inseridos.\")"
   ]
  },
  {
   "cell_type": "code",
   "execution_count": 32,
   "metadata": {
    "collapsed": false
   },
   "outputs": [
    {
     "name": "stdout",
     "output_type": "stream",
     "text": [
      "Insira o valor do lado A: 4\n",
      "Insira o valor do lado B: 5\n",
      "Insira o valor do lado C: 6\n",
      "O volume do dado paralelepído é: 120. As áreas laterais são: 20, 30 e 24.\n"
     ]
    }
   ],
   "source": [
    "# Exercício 03 - Construa uma função que calcule o volume de um paralelepído de lados a, b e c. Construa uma função que calcule a área lateral do mesmo paralelepipido.\n",
    "\n",
    "def alat(v1, v2):\n",
    "    return v1*v2\n",
    "\n",
    "va = input(\"Insira o valor do lado A: \")  \n",
    "vb = input(\"Insira o valor do lado B: \")\n",
    "vc = input(\"Insira o valor do lado C: \")\n",
    "\n",
    "if type(va) != int or type(vb) != int or type(vc) != int:\n",
    "    print(\"Os valores inseridos deverão ser números inteiros.\")\n",
    "else:\n",
    "    print(\"O volume do dado paralelepído é: \"+str(va*vb*vc)+\". As áreas laterais são: \"+str(alat(va,vb))+\", \"+str(alat(vb, vc))+\" e \"+str(alat(va,vc))+\".\")"
   ]
  },
  {
   "cell_type": "code",
   "execution_count": 41,
   "metadata": {
    "collapsed": false
   },
   "outputs": [
    {
     "name": "stdout",
     "output_type": "stream",
     "text": [
      "Entre com um número natural: 65.0\n",
      "Os valores pares do número 65.0 são: ['6', '0']\n"
     ]
    }
   ],
   "source": [
    "# Exercício 04 -Implemente uma função que conte o número de algarismos pares em um número natural.\n",
    "\n",
    "n = input(\"Entre com um número natural: \")\n",
    "if type(n) != float:\n",
    "    print(\"O valor inserido deve ser um número natural.\")\n",
    "else:\n",
    "    r = []\n",
    "    n = str(n)\n",
    "    for i in range(len(n)):\n",
    "        if n[i] != \".\" and int(n[i])%2==0:\n",
    "            r.append(n[i])\n",
    "            \n",
    "    print(\"Os valores pares do número \"+n+\" são: \"+str(r))"
   ]
  },
  {
   "cell_type": "code",
   "execution_count": 5,
   "metadata": {
    "collapsed": false
   },
   "outputs": [
    {
     "name": "stdout",
     "output_type": "stream",
     "text": [
      "Entre com o 1o. valor: 2\n",
      "Entre com o 2o. valor: -2\n",
      "Entre com o 3o. valor: 2\n",
      "Entre com o 4o. valor: -2\n",
      "Entre com o 5o. valor: 2\n",
      "Entre com o 6o. valor: -2\n",
      "Entre com o 7o. valor: 2\n",
      "Entre com o 8o. valor: -2\n",
      "Entre com o 9o. valor: 2\n",
      "Entre com o 10o. valor: -2\n",
      "Entre com o 11o. valor: 2\n",
      "Entre com o 12o. valor: -2\n",
      "Entre com o 13o. valor: 2\n",
      "Entre com o 14o. valor: -2\n",
      "Entre com o 15o. valor: 2\n",
      "Entre com o 16o. valor: -2\n",
      "Entre com o 17o. valor: 2\n",
      "Entre com o 18o. valor: -2\n",
      "Entre com o 19o. valor: 2\n",
      "Entre com o 20o. valor: -2\n",
      "Entre com o 21o. valor: 2\n",
      "Entre com o 22o. valor: -2\n",
      "Entre com o 23o. valor: 2\n",
      "Entre com o 24o. valor: -2\n",
      "Entre com o 25o. valor: 2\n",
      "Entre com o 26o. valor: -2\n",
      "Entre com o 27o. valor: 2\n",
      "Entre com o 28o. valor: -2\n",
      "Entre com o 29o. valor: 2\n",
      "Entre com o 30o. valor: -2\n",
      "[1, 0, 1, 0, 1, 0, 1, 0, 1, 0, 1, 0, 1, 0, 1, 0, 1, 0, 1, 0, 1, 0, 1, 0, 1, 0, 1, 0, 1, 0]\n"
     ]
    }
   ],
   "source": [
    "# Exercício 05 - Faça um algoritmo que solicite ao usuário números e os armazene em um vetor de 30 posições. Crie uma função que recebe o vetor preenchido e substitua todas as ocorrência de valores positivos por 1 e todos os valores negativos por 0.\n",
    "\n",
    "n = []\n",
    "for i in range(1,31):\n",
    "    v=int(input(\"Entre com o \"+str(i)+\"o. valor: \"))\n",
    "    n.append(v)\n",
    "\n",
    "def transform(n):\n",
    "    for i in range(len(n)):\n",
    "        if n[i] >= 0:\n",
    "            n[i] = 1\n",
    "        else:\n",
    "            n[i] = 0\n",
    "                \n",
    "    return(n)\n",
    "\n",
    "print(transform(n))"
   ]
  },
  {
   "cell_type": "markdown",
   "metadata": {
    "collapsed": true
   },
   "source": [
    "## Exercício 06 - Pesquise e monte um notebook em modo Markdown qual a função e exemplos da utilização dos seguintes pacotes: *math, numpy, matplotlib, pandas* e string**.\n",
    "\n",
    "Math: Adicionar funções matemáticas ao Python, por exemplo funções trigonométricas.\n",
    "\n",
    "from math import sqrt\n",
    "print(sqrt(25))\n",
    "\n",
    "\n",
    "Numpy: Possibilita a manipulação de matrizes de maneira mais eficaz.\n",
    "\n",
    "import numpy as np\n",
    "a = np.zeros((2,2))\n",
    "print(a)\n",
    "\n",
    "\n",
    "Matplotlib: Biblioteca para impressão de gráficos/imagens e ambientes interativos.\n",
    "\n",
    "import matplotlib.pyplot as plt\n",
    "plt.plot([1,2,3,4])\n",
    "plt.ylabel('EixoY')\n",
    "plt.show()\n",
    "\n",
    "\n",
    "Pandas: Biblioteca usada para análise e exploração de dados em Python.\n",
    "\n",
    "import pandas as pd\n",
    "s = pd.Series([1,3,5,7,6,8])\n",
    "print(s)\n",
    "\n",
    "\n",
    "String: \n",
    "\n"
   ]
  }
 ],
 "metadata": {
  "kernelspec": {
   "display_name": "Python 2",
   "language": "python",
   "name": "python2"
  },
  "language_info": {
   "codemirror_mode": {
    "name": "ipython",
    "version": 2
   },
   "file_extension": ".py",
   "mimetype": "text/x-python",
   "name": "python",
   "nbconvert_exporter": "python",
   "pygments_lexer": "ipython2",
   "version": "2.7.13"
  }
 },
 "nbformat": 4,
 "nbformat_minor": 0
}
