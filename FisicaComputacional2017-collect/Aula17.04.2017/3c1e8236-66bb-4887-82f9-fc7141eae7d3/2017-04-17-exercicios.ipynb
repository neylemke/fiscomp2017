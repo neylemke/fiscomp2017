{
 "cells": [
  {
   "cell_type": "code",
   "execution_count": 1,
   "metadata": {
    "collapsed": false,
    "scrolled": true
   },
   "outputs": [
    {
     "name": "stdout",
     "output_type": "stream",
     "text": [
      "Vamos calcular as raizes equação segundo grau\n"
     ]
    }
   ],
   "source": [
    "# Exercicio 1\n",
    "print ('Vamos calcular as raizes equação segundo grau')"
   ]
  },
  {
   "cell_type": "code",
   "execution_count": 46,
   "metadata": {
    "collapsed": false
   },
   "outputs": [
    {
     "name": "stdout",
     "output_type": "stream",
     "text": [
      "digite o coeficiênte A= 9\n"
     ]
    }
   ],
   "source": [
    "A= float(input(\"digite o coeficiênte A= \"))"
   ]
  },
  {
   "cell_type": "code",
   "execution_count": 47,
   "metadata": {
    "collapsed": false
   },
   "outputs": [
    {
     "name": "stdout",
     "output_type": "stream",
     "text": [
      "digite o coeficiênte B= -12\n"
     ]
    }
   ],
   "source": [
    "B= float(input(\"digite o coeficiênte B= \"))"
   ]
  },
  {
   "cell_type": "code",
   "execution_count": 48,
   "metadata": {
    "collapsed": false
   },
   "outputs": [
    {
     "name": "stdout",
     "output_type": "stream",
     "text": [
      "digite o coeficiênte C= 4\n"
     ]
    }
   ],
   "source": [
    "C= float(input(\"digite o coeficiênte C= \"))"
   ]
  },
  {
   "cell_type": "code",
   "execution_count": 49,
   "metadata": {
    "collapsed": false
   },
   "outputs": [],
   "source": [
    "delta=((B**2)-(4*A*C))"
   ]
  },
  {
   "cell_type": "code",
   "execution_count": 50,
   "metadata": {
    "collapsed": false
   },
   "outputs": [
    {
     "name": "stdout",
     "output_type": "stream",
     "text": [
      "('delta=', 0.0)\n"
     ]
    }
   ],
   "source": [
    "print ('delta=', delta)"
   ]
  },
  {
   "cell_type": "code",
   "execution_count": 51,
   "metadata": {
    "collapsed": false
   },
   "outputs": [],
   "source": [
    "if (delta<0): \n",
    "    print('não existe raizes reais')\n",
    "else:\n",
    "    raizdelta=delta**0.5"
   ]
  },
  {
   "cell_type": "code",
   "execution_count": 52,
   "metadata": {
    "collapsed": false
   },
   "outputs": [
    {
     "name": "stdout",
     "output_type": "stream",
     "text": [
      "('x1=', 0.6666666666666666)\n"
     ]
    }
   ],
   "source": [
    "x1= (-B+raizdelta)/(2*A)\n",
    "print ('x1=', x1)"
   ]
  },
  {
   "cell_type": "code",
   "execution_count": 53,
   "metadata": {
    "collapsed": false
   },
   "outputs": [
    {
     "name": "stdout",
     "output_type": "stream",
     "text": [
      "('x2=', 0.6666666666666666)\n"
     ]
    }
   ],
   "source": [
    "x2= (-B-raizdelta)/(2*A)\n",
    "print ('x2=', x2)"
   ]
  },
  {
   "cell_type": "code",
   "execution_count": 56,
   "metadata": {
    "collapsed": false
   },
   "outputs": [
    {
     "name": "stdout",
     "output_type": "stream",
     "text": [
      "Digite o tamanho do primeiro lado: 2\n",
      "Digite o segundo lado: 2\n",
      "Digite o terceiro lado: 2\n",
      "Triângulo Equilátero\n"
     ]
    }
   ],
   "source": [
    "# Exercicio 2\n",
    "l1 = input('Digite o tamanho do primeiro lado: ')\n",
    "l2 = input('Digite o segundo lado: ')\n",
    "l3 = input('Digite o terceiro lado: ')\n",
    "\n",
    "if l1 + l2 > l3:\n",
    "    if l1 == l2 and l1 == l3:\n",
    "        print 'Triângulo Equilátero'\n",
    "    elif l1 == l2 or l2 == l3 or l1 == l3:\n",
    "        print 'Triângulo Isósceles'\n",
    "    elif l1 != l2 and l3 or l2 != l1 and l3 or l1 != l3:\n",
    "        print 'Triângulo Escaleno'\n",
    "\n",
    "else:\n",
    "    print 'É impossivel ser um triângulo'"
   ]
  },
  {
   "cell_type": "code",
   "execution_count": 60,
   "metadata": {
    "collapsed": false
   },
   "outputs": [
    {
     "name": "stdout",
     "output_type": "stream",
     "text": [
      "Digite o comprimento do paralelepípedo:5\n",
      "Digite a largura do paralelepípedo:5\n",
      "Digite a altura do paralelepípedo:5\n",
      "('volume=', 125)\n"
     ]
    }
   ],
   "source": [
    "# Exercicio 3\n",
    "c = input('Digite o comprimento do paralelepípedo:')\n",
    "l = input ('Digite a largura do paralelepípedo:')\n",
    "a = input('Digite a altura do paralelepípedo:')\n",
    "volume = (c*l*a)\n",
    "print ('volume=',volume)\n"
   ]
  },
  {
   "cell_type": "code",
   "execution_count": 1,
   "metadata": {
    "collapsed": false
   },
   "outputs": [
    {
     "name": "stdout",
     "output_type": "stream",
     "text": [
      "Digite o comprimento do paralelepípedo:5\n",
      "Digite a largura do paralelepípedo:5\n",
      "Digite a altura do paralelepípedo:5\n",
      "('arealateral=', 100)\n"
     ]
    }
   ],
   "source": [
    "c = input('Digite o comprimento do paralelepípedo:')\n",
    "l = input ('Digite a largura do paralelepípedo:')\n",
    "a = input('Digite a altura do paralelepípedo:')\n",
    "arealateral=2*(c*a+l*a)\n",
    "print ('arealateral=',arealateral)"
   ]
  },
  {
   "cell_type": "code",
   "execution_count": 1,
   "metadata": {
    "collapsed": false
   },
   "outputs": [
    {
     "name": "stdout",
     "output_type": "stream",
     "text": [
      "insira os valores0:1\n",
      "insira os valores1:2\n",
      "insira os valores2:3\n",
      "insira os valores3:4\n",
      "insira os valores4:5\n",
      "insira os valores5:6\n",
      "insira os valores6:7\n",
      "insira os valores7:8\n",
      "insira os valores8:9\n",
      "insira os valores9:10\n",
      "insira os valores10:-11\n",
      "insira os valores11:-12\n",
      "insira os valores12:-13\n",
      "insira os valores13:-14\n",
      "insira os valores14:-15\n",
      "insira os valores15:5\n",
      "insira os valores16:5\n",
      "insira os valores17:5\n",
      "insira os valores18:5\n",
      "insira os valores19:6\n",
      "insira os valores20:6\n",
      "insira os valores21:6\n",
      "insira os valores22:6\n",
      "insira os valores23:7\n",
      "insira os valores24:7\n",
      "insira os valores25:7\n",
      "insira os valores26:7\n",
      "insira os valores27:-9\n",
      "insira os valores28:-9\n",
      "insira os valores29:-9\n",
      "[1, 1, 1, 1, 1, 1, 1, 1, 1, 1, 0, 0, 0, 0, 0, 1, 1, 1, 1, 1, 1, 1, 1, 1, 1, 1, 1, 0, 0, 0]\n"
     ]
    }
   ],
   "source": [
    "# Exercicio 5\n",
    "y = [int(input(\"insira os valores{}:\".format(i))) for i in range(30)]\n",
    "y1=[]\n",
    "for j in range(len(y)):\n",
    "    if y[j]>0:\n",
    "        y1.append(1)\n",
    "    else:\n",
    "        y1.append(0)\n",
    "print (y1)"
   ]
  },
  {
   "cell_type": "code",
   "execution_count": 3,
   "metadata": {
    "collapsed": false
   },
   "outputs": [
    {
     "name": "stdout",
     "output_type": "stream",
     "text": [
      "Insira um número natural2468\n",
      "Quantidade de algarismos pares no numero: 4\n"
     ]
    }
   ],
   "source": [
    "# Exercicio 4\n",
    "natural = str(input(\"Insira um número natural\"))\n",
    "def algarismos(natural):\n",
    "    return len([alg for alg in natural if int(alg)%2==0])\n",
    "print \"Quantidade de algarismos pares no numero:\",algarismos(natural)"
   ]
  },
  {
   "cell_type": "markdown",
   "metadata": {
    "collapsed": true
   },
   "source": [
    " ## Exercicio 6##\n",
    "# Função math#\n",
    "- Este módulo está sempre disponível. Ele fornece acesso às funções matemáticas definidas pelo padrão C. Por exemplo na radiciação:\n",
    "import math\n",
    "a=9\n",
    "b= math.sqrt(a)\n",
    "print(b) # imprime 3\n",
    "\n",
    "# Função numpy#\n",
    "- NumPy é um pacote de Python que suporta operações com vetores e matrizes e é essencial para a computação científica com Python. O NumPy é baseado em C, portanto tem um desempenho superior se comparado às operações com vetores originais do Python. Neste post eu quero mostrar uma introdução básica ao NumPy para os iniciantes. Podemos utiliza-lo para criar um Array:\n",
    "\n",
    "import numpy as np\n",
    ">>> a = np.array([0,1,2,3,4,5])\n",
    ">>> a\n",
    "array([0,1,2,3,4,5])\n",
    "\n",
    "# Matplotlib#\n",
    "- O matplotlib é uma biblioteca com recursos para a geração de gráficos 2D a partir de arrays. Gráficos comuns podem ser criados com alta qualidade a partir de comandos simples, inspirados nos comandos gráficos do MATLAB. Assim o código para gerar um gráfico pode ser:\n",
    "\n",
    "import matplotlib.pyplot as plt\n",
    "plt.plot( [10,5,3,4,6,8] )\n",
    "plt.title(\"Muito Fácil\")\n",
    "plt.show()\n",
    "\n",
    "# Função Pandas#\n",
    "- Os DataFrames são estruturas que comportam dados de forma tabular. Os DataFrames são compostos de linhas e colunas, sendo cada coluna um campo da tabela e cada linha um registro. Cada coluna possui dados de um mesmo tipo. Você pode imaginar uma tabela de Excel, mas nesse caso, cada coluna é limitada a um tipo de dado.Primeiro, uma forma bem simples de criar um DataFrame, através do bom e velho Dictionary do Python (vamos importar o pandas com o primeiro comando):\n",
    "\n",
    "import pandas as pd\n",
    "\n",
    "df_data = {'pais': ['Brasil', 'Argentina','Argentina', 'Brasil', 'Chile','Chile'],\n",
    "           'ano': [2005, 2006, 2005, 2006, 2007, 2008],\n",
    "           'populacao': [170.1, 30.5, 32.2, 172.6, 40.8, 42.0]}\n",
    "df = pd.DataFrame(df_data)\n",
    "print(df)\n",
    "\n",
    "# String#\n",
    "- O módulo de String contém um número de constantes e classes úteis, bem como algumas funções preexistentes legado que também estão disponíveis como métodos em seqüências de caracteres. O módulo string inclui uma função chamada find (encontrar), para chamá-la, temos que especificar o nome do módulo e o nome da função usando a notação de ponto. Por exemplo:\n",
    "\n",
    ">>> fruta = \"banana\"\n",
    ">>> indice = string.find(fruta, \"a\")\n",
    ">>> print indice\n",
    "1\n",
    "\n",
    "\n"
   ]
  }
 ],
 "metadata": {
  "kernelspec": {
   "display_name": "Python 2",
   "language": "python",
   "name": "python2"
  },
  "language_info": {
   "codemirror_mode": {
    "name": "ipython",
    "version": 2
   },
   "file_extension": ".py",
   "mimetype": "text/x-python",
   "name": "python",
   "nbconvert_exporter": "python",
   "pygments_lexer": "ipython2",
   "version": "2.7.13"
  }
 },
 "nbformat": 4,
 "nbformat_minor": 0
}
