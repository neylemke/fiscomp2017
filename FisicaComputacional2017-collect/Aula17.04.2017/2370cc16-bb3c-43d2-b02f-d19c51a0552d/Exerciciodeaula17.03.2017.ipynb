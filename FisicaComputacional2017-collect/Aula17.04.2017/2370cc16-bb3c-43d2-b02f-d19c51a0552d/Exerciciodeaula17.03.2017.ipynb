{
 "cells": [
  {
   "cell_type": "markdown",
   "metadata": {
    "collapsed": false
   },
   "source": [
    "# Exercício da aula 17.04.2017"
   ]
  },
  {
   "cell_type": "code",
   "execution_count": 4,
   "metadata": {
    "collapsed": false
   },
   "outputs": [
    {
     "name": "stdout",
     "output_type": "stream",
     "text": [
      "Insira o valor de a \n",
      "0\n",
      "Insira o valor de b \n",
      "2\n",
      "Insira o valor de c \n",
      "2\n",
      "Equação de primeiro grau, raiz: -1\n"
     ]
    }
   ],
   "source": [
    "# Exercicio 1\n",
    "\n",
    "a= int(input(\"Insira o valor de a \\n\")) \n",
    "b= int(input(\"Insira o valor de b \\n\"))\n",
    "c= int(input(\"Insira o valor de c \\n\"))\n",
    "if a==0 :\n",
    "   x = -((c)/b)\n",
    "   print \"Equação de primeiro grau, raiz:\", x\n",
    "else: # caso contrário\n",
    "   delta= (b*b) - 4*a*c\n",
    "   print \"Delta igual a:\", delta\n",
    "   if delta<0: # se ele for menor que zero, nao tem raízes reais\n",
    "        print \"Equação não tem solução no conjunto dos reais\"\n",
    "   elif delta==0: # delta igual a zero, só uma raiz real\n",
    "        print \"Equação só possui uma raíz real\"\n",
    "        x= -b/(2*a)\n",
    "        print \"Raiz da equação:\", x\n",
    "   elif delta>0: # delta maior que zero, duas raízes reais e uma distinta\n",
    "        x1= (-b+ (delta)**(1/2))/(2*a)\n",
    "        x2= (-b- (delta)**(1/2))/(2*a)\n",
    "        print \"Equação possui duas raízes reais, são elas:\"\n",
    "        print \"x1:\", x1 \n",
    "        print \"x2:\", x2"
   ]
  },
  {
   "cell_type": "code",
   "execution_count": 12,
   "metadata": {
    "collapsed": false
   },
   "outputs": [
    {
     "name": "stdout",
     "output_type": "stream",
     "text": [
      "Digite o tamanho do lado A: 0\n",
      "Digite o tamanho do lado B: 0\n",
      "Digite o tamanho do lado C: 0\n",
      "É impossivel ser um triângulo\n"
     ]
    }
   ],
   "source": [
    "# Exercicio 2\n",
    "\n",
    "A = input('Digite o tamanho do lado A: ')\n",
    "B = input('Digite o tamanho do lado B: ')\n",
    "C = input('Digite o tamanho do lado C: ')\n",
    "\n",
    "if A + B > C or B + C > A or A + C > B:\n",
    "    if A == B and A == C:\n",
    "        print 'Triângulo Equilátero'\n",
    "    elif A == B or B == C or A == C:\n",
    "        print 'Triângulo Isósceles'\n",
    "    elif A != B and C or B != A and C or C != A and B:\n",
    "        print 'Triângulo Escaleno'\n",
    "\n",
    "else:\n",
    "    print 'Não é possível formar um triângulo !'"
   ]
  },
  {
   "cell_type": "code",
   "execution_count": null,
   "metadata": {
    "collapsed": true
   },
   "outputs": [],
   "source": []
  }
 ],
 "metadata": {
  "kernelspec": {
   "display_name": "Python 2 (SageMath)",
   "language": "python",
   "name": "python2"
  },
  "language_info": {
   "codemirror_mode": {
    "name": "ipython",
    "version": 2
   },
   "file_extension": ".py",
   "mimetype": "text/x-python",
   "name": "python",
   "nbconvert_exporter": "python",
   "pygments_lexer": "ipython2",
   "version": "2.7.13"
  }
 },
 "nbformat": 4,
 "nbformat_minor": 0
}
