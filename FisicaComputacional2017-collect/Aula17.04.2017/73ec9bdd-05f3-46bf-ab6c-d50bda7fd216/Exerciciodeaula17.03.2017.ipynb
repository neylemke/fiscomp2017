{
 "cells": [
  {
   "cell_type": "markdown",
   "metadata": {
    "collapsed": false
   },
   "source": [
    "# 17.04.2017"
   ]
  },
  {
   "cell_type": "markdown",
   "metadata": {},
   "source": [
    "## Exercício 1"
   ]
  },
  {
   "cell_type": "code",
   "execution_count": 35,
   "metadata": {
    "collapsed": false
   },
   "outputs": [
    {
     "name": "stdout",
     "output_type": "stream",
     "text": [
      "Insira o valor de A:2\n",
      "Insira o valor de B:2\n",
      "Insira o valor de C:2\n",
      "Delta < zero, raís complexa, então insira valores para raízes reais\n",
      "Insira o valor de A:2\n",
      "Insira o valor de B:10\n",
      "Insira o valor de C:2\n",
      "X1: -0.208712152522\n",
      "X2: -4.79128784748\n"
     ]
    }
   ],
   "source": [
    "from math import sqrt\n",
    "A,B,C = float(input(\"Insira o valor de A:\")), float(input(\"Insira o valor de B:\")), float(input(\"Insira o valor de C:\"))\n",
    "delta =(B**2) - (4*A*C)\n",
    "while delta<0:\n",
    "    print \"Delta < zero, raís complexa, então insira valores para raízes reais\"\n",
    "    A,B,C = float(input(\"Insira o valor de A:\")), float(input(\"Insira o valor de B:\")), float(input(\"Insira o valor de C:\"))\n",
    "    delta =(B**2) - (4*A*C)\n",
    "X1 = (-B + sqrt(delta))/(2*A)\n",
    "X2 = (-B - sqrt(delta))/(2*A)\n",
    "print \"X1:\", X1\n",
    "print \"X2:\", X2"
   ]
  },
  {
   "cell_type": "markdown",
   "metadata": {},
   "source": [
    "## Exercício 2"
   ]
  },
  {
   "cell_type": "code",
   "execution_count": 42,
   "metadata": {
    "collapsed": false
   },
   "outputs": [
    {
     "name": "stdout",
     "output_type": "stream",
     "text": [
      "Insira o valor de A:2\n",
      "Insira o valor de B:4\n",
      "Insira o valor de C:2\n",
      "Os valores não pertencem à um triângulo\n"
     ]
    }
   ],
   "source": [
    "A,B,C = float(input(\"Insira o valor de A:\")), float(input(\"Insira o valor de B:\")), float(input(\"Insira o valor de C:\"))\n",
    "if (A < B + C) and (B < A + C) and (C < A + B):\n",
    "    print \"Os valores pertencem à um triângulo\"\n",
    "    if (A == B) and (B == C):\n",
    "        print \"O triângulo é equilátero\"\n",
    "    if (A == B) or (A == C) or (B == C):\n",
    "        print \"O triângulo é isósceles\"\n",
    "    if (A != B) and (B != C) and (A != C):\n",
    "        print \"O triângulo é escaleno\"\n",
    "else:\n",
    "    print \"Os valores não pertencem à um triângulo\""
   ]
  },
  {
   "cell_type": "markdown",
   "metadata": {},
   "source": [
    "## Exercício 3"
   ]
  },
  {
   "cell_type": "code",
   "execution_count": 48,
   "metadata": {
    "collapsed": false
   },
   "outputs": [
    {
     "name": "stdout",
     "output_type": "stream",
     "text": [
      "Volume do paralelepípedo: 20\n",
      "Área lateral do paralelepípedo: 40\n"
     ]
    }
   ],
   "source": [
    "def volume(a,b,c):\n",
    "    return a*b*c\n",
    "    \n",
    "def area(a,b,c):\n",
    "    return 2*(a*c + b*c)\n",
    "    \n",
    "print \"Volume do paralelepípedo:\", volume(2,2,5)\n",
    "print \"Área lateral do paralelepípedo:\", area(2,2,5)"
   ]
  },
  {
   "cell_type": "markdown",
   "metadata": {},
   "source": [
    "## Exercício 4"
   ]
  },
  {
   "cell_type": "code",
   "execution_count": 86,
   "metadata": {
    "collapsed": false
   },
   "outputs": [
    {
     "name": "stdout",
     "output_type": "stream",
     "text": [
      "Insira um número natural:123456\n",
      "Quantidade de algarismos pares no número fornecido: 3\n"
     ]
    }
   ],
   "source": [
    "natural = str(input(\"Insira um número natural:\"))\n",
    "def algarismos(natural):\n",
    "    return len([alg for alg in natural if int(alg)%2==0])\n",
    "\n",
    "print \"Quantidade de algarismos pares no número fornecido:\",algarismos(natural)"
   ]
  },
  {
   "cell_type": "markdown",
   "metadata": {},
   "source": [
    "## Exercício 5"
   ]
  },
  {
   "cell_type": "code",
   "execution_count": 99,
   "metadata": {
    "collapsed": false
   },
   "outputs": [
    {
     "name": "stdout",
     "output_type": "stream",
     "text": [
      "Insira os valores 0:1\n",
      "Insira os valores 1:2\n",
      "Insira os valores 2:3\n",
      "Insira os valores 3:4\n",
      "Insira os valores 4:5\n",
      "Insira os valores 5:6\n",
      "Insira os valores 6:7\n",
      "Insira os valores 7:-1\n",
      "Insira os valores 8:-5\n",
      "Insira os valores 9:8\n",
      "[1, 1, 1, 1, 1, 1, 1, 0, 0, 1]\n"
     ]
    }
   ],
   "source": [
    "X = [int(input(\"Insira os valores {}:\".format(i))) for i in range (10)]\n",
    "X1=[]\n",
    "for j in range(len(X)):\n",
    "    if X[j]>0:\n",
    "        X1.append(1)\n",
    "    else:\n",
    "        X1.append(0)\n",
    "print X1    "
   ]
  },
  {
   "cell_type": "markdown",
   "metadata": {},
   "source": [
    "## Exercício 6"
   ]
  },
  {
   "cell_type": "markdown",
   "metadata": {},
   "source": [
    "### Pacote \"Math\"\n",
    "#### Biblioteca que fornece funções matemáticas, operações e operadores matemáticos, como por exemplo:\n",
    "##### math.sqrt(numero): Retorna a raíz quadrada do número.\n",
    "##### math.cos(numero): Retorna o cosseno do número em radiano.\n",
    "##### math.sin(numero): Retorna o seno do número em radiano.\n",
    "##### math.tan(numero): Retorna a tangente do número em radiano.\n",
    "##### math.radians(numero): Converte o angulo ‘numero’ de graus para radiano.\n",
    "##### math.pi: Não é bem uma função, está mais para uma constante com o número pi (3.1415926535897931).\n",
    "##### math.hypot(x, y): Retorna a hipotenusa dos números (catetos) fornecidos.\n"
   ]
  },
  {
   "cell_type": "code",
   "execution_count": 1,
   "metadata": {
    "collapsed": false
   },
   "outputs": [
    {
     "data": {
      "text/plain": [
       "5.0"
      ]
     },
     "execution_count": 1,
     "metadata": {},
     "output_type": "execute_result"
    }
   ],
   "source": [
    "import math\n",
    "math.sqrt(25) # Exemplo: Tirando a raíz quadrada de um número"
   ]
  },
  {
   "cell_type": "markdown",
   "metadata": {},
   "source": [
    "### Pacote \"Numpy\"\n",
    "#### NumPy é um pacote de Python que suporta operações com vetores e matrizes e é essencial para a computação científica com Python. O NumPy é baseado em C, portanto tem um desempenho superior se comparado às operações com vetores originais do Python."
   ]
  },
  {
   "cell_type": "code",
   "execution_count": 6,
   "metadata": {
    "collapsed": false
   },
   "outputs": [
    {
     "data": {
      "text/plain": [
       "21"
      ]
     },
     "execution_count": 6,
     "metadata": {},
     "output_type": "execute_result"
    }
   ],
   "source": [
    "import numpy as np # Importando o pacote\n",
    "lista = [1,2,3,4,5,6]\n",
    "np.sum(lista) # Exemplo: Sum() - Soma todos os elementos da lista "
   ]
  },
  {
   "cell_type": "markdown",
   "metadata": {},
   "source": [
    "### Pacote \"Matplotlib\"\n",
    "#### Em simples palavras, o matplotlib é uma biblioteca que permite a criação de gráficos em 2D."
   ]
  },
  {
   "cell_type": "code",
   "execution_count": 7,
   "metadata": {
    "collapsed": false
   },
   "outputs": [
    {
     "data": {
      "image/png": "[encoded data removed]",
      "text/plain": [
       "<matplotlib.figure.Figure at 0x7f7c73998fd0>"
      ]
     },
     "metadata": {},
     "output_type": "display_data"
    }
   ],
   "source": [
    "import numpy as np\n",
    "import matplotlib.pyplot as plt\n",
    "\n",
    "x = np.linspace(0, 1, 500)\n",
    "y = np.sin(4 * np.pi * x) * np.exp(-5 * x)\n",
    "\n",
    "fig, ax = plt.subplots()\n",
    "\n",
    "ax.fill(x, y, zorder=10)\n",
    "ax.grid(True, zorder=5)\n",
    "plt.show() # Exemplo: Gráfico simples de linhas preenchidas"
   ]
  },
  {
   "cell_type": "markdown",
   "metadata": {},
   "source": [
    "### Pacote \"Pandas\"\n",
    "#### Pandas é uma biblioteca de alto desempenho que fornece suporte para estruturas de dados e ferramentas de análise de dados. A biblioteca é otimizada para executar tarefas de Ciência de Dados de forma rápida e eficiente. O princípio básico do Pandas é fornecer análise de dados e suporte a modelagem para Python de forma semelhante a outras línguas."
   ]
  },
  {
   "cell_type": "code",
   "execution_count": 17,
   "metadata": {
    "collapsed": false
   },
   "outputs": [
    {
     "name": "stdout",
     "output_type": "stream",
     "text": [
      "A    3\n",
      "B   -5\n",
      "C    7\n",
      "D    4\n",
      "dtype: int64\n"
     ]
    }
   ],
   "source": [
    "import pandas as pd #Exemplo: as Séries que são um array de 1 dimensão. Você pode considerar uma Série também como uma coluna de uma tabela.\n",
    "s = pd.Series([3, -5, 7, 4], index=['A', 'B', 'C', 'D']) #Coluna de letras relacionadas à série de números disposta em outra coluna.\n",
    "print s"
   ]
  },
  {
   "cell_type": "markdown",
   "metadata": {},
   "source": [
    "### \"String\"\n",
    "#### Strings são qualitativamente diferentes de int (números inteiros) e float (números reais) porque são feitas de caracteres, palavras, ou seja, é um tipo de dado composto."
   ]
  },
  {
   "cell_type": "code",
   "execution_count": 21,
   "metadata": {
    "collapsed": false
   },
   "outputs": [
    {
     "name": "stdout",
     "output_type": "stream",
     "text": [
      "Letra1 de pera: p\n",
      "Letra2 de pera: e\n",
      "Letra3 de pera: r\n",
      "Letra4 de pera: a\n"
     ]
    }
   ],
   "source": [
    "fruta = \"pera\"\n",
    "letra1, letra2, letra3, letra4 = fruta[0], fruta[1], fruta[2], fruta[3]\n",
    "print \"Letra1 de pera:\", letra1\n",
    "print \"Letra2 de pera:\", letra2\n",
    "print \"Letra3 de pera:\", letra3\n",
    "print \"Letra4 de pera:\", letra4 #Usamos as letras de um caracter como se fossem elementos de uma lista, e acessamos cada uma delas."
   ]
  },
  {
   "cell_type": "code",
   "execution_count": null,
   "metadata": {
    "collapsed": true
   },
   "outputs": [],
   "source": []
  }
 ],
 "metadata": {
  "kernelspec": {
   "display_name": "Python 2 (SageMath)",
   "language": "python",
   "name": "python2"
  },
  "language_info": {
   "codemirror_mode": {
    "name": "ipython",
    "version": 2
   },
   "file_extension": ".py",
   "mimetype": "text/x-python",
   "name": "python",
   "nbconvert_exporter": "python",
   "pygments_lexer": "ipython2",
   "version": "2.7.13"
  }
 },
 "nbformat": 4,
 "nbformat_minor": 0
}
