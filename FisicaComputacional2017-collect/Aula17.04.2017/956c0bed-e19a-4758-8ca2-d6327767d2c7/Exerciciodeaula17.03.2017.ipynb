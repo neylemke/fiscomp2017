{
 "cells": [
  {
   "cell_type": "markdown",
   "metadata": {
    "collapsed": false
   },
   "source": [
    "17/03/2017"
   ]
  },
  {
   "cell_type": "code",
   "execution_count": 12,
   "metadata": {
    "collapsed": false
   },
   "outputs": [
    {
     "name": "stdout",
     "output_type": "stream",
     "text": [
      "Valor de A: 1\n",
      "Valor de B: 3\n",
      "Valor de C: 1\n",
      "Raíz: -0.38196601125. Raíz: -2.61803398875\n"
     ]
    }
   ],
   "source": [
    "# ex 1:\n",
    "\n",
    "from math import sqrt\n",
    "\n",
    "a=input(\"Valor de A: \")\n",
    "b=input(\"Valor de B: \")\n",
    "c=input(\"Valor de C: \")\n",
    "if type(a) != int or type(b) != int or type(c) != int:\n",
    "    print(\"Inserir valores inteiros.\")\n",
    "else:\n",
    "    D = b**2-4*a*c\n",
    "    #print(\"Delta é:  \",D)\n",
    "    if D > 0:\n",
    "        x1=(-b+sqrt(b**2-4*a*c))/2*a\n",
    "        x2=(-b-sqrt(b**2-4*a*c))/2*a\n",
    "        print(\"Raíz: \"+str(x1)+\". Raíz: \"+str(x2))\n",
    "    elif D==0:\n",
    "        r=-b/2*a\n",
    "        print(\"O valor da raíz é: \",r)\n",
    "    else:\n",
    "            print(\"O delta é negativo portanto não existe raízes reais.\")"
   ]
  },
  {
   "cell_type": "code",
   "execution_count": 13,
   "metadata": {
    "collapsed": false
   },
   "outputs": [
    {
     "name": "stdout",
     "output_type": "stream",
     "text": [
      "Lado A: 3\n",
      "Lado B: 4\n",
      "Lado C: 5\n",
      "Triângulo escaleno.\n"
     ]
    }
   ],
   "source": [
    "#ex 2\n",
    "\n",
    "a=input(\"Lado A: \")\n",
    "b=input(\"Lado B: \")\n",
    "c=input(\"Lado C: \")\n",
    "\n",
    "\n",
    "if type(a) != int or type(b) != int or type(c) != int:\n",
    "    print(\"Inserir valores inteiros.\")\n",
    "else:\n",
    "    if (a <b + c) and (b < a + c) and (c < a + b):\n",
    "        if (a == b) and (c == b):\n",
    "            print(\"Triângulo Equilátero.\")\n",
    "        elif (a == b) or (a == c) or (b == c):\n",
    "            print(\"Triâgulo Isóceles.\")\n",
    "        else:\n",
    "            print(\"Triângulo escaleno.\")\n",
    "    else:\n",
    "        print(\"Não é possivel formar um triângulo.\")\n",
    "    "
   ]
  },
  {
   "cell_type": "code",
   "execution_count": 16,
   "metadata": {
    "collapsed": false
   },
   "outputs": [
    {
     "name": "stdout",
     "output_type": "stream",
     "text": [
      "Lado A: 3\n",
      "Lado B: 4\n",
      "Lado C: 5\n",
      "Volume do paralelepípedo é: 60. As areas laterais são: 12, 20 e 15.\n"
     ]
    }
   ],
   "source": [
    "#ex 3\n",
    "\n",
    "def alat(x1,x2):\n",
    "    return x1*x2\n",
    "\n",
    "a=input(\"Lado A: \")\n",
    "b=input(\"Lado B: \")\n",
    "c=input(\"Lado C: \")\n",
    "\n",
    "\n",
    "if type(a) != int or type(b) != int or type(c) != int:\n",
    "    print(\"Inserir valores inteiros.\")\n",
    "else:\n",
    "    print(\"Volume do paralelepípedo é: \"+str(a*b*c)+\". As areas laterais são: \"+str(alat(a,b))+\", \"+str(alat(b,c))+\" e \"+str(alat(a,c))+\".\")"
   ]
  },
  {
   "cell_type": "code",
   "execution_count": 28,
   "metadata": {
    "collapsed": false
   },
   "outputs": [
    {
     "name": "stdout",
     "output_type": "stream",
     "text": [
      "Insira um número natural: 42.9\n",
      "Os valores pares 42.9 são: ['4', '2']\n"
     ]
    }
   ],
   "source": [
    "#ex 4\n",
    "\n",
    "a = input(\"Insira um número natural: \")\n",
    "if type(a) != float:\n",
    "    print(\"O valor do número deve ser natural.\")\n",
    "else:\n",
    "    x = []\n",
    "    a = str(a)\n",
    "    for i in range(len(a)):\n",
    "        if a[i] != \".\" and int(a[i])%2==0:\n",
    "            x.append(a[i])\n",
    "    \n",
    "    print(\"Os valores pares \"+a+\" são: \"+str(x))"
   ]
  },
  {
   "cell_type": "code",
   "execution_count": null,
   "metadata": {
    "collapsed": true
   },
   "outputs": [],
   "source": []
  }
 ],
 "metadata": {
  "kernelspec": {
   "display_name": "Python 2",
   "language": "python",
   "name": "python2"
  },
  "language_info": {
   "codemirror_mode": {
    "name": "ipython",
    "version": 2
   },
   "file_extension": ".py",
   "mimetype": "text/x-python",
   "name": "python",
   "nbconvert_exporter": "python",
   "pygments_lexer": "ipython2",
   "version": "2.7.13"
  }
 },
 "nbformat": 4,
 "nbformat_minor": 0
}
