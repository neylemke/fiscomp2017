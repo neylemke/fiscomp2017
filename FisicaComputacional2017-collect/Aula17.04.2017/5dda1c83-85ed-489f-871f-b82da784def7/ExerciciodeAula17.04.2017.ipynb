{
 "cells": [
  {
   "cell_type": "markdown",
   "metadata": {},
   "source": [
    "### exercicio2\n",
    "\n",
    "\n",
    "n=input(\"Insira um número inteiro para X:\")\n",
    "m=input(\"Insira um número inteiro para Y:\")\n",
    "l=input(\"Insira um número inteiro para Z:\")\n",
    "\n",
    "if n+m>l and n+l>m and m+l>n:\n",
    "    if n==m and n==l and l==n:\n",
    "        print(\"triangulo equilatero\")\n",
    "    elif n==m or m==l and n==l:\n",
    "        print(\"triangulo isoceles\")\n",
    "    elif n!=m or m!=n or n!=l:\n",
    "        print(\"triangulo escaleno\")\n",
    "    else: \n",
    "        print(\"não é triangulo\")"
   ]
  },
  {
   "cell_type": "markdown",
   "metadata": {},
   "source": [
    "### exercicio3\n",
    "\n",
    "\n",
    "def volume(a,b,c):\n",
    "    return a*b*c"
   ]
  },
  {
   "cell_type": "markdown",
   "metadata": {},
   "source": [
    "volume(3,5,7)"
   ]
  },
  {
   "cell_type": "markdown",
   "metadata": {},
   "source": [
    "### exercicio3\n",
    "def arealateral(a,b,c):\n",
    "    return 2*(a*c)+2*(b*c)"
   ]
  },
  {
   "cell_type": "markdown",
   "metadata": {},
   "source": [
    "arealateral(3,5,7)"
   ]
  },
  {
   "cell_type": "markdown",
   "metadata": {},
   "source": [
    "### exercicio1\n",
    "\n",
    "print(\"Para calcular as raízes da função quadrática, vamos ter que:\")\n",
    "a=float(input(\"Insira o coeficiente para a constante A: \\n\"))\n",
    "b=float(input(\"Insira o coeficiente para a contante B: \\n\"))\n",
    "c=float(input(\"Insira o coeficiente para a constante C: \\n\"))\n",
    "delta=((b**2)*(4*a*c))\n",
    "print(\"O valor de delta será: \\n\", delta)\n",
    "if(delta<0):\n",
    "    print(\"Não é possível realizar o cálculo das raízes: \\n\")\n",
    "else:\n",
    "    raizdelta=delta**0.5\n",
    "x1=(-b-raizdelta)/(2*a)\n",
    "print(\"O valor da primeira raiz e: \\n\", x1)\n",
    "x2=(-b+raizdelta)/(2*a)\n",
    "print(\"O valor da segunda raiz e: \\n\", x2)"
   ]
  },
  {
   "cell_type": "markdown",
   "metadata": {},
   "source": [
    "### exercicio4\n",
    "\n",
    "m=int(input(\"Insira um número inteiro qualquer: \\n\"))\n",
    "s = str(m)\n",
    "print (m,\"E composto por:\", len(s), \"digitos\")\n",
    "p=int(m)\n",
    "def quantidade_num_par(p):\n",
    "    count = 0\n",
    "    for n in range(0, p):\n",
    "        if n % 2 == 0:\n",
    "            count += 1\n",
    "    return count\n",
    "\n",
    "print(\"Existem\",quantidade_num_par(p),\"numeros pares de 0 a:\", p)"
   ]
  },
  {
   "cell_type": "markdown",
   "metadata": {},
   "source": [
    "### exercicio5\n",
    "\n",
    "print(\"Digite 30 numeros:\")\n",
    "n = range(0,5)\n",
    "y=[0]*len(n) #lista n contendo zeros com o tamanho de n\n",
    "x=0\n",
    "for i in range(0,5):#colado range com 5 para testar, para 30 numeros é só trocar o 5 por 30\n",
    "    y[i] = input(\"Entre com o valor:\")\n",
    "    print(x)\n",
    "    x=x+1\n",
    "for i in range(0,5):\n",
    "    if (y[i]>0):\n",
    "        y[i]=1\n",
    "    else:\n",
    "        y[i]=0\n",
    "print(\"Valores negativos sao 0 e valores positivos sao 1\")\n",
    "for i in range(0,5):\n",
    "    print (y[i])"
   ]
  },
  {
   "cell_type": "markdown",
   "metadata": {},
   "source": [
    "### exercicio6\n",
    "\n",
    "# Função Math\n",
    "\n",
    "A biblioteca math nos oferece funções matemáticas, onde elas são pré-estabelecidas que possuem uma ação específica e que pode ou não receber parâmetros.\n",
    "Um exemplo muito utilizado é a função sqrt(), onde podemos realizar o cálculo para raízes inteiras positivas, como podemos ver abaixo:\n",
    "\n",
    "import math\n",
    "a=9\n",
    "m=math.sqrt(a)\n",
    "print(b) #imprime como resultado o valor 3\n",
    "\n",
    "Outros exemplos de função são:\n",
    "\n",
    "- math.cos(n) : retorna o cosseno de um numero\n",
    "- math.sin(n) : retorna o seno de um numero\n",
    "- math.radians(n) : converte um numero em graus para radianos\n",
    "- math.hypot(n): retorna a hipotenusa dos catetos fornecidos\n",
    "\n",
    "# Função Numpy\n",
    "\n",
    "A biblioteca numpy nos oferece operações com arrays, vetores e matrizes com N dimensões.\n",
    "Provê diversas funções e operações sofisticadas, incluindo (mas não se limitando a):\n",
    "\n",
    "- Objeto array para a implementação de arranjos multidimensionais\n",
    "- Objeto matrix para o cálculo com matrizes\n",
    "- Ferramentas para álgebra linear\n",
    "- Transformadas de Fourier básicas\n",
    "- Ferramentas sofisticadas para geração de números aleatórios\n",
    "\n",
    "# Função Mathplotlib\n",
    "\n",
    "Esta por sua vez, nos permite com a inserção de dados no algoritmo, plotar gráficos 2D para análise desses dados, tanto em gráficos de linhas, barras, pizza, entre outros. Um exemplo da utilização dessa biblioteca, podemos ver logo abaixo:\n",
    "\n",
    "import pandas as pd\n",
    "import numpy as np\n",
    "import matplotlib.pyplot as plt\n",
    "\n",
    "plt.plot([0,10,20,30])\n",
    "plt.show()\n",
    "\n",
    "# Função Pandas\n",
    "\n",
    "Esta função é muito utilizada para operações 'Data Science'. Como por exemplo para cirar tabelas dinâmicas,ordenar com base em várias colunas e plotar esses reultados em um gráfico.\n",
    "\n",
    "# Função String\n",
    "\n",
    "A função str() serve para produzir representações de valores que sejam legíveis para as pessoas, enquanto repr() é para gerar representações que o interpretador Python consegue ler (caso não exista uma forma de representar o valor, a representação devolvida por repr() produz um SyntaxError [N.d.T. repr() procura gerar representações fiéis; quando isso é inviável, é melhor encontrar um erro do que obter um objeto diferente do original]). Para objetos que não têm uma representação adequada para consumo humano, str() devolve o mesmo valor que repr(). Muitos valores, tal como inteiros e estruturas como listas e dicionários, têm a mesma representação usando ambas funções. Strings e números de ponto flutuante, em particular, têm duas representações distintas."
   ]
  },
  {
   "cell_type": "code",
   "execution_count": null,
   "metadata": {
    "collapsed": true
   },
   "outputs": [],
   "source": []
  }
 ],
 "metadata": {
  "kernelspec": {
   "display_name": "Python 2 (SageMath)",
   "language": "python",
   "name": "python2"
  },
  "language_info": {
   "codemirror_mode": {
    "name": "ipython",
    "version": 2
   },
   "file_extension": ".py",
   "mimetype": "text/x-python",
   "name": "python",
   "nbconvert_exporter": "python",
   "pygments_lexer": "ipython2",
   "version": "2.7.13"
  }
 },
 "nbformat": 4,
 "nbformat_minor": 1
}
