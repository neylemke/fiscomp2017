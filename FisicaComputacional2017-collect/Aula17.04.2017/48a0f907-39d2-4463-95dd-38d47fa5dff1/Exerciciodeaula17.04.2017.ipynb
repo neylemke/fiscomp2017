{
 "cells": [
  {
   "cell_type": "markdown",
   "metadata": {
    "collapsed": false
   },
   "source": [
    "## AULA 17/04/2017"
   ]
  },
  {
   "cell_type": "code",
   "execution_count": 1,
   "metadata": {
    "collapsed": false
   },
   "outputs": [
    {
     "name": "stdout",
     "output_type": "stream",
     "text": [
      "Insira um valor para A: 4\n",
      "Insira um valor para B: 5\n",
      "Insira um valor para C: -3\n",
      "x1: 23.0880074906. x2: -11.0880074906\n"
     ]
    }
   ],
   "source": [
    "#Exercício 1\n",
    "from math import sqrt\n",
    "a = input(\"Insira um valor para A: \")\n",
    "b = input(\"Insira um valor para B: \")\n",
    "c = input(\"Insira um valor para C: \")\n",
    "if type(a) != int or type(b) != int or type(c) != int:\n",
    "    print(\"Insira apenas valores inteiros.\")\n",
    "else:\n",
    "    delta = b**2-4*a*c\n",
    "    #print(\"Delta = \", delta)\n",
    "    \n",
    "    if delta > 0:\n",
    "        x1 = (-c+sqrt(b**2-4*a*c))/2*a\n",
    "        x2 = (-c-sqrt(b**2-4*a*c))/2*a\n",
    "        print(\"x1: \"+str(x1)+\". x2: \"+str(x2))\n",
    "    \n",
    "    elif delta == 0:\n",
    "        r = -c/2*a\n",
    "        print(\"A raiz é: \", r)\n",
    "    else:\n",
    "        print(\"Delta negativo. Não existem soluções reais.\")"
   ]
  },
  {
   "cell_type": "code",
   "execution_count": 3,
   "metadata": {
    "collapsed": false
   },
   "outputs": [
    {
     "name": "stdout",
     "output_type": "stream",
     "text": [
      "Insira um valor para o lado A: 5\n",
      "Insira um valor para o lado B: 5\n",
      "Insira um valor para o lado C: 5\n",
      "O trinângulo é Equilátero.\n"
     ]
    }
   ],
   "source": [
    "#Exercício 2\n",
    "a = input(\"Insira um valor para o lado A: \")\n",
    "b = input(\"Insira um valor para o lado B: \")\n",
    "c = input(\"Insira um valor para o lado C: \")\n",
    "if type(a) != int or type(b) != int or type(c) != int:\n",
    "    print(\"Insira apenas valores inteiros.\")\n",
    "else:\n",
    "    if (a < b + c) and (b < a + c) and (c < a + b):\n",
    "        if (a == b) and(c == b):\n",
    "            print(\"O trinângulo é Equilátero.\")\n",
    "        elif (a == b) or (a == c) or (b == c):\n",
    "            print(\"O triângulo é Isósceles.\")\n",
    "        else:\n",
    "            print(\"O triângulo é Escaleno.\")\n",
    "    else: \n",
    "        print(\"Impossível formar um triângulo com os valores inseridos.\")"
   ]
  },
  {
   "cell_type": "code",
   "execution_count": 4,
   "metadata": {
    "collapsed": false
   },
   "outputs": [
    {
     "name": "stdout",
     "output_type": "stream",
     "text": [
      "Insira um valor para o lado A: 5\n",
      "Insira um valor para o lado B: 20\n",
      "Insira um valor para o lado C: 17\n",
      "O volume do paralelepípedo é: 1700. Áreas laterais: 100, 340 e 85.\n"
     ]
    }
   ],
   "source": [
    "#Exercício 3\n",
    "def alat(v1, v2):\n",
    "    return v1*v2\n",
    "a = input(\"Insira um valor para o lado A: \")\n",
    "b = input(\"Insira um valor para o lado B: \")\n",
    "c = input(\"Insira um valor para o lado C: \")\n",
    "if type(a) != int or type(b) != int or type(c) != int:\n",
    "    print(\"Insira apenas valores inteiros.\")\n",
    "else:\n",
    "    print(\"O volume do paralelepípedo é: \"+str(a*b*c)+\". Áreas laterais: \"+str(alat(a, b))+\", \"+str(alat(b, c))+\" e \"+str(alat(a, c))+\".\")"
   ]
  },
  {
   "cell_type": "code",
   "execution_count": 6,
   "metadata": {
    "collapsed": false
   },
   "outputs": [
    {
     "name": "stdout",
     "output_type": "stream",
     "text": [
      "Insira um número natural: 83.0\n",
      "Os valores pares do do número 83.0 são: ['8', '0']\n"
     ]
    }
   ],
   "source": [
    "#Exercício 4\n",
    "y = input(\"Insira um número natural: \")\n",
    "if type(y) != float:\n",
    "    print(\"O número dever ser natural.\")\n",
    "else:\n",
    "    x =[]\n",
    "    Y = str(y)\n",
    "    for i in range(len(Y)):\n",
    "        if Y[i] != \".\" and int(Y[i])%2 == 0:\n",
    "            x.append(Y[i])\n",
    "    print(\"Os valores pares do do número \"+Y+\" são: \"+str(x))"
   ]
  },
  {
   "cell_type": "code",
   "execution_count": 9,
   "metadata": {
    "collapsed": false
   },
   "outputs": [
    {
     "name": "stdout",
     "output_type": "stream",
     "text": [
      "Insira 30 números separados por vírgulas: 1,2,3,4,5,6,7,8,9,10,11,12,13,14,15,16,14,18,19,20,21,22,23,24,25,26,27,28,29,30\n"
     ]
    },
    {
     "ename": "IndexError",
     "evalue": "list assignment index out of range",
     "output_type": "error",
     "traceback": [
      "\u001b[0;31m---------------------------------------------------------------------------\u001b[0m",
      "\u001b[0;31mIndexError\u001b[0m                                Traceback (most recent call last)",
      "\u001b[0;32m<ipython-input-9-edffce379535>\u001b[0m in \u001b[0;36m<module>\u001b[0;34m()\u001b[0m\n\u001b[1;32m     12\u001b[0m     \u001b[0;32mprint\u001b[0m\u001b[0;34m(\u001b[0m\u001b[0;34m\"Não foram inseridos 30 números.\"\u001b[0m\u001b[0;34m)\u001b[0m\u001b[0;34m\u001b[0m\u001b[0m\n\u001b[1;32m     13\u001b[0m \u001b[0;32melse\u001b[0m\u001b[0;34m:\u001b[0m\u001b[0;34m\u001b[0m\u001b[0m\n\u001b[0;32m---> 14\u001b[0;31m     \u001b[0;32mprint\u001b[0m\u001b[0;34m(\u001b[0m\u001b[0mtransform\u001b[0m\u001b[0;34m(\u001b[0m\u001b[0mx\u001b[0m\u001b[0;34m)\u001b[0m\u001b[0;34m)\u001b[0m\u001b[0;34m\u001b[0m\u001b[0m\n\u001b[0m",
      "\u001b[0;32m<ipython-input-9-edffce379535>\u001b[0m in \u001b[0;36mtransform\u001b[0;34m(x)\u001b[0m\n\u001b[1;32m      4\u001b[0m     \u001b[0;32mfor\u001b[0m \u001b[0mi\u001b[0m \u001b[0;32min\u001b[0m \u001b[0mrange\u001b[0m\u001b[0;34m(\u001b[0m\u001b[0mlen\u001b[0m\u001b[0;34m(\u001b[0m\u001b[0mx\u001b[0m\u001b[0;34m)\u001b[0m\u001b[0;34m)\u001b[0m\u001b[0;34m:\u001b[0m\u001b[0;34m\u001b[0m\u001b[0m\n\u001b[1;32m      5\u001b[0m         \u001b[0;32mif\u001b[0m \u001b[0mx\u001b[0m\u001b[0;34m[\u001b[0m\u001b[0mi\u001b[0m\u001b[0;34m]\u001b[0m \u001b[0;34m>=\u001b[0m \u001b[0;36m0\u001b[0m\u001b[0;34m:\u001b[0m\u001b[0;34m\u001b[0m\u001b[0m\n\u001b[0;32m----> 6\u001b[0;31m             \u001b[0mV\u001b[0m\u001b[0;34m[\u001b[0m\u001b[0mi\u001b[0m\u001b[0;34m]\u001b[0m \u001b[0;34m=\u001b[0m \u001b[0;36m1\u001b[0m\u001b[0;34m\u001b[0m\u001b[0m\n\u001b[0m\u001b[1;32m      7\u001b[0m         \u001b[0;32melse\u001b[0m\u001b[0;34m:\u001b[0m\u001b[0;34m\u001b[0m\u001b[0m\n\u001b[1;32m      8\u001b[0m             \u001b[0mV\u001b[0m\u001b[0;34m[\u001b[0m\u001b[0mi\u001b[0m\u001b[0;34m]\u001b[0m \u001b[0;34m=\u001b[0m \u001b[0;36m0\u001b[0m\u001b[0;34m\u001b[0m\u001b[0m\n",
      "\u001b[0;31mIndexError\u001b[0m: list assignment index out of range"
     ]
    }
   ],
   "source": [
    "#Exercício 5\n",
    "def transform(x):\n",
    "    V = [len(x)]\n",
    "    for i in range(len(x)):\n",
    "        if x[i] >= 0:\n",
    "            V[i] = 1\n",
    "        else:\n",
    "            V[i] = 0\n",
    "    return(Vf)\n",
    "y = input(\"Insira 30 números separados por vírgulas: \")\n",
    "if len(y) != 30:\n",
    "    print(\"Não foram inseridos 30 números.\")\n",
    "else:\n",
    "    print(transform(x))"
   ]
  },
  {
   "cell_type": "code",
   "execution_count": 0,
   "metadata": {
    "collapsed": true
   },
   "outputs": [
   ],
   "source": [
   ]
  }
 ],
 "metadata": {
  "kernelspec": {
   "display_name": "Python 2 (SageMath)",
   "language": "python",
   "name": "python2"
  },
  "language_info": {
   "codemirror_mode": {
    "name": "ipython",
    "version": 2
   },
   "file_extension": ".py",
   "mimetype": "text/x-python",
   "name": "python",
   "nbconvert_exporter": "python",
   "pygments_lexer": "ipython2",
   "version": "2.7.13"
  }
 },
 "nbformat": 4,
 "nbformat_minor": 0
}