{
 "cells": [
  {
   "cell_type": "markdown",
   "metadata": {
    "collapsed": false
   },
   "source": [
    "# Aula (17-04-2017)"
   ]
  },
  {
   "cell_type": "markdown",
   "metadata": {
    "collapsed": false
   },
   "source": [
    "## Exercício"
   ]
  },
  {
   "cell_type": "code",
   "execution_count": 7,
   "metadata": {
    "collapsed": false
   },
   "outputs": [
    {
     "name": "stdout",
     "output_type": "stream",
     "text": [
      "Insira um valor para A: 4\n",
      "Insira um valor para B: 5\n",
      "Insira um valor para C: -2\n",
      "Raiz1: 19.0996688705. Raiz2: -11.0996688705\n"
     ]
    }
   ],
   "source": [
    "# Ex. 1\n",
    "from math import sqrt\n",
    "Va = input(\"Insira um valor para A: \")\n",
    "Vb = input(\"Insira um valor para B: \")\n",
    "Vc = input(\"Insira um valor para C: \")\n",
    "if type(Va) != int or type(Vb) != int or type(Vc) != int:\n",
    "    print(\"Insira apenas valores inteiros.\")\n",
    "else:\n",
    "    delta = Vb**2-4*Va*Vc\n",
    "    #print(\"Delta = \", delta)\n",
    "    \n",
    "    if delta > 0:\n",
    "        X1 = (-Vc+sqrt(Vb**2-4*Va*Vc))/2*Va\n",
    "        X2 = (-Vc-sqrt(Vb**2-4*Va*Vc))/2*Va\n",
    "        print(\"Raiz1: \"+str(X1)+\". Raiz2: \"+str(X2))\n",
    "    \n",
    "    elif delta == 0:\n",
    "        r = -Vc/2*Va\n",
    "        print(\"A raiz é: \", r)\n",
    "    else:\n",
    "        print(\"Delta negativo. Não existem soluções reais.\")"
   ]
  },
  {
   "cell_type": "code",
   "execution_count": 10,
   "metadata": {
    "collapsed": false
   },
   "outputs": [
    {
     "name": "stdout",
     "output_type": "stream",
     "text": [
      "Insira um valor para o lado A: 4\n",
      "Insira um valor para o lado B: 4\n",
      "Insira um valor para o lado C: 9\n",
      "Impossível formar um triângulo com os valores inseridos.\n"
     ]
    }
   ],
   "source": [
    "# Ex. 2\n",
    "Va = input(\"Insira um valor para o lado A: \")\n",
    "Vb = input(\"Insira um valor para o lado B: \")\n",
    "Vc = input(\"Insira um valor para o lado C: \")\n",
    "if type(Va) != int or type(Vb) != int or type(Vc) != int:\n",
    "    print(\"Insira apenas valores inteiros.\")\n",
    "else:\n",
    "    if (Va < Vb + Vc) and (Vb < Va + Vc) and (Vc < Va + Vb):\n",
    "        if (Va == Vb) and(Vc == Vb):\n",
    "            print(\"O trinângulo é Equilátero.\")\n",
    "        elif (Va == Vb) or (Va == Vc) or (Vb == Vc):\n",
    "            print(\"O triângulo é Isósceles.\")\n",
    "        else:\n",
    "            print(\"O triângulo é Escaleno.\")\n",
    "    else: \n",
    "        print(\"Impossível formar um triângulo com os valores inseridos.\")"
   ]
  },
  {
   "cell_type": "code",
   "execution_count": 13,
   "metadata": {
    "collapsed": false
   },
   "outputs": [
    {
     "name": "stdout",
     "output_type": "stream",
     "text": [
      "Insira um valor para o lado A: 5\n",
      "Insira um valor para o lado B: 6\n",
      "Insira um valor para o lado C: 8\n",
      "O volume do paralelepípedo é: 240. Áreas laterais: 30, 48 e 40.\n"
     ]
    }
   ],
   "source": [
    "# Ex. 3\n",
    "def alat(x1, x2):\n",
    "    return x1*x2\n",
    "Va = input(\"Insira um valor para o lado A: \")\n",
    "Vb = input(\"Insira um valor para o lado B: \")\n",
    "Vc = input(\"Insira um valor para o lado C: \")\n",
    "if type(Va) != int or type(Vb) != int or type(Vc) != int:\n",
    "    print(\"Insira apenas valores inteiros.\")\n",
    "else:\n",
    "    print(\"O volume do paralelepípedo é: \"+str(Va*Vb*Vc)+\". Áreas laterais: \"+str(alat(Va, Vb))+\", \"+str(alat(Vb, Vc))+\" e \"+str(alat(Va, Vc))+\".\")"
   ]
  },
  {
   "cell_type": "code",
   "execution_count": 18,
   "metadata": {
    "collapsed": false
   },
   "outputs": [
    {
     "name": "stdout",
     "output_type": "stream",
     "text": [
      "Insira um número natural: 40.0\n",
      "Os valores pares do do número 40.0 são: ['4', '0', '0']\n"
     ]
    }
   ],
   "source": [
    "# Ex. 4\n",
    "N = input(\"Insira um número natural: \")\n",
    "if type(N) != float:\n",
    "    print(\"O número dever ser natural.\")\n",
    "else:\n",
    "    x =[]\n",
    "    N = str(N)\n",
    "    for i in range(len(N)):\n",
    "        if N[i] != \".\" and int(N[i])%2 == 0:\n",
    "            x.append(N[i])\n",
    "    print(\"Os valores pares do do número \"+N+\" são: \"+str(x))"
   ]
  },
  {
   "cell_type": "code",
   "execution_count": 21,
   "metadata": {
    "collapsed": false
   },
   "outputs": [
    {
     "ename": "SyntaxError",
     "evalue": "invalid syntax (<ipython-input-21-e22b6fc5ed8e>, line 14)",
     "output_type": "error",
     "traceback": [
      "\u001b[0;36m  File \u001b[0;32m\"<ipython-input-21-e22b6fc5ed8e>\"\u001b[0;36m, line \u001b[0;32m14\u001b[0m\n\u001b[0;31m    print<transform(x)>\u001b[0m\n\u001b[0m         ^\u001b[0m\n\u001b[0;31mSyntaxError\u001b[0m\u001b[0;31m:\u001b[0m invalid syntax\n"
     ]
    }
   ],
   "source": [
    "# Ex. 5\n",
    "def transform(x):\n",
    "    Vf = [len(x)]\n",
    "    for i in range(len(x)):\n",
    "        if x[i] >= 0:\n",
    "            Vf[i] = 1\n",
    "        else:\n",
    "            Vf[i] = 0\n",
    "    return(Vf)\n",
    "y = input(\"Insira 30 números separados por vírgulas: \")\n",
    "if len(y) != 30:\n",
    "    print(\"Não foram inseridos 30 números.\")\n",
    "else:\n",
    "    print(transform(x))\n",
    "    \n",
    "# Professor, não entendi o erro que está dando. :("
   ]
  },
  {
   "cell_type": "code",
   "execution_count": 0,
   "metadata": {
    "collapsed": true
   },
   "outputs": [
   ],
   "source": [
   ]
  }
 ],
 "metadata": {
  "kernelspec": {
   "display_name": "Python 2 (SageMath)",
   "language": "python",
   "name": "python2"
  },
  "language_info": {
   "codemirror_mode": {
    "name": "ipython",
    "version": 2
   },
   "file_extension": ".py",
   "mimetype": "text/x-python",
   "name": "python",
   "nbconvert_exporter": "python",
   "pygments_lexer": "ipython2",
   "version": "2.7.13"
  }
 },
 "nbformat": 4,
 "nbformat_minor": 0
}