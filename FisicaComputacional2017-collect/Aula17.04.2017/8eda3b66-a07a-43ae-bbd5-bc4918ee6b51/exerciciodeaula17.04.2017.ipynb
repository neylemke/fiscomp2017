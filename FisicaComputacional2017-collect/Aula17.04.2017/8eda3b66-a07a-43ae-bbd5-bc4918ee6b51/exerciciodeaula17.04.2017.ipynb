{
 "cells": [
  {
   "cell_type": "markdown",
   "metadata": {
    "collapsed": false
   },
   "source": [
    "## Botucatu, 17 de Abril de 2017\n",
    "        "
   ]
  },
  {
   "cell_type": "code",
   "execution_count": null,
   "metadata": {
    "collapsed": false
   },
   "outputs": [],
   "source": [
    "\n"
   ]
  },
  {
   "cell_type": "code",
   "execution_count": null,
   "metadata": {
    "collapsed": true
   },
   "outputs": [],
   "source": []
  }
 ],
 "metadata": {
  "kernelspec": {
   "display_name": "Python 3 (Anaconda)",
   "language": "python",
   "name": "anaconda3"
  }
 },
 "nbformat": 4,
 "nbformat_minor": 0
}
