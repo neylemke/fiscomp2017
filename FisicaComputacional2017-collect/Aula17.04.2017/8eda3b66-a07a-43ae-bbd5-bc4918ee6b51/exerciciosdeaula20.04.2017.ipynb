{
 "cells": [
  {
   "cell_type": "code",
   "execution_count": 4,
   "metadata": {
    "collapsed": false
   },
   "outputs": [
    {
     "ename": "SyntaxError",
     "evalue": "invalid syntax (<ipython-input-4-09b3be336045>, line 5)",
     "output_type": "error",
     "traceback": [
      "\u001b[0;36m  File \u001b[0;32m\"<ipython-input-4-09b3be336045>\"\u001b[0;36m, line \u001b[0;32m5\u001b[0m\n\u001b[0;31m    print \"a = %s\" % (a)\u001b[0m\n\u001b[0m                 ^\u001b[0m\n\u001b[0;31mSyntaxError\u001b[0m\u001b[0;31m:\u001b[0m invalid syntax\n"
     ]
    }
   ],
   "source": [
    "##exercicio 1 - raizer de funcao quadrada\n",
    "a=input(\"Digite o coeficiente 'a'= \")\n",
    "b=input(\"Digite o coeficiente 'b'= \")\n",
    "c=input(\"Digite o coeficiente 'c'= \")\n",
    "\n",
    "print \"a = %s\" % (a)\n",
    "print \"b = %s\" % (b)\n",
    "print \"c = %s\" % (c)\n",
    "delta =  % ((pow(b,2))-4*a*c)\n",
    "print delta\n",
    "\n",
    "if delta < 0:\n",
    "    print \"Equacao sem solucao real\"\n",
    "    import sys\n",
    "\n",
    "if resultado_delta == 0:  \n",
    "    print \"Delta nulo. Equação apresenta apenas uma solução real.\"\n",
    "    print \"%s / 2*%s\" % (-b,a)\n",
    "    print \"%s / 2*%s = %d\" % (-b,a,(-b)/2*a)\n",
    "           \n",
    "else:\n",
    "    import math\n",
    "    print \"%sx^2 + (%s) + (%s) = 0\" % (a,b,c)\n",
    "    float(delta)\n",
    "    delta_quadrado = math.sqrt(delta)\n",
    "    raiz_pos=(-b+raiz_quadrada)\n",
    "    raiz_neg=(-b-raiz_quadrada)\n",
    "    baixo_bsk=(2*a)\n",
    "    resultado_raiz_pos= (raiz_pos,raiz_neg)\n",
    "    resultado_raiz_neg= (raiz_pos,baixo_bsk)\n",
    "    print (b,raiz_pos,raiz_neg)\n",
    "    print (b,raiz_pos,raiz_neg)\n",
    "    print \"Recomendo tomar duas casas apos a virgula.\""
   ]
  },
  {
   "cell_type": "code",
   "execution_count": 3,
   "metadata": {
    "collapsed": false
   },
   "outputs": [
    {
     "ename": "SyntaxError",
     "evalue": "invalid character in identifier (<ipython-input-3-6cf125769722>, line 2)",
     "output_type": "error",
     "traceback": [
      "\u001b[0;36m  File \u001b[0;32m\"<ipython-input-3-6cf125769722>\"\u001b[0;36m, line \u001b[0;32m2\u001b[0m\n\u001b[0;31m    ax² + bx + c=0\u001b[0m\n\u001b[0m      ^\u001b[0m\n\u001b[0;31mSyntaxError\u001b[0m\u001b[0;31m:\u001b[0m invalid character in identifier\n"
     ]
    }
   ],
   "source": [
    "##exercicio 2 \n",
    "lado1 = input('Digite o tamanho do primeiro lado: ')\n",
    "lado2 = input('Digite o segundo lado: ')\n",
    "lado3 = input('Digite o segundo lado: ')\n",
    "\n",
    "if a + b > c:\n",
    "    if a == b and a == c:\n",
    "        print 'Triângulo Equilátero'\n",
    "    elif a == b or b == c or a == c:\n",
    "        print 'Triângulo Isósceles'\n",
    "    elif a != b and c or b != a and c or a != c:\n",
    "        print 'Triângulo Escaleno'\n",
    "\n",
    "else:\n",
    "    print 'Nao e triangulo'\n"
   ]
  },
  {
   "cell_type": "code",
   "execution_count": null,
   "metadata": {
    "collapsed": true
   },
   "outputs": [],
   "source": []
  },
  {
   "cell_type": "code",
   "execution_count": null,
   "metadata": {
    "collapsed": true
   },
   "outputs": [],
   "source": []
  }
 ],
 "metadata": {
  "kernelspec": {
   "display_name": "Python 3 (Anaconda)",
   "language": "python",
   "name": "anaconda3"
  },
  "language_info": {
   "codemirror_mode": {
    "name": "ipython",
    "version": 3
   },
   "file_extension": ".py",
   "mimetype": "text/x-python",
   "name": "python",
   "nbconvert_exporter": "python",
   "pygments_lexer": "ipython3",
   "version": "3.5.3"
  }
 },
 "nbformat": 4,
 "nbformat_minor": 0
}
