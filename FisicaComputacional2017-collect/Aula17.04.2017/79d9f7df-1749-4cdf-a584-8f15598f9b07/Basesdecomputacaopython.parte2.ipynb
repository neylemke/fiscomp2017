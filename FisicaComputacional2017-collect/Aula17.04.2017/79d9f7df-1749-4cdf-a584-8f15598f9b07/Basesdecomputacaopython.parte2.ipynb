{
 "cells": [
  {
   "cell_type": "markdown",
   "metadata": {
    "slideshow": {
     "slide_type": "slide"
    }
   },
   "source": [
    "# Bases de programação em Python (Parte 2)"
   ]
  },
  {
   "cell_type": "markdown",
   "metadata": {
    "slideshow": {
     "slide_type": "subslide"
    }
   },
   "source": [
    "## Sets\n",
    "- Sets (ou, como iremos chamar daqui para a frente, conjuntos) são estruturas disponíveis como builtins do Python, utilizadas para representar coleções desordenadas de elementos únicos. \n",
    "- Os elementos não são armazenados em uma ordem específica e confiável;\n",
    "- Conjuntos não contém elementos repetidos;\n",
    "- A característica número 1 é importante, porque o desenvolvedor jamais deve confiar na ordenação de um conjunto, visto que a ordem em que os elementos são mantidos nos conjuntos varia de implementação para implementação do interpretador Python. "
   ]
  },
  {
   "cell_type": "code",
   "execution_count": 1,
   "metadata": {
    "collapsed": false,
    "scrolled": true
   },
   "outputs": [
    {
     "name": "stdout",
     "output_type": "stream",
     "text": [
      "{1, 2, 3, 4, 5}\n"
     ]
    }
   ],
   "source": [
    "s = {1, 1, 2, 3, 4,5,5,5}\n",
    "print (s)\n"
   ]
  },
  {
   "cell_type": "code",
   "execution_count": 3,
   "metadata": {
    "collapsed": false
   },
   "outputs": [
    {
     "data": {
      "text/plain": [
       "{1, 2, 3, 4}"
      ]
     },
     "execution_count": 3,
     "metadata": {},
     "output_type": "execute_result"
    }
   ],
   "source": [
    "set([1, 2, 3, 4])"
   ]
  },
  {
   "cell_type": "markdown",
   "metadata": {
    "slideshow": {
     "slide_type": "subslide"
    }
   },
   "source": [
    "- Existem várias operações disponíveis nos conjuntos através de métodos, como as operações mais conhecidas de teoria.\n",
    "\n",
    "**1. União**"
   ]
  },
  {
   "cell_type": "code",
   "execution_count": 4,
   "metadata": {
    "collapsed": false
   },
   "outputs": [
    {
     "name": "stdout",
     "output_type": "stream",
     "text": [
      "{1, 2, 3, 4, 5, 6}\n"
     ]
    }
   ],
   "source": [
    "a = {1, 2, 3, 4}\n",
    "b = {3, 4, 5, 6}\n",
    "print (a.union(b))"
   ]
  },
  {
   "cell_type": "markdown",
   "metadata": {
    "slideshow": {
     "slide_type": "subslide"
    }
   },
   "source": [
    "** 2. Interseção**\n",
    "- Essa operação é muito útil quando precisamos descobrir elementos que duas listas possuem em comum:"
   ]
  },
  {
   "cell_type": "code",
   "execution_count": 6,
   "metadata": {
    "collapsed": false
   },
   "outputs": [
    {
     "name": "stdout",
     "output_type": "stream",
     "text": [
      "{2, 3}\n"
     ]
    }
   ],
   "source": [
    "l1 = [1, 2, 3]\n",
    "l2 = [2, 4, 3]\n",
    "l3 = set(l1).intersection(l2)\n",
    "print (l3)"
   ]
  },
  {
   "cell_type": "markdown",
   "metadata": {
    "slideshow": {
     "slide_type": "subslide"
    }
   },
   "source": [
    "**3. Diferença**\n",
    "- A diferença entre dois conjuntos A e B retorna somente os elementos de A que não estão em B, ou seja, retira de A todos os elementos comuns a ambos os conjuntos:"
   ]
  },
  {
   "cell_type": "code",
   "execution_count": 7,
   "metadata": {
    "collapsed": false
   },
   "outputs": [
    {
     "name": "stdout",
     "output_type": "stream",
     "text": [
      "a - b: {1, 2}\n",
      "b - a: {5, 6}\n"
     ]
    }
   ],
   "source": [
    "a = {1, 2, 3, 4}\n",
    "b = {3, 4, 5, 6}\n",
    "print (\"a - b:\", a.difference(b))\n",
    "print (\"b - a:\",b.difference(a))"
   ]
  },
  {
   "cell_type": "markdown",
   "metadata": {
    "slideshow": {
     "slide_type": "subslide"
    }
   },
   "source": [
    "**4. Diferença simétrica**\n",
    "- Diferença simétrica é uma operação sobre os dois conjuntos, que retorna todos os elementos (de ambos os conjuntos a e b) que pertencem a somente um dos conjuntos."
   ]
  },
  {
   "cell_type": "code",
   "execution_count": 8,
   "metadata": {
    "collapsed": false
   },
   "outputs": [
    {
     "name": "stdout",
     "output_type": "stream",
     "text": [
      "{1, 2, 5, 6}\n"
     ]
    }
   ],
   "source": [
    "a = {1, 2, 3, 4}\n",
    "b = {3, 4, 5, 6}\n",
    "print (a.symmetric_difference(b))"
   ]
  },
  {
   "cell_type": "markdown",
   "metadata": {
    "slideshow": {
     "slide_type": "subslide"
    }
   },
   "source": [
    "**5. Pertinência**\n",
    "- Além das operações tradicionais de união, interseção e diferença, também temos operações de verificação de pertinência. A seguir veremos algumas.\n",
    "- Para verificar se um determinado elemento pertence a um conjunto, podemos usar o já conhecido operador de pertinência *in*:"
   ]
  },
  {
   "cell_type": "code",
   "execution_count": 2,
   "metadata": {
    "collapsed": false
   },
   "outputs": [
    {
     "data": {
      "text/plain": [
       "False"
      ]
     },
     "execution_count": 2,
     "metadata": {},
     "output_type": "execute_result"
    }
   ],
   "source": [
    "a = {1, 2, 3, 4}\n",
    "1 in a\n",
    "5 in a"
   ]
  },
  {
   "cell_type": "markdown",
   "metadata": {
    "slideshow": {
     "slide_type": "subslide"
    }
   },
   "source": [
    "## Estrutura de dados - Dicionários\n",
    "\n",
    "- Os dicionários em Python são estruturas de dados que contém pares de chave-valor.\n",
    "\n",
    "![estruturadedados](estdados.png)\n",
    "\n",
    "- São parecidos com as listas, mas o acesso a cada posição da lista é feito de forma diferente.\n",
    "- Para começar, vamos ver as maneiras de definir um dicionário. Sendo assim, inicialmente iremos definir um dicionário vazio:\n"
   ]
  },
  {
   "cell_type": "code",
   "execution_count": 15,
   "metadata": {
    "collapsed": true
   },
   "outputs": [],
   "source": [
    "dicionario = {}"
   ]
  },
  {
   "cell_type": "markdown",
   "metadata": {
    "slideshow": {
     "slide_type": "subslide"
    }
   },
   "source": [
    "- Este dicionário pode receber valores futuramente durante a execução do programa.\n",
    "- Agora, imaginemos como seira montar um dicionário que relacionasse strings para os dias da semana, como 'seg' e 'ter' com números. Indispensável se você for fazer um calendário, não acha?"
   ]
  },
  {
   "cell_type": "code",
   "execution_count": 16,
   "metadata": {
    "collapsed": true
   },
   "outputs": [],
   "source": [
    "dias_semana = {'dom' : 0, 'seg' : 1, 'ter' : 2, 'qua' : 3,\\\n",
    " 'qui' : 4, 'sex' : 5, 'sab' : 6}"
   ]
  },
  {
   "cell_type": "markdown",
   "metadata": {},
   "source": [
    "Nesse exemplo os dias da semana são chamados de _keys_ e os números de _values_.   "
   ]
  },
  {
   "cell_type": "markdown",
   "metadata": {
    "slideshow": {
     "slide_type": "subslide"
    }
   },
   "source": [
    "** 1. *dict ()***\n",
    "- permite transformar listas de tuplas em dicionários."
   ]
  },
  {
   "cell_type": "code",
   "execution_count": 18,
   "metadata": {
    "collapsed": false
   },
   "outputs": [],
   "source": [
    "pontos_cardeais = dict([('N', 0), ('L', 1), ('S', 2), ('O', 3)])"
   ]
  },
  {
   "cell_type": "markdown",
   "metadata": {
    "slideshow": {
     "slide_type": "subslide"
    }
   },
   "source": [
    "- Podemos usar ***List Comprehension*** usá-la para montar um dicionário que relaciona os inteiros de zero a dez e seus respectivos quadrados"
   ]
  },
  {
   "cell_type": "markdown",
   "metadata": {},
   "source": [
    "Vamos inicialmente criar um dicionário contendo um caractere e seu código  ASCII. "
   ]
  },
  {
   "cell_type": "code",
   "execution_count": 20,
   "metadata": {
    "collapsed": false
   },
   "outputs": [
    {
     "data": {
      "text/plain": [
       "{' ': 32,\n",
       " '!': 33,\n",
       " '\"': 34,\n",
       " '#': 35,\n",
       " '$': 36,\n",
       " '%': 37,\n",
       " '&': 38,\n",
       " \"'\": 39,\n",
       " '(': 40,\n",
       " ')': 41,\n",
       " '*': 42,\n",
       " '+': 43,\n",
       " ',': 44,\n",
       " '-': 45,\n",
       " '.': 46,\n",
       " '/': 47,\n",
       " '0': 48,\n",
       " '1': 49,\n",
       " '2': 50,\n",
       " '3': 51,\n",
       " '4': 52,\n",
       " '5': 53,\n",
       " '6': 54}"
      ]
     },
     "execution_count": 20,
     "metadata": {},
     "output_type": "execute_result"
    }
   ],
   "source": [
    "dic_char={chr(i):i for i in range(32,55) }\n",
    "dic_char"
   ]
  },
  {
   "cell_type": "markdown",
   "metadata": {},
   "source": [
    "Para acessar um valor podemos usar a chave: "
   ]
  },
  {
   "cell_type": "code",
   "execution_count": 21,
   "metadata": {
    "collapsed": false
   },
   "outputs": [
    {
     "data": {
      "text/plain": [
       "50"
      ]
     },
     "execution_count": 21,
     "metadata": {},
     "output_type": "execute_result"
    }
   ],
   "source": [
    "dic_char['2']"
   ]
  },
  {
   "cell_type": "markdown",
   "metadata": {},
   "source": [
    "Podemos varrer  os dicionários  por chaves e por values. "
   ]
  },
  {
   "cell_type": "code",
   "execution_count": 22,
   "metadata": {
    "collapsed": false
   },
   "outputs": [
    {
     "data": {
      "text/plain": [
       "['$',\n",
       " '2',\n",
       " '+',\n",
       " '6',\n",
       " ',',\n",
       " '\"',\n",
       " '1',\n",
       " \"'\",\n",
       " '(',\n",
       " '-',\n",
       " ')',\n",
       " '*',\n",
       " '%',\n",
       " '.',\n",
       " '4',\n",
       " '3',\n",
       " ' ',\n",
       " '/',\n",
       " '5',\n",
       " '!',\n",
       " '&',\n",
       " '#',\n",
       " '0']"
      ]
     },
     "execution_count": 22,
     "metadata": {},
     "output_type": "execute_result"
    }
   ],
   "source": [
    "[key for key in dic_char.keys()]"
   ]
  },
  {
   "cell_type": "code",
   "execution_count": 23,
   "metadata": {
    "collapsed": false
   },
   "outputs": [
    {
     "data": {
      "text/plain": [
       "[36,\n",
       " 50,\n",
       " 43,\n",
       " 54,\n",
       " 44,\n",
       " 34,\n",
       " 49,\n",
       " 39,\n",
       " 40,\n",
       " 45,\n",
       " 41,\n",
       " 42,\n",
       " 37,\n",
       " 46,\n",
       " 52,\n",
       " 51,\n",
       " 32,\n",
       " 47,\n",
       " 53,\n",
       " 33,\n",
       " 38,\n",
       " 35,\n",
       " 48]"
      ]
     },
     "execution_count": 23,
     "metadata": {},
     "output_type": "execute_result"
    }
   ],
   "source": [
    "[value for value in dic_char.values()]"
   ]
  },
  {
   "cell_type": "markdown",
   "metadata": {},
   "source": [
    "Vamos  gerar um exemplo mais complexo. "
   ]
  },
  {
   "cell_type": "code",
   "execution_count": 26,
   "metadata": {
    "collapsed": false
   },
   "outputs": [
    {
     "data": {
      "text/plain": [
       "[116, 101, 115, 116, 101]"
      ]
     },
     "execution_count": 26,
     "metadata": {},
     "output_type": "execute_result"
    }
   ],
   "source": [
    "dic_char={chr(i):i for i in range(255) }\n",
    "str=input(\"Entre com uma string\")\n",
    "lis=[dic_char[letter] for letter in str]\n",
    "lis"
   ]
  },
  {
   "cell_type": "code",
   "execution_count": 29,
   "metadata": {
    "collapsed": false
   },
   "outputs": [
    {
     "data": {
      "text/plain": [
       "['0b1110100', '0b1100101', '0b1110011', '0b1110100', '0b1100101']"
      ]
     },
     "execution_count": 29,
     "metadata": {},
     "output_type": "execute_result"
    }
   ],
   "source": [
    "[bin(num) for num in lis]"
   ]
  },
  {
   "cell_type": "markdown",
   "metadata": {
    "slideshow": {
     "slide_type": "subslide"
    }
   },
   "source": [
    "## Estruturas de controle\n",
    "\n",
    "- Os comandos de Python são executados pelo computador, linha por linha e as estruturas de controle permitem ao programador modificar a ordem em que cada comando ser´a executado bem como se ele será ou não executado.\n",
    "\n",
    "\n",
    "\n"
   ]
  },
  {
   "cell_type": "markdown",
   "metadata": {
    "slideshow": {
     "slide_type": "subslide"
    }
   },
   "source": [
    "**1. Estrutura *if***\n",
    "- O comando ***if*** direciona o computador a tomar uma decisão, baseado nas condições determinadas. Se a condição for atendida, um bloco de comandos será executado, caso contrário, o computador executa outros comandos, conforme a estrutura a seguir:\n",
    "\n",
    "```bash \n",
    "if <condição1>: \n",
    "    <comandos>\n",
    "elif <condição 2>:\n",
    "      <comandos>\n",
    "elif <condição 3>:\n",
    "     ....\n",
    "else:\n",
    "    <comandos>```"
   ]
  },
  {
   "cell_type": "markdown",
   "metadata": {
    "slideshow": {
     "slide_type": "subslide"
    }
   },
   "source": [
    "- Segue abaixo um pequeno programa para fazer uma simples checagem da paridade de um número:"
   ]
  },
  {
   "cell_type": "code",
   "execution_count": null,
   "metadata": {
    "collapsed": false
   },
   "outputs": [],
   "source": [
    "# Verifica se um número é par ou impar#\n",
    "n = input(\"Entre com um inteiro: \")\n",
    "if type(n) == int:\n",
    "    if (n % 2) == 0:\n",
    "        print ('%d é um par' % n)\n",
    "    else:\n",
    "        print ('%d é impar' % n)\n",
    "else:\n",
    "    print ('Este número (%s) não é um inteiro!' % n)\n"
   ]
  },
  {
   "cell_type": "markdown",
   "metadata": {
    "slideshow": {
     "slide_type": "subslide"
    }
   },
   "source": [
    "**1. Estrutura *for***\n",
    "- A estrutura de laço for segue a mesma ideia do ***for*** do bash, com a adição da sentença ***else***. No laço ***for***, a variável do laço alterna seu conteúdo com os valores da lista passada e caso nenhum ***break*** seja encontrado, até que o último elemento da lista seja processado, os comandos da sentença ***else*** serão executados.\n",
    "- Sua sintaxe segue a forma abaixo:\n",
    "\n",
    "```bash \n",
    "for <variável> in <lista ou tupla de valores>: \n",
    "    <comandos>\n",
    "    ...\n",
    "    break\n",
    "    continue\n",
    "else:\n",
    "    <comandos>```"
   ]
  },
  {
   "cell_type": "code",
   "execution_count": 9,
   "metadata": {
    "collapsed": false,
    "slideshow": {
     "slide_type": "subslide"
    }
   },
   "outputs": [
    {
     "name": "stdout",
     "output_type": "stream",
     "text": [
      "dom\n",
      "seg\n",
      "ter\n",
      "qua\n",
      "qui\n",
      "sex\n",
      "sab\n"
     ]
    }
   ],
   "source": [
    "semana = ['dom', 'seg', 'ter', 'qua', 'qui', 'sex', 'sab']\n",
    "for s in semana:\n",
    "    print (s)"
   ]
  },
  {
   "cell_type": "code",
   "execution_count": 20,
   "metadata": {
    "collapsed": false
   },
   "outputs": [
    {
     "name": "stdout",
     "output_type": "stream",
     "text": [
      "1\n",
      "2\n",
      "3\n",
      "4\n"
     ]
    }
   ],
   "source": [
    "## Utilizando range\n",
    "for contador in range(1, 5):\n",
    "    print (contador)"
   ]
  },
  {
   "cell_type": "code",
   "execution_count": 1,
   "metadata": {
    "collapsed": false,
    "slideshow": {
     "slide_type": "subslide"
    }
   },
   "outputs": [
    {
     "name": "stdout",
     "output_type": "stream",
     "text": [
      "Imprime os números primos de 1 até n.\n",
      "\n",
      "Entre com o limite superior para o primo: 2\n",
      "\n",
      "São primos:\n",
      "1\n"
     ]
    }
   ],
   "source": [
    "## imprime os primos\n",
    "print ('Imprime os números primos de 1 até n.\\n')\n",
    " \n",
    "# Entra com o limite:\n",
    "n = int(input('Entre com o limite superior para o primo: '))\n",
    " \n",
    "print ('\\nSão primos:')\n",
    "print (1),\n",
    "for i in range(2, n):\n",
    "    for j in range(2, i):\n",
    "        if i % j == 0:\n",
    "            break\n",
    "    else:\n",
    "        print (i),"
   ]
  },
  {
   "cell_type": "markdown",
   "metadata": {
    "slideshow": {
     "slide_type": "subslide"
    }
   },
   "source": [
    "**1. Estrutura *While***\n",
    "- Começaremos por uma estrutura de repetição. O ***loop while*** tem como função repetir determinado bloco de comando, até que uma determinada condição pare de ser atendida.\n",
    "- Para que o bloco seja executado no momento correto, devemos manter uma rígida identação, ou seja, tudo que pertencer ao bloco do while, deve estar um espaço a frente, isto ajuda a deixar o código legível e organizado.\n",
    "- Estrutura de comando:\n",
    "\n",
    "```bash\n",
    "while #condição for verdadeira :\n",
    "   #bloco de comandos pertencentes ao while\n",
    "   #continuação do programa```"
   ]
  },
  {
   "cell_type": "code",
   "execution_count": 2,
   "metadata": {
    "collapsed": false
   },
   "outputs": [
    {
     "name": "stdout",
     "output_type": "stream",
     "text": [
      "Não vou parar nunca!\n",
      "Não vou parar nunca!\n",
      "Não vou parar nunca!\n",
      "Não vou parar nunca!\n",
      "Não vou parar nunca!\n",
      "Não vou parar nunca!\n",
      "Não vou parar nunca!\n",
      "Não vou parar nunca!\n",
      "Não vou parar nunca!\n",
      "Não vou parar nunca!\n",
      "Não vou parar nunca!\n",
      "Não vou parar nunca!\n",
      "Não vou parar nunca!\n",
      "Não vou parar nunca!\n",
      "Não vou parar nunca!\n",
      "Não vou parar nunca!\n",
      "Não vou parar nunca!\n",
      "Não vou parar nunca!\n",
      "Não vou parar nunca!\n",
      "Não vou parar nunca!\n",
      "Não vou parar nunca!\n",
      "Não vou parar nunca!\n",
      "Não vou parar nunca!\n",
      "Não vou parar nunca!\n",
      "Não vou parar nunca!\n",
      "Não vou parar nunca!\n",
      "Não vou parar nunca!\n",
      "Não vou parar nunca!\n",
      "Não vou parar nunca!\n",
      "Não vou parar nunca!\n",
      "Não vou parar nunca!\n",
      "Não vou parar nunca!\n",
      "Não vou parar nunca!\n",
      "Não vou parar nunca!\n",
      "Não vou parar nunca!\n",
      "Não vou parar nunca!\n",
      "Não vou parar nunca!\n",
      "Não vou parar nunca!\n",
      "Não vou parar nunca!\n",
      "Não vou parar nunca!\n",
      "Não vou parar nunca!\n",
      "Não vou parar nunca!\n",
      "Não vou parar nunca!\n",
      "Não vou parar nunca!\n",
      "Não vou parar nunca!\n",
      "Não vou parar nunca!\n",
      "Não vou parar nunca!\n",
      "Não vou parar nunca!\n",
      "Não vou parar nunca!\n",
      "Não vou parar nunca!\n",
      "Não vou parar nunca!\n",
      "Não vou parar nunca!\n",
      "Não vou parar nunca!\n",
      "Não vou parar nunca!\n",
      "Não vou parar nunca!\n",
      "Não vou parar nunca!\n",
      "Não vou parar nunca!\n",
      "Não vou parar nunca!\n",
      "Não vou parar nunca!\n",
      "Não vou parar nunca!\n",
      "Não vou parar nunca!\n",
      "Não vou parar nunca!\n",
      "Não vou parar nunca!\n",
      "Não vou parar nunca!\n",
      "Não vou parar nunca!\n",
      "Não vou parar nunca!\n",
      "Não vou parar nunca!\n",
      "Não vou parar nunca!\n",
      "Não vou parar nunca!\n",
      "Não vou parar nunca!\n",
      "Não vou parar nunca!\n",
      "Não vou parar nunca!\n",
      "Não vou parar nunca!\n",
      "Não vou parar nunca!\n",
      "Não vou parar nunca!\n",
      "Não vou parar nunca!\n",
      "Não vou parar nunca!\n",
      "Não vou parar nunca!\n",
      "Não vou parar nunca!\n",
      "Não vou parar nunca!\n",
      "Não vou parar nunca!\n",
      "Não vou parar nunca!\n",
      "Não vou parar nunca!\n",
      "Não vou parar nunca!\n",
      "Não vou parar nunca!\n",
      "Não vou parar nunca!\n",
      "Não vou parar nunca!\n",
      "Não vou parar nunca!\n",
      "Não vou parar nunca!\n",
      "Não vou parar nunca!\n",
      "Não vou parar nunca!\n",
      "Não vou parar nunca!\n",
      "Não vou parar nunca!\n",
      "Não vou parar nunca!\n",
      "Não vou parar nunca!\n",
      "Não vou parar nunca!\n",
      "Não vou parar nunca!\n",
      "Não vou parar nunca!\n",
      "Não vou parar nunca!\n",
      "Não vou parar nunca!\n",
      "Não vou parar nunca!\n"
     ]
    }
   ],
   "source": [
    "## Calcular numero fatorial\n",
    "i = 0\n",
    "while True:\n",
    "    print (\"Não vou parar nunca!\")\n",
    "    i = i + 1\n",
    "    if i > 100:\n",
    "        break  "
   ]
  },
  {
   "cell_type": "markdown",
   "metadata": {
    "slideshow": {
     "slide_type": "subslide"
    }
   },
   "source": [
    "## Funções\n",
    "\n",
    "- As linguagens de programação em geral têm o intuito de automatizar ações tornando-as mais rápidas.\n",
    "- Se houver alguma ação que seja grande e utilizada com frequência, temos a opção de criar uma função que cumpra o seu objetivo, reduzindo o espaço ocupado pelo nosso programa final.\n",
    "- Essas funções também são muito úteis na tarefa de debuggar o seu código, visto que você não precisará vasculhar o código atrás do erro, basta entrar na função e modifcá-la.\n",
    "- Se em um determinado problema, precisarmos descobrir se dois valores absolutos são iguais podemos utilizar o código 1, descrito abaixo, todas as vezes que precisarmos realizar essa descoberta, ou podemos simplesmente usar o código 2 criando uma função que cumpra esse objetivo exigindo apenas que apresentemos os valores que devemos analisar.\n",
    "- Dado que temos os valores: a = 23 b = -23"
   ]
  },
  {
   "cell_type": "markdown",
   "metadata": {
    "slideshow": {
     "slide_type": "subslide"
    }
   },
   "source": [
    "**Código 1**\n",
    "\n",
    "```bash\n",
    "if a < 0:\n",
    "    a= -a\n",
    "    if b < 0:\n",
    "        b=-a\n",
    "        if b < 0:\n",
    "            b=-b\n",
    "            if a == b:\n",
    "                print ('Os valores absolutos de ', a, ' e ', b, ' são iguais')```"
   ]
  },
  {
   "cell_type": "markdown",
   "metadata": {
    "slideshow": {
     "slide_type": "subslide"
    }
   },
   "source": [
    "**Código 2**\n",
    "```bash \n",
    "def compara_absolutos(a,b):\n",
    "   \" Essa função retorna se os valores absolutos das variáveis requeridas são iguais\"\n",
    "     if a < 0:\n",
    "         a = -a\n",
    "         if b < 0:\n",
    "             b = -b\n",
    "             if a == b:\n",
    "                 print ('Os valores absolutos de ', a, ' e ', b, ' são iguais')\n",
    "                 else:\n",
    "                   print ('Os valores absolutos de ', a, ' e ', b, ' são iguais')```"
   ]
  },
  {
   "cell_type": "markdown",
   "metadata": {
    "slideshow": {
     "slide_type": "subslide"
    }
   },
   "source": [
    "** 1. Definindo funções**\n",
    "- Formato geral de uma função:\n",
    "\n",
    "```bash \n",
    "   def nome (arg, arg, ... arg):\n",
    "      comando\n",
    "      . . . \n",
    "      comand```"
   ]
  },
  {
   "cell_type": "markdown",
   "metadata": {
    "slideshow": {
     "slide_type": "subslide"
    }
   },
   "source": [
    "** 2.  Argumentos de Funções**\n",
    "- Argumentos (ou parâmetros) são como variáveis que recebem seus valores iniciais do chamador. Essas variáveis, assim como outras definidas dentro da função são ditas locais, isto é, só existem no lugar onde foram definidas.\n",
    "- Ao retornar ao ponto de chamada, as variáveis locais são descartadas.\n",
    "- Se uma função define n argumentos, valores para todos eles devem ser passados pelo chamador. Com Exceção: argumentos com valores default.\n",
    "- Veja o exemplo abaixo:"
   ]
  },
  {
   "cell_type": "code",
   "execution_count": 6,
   "metadata": {
    "collapsed": false
   },
   "outputs": [],
   "source": [
    "def f(x):\n",
    "    return x*x"
   ]
  },
  {
   "cell_type": "code",
   "execution_count": 7,
   "metadata": {
    "collapsed": false
   },
   "outputs": [
    {
     "data": {
      "text/plain": [
       "1"
      ]
     },
     "execution_count": 7,
     "metadata": {},
     "output_type": "execute_result"
    }
   ],
   "source": [
    "f(1)"
   ]
  },
  {
   "cell_type": "markdown",
   "metadata": {
    "slideshow": {
     "slide_type": "subslide"
    }
   },
   "source": [
    "** 3. Argumentos *default***\n",
    "- É possível dar valores default a argumentos se o chamador não especificar valores para esses argumentos:\n",
    "- Se apenas alguns argumentos têm default, esses devem ser os últimos, pois senão haveria ambigüidade na passagem de argumentos.\n",
    "- Formato: \n",
    "\n",
    "```bash\n",
    "def nome (arg1=default1, ..., argN=defaultN)```"
   ]
  },
  {
   "cell_type": "markdown",
   "metadata": {},
   "source": [
    "** Exemplos**"
   ]
  },
  {
   "cell_type": "code",
   "execution_count": 9,
   "metadata": {
    "collapsed": true
   },
   "outputs": [],
   "source": [
    "def f(nome,saudacao=\"Oi\",pontuacao=\"!!\"):\n",
    "    return saudacao+\",\"+nome+pontuacao"
   ]
  },
  {
   "cell_type": "code",
   "execution_count": 11,
   "metadata": {
    "collapsed": false
   },
   "outputs": [
    {
     "data": {
      "text/plain": [
       "'Oi,Joao!!'"
      ]
     },
     "execution_count": 11,
     "metadata": {},
     "output_type": "execute_result"
    }
   ],
   "source": [
    " f(\"Joao\")"
   ]
  },
  {
   "cell_type": "markdown",
   "metadata": {
    "slideshow": {
     "slide_type": "subslide"
    }
   },
   "source": [
    "**4. Funções definidas em funções**\n",
    "- Observe que, se uma função g foi definida dentro de outra função f, então, se g é armazenada numa variável ou  transmitida para outra função ela carrega com si os valores do escopo de f (mas não o escopo global). \n",
    "- Veja o exemplo a seguir:"
   ]
  },
  {
   "cell_type": "code",
   "execution_count": 12,
   "metadata": {
    "collapsed": true
   },
   "outputs": [],
   "source": [
    "x=2\n",
    "def f(y):\n",
    "    def g(z):\n",
    "        return x*y*z\n",
    "    return g"
   ]
  },
  {
   "cell_type": "code",
   "execution_count": 13,
   "metadata": {
    "collapsed": true
   },
   "outputs": [],
   "source": [
    "h=f(3)"
   ]
  },
  {
   "cell_type": "code",
   "execution_count": 14,
   "metadata": {
    "collapsed": false
   },
   "outputs": [
    {
     "data": {
      "text/plain": [
       "6"
      ]
     },
     "execution_count": 14,
     "metadata": {},
     "output_type": "execute_result"
    }
   ],
   "source": [
    "h(1)"
   ]
  },
  {
   "cell_type": "markdown",
   "metadata": {
    "slideshow": {
     "slide_type": "subslide"
    }
   },
   "source": [
    "**4. Módulos**\n",
    "- Pensando na reutilização de código, a linguagem Python já possui um conjunto de funções prontas para serem usadas ou agregadas em seus programas. Essas funções estão agrupadas em estruturas denominadas módulos. Para a utilização desses módulos é preciso utilizar o comando **import nome_do_módulo**.\n",
    "- Após ter importado o módulo, qualquer função pertencente a ele pode ser utilizada através do comando **nome_do_módulo.função(argumento)**.\n",
    "- É possível importar do módulo apenas a função desejada. Para isso, utilizamos o comando **from nome_do_módulo import função**, e a função estará disponível para utilização.\n",
    "- É possível definir o seu próprio módulo. Defini-se as funções desejadas e ao final, você salva o seu módulo com a extensão *.py*.  Veja o exemplo:"
   ]
  },
  {
   "cell_type": "code",
   "execution_count": 2,
   "metadata": {
    "collapsed": false,
    "slideshow": {
     "slide_type": "subslide"
    }
   },
   "outputs": [],
   "source": [
    "#IMC.py\n",
    "def indice(altura,peso):\n",
    "    return peso/(altura**2)\n",
    "\n",
    "\n",
    "def estado(imc):\n",
    "    if imc < 24.9:\n",
    "        print ('NORMAL')\n",
    "    elif 24.9 < imc < 29.9:\n",
    "        print ('PESO A MAIS')\n",
    "    elif 24.9 < imc < 29.9:\n",
    "        print ('LIGEIRA OBESIDADE')\n",
    "    elif imc > 40:\n",
    "        print ('OBESIDADE')\n",
    "    else:\n",
    "        print ('MAGRO DEMAIS')\n",
    "                        \n",
    "def pesoideal(peso,altura):\n",
    "    a=20*(altura**2)\n",
    "    b= 24.9*(altura**2)\n",
    "    print ('Seu peso ideal se encontra entre %f e %f' %(a,b))"
   ]
  },
  {
   "cell_type": "markdown",
   "metadata": {},
   "source": [
    "- Agora, salve o seu arquivo como IMC.py . De agora em diante, o módulo já pode ser utilizado por qualquer programa em Python."
   ]
  },
  {
   "cell_type": "markdown",
   "metadata": {
    "slideshow": {
     "slide_type": "subslide"
    }
   },
   "source": [
    "## Pacotes\n",
    "- Quando nossos módulos ficarem maiores, não vamos querer ter cinquenta classes e trezentas funções em um único arquivo. Vamos querer separar em diversos módulos. É para isso que pacotes existem.\n",
    "- Pacotes são módulos Python que podem conter outros pacotes. Em termos de armazenamento, enquanto módulos são estruturados em arquivos, pacotes são estruturados em pastas.\n",
    "- Para demonstração, vamos criar um pacote de utilitários com a seguinte estrutura e tabela de símbolos (apenas algumas classes e funções de exemplo):\n",
    "\n",
    "```bash\n",
    "util/\n",
    "    __init__.py\n",
    "    sort.py [quicksort(), bubblesort()]\n",
    "    string/\n",
    "        __init__.py\n",
    "        format.py [Parser, Validator]\n",
    "        io.py [StringIO]\n",
    "    number/\n",
    "        __init__.py\n",
    "        format.py [DoubleFormat, IntFormat]```"
   ]
  },
  {
   "cell_type": "markdown",
   "metadata": {
    "slideshow": {
     "slide_type": "subslide"
    }
   },
   "source": [
    "**E o que são esses arquivos __init__.py? **\n",
    "- Esses são arquivos especiais e servem para que o interpretador possa identificar quais diretórios são pacotes e quais não são. Isso serve para que você possa explicitamente especificar quais pastas fazem parte da interface de seu pacote. Afinal, algumas podem conter apenas dados, por exemplo, imagens, dentre outros arquivos que não são módulos Python. Na maioria dos casos, o conteúdo dos arquivos __init__.py podem ser vazios.\n",
    "\n",
    "**1. Como importar pacotes**\n",
    "\n",
    "#####  ==> Importar todos os módulos de um pacote\n",
    "- O Para importar todos os módulos de um pacote utilizamos apenas o **import \"pacote\"**. Veja o exemplo a seguir:"
   ]
  },
  {
   "cell_type": "code",
   "execution_count": 3,
   "metadata": {
    "collapsed": false
   },
   "outputs": [
    {
     "name": "stdout",
     "output_type": "stream",
     "text": [
      "5.0\n"
     ]
    }
   ],
   "source": [
    "import math\n",
    "print(math.sqrt(25))"
   ]
  },
  {
   "cell_type": "markdown",
   "metadata": {
    "slideshow": {
     "slide_type": "subslide"
    }
   },
   "source": [
    "##### ==> Importar um módulo do pacote\n",
    "- Para importar apenas um módulo utilizamos o **import \"pacote\"from**. Veja o exemplo abaixo."
   ]
  },
  {
   "cell_type": "code",
   "execution_count": 4,
   "metadata": {
    "collapsed": false
   },
   "outputs": [
    {
     "name": "stdout",
     "output_type": "stream",
     "text": [
      "5.0\n"
     ]
    }
   ],
   "source": [
    "from math import sqrt\n",
    "print(sqrt(25))"
   ]
  },
  {
   "cell_type": "markdown",
   "metadata": {
    "slideshow": {
     "slide_type": "subslide"
    }
   },
   "source": [
    "- Observe que ao utilizar from package import item, o item pode ser um subpacote, submódulo, classe, função ou variável.\n",
    "- O comando import primeiro testa se o item está definido no pacote, senão assume que é um módulo e tenta carregá-lo. Se falhar em encontrar o módulo uma exceção ImportError é lançada (documentação Python).\n",
    "\n",
    "##### ==> Importar todas as funções do math\n",
    "- Para diminuir o tempo de digitação costuma-se a importar todas as funções do pacote ***math*** utilizando o ***from math import ****\n",
    "- Em geral, a prática do import * de um módulo ou pacote é desaprovada, uma vez que muitas vezes dificulta a leitura do código. O uso no terminal, com dito, é muito comum. Veja o próximo exemplo:\n",
    "\n"
   ]
  },
  {
   "cell_type": "code",
   "execution_count": 5,
   "metadata": {
    "collapsed": true
   },
   "outputs": [],
   "source": [
    "from math import *"
   ]
  },
  {
   "cell_type": "code",
   "execution_count": 6,
   "metadata": {
    "collapsed": false
   },
   "outputs": [
    {
     "data": {
      "text/plain": [
       "3.141592653589793"
      ]
     },
     "execution_count": 6,
     "metadata": {},
     "output_type": "execute_result"
    }
   ],
   "source": [
    "pi"
   ]
  },
  {
   "cell_type": "markdown",
   "metadata": {
    "slideshow": {
     "slide_type": "subslide"
    }
   },
   "source": [
    "- Também é possível carregar um pacote utilizando-se de ***Import \"pacote\" as \"inicial\"***.\n",
    "- Veja o exemplo abaixo."
   ]
  },
  {
   "cell_type": "code",
   "execution_count": 1,
   "metadata": {
    "collapsed": true
   },
   "outputs": [],
   "source": [
    "import math as m"
   ]
  },
  {
   "cell_type": "code",
   "execution_count": 4,
   "metadata": {
    "collapsed": false
   },
   "outputs": [
    {
     "data": {
      "text/plain": [
       "-0.9880316240928618"
      ]
     },
     "execution_count": 4,
     "metadata": {},
     "output_type": "execute_result"
    }
   ],
   "source": [
    "m.sin(30)"
   ]
  },
  {
   "cell_type": "markdown",
   "metadata": {
    "slideshow": {
     "slide_type": "subslide"
    }
   },
   "source": [
    "### Exercícios\n",
    "== >Crie um notebook jupyter com nome **Exerciciodeaula17.03.2017** no próprio diretório dessa aula e em modo MarkDown coloque a data de hoje da aula de hoje. (Fazer até as 16:00).\n",
    "\n",
    "\n",
    "==> (Valendo 0.5 pts - Entregar até o dia 20.04) \n",
    "**- 1. Calcule as raízes da equação do 2◦ grau ($Ax^2 + Bx + C = 0$) sendo os valores de A, B e C fornecidos pelo usuário, levando em consideração a existência de raízes reais.**\n",
    "\n",
    "**- 2. Dados três valores A, B e C, verifique se eles podem ser os comprimentos dos lados de um triângulo. Se forem, verificar se compõem um triângulo equilátero, isósceles ou escaleno. Informar se não compuserem nenhum triângulo. Lembrando que:**\n",
    "- Triângulo: (A < B + C) e (B < A + C) e (C < A + B)\n",
    "- Equilátero: (A = B) e (B = C)\n",
    "- Isósceles: (A = B) ou (A = C) ou (B = C)\n",
    "- Escaleno: (A <> B) e (B <> C) e (A <> C)\n",
    "\n",
    "**- 3. Construa uma função que calcule o volume de um paralelepído de lados a, b e c. Construa uma função que calcule a área lateral do mesmo paralelepipido. **\n",
    "\n",
    "**- 4. Implemente uma função que conte o número de algarismos pares em um número natural.**\n",
    "\n",
    "**- 5. faça um algoritmo que solicite ao usuário números e os armazene em um vetor de 30 posições. Crie uma função que recebe o vetor preenchido e substitua todas as ocorrência de valores positivos por 1 e todos os valores negativos por 0.**\n",
    "\n",
    "**- 6. Pesquise e monte um notebook em modo Markdown qual a função  e exemplos da utilização dos seguintes pacotes: ***math***, ***numpy***, ***matplotlib***, ***pandas*** e **string**. "
   ]
  }
 ],
 "metadata": {
  "celltoolbar": "Slideshow",
  "kernelspec": {
   "display_name": "Python 3",
   "language": "python",
   "name": "python3"
  },
  "language_info": {
   "codemirror_mode": {
    "name": "ipython",
    "version": 3
   },
   "file_extension": ".py",
   "mimetype": "text/x-python",
   "name": "python",
   "nbconvert_exporter": "python",
   "pygments_lexer": "ipython3",
   "version": "3.4.3+"
  }
 },
 "nbformat": 4,
 "nbformat_minor": 1
}
