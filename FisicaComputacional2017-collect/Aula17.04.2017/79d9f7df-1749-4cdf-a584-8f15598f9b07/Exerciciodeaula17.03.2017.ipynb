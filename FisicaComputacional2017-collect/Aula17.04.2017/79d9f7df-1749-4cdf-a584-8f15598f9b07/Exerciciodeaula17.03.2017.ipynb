{
 "cells": [
  {
   "cell_type": "markdown",
   "metadata": {
    "collapsed": false
   },
   "source": [
    "# DATA DE HOJE : 17 de Abril de 2017"
   ]
  },
  {
   "cell_type": "markdown",
   "metadata": {
    "collapsed": true
   },
   "source": [
    "### exerc 1"
   ]
  },
  {
   "cell_type": "markdown",
   "metadata": {},
   "source": [
    "# Todos os exercicios aqui foram feitos no dia 20/04/2017"
   ]
  },
  {
   "cell_type": "code",
   "execution_count": 42,
   "metadata": {
    "collapsed": false
   },
   "outputs": [
    {
     "name": "stdout",
     "output_type": "stream",
     "text": [
      "A= 1\n",
      "B= 2\n",
      "C= 3\n",
      "A equação não possui raizes reais\n"
     ]
    }
   ],
   "source": [
    "a = input(\"A= \")\n",
    "b = input(\"B= \")\n",
    "c = input(\"C= \")\n",
    "\n",
    "import math\n",
    " \n",
    "delta = (b*b-4*a*c)\n",
    " \n",
    "if delta < 0:\n",
    "    print \"A equação não possui raizes reais\"\n",
    "elif delta == 0:\n",
    "    raiz = ((-1*b+math.sqrt(delta))/(2*a))\n",
    "    print \"A raiz da equação é: \",raiz\n",
    "else:\n",
    "    raiz1 = ((-1*b + math.sqrt(delta))/(2*a))\n",
    "    raiz2 = ((-1*b - math.sqrt(delta))/(2*a))   \n",
    "    print \" raiz x1 = \",raiz1,\"  raiz x2 = \",raiz2\n"
   ]
  },
  {
   "cell_type": "markdown",
   "metadata": {},
   "source": [
    "### exerc 2\n"
   ]
  },
  {
   "cell_type": "code",
   "execution_count": 38,
   "metadata": {
    "collapsed": false
   },
   "outputs": [
    {
     "name": "stdout",
     "output_type": "stream",
     "text": [
      "A= 34\n",
      "B= 67889\n",
      "C= 4\n",
      "O triangulo é escaleno\n"
     ]
    }
   ],
   "source": [
    "A = input(\"A= \")\n",
    "B = input(\"B= \")\n",
    "C = input(\"C= \")\n",
    "\n",
    "\n",
    "if (A+B)>C and (A+C)>B and (B+C)>A:\n",
    "   print 'formam um triângulo'\n",
    "if not (A+B)>C and (A+C)>B and (B+C)>A:\n",
    "   print 'não formam um triângulo'\n",
    "elif A==B and A==C:\n",
    "   print 'O triângulo é equilatero'\n",
    "elif A!=B and A!=C and B!=C:\n",
    "   print 'O triangulo é escaleno'\n",
    "else:\n",
    "   print 'O triangulo ee isosceles'\n",
    "\n",
    "    "
   ]
  },
  {
   "cell_type": "markdown",
   "metadata": {},
   "source": [
    "## exerc 3"
   ]
  },
  {
   "cell_type": "code",
   "execution_count": 40,
   "metadata": {
    "collapsed": false
   },
   "outputs": [
    {
     "name": "stdout",
     "output_type": "stream",
     "text": [
      "forneça os lados do paralelepipedo\n",
      "A= 2\n",
      "B= 3\n",
      "C= 4\n",
      "Volume 24\n",
      "Area Lateral 28\n"
     ]
    }
   ],
   "source": [
    "print 'forneça os lados do paralelepipedo'\n",
    "A = input(\"A= \")\n",
    "B = input(\"B= \")\n",
    "C = input(\"C= \")\n",
    "\n",
    "Volume = A*B*C\n",
    "print 'Volume',Volume\n",
    "\n",
    "Arealateral = 2*((A*C)+(A*B))\n",
    "print 'Area Lateral', Arealateral\n"
   ]
  },
  {
   "cell_type": "markdown",
   "metadata": {},
   "source": [
    "## exerc 4\n"
   ]
  },
  {
   "cell_type": "code",
   "execution_count": 1,
   "metadata": {
    "collapsed": false
   },
   "outputs": [
    {
     "name": "stdout",
     "output_type": "stream",
     "text": [
      "digite um numero natural123456\n",
      "qtd de pares 3\n"
     ]
    }
   ],
   "source": [
    "N = str(input ('digite um numero natural '))\n",
    "def algorismos(N):\n",
    "    return len([alg for alg in N if int(alg)%2==0])\n",
    "print \"qtd de pares\",algorismos(N)"
   ]
  },
  {
   "cell_type": "markdown",
   "metadata": {},
   "source": [
    "## exerc 5\n"
   ]
  },
  {
   "cell_type": "code",
   "execution_count": 10,
   "metadata": {
    "collapsed": false
   },
   "outputs": [
    {
     "name": "stdout",
     "output_type": "stream",
     "text": [
      "defina tamanho do vetor - para esse exercicio use 30: 4\n",
      "valores 2\n",
      "valores 1\n",
      "valores 3\n",
      "valores -1\n",
      "positivo = 1; negativo = 0 :  [1, 1, 1, 0]\n"
     ]
    }
   ],
   "source": [
    "X= input (\"defina tamanho do vetor - para esse exercicio use 30: \") # teste - para esse exercicio tamanho do vetor é 30\n",
    "N = [int(input(\"valores \". format(i))) for i in range (X)]\n",
    "N1 = []\n",
    "\n",
    "for j in range (len(N)):\n",
    "    if N[j]>0:\n",
    "        N1.append(1)\n",
    "    else:\n",
    "        N1.append(0)\n",
    "        \n",
    "\n",
    "print 'positivo = 1; negativo = 0 : ', N1"
   ]
  },
  {
   "cell_type": "markdown",
   "metadata": {},
   "source": [
    "## exer 6"
   ]
  },
  {
   "cell_type": "markdown",
   "metadata": {},
   "source": [
    "### uso de *math - usei no exercicio 1 (recorte abaixo) - funçao de executar operaçoes matematicas\n",
    "\n",
    "import math\n",
    " \n",
    "delta = (b*b-4*a*c)\n",
    " \n",
    "if delta < 0:\n",
    "    print \"A equação não possui raizes reais\"\n",
    "elif delta == 0:\n",
    "    raiz = ((-1*b+math.sqrt(delta))/(2*a))\n",
    "    print \"A raiz da equação é: \",raiz\n",
    "    \n",
    "\n",
    "### uso de numpy  para processamento de matriz para numeros, strings, registros e objetos\n",
    " import numpy as np\n",
    " a = np.array([2,3,4])\n",
    " a\n",
    "array([2, 3, 4])\n",
    " a.dtype\n",
    "dtype('int64')\n",
    " b = np.array([1.2, 3.5, 5.1])\n",
    " b.dtype\n",
    "dtype('float64')\n",
    "\n",
    "### uso de matplotlib - plota dados de forma similiar ao que seria mostrado no matlab\n",
    "\n",
    "##### exemplo: nesse caso ele plotaria uma reta\n",
    "\n",
    "import matplotlib.pyplot as plt\n",
    "plt.plot([1,2,3,4])\n",
    "plt.ylabel('some numbers')\n",
    "plt.show()\n",
    "\n",
    "### uso de pandas - criacao de DataFrames  que são estruturas que comportam dados de forma tabelas\n",
    "\n",
    "import pandas as pd\n",
    "\n",
    "df_data = {'pais': ['Brasil', 'Argentina','Argentina', 'Brasil', 'Chile','Chile'],\n",
    "           'ano': [2005, 2006, 2005, 2006, 2007, 2008],\n",
    "           'populacao': [170.1, 30.5, 32.2, 172.6, 40.8, 42.0]}\n",
    "df = pd.DataFrame(df_data)\n",
    "print(df)\n",
    "\n",
    "    ano       pais  populacao\n",
    "0  2005     Brasil      170.1\n",
    "1  2006  Argentina       30.5\n",
    "2  2005  Argentina       32.2\n",
    "3  2006     Brasil      172.6\n",
    "4  2007      Chile       40.8\n",
    "5  2008      Chile       42.0\n",
    "\n",
    "\n",
    "### uso de string - Strings são qualitativamente diferentes dos outros dois tipos porque são feitas de pedaços menores - caracteres.\n",
    "\n",
    "##### Tipos que consistem de pedaços menores são chamados tipos de dados compostos\n",
    "\n",
    "###### exemplo  - operador colchete seleciona um único caractere de uma string.:\n",
    "\n",
    "fruta = \"banana\"\n",
    "letra = fruta[1]\n",
    "print letra\n",
    "\n"
   ]
  },
  {
   "cell_type": "code",
   "execution_count": null,
   "metadata": {
    "collapsed": true
   },
   "outputs": [],
   "source": []
  }
 ],
 "metadata": {
  "kernelspec": {
   "display_name": "Python 2",
   "language": "python",
   "name": "python2"
  },
  "language_info": {
   "codemirror_mode": {
    "name": "ipython",
    "version": 2
   },
   "file_extension": ".py",
   "mimetype": "text/x-python",
   "name": "python",
   "nbconvert_exporter": "python",
   "pygments_lexer": "ipython2",
   "version": "2.7.13"
  }
 },
 "nbformat": 4,
 "nbformat_minor": 0
}
