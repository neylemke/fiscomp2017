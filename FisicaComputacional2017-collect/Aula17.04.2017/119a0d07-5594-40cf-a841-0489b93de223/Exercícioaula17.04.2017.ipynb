{
 "cells": [
  {
   "cell_type": "markdown",
   "metadata": {
    "collapsed": false
   },
   "source": [
    "17/04/2017\n"
   ]
  },
  {
   "cell_type": "code",
   "execution_count": 4,
   "metadata": {
    "collapsed": false,
    "scrolled": true
   },
   "outputs": [
    {
     "name": "stdout",
     "output_type": "stream",
     "text": [
      "insira o valor de a, 2\n",
      "insira o valor de b, 3\n",
      "insira o valor de c, 4\n",
      "o valor das raizes sao:\n",
      "-34\n",
      "28\n"
     ]
    }
   ],
   "source": [
    "a= input(\"insira o valor de a, \")\n",
    "b= input(\"insira o valor de b, \")\n",
    "c= input(\"insira o valor de c, \")\n",
    "delta=(b**2)-4*a*c\n",
    "print \"delta = \", delta\n",
    "if delta < 0:\n",
    "    print \"as raízes são complexas!\"\n",
    "if delta > 0:\n",
    "    x1= (-b+(delta**0.5))/(2*a)\n",
    "    x2= (-b-(delta**0.5))/(2*a)\n",
    "    print(\"os valores das raizes sao:\")\n",
    "    print \"x1 = \", x1\n",
    "    print \"x2 = \", x2\n",
    "if delta == 0:\n",
    "    x = (-b)/(2*a)\n",
    "    print \"existe apenas uma raíz: x = \", x"
   ]
  },
  {
   "cell_type": "code",
   "execution_count": 3,
   "metadata": {
    "collapsed": false
   },
   "outputs": [
    {
     "name": "stdout",
     "output_type": "stream",
     "text": [
      "Digite o tamanho do lado A: 2\n",
      "Digite o tamanho do lado B: 3\n",
      "Digite o tamanho do lado C: 4\n",
      "Triângulo Escaleno\n"
     ]
    }
   ],
   "source": [
    "A = input('Digite o tamanho do lado A: ')\n",
    "B = input('Digite o tamanho do lado B: ')\n",
    "C = input('Digite o tamanho do lado C: ')\n",
    "\n",
    "if A + B > C and B + C > A and A + C > B:\n",
    "    if A == B and A == C:\n",
    "        print 'Triângulo Equilátero'\n",
    "    elif A == B or B == C or A == C:\n",
    "        print 'Triângulo Isósceles'\n",
    "    elif A != B and C or B != A and C or C != A and B:\n",
    "        print 'Triângulo Escaleno'\n",
    "\n",
    "else:\n",
    "    print 'Não é possível formar um triângulo !'"
   ]
  },
  {
   "cell_type": "code",
   "execution_count": 2,
   "metadata": {
    "collapsed": false
   },
   "outputs": [
    {
     "name": "stdout",
     "output_type": "stream",
     "text": [
      "Digite o tamanho do lado A: 2\n",
      "Digite o tamanho do lado B: 3\n",
      "Digite o tamanho do lado C: 4\n",
      "o volume do paralelepipedo é. \n",
      "24\n"
     ]
    }
   ],
   "source": [
    "A = input('Digite o tamanho do lado A: ')\n",
    "B = input('Digite o tamanho do lado B: ')\n",
    "C = input('Digite o tamanho do lado C: ')\n",
    "v = A*B*C\n",
    "print(\"o volume do paralelepipedo é. \")\n",
    "print(v)"
   ]
  },
  {
   "cell_type": "code",
   "execution_count": null,
   "metadata": {
    "collapsed": true
   },
   "outputs": [],
   "source": []
  }
 ],
 "metadata": {
  "kernelspec": {
   "display_name": "Python 2",
   "language": "python",
   "name": "python2"
  },
  "language_info": {
   "codemirror_mode": {
    "name": "ipython",
    "version": 2
   },
   "file_extension": ".py",
   "mimetype": "text/x-python",
   "name": "python",
   "nbconvert_exporter": "python",
   "pygments_lexer": "ipython2",
   "version": "2.7.13"
  }
 },
 "nbformat": 4,
 "nbformat_minor": 0
}
