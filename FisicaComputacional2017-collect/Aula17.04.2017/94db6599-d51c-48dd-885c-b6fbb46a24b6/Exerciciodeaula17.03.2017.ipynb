{
 "cells": [
  {
   "cell_type": "code",
   "execution_count": 4,
   "metadata": {
    "collapsed": false,
    "scrolled": true
   },
   "outputs": [
    {
     "name": "stdout",
     "output_type": "stream",
     "text": [
      "insira o valor de a: 2.23\n",
      "insira o valor de b: 4.87\n",
      "insira o valor de c: .78\n",
      "2.23 x**2+ 4.87 x+ 0.78\n",
      "16.759300000000003\n",
      "x1=  4.473309750000001\n",
      "x2=  -14.21330975\n"
     ]
    }
   ],
   "source": [
    "a=float(input(\"insira o valor de a: \"))\n",
    "b=float(input(\"insira o valor de b: \"))\n",
    "c=float(input(\"insira o valor de c: \"))\n",
    "print(a,\"x**2+\",b,\"x+\",c)\n",
    "\n",
    "delta=float((b**2)-(4*a*c))\n",
    "print(\"raiz descriminante= \",delta)\n",
    "\n",
    "if delta<0:\n",
    "    print(\"nao possui raiz real\")\n",
    "else:\n",
    "    x1=float(-b+(delta**1/2)/2*a)\n",
    "    print(\"x1= \",x1)\n",
    "    x2=float(-b-(delta**1/2)/2*a)\n",
    "    print(\"x2= \",x2)"
   ]
  },
  {
   "cell_type": "code",
   "execution_count": 10,
   "metadata": {
    "collapsed": false
   },
   "outputs": [
    {
     "name": "stdout",
     "output_type": "stream",
     "text": [
      "insira o valor de A: 1\n",
      "insira o valor de B: 1\n",
      "insira o valor de C: 1\n",
      "É um triângulo de lados: 1.0 1.0 1.0\n",
      "É um triângulo equilátero\n"
     ]
    }
   ],
   "source": [
    "A=float(input(\"insira o valor de A: \"))\n",
    "B=float(input(\"insira o valor de B: \"))\n",
    "C=float(input(\"insira o valor de C: \"))\n",
    "if (A<B+C)and(B<A+C)and(C<A+B):\n",
    "    print(\"É um triângulo de lados:\", A, B, C)\n",
    "    if (A==B)and(B==C):\n",
    "        print(\"É um triângulo equilátero\")\n",
    "    elif (A==B)or(A==C)or(B==C):\n",
    "        print(\"É um triângulo isóceles\")\n",
    "    else:\n",
    "        print(\"É um triângulo escaleno\")\n",
    "else:\n",
    "    print(\"A, B e C não formam um triângulo\")"
   ]
  },
  {
   "cell_type": "code",
   "execution_count": 18,
   "metadata": {
    "collapsed": false
   },
   "outputs": [
    {
     "name": "stdout",
     "output_type": "stream",
     "text": [
      "Insira o lado x: 1\n",
      "Insira o lado y: 2\n",
      "Insira o lado z: 3\n",
      "o volume do paralelepipedo é:  6.0 m**3\n",
      "area x*y= 2.0\n",
      "area x*z= 3.0\n",
      "area y*z= 6.0\n"
     ]
    }
   ],
   "source": [
    "def volume_paralelepipedo(x,y,z):\n",
    "    return x*y*z\n",
    "\n",
    "def area_lateral(x,y,z):\n",
    "    area1=float(x*y)\n",
    "    print(\"area x*y=\", area1)\n",
    "    area2=float(x*z)\n",
    "    print(\"area x*z=\", area2)\n",
    "    area3=float(y*z)\n",
    "    print(\"area y*z=\", area3)\n",
    "\n",
    "x=float(input(\"Insira o lado x: \"))\n",
    "y=float(input(\"Insira o lado y: \"))\n",
    "z=float(input(\"Insira o lado z: \"))\n",
    "\n",
    "print(\"o volume do paralelepipedo é: \", volume_paralelepipedo(x,y,z))\n",
    "\n",
    "area_lateral(x,y,z)"
   ]
  },
  {
   "cell_type": "code",
   "execution_count": 49,
   "metadata": {
    "collapsed": false
   },
   "outputs": [
    {
     "name": "stdout",
     "output_type": "stream",
     "text": [
      "slice(None, ['1234 minhas palavras'], None)\n"
     ]
    }
   ],
   "source": [
    "lista1=[\"1234\"]\n",
    "lista2=slice(lista1)\n",
    "print(lista2)\n",
    "i=0\n",
    "q=0\n",
    "while i<len(lista2):\n",
    "    if lista2[i]%2==0:\n",
    "        q=q+1\n",
    "    i=i+1\n",
    "print(q)"
   ]
  },
  {
   "cell_type": "code",
   "execution_count": 56,
   "metadata": {
    "collapsed": false
   },
   "outputs": [
    {
     "name": "stdout",
     "output_type": "stream",
     "text": [
      "Temos 2 algarismos pares\n"
     ]
    }
   ],
   "source": [
    "numstr=\"1234\"\n",
    "count=0\n",
    "for letter in numstr:\n",
    "    if int(letter) %2 ==0:\n",
    "        count=count+1\n",
    "print(\"Temos {} algarismos pares\".format(count))"
   ]
  },
  {
   "cell_type": "code",
   "execution_count": 25,
   "metadata": {
    "collapsed": false,
    "scrolled": true
   },
   "outputs": [
    {
     "name": "stdout",
     "output_type": "stream",
     "text": [
      "1\n",
      "2\n",
      "3\n",
      "-4\n",
      "-5\n"
     ]
    },
    {
     "data": {
      "text/plain": [
       "[1, 1, 1, 0, 0]"
      ]
     },
     "execution_count": 25,
     "metadata": {},
     "output_type": "execute_result"
    }
   ],
   "source": [
    "i=0\n",
    "vetor=[]\n",
    "while i<30:\n",
    "    vetor=vetor+[float(input())]\n",
    "    i=i+1\n",
    "    \n",
    "i=0\n",
    "while i<30:\n",
    "    if vetor[i]>0:\n",
    "        vetor[i]=1\n",
    "    else:\n",
    "        vetor[i]=0\n",
    "    i=i+1\n",
    "    \n",
    "vetor"
   ]
  },
  {
   "cell_type": "code",
   "execution_count": null,
   "metadata": {
    "collapsed": true
   },
   "outputs": [],
   "source": []
  }
 ],
 "metadata": {
  "kernelspec": {
   "display_name": "Python 3 (Anaconda)",
   "language": "python",
   "name": "anaconda3"
  }
 },
 "nbformat": 4,
 "nbformat_minor": 0
}
