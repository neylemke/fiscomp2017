{
 "cells": [
  {
   "cell_type": "markdown",
   "metadata": {
    "collapsed": false
   },
   "source": [
    "# Visualização de dados em Python com Matplotlib (Parte 2)"
   ]
  },
  {
   "cell_type": "markdown",
   "metadata": {
    "collapsed": false
   },
   "source": [
    "#### - Utilizando os dados do DataFrame da aula anterior:"
   ]
  },
  {
   "cell_type": "code",
   "execution_count": 1,
   "metadata": {
    "collapsed": false
   },
   "outputs": [
   ],
   "source": [
    "def read_auto_data(fileName = \"Automobile price data.csv\"):\n",
    "    'Function to load the auto price data set from a .csv file' \n",
    "    import pandas as pd\n",
    "    import numpy as np\n",
    "\n",
    "    ## Read the .csv file with the pandas read_csv method\n",
    "    auto_prices = pd.read_csv(fileName)\n",
    "    \n",
    "    ## Remove rows with missing values, accounting for mising values coded as '?'\n",
    "    cols = ['price', 'bore', 'stroke', \n",
    "          'horsepower', 'peak-rpm']\n",
    "    for column in cols:\n",
    "        auto_prices.loc[auto_prices[column] == '?', column] = np.nan\n",
    "    auto_prices.dropna(axis = 0, inplace = True)\n",
    "\n",
    "    ## Convert some columns to numeric values\n",
    "    for column in cols:\n",
    "        auto_prices[column] = pd.to_numeric(auto_prices[column])\n",
    "#    auto_prices[cols] = auto_prices[cols].as_type(int64)\n",
    "        \n",
    "    return auto_prices\n",
    "auto_prices = read_auto_data()"
   ]
  },
  {
   "cell_type": "code",
   "execution_count": 24,
   "metadata": {
    "collapsed": false
   },
   "outputs": [
    {
     "data": {
      "text/html": [
       "<div>\n",
       "<style>\n",
       "    .dataframe thead tr:only-child th {\n",
       "        text-align: right;\n",
       "    }\n",
       "\n",
       "    .dataframe thead th {\n",
       "        text-align: left;\n",
       "    }\n",
       "\n",
       "    .dataframe tbody tr th {\n",
       "        vertical-align: top;\n",
       "    }\n",
       "</style>\n",
       "<table border=\"1\" class=\"dataframe\">\n",
       "  <thead>\n",
       "    <tr style=\"text-align: right;\">\n",
       "      <th></th>\n",
       "      <th>symboling</th>\n",
       "      <th>normalized-losses</th>\n",
       "      <th>make</th>\n",
       "      <th>fuel-type</th>\n",
       "      <th>aspiration</th>\n",
       "      <th>num-of-doors</th>\n",
       "      <th>body-style</th>\n",
       "      <th>drive-wheels</th>\n",
       "      <th>engine-location</th>\n",
       "      <th>wheel-base</th>\n",
       "      <th>...</th>\n",
       "      <th>engine-size</th>\n",
       "      <th>fuel-system</th>\n",
       "      <th>bore</th>\n",
       "      <th>stroke</th>\n",
       "      <th>compression-ratio</th>\n",
       "      <th>horsepower</th>\n",
       "      <th>peak-rpm</th>\n",
       "      <th>city-mpg</th>\n",
       "      <th>highway-mpg</th>\n",
       "      <th>price</th>\n",
       "    </tr>\n",
       "  </thead>\n",
       "  <tbody>\n",
       "    <tr>\n",
       "      <th>0</th>\n",
       "      <td>3</td>\n",
       "      <td>?</td>\n",
       "      <td>alfa-romero</td>\n",
       "      <td>gas</td>\n",
       "      <td>std</td>\n",
       "      <td>two</td>\n",
       "      <td>convertible</td>\n",
       "      <td>rwd</td>\n",
       "      <td>front</td>\n",
       "      <td>88.6</td>\n",
       "      <td>...</td>\n",
       "      <td>130</td>\n",
       "      <td>mpfi</td>\n",
       "      <td>3.47</td>\n",
       "      <td>2.68</td>\n",
       "      <td>9.0</td>\n",
       "      <td>111</td>\n",
       "      <td>5000</td>\n",
       "      <td>21</td>\n",
       "      <td>27</td>\n",
       "      <td>13495</td>\n",
       "    </tr>\n",
       "    <tr>\n",
       "      <th>1</th>\n",
       "      <td>3</td>\n",
       "      <td>?</td>\n",
       "      <td>alfa-romero</td>\n",
       "      <td>gas</td>\n",
       "      <td>std</td>\n",
       "      <td>two</td>\n",
       "      <td>convertible</td>\n",
       "      <td>rwd</td>\n",
       "      <td>front</td>\n",
       "      <td>88.6</td>\n",
       "      <td>...</td>\n",
       "      <td>130</td>\n",
       "      <td>mpfi</td>\n",
       "      <td>3.47</td>\n",
       "      <td>2.68</td>\n",
       "      <td>9.0</td>\n",
       "      <td>111</td>\n",
       "      <td>5000</td>\n",
       "      <td>21</td>\n",
       "      <td>27</td>\n",
       "      <td>16500</td>\n",
       "    </tr>\n",
       "    <tr>\n",
       "      <th>2</th>\n",
       "      <td>1</td>\n",
       "      <td>?</td>\n",
       "      <td>alfa-romero</td>\n",
       "      <td>gas</td>\n",
       "      <td>std</td>\n",
       "      <td>two</td>\n",
       "      <td>hatchback</td>\n",
       "      <td>rwd</td>\n",
       "      <td>front</td>\n",
       "      <td>94.5</td>\n",
       "      <td>...</td>\n",
       "      <td>152</td>\n",
       "      <td>mpfi</td>\n",
       "      <td>2.68</td>\n",
       "      <td>3.47</td>\n",
       "      <td>9.0</td>\n",
       "      <td>154</td>\n",
       "      <td>5000</td>\n",
       "      <td>19</td>\n",
       "      <td>26</td>\n",
       "      <td>16500</td>\n",
       "    </tr>\n",
       "    <tr>\n",
       "      <th>3</th>\n",
       "      <td>2</td>\n",
       "      <td>164</td>\n",
       "      <td>audi</td>\n",
       "      <td>gas</td>\n",
       "      <td>std</td>\n",
       "      <td>four</td>\n",
       "      <td>sedan</td>\n",
       "      <td>fwd</td>\n",
       "      <td>front</td>\n",
       "      <td>99.8</td>\n",
       "      <td>...</td>\n",
       "      <td>109</td>\n",
       "      <td>mpfi</td>\n",
       "      <td>3.19</td>\n",
       "      <td>3.40</td>\n",
       "      <td>10.0</td>\n",
       "      <td>102</td>\n",
       "      <td>5500</td>\n",
       "      <td>24</td>\n",
       "      <td>30</td>\n",
       "      <td>13950</td>\n",
       "    </tr>\n",
       "    <tr>\n",
       "      <th>4</th>\n",
       "      <td>2</td>\n",
       "      <td>164</td>\n",
       "      <td>audi</td>\n",
       "      <td>gas</td>\n",
       "      <td>std</td>\n",
       "      <td>four</td>\n",
       "      <td>sedan</td>\n",
       "      <td>4wd</td>\n",
       "      <td>front</td>\n",
       "      <td>99.4</td>\n",
       "      <td>...</td>\n",
       "      <td>136</td>\n",
       "      <td>mpfi</td>\n",
       "      <td>3.19</td>\n",
       "      <td>3.40</td>\n",
       "      <td>8.0</td>\n",
       "      <td>115</td>\n",
       "      <td>5500</td>\n",
       "      <td>18</td>\n",
       "      <td>22</td>\n",
       "      <td>17450</td>\n",
       "    </tr>\n",
       "  </tbody>\n",
       "</table>\n",
       "<p>5 rows × 26 columns</p>\n",
       "</div>"
      ]
     },
     "execution_count": 24,
     "metadata": {
     },
     "output_type": "execute_result"
    }
   ],
   "source": [
    "auto_prices.head()"
   ]
  },
  {
   "cell_type": "code",
   "execution_count": 2,
   "metadata": {
    "collapsed": false
   },
   "outputs": [
    {
     "data": {
      "text/html": [
       "<div>\n",
       "<table border=\"1\" class=\"dataframe\">\n",
       "  <thead>\n",
       "    <tr style=\"text-align: right;\">\n",
       "      <th></th>\n",
       "      <th>symboling</th>\n",
       "      <th>wheel-base</th>\n",
       "      <th>length</th>\n",
       "      <th>width</th>\n",
       "      <th>height</th>\n",
       "      <th>curb-weight</th>\n",
       "      <th>engine-size</th>\n",
       "      <th>bore</th>\n",
       "      <th>stroke</th>\n",
       "      <th>compression-ratio</th>\n",
       "      <th>horsepower</th>\n",
       "      <th>peak-rpm</th>\n",
       "      <th>city-mpg</th>\n",
       "      <th>highway-mpg</th>\n",
       "      <th>price</th>\n",
       "    </tr>\n",
       "  </thead>\n",
       "  <tbody>\n",
       "    <tr>\n",
       "      <th>count</th>\n",
       "      <td>195.000000</td>\n",
       "      <td>195.000000</td>\n",
       "      <td>195.000000</td>\n",
       "      <td>195.000000</td>\n",
       "      <td>195.000000</td>\n",
       "      <td>195.000000</td>\n",
       "      <td>195.000000</td>\n",
       "      <td>195.000000</td>\n",
       "      <td>195.000000</td>\n",
       "      <td>195.000000</td>\n",
       "      <td>195.000000</td>\n",
       "      <td>195.000000</td>\n",
       "      <td>195.000000</td>\n",
       "      <td>195.000000</td>\n",
       "      <td>195.000000</td>\n",
       "    </tr>\n",
       "    <tr>\n",
       "      <th>mean</th>\n",
       "      <td>0.794872</td>\n",
       "      <td>98.896410</td>\n",
       "      <td>174.256923</td>\n",
       "      <td>65.886154</td>\n",
       "      <td>53.861538</td>\n",
       "      <td>2559.000000</td>\n",
       "      <td>127.938462</td>\n",
       "      <td>3.329385</td>\n",
       "      <td>3.250308</td>\n",
       "      <td>10.194974</td>\n",
       "      <td>103.271795</td>\n",
       "      <td>5099.487179</td>\n",
       "      <td>25.374359</td>\n",
       "      <td>30.841026</td>\n",
       "      <td>13248.015385</td>\n",
       "    </tr>\n",
       "    <tr>\n",
       "      <th>std</th>\n",
       "      <td>1.230612</td>\n",
       "      <td>6.132038</td>\n",
       "      <td>12.476443</td>\n",
       "      <td>2.132484</td>\n",
       "      <td>2.396778</td>\n",
       "      <td>524.715799</td>\n",
       "      <td>41.433916</td>\n",
       "      <td>0.271866</td>\n",
       "      <td>0.314115</td>\n",
       "      <td>4.062109</td>\n",
       "      <td>37.869730</td>\n",
       "      <td>468.271381</td>\n",
       "      <td>6.401382</td>\n",
       "      <td>6.829315</td>\n",
       "      <td>8056.330093</td>\n",
       "    </tr>\n",
       "    <tr>\n",
       "      <th>min</th>\n",
       "      <td>-2.000000</td>\n",
       "      <td>86.600000</td>\n",
       "      <td>141.100000</td>\n",
       "      <td>60.300000</td>\n",
       "      <td>47.800000</td>\n",
       "      <td>1488.000000</td>\n",
       "      <td>61.000000</td>\n",
       "      <td>2.540000</td>\n",
       "      <td>2.070000</td>\n",
       "      <td>7.000000</td>\n",
       "      <td>48.000000</td>\n",
       "      <td>4150.000000</td>\n",
       "      <td>13.000000</td>\n",
       "      <td>16.000000</td>\n",
       "      <td>5118.000000</td>\n",
       "    </tr>\n",
       "    <tr>\n",
       "      <th>25%</th>\n",
       "      <td>0.000000</td>\n",
       "      <td>94.500000</td>\n",
       "      <td>166.300000</td>\n",
       "      <td>64.050000</td>\n",
       "      <td>52.000000</td>\n",
       "      <td>2145.000000</td>\n",
       "      <td>98.000000</td>\n",
       "      <td>3.150000</td>\n",
       "      <td>3.110000</td>\n",
       "      <td>8.500000</td>\n",
       "      <td>70.000000</td>\n",
       "      <td>4800.000000</td>\n",
       "      <td>19.500000</td>\n",
       "      <td>25.000000</td>\n",
       "      <td>7756.500000</td>\n",
       "    </tr>\n",
       "    <tr>\n",
       "      <th>50%</th>\n",
       "      <td>1.000000</td>\n",
       "      <td>97.000000</td>\n",
       "      <td>173.200000</td>\n",
       "      <td>65.400000</td>\n",
       "      <td>54.100000</td>\n",
       "      <td>2414.000000</td>\n",
       "      <td>120.000000</td>\n",
       "      <td>3.310000</td>\n",
       "      <td>3.290000</td>\n",
       "      <td>9.000000</td>\n",
       "      <td>95.000000</td>\n",
       "      <td>5100.000000</td>\n",
       "      <td>25.000000</td>\n",
       "      <td>30.000000</td>\n",
       "      <td>10245.000000</td>\n",
       "    </tr>\n",
       "    <tr>\n",
       "      <th>75%</th>\n",
       "      <td>2.000000</td>\n",
       "      <td>102.400000</td>\n",
       "      <td>184.050000</td>\n",
       "      <td>66.900000</td>\n",
       "      <td>55.650000</td>\n",
       "      <td>2943.500000</td>\n",
       "      <td>145.500000</td>\n",
       "      <td>3.590000</td>\n",
       "      <td>3.410000</td>\n",
       "      <td>9.400000</td>\n",
       "      <td>116.000000</td>\n",
       "      <td>5500.000000</td>\n",
       "      <td>30.000000</td>\n",
       "      <td>35.000000</td>\n",
       "      <td>16509.000000</td>\n",
       "    </tr>\n",
       "    <tr>\n",
       "      <th>max</th>\n",
       "      <td>3.000000</td>\n",
       "      <td>120.900000</td>\n",
       "      <td>208.100000</td>\n",
       "      <td>72.000000</td>\n",
       "      <td>59.800000</td>\n",
       "      <td>4066.000000</td>\n",
       "      <td>326.000000</td>\n",
       "      <td>3.940000</td>\n",
       "      <td>4.170000</td>\n",
       "      <td>23.000000</td>\n",
       "      <td>262.000000</td>\n",
       "      <td>6600.000000</td>\n",
       "      <td>49.000000</td>\n",
       "      <td>54.000000</td>\n",
       "      <td>45400.000000</td>\n",
       "    </tr>\n",
       "  </tbody>\n",
       "</table>\n",
       "</div>"
      ]
     },
     "execution_count": 2,
     "metadata": {
     },
     "output_type": "execute_result"
    }
   ],
   "source": [
    "auto_prices.describe()"
   ]
  },
  {
   "cell_type": "markdown",
   "metadata": {
    "collapsed": false
   },
   "source": [
    "** d) Histogramas**\n",
    "- Os histogramas são usados para variáveis numéricas. Considerando que, um gráfico de barras mostra as contagens de categorias exclusivas, um histograma mostra o número de dados com valores dentro de uma caixa. As caixas dividem os valores da variável em segmentos iguais. \n",
    "- O eixo vertical do histograma mostra a contagem de valores de dados dentro de cada caixa.\n",
    "- O código abaixo segue nossa mesma receita básica para criar um histograma de tamanho do motor. Observe, no entanto, que a coluna do quadro de dados que desejamos plotar é especificada pelo nome como ***auto_prices ['engine-size']***."
   ]
  },
  {
   "cell_type": "code",
   "execution_count": 3,
   "metadata": {
    "collapsed": false
   },
   "outputs": [
    {
     "data": {
      "text/plain": [
       "<matplotlib.text.Text at 0x7f5a03b4d790>"
      ]
     },
     "execution_count": 3,
     "metadata": {
     },
     "output_type": "execute_result"
    },
    {
     "data": {
      "image/png": "[encoded data removed]"
     },
     "execution_count": 3,
     "metadata": {
     },
     "output_type": "execute_result"
    }
   ],
   "source": [
    "import matplotlib.pyplot as plt\n",
    "fig = plt.figure(figsize=(10,10)) # define plot area\n",
    "ax = fig.gca() # define axis    \n",
    "auto_prices['engine-size'].plot.hist(ax = ax) # Use the plot.hist method on subset of the data frame\n",
    "ax.set_title('Histogram of auto engine size') # Give the plot a main title\n",
    "ax.set_xlabel('Engine size') # Set text for the x axis\n",
    "ax.set_ylabel('Number of autos')# Set text for y axis"
   ]
  },
  {
   "cell_type": "markdown",
   "metadata": {
    "collapsed": false
   },
   "source": [
    "**e) Box-Plot**\n",
    "- Os box-plots foram introduzidos por John Tukey em 1970. Estes gráficos são outra maneira de visualizar a distribuição de valores de dados. A este respeito, os gráficos de caixa são comparáveis aos histogramas, mas são bastante diferentes na apresentação.\n",
    "\n",
    "- Em um gráfico de caixa, o valor médio é mostrado com uma barra escura. Os dois qartiles internos dos valores de dados estão contidos na \"caixa\". Os \"wiskers\" incluem a maioria dos dados. Os outliers são mostrados por símbolos através dos wiskers.\n",
    "\n",
    "- Vários parcelas de caixa podem ser empilhadas ao longo de um eixo. Os dados são divididos usando uma operação 'por grupo', e os gráficos de caixa para cada grupo são empilhados um ao lado do outro. Desta forma, o gráfico de caixa permite exibir duas dimensões do seu conjunto de dados.\n",
    "\n",
    "- O código na célula abaixo geralmente segue a receita que estamos usando. O quadro de dados está subconectado a duas colunas. Uma coluna contém os valores numéricos para plotar e a outra coluna é o grupo por variável. Nesse caso, o grupo por variável é especificado com o argumento by = 'fuel-type'."
   ]
  },
  {
   "cell_type": "code",
   "execution_count": 26,
   "metadata": {
    "collapsed": false
   },
   "outputs": [
    {
     "data": {
      "text/plain": [
       "<matplotlib.text.Text at 0x7f5ab4e5fe80>"
      ]
     },
     "execution_count": 26,
     "metadata": {
     },
     "output_type": "execute_result"
    },
    {
     "data": {
      "image/png": "[encoded data removed]"
     },
     "execution_count": 26,
     "metadata": {
     },
     "output_type": "execute_result"
    }
   ],
   "source": [
    "fig = plt.figure(figsize=(10,10)) # define plot area\n",
    "ax = fig.gca() # define axis    \n",
    "auto_prices[['engine-size','fuel-type']].boxplot(by = 'fuel-type', ax = ax) # Use the plot.bar method on the new data frame\n",
    "ax.set_title('Box plots of auto engine size by fule type') # Give the plot a main title\n",
    "ax.set_xlabel('Fuel type') # Set text for the x axis\n",
    "ax.set_ylabel('Engine size')# Set text for y axis"
   ]
  },
  {
   "cell_type": "markdown",
   "metadata": {
    "collapsed": false
   },
   "source": [
    "- Examine o gráfico acima e observe as diferenças na distribuição do tamanho do motor por tipo de combustível. Existe uma sobreposição considerável na faixa inter-quartil (o intervalo dentro das caixas), com carros a gás com motores geralmente mais pequenos. O tamanho médio do motor (a barra vermelha) para carros a gás é visivelmente menor do que para carros a diesel. No entanto, a gama de tamanhos de motores para carros a gás é maior, incluindo alguns outliers. É provável, estes são os valores anormais que vimos no histograma."
   ]
  },
  {
   "cell_type": "markdown",
   "metadata": {
    "collapsed": false
   },
   "source": [
    "** 3. Parcelas de densidade de kernel e introdução a Seaborn**\n",
    "- Até agora, trabalhamos exclusivamente com os métodos de traçado em pandas. Agora vamos começar a trabalhar com o pacote Seaborn. Seaborn é um pacote Python mais recente que abstrai gráficos de matplotlib de nível inferior. Seaborn também inclui alguns tipos adicionais de gráficos de ponta."
   ]
  },
  {
   "cell_type": "markdown",
   "metadata": {
    "collapsed": false
   },
   "source": [
    "\n",
    "- As parcelas de densidade de Kernel são semelhantes em conceito a um histograma. Um gráfico de densidade de kernel exibe os valores de uma curva de densidade suavizada dos valores de dados. Em outras palavras, o gráfico de densidade do núcleo é uma versão suavizada de um histograma.\n",
    "\n",
    "- O código na célula abaixo cria um gráfico de violino usando a seguinte receita:\n",
    "\n",
    "1. Importe o pacote Seaborn,\n",
    "2. Defina um estilo para a grade do gráfico.\n",
    "3. Defina o kdeplot da coluna do tamanho do motor.\n",
    "\n",
    "**Nota:**Dependendo da sua plataforma e versões do Numpy, você pode ver um aviso de decomposição. Você pode ignorar este aviso com segurança."
   ]
  },
  {
   "cell_type": "code",
   "execution_count": 4,
   "metadata": {
    "collapsed": false
   },
   "outputs": [
    {
     "data": {
      "text/plain": [
       "<matplotlib.axes._subplots.AxesSubplot at 0x7f59f4564210>"
      ]
     },
     "execution_count": 4,
     "metadata": {
     },
     "output_type": "execute_result"
    },
    {
     "data": {
      "image/png": "[encoded data removed]"
     },
     "execution_count": 4,
     "metadata": {
     },
     "output_type": "execute_result"
    }
   ],
   "source": [
    "import seaborn as sns\n",
    "sns.set_style(\"whitegrid\")\n",
    "sns.kdeplot(auto_prices['engine-size'])"
   ]
  },
  {
   "cell_type": "markdown",
   "metadata": {
    "collapsed": false
   },
   "source": [
    "- Os resultados do plot do KDE são semelhantes aos que observamos com o histograma do tamanho do motor. O tamanho do motor é inclinado em direção ao tamanho pequeno, e existem outliers de alguns carros com grandes motores claramente visíveis.\n",
    "\n",
    "- Como fizemos com os dataframes pandas, controlamos as propriedades de um terreno de Seaborn, especificando os eixos. O código na célula abaixo amplia nossa receita simples para lotes de Seaborn:\n",
    "\n",
    "1. Defina uma figura.\n",
    "2. Defina um ou mais eixos na figura.\n",
    "3. Defina um estilo para a grade do gráfico.\n",
    "4. Defina o kdeplot da coluna do tamanho do motor.\n",
    "5. Use métodos nos eixos para controlar atributos como títulos e rótulos de eixos."
   ]
  },
  {
   "cell_type": "code",
   "execution_count": 5,
   "metadata": {
    "collapsed": false
   },
   "outputs": [
    {
     "data": {
      "text/plain": [
       "<matplotlib.text.Text at 0x7f59f3516c90>"
      ]
     },
     "execution_count": 5,
     "metadata": {
     },
     "output_type": "execute_result"
    },
    {
     "data": {
      "image/png": "[encoded data removed]"
     },
     "execution_count": 5,
     "metadata": {
     },
     "output_type": "execute_result"
    }
   ],
   "source": [
    "fig = plt.figure(figsize=(10,10)) # define plot area\n",
    "ax = fig.gca() # define axis \n",
    "sns.set_style(\"whitegrid\")\n",
    "sns.kdeplot(auto_prices['engine-size'], ax = ax)\n",
    "ax.set_title('KDE plot of auto engine size') # Give the plot a main title\n",
    "ax.set_xlabel('Engine Size') # Set text for the x axis\n",
    "ax.set_ylabel('Density')# Set text for y axis"
   ]
  },
  {
   "cell_type": "markdown",
   "metadata": {
    "collapsed": false
   },
   "source": [
    "- Também podemos criar um gráfico bidimensional do KDE. O código na célula abaixo cria um gráfico de preço e tamanho do motor bidimensional segundo a mesma receita."
   ]
  },
  {
   "cell_type": "code",
   "execution_count": 6,
   "metadata": {
    "collapsed": false
   },
   "outputs": [
    {
     "data": {
      "text/plain": [
       "<matplotlib.text.Text at 0x7f59f3443210>"
      ]
     },
     "execution_count": 6,
     "metadata": {
     },
     "output_type": "execute_result"
    },
    {
     "data": {
      "image/png": "[encoded data removed]"
     },
     "execution_count": 6,
     "metadata": {
     },
     "output_type": "execute_result"
    }
   ],
   "source": [
    "fig = plt.figure(figsize=(10,10)) # define plot area\n",
    "ax = fig.gca() # define axis \n",
    "sns.set_style(\"whitegrid\")\n",
    "sns.kdeplot(auto_prices[['engine-size', 'price']], ax = ax, cmap=\"Blues_d\")\n",
    "ax.set_title('KDE plot of auto engine size and price') # Give the plot a main title\n",
    "ax.set_xlabel('Engine Size') # Set text for the x axis\n",
    "ax.set_ylabel('Price')# Set text for y axis"
   ]
  },
  {
   "cell_type": "markdown",
   "metadata": {
    "collapsed": false
   },
   "source": [
    "- Podemos ver claramente que existe um único modo forte para o preço do automóvel e o tamanho do motor. Existe uma inclinação de ambas as variáveis para carros de menor custo com motores menores."
   ]
  },
  {
   "cell_type": "markdown",
   "metadata": {
    "collapsed": false
   },
   "source": [
    "**3. 1- Violin plot**\n",
    "- O código na célula abaixo segue a receita que estabelecemos para plotar Seaborn. O método ***sns.violinplot*** possui mais argumentos do que o método kdeplot.\n",
    "\n",
    "1. As colunas utilizadas para o enredo são definidas com os argumentos x e y.\n",
    "2. A coluna x é o grupo por variável.\n",
    "3. O argumento de dados especifica um quadro de dados de pandas ou uma matriz numpy."
   ]
  },
  {
   "cell_type": "code",
   "execution_count": 7,
   "metadata": {
    "collapsed": false
   },
   "outputs": [
    {
     "data": {
      "text/plain": [
       "<matplotlib.text.Text at 0x7f59f33bdb10>"
      ]
     },
     "execution_count": 7,
     "metadata": {
     },
     "output_type": "execute_result"
    },
    {
     "data": {
      "image/png": "[encoded data removed]"
     },
     "execution_count": 7,
     "metadata": {
     },
     "output_type": "execute_result"
    }
   ],
   "source": [
    "fig = plt.figure(figsize=(10,10)) # define plot area\n",
    "ax = fig.gca() # define axis \n",
    "sns.set_style(\"whitegrid\")\n",
    "sns.violinplot(x = 'fuel-type', y = 'engine-size', data = auto_prices, ax = ax)\n",
    "ax.set_title('Violine plots of auto engine size by fule type') # Give the plot a main title\n",
    "ax.set_xlabel('Fuel type') # Set text for the x axis\n",
    "ax.set_ylabel('Engine size')# Set text for y axis"
   ]
  },
  {
   "cell_type": "markdown",
   "metadata": {
    "collapsed": false
   },
   "source": [
    "- As diferenças na distribuição dos tamanhos de motores entre carros a gás e diesel são claramente visíveis no plot violino. Podemos confirmar que o tamanho do motor dos carros a gás está inclinado para o tamanho pequeno. Existem alguns carros a gás com tamanhos de motores muito pequenos e uma série de automóveis que aparecem como outliers com motores grandes. A distribuição de tamanhos de motores diesel é mais uniforme."
   ]
  },
  {
   "cell_type": "markdown",
   "metadata": {
    "collapsed": false
   },
   "source": [
    "** 4. Exibindo várias dimensões com estética**\n",
    "\n",
    "- Nós já exploramos alguns tipos básicos de plot. Todas as parcelas que criamos até agora são projetadas em uma superfície bidimensional. Assim, ficamos limitados à visualização de apenas duas dimensões do nosso conjunto de dados.\n",
    "\n",
    "- Agora, usaremos a estética do gráfico para visualizar dimensões adicionais do conjunto de dados. Estéticas específicas são usadas para projetar dimensões adicionais em uma superfície de trama bidimensional. Além disso, a escolha cuidadosa da estética do plot pode destacar certos aspectos de um conjunto de dados que você está explorando.\n",
    "\n",
    "- Há uma possível estética possível para a visualização. Exemplos específicos com os quais trabalharemos incluem:\n",
    "\n",
    "1. Cor\n",
    "2. Transparência\n",
    "3. Tamanho\n",
    "4. Forma do marcador\n",
    "5. Estética específica para o tipo de lote\n",
    "\n",
    "- O uso de estética com um pouco de inteligência pode levar a informações interessantes sobre um conjunto de dados. "
   ]
  },
  {
   "cell_type": "markdown",
   "metadata": {
    "collapsed": false
   },
   "source": [
    "**4.1- Cor**\n",
    "- A cor pode ser usada para ver uma dimensão adicional em um gráfico de dispersão. Um fator categórico pode ser mostrado usando cores diferentes para as diferentes categorias.\n",
    "- Cuidado! Certifique-se de usar uma paleta com cores distintivas para cada cateogria. Muitas categorias usando cores similares são invariavelmente difíceis de ver e impossíveis de interpretar.\n",
    "- O código na célula abaixo usa o argumento de matiz para adicionar uma terceira dimensão, tipo de combustível para um gráfico de dispersão. Uma paleta de cores também é especificada."
   ]
  },
  {
   "cell_type": "code",
   "execution_count": 27,
   "metadata": {
    "collapsed": false
   },
   "outputs": [
    {
     "data": {
      "text/plain": [
       "<seaborn.axisgrid.FacetGrid at 0x7f5ab4f18400>"
      ]
     },
     "execution_count": 27,
     "metadata": {
     },
     "output_type": "execute_result"
    },
    {
     "data": {
      "image/png": "[encoded data removed]"
     },
     "execution_count": 27,
     "metadata": {
     },
     "output_type": "execute_result"
    }
   ],
   "source": [
    "sns.lmplot(x = 'city-mpg', y = 'price', data = auto_prices, hue = \"fuel-type\", palette=\"Set2\", fit_reg = False)"
   ]
  },
  {
   "cell_type": "markdown",
   "metadata": {
    "collapsed": false
   },
   "source": [
    "- No gráfico acima, podemos ver que um carro diesel é geralmente mais caro em uma determinada eficiência de combustível. Também podemos ver que todos os carros menos eficientes e mais caros possuem motores a gás.\n",
    "- Se estamos dispostos a criar mais códigos, podemos ganhar muito mais controle sobre a estética do plano. O código na função mostrada abaixo divide os dados em subconjuntos e os traça com diferentes estéticas no mesmo conjunto de eixos. A receita é:\n",
    "\n",
    "1. Importe os pacotes necessários\n",
    "2. Loop sobre uma lista de nomes de colunas para o eixo horizontal. Neste exemplo, nós apenas especificamos um.\n",
    "4. Defina uma figura e eixos para o enredo\n",
    "5. Divida os dados por carros a gás e diesel.\n",
    "6. Se o subconjunto tiver mais de zero membros, crie gráficos de dispersão com a estética definida. Nesse caso, o atributo é cor definida como DarkBlue ou Red.\n",
    "7. Crie uma lista de patches e exiba os patches para o ledgend."
   ]
  },
  {
   "cell_type": "code",
   "execution_count": 8,
   "metadata": {
    "collapsed": false
   },
   "outputs": [
    {
     "data": {
      "text/plain": [
       "'Done'"
      ]
     },
     "execution_count": 8,
     "metadata": {
     },
     "output_type": "execute_result"
    },
    {
     "data": {
      "image/png": "[encoded data removed]"
     },
     "execution_count": 8,
     "metadata": {
     },
     "output_type": "execute_result"
    }
   ],
   "source": [
    "def auto_color(df, plot_cols):\n",
    "    import matplotlib.pyplot as plt\n",
    "    import matplotlib.patches as mpatches\n",
    "    for col in plot_cols:\n",
    "        fig = plt.figure(figsize=(10, 10))\n",
    "        ax = fig.gca()\n",
    "        temp1 = df.ix[df['fuel-type'] == 'gas']       \n",
    "        temp2 = df.ix[df['fuel-type'] == 'diesel']\n",
    "        if temp1.shape[0] > 0:                    \n",
    "            temp1.plot(kind = 'scatter', x = col, y = 'price' , \n",
    "                           ax = ax, color = 'DarkBlue')                          \n",
    "        if temp2.shape[0] > 0:                    \n",
    "            temp2.plot(kind = 'scatter', x = col, y = 'price' , \n",
    "                           ax = ax, color = 'Red') \n",
    "    ax.set_title('Scatter plot of price vs. ' + col)\n",
    "    red_patch = mpatches.Patch(color='Red', label='Diesel')   \n",
    "    blue_patch = mpatches.Patch(color='DarkBlue', label='Gas')\n",
    "    plt.legend(handles=[red_patch, blue_patch])\n",
    "    return 'Done'\n",
    "auto_color(auto_prices, ['city-mpg'])"
   ]
  },
  {
   "cell_type": "markdown",
   "metadata": {
    "collapsed": false
   },
   "source": [
    "**4.2 - Transparência**\n",
    "- No gráfico de dispersão acima, observe que há áreas na trama com densos agrupamentos de pontos. Em particular, existem pontos sobrepostos para carros a gás com mpg da cidade entre 19 e 31 (o mpg é aparentemente relatado em unidades inteiras).\n",
    "- Por causa do efeito de \"excesso de traçado\" é difícil ver exatamente quantos carros estão representados em algumas regiões da trama. Transparência, é uma estética útil para superar o excesso de traçado. A transparência é definida em uma escala de 0 (completamente transparente ou invisível) para 1 (perfeitamente opaco). Ao escolher valores de transparência razoáveis, você pode ter uma idéia de quantos pontos são agrupados em uma pequena área de um enredo.\n",
    "- O código na célula abaixo segue a receita acima mencionada. Um argumento de transparência, alfa, foi adicionado."
   ]
  },
  {
   "cell_type": "code",
   "execution_count": 1,
   "metadata": {
    "collapsed": false
   },
   "outputs": [
    {
     "ename": "NameError",
     "evalue": "name 'auto_prices' is not defined",
     "output_type": "error",
     "traceback": [
      "\u001b[0;31m---------------------------------------------------------------------------\u001b[0m",
      "\u001b[0;31mNameError\u001b[0m                                 Traceback (most recent call last)",
      "\u001b[0;32m<ipython-input-1-0c602262db1e>\u001b[0m in \u001b[0;36m<module>\u001b[0;34m()\u001b[0m\n\u001b[1;32m     18\u001b[0m         \u001b[0mplt\u001b[0m\u001b[0;34m.\u001b[0m\u001b[0mlegend\u001b[0m\u001b[0;34m(\u001b[0m\u001b[0mhandles\u001b[0m\u001b[0;34m=\u001b[0m\u001b[0;34m[\u001b[0m\u001b[0mred_patch\u001b[0m\u001b[0;34m,\u001b[0m \u001b[0mblue_patch\u001b[0m\u001b[0;34m]\u001b[0m\u001b[0;34m)\u001b[0m\u001b[0;34m\u001b[0m\u001b[0m\n\u001b[1;32m     19\u001b[0m     \u001b[0;32mreturn\u001b[0m \u001b[0mplot_cols\u001b[0m\u001b[0;34m\u001b[0m\u001b[0m\n\u001b[0;32m---> 20\u001b[0;31m \u001b[0mauto_color\u001b[0m\u001b[0;34m(\u001b[0m\u001b[0mauto_prices\u001b[0m\u001b[0;34m,\u001b[0m \u001b[0;34m[\u001b[0m\u001b[0;34m'city-mpg'\u001b[0m\u001b[0;34m]\u001b[0m\u001b[0;34m)\u001b[0m\u001b[0;34m\u001b[0m\u001b[0m\n\u001b[0m",
      "\u001b[0;31mNameError\u001b[0m: name 'auto_prices' is not defined"
     ]
    }
   ],
   "source": [
    "def auto_color(df, plot_cols):\n",
    "    import matplotlib.pyplot as plt\n",
    "    import matplotlib.patches as mpatches\n",
    "    for col in plot_cols:\n",
    "        fig = plt.figure(figsize=(10, 10))\n",
    "        ax = fig.gca()\n",
    "        temp1 = df.ix[df['fuel-type'] == 'gas']       \n",
    "        temp2 = df.ix[df['fuel-type'] == 'diesel']\n",
    "        if temp1.shape[0] > 0:                    \n",
    "            temp1.plot(kind = 'scatter', x = col, y = 'price' , \n",
    "                           ax = ax, color = 'DarkBlue', alpha = 0.3)                          \n",
    "        if temp2.shape[0] > 0:                    \n",
    "            temp2.plot(kind = 'scatter', x = col, y = 'price' , \n",
    "                           ax = ax, color = 'Red', alpha = 0.3) \n",
    "        ax.set_title('Scatter plot of price vs. ' + col)\n",
    "        red_patch = mpatches.Patch(color='Red', label='Diesel')   \n",
    "        blue_patch = mpatches.Patch(color='DarkBlue', label='Gas')\n",
    "        plt.legend(handles=[red_patch, blue_patch])\n",
    "    return plot_cols\n",
    "auto_color(auto_prices, ['city-mpg'])"
   ]
  },
  {
   "cell_type": "markdown",
   "metadata": {
    "collapsed": false
   },
   "source": [
    "**4.3 -Usando o tamanho do marcador**\n",
    "- Outra estética que pode projetar uma dimensão adicional em um gráfico bidimensional é o tamanho do marcador. O código na célula abaixo usa o tamanho escalonado do marcador para indicar o tamanho do motor."
   ]
  },
  {
   "cell_type": "code",
   "execution_count": 2,
   "metadata": {
    "collapsed": false
   },
   "outputs": [
    {
     "ename": "NameError",
     "evalue": "name 'auto_prices' is not defined",
     "output_type": "error",
     "traceback": [
      "\u001b[0;31m---------------------------------------------------------------------------\u001b[0m",
      "\u001b[0;31mNameError\u001b[0m                                 Traceback (most recent call last)",
      "\u001b[0;32m<ipython-input-2-960cc8126a43>\u001b[0m in \u001b[0;36m<module>\u001b[0;34m()\u001b[0m\n\u001b[1;32m     18\u001b[0m     \u001b[0mplt\u001b[0m\u001b[0;34m.\u001b[0m\u001b[0mlegend\u001b[0m\u001b[0;34m(\u001b[0m\u001b[0mhandles\u001b[0m\u001b[0;34m=\u001b[0m\u001b[0;34m[\u001b[0m\u001b[0mred_patch\u001b[0m\u001b[0;34m,\u001b[0m \u001b[0mblue_patch\u001b[0m\u001b[0;34m]\u001b[0m\u001b[0;34m)\u001b[0m\u001b[0;34m\u001b[0m\u001b[0m\n\u001b[1;32m     19\u001b[0m     \u001b[0;32mreturn\u001b[0m \u001b[0mplot_cols\u001b[0m\u001b[0;34m\u001b[0m\u001b[0m\n\u001b[0;32m---> 20\u001b[0;31m \u001b[0mauto_size\u001b[0m\u001b[0;34m(\u001b[0m\u001b[0mauto_prices\u001b[0m\u001b[0;34m,\u001b[0m \u001b[0;34m[\u001b[0m\u001b[0;34m'city-mpg'\u001b[0m\u001b[0;34m]\u001b[0m\u001b[0;34m)\u001b[0m\u001b[0;34m\u001b[0m\u001b[0m\n\u001b[0m",
      "\u001b[0;31mNameError\u001b[0m: name 'auto_prices' is not defined"
     ]
    }
   ],
   "source": [
    "def auto_size(df, plot_cols):\n",
    "    import matplotlib.pyplot as plt\n",
    "    import matplotlib.patches as mpatches\n",
    "    for col in plot_cols:\n",
    "        fig = plt.figure(figsize=(10, 10))\n",
    "        ax = fig.gca()\n",
    "        temp1 = df.ix[df['fuel-type'] == 'gas']       \n",
    "        temp2 = df.ix[df['fuel-type'] == 'diesel']\n",
    "        if temp1.shape[0] > 0:                    \n",
    "            temp1.plot(kind = 'scatter', x = col, y = 'price' , \n",
    "                           ax = ax, color = 'DarkBlue', s= .5 * auto_prices['engine-size'], alpha = 0.3)                          \n",
    "        if temp2.shape[0] > 0:                    \n",
    "            temp2.plot(kind = 'scatter', x = col, y = 'price' , \n",
    "                           ax = ax, color = 'Red', s= .5 * auto_prices['engine-size'], alpha = 0.3) \n",
    "    ax.set_title('Scatter plot of price vs. ' + col + ' with engine size')\n",
    "    red_patch = mpatches.Patch(color='Red', label='Diesel')   \n",
    "    blue_patch = mpatches.Patch(color='DarkBlue', label='Gas')\n",
    "    plt.legend(handles=[red_patch, blue_patch])\n",
    "    return plot_cols\n",
    "auto_size(auto_prices, ['city-mpg'])"
   ]
  },
  {
   "cell_type": "markdown",
   "metadata": {
    "collapsed": false
   },
   "source": [
    "- Examine o gráfico acima observando os diferentes tamanhos de marcador. Com marcadores maiores, a configuração da transparência é mais necessária do que nunca.\n",
    "- Você pode notar que a diferença no tamanho do motor nem sempre é aparente no gráfico acima. Usar o tamanho do marcador pode ser um pouco complicado. Outra opção é usar o quadrado do valor que está sendo projetado para determinar o tamanho do marcador. A área do marcador é então proporcional ao valor de interesse, em vez do tamanho do marcador menos perceptível.\n",
    "- O código na célula abaixo usa o quadrado do tamanho do motor para determinar o tamanho do marcador."
   ]
  },
  {
   "cell_type": "code",
   "execution_count": 14,
   "metadata": {
    "collapsed": false
   },
   "outputs": [
    {
     "data": {
      "text/plain": [
       "'Done'"
      ]
     },
     "execution_count": 14,
     "metadata": {
     },
     "output_type": "execute_result"
    },
    {
     "data": {
      "image/png": "[encoded data removed]"
     },
     "execution_count": 14,
     "metadata": {
     },
     "output_type": "execute_result"
    }
   ],
   "source": [
    "def auto_size_2(df, plot_cols):\n",
    "    import matplotlib.pyplot as plt\n",
    "    import matplotlib.patches as mpatches\n",
    "    for col in plot_cols:\n",
    "        fig = plt.figure(figsize=(10, 10))\n",
    "        ax = fig.gca()\n",
    "        temp1 = df.ix[df['fuel-type'] == 'gas']       \n",
    "        temp2 = df.ix[df['fuel-type'] == 'diesel']\n",
    "        if temp1.shape[0] > 0:                    \n",
    "            temp1.plot(kind = 'scatter', x = col, y = 'price' , \n",
    "                           ax = ax, color = 'DarkBlue', s= .02 * auto_prices['engine-size'] * auto_prices['engine-size'], \n",
    "                       alpha = 0.3)                          \n",
    "        if temp2.shape[0] > 0:                    \n",
    "            temp2.plot(kind = 'scatter', x = col, y = 'price' , \n",
    "                           ax = ax, color = 'Red', s= .02 * auto_prices['engine-size']  * auto_prices['engine-size'], \n",
    "                       alpha = 0.3) \n",
    "    ax.set_title('Scatter plot of price vs. ' + col + ' with engine size')\n",
    "    red_patch = mpatches.Patch(color='Red', label='Diesel')   \n",
    "    blue_patch = mpatches.Patch(color='DarkBlue', label='Gas')\n",
    "    plt.legend(handles=[red_patch, blue_patch])\n",
    "    return 'Done'\n",
    "auto_size_2(auto_prices, ['city-mpg']) "
   ]
  },
  {
   "cell_type": "markdown",
   "metadata": {
    "collapsed": false
   },
   "source": [
    "**4.4 - Usando formas de marcador**\n",
    "- A forma do marcador pode ser usada para projetar uma dimensão adicional em uma superfície de traçado bidimensional. Tipicamente, diferentes formas de marcador são usadas para indicar as categorias de uma variável categórica. Como com outras estética, não faça isso. Muitos marcadores semelhantes em um gráfico apenas ofuscarão as relações que você está tentando mostrar.\n",
    "- O código na célula abaixo usa diferentes formas de marcador para indicar carros de aspiração padrão e turbo."
   ]
  },
  {
   "cell_type": "code",
   "execution_count": 29,
   "metadata": {
    "collapsed": false
   },
   "outputs": [
    {
     "data": {
      "text/plain": [
       "'Done'"
      ]
     },
     "execution_count": 29,
     "metadata": {
     },
     "output_type": "execute_result"
    },
    {
     "data": {
      "image/png": "[encoded data removed]"
     },
     "execution_count": 29,
     "metadata": {
     },
     "output_type": "execute_result"
    }
   ],
   "source": [
    "def auto_shape(df):\n",
    "    import matplotlib.pyplot as plt\n",
    "    import matplotlib.lines as mlines\n",
    "    aspiration = ['turbo', 'turbo', 'std', 'std']\n",
    "    fuel = ['diesel', 'gas', 'diesel', 'gas']\n",
    "    mrks = ['o', 'o', '+', '+']\n",
    "    cols = ['Red', 'DarkBlue', 'Red', 'DarkBlue']\n",
    "    ldg = []\n",
    "    fig = plt.figure(figsize=(10, 10))\n",
    "    ax = fig.gca()\n",
    "    for asp, fl, mk, cl in zip(aspiration, fuel, mrks, cols):\n",
    "        temp = df.loc[(df['aspiration'] == asp) & (df['fuel-type'] == fl)]       \n",
    "        if temp.shape[0] > 0:                    \n",
    "            temp.plot(kind = 'scatter', x = 'city-mpg', y = 'price' , ax = ax, color = cl, marker = mk,\n",
    "                       s= .02 * df['engine-size'] * df['engine-size'], alpha = 0.5)    \n",
    "        ldg.append(mlines.Line2D([], [], color=cl, marker=mk, markersize=10, \n",
    "                                 label=(asp + ' and ' + fl)))    \n",
    "    ax.set_title('Scatter plot of price vs. city mpg with marker size = engine size')\n",
    "    plt.legend(handles=ldg)\n",
    "    return'Done'\n",
    "auto_shape(auto_prices)"
   ]
  },
  {
   "cell_type": "markdown",
   "metadata": {
    "collapsed": false
   },
   "source": [
    "- O plano acima planeja cinco dimensões na superfície do enredo bidimensional: preço, mpg da cidade, tamanho do motor, tipo de aspiração e tipo de combustível. Demora algum tempo e esforço para entender completamente todas as informações fornecidas.\n",
    "- Algumas conclusões que podemos extrair do gráfico acima incluem:\n",
    "- Os carros mais caros possuem aspirações maiores, padrão, motores a gás.\n",
    "A maioria dos carros diesel usa aspiração de tubo e estes tendem a ser mais caros.\n",
    "Os carros do motor a gás de aspiração turbo estão na baixa gama de eficiência de combustível, mas no meio da faixa de preço.\n",
    "Alguns carros de baixo custo possuem grandes motores a gás."
   ]
  },
  {
   "cell_type": "markdown",
   "metadata": {
    "collapsed": false
   },
   "source": [
    "** 4.5 - Estética específica: caixas de histograma**\n",
    "- Nós usamos alguma estética bastante geral para produzir relacionamentos em nosso conjunto de dados. Vamos agora ver uma estética adicional que tende a ser mais específica do tipo de gráfico.\n",
    "- Como primeiro exemplo, examinaremos o efeito de mudar o número de caixas em um histograma. O código abaixo agrupa o histograma do tamanho do motor usando diferentes números de caixas; O padrão de 10 caixas e 40 caixas. Esta é também a primeira vez que colocamos vários conjuntos de eixos na mesma figura. A primeira linha de código define dois subplots em uma linha na figura."
   ]
  },
  {
   "cell_type": "code",
   "execution_count": 30,
   "metadata": {
    "collapsed": false
   },
   "outputs": [
    {
     "data": {
      "text/plain": [
       "<matplotlib.text.Text at 0x7f5ab4bfef60>"
      ]
     },
     "execution_count": 30,
     "metadata": {
     },
     "output_type": "execute_result"
    },
    {
     "data": {
      "image/png": "[encoded data removed]"
     },
     "execution_count": 30,
     "metadata": {
     },
     "output_type": "execute_result"
    }
   ],
   "source": [
    "fig, ax = plt.subplots(1, 2, figsize = (16, 6))\n",
    "auto_prices['engine-size'].plot.hist(ax = ax[0]) \n",
    "ax[0].set_title('Histogram of auto engine size with 10 bins') # Give the plot a main title\n",
    "ax[0].set_xlabel('Engine size') # Set text for the x axis\n",
    "ax[0].set_ylabel('Number of autos')# Set text for y axis\n",
    "auto_prices['engine-size'].plot.hist(ax = ax[1], bins = 40) \n",
    "ax[1].set_title('Histogram of auto engine size with 40 bins') \n",
    "ax[1].set_xlabel('Engine size') \n",
    "ax[1].set_ylabel('Number of autos')"
   ]
  },
  {
   "cell_type": "markdown",
   "metadata": {
    "collapsed": false
   },
   "source": [
    "- Observe que o histograma com 10 compartimentos dá um resultado mais suave, o que pode ser melhor para obter uma impressão geral da distribuição. O histograma com 40 compartimentos mostra mais detalhes, particularmente para os outliers."
   ]
  },
  {
   "cell_type": "markdown",
   "metadata": {
    "collapsed": false
   },
   "source": [
    "**4.6- Estética específica - Parcelas de violin plot**\n",
    "- No código mostrado abaixo, o argumento tonalidade é usado para mostrar os KDEs de carros de aspiração padrão e turbo, agrupados pela variável do eixo x do tipo de combustível. O gráfico resultante mostra três dimensões: preço, tipo de combustível e aspiração."
   ]
  },
  {
   "cell_type": "code",
   "execution_count": 31,
   "metadata": {
    "collapsed": false
   },
   "outputs": [
    {
     "data": {
      "text/plain": [
       "<matplotlib.axes._subplots.AxesSubplot at 0x7f5ab4b0a390>"
      ]
     },
     "execution_count": 31,
     "metadata": {
     },
     "output_type": "execute_result"
    },
    {
     "data": {
      "image/png": "[encoded data removed]"
     },
     "execution_count": 31,
     "metadata": {
     },
     "output_type": "execute_result"
    }
   ],
   "source": [
    "import seaborn as sns\n",
    "sns.set_style(\"whitegrid\")\n",
    "sns.violinplot(data = auto_prices, x = 'fuel-type', y = 'price', hue=\"aspiration\",  split=True)"
   ]
  },
  {
   "cell_type": "markdown",
   "metadata": {
    "collapsed": false
   },
   "source": [
    "- Da parcela acima, podemos ver que os carros de motores de aspiração padrão têm a mais ampla gama de preços. \n",
    "- Também podemos ver que os carros a diesel tendem a ser mais caros. Finalmente, os carros de motores a gasolina e a diesel com aspiração padrão apresentam preços distorcidos para o lado inferior."
   ]
  },
  {
   "cell_type": "markdown",
   "metadata": {
    "collapsed": false
   },
   "source": [
    "**4.7 - Estética específica: Parcelas de caixa**\n",
    "- Usando Seaborn podemos adicionar dados de grupo para gráficos de caixa por tonalidade, como acabamos de fazer com parcelas de violino. \n",
    "- O código abaixo usa a tonalidade para agrupar os carros por estilo corporal. Como antes, o eixo x agrupa os automóveis pelo tipo de combustível."
   ]
  },
  {
   "cell_type": "code",
   "execution_count": 32,
   "metadata": {
    "collapsed": false
   },
   "outputs": [
    {
     "data": {
      "text/plain": [
       "<matplotlib.axes._subplots.AxesSubplot at 0x7f5ab4bd5828>"
      ]
     },
     "execution_count": 32,
     "metadata": {
     },
     "output_type": "execute_result"
    },
    {
     "data": {
      "image/png": "[encoded data removed]"
     },
     "execution_count": 32,
     "metadata": {
     },
     "output_type": "execute_result"
    }
   ],
   "source": [
    "sns.set_style(\"whitegrid\")\n",
    "sns.boxplot(data = auto_prices, x = 'fuel-type', y = 'price', hue=\"body-style\")"
   ]
  },
  {
   "cell_type": "markdown",
   "metadata": {
    "collapsed": false
   },
   "source": [
    "- Examine o plot, observando vários relacionamentos interessantes, incluindo:\n",
    "- Os hardtops de gás têm a mais ampla gama de preços, seguidos de conversíveis a gás.\n",
    "- Existem poucos estilos disponíveis para carros diesel.\n",
    "- Os hatchback a gás são geralmente os carros de menor custo, seguem os sedans de gás e diesel.\n",
    "- Existem dois carros diesel com tipos de corpo únicos. Uma trama diferente ou um subconjunto simples dos dados é necessário para identificar estes tipos de corpo."
   ]
  },
  {
   "cell_type": "markdown",
   "metadata": {
    "collapsed": false
   },
   "source": [
    "** 5. Parcelas de múltiplos plots e facetas**\n",
    "- Nós exploramos os tipos básicos de lote e usamos a estética para projetar múltiplas dimensões em tipos de enredo básicos. Agora vamos investigar o uso de múltiplos eixos de tramas e de uma técnica conhecida como facetada. Faceting envolve o uso de valores de variáveis categóricas ou numéricas para criar uma grade sistemática de plots relacionados. As facetas são feitas por vários outros elementos, incluindo plotagem condicionada ou traçado de rede.\n",
    "- Vamos agora explorar vários aspectos destes:\n",
    "\n",
    "1. Paramentos com densidade marginal\n",
    "2. Parcelas de dispersão em par\n",
    "3. Parcelas de múltiplos eixos\n",
    "4. Parcelas facetadas"
   ]
  },
  {
   "cell_type": "markdown",
   "metadata": {
    "collapsed": false
   },
   "source": [
    "**5.1- Parcelas com densidade  nas margens**\n",
    "- Um tipo de gráfico de multi-eixo simples é um gráfico de dispersão com a densidade marginal de cada dimensão mostrada ao longo do eixo horizontal ou vertical.\n",
    "- O código na célula abaixo usa o método de junção conjunta de Seaborn para criar apenas um enredo. As colunas a serem plotadas nos eixos x e y, juntamente com o nome de uma moldura de dados pandas ou numpy, são especificadas como argumentos. O argumento de transparência alfa é especificado para lidar com ***overplotting***.\n",
    "- O gráfico abaixo mostra a relação entre preço e tamanho do motor. A distribuição marginal do preço é mostrada ao longo do eixo y e a distribuição marginal do tamanho do motor é mostrada ao longo do eixo x."
   ]
  },
  {
   "cell_type": "code",
   "execution_count": 19,
   "metadata": {
    "collapsed": false
   },
   "outputs": [
    {
     "data": {
      "text/plain": [
       "<seaborn.axisgrid.JointGrid at 0x7f5abb7f6d30>"
      ]
     },
     "execution_count": 19,
     "metadata": {
     },
     "output_type": "execute_result"
    },
    {
     "data": {
      "image/png": "[encoded data removed]"
     },
     "execution_count": 19,
     "metadata": {
     },
     "output_type": "execute_result"
    }
   ],
   "source": [
    "sns.set_style(\"whitegrid\")\n",
    "sns.jointplot('engine-size', 'price', data = auto_prices, alpha = 0.3)"
   ]
  },
  {
   "cell_type": "markdown",
   "metadata": {
    "collapsed": false
   },
   "source": [
    "#### Exercício 1\n",
    "###### Até agora, na nossa exploração dos dados automotivos com gráficos de dispersão, focamos a relação entre preço e mpg da cidade. Neste exercício, você criará gráficos para algumas colunas adicionais:\n",
    "\n",
    "- Mude pelo menos uma das opções de cores.\n",
    "- Ligue para a função auto_color com uma lista de colunas diferentes: ***['engine-size', 'curb-weight']***.\n",
    "- Examine os plots resultantes. O que você pode aprender com essas plots?"
   ]
  },
  {
   "cell_type": "markdown",
   "metadata": {
    "collapsed": false
   },
   "source": [
    "#### Exercício 2\n",
    "###### Você já viu vários exemplos de usar a estética do gráfico para destacar vários relacionamentos no conjunto de dados. Você pode continuar a explorar o conjunto de dados usando a estética. Experimente o seguinte:\n",
    "\n",
    "- Copie o código usado para o plano de violino em uma nova célula.\n",
    "- Altere o grupo x por variável para \"wheel-base\".\n",
    "- Examine o plot resultante. Qual a nova informação agora aparente?"
   ]
  },
  {
   "cell_type": "markdown",
   "metadata": {
    "collapsed": false
   },
   "source": [
    "#### Exercício 3\n",
    "###### Agora é sua vez de tentar alguns plots com densidades nas margens. Faça o seguinte:\n",
    "\n",
    "- Altere a variável do eixo x para 'city-mpg'.\n",
    "- Examine o plot resultante. Qual a nova informação agora aparente?"
   ]
  },
  {
   "cell_type": "code",
   "execution_count": 0,
   "metadata": {
    "collapsed": false
   },
   "outputs": [
   ],
   "source": [
   ]
  }
 ],
 "metadata": {
  "kernelspec": {
   "display_name": "Python 2 (SageMath)",
   "language": "python",
   "name": "python2"
  },
  "language_info": {
   "codemirror_mode": {
    "name": "ipython",
    "version": 2
   },
   "file_extension": ".py",
   "mimetype": "text/x-python",
   "name": "python",
   "nbconvert_exporter": "python",
   "pygments_lexer": "ipython2",
   "version": "2.7.13"
  }
 },
 "nbformat": 4,
 "nbformat_minor": 0
}