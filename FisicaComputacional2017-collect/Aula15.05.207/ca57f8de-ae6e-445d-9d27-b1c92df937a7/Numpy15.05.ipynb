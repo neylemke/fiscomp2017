{
 "cells": [
  {
   "cell_type": "markdown",
   "metadata": {
    "slideshow": {
     "slide_type": "slide"
    }
   },
   "source": [
    "# Numpy"
   ]
  },
  {
   "cell_type": "markdown",
   "metadata": {
    "slideshow": {
     "slide_type": "subslide"
    }
   },
   "source": [
    "Numpy é a biblioteca essencial para computação científica em Python. Ela fornece um objeto que é essencialmente uma\n",
    "_array_ multidimensional e métodos de  alto desempenho para trabalhar com esses _arrays_. "
   ]
  },
  {
   "cell_type": "markdown",
   "metadata": {
    "slideshow": {
     "slide_type": "subslide"
    }
   },
   "source": [
    "## Arrays\n",
    "- Uma matriz numpy é uma tabela de valores, todos do mesmo tipo, e é indexada por uma tupla de inteiros não negativos.\n",
    "- O número de dimensões é o grau da matriz.\n",
    "- A forma de uma matriz é uma tupla de inteiros que dão o tamanho da matriz ao longo de cada dimensão.\n",
    "- Podemos inicializar matrizes numpy de listas concatenadas de Python e acessar elementos usando colchetes:"
   ]
  },
  {
   "cell_type": "code",
   "execution_count": 2,
   "metadata": {
    "collapsed": true
   },
   "outputs": [],
   "source": [
    "import numpy as np"
   ]
  },
  {
   "cell_type": "code",
   "execution_count": 3,
   "metadata": {},
   "outputs": [
    {
     "data": {
      "text/plain": [
       "array([[ 1,  2,  3,  9],\n",
       "       [ 6,  5,  4, 20],\n",
       "       [ 2,  4,  5,  7]])"
      ]
     },
     "execution_count": 3,
     "metadata": {},
     "output_type": "execute_result"
    }
   ],
   "source": [
    "a= [[1,2,3,9], [6,5,4,20],[2,4,5,7]]\n",
    "matriz = np.array(a)\n",
    "matriz\n"
   ]
  },
  {
   "cell_type": "code",
   "execution_count": 4,
   "metadata": {},
   "outputs": [
    {
     "data": {
      "text/plain": [
       "list"
      ]
     },
     "execution_count": 4,
     "metadata": {},
     "output_type": "execute_result"
    }
   ],
   "source": [
    "type(matriz)\n",
    "type(a)"
   ]
  },
  {
   "cell_type": "code",
   "execution_count": 5,
   "metadata": {},
   "outputs": [
    {
     "data": {
      "text/plain": [
       "array([[  1.,   2.,   3.,   9.],\n",
       "       [  6.,   5.,   4.,  20.],\n",
       "       [  2.,   4.,   5.,   7.]])"
      ]
     },
     "execution_count": 5,
     "metadata": {},
     "output_type": "execute_result"
    }
   ],
   "source": [
    "matriz1 = np.array(a, float)\n",
    "matriz1"
   ]
  },
  {
   "cell_type": "markdown",
   "metadata": {},
   "source": [
    "- Podemos verificar o número de linhas e colunas em nossos dados usando a propriedade `shape` de _arrays_ NumPy:"
   ]
  },
  {
   "cell_type": "code",
   "execution_count": 6,
   "metadata": {},
   "outputs": [
    {
     "data": {
      "text/plain": [
       "(3, 4)"
      ]
     },
     "execution_count": 6,
     "metadata": {},
     "output_type": "execute_result"
    }
   ],
   "source": [
    "matriz.shape"
   ]
  },
  {
   "cell_type": "markdown",
   "metadata": {},
   "source": [
    "Para criar um vetor linha fazemos:\n"
   ]
  },
  {
   "cell_type": "code",
   "execution_count": 39,
   "metadata": {
    "collapsed": true
   },
   "outputs": [],
   "source": [
    "vetor_linha=np.array([[1,2,3]]) # cria um vetor linha"
   ]
  },
  {
   "cell_type": "markdown",
   "metadata": {},
   "source": [
    "Para criar um vetor coluna temos que fazer:\n"
   ]
  },
  {
   "cell_type": "code",
   "execution_count": 40,
   "metadata": {
    "collapsed": true
   },
   "outputs": [],
   "source": [
    "vetor_coluna=np.array([[1],[2],[3]])"
   ]
  },
  {
   "cell_type": "code",
   "execution_count": 41,
   "metadata": {},
   "outputs": [
    {
     "data": {
      "text/plain": [
       "array([[1],\n",
       "       [2],\n",
       "       [3]])"
      ]
     },
     "execution_count": 41,
     "metadata": {},
     "output_type": "execute_result"
    }
   ],
   "source": [
    "vetor_coluna"
   ]
  },
  {
   "cell_type": "code",
   "execution_count": 42,
   "metadata": {},
   "outputs": [
    {
     "data": {
      "text/plain": [
       "array([[1, 2, 3]])"
      ]
     },
     "execution_count": 42,
     "metadata": {},
     "output_type": "execute_result"
    }
   ],
   "source": [
    "vetor_coluna.T"
   ]
  },
  {
   "cell_type": "code",
   "execution_count": 43,
   "metadata": {},
   "outputs": [
    {
     "data": {
      "text/plain": [
       "array([[1],\n",
       "       [2],\n",
       "       [3]])"
      ]
     },
     "execution_count": 43,
     "metadata": {},
     "output_type": "execute_result"
    }
   ],
   "source": [
    "vetor_linha.T"
   ]
  },
  {
   "cell_type": "code",
   "execution_count": 44,
   "metadata": {},
   "outputs": [
    {
     "data": {
      "text/plain": [
       "array([[1, 2, 3],\n",
       "       [2, 4, 6],\n",
       "       [3, 6, 9]])"
      ]
     },
     "execution_count": 44,
     "metadata": {},
     "output_type": "execute_result"
    }
   ],
   "source": [
    "vetor_linha*vetor_coluna"
   ]
  },
  {
   "cell_type": "markdown",
   "metadata": {},
   "source": [
    "### Matriz com zeros\n",
    "\n",
    "- Para começar, você pode criar uma matriz onde cada elemento é zero. O código a seguir criará uma matriz com 3 linhas e 4 colunas, onde cada elemento é 0 , usando `np.zeros`:"
   ]
  },
  {
   "cell_type": "code",
   "execution_count": 24,
   "metadata": {},
   "outputs": [
    {
     "data": {
      "text/plain": [
       "array([[ 0.,  0.,  0.,  0.],\n",
       "       [ 0.,  0.,  0.,  0.],\n",
       "       [ 0.,  0.,  0.,  0.]])"
      ]
     },
     "execution_count": 24,
     "metadata": {},
     "output_type": "execute_result"
    }
   ],
   "source": [
    "empty_array = np.zeros((3,4))\n",
    "empty_array"
   ]
  },
  {
   "cell_type": "markdown",
   "metadata": {},
   "source": [
    "- É útil criar uma matriz com todos os elementos zero nos casos em que você precisa de uma matriz de tamanho fixo, mas ainda não tem nenhum valor para ela."
   ]
  },
  {
   "cell_type": "markdown",
   "metadata": {},
   "source": [
    "### Matriz de números aleatórios (Random)\n",
    "- É possível criar uma matriz onde cada elemento é um número aleatório usando `numpy.random.rand`. Veja o exemplo a seguir: "
   ]
  },
  {
   "cell_type": "code",
   "execution_count": 8,
   "metadata": {},
   "outputs": [
    {
     "data": {
      "text/plain": [
       "array([[ 0.3321051 ,  0.6748329 ,  0.27149443,  0.39591691],\n",
       "       [ 0.08844625,  0.77155174,  0.46242975,  0.05445745],\n",
       "       [ 0.30244142,  0.23781445,  0.88637903,  0.90571926]])"
      ]
     },
     "execution_count": 8,
     "metadata": {},
     "output_type": "execute_result"
    }
   ],
   "source": [
    "np.random.rand(3,4)"
   ]
  },
  {
   "cell_type": "markdown",
   "metadata": {},
   "source": [
    "### Criando matriz com Reshape"
   ]
  },
  {
   "cell_type": "code",
   "execution_count": 9,
   "metadata": {},
   "outputs": [
    {
     "name": "stdout",
     "output_type": "stream",
     "text": [
      "[[ 0  1  2  3]\n",
      " [ 4  5  6  7]\n",
      " [ 8  9 10 11]]\n"
     ]
    }
   ],
   "source": [
    "x = np.array(range(12)).reshape(3,4)\n",
    "print(x)"
   ]
  },
  {
   "cell_type": "markdown",
   "metadata": {},
   "source": [
    "### Índices e fatias\n",
    "- Para acessar um elemento de uma lista de dimensão n é necessário fornecer o valor de n índices, ou seja, 2 índices para uma matriz bidimensional, 3 índices para uma matriz tridimensional e assim por diante.\n",
    "- Embora seja possível usar a mesma forma para acessar elementos de um array, uma forma mais eficiente é separando os valores por vírgulas, como a seguir:"
   ]
  },
  {
   "cell_type": "code",
   "execution_count": 10,
   "metadata": {},
   "outputs": [
    {
     "data": {
      "text/plain": [
       "[[0, 1, 2, 3], [4, 5, 6, 7], [8, 9, 10, 11]]"
      ]
     },
     "execution_count": 10,
     "metadata": {},
     "output_type": "execute_result"
    }
   ],
   "source": [
    "lista = [[0, 1, 2, 3], [4, 5, 6, 7], [8, 9, 10, 11]]\n",
    "lista"
   ]
  },
  {
   "cell_type": "code",
   "execution_count": 11,
   "metadata": {},
   "outputs": [
    {
     "data": {
      "text/plain": [
       "[[0, 1, 2, 3], [4, 5, 6, 7]]"
      ]
     },
     "execution_count": 11,
     "metadata": {},
     "output_type": "execute_result"
    }
   ],
   "source": [
    "lista[0:-1]"
   ]
  },
  {
   "cell_type": "code",
   "execution_count": 12,
   "metadata": {},
   "outputs": [
    {
     "data": {
      "text/plain": [
       "array([[ 0,  1,  2,  3],\n",
       "       [ 4,  5,  6,  7],\n",
       "       [ 8,  9, 10, 11]])"
      ]
     },
     "execution_count": 12,
     "metadata": {},
     "output_type": "execute_result"
    }
   ],
   "source": [
    "mat = np.array(lista)\n",
    "mat"
   ]
  },
  {
   "cell_type": "code",
   "execution_count": 30,
   "metadata": {},
   "outputs": [
    {
     "data": {
      "text/plain": [
       "array([[4, 5, 6, 7]])"
      ]
     },
     "execution_count": 30,
     "metadata": {},
     "output_type": "execute_result"
    }
   ],
   "source": [
    "mat[1:-1] ##Pegando penúltima linha"
   ]
  },
  {
   "cell_type": "code",
   "execution_count": 31,
   "metadata": {},
   "outputs": [
    {
     "data": {
      "text/plain": [
       "array([ 2,  6, 10])"
      ]
     },
     "execution_count": 31,
     "metadata": {},
     "output_type": "execute_result"
    }
   ],
   "source": [
    "mat[:,2]## Pegando a terceira coluna"
   ]
  },
  {
   "cell_type": "code",
   "execution_count": 32,
   "metadata": {},
   "outputs": [
    {
     "data": {
      "text/plain": [
       "array([[ 2,  3],\n",
       "       [ 6,  7],\n",
       "       [10, 11]])"
      ]
     },
     "execution_count": 32,
     "metadata": {},
     "output_type": "execute_result"
    }
   ],
   "source": [
    "mat[:,2:]## Duas ultimas colunas e linhas"
   ]
  },
  {
   "cell_type": "markdown",
   "metadata": {},
   "source": [
    "### Operações com arrays\n",
    "- O NumPy oferece muito mais recursos que listas para operação e manipulação de arrays que facilitam a computação científica."
   ]
  },
  {
   "cell_type": "code",
   "execution_count": 35,
   "metadata": {},
   "outputs": [
    {
     "name": "stdout",
     "output_type": "stream",
     "text": [
      "Soma: [[1 4]\n",
      " [6 5]]\n",
      "Multiplicação: [[1 4]\n",
      " [6 5]]\n",
      "Subtração: [[1 4]\n",
      " [6 5]]\n"
     ]
    }
   ],
   "source": [
    "a1 = np.array([[1,2],[3,4]])\n",
    "b1 = np.array([[0,2],[3,1]])\n",
    "soma=a1+b1\n",
    "multiplicacao=a1*b1\n",
    "subtracao=b1/a1\n",
    "print('Soma:',soma)\n",
    "print('Multiplicação:',soma)\n",
    "print('Subtração:',soma)"
   ]
  },
  {
   "cell_type": "code",
   "execution_count": 45,
   "metadata": {},
   "outputs": [
    {
     "data": {
      "text/plain": [
       "array([[14]])"
      ]
     },
     "execution_count": 45,
     "metadata": {},
     "output_type": "execute_result"
    }
   ],
   "source": [
    "a=np.array([[1,2,3]])\n",
    "np.dot(a,a.T)"
   ]
  },
  {
   "cell_type": "markdown",
   "metadata": {},
   "source": [
    "### Operações entre arrays de tamanhos distintos\n",
    "- Em muitos casos, é necessário trabalhar com arrays com um número distinto de elementos, ou de formas diferentes. Nesse caso, é necessário entender as regras do NumPy que difundem as informações do array menor para o array maior.\n",
    "- O termo difusão (broadcasting) descreve como NumPy trata arrays de dimensões diferentes em operações aritméticas. O array menor é “difundido” a uma array maior para que tenham as mesmas dimensões. No caso de um escalar, o valor do escalar é difundido para todos os elementos do array maior, como no exemplo:"
   ]
  },
  {
   "cell_type": "code",
   "execution_count": 36,
   "metadata": {},
   "outputs": [
    {
     "data": {
      "text/plain": [
       "array([[2, 3],\n",
       "       [4, 5]])"
      ]
     },
     "execution_count": 36,
     "metadata": {},
     "output_type": "execute_result"
    }
   ],
   "source": [
    "a2 = np.array([[1,2],[3,4]])\n",
    "a2 + 1"
   ]
  },
  {
   "cell_type": "code",
   "execution_count": 39,
   "metadata": {},
   "outputs": [
    {
     "data": {
      "text/plain": [
       "array([[2, 4],\n",
       "       [6, 8]])"
      ]
     },
     "execution_count": 39,
     "metadata": {},
     "output_type": "execute_result"
    }
   ],
   "source": [
    "a2 * 2"
   ]
  },
  {
   "cell_type": "code",
   "execution_count": 40,
   "metadata": {},
   "outputs": [
    {
     "data": {
      "text/plain": [
       "array([[ 0.5,  1. ],\n",
       "       [ 1.5,  2. ]])"
      ]
     },
     "execution_count": 40,
     "metadata": {},
     "output_type": "execute_result"
    }
   ],
   "source": [
    "a2/2"
   ]
  },
  {
   "cell_type": "markdown",
   "metadata": {},
   "source": [
    "### Atribuir valores a NumPy Arrays\n",
    "- Também podemos usar a indexação para atribuir valores a determinados elementos em arrays. Podemos fazer isso atribuindo diretamente ao valor indexado:"
   ]
  },
  {
   "cell_type": "code",
   "execution_count": 14,
   "metadata": {
    "collapsed": true
   },
   "outputs": [],
   "source": [
    "numeros=np.random.rand(3,4)\n",
    "numeros[ 1 , 2] = 10\n",
    "numeros [:, 2 ] = 50"
   ]
  },
  {
   "cell_type": "code",
   "execution_count": 15,
   "metadata": {},
   "outputs": [
    {
     "data": {
      "text/plain": [
       "array([[  1.90657252e-02,   4.28180493e-01,   5.00000000e+01,\n",
       "          9.06423263e-02],\n",
       "       [  7.35581466e-01,   5.10557350e-01,   5.00000000e+01,\n",
       "          3.05358515e-01],\n",
       "       [  9.57031620e-02,   4.72088543e-01,   5.00000000e+01,\n",
       "          9.70031312e-01]])"
      ]
     },
     "execution_count": 15,
     "metadata": {},
     "output_type": "execute_result"
    }
   ],
   "source": [
    "numeros"
   ]
  },
  {
   "cell_type": "markdown",
   "metadata": {},
   "source": [
    "### Tipos de dados NumPy\n",
    "-  NumPy armazena valores usando seus próprios tipos de dados, que são distintos de tipos Python como **float** e **str** . Isso ocorre porque o núcleo do NumPy é escrito em uma linguagem de programação chamada C, que armazena dados de forma diferente dos tipos de dados Python. Os tipos de dados NumPy mapeiam entre Python e C, permitindo-nos usar matrizes NumPy sem nenhum engate de conversão.\n",
    "- Você pode encontrar o tipo de dados de uma matriz NumPy acessando a propriedade dtype:"
   ]
  },
  {
   "cell_type": "code",
   "execution_count": 16,
   "metadata": {},
   "outputs": [
    {
     "data": {
      "text/plain": [
       "dtype('float64')"
      ]
     },
     "execution_count": 16,
     "metadata": {},
     "output_type": "execute_result"
    }
   ],
   "source": [
    "numeros.dtype"
   ]
  },
  {
   "cell_type": "markdown",
   "metadata": {},
   "source": [
    "- NumPy tem vários tipos de dados diferentes, que mapeiam principalmente para tipos de dados Python, como float e str . Você pode encontrar uma lista completa dos tipos de dados NumPy aqui , mas aqui estão alguns importantes:\n",
    "\n",
    "- **float** - dados numéricos de ponto flutuante.\n",
    "- **int** - dados inteiros.\n",
    "- **string** - dados de caracteres.\n",
    "- **object** - Objetos Python.\n",
    " \n",
    "- Os tipos de dados, adicionalmente, terminam com um sufixo que indica quantos bits de memória eles ocupam. Assim, int32 é um tipo de dados inteiros de 32 bits e float64 é um tipo de dados float de 64 bits."
   ]
  },
  {
   "cell_type": "markdown",
   "metadata": {},
   "source": [
    "### Convertendo tipos de dados\n",
    "- Você pode usar o método **numpy.ndarray.astype** para converter uma matriz em um tipo diferente. O método realmente copiará a matriz e retornará uma nova matriz com o tipo de dados especificado. "
   ]
  },
  {
   "cell_type": "code",
   "execution_count": 17,
   "metadata": {},
   "outputs": [
    {
     "data": {
      "text/plain": [
       "array([[ 0,  0, 50,  0],\n",
       "       [ 0,  0, 50,  0],\n",
       "       [ 0,  0, 50,  0]])"
      ]
     },
     "execution_count": 17,
     "metadata": {},
     "output_type": "execute_result"
    }
   ],
   "source": [
    "numeros.astype(int)"
   ]
  },
  {
   "cell_type": "markdown",
   "metadata": {},
   "source": [
    "### NumPy Array Comparações\n",
    "- NumPy torna possível testar para ver se as linhas correspondem a certos valores usando operações de comparação matemática como < , > , >= , <= e == . Por exemplo, se queremos ver quais vinhos têm uma classificação de qualidade superior a 5 , podemos fazer o seguinte:"
   ]
  },
  {
   "cell_type": "code",
   "execution_count": 18,
   "metadata": {},
   "outputs": [
    {
     "data": {
      "text/plain": [
       "array([[  1.90657252e-02,   4.28180493e-01,   5.00000000e+01,\n",
       "          9.06423263e-02],\n",
       "       [  7.35581466e-01,   5.10557350e-01,   5.00000000e+01,\n",
       "          3.05358515e-01],\n",
       "       [  9.57031620e-02,   4.72088543e-01,   5.00000000e+01,\n",
       "          9.70031312e-01]])"
      ]
     },
     "execution_count": 18,
     "metadata": {},
     "output_type": "execute_result"
    }
   ],
   "source": [
    "numeros"
   ]
  },
  {
   "cell_type": "code",
   "execution_count": 19,
   "metadata": {},
   "outputs": [
    {
     "data": {
      "text/plain": [
       "array([[False, False,  True, False],\n",
       "       [False, False,  True, False],\n",
       "       [False, False,  True, False]], dtype=bool)"
      ]
     },
     "execution_count": 19,
     "metadata": {},
     "output_type": "execute_result"
    }
   ],
   "source": [
    "numeros> 5"
   ]
  },
  {
   "cell_type": "code",
   "execution_count": 20,
   "metadata": {},
   "outputs": [
    {
     "data": {
      "text/plain": [
       "array([False, False, False], dtype=bool)"
      ]
     },
     "execution_count": 20,
     "metadata": {},
     "output_type": "execute_result"
    }
   ],
   "source": [
    "numeros[:, 0 ] == 10"
   ]
  },
  {
   "cell_type": "code",
   "execution_count": 21,
   "metadata": {},
   "outputs": [
    {
     "data": {
      "text/plain": [
       "array([ True,  True,  True], dtype=bool)"
      ]
     },
     "execution_count": 21,
     "metadata": {},
     "output_type": "execute_result"
    }
   ],
   "source": [
    "numeros[:, 2] == 50."
   ]
  },
  {
   "cell_type": "markdown",
   "metadata": {},
   "source": [
    "### Subsetting\n",
    "- Uma das operações poderosas que podemos realizar com uma matriz booleana e uma matriz NumPy é selecionar apenas algumas linhas ou colunas na matriz NumPy. Por exemplo, o código abaixo só irá selecionar linhas cuja qualidade é superior a 7 :"
   ]
  },
  {
   "cell_type": "code",
   "execution_count": 22,
   "metadata": {},
   "outputs": [
    {
     "data": {
      "text/plain": [
       "array([], shape=(0, 4), dtype=float64)"
      ]
     },
     "execution_count": 22,
     "metadata": {},
     "output_type": "execute_result"
    }
   ],
   "source": [
    "high_quality = numeros[:,1] > 2\n",
    "numeros[high_quality,:][:3,:]"
   ]
  },
  {
   "cell_type": "markdown",
   "metadata": {},
   "source": [
    "## Operações Diversas"
   ]
  },
  {
   "cell_type": "markdown",
   "metadata": {},
   "source": [
    "- Para achatar os dados, ou seja acabar com sua estrutura interna"
   ]
  },
  {
   "cell_type": "code",
   "execution_count": 23,
   "metadata": {},
   "outputs": [
    {
     "data": {
      "text/plain": [
       "array([  1.90657252e-02,   4.28180493e-01,   5.00000000e+01,\n",
       "         9.06423263e-02,   7.35581466e-01,   5.10557350e-01,\n",
       "         5.00000000e+01,   3.05358515e-01,   9.57031620e-02,\n",
       "         4.72088543e-01,   5.00000000e+01,   9.70031312e-01])"
      ]
     },
     "execution_count": 23,
     "metadata": {},
     "output_type": "execute_result"
    }
   ],
   "source": [
    "numeros.ravel()"
   ]
  },
  {
   "cell_type": "markdown",
   "metadata": {},
   "source": [
    "Para inserir uma linha em um `array`:"
   ]
  },
  {
   "cell_type": "code",
   "execution_count": 30,
   "metadata": {},
   "outputs": [
    {
     "data": {
      "text/plain": [
       "array([[  1.90657252e-02,   4.28180493e-01,   5.00000000e+01,\n",
       "          9.06423263e-02],\n",
       "       [  7.35581466e-01,   5.10557350e-01,   5.00000000e+01,\n",
       "          3.05358515e-01],\n",
       "       [  9.57031620e-02,   4.72088543e-01,   5.00000000e+01,\n",
       "          9.70031312e-01],\n",
       "       [  1.00000000e+00,   2.00000000e+00,   3.00000000e+00,\n",
       "          4.00000000e+00]])"
      ]
     },
     "execution_count": 30,
     "metadata": {},
     "output_type": "execute_result"
    }
   ],
   "source": [
    "np.vstack((numeros, [1,2,3,4]))"
   ]
  },
  {
   "cell_type": "markdown",
   "metadata": {},
   "source": [
    "Para inserir uma coluna. Note que temos que criar um vetor coluna.\n"
   ]
  },
  {
   "cell_type": "code",
   "execution_count": 31,
   "metadata": {},
   "outputs": [
    {
     "data": {
      "text/plain": [
       "array([[  1.90657252e-02,   4.28180493e-01,   5.00000000e+01,\n",
       "          9.06423263e-02,   1.00000000e+00],\n",
       "       [  7.35581466e-01,   5.10557350e-01,   5.00000000e+01,\n",
       "          3.05358515e-01,   2.00000000e+00],\n",
       "       [  9.57031620e-02,   4.72088543e-01,   5.00000000e+01,\n",
       "          9.70031312e-01,   3.00000000e+00]])"
      ]
     },
     "execution_count": 31,
     "metadata": {},
     "output_type": "execute_result"
    }
   ],
   "source": [
    "np.hstack((numeros,[[1],[2],[3]]))"
   ]
  },
  {
   "cell_type": "markdown",
   "metadata": {},
   "source": [
    "## Álgebra Linear"
   ]
  },
  {
   "cell_type": "code",
   "execution_count": 46,
   "metadata": {
    "collapsed": true
   },
   "outputs": [],
   "source": [
    "\n",
    "from numpy import linalg as LA\n",
    "arr2d = np.array((  (100,200,300), \n",
    "          (111,222,333), \n",
    "          (129,461,795) ))\n",
    "\n"
   ]
  },
  {
   "cell_type": "markdown",
   "metadata": {},
   "source": [
    "Calcula os autovalores:"
   ]
  },
  {
   "cell_type": "code",
   "execution_count": 47,
   "metadata": {
    "collapsed": true
   },
   "outputs": [],
   "source": [
    "eig_val, eig_vec = LA.eig(arr2d)"
   ]
  },
  {
   "cell_type": "code",
   "execution_count": 48,
   "metadata": {},
   "outputs": [
    {
     "data": {
      "text/plain": [
       "array([  1.05664180e+03,   6.03582029e+01,   2.37768608e-14])"
      ]
     },
     "execution_count": 48,
     "metadata": {},
     "output_type": "execute_result"
    }
   ],
   "source": [
    "eig_val"
   ]
  },
  {
   "cell_type": "code",
   "execution_count": 49,
   "metadata": {},
   "outputs": [
    {
     "data": {
      "text/plain": [
       "array([[ 0.34860455,  0.57805139,  0.41356846],\n",
       "       [ 0.38695105,  0.64163704, -0.81514943],\n",
       "       [ 0.8536649 , -0.50414135,  0.4055768 ]])"
      ]
     },
     "execution_count": 49,
     "metadata": {},
     "output_type": "execute_result"
    }
   ],
   "source": [
    "eig_vec"
   ]
  },
  {
   "cell_type": "code",
   "execution_count": 51,
   "metadata": {},
   "outputs": [
    {
     "data": {
      "text/plain": [
       "1083.3655892633844"
      ]
     },
     "execution_count": 51,
     "metadata": {},
     "output_type": "execute_result"
    }
   ],
   "source": [
    "LA.norm(arr2d) # calcula a norma da matriz\n"
   ]
  },
  {
   "cell_type": "code",
   "execution_count": 0,
   "metadata": {
    "collapsed": true
   },
   "outputs": [],
   "source": [
    "LA.det(arr2d) # calcula determinante\n"
   ]
  },
  {
   "cell_type": "code",
   "execution_count": 0,
   "metadata": {
    "collapsed": true
   },
   "outputs": [],
   "source": [
    "LA.inv(arr2d) # calcula inversa"
   ]
  },
  {
   "cell_type": "markdown",
   "metadata": {},
   "source": [
    "Resolve sistemas lineares na forma\n",
    "\n",
    "$$ a x + b y = c $$\n",
    "$$ d x + e y = f $$"
   ]
  },
  {
   "cell_type": "markdown",
   "metadata": {},
   "source": [
    "$$\\left(\\begin{array} \n",
    " a a & b \\\\\n",
    "d & e \n",
    "\\end{array}\\right)\\cdot\n",
    "\\left(\n",
    "\\begin{array}\n",
    "x x \\\\\n",
    "y\n",
    "\\end{array}\n",
    "\\right)=\n",
    "\\left(\n",
    "\\begin{array}\n",
    "c c \\\\\n",
    "f\n",
    "\\end{array}\n",
    "\\right)\n",
    "$$"
   ]
  },
  {
   "cell_type": "code",
   "execution_count": 0,
   "metadata": {
    "collapsed": true
   },
   "outputs": [],
   "source": [
    "arr1 = np.array([[2,3], [3,4]])\n",
    "arr2 = np.array([4,5])\n",
    "results = np.linalg.solve(arr1, arr2)\n",
    "print results"
   ]
  },
  {
   "cell_type": "markdown",
   "metadata": {},
   "source": [
    "## Exercícios para fazer na aula\n",
    "- Encontre índices de elementos não nulos de [1,2,0,0,4,0] \n",
    "- Extrair a parte inteira de uma matriz aleatória\n",
    "- Considere uma matriz aleatória de 10$\\times$2 que represente coordenadas cartesianas, converta-as em coordenadas polares\n",
    "- Considere um vetor aleatório com forma (100,2) representando coordenadas, encontre as  distâncias entre todos os pontos \n",
    "- Considere o vetor [1, 2, 3, 4, 5], como construir um novo vetor com 3 zeros consecutivos intercalados entre cada valor?"
   ]
  },
  {
   "cell_type": "markdown",
   "metadata": {},
   "source": [
    "### Exercício 1 - Jogo da Vida (0.25)\n",
    "- O Jogo da Vida (The Game of Life) é um autômato celular (cellular automaton) introduzido por John Horton Conway em 1970. Um automato celular consiste de uma rede de células. Cada célula pode estar em um número finito de estados, como morta ou viva. O “jogo” é na verdade uma simulação que permite observar a evolução de um processo a partir de uma certa condição inicial.\n",
    "- O jogo se desenvolve sobre uma matriz bi-dimensional que pode ser tão grande quanto se queira. Vamos chamar essa matriz de mapa. Cada posição ou célula do mapa pode estar vazia (= célula morta) ou ocupada por um agente (= célula viva). Cada posição possui também até 8 posições vizinhas: imediatamente acima, abaixo, aos lados e nas diagonais. Em um determinado instante, o mapa contém uma geração de agentes. A geração no instante seguinte é determinada segundo as regras abaixo:\n",
    "- Novos agentes nascem em células vazias que possuam exatamente 3 agentes vizinhos;\n",
    "- **Agentes com 2 ou 3 agentes vizinhos sobrevivem;**\n",
    "- **Agentes com menos de 2 agentes vizinhos morrem for falta de recursos;**\n",
    "- **Agentes com mais de 3 agentes vizinhos morrem por excesso de competição.**"
   ]
  }
 ],
 "metadata": {
  "celltoolbar": "Slideshow",
  "kernelspec": {
   "display_name": "T - Python 3 (Ubuntu Linux)",
   "language": "python",
   "name": "python3"
  },
  "language_info": {
   "codemirror_mode": {
    "name": "ipython",
    "version": 3
   },
   "file_extension": ".py",
   "mimetype": "text/x-python",
   "name": "python",
   "nbconvert_exporter": "python",
   "pygments_lexer": "ipython3",
   "version": "3.4.3+"
  }
 },
 "nbformat": 4,
 "nbformat_minor": 1
}
