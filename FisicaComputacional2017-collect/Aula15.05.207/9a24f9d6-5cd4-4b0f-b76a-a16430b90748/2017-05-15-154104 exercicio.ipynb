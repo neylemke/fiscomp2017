{
 "cells": [
  {
   "cell_type": "code",
   "execution_count": 1,
   "metadata": {
    "collapsed": false
   },
   "outputs": [
    {
     "name": "stdout",
     "output_type": "stream",
     "text": [
      "0\n",
      "1\n",
      "4\n"
     ]
    }
   ],
   "source": [
    "#Exercício 1\n",
    "\n",
    "import numpy as np\n",
    "matrix=[1,2,0,0,4,0]\n",
    "for i in range(len(matrix)):\n",
    "    if(matrix[i]!= 0):\n",
    "        print(i)"
   ]
  },
  {
   "cell_type": "code",
   "execution_count": 2,
   "metadata": {
    "collapsed": false
   },
   "outputs": [
    {
     "name": "stdout",
     "output_type": "stream",
     "text": [
      "[[ 0.3995668   0.47192417  0.19802905  0.12809977]\n",
      " [ 0.634226    0.98492364  0.7930589   0.64551253]\n",
      " [ 0.72003793  0.31154016  0.77761613  0.29558676]]\n",
      "[array([ 0.,  0.,  0.,  0.]), array([ 0.,  0.,  0.,  0.]), array([ 0.,  0.,  0.,  0.])]\n"
     ]
    }
   ],
   "source": [
    "#Exercício 2\n",
    "\n",
    "import numpy as np\n",
    "matrix=np.random.rand(3,4)\n",
    "intmatrix=[]\n",
    "for i in range(len(matrix)):\n",
    "    aux=matrix[i]//1\n",
    "    intmatrix.append(aux)\n",
    "print(matrix)\n",
    "print(intmatrix)"
   ]
  },
  {
   "cell_type": "code",
   "execution_count": 3,
   "metadata": {
    "collapsed": false
   },
   "outputs": [
    {
     "name": "stdout",
     "output_type": "stream",
     "text": [
      "[[ 0.98132201  0.89989813]\n",
      " [ 0.60080656  0.19346379]\n",
      " [ 0.04958506  0.76985912]\n",
      " [ 0.10426923  0.85968268]\n",
      " [ 0.08672395  0.95207269]\n",
      " [ 0.97753925  0.79473516]\n",
      " [ 0.97026864  0.95150408]\n",
      " [ 0.58899454  0.89371562]\n",
      " [ 0.98997494  0.27185801]\n",
      " [ 0.62515001  0.49630393]]\n",
      "[(1.3314689378590541, 0.74214267287029423), (0.63118678446278298, 0.31152226432265417), (0.7714543081493771, 1.5064771969752286), (0.86598290109988041, 1.4500978331653289), (0.95601435205403718, 1.4799573861876079), (1.2598360851508417, 0.68261504178484922), (1.3589633000410166, 0.77563428287102743), (1.0703467538675342, 0.98809216772232356), (1.0266241546171642, 0.2680045247893727), (0.79820431902695377, 0.67100773329468577)]\n"
     ]
    }
   ],
   "source": [
    "#Exercício 3\n",
    "\n",
    "import numpy as np\n",
    "def cart2pol(x, y):\n",
    "    rho = np.sqrt(x**2 + y**2)\n",
    "    phi = np.arctan2(y, x)\n",
    "    return(rho, phi)\n",
    "matrix=np.random.rand(10,2)\n",
    "matrix2pol=[]\n",
    "for i in range(0,10):\n",
    "    matrix2pol.append(cart2pol(matrix[i][0],matrix[i][1]))\n",
    "print(matrix)        \n",
    "print(matrix2pol)"
   ]
  },
  {
   "cell_type": "code",
   "execution_count": 6,
   "metadata": {
    "collapsed": false,
    "scrolled": true
   },
   "outputs": [
    {
     "name": "stderr",
     "output_type": "stream",
     "text": [
      "WARNING: Some output was deleted.\n"
     ]
    }
   ],
   "source": [
    "#Exercício 4\n",
    "\n",
    "matrix=np.random.rand(100,2)\n",
    "matrixD=[]\n",
    "for i in range(len(matrix)):\n",
    "    for j in range(len(matrix)):\n",
    "        matrixD.append(np.sqrt(((matrix[i][0]-matrix[j][0])**2)+((matrix[i][0]-matrix[j][1])**2)))\n",
    "print matrixD"
   ]
  },
  {
   "cell_type": "code",
   "execution_count": 5,
   "metadata": {
    "collapsed": false
   },
   "outputs": [
    {
     "name": "stdout",
     "output_type": "stream",
     "text": [
      "[0, 0, 0, 0, 1, 0, 0, 0, 2, 0, 0, 0, 3, 0, 0, 0, 4, 0, 0, 0, 5, 0, 0, 0]\n"
     ]
    }
   ],
   "source": [
    "#Exercício 5\n",
    "\n",
    "vetor=[0,1,2,3,4,5]\n",
    "vetor2=[]\n",
    "for i in range(len(vetor)):\n",
    "    vetor2.append(vetor[i])\n",
    "    for i in range(0,3):\n",
    "        vetor2.append(0)\n",
    "print(vetor2)"
   ]
  },
  {
   "cell_type": "code",
   "execution_count": 0,
   "metadata": {
    "collapsed": false
   },
   "outputs": [
   ],
   "source": [
   ]
  }
 ],
 "metadata": {
  "kernelspec": {
   "display_name": "Python 2 (SageMath)",
   "language": "python",
   "name": "python2"
  },
  "language_info": {
   "codemirror_mode": {
    "name": "ipython",
    "version": 2
   },
   "file_extension": ".py",
   "mimetype": "text/x-python",
   "name": "python",
   "nbconvert_exporter": "python",
   "pygments_lexer": "ipython2",
   "version": "2.7.13"
  }
 },
 "nbformat": 4,
 "nbformat_minor": 0
}