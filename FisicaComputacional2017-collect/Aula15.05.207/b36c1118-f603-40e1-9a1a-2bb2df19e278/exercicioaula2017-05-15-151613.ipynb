{
 "cells": [
  {
   "cell_type": "markdown",
   "metadata": {
    "collapsed": false
   },
   "source": [
    "## Exercícios para fazer na aula\n",
    "- Encontre índices de elementos não nulos de [1,2,0,0,4,0] \n",
    "- Extrair a parte inteira de uma matriz aleatória\n",
    "- Considere uma matriz aleatória de 10$\\times$2 que represente coordenadas cartesianas, converta-as em coordenadas polares\n",
    "- Considere um vetor aleatório com forma (100,2) representando coordenadas, encontre as  distâncias entre todos os pontos \n",
    "- Considere o vetor [1, 2, 3, 4, 5], como construir um novo vetor com 3 zeros consecutivos intercalados entre cada valor?"
   ]
  },
  {
   "cell_type": "markdown",
   "metadata": {
    "collapsed": false
   },
   "source": [
    "## **EXERCÍCIO 1**"
   ]
  },
  {
   "cell_type": "code",
   "execution_count": 18,
   "metadata": {
    "collapsed": false
   },
   "outputs": [
    {
     "data": {
      "text/plain": [
       "array([[1, 2, 0, 0, 4, 0]])"
      ]
     },
     "execution_count": 18,
     "metadata": {
     },
     "output_type": "execute_result"
    }
   ],
   "source": [
    "import numpy as np\n",
    "a = np . array([[1,2,0,0,4,0]])\n",
    "a"
   ]
  },
  {
   "cell_type": "code",
   "execution_count": 19,
   "metadata": {
    "collapsed": false
   },
   "outputs": [
    {
     "data": {
      "text/plain": [
       "(array([0, 0, 0]), array([0, 1, 4]))"
      ]
     },
     "execution_count": 19,
     "metadata": {
     },
     "output_type": "execute_result"
    }
   ],
   "source": [
    "ab=np.nonzero(a)\n",
    "ab"
   ]
  },
  {
   "cell_type": "code",
   "execution_count": 20,
   "metadata": {
    "collapsed": false
   },
   "outputs": [
    {
     "data": {
      "text/plain": [
       "(array([0, 1, 4]),)"
      ]
     },
     "execution_count": 20,
     "metadata": {
     },
     "output_type": "execute_result"
    }
   ],
   "source": [
    "a=ab[1:2]\n",
    "a"
   ]
  },
  {
   "cell_type": "markdown",
   "metadata": {
    "collapsed": false
   },
   "source": [
    "## **EXERCÍCIO 2**"
   ]
  },
  {
   "cell_type": "code",
   "execution_count": 17,
   "metadata": {
    "collapsed": false
   },
   "outputs": [
    {
     "data": {
      "text/plain": [
       "array([ 4.08323689,  4.3035512 ,  1.98868513,  6.93012432,  6.46150941,\n",
       "        4.94478717,  4.73650367,  1.97051585,  2.45858961,  5.2941766 ])"
      ]
     },
     "execution_count": 17,
     "metadata": {
     },
     "output_type": "execute_result"
    }
   ],
   "source": [
    "import numpy as np\n",
    "matrizal=np.random.uniform(1,8,10)\n",
    "matrizal"
   ]
  },
  {
   "cell_type": "code",
   "execution_count": 18,
   "metadata": {
    "collapsed": false
   },
   "outputs": [
    {
     "data": {
      "text/plain": [
       "array([ 4.,  4.,  1.,  6.,  6.,  4.,  4.,  1.,  2.,  5.])"
      ]
     },
     "execution_count": 18,
     "metadata": {
     },
     "output_type": "execute_result"
    }
   ],
   "source": [
    "a=np.floor(matrizal)\n",
    "a"
   ]
  },
  {
   "cell_type": "code",
   "execution_count": 21,
   "metadata": {
    "collapsed": false
   },
   "outputs": [
    {
     "data": {
      "text/plain": [
       "array([-0.38138742, -0.55831585, -0.52644807, -0.53439092, -0.72040794,\n",
       "       -0.83535408, -0.94267339, -0.61470982, -0.39326432, -0.11915962,\n",
       "       -0.35247004, -0.79130984, -0.84549565, -0.69027871, -0.38698136,\n",
       "       -0.54864664, -0.97156494, -0.97136929, -0.4027182 , -0.67117915,\n",
       "       -0.46157207, -0.17220847, -0.96409014, -0.5475501 , -0.1013316 ,\n",
       "       -0.24083462, -0.45367189, -0.43376226, -0.53600399, -0.59891471,\n",
       "       -0.59109139, -0.21582327, -0.67848201, -0.33139358, -0.18269097,\n",
       "       -0.26594537, -0.41990113, -0.66498615, -0.79211274, -0.52099184,\n",
       "       -0.76783645, -0.84515025, -0.77961309, -0.73826766, -0.32714256,\n",
       "       -0.61981074, -0.59566931, -0.1234886 , -0.55102462, -0.17470882,\n",
       "       -0.55916433, -0.49036947, -0.50090793, -0.05525166, -0.15082657,\n",
       "       -0.60247735, -0.80811961, -0.64176127, -0.26046203, -0.38518825,\n",
       "       -0.99640938, -0.43160802, -0.17691812, -0.30511151, -0.27672873,\n",
       "       -0.10661581, -0.66246171, -0.26907049, -0.66092412, -0.66480144,\n",
       "       -0.39732384, -0.14072073, -0.29567794, -0.84921947, -0.87748711,\n",
       "       -0.45198799, -0.44641473, -0.32130426, -0.09454696, -0.10761295,\n",
       "       -0.02052185, -0.47181395, -0.91276685, -0.48034039, -0.83637944,\n",
       "       -0.63171186, -0.3948555 , -0.08629112, -0.26465434, -0.4323144 ,\n",
       "       -0.27279928, -0.23641037, -0.54528748, -0.8735922 , -0.03579169,\n",
       "       -0.99824727, -0.0329968 , -0.20427304, -0.3827325 , -0.07854855,\n",
       "       -0.65821088, -0.74470102, -0.04528314, -0.59865744, -0.49713396,\n",
       "       -0.51847858, -0.7754941 , -0.59579904, -0.61024833, -0.77083295,\n",
       "       -0.29246659, -0.92828341, -0.32081307, -0.3009156 , -0.12537734,\n",
       "       -0.82234888, -0.12663659, -0.33264457, -0.74175699, -0.81121648,\n",
       "       -0.92752962, -0.79058973, -0.34547583, -0.31277101, -0.21049181,\n",
       "       -0.25079716, -0.52772866, -0.51171928, -0.31617784, -0.77872897,\n",
       "       -0.78665615, -0.93349062, -0.34303057, -0.42077434, -0.54867885,\n",
       "       -0.92457194, -0.74080332, -0.93040065, -0.41685905, -0.33251314,\n",
       "       -0.736339  , -0.28434611, -0.2579906 , -0.54256146, -0.39129646,\n",
       "       -0.81785289, -0.43307417, -0.44407337, -0.76170212, -0.41684044,\n",
       "       -0.34679486, -0.18158607, -0.80276284, -0.76877275, -0.06008998,\n",
       "       -0.73507389, -0.14636259, -0.38024045, -0.25253923, -0.58223976,\n",
       "       -0.36799725, -0.44373345, -0.48942271, -0.01661654, -0.40570914,\n",
       "       -0.16833108, -0.71336861, -0.33980504, -0.91311521, -0.53210516,\n",
       "       -0.28148153, -0.69283554, -0.32402485, -0.59791853, -0.99875319,\n",
       "       -0.65670312, -0.53928308, -0.6956297 , -0.73316719, -0.77844802,\n",
       "       -0.75381661, -0.73533731, -0.23471428, -0.15342732, -0.05943508,\n",
       "       -0.5117168 , -0.64405017, -0.40982681, -0.29722098, -0.34339571,\n",
       "       -0.6793673 , -0.92598611, -0.98411155, -0.1987394 , -0.44131213,\n",
       "       -0.02165158, -0.7215684 , -0.00912296, -0.89283767, -0.51972735,\n",
       "       -0.55114592, -0.33058259, -0.0227594 , -0.96925707, -0.28549322,\n",
       "       -0.02205134, -0.61139669, -0.11428915, -0.11924337, -0.12865272,\n",
       "       -0.97633184, -0.71831048, -0.38440502, -0.58608752, -0.77352944,\n",
       "       -0.27123188, -0.19444105, -0.77475732, -0.43389113, -0.79833801,\n",
       "       -0.94351027, -0.94225031, -0.03900982, -0.95679467, -0.38126843,\n",
       "       -0.8471036 , -0.52935064, -0.45164518, -0.3175495 , -0.68614631,\n",
       "       -0.82288565, -0.50812846, -0.25114124, -0.29084138, -0.20824303,\n",
       "       -0.1349276 , -0.33734016, -0.02431341, -0.76472844, -0.86186903,\n",
       "       -0.51515294, -0.80537341, -0.79430663, -0.78774889, -0.045754  ,\n",
       "       -0.3043267 , -0.00874997, -0.15691084, -0.47664262, -0.62126257,\n",
       "       -0.04621751, -0.39773404, -0.22111134, -0.28023804, -0.85714152,\n",
       "       -0.56043947, -0.74009194, -0.16392105, -0.81895785, -0.09426374,\n",
       "       -0.56436456, -0.66123504, -0.6925749 , -0.6279138 , -0.53656153,\n",
       "       -0.20940545, -0.37404303, -0.10738593, -0.59875434, -0.04956227,\n",
       "       -0.92722989, -0.18729731, -0.58269706, -0.46089558, -0.8534119 ,\n",
       "       -0.86173377, -0.56250598, -0.7812094 , -0.577932  , -0.01096934,\n",
       "       -0.54591681, -0.21799475, -0.56099118, -0.91553215, -0.22916212,\n",
       "       -0.20863439, -0.59110024, -0.45193064, -0.51342554, -0.40885917,\n",
       "       -0.5450602 , -0.18236539, -0.24008086, -0.38022903, -0.07306226,\n",
       "       -0.13619816, -0.83820679, -0.84140011, -0.93872273, -0.14322   ,\n",
       "       -0.52412981, -0.10239704, -0.10077103, -0.45386357, -0.66593525,\n",
       "       -0.7979554 , -0.8589786 , -0.19362931, -0.01950915, -0.03468396,\n",
       "       -0.79400669, -0.52228061, -0.46661987, -0.42694527, -0.63284659,\n",
       "       -0.28261469, -0.48409384, -0.56476608, -0.27252505, -0.19134792,\n",
       "       -0.38629998, -0.99386018, -0.00486322, -0.62949091, -0.51193738,\n",
       "       -0.06167956, -0.38927117, -0.99685447, -0.86375836, -0.01073804,\n",
       "       -0.02277029, -0.3436482 , -0.66662442, -0.25646532, -0.96074185,\n",
       "       -0.383745  , -0.897034  , -0.31064422, -0.79279258, -0.56931331,\n",
       "       -0.61786012, -0.28736162, -0.46326995, -0.58721364, -0.18980745,\n",
       "       -0.83315894, -0.68765538, -0.53278746, -0.15179543, -0.86696248,\n",
       "       -0.44724904, -0.2840237 , -0.26944689, -0.66932021, -0.65461287,\n",
       "       -0.40787065, -0.96983855, -0.25049603, -0.44006196, -0.16579705,\n",
       "       -0.88555166, -0.94670705, -0.96901533, -0.97272545, -0.58532851,\n",
       "       -0.31486807, -0.7186228 , -0.46726515, -0.26192314, -0.7800339 ,\n",
       "       -0.47906621, -0.28897895, -0.8825121 , -0.58627812, -0.67062275,\n",
       "       -0.55693007, -0.34419719, -0.27622252, -0.88752987, -0.05589   ,\n",
       "       -0.02008948, -0.89078382, -0.12338807, -0.31446684, -0.57153977,\n",
       "       -0.51878783, -0.81551696, -0.37996571, -0.90533195, -0.65820024,\n",
       "       -0.82747224, -0.50850004, -0.8309476 , -0.12746691, -0.91427692,\n",
       "       -0.47429931, -0.5741237 , -0.67704044, -0.35350417, -0.16649527,\n",
       "       -0.3399843 , -0.12861029, -0.10024307, -0.79183949, -0.75191766,\n",
       "       -0.26676143, -0.79534239, -0.28643018, -0.34142821, -0.29674657,\n",
       "       -0.78756139, -0.63907337, -0.28159459, -0.81512052, -0.66109429,\n",
       "       -0.45946563, -0.05028236, -0.22192212, -0.35925084, -0.1230872 ,\n",
       "       -0.58363244, -0.04606054, -0.15960104, -0.92433693, -0.34015022,\n",
       "       -0.61591292, -0.65499657, -0.72296186, -0.20390154, -0.15313247,\n",
       "       -0.10080613, -0.20615766, -0.72646187, -0.86832991, -0.84823763,\n",
       "       -0.93802628, -0.63241117, -0.22729126, -0.02727058, -0.92275298,\n",
       "       -0.16439615, -0.40424433, -0.60955718, -0.9247016 , -0.17295184,\n",
       "       -0.92670125, -0.17343822, -0.85986742, -0.60628385, -0.57856564,\n",
       "       -0.92091123, -0.7939507 , -0.60431836, -0.75017759, -0.62770232,\n",
       "       -0.43463516, -0.21135462, -0.00520595, -0.03448298, -0.88173139,\n",
       "       -0.08538297, -0.52139737, -0.62138483, -0.5102963 , -0.553054  ,\n",
       "       -0.81414406, -0.76698945, -0.41493142, -0.1758596 , -0.32842384,\n",
       "       -0.91352719, -0.13038704, -0.18282678, -0.45032959, -0.01112481,\n",
       "       -0.31742307, -0.0619079 , -0.57137302, -0.15812525, -0.59698026,\n",
       "       -0.11169097, -0.79601521, -0.27143596, -0.23964957, -0.14968305,\n",
       "       -0.03996504, -0.31260586, -0.08844133, -0.46783867, -0.63910749,\n",
       "       -0.86557222, -0.11175955, -0.94703812, -0.51095502, -0.96062476,\n",
       "       -0.92584623, -0.87175668, -0.32376397, -0.3926554 , -0.31006643,\n",
       "       -0.75702562, -0.35053475, -0.40244597, -0.22191095, -0.95632666,\n",
       "       -0.38867568, -0.85293634, -0.49382856, -0.78097458, -0.70492785,\n",
       "       -0.16892097, -0.37596357, -0.52310516, -0.05724845, -0.63915249,\n",
       "       -0.77283423, -0.53711359, -0.83368929, -0.58007422, -0.42529786,\n",
       "       -0.75083195, -0.98826189, -0.63144163, -0.8800012 , -0.46397442,\n",
       "       -0.02966697, -0.29696176, -0.53249   , -0.0958211 , -0.47323494,\n",
       "       -0.38947942, -0.00567098, -0.61390664, -0.19975437, -0.26071829,\n",
       "       -0.14611586, -0.49467047, -0.4864111 , -0.91643924, -0.17953682,\n",
       "       -0.03292335, -0.51012225, -0.14679846, -0.0393926 , -0.98869526,\n",
       "       -0.23117365, -0.68112918, -0.8898607 , -0.422473  , -0.79363304,\n",
       "       -0.22214728, -0.14956923, -0.8627737 , -0.09636959, -0.80000333,\n",
       "       -0.22417115, -0.05873684, -0.58510418, -0.63141429, -0.74074504,\n",
       "       -0.01899315, -0.32244347, -0.85104784, -0.69256322, -0.89763375,\n",
       "       -0.3003326 , -0.55659722, -0.63951107, -0.74053875, -0.86914699,\n",
       "       -0.59252362, -0.50210759, -0.12282677, -0.50986463, -0.36771288,\n",
       "       -0.19045083, -0.64694567, -0.04434878, -0.22737245, -0.70864177,\n",
       "       -0.80418991, -0.72565508, -0.74957077, -0.52891164, -0.08173726,\n",
       "       -0.47186471, -0.04577102, -0.17828646, -0.45755745, -0.0490315 ,\n",
       "       -0.3093961 , -0.29662374, -0.42086235, -0.31654912, -0.61201264,\n",
       "       -0.49780529, -0.92179775, -0.72886886, -0.86414924, -0.69078129,\n",
       "       -0.27008539, -0.30778624, -0.57150359, -0.51680509, -0.45212063,\n",
       "       -0.95020311, -0.30029118, -0.05566559, -0.93679678, -0.53248191,\n",
       "       -0.46547015, -0.05453707, -0.66299799, -0.42943186, -0.04322633,\n",
       "       -0.39951675, -0.70261556, -0.82156978, -0.67879744, -0.58006883,\n",
       "       -0.22795787, -0.41733207, -0.45529546, -0.20444414, -0.41260068,\n",
       "       -0.38896714, -0.92889853, -0.46246298, -0.27422038, -0.93974761,\n",
       "       -0.11235814, -0.23444768, -0.42730859, -0.00334181, -0.05532159,\n",
       "       -0.54563704, -0.16297786, -0.84094432, -0.25401862, -0.11076329,\n",
       "       -0.62478605, -0.32977853, -0.64490692, -0.46634002, -0.83930265,\n",
       "       -0.72308639, -0.84798024, -0.82567117, -0.94037272, -0.21045089,\n",
       "       -0.91617477, -0.11847713, -0.54274122, -0.05051246, -0.08643509,\n",
       "       -0.4239802 , -0.58400183, -0.94165988, -0.64331085, -0.61406959,\n",
       "       -0.3713173 , -0.49744312, -0.0253081 , -0.91078492, -0.09795497,\n",
       "       -0.15748863, -0.22360762, -0.44459926, -0.373826  , -0.84610664,\n",
       "       -0.96270943, -0.31698026, -0.61034842, -0.19503043, -0.56215781,\n",
       "       -0.93314957, -0.37863347, -0.68781355, -0.4168124 , -0.15570289,\n",
       "       -0.55561613, -0.20574543, -0.36965337, -0.98601133, -0.15331943,\n",
       "       -0.06274227, -0.80604171, -0.49780577, -0.54912006, -0.14014823,\n",
       "       -0.59573043, -0.90544996, -0.32829262, -0.16220379, -0.23923556,\n",
       "       -0.69546166, -0.75298737, -0.95034239, -0.92425706, -0.13504824,\n",
       "       -0.80093612, -0.87057259, -0.03565466, -0.16820822, -0.08554303,\n",
       "       -0.49352367, -0.92185888, -0.53726087, -0.69169939, -0.98598163,\n",
       "       -0.75138472, -0.38004018, -0.57528609, -0.2301495 , -0.93351123,\n",
       "       -0.33872675, -0.18545394, -0.42647981, -0.35832421, -0.43963373,\n",
       "       -0.55691224, -0.41598323, -0.60281546, -0.87937383, -0.80270162,\n",
       "       -0.44716414, -0.5412732 , -0.72636037, -0.74568028, -0.87222024,\n",
       "       -0.31305847, -0.66875436, -0.16554724, -0.86916182, -0.54348221,\n",
       "       -0.25532308, -0.32494369, -0.40656585, -0.68538867, -0.74353559,\n",
       "       -0.51228033, -0.04074592, -0.62900013, -0.10763486, -0.11828967,\n",
       "       -0.06747705, -0.19590925, -0.53275055, -0.87691986, -0.0348241 ,\n",
       "       -0.18280211, -0.5853207 , -0.6445846 , -0.27787555, -0.09903837,\n",
       "       -0.78644961, -0.24380407, -0.65993481, -0.79790152, -0.29750388,\n",
       "       -0.35095313, -0.95002206, -0.66612918, -0.45654233, -0.15965111,\n",
       "       -0.2905416 , -0.76411561, -0.89395517, -0.20719126, -0.92104155,\n",
       "       -0.29031642, -0.54801882, -0.95343595, -0.97909113, -0.6505095 ,\n",
       "       -0.38389018, -0.68748087, -0.40988302, -0.03366768, -0.2119587 ,\n",
       "       -0.50482444, -0.28693881, -0.96848607, -0.72353225, -0.61268446,\n",
       "       -0.7609674 , -0.58557428, -0.40574516, -0.52011647, -0.76824392,\n",
       "       -0.61979595, -0.5539782 , -0.07089582, -0.15737455, -0.86532091,\n",
       "       -0.40071701, -0.03932485, -0.16488967, -0.46547513, -0.0538049 ,\n",
       "       -0.4029441 , -0.45630253, -0.71724554, -0.23044455, -0.29527467,\n",
       "       -0.55401349, -0.66339067, -0.81521026, -0.75119942, -0.65623843,\n",
       "       -0.99202592, -0.40617312, -0.1702156 , -0.39713329, -0.6202353 ,\n",
       "       -0.13936208, -0.71471998, -0.75014377, -0.37351999, -0.60443596,\n",
       "       -0.0852787 , -0.46754855, -0.45832371, -0.35414135, -0.02583306,\n",
       "       -0.64892517, -0.58531806, -0.33570856, -0.50362448, -0.61875003,\n",
       "       -0.07465379, -0.89360557, -0.41249231, -0.04726297, -0.29700013,\n",
       "       -0.75062692, -0.51169958, -0.43655727, -0.03531727, -0.07327779,\n",
       "       -0.17417687, -0.95529516, -0.12824452, -0.49125909, -0.21524637,\n",
       "       -0.19485265, -0.99524735, -0.22108344, -0.11481247, -0.88993919,\n",
       "       -0.30492551, -0.40284211, -0.65065858, -0.74389835, -0.83521059,\n",
       "       -0.55074578, -0.44537608, -0.73685227, -0.4313515 , -0.86666051,\n",
       "       -0.97842147, -0.85918105, -0.1469772 , -0.82406212, -0.89388941,\n",
       "       -0.46176974, -0.31529189, -0.70533695, -0.17887771, -0.14557442,\n",
       "       -0.85448507, -0.06287796, -0.46812057, -0.13842775, -0.72275896,\n",
       "       -0.37358289, -0.30724341, -0.2602923 , -0.96029982, -0.99993899,\n",
       "       -0.9387209 , -0.2951642 , -0.23085749, -0.55960214, -0.77974887,\n",
       "       -0.57258371, -0.69825359, -0.45573994, -0.04229601, -0.78706125,\n",
       "       -0.51042009, -0.8973922 , -0.78913443, -0.65447476, -0.04807063,\n",
       "       -0.82012038, -0.70286271, -0.04529136, -0.03004258, -0.03723668,\n",
       "       -0.23160802, -0.41255754, -0.43016922, -0.23892451, -0.0518405 ,\n",
       "       -0.03429056, -0.9996065 , -0.44652311, -0.56543719, -0.99005552,\n",
       "       -0.6168814 , -0.21355788, -0.945943  , -0.90832959, -0.93603083,\n",
       "       -0.27784081, -0.55899045, -0.47049336, -0.63873841, -0.68603965,\n",
       "       -0.2363122 , -0.39894414, -0.13339311, -0.2316247 , -0.08185689,\n",
       "       -0.34119483, -0.92190696, -0.51059655, -0.70683745, -0.88930794,\n",
       "       -0.40424652, -0.43376781, -0.94418101, -0.05620155, -0.17809118,\n",
       "       -0.55468827, -0.1278847 , -0.17289996, -0.55865214, -0.18903835,\n",
       "       -0.60289694, -0.88161675, -0.229187  , -0.4758415 , -0.80667386,\n",
       "       -0.70245469, -0.22834618, -0.83384536, -0.67748956, -0.18541039,\n",
       "       -0.94674679, -0.68974607, -0.09252619, -0.3354409 , -0.22763845,\n",
       "       -0.55967318, -0.99753582, -0.54080737, -0.60376098, -0.28145594,\n",
       "       -0.11850283, -0.85886865, -0.92514255, -0.06423506, -0.55960911,\n",
       "       -0.50944119, -0.57597806, -0.76779895, -0.66356904, -0.45656556,\n",
       "       -0.42024174, -0.57267733, -0.81123562, -0.56467802, -0.51964246,\n",
       "       -0.72595039, -0.60058986, -0.22170006, -0.90676082, -0.44148533,\n",
       "       -0.56542528, -0.36717704, -0.46446048, -0.30196306, -0.68097832,\n",
       "       -0.13376739, -0.14294427, -0.9377642 , -0.22253364, -0.01067779,\n",
       "       -0.59592446, -0.16957117, -0.31594267, -0.85696309, -0.57042276,\n",
       "       -0.3524261 , -0.59349487, -0.81312282, -0.62232794, -0.97146272])"
      ]
     },
     "execution_count": 21,
     "metadata": {
     },
     "output_type": "execute_result"
    }
   ],
   "source": [
    "s=np.random.uniform(-1,0,1000)\n",
    "s"
   ]
  },
  {
   "cell_type": "markdown",
   "metadata": {
    "collapsed": false
   },
   "source": [
    "## **EXERCÍCIO 3**"
   ]
  },
  {
   "cell_type": "code",
   "execution_count": 8,
   "metadata": {
    "collapsed": false
   },
   "outputs": [
    {
     "name": "stdout",
     "output_type": "stream",
     "text": [
      "matriz aleatoria:\n",
      "[[  3.14342755e-01   3.12315046e-01]\n",
      " [  2.63249551e-01   9.49171294e-01]\n",
      " [  1.11615472e-02   9.65239288e-01]\n",
      " [  1.98587423e-01   9.63846443e-01]\n",
      " [  3.84051304e-01   4.16602490e-01]\n",
      " [  9.45460125e-01   5.44641008e-01]\n",
      " [  4.06406836e-01   8.35218586e-02]\n",
      " [  4.22111496e-01   5.67388955e-01]\n",
      " [  6.13465008e-01   2.46702157e-04]\n",
      " [  1.94617480e-01   8.45323727e-01]]\n"
     ]
    }
   ],
   "source": [
    "import numpy as np\n",
    "matt=np.random.rand(10,2)\n",
    "print 'matriz aleatoria:\\n', matt\n",
    "    \n",
    "def cart2pol(x,y):\n",
    "    rho = np.sqrt(x*2 + y*2)\n",
    "    phi = np.arctan2(y, x)\n",
    "    return [rho, phi]\n",
    "lista=[]\n",
    "for elem in matt:\n",
    "    lista=lista+[cart2pol(elem[0],elem[1])]"
   ]
  },
  {
   "cell_type": "markdown",
   "metadata": {
    "collapsed": false
   },
   "source": [
    "## **EXERCÍCIO 4**"
   ]
  },
  {
   "cell_type": "code",
   "execution_count": 12,
   "metadata": {
    "collapsed": false
   },
   "outputs": [
    {
     "data": {
      "text/plain": [
       "array([[ 0.19461849,  0.661261  ],\n",
       "       [ 0.73412607,  0.98318118],\n",
       "       [ 0.75867157,  0.2388484 ],\n",
       "       [ 0.35972046,  0.26946497],\n",
       "       [ 0.63481106,  0.78773099],\n",
       "       [ 0.67779735,  0.30700325],\n",
       "       [ 0.09772033,  0.26157364],\n",
       "       [ 0.21331205,  0.07373196],\n",
       "       [ 0.98730932,  0.70941553],\n",
       "       [ 0.94436295,  0.93754173],\n",
       "       [ 0.15517689,  0.31504849],\n",
       "       [ 0.61793604,  0.54011653],\n",
       "       [ 0.96310208,  0.27254886],\n",
       "       [ 0.01582284,  0.74377567],\n",
       "       [ 0.11477567,  0.33153495],\n",
       "       [ 0.67521825,  0.91682125],\n",
       "       [ 0.52311887,  0.95005891],\n",
       "       [ 0.55495307,  0.31994901],\n",
       "       [ 0.95963798,  0.26349418],\n",
       "       [ 0.37317231,  0.50343044],\n",
       "       [ 0.11246787,  0.20897211],\n",
       "       [ 0.49457344,  0.05198558],\n",
       "       [ 0.06566275,  0.49561232],\n",
       "       [ 0.82825904,  0.17168774],\n",
       "       [ 0.34654291,  0.89028478],\n",
       "       [ 0.06883196,  0.97845851],\n",
       "       [ 0.72549714,  0.50579463],\n",
       "       [ 0.31931096,  0.97278505],\n",
       "       [ 0.99024216,  0.92467016],\n",
       "       [ 0.58283336,  0.60288611],\n",
       "       [ 0.99032561,  0.21640112],\n",
       "       [ 0.82676064,  0.09538325],\n",
       "       [ 0.44307619,  0.13063273],\n",
       "       [ 0.25610657,  0.6615248 ],\n",
       "       [ 0.22536947,  0.79596675],\n",
       "       [ 0.32528352,  0.58185204],\n",
       "       [ 0.51941712,  0.41859877],\n",
       "       [ 0.93665757,  0.92895589],\n",
       "       [ 0.12441672,  0.99688206],\n",
       "       [ 0.86252201,  0.42166407],\n",
       "       [ 0.07321867,  0.76240735],\n",
       "       [ 0.85415111,  0.5361234 ],\n",
       "       [ 0.83383133,  0.83906127],\n",
       "       [ 0.92370497,  0.93575618],\n",
       "       [ 0.53380713,  0.62816355],\n",
       "       [ 0.57809531,  0.83839525],\n",
       "       [ 0.0416769 ,  0.93691129],\n",
       "       [ 0.55551759,  0.94662038],\n",
       "       [ 0.17048033,  0.46684674],\n",
       "       [ 0.86134671,  0.23502233],\n",
       "       [ 0.5967468 ,  0.26166042],\n",
       "       [ 0.97955827,  0.18555311],\n",
       "       [ 0.28444489,  0.68166001],\n",
       "       [ 0.28305402,  0.28810746],\n",
       "       [ 0.58062115,  0.08506035],\n",
       "       [ 0.27814284,  0.27213119],\n",
       "       [ 0.79103935,  0.83820792],\n",
       "       [ 0.75677639,  0.74058026],\n",
       "       [ 0.32451432,  0.3510335 ],\n",
       "       [ 0.97806879,  0.92418039],\n",
       "       [ 0.95898047,  0.45242635],\n",
       "       [ 0.77830747,  0.35697231],\n",
       "       [ 0.46722674,  0.28877559],\n",
       "       [ 0.70612944,  0.39112268],\n",
       "       [ 0.29661278,  0.24943026],\n",
       "       [ 0.55050352,  0.87687878],\n",
       "       [ 0.63573854,  0.54616006],\n",
       "       [ 0.55685536,  0.18680254],\n",
       "       [ 0.36739331,  0.98291918],\n",
       "       [ 0.18464216,  0.33508911],\n",
       "       [ 0.78229435,  0.60582454],\n",
       "       [ 0.30100222,  0.11386621],\n",
       "       [ 0.67978717,  0.75167767],\n",
       "       [ 0.31382408,  0.43864004],\n",
       "       [ 0.2445717 ,  0.53137809],\n",
       "       [ 0.02585295,  0.06312809],\n",
       "       [ 0.85841975,  0.96354513],\n",
       "       [ 0.15152448,  0.65918265],\n",
       "       [ 0.9496362 ,  0.27640798],\n",
       "       [ 0.63352667,  0.04160221],\n",
       "       [ 0.31225627,  0.01830755],\n",
       "       [ 0.69740776,  0.13761261],\n",
       "       [ 0.18506943,  0.34925788],\n",
       "       [ 0.94028694,  0.29566371],\n",
       "       [ 0.75701251,  0.22828237],\n",
       "       [ 0.76129521,  0.98392701],\n",
       "       [ 0.00354103,  0.18262849],\n",
       "       [ 0.90676765,  0.55757583],\n",
       "       [ 0.03331291,  0.3744204 ],\n",
       "       [ 0.25441934,  0.25864945],\n",
       "       [ 0.08186877,  0.49972313],\n",
       "       [ 0.61826339,  0.19595263],\n",
       "       [ 0.33184366,  0.88198501],\n",
       "       [ 0.14083272,  0.25739557],\n",
       "       [ 0.38964663,  0.49103484],\n",
       "       [ 0.48216716,  0.05931595],\n",
       "       [ 0.41322997,  0.07692337],\n",
       "       [ 0.43410471,  0.04044808],\n",
       "       [ 0.73945291,  0.32652814],\n",
       "       [ 0.35494505,  0.6891134 ]])"
      ]
     },
     "execution_count": 12,
     "metadata": {
     },
     "output_type": "execute_result"
    }
   ],
   "source": [
    "import numpy as np\n",
    "from numpy import linalg as LA\n",
    "\n",
    "coord=np.random.rand(100,2)\n",
    "coord"
   ]
  },
  {
   "cell_type": "code",
   "execution_count": 22,
   "metadata": {
    "collapsed": false
   },
   "outputs": [
    {
     "ename": "NameError",
     "evalue": "name 'x' is not defined",
     "output_type": "error",
     "traceback": [
      "\u001b[0;31m---------------------------------------------------------------------------\u001b[0m",
      "\u001b[0;31mNameError\u001b[0m                                 Traceback (most recent call last)",
      "\u001b[0;32m<ipython-input-22-7e3dc67e7843>\u001b[0m in \u001b[0;36m<module>\u001b[0;34m()\u001b[0m\n\u001b[0;32m----> 1\u001b[0;31m \u001b[0;34m[\u001b[0m\u001b[0mnp\u001b[0m\u001b[0;34m.\u001b[0m\u001b[0marray\u001b[0m\u001b[0;34m(\u001b[0m\u001b[0;34m[\u001b[0m\u001b[0;34m[\u001b[0m\u001b[0;34m(\u001b[0m\u001b[0mLA\u001b[0m\u001b[0;34m.\u001b[0m\u001b[0mnorm\u001b[0m\u001b[0;34m(\u001b[0m\u001b[0mx\u001b[0m\u001b[0;34m-\u001b[0m\u001b[0my\u001b[0m\u001b[0;34m)\u001b[0m\u001b[0;34m-\u001b[0m\u001b[0mcoord\u001b[0m\u001b[0;34m)\u001b[0m\u001b[0;34m**\u001b[0m\u001b[0;34m(\u001b[0m\u001b[0;36m0.5\u001b[0m\u001b[0;34m)\u001b[0m\u001b[0;34m]\u001b[0m\u001b[0;34m]\u001b[0m\u001b[0;34m)\u001b[0m\u001b[0;34m]\u001b[0m\u001b[0;34m\u001b[0m\u001b[0m\n\u001b[0m\u001b[1;32m      2\u001b[0m \u001b[0;32mprint\u001b[0m \u001b[0;34m'distancia entre os pontos:\\n'\u001b[0m \u001b[0;34m,\u001b[0m \u001b[0;34m[\u001b[0m\u001b[0mLA\u001b[0m\u001b[0;34m.\u001b[0m\u001b[0mnorm\u001b[0m\u001b[0;34m(\u001b[0m\u001b[0mcoord\u001b[0m\u001b[0;34m[\u001b[0m\u001b[0mi\u001b[0m\u001b[0;34m+\u001b[0m\u001b[0;36m1\u001b[0m\u001b[0;34m]\u001b[0m\u001b[0;34m-\u001b[0m\u001b[0mcoord\u001b[0m\u001b[0;34m[\u001b[0m\u001b[0mi\u001b[0m\u001b[0;34m]\u001b[0m\u001b[0;34m)\u001b[0m\u001b[0;32mfor\u001b[0m \u001b[0mi\u001b[0m \u001b[0;32min\u001b[0m \u001b[0mrange\u001b[0m\u001b[0;34m(\u001b[0m\u001b[0;36m99\u001b[0m\u001b[0;34m)\u001b[0m\u001b[0;34m]\u001b[0m\u001b[0;34m\u001b[0m\u001b[0m\n",
      "\u001b[0;31mNameError\u001b[0m: name 'x' is not defined"
     ]
    }
   ],
   "source": [
    "[np.array([[(LA.norm(x-y)-coord)**(0.5)]])]\n",
    "print 'distancia entre os pontos:\\n' , [LA.norm(coord[i+1]-coord[i])for i in range(99)]"
   ]
  },
  {
   "cell_type": "markdown",
   "metadata": {
    "collapsed": false
   },
   "source": [
    "## **EXERCÍCIO 5**"
   ]
  },
  {
   "cell_type": "code",
   "execution_count": 14,
   "metadata": {
    "collapsed": false
   },
   "outputs": [
    {
     "name": "stdout",
     "output_type": "stream",
     "text": [
      "O vetor [1 2 3 4 5] com 3 zeros consecutivos em cada vetor é: [ 1.  0.  0.  0.  2.  0.  0.  0.  3.  0.  0.  0.  4.  0.  0.  0.  5.  0.\n",
      "  0.  0.]\n"
     ]
    }
   ],
   "source": [
    "import numpy as np\n",
    "vetor_linha=np.array([1,2,3,4,5]) \n",
    "v1=np.zeros(3)\n",
    "intercalado=np.ravel([np.append(vetor_linha[elem],v1)for elem in range(5)])\n",
    "print 'O vetor', vetor_linha, 'com 3 zeros consecutivos em cada vetor é:', intercalado"
   ]
  },
  {
   "cell_type": "markdown",
   "metadata": {
    "collapsed": false
   },
   "source": [
    "## **JOGO DA VIDA**"
   ]
  },
  {
   "cell_type": "code",
   "execution_count": 23,
   "metadata": {
    "collapsed": false
   },
   "outputs": [
    {
     "name": "stdout",
     "output_type": "stream",
     "text": [
      "[[0 0 0 0 0 0]\n",
      " [0 0 0 1 0 0]\n",
      " [0 1 0 1 0 0]\n",
      " [0 0 1 1 0 0]\n",
      " [0 0 0 0 0 0]\n",
      " [0 0 0 0 0 0]]\n",
      "\n",
      "[[0 0 0 0 0 0]\n",
      " [0 0 0 0 0 0]\n",
      " [0 0 0 0 1 0]\n",
      " [0 0 1 0 1 0]\n",
      " [0 0 0 1 1 0]\n",
      " [0 0 0 0 0 0]]\n"
     ]
    }
   ],
   "source": [
    "import numpy as np\n",
    "\n",
    "def iterate_1(Z):\n",
    "    # Contagem vizinhança\n",
    "    N = np.zeros(Z.shape, int)\n",
    "    N[1:-1,1:-1] += (Z[0:-2,0:-2] + Z[0:-2,1:-1] + Z[0:-2,2:] +\n",
    "                     Z[1:-1,0:-2]                + Z[1:-1,2:] +\n",
    "                     Z[2:  ,0:-2] + Z[2:  ,1:-1] + Z[2:  ,2:])\n",
    "    N_ = N.ravel()\n",
    "    Z_ = Z.ravel()\n",
    "\n",
    "    # Aplicação das regras\n",
    "    R1 = np.argwhere( (Z_==1) & (N_ < 2) )\n",
    "    R2 = np.argwhere( (Z_==1) & (N_ > 3) )\n",
    "    R3 = np.argwhere( (Z_==1) & ((N_==2) | (N_==3)) )\n",
    "    R4 = np.argwhere( (Z_==0) & (N_==3) )\n",
    "\n",
    "    # Definir novos valores\n",
    "    Z_[R1] = 0\n",
    "    Z_[R2] = 0\n",
    "    Z_[R3] = Z_[R3]\n",
    "    Z_[R4] = 1\n",
    "\n",
    "    # Garantia de que as fronteiras permaneçam nulas\n",
    "    Z[0,:] = Z[-1,:] = Z[:,0] = Z[:,-1] = 0\n",
    "\n",
    "\n",
    "def iterate_2(Z):\n",
    "    # Contagem vizinhança\n",
    "    N = (Z[0:-2,0:-2] + Z[0:-2,1:-1] + Z[0:-2,2:] +\n",
    "         Z[1:-1,0:-2]                + Z[1:-1,2:] +\n",
    "         Z[2:  ,0:-2] + Z[2:  ,1:-1] + Z[2:  ,2:])\n",
    "\n",
    "    # Aplicação das regras\n",
    "    birth = (N==3) & (Z[1:-1,1:-1]==0)\n",
    "    survive = ((N==2) | (N==3)) & (Z[1:-1,1:-1]==1)\n",
    "    Z[...] = 0\n",
    "    Z[1:-1,1:-1][birth | survive] = 1\n",
    "    return Z\n",
    "\n",
    "\n",
    "Z = np.array([[0,0,0,0,0,0],\n",
    "              [0,0,0,1,0,0],\n",
    "              [0,1,0,1,0,0],\n",
    "              [0,0,1,1,0,0],\n",
    "              [0,0,0,0,0,0],\n",
    "              [0,0,0,0,0,0]])\n",
    "\n",
    "print Z\n",
    "print\n",
    "for i in range(4): iterate_2(Z)\n",
    "print Z"
   ]
  },
  {
   "cell_type": "code",
   "execution_count": 2,
   "metadata": {
    "collapsed": false
   },
   "outputs": [
    {
     "data": {
      "image/png": "[encoded data removed]"
     },
     "execution_count": 2,
     "metadata": {
     },
     "output_type": "execute_result"
    }
   ],
   "source": [
    "import matplotlib.pyplot as plt\n",
    "import numpy as np\n",
    "\n",
    "def iterate(Z):\n",
    "    # Count neighbours\n",
    "    N = (Z[0:-2,0:-2] + Z[0:-2,1:-1] + Z[0:-2,2:] +\n",
    "         Z[1:-1,0:-2]                + Z[1:-1,2:] +\n",
    "         Z[2:  ,0:-2] + Z[2:  ,1:-1] + Z[2:  ,2:])\n",
    "\n",
    "    # Apply rules\n",
    "    birth = (N==3) & (Z[1:-1,1:-1]==0)\n",
    "    survive = ((N==2) | (N==3)) & (Z[1:-1,1:-1]==1)\n",
    "    Z[...] = 0\n",
    "    Z[1:-1,1:-1][birth | survive] = 1\n",
    "    return Z\n",
    "\n",
    "\n",
    "#grafico\n",
    "Z = np.random.randint(0,2,(256,512))\n",
    "for i in range(100): iterate(Z)\n",
    "size = np.array(Z.shape)\n",
    "dpi = 72.0\n",
    "figsize= size[1]/float(dpi),size[0]/float(dpi)\n",
    "fig = plt.figure(figsize=figsize, dpi=dpi, facecolor=\"white\")\n",
    "fig.add_axes([0.0, 0.0, 1.0, 1.0], frameon=False)\n",
    "plt.imshow(Z,interpolation='nearest', cmap=plt.cm.gray_r)\n",
    "plt.xticks([]), plt.yticks([])\n",
    "plt.show()"
   ]
  },
  {
   "cell_type": "code",
   "execution_count": 0,
   "metadata": {
    "collapsed": false
   },
   "outputs": [
   ],
   "source": [
   ]
  }
 ],
 "metadata": {
  "kernelspec": {
   "display_name": "Python 2 (SageMath)",
   "language": "python",
   "name": "python2"
  },
  "language_info": {
   "codemirror_mode": {
    "name": "ipython",
    "version": 2
   },
   "file_extension": ".py",
   "mimetype": "text/x-python",
   "name": "python",
   "nbconvert_exporter": "python",
   "pygments_lexer": "ipython2",
   "version": "2.7.13"
  }
 },
 "nbformat": 4,
 "nbformat_minor": 0
}