{
 "cells": [
  {
   "cell_type": "code",
   "execution_count": 1,
   "metadata": {
    "collapsed": false
   },
   "outputs": [
    {
     "name": "stdout",
     "output_type": "stream",
     "text": [
      "0\n",
      "1\n",
      "4\n"
     ]
    }
   ],
   "source": [
    "#Exercicio1\n",
    "import numpy as np\n",
    "matrix=[1,2,0,0,4,0]\n",
    "for i in range(len(matrix)):\n",
    "    if(matrix[i]!= 0):\n",
    "        print(i)"
   ]
  },
  {
   "cell_type": "code",
   "execution_count": 4,
   "metadata": {
    "collapsed": false
   },
   "outputs": [
    {
     "name": "stdout",
     "output_type": "stream",
     "text": [
      "[[ 0.71247522  0.82259604  0.07163117  0.60337048]\n",
      " [ 0.2061257   0.17375271  0.4021769   0.10081615]\n",
      " [ 0.47176382  0.58913561  0.30972212  0.96214402]]\n",
      "[array([ 0.,  0.,  0.,  0.]), array([ 0.,  0.,  0.,  0.]), array([ 0.,  0.,  0.,  0.])]\n"
     ]
    }
   ],
   "source": [
    "#exercicio2\n",
    "import numpy as np\n",
    "matrix=np.random.rand(3,4)\n",
    "intmatrix=[]\n",
    "for i in range(len(matrix)):\n",
    "    aux=matrix[i]//1\n",
    "    intmatrix.append(aux)\n",
    "print(matrix)\n",
    "print(intmatrix)"
   ]
  },
  {
   "cell_type": "code",
   "execution_count": 3,
   "metadata": {
    "collapsed": false
   },
   "outputs": [
    {
     "name": "stdout",
     "output_type": "stream",
     "text": [
      "[[ 0.24052635  0.76281623]\n",
      " [ 0.18357959  0.04859068]\n",
      " [ 0.46293421  0.20797885]\n",
      " [ 0.57987676  0.24555891]\n",
      " [ 0.37443854  0.52311934]\n",
      " [ 0.47199139  0.27377255]\n",
      " [ 0.79470923  0.19460004]\n",
      " [ 0.57442515  0.58218837]\n",
      " [ 0.98813271  0.91288954]\n",
      " [ 0.60052538  0.17372037]]\n",
      "[(0.79983844212213195, 1.2653502130464986), (0.18990134640690812, 0.25875091925974114), (0.50750692809858911, 0.4222402176136863), (0.62972710639940277, 0.40057181228605893), (0.64331801205112538, 0.94955785254171121), (0.54564391696032832, 0.52561160728745115), (0.81818820413137527, 0.24014414413831756), (0.81786768518702069, 0.79211009512591091), (1.345278249546636, 0.74583844159264279), (0.62514757921888597, 0.28159375327437181)]\n"
     ]
    }
   ],
   "source": [
    "#exercicio3\n",
    "import numpy as np\n",
    "def cart2pol(x, y):\n",
    "    rho = np.sqrt(x**2 + y**2)\n",
    "    phi = np.arctan2(y, x)\n",
    "    return(rho, phi)\n",
    "matrix=np.random.rand(10,2)\n",
    "matrix2pol=[]\n",
    "for i in range(0,10):\n",
    "    matrix2pol.append(cart2pol(matrix[i][0],matrix[i][1]))\n",
    "print(matrix)        \n",
    "print(matrix2pol)"
   ]
  },
  {
   "cell_type": "code",
   "execution_count": 8,
   "metadata": {
    "collapsed": false
   },
   "outputs": [
    {
     "name": "stderr",
     "output_type": "stream",
     "text": [
      "WARNING: Some output was deleted.\n"
     ]
    }
   ],
   "source": [
    "#exercicio 4\n",
    "\n",
    "import numpy as np\n",
    "\n",
    "matrix=np.random.rand(100,2)\n",
    "matrixD=[]\n",
    "for i in range(len(matrix)):\n",
    "    for j in range(len(matrix)):\n",
    "        matrixD.append(np.sqrt(((matrix[i][0]-matrix[j][0])**2)+((matrix[i][0]-matrix[j][1])**2)))\n",
    "print matrixD"
   ]
  },
  {
   "cell_type": "code",
   "execution_count": 7,
   "metadata": {
    "collapsed": false
   },
   "outputs": [
    {
     "name": "stdout",
     "output_type": "stream",
     "text": [
      "[0, 0, 0, 0, 1, 0, 0, 0, 2, 0, 0, 0, 3, 0, 0, 0, 4, 0, 0, 0, 5, 0, 0, 0]\n"
     ]
    }
   ],
   "source": [
    "#EXERCICIO 5\n",
    "vetor=[0,1,2,3,4,5]\n",
    "vetor2=[]\n",
    "for i in range(len(vetor)):\n",
    "    vetor2.append(vetor[i])\n",
    "    for i in range(0,3):\n",
    "        vetor2.append(0)\n",
    "print(vetor2)"
   ]
  },
  {
   "cell_type": "code",
   "execution_count": 0,
   "metadata": {
    "collapsed": false
   },
   "outputs": [
   ],
   "source": [
   ]
  }
 ],
 "metadata": {
  "kernelspec": {
   "display_name": "Python 2 (SageMath)",
   "language": "python",
   "name": "python2"
  },
  "language_info": {
   "codemirror_mode": {
    "name": "ipython",
    "version": 2
   },
   "file_extension": ".py",
   "mimetype": "text/x-python",
   "name": "python",
   "nbconvert_exporter": "python",
   "pygments_lexer": "ipython2",
   "version": "2.7.13"
  }
 },
 "nbformat": 4,
 "nbformat_minor": 0
}