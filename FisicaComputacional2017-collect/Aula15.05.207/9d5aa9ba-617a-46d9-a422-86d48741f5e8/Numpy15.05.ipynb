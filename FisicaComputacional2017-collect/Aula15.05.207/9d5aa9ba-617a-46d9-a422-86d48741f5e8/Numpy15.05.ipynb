{
 "cells": [
  {
   "cell_type": "markdown",
   "metadata": {
    "collapsed": false,
    "slideshow": {
     "slide_type": "slide"
    }
   },
   "source": [
    "# Numpy"
   ]
  },
  {
   "cell_type": "markdown",
   "metadata": {
    "collapsed": false,
    "slideshow": {
     "slide_type": "subslide"
    }
   },
   "source": [
    "Numpy é a biblioteca essencial para computação científica em Python. Ela fornece um objeto que é essencialmente uma\n",
    "_array_ multidimensional e métodos de  alto desempenho para trabalhar com esses _arrays_. "
   ]
  },
  {
   "cell_type": "markdown",
   "metadata": {
    "collapsed": false,
    "slideshow": {
     "slide_type": "subslide"
    }
   },
   "source": [
    "## Arrays\n",
    "- Uma matriz numpy é uma tabela de valores, todos do mesmo tipo, e é indexada por uma tupla de inteiros não negativos.\n",
    "- O número de dimensões é o grau da matriz.\n",
    "- A forma de uma matriz é uma tupla de inteiros que dão o tamanho da matriz ao longo de cada dimensão.\n",
    "- Podemos inicializar matrizes numpy de listas concatenadas de Python e acessar elementos usando colchetes:"
   ]
  },
  {
   "cell_type": "code",
   "execution_count": 1,
   "metadata": {
    "collapsed": false
   },
   "outputs": [
   ],
   "source": [
    "import numpy as np"
   ]
  },
  {
   "cell_type": "code",
   "execution_count": 2,
   "metadata": {
    "collapsed": false
   },
   "outputs": [
    {
     "data": {
      "text/plain": [
       "array([[ 1,  2,  3,  9],\n",
       "       [ 6,  5,  4, 20],\n",
       "       [ 2,  4,  5,  7]])"
      ]
     },
     "execution_count": 2,
     "metadata": {
     },
     "output_type": "execute_result"
    }
   ],
   "source": [
    "a= [[1,2,3,9], [6,5,4,20],[2,4,5,7]]\n",
    "matriz = np.array(a)\n",
    "matriz\n"
   ]
  },
  {
   "cell_type": "code",
   "execution_count": 3,
   "metadata": {
    "collapsed": false
   },
   "outputs": [
    {
     "data": {
      "text/plain": [
       "[[1, 2, 3, 9], [6, 5, 4, 20], [2, 4, 5, 7]]"
      ]
     },
     "execution_count": 3,
     "metadata": {
     },
     "output_type": "execute_result"
    }
   ],
   "source": [
    "a"
   ]
  },
  {
   "cell_type": "code",
   "execution_count": 5,
   "metadata": {
    "collapsed": false
   },
   "outputs": [
    {
     "data": {
      "text/plain": [
       "numpy.ndarray"
      ]
     },
     "execution_count": 5,
     "metadata": {
     },
     "output_type": "execute_result"
    }
   ],
   "source": [
    "type(matriz)"
   ]
  },
  {
   "cell_type": "code",
   "execution_count": 6,
   "metadata": {
    "collapsed": false
   },
   "outputs": [
    {
     "data": {
      "text/plain": [
       "list"
      ]
     },
     "execution_count": 6,
     "metadata": {
     },
     "output_type": "execute_result"
    }
   ],
   "source": [
    "type(a)"
   ]
  },
  {
   "cell_type": "code",
   "execution_count": 7,
   "metadata": {
    "collapsed": false
   },
   "outputs": [
    {
     "data": {
      "text/plain": [
       "array([[  1.,   2.,   3.,   9.],\n",
       "       [  6.,   5.,   4.,  20.],\n",
       "       [  2.,   4.,   5.,   7.]])"
      ]
     },
     "execution_count": 7,
     "metadata": {
     },
     "output_type": "execute_result"
    }
   ],
   "source": [
    "matriz1 = np.array(a, float)\n",
    "matriz1"
   ]
  },
  {
   "cell_type": "markdown",
   "metadata": {
    "collapsed": false
   },
   "source": [
    "- Podemos verificar o número de linhas e colunas em nossos dados usando a propriedade `shape` de _arrays_ NumPy:"
   ]
  },
  {
   "cell_type": "code",
   "execution_count": 8,
   "metadata": {
    "collapsed": false
   },
   "outputs": [
    {
     "data": {
      "text/plain": [
       "(3, 4)"
      ]
     },
     "execution_count": 8,
     "metadata": {
     },
     "output_type": "execute_result"
    }
   ],
   "source": [
    "matriz.shape"
   ]
  },
  {
   "cell_type": "markdown",
   "metadata": {
    "collapsed": false
   },
   "source": [
    "Para criar um vetor linha fazemos:\n"
   ]
  },
  {
   "cell_type": "code",
   "execution_count": 9,
   "metadata": {
    "collapsed": false
   },
   "outputs": [
   ],
   "source": [
    "vetor_linha=np.array([[1,2,3]]) # cria um vetor linha"
   ]
  },
  {
   "cell_type": "code",
   "execution_count": 10,
   "metadata": {
    "collapsed": false
   },
   "outputs": [
   ],
   "source": [
    "b=np.array([1,2,3])"
   ]
  },
  {
   "cell_type": "code",
   "execution_count": 11,
   "metadata": {
    "collapsed": false
   },
   "outputs": [
    {
     "data": {
      "text/plain": [
       "array([1, 2, 3])"
      ]
     },
     "execution_count": 11,
     "metadata": {
     },
     "output_type": "execute_result"
    }
   ],
   "source": [
    "b"
   ]
  },
  {
   "cell_type": "markdown",
   "metadata": {
    "collapsed": false
   },
   "source": [
    "Para criar um vetor coluna temos que fazer:\n"
   ]
  },
  {
   "cell_type": "code",
   "execution_count": 12,
   "metadata": {
    "collapsed": false
   },
   "outputs": [
   ],
   "source": [
    "vetor_coluna=np.array([[1],[2],[3]])"
   ]
  },
  {
   "cell_type": "code",
   "execution_count": 13,
   "metadata": {
    "collapsed": false,
    "scrolled": true
   },
   "outputs": [
    {
     "data": {
      "text/plain": [
       "array([[1],\n",
       "       [2],\n",
       "       [3]])"
      ]
     },
     "execution_count": 13,
     "metadata": {
     },
     "output_type": "execute_result"
    }
   ],
   "source": [
    "vetor_coluna"
   ]
  },
  {
   "cell_type": "code",
   "execution_count": 14,
   "metadata": {
    "collapsed": false
   },
   "outputs": [
   ],
   "source": [
    "b=np.array([[1],[4],[6],[7]])"
   ]
  },
  {
   "cell_type": "code",
   "execution_count": 15,
   "metadata": {
    "collapsed": false
   },
   "outputs": [
    {
     "data": {
      "text/plain": [
       "array([[1],\n",
       "       [4],\n",
       "       [6],\n",
       "       [7]])"
      ]
     },
     "execution_count": 15,
     "metadata": {
     },
     "output_type": "execute_result"
    }
   ],
   "source": [
    "b"
   ]
  },
  {
   "cell_type": "code",
   "execution_count": 16,
   "metadata": {
    "collapsed": false
   },
   "outputs": [
    {
     "data": {
      "text/plain": [
       "array([[1, 2, 3]])"
      ]
     },
     "execution_count": 16,
     "metadata": {
     },
     "output_type": "execute_result"
    }
   ],
   "source": [
    "vetor_coluna.T"
   ]
  },
  {
   "cell_type": "code",
   "execution_count": 17,
   "metadata": {
    "collapsed": false
   },
   "outputs": [
    {
     "data": {
      "text/plain": [
       "array([[1],\n",
       "       [2],\n",
       "       [3]])"
      ]
     },
     "execution_count": 17,
     "metadata": {
     },
     "output_type": "execute_result"
    }
   ],
   "source": [
    "vetor_linha.T"
   ]
  },
  {
   "cell_type": "code",
   "execution_count": 18,
   "metadata": {
    "collapsed": false
   },
   "outputs": [
    {
     "data": {
      "text/plain": [
       "array([[1, 2, 3],\n",
       "       [2, 4, 6],\n",
       "       [3, 6, 9]])"
      ]
     },
     "execution_count": 18,
     "metadata": {
     },
     "output_type": "execute_result"
    }
   ],
   "source": [
    "vetor_linha*vetor_coluna"
   ]
  },
  {
   "cell_type": "code",
   "execution_count": 20,
   "metadata": {
    "collapsed": false
   },
   "outputs": [
    {
     "data": {
      "text/plain": [
       "array([[1],\n",
       "       [4],\n",
       "       [6],\n",
       "       [7]])"
      ]
     },
     "execution_count": 20,
     "metadata": {
     },
     "output_type": "execute_result"
    }
   ],
   "source": [
    "b"
   ]
  },
  {
   "cell_type": "code",
   "execution_count": 19,
   "metadata": {
    "collapsed": false
   },
   "outputs": [
    {
     "data": {
      "text/plain": [
       "array([[1, 4, 6, 7]])"
      ]
     },
     "execution_count": 19,
     "metadata": {
     },
     "output_type": "execute_result"
    }
   ],
   "source": [
    "b.T"
   ]
  },
  {
   "cell_type": "code",
   "execution_count": 22,
   "metadata": {
    "collapsed": false
   },
   "outputs": [
   ],
   "source": [
    "c=np.array([1,2,3])"
   ]
  },
  {
   "cell_type": "code",
   "execution_count": 23,
   "metadata": {
    "collapsed": false
   },
   "outputs": [
    {
     "data": {
      "text/plain": [
       "array([1, 2, 3])"
      ]
     },
     "execution_count": 23,
     "metadata": {
     },
     "output_type": "execute_result"
    }
   ],
   "source": [
    "c"
   ]
  },
  {
   "cell_type": "code",
   "execution_count": 24,
   "metadata": {
    "collapsed": false
   },
   "outputs": [
    {
     "data": {
      "text/plain": [
       "array([1, 2, 3])"
      ]
     },
     "execution_count": 24,
     "metadata": {
     },
     "output_type": "execute_result"
    }
   ],
   "source": [
    "c.T"
   ]
  },
  {
   "cell_type": "markdown",
   "metadata": {
    "collapsed": false
   },
   "source": [
    "### Matriz com zeros\n",
    "\n",
    "- Para começar, você pode criar uma matriz onde cada elemento é zero. O código a seguir criará uma matriz com 3 linhas e 4 colunas, onde cada elemento é 0 , usando `np.zeros`:"
   ]
  },
  {
   "cell_type": "code",
   "execution_count": 25,
   "metadata": {
    "collapsed": false
   },
   "outputs": [
    {
     "data": {
      "text/plain": [
       "array([[ 0.,  0.,  0.,  0.],\n",
       "       [ 0.,  0.,  0.,  0.],\n",
       "       [ 0.,  0.,  0.,  0.]])"
      ]
     },
     "execution_count": 25,
     "metadata": {
     },
     "output_type": "execute_result"
    }
   ],
   "source": [
    "empty_array = np.zeros((3,4))\n",
    "empty_array"
   ]
  },
  {
   "cell_type": "code",
   "execution_count": 26,
   "metadata": {
    "collapsed": false
   },
   "outputs": [
    {
     "data": {
      "text/plain": [
       "array([[ 1.,  1.,  1.,  1.],\n",
       "       [ 1.,  1.,  1.,  1.],\n",
       "       [ 1.,  1.,  1.,  1.]])"
      ]
     },
     "execution_count": 26,
     "metadata": {
     },
     "output_type": "execute_result"
    }
   ],
   "source": [
    "one_array=np.ones((3,4))\n",
    "one_array"
   ]
  },
  {
   "cell_type": "markdown",
   "metadata": {
    "collapsed": false
   },
   "source": [
    "- É útil criar uma matriz com todos os elementos zero nos casos em que você precisa de uma matriz de tamanho fixo, mas ainda não tem nenhum valor para ela."
   ]
  },
  {
   "cell_type": "markdown",
   "metadata": {
    "collapsed": false
   },
   "source": [
    "### Matriz de números aleatórios (Random)\n",
    "- É possível criar uma matriz onde cada elemento é um número aleatório usando `numpy.random.rand`. Veja o exemplo a seguir: "
   ]
  },
  {
   "cell_type": "code",
   "execution_count": 42,
   "metadata": {
    "collapsed": false
   },
   "outputs": [
   ],
   "source": [
    "randmat=np.random.rand(3,40)"
   ]
  },
  {
   "cell_type": "code",
   "execution_count": 43,
   "metadata": {
    "collapsed": false
   },
   "outputs": [
    {
     "data": {
      "text/plain": [
       "array([[ 0.16543608,  0.83117096,  0.21225937,  0.53579532,  0.66284591,\n",
       "         0.87039074,  0.22110822,  0.12165866,  0.55934022,  0.73151058,\n",
       "         0.54216474,  0.75758696,  0.07731456,  0.23751692,  0.79157626,\n",
       "         0.31847642,  0.53033925,  0.35522079,  0.03062121,  0.70320057,\n",
       "         0.05118066,  0.26124956,  0.31774604,  0.63538405,  0.61663245,\n",
       "         0.30893426,  0.56372569,  0.67328198,  0.966978  ,  0.33997102,\n",
       "         0.926115  ,  0.32901732,  0.7505127 ,  0.20869912,  0.6677301 ,\n",
       "         0.47260281,  0.73641377,  0.36394254,  0.15676991,  0.03753822],\n",
       "       [ 0.1599499 ,  0.72747161,  0.41098164,  0.88227757,  0.80225664,\n",
       "         0.58076038,  0.62604149,  0.27809917,  0.51134111,  0.17157447,\n",
       "         0.69778583,  0.87006135,  0.83624247,  0.24334487,  0.93341931,\n",
       "         0.85095331,  0.42510069,  0.57907773,  0.15114023,  0.77197908,\n",
       "         0.82567537,  0.28418457,  0.86511192,  0.74776511,  0.59766394,\n",
       "         0.54518565,  0.49637653,  0.89636162,  0.87370478,  0.43452822,\n",
       "         0.35777662,  0.45808748,  0.44998868,  0.66136384,  0.85147269,\n",
       "         0.8813857 ,  0.43100639,  0.53932731,  0.45269002,  0.32351924],\n",
       "       [ 0.21626368,  0.92117692,  0.22988855,  0.24766831,  0.88411823,\n",
       "         0.07974688,  0.67566756,  0.52273633,  0.97508628,  0.30430681,\n",
       "         0.21041634,  0.45059069,  0.41129771,  0.62292401,  0.13701305,\n",
       "         0.09710036,  0.62429528,  0.67742399,  0.68805224,  0.70478136,\n",
       "         0.6385342 ,  0.71501037,  0.73159882,  0.8590743 ,  0.45492538,\n",
       "         0.57846662,  0.03684044,  0.35861289,  0.74232403,  0.4254427 ,\n",
       "         0.64694289,  0.6884151 ,  0.12053532,  0.64690278,  0.60548436,\n",
       "         0.94425917,  0.81042996,  0.80137746,  0.85742053,  0.54655503]])"
      ]
     },
     "execution_count": 43,
     "metadata": {
     },
     "output_type": "execute_result"
    }
   ],
   "source": [
    "randmat"
   ]
  },
  {
   "cell_type": "code",
   "execution_count": 47,
   "metadata": {
    "collapsed": false
   },
   "outputs": [
    {
     "data": {
      "text/plain": [
       "(2, 40)"
      ]
     },
     "execution_count": 47,
     "metadata": {
     },
     "output_type": "execute_result"
    }
   ],
   "source": [
    "randmat[0:-1].shape"
   ]
  },
  {
   "cell_type": "code",
   "execution_count": 48,
   "metadata": {
    "collapsed": false
   },
   "outputs": [
    {
     "data": {
      "text/plain": [
       "array([[ 0.16543608,  0.83117096,  0.21225937,  0.53579532,  0.66284591,\n",
       "         0.87039074,  0.22110822,  0.12165866,  0.55934022,  0.73151058,\n",
       "         0.54216474,  0.75758696,  0.07731456,  0.23751692,  0.79157626,\n",
       "         0.31847642,  0.53033925,  0.35522079,  0.03062121,  0.70320057,\n",
       "         0.05118066,  0.26124956,  0.31774604,  0.63538405,  0.61663245,\n",
       "         0.30893426,  0.56372569,  0.67328198,  0.966978  ,  0.33997102,\n",
       "         0.926115  ,  0.32901732,  0.7505127 ,  0.20869912,  0.6677301 ,\n",
       "         0.47260281,  0.73641377,  0.36394254,  0.15676991,  0.03753822],\n",
       "       [ 0.1599499 ,  0.72747161,  0.41098164,  0.88227757,  0.80225664,\n",
       "         0.58076038,  0.62604149,  0.27809917,  0.51134111,  0.17157447,\n",
       "         0.69778583,  0.87006135,  0.83624247,  0.24334487,  0.93341931,\n",
       "         0.85095331,  0.42510069,  0.57907773,  0.15114023,  0.77197908,\n",
       "         0.82567537,  0.28418457,  0.86511192,  0.74776511,  0.59766394,\n",
       "         0.54518565,  0.49637653,  0.89636162,  0.87370478,  0.43452822,\n",
       "         0.35777662,  0.45808748,  0.44998868,  0.66136384,  0.85147269,\n",
       "         0.8813857 ,  0.43100639,  0.53932731,  0.45269002,  0.32351924]])"
      ]
     },
     "execution_count": 48,
     "metadata": {
     },
     "output_type": "execute_result"
    }
   ],
   "source": [
    "randmat[0:-1]"
   ]
  },
  {
   "cell_type": "markdown",
   "metadata": {
    "collapsed": false
   },
   "source": [
   ]
  },
  {
   "cell_type": "raw",
   "metadata": {
    "collapsed": false
   },
   "source": [
   ]
  },
  {
   "cell_type": "code",
   "execution_count": 45,
   "metadata": {
    "collapsed": false
   },
   "outputs": [
    {
     "data": {
      "text/plain": [
       "array([[ 0.16543608,  0.83117096,  0.21225937,  0.53579532,  0.66284591,\n",
       "         0.87039074,  0.22110822,  0.12165866,  0.55934022,  0.73151058,\n",
       "         0.54216474,  0.75758696,  0.07731456,  0.23751692,  0.79157626,\n",
       "         0.31847642,  0.53033925,  0.35522079,  0.03062121,  0.70320057,\n",
       "         0.05118066,  0.26124956,  0.31774604,  0.63538405,  0.61663245,\n",
       "         0.30893426,  0.56372569,  0.67328198,  0.966978  ,  0.33997102,\n",
       "         0.926115  ,  0.32901732,  0.7505127 ,  0.20869912,  0.6677301 ,\n",
       "         0.47260281,  0.73641377,  0.36394254,  0.15676991,  0.03753822],\n",
       "       [ 0.1599499 ,  0.72747161,  0.41098164,  0.88227757,  0.80225664,\n",
       "         0.58076038,  0.62604149,  0.27809917,  0.51134111,  0.17157447,\n",
       "         0.69778583,  0.87006135,  0.83624247,  0.24334487,  0.93341931,\n",
       "         0.85095331,  0.42510069,  0.57907773,  0.15114023,  0.77197908,\n",
       "         0.82567537,  0.28418457,  0.86511192,  0.74776511,  0.59766394,\n",
       "         0.54518565,  0.49637653,  0.89636162,  0.87370478,  0.43452822,\n",
       "         0.35777662,  0.45808748,  0.44998868,  0.66136384,  0.85147269,\n",
       "         0.8813857 ,  0.43100639,  0.53932731,  0.45269002,  0.32351924],\n",
       "       [ 0.21626368,  0.92117692,  0.22988855,  0.24766831,  0.88411823,\n",
       "         0.07974688,  0.67566756,  0.52273633,  0.97508628,  0.30430681,\n",
       "         0.21041634,  0.45059069,  0.41129771,  0.62292401,  0.13701305,\n",
       "         0.09710036,  0.62429528,  0.67742399,  0.68805224,  0.70478136,\n",
       "         0.6385342 ,  0.71501037,  0.73159882,  0.8590743 ,  0.45492538,\n",
       "         0.57846662,  0.03684044,  0.35861289,  0.74232403,  0.4254427 ,\n",
       "         0.64694289,  0.6884151 ,  0.12053532,  0.64690278,  0.60548436,\n",
       "         0.94425917,  0.81042996,  0.80137746,  0.85742053,  0.54655503]])"
      ]
     },
     "execution_count": 45,
     "metadata": {
     },
     "output_type": "execute_result"
    }
   ],
   "source": [
    "randmat[:]"
   ]
  },
  {
   "cell_type": "markdown",
   "metadata": {
    "collapsed": false
   },
   "source": [
   ]
  },
  {
   "cell_type": "markdown",
   "metadata": {
    "collapsed": false
   },
   "source": [
    "### Criando matriz com Reshape"
   ]
  },
  {
   "cell_type": "code",
   "execution_count": 28,
   "metadata": {
    "collapsed": false
   },
   "outputs": [
    {
     "name": "stdout",
     "output_type": "stream",
     "text": [
      "[[ 0  1  2  3]\n",
      " [ 4  5  6  7]\n",
      " [ 8  9 10 11]]\n"
     ]
    }
   ],
   "source": [
    "x = np.array(range(12)).reshape(3,4)\n",
    "print(x)"
   ]
  },
  {
   "cell_type": "markdown",
   "metadata": {
    "collapsed": false
   },
   "source": [
    "### Índices e fatias\n",
    "- Para acessar um elemento de uma lista de dimensão $n$ é necessário fornecer o valor de n índices, ou seja, 2 índices para uma matriz bidimensional, 3 índices para uma matriz tridimensional e assim por diante.\n",
    "- Embora seja possível usar a mesma forma para acessar elementos de um array, uma forma mais eficiente é separando os valores por vírgulas, como a seguir:"
   ]
  },
  {
   "cell_type": "code",
   "execution_count": 29,
   "metadata": {
    "collapsed": false
   },
   "outputs": [
    {
     "data": {
      "text/plain": [
       "[[0, 1, 2, 3], [4, 5, 6, 7], [8, 9, 10, 11]]"
      ]
     },
     "execution_count": 29,
     "metadata": {
     },
     "output_type": "execute_result"
    }
   ],
   "source": [
    "lista = [[0, 1, 2, 3], [4, 5, 6, 7], [8, 9, 10, 11]]\n",
    "lista"
   ]
  },
  {
   "cell_type": "code",
   "execution_count": 30,
   "metadata": {
    "collapsed": false
   },
   "outputs": [
    {
     "data": {
      "text/plain": [
       "[[0, 1, 2, 3], [4, 5, 6, 7]]"
      ]
     },
     "execution_count": 30,
     "metadata": {
     },
     "output_type": "execute_result"
    }
   ],
   "source": [
    "lista[0:-1]"
   ]
  },
  {
   "cell_type": "code",
   "execution_count": 38,
   "metadata": {
    "collapsed": false
   },
   "outputs": [
    {
     "data": {
      "text/plain": [
       "[[0, 1, 2, 3], [4, 5, 6, 7], [8, 9, 10, 11]]"
      ]
     },
     "execution_count": 38,
     "metadata": {
     },
     "output_type": "execute_result"
    }
   ],
   "source": [
    "lista[:]"
   ]
  },
  {
   "cell_type": "code",
   "execution_count": 34,
   "metadata": {
    "collapsed": false
   },
   "outputs": [
    {
     "data": {
      "text/plain": [
       "array([[ 0,  1,  2,  3],\n",
       "       [ 4,  5,  6,  7],\n",
       "       [ 8,  9, 10, 11]])"
      ]
     },
     "execution_count": 34,
     "metadata": {
     },
     "output_type": "execute_result"
    }
   ],
   "source": [
    "mat = np.array(lista)\n",
    "mat"
   ]
  },
  {
   "cell_type": "code",
   "execution_count": 39,
   "metadata": {
    "collapsed": false
   },
   "outputs": [
    {
     "data": {
      "text/plain": [
       "array([[0, 1, 2, 3],\n",
       "       [4, 5, 6, 7]])"
      ]
     },
     "execution_count": 39,
     "metadata": {
     },
     "output_type": "execute_result"
    }
   ],
   "source": [
    "mat[0:2]"
   ]
  },
  {
   "cell_type": "code",
   "execution_count": 35,
   "metadata": {
    "collapsed": false
   },
   "outputs": [
    {
     "data": {
      "text/plain": [
       "array([[4, 5, 6, 7]])"
      ]
     },
     "execution_count": 35,
     "metadata": {
     },
     "output_type": "execute_result"
    }
   ],
   "source": [
    "mat[1:-1] ##Pegando penúltima linha"
   ]
  },
  {
   "cell_type": "code",
   "execution_count": 36,
   "metadata": {
    "collapsed": false
   },
   "outputs": [
    {
     "data": {
      "text/plain": [
       "array([ 2,  6, 10])"
      ]
     },
     "execution_count": 36,
     "metadata": {
     },
     "output_type": "execute_result"
    }
   ],
   "source": [
    "mat[:,2]## Pegando a terceira coluna"
   ]
  },
  {
   "cell_type": "code",
   "execution_count": 32,
   "metadata": {
    "collapsed": false
   },
   "outputs": [
    {
     "data": {
      "text/plain": [
       "array([[ 2,  3],\n",
       "       [ 6,  7],\n",
       "       [10, 11]])"
      ]
     },
     "execution_count": 32,
     "metadata": {
     },
     "output_type": "execute_result"
    }
   ],
   "source": [
    "mat[:,2:]## Duas ultimas colunas e linhas"
   ]
  },
  {
   "cell_type": "markdown",
   "metadata": {
    "collapsed": false
   },
   "source": [
    "### Operações com arrays\n",
    "- O NumPy oferece muito mais recursos que listas para operação e manipulação de arrays que facilitam a computação científica."
   ]
  },
  {
   "cell_type": "code",
   "execution_count": 55,
   "metadata": {
    "collapsed": false
   },
   "outputs": [
    {
     "name": "stdout",
     "output_type": "stream",
     "text": [
      "Soma: [[1 4]\n",
      " [6 5]]\n",
      "Multiplicação: [[0 4]\n",
      " [9 4]]\n",
      "divisão: [[ 0.    1.  ]\n",
      " [ 1.    0.25]]\n"
     ]
    }
   ],
   "source": [
    "a1 = np.array([[1,2],[3,4]])\n",
    "b1 = np.array([[0,2],[3,1]])\n",
    "soma=a1+b1\n",
    "multiplicacao=a1*b1\n",
    "divisao=b1/a1\n",
    "print('Soma:',soma)\n",
    "print('Multiplicação:',multiplicacao)\n",
    "print('divisão:',divisao)"
   ]
  },
  {
   "cell_type": "code",
   "execution_count": 56,
   "metadata": {
    "collapsed": false
   },
   "outputs": [
    {
     "data": {
      "text/plain": [
       "array([[14]])"
      ]
     },
     "execution_count": 56,
     "metadata": {
     },
     "output_type": "execute_result"
    }
   ],
   "source": [
    "a=np.array([[1,2,3]])\n",
    "np.dot(a,a.T)"
   ]
  },
  {
   "cell_type": "code",
   "execution_count": 53,
   "metadata": {
    "collapsed": false
   },
   "outputs": [
    {
     "data": {
      "text/plain": [
       "[1, 2, 3, 1, 2, 3]"
      ]
     },
     "execution_count": 53,
     "metadata": {
     },
     "output_type": "execute_result"
    }
   ],
   "source": [
    "alista=[1,2,3]\n",
    "blista=[1,2,3]\n",
    "S=alista+blista\n",
    "S"
   ]
  },
  {
   "cell_type": "code",
   "execution_count": 59,
   "metadata": {
    "collapsed": false
   },
   "outputs": [
    {
     "data": {
      "text/plain": [
       "array([[ 0, -4],\n",
       "       [ 6,  0]])"
      ]
     },
     "execution_count": 59,
     "metadata": {
     },
     "output_type": "execute_result"
    }
   ],
   "source": [
    "np.dot(a1,b1)-np.dot(b1,a1)"
   ]
  },
  {
   "cell_type": "code",
   "execution_count": 60,
   "metadata": {
    "collapsed": false
   },
   "outputs": [
    {
     "data": {
      "text/plain": [
       "array([[0, 0],\n",
       "       [0, 0]])"
      ]
     },
     "execution_count": 60,
     "metadata": {
     },
     "output_type": "execute_result"
    }
   ],
   "source": [
    "a1*b1-b1*a1"
   ]
  },
  {
   "cell_type": "markdown",
   "metadata": {
    "collapsed": false
   },
   "source": [
    "### Operações entre arrays de tamanhos distintos\n",
    "- Em muitos casos, é necessário trabalhar com arrays com um número distinto de elementos, ou de formas diferentes. Nesse caso, é necessário entender as regras do NumPy que difundem as informações do array menor para o array maior.\n",
    "- O termo difusão (broadcasting) descreve como NumPy trata arrays de dimensões diferentes em operações aritméticas. O array menor é “difundido” a uma array maior para que tenham as mesmas dimensões. No caso de um escalar, o valor do escalar é difundido para todos os elementos do array maior, como no exemplo:"
   ]
  },
  {
   "cell_type": "code",
   "execution_count": 61,
   "metadata": {
    "collapsed": false
   },
   "outputs": [
    {
     "data": {
      "text/plain": [
       "array([[2, 3],\n",
       "       [4, 5]])"
      ]
     },
     "execution_count": 61,
     "metadata": {
     },
     "output_type": "execute_result"
    }
   ],
   "source": [
    "a2 = np.array([[1,2],[3,4]])\n",
    "a2 + 1"
   ]
  },
  {
   "cell_type": "code",
   "execution_count": 62,
   "metadata": {
    "collapsed": false
   },
   "outputs": [
    {
     "data": {
      "text/plain": [
       "array([[2, 4],\n",
       "       [6, 8]])"
      ]
     },
     "execution_count": 62,
     "metadata": {
     },
     "output_type": "execute_result"
    }
   ],
   "source": [
    "a2 * 2"
   ]
  },
  {
   "cell_type": "code",
   "execution_count": 63,
   "metadata": {
    "collapsed": false
   },
   "outputs": [
    {
     "data": {
      "text/plain": [
       "array([[ 0.5,  1. ],\n",
       "       [ 1.5,  2. ]])"
      ]
     },
     "execution_count": 63,
     "metadata": {
     },
     "output_type": "execute_result"
    }
   ],
   "source": [
    "a2/2"
   ]
  },
  {
   "cell_type": "markdown",
   "metadata": {
    "collapsed": false
   },
   "source": [
    "### Atribuir valores a NumPy Arrays\n",
    "- Também podemos usar a indexação para atribuir valores a determinados elementos em arrays. Podemos fazer isso atribuindo diretamente ao valor indexado:"
   ]
  },
  {
   "cell_type": "code",
   "execution_count": 68,
   "metadata": {
    "collapsed": false
   },
   "outputs": [
   ],
   "source": [
    "numeros=np.random.rand(3,4)\n",
    "numeros[ 0 , 0] = 10\n",
    "numeros [:, 2 ] = 50"
   ]
  },
  {
   "cell_type": "code",
   "execution_count": 73,
   "metadata": {
    "collapsed": false
   },
   "outputs": [
    {
     "data": {
      "text/plain": [
       "array([[7, 5, 8, 5],\n",
       "       [9, 6, 8, 8]])"
      ]
     },
     "execution_count": 73,
     "metadata": {
     },
     "output_type": "execute_result"
    }
   ],
   "source": [
    "np.random.randint(5,10, size=(2,4))"
   ]
  },
  {
   "cell_type": "code",
   "execution_count": 69,
   "metadata": {
    "collapsed": false
   },
   "outputs": [
    {
     "data": {
      "text/plain": [
       "array([[  1.00000000e+01,   8.96499525e-01,   5.00000000e+01,\n",
       "          4.31297796e-01],\n",
       "       [  8.61468758e-02,   6.74470791e-01,   5.00000000e+01,\n",
       "          9.46788398e-01],\n",
       "       [  4.68665236e-02,   5.46934968e-01,   5.00000000e+01,\n",
       "          9.13970644e-02]])"
      ]
     },
     "execution_count": 69,
     "metadata": {
     },
     "output_type": "execute_result"
    }
   ],
   "source": [
    "numeros"
   ]
  },
  {
   "cell_type": "markdown",
   "metadata": {
    "collapsed": false
   },
   "source": [
    "### Tipos de dados NumPy\n",
    "-  NumPy armazena valores usando seus próprios tipos de dados, que são distintos de tipos Python como **float** e **str** . Isso ocorre porque o núcleo do NumPy é escrito em uma linguagem de programação chamada C, que armazena dados de forma diferente dos tipos de dados Python. Os tipos de dados NumPy mapeiam entre Python e C, permitindo-nos usar matrizes NumPy sem nenhum engate de conversão.\n",
    "- Você pode encontrar o tipo de dados de uma matriz NumPy acessando a propriedade dtype:"
   ]
  },
  {
   "cell_type": "code",
   "execution_count": 74,
   "metadata": {
    "collapsed": false
   },
   "outputs": [
    {
     "data": {
      "text/plain": [
       "dtype('float64')"
      ]
     },
     "execution_count": 74,
     "metadata": {
     },
     "output_type": "execute_result"
    }
   ],
   "source": [
    "numeros.dtype"
   ]
  },
  {
   "cell_type": "markdown",
   "metadata": {
    "collapsed": false
   },
   "source": [
    "- NumPy tem vários tipos de dados diferentes, que mapeiam principalmente para tipos de dados Python, como float e str . Você pode encontrar uma lista completa dos tipos de dados NumPy aqui , mas aqui estão alguns importantes:\n",
    "\n",
    "- **float** - dados numéricos de ponto flutuante.\n",
    "- **int** - dados inteiros.\n",
    "- **string** - dados de caracteres.\n",
    "- **object** - Objetos Python.\n",
    " \n",
    "- Os tipos de dados, adicionalmente, terminam com um sufixo que indica quantos bits de memória eles ocupam. Assim, int32 é um tipo de dados inteiros de 32 bits e float64 é um tipo de dados float de 64 bits."
   ]
  },
  {
   "cell_type": "markdown",
   "metadata": {
    "collapsed": false
   },
   "source": [
    "### Convertendo tipos de dados\n",
    "- Você pode usar o método **numpy.ndarray.astype** para converter uma matriz em um tipo diferente. O método realmente copiará a matriz e retornará uma nova matriz com o tipo de dados especificado. "
   ]
  },
  {
   "cell_type": "code",
   "execution_count": 97,
   "metadata": {
    "collapsed": false
   },
   "outputs": [
    {
     "data": {
      "text/plain": [
       "array([[  1.00000000e+01,   8.96499525e-01,   5.00000000e+01,\n",
       "          4.31297796e-01],\n",
       "       [  8.61468758e-02,   6.74470791e-01,   5.00000000e+01,\n",
       "          9.46788398e-01],\n",
       "       [  4.68665236e-02,   5.46934968e-01,   5.00000000e+01,\n",
       "          9.13970644e-02]])"
      ]
     },
     "execution_count": 97,
     "metadata": {
     },
     "output_type": "execute_result"
    }
   ],
   "source": [
    "numeros"
   ]
  },
  {
   "cell_type": "code",
   "execution_count": 98,
   "metadata": {
    "collapsed": false
   },
   "outputs": [
    {
     "data": {
      "text/plain": [
       "array([[10,  0, 50,  0],\n",
       "       [ 0,  0, 50,  0],\n",
       "       [ 0,  0, 50,  0]])"
      ]
     },
     "execution_count": 98,
     "metadata": {
     },
     "output_type": "execute_result"
    }
   ],
   "source": [
    "numeros.astype(int)"
   ]
  },
  {
   "cell_type": "markdown",
   "metadata": {
    "collapsed": false
   },
   "source": [
    "### NumPy Array Comparações\n",
    "- NumPy torna possível testar para ver se as linhas correspondem a certos valores usando operações de comparação matemática como < , > , >= , <= e == . Por exemplo, se queremos ver quais vinhos têm uma classificação de qualidade superior a 5 , podemos fazer o seguinte:"
   ]
  },
  {
   "cell_type": "code",
   "execution_count": 75,
   "metadata": {
    "collapsed": false
   },
   "outputs": [
    {
     "data": {
      "text/plain": [
       "array([[  1.00000000e+01,   8.96499525e-01,   5.00000000e+01,\n",
       "          4.31297796e-01],\n",
       "       [  8.61468758e-02,   6.74470791e-01,   5.00000000e+01,\n",
       "          9.46788398e-01],\n",
       "       [  4.68665236e-02,   5.46934968e-01,   5.00000000e+01,\n",
       "          9.13970644e-02]])"
      ]
     },
     "execution_count": 75,
     "metadata": {
     },
     "output_type": "execute_result"
    }
   ],
   "source": [
    "numeros"
   ]
  },
  {
   "cell_type": "code",
   "execution_count": 76,
   "metadata": {
    "collapsed": false
   },
   "outputs": [
    {
     "data": {
      "text/plain": [
       "array([[ True, False,  True, False],\n",
       "       [False, False,  True, False],\n",
       "       [False, False,  True, False]], dtype=bool)"
      ]
     },
     "execution_count": 76,
     "metadata": {
     },
     "output_type": "execute_result"
    }
   ],
   "source": [
    "numeros> 5"
   ]
  },
  {
   "cell_type": "code",
   "execution_count": 77,
   "metadata": {
    "collapsed": false
   },
   "outputs": [
    {
     "data": {
      "text/plain": [
       "array([ True, False, False], dtype=bool)"
      ]
     },
     "execution_count": 77,
     "metadata": {
     },
     "output_type": "execute_result"
    }
   ],
   "source": [
    "numeros[:, 0 ] == 10"
   ]
  },
  {
   "cell_type": "code",
   "execution_count": 78,
   "metadata": {
    "collapsed": false
   },
   "outputs": [
    {
     "data": {
      "text/plain": [
       "array([ True,  True,  True], dtype=bool)"
      ]
     },
     "execution_count": 78,
     "metadata": {
     },
     "output_type": "execute_result"
    }
   ],
   "source": [
    "numeros[:, 2] == 50."
   ]
  },
  {
   "cell_type": "markdown",
   "metadata": {
    "collapsed": false
   },
   "source": [
    "### Subsetting\n",
    "- Uma das operações poderosas que podemos realizar com uma matriz booleana e uma matriz NumPy é selecionar apenas algumas linhas ou colunas na matriz NumPy. Por exemplo, o código abaixo só irá selecionar linhas cuja qualidade é superior a 7 :"
   ]
  },
  {
   "cell_type": "code",
   "execution_count": 79,
   "metadata": {
    "collapsed": false
   },
   "outputs": [
    {
     "data": {
      "text/plain": [
       "array([], shape=(0, 4), dtype=float64)"
      ]
     },
     "execution_count": 79,
     "metadata": {
     },
     "output_type": "execute_result"
    }
   ],
   "source": [
    "high_quality = numeros[:,1] > 2\n",
    "numeros[high_quality,:][:3,:]"
   ]
  },
  {
   "cell_type": "markdown",
   "metadata": {
    "collapsed": false
   },
   "source": [
    "## Operações Diversas"
   ]
  },
  {
   "cell_type": "markdown",
   "metadata": {
    "collapsed": false
   },
   "source": [
    "- Para achatar os dados, ou seja acabar com sua estrutura interna"
   ]
  },
  {
   "cell_type": "code",
   "execution_count": 80,
   "metadata": {
    "collapsed": false
   },
   "outputs": [
    {
     "data": {
      "text/plain": [
       "array([  1.00000000e+01,   8.96499525e-01,   5.00000000e+01,\n",
       "         4.31297796e-01,   8.61468758e-02,   6.74470791e-01,\n",
       "         5.00000000e+01,   9.46788398e-01,   4.68665236e-02,\n",
       "         5.46934968e-01,   5.00000000e+01,   9.13970644e-02])"
      ]
     },
     "execution_count": 80,
     "metadata": {
     },
     "output_type": "execute_result"
    }
   ],
   "source": [
    "numeros.ravel()"
   ]
  },
  {
   "cell_type": "markdown",
   "metadata": {
    "collapsed": false
   },
   "source": [
    "Para inserir uma linha em um `array`:"
   ]
  },
  {
   "cell_type": "code",
   "execution_count": 81,
   "metadata": {
    "collapsed": false
   },
   "outputs": [
    {
     "data": {
      "text/plain": [
       "array([[  1.00000000e+01,   8.96499525e-01,   5.00000000e+01,\n",
       "          4.31297796e-01],\n",
       "       [  8.61468758e-02,   6.74470791e-01,   5.00000000e+01,\n",
       "          9.46788398e-01],\n",
       "       [  4.68665236e-02,   5.46934968e-01,   5.00000000e+01,\n",
       "          9.13970644e-02],\n",
       "       [  1.00000000e+00,   2.00000000e+00,   3.00000000e+00,\n",
       "          4.00000000e+00]])"
      ]
     },
     "execution_count": 81,
     "metadata": {
     },
     "output_type": "execute_result"
    }
   ],
   "source": [
    "np.vstack((numeros, [1,2,3,4]))"
   ]
  },
  {
   "cell_type": "markdown",
   "metadata": {
    "collapsed": false
   },
   "source": [
    "Para inserir uma coluna. Note que temos que criar um vetor coluna.\n"
   ]
  },
  {
   "cell_type": "code",
   "execution_count": 82,
   "metadata": {
    "collapsed": false
   },
   "outputs": [
    {
     "data": {
      "text/plain": [
       "array([[  1.00000000e+01,   8.96499525e-01,   5.00000000e+01,\n",
       "          4.31297796e-01,   1.00000000e+00],\n",
       "       [  8.61468758e-02,   6.74470791e-01,   5.00000000e+01,\n",
       "          9.46788398e-01,   2.00000000e+00],\n",
       "       [  4.68665236e-02,   5.46934968e-01,   5.00000000e+01,\n",
       "          9.13970644e-02,   3.00000000e+00]])"
      ]
     },
     "execution_count": 82,
     "metadata": {
     },
     "output_type": "execute_result"
    }
   ],
   "source": [
    "np.hstack((numeros,[[1],[2],[3]]))"
   ]
  },
  {
   "cell_type": "markdown",
   "metadata": {
    "collapsed": false
   },
   "source": [
    "## Álgebra Linear"
   ]
  },
  {
   "cell_type": "code",
   "execution_count": 83,
   "metadata": {
    "collapsed": false
   },
   "outputs": [
   ],
   "source": [
    "from numpy import linalg as LA\n",
    "arr2d = np.array((  (100,200,300), \n",
    "          (111,222,333), \n",
    "          (129,461,795) ))"
   ]
  },
  {
   "cell_type": "markdown",
   "metadata": {
    "collapsed": false
   },
   "source": [
    "Calcula os autovalores:"
   ]
  },
  {
   "cell_type": "code",
   "execution_count": 90,
   "metadata": {
    "collapsed": false
   },
   "outputs": [
   ],
   "source": [
    "eig_val, eig_vec = LA.eig(arr2d)"
   ]
  },
  {
   "cell_type": "code",
   "execution_count": 91,
   "metadata": {
    "collapsed": false
   },
   "outputs": [
    {
     "data": {
      "text/plain": [
       "array([  1.05664180e+03,   6.03582029e+01,   2.37768608e-14])"
      ]
     },
     "execution_count": 91,
     "metadata": {
     },
     "output_type": "execute_result"
    }
   ],
   "source": [
    "eig_val"
   ]
  },
  {
   "cell_type": "code",
   "execution_count": 92,
   "metadata": {
    "collapsed": false
   },
   "outputs": [
    {
     "data": {
      "text/plain": [
       "array([[ 0.34860455,  0.57805139,  0.41356846],\n",
       "       [ 0.38695105,  0.64163704, -0.81514943],\n",
       "       [ 0.8536649 , -0.50414135,  0.4055768 ]])"
      ]
     },
     "execution_count": 92,
     "metadata": {
     },
     "output_type": "execute_result"
    }
   ],
   "source": [
    "eig_vec"
   ]
  },
  {
   "cell_type": "code",
   "execution_count": 93,
   "metadata": {
    "collapsed": false
   },
   "outputs": [
    {
     "data": {
      "text/plain": [
       "1083.3655892633844"
      ]
     },
     "execution_count": 93,
     "metadata": {
     },
     "output_type": "execute_result"
    }
   ],
   "source": [
    "LA.norm(arr2d) # calcula a norma da matriz\n"
   ]
  },
  {
   "cell_type": "code",
   "execution_count": 94,
   "metadata": {
    "collapsed": false
   },
   "outputs": [
    {
     "data": {
      "text/plain": [
       "1.2808527571905839e-09"
      ]
     },
     "execution_count": 94,
     "metadata": {
     },
     "output_type": "execute_result"
    }
   ],
   "source": [
    "LA.det(arr2d) # calcula determinante\n"
   ]
  },
  {
   "cell_type": "code",
   "execution_count": 95,
   "metadata": {
    "collapsed": false
   },
   "outputs": [
    {
     "data": {
      "text/plain": [
       "array([[  1.79388301e+13,  -1.61611082e+13,  -5.73046402e-03],\n",
       "       [ -3.53576941e+13,   3.18537785e+13,  -3.19792599e-03],\n",
       "       [  1.75921860e+13,  -1.58488163e+13,   4.04210533e-03]])"
      ]
     },
     "execution_count": 95,
     "metadata": {
     },
     "output_type": "execute_result"
    }
   ],
   "source": [
    "LA.inv(arr2d) # calcula inversa"
   ]
  },
  {
   "cell_type": "markdown",
   "metadata": {
    "collapsed": false
   },
   "source": [
    "Resolve sistemas lineares na forma\n",
    "\n",
    "$$ a x + b y = c $$\n",
    "$$ d x + e y = f $$"
   ]
  },
  {
   "cell_type": "markdown",
   "metadata": {
    "collapsed": false
   },
   "source": [
    "$$\\left(\\begin{array} \n",
    " a a & b \\\\\n",
    "d & e \n",
    "\\end{array}\\right)\\cdot\n",
    "\\left(\n",
    "\\begin{array}\n",
    "x x \\\\\n",
    "y\n",
    "\\end{array}\n",
    "\\right)=\n",
    "\\left(\n",
    "\\begin{array}\n",
    "c c \\\\\n",
    "f\n",
    "\\end{array}\n",
    "\\right)\n",
    "$$"
   ]
  },
  {
   "cell_type": "code",
   "execution_count": 96,
   "metadata": {
    "collapsed": false
   },
   "outputs": [
    {
     "ename": "SyntaxError",
     "evalue": "Missing parentheses in call to 'print' (<ipython-input-96-33ffef0389fd>, line 4)",
     "output_type": "error",
     "traceback": [
      "\u001b[0;36m  File \u001b[0;32m\"<ipython-input-96-33ffef0389fd>\"\u001b[0;36m, line \u001b[0;32m4\u001b[0m\n\u001b[0;31m    print results\u001b[0m\n\u001b[0m                ^\u001b[0m\n\u001b[0;31mSyntaxError\u001b[0m\u001b[0;31m:\u001b[0m Missing parentheses in call to 'print'\n"
     ]
    }
   ],
   "source": [
    "arr1 = np.array([[2,3], [3,4]])\n",
    "arr2 = np.array([4,5])\n",
    "results = np.linalg.solve(arr1, arr2)\n",
    "print results"
   ]
  },
  {
   "cell_type": "markdown",
   "metadata": {
    "collapsed": false
   },
   "source": [
    "## Exercícios para fazer na aula\n",
    "- Encontre índices de elementos não nulos de [1,2,0,0,4,0] \n",
    "- Extrair a parte inteira de uma matriz aleatória\n",
    "- Considere uma matriz aleatória de 10$\\times$2 que represente coordenadas cartesianas, converta-as em coordenadas polares\n",
    "- Considere um vetor aleatório com forma (100,2) representando coordenadas, encontre as  distâncias entre todos os pontos \n",
    "- Considere o vetor [1, 2, 3, 4, 5], como construir um novo vetor com 3 zeros consecutivos intercalados entre cada valor?"
   ]
  },
  {
   "cell_type": "markdown",
   "metadata": {
    "collapsed": false
   },
   "source": [
    "### Exercício 1 - Jogo da Vida (0.25)\n",
    "- O Jogo da Vida (The Game of Life) é um autômato celular (cellular automaton) introduzido por John Horton Conway em 1970. Um automato celular consiste de uma rede de células. Cada célula pode estar em um número finito de estados, como morta ou viva. O “jogo” é na verdade uma simulação que permite observar a evolução de um processo a partir de uma certa condição inicial.\n",
    "- O jogo se desenvolve sobre uma matriz bi-dimensional que pode ser tão grande quanto se queira. Vamos chamar essa matriz de mapa. Cada posição ou célula do mapa pode estar vazia (= célula morta) ou ocupada por um agente (= célula viva). Cada posição possui também até 8 posições vizinhas: imediatamente acima, abaixo, aos lados e nas diagonais. Em um determinado instante, o mapa contém uma geração de agentes. A geração no instante seguinte é determinada segundo as regras abaixo:\n",
    "- Novos agentes nascem em células vazias que possuam exatamente 3 agentes vizinhos;\n",
    "- **Agentes com 2 ou 3 agentes vizinhos sobrevivem;**\n",
    "- **Agentes com menos de 2 agentes vizinhos morrem for falta de recursos;**\n",
    "- **Agentes com mais de 3 agentes vizinhos morrem por excesso de competição.**"
   ]
  }
 ],
 "metadata": {
  "celltoolbar": "Slideshow",
  "kernelspec": {
   "display_name": "Python 3 (Ubuntu Linux)",
   "language": "python",
   "name": "python3"
  },
  "language_info": {
   "codemirror_mode": {
    "name": "ipython",
    "version": 3
   },
   "file_extension": ".py",
   "mimetype": "text/x-python",
   "name": "python",
   "nbconvert_exporter": "python",
   "pygments_lexer": "ipython3",
   "version": "3.4.3+"
  }
 },
 "nbformat": 4,
 "nbformat_minor": 0
}