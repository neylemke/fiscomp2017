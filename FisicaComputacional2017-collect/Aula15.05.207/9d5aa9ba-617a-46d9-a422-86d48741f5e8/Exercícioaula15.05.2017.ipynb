{
 "cells": [
  {
   "cell_type": "markdown",
   "metadata": {
    "collapsed": false
   },
   "source": [
    "\n",
    "## Exercícios para fazer na aula\n",
    "##### 1)Encontre índices de elementos não nulos de [1,2,0,0,4,0]\n",
    "##### 2)Extrair a parte inteira de uma matriz aleatória\n",
    "##### 3)Considere uma matriz aleatória de 10×2 que represente coordenadas cartesianas, converta-as em coordenadas polares\n",
    "##### 4)Considere um vetor aleatório com forma (100,2) representando coordenadas, encontre as distâncias entre todos os pontos\n",
    "##### 5)Considere o vetor [1, 2, 3, 4, 5], como construir um novo vetor com 3 zeros consecutivos intercalados entre cada valor?\n"
   ]
  },
  {
   "cell_type": "code",
   "execution_count": 9,
   "metadata": {
    "collapsed": false
   },
   "outputs": [
   ],
   "source": [
    "import numpy as np"
   ]
  },
  {
   "cell_type": "markdown",
   "metadata": {
    "collapsed": false
   },
   "source": [
    "### 1)"
   ]
  },
  {
   "cell_type": "code",
   "execution_count": 10,
   "metadata": {
    "collapsed": false
   },
   "outputs": [
   ],
   "source": [
    "linha=[1,2,0,0,4,0]"
   ]
  },
  {
   "cell_type": "code",
   "execution_count": 11,
   "metadata": {
    "collapsed": false
   },
   "outputs": [
    {
     "data": {
      "text/plain": [
       "[1, 2, 0, 0, 4, 0]"
      ]
     },
     "execution_count": 11,
     "metadata": {
     },
     "output_type": "execute_result"
    }
   ],
   "source": [
    "linha"
   ]
  },
  {
   "cell_type": "code",
   "execution_count": 12,
   "metadata": {
    "collapsed": false
   },
   "outputs": [
    {
     "name": "stdout",
     "output_type": "stream",
     "text": [
      "(array([0, 1, 4]),)\n"
     ]
    }
   ],
   "source": [
    "print(np.nonzero(linha))"
   ]
  },
  {
   "cell_type": "markdown",
   "metadata": {
    "collapsed": false
   },
   "source": [
    "### 2)"
   ]
  },
  {
   "cell_type": "code",
   "execution_count": 35,
   "metadata": {
    "collapsed": false
   },
   "outputs": [
   ],
   "source": [
    "matriz=np.random.uniform(0,10,10)"
   ]
  },
  {
   "cell_type": "code",
   "execution_count": 36,
   "metadata": {
    "collapsed": false
   },
   "outputs": [
    {
     "data": {
      "text/plain": [
       "array([ 9.74020044,  6.98649193,  4.38239938,  3.95731681,  3.64810072,\n",
       "        8.97207288,  6.29962659,  5.71183339,  4.81215734,  2.53066808])"
      ]
     },
     "execution_count": 36,
     "metadata": {
     },
     "output_type": "execute_result"
    }
   ],
   "source": [
    "matriz"
   ]
  },
  {
   "cell_type": "code",
   "execution_count": 37,
   "metadata": {
    "collapsed": false
   },
   "outputs": [
    {
     "name": "stdout",
     "output_type": "stream",
     "text": [
      "[ 9.  6.  4.  3.  3.  8.  6.  5.  4.  2.]\n"
     ]
    }
   ],
   "source": [
    "print(np.floor(matriz))"
   ]
  },
  {
   "cell_type": "markdown",
   "metadata": {
    "collapsed": false
   },
   "source": [
    "### 3)"
   ]
  },
  {
   "cell_type": "code",
   "execution_count": 56,
   "metadata": {
    "collapsed": false
   },
   "outputs": [
   ],
   "source": [
    "Z22=np.random.rand(10,2)"
   ]
  },
  {
   "cell_type": "code",
   "execution_count": 57,
   "metadata": {
    "collapsed": false,
    "scrolled": true
   },
   "outputs": [
    {
     "data": {
      "text/plain": [
       "array([[ 0.59157118,  0.51062792],\n",
       "       [ 0.63098882,  0.07730767],\n",
       "       [ 0.91293626,  0.84409319],\n",
       "       [ 0.24268446,  0.51070984],\n",
       "       [ 0.27031875,  0.90251763],\n",
       "       [ 0.99462755,  0.74995894],\n",
       "       [ 0.60812972,  0.05392833],\n",
       "       [ 0.26438787,  0.28076716],\n",
       "       [ 0.55267176,  0.71423685],\n",
       "       [ 0.31338126,  0.52672702]])"
      ]
     },
     "execution_count": 57,
     "metadata": {
     },
     "output_type": "execute_result"
    }
   ],
   "source": [
    "Z22"
   ]
  },
  {
   "cell_type": "code",
   "execution_count": 83,
   "metadata": {
    "collapsed": false
   },
   "outputs": [
    {
     "name": "stdout",
     "output_type": "stream",
     "text": [
      "R: [ 0.78147126  0.63570698  1.24336074  0.56543814  0.94213073  1.24568149\n",
      "  0.61051619  0.38565677  0.90309487  0.61290225]\n",
      "G: [ 0.71209179  0.12191072  0.74623669  1.12719258  1.27978334  0.64606246\n",
      "  0.08844762  0.81543434  0.91224053  1.03409131]\n"
     ]
    }
   ],
   "source": [
    "A,B=Z22[:,0],Z22[:,1]\n",
    "R=np.sqrt(A**2+B**2)\n",
    "G=np.arctan2(B,A)\n",
    "print('R:',R)\n",
    "print('G:',G)"
   ]
  },
  {
   "cell_type": "markdown",
   "metadata": {
    "collapsed": false
   },
   "source": [
    "### 4)"
   ]
  },
  {
   "cell_type": "code",
   "execution_count": 60,
   "metadata": {
    "collapsed": false
   },
   "outputs": [
    {
     "data": {
      "text/plain": [
       "array([[ 0.56635796,  0.23258845],\n",
       "       [ 0.3624039 ,  0.55523926],\n",
       "       [ 0.61851126,  0.05176592],\n",
       "       [ 0.60562947,  0.65462502],\n",
       "       [ 0.40468063,  0.27132949],\n",
       "       [ 0.63425611,  0.13543024],\n",
       "       [ 0.42248604,  0.68093289],\n",
       "       [ 0.08555898,  0.89441996],\n",
       "       [ 0.10572769,  0.4074788 ],\n",
       "       [ 0.15999635,  0.27957102],\n",
       "       [ 0.84105182,  0.1209368 ],\n",
       "       [ 0.97690121,  0.78989   ],\n",
       "       [ 0.09742781,  0.28407448],\n",
       "       [ 0.68844945,  0.17029906],\n",
       "       [ 0.53288759,  0.29496681],\n",
       "       [ 0.63343814,  0.5443915 ],\n",
       "       [ 0.62165444,  0.2622883 ],\n",
       "       [ 0.16132259,  0.23333609],\n",
       "       [ 0.22462998,  0.33451047],\n",
       "       [ 0.21013815,  0.6362801 ],\n",
       "       [ 0.93562138,  0.26413453],\n",
       "       [ 0.19438918,  0.53725899],\n",
       "       [ 0.79394138,  0.40703967],\n",
       "       [ 0.48343791,  0.58504924],\n",
       "       [ 0.02554834,  0.85194513],\n",
       "       [ 0.37429495,  0.43546095],\n",
       "       [ 0.23632427,  0.85383214],\n",
       "       [ 0.61116508,  0.19984393],\n",
       "       [ 0.1819509 ,  0.64845405],\n",
       "       [ 0.00177952,  0.25551077],\n",
       "       [ 0.78784227,  0.67215435],\n",
       "       [ 0.18329844,  0.48088053],\n",
       "       [ 0.82428514,  0.65540473],\n",
       "       [ 0.29961536,  0.48151487],\n",
       "       [ 0.6099875 ,  0.86342654],\n",
       "       [ 0.61441358,  0.3609267 ],\n",
       "       [ 0.33386517,  0.32398557],\n",
       "       [ 0.9299304 ,  0.31192551],\n",
       "       [ 0.6138681 ,  0.12553211],\n",
       "       [ 0.79906778,  0.18185672],\n",
       "       [ 0.88010082,  0.79408477],\n",
       "       [ 0.34044145,  0.37902131],\n",
       "       [ 0.41919322,  0.94309886],\n",
       "       [ 0.12964511,  0.2671936 ],\n",
       "       [ 0.34793326,  0.61862443],\n",
       "       [ 0.12986063,  0.64649556],\n",
       "       [ 0.3740356 ,  0.8230961 ],\n",
       "       [ 0.80388294,  0.93893925],\n",
       "       [ 0.29490703,  0.51078183],\n",
       "       [ 0.89623485,  0.31710399],\n",
       "       [ 0.78579304,  0.28798637],\n",
       "       [ 0.80338292,  0.11766293],\n",
       "       [ 0.39062407,  0.98253704],\n",
       "       [ 0.91731853,  0.04225647],\n",
       "       [ 0.74325795,  0.34695783],\n",
       "       [ 0.15581065,  0.75896126],\n",
       "       [ 0.60374167,  0.40276746],\n",
       "       [ 0.68054471,  0.95522259],\n",
       "       [ 0.16107088,  0.93550266],\n",
       "       [ 0.51645311,  0.21851543],\n",
       "       [ 0.04580135,  0.42980491],\n",
       "       [ 0.27973581,  0.0975878 ],\n",
       "       [ 0.54301328,  0.87531296],\n",
       "       [ 0.28950791,  0.20650097],\n",
       "       [ 0.38353574,  0.89842183],\n",
       "       [ 0.54253883,  0.5091551 ],\n",
       "       [ 0.34529158,  0.61806562],\n",
       "       [ 0.10844882,  0.52148986],\n",
       "       [ 0.43381927,  0.33741196],\n",
       "       [ 0.8717958 ,  0.2209187 ],\n",
       "       [ 0.33705052,  0.43787161],\n",
       "       [ 0.64584011,  0.05558354],\n",
       "       [ 0.02979437,  0.14637443],\n",
       "       [ 0.17051911,  0.12012224],\n",
       "       [ 0.21713999,  0.72599798],\n",
       "       [ 0.69211921,  0.76237121],\n",
       "       [ 0.79701566,  0.09340737],\n",
       "       [ 0.0199001 ,  0.54611195],\n",
       "       [ 0.39625282,  0.41859562],\n",
       "       [ 0.39585007,  0.9893847 ],\n",
       "       [ 0.53297271,  0.63168433],\n",
       "       [ 0.34941247,  0.47842974],\n",
       "       [ 0.32201047,  0.28650804],\n",
       "       [ 0.84967525,  0.69408312],\n",
       "       [ 0.68972465,  0.61868799],\n",
       "       [ 0.01769851,  0.02497852],\n",
       "       [ 0.65531393,  0.15002236],\n",
       "       [ 0.13760771,  0.266984  ],\n",
       "       [ 0.47155053,  0.45577385],\n",
       "       [ 0.4471165 ,  0.49459213],\n",
       "       [ 0.13265761,  0.90594466],\n",
       "       [ 0.15571149,  0.91015481],\n",
       "       [ 0.89715861,  0.06086884],\n",
       "       [ 0.91575882,  0.33296356],\n",
       "       [ 0.92317206,  0.02982664],\n",
       "       [ 0.0419218 ,  0.7889225 ],\n",
       "       [ 0.51734223,  0.41579341],\n",
       "       [ 0.58695861,  0.74040501],\n",
       "       [ 0.44171154,  0.94941294],\n",
       "       [ 0.80330181,  0.94224316]])"
      ]
     },
     "execution_count": 60,
     "metadata": {
     },
     "output_type": "execute_result"
    }
   ],
   "source": [
    "outro=np.random.rand(100,2)\n",
    "outro"
   ]
  },
  {
   "cell_type": "code",
   "execution_count": 61,
   "metadata": {
    "collapsed": false
   },
   "outputs": [
    {
     "name": "stdout",
     "output_type": "stream",
     "text": [
      "[[ 0.          0.38170775  0.18819339 ...,  0.50823424  0.72758098\n",
      "   0.74816589]\n",
      " [ 0.38170775  0.          0.56486847 ...,  0.29105184  0.40207287\n",
      "   0.58665406]\n",
      " [ 0.18819339  0.56486847  0.         ...,  0.68936156  0.91489251\n",
      "   0.90944887]\n",
      " ..., \n",
      " [ 0.50823424  0.29105184  0.68936156 ...,  0.          0.25452118\n",
      "   0.29587669]\n",
      " [ 0.72758098  0.40207287  0.91489251 ...,  0.25452118  0.          0.36166134]\n",
      " [ 0.74816589  0.58665406  0.90944887 ...,  0.29587669  0.36166134  0.        ]]\n"
     ]
    }
   ],
   "source": [
    "X,Y=np.atleast_2d(outro[:,0]),np.atleast_2d(outro[:,1])\n",
    "D=np.sqrt( (X-X.T)**2 + (Y-Y.T)**2 )\n",
    "print(D)"
   ]
  },
  {
   "cell_type": "markdown",
   "metadata": {
    "collapsed": false
   },
   "source": [
    "### 5)"
   ]
  },
  {
   "cell_type": "code",
   "execution_count": 62,
   "metadata": {
    "collapsed": false
   },
   "outputs": [
    {
     "name": "stdout",
     "output_type": "stream",
     "text": [
      "[ 1.  0.  0.  0.  2.  0.  0.  0.  3.  0.  0.  0.  4.  0.  0.  0.  5.]\n"
     ]
    }
   ],
   "source": [
    "Z=np.array([1,2,3,4,5])\n",
    "nz=3\n",
    "Z0=np.zeros(len(Z)+(len(Z)-1)*(nz))\n",
    "Z0[::nz+1]=Z\n",
    "print(Z0)"
   ]
  },
  {
   "cell_type": "markdown",
   "metadata": {
    "collapsed": false
   },
   "source": [
    "### Exercício 1 - Jogo da Vida (0.25)\n",
    "1) O Jogo da Vida (The Game of Life) é um autômato celular (cellular automaton) introduzido por John Horton Conway em 1970. Um automato celular consiste de uma rede de células. Cada célula pode estar em um número finito de estados, como morta ou viva. O “jogo” é na verdade uma simulação que permite observar a evolução de um processo a partir de uma certa condição inicial.\n",
    "\n",
    "2) O jogo se desenvolve sobre uma matriz bi-dimensional que pode ser tão grande quanto se queira. Vamos chamar essa matriz de mapa. Cada posição ou célula do mapa pode estar vazia (= célula morta) ou ocupada por um agente (= célula viva). Cada posição possui também até 8 posições vizinhas: imediatamente acima, abaixo, aos lados e nas diagonais. Em um determinado instante, o mapa contém uma geração de agentes. A geração no instante seguinte é determinada segundo as regras abaixo:\n",
    "\n",
    "3) Novos agentes nascem em células vazias que possuam exatamente 3 agentes vizinhos;\n",
    "- **Agentes com 2 ou 3 agentes vizinhos sobrevivem;**\n",
    "- **Agentes com menos de 2 agentes vizinhos morrem for falta de recursos;**\n",
    "- **Agentes com mais de 3 agentes vizinhos morrem por excesso de competição.**"
   ]
  },
  {
   "cell_type": "code",
   "execution_count": 89,
   "metadata": {
    "collapsed": false
   },
   "outputs": [
   ],
   "source": [
    "jogo=np.random.randint(0,2, size=(8,8))"
   ]
  },
  {
   "cell_type": "code",
   "execution_count": 90,
   "metadata": {
    "collapsed": false
   },
   "outputs": [
    {
     "data": {
      "text/plain": [
       "array([[0, 1, 1, 0, 1, 0, 0, 1, 1, 0],\n",
       "       [0, 0, 1, 1, 0, 1, 0, 1, 0, 1],\n",
       "       [0, 0, 1, 1, 1, 0, 0, 1, 1, 1],\n",
       "       [0, 0, 0, 1, 1, 1, 0, 1, 0, 0],\n",
       "       [0, 0, 1, 0, 1, 1, 0, 0, 1, 1],\n",
       "       [1, 1, 0, 0, 1, 0, 0, 0, 1, 1],\n",
       "       [1, 1, 0, 1, 0, 0, 0, 1, 0, 1],\n",
       "       [1, 1, 0, 1, 0, 1, 1, 1, 0, 0],\n",
       "       [0, 1, 1, 1, 1, 1, 1, 1, 1, 0],\n",
       "       [1, 0, 1, 0, 1, 0, 0, 0, 1, 0]])"
      ]
     },
     "execution_count": 90,
     "metadata": {
     },
     "output_type": "execute_result"
    }
   ],
   "source": [
    "jogo"
   ]
  },
  {
   "cell_type": "code",
   "execution_count": 88,
   "metadata": {
    "collapsed": false
   },
   "outputs": [
    {
     "data": {
      "text/plain": [
       "1"
      ]
     },
     "execution_count": 88,
     "metadata": {
     },
     "output_type": "execute_result"
    }
   ],
   "source": [
    "for i in range(10):\n",
    "    for j in range(10):"
   ]
  },
  {
   "cell_type": "code",
   "execution_count": 0,
   "metadata": {
    "collapsed": false
   },
   "outputs": [
   ],
   "source": [
   ]
  }
 ],
 "metadata": {
  "kernelspec": {
   "display_name": "T - Python 3 (Ubuntu Linux)",
   "language": "python",
   "name": "python3"
  },
  "language_info": {
   "codemirror_mode": {
    "name": "ipython",
    "version": 3
   },
   "file_extension": ".py",
   "mimetype": "text/x-python",
   "name": "python",
   "nbconvert_exporter": "python",
   "pygments_lexer": "ipython3",
   "version": "3.4.3+"
  }
 },
 "nbformat": 4,
 "nbformat_minor": 0
}