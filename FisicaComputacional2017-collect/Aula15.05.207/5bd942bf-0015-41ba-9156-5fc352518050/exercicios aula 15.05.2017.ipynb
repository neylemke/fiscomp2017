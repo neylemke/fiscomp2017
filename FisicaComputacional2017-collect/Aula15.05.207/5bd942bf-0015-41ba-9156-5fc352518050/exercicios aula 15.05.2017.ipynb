{
 "cells": [
  {
   "cell_type": "code",
   "execution_count": 0,
   "metadata": {
    "collapsed": false
   },
   "outputs": [
   ],
   "source": [
    "Exercícios para fazer na aula\n",
    "Encontre índices de elementos não nulos de [1,2,0,0,4,0]\n",
    "Extrair a parte inteira de uma matriz aleatória\n",
    "Considere uma matriz aleatória de 10\n",
    "×\n",
    "2 que represente coordenadas cartesianas, converta-as em coordenadas polares\n",
    "Considere um vetor aleatório com forma (100,2) representando coordenadas, encontre as distâncias entre todos os pontos\n",
    "Considere o vetor [1, 2, 3, 4, 5], como construir um novo vetor com 3 zeros consecutivos intercalados entre cada valor?"
   ]
  },
  {
   "cell_type": "code",
   "execution_count": 4,
   "metadata": {
    "collapsed": false
   },
   "outputs": [
   ],
   "source": [
    "import numpy as np"
   ]
  },
  {
   "cell_type": "code",
   "execution_count": 3,
   "metadata": {
    "collapsed": false
   },
   "outputs": [
    {
     "data": {
      "text/plain": [
       "array([[1, 2, 0, 0, 4, 0]])"
      ]
     },
     "execution_count": 3,
     "metadata": {
     },
     "output_type": "execute_result"
    }
   ],
   "source": [
    "import numpy as np\n",
    "a= [[1,2,0,0,4,0]]\n",
    "matriz = np.array(a)\n",
    "matriz"
   ]
  },
  {
   "cell_type": "code",
   "execution_count": 12,
   "metadata": {
    "collapsed": false
   },
   "outputs": [
   ],
   "source": [
    "numeros=np.array(a)"
   ]
  },
  {
   "cell_type": "code",
   "execution_count": 7,
   "metadata": {
    "collapsed": false
   },
   "outputs": [
    {
     "name": "stdout",
     "output_type": "stream",
     "text": [
      "[[1 2 0 0 4 0]]\n"
     ]
    }
   ],
   "source": [
    "print (np.array(a))"
   ]
  },
  {
   "cell_type": "code",
   "execution_count": 8,
   "metadata": {
    "collapsed": false
   },
   "outputs": [
   ],
   "source": [
    "aab=np.nonzero(a)"
   ]
  },
  {
   "cell_type": "code",
   "execution_count": 17,
   "metadata": {
    "collapsed": false
   },
   "outputs": [
   ],
   "source": [
    "a=[[1,4,0,0,4,0]]"
   ]
  },
  {
   "cell_type": "code",
   "execution_count": 18,
   "metadata": {
    "collapsed": false
   },
   "outputs": [
   ],
   "source": [
    "ab=np.nonzero(a)"
   ]
  },
  {
   "cell_type": "code",
   "execution_count": 20,
   "metadata": {
    "collapsed": false
   },
   "outputs": [
    {
     "name": "stdout",
     "output_type": "stream",
     "text": [
      "(array([0, 0, 0]), array([0, 1, 4]))\n"
     ]
    }
   ],
   "source": [
    "print (ab)"
   ]
  },
  {
   "cell_type": "code",
   "execution_count": 21,
   "metadata": {
    "collapsed": false
   },
   "outputs": [
   ],
   "source": [
    "a=ab[1:2]"
   ]
  },
  {
   "cell_type": "code",
   "execution_count": 22,
   "metadata": {
    "collapsed": false
   },
   "outputs": [
    {
     "data": {
      "text/plain": [
       "(array([0, 1, 4]),)"
      ]
     },
     "execution_count": 22,
     "metadata": {
     },
     "output_type": "execute_result"
    }
   ],
   "source": [
    "a"
   ]
  },
  {
   "cell_type": "markdown",
   "metadata": {
    "collapsed": false
   },
   "source": [
    "## Exercicio 2"
   ]
  },
  {
   "cell_type": "code",
   "execution_count": 35,
   "metadata": {
    "collapsed": false
   },
   "outputs": [
    {
     "data": {
      "text/plain": [
       "array([ 4.76219319,  4.66057511,  1.25027648,  2.88781324,  6.38000309,\n",
       "        7.63694233,  4.8596568 ,  4.21172211,  4.85455964,  6.7531745 ])"
      ]
     },
     "execution_count": 35,
     "metadata": {
     },
     "output_type": "execute_result"
    }
   ],
   "source": [
    "matrizal=np.random.uniform(1,8,10)\n",
    "matrizal"
   ]
  },
  {
   "cell_type": "code",
   "execution_count": 36,
   "metadata": {
    "collapsed": false
   },
   "outputs": [
    {
     "data": {
      "text/plain": [
       "array([ 4.,  4.,  1.,  2.,  6.,  7.,  4.,  4.,  4.,  6.])"
      ]
     },
     "execution_count": 36,
     "metadata": {
     },
     "output_type": "execute_result"
    }
   ],
   "source": [
    "a=np.floor(matrizal)\n",
    "a"
   ]
  },
  {
   "cell_type": "code",
   "execution_count": 30,
   "metadata": {
    "collapsed": false
   },
   "outputs": [
   ],
   "source": [
    "s = np.random.uniform(-1,0,1000)"
   ]
  },
  {
   "cell_type": "markdown",
   "metadata": {
    "collapsed": false
   },
   "source": [
    "## Exercicio 3"
   ]
  },
  {
   "cell_type": "code",
   "execution_count": 38,
   "metadata": {
    "collapsed": false
   },
   "outputs": [
    {
     "data": {
      "text/plain": [
       "array([[ 0.14319931,  0.12302457],\n",
       "       [ 0.44215774,  0.75287122],\n",
       "       [ 0.09126777,  0.73244168],\n",
       "       [ 0.14413275,  0.5380231 ],\n",
       "       [ 0.6158129 ,  0.688534  ],\n",
       "       [ 0.07793418,  0.79488472],\n",
       "       [ 0.52346819,  0.220922  ],\n",
       "       [ 0.88594878,  0.19783597],\n",
       "       [ 0.88369336,  0.65270446],\n",
       "       [ 0.63136357,  0.8401981 ]])"
      ]
     },
     "execution_count": 38,
     "metadata": {
     },
     "output_type": "execute_result"
    }
   ],
   "source": [
    "matriz=np.random.rand(10,2)\n",
    "matriz"
   ]
  },
  {
   "cell_type": "code",
   "execution_count": 44,
   "metadata": {
    "collapsed": false
   },
   "outputs": [
   ],
   "source": [
    "a=matriz[:,0]"
   ]
  },
  {
   "cell_type": "code",
   "execution_count": 45,
   "metadata": {
    "collapsed": false
   },
   "outputs": [
    {
     "data": {
      "text/plain": [
       "array([ 0.14319931,  0.44215774,  0.09126777,  0.14413275,  0.6158129 ,\n",
       "        0.07793418,  0.52346819,  0.88594878,  0.88369336,  0.63136357])"
      ]
     },
     "execution_count": 45,
     "metadata": {
     },
     "output_type": "execute_result"
    }
   ],
   "source": [
    "a"
   ]
  },
  {
   "cell_type": "code",
   "execution_count": 48,
   "metadata": {
    "collapsed": false
   },
   "outputs": [
    {
     "data": {
      "text/plain": [
       "array([ 0.12302457,  0.75287122,  0.73244168,  0.5380231 ,  0.688534  ,\n",
       "        0.79488472,  0.220922  ,  0.19783597,  0.65270446,  0.8401981 ])"
      ]
     },
     "execution_count": 48,
     "metadata": {
     },
     "output_type": "execute_result"
    }
   ],
   "source": [
    "b=matriz[:,1]\n",
    "b"
   ]
  },
  {
   "cell_type": "code",
   "execution_count": 49,
   "metadata": {
    "collapsed": false
   },
   "outputs": [
    {
     "data": {
      "text/plain": [
       "array([ 0.26622388,  1.19502896,  0.82370946,  0.68215584,  1.30434691,\n",
       "        0.8728189 ,  0.7443902 ,  1.08378475,  1.53639782,  1.47156167])"
      ]
     },
     "execution_count": 49,
     "metadata": {
     },
     "output_type": "execute_result"
    }
   ],
   "source": [
    "y=a+b\n",
    "y"
   ]
  },
  {
   "cell_type": "code",
   "execution_count": 59,
   "metadata": {
    "collapsed": false
   },
   "outputs": [
   ],
   "source": [
    "import math"
   ]
  },
  {
   "cell_type": "code",
   "execution_count": 60,
   "metadata": {
    "collapsed": false
   },
   "outputs": [
    {
     "data": {
      "text/plain": [
       "3.0"
      ]
     },
     "execution_count": 60,
     "metadata": {
     },
     "output_type": "execute_result"
    }
   ],
   "source": [
    "math.sqrt(9)"
   ]
  },
  {
   "cell_type": "code",
   "execution_count": 78,
   "metadata": {
    "collapsed": false
   },
   "outputs": [
   ],
   "source": [
    "aq=a*a"
   ]
  },
  {
   "cell_type": "code",
   "execution_count": 79,
   "metadata": {
    "collapsed": false
   },
   "outputs": [
   ],
   "source": [
    "bq=b*b"
   ]
  },
  {
   "cell_type": "code",
   "execution_count": 84,
   "metadata": {
    "collapsed": false
   },
   "outputs": [
    {
     "ename": "TypeError",
     "evalue": "only length-1 arrays can be converted to Python scalars",
     "output_type": "error",
     "traceback": [
      "\u001b[0;31m---------------------------------------------------------------------------\u001b[0m",
      "\u001b[0;31mTypeError\u001b[0m                                 Traceback (most recent call last)",
      "\u001b[0;32m<ipython-input-84-093f08871303>\u001b[0m in \u001b[0;36m<module>\u001b[0;34m()\u001b[0m\n\u001b[0;32m----> 1\u001b[0;31m \u001b[0mmath\u001b[0m\u001b[0;34m.\u001b[0m\u001b[0msqrt\u001b[0m\u001b[0;34m(\u001b[0m\u001b[0mbq\u001b[0m\u001b[0;34m)\u001b[0m\u001b[0;34m\u001b[0m\u001b[0m\n\u001b[0m",
      "\u001b[0;31mTypeError\u001b[0m: only length-1 arrays can be converted to Python scalars"
     ]
    }
   ],
   "source": [
    "math.sqrt(bq)"
   ]
  },
  {
   "cell_type": "code",
   "execution_count": 69,
   "metadata": {
    "collapsed": false
   },
   "outputs": [
    {
     "ename": "TypeError",
     "evalue": "only length-1 arrays can be converted to Python scalars",
     "output_type": "error",
     "traceback": [
      "\u001b[0;31m---------------------------------------------------------------------------\u001b[0m",
      "\u001b[0;31mTypeError\u001b[0m                                 Traceback (most recent call last)",
      "\u001b[0;32m<ipython-input-69-6f9f19b8dde7>\u001b[0m in \u001b[0;36m<module>\u001b[0;34m()\u001b[0m\n\u001b[0;32m----> 1\u001b[0;31m \u001b[0mmatriz\u001b[0m\u001b[0;34m=\u001b[0m\u001b[0mmath\u001b[0m\u001b[0;34m.\u001b[0m\u001b[0msqrt\u001b[0m\u001b[0;34m(\u001b[0m\u001b[0ma\u001b[0m\u001b[0;34m*\u001b[0m\u001b[0ma\u001b[0m\u001b[0;34m+\u001b[0m\u001b[0mb\u001b[0m\u001b[0;34m*\u001b[0m\u001b[0mb\u001b[0m\u001b[0;34m)\u001b[0m\u001b[0;34m\u001b[0m\u001b[0m\n\u001b[0m",
      "\u001b[0;31mTypeError\u001b[0m: only length-1 arrays can be converted to Python scalars"
     ]
    }
   ],
   "source": [
    "matriz=math.sqrt(a*a+b*b)"
   ]
  },
  {
   "cell_type": "markdown",
   "metadata": {
    "collapsed": false
   },
   "source": [
    "# Exercicio 3"
   ]
  },
  {
   "cell_type": "code",
   "execution_count": 3,
   "metadata": {
    "collapsed": false
   },
   "outputs": [
    {
     "name": "stdout",
     "output_type": "stream",
     "text": [
      "matriz aleatoria:\n",
      "[[ 0.44604883  0.23720528]\n",
      " [ 0.61946459  0.60231086]\n",
      " [ 0.69795859  0.33359772]\n",
      " [ 0.58240247  0.96887687]\n",
      " [ 0.5294113   0.00468567]\n",
      " [ 0.91560857  0.4741059 ]\n",
      " [ 0.81780403  0.41476616]\n",
      " [ 0.43053682  0.96060273]\n",
      " [ 0.6987104   0.25480411]\n",
      " [ 0.10866483  0.80502136]]\n",
      "conversao cartesiano para polar \n",
      "[[1.1689774265181123, 0.48875670123104725], [1.5631861394753557, 0.77135908274559606], [1.4363539359530197, 0.44586233278957227], [1.7614081535331119, 1.0295603682169916], [1.0335346831215884, 0.0088504862026046287], [1.6671619385334868, 0.47778925378093845], [1.5700765473581584, 0.46936761811752897], [1.6680165210883755, 1.1494449026010474], [1.3809522151342215, 0.34969041973815079], [1.3518033845541761, 1.4366235210492753]]\n"
     ]
    }
   ],
   "source": [
    "import numpy as np\n",
    "matt=np.random.rand(10,2)\n",
    "print 'matriz aleatoria:\\n', matt\n",
    "    \n",
    "def cart2pol(x,y):\n",
    "    rho = np.sqrt(x*2 + y*2)\n",
    "    phi = np.arctan2(y, x)\n",
    "    return [rho, phi]\n",
    "lista=[]\n",
    "for elem in matt:\n",
    "    lista=lista+[cart2pol(elem[0],elem[1])]    \n",
    "print 'conversao cartesiano para polar \\n', lista"
   ]
  },
  {
   "cell_type": "markdown",
   "metadata": {
    "collapsed": false
   },
   "source": [
    "# Exercicio 4"
   ]
  },
  {
   "cell_type": "code",
   "execution_count": 2,
   "metadata": {
    "collapsed": false
   },
   "outputs": [
   ],
   "source": [
    "import numpy as np\n",
    "from numpy import linalg as LA\n"
   ]
  },
  {
   "cell_type": "code",
   "execution_count": 4,
   "metadata": {
    "collapsed": false
   },
   "outputs": [
    {
     "data": {
      "text/plain": [
       "array([[ 0.47816567,  0.14187167],\n",
       "       [ 0.78298655,  0.6545569 ],\n",
       "       [ 0.50110947,  0.34419768],\n",
       "       [ 0.21320957,  0.44941246],\n",
       "       [ 0.80504674,  0.99093532],\n",
       "       [ 0.18979051,  0.82858569],\n",
       "       [ 0.3165059 ,  0.88473402],\n",
       "       [ 0.8155908 ,  0.89085212],\n",
       "       [ 0.38316019,  0.69378406],\n",
       "       [ 0.13338435,  0.82614185],\n",
       "       [ 0.71700674,  0.75137982],\n",
       "       [ 0.83344412,  0.26974171],\n",
       "       [ 0.18496934,  0.76240812],\n",
       "       [ 0.51180605,  0.12177367],\n",
       "       [ 0.82674632,  0.9735775 ],\n",
       "       [ 0.75929815,  0.67864216],\n",
       "       [ 0.61038023,  0.92510566],\n",
       "       [ 0.57719984,  0.64361397],\n",
       "       [ 0.2979283 ,  0.62861345],\n",
       "       [ 0.63702226,  0.1433184 ],\n",
       "       [ 0.96633158,  0.22751192],\n",
       "       [ 0.16947266,  0.25340338],\n",
       "       [ 0.09296815,  0.31919618],\n",
       "       [ 0.34515917,  0.03049596],\n",
       "       [ 0.81813567,  0.03254996],\n",
       "       [ 0.32263692,  0.80578683],\n",
       "       [ 0.76205386,  0.75803976],\n",
       "       [ 0.06954771,  0.93997214],\n",
       "       [ 0.31004983,  0.07591019],\n",
       "       [ 0.84883516,  0.79528866],\n",
       "       [ 0.44682552,  0.61358   ],\n",
       "       [ 0.89099296,  0.10897726],\n",
       "       [ 0.47497844,  0.24917713],\n",
       "       [ 0.1242517 ,  0.72265766],\n",
       "       [ 0.42337187,  0.18553018],\n",
       "       [ 0.18041812,  0.11720415],\n",
       "       [ 0.46344101,  0.93289183],\n",
       "       [ 0.23035079,  0.52146839],\n",
       "       [ 0.53329264,  0.79101773],\n",
       "       [ 0.04981547,  0.50897342],\n",
       "       [ 0.57659679,  0.61095179],\n",
       "       [ 0.97455022,  0.71644667],\n",
       "       [ 0.23699262,  0.93269071],\n",
       "       [ 0.51162855,  0.80788568],\n",
       "       [ 0.7581252 ,  0.13984764],\n",
       "       [ 0.61318807,  0.8211994 ],\n",
       "       [ 0.56275326,  0.86209962],\n",
       "       [ 0.70823716,  0.65217564],\n",
       "       [ 0.82355369,  0.04526233],\n",
       "       [ 0.54604977,  0.48281516],\n",
       "       [ 0.96853633,  0.54891826],\n",
       "       [ 0.46704803,  0.51611445],\n",
       "       [ 0.18952746,  0.26574332],\n",
       "       [ 0.05398689,  0.83602901],\n",
       "       [ 0.3566019 ,  0.07556797],\n",
       "       [ 0.59184681,  0.52336075],\n",
       "       [ 0.4734469 ,  0.93200618],\n",
       "       [ 0.14129857,  0.67956901],\n",
       "       [ 0.30363222,  0.24989223],\n",
       "       [ 0.88486273,  0.05676577],\n",
       "       [ 0.0432144 ,  0.89921153],\n",
       "       [ 0.94345304,  0.84355817],\n",
       "       [ 0.82129888,  0.0351796 ],\n",
       "       [ 0.1245709 ,  0.78292678],\n",
       "       [ 0.32970917,  0.66013563],\n",
       "       [ 0.91649845,  0.67896259],\n",
       "       [ 0.41227225,  0.1407452 ],\n",
       "       [ 0.17400104,  0.20004871],\n",
       "       [ 0.34020783,  0.44971676],\n",
       "       [ 0.74440642,  0.55129108],\n",
       "       [ 0.80193677,  0.94022671],\n",
       "       [ 0.5153837 ,  0.84632722],\n",
       "       [ 0.0788472 ,  0.90579426],\n",
       "       [ 0.53614845,  0.76219101],\n",
       "       [ 0.50841665,  0.38676001],\n",
       "       [ 0.24462071,  0.90439371],\n",
       "       [ 0.81758176,  0.86208716],\n",
       "       [ 0.29692228,  0.46187095],\n",
       "       [ 0.74306397,  0.37569479],\n",
       "       [ 0.02716437,  0.39202643],\n",
       "       [ 0.18602818,  0.24201346],\n",
       "       [ 0.89314103,  0.47160585],\n",
       "       [ 0.74245986,  0.41580215],\n",
       "       [ 0.83021796,  0.25149063],\n",
       "       [ 0.6260801 ,  0.93165194],\n",
       "       [ 0.75670874,  0.00225926],\n",
       "       [ 0.98714186,  0.994256  ],\n",
       "       [ 0.94497884,  0.47287435],\n",
       "       [ 0.92612332,  0.1994282 ],\n",
       "       [ 0.04974274,  0.58036823],\n",
       "       [ 0.67664818,  0.97191688],\n",
       "       [ 0.00458965,  0.70594212],\n",
       "       [ 0.12077159,  0.75243317],\n",
       "       [ 0.31853087,  0.85069297],\n",
       "       [ 0.00224134,  0.86325124],\n",
       "       [ 0.15955325,  0.5024475 ],\n",
       "       [ 0.36190353,  0.91845696],\n",
       "       [ 0.64531094,  0.51854794],\n",
       "       [ 0.05972074,  0.67107211],\n",
       "       [ 0.19659751,  0.36757041]])"
      ]
     },
     "execution_count": 4,
     "metadata": {
     },
     "output_type": "execute_result"
    }
   ],
   "source": [
    "\n",
    "coord=np.random.rand(100,2)\n",
    "coord "
   ]
  },
  {
   "cell_type": "code",
   "execution_count": 6,
   "metadata": {
    "collapsed": false
   },
   "outputs": [
    {
     "name": "stdout",
     "output_type": "stream",
     "text": [
      "distancia entre os pontos:\n",
      "[0.59645780692005634, 0.41925831240839811, 0.30652324411692666, 0.80219588705495914, 0.63631566560770914, 0.13859806520545731, 0.49912240396792906, 0.47521790537278641, 0.28267747841179625, 0.58839141690518748, 0.49551279101400225, 0.8143953180344502, 0.71919033162626678, 0.90816140388235478, 0.30254935053459697, 0.28795973370233091, 0.28344048837705543, 0.27967411277267962, 0.59202701830268067, 0.33990171514944345, 0.79727943445018512, 0.1009040827231657, 0.38333814081145917, 0.47298096375461474, 0.91837588575847651, 0.44200342098296119, 0.71600569635594036, 0.8969081967846938, 0.89877417291003325, 0.44116866491630863, 0.67224149685830348, 0.43900350941328559, 0.58923090465157679, 0.61479980908947296, 0.25237863109245323, 0.86339351340200698, 0.47286393815229544, 0.40550045098215443, 0.55973133897210714, 0.53656141437750604, 0.41169903700003757, 0.76860437959863204, 0.3016640346321709, 0.71206420404823845, 0.69659673074746187, 0.064934561242242422, 0.2554087740136034, 0.61777153059121914, 0.5181321298824767, 0.42762660628385474, 0.50256005148660798, 0.37376914011029999, 0.58617148757074156, 0.81846004573151876, 0.50582461257242795, 0.42545225804407277, 0.41718944497733196, 0.45931943509865963, 0.61247590813082808, 1.1908344820219363, 0.90195726647858543, 0.81755583965353651, 1.0220350871367874, 0.23908027135338772, 0.58709122493202903, 0.73751068466845637, 0.2455403816176793, 0.29993138834846289, 0.41676593032457476, 0.39316747890786802, 0.30154564822779978, 0.44056831569877192, 0.47931860104970075, 0.37645383310740183, 0.5809758524869707, 0.5745208530595094, 0.65670337019024883, 0.45438831136143565, 0.71608585103129452, 0.21849850505035437, 0.74345225388584313, 0.16068250828701028, 0.1862787235144969, 0.71013497410489879, 0.93852788803611475, 1.0184090302419517, 0.52308368983683462, 0.27409547297425396, 0.95559312727292167, 0.739135157778809, 0.7227760649031042, 0.12513855872470037, 0.22082509268058639, 0.31653874515592922, 0.39360688062440835, 0.4626116119154155, 0.49014996415307177, 0.60512767852484617, 0.33293922880588012]\n"
     ]
    }
   ],
   "source": [
    "print 'distancia entre os pontos:\\n' , [LA.norm(coord[i+1]-coord[i])for i in range(99)]"
   ]
  },
  {
   "cell_type": "markdown",
   "metadata": {
    "collapsed": false
   },
   "source": [
    "# Exercicio 5"
   ]
  },
  {
   "cell_type": "code",
   "execution_count": 8,
   "metadata": {
    "collapsed": false
   },
   "outputs": [
    {
     "name": "stdout",
     "output_type": "stream",
     "text": [
      "vetor intercalado com os 3 zeros consecutivos: \n",
      "[ 1.  0.  0.  0.  2.  0.  0.  0.  3.  0.  0.  0.  4.  0.  0.  0.  5.  0.\n",
      "  0.  0.]\n"
     ]
    }
   ],
   "source": [
    "import numpy as np\n",
    "vetor_linha=np.array([1,2,3,4,5]) \n",
    "v1=np.zeros(3)\n",
    "intercalado=np.ravel([np.append(vetor_linha[elem],v1)for elem in range(5)])\n",
    "print 'vetor intercalado com os 3 zeros consecutivos: \\n', intercalado"
   ]
  },
  {
   "cell_type": "markdown",
   "metadata": {
    "collapsed": false
   },
   "source": [
    "# Jogo da vida"
   ]
  },
  {
   "cell_type": "code",
   "execution_count": 14,
   "metadata": {
    "collapsed": false
   },
   "outputs": [
    {
     "name": "stdout",
     "output_type": "stream",
     "text": [
      "[[0 0 0 0 0 0]\n",
      " [0 0 0 1 0 0]\n",
      " [0 1 0 1 0 0]\n",
      " [0 0 1 1 0 0]\n",
      " [0 0 0 0 0 0]\n",
      " [0 0 0 0 0 0]]\n",
      "\n",
      "[[0 0 0 0 0 0]\n",
      " [0 0 0 0 0 0]\n",
      " [0 0 0 0 1 0]\n",
      " [0 0 1 0 1 0]\n",
      " [0 0 0 1 1 0]\n",
      " [0 0 0 0 0 0]]\n"
     ]
    }
   ],
   "source": [
    "import numpy as np\n",
    "\n",
    "def iterate_1(Z):\n",
    "    # Contagem vizinhança\n",
    "    N = np.zeros(Z.shape, int)\n",
    "    N[1:-1,1:-1] += (Z[0:-2,0:-2] + Z[0:-2,1:-1] + Z[0:-2,2:] +\n",
    "                     Z[1:-1,0:-2]                + Z[1:-1,2:] +\n",
    "                     Z[2:  ,0:-2] + Z[2:  ,1:-1] + Z[2:  ,2:])\n",
    "    N_ = N.ravel()\n",
    "    Z_ = Z.ravel()\n",
    "\n",
    "    # Aplicação das regras\n",
    "    R1 = np.argwhere( (Z_==1) & (N_ < 2) )\n",
    "    R2 = np.argwhere( (Z_==1) & (N_ > 3) )\n",
    "    R3 = np.argwhere( (Z_==1) & ((N_==2) | (N_==3)) )\n",
    "    R4 = np.argwhere( (Z_==0) & (N_==3) )\n",
    "\n",
    "    # Definir novos valores\n",
    "    Z_[R1] = 0\n",
    "    Z_[R2] = 0\n",
    "    Z_[R3] = Z_[R3]\n",
    "    Z_[R4] = 1\n",
    "\n",
    "    # Garantia de que as fronteiras permaneçam nulas\n",
    "    Z[0,:] = Z[-1,:] = Z[:,0] = Z[:,-1] = 0\n",
    "\n",
    "\n",
    "def iterate_2(Z):\n",
    "    # Contagem vizinhança\n",
    "    N = (Z[0:-2,0:-2] + Z[0:-2,1:-1] + Z[0:-2,2:] +\n",
    "         Z[1:-1,0:-2]                + Z[1:-1,2:] +\n",
    "         Z[2:  ,0:-2] + Z[2:  ,1:-1] + Z[2:  ,2:])\n",
    "\n",
    "    # Aplicação das regras\n",
    "    birth = (N==3) & (Z[1:-1,1:-1]==0)\n",
    "    survive = ((N==2) | (N==3)) & (Z[1:-1,1:-1]==1)\n",
    "    Z[...] = 0\n",
    "    Z[1:-1,1:-1][birth | survive] = 1\n",
    "    return Z\n",
    "\n",
    "\n",
    "Z = np.array([[0,0,0,0,0,0],\n",
    "              [0,0,0,1,0,0],\n",
    "              [0,1,0,1,0,0],\n",
    "              [0,0,1,1,0,0],\n",
    "              [0,0,0,0,0,0],\n",
    "              [0,0,0,0,0,0]])\n",
    "\n",
    "print Z\n",
    "print\n",
    "for i in range(4): iterate_2(Z)\n",
    "print Z                        \n"
   ]
  },
  {
   "cell_type": "code",
   "execution_count": 2,
   "metadata": {
    "collapsed": false
   },
   "outputs": [
    {
     "data": {
      "image/png": "[encoded data removed]"
     },
     "execution_count": 2,
     "metadata": {
     },
     "output_type": "execute_result"
    }
   ],
   "source": [
    "import matplotlib.pyplot as plt\n",
    "import numpy as np\n",
    "\n",
    "def iterate(Z):\n",
    "    # Count neighbours\n",
    "    N = (Z[0:-2,0:-2] + Z[0:-2,1:-1] + Z[0:-2,2:] +\n",
    "         Z[1:-1,0:-2]                + Z[1:-1,2:] +\n",
    "         Z[2:  ,0:-2] + Z[2:  ,1:-1] + Z[2:  ,2:])\n",
    "\n",
    "    # Apply rules\n",
    "    birth = (N==3) & (Z[1:-1,1:-1]==0)\n",
    "    survive = ((N==2) | (N==3)) & (Z[1:-1,1:-1]==1)\n",
    "    Z[...] = 0\n",
    "    Z[1:-1,1:-1][birth | survive] = 1\n",
    "    return Z\n",
    "\n",
    "\n",
    "#grafico\n",
    "Z = np.random.randint(0,2,(256,512))\n",
    "for i in range(100): iterate(Z)\n",
    "size = np.array(Z.shape)\n",
    "dpi = 72.0\n",
    "figsize= size[1]/float(dpi),size[0]/float(dpi)\n",
    "fig = plt.figure(figsize=figsize, dpi=dpi, facecolor=\"white\")\n",
    "fig.add_axes([0.0, 0.0, 1.0, 1.0], frameon=False)\n",
    "plt.imshow(Z,interpolation='nearest', cmap=plt.cm.gray_r)\n",
    "plt.xticks([]), plt.yticks([])\n",
    "plt.show()"
   ]
  },
  {
   "cell_type": "code",
   "execution_count": 0,
   "metadata": {
    "collapsed": false
   },
   "outputs": [
   ],
   "source": [
   ]
  }
 ],
 "metadata": {
  "kernelspec": {
   "display_name": "Python 2 (Ubuntu Linux)",
   "language": "python",
   "name": "python2-ubuntu"
  },
  "language_info": {
   "codemirror_mode": {
    "name": "ipython",
    "version": 2
   },
   "file_extension": ".py",
   "mimetype": "text/x-python",
   "name": "python",
   "nbconvert_exporter": "python",
   "pygments_lexer": "ipython2",
   "version": "2.7.10"
  }
 },
 "nbformat": 4,
 "nbformat_minor": 0
}