{
 "cells": [
  {
   "cell_type": "markdown",
   "metadata": {
    "collapsed": false
   },
   "source": [
    "## Exercício 01.1 - Encontre índices de elementos não nulos de [1,2,0,0,4,0]\n",
    "\n"
   ]
  },
  {
   "cell_type": "code",
   "execution_count": 10,
   "metadata": {
    "collapsed": false
   },
   "outputs": [
    {
     "name": "stdout",
     "output_type": "stream",
     "text": [
      "Número: 1 Índice: \t0\n",
      "Número: 2 Índice: \t1\n",
      "Número: 4 Índice: \t4\n"
     ]
    }
   ],
   "source": [
    "import numpy as np\n",
    "\n",
    "a= [1,2,0,0,4,0]\n",
    "matriz = np.array(a)\n",
    "\n",
    "for i in range(len(matriz)):\n",
    "    if matriz[i] != 0:\n",
    "        print('Número: {} Índice: \\t{}'.format(matriz[i], i))\n",
    "        \n",
    "        \n",
    "        "
   ]
  },
  {
   "cell_type": "markdown",
   "metadata": {
    "collapsed": false
   },
   "source": [
    "## Exercício 01.2 - Extrair a parte inteira de uma matriz aleatória\n"
   ]
  },
  {
   "cell_type": "code",
   "execution_count": 23,
   "metadata": {
    "collapsed": false
   },
   "outputs": [
    {
     "name": "stdout",
     "output_type": "stream",
     "text": [
      "Matriz aleatória:\n",
      "[[ 6.41519757  4.02826433  4.99168663  3.15267294]\n",
      " [ 4.45452663  8.49032824  8.19212893  3.45841599]\n",
      " [ 7.70926957  3.64995969  0.7047639   4.78078647]]\n",
      "\n",
      " Matriz inteira:\n",
      "[[6 4 4 3]\n",
      " [4 8 8 3]\n",
      " [7 3 0 4]]\n"
     ]
    }
   ],
   "source": [
    "import numpy as np\n",
    "\n",
    "rmatriz = np.random.rand(3,4)*10\n",
    "imatriz = np.int_(rmatriz)\n",
    "print('Matriz aleatória:\\n{}\\n\\n Matriz inteira:\\n{}'.format(rmatriz, imatriz))\n",
    "\n"
   ]
  },
  {
   "cell_type": "markdown",
   "metadata": {
    "collapsed": false
   },
   "source": [
    "## Exercício 01.3 - Considere uma matriz aleatória de 10×2 que represente coordenadas cartesianas, converta-as em coordenadas polares"
   ]
  },
  {
   "cell_type": "code",
   "execution_count": 44,
   "metadata": {
    "collapsed": false
   },
   "outputs": [
    {
     "name": "stdout",
     "output_type": "stream",
     "text": [
      "(2.0, 5.0)\n",
      "(3.999999999999999, 6.999999999999999)\n",
      "(9.0, 3.9999999999999996)\n",
      "(9.0, 3.0)\n",
      "(3.0, 0.0)\n",
      "(1.0000000000000002, 2.0)\n",
      "(7.0, 0.0)\n",
      "(9.0, 8.999999999999998)\n",
      "(9.0, 3.9999999999999996)\n",
      "(6.0, 3.999999999999999)\n"
     ]
    }
   ],
   "source": [
    "import numpy as np\n",
    "from numpy import linalg as LA\n",
    "import math as m\n",
    "\n",
    "rmatriz = np.int_(np.random.rand(10,2)*10)\n",
    "\n",
    "x = list(rmatriz[:,0])\n",
    "y = list(rmatriz[:,1])\n",
    "\n",
    "for i in range(len(x)):\n",
    "    ro = m.sqrt(m.pow(x[i],2)+m.pow(y[i],2))\n",
    "    teta = m.atan2(y[i],x[i])\n",
    "    rx = ro*m.cos(teta)\n",
    "    ry = ro*m.sin(teta)\n",
    "    print(rx, ry)\n"
   ]
  },
  {
   "cell_type": "markdown",
   "metadata": {
    "collapsed": false
   },
   "source": [
    "## Considere um vetor aleatório com forma (100,2) representando coordenadas, encontre as distâncias entre todos os pontos\n"
   ]
  },
  {
   "cell_type": "code",
   "execution_count": 55,
   "metadata": {
    "collapsed": false
   },
   "outputs": [
    {
     "name": "stdout",
     "output_type": "stream",
     "text": [
      "Matriz Origem:\n",
      "[[4 1]\n",
      " [9 6]\n",
      " [5 3]\n",
      " [9 6]\n",
      " [4 8]\n",
      " [3 6]\n",
      " [9 6]\n",
      " [8 1]\n",
      " [7 0]\n",
      " [4 8]]\n",
      "Distâncias:[7.0710678118654755, 2.2360679774997898, 7.0710678118654755, 7.0, 5.0990195135927845, 7.0710678118654755, 4.0, 3.1622776601683795, 7.0, 0.0, 5.0, 0.0, 5.3851648071345037, 6.0, 0.0, 5.0990195135927845, 6.324555320336759, 5.3851648071345037, 5.0, 0.0, 5.0, 5.0990195135927845, 3.6055512754639891, 5.0, 3.6055512754639891, 3.6055512754639891, 5.0990195135927845, 0.0, 5.0, 0.0, 5.3851648071345037, 6.0, 0.0, 5.0990195135927845, 6.324555320336759, 5.3851648071345037, 5.3851648071345037, 5.0990195135927845, 5.3851648071345037, 0.0, 2.2360679774997898, 5.3851648071345037, 8.0622577482985491, 8.5440037453175304, 0.0, 6.0, 3.6055512754639891, 6.0, 2.2360679774997898, 0.0, 6.0, 7.0710678118654755, 7.2111025509279782, 2.2360679774997898, 0.0, 5.0, 0.0, 5.3851648071345037, 6.0, 0.0, 5.0990195135927845, 6.324555320336759, 5.3851648071345037, 5.0990195135927845, 3.6055512754639891, 5.0990195135927845, 8.0622577482985491, 7.0710678118654755, 5.0990195135927845, 0.0, 1.4142135623730951, 8.0622577482985491, 6.324555320336759, 3.6055512754639891, 6.324555320336759, 8.5440037453175304, 7.2111025509279782, 6.324555320336759, 1.4142135623730951, 0.0, 8.5440037453175304, 5.3851648071345037, 5.0990195135927845, 5.3851648071345037, 0.0, 2.2360679774997898, 5.3851648071345037, 8.0622577482985491, 8.5440037453175304, 0.0]\n"
     ]
    }
   ],
   "source": [
    "import numpy as np\n",
    "from numpy import linalg as LA\n",
    "\n",
    "rvetor = np.int_(np.random.rand(10,2)*10)\n",
    "\n",
    "vdist = []\n",
    "\n",
    "for i in range(len(rvetor)):\n",
    "    for j in range(1,len(rvetor)):\n",
    "        vdist.append(LA.norm(rvetor[i]-rvetor[j]))\n",
    "\n",
    "print('Matriz Origem:\\n{}\\nDistâncias:{}'.format(rvetor, vdist))"
   ]
  },
  {
   "cell_type": "markdown",
   "metadata": {
    "collapsed": false
   },
   "source": [
    "## Considere o vetor [1, 2, 3, 4, 5], como construir um novo vetor com 3 zeros consecutivos intercalados entre cada valor?\n"
   ]
  },
  {
   "cell_type": "code",
   "execution_count": 56,
   "metadata": {
    "collapsed": false
   },
   "outputs": [
    {
     "name": "stdout",
     "output_type": "stream",
     "text": [
      "[1, 0, 0, 0, 2, 0, 0, 0, 3, 0, 0, 0, 4, 0, 0, 0, 5, 0, 0, 0]\n"
     ]
    }
   ],
   "source": [
    "import numpy as np\n",
    "\n",
    "vin = [1,2,3,4,5]\n",
    "vout=[]\n",
    "for i in range(len(vin)):\n",
    "    vout.append(vin[i])\n",
    "    for i in range(0,3):\n",
    "        vout.append(0)\n",
    "print(vout)\n"
   ]
  }
 ],
 "metadata": {
  "kernelspec": {
   "display_name": "Python 2 (SageMath)",
   "language": "python",
   "name": "python2"
  },
  "language_info": {
   "codemirror_mode": {
    "name": "ipython",
    "version": 2
   },
   "file_extension": ".py",
   "mimetype": "text/x-python",
   "name": "python",
   "nbconvert_exporter": "python",
   "pygments_lexer": "ipython2",
   "version": "2.7.13"
  }
 },
 "nbformat": 4,
 "nbformat_minor": 0
}