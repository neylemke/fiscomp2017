{
 "cells": [
  {
   "cell_type": "code",
   "execution_count": 1,
   "metadata": {
    "collapsed": false
   },
   "outputs": [
    {
     "name": "stdout",
     "output_type": "stream",
     "text": [
      "0\n",
      "1\n",
      "4\n"
     ]
    }
   ],
   "source": [
    "#Encontre índices de elementos não nulos de [1,2,0,0,4,0]\n",
    "\n",
    "import numpy as np\n",
    "matrix=[1,2,0,0,4,0]\n",
    "for i in range(len(matrix)):\n",
    "    if(matrix[i]!= 0):\n",
    "        print(i)"
   ]
  },
  {
   "cell_type": "code",
   "execution_count": 2,
   "metadata": {
    "collapsed": false
   },
   "outputs": [
    {
     "name": "stdout",
     "output_type": "stream",
     "text": [
      "[[ 0.80572698  0.92785509  0.19705041  0.90324449]\n",
      " [ 0.57730066  0.44082826  0.66881056  0.10084942]\n",
      " [ 0.21082263  0.47191231  0.49276399  0.0145367 ]]\n",
      "[array([ 0.,  0.,  0.,  0.]), array([ 0.,  0.,  0.,  0.]), array([ 0.,  0.,  0.,  0.])]\n"
     ]
    }
   ],
   "source": [
    "#Exercício 2\n",
    "\n",
    "import numpy as np\n",
    "matrix=np.random.rand(3,4)\n",
    "intmatrix=[]\n",
    "for i in range(len(matrix)):\n",
    "    aux=matrix[i]//1\n",
    "    intmatrix.append(aux)\n",
    "print(matrix)\n",
    "print(intmatrix)"
   ]
  },
  {
   "cell_type": "code",
   "execution_count": 3,
   "metadata": {
    "collapsed": false
   },
   "outputs": [
    {
     "name": "stdout",
     "output_type": "stream",
     "text": [
      "[[ 0.95006534  0.33920269]\n",
      " [ 0.35709697  0.37249556]\n",
      " [ 0.2000878   0.2098296 ]\n",
      " [ 0.13642221  0.46153625]\n",
      " [ 0.62438792  0.21561193]\n",
      " [ 0.62376335  0.99551133]\n",
      " [ 0.02080436  0.80623047]\n",
      " [ 0.82157221  0.09698665]\n",
      " [ 0.34798008  0.15795944]\n",
      " [ 0.38349724  0.9757321 ]]\n",
      "[(1.0088025626476789, 0.34292465598298327), (0.51601471694464673, 0.8065007579695076), (0.28993721525843802, 0.80915894937229749), (0.48127614406144587, 1.2833968532425901), (0.66056700779079081, 0.33249704170714628), (1.1747865892651161, 1.0110646256646185), (0.80649885050510728, 1.5449975729383127), (0.82727704561149185, 0.11750622991870824), (0.38215353375641936, 0.42611931241487755), (1.0483907966632, 1.1963083100205278)]\n"
     ]
    }
   ],
   "source": [
    "#Exercício 3\n",
    "\n",
    "import numpy as np\n",
    "def cart2pol(x, y):\n",
    "    rho = np.sqrt(x**2 + y**2)\n",
    "    phi = np.arctan2(y, x)\n",
    "    return(rho, phi)\n",
    "matrix=np.random.rand(10,2)\n",
    "matrix2pol=[]\n",
    "for i in range(0,10):\n",
    "    matrix2pol.append(cart2pol(matrix[i][0],matrix[i][1]))\n",
    "print(matrix)\n",
    "print(matrix2pol)"
   ]
  },
  {
   "cell_type": "code",
   "execution_count": 9,
   "metadata": {
    "collapsed": false
   },
   "outputs": [
    {
     "name": "stdout",
     "output_type": "stream",
     "text": [
      "[0.33865599459166063, 0.53804202451117444, 0.47846044507184871, 0.22133417528688198, 0.45384432041960671, 0.42475588856744695, 0.39420762072992427, 0.27478819613500649, 0.94638274929549004, 0.37812153518839609, 0.4969495544196324, 0.72810195818152035, 0.50299432122179699, 0.38667904605354519, 0.37192478076251345, 0.31200527974098946]\n"
     ]
    }
   ],
   "source": [
    "#Exercício 4\n",
    "\n",
    "matrix=np.random.rand(4,2)\n",
    "matrixD=[]\n",
    "for i in range(len(matrix)):\n",
    "    for j in range(len(matrix)):\n",
    "        matrixD.append(np.sqrt(((matrix[i][0]-matrix[j][0])**2)+((matrix[i][0]-matrix[j][1])**2)))\n",
    "print matrixD"
   ]
  },
  {
   "cell_type": "code",
   "execution_count": 6,
   "metadata": {
    "collapsed": false
   },
   "outputs": [
    {
     "name": "stdout",
     "output_type": "stream",
     "text": [
      "[0, 0, 0, 0, 1, 0, 0, 0, 2, 0, 0, 0, 3, 0, 0, 0, 4, 0, 0, 0, 5, 0, 0, 0]\n"
     ]
    }
   ],
   "source": [
    "#Exercício 5\n",
    "\n",
    "vetor=[0,1,2,3,4,5]\n",
    "vetor2=[]\n",
    "for i in range(len(vetor)):\n",
    "    vetor2.append(vetor[i])\n",
    "    for i in range(0,3):\n",
    "        vetor2.append(0)\n",
    "print(vetor2)"
   ]
  },
  {
   "cell_type": "code",
   "execution_count": 0,
   "metadata": {
    "collapsed": false
   },
   "outputs": [
   ],
   "source": [
   ]
  }
 ],
 "metadata": {
  "kernelspec": {
   "display_name": "Python 2 (SageMath)",
   "language": "python",
   "name": "python2"
  },
  "language_info": {
   "codemirror_mode": {
    "name": "ipython",
    "version": 2
   },
   "file_extension": ".py",
   "mimetype": "text/x-python",
   "name": "python",
   "nbconvert_exporter": "python",
   "pygments_lexer": "ipython2",
   "version": "2.7.13"
  }
 },
 "nbformat": 4,
 "nbformat_minor": 0
}