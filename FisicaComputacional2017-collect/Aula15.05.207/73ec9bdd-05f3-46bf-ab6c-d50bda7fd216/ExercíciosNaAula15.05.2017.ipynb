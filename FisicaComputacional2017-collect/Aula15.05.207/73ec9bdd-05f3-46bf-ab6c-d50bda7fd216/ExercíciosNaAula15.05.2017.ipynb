{
 "cells": [
  {
   "cell_type": "markdown",
   "metadata": {
    "collapsed": false
   },
   "source": [
    "### Exercícios para fazer na aula\n",
    "#### 1) Encontre índices de elementos não nulos de [1,2,0,0,4,0]\n",
    "#### 2) Extrair a parte inteira de uma matriz aleatória\n",
    "#### 3) Considere uma matriz aleatória de 10×2 que represente coordenadas cartesianas, converta-as em coordenadas polares\n",
    "#### 4) Considere um vetor aleatório com forma (100,2) representando coordenadas, encontre as distâncias entre todos os pontos\n",
    "#### 5) Considere o vetor [1, 2, 3, 4, 5], como construir um novo vetor com 3 zeros consecutivos intercalados entre cada valor?"
   ]
  },
  {
   "cell_type": "markdown",
   "metadata": {
    "collapsed": false
   },
   "source": [
    "## 1)"
   ]
  },
  {
   "cell_type": "code",
   "execution_count": 1,
   "metadata": {
    "collapsed": false
   },
   "outputs": [
    {
     "data": {
      "text/plain": [
       "array([1, 2, 0, 0, 4, 0])"
      ]
     },
     "execution_count": 1,
     "metadata": {
     },
     "output_type": "execute_result"
    }
   ],
   "source": [
    "import numpy as np\n",
    "a= [1,2,0,0,4,0]\n",
    "matriz = np.array(a)\n",
    "matriz"
   ]
  },
  {
   "cell_type": "code",
   "execution_count": 2,
   "metadata": {
    "collapsed": false
   },
   "outputs": [
    {
     "data": {
      "text/plain": [
       "(array([0, 1, 4]),)"
      ]
     },
     "execution_count": 2,
     "metadata": {
     },
     "output_type": "execute_result"
    }
   ],
   "source": [
    "np.nonzero(a)#indices dos elementos não nulos"
   ]
  },
  {
   "cell_type": "markdown",
   "metadata": {
    "collapsed": false
   },
   "source": [
    "## 2)"
   ]
  },
  {
   "cell_type": "code",
   "execution_count": 3,
   "metadata": {
    "collapsed": false
   },
   "outputs": [
    {
     "data": {
      "text/plain": [
       "array([ 7.59014759,  5.99158953,  5.23657108,  8.09499625,  0.84758364])"
      ]
     },
     "execution_count": 3,
     "metadata": {
     },
     "output_type": "execute_result"
    }
   ],
   "source": [
    "x= np.random.uniform(0,10,5)\n",
    "x"
   ]
  },
  {
   "cell_type": "code",
   "execution_count": 4,
   "metadata": {
    "collapsed": false
   },
   "outputs": [
    {
     "data": {
      "text/plain": [
       "array([7, 5, 5, 8, 0])"
      ]
     },
     "execution_count": 4,
     "metadata": {
     },
     "output_type": "execute_result"
    }
   ],
   "source": [
    "x.astype(int)"
   ]
  },
  {
   "cell_type": "markdown",
   "metadata": {
    "collapsed": false
   },
   "source": [
    "## 3)"
   ]
  },
  {
   "cell_type": "code",
   "execution_count": 5,
   "metadata": {
    "collapsed": false
   },
   "outputs": [
    {
     "data": {
      "text/plain": [
       "array([[ 0.3754074 ,  0.04869491],\n",
       "       [ 0.56172846,  0.99865051],\n",
       "       [ 0.70335348,  0.79560617],\n",
       "       [ 0.404328  ,  0.10091445],\n",
       "       [ 0.03180363,  0.31725081],\n",
       "       [ 0.84264021,  0.77484317],\n",
       "       [ 0.49633689,  0.21908148],\n",
       "       [ 0.75724819,  0.74607921],\n",
       "       [ 0.83590174,  0.40631077],\n",
       "       [ 0.41658574,  0.04340729]])"
      ]
     },
     "execution_count": 5,
     "metadata": {
     },
     "output_type": "execute_result"
    }
   ],
   "source": [
    "matriz= np.random.rand(10,2)\n",
    "matriz"
   ]
  },
  {
   "cell_type": "code",
   "execution_count": 6,
   "metadata": {
    "collapsed": false
   },
   "outputs": [
    {
     "name": "stdout",
     "output_type": "stream",
     "text": [
      "Cartesiana: [ 0.37855239  1.14579304  1.06192998  0.41673116  0.31884094  1.14473773\n",
      "  0.54253756  1.06304234  0.92941926  0.41884111]\n",
      "Polares: [ 0.12899195  1.05841633  0.84686511  0.24458862  1.47088253  0.74350755\n",
      "  0.41567646  0.77796879  0.45244552  0.10382307]\n"
     ]
    }
   ],
   "source": [
    "C1,C2=matriz[:,0], matriz[:,1]\n",
    "cartesiana=np.sqrt(C1**2 + C2**2)\n",
    "print \"Cartesiana:\",cartesiana\n",
    "polares= np.arctan2(C2,C1)\n",
    "print \"Polares:\",polares"
   ]
  },
  {
   "cell_type": "markdown",
   "metadata": {
    "collapsed": false
   },
   "source": [
    "## 4)"
   ]
  },
  {
   "cell_type": "code",
   "execution_count": 7,
   "metadata": {
    "collapsed": false
   },
   "outputs": [
    {
     "data": {
      "text/plain": [
       "array([[ 0.48519264,  0.12780249],\n",
       "       [ 0.12173621,  0.55124985],\n",
       "       [ 0.38600735,  0.16609936],\n",
       "       [ 0.71123955,  0.78573277],\n",
       "       [ 0.81095268,  0.14702545],\n",
       "       [ 0.98260659,  0.93624023],\n",
       "       [ 0.50437865,  0.30708869],\n",
       "       [ 0.07999221,  0.71906105],\n",
       "       [ 0.09551439,  0.1296541 ],\n",
       "       [ 0.7394574 ,  0.27739663],\n",
       "       [ 0.66265539,  0.11253611],\n",
       "       [ 0.91946944,  0.70207743],\n",
       "       [ 0.54572714,  0.19289517],\n",
       "       [ 0.30462941,  0.33801051],\n",
       "       [ 0.64004856,  0.59927313],\n",
       "       [ 0.96032305,  0.14608028],\n",
       "       [ 0.26058976,  0.61814893],\n",
       "       [ 0.79797122,  0.32141417],\n",
       "       [ 0.42222353,  0.85233919],\n",
       "       [ 0.7382021 ,  0.93359401],\n",
       "       [ 0.39024497,  0.93057611],\n",
       "       [ 0.54388312,  0.68835219],\n",
       "       [ 0.91856199,  0.38907625],\n",
       "       [ 0.37740432,  0.06909874],\n",
       "       [ 0.29892573,  0.20469573],\n",
       "       [ 0.49135577,  0.71000356],\n",
       "       [ 0.10635021,  0.4574716 ],\n",
       "       [ 0.21626384,  0.99150278],\n",
       "       [ 0.44467891,  0.49934209],\n",
       "       [ 0.35623409,  0.74934253],\n",
       "       [ 0.77620944,  0.01176293],\n",
       "       [ 0.17795822,  0.70805517],\n",
       "       [ 0.82219969,  0.68612649],\n",
       "       [ 0.30124405,  0.85850404],\n",
       "       [ 0.24487949,  0.12777443],\n",
       "       [ 0.67350691,  0.24663262],\n",
       "       [ 0.59596734,  0.52012302],\n",
       "       [ 0.42052864,  0.55651853],\n",
       "       [ 0.03464294,  0.51096001],\n",
       "       [ 0.86011181,  0.36849965],\n",
       "       [ 0.6249616 ,  0.44435734],\n",
       "       [ 0.99983191,  0.07008995],\n",
       "       [ 0.03505985,  0.49627469],\n",
       "       [ 0.3664777 ,  0.24420384],\n",
       "       [ 0.81663702,  0.78634947],\n",
       "       [ 0.26654623,  0.70421219],\n",
       "       [ 0.23261879,  0.86512323],\n",
       "       [ 0.81646102,  0.12033475],\n",
       "       [ 0.37483954,  0.97929455],\n",
       "       [ 0.41189681,  0.81519363],\n",
       "       [ 0.50424642,  0.5938745 ],\n",
       "       [ 0.07721977,  0.76288432],\n",
       "       [ 0.81410877,  0.90718224],\n",
       "       [ 0.21973877,  0.97193798],\n",
       "       [ 0.82637931,  0.64918821],\n",
       "       [ 0.86039505,  0.38726496],\n",
       "       [ 0.52566994,  0.84845951],\n",
       "       [ 0.3685197 ,  0.64063904],\n",
       "       [ 0.2687098 ,  0.59831185],\n",
       "       [ 0.82154194,  0.05909383],\n",
       "       [ 0.90185897,  0.79780964],\n",
       "       [ 0.19011767,  0.85356611],\n",
       "       [ 0.28381741,  0.14544135],\n",
       "       [ 0.15357499,  0.60384339],\n",
       "       [ 0.84563862,  0.1392167 ],\n",
       "       [ 0.34890872,  0.24616834],\n",
       "       [ 0.24185637,  0.08628861],\n",
       "       [ 0.56601519,  0.58388383],\n",
       "       [ 0.33600316,  0.49706511],\n",
       "       [ 0.84732995,  0.45308647],\n",
       "       [ 0.85918336,  0.69687092],\n",
       "       [ 0.74863228,  0.63026719],\n",
       "       [ 0.57302892,  0.94973561],\n",
       "       [ 0.04198227,  0.12535147],\n",
       "       [ 0.15526247,  0.57696168],\n",
       "       [ 0.50079399,  0.11145355],\n",
       "       [ 0.23564825,  0.24981441],\n",
       "       [ 0.26531964,  0.64764953],\n",
       "       [ 0.38199209,  0.18048987],\n",
       "       [ 0.42608866,  0.46234203],\n",
       "       [ 0.6364727 ,  0.36801403],\n",
       "       [ 0.85561861,  0.03109594],\n",
       "       [ 0.90699311,  0.17607896],\n",
       "       [ 0.40418965,  0.86389193],\n",
       "       [ 0.49510609,  0.47504218],\n",
       "       [ 0.18130402,  0.56449856],\n",
       "       [ 0.60960975,  0.41986895],\n",
       "       [ 0.16892002,  0.32413677],\n",
       "       [ 0.75632489,  0.92860939],\n",
       "       [ 0.88230087,  0.13928765],\n",
       "       [ 0.98273565,  0.50368962],\n",
       "       [ 0.64913593,  0.59533607],\n",
       "       [ 0.76148861,  0.07071769],\n",
       "       [ 0.07700415,  0.80604064],\n",
       "       [ 0.58064125,  0.68013871],\n",
       "       [ 0.07766981,  0.32434363],\n",
       "       [ 0.46053982,  0.3251106 ],\n",
       "       [ 0.70501019,  0.34588432],\n",
       "       [ 0.44349816,  0.79369802],\n",
       "       [ 0.78340071,  0.60955026]])"
      ]
     },
     "execution_count": 7,
     "metadata": {
     },
     "output_type": "execute_result"
    }
   ],
   "source": [
    "A = np.random.rand(100,2)\n",
    "A"
   ]
  },
  {
   "cell_type": "code",
   "execution_count": 8,
   "metadata": {
    "collapsed": false
   },
   "outputs": [
    {
     "data": {
      "text/plain": [
       "array([[ 0.        ,  0.55803965,  0.10632203, ...,  0.30964405,\n",
       "         0.66719959,  0.56657653],\n",
       "       [ 0.55803965,  0.        ,  0.46709756, ...,  0.61837168,\n",
       "         0.40287947,  0.66422801],\n",
       "       [ 0.10632203,  0.46709756,  0.        , ...,  0.36617679,\n",
       "         0.63022637,  0.59545796],\n",
       "       ..., \n",
       "       [ 0.30964405,  0.61837168,  0.36617679, ...,  0.        ,\n",
       "         0.51858042,  0.27507236],\n",
       "       [ 0.66719959,  0.40287947,  0.63022637, ...,  0.51858042,\n",
       "         0.        ,  0.38658006],\n",
       "       [ 0.56657653,  0.66422801,  0.59545796, ...,  0.27507236,\n",
       "         0.38658006,  0.        ]])"
      ]
     },
     "execution_count": 8,
     "metadata": {
     },
     "output_type": "execute_result"
    }
   ],
   "source": [
    "coluna1 = [A[:,0]]\n",
    "coluna1\n",
    "C = np.array(coluna1)\n",
    "c1=C.T\n",
    "coluna2 = [A[:,1]]\n",
    "coluna2\n",
    "D = np.array(coluna2)\n",
    "c2=D.T\n",
    "distancia= np.sqrt((c1-c1.T)**2 + (c2-c2.T)**2)\n",
    "distancia"
   ]
  },
  {
   "cell_type": "markdown",
   "metadata": {
    "collapsed": false
   },
   "source": [
    "## 5)"
   ]
  },
  {
   "cell_type": "code",
   "execution_count": 46,
   "metadata": {
    "collapsed": false
   },
   "outputs": [
    {
     "name": "stdout",
     "output_type": "stream",
     "text": [
      "[1, 0, 0, 0, 2, 0, 0, 0, 3, 0, 0, 0, 4, 0, 0, 0, 5]\n"
     ]
    }
   ],
   "source": [
    "vetor=[1,2,3,4,5]\n",
    "vetor[1:1]=[0,0,0]\n",
    "vetor[5:1]=[0,0,0]\n",
    "vetor[9:1]=[0,0,0]\n",
    "vetor[13:1]=[0,0,0]\n",
    "print vetor"
   ]
  },
  {
   "cell_type": "code",
   "execution_count": 0,
   "metadata": {
    "collapsed": false
   },
   "outputs": [
   ],
   "source": [
   ]
  }
 ],
 "metadata": {
  "kernelspec": {
   "display_name": "Python 2 (SageMath)",
   "language": "python",
   "name": "python2"
  },
  "language_info": {
   "codemirror_mode": {
    "name": "ipython",
    "version": 2
   },
   "file_extension": ".py",
   "mimetype": "text/x-python",
   "name": "python",
   "nbconvert_exporter": "python",
   "pygments_lexer": "ipython2",
   "version": "2.7.13"
  }
 },
 "nbformat": 4,
 "nbformat_minor": 0
}