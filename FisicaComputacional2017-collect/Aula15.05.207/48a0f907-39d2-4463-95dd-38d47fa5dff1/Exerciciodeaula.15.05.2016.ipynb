{
 "cells": [
  {
   "cell_type": "code",
   "execution_count": 1,
   "metadata": {
    "collapsed": false
   },
   "outputs": [
    {
     "name": "stdout",
     "output_type": "stream",
     "text": [
      "0\n",
      "1\n",
      "4\n"
     ]
    }
   ],
   "source": [
    "#Exercicio 1\n",
    "##Encontre índices de elementos não nulos de [1,2,0,0,4,0]\n",
    "import numpy as np\n",
    "matrix=[1,2,0,0,4,0]\n",
    "for i in range(len(matrix)):\n",
    "    if(matrix[i]!= 0):\n",
    "        print(i)"
   ]
  },
  {
   "cell_type": "code",
   "execution_count": 5,
   "metadata": {
    "collapsed": false
   },
   "outputs": [
    {
     "name": "stdout",
     "output_type": "stream",
     "text": [
      "[[ 0.50142107  0.45872635  0.3831859   0.43066872]\n",
      " [ 0.9529897   0.65805558  0.55167795  0.84950445]\n",
      " [ 0.32862293  0.10917335  0.45742885  0.43463259]]\n",
      "[array([ 0.,  0.,  0.,  0.]), array([ 0.,  0.,  0.,  0.]), array([ 0.,  0.,  0.,  0.])]\n"
     ]
    }
   ],
   "source": [
    "#Exercicio 2\n",
    "##Extrair a parte inteira de uma matriz aleatória.\n",
    "import numpy as np\n",
    "matrix=np.random.rand(3,4)\n",
    "intmatrix=[]\n",
    "for i in range(len(matrix)):\n",
    "    aux=matrix[i]//1\n",
    "    intmatrix.append(aux)\n",
    "print(matrix)\n",
    "print(intmatrix)"
   ]
  },
  {
   "cell_type": "code",
   "execution_count": 6,
   "metadata": {
    "collapsed": false
   },
   "outputs": [
    {
     "name": "stdout",
     "output_type": "stream",
     "text": [
      "[[ 0.51324874  0.48809033]\n",
      " [ 0.29542584  0.4664381 ]\n",
      " [ 0.7729903   0.4078156 ]\n",
      " [ 0.96180657  0.76233065]\n",
      " [ 0.43815117  0.8220024 ]\n",
      " [ 0.75987357  0.82616472]\n",
      " [ 0.02359055  0.87896559]\n",
      " [ 0.98458965  0.69318416]\n",
      " [ 0.71064125  0.64923675]\n",
      " [ 0.02795322  0.32592016]]\n",
      "[(0.70827709164237351, 0.76027868831407674), (0.55212402130639482, 1.006203913724361), (0.87397228800090909, 0.48546878337322813), (1.2272815046513257, 0.67021419276739813), (0.93148504954369071, 1.0810759233368836), (1.1224776063332125, 0.82717053993172662), (0.87928210963997677, 1.5439637779740065), (1.2041266784442957, 0.61342792250423772), (0.96255874500387784, 0.74027439294452124), (0.32711669358483952, 1.4852386236894972)]\n"
     ]
    }
   ],
   "source": [
    "#Exercicio3\n",
    "##Considere uma matriz aleatória de 10x2 que represente coordenadas cartesianas, converta-as em coordenadas polares\n",
    "import numpy as np\n",
    "def cart2pol(x, y):\n",
    "    rho = np.sqrt(x**2 + y**2)\n",
    "    phi = np.arctan2(y, x)\n",
    "    return(rho, phi)\n",
    "matrix=np.random.rand(10,2)\n",
    "matrix2pol=[]\n",
    "for i in range(0,10):\n",
    "    matrix2pol.append(cart2pol(matrix[i][0],matrix[i][1]))\n",
    "print(matrix)        \n",
    "print(matrix2pol)"
   ]
  },
  {
   "cell_type": "code",
   "execution_count": 7,
   "metadata": {
    "collapsed": false
   },
   "outputs": [
    {
     "name": "stdout",
     "output_type": "stream",
     "text": [
      "[0.043905741380440122, 0.32702282802855542, 0.30177630132012773, 0.54351386222490461, 0.24659888371624211, 0.059922563126067044, 1.0194453779885251, 0.57817169308426464, 0.62400968123591771, 0.095682918417298979, 0.18682415538341413, 0.44165598637068115, 0.516496208589595, 0.70369431361064794, 0.40219278435995381, 0.26893898237083785, 1.2346457130615522, 0.73839930281260768, 0.83340542728084954, 0.14295555448432926, 0.36109857324441696, 0.38885766590643522, 0.0399738806721599, 0.41130080189995533, 0.29237531665103494, 0.27829426472851038, 0.6909270533476729, 0.43701623860266137, 0.31970135072022138, 0.4132149295846394, 0.038606120790478447, 0.34689572176134564, 0.3555681828536329, 0.58035028033086067, 0.27824835569800016, 0.11010451827026983, 1.0734178220679345, 0.61521044343305287, 0.67618229780714145, 0.057242195272131972, 0.37066149402604953, 0.39465137324522509, 0.047250272829322315, 0.41076697664366985, 0.29908302957982436, 0.28783863659585113, 0.68133812454240961, 0.43594293146414342, 0.31156239442002848, 0.42274289003451937, 0.11700591324239062, 0.31267052652305122, 0.22050294023558722, 0.49377539248682606, 0.21623146387131423, 0.042072812657274472, 0.93771563839240402, 0.52767951900727894, 0.54567578920339432, 0.17075711657692499, 1.021490125763358, 0.94598307970061879, 0.69010166009152585, 0.75488205307413281, 0.88867367455467849, 0.93842797399666866, 0.04109557000896813, 0.74655375130920254, 0.42324228763962674, 1.0725837118746313, 0.84765655535742301, 0.78390980174542024, 0.51636635726850277, 0.61619439915252439, 0.72092934251772411, 0.76460487436699165, 0.20505878080985993, 0.61336622223133008, 0.2722858007080281, 0.89888109724021392, 0.80007825007579769, 0.74048204584025945, 0.46883283783546809, 0.58154203129776794, 0.67555625995479851, 0.71703117037958952, 0.25228067838698287, 0.58067615059990341, 0.23652953304227475, 0.85134751825419852, 0.031046421756838884, 0.3375964580080526, 0.33285047086736352, 0.56446211279742253, 0.26400402433230491, 0.088372478332399362, 1.0506315740084284, 0.59925943327297759, 0.65412011708950879, 0.071044367544462417]\n"
     ]
    }
   ],
   "source": [
    "#Exercicio4\n",
    "##Considere um vetor aleatório com forma (100,2) representando coordenadas, encontre as distâncias entre todos os pontos\n",
    "import numpy as np\n",
    "matrix=np.random.rand(10,2)\n",
    "matrixD=[]\n",
    "for i in range(len(matrix)):\n",
    "    for j in range(len(matrix)):\n",
    "        matrixD.append(np.sqrt(((matrix[i][0]-matrix[j][0])**2)+((matrix[i][0]-matrix[j][1])**2)))\n",
    "print matrixD\n"
   ]
  },
  {
   "cell_type": "code",
   "execution_count": 9,
   "metadata": {
    "collapsed": false
   },
   "outputs": [
    {
     "name": "stdout",
     "output_type": "stream",
     "text": [
      "[0, 0, 0, 0, 1, 0, 0, 0, 2, 0, 0, 0, 3, 0, 0, 0, 4, 0, 0, 0, 5, 0, 0, 0]\n"
     ]
    }
   ],
   "source": [
    "#Exercicio5\n",
    "##Considere o vetor [1, 2, 3, 4, 5], como construir um novo vetor com 3 zeros consecutivos intercalados entre cada valor?\n",
    "vetor=[0,1,2,3,4,5]\n",
    "vetor2=[]\n",
    "for i in range(len(vetor)):\n",
    "    vetor2.append(vetor[i])\n",
    "    for i in range(0,3):\n",
    "        vetor2.append(0)\n",
    "print(vetor2)"
   ]
  },
  {
   "cell_type": "code",
   "execution_count": 0,
   "metadata": {
    "collapsed": false
   },
   "outputs": [
   ],
   "source": [
   ]
  }
 ],
 "metadata": {
  "kernelspec": {
   "display_name": "Python 2 (SageMath)",
   "language": "python",
   "name": "python2"
  },
  "language_info": {
   "codemirror_mode": {
    "name": "ipython",
    "version": 2
   },
   "file_extension": ".py",
   "mimetype": "text/x-python",
   "name": "python",
   "nbconvert_exporter": "python",
   "pygments_lexer": "ipython2",
   "version": "2.7.13"
  }
 },
 "nbformat": 4,
 "nbformat_minor": 0
}