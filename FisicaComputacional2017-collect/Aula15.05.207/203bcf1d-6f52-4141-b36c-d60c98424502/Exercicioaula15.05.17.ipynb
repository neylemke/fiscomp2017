{
 "cells": [
  {
   "cell_type": "code",
   "execution_count": 21,
   "metadata": {
    "collapsed": false
   },
   "outputs": [
    {
     "ename": "SyntaxError",
     "evalue": "invalid syntax (<ipython-input-21-c6ab0aa57095>, line 8)",
     "output_type": "error",
     "traceback": [
      "\u001b[0;36m  File \u001b[0;32m\"<ipython-input-21-c6ab0aa57095>\"\u001b[0;36m, line \u001b[0;32m8\u001b[0m\n\u001b[0;31m    print(i)import numpy as np\u001b[0m\n\u001b[0m                 ^\u001b[0m\n\u001b[0;31mSyntaxError\u001b[0m\u001b[0;31m:\u001b[0m invalid syntax\n"
     ]
    }
   ],
   "source": [
    "#Encontre índices de elementos não nulos de [1,2,0,0,4,0]\n",
    "\n",
    "import numpy as np\n",
    "\n",
    "matrix=[1,2,0,0,4,0]\n",
    "for i in range(len(matrix)):\n",
    "    if(matrix[i]!= 0):\n",
    "        print(i)import numpy as np\n",
    "matrix=[1,2,0,0,4,0]\n",
    "for i in range(len(matrix)):\n",
    "    if(matrix[i]!= 0):\n",
    "        print(i)\n",
    "\n"
   ]
  },
  {
   "cell_type": "code",
   "execution_count": 14,
   "metadata": {
    "collapsed": false
   },
   "outputs": [
    {
     "name": "stdout",
     "output_type": "stream",
     "text": [
      "[[ 0.62684835  0.23082235  0.37046446  0.11089103]\n",
      " [ 0.72361645  0.20459109  0.53951322  0.05419972]\n",
      " [ 0.26631489  0.81271814  0.373041    0.45132473]\n",
      " [ 0.28073554  0.03560434  0.72322091  0.1181194 ]]\n",
      "[array([ 0.,  0.,  0.,  0.]), array([ 0.,  0.,  0.,  0.]), array([ 0.,  0.,  0.,  0.]), array([ 0.,  0.,  0.,  0.])]\n"
     ]
    },
    {
     "ename": "IndexError",
     "evalue": "index 4 is out of bounds for axis 0 with size 4",
     "output_type": "error",
     "traceback": [
      "\u001b[0;31m---------------------------------------------------------------------------\u001b[0m",
      "\u001b[0;31mIndexError\u001b[0m                                Traceback (most recent call last)",
      "\u001b[0;32m<ipython-input-14-4db9b9a72bca>\u001b[0m in \u001b[0;36m<module>\u001b[0;34m()\u001b[0m\n\u001b[1;32m     12\u001b[0m \u001b[0mmatrix2pol\u001b[0m\u001b[0;34m=\u001b[0m\u001b[0;34m[\u001b[0m\u001b[0;34m]\u001b[0m\u001b[0;34m\u001b[0m\u001b[0m\n\u001b[1;32m     13\u001b[0m \u001b[0;32mfor\u001b[0m \u001b[0mi\u001b[0m \u001b[0;32min\u001b[0m \u001b[0mrange\u001b[0m\u001b[0;34m(\u001b[0m\u001b[0;36m0\u001b[0m\u001b[0;34m,\u001b[0m\u001b[0;36m10\u001b[0m\u001b[0;34m)\u001b[0m\u001b[0;34m:\u001b[0m\u001b[0;34m\u001b[0m\u001b[0m\n\u001b[0;32m---> 14\u001b[0;31m     \u001b[0mmatrix2pol\u001b[0m\u001b[0;34m.\u001b[0m\u001b[0mappend\u001b[0m\u001b[0;34m(\u001b[0m\u001b[0mcart2pol\u001b[0m\u001b[0;34m(\u001b[0m\u001b[0mmatrix\u001b[0m\u001b[0;34m[\u001b[0m\u001b[0mi\u001b[0m\u001b[0;34m]\u001b[0m\u001b[0;34m[\u001b[0m\u001b[0;36m0\u001b[0m\u001b[0;34m]\u001b[0m\u001b[0;34m,\u001b[0m\u001b[0mmatrix\u001b[0m\u001b[0;34m[\u001b[0m\u001b[0mi\u001b[0m\u001b[0;34m]\u001b[0m\u001b[0;34m[\u001b[0m\u001b[0;36m1\u001b[0m\u001b[0;34m]\u001b[0m\u001b[0;34m)\u001b[0m\u001b[0;34m)\u001b[0m\u001b[0;34m\u001b[0m\u001b[0m\n\u001b[0m\u001b[1;32m     15\u001b[0m \u001b[0;32mprint\u001b[0m\u001b[0;34m(\u001b[0m\u001b[0mmatrix\u001b[0m\u001b[0;34m)\u001b[0m\u001b[0;34m\u001b[0m\u001b[0m\n\u001b[1;32m     16\u001b[0m \u001b[0;32mprint\u001b[0m\u001b[0;34m(\u001b[0m\u001b[0mmatrix2pol\u001b[0m\u001b[0;34m)\u001b[0m\u001b[0;34m\u001b[0m\u001b[0m\n",
      "\u001b[0;31mIndexError\u001b[0m: index 4 is out of bounds for axis 0 with size 4"
     ]
    }
   ],
   "source": [
    "#Extrair a parte inteira de uma matriz aleatória\n",
    "import numpy as np\n",
    "matrix=np.random.rand(4,4)\n",
    "import numpy as np\n",
    "intmatrix=[]\n",
    "for i in range(len(matrix)):\n",
    "    aux=matrix[i]//1\n",
    "    intmatrix.append(aux)\n",
    "print(matrix)\n",
    "print(intmatrix)\n",
    "\n",
    "matrix2pol=[]\n",
    "for i in range(0,10):\n",
    "    matrix2pol.append(cart2pol(matrix[i][0],matrix[i][1]))\n",
    "print(matrix)\n",
    "print(matrix2pol)"
   ]
  },
  {
   "cell_type": "code",
   "execution_count": 13,
   "metadata": {
    "collapsed": false
   },
   "outputs": [
    {
     "name": "stdout",
     "output_type": "stream",
     "text": [
      "[[ 0.07236486  0.52094267]\n",
      " [ 0.41458376  0.2360556 ]\n",
      " [ 0.61670098  0.4551709 ]\n",
      " [ 0.67566593  0.51473841]\n",
      " [ 0.93685748  0.92802058]\n",
      " [ 0.38923614  0.73998761]\n",
      " [ 0.31625706  0.6035091 ]\n",
      " [ 0.68714673  0.34868541]\n",
      " [ 0.61677857  0.9882361 ]\n",
      " [ 0.50463865  0.78873551]]\n",
      "[(0.52594480157944112, 1.4327682414160059), (0.47707644692750734, 0.51760026151913685), (0.76648591044070458, 0.63582460977987387), (0.8493998372747309, 0.65102551707300393), (1.3186827280399103, 0.78065960057253936), (0.8361138939449867, 1.0865629077410508), (0.68135288506649694, 1.0881098017087287), (0.77055313940853731, 0.46958149706580499), (1.1649147594894578, 1.012829591043356), (0.93635669598558557, 1.001619932939404)]\n"
     ]
    }
   ],
   "source": [
    "#Considere uma matriz aleatória de 10×2 que represente coordenadas cartesianas, converta-as em coordenadas polares\n",
    "import numpy as np\n",
    "def cart2pol(x, y):\n",
    "    rho = np.sqrt(x**2 + y**2)\n",
    "    phi = np.arctan2(y, x)\n",
    "    return(rho, phi)\n",
    "matrix=np.random.rand(10,2)\n",
    "matrix2pol=[]\n",
    "for i in range(0,10):\n",
    "    matrix2pol.append(cart2pol(matrix[i][0],matrix[i][1]))\n",
    "print(matrix)\n",
    "print(matrix2pol)"
   ]
  },
  {
   "cell_type": "code",
   "execution_count": 23,
   "metadata": {
    "collapsed": false,
    "scrolled": true
   },
   "outputs": [
    {
     "name": "stderr",
     "output_type": "stream",
     "text": [
      "WARNING: Some output was deleted.\n"
     ]
    }
   ],
   "source": [
    "#Considere um vetor aleatório com forma (100,2) representando coordenadas, encontre as distâncias entre todos os pontos\n",
    "\n",
    "\n",
    "import numpy as np\n",
    "\n",
    "matrix=np.random.rand(100,2)\n",
    "matrixD=[]\n",
    "for i in range(len(matrix)):\n",
    "    for j in range(len(matrix)):\n",
    "        matrixD.append(np.sqrt(((matrix[i][0]-matrix[j][0])**2)+((matrix[i][0]-matrix[j][1])**2)))\n",
    "print matrixD"
   ]
  },
  {
   "cell_type": "code",
   "execution_count": 35,
   "metadata": {
    "collapsed": false
   },
   "outputs": [
    {
     "name": "stdout",
     "output_type": "stream",
     "text": [
      "[1, 0, 0, 0, 2, 0, 0, 0, 3, 0, 0, 0, 4, 0, 0, 0, 5, 0, 0, 0]\n"
     ]
    }
   ],
   "source": [
    "#Considere o vetor [1, 2, 3, 4, 5], como construir um novo vetor com 3 zeros consecutivos intercalados entre cada valor?\n",
    "\n",
    "import numpy as np\n",
    "vetor=[1,2,3,4,5]\n",
    "vetor2=[]\n",
    "for i in range(len(vetor)):\n",
    "    vetor2.append(vetor[i])\n",
    "    for i in range(0,3):\n",
    "        vetor2.append(0)\n",
    "print(vetor2)\n",
    "\n"
   ]
  },
  {
   "cell_type": "code",
   "execution_count": 1,
   "metadata": {
    "collapsed": false
   },
   "outputs": [
    {
     "ename": "IndentationError",
     "evalue": "unexpected indent (<ipython-input-1-c58b3d6c991b>, line 3)",
     "output_type": "error",
     "traceback": [
      "\u001b[0;36m  File \u001b[0;32m\"<ipython-input-1-c58b3d6c991b>\"\u001b[0;36m, line \u001b[0;32m3\u001b[0m\n\u001b[0;31m    for i in r for j in r # iterate over range in 2d\u001b[0m\n\u001b[0m    ^\u001b[0m\n\u001b[0;31mIndentationError\u001b[0m\u001b[0;31m:\u001b[0m unexpected indent\n"
     ]
    }
   ],
   "source": [
    "#Exercicio do Jogo da Vida\n",
    "\n",
    "            for i in r for j in r # iterate over range in 2d\n",
    "            if not i == j == 0) # exclude the center cell\n",
    "\n",
    "\n",
    "def advance(board):\n",
    "    \"\"\"Advance the board one step and return it.\"\"\"\n",
    "    new_board = set()\n",
    "    for cell in board:\n",
    "        cell_neighbors = set(neighbors(cell))\n",
    "        # test if live cell dies\n",
    "        if len(board & cell_neighbors) in [2, 3]:\n",
    "            new_board.add(cell)\n",
    "\n",
    " return new_board\n",
    "\n",
    "\n",
    "def print_board(board, size=None):\n",
    "    sizex = sizey = size or 0\n",
    "    for x, y in board:\n",
    "        sizex = x if x > sizex else sizex\n",
    "        sizey = y if y > sizey else sizey\n",
    "    for i in xrange(sizex + 1):\n",
    "        for j in xrange(sizey + 1):\n",
    "            sys.stdout.write(' x ' if (i, j) in board else ' . ')\n",
    "        print\n",
    "\n",
    "\n",
    "def constrain(board, size):\n",
    "    return set(cell for cell in board if cell[0] <= size and cell[1] <= size)\n",
    "\n",
    "\n",
    "def main(board, steps=75, size=20):\n",
    "    for i in xrange(1, steps + 1):\n",
    "        sys.stdout.write('\\033[H')  # move to the top\n",
    "        sys.stdout.write('\\033[J')  # clear the screen\n",
    "        print 'step:', i, '/', steps\n",
    "        print_board(board, size)\n",
    "        time.sleep(0.1)\n",
    "        board = constrain(advance(board), size)\n",
    "\n",
    "\n",
    "if __name__ == '__main__':\n",
    "    main(GLIDER)\n",
    "\n"
   ]
  },
  {
   "cell_type": "code",
   "execution_count": 0,
   "metadata": {
    "collapsed": false
   },
   "outputs": [
   ],
   "source": [
   ]
  }
 ],
 "metadata": {
  "kernelspec": {
   "display_name": "Python 2 (SageMath)",
   "language": "python",
   "name": "python2"
  },
  "language_info": {
   "codemirror_mode": {
    "name": "ipython",
    "version": 2
   },
   "file_extension": ".py",
   "mimetype": "text/x-python",
   "name": "python",
   "nbconvert_exporter": "python",
   "pygments_lexer": "ipython2",
   "version": "2.7.13"
  }
 },
 "nbformat": 4,
 "nbformat_minor": 0
}