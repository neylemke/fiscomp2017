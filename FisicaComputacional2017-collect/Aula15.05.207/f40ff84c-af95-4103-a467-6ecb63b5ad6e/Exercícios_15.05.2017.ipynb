{
 "cells": [
  {
   "cell_type": "markdown",
   "metadata": {
    "collapsed": false
   },
   "source": [
    "Encontre índices de elementos não nulos de [1,2,0,0,4,0]\n",
    "Extrair a parte inteira de uma matriz aleatória\n",
    "Considere uma matriz aleatória de 10×2 que represente coordenadas cartesianas, converta-as em coordenadas polares\n",
    "Considere um vetor aleatório com forma (100,2) representando coordenadas, encontre as distâncias entre todos os pontos\n",
    "Considere o vetor [1, 2, 3, 4, 5], como construir um novo vetor com 3 zeros consecutivos intercalados entre cada valor?"
   ]
  },
  {
   "cell_type": "code",
   "execution_count": 1,
   "metadata": {
    "collapsed": false
   },
   "outputs": [
    {
     "name": "stdout",
     "output_type": "stream",
     "text": [
      "0\n",
      "1\n",
      "4\n"
     ]
    }
   ],
   "source": [
    "a = [1,2,0,0,4,0]\n",
    "\n",
    "for i in range(len(a)):\n",
    "    if a[i] !=0:\n",
    "        print (i)"
   ]
  },
  {
   "cell_type": "code",
   "execution_count": 12,
   "metadata": {
    "collapsed": false
   },
   "outputs": [
    {
     "name": "stdout",
     "output_type": "stream",
     "text": [
      "[[7 8 7 4 1 5 8 0 8 6]\n",
      " [1 3 1 7 4 3 9 4 6 2]\n",
      " [5 2 7 5 4 5 7 0 3 2]\n",
      " [2 5 0 0 9 8 9 0 9 9]\n",
      " [2 3 3 2 7 5 9 2 8 9]]\n"
     ]
    }
   ],
   "source": [
    "import numpy as np\n",
    "\n",
    "randmat = np.random.rand(5,10)*10\n",
    "inteiromat = np.int_(randmat)\n",
    "\n",
    "print(inteiromat)"
   ]
  },
  {
   "cell_type": "code",
   "execution_count": 11,
   "metadata": {
    "collapsed": false
   },
   "outputs": [
   ],
   "source": [
    "##Considere uma matriz aleatória de 10×2 que represente coordenadas cartesianas, converta-as em coordenadas polares\n",
    "import numpy as np\n",
    "\n",
    "randmat = np.random.rand(10,2)\n"
   ]
  },
  {
   "cell_type": "code",
   "execution_count": 21,
   "metadata": {
    "collapsed": false
   },
   "outputs": [
    {
     "name": "stdout",
     "output_type": "stream",
     "text": [
      "Matriz Origem:\n",
      "[[8 5]\n",
      " [8 2]\n",
      " [4 8]\n",
      " [0 5]\n",
      " [2 4]\n",
      " [7 1]\n",
      " [9 5]\n",
      " [1 7]\n",
      " [8 0]\n",
      " [5 5]]\n",
      "Distâncias:[3.0, 5.0, 8.0, 6.0827625302982193, 4.1231056256176606, 1.0, 7.2801098892805181, 5.0, 3.0, 0.0, 7.2111025509279782, 8.5440037453175304, 6.324555320336759, 1.4142135623730951, 3.1622776601683795, 8.6023252670426267, 2.0, 4.2426406871192848, 7.2111025509279782, 0.0, 5.0, 4.4721359549995796, 7.6157731058639087, 5.8309518948453007, 3.1622776601683795, 8.9442719099991592, 3.1622776601683795, 8.5440037453175304, 5.0, 0.0, 2.2360679774997898, 8.0622577482985491, 9.0, 2.2360679774997898, 9.4339811320566032, 5.0, 6.324555320336759, 4.4721359549995796, 2.2360679774997898, 0.0, 5.8309518948453007, 7.0710678118654755, 3.1622776601683795, 7.2111025509279782, 3.1622776601683795, 1.4142135623730951, 7.6157731058639087, 8.0622577482985491, 5.8309518948453007, 0.0, 4.4721359549995796, 8.4852813742385695, 1.4142135623730951, 4.4721359549995796, 3.1622776601683795, 5.8309518948453007, 9.0, 7.0710678118654755, 4.4721359549995796, 0.0, 8.2462112512353212, 5.0990195135927845, 4.0, 8.6023252670426267, 3.1622776601683795, 2.2360679774997898, 3.1622776601683795, 8.4852813742385695, 8.2462112512353212, 0.0, 9.8994949366116654, 4.4721359549995796, 2.0, 8.9442719099991592, 9.4339811320566032, 7.2111025509279782, 1.4142135623730951, 5.0990195135927845, 9.8994949366116654, 0.0, 5.8309518948453007, 4.2426406871192848, 3.1622776601683795, 5.0, 3.1622776601683795, 4.4721359549995796, 4.0, 4.4721359549995796, 5.8309518948453007, 0.0]\n"
     ]
    }
   ],
   "source": [
    "##Considere um vetor aleatório com forma (100,2) representando coordenadas, encontre as distâncias entre todos os pontos\n",
    "import numpy as np\n",
    "from numpy import linalg as LA\n",
    "\n",
    "rvetor = np.int_(np.random.rand(10,2)*10)\n",
    "\n",
    "vdist = []\n",
    "\n",
    "for i in range(len(rvetor)):\n",
    "    for j in range(1,len(rvetor)):\n",
    "        vdist.append(LA.norm(rvetor[i]-rvetor[j]))\n",
    "\n",
    "print('Matriz Origem:\\n{}\\nDistâncias:{}'.format(rvetor, vdist))"
   ]
  },
  {
   "cell_type": "code",
   "execution_count": 20,
   "metadata": {
    "collapsed": false
   },
   "outputs": [
    {
     "name": "stdout",
     "output_type": "stream",
     "text": [
      "[0, 0, 0, 0, 1, 0, 0, 0, 2, 0, 0, 0, 3, 0, 0, 0, 4, 0, 0, 0, 5, 0, 0, 0]\n"
     ]
    }
   ],
   "source": [
    "#Considere o vetor [1, 2, 3, 4, 5], como construir um novo vetor com 3 zeros consecutivos intercalados entre cada valor?\n",
    "v1=[0,1,2,3,4,5]\n",
    "v2=[]\n",
    "for i in range(len(v1)):\n",
    "    v2.append(v1[i])\n",
    "    for i in range(0,3):\n",
    "        v2.append(0)\n",
    "print(v2)"
   ]
  },
  {
   "cell_type": "code",
   "execution_count": 0,
   "metadata": {
    "collapsed": false
   },
   "outputs": [
   ],
   "source": [
   ]
  }
 ],
 "metadata": {
  "kernelspec": {
   "display_name": "Python 2 (SageMath)",
   "language": "python",
   "name": "python2"
  },
  "language_info": {
   "codemirror_mode": {
    "name": "ipython",
    "version": 2
   },
   "file_extension": ".py",
   "mimetype": "text/x-python",
   "name": "python",
   "nbconvert_exporter": "python",
   "pygments_lexer": "ipython2",
   "version": "2.7.13"
  }
 },
 "nbformat": 4,
 "nbformat_minor": 0
}