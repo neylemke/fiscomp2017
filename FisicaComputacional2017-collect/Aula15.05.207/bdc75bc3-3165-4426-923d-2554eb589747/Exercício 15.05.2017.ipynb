{
 "cells": [
  {
   "cell_type": "code",
   "execution_count": 1,
   "metadata": {
    "collapsed": false
   },
   "outputs": [
    {
     "name": "stdout",
     "output_type": "stream",
     "text": [
      "0\n",
      "1\n",
      "4\n"
     ]
    }
   ],
   "source": [
    "#EX1\n",
    "import numpy as np\n",
    "matrix=[1,2,0,0,4,0]\n",
    "for i in range(len(matrix)):\n",
    "    if(matrix[i]!= 0):\n",
    "        print(i)"
   ]
  },
  {
   "cell_type": "code",
   "execution_count": 2,
   "metadata": {
    "collapsed": false
   },
   "outputs": [
    {
     "name": "stdout",
     "output_type": "stream",
     "text": [
      "[[ 0.65748911  0.46765986  0.59014281  0.76557238]\n",
      " [ 0.19081901  0.98503946  0.60931284  0.6573868 ]\n",
      " [ 0.74161526  0.56555606  0.21314921  0.89606957]]\n",
      "[array([ 0.,  0.,  0.,  0.]), array([ 0.,  0.,  0.,  0.]), array([ 0.,  0.,  0.,  0.])]\n"
     ]
    }
   ],
   "source": [
    "#EX2\n",
    "import numpy as np\n",
    "matrix=np.random.rand(3,4)\n",
    "intmatrix=[]\n",
    "for i in range(len(matrix)):\n",
    "    aux=matrix[i]//1\n",
    "    intmatrix.append(aux)\n",
    "print(matrix)\n",
    "print(intmatrix)"
   ]
  },
  {
   "cell_type": "code",
   "execution_count": 3,
   "metadata": {
    "collapsed": false,
    "scrolled": true
   },
   "outputs": [
    {
     "name": "stdout",
     "output_type": "stream",
     "text": [
      "[[ 0.09617462  0.87681929]\n",
      " [ 0.57630831  0.7645858 ]\n",
      " [ 0.36744914  0.74210815]\n",
      " [ 0.58711779  0.74147866]\n",
      " [ 0.15810675  0.47750131]\n",
      " [ 0.29537648  0.88740552]\n",
      " [ 0.86839214  0.05182819]\n",
      " [ 0.38836671  0.74323155]\n",
      " [ 0.1518905   0.31167687]\n",
      " [ 0.22380335  0.57876857]]\n",
      "[(0.88207800981659057, 1.4615472650081784), (0.95745637256489458, 0.92489806526812612), (0.82809624006927141, 1.1110424213492647), (0.94577898827311213, 0.90106300104589843), (0.5029962732651504, 1.2510456622129398), (0.9352731229031388, 1.2494772282294877), (0.869937398698577, 0.059612223571814317), (0.83858323602175655, 1.0892813328296556), (0.34671774889381601, 1.1173333696955274), (0.62053283432614237, 1.2018174874147154)]\n"
     ]
    }
   ],
   "source": [
    "#EX3\n",
    "import numpy as np\n",
    "def cart2pol(x, y):\n",
    "    rho = np.sqrt(x**2 + y**2)\n",
    "    phi = np.arctan2(y, x)\n",
    "    return(rho, phi)\n",
    "matrix=np.random.rand(10,2)\n",
    "matrix2pol=[]\n",
    "for i in range(0,10):\n",
    "    matrix2pol.append(cart2pol(matrix[i][0],matrix[i][1]))\n",
    "print(matrix)        \n",
    "print(matrix2pol)"
   ]
  },
  {
   "cell_type": "code",
   "execution_count": 7,
   "metadata": {
    "collapsed": false,
    "scrolled": true
   },
   "outputs": [
    {
     "name": "stderr",
     "output_type": "stream",
     "text": [
      "WARNING: Some output was deleted.\n"
     ]
    }
   ],
   "source": [
    "#EX4\n",
    "import numpy as np\n",
    "\n",
    "matrix=np.random.rand(100,2)\n",
    "matrixdis=[]\n",
    "for i in range(len(matrix)):\n",
    "    for j in range(len(matrix)):\n",
    "        matrixdis.append(np.sqrt(((matrix[i][0]-matrix[j][0])**2)+((matrix[i][0]-matrix[j][1])**2)))\n",
    "print (matrixdis)"
   ]
  },
  {
   "cell_type": "code",
   "execution_count": 8,
   "metadata": {
    "collapsed": false
   },
   "outputs": [
    {
     "name": "stdout",
     "output_type": "stream",
     "text": [
      "[0, 0, 0, 0, 1, 0, 0, 0, 2, 0, 0, 0, 3, 0, 0, 0, 4, 0, 0, 0, 5, 0, 0, 0]\n"
     ]
    }
   ],
   "source": [
    "#EX 5\n",
    "vetor=[0,1,2,3,4,5]\n",
    "vetor1=[]\n",
    "for i in range(len(vetor)):\n",
    "    vetor1.append(vetor[i])\n",
    "    for i in range(0,3):\n",
    "        vetor1.append(0)\n",
    "print(vetor1)"
   ]
  },
  {
   "cell_type": "code",
   "execution_count": 0,
   "metadata": {
    "collapsed": false
   },
   "outputs": [
   ],
   "source": [
   ]
  }
 ],
 "metadata": {
  "kernelspec": {
   "display_name": "Python 3 (Anaconda)",
   "language": "python",
   "name": "anaconda3"
  },
  "language_info": {
   "codemirror_mode": {
    "name": "ipython",
    "version": 3
   },
   "file_extension": ".py",
   "mimetype": "text/x-python",
   "name": "python",
   "nbconvert_exporter": "python",
   "pygments_lexer": "ipython3",
   "version": "3.5.3"
  }
 },
 "nbformat": 4,
 "nbformat_minor": 0
}