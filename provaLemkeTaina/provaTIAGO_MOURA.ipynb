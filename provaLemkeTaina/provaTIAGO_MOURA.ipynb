{
 "cells": [
  {
   "cell_type": "markdown",
   "metadata": {
    "collapsed": false
   },
   "source": [
    "# Prova Final de Física Computacional\n",
    "## Nome do Arquivo: provaTIAGO_MOURA.ipynb\n",
    "\n"
   ]
  },
  {
   "cell_type": "markdown",
   "metadata": {
    "collapsed": false
   },
   "source": [
    "## Questão 1\n",
    "Gere uma Lista contendo os primeiros 44 números pares.\n",
    "Calcule seu produto.\n"
   ]
  },
  {
   "cell_type": "markdown",
   "metadata": {
    "collapsed": false
   },
   "source": [
    "## Questão 2\n",
    "Abra o arquivo `jogadores.csv` e responda apresentando um código que:\n",
    "\n",
    "- Leia o arquivo e transforme em um DataFrame pandas. \n",
    "- Conte o número de linhas.\n",
    "- Quais jogadores nasceram antes de 1988?\n"
   ]
  },
  {
   "cell_type": "markdown",
   "metadata": {
    "collapsed": false
   },
   "source": [
    "## Questão 3\n",
    "Gere um gráfico do peso e altura dos jogadores. Os eixos devem conter \n",
    "as quantidades que estão sendo representados e o título deve conter o nome do Aluno. \n",
    "O tamanho dos pontos deve representar a idade dos jogadores. A cor deve ser preta e\n",
    "as marcas devem ser quadrados.\n"
   ]
  }
 ],
 "metadata": {
  "kernelspec": {
   "display_name": "Python 2 (SageMath)",
   "language": "python",
   "name": "python2"
  },
  "language_info": {
   "codemirror_mode": {
    "name": "ipython",
    "version": 2
   },
   "file_extension": ".py",
   "mimetype": "text/x-python",
   "name": "python",
   "nbconvert_exporter": "python",
   "pygments_lexer": "ipython2",
   "version": "2.7.13"
  }
 },
 "nbformat": 4,
 "nbformat_minor": 0
}