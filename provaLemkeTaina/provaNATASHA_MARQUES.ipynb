{
 "cells": [
  {
   "cell_type": "markdown",
   "metadata": {
    "collapsed": false
   },
   "source": [
    "# Prova Final de Física Computacional\n",
    "## Nome do Arquivo: provaNATASHA_MARQUES.ipynb\n",
    "\n"
   ]
  },
  {
   "cell_type": "markdown",
   "metadata": {
    "collapsed": false
   },
   "source": [
    "## Questão 1\n",
    "Gere uma Lista contendo os primeiros 33 números impares.\n",
    "Calcule sua soma.\n"
   ]
  },
  {
   "cell_type": "markdown",
   "metadata": {
    "collapsed": false
   },
   "source": [
    "## Questão 2\n",
    "Abra o arquivo `jogadores.csv` e responda apresentando um código que:\n",
    "\n",
    "- Leia o arquivo e transforme em um DataFrame pandas. \n",
    "- Conte o número de colunas.\n",
    "- Quais jogadores nasceram antes de 1990?\n"
   ]
  },
  {
   "cell_type": "markdown",
   "metadata": {
    "collapsed": false
   },
   "source": [
    "## Questão 3\n",
    "Gere um gráfico do peso e altura dos jogadores. Os eixos devem conter \n",
    "as quantidades que estão sendo representados e o título deve conter o nome do Aluno. \n",
    "O tamanho dos pontos deve representar a idade dos jogadores. A cor deve ser vermelha e\n",
    "as marcas devem ser quadrados.\n"
   ]
  }
 ],
 "metadata": {
  "kernelspec": {
   "display_name": "Python 2 (SageMath)",
   "language": "python",
   "name": "python2"
  }
 },
 "nbformat": 4,
 "nbformat_minor": 0
}