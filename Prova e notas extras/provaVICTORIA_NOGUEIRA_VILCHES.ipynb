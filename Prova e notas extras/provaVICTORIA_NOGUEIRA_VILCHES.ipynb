{
 "cells": [
  {
   "cell_type": "markdown",
   "metadata": {},
   "source": [
    "# Prova Final de Bioinformática\n",
    "Em todas as questões escreva o código em python que responde as perguntas. \n",
    "\n",
    "## Nome do Arquivo: provaVICTORIA_NOGUEIRA_VILCHES.ipynb\n",
    "\n"
   ]
  },
  {
   "cell_type": "markdown",
   "metadata": {},
   "source": [
    "## Questão 1\n",
    "Gere uma Lista contendo os primeiros 397 números pares.\n",
    "- Calcule seu produto.\n",
    "- Represente graficamente essa lista de números. \n"
   ]
  },
  {
   "cell_type": "markdown",
   "metadata": {},
   "source": [
    "## Questão 2\n",
    "Considere a string MSTPTDSKAPLRQVKRVQFGILSPDEIRRMSVTEGGVQFAETMEGGRPKLGGLMDPRQGVIDRTSRCQTC AGNMTECPGHFGHIDLAKPVFHIGFITKTIKILRCVCFYCSKMLVSPHNPKIKEIVMKSRGQPRKRLAYV YDLCKGKTICEGGEDMDLTKENQQPDPNKKPGHGGCGHYQPSIRRTGLDLTAEWKHQNEDSQEKKIVVSAERVWEILKHITDEECFILGMDPKYARPDWMIVTVLPVPPLAVRPAVVMFGAAKNQDIVYSAURDLTHKLSDIIKANN ELRKNEASGAAAHVIQENIKMLQFHVATLVDNDMPGMPRAMQKSGKPLKAIKARLKGKEGRIRGNLMGKRVDFSARTVITPDPNLRIDQVGVPRSIAQNLTFPELVTPFNIDRMQELVRRGNSQYPGAKYIVRDNGERID LRFHPKSSDLHLQCGYKVERHLRDDDLVIFNRQPTLHKMSMMGHRVKVLPWSTFRMNLSCTSPYNADFDGDEMNLHVPQSMETRAEVENIHITPRQIITPQANKPVMGIVQDTLTAVRKMTKRDVFITREQVMNLLMFLP TWDAKMPQPCILKPRPLWTGKQIFSLIIPGNVNMIRTHSTHPDEEDEGPYKWISPGDTKVMVEHGELIMGILCKKSLGTSAGSLLHICFLELGHDIAGRFYGNIQTVINNWLLFEGHSIGIGDTIADPQTYNEIQQAIKK AKDDVINVIQKAHNMELEPTPGNTLRQTFENKVNRILNDARDKTGGSAKKSLTEYNNLKAMVVSGSKGS.\n",
    "- Selecione as letras nas posições entre 269 e 276.\n",
    "- Quantas letras W possui a string?\n"
   ]
  },
  {
   "cell_type": "markdown",
   "metadata": {},
   "source": [
    "## Questão 3\n",
    "Usando a biblioteca biopython. Obtenha a sequencia de \n",
    "aminoácidos da sequencia ATTCGCAATCGCCTGTAGGGCCCGACTGGT.\n"
   ]
  }
 ],
 "metadata": {},
 "nbformat": 4,
 "nbformat_minor": 2
}
