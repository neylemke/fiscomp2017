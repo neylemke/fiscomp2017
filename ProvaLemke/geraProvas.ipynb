{
 "cells": [
  {
   "cell_type": "code",
   "execution_count": 16,
   "metadata": {
    "collapsed": false
   },
   "outputs": [
   ],
   "source": [
    "import nbformat as nbf\n",
    "import xml.etree.ElementTree as ET\n",
    "from lxml import etree\n",
    "import pandas as pd\n",
    "from random import choice,randint"
   ]
  },
  {
   "cell_type": "code",
   "execution_count": 44,
   "metadata": {
    "collapsed": false
   },
   "outputs": [
    {
     "name": "stdout",
     "output_type": "stream",
     "text": [
      "--2017-06-10 21:41:43--  http://c3420952.r52.cf0.rackcdn.com/playerdata.xml\n",
      "Resolving c3420952.r52.cf0.rackcdn.com (c3420952.r52.cf0.rackcdn.com)... 200.169.119.88, 200.169.119.91, 2804:388:108:b::c8a9:7758, ...\n",
      "Connecting to c3420952.r52.cf0.rackcdn.com (c3420952.r52.cf0.rackcdn.com)|200.169.119.88|:80... connected.\n",
      "HTTP request sent, awaiting response... 200 OK\n",
      "Length: unspecified [text/xml]\n",
      "Saving to: ‘playerdata.xml’\n",
      "\n",
      "playerdata.xml          [     <=>            ]   5.38M   191KB/s    in 30s     \n",
      "\n",
      "2017-06-10 21:42:14 (181 KB/s) - ‘playerdata.xml’ saved [5643404]\n",
      "\n"
     ]
    }
   ],
   "source": [
    "! wget http://c3420952.r52.cf0.rackcdn.com/playerdata.xml"
   ]
  },
  {
   "cell_type": "code",
   "execution_count": 17,
   "metadata": {
    "collapsed": false
   },
   "outputs": [
   ],
   "source": [
    "xml_data = open('playerdata.xml').read() #Loading the raw XML data\n",
    "root = ET.XML(xml_data) # element tree\n",
    "L=[child.attrib for child in root[0]]\n",
    "df=pd.DataFrame(L)\n",
    "df2=df[['f','s','h','w','d']]"
   ]
  },
  {
   "cell_type": "code",
   "execution_count": 18,
   "metadata": {
    "collapsed": false
   },
   "outputs": [
    {
     "name": "stdout",
     "output_type": "stream",
     "text": [
      "FisicaComputacional2017.csv\t     provaIURY_GOULART_DA_FONSECA.ipynb\r\n",
      "geraProvas.ipynb\t\t     provaJHENEFER_BORTOLETI.ipynb\r\n",
      "jogadores.csv\t\t\t     provaJUAN_COSTA.ipynb\r\n",
      "playerdata.xml\t\t\t     provaJULIA_CORREA.ipynb\r\n",
      "provaABNER_ALVES.ipynb\t\t     provaKARINACASSU.ipynb\r\n",
      "provaALEXANDRE_NOGUEIRA.ipynb\t     provaKAROLINE_CAFISSO.ipynb\r\n",
      "provaAMANDA_ROSA.ipynb\t\t     provaKEROLYN.ipynb\r\n",
      "provaAMANDA_SASSE.ipynb\t\t     provaLEANDRO_DO_NASCIMENTO.ipynb\r\n",
      "provaANDRE_SILVA.ipynb\t\t     provaLETÍCIA_GODOI.ipynb\r\n",
      "provaCAIO_GARCIA.ipynb\t\t     provaLORRAINE_LETIELE.ipynb\r\n",
      "provaCARLOS_NATAL.ipynb\t\t     provaLUCAS.ipynb\r\n",
      "provaCAROL.ipynb\t\t     provaLUCAS_PORTES_LIMA.ipynb\r\n",
      "provaDIOGO_GODOI.ipynb\t\t     provaLUIZ_OLIVEIRA.ipynb\r\n",
      "provaEDUARDASILVA.ipynb\t\t     provaMURILO_TIRELI.ipynb\r\n",
      "provaFELIPE_BREVE.ipynb\t\t     provaNATASHA_MARQUES.ipynb\r\n",
      "provaFELIPE_CHIMIN.ipynb\t     provaPAULO_ROMBALDI.ipynb\r\n",
      "provaGABRIEL_ARRUDA.ipynb\t     provaPAULO_ZAGO_LEONEL.ipynb\r\n",
      "provaGABRIEL_DE_CASTRO.ipynb\t     provaTHALES_HUNGARO.ipynb\r\n",
      "provaGUSTAVO_HENRIQUE_TOMANIK.ipynb  provaTHIAGO_SOUZA_DIAS.ipynb\r\n",
      "provaGUSTAVO_JAROLA.ipynb\t     provaTIAGO_MOURA.ipynb\r\n",
      "provaISABELLA_VELLOSO.ipynb\t     provaVANESSA_ULISSES.ipynb\r\n"
     ]
    }
   ],
   "source": [
    "!ls"
   ]
  },
  {
   "cell_type": "code",
   "execution_count": 19,
   "metadata": {
    "collapsed": false
   },
   "outputs": [
   ],
   "source": [
    "df2.columns=[ 'Nome','Sobrenome','Altura','Peso',\"Data Nascimento\"]\n",
    "pd.DataFrame.to_csv(df2,'jogadores.csv',index=False)\n",
    "dfalunos=pd.read_csv('FisicaComputacional2017.csv')\n",
    "lisnames=list(dfalunos['Name'])\n",
    "lisnames2=[((names.upper()).strip()).replace(\" \",\"_\")for names in lisnames]"
   ]
  },
  {
   "cell_type": "code",
   "execution_count": 20,
   "metadata": {
    "collapsed": false
   },
   "outputs": [
   ],
   "source": [
    "def geraProva(file):\n",
    "    nb = nbf.v4.new_notebook()\n",
    "    header = \"\"\"\\\n",
    "# Prova Final de Física Computacional\n",
    "## Nome do Arquivo: {}\n",
    "\n",
    "\"\"\".format(file)\n",
    "    q1=\"\"\"\\\n",
    "## Questão 1\n",
    "Gere uma Lista contendo os primeiros {0} números {1}.\n",
    "Calcule {2}.\n",
    "\"\"\".format(randint(30,50),choice([\"pares\",\"impares\"]),choice([\"sua soma\",\"seu produto\"]))\n",
    "    q2=\"\"\"\\\n",
    "## Questão 2\n",
    "Abra o arquivo `jogadores.csv` e responda apresentando um código que:\n",
    "\n",
    "- Leia o arquivo e transforme em um DataFrame pandas. \n",
    "- Conte o número de {0}.\n",
    "- Quais jogadores nasceram antes de {1}?\n",
    "\"\"\".format(choice([\"linhas\",\"colunas\"]),randint(1987,1999))\n",
    "    q3=\"\"\"\\\n",
    "## Questão 3\n",
    "Gere um gráfico do peso e altura dos jogadores. Os eixos devem conter \n",
    "as quantidades que estão sendo representados e o título deve conter o nome do Aluno. \n",
    "O tamanho dos pontos deve representar a idade dos jogadores. A cor deve ser {0} e\n",
    "as marcas devem ser {1}.\n",
    "\"\"\".format(choice([\"vermelha\",\"preta\",\"verde\",\" azul\"]),choice([\"quadrados\",\"círculos\"]))\n",
    "    nb['cells'] = [nbf.v4.new_markdown_cell(header),\n",
    "               nbf.v4.new_markdown_cell(q1),\n",
    "               nbf.v4.new_markdown_cell(q2),\n",
    "               nbf.v4.new_markdown_cell(q3),\n",
    "                ]\n",
    "    with open(file, 'w') as f:\n",
    "        nbf.write(nb, f)"
   ]
  },
  {
   "cell_type": "code",
   "execution_count": 21,
   "metadata": {
    "collapsed": false
   },
   "outputs": [
    {
     "name": "stdout",
     "output_type": "stream",
     "text": [
      "AMANDA_ROSA\n",
      "AMANDA_SASSE\n",
      "ANDRE_SILVA\n",
      "CAIO_GARCIA\n",
      "CARLOS_NATAL\n",
      "CAROL\n",
      "DIOGO_GODOI\n",
      "EDUARDASILVA\n",
      "FELIPE_BREVE\n",
      "FELIPE_CHIMIN\n",
      "GABRIEL_ARRUDA\n",
      "GABRIEL_DE_CASTRO\n",
      "GUSTAVO_HENRIQUE_TOMANIK\n",
      "ISABELLA_VELLOSO\n",
      "JHENEFER_BORTOLETI\n",
      "JUAN_COSTA\n",
      "JULIA_CORREA\n",
      "KAROLINE_CAFISSO\n",
      "LEANDRO_DO_NASCIMENTO\n",
      "LETÍCIA_GODOI\n",
      "LORRAINE_LETIELE\n",
      "LUCAS\n",
      "LUCAS_PORTES_LIMA\n",
      "LUIZ_OLIVEIRA\n",
      "NATASHA_MARQUES\n",
      "PAULO_ROMBALDI\n",
      "PAULO_ZAGO_LEONEL\n",
      "THALES_HUNGARO\n",
      "THIAGO_SOUZA_DIAS\n",
      "VANESSA_ULISSES\n",
      "ABNER_ALVES\n",
      "ALEXANDRE_NOGUEIRA\n",
      "GUSTAVO_JAROLA\n",
      "IURY_GOULART_DA_FONSECA\n",
      "KARINACASSU\n",
      "KEROLYN\n",
      "MURILO_TIRELI\n",
      "TIAGO_MOURA\n"
     ]
    }
   ],
   "source": [
    "for name in lisnames2:\n",
    "    print(name)\n",
    "    geraProva('prova{}.ipynb'.format(name))"
   ]
  },
  {
   "cell_type": "code",
   "execution_count": 22,
   "metadata": {
    "collapsed": false
   },
   "outputs": [
    {
     "name": "stdout",
     "output_type": "stream",
     "text": [
      "provaABNER_ALVES.ipynb\t\t     provaJUAN_COSTA.ipynb\r\n",
      "provaALEXANDRE_NOGUEIRA.ipynb\t     provaJULIA_CORREA.ipynb\r\n",
      "provaAMANDA_ROSA.ipynb\t\t     provaKARINACASSU.ipynb\r\n",
      "provaAMANDA_SASSE.ipynb\t\t     provaKAROLINE_CAFISSO.ipynb\r\n",
      "provaANDRE_SILVA.ipynb\t\t     provaKEROLYN.ipynb\r\n",
      "provaCAIO_GARCIA.ipynb\t\t     provaLEANDRO_DO_NASCIMENTO.ipynb\r\n",
      "provaCARLOS_NATAL.ipynb\t\t     provaLETÍCIA_GODOI.ipynb\r\n",
      "provaCAROL.ipynb\t\t     provaLORRAINE_LETIELE.ipynb\r\n",
      "provaDIOGO_GODOI.ipynb\t\t     provaLUCAS.ipynb\r\n",
      "provaEDUARDASILVA.ipynb\t\t     provaLUCAS_PORTES_LIMA.ipynb\r\n",
      "provaFELIPE_BREVE.ipynb\t\t     provaLUIZ_OLIVEIRA.ipynb\r\n",
      "provaFELIPE_CHIMIN.ipynb\t     provaMURILO_TIRELI.ipynb\r\n",
      "provaGABRIEL_ARRUDA.ipynb\t     provaNATASHA_MARQUES.ipynb\r\n",
      "provaGABRIEL_DE_CASTRO.ipynb\t     provaPAULO_ROMBALDI.ipynb\r\n",
      "provaGUSTAVO_HENRIQUE_TOMANIK.ipynb  provaPAULO_ZAGO_LEONEL.ipynb\r\n",
      "provaGUSTAVO_JAROLA.ipynb\t     provaTHALES_HUNGARO.ipynb\r\n",
      "provaISABELLA_VELLOSO.ipynb\t     provaTHIAGO_SOUZA_DIAS.ipynb\r\n",
      "provaIURY_GOULART_DA_FONSECA.ipynb   provaTIAGO_MOURA.ipynb\r\n",
      "provaJHENEFER_BORTOLETI.ipynb\t     provaVANESSA_ULISSES.ipynb\r\n"
     ]
    }
   ],
   "source": [
    "!ls prova*"
   ]
  },
  {
   "cell_type": "code",
   "execution_count": 53,
   "metadata": {
    "collapsed": true
   },
   "outputs": [
   ],
   "source": [
   ]
  },
  {
   "cell_type": "code",
   "execution_count": 0,
   "metadata": {
    "collapsed": true
   },
   "outputs": [
   ],
   "source": [
   ]
  }
 ],
 "metadata": {
  "kernelspec": {
   "display_name": "Python 3 (Ubuntu Linux)",
   "language": "python",
   "name": "python3"
  },
  "language_info": {
   "codemirror_mode": {
    "name": "ipython",
    "version": 3
   },
   "file_extension": ".py",
   "mimetype": "text/x-python",
   "name": "python",
   "nbconvert_exporter": "python",
   "pygments_lexer": "ipython3",
   "version": "3.4.3+"
  }
 },
 "nbformat": 4,
 "nbformat_minor": 0
}