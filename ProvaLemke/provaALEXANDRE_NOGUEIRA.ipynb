{
 "cells": [
  {
   "cell_type": "markdown",
   "metadata": {},
   "source": [
    "# Prova Final de Física Computacional\n",
    "## Nome do Arquivo: provaALEXANDRE_NOGUEIRA.ipynb\n",
    "\n"
   ]
  },
  {
   "cell_type": "markdown",
   "metadata": {},
   "source": [
    "## Questão 1\n",
    "Gere uma Lista contendo os primeiros 49 números pares.\n",
    "Calcule sua soma.\n"
   ]
  },
  {
   "cell_type": "markdown",
   "metadata": {},
   "source": [
    "## Questão 2\n",
    "Abra o arquivo `jogadores.csv` e responda apresentando um código que:\n",
    "\n",
    "- Leia o arquivo e transforme em um DataFrame pandas. \n",
    "- Conte o número de colunas.\n",
    "- Quais jogadores nasceram antes de 1998?\n"
   ]
  },
  {
   "cell_type": "markdown",
   "metadata": {},
   "source": [
    "## Questão 3\n",
    "Gere um gráfico do peso e altura dos jogadores. Os eixos devem conter \n",
    "as quantidades que estão sendo representados e o título deve conter o nome do Aluno. \n",
    "O tamanho dos pontos deve representar a idade dos jogadores. A cor deve ser preta e\n",
    "as marcas devem ser quadrados.\n"
   ]
  }
 ],
 "metadata": {},
 "nbformat": 4,
 "nbformat_minor": 2
}
